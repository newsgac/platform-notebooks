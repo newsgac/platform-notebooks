{
 "cells": [
  {
   "cell_type": "code",
   "execution_count": 1,
   "metadata": {},
   "outputs": [],
   "source": [
    "from newsgac.pipelines.models import Pipeline\n",
    "from newsgac import genres\n",
    "from sklearn.pipeline import Pipeline as SKPipeline\n",
    "from __future__ import print_function\n",
    "from ipywidgets import interact, interactive, fixed, interact_manual\n",
    "import ipywidgets as widgets\n",
    "import pprint\n"
   ]
  },
  {
   "cell_type": "code",
   "execution_count": 8,
   "metadata": {},
   "outputs": [
    {
     "data": {
      "text/plain": [
       "u'20190228 unbalanced train size=3443'"
      ]
     },
     "execution_count": 8,
     "metadata": {},
     "output_type": "execute_result"
    }
   ],
   "source": [
    "p = Pipeline.objects.get({'display_title': '20190228 SVC no stop words, lowercased'})\n",
    "p.data_source.display_title"
   ]
  },
  {
   "cell_type": "code",
   "execution_count": 2,
   "metadata": {},
   "outputs": [
    {
     "name": "stdout",
     "output_type": "stream",
     "text": [
      "Shaws The Philanderer : volmaakt , tijdloos toneel Voorstelling : The Philanderer van Bernard Shaw door Maatschappij Discordia . Toneelbeeld : Jan Joris Lamers ; regie : Frans Strijards ; spelers : Titus Muizelaar , Annet Kouwenhoven , Matthias de Koning , Jan Joris Lamers e.a . Gezien 27/2 Shaffy Theater , Amsterdam . Te zien t/m 2/3 aldaar ; daarna elders in het land . Door KESTER FRERIKS Als bezwaar tegen het toneelwerk van Bernard Shaw geldt wel dat hij geen drama 's creëerde waarin mensen van vlees en bloed optreden . Hij zou , zo luidt het oordeel , meer sociaal preker en pamflettist zijn dan auteur van onderhoudende toneelstukken met een voldoende aantal speelscènes , komische voorvallen , dramatische situaties en verhaallijnen . Het toneel dat Shaw schreef wordt ironisch betiteld als „ thedrama-of-nothing-but-ideas '' . Zijn personages lijken , in de slechtste betekenis van het woord , niets anders dan spreekbuis van de schrijver te zijn ; ze onderhouden elkaar op het toneel met geestigheden en opinies , verbale schermutselingen en gevatte stellingen over het huwelijk , de erotiek , misstanden , de verhouding tussen man en vrouw , de liefde . Misschien worden daarom zijn gedramatiseerde discussies waarin „ people just talk '' in Nederland weinig gespeeld . In Plays unpleasant ( 1898 ) bundelde Shaw drie toneelstukken , waaronder The Philanderer ( 1893 ) dat Maatschappij Discordia in de regie van Frans Strijards opvoert . Het is de tweede voorstelling , na The Circle van Somerset Maugham , in een reeks waarin het gezelschap het komediespel wil onderzoeken , maar dan in een stijl die ironisch en luchthartig tegelijkertijd is . Verschrikkingen Wat is er „ unpleasant '' aan deze toneelstukken . In het voorwoord schrijft Shaw dat ze hun kracht ontlenen aan de confrontatie van de toeschouwer met pijnlijke gebeurtenissen . De stukken handelen niet over de komedie of tragedie van het lot van individuele karakters , maar over de sociale verschrikkingen die ontstaan doordat de gemiddelde huisbakken Engelsman zijn ogen sluit voor de gruwelijkste wantoestanden en niet bereid is ook maar een vinger uit te steken om ze te verhelpen . Hun conversatie moet ongestoord blijven , de thee in alle rust gedronken en de belasting gelijk of het liefst nog omlaag . Shaw voegt een waarschuwing toe aan zijn onplezierige theater : zijn aanvallen zijn niet gericht op de toneelspelers , al schuilt er in hun handelingen en in hun taal behoorlijk veel venijn . De toeschouwer , de aan huis en haard gebonden Engelsman — die moet zich aangesproken voelen . The Philanderer ( degene die flirt ; niet serieus minnaar , aldus een woordenboek ) heeft als ondertitel : een gelegenheidskomedie . Er worden toenmalige actuele zaken in aangesneden , zoals de opkomst van de „ nieuwe vrouw '' — zelfstandig , onafhankelijk ; de door Ibsen geïnspireerde „ onvrouwelijke vrouw '' — , de crisis in de vaste patronen van het huwelijk en de burgerlijke samenleving en de ondergang van de Victoriaanse tijd met haar strenge levenshouding . Hoe dubbelzinnig de fatsoensnormen uit dat tijdperk zijn en hoe angstig de heersende klasse is zodra er veranderingen op til zijn , laat The Philanderer zien . Laatste houvast In de enscenering van Maatschappij Discordia is Shaws schrijnende ( „ unpleasant '' ) komedie een prachtig tijdloos toneelspel over personages voor wie in een wankele maatschappij ideeën en de taal om ideeën te formuleren het laatste houvast betekenen . Regisseur Frans Strijards heeft de abstractie in speelstijl en vormgeving verder doorgevoerd dan Jan Joris Lamers die The Circle regisseerde . Zwarte , met een r andje zilver afgebiesde schotten overheersen het toneelbeeld . De overvloedige en heldere belichting blijft gelijk , al verstrijken de uren . Op de gladde vloer ligt een gloednieuw ogend tapijt . Door een smalle kier tussen twee schotten zien we , op monitoren , een detail van het gezicht van Shaw , zijn spiedende oog , en van Ibsen , diens neus . Het is alsof Strijards met de jafbeelding van deze beide toneelschrijvers de uitersten wil aangeven van zijn regie : tegenover de psychologische en analytische Ibsen , de vader van het moderne toneel , stelt hij Shaw die ironie als middel gebruikt om een beeld van zijn tijd te geven . Bovendien polemiseert Shaw in The Philanderer onophoudelijk met Ibsen en de invloed van zijn ideeën over de samenleving op zijn personages ; hij beschuldigt hen van Ibsenisme en haakt daarmee in op de discussie die aan het eind van de vorige eeuw in Engeland opgeld deed : de discussie over de hedendaagse vrouw „ die bij niemand anders dan zichzelf behoort '' . De verwijzing naar Ibsen krijgt nog meer betekenis in het licht van Strijards regie — in het vorige seizoen — van zijn Rosmersholm . De toneelopvatting die hij toen formuleerde weerspiegelt heel nauwkeurig de interpretatie die hij nu van Shaw geeft . „ Je laten heen en weer slingeren tussen ironi e en medeleven in plaats van tussen angst en medelijden , dat is een moderne en intelligente — kijkhouding waar ik op doel , dai wat mij betreft een nieuwe poëtica verdient . '' Botsing In The Philanderer heeft hij deze poëtica niet alleen feilloos en met overtuiging vormgegeven , tegelijk bewijst Strijards met deze voorstelling dat de rijkdom aan gedachten van Shaw de actie geen moment in de weg heeft te staan , zoals vaak wordt gemeend . De spanning die het stuk oproept berust op de botsing van denkbeelden , op de behaagzuchtige en ge j decideerde stijl van de acteurs waarmee zij met elkaar de strijd in woorden aanbinden . Societyfiguren die het conserveren met passie beoefenen . Toch brengt Strijards een ontwikkeling in de voorstelling aan die zicht geeft op de emoties van de personages en hen uittilt boveji hun cerebrale begaafdheid : naarmate het stuk vordert komen zij steeds meer tot de schrikbarende ontdekking dat hun gesprekken , hoe interessant ook , niet bestand zijn tegen hun gevoelens van wanhoop over de als vijandig ervareit maatschappij die de veilige beslotenheid van hun club binnen ? dringt . Hartstocht Het symbool van deze ontreddering is de langdurige en heftige kus die „ philanderer '' Titus Muizelaar wisselt met Annet Kouwenhoven , waarna haar lippenstift zich ver buiten de omlijning van haar mond heeft verspreid . Door de kus — of beter : de hartstocht van de kus — is haar aristocratie sche laagje vernis dat haar onafhankelijkheid van mannen moest garanderen gebroken . Aan hfct slot van de voorstelling ligt ze , verslagen en treurend , languit in een stoel terwijl haar huwelijk met een man van de wetenschap aanstaande is . De felheid van gevoelens heeft het gewonnen vati het verlangen ze met het verstarid te bedwingen en op afstand re houden . , The Philanderer is een volmaakte voorstelling : ironie , intelligentie , zelfspot , emotie , humor — het is allemaal in evenwicht met elkaar . Slotscène van The Philanderer bij Maatschappij Discordia ( foto Bert Nienhuis )\n"
     ]
    }
   ],
   "source": [
    "raw_texts = [article.raw_text for article in p.data_source.articles]\n",
    "print(raw_texts[15])"
   ]
  },
  {
   "cell_type": "code",
   "execution_count": 3,
   "metadata": {},
   "outputs": [
    {
     "name": "stdout",
     "output_type": "stream",
     "text": [
      "['CleanOCR', 'Lowercase', 'StopWordRemoval', 'FeatureExtraction', 'RobustScaler']\n",
      "['Classifier']\n"
     ]
    }
   ],
   "source": [
    "skp = p.sk_pipeline.get()\n",
    "split_step = -1\n",
    "pre_processing = SKPipeline(skp.steps[0:split_step])\n",
    "classifier_pipeline = SKPipeline(skp.steps[split_step:])\n",
    "predict_proba = classifier_pipeline.predict_proba\n",
    "print( [s[0] for s in pre_processing.steps] )\n",
    "print( [s[0] for s in classifier_pipeline.steps] )"
   ]
  },
  {
   "cell_type": "code",
   "execution_count": 4,
   "metadata": {},
   "outputs": [],
   "source": [
    "features = pre_processing.transform([raw_texts[15]]).toarray()[0]\n",
    "feature_names_full = pre_processing.steps[-2][1].get_feature_names()\n",
    "feature_names_short = [f.split('__')[-1] for f in feature_names_full]\n",
    "feature_values = zip(feature_names_short, features)\n",
    "best_50 = sorted(feature_values, key=lambda x: -x[1])[:50]\n",
    "best_50_indices = [feature_names_short.index(f[0]) for f in best_50]\n",
    "best_50_names = [f[0] for f in best_50]\n",
    "best_50_dict = {f[0]: f[1] for f in best_50}"
   ]
  },
  {
   "cell_type": "code",
   "execution_count": 5,
   "metadata": {},
   "outputs": [],
   "source": [
    "def features_to_proba(features, predict_proba):\n",
    "    return sorted(zip(genres.genre_labels, predict_proba([features])[0]), key=lambda x: -x[1])\n",
    "#features_to_proba(features, predict_proba)"
   ]
  },
  {
   "cell_type": "code",
   "execution_count": 6,
   "metadata": {},
   "outputs": [],
   "source": [
    "def update_feature(**kwargs):\n",
    "    for feature_name, feature_value in kwargs.items():\n",
    "        features[best_50_indices[best_50_names.index(feature_name)]] = feature_value\n",
    "    pprint.pprint(features_to_proba(features, predict_proba))"
   ]
  },
  {
   "cell_type": "code",
   "execution_count": 7,
   "metadata": {},
   "outputs": [
    {
     "data": {
      "application/vnd.jupyter.widget-view+json": {
       "model_id": "7f8528f4279f4567b2d079df5c8c0c49",
       "version_major": 2,
       "version_minor": 0
      },
      "text/plain": [
       "VkJveChjaGlsZHJlbj0oSEJveChjaGlsZHJlbj0oTGFiZWwodmFsdWU9dSdodW4nKSwgRmxvYXRTbGlkZXIodmFsdWU9Mi4wLCBtYXg9Mi4wLCBzdGVwPTAuMDEpKSwgbGF5b3V0PUxheW91dCjigKY=\n"
      ]
     },
     "metadata": {},
     "output_type": "display_data"
    },
    {
     "data": {
      "application/vnd.jupyter.widget-view+json": {
       "model_id": "cb53f95dfacc4831aca148cac35ae693",
       "version_major": 2,
       "version_minor": 0
      },
      "text/plain": [
       "Output()"
      ]
     },
     "metadata": {},
     "output_type": "display_data"
    }
   ],
   "source": [
    "sliders = { feature_name: widgets.FloatSlider(\n",
    "    min=0,\n",
    "    max=2,\n",
    "    step=0.01,\n",
    "    value=best_50_dict[feature_name]\n",
    ") for feature_name in best_50_names }\n",
    "\n",
    "boxes = [ \n",
    "    widgets.HBox([\n",
    "        widgets.Label(value=feature_name),\n",
    "        sliders[feature_name]\n",
    "    ], layout = { 'display': 'flex', 'justify_content': 'flex-end'}) for feature_name in best_50_names \n",
    "]\n",
    "\n",
    "final_widget = widgets.VBox(boxes)\n",
    "\n",
    "out = widgets.interactive_output(update_feature, sliders)\n",
    "\n",
    "display(final_widget, out)"
   ]
  },
  {
   "cell_type": "code",
   "execution_count": null,
   "metadata": {},
   "outputs": [],
   "source": []
  },
  {
   "cell_type": "code",
   "execution_count": null,
   "metadata": {},
   "outputs": [],
   "source": []
  }
 ],
 "metadata": {
  "kernelspec": {
   "display_name": "Python 2",
   "language": "python",
   "name": "python2"
  },
  "language_info": {
   "codemirror_mode": {
    "name": "ipython",
    "version": 2
   },
   "file_extension": ".py",
   "mimetype": "text/x-python",
   "name": "python",
   "nbconvert_exporter": "python",
   "pygments_lexer": "ipython2",
   "version": "2.7.15"
  }
 },
 "nbformat": 4,
 "nbformat_minor": 2
}

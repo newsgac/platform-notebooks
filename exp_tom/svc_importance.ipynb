{
 "cells": [
  {
   "cell_type": "code",
   "execution_count": 439,
   "metadata": {},
   "outputs": [
    {
     "data": {
      "application/vnd.jupyter.widget-view+json": {
       "model_id": "5bbbb50ed0ce4903b095ac6321577ad3",
       "version_major": 2,
       "version_minor": 0
      },
      "text/plain": [
       "VkJveChjaGlsZHJlbj0oSEJveChjaGlsZHJlbj0oRHJvcGRvd24oZGVzY3JpcHRpb249dSdwaXBlbGluZTonLCBvcHRpb25zPSgoJ1NlbGVjdC4uLicsIE5vbmUpLCAodSdTVkMgRlJPRycsIE/igKY=\n"
      ]
     },
     "metadata": {},
     "output_type": "display_data"
    }
   ],
   "source": [
    "from newsgac import database\n",
    "from newsgac.ace.models import ACE\n",
    "from newsgac.pipelines.models import Pipeline\n",
    "from newsgac.genres import genre_labels\n",
    "from scipy.sparse import csr_matrix\n",
    "import ipywidgets as widgets\n",
    "import numpy as np\n",
    "import re\n",
    "import pprint\n",
    "\n",
    "# sets number of positive/negative feature weights shown\n",
    "show_number_of_features = 20\n",
    "\n",
    "svc_pipelines = [p for p in Pipeline.objects.all() if re.search(r'svc|SVC|svm|SVM', p.display_title)]\n",
    "\n",
    "pipeline_widget = widgets.Dropdown(\n",
    "    options=[('Select...', None)] + [(p.display_title, p._id) for p in svc_pipelines],\n",
    "    description='pipeline:',\n",
    "    disabled=False\n",
    ")\n",
    "\n",
    "class_1_widget = widgets.RadioButtons(\n",
    "    options=[],\n",
    "    description='class 1:',\n",
    "    disabled=False\n",
    ")\n",
    "    \n",
    "class_2_widget = widgets.RadioButtons(\n",
    "    options=[],\n",
    "    description='class 2:',\n",
    "    disabled=False\n",
    ")\n",
    "\n",
    "def sorted_genre_indices(pipeline):\n",
    "    if not pipeline.result or len(pipeline.result.sorted_labels) == 0:\n",
    "        # default fall back to all genres (and not unlabeled)\n",
    "        return list(range(0, len(genre_labels)-1))\n",
    "    else:\n",
    "        return pipeline.result.sorted_labels\n",
    "\n",
    "def get_coef_map(indices):\n",
    "    # maps coef index to (class 1, class 2) tuple,\n",
    "    # e.g. get_coef_map([1,4,7,8]) == {\n",
    "    # 0: (1, 4), \n",
    "    # 1: (1, 7),\n",
    "    # 2: (1, 8),\n",
    "    # 3: (4, 7),\n",
    "    # 4: (4, 8),\n",
    "    # 5: (7, 8)}\n",
    "    coef_map = {}\n",
    "    index=0\n",
    "    for i in range(0, len(indices) - 1):\n",
    "        for j in range(i+1, len(indices)):\n",
    "            coef_map[index] = (indices[i],indices[j])\n",
    "            index += 1\n",
    "    return coef_map    \n",
    "\n",
    "def set_class_widget_options(pipeline):\n",
    "    # e.g. [1,4,5]\n",
    "    pipeline_sorted_genre_indices = sorted_genre_indices(pipeline)\n",
    "    # e.g. ['nieuwsbericht', 'service', 'mededeling']\n",
    "    pipeline_genre_labels = np.array(genre_labels)[pipeline_sorted_genre_indices]\n",
    "    \n",
    "    class_widget_options = list(zip(pipeline_genre_labels, pipeline_sorted_genre_indices))\n",
    "    class_1_widget.options = class_widget_options\n",
    "    class_2_widget.options = class_widget_options\n",
    "\n",
    "    \n",
    "def out(pipeline_id, class_1, class_2):\n",
    "    if pipeline_id is None:\n",
    "        class_1_widget.options = []\n",
    "        class_2_widget.options = []\n",
    "        return\n",
    "    \n",
    "    p = Pipeline.objects.get({'_id': pipeline_id})\n",
    "    \n",
    "    set_class_widget_options(p)\n",
    "    \n",
    "    if class_1 == class_2:\n",
    "        print('Pick two different classes')\n",
    "        return\n",
    "    if class_2 < class_1:\n",
    "        class_1, class_2 = class_2, class_1\n",
    "    \n",
    "    print(\"Showing %s vs %s for %s \" % (genre_labels[class_1], genre_labels[class_2], p.display_title))\n",
    "    pipeline_sorted_genre_indices = sorted_genre_indices(p)\n",
    "    skp = p.sk_pipeline.get()\n",
    "    classifier = skp.named_steps['Classifier']\n",
    "    num_classes = len(classifier.classes_)\n",
    "    \n",
    "    if num_classes != len(pipeline_sorted_genre_indices):\n",
    "        print(\"Error: num_classes vs result genre indices count mismatch: %s vs %s\" % (num_classes, len(pipeline_sorted_genre_indices)))\n",
    "        return\n",
    "    \n",
    "    coef_map = get_coef_map(pipeline_sorted_genre_indices)\n",
    "    # coef_map inversed, so that you can lookup the coef index for class pair\n",
    "    # e.g. coef_map_inverse[(1,7)] == 1\n",
    "    coef_map_inverse = {v: k for k, v in coef_map.iteritems()}\n",
    "\n",
    "    weights = classifier.coef_[coef_map_inverse[(\n",
    "        class_1,\n",
    "        class_2\n",
    "    )]]\n",
    "    \n",
    "    if isinstance(weights, csr_matrix):\n",
    "        weights = np.asarray(weights.todense())[0]\n",
    "    \n",
    "    top_10_pos_weight_indices = np.argsort(weights)[-show_number_of_features:][::-1]\n",
    "    top_10_neg_weight_indices = np.argsort(weights)[:show_number_of_features]\n",
    "    weights_pos = weights[top_10_pos_weight_indices]\n",
    "    weights_neg = weights[top_10_neg_weight_indices]\n",
    "    \n",
    "    feature_names = np.array(skp.get_feature_names())\n",
    "    print(\"Positive:\")\n",
    "    pprint.pprint(zip(\n",
    "        ['%.2f' % w for w in weights_pos],\n",
    "        feature_names[top_10_pos_weight_indices]\n",
    "    ))\n",
    "    print(\"Negative:\")\n",
    "    pprint.pprint(zip(\n",
    "        ['%.2f' % w for w in weights_neg],\n",
    "        feature_names[top_10_neg_weight_indices]\n",
    "    ))\n",
    "    \n",
    "widgets.VBox([\n",
    "    widgets.HBox([pipeline_widget, class_1_widget, class_2_widget]),\n",
    "    widgets.interactive_output(out, dict(pipeline_id=pipeline_widget, class_1=class_1_widget, class_2=class_2_widget))\n",
    "])"
   ]
  },
  {
   "cell_type": "code",
   "execution_count": 438,
   "metadata": {},
   "outputs": [
    {
     "data": {
      "text/plain": [
       "[0, 7, 8]"
      ]
     },
     "execution_count": 438,
     "metadata": {},
     "output_type": "execute_result"
    }
   ],
   "source": [
    "Pipeline.objects.get({'_id': pipeline_widget.value}).result.sorted_labels"
   ]
  }
 ],
 "metadata": {
  "kernelspec": {
   "display_name": "Python 2",
   "language": "python",
   "name": "python2"
  },
  "language_info": {
   "codemirror_mode": {
    "name": "ipython",
    "version": 2
   },
   "file_extension": ".py",
   "mimetype": "text/x-python",
   "name": "python",
   "nbconvert_exporter": "python",
   "pygments_lexer": "ipython2",
   "version": "2.7.15"
  }
 },
 "nbformat": 4,
 "nbformat_minor": 2
}

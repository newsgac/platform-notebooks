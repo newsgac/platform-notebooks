{
 "cells": [
  {
   "cell_type": "code",
   "execution_count": 2,
   "metadata": {},
   "outputs": [],
   "source": [
    "from newsgac import database\n",
    "from newsgac.ace.models import ACE\n",
    "from newsgac.pipelines.models import Pipeline\n",
    "from bson import ObjectId\n",
    "from newsgac.common.utils import model_to_dict\n"
   ]
  },
  {
   "cell_type": "code",
   "execution_count": 3,
   "metadata": {},
   "outputs": [
    {
     "data": {
      "text/plain": [
       "[u'dummy frog',\n",
       " u'dummy bow',\n",
       " u'RF FROG',\n",
       " u'SVC FROG',\n",
       " u'XGB FROG',\n",
       " u'NB FROG',\n",
       " u'MLP FROG',\n",
       " u'RF BOW',\n",
       " u'SVC BOW',\n",
       " u'XGB BOW',\n",
       " u'NB BOW',\n",
       " u'MLP BOW',\n",
       " u'SVC LIN BOW',\n",
       " u'Erik MLP BOW (with stop-words)',\n",
       " u'Erik MLP BOW (5 features) ',\n",
       " u'Erik MLP BOW (9 features) ',\n",
       " u'Erik SVC BOW (9 features)',\n",
       " u'Erik RF BOW (9 features)',\n",
       " u'Erik XGB BOW (9 features)',\n",
       " u'Erik NB BOW (9 features)',\n",
       " u'Erik MLP unique 9 features',\n",
       " u'Erik NB unique (9 features)',\n",
       " u'Erik XGB unique (9 features)',\n",
       " u'Erik SVC unique (9 features)',\n",
       " u'Erik RF unique (9 features)',\n",
       " u'N3BGS MLP unique 9 features',\n",
       " u'N3BGS NB unique 9 features ',\n",
       " u'N3BGS SVC unique 9 features ',\n",
       " u'N3BGS RF unique 9 features',\n",
       " u'N3BGS XGB unique 9 features ',\n",
       " u'dummy n3bgs bow',\n",
       " u'dummy n3bgs frog',\n",
       " u'RF FROG N3BGS',\n",
       " u'SVC FROG N3BGS',\n",
       " u'XGB FROG N3BGS',\n",
       " u'Erik NB N3BGS Collapsed',\n",
       " u'Erik MLP N3BGS Collapsed',\n",
       " u'Erik MLP Linked NRC (2930 articles)',\n",
       " u'Erik RF Linked NRC (2930 articles) ',\n",
       " u'Erik NB Linked NRC (2930 articles) ',\n",
       " u'Erik SVC Linked NRC (2930 articles) ',\n",
       " u'Erik XGB Linked NRC (2930 articles) ',\n",
       " u'SVC BOW Combined',\n",
       " u'NB FROG N3BGS',\n",
       " u'MLP FROG N3BGS',\n",
       " u'RF BOW NBGS',\n",
       " u'SVC BOW N3BGS',\n",
       " u'XGB BOW N3BGS',\n",
       " u'NB BOW N3BGS',\n",
       " u'MLP BOW N3BGS',\n",
       " u'KIM N3BGS FROG and TF-IDF',\n",
       " u'KIM N3BGS MLP Combi features',\n",
       " u'KIM N3BGS RF COMBI',\n",
       " u'KIM N3BGS SVM COMBI (copy)',\n",
       " u'KIM N3BGS XGB COMBI',\n",
       " u'20190228 SVM',\n",
       " u'20190228 SVC no stop words',\n",
       " u'20190228 SVC no stop words, lowercased',\n",
       " u'dummy combi for opt',\n",
       " u'dummy combi for opt ugs',\n",
       " u'new dummy ugs opt',\n",
       " u'new dummy bgs opt',\n",
       " u'dummy opt frog bgs',\n",
       " u'dummy bow opt bgs',\n",
       " u'dummy frog ugs opt',\n",
       " u'dummy bow opt ugs',\n",
       " u'3N SVM FROG',\n",
       " u'3N NB FROG',\n",
       " u'3N NB TFIDF',\n",
       " u'3N RF FROG',\n",
       " u'3N RF TFIDF',\n",
       " u'3N SVM FROG (text-only, 12%) ',\n",
       " u'3N SVM TFIDF (text-only) ',\n",
       " u'3N SVM FROG (text-only, 50%) ',\n",
       " u'3N SVM FROG (text-only)',\n",
       " u'3N NB FROG (copy)',\n",
       " u'3N 2019 NB Frog default',\n",
       " u'3N 2019 NB TFIDF default',\n",
       " u'3N 2019 SVM Frog default',\n",
       " u'3N 2019 GB Frog default',\n",
       " u'3N 2019 GBM Frog default',\n",
       " u'3N 2019 MLP Frog default',\n",
       " u'3N 2019 RF Frog default',\n",
       " u'3N 2019 XGB Frog default',\n",
       " u'3N 2019 SVM TFIDF default',\n",
       " u'3N 2019 GB TFIDF default',\n",
       " u'3N 2019 GBM TFIDF default',\n",
       " u'3N 2019 MLP TFIDF default',\n",
       " u'3N 2019 RF TFIDF default',\n",
       " u'3N 2019 XGB TFIDF default',\n",
       " u'3N 2019 SVM Frog+TFIDF default',\n",
       " u'3N 2019 GB Frog+TFIDF default',\n",
       " u'3N 2019 GBM Frog+TFIDF default',\n",
       " u'3N 2019 MLP Frog+TFIDF default',\n",
       " u'3N 2019 RF Frog+TFIDF default',\n",
       " u'3N 2019 XGB Frog+TFIDF default',\n",
       " u'3N 2019 NB Frog+TFIDF default',\n",
       " u'3N 2019 9 SVM Frog default',\n",
       " u'3N 2019 9 SVM Frog+TFIDF default',\n",
       " u'3N 2019 9 SVM TFIDF default',\n",
       " u'3N 2019 9 GB Frog default',\n",
       " u'3N 2019 9 GBM Frog default',\n",
       " u'3N 2019 9 MLP Frog default',\n",
       " u'3N 2019 9 NB Frog default',\n",
       " u'3N 2019 9 RF Frog default',\n",
       " u'3N 2019 9 XGB Frog default',\n",
       " u'3N 2019 9 GB Frog+TFIDF default',\n",
       " u'3N 2019 9 GBM Frog+TFIDF default',\n",
       " u'3N 2019 9 MLP Frog+TFIDF default',\n",
       " u'3N 2019 9 NB Frog+TFIDF default',\n",
       " u'3N 2019 9 RF Frog+TFIDF default',\n",
       " u'3N 2019 9 XGB Frog+TFIDF default',\n",
       " u'3N 2019 9 GB TFIDF default',\n",
       " u'3N 2019 9 GBM TFIDF default',\n",
       " u'3N 2019 9 MLP TFIDF default',\n",
       " u'3N 2019 9 NB TFIDF default',\n",
       " u'3N 2019 9 RF TFIDF default',\n",
       " u'3N 2019 9 XGB TFIDF default',\n",
       " u'binary NIE TFIDF MLP',\n",
       " u'binary NIE TFIDF NB',\n",
       " u'binary NIE TFIDF RF',\n",
       " u'binary NIE TFIDF SVM',\n",
       " u'binary NIE TFIDF GB',\n",
       " u'binary NIE FROG GB (copy)',\n",
       " u'binary NIE FROG MLP',\n",
       " u'binary NIE FROG NB',\n",
       " u'binary NIE FROG RF',\n",
       " u'binary NIE FROG SVM',\n",
       " u'binary NIE FROG XGB',\n",
       " u'binary NIE FROG GBM',\n",
       " u'binary NIE TFIDF XGB',\n",
       " u'binary NIE TFIDF GBM',\n",
       " u'binary NIE FROG+TFIDF GB',\n",
       " u'binary NIE FROG+TFIDF GBM (copy)',\n",
       " u'binary NIE FROG+TFIDF MLP',\n",
       " u'binary NIE FROG+TFIDF NB',\n",
       " u'binary NIE FROG+TFIDF SVM',\n",
       " u'binary NIE FROG+TFIDF XGB',\n",
       " u'3N 2019 3 GB TFIDF default ',\n",
       " u'3N 2019 3 GBM TFIDF default ',\n",
       " u'3N 2019 3 MLP TFIDF default ',\n",
       " u'3N 2019 3 NB TFIDF default ',\n",
       " u'3N 2019 3 RF TFIDF default ',\n",
       " u'3N 2019 3 SVM TFIDF default ',\n",
       " u'3N 2019 3 XGB TFIDF default ',\n",
       " u'3N 2019 3 GB FROG default ',\n",
       " u'3N 2019 3 GBM FROG default ',\n",
       " u'3N 2019 3 MLP FROG default ',\n",
       " u'3N 2019 3 NB FROG default ',\n",
       " u'3N 2019 3 RF FROG default ',\n",
       " u'3N 2019 3 SVM FROG default ',\n",
       " u'3N 2019 3 XGB FROG default ',\n",
       " u'3N 2019 3 GB FROG+TFIDF default ',\n",
       " u'3N 2019 3 GBM FROG+TFIDF default ',\n",
       " u'3N 2019 3 MLP FROG+TFIDF default ',\n",
       " u'3N 2019 3 NB FROG+TFIDF default ',\n",
       " u'3N 2019 3 RF FROG+TFIDF default ',\n",
       " u'3N 2019 3 SVM FROG+TFIDF default ',\n",
       " u'3N 2019 3 XGB FROG+TFIDF default ',\n",
       " u'3N 2019 9 GBM Frog quotes removed',\n",
       " u'3N 2019 9 NB Frog quotes removed',\n",
       " u'3N 2019 9 RF Frog quotes removed',\n",
       " u'3N 2019 9 SVM Frog quotes removed',\n",
       " u'3N 2019 9 XGB Frog quotes removed',\n",
       " u'3N 2019 9 GB TFIDT quotes removed',\n",
       " u'3N 2019 9 GBM TFIDF quotes removed',\n",
       " u'3N 2019 9 MLP TFIDF quotes removed',\n",
       " u'3N 2019 9 NB TFIDF quotes removed',\n",
       " u'3N 2019 9 RF TFIDF quotes removed',\n",
       " u'3N 2019 9 SVM TFIDF quotes removed',\n",
       " u'3N 2019 9 XGB TFIDF quotes removed',\n",
       " u'3N 2019 9 GB FROG+TFIDF quotes removed',\n",
       " u'3N 2019 9 MLP Frog quotes removed)',\n",
       " u'3N 2019 9 GBM FROG+TFIDF quotes removed',\n",
       " u'3N 2019 9 MLP FROG+TFIDF quotes removed',\n",
       " u'3N 2019 9 NB FROG+TFIDF quotes removed',\n",
       " u'3N 2019 9 RF FROG+TFIDF quotes removed',\n",
       " u'3N 2019 9 SVM FROG+TFIDF quotes removed',\n",
       " u'3N 2019 9 XGB FROG+TFIDF quotes removed',\n",
       " u'3N 2019 9 GB Frog quotes removed',\n",
       " u'3N 2019 ALL 9 genres SVM TFIDF',\n",
       " u'3N 2019 ALL 9 genres SVM FROG',\n",
       " u'3N 2019 ALL 9 genres SVM FROG+TFIDF']"
      ]
     },
     "execution_count": 3,
     "metadata": {},
     "output_type": "execute_result"
    }
   ],
   "source": [
    "[p.display_title for p in Pipeline.objects.all()]"
   ]
  },
  {
   "cell_type": "code",
   "execution_count": 15,
   "metadata": {},
   "outputs": [],
   "source": [
    "p = Pipeline.objects.get({'display_title': '3N 2019 3 XGB FROG+TFIDF default '})"
   ]
  },
  {
   "cell_type": "code",
   "execution_count": 16,
   "metadata": {},
   "outputs": [
    {
     "data": {
      "text/plain": [
       "[0, 7, 8]"
      ]
     },
     "execution_count": 16,
     "metadata": {},
     "output_type": "execute_result"
    }
   ],
   "source": [
    "p.result.sorted_labels"
   ]
  },
  {
   "cell_type": "code",
   "execution_count": 27,
   "metadata": {},
   "outputs": [
    {
     "data": {
      "text/plain": [
       "MultinomialNB(alpha=0.1, class_prior=None, fit_prior=True)"
      ]
     },
     "execution_count": 27,
     "metadata": {},
     "output_type": "execute_result"
    }
   ],
   "source": [
    "c = p.learner.get_classifier()\n",
    "c"
   ]
  },
  {
   "cell_type": "code",
   "execution_count": 28,
   "metadata": {},
   "outputs": [
    {
     "ename": "NotFittedError",
     "evalue": "This MultinomialNB instance is not fitted yet. Call 'fit' with appropriate arguments before using this method.",
     "output_type": "error",
     "traceback": [
      "\u001b[0;31m\u001b[0m",
      "\u001b[0;31mNotFittedError\u001b[0mTraceback (most recent call last)",
      "\u001b[0;32m<ipython-input-28-feca351e6e2e>\u001b[0m in \u001b[0;36m<module>\u001b[0;34m()\u001b[0m\n\u001b[0;32m----> 1\u001b[0;31m \u001b[0mc\u001b[0m\u001b[0;34m.\u001b[0m\u001b[0mpredict\u001b[0m\u001b[0;34m(\u001b[0m\u001b[0;34m[\u001b[0m\u001b[0;34m'test'\u001b[0m\u001b[0;34m]\u001b[0m\u001b[0;34m)\u001b[0m\u001b[0;34m\u001b[0m\u001b[0m\n\u001b[0m",
      "\u001b[0;32m/opt/conda/envs/py27/lib/python2.7/site-packages/sklearn/naive_bayes.pyc\u001b[0m in \u001b[0;36mpredict\u001b[0;34m(self, X)\u001b[0m\n\u001b[1;32m     64\u001b[0m             \u001b[0mPredicted\u001b[0m \u001b[0mtarget\u001b[0m \u001b[0mvalues\u001b[0m \u001b[0;32mfor\u001b[0m \u001b[0mX\u001b[0m\u001b[0;34m\u001b[0m\u001b[0m\n\u001b[1;32m     65\u001b[0m         \"\"\"\n\u001b[0;32m---> 66\u001b[0;31m         \u001b[0mjll\u001b[0m \u001b[0;34m=\u001b[0m \u001b[0mself\u001b[0m\u001b[0;34m.\u001b[0m\u001b[0m_joint_log_likelihood\u001b[0m\u001b[0;34m(\u001b[0m\u001b[0mX\u001b[0m\u001b[0;34m)\u001b[0m\u001b[0;34m\u001b[0m\u001b[0m\n\u001b[0m\u001b[1;32m     67\u001b[0m         \u001b[0;32mreturn\u001b[0m \u001b[0mself\u001b[0m\u001b[0;34m.\u001b[0m\u001b[0mclasses_\u001b[0m\u001b[0;34m[\u001b[0m\u001b[0mnp\u001b[0m\u001b[0;34m.\u001b[0m\u001b[0margmax\u001b[0m\u001b[0;34m(\u001b[0m\u001b[0mjll\u001b[0m\u001b[0;34m,\u001b[0m \u001b[0maxis\u001b[0m\u001b[0;34m=\u001b[0m\u001b[0;36m1\u001b[0m\u001b[0;34m)\u001b[0m\u001b[0;34m]\u001b[0m\u001b[0;34m\u001b[0m\u001b[0m\n\u001b[1;32m     68\u001b[0m \u001b[0;34m\u001b[0m\u001b[0m\n",
      "\u001b[0;32m/opt/conda/envs/py27/lib/python2.7/site-packages/sklearn/naive_bayes.pyc\u001b[0m in \u001b[0;36m_joint_log_likelihood\u001b[0;34m(self, X)\u001b[0m\n\u001b[1;32m    726\u001b[0m     \u001b[0;32mdef\u001b[0m \u001b[0m_joint_log_likelihood\u001b[0m\u001b[0;34m(\u001b[0m\u001b[0mself\u001b[0m\u001b[0;34m,\u001b[0m \u001b[0mX\u001b[0m\u001b[0;34m)\u001b[0m\u001b[0;34m:\u001b[0m\u001b[0;34m\u001b[0m\u001b[0m\n\u001b[1;32m    727\u001b[0m         \u001b[0;34m\"\"\"Calculate the posterior log probability of the samples X\"\"\"\u001b[0m\u001b[0;34m\u001b[0m\u001b[0m\n\u001b[0;32m--> 728\u001b[0;31m         \u001b[0mcheck_is_fitted\u001b[0m\u001b[0;34m(\u001b[0m\u001b[0mself\u001b[0m\u001b[0;34m,\u001b[0m \u001b[0;34m\"classes_\"\u001b[0m\u001b[0;34m)\u001b[0m\u001b[0;34m\u001b[0m\u001b[0m\n\u001b[0m\u001b[1;32m    729\u001b[0m \u001b[0;34m\u001b[0m\u001b[0m\n\u001b[1;32m    730\u001b[0m         \u001b[0mX\u001b[0m \u001b[0;34m=\u001b[0m \u001b[0mcheck_array\u001b[0m\u001b[0;34m(\u001b[0m\u001b[0mX\u001b[0m\u001b[0;34m,\u001b[0m \u001b[0maccept_sparse\u001b[0m\u001b[0;34m=\u001b[0m\u001b[0;34m'csr'\u001b[0m\u001b[0;34m)\u001b[0m\u001b[0;34m\u001b[0m\u001b[0m\n",
      "\u001b[0;32m/opt/conda/envs/py27/lib/python2.7/site-packages/sklearn/utils/validation.pyc\u001b[0m in \u001b[0;36mcheck_is_fitted\u001b[0;34m(estimator, attributes, msg, all_or_any)\u001b[0m\n\u001b[1;32m    940\u001b[0m \u001b[0;34m\u001b[0m\u001b[0m\n\u001b[1;32m    941\u001b[0m     \u001b[0;32mif\u001b[0m \u001b[0;32mnot\u001b[0m \u001b[0mall_or_any\u001b[0m\u001b[0;34m(\u001b[0m\u001b[0;34m[\u001b[0m\u001b[0mhasattr\u001b[0m\u001b[0;34m(\u001b[0m\u001b[0mestimator\u001b[0m\u001b[0;34m,\u001b[0m \u001b[0mattr\u001b[0m\u001b[0;34m)\u001b[0m \u001b[0;32mfor\u001b[0m \u001b[0mattr\u001b[0m \u001b[0;32min\u001b[0m \u001b[0mattributes\u001b[0m\u001b[0;34m]\u001b[0m\u001b[0;34m)\u001b[0m\u001b[0;34m:\u001b[0m\u001b[0;34m\u001b[0m\u001b[0m\n\u001b[0;32m--> 942\u001b[0;31m         \u001b[0;32mraise\u001b[0m \u001b[0mNotFittedError\u001b[0m\u001b[0;34m(\u001b[0m\u001b[0mmsg\u001b[0m \u001b[0;34m%\u001b[0m \u001b[0;34m{\u001b[0m\u001b[0;34m'name'\u001b[0m\u001b[0;34m:\u001b[0m \u001b[0mtype\u001b[0m\u001b[0;34m(\u001b[0m\u001b[0mestimator\u001b[0m\u001b[0;34m)\u001b[0m\u001b[0;34m.\u001b[0m\u001b[0m__name__\u001b[0m\u001b[0;34m}\u001b[0m\u001b[0;34m)\u001b[0m\u001b[0;34m\u001b[0m\u001b[0m\n\u001b[0m\u001b[1;32m    943\u001b[0m \u001b[0;34m\u001b[0m\u001b[0m\n\u001b[1;32m    944\u001b[0m \u001b[0;34m\u001b[0m\u001b[0m\n",
      "\u001b[0;31mNotFittedError\u001b[0m: This MultinomialNB instance is not fitted yet. Call 'fit' with appropriate arguments before using this method."
     ]
    }
   ],
   "source": [
    "c.predict(['test'])"
   ]
  }
 ],
 "metadata": {
  "kernelspec": {
   "display_name": "Python 2",
   "language": "python",
   "name": "python2"
  },
  "language_info": {
   "codemirror_mode": {
    "name": "ipython",
    "version": 2
   },
   "file_extension": ".py",
   "mimetype": "text/x-python",
   "name": "python",
   "nbconvert_exporter": "python",
   "pygments_lexer": "ipython2",
   "version": "2.7.15"
  }
 },
 "nbformat": 4,
 "nbformat_minor": 2
}

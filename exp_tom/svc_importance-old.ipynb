{
 "cells": [
  {
   "cell_type": "code",
   "execution_count": 426,
   "metadata": {},
   "outputs": [
    {
     "data": {
      "application/vnd.jupyter.widget-view+json": {
       "model_id": "9e2978652dcb471aa5ac9afd723fb7fa",
       "version_major": 2,
       "version_minor": 0
      },
      "text/plain": [
       "VkJveChjaGlsZHJlbj0oSEJveChjaGlsZHJlbj0oRHJvcGRvd24oZGVzY3JpcHRpb249dSdwaXBlbGluZTonLCBvcHRpb25zPSgodSdTVkMgRlJPRycsIE9iamVjdElkKCc1YmY0ODQxOGVkYjHigKY=\n"
      ]
     },
     "metadata": {},
     "output_type": "display_data"
    }
   ],
   "source": [
    "from newsgac import database\n",
    "from newsgac.ace.models import ACE\n",
    "from newsgac.pipelines.models import Pipeline\n",
    "from newsgac.genres import genre_labels\n",
    "from scipy.sparse import csr_matrix\n",
    "import ipywidgets as widgets\n",
    "import numpy as np\n",
    "import re\n",
    "import pprint\n",
    "\n",
    "def get_coef_map(num_classes):\n",
    "    coef_map = {}\n",
    "    index=0\n",
    "    i=0\n",
    "    for i in range(0, num_classes - 1):\n",
    "        for j in range(i+1, num_classes):\n",
    "            coef_map[index] = (i,j)\n",
    "            index += 1\n",
    "\n",
    "    return coef_map\n",
    "\n",
    "svc_pipelines = [p for p in Pipeline.objects.all() if re.search(r'svc|SVC|svm|SVM', p.display_title)]\n",
    "pipeline_id = widgets.Dropdown(\n",
    "    options=[(p.display_title, p._id) for p in svc_pipelines],\n",
    "    description='pipeline:',\n",
    "    disabled=False\n",
    ")\n",
    "genre_options = tuple((v,k) for k,v in enumerate(genre_labels))\n",
    "class_1 = widgets.RadioButtons(\n",
    "    options=genre_options,\n",
    "    description='class 1:',\n",
    "    disabled=False\n",
    ")\n",
    "class_2 = widgets.RadioButtons(\n",
    "    options=genre_options,\n",
    "    description='class 2:',\n",
    "    disabled=False\n",
    ")\n",
    "\n",
    "def out(pipeline_id, class_1, class_2):\n",
    "    if class_1 == class_2:\n",
    "        print('Pick two different classes')\n",
    "        return\n",
    "    if class_2 < class_1:\n",
    "        class_1, class_2 = class_2, class_1\n",
    "    p = Pipeline.objects.get({'_id': pipeline_id})\n",
    "    print(\"Showing %s vs %s for %s \" % (genre_labels[class_1], genre_labels[class_2], p.display_title))\n",
    "    skp = p.sk_pipeline.get()\n",
    "    classifier = skp.named_steps['Classifier']\n",
    "    num_classes = len(classifier.classes_)\n",
    "    feature_names = np.array(skp.get_feature_names())\n",
    "    if num_classes != 16:\n",
    "        print(\"WARNING: not 16 classes, names are probably mixed up\")\n",
    "    coef_map = get_coef_map(num_classes)\n",
    "    coef_map_inverse = {v: k for k, v in coef_map.iteritems()}\n",
    "    \n",
    "    weights = classifier.coef_[coef_map_inverse[(class_1, class_2)]]\n",
    "    \n",
    "    if isinstance(weights, csr_matrix):\n",
    "        weights = np.asarray(weights.todense())[0]\n",
    "    top_10_pos_weight_indices = np.argsort(weights)[-10:][::-1]\n",
    "    top_10_neg_weight_indices = np.argsort(weights)[:10]\n",
    "    weights_pos = weights[top_10_pos_weight_indices]\n",
    "    weights_neg = weights[top_10_neg_weight_indices]\n",
    "    print(\"Positive:\")\n",
    "    pprint.pprint(zip(\n",
    "        ['%.2f' % w for w in weights_pos],\n",
    "        feature_names[top_10_pos_weight_indices]\n",
    "    ))\n",
    "    print(\"Negative:\")\n",
    "    pprint.pprint(zip(\n",
    "        ['%.2f' % w for w in weights_neg],\n",
    "        feature_names[top_10_neg_weight_indices]\n",
    "    ))\n",
    "    \n",
    "widgets.VBox([\n",
    "    widgets.HBox([pipeline_id, class_1, class_2]),\n",
    "    widgets.interactive_output(out, dict(pipeline_id=pipeline_id, class_1=class_1, class_2=class_2))\n",
    "])"
   ]
  }
 ],
 "metadata": {
  "kernelspec": {
   "display_name": "Python 2",
   "language": "python",
   "name": "python2"
  },
  "language_info": {
   "codemirror_mode": {
    "name": "ipython",
    "version": 2
   },
   "file_extension": ".py",
   "mimetype": "text/x-python",
   "name": "python",
   "nbconvert_exporter": "python",
   "pygments_lexer": "ipython2",
   "version": "2.7.15"
  }
 },
 "nbformat": 4,
 "nbformat_minor": 2
}

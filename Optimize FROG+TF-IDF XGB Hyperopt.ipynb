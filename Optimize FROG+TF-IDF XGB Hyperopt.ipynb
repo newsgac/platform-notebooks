{
 "cells": [
  {
   "cell_type": "code",
   "execution_count": null,
   "metadata": {},
   "outputs": [],
   "source": [
    "# import sys\n",
    "# !{sys.executable} -m pip install imbalanced-learn --user\n",
    "# !{sys.executable} -m pip install hyperopt --user"
   ]
  },
  {
   "cell_type": "code",
   "execution_count": 1,
   "metadata": {},
   "outputs": [
    {
     "name": "stdout",
     "output_type": "stream",
     "text": [
      "[nltk_data] Downloading package punkt to /home/newsgac/nltk_data...\n",
      "[nltk_data]   Package punkt is already up-to-date!\n"
     ]
    },
    {
     "data": {
      "text/plain": [
       "True"
      ]
     },
     "execution_count": 1,
     "metadata": {},
     "output_type": "execute_result"
    }
   ],
   "source": [
    "import numpy\n",
    "from time import time\n",
    "from sklearn.model_selection import GridSearchCV\n",
    "from hyperopt import tpe, fmin, hp, STATUS_OK, Trials\n",
    "from sklearn.metrics import accuracy_score, log_loss, roc_auc_score\n",
    "from sklearn.model_selection import train_test_split\n",
    "from copy import deepcopy\n",
    "\n",
    "from newsgac import config\n",
    "from newsgac.genres import genre_codes\n",
    "from newsgac.learners import learners, LearnerSVC, LearnerNB, LearnerXGB, LearnerGB, LearnerMLP, LearnerRF, LearnerLGBM\n",
    "from newsgac.pipelines.get_sk_pipeline import get_sk_pipeline\n",
    "from newsgac.pipelines.utils import report\n",
    "from xgboost import XGBClassifier\n",
    "\n",
    "\n",
    "from newsgac import database\n",
    "from newsgac.data_sources import DataSource\n",
    "from newsgac.pipelines import Pipeline\n",
    "\n",
    "# from imblearn.under_sampling import RandomUnderSampler\n",
    "# from imblearn.over_sampling import RandomOverSampler, SMOTE, ADASYN\n",
    "# from imblearn.combine import SMOTEENN, SMOTETomek\n",
    "import numpy as np\n",
    "import nltk\n",
    "nltk.download('punkt')"
   ]
  },
  {
   "cell_type": "code",
   "execution_count": 2,
   "metadata": {},
   "outputs": [
    {
     "data": {
      "text/plain": [
       "[u'N2BGS Training',\n",
       " u'N2BGS Testing',\n",
       " u'Linked NRC (2930)',\n",
       " u'BOW + 5 features (N2BGS train)',\n",
       " u'BOW + 5 features (N2BGS test)',\n",
       " u'nrc-1950-1994-a.txt',\n",
       " u'nrc-1950-1994-b.txt',\n",
       " u'nrc-1950-1994-c.txt',\n",
       " u'nrc-1950-1994-d.txt',\n",
       " u'nrc-1950-1994-e.txt',\n",
       " u'telegraaf-1950-1994-a.txt',\n",
       " u'telegraaf-1950-1994-b.txt',\n",
       " u'telegraaf-1950-1994-c.txt',\n",
       " u'telegraaf-1950-1994-d.txt',\n",
       " u'telegraaf-1950-1994-e.txt',\n",
       " u'volkskrant-1950-1995-a.txt',\n",
       " u'volkskrant-1950-1995-b.txt',\n",
       " u'volkskrant-1950-1995-c.txt',\n",
       " u'volkskrant-1950-1995-d.txt',\n",
       " u'volkskrant-1950-1995-e.txt',\n",
       " u'nrc-1965.txt',\n",
       " u'nrc-1985.txt',\n",
       " u'BOW + 9 features (N2BGS train)',\n",
       " u'BOW + 9 features (N2BGS test)',\n",
       " u'Linked NRC (2930/9 features)',\n",
       " u'BOW Train unique (9 features)',\n",
       " u'BOW Test unique (9 features)',\n",
       " u'Linked NRC (unique/9 features)',\n",
       " u'BOW Train unique (N3BGS/9 features)',\n",
       " u'N3BGS FROG Test',\n",
       " u'N3BGS FROG Train',\n",
       " u'BOW Test unique (N3BGS/9 features)',\n",
       " u'BOW Test unique (N3BGS/9 features/collapsed)',\n",
       " u'Linked NRC (2930 articles)',\n",
       " u'Combined N3BGS/Linked NRC (3884)',\n",
       " u'2019 N3BGS Test',\n",
       " u'2019 N3BGS Train',\n",
       " u'AAOB',\n",
       " u'20190228 unbalanced train size=3443',\n",
       " u'20190228 unbalanced test size=3443']"
      ]
     },
     "execution_count": 2,
     "metadata": {},
     "output_type": "execute_result"
    }
   ],
   "source": [
    "[d.display_title for d in DataSource.objects.all()]"
   ]
  },
  {
   "cell_type": "code",
   "execution_count": 3,
   "metadata": {},
   "outputs": [
    {
     "data": {
      "text/plain": [
       "[u'dummy frog',\n",
       " u'dummy bow',\n",
       " u'RF FROG',\n",
       " u'SVC FROG',\n",
       " u'XGB FROG',\n",
       " u'NB FROG',\n",
       " u'MLP FROG',\n",
       " u'RF BOW',\n",
       " u'SVC BOW',\n",
       " u'XGB BOW',\n",
       " u'NB BOW',\n",
       " u'MLP BOW',\n",
       " u'SVC LIN BOW',\n",
       " u'Erik MLP BOW (with stop-words)',\n",
       " u'Erik MLP BOW (5 features) ',\n",
       " u'Erik MLP BOW (9 features) ',\n",
       " u'Erik SVC BOW (9 features)',\n",
       " u'Erik RF BOW (9 features)',\n",
       " u'Erik XGB BOW (9 features)',\n",
       " u'Erik NB BOW (9 features)',\n",
       " u'Erik MLP unique 9 features',\n",
       " u'Erik NB unique (9 features)',\n",
       " u'Erik XGB unique (9 features)',\n",
       " u'Erik SVC unique (9 features)',\n",
       " u'Erik RF unique (9 features)',\n",
       " u'N3BGS MLP unique 9 features',\n",
       " u'N3BGS NB unique 9 features ',\n",
       " u'N3BGS SVC unique 9 features ',\n",
       " u'N3BGS RF unique 9 features',\n",
       " u'N3BGS XGB unique 9 features ',\n",
       " u'dummy n3bgs bow',\n",
       " u'dummy n3bgs frog',\n",
       " u'RF FROG N3BGS',\n",
       " u'SVC FROG N3BGS',\n",
       " u'XGB FROG N3BGS',\n",
       " u'Erik NB N3BGS Collapsed',\n",
       " u'Erik MLP N3BGS Collapsed',\n",
       " u'Erik MLP Linked NRC (2930 articles)',\n",
       " u'Erik RF Linked NRC (2930 articles) ',\n",
       " u'Erik NB Linked NRC (2930 articles) ',\n",
       " u'Erik SVC Linked NRC (2930 articles) ',\n",
       " u'Erik XGB Linked NRC (2930 articles) ',\n",
       " u'SVC BOW Combined',\n",
       " u'NB FROG N3BGS',\n",
       " u'MLP FROG N3BGS',\n",
       " u'RF BOW NBGS',\n",
       " u'SVC BOW N3BGS',\n",
       " u'XGB BOW N3BGS',\n",
       " u'NB BOW N3BGS',\n",
       " u'MLP BOW N3BGS',\n",
       " u'KIM N3BGS FROG and TF-IDF',\n",
       " u'KIM N3BGS MLP Combi features',\n",
       " u'KIM N3BGS RF COMBI',\n",
       " u'KIM N3BGS SVM COMBI (copy)',\n",
       " u'KIM N3BGS XGB COMBI',\n",
       " u'20190228 SVM',\n",
       " u'20190228 SVC no stop words',\n",
       " u'20190228 SVC no stop words, lowercased',\n",
       " u'dummy combi for opt',\n",
       " u'dummy combi for opt ugs',\n",
       " u'new dummy ugs opt',\n",
       " u'new dummy bgs opt',\n",
       " u'dummy opt frog bgs',\n",
       " u'dummy bow opt bgs']"
      ]
     },
     "execution_count": 3,
     "metadata": {},
     "output_type": "execute_result"
    }
   ],
   "source": [
    "[d.display_title for d in Pipeline.objects.all()]"
   ]
  },
  {
   "cell_type": "code",
   "execution_count": 4,
   "metadata": {},
   "outputs": [
    {
     "name": "stdout",
     "output_type": "stream",
     "text": [
      "Pipeline: dummy combi for opt ugs\n",
      "DataSource: 20190228 unbalanced train size=3443\n",
      "NLP Tool: Frog + TFIDF\n",
      "Classifier: Multi-Layer Perceptron\n",
      "Task status: Status.SUCCESS\n"
     ]
    }
   ],
   "source": [
    "p = Pipeline.objects.all()[59]\n",
    "print 'Pipeline: ' + p.display_title\n",
    "print 'DataSource: ' + p.data_source.display_title\n",
    "print 'NLP Tool: ' + p.nlp_tool.name\n",
    "print 'Classifier: ' + p.learner.name\n",
    "print 'Task status: ' + str(p.task.status)"
   ]
  },
  {
   "cell_type": "code",
   "execution_count": 5,
   "metadata": {},
   "outputs": [
    {
     "data": {
      "text/plain": [
       "3099"
      ]
     },
     "execution_count": 5,
     "metadata": {},
     "output_type": "execute_result"
    }
   ],
   "source": [
    "len(p.data_source.articles)"
   ]
  },
  {
   "cell_type": "code",
   "execution_count": 6,
   "metadata": {},
   "outputs": [
    {
     "name": "stdout",
     "output_type": "stream",
     "text": [
      "Testing data source: 20190228 unbalanced test size=3443\n"
     ]
    }
   ],
   "source": [
    "test_data_source = DataSource.objects.all()[39]\n",
    "print 'Testing data source: ' + test_data_source.display_title"
   ]
  },
  {
   "cell_type": "code",
   "execution_count": 7,
   "metadata": {},
   "outputs": [
    {
     "data": {
      "text/plain": [
       "[('CleanOCR', <newsgac.nlp_tools.transformers.CleanOCR at 0x7f21aacec3d0>),\n",
       " ('StopWordRemoval',\n",
       "  <newsgac.nlp_tools.transformers.StopWordRemoval at 0x7f21aacec5d0>),\n",
       " ('FeatureExtraction', FeatureUnion(n_jobs=None,\n",
       "         transformer_list=[('frog', FeatureUnion(n_jobs=None,\n",
       "         transformer_list=[('Basic', <newsgac.nlp_tools.transformers.ExtractBasicFeatures object at 0x7f21a8396e10>), ('Quote', <newsgac.nlp_tools.transformers.ExtractQuotes object at 0x7f21a8396e50>), ('Sentiment', Pipeline(memory=None,\n",
       "       steps=...\\b', tokenizer=None, use_idf=True,\n",
       "          vocabulary=None))]))],\n",
       "         transformer_weights=None))],\n",
       "         transformer_weights=None)),\n",
       " ('RobustScaler',\n",
       "  RobustScaler(copy=True, quantile_range=(25.0, 75.0), with_centering=False,\n",
       "         with_scaling=True))]"
      ]
     },
     "execution_count": 7,
     "metadata": {},
     "output_type": "execute_result"
    }
   ],
   "source": [
    "skp = p.get_sk_pipeline()\n",
    "skp_opt = deepcopy(skp)\n",
    "skp_opt.steps.pop()\n",
    "skp_opt.steps"
   ]
  },
  {
   "cell_type": "code",
   "execution_count": 8,
   "metadata": {},
   "outputs": [],
   "source": [
    "texts = numpy.array([article.raw_text for article in p.data_source.articles])\n",
    "labels = numpy.array([article.label for article in p.data_source.articles])\n",
    "\n",
    "X = skp_opt.fit_transform(texts)"
   ]
  },
  {
   "cell_type": "code",
   "execution_count": 9,
   "metadata": {},
   "outputs": [],
   "source": [
    "# get the test dataset for optimization accuracy\n",
    "texts_test = numpy.array([article.raw_text for article in test_data_source.articles])\n",
    "labels_test = numpy.array([article.label for article in test_data_source.articles])\n",
    "\n",
    "X_test = skp_opt.transform(texts_test)"
   ]
  },
  {
   "cell_type": "code",
   "execution_count": 10,
   "metadata": {},
   "outputs": [],
   "source": [
    "X_train = X\n",
    "y_train = labels\n",
    "y_test = labels_test"
   ]
  },
  {
   "cell_type": "code",
   "execution_count": 11,
   "metadata": {},
   "outputs": [],
   "source": [
    "X_train, X_val, y_train, y_val = train_test_split(X_train, y_train, test_size=0.2, random_state=0)"
   ]
  },
  {
   "cell_type": "code",
   "execution_count": 12,
   "metadata": {
    "scrolled": true
   },
   "outputs": [
    {
     "data": {
      "text/plain": [
       "(2479, 26984)"
      ]
     },
     "execution_count": 12,
     "metadata": {},
     "output_type": "execute_result"
    }
   ],
   "source": [
    "X_train.shape"
   ]
  },
  {
   "cell_type": "code",
   "execution_count": 13,
   "metadata": {},
   "outputs": [
    {
     "data": {
      "text/plain": [
       "(620,)"
      ]
     },
     "execution_count": 13,
     "metadata": {},
     "output_type": "execute_result"
    }
   ],
   "source": [
    "y_val.shape"
   ]
  },
  {
   "cell_type": "code",
   "execution_count": 14,
   "metadata": {},
   "outputs": [],
   "source": [
    "importance_type_list = ['gain', 'weight', 'cover', 'total_gain', 'total_cover']\n",
    "booster_list = ['gbtree', 'gblinear', 'dart']\n",
    "max_depth_list = np.arange(1, 10, dtype=int)"
   ]
  },
  {
   "cell_type": "code",
   "execution_count": 15,
   "metadata": {},
   "outputs": [],
   "source": [
    "def optimize(evals, trials, optimizer=tpe.suggest):\n",
    "    space = {\n",
    "#         'n_estimators': hp.quniform('n_estimators', 100, 1000, 1),\n",
    "        'n_estimators': hp.choice('n_estimators', np.arange(10, 500, dtype=int)),\n",
    "        'learning_rate': hp.quniform('learning_rate', 0.025, 0.5, 0.025),\n",
    "        # A problem with max_depth casted to float instead of int with\n",
    "        # the hp.quniform method.\n",
    "        'max_depth':  hp.choice('max_depth', max_depth_list),\n",
    "#         'max_depth': hp.quniform('max_depth', 1, 30, 1),\n",
    "        'min_child_weight': hp.quniform('min_child_weight', 1, 6, 1),\n",
    "        'subsample': hp.quniform('subsample', 0.5, 1, 0.05),\n",
    "        'gamma': hp.quniform('gamma', 0.5, 1, 0.05),\n",
    "        'colsample_bytree': hp.quniform('colsample_bytree', 0.5, 1, 0.05),\n",
    "        'importance_type': hp.choice('importance_type', importance_type_list),\n",
    "#         'eval_metric': 'auc',\n",
    "#         'objective': 'binary:logistic',\n",
    "        # Increase this number if you have more cores. Otherwise, remove it and it will default \n",
    "        # to the maxium number. \n",
    "#         'nthread': 48,\n",
    "        'booster': hp.choice('booster', booster_list),\n",
    "#         'tree_method': 'exact',\n",
    "#         'silent': 1,\n",
    "#         'seed': 42\n",
    "    }\n",
    "    best = fmin(score, space, algo=optimizer, max_evals=evals, trials=trials)\n",
    "    pbar.close()\n",
    "    return best"
   ]
  },
  {
   "cell_type": "code",
   "execution_count": 16,
   "metadata": {},
   "outputs": [],
   "source": [
    "train_acc_list = []\n",
    "train_loss_list = []\n",
    "test_acc_list = []\n",
    "test_loss_list = []\n",
    "\n",
    "def score(params):\n",
    "    eval_set=[(X_train, y_train), (X_val, y_val)]\n",
    "    \n",
    "    model = XGBClassifier(n_estimators = params['n_estimators'],\n",
    "                          learning_rate = params['learning_rate'],\n",
    "                            max_depth = params['max_depth'],\n",
    "                            min_child_weight = params['min_child_weight'],\n",
    "                            subsample = params['subsample'], \n",
    "                            gamma = params['gamma'],\n",
    "                            colsample_bytree = params['colsample_bytree'],\n",
    "                            importance_type = params['importance_type'],\n",
    "                            booster=params['booster'],\n",
    "                            objective = \"multi:softprob\",\n",
    "                            n_jobs=24,\n",
    "                            random_state=42,\n",
    "                            silent=False,)\n",
    "\n",
    "    model.fit(X_train, y_train, eval_set=eval_set, verbose=False)   \n",
    "\n",
    "    train_acc = accuracy_score(y_train, model.predict(X_train))\n",
    "    train_loss = log_loss(y_train, model.predict_proba(X_train))\n",
    "    test_acc = accuracy_score(y_test, model.predict(X_test))\n",
    "    test_loss = log_loss(y_test, model.predict_proba(X_test))\n",
    "    \n",
    "    train_acc_list.append(train_acc)\n",
    "    train_loss_list.append(train_loss)\n",
    "    test_acc_list.append(test_acc)\n",
    "    test_loss_list.append(test_loss)\n",
    "    \n",
    "    print('Parameters with this training accuracy {} and loss {} :'.format(train_acc, train_loss))\n",
    "    print('Parameters with this testing accuracy {} and loss {} :'.format(test_acc, test_loss))\n",
    "    print(params)\n",
    "    pbar.update()\n",
    "#     return {'loss': test_loss, 'status': STATUS_OK}\n",
    "    return {'loss': -test_acc, 'status': STATUS_OK}"
   ]
  },
  {
   "cell_type": "code",
   "execution_count": null,
   "metadata": {
    "scrolled": true
   },
   "outputs": [
    {
     "name": "stderr",
     "output_type": "stream",
     "text": [
      "Hyperopt:   0%|          | 0/1000 [00:00<?, ?it/s]"
     ]
    },
    {
     "name": "stdout",
     "output_type": "stream",
     "text": [
      "\n",
      "  0%|          | 0/1000 [00:00<?, ?it/s, best loss: ?]\u001b[A\n",
      "\u001b[AParameters with this training accuracy 0.993545784591 and loss 0.096155541371 :\n",
      "\n",
      "  0%|          | 0/1000 [00:39<?, ?it/s, best loss: ?]\u001b[A\n",
      "\u001b[AParameters with this testing accuracy 0.633720930233 and loss 1.20372400889 :\n",
      "\n",
      "  0%|          | 0/1000 [00:39<?, ?it/s, best loss: ?]\u001b[A\n",
      "\u001b[A{'colsample_bytree': 0.9500000000000001, 'learning_rate': 0.15000000000000002, 'min_child_weight': 5.0, 'n_estimators': 304, 'subsample': 0.75, 'importance_type': 'total_gain', 'max_depth': 8, 'gamma': 0.55, 'booster': 'gbtree'}\n",
      "\n",
      "  0%|          | 0/1000 [00:39<?, ?it/s, best loss: ?]\u001b[A"
     ]
    },
    {
     "name": "stderr",
     "output_type": "stream",
     "text": [
      "Hyperopt:   0%|          | 1/1000 [00:39<11:03:36, 39.86s/it]"
     ]
    },
    {
     "name": "stdout",
     "output_type": "stream",
     "text": [
      "\n",
      "  0%|          | 1/1000 [00:39<10:57:34, 39.49s/it, best loss: -0.633720930233]\u001b[A\n",
      "\u001b[AParameters with this training accuracy 0.949173053651 and loss 0.276840678582 :\n",
      "\n",
      "  0%|          | 1/1000 [01:25<10:57:34, 39.49s/it, best loss: -0.633720930233]\u001b[A\n",
      "\u001b[AParameters with this testing accuracy 0.639534883721 and loss 1.15090173582 :\n",
      "\n",
      "  0%|          | 1/1000 [01:25<10:57:34, 39.49s/it, best loss: -0.633720930233]\u001b[A\n",
      "\u001b[A{'colsample_bytree': 0.75, 'learning_rate': 0.1, 'min_child_weight': 6.0, 'n_estimators': 355, 'subsample': 0.75, 'importance_type': 'gain', 'max_depth': 2, 'gamma': 0.7000000000000001, 'booster': 'dart'}\n",
      "\n",
      "  0%|          | 1/1000 [01:25<10:57:34, 39.49s/it, best loss: -0.633720930233]\u001b[A"
     ]
    },
    {
     "name": "stderr",
     "output_type": "stream",
     "text": [
      "Hyperopt:   0%|          | 2/1000 [01:25<11:31:26, 41.57s/it]"
     ]
    },
    {
     "name": "stdout",
     "output_type": "stream",
     "text": [
      "\n",
      "  0%|          | 2/1000 [01:25<11:27:12, 41.32s/it, best loss: -0.639534883721]\u001b[A\n",
      "\u001b[AParameters with this training accuracy 0.474384832594 and loss 1.76767888648 :\n",
      "\n",
      "  0%|          | 2/1000 [01:32<11:27:12, 41.32s/it, best loss: -0.639534883721]\u001b[A\n",
      "\u001b[AParameters with this testing accuracy 0.488372093023 and loss 1.75948645255 :\n",
      "\n",
      "  0%|          | 2/1000 [01:32<11:27:12, 41.32s/it, best loss: -0.639534883721]\u001b[A\n",
      "\u001b[A{'colsample_bytree': 0.9500000000000001, 'learning_rate': 0.2, 'min_child_weight': 6.0, 'n_estimators': 216, 'subsample': 0.9500000000000001, 'importance_type': 'cover', 'max_depth': 3, 'gamma': 0.7000000000000001, 'booster': 'gblinear'}\n",
      "\n",
      "  0%|          | 2/1000 [01:32<11:27:12, 41.32s/it, best loss: -0.639534883721]\u001b[A"
     ]
    },
    {
     "name": "stderr",
     "output_type": "stream",
     "text": [
      "Hyperopt:   0%|          | 3/1000 [01:32<8:39:56, 31.29s/it] "
     ]
    },
    {
     "name": "stdout",
     "output_type": "stream",
     "text": [
      "\n",
      "  0%|          | 3/1000 [01:32<8:36:57, 31.11s/it, best loss: -0.639534883721] \u001b[A\n",
      "\u001b[AParameters with this training accuracy 0.989915288423 and loss 0.117470282744 :\n",
      "\n",
      "  0%|          | 3/1000 [01:39<8:36:57, 31.11s/it, best loss: -0.639534883721]\u001b[A\n",
      "\u001b[AParameters with this testing accuracy 0.613372093023 and loss 1.29365630601 :\n",
      "\n",
      "  0%|          | 3/1000 [01:39<8:36:57, 31.11s/it, best loss: -0.639534883721]\u001b[A\n",
      "\u001b[A{'colsample_bytree': 0.8, 'learning_rate': 0.42500000000000004, 'min_child_weight': 2.0, 'n_estimators': 59, 'subsample': 1.0, 'importance_type': 'total_gain', 'max_depth': 4, 'gamma': 0.55, 'booster': 'dart'}\n",
      "\n",
      "  0%|          | 3/1000 [01:39<8:36:57, 31.11s/it, best loss: -0.639534883721]\u001b[A"
     ]
    },
    {
     "name": "stderr",
     "output_type": "stream",
     "text": [
      "Hyperopt:   0%|          | 4/1000 [01:40<6:40:01, 24.10s/it]"
     ]
    },
    {
     "name": "stdout",
     "output_type": "stream",
     "text": [
      "\n",
      "  0%|          | 4/1000 [01:39<6:37:56, 23.97s/it, best loss: -0.639534883721]\u001b[A\n",
      "\u001b[AParameters with this training accuracy 0.935861234369 and loss 0.324961267471 :\n",
      "\n",
      "  0%|          | 4/1000 [02:04<6:37:56, 23.97s/it, best loss: -0.639534883721]\u001b[A\n",
      "\u001b[AParameters with this testing accuracy 0.639534883721 and loss 1.11298690385 :\n",
      "\n",
      "  0%|          | 4/1000 [02:04<6:37:56, 23.97s/it, best loss: -0.639534883721]\u001b[A\n",
      "\u001b[A{'colsample_bytree': 0.55, 'learning_rate': 0.07500000000000001, 'min_child_weight': 6.0, 'n_estimators': 240, 'subsample': 1.0, 'importance_type': 'weight', 'max_depth': 3, 'gamma': 0.8500000000000001, 'booster': 'dart'}\n",
      "\n",
      "  0%|          | 4/1000 [02:04<6:37:56, 23.97s/it, best loss: -0.639534883721]\u001b[A"
     ]
    },
    {
     "name": "stderr",
     "output_type": "stream",
     "text": [
      "Hyperopt:   0%|          | 5/1000 [02:04<6:41:25, 24.21s/it]"
     ]
    },
    {
     "name": "stdout",
     "output_type": "stream",
     "text": [
      "\n",
      "  0%|          | 5/1000 [02:04<6:39:59, 24.12s/it, best loss: -0.639534883721]\u001b[A\n",
      "\u001b[AParameters with this training accuracy 0.474384832594 and loss 1.76761526065 :\n",
      "\n",
      "  0%|          | 5/1000 [02:19<6:39:59, 24.12s/it, best loss: -0.639534883721]\u001b[A\n",
      "\u001b[AParameters with this testing accuracy 0.488372093023 and loss 1.75937434752 :\n",
      "\n",
      "  0%|          | 5/1000 [02:19<6:39:59, 24.12s/it, best loss: -0.639534883721]\u001b[A\n",
      "\u001b[A{'colsample_bytree': 0.55, 'learning_rate': 0.1, 'min_child_weight': 6.0, 'n_estimators': 481, 'subsample': 0.6000000000000001, 'importance_type': 'weight', 'max_depth': 5, 'gamma': 0.65, 'booster': 'gblinear'}\n",
      "\n",
      "  0%|          | 5/1000 [02:19<6:39:59, 24.12s/it, best loss: -0.639534883721]\u001b[A"
     ]
    },
    {
     "name": "stderr",
     "output_type": "stream",
     "text": [
      "Hyperopt:   1%|          | 6/1000 [02:19<5:56:35, 21.52s/it]"
     ]
    },
    {
     "name": "stdout",
     "output_type": "stream",
     "text": [
      "\n",
      "  1%|          | 6/1000 [02:19<5:55:33, 21.46s/it, best loss: -0.639534883721]\u001b[A\n",
      "\u001b[AParameters with this training accuracy 0.993949173054 and loss 0.0978277402738 :\n",
      "\n",
      "  1%|          | 6/1000 [02:47<5:55:33, 21.46s/it, best loss: -0.639534883721]\u001b[A\n",
      "\u001b[AParameters with this testing accuracy 0.610465116279 and loss 1.3011204668 :\n",
      "\n",
      "  1%|          | 6/1000 [02:47<5:55:33, 21.46s/it, best loss: -0.639534883721]\u001b[A\n",
      "\u001b[A{'colsample_bytree': 0.5, 'learning_rate': 0.47500000000000003, 'min_child_weight': 1.0, 'n_estimators': 296, 'subsample': 0.75, 'importance_type': 'weight', 'max_depth': 3, 'gamma': 0.75, 'booster': 'dart'}\n",
      "\n",
      "  1%|          | 6/1000 [02:47<5:55:33, 21.46s/it, best loss: -0.639534883721]\u001b[A"
     ]
    },
    {
     "name": "stderr",
     "output_type": "stream",
     "text": [
      "Hyperopt:   1%|          | 7/1000 [02:47<6:28:12, 23.46s/it]"
     ]
    },
    {
     "name": "stdout",
     "output_type": "stream",
     "text": [
      "\n",
      "  1%|          | 7/1000 [02:47<6:27:31, 23.42s/it, best loss: -0.639534883721]\u001b[A\n",
      "\u001b[AParameters with this training accuracy 0.474384832594 and loss 1.7672670793 :\n",
      "\n",
      "  1%|          | 7/1000 [02:55<6:27:31, 23.42s/it, best loss: -0.639534883721]\u001b[A\n",
      "\u001b[AParameters with this testing accuracy 0.488372093023 and loss 1.75876205846 :\n",
      "\n",
      "  1%|          | 7/1000 [02:55<6:27:31, 23.42s/it, best loss: -0.639534883721]\u001b[A\n",
      "\u001b[A{'colsample_bytree': 1.0, 'learning_rate': 0.5, 'min_child_weight': 1.0, 'n_estimators': 226, 'subsample': 0.55, 'importance_type': 'total_gain', 'max_depth': 7, 'gamma': 0.7000000000000001, 'booster': 'gblinear'}\n",
      "\n",
      "  1%|          | 7/1000 [02:55<6:27:31, 23.42s/it, best loss: -0.639534883721]\u001b[A"
     ]
    },
    {
     "name": "stderr",
     "output_type": "stream",
     "text": [
      "Hyperopt:   1%|          | 8/1000 [02:55<5:09:34, 18.72s/it]"
     ]
    },
    {
     "name": "stdout",
     "output_type": "stream",
     "text": [
      "\n",
      "  1%|          | 8/1000 [02:55<5:09:03, 18.69s/it, best loss: -0.639534883721]\u001b[A\n",
      "\u001b[AParameters with this training accuracy 0.985074626866 and loss 0.156408045762 :\n",
      "\n",
      "  1%|          | 8/1000 [03:16<5:09:03, 18.69s/it, best loss: -0.639534883721]\u001b[A\n",
      "\u001b[AParameters with this testing accuracy 0.636627906977 and loss 1.14046281736 :\n",
      "\n",
      "  1%|          | 8/1000 [03:16<5:09:03, 18.69s/it, best loss: -0.639534883721]\u001b[A\n",
      "\u001b[A{'colsample_bytree': 0.7000000000000001, 'learning_rate': 0.25, 'min_child_weight': 5.0, 'n_estimators': 161, 'subsample': 0.9500000000000001, 'importance_type': 'cover', 'max_depth': 8, 'gamma': 1.0, 'booster': 'gbtree'}\n",
      "\n",
      "  1%|          | 8/1000 [03:16<5:09:03, 18.69s/it, best loss: -0.639534883721]\u001b[A"
     ]
    },
    {
     "name": "stderr",
     "output_type": "stream",
     "text": [
      "Hyperopt:   1%|          | 9/1000 [03:16<5:20:32, 19.41s/it]"
     ]
    },
    {
     "name": "stdout",
     "output_type": "stream",
     "text": [
      "\n",
      "  1%|          | 9/1000 [03:16<5:20:12, 19.39s/it, best loss: -0.639534883721]\u001b[A\n",
      "\u001b[AParameters with this training accuracy 0.993142396127 and loss 0.106844122472 :\n",
      "\n",
      "  1%|          | 9/1000 [04:15<5:20:12, 19.39s/it, best loss: -0.639534883721]\u001b[A\n",
      "\u001b[AParameters with this testing accuracy 0.630813953488 and loss 1.21320322969 :\n",
      "\n",
      "  1%|          | 9/1000 [04:15<5:20:12, 19.39s/it, best loss: -0.639534883721]\u001b[A\n",
      "\u001b[A{'colsample_bytree': 0.7000000000000001, 'learning_rate': 0.225, 'min_child_weight': 2.0, 'n_estimators': 335, 'subsample': 0.8500000000000001, 'importance_type': 'weight', 'max_depth': 7, 'gamma': 0.8, 'booster': 'dart'}\n",
      "\n",
      "  1%|          | 9/1000 [04:15<5:20:12, 19.39s/it, best loss: -0.639534883721]\u001b[A"
     ]
    },
    {
     "name": "stderr",
     "output_type": "stream",
     "text": [
      "Hyperopt:   1%|          | 10/1000 [04:15<8:38:34, 31.43s/it]"
     ]
    },
    {
     "name": "stdout",
     "output_type": "stream",
     "text": [
      "\n",
      "  1%|          | 10/1000 [04:15<8:38:21, 31.42s/it, best loss: -0.639534883721]\u001b[A\n",
      "\u001b[AParameters with this training accuracy 0.474384832594 and loss 1.76726703553 :\n",
      "\n",
      "  1%|          | 10/1000 [04:28<8:38:21, 31.42s/it, best loss: -0.639534883721]\u001b[A\n",
      "\u001b[AParameters with this testing accuracy 0.488372093023 and loss 1.75876194128 :\n",
      "\n",
      "  1%|          | 10/1000 [04:28<8:38:21, 31.42s/it, best loss: -0.639534883721]\u001b[A\n",
      "\u001b[A{'colsample_bytree': 0.8, 'learning_rate': 0.35000000000000003, 'min_child_weight': 3.0, 'n_estimators': 376, 'subsample': 0.5, 'importance_type': 'cover', 'max_depth': 3, 'gamma': 0.9500000000000001, 'booster': 'gblinear'}\n",
      "\n",
      "  1%|          | 10/1000 [04:28<8:38:21, 31.42s/it, best loss: -0.639534883721]\u001b[A"
     ]
    },
    {
     "name": "stderr",
     "output_type": "stream",
     "text": [
      "Hyperopt:   1%|          | 11/1000 [04:28<7:05:02, 25.79s/it]"
     ]
    },
    {
     "name": "stdout",
     "output_type": "stream",
     "text": [
      "\n",
      "  1%|          | 11/1000 [04:28<7:04:50, 25.77s/it, best loss: -0.639534883721]\u001b[A\n",
      "\u001b[AParameters with this training accuracy 0.989108511497 and loss 0.129592197933 :\n",
      "\n",
      "  1%|          | 11/1000 [04:59<7:04:50, 25.77s/it, best loss: -0.639534883721]\u001b[A\n",
      "\u001b[AParameters with this testing accuracy 0.601744186047 and loss 1.28270558414 :\n",
      "\n",
      "  1%|          | 11/1000 [04:59<7:04:50, 25.77s/it, best loss: -0.639534883721]\u001b[A\n",
      "\u001b[A{'colsample_bytree': 0.8500000000000001, 'learning_rate': 0.325, 'min_child_weight': 2.0, 'n_estimators': 264, 'subsample': 0.9, 'importance_type': 'total_gain', 'max_depth': 3, 'gamma': 0.8500000000000001, 'booster': 'dart'}\n",
      "\n",
      "  1%|          | 11/1000 [04:59<7:04:50, 25.77s/it, best loss: -0.639534883721]\u001b[A"
     ]
    },
    {
     "name": "stderr",
     "output_type": "stream",
     "text": [
      "Hyperopt:   1%|          | 12/1000 [05:00<7:33:46, 27.56s/it]"
     ]
    },
    {
     "name": "stdout",
     "output_type": "stream",
     "text": [
      "\n",
      "  1%|          | 12/1000 [04:59<7:33:40, 27.55s/it, best loss: -0.639534883721]\u001b[A\n",
      "\u001b[AParameters with this training accuracy 0.912061315046 and loss 0.37978851046 :\n",
      "\n",
      "  1%|          | 12/1000 [05:08<7:33:40, 27.55s/it, best loss: -0.639534883721]\u001b[A\n",
      "\u001b[AParameters with this testing accuracy 0.642441860465 and loss 1.17302318989 :\n",
      "\n",
      "  1%|          | 12/1000 [05:08<7:33:40, 27.55s/it, best loss: -0.639534883721]\u001b[A\n",
      "\u001b[A{'colsample_bytree': 0.6000000000000001, 'learning_rate': 0.225, 'min_child_weight': 5.0, 'n_estimators': 249, 'subsample': 0.65, 'importance_type': 'total_gain', 'max_depth': 1, 'gamma': 0.9500000000000001, 'booster': 'gbtree'}\n",
      "\n",
      "  1%|          | 12/1000 [05:08<7:33:40, 27.55s/it, best loss: -0.639534883721]\u001b[A"
     ]
    },
    {
     "name": "stderr",
     "output_type": "stream",
     "text": [
      "Hyperopt:   1%|▏         | 13/1000 [05:09<6:01:52, 22.00s/it]"
     ]
    },
    {
     "name": "stdout",
     "output_type": "stream",
     "text": [
      "\n",
      "  1%|▏         | 13/1000 [05:08<6:01:48, 21.99s/it, best loss: -0.642441860465]\u001b[A\n",
      "\u001b[AParameters with this training accuracy 0.951593384429 and loss 0.25665326492 :\n",
      "\n",
      "  1%|▏         | 13/1000 [05:27<6:01:48, 21.99s/it, best loss: -0.642441860465]\u001b[A\n",
      "\u001b[AParameters with this testing accuracy 0.642441860465 and loss 1.12372757193 :\n",
      "\n",
      "  1%|▏         | 13/1000 [05:27<6:01:48, 21.99s/it, best loss: -0.642441860465]\u001b[A\n",
      "\u001b[A{'colsample_bytree': 0.8500000000000001, 'learning_rate': 0.07500000000000001, 'min_child_weight': 2.0, 'n_estimators': 94, 'subsample': 0.6000000000000001, 'importance_type': 'gain', 'max_depth': 7, 'gamma': 0.7000000000000001, 'booster': 'dart'}\n",
      "\n",
      "  1%|▏         | 13/1000 [05:27<6:01:48, 21.99s/it, best loss: -0.642441860465]\u001b[A"
     ]
    },
    {
     "name": "stderr",
     "output_type": "stream",
     "text": [
      "Hyperopt:   1%|▏         | 14/1000 [05:27<5:43:11, 20.88s/it]"
     ]
    },
    {
     "name": "stdout",
     "output_type": "stream",
     "text": [
      "\n",
      "  1%|▏         | 14/1000 [05:27<5:43:07, 20.88s/it, best loss: -0.642441860465]\u001b[A\n",
      "\u001b[AParameters with this training accuracy 0.976603469141 and loss 0.197659663128 :\n",
      "\n",
      "  1%|▏         | 14/1000 [06:26<5:43:07, 20.88s/it, best loss: -0.642441860465]\u001b[A\n",
      "\u001b[AParameters with this testing accuracy 0.636627906977 and loss 1.15951212205 :\n",
      "\n",
      "  1%|▏         | 14/1000 [06:26<5:43:07, 20.88s/it, best loss: -0.642441860465]\u001b[A\n",
      "\u001b[A{'colsample_bytree': 0.9, 'learning_rate': 0.07500000000000001, 'min_child_weight': 5.0, 'n_estimators': 348, 'subsample': 0.75, 'importance_type': 'total_cover', 'max_depth': 4, 'gamma': 1.0, 'booster': 'dart'}\n",
      "\n",
      "  1%|▏         | 14/1000 [06:26<5:43:07, 20.88s/it, best loss: -0.642441860465]\u001b[A"
     ]
    },
    {
     "name": "stderr",
     "output_type": "stream",
     "text": [
      "Hyperopt:   2%|▏         | 15/1000 [06:26<8:50:43, 32.33s/it]"
     ]
    },
    {
     "name": "stdout",
     "output_type": "stream",
     "text": [
      "\n",
      "  2%|▏         | 15/1000 [06:26<8:50:41, 32.33s/it, best loss: -0.642441860465]\u001b[A\n",
      "\u001b[AParameters with this training accuracy 0.474384832594 and loss 1.76726765285 :\n",
      "\n",
      "  2%|▏         | 15/1000 [06:36<8:50:41, 32.33s/it, best loss: -0.642441860465]\u001b[A\n",
      "\u001b[AParameters with this testing accuracy 0.488372093023 and loss 1.75876309677 :\n",
      "\n",
      "  2%|▏         | 15/1000 [06:36<8:50:41, 32.33s/it, best loss: -0.642441860465]\u001b[A\n",
      "\u001b[A{'colsample_bytree': 0.6000000000000001, 'learning_rate': 0.30000000000000004, 'min_child_weight': 6.0, 'n_estimators': 367, 'subsample': 0.8500000000000001, 'importance_type': 'weight', 'max_depth': 7, 'gamma': 0.75, 'booster': 'gblinear'}\n",
      "\n",
      "  2%|▏         | 15/1000 [06:36<8:50:41, 32.33s/it, best loss: -0.642441860465]\u001b[A"
     ]
    },
    {
     "name": "stderr",
     "output_type": "stream",
     "text": [
      "Hyperopt:   2%|▏         | 16/1000 [06:37<7:03:19, 25.81s/it]"
     ]
    },
    {
     "name": "stdout",
     "output_type": "stream",
     "text": [
      "\n",
      "  2%|▏         | 16/1000 [06:36<7:03:16, 25.81s/it, best loss: -0.642441860465]\u001b[A\n",
      "\u001b[AParameters with this training accuracy 0.474384832594 and loss 1.76727880219 :\n",
      "\n",
      "  2%|▏         | 16/1000 [06:50<7:03:16, 25.81s/it, best loss: -0.642441860465]\u001b[A\n",
      "\u001b[AParameters with this testing accuracy 0.488372093023 and loss 1.7587832238 :\n",
      "\n",
      "  2%|▏         | 16/1000 [06:50<7:03:16, 25.81s/it, best loss: -0.642441860465]\u001b[A\n",
      "\u001b[A{'colsample_bytree': 0.65, 'learning_rate': 0.2, 'min_child_weight': 6.0, 'n_estimators': 420, 'subsample': 0.9, 'importance_type': 'total_gain', 'max_depth': 5, 'gamma': 0.6000000000000001, 'booster': 'gblinear'}\n",
      "\n",
      "  2%|▏         | 16/1000 [06:50<7:03:16, 25.81s/it, best loss: -0.642441860465]\u001b[A"
     ]
    },
    {
     "name": "stderr",
     "output_type": "stream",
     "text": [
      "Hyperopt:   2%|▏         | 17/1000 [06:50<6:01:30, 22.07s/it]"
     ]
    },
    {
     "name": "stdout",
     "output_type": "stream",
     "text": [
      "\n",
      "  2%|▏         | 17/1000 [06:50<6:01:28, 22.06s/it, best loss: -0.642441860465]\u001b[A\n",
      "\u001b[AParameters with this training accuracy 0.821702299314 and loss 0.660666488691 :\n",
      "\n",
      "  2%|▏         | 17/1000 [06:52<6:01:28, 22.06s/it, best loss: -0.642441860465]\u001b[A\n",
      "\u001b[AParameters with this testing accuracy 0.613372093023 and loss 1.20491124882 :\n",
      "\n",
      "  2%|▏         | 17/1000 [06:52<6:01:28, 22.06s/it, best loss: -0.642441860465]\u001b[A\n",
      "\u001b[A{'colsample_bytree': 0.75, 'learning_rate': 0.225, 'min_child_weight': 2.0, 'n_estimators': 19, 'subsample': 0.75, 'importance_type': 'weight', 'max_depth': 3, 'gamma': 0.9, 'booster': 'dart'}\n",
      "\n",
      "  2%|▏         | 17/1000 [06:52<6:01:28, 22.06s/it, best loss: -0.642441860465]\u001b[A"
     ]
    },
    {
     "name": "stderr",
     "output_type": "stream",
     "text": [
      "Hyperopt:   2%|▏         | 18/1000 [06:52<4:24:18, 16.15s/it]"
     ]
    },
    {
     "name": "stdout",
     "output_type": "stream",
     "text": [
      "\n",
      "  2%|▏         | 18/1000 [06:52<4:24:16, 16.15s/it, best loss: -0.642441860465]\u001b[A\n",
      "\u001b[AParameters with this training accuracy 0.982654296087 and loss 0.163526806672 :\n",
      "\n",
      "  2%|▏         | 18/1000 [07:32<4:24:16, 16.15s/it, best loss: -0.642441860465]\u001b[A\n",
      "\u001b[AParameters with this testing accuracy 0.645348837209 and loss 1.15372568006 :\n",
      "\n",
      "  2%|▏         | 18/1000 [07:32<4:24:16, 16.15s/it, best loss: -0.642441860465]\u001b[A\n",
      "\u001b[A{'colsample_bytree': 0.9, 'learning_rate': 0.2, 'min_child_weight': 6.0, 'n_estimators': 231, 'subsample': 1.0, 'importance_type': 'total_gain', 'max_depth': 7, 'gamma': 0.8500000000000001, 'booster': 'dart'}\n",
      "\n",
      "  2%|▏         | 18/1000 [07:32<4:24:16, 16.15s/it, best loss: -0.642441860465]\u001b[A"
     ]
    },
    {
     "name": "stderr",
     "output_type": "stream",
     "text": [
      "Hyperopt:   2%|▏         | 19/1000 [07:32<6:21:32, 23.34s/it]"
     ]
    },
    {
     "name": "stdout",
     "output_type": "stream",
     "text": [
      "\n",
      "  2%|▏         | 19/1000 [07:32<6:21:33, 23.34s/it, best loss: -0.645348837209]\u001b[A\n",
      "\u001b[AParameters with this training accuracy 0.991125453812 and loss 0.113096689058 :\n",
      "\n",
      "  2%|▏         | 19/1000 [07:45<6:21:33, 23.34s/it, best loss: -0.645348837209]\u001b[A\n",
      "\u001b[AParameters with this testing accuracy 0.642441860465 and loss 1.22658649202 :\n",
      "\n",
      "  2%|▏         | 19/1000 [07:45<6:21:33, 23.34s/it, best loss: -0.645348837209]\u001b[A\n",
      "\u001b[A{'colsample_bytree': 0.9, 'learning_rate': 0.30000000000000004, 'min_child_weight': 5.0, 'n_estimators': 114, 'subsample': 0.75, 'importance_type': 'weight', 'max_depth': 5, 'gamma': 0.55, 'booster': 'gbtree'}\n",
      "\n",
      "  2%|▏         | 19/1000 [07:45<6:21:33, 23.34s/it, best loss: -0.645348837209]\u001b[A"
     ]
    },
    {
     "name": "stderr",
     "output_type": "stream",
     "text": [
      "Hyperopt:   2%|▏         | 20/1000 [07:46<5:32:38, 20.37s/it]"
     ]
    },
    {
     "name": "stdout",
     "output_type": "stream",
     "text": [
      "\n",
      "  2%|▏         | 20/1000 [07:46<5:32:37, 20.37s/it, best loss: -0.645348837209]\u001b[A\n",
      "\u001b[AParameters with this training accuracy 0.995159338443 and loss 0.0750734034381 :\n",
      "\n",
      "  2%|▏         | 20/1000 [08:09<5:32:37, 20.37s/it, best loss: -0.645348837209]\u001b[A\n",
      "\u001b[AParameters with this testing accuracy 0.622093023256 and loss 1.37634076999 :\n",
      "\n",
      "  2%|▏         | 20/1000 [08:09<5:32:37, 20.37s/it, best loss: -0.645348837209]\u001b[A\n",
      "\u001b[A{'colsample_bytree': 1.0, 'learning_rate': 0.375, 'min_child_weight': 4.0, 'n_estimators': 206, 'subsample': 0.65, 'importance_type': 'total_cover', 'max_depth': 6, 'gamma': 0.5, 'booster': 'gbtree'}\n",
      "\n",
      "  2%|▏         | 20/1000 [08:09<5:32:37, 20.37s/it, best loss: -0.645348837209]\u001b[A"
     ]
    },
    {
     "name": "stderr",
     "output_type": "stream",
     "text": [
      "Hyperopt:   2%|▏         | 21/1000 [08:10<5:49:45, 21.44s/it]"
     ]
    },
    {
     "name": "stdout",
     "output_type": "stream",
     "text": [
      "\n",
      "  2%|▏         | 21/1000 [08:09<5:49:45, 21.44s/it, best loss: -0.645348837209]\u001b[A\n",
      "\u001b[AParameters with this training accuracy 0.992739007664 and loss 0.106739537022 :\n",
      "\n",
      "  2%|▏         | 21/1000 [09:46<5:49:45, 21.44s/it, best loss: -0.645348837209]\u001b[A\n",
      "\u001b[AParameters with this testing accuracy 0.642441860465 and loss 1.21520370188 :\n",
      "\n",
      "  2%|▏         | 21/1000 [09:46<5:49:45, 21.44s/it, best loss: -0.645348837209]\u001b[A\n",
      "\u001b[A{'colsample_bytree': 0.8500000000000001, 'learning_rate': 0.15000000000000002, 'min_child_weight': 3.0, 'n_estimators': 468, 'subsample': 0.65, 'importance_type': 'gain', 'max_depth': 9, 'gamma': 0.8, 'booster': 'dart'}\n",
      "\n",
      "  2%|▏         | 21/1000 [09:46<5:49:45, 21.44s/it, best loss: -0.645348837209]\u001b[A"
     ]
    },
    {
     "name": "stderr",
     "output_type": "stream",
     "text": [
      "Hyperopt:   2%|▏         | 22/1000 [09:47<11:57:49, 44.04s/it]"
     ]
    },
    {
     "name": "stdout",
     "output_type": "stream",
     "text": [
      "\n",
      "  2%|▏         | 22/1000 [09:46<11:57:51, 44.04s/it, best loss: -0.645348837209]\u001b[A\n",
      "\u001b[AParameters with this training accuracy 0.990722065349 and loss 0.117865797561 :\n",
      "\n",
      "  2%|▏         | 22/1000 [10:25<11:57:51, 44.04s/it, best loss: -0.645348837209]\u001b[A\n",
      "\u001b[AParameters with this testing accuracy 0.639534883721 and loss 1.20777294239 :\n",
      "\n",
      "  2%|▏         | 22/1000 [10:25<11:57:51, 44.04s/it, best loss: -0.645348837209]\u001b[A\n",
      "\u001b[A{'colsample_bytree': 0.9, 'learning_rate': 0.15000000000000002, 'min_child_weight': 3.0, 'n_estimators': 190, 'subsample': 0.65, 'importance_type': 'gain', 'max_depth': 9, 'gamma': 0.8, 'booster': 'dart'}\n",
      "\n",
      "  2%|▏         | 22/1000 [10:25<11:57:51, 44.04s/it, best loss: -0.645348837209]\u001b[A"
     ]
    },
    {
     "name": "stderr",
     "output_type": "stream",
     "text": [
      "Hyperopt:   2%|▏         | 23/1000 [10:25<11:31:41, 42.48s/it]"
     ]
    },
    {
     "name": "stdout",
     "output_type": "stream",
     "text": [
      "\n",
      "  2%|▏         | 23/1000 [10:25<11:31:40, 42.48s/it, best loss: -0.645348837209]\u001b[A\n",
      "\u001b[AParameters with this training accuracy 0.992335619201 and loss 0.117725302316 :\n",
      "\n",
      "  2%|▏         | 23/1000 [11:26<11:31:40, 42.48s/it, best loss: -0.645348837209]\u001b[A\n",
      "\u001b[AParameters with this testing accuracy 0.642441860465 and loss 1.23278905137 :\n",
      "\n",
      "  2%|▏         | 23/1000 [11:26<11:31:40, 42.48s/it, best loss: -0.645348837209]\u001b[A\n",
      "\u001b[A{'colsample_bytree': 0.9500000000000001, 'learning_rate': 0.30000000000000004, 'min_child_weight': 4.0, 'n_estimators': 495, 'subsample': 0.8, 'importance_type': 'total_cover', 'max_depth': 5, 'gamma': 0.9, 'booster': 'gbtree'}\n",
      "\n",
      "  2%|▏         | 23/1000 [11:26<11:31:40, 42.48s/it, best loss: -0.645348837209]\u001b[A"
     ]
    },
    {
     "name": "stderr",
     "output_type": "stream",
     "text": [
      "Hyperopt:   2%|▏         | 24/1000 [11:26<12:58:54, 47.88s/it]"
     ]
    },
    {
     "name": "stdout",
     "output_type": "stream",
     "text": [
      "\n",
      "  2%|▏         | 24/1000 [11:26<12:58:57, 47.89s/it, best loss: -0.645348837209]\u001b[A\n",
      "\u001b[AParameters with this training accuracy 0.990722065349 and loss 0.115189518316 :\n",
      "\n",
      "  2%|▏         | 24/1000 [12:16<12:58:57, 47.89s/it, best loss: -0.645348837209]\u001b[A\n",
      "\u001b[AParameters with this testing accuracy 0.630813953488 and loss 1.2572157351 :\n",
      "\n",
      "  2%|▏         | 24/1000 [12:16<12:58:57, 47.89s/it, best loss: -0.645348837209]\u001b[A\n",
      "\u001b[A{'colsample_bytree': 0.9500000000000001, 'learning_rate': 0.42500000000000004, 'min_child_weight': 4.0, 'n_estimators': 408, 'subsample': 0.8500000000000001, 'importance_type': 'total_cover', 'max_depth': 5, 'gamma': 0.9, 'booster': 'gbtree'}\n",
      "\n",
      "  2%|▏         | 24/1000 [12:16<12:58:57, 47.89s/it, best loss: -0.645348837209]\u001b[A"
     ]
    },
    {
     "name": "stderr",
     "output_type": "stream",
     "text": [
      "Hyperopt:   2%|▎         | 25/1000 [12:16<13:08:49, 48.54s/it]"
     ]
    },
    {
     "name": "stdout",
     "output_type": "stream",
     "text": [
      "\n",
      "  2%|▎         | 25/1000 [12:16<13:08:50, 48.54s/it, best loss: -0.645348837209]\u001b[A\n",
      "\u001b[AParameters with this training accuracy 0.919322307382 and loss 0.356113832444 :\n",
      "\n",
      "  2%|▎         | 25/1000 [12:28<13:08:50, 48.54s/it, best loss: -0.645348837209]\u001b[A\n",
      "\u001b[AParameters with this testing accuracy 0.622093023256 and loss 1.16833311701 :\n",
      "\n",
      "  2%|▎         | 25/1000 [12:28<13:08:50, 48.54s/it, best loss: -0.645348837209]\u001b[A\n",
      "\u001b[A{'colsample_bytree': 0.65, 'learning_rate': 0.17500000000000002, 'min_child_weight': 5.0, 'n_estimators': 349, 'subsample': 0.7000000000000001, 'importance_type': 'total_gain', 'max_depth': 1, 'gamma': 0.9500000000000001, 'booster': 'gbtree'}\n",
      "\n",
      "  2%|▎         | 25/1000 [12:28<13:08:50, 48.54s/it, best loss: -0.645348837209]\u001b[A"
     ]
    },
    {
     "name": "stderr",
     "output_type": "stream",
     "text": [
      "Hyperopt:   3%|▎         | 26/1000 [12:29<10:13:11, 37.77s/it]"
     ]
    },
    {
     "name": "stdout",
     "output_type": "stream",
     "text": [
      "\n",
      "  3%|▎         | 26/1000 [12:28<10:13:10, 37.77s/it, best loss: -0.645348837209]\u001b[A\n",
      "\u001b[AParameters with this training accuracy 0.914885034288 and loss 0.368610853995 :\n",
      "\n",
      "  3%|▎         | 26/1000 [12:37<10:13:10, 37.77s/it, best loss: -0.645348837209]\u001b[A\n",
      "\u001b[AParameters with this testing accuracy 0.622093023256 and loss 1.24698654198 :\n",
      "\n",
      "  3%|▎         | 26/1000 [12:38<10:13:10, 37.77s/it, best loss: -0.645348837209]\u001b[A\n",
      "\u001b[A{'colsample_bytree': 0.55, 'learning_rate': 0.25, 'min_child_weight': 5.0, 'n_estimators': 267, 'subsample': 0.5, 'importance_type': 'total_gain', 'max_depth': 1, 'gamma': 0.9500000000000001, 'booster': 'gbtree'}\n",
      "\n",
      "  3%|▎         | 26/1000 [12:38<10:13:10, 37.77s/it, best loss: -0.645348837209]\u001b[A"
     ]
    },
    {
     "name": "stderr",
     "output_type": "stream",
     "text": [
      "Hyperopt:   3%|▎         | 27/1000 [12:38<7:53:48, 29.22s/it] "
     ]
    },
    {
     "name": "stdout",
     "output_type": "stream",
     "text": [
      "\n",
      "  3%|▎         | 27/1000 [12:38<7:53:46, 29.22s/it, best loss: -0.645348837209] \u001b[A\n",
      "\u001b[AParameters with this training accuracy 0.949979830577 and loss 0.277151257918 :\n",
      "\n",
      "  3%|▎         | 27/1000 [13:02<7:53:46, 29.22s/it, best loss: -0.645348837209]\u001b[A\n",
      "\u001b[AParameters with this testing accuracy 0.636627906977 and loss 1.14302227809 :\n",
      "\n",
      "  3%|▎         | 27/1000 [13:02<7:53:46, 29.22s/it, best loss: -0.645348837209]\u001b[A\n",
      "\u001b[A{'colsample_bytree': 0.8500000000000001, 'learning_rate': 0.05, 'min_child_weight': 1.0, 'n_estimators': 115, 'subsample': 0.55, 'importance_type': 'gain', 'max_depth': 7, 'gamma': 0.65, 'booster': 'dart'}\n",
      "\n",
      "  3%|▎         | 27/1000 [13:02<7:53:46, 29.22s/it, best loss: -0.645348837209]\u001b[A"
     ]
    },
    {
     "name": "stderr",
     "output_type": "stream",
     "text": [
      "Hyperopt:   3%|▎         | 28/1000 [13:02<7:29:38, 27.76s/it]"
     ]
    },
    {
     "name": "stdout",
     "output_type": "stream",
     "text": [
      "\n",
      "  3%|▎         | 28/1000 [13:02<7:29:37, 27.75s/it, best loss: -0.645348837209]\u001b[A\n",
      "\u001b[AParameters with this training accuracy 0.993142396127 and loss 0.103685434466 :\n",
      "\n",
      "  3%|▎         | 28/1000 [13:51<7:29:37, 27.75s/it, best loss: -0.645348837209]\u001b[A\n",
      "\u001b[AParameters with this testing accuracy 0.648255813953 and loss 1.18331431165 :\n",
      "\n",
      "  3%|▎         | 28/1000 [13:51<7:29:37, 27.75s/it, best loss: -0.645348837209]\u001b[A\n",
      "\u001b[A{'colsample_bytree': 0.8, 'learning_rate': 0.125, 'min_child_weight': 3.0, 'n_estimators': 271, 'subsample': 0.6000000000000001, 'importance_type': 'gain', 'max_depth': 7, 'gamma': 0.65, 'booster': 'dart'}\n",
      "\n",
      "  3%|▎         | 28/1000 [13:51<7:29:37, 27.75s/it, best loss: -0.645348837209]\u001b[A"
     ]
    },
    {
     "name": "stderr",
     "output_type": "stream",
     "text": [
      "Hyperopt:   3%|▎         | 29/1000 [13:51<9:10:43, 34.03s/it]"
     ]
    },
    {
     "name": "stdout",
     "output_type": "stream",
     "text": [
      "\n",
      "  3%|▎         | 29/1000 [13:51<9:10:44, 34.03s/it, best loss: -0.648255813953]\u001b[A\n",
      "\u001b[AParameters with this training accuracy 0.871722468737 and loss 0.532909705006 :\n",
      "\n",
      "  3%|▎         | 29/1000 [13:56<9:10:44, 34.03s/it, best loss: -0.648255813953]\u001b[A\n",
      "\u001b[AParameters with this testing accuracy 0.613372093023 and loss 1.19406092391 :\n",
      "\n",
      "  3%|▎         | 29/1000 [13:56<9:10:44, 34.03s/it, best loss: -0.648255813953]\u001b[A\n",
      "\u001b[A{'colsample_bytree': 0.8, 'learning_rate': 0.15000000000000002, 'min_child_weight': 3.0, 'n_estimators': 29, 'subsample': 0.55, 'importance_type': 'gain', 'max_depth': 7, 'gamma': 0.65, 'booster': 'dart'}\n",
      "\n",
      "  3%|▎         | 29/1000 [13:56<9:10:44, 34.03s/it, best loss: -0.648255813953]\u001b[A"
     ]
    },
    {
     "name": "stderr",
     "output_type": "stream",
     "text": [
      "Hyperopt:   3%|▎         | 30/1000 [13:56<6:49:57, 25.36s/it]"
     ]
    },
    {
     "name": "stdout",
     "output_type": "stream",
     "text": [
      "\n",
      "  3%|▎         | 30/1000 [13:56<6:49:55, 25.36s/it, best loss: -0.648255813953]\u001b[A\n",
      "\u001b[AParameters with this training accuracy 0.758773699072 and loss 0.843956104007 :\n",
      "\n",
      "  3%|▎         | 30/1000 [14:13<6:49:55, 25.36s/it, best loss: -0.648255813953]\u001b[A\n",
      "\u001b[AParameters with this testing accuracy 0.613372093023 and loss 1.19737247282 :\n",
      "\n",
      "  3%|▎         | 30/1000 [14:13<6:49:55, 25.36s/it, best loss: -0.648255813953]\u001b[A\n",
      "\u001b[A{'colsample_bytree': 0.75, 'learning_rate': 0.025, 'min_child_weight': 4.0, 'n_estimators': 196, 'subsample': 0.7000000000000001, 'importance_type': 'gain', 'max_depth': 2, 'gamma': 0.6000000000000001, 'booster': 'dart'}\n",
      "\n",
      "  3%|▎         | 30/1000 [14:13<6:49:55, 25.36s/it, best loss: -0.648255813953]\u001b[A"
     ]
    },
    {
     "name": "stderr",
     "output_type": "stream",
     "text": [
      "Hyperopt:   3%|▎         | 31/1000 [14:14<6:11:37, 23.01s/it]"
     ]
    },
    {
     "name": "stdout",
     "output_type": "stream",
     "text": [
      "\n",
      "  3%|▎         | 31/1000 [14:13<6:11:37, 23.01s/it, best loss: -0.648255813953]\u001b[A\n",
      "\u001b[AParameters with this training accuracy 0.993949173054 and loss 0.0882242921454 :\n",
      "\n",
      "  3%|▎         | 31/1000 [14:58<6:11:37, 23.01s/it, best loss: -0.648255813953]\u001b[A\n",
      "\u001b[AParameters with this testing accuracy 0.642441860465 and loss 1.21494531891 :\n",
      "\n",
      "  3%|▎         | 31/1000 [14:58<6:11:37, 23.01s/it, best loss: -0.648255813953]\u001b[A\n",
      "\u001b[A{'colsample_bytree': 0.9, 'learning_rate': 0.125, 'min_child_weight': 3.0, 'n_estimators': 236, 'subsample': 0.8, 'importance_type': 'cover', 'max_depth': 6, 'gamma': 0.5, 'booster': 'dart'}\n",
      "\n",
      "  3%|▎         | 31/1000 [14:58<6:11:37, 23.01s/it, best loss: -0.648255813953]\u001b[A"
     ]
    },
    {
     "name": "stderr",
     "output_type": "stream",
     "text": [
      "Hyperopt:   3%|▎         | 32/1000 [14:58<7:54:40, 29.42s/it]"
     ]
    },
    {
     "name": "stdout",
     "output_type": "stream",
     "text": [
      "\n",
      "  3%|▎         | 32/1000 [14:58<7:54:41, 29.42s/it, best loss: -0.648255813953]\u001b[A\n",
      "\u001b[AParameters with this training accuracy 0.978620411456 and loss 0.187627876824 :\n",
      "\n",
      "  3%|▎         | 32/1000 [17:11<7:54:41, 29.42s/it, best loss: -0.648255813953]\u001b[A\n",
      "\u001b[AParameters with this testing accuracy 0.639534883721 and loss 1.10695965676 :\n",
      "\n",
      "  3%|▎         | 32/1000 [17:11<7:54:41, 29.42s/it, best loss: -0.648255813953]\u001b[A\n",
      "\u001b[A{'colsample_bytree': 0.8, 'learning_rate': 0.025, 'min_child_weight': 4.0, 'n_estimators': 488, 'subsample': 0.7000000000000001, 'importance_type': 'gain', 'max_depth': 8, 'gamma': 0.8500000000000001, 'booster': 'dart'}\n",
      "\n",
      "  3%|▎         | 32/1000 [17:11<7:54:41, 29.42s/it, best loss: -0.648255813953]\u001b[A"
     ]
    },
    {
     "name": "stderr",
     "output_type": "stream",
     "text": [
      "Hyperopt:   3%|▎         | 33/1000 [17:11<16:16:16, 60.58s/it]"
     ]
    },
    {
     "name": "stdout",
     "output_type": "stream",
     "text": [
      "\n",
      "  3%|▎         | 33/1000 [17:11<16:16:18, 60.58s/it, best loss: -0.648255813953]\u001b[A\n",
      "\u001b[AParameters with this training accuracy 0.993545784591 and loss 0.0964033980385 :\n",
      "\n",
      "  3%|▎         | 33/1000 [18:07<16:16:18, 60.58s/it, best loss: -0.648255813953]\u001b[A\n",
      "\u001b[AParameters with this testing accuracy 0.633720930233 and loss 1.18749191298 :\n",
      "\n",
      "  3%|▎         | 33/1000 [18:07<16:16:18, 60.58s/it, best loss: -0.648255813953]\u001b[A\n",
      "\u001b[A{'colsample_bytree': 0.7000000000000001, 'learning_rate': 0.125, 'min_child_weight': 3.0, 'n_estimators': 320, 'subsample': 0.6000000000000001, 'importance_type': 'total_gain', 'max_depth': 7, 'gamma': 0.6000000000000001, 'booster': 'dart'}\n",
      "\n",
      "  3%|▎         | 33/1000 [18:07<16:16:18, 60.58s/it, best loss: -0.648255813953]\u001b[A"
     ]
    },
    {
     "name": "stderr",
     "output_type": "stream",
     "text": [
      "Hyperopt:   3%|▎         | 34/1000 [18:07<15:52:11, 59.14s/it]"
     ]
    },
    {
     "name": "stdout",
     "output_type": "stream",
     "text": [
      "\n",
      "  3%|▎         | 34/1000 [18:07<15:52:11, 59.14s/it, best loss: -0.648255813953]\u001b[A\n",
      "\u001b[AParameters with this training accuracy 0.985074626866 and loss 0.158964135491 :\n",
      "\n",
      "  3%|▎         | 34/1000 [18:53<15:52:11, 59.14s/it, best loss: -0.648255813953]\u001b[A\n",
      "\u001b[AParameters with this testing accuracy 0.633720930233 and loss 1.178994399 :\n",
      "\n",
      "  3%|▎         | 34/1000 [18:53<15:52:11, 59.14s/it, best loss: -0.648255813953]\u001b[A\n",
      "\u001b[A{'colsample_bytree': 1.0, 'learning_rate': 0.17500000000000002, 'min_child_weight': 2.0, 'n_estimators': 396, 'subsample': 0.9500000000000001, 'importance_type': 'gain', 'max_depth': 2, 'gamma': 0.75, 'booster': 'dart'}\n",
      "\n",
      "  3%|▎         | 34/1000 [18:53<15:52:11, 59.14s/it, best loss: -0.648255813953]\u001b[A"
     ]
    },
    {
     "name": "stderr",
     "output_type": "stream",
     "text": [
      "Hyperopt:   4%|▎         | 35/1000 [18:53<14:50:02, 55.34s/it]"
     ]
    },
    {
     "name": "stdout",
     "output_type": "stream",
     "text": [
      "\n",
      "  4%|▎         | 35/1000 [18:53<14:50:03, 55.34s/it, best loss: -0.648255813953]\u001b[A\n",
      "\u001b[AParameters with this training accuracy 0.977006857604 and loss 0.183941774535 :\n",
      "\n",
      "  4%|▎         | 35/1000 [19:30<14:50:03, 55.34s/it, best loss: -0.648255813953]\u001b[A\n",
      "\u001b[AParameters with this testing accuracy 0.645348837209 and loss 1.13828038357 :\n",
      "\n",
      "  4%|▎         | 35/1000 [19:30<14:50:03, 55.34s/it, best loss: -0.648255813953]\u001b[A\n",
      "\u001b[A{'colsample_bytree': 0.9500000000000001, 'learning_rate': 0.1, 'min_child_weight': 4.0, 'n_estimators': 231, 'subsample': 0.6000000000000001, 'importance_type': 'total_gain', 'max_depth': 4, 'gamma': 0.8, 'booster': 'dart'}\n",
      "\n",
      "  4%|▎         | 35/1000 [19:30<14:50:03, 55.34s/it, best loss: -0.648255813953]\u001b[A"
     ]
    },
    {
     "name": "stderr",
     "output_type": "stream",
     "text": [
      "Hyperopt:   4%|▎         | 36/1000 [19:30<13:19:07, 49.74s/it]"
     ]
    },
    {
     "name": "stdout",
     "output_type": "stream",
     "text": [
      "\n",
      "  4%|▎         | 36/1000 [19:30<13:19:06, 49.74s/it, best loss: -0.648255813953]\u001b[A\n",
      "\u001b[AParameters with this training accuracy 0.474384832594 and loss 1.76802161749 :\n",
      "\n",
      "  4%|▎         | 36/1000 [19:42<13:19:06, 49.74s/it, best loss: -0.648255813953]\u001b[A\n",
      "\u001b[AParameters with this testing accuracy 0.488372093023 and loss 1.76007151151 :\n",
      "\n",
      "  4%|▎         | 36/1000 [19:42<13:19:06, 49.74s/it, best loss: -0.648255813953]\u001b[A\n",
      "\u001b[A{'colsample_bytree': 0.9500000000000001, 'learning_rate': 0.1, 'min_child_weight': 4.0, 'n_estimators': 390, 'subsample': 0.5, 'importance_type': 'cover', 'max_depth': 4, 'gamma': 0.7000000000000001, 'booster': 'gblinear'}\n",
      "\n",
      "  4%|▎         | 36/1000 [19:42<13:19:06, 49.74s/it, best loss: -0.648255813953]\u001b[A"
     ]
    },
    {
     "name": "stderr",
     "output_type": "stream",
     "text": [
      "Hyperopt:   4%|▎         | 37/1000 [19:43<10:19:23, 38.59s/it]"
     ]
    },
    {
     "name": "stdout",
     "output_type": "stream",
     "text": [
      "\n",
      "  4%|▎         | 37/1000 [19:42<10:19:21, 38.59s/it, best loss: -0.648255813953]\u001b[A\n",
      "\u001b[AParameters with this training accuracy 0.990318676886 and loss 0.130008695302 :\n",
      "\n",
      "  4%|▎         | 37/1000 [21:08<10:19:21, 38.59s/it, best loss: -0.648255813953]\u001b[A\n",
      "\u001b[AParameters with this testing accuracy 0.642441860465 and loss 1.17984780344 :\n",
      "\n",
      "  4%|▎         | 37/1000 [21:08<10:19:21, 38.59s/it, best loss: -0.648255813953]\u001b[A\n",
      "\u001b[A{'colsample_bytree': 0.75, 'learning_rate': 0.2, 'min_child_weight': 6.0, 'n_estimators': 490, 'subsample': 1.0, 'importance_type': 'gain', 'max_depth': 7, 'gamma': 0.7000000000000001, 'booster': 'dart'}\n",
      "\n",
      "  4%|▎         | 37/1000 [21:08<10:19:21, 38.59s/it, best loss: -0.648255813953]\u001b[A"
     ]
    },
    {
     "name": "stderr",
     "output_type": "stream",
     "text": [
      "Hyperopt:   4%|▍         | 38/1000 [21:08<14:03:04, 52.58s/it]"
     ]
    },
    {
     "name": "stdout",
     "output_type": "stream",
     "text": [
      "\n",
      "  4%|▍         | 38/1000 [21:08<14:03:06, 52.58s/it, best loss: -0.648255813953]\u001b[A\n",
      "\u001b[AParameters with this training accuracy 0.995966115369 and loss 0.0762852113624 :\n",
      "\n",
      "  4%|▍         | 38/1000 [21:34<14:03:06, 52.58s/it, best loss: -0.648255813953]\u001b[A\n",
      "\u001b[AParameters with this testing accuracy 0.627906976744 and loss 1.28938679906 :\n",
      "\n",
      "  4%|▍         | 38/1000 [21:34<14:03:06, 52.58s/it, best loss: -0.648255813953]\u001b[A\n",
      "\u001b[A{'colsample_bytree': 0.8, 'learning_rate': 0.275, 'min_child_weight': 1.0, 'n_estimators': 139, 'subsample': 0.8, 'importance_type': 'total_gain', 'max_depth': 8, 'gamma': 0.55, 'booster': 'dart'}\n",
      "\n",
      "  4%|▍         | 38/1000 [21:34<14:03:06, 52.58s/it, best loss: -0.648255813953]\u001b[A"
     ]
    },
    {
     "name": "stderr",
     "output_type": "stream",
     "text": [
      "Hyperopt:   4%|▍         | 39/1000 [21:34<11:55:28, 44.67s/it]"
     ]
    },
    {
     "name": "stdout",
     "output_type": "stream",
     "text": [
      "\n",
      "  4%|▍         | 39/1000 [21:34<11:55:28, 44.67s/it, best loss: -0.648255813953]\u001b[A\n",
      "\u001b[AParameters with this training accuracy 0.473174667205 and loss 1.77814166097 :\n",
      "\n",
      "  4%|▍         | 39/1000 [21:42<11:55:28, 44.67s/it, best loss: -0.648255813953]\u001b[A\n",
      "\u001b[AParameters with this testing accuracy 0.485465116279 and loss 1.77461973942 :\n",
      "\n",
      "  4%|▍         | 39/1000 [21:42<11:55:28, 44.67s/it, best loss: -0.648255813953]\u001b[A\n",
      "\u001b[A{'colsample_bytree': 0.7000000000000001, 'learning_rate': 0.05, 'min_child_weight': 3.0, 'n_estimators': 238, 'subsample': 0.6000000000000001, 'importance_type': 'cover', 'max_depth': 4, 'gamma': 0.65, 'booster': 'gblinear'}\n",
      "\n",
      "  4%|▍         | 39/1000 [21:42<11:55:28, 44.67s/it, best loss: -0.648255813953]\u001b[A"
     ]
    },
    {
     "name": "stderr",
     "output_type": "stream",
     "text": [
      "Hyperopt:   4%|▍         | 40/1000 [21:43<9:00:34, 33.79s/it] "
     ]
    },
    {
     "name": "stdout",
     "output_type": "stream",
     "text": [
      "\n",
      "  4%|▍         | 40/1000 [21:42<9:00:32, 33.78s/it, best loss: -0.648255813953] \u001b[A\n",
      "\u001b[AParameters with this training accuracy 0.993545784591 and loss 0.112333469389 :\n",
      "\n",
      "  4%|▍         | 40/1000 [23:29<9:00:32, 33.78s/it, best loss: -0.648255813953]\u001b[A\n",
      "\u001b[AParameters with this testing accuracy 0.616279069767 and loss 1.1915993066 :\n",
      "\n",
      "  4%|▍         | 40/1000 [23:29<9:00:32, 33.78s/it, best loss: -0.648255813953]\u001b[A\n",
      "\u001b[A{'colsample_bytree': 0.8500000000000001, 'learning_rate': 0.125, 'min_child_weight': 1.0, 'n_estimators': 466, 'subsample': 0.9, 'importance_type': 'total_gain', 'max_depth': 7, 'gamma': 0.8500000000000001, 'booster': 'dart'}\n",
      "\n",
      "  4%|▍         | 40/1000 [23:29<9:00:32, 33.78s/it, best loss: -0.648255813953]\u001b[A"
     ]
    },
    {
     "name": "stderr",
     "output_type": "stream",
     "text": [
      "Hyperopt:   4%|▍         | 41/1000 [23:29<14:49:28, 55.65s/it]"
     ]
    },
    {
     "name": "stdout",
     "output_type": "stream",
     "text": [
      "\n",
      "  4%|▍         | 41/1000 [23:29<14:49:30, 55.65s/it, best loss: -0.648255813953]\u001b[A\n",
      "\u001b[AParameters with this training accuracy 0.846308995563 and loss 0.583536502788 :\n",
      "\n",
      "  4%|▍         | 41/1000 [23:38<14:49:30, 55.65s/it, best loss: -0.648255813953]\u001b[A\n",
      "\u001b[AParameters with this testing accuracy 0.625 and loss 1.15493063038 :\n",
      "\n",
      "  4%|▍         | 41/1000 [23:38<14:49:30, 55.65s/it, best loss: -0.648255813953]\u001b[A\n",
      "\u001b[A{'colsample_bytree': 1.0, 'learning_rate': 0.1, 'min_child_weight': 4.0, 'n_estimators': 56, 'subsample': 0.55, 'importance_type': 'total_cover', 'max_depth': 4, 'gamma': 0.8, 'booster': 'dart'}\n",
      "\n",
      "  4%|▍         | 41/1000 [23:38<14:49:30, 55.65s/it, best loss: -0.648255813953]\u001b[A"
     ]
    },
    {
     "name": "stderr",
     "output_type": "stream",
     "text": [
      "Hyperopt:   4%|▍         | 42/1000 [23:38<11:04:14, 41.60s/it]"
     ]
    },
    {
     "name": "stdout",
     "output_type": "stream",
     "text": [
      "\n",
      "  4%|▍         | 42/1000 [23:38<11:04:12, 41.60s/it, best loss: -0.648255813953]\u001b[A\n",
      "\u001b[AParameters with this training accuracy 0.474384832594 and loss 1.76730168932 :\n",
      "\n",
      "  4%|▍         | 42/1000 [23:51<11:04:12, 41.60s/it, best loss: -0.648255813953]\u001b[A\n",
      "\u001b[AParameters with this testing accuracy 0.488372093023 and loss 1.75882425421 :\n",
      "\n",
      "  4%|▍         | 42/1000 [23:51<11:04:12, 41.60s/it, best loss: -0.648255813953]\u001b[A\n",
      "\u001b[A{'colsample_bytree': 0.9, 'learning_rate': 0.17500000000000002, 'min_child_weight': 2.0, 'n_estimators': 415, 'subsample': 0.7000000000000001, 'importance_type': 'gain', 'max_depth': 9, 'gamma': 0.75, 'booster': 'gblinear'}\n",
      "\n",
      "  4%|▍         | 42/1000 [23:51<11:04:12, 41.60s/it, best loss: -0.648255813953]\u001b[A"
     ]
    },
    {
     "name": "stderr",
     "output_type": "stream",
     "text": [
      "Hyperopt:   4%|▍         | 43/1000 [23:51<8:48:22, 33.13s/it] "
     ]
    },
    {
     "name": "stdout",
     "output_type": "stream",
     "text": [
      "\n",
      "  4%|▍         | 43/1000 [23:51<8:48:20, 33.12s/it, best loss: -0.648255813953] \u001b[A\n",
      "\u001b[AParameters with this training accuracy 0.985478015329 and loss 0.151533154196 :\n",
      "\n",
      "  4%|▍         | 43/1000 [24:07<8:48:20, 33.12s/it, best loss: -0.648255813953]\u001b[A\n",
      "\u001b[AParameters with this testing accuracy 0.642441860465 and loss 1.21628088639 :\n",
      "\n",
      "  4%|▍         | 43/1000 [24:07<8:48:20, 33.12s/it, best loss: -0.648255813953]\u001b[A\n",
      "\u001b[A{'colsample_bytree': 0.8, 'learning_rate': 0.375, 'min_child_weight': 6.0, 'n_estimators': 109, 'subsample': 1.0, 'importance_type': 'total_gain', 'max_depth': 7, 'gamma': 0.8500000000000001, 'booster': 'dart'}\n",
      "\n",
      "  4%|▍         | 43/1000 [24:07<8:48:20, 33.12s/it, best loss: -0.648255813953]\u001b[A"
     ]
    },
    {
     "name": "stderr",
     "output_type": "stream",
     "text": [
      "Hyperopt:   4%|▍         | 44/1000 [24:08<7:27:23, 28.08s/it]"
     ]
    },
    {
     "name": "stdout",
     "output_type": "stream",
     "text": [
      "\n",
      "  4%|▍         | 44/1000 [24:07<7:27:22, 28.08s/it, best loss: -0.648255813953]\u001b[A\n",
      "\u001b[AParameters with this training accuracy 0.941105284389 and loss 0.300043089569 :\n",
      "\n",
      "  4%|▍         | 44/1000 [24:47<7:27:22, 28.08s/it, best loss: -0.648255813953]\u001b[A\n",
      "\u001b[AParameters with this testing accuracy 0.630813953488 and loss 1.12591957788 :\n",
      "\n",
      "  4%|▍         | 44/1000 [24:47<7:27:22, 28.08s/it, best loss: -0.648255813953]\u001b[A\n",
      "\u001b[A{'colsample_bytree': 0.9500000000000001, 'learning_rate': 0.05, 'min_child_weight': 4.0, 'n_estimators': 239, 'subsample': 0.6000000000000001, 'importance_type': 'cover', 'max_depth': 4, 'gamma': 0.65, 'booster': 'dart'}\n",
      "\n",
      "  4%|▍         | 44/1000 [24:47<7:27:22, 28.08s/it, best loss: -0.648255813953]\u001b[A"
     ]
    },
    {
     "name": "stderr",
     "output_type": "stream",
     "text": [
      "Hyperopt:   4%|▍         | 45/1000 [24:48<8:24:19, 31.69s/it]"
     ]
    },
    {
     "name": "stdout",
     "output_type": "stream",
     "text": [
      "\n",
      "  4%|▍         | 45/1000 [24:47<8:24:20, 31.69s/it, best loss: -0.648255813953]\u001b[A\n",
      "\u001b[AParameters with this training accuracy 0.893102057281 and loss 0.476700577011 :\n",
      "\n",
      "  4%|▍         | 45/1000 [24:58<8:24:20, 31.69s/it, best loss: -0.648255813953]\u001b[A\n",
      "\u001b[AParameters with this testing accuracy 0.627906976744 and loss 1.14120657319 :\n",
      "\n",
      "  4%|▍         | 45/1000 [24:58<8:24:20, 31.69s/it, best loss: -0.648255813953]\u001b[A\n",
      "\u001b[A{'colsample_bytree': 0.65, 'learning_rate': 0.07500000000000001, 'min_child_weight': 3.0, 'n_estimators': 71, 'subsample': 0.55, 'importance_type': 'gain', 'max_depth': 6, 'gamma': 0.6000000000000001, 'booster': 'dart'}\n",
      "\n",
      "  4%|▍         | 45/1000 [24:58<8:24:20, 31.69s/it, best loss: -0.648255813953]\u001b[A"
     ]
    },
    {
     "name": "stderr",
     "output_type": "stream",
     "text": [
      "Hyperopt:   5%|▍         | 46/1000 [24:58<6:41:34, 25.26s/it]"
     ]
    },
    {
     "name": "stdout",
     "output_type": "stream",
     "text": [
      "\n",
      "  5%|▍         | 46/1000 [24:58<6:41:33, 25.26s/it, best loss: -0.648255813953]\u001b[A\n",
      "\u001b[AParameters with this training accuracy 0.475594997983 and loss 1.78349869869 :\n",
      "\n",
      "  5%|▍         | 46/1000 [25:10<6:41:33, 25.26s/it, best loss: -0.648255813953]\u001b[A\n",
      "\u001b[AParameters with this testing accuracy 0.485465116279 and loss 1.78110548824 :\n",
      "\n",
      "  5%|▍         | 46/1000 [25:10<6:41:33, 25.26s/it, best loss: -0.648255813953]\u001b[A\n",
      "\u001b[A{'colsample_bytree': 1.0, 'learning_rate': 0.025, 'min_child_weight': 2.0, 'n_estimators': 360, 'subsample': 0.5, 'importance_type': 'weight', 'max_depth': 4, 'gamma': 0.7000000000000001, 'booster': 'gblinear'}\n",
      "\n",
      "  5%|▍         | 46/1000 [25:10<6:41:33, 25.26s/it, best loss: -0.648255813953]\u001b[A"
     ]
    },
    {
     "name": "stderr",
     "output_type": "stream",
     "text": [
      "Hyperopt:   5%|▍         | 47/1000 [25:10<5:37:56, 21.28s/it]"
     ]
    },
    {
     "name": "stdout",
     "output_type": "stream",
     "text": [
      "\n",
      "  5%|▍         | 47/1000 [25:10<5:37:55, 21.28s/it, best loss: -0.648255813953]\u001b[A\n",
      "\u001b[AParameters with this training accuracy 0.959661153691 and loss 0.234112683631 :\n",
      "\n",
      "  5%|▍         | 47/1000 [25:23<5:37:55, 21.28s/it, best loss: -0.648255813953]\u001b[A\n",
      "\u001b[AParameters with this testing accuracy 0.645348837209 and loss 1.17079573386 :\n",
      "\n",
      "  5%|▍         | 47/1000 [25:23<5:37:55, 21.28s/it, best loss: -0.648255813953]\u001b[A\n",
      "\u001b[A{'colsample_bytree': 0.5, 'learning_rate': 0.25, 'min_child_weight': 5.0, 'n_estimators': 182, 'subsample': 0.65, 'importance_type': 'total_gain', 'max_depth': 2, 'gamma': 0.75, 'booster': 'dart'}\n",
      "\n",
      "  5%|▍         | 47/1000 [25:23<5:37:55, 21.28s/it, best loss: -0.648255813953]\u001b[A"
     ]
    },
    {
     "name": "stderr",
     "output_type": "stream",
     "text": [
      "Hyperopt:   5%|▍         | 48/1000 [25:24<5:01:57, 19.03s/it]"
     ]
    },
    {
     "name": "stdout",
     "output_type": "stream",
     "text": [
      "\n",
      "  5%|▍         | 48/1000 [25:23<5:01:58, 19.03s/it, best loss: -0.648255813953]\u001b[A\n",
      "\u001b[AParameters with this training accuracy 0.987898346107 and loss 0.134415200057 :\n",
      "\n",
      "  5%|▍         | 48/1000 [25:44<5:01:58, 19.03s/it, best loss: -0.648255813953]\u001b[A\n",
      "\u001b[AParameters with this testing accuracy 0.627906976744 and loss 1.33059620227 :\n",
      "\n",
      "  5%|▍         | 48/1000 [25:44<5:01:58, 19.03s/it, best loss: -0.648255813953]\u001b[A\n",
      "\u001b[A{'colsample_bytree': 0.5, 'learning_rate': 0.45, 'min_child_weight': 5.0, 'n_estimators': 256, 'subsample': 0.65, 'importance_type': 'total_cover', 'max_depth': 2, 'gamma': 0.75, 'booster': 'dart'}\n",
      "\n",
      "  5%|▍         | 48/1000 [25:44<5:01:58, 19.03s/it, best loss: -0.648255813953]\u001b[A"
     ]
    },
    {
     "name": "stderr",
     "output_type": "stream",
     "text": [
      "Hyperopt:   5%|▍         | 49/1000 [25:44<5:07:53, 19.43s/it]"
     ]
    },
    {
     "name": "stdout",
     "output_type": "stream",
     "text": [
      "\n",
      "  5%|▍         | 49/1000 [25:44<5:07:53, 19.43s/it, best loss: -0.648255813953]\u001b[A\n",
      "\u001b[AParameters with this training accuracy 0.474384832594 and loss 1.76728663016 :\n",
      "\n",
      "  5%|▍         | 49/1000 [25:53<5:07:53, 19.43s/it, best loss: -0.648255813953]\u001b[A\n",
      "\u001b[AParameters with this testing accuracy 0.488372093023 and loss 1.75879749327 :\n",
      "\n",
      "  5%|▍         | 49/1000 [25:53<5:07:53, 19.43s/it, best loss: -0.648255813953]\u001b[A\n",
      "\u001b[A{'colsample_bytree': 0.8500000000000001, 'learning_rate': 0.275, 'min_child_weight': 2.0, 'n_estimators': 271, 'subsample': 0.9500000000000001, 'importance_type': 'weight', 'max_depth': 7, 'gamma': 1.0, 'booster': 'gblinear'}\n",
      "\n",
      "  5%|▍         | 49/1000 [25:53<5:07:53, 19.43s/it, best loss: -0.648255813953]\u001b[A"
     ]
    },
    {
     "name": "stderr",
     "output_type": "stream",
     "text": [
      "Hyperopt:   5%|▌         | 50/1000 [25:53<4:18:31, 16.33s/it]"
     ]
    },
    {
     "name": "stdout",
     "output_type": "stream",
     "text": [
      "\n",
      "  5%|▌         | 50/1000 [25:53<4:18:30, 16.33s/it, best loss: -0.648255813953]\u001b[A\n",
      "\u001b[AParameters with this training accuracy 0.987494957644 and loss 0.119141509276 :\n",
      "\n",
      "  5%|▌         | 50/1000 [26:07<4:18:30, 16.33s/it, best loss: -0.648255813953]\u001b[A\n",
      "\u001b[AParameters with this testing accuracy 0.642441860465 and loss 1.30573388097 :\n",
      "\n",
      "  5%|▌         | 50/1000 [26:07<4:18:30, 16.33s/it, best loss: -0.648255813953]\u001b[A\n",
      "\u001b[A{'colsample_bytree': 0.6000000000000001, 'learning_rate': 0.35000000000000003, 'min_child_weight': 5.0, 'n_estimators': 269, 'subsample': 0.7000000000000001, 'importance_type': 'total_gain', 'max_depth': 2, 'gamma': 0.5, 'booster': 'gbtree'}\n",
      "\n",
      "  5%|▌         | 50/1000 [26:07<4:18:30, 16.33s/it, best loss: -0.648255813953]\u001b[A"
     ]
    },
    {
     "name": "stderr",
     "output_type": "stream",
     "text": [
      "Hyperopt:   5%|▌         | 51/1000 [26:07<4:06:45, 15.60s/it]"
     ]
    },
    {
     "name": "stdout",
     "output_type": "stream",
     "text": [
      "\n",
      "  5%|▌         | 51/1000 [26:07<4:06:47, 15.60s/it, best loss: -0.648255813953]\u001b[A\n",
      "\u001b[AParameters with this training accuracy 0.901573215006 and loss 0.397537630198 :\n",
      "\n",
      "  5%|▌         | 51/1000 [26:13<4:06:47, 15.60s/it, best loss: -0.648255813953]\u001b[A\n",
      "\u001b[AParameters with this testing accuracy 0.639534883721 and loss 1.13328387229 :\n",
      "\n",
      "  5%|▌         | 51/1000 [26:13<4:06:47, 15.60s/it, best loss: -0.648255813953]\u001b[A\n",
      "\u001b[A{'colsample_bytree': 0.55, 'learning_rate': 0.25, 'min_child_weight': 5.0, 'n_estimators': 85, 'subsample': 0.65, 'importance_type': 'gain', 'max_depth': 2, 'gamma': 0.55, 'booster': 'dart'}\n",
      "\n",
      "  5%|▌         | 51/1000 [26:13<4:06:47, 15.60s/it, best loss: -0.648255813953]\u001b[A"
     ]
    },
    {
     "name": "stderr",
     "output_type": "stream",
     "text": [
      "Hyperopt:   5%|▌         | 52/1000 [26:13<3:21:14, 12.74s/it]"
     ]
    },
    {
     "name": "stdout",
     "output_type": "stream",
     "text": [
      "\n",
      "  5%|▌         | 52/1000 [26:13<3:21:14, 12.74s/it, best loss: -0.648255813953]\u001b[A\n",
      "\u001b[AParameters with this training accuracy 0.940298507463 and loss 0.290862217386 :\n",
      "\n",
      "  5%|▌         | 52/1000 [26:20<3:21:14, 12.74s/it, best loss: -0.648255813953]\u001b[A\n",
      "\u001b[AParameters with this testing accuracy 0.616279069767 and loss 1.29561422579 :\n",
      "\n",
      "  5%|▌         | 52/1000 [26:20<3:21:14, 12.74s/it, best loss: -0.648255813953]\u001b[A\n",
      "\u001b[A{'colsample_bytree': 0.5, 'learning_rate': 0.4, 'min_child_weight': 6.0, 'n_estimators': 107, 'subsample': 0.55, 'importance_type': 'cover', 'max_depth': 2, 'gamma': 0.6000000000000001, 'booster': 'dart'}\n",
      "\n",
      "  5%|▌         | 52/1000 [26:20<3:21:14, 12.74s/it, best loss: -0.648255813953]\u001b[A"
     ]
    },
    {
     "name": "stderr",
     "output_type": "stream",
     "text": [
      "Hyperopt:   5%|▌         | 53/1000 [26:21<2:56:18, 11.17s/it]"
     ]
    },
    {
     "name": "stdout",
     "output_type": "stream",
     "text": [
      "\n",
      "  5%|▌         | 53/1000 [26:20<2:56:17, 11.17s/it, best loss: -0.648255813953]\u001b[A\n",
      "\u001b[AParameters with this training accuracy 0.986688180718 and loss 0.142588735992 :\n",
      "\n",
      "  5%|▌         | 53/1000 [26:55<2:56:17, 11.17s/it, best loss: -0.648255813953]\u001b[A\n",
      "\u001b[AParameters with this testing accuracy 0.630813953488 and loss 1.1994630282 :\n",
      "\n",
      "  5%|▌         | 53/1000 [26:55<2:56:17, 11.17s/it, best loss: -0.648255813953]\u001b[A\n",
      "\u001b[A{'colsample_bytree': 0.75, 'learning_rate': 0.325, 'min_child_weight': 3.0, 'n_estimators': 482, 'subsample': 0.9500000000000001, 'importance_type': 'total_gain', 'max_depth': 3, 'gamma': 0.9, 'booster': 'gbtree'}\n",
      "\n",
      "  5%|▌         | 53/1000 [26:55<2:56:17, 11.17s/it, best loss: -0.648255813953]\u001b[A"
     ]
    },
    {
     "name": "stderr",
     "output_type": "stream",
     "text": [
      "Hyperopt:   5%|▌         | 54/1000 [26:55<4:47:04, 18.21s/it]"
     ]
    },
    {
     "name": "stdout",
     "output_type": "stream",
     "text": [
      "\n",
      "  5%|▌         | 54/1000 [26:55<4:47:07, 18.21s/it, best loss: -0.648255813953]\u001b[A\n",
      "\u001b[AParameters with this training accuracy 0.473981444131 and loss 1.76970735908 :\n",
      "\n",
      "  5%|▌         | 54/1000 [26:59<4:47:07, 18.21s/it, best loss: -0.648255813953]\u001b[A\n",
      "\u001b[AParameters with this testing accuracy 0.485465116279 and loss 1.76283161879 :\n",
      "\n",
      "  5%|▌         | 54/1000 [26:59<4:47:07, 18.21s/it, best loss: -0.648255813953]\u001b[A\n",
      "\u001b[A{'colsample_bytree': 0.9, 'learning_rate': 0.225, 'min_child_weight': 3.0, 'n_estimators': 104, 'subsample': 0.8500000000000001, 'importance_type': 'weight', 'max_depth': 7, 'gamma': 0.8500000000000001, 'booster': 'gblinear'}\n",
      "\n",
      "  5%|▌         | 54/1000 [26:59<4:47:07, 18.21s/it, best loss: -0.648255813953]\u001b[A"
     ]
    },
    {
     "name": "stderr",
     "output_type": "stream",
     "text": [
      "Hyperopt:   6%|▌         | 55/1000 [26:59<3:39:31, 13.94s/it]"
     ]
    },
    {
     "name": "stdout",
     "output_type": "stream",
     "text": [
      "\n",
      "  6%|▌         | 55/1000 [26:59<3:39:30, 13.94s/it, best loss: -0.648255813953]\u001b[A\n",
      "\u001b[AParameters with this training accuracy 0.722468737394 and loss 0.923688409241 :\n",
      "\n",
      "  6%|▌         | 55/1000 [27:02<3:39:30, 13.94s/it, best loss: -0.648255813953]\u001b[A\n",
      "\u001b[AParameters with this testing accuracy 0.610465116279 and loss 1.2071771367 :\n",
      "\n",
      "  6%|▌         | 55/1000 [27:02<3:39:30, 13.94s/it, best loss: -0.648255813953]\u001b[A\n",
      "\u001b[A{'colsample_bytree': 0.8500000000000001, 'learning_rate': 0.2, 'min_child_weight': 2.0, 'n_estimators': 40, 'subsample': 0.8, 'importance_type': 'total_cover', 'max_depth': 1, 'gamma': 0.8, 'booster': 'dart'}\n",
      "\n",
      "  6%|▌         | 55/1000 [27:02<3:39:30, 13.94s/it, best loss: -0.648255813953]\u001b[A"
     ]
    },
    {
     "name": "stderr",
     "output_type": "stream",
     "text": [
      "Hyperopt:   6%|▌         | 56/1000 [27:02<2:45:36, 10.53s/it]"
     ]
    },
    {
     "name": "stdout",
     "output_type": "stream",
     "text": [
      "\n",
      "  6%|▌         | 56/1000 [27:02<2:45:35, 10.52s/it, best loss: -0.648255813953]\u001b[A\n",
      "\u001b[AParameters with this training accuracy 0.995159338443 and loss 0.0937707037931 :\n",
      "\n",
      "  6%|▌         | 56/1000 [27:59<2:45:35, 10.52s/it, best loss: -0.648255813953]\u001b[A\n",
      "\u001b[AParameters with this testing accuracy 0.625 and loss 1.17088613232 :\n",
      "\n",
      "  6%|▌         | 56/1000 [27:59<2:45:35, 10.52s/it, best loss: -0.648255813953]\u001b[A\n",
      "\u001b[A{'colsample_bytree': 0.7000000000000001, 'learning_rate': 0.15000000000000002, 'min_child_weight': 1.0, 'n_estimators': 290, 'subsample': 0.75, 'importance_type': 'gain', 'max_depth': 8, 'gamma': 0.7000000000000001, 'booster': 'dart'}\n",
      "\n",
      "  6%|▌         | 56/1000 [27:59<2:45:35, 10.52s/it, best loss: -0.648255813953]\u001b[A"
     ]
    },
    {
     "name": "stderr",
     "output_type": "stream",
     "text": [
      "Hyperopt:   6%|▌         | 57/1000 [28:00<6:27:25, 24.65s/it]"
     ]
    },
    {
     "name": "stdout",
     "output_type": "stream",
     "text": [
      "\n",
      "  6%|▌         | 57/1000 [27:59<6:27:27, 24.65s/it, best loss: -0.648255813953]\u001b[A\n",
      "\u001b[AParameters with this training accuracy 0.988705123033 and loss 0.147431967026 :\n",
      "\n",
      "  6%|▌         | 57/1000 [28:35<6:27:27, 24.65s/it, best loss: -0.648255813953]\u001b[A\n",
      "\u001b[AParameters with this testing accuracy 0.633720930233 and loss 1.17200030662 :\n",
      "\n",
      "  6%|▌         | 57/1000 [28:35<6:27:27, 24.65s/it, best loss: -0.648255813953]\u001b[A\n",
      "\u001b[A{'colsample_bytree': 0.9, 'learning_rate': 0.225, 'min_child_weight': 6.0, 'n_estimators': 246, 'subsample': 0.9, 'importance_type': 'total_gain', 'max_depth': 9, 'gamma': 0.9500000000000001, 'booster': 'gbtree'}\n",
      "\n",
      "  6%|▌         | 57/1000 [28:35<6:27:27, 24.65s/it, best loss: -0.648255813953]\u001b[A"
     ]
    },
    {
     "name": "stderr",
     "output_type": "stream",
     "text": [
      "Hyperopt:   6%|▌         | 58/1000 [28:36<7:20:30, 28.06s/it]"
     ]
    },
    {
     "name": "stdout",
     "output_type": "stream",
     "text": [
      "\n",
      "  6%|▌         | 58/1000 [28:35<7:20:30, 28.06s/it, best loss: -0.648255813953]\u001b[A\n",
      "\u001b[AParameters with this training accuracy 0.98830173457 and loss 0.135765419253 :\n",
      "\n",
      "  6%|▌         | 58/1000 [28:54<7:20:30, 28.06s/it, best loss: -0.648255813953]\u001b[A\n",
      "\u001b[AParameters with this testing accuracy 0.642441860465 and loss 1.17897522499 :\n",
      "\n",
      "  6%|▌         | 58/1000 [28:54<7:20:30, 28.06s/it, best loss: -0.648255813953]\u001b[A\n",
      "\u001b[A{'colsample_bytree': 0.75, 'learning_rate': 0.2, 'min_child_weight': 3.0, 'n_estimators': 119, 'subsample': 0.75, 'importance_type': 'gain', 'max_depth': 7, 'gamma': 0.9, 'booster': 'dart'}\n",
      "\n",
      "  6%|▌         | 58/1000 [28:54<7:20:30, 28.06s/it, best loss: -0.648255813953]\u001b[A"
     ]
    },
    {
     "name": "stderr",
     "output_type": "stream",
     "text": [
      "Hyperopt:   6%|▌         | 59/1000 [28:55<6:38:42, 25.42s/it]"
     ]
    },
    {
     "name": "stdout",
     "output_type": "stream",
     "text": [
      "\n",
      "  6%|▌         | 59/1000 [28:54<6:38:41, 25.42s/it, best loss: -0.648255813953]\u001b[A\n",
      "\u001b[AParameters with this training accuracy 0.935457845906 and loss 0.355028007492 :\n",
      "\n",
      "  6%|▌         | 59/1000 [29:06<6:38:41, 25.42s/it, best loss: -0.648255813953]\u001b[A\n",
      "\u001b[AParameters with this testing accuracy 0.633720930233 and loss 1.14338697897 :\n",
      "\n",
      "  6%|▌         | 59/1000 [29:06<6:38:41, 25.42s/it, best loss: -0.648255813953]\u001b[A\n",
      "\u001b[A{'colsample_bytree': 0.8, 'learning_rate': 0.07500000000000001, 'min_child_weight': 2.0, 'n_estimators': 65, 'subsample': 0.8500000000000001, 'importance_type': 'weight', 'max_depth': 6, 'gamma': 1.0, 'booster': 'dart'}\n",
      "\n",
      "  6%|▌         | 59/1000 [29:06<6:38:41, 25.42s/it, best loss: -0.648255813953]\u001b[A"
     ]
    },
    {
     "name": "stderr",
     "output_type": "stream",
     "text": [
      "Hyperopt:   6%|▌         | 60/1000 [29:06<5:33:04, 21.26s/it]"
     ]
    },
    {
     "name": "stdout",
     "output_type": "stream",
     "text": [
      "\n",
      "  6%|▌         | 60/1000 [29:06<5:33:03, 21.26s/it, best loss: -0.648255813953]\u001b[A\n",
      "\u001b[AParameters with this training accuracy 0.473981444131 and loss 1.77532732731 :\n",
      "\n",
      "  6%|▌         | 60/1000 [29:08<5:33:03, 21.26s/it, best loss: -0.648255813953]\u001b[A\n",
      "\u001b[AParameters with this testing accuracy 0.485465116279 and loss 1.77082250551 :\n",
      "\n",
      "  6%|▌         | 60/1000 [29:08<5:33:03, 21.26s/it, best loss: -0.648255813953]\u001b[A\n",
      "\u001b[A{'colsample_bytree': 0.8, 'learning_rate': 0.325, 'min_child_weight': 4.0, 'n_estimators': 34, 'subsample': 0.8, 'importance_type': 'total_cover', 'max_depth': 3, 'gamma': 0.8, 'booster': 'gblinear'}\n",
      "\n",
      "  6%|▌         | 60/1000 [29:08<5:33:03, 21.26s/it, best loss: -0.648255813953]\u001b[A"
     ]
    },
    {
     "name": "stderr",
     "output_type": "stream",
     "text": [
      "Hyperopt:   6%|▌         | 61/1000 [29:08<4:01:47, 15.45s/it]"
     ]
    },
    {
     "name": "stdout",
     "output_type": "stream",
     "text": [
      "\n",
      "  6%|▌         | 61/1000 [29:08<4:01:46, 15.45s/it, best loss: -0.648255813953]\u001b[A\n",
      "\u001b[AParameters with this training accuracy 0.962888261396 and loss 0.230335669495 :\n",
      "\n",
      "  6%|▌         | 61/1000 [29:27<4:01:46, 15.45s/it, best loss: -0.648255813953]\u001b[A\n",
      "\u001b[AParameters with this testing accuracy 0.642441860465 and loss 1.14114582351 :\n",
      "\n",
      "  6%|▌         | 61/1000 [29:27<4:01:46, 15.45s/it, best loss: -0.648255813953]\u001b[A\n",
      "\u001b[A{'colsample_bytree': 0.9500000000000001, 'learning_rate': 0.1, 'min_child_weight': 4.0, 'n_estimators': 162, 'subsample': 0.6000000000000001, 'importance_type': 'total_gain', 'max_depth': 4, 'gamma': 0.65, 'booster': 'gbtree'}\n",
      "\n",
      "  6%|▌         | 61/1000 [29:27<4:01:46, 15.45s/it, best loss: -0.648255813953]\u001b[A"
     ]
    },
    {
     "name": "stderr",
     "output_type": "stream",
     "text": [
      "Hyperopt:   6%|▌         | 62/1000 [29:27<4:18:46, 16.55s/it]"
     ]
    },
    {
     "name": "stdout",
     "output_type": "stream",
     "text": [
      "\n",
      "  6%|▌         | 62/1000 [29:27<4:18:46, 16.55s/it, best loss: -0.648255813953]\u001b[A\n",
      "\u001b[AParameters with this training accuracy 0.992335619201 and loss 0.099066683735 :\n",
      "\n",
      "  6%|▌         | 62/1000 [30:14<4:18:46, 16.55s/it, best loss: -0.648255813953]\u001b[A\n",
      "\u001b[AParameters with this testing accuracy 0.625 and loss 1.20827469003 :\n",
      "\n",
      "  6%|▌         | 62/1000 [30:14<4:18:46, 16.55s/it, best loss: -0.648255813953]\u001b[A\n",
      "\u001b[A{'colsample_bytree': 0.8500000000000001, 'learning_rate': 0.17500000000000002, 'min_child_weight': 3.0, 'n_estimators': 257, 'subsample': 1.0, 'importance_type': 'gain', 'max_depth': 7, 'gamma': 0.55, 'booster': 'dart'}\n",
      "\n",
      "  6%|▌         | 62/1000 [30:14<4:18:46, 16.55s/it, best loss: -0.648255813953]\u001b[A"
     ]
    },
    {
     "name": "stderr",
     "output_type": "stream",
     "text": [
      "Hyperopt:   6%|▋         | 63/1000 [30:15<6:43:24, 25.83s/it]"
     ]
    },
    {
     "name": "stdout",
     "output_type": "stream",
     "text": [
      "\n",
      "  6%|▋         | 63/1000 [30:14<6:43:25, 25.83s/it, best loss: -0.648255813953]\u001b[A\n",
      "\u001b[AParameters with this training accuracy 0.993545784591 and loss 0.110205474988 :\n",
      "\n",
      "  6%|▋         | 63/1000 [30:46<6:43:25, 25.83s/it, best loss: -0.648255813953]\u001b[A\n",
      "\u001b[AParameters with this testing accuracy 0.630813953488 and loss 1.27033927487 :\n",
      "\n",
      "  6%|▋         | 63/1000 [30:46<6:43:25, 25.83s/it, best loss: -0.648255813953]\u001b[A\n",
      "\u001b[A{'colsample_bytree': 1.0, 'learning_rate': 0.275, 'min_child_weight': 2.0, 'n_estimators': 183, 'subsample': 0.7000000000000001, 'importance_type': 'cover', 'max_depth': 5, 'gamma': 0.8500000000000001, 'booster': 'dart'}\n",
      "\n",
      "  6%|▋         | 63/1000 [30:46<6:43:25, 25.83s/it, best loss: -0.648255813953]\u001b[A"
     ]
    },
    {
     "name": "stderr",
     "output_type": "stream",
     "text": [
      "Hyperopt:   6%|▋         | 64/1000 [30:47<7:10:18, 27.58s/it]"
     ]
    },
    {
     "name": "stdout",
     "output_type": "stream",
     "text": [
      "\n",
      "  6%|▋         | 64/1000 [30:46<7:10:18, 27.58s/it, best loss: -0.648255813953]\u001b[A\n",
      "\u001b[AParameters with this training accuracy 0.989915288423 and loss 0.128897380994 :\n",
      "\n",
      "  6%|▋         | 64/1000 [31:16<7:10:18, 27.58s/it, best loss: -0.648255813953]\u001b[A\n",
      "\u001b[AParameters with this testing accuracy 0.654069767442 and loss 1.13847723222 :\n",
      "\n",
      "  6%|▋         | 64/1000 [31:16<7:10:18, 27.58s/it, best loss: -0.648255813953]\u001b[A\n",
      "\u001b[A{'colsample_bytree': 0.65, 'learning_rate': 0.125, 'min_child_weight': 5.0, 'n_estimators': 271, 'subsample': 0.9500000000000001, 'importance_type': 'gain', 'max_depth': 7, 'gamma': 0.7000000000000001, 'booster': 'gbtree'}\n",
      "\n",
      "  6%|▋         | 64/1000 [31:16<7:10:18, 27.58s/it, best loss: -0.648255813953]\u001b[A"
     ]
    },
    {
     "name": "stderr",
     "output_type": "stream",
     "text": [
      "Hyperopt:   6%|▋         | 65/1000 [31:16<7:18:48, 28.16s/it]"
     ]
    },
    {
     "name": "stdout",
     "output_type": "stream",
     "text": [
      "\n",
      "  6%|▋         | 65/1000 [31:16<7:18:48, 28.16s/it, best loss: -0.654069767442]\u001b[A\n",
      "\u001b[AParameters with this training accuracy 0.803549818475 and loss 0.683660969176 :\n",
      "\n",
      "  6%|▋         | 65/1000 [31:20<7:18:48, 28.16s/it, best loss: -0.654069767442]\u001b[A\n",
      "\u001b[AParameters with this testing accuracy 0.625 and loss 1.14985618097 :\n",
      "\n",
      "  6%|▋         | 65/1000 [31:20<7:18:48, 28.16s/it, best loss: -0.654069767442]\u001b[A\n",
      "\u001b[A{'colsample_bytree': 0.6000000000000001, 'learning_rate': 0.125, 'min_child_weight': 5.0, 'n_estimators': 68, 'subsample': 0.65, 'importance_type': 'gain', 'max_depth': 2, 'gamma': 0.75, 'booster': 'gbtree'}\n",
      "\n",
      "  6%|▋         | 65/1000 [31:20<7:18:48, 28.16s/it, best loss: -0.654069767442]\u001b[A"
     ]
    },
    {
     "name": "stderr",
     "output_type": "stream",
     "text": [
      "Hyperopt:   7%|▋         | 66/1000 [31:20<5:27:25, 21.03s/it]"
     ]
    },
    {
     "name": "stdout",
     "output_type": "stream",
     "text": [
      "\n",
      "  7%|▋         | 66/1000 [31:20<5:27:24, 21.03s/it, best loss: -0.654069767442]\u001b[A\n",
      "\u001b[AParameters with this training accuracy 0.930213795885 and loss 0.320359439429 :\n",
      "\n",
      "  7%|▋         | 66/1000 [31:43<5:27:24, 21.03s/it, best loss: -0.654069767442]\u001b[A\n",
      "\u001b[AParameters with this testing accuracy 0.630813953488 and loss 1.1390502908 :\n",
      "\n",
      "  7%|▋         | 66/1000 [31:43<5:27:24, 21.03s/it, best loss: -0.654069767442]\u001b[A\n",
      "\u001b[A{'colsample_bytree': 0.65, 'learning_rate': 0.05, 'min_child_weight': 4.0, 'n_estimators': 271, 'subsample': 0.5, 'importance_type': 'gain', 'max_depth': 4, 'gamma': 0.7000000000000001, 'booster': 'gbtree'}\n",
      "\n",
      "  7%|▋         | 66/1000 [31:43<5:27:24, 21.03s/it, best loss: -0.654069767442]\u001b[A"
     ]
    },
    {
     "name": "stderr",
     "output_type": "stream",
     "text": [
      "Hyperopt:   7%|▋         | 67/1000 [31:44<5:37:22, 21.70s/it]"
     ]
    },
    {
     "name": "stdout",
     "output_type": "stream",
     "text": [
      "\n",
      "  7%|▋         | 67/1000 [31:43<5:37:23, 21.70s/it, best loss: -0.654069767442]\u001b[A\n",
      "\u001b[AParameters with this training accuracy 0.989915288423 and loss 0.129367165194 :\n",
      "\n",
      "  7%|▋         | 67/1000 [32:34<5:37:23, 21.70s/it, best loss: -0.654069767442]\u001b[A\n",
      "\u001b[AParameters with this testing accuracy 0.636627906977 and loss 1.18335428633 :\n",
      "\n",
      "  7%|▋         | 67/1000 [32:34<5:37:23, 21.70s/it, best loss: -0.654069767442]\u001b[A\n",
      "\u001b[A{'colsample_bytree': 0.65, 'learning_rate': 0.125, 'min_child_weight': 6.0, 'n_estimators': 498, 'subsample': 1.0, 'importance_type': 'gain', 'max_depth': 7, 'gamma': 0.65, 'booster': 'gbtree'}\n",
      "\n",
      "  7%|▋         | 67/1000 [32:34<5:37:23, 21.70s/it, best loss: -0.654069767442]\u001b[A"
     ]
    },
    {
     "name": "stderr",
     "output_type": "stream",
     "text": [
      "Hyperopt:   7%|▋         | 68/1000 [32:34<7:50:59, 30.32s/it]"
     ]
    },
    {
     "name": "stdout",
     "output_type": "stream",
     "text": [
      "\n",
      "  7%|▋         | 68/1000 [32:34<7:51:01, 30.32s/it, best loss: -0.654069767442]\u001b[A\n",
      "\u001b[AParameters with this training accuracy 0.964098426785 and loss 0.242332824608 :\n",
      "\n",
      "  7%|▋         | 68/1000 [32:43<7:51:01, 30.32s/it, best loss: -0.654069767442]\u001b[A\n",
      "\u001b[AParameters with this testing accuracy 0.622093023256 and loss 1.15116946862 :\n",
      "\n",
      "  7%|▋         | 68/1000 [32:43<7:51:01, 30.32s/it, best loss: -0.654069767442]\u001b[A\n",
      "\u001b[A{'colsample_bytree': 0.7000000000000001, 'learning_rate': 0.15000000000000002, 'min_child_weight': 6.0, 'n_estimators': 66, 'subsample': 0.9500000000000001, 'importance_type': 'gain', 'max_depth': 7, 'gamma': 0.7000000000000001, 'booster': 'gbtree'}\n",
      "\n",
      "  7%|▋         | 68/1000 [32:43<7:51:01, 30.32s/it, best loss: -0.654069767442]\u001b[A"
     ]
    },
    {
     "name": "stderr",
     "output_type": "stream",
     "text": [
      "Hyperopt:   7%|▋         | 69/1000 [32:43<6:11:29, 23.94s/it]"
     ]
    },
    {
     "name": "stdout",
     "output_type": "stream",
     "text": [
      "\n",
      "  7%|▋         | 69/1000 [32:43<6:11:28, 23.94s/it, best loss: -0.654069767442]\u001b[A\n",
      "\u001b[AParameters with this training accuracy 0.991932230738 and loss 0.106666157429 :\n",
      "\n",
      "  7%|▋         | 69/1000 [33:27<6:11:28, 23.94s/it, best loss: -0.654069767442]\u001b[A\n",
      "\u001b[AParameters with this testing accuracy 0.642441860465 and loss 1.20714075749 :\n",
      "\n",
      "  7%|▋         | 69/1000 [33:27<6:11:28, 23.94s/it, best loss: -0.654069767442]\u001b[A\n",
      "\u001b[A{'colsample_bytree': 0.7000000000000001, 'learning_rate': 0.2, 'min_child_weight': 6.0, 'n_estimators': 472, 'subsample': 0.9, 'importance_type': 'gain', 'max_depth': 7, 'gamma': 0.6000000000000001, 'booster': 'gbtree'}\n",
      "\n",
      "  7%|▋         | 69/1000 [33:28<6:11:28, 23.94s/it, best loss: -0.654069767442]\u001b[A"
     ]
    },
    {
     "name": "stderr",
     "output_type": "stream",
     "text": [
      "Hyperopt:   7%|▋         | 70/1000 [33:28<7:47:38, 30.17s/it]"
     ]
    },
    {
     "name": "stdout",
     "output_type": "stream",
     "text": [
      "\n",
      "  7%|▋         | 70/1000 [33:28<7:47:40, 30.17s/it, best loss: -0.654069767442]\u001b[A\n",
      "\u001b[AParameters with this training accuracy 0.890681726503 and loss 0.443206593601 :\n",
      "\n",
      "  7%|▋         | 70/1000 [33:42<7:47:40, 30.17s/it, best loss: -0.654069767442]\u001b[A\n",
      "\u001b[AParameters with this testing accuracy 0.633720930233 and loss 1.1471999566 :\n",
      "\n",
      "  7%|▋         | 70/1000 [33:42<7:47:40, 30.17s/it, best loss: -0.654069767442]\u001b[A\n",
      "\u001b[A{'colsample_bytree': 0.6000000000000001, 'learning_rate': 0.1, 'min_child_weight': 4.0, 'n_estimators': 409, 'subsample': 0.55, 'importance_type': 'gain', 'max_depth': 1, 'gamma': 0.8, 'booster': 'gbtree'}\n",
      "\n",
      "  7%|▋         | 70/1000 [33:42<7:47:40, 30.17s/it, best loss: -0.654069767442]\u001b[A"
     ]
    },
    {
     "name": "stderr",
     "output_type": "stream",
     "text": [
      "Hyperopt:   7%|▋         | 71/1000 [33:43<6:36:00, 25.58s/it]"
     ]
    },
    {
     "name": "stdout",
     "output_type": "stream",
     "text": [
      "\n",
      "  7%|▋         | 71/1000 [33:42<6:36:01, 25.58s/it, best loss: -0.654069767442]\u001b[A\n",
      "\u001b[AParameters with this training accuracy 0.98830173457 and loss 0.135609842692 :\n",
      "\n",
      "  7%|▋         | 71/1000 [34:22<6:36:01, 25.58s/it, best loss: -0.654069767442]\u001b[A\n",
      "\u001b[AParameters with this testing accuracy 0.636627906977 and loss 1.15229389184 :\n",
      "\n",
      "  7%|▋         | 71/1000 [34:22<6:36:01, 25.58s/it, best loss: -0.654069767442]\u001b[A\n",
      "\u001b[A{'colsample_bytree': 0.55, 'learning_rate': 0.07500000000000001, 'min_child_weight': 5.0, 'n_estimators': 432, 'subsample': 0.6000000000000001, 'importance_type': 'total_gain', 'max_depth': 8, 'gamma': 0.65, 'booster': 'gbtree'}\n",
      "\n",
      "  7%|▋         | 71/1000 [34:22<6:36:01, 25.58s/it, best loss: -0.654069767442]\u001b[A"
     ]
    },
    {
     "name": "stderr",
     "output_type": "stream",
     "text": [
      "Hyperopt:   7%|▋         | 72/1000 [34:23<7:41:45, 29.85s/it]"
     ]
    },
    {
     "name": "stdout",
     "output_type": "stream",
     "text": [
      "\n",
      "  7%|▋         | 72/1000 [34:22<7:41:45, 29.86s/it, best loss: -0.654069767442]\u001b[A\n",
      "\u001b[AParameters with this training accuracy 0.893102057281 and loss 0.503840002578 :\n",
      "\n",
      "  7%|▋         | 72/1000 [34:47<7:41:45, 29.86s/it, best loss: -0.654069767442]\u001b[A\n",
      "\u001b[AParameters with this testing accuracy 0.619186046512 and loss 1.13945733075 :\n",
      "\n",
      "  7%|▋         | 72/1000 [34:47<7:41:45, 29.86s/it, best loss: -0.654069767442]\u001b[A\n",
      "\u001b[A{'colsample_bytree': 0.6000000000000001, 'learning_rate': 0.025, 'min_child_weight': 4.0, 'n_estimators': 193, 'subsample': 0.6000000000000001, 'importance_type': 'gain', 'max_depth': 9, 'gamma': 0.8, 'booster': 'gbtree'}\n",
      "\n",
      "  7%|▋         | 72/1000 [34:47<7:41:45, 29.86s/it, best loss: -0.654069767442]\u001b[A"
     ]
    },
    {
     "name": "stderr",
     "output_type": "stream",
     "text": [
      "Hyperopt:   7%|▋         | 73/1000 [34:47<7:18:00, 28.35s/it]"
     ]
    },
    {
     "name": "stdout",
     "output_type": "stream",
     "text": [
      "\n",
      "  7%|▋         | 73/1000 [34:47<7:17:59, 28.35s/it, best loss: -0.654069767442]\u001b[A\n",
      "\u001b[AParameters with this training accuracy 0.955223880597 and loss 0.251313711032 :\n",
      "\n",
      "  7%|▋         | 73/1000 [34:56<7:17:59, 28.35s/it, best loss: -0.654069767442]\u001b[A\n",
      "\u001b[AParameters with this testing accuracy 0.633720930233 and loss 1.19043483602 :\n",
      "\n",
      "  7%|▋         | 73/1000 [34:56<7:17:59, 28.35s/it, best loss: -0.654069767442]\u001b[A\n",
      "\u001b[A{'colsample_bytree': 0.5, 'learning_rate': 0.225, 'min_child_weight': 5.0, 'n_estimators': 182, 'subsample': 0.65, 'importance_type': 'total_gain', 'max_depth': 2, 'gamma': 0.75, 'booster': 'gbtree'}\n",
      "\n",
      "  7%|▋         | 73/1000 [34:56<7:17:59, 28.35s/it, best loss: -0.654069767442]\u001b[A"
     ]
    },
    {
     "name": "stderr",
     "output_type": "stream",
     "text": [
      "Hyperopt:   7%|▋         | 74/1000 [34:56<5:46:44, 22.47s/it]"
     ]
    },
    {
     "name": "stdout",
     "output_type": "stream",
     "text": [
      "\n",
      "  7%|▋         | 74/1000 [34:56<5:46:43, 22.47s/it, best loss: -0.654069767442]\u001b[A\n",
      "\u001b[AParameters with this training accuracy 0.93344090359 and loss 0.34239358567 :\n",
      "\n",
      "  7%|▋         | 74/1000 [35:02<5:46:43, 22.47s/it, best loss: -0.654069767442]\u001b[A\n",
      "\u001b[AParameters with this testing accuracy 0.625 and loss 1.12948995119 :\n",
      "\n",
      "  7%|▋         | 74/1000 [35:02<5:46:43, 22.47s/it, best loss: -0.654069767442]\u001b[A\n",
      "\u001b[A{'colsample_bytree': 0.65, 'learning_rate': 0.17500000000000002, 'min_child_weight': 6.0, 'n_estimators': 42, 'subsample': 0.9, 'importance_type': 'gain', 'max_depth': 7, 'gamma': 0.7000000000000001, 'booster': 'dart'}\n",
      "\n",
      "  7%|▋         | 74/1000 [35:02<5:46:43, 22.47s/it, best loss: -0.654069767442]\u001b[A"
     ]
    },
    {
     "name": "stderr",
     "output_type": "stream",
     "text": [
      "Hyperopt:   8%|▊         | 75/1000 [35:02<4:30:53, 17.57s/it]"
     ]
    },
    {
     "name": "stdout",
     "output_type": "stream",
     "text": [
      "\n",
      "  8%|▊         | 75/1000 [35:02<4:30:51, 17.57s/it, best loss: -0.654069767442]\u001b[A\n",
      "\u001b[AParameters with this training accuracy 0.907624041952 and loss 0.38792939004 :\n",
      "\n",
      "  8%|▊         | 75/1000 [35:19<4:30:51, 17.57s/it, best loss: -0.654069767442]\u001b[A\n",
      "\u001b[AParameters with this testing accuracy 0.651162790698 and loss 1.11896459173 :\n",
      "\n",
      "  8%|▊         | 75/1000 [35:19<4:30:51, 17.57s/it, best loss: -0.654069767442]\u001b[A\n",
      "\u001b[A{'colsample_bytree': 0.7000000000000001, 'learning_rate': 0.07500000000000001, 'min_child_weight': 4.0, 'n_estimators': 133, 'subsample': 0.55, 'importance_type': 'cover', 'max_depth': 4, 'gamma': 0.65, 'booster': 'dart'}\n",
      "\n",
      "  8%|▊         | 75/1000 [35:19<4:30:51, 17.57s/it, best loss: -0.654069767442]\u001b[A"
     ]
    },
    {
     "name": "stderr",
     "output_type": "stream",
     "text": [
      "Hyperopt:   8%|▊         | 76/1000 [35:19<4:26:46, 17.32s/it]"
     ]
    },
    {
     "name": "stdout",
     "output_type": "stream",
     "text": [
      "\n",
      "  8%|▊         | 76/1000 [35:19<4:26:45, 17.32s/it, best loss: -0.654069767442]\u001b[A\n",
      "\u001b[AParameters with this training accuracy 0.474384832594 and loss 1.7672673811 :\n",
      "\n",
      "  8%|▊         | 76/1000 [35:26<4:26:45, 17.32s/it, best loss: -0.654069767442]\u001b[A\n",
      "\u001b[AParameters with this testing accuracy 0.488372093023 and loss 1.75876261014 :\n",
      "\n",
      "  8%|▊         | 76/1000 [35:26<4:26:45, 17.32s/it, best loss: -0.654069767442]\u001b[A\n",
      "\u001b[A{'colsample_bytree': 0.7000000000000001, 'learning_rate': 0.5, 'min_child_weight': 4.0, 'n_estimators': 201, 'subsample': 0.55, 'importance_type': 'cover', 'max_depth': 6, 'gamma': 0.6000000000000001, 'booster': 'gblinear'}\n",
      "\n",
      "  8%|▊         | 76/1000 [35:26<4:26:45, 17.32s/it, best loss: -0.654069767442]\u001b[A"
     ]
    },
    {
     "name": "stderr",
     "output_type": "stream",
     "text": [
      "Hyperopt:   8%|▊         | 77/1000 [35:26<3:38:45, 14.22s/it]"
     ]
    },
    {
     "name": "stdout",
     "output_type": "stream",
     "text": [
      "\n",
      "  8%|▊         | 77/1000 [35:26<3:38:43, 14.22s/it, best loss: -0.654069767442]\u001b[A\n",
      "\u001b[AParameters with this training accuracy 0.983461073013 and loss 0.157489553168 :\n",
      "\n",
      "  8%|▊         | 77/1000 [36:43<3:38:43, 14.22s/it, best loss: -0.654069767442]\u001b[A\n",
      "\u001b[AParameters with this testing accuracy 0.636627906977 and loss 1.20860300288 :\n",
      "\n",
      "  8%|▊         | 77/1000 [36:43<3:38:43, 14.22s/it, best loss: -0.654069767442]\u001b[A\n",
      "\u001b[A{'colsample_bytree': 0.75, 'learning_rate': 0.07500000000000001, 'min_child_weight': 5.0, 'n_estimators': 435, 'subsample': 0.5, 'importance_type': 'cover', 'max_depth': 5, 'gamma': 0.6000000000000001, 'booster': 'dart'}\n",
      "\n",
      "  8%|▊         | 77/1000 [36:43<3:38:43, 14.22s/it, best loss: -0.654069767442]\u001b[A"
     ]
    },
    {
     "name": "stderr",
     "output_type": "stream",
     "text": [
      "Hyperopt:   8%|▊         | 78/1000 [36:43<8:30:01, 33.19s/it]"
     ]
    },
    {
     "name": "stdout",
     "output_type": "stream",
     "text": [
      "\n",
      "  8%|▊         | 78/1000 [36:43<8:30:03, 33.19s/it, best loss: -0.654069767442]\u001b[A\n",
      "\u001b[AParameters with this training accuracy 0.929810407422 and loss 0.315524187166 :\n",
      "\n",
      "  8%|▊         | 78/1000 [37:06<8:30:03, 33.19s/it, best loss: -0.654069767442]\u001b[A\n",
      "\u001b[AParameters with this testing accuracy 0.630813953488 and loss 1.12245657476 :\n",
      "\n",
      "  8%|▊         | 78/1000 [37:06<8:30:03, 33.19s/it, best loss: -0.654069767442]\u001b[A\n",
      "\u001b[A{'colsample_bytree': 0.65, 'learning_rate': 0.05, 'min_child_weight': 3.0, 'n_estimators': 303, 'subsample': 0.5, 'importance_type': 'cover', 'max_depth': 3, 'gamma': 0.5, 'booster': 'gbtree'}\n",
      "\n",
      "  8%|▊         | 78/1000 [37:06<8:30:03, 33.19s/it, best loss: -0.654069767442]\u001b[A"
     ]
    },
    {
     "name": "stderr",
     "output_type": "stream",
     "text": [
      "Hyperopt:   8%|▊         | 79/1000 [37:06<7:41:15, 30.05s/it]"
     ]
    },
    {
     "name": "stdout",
     "output_type": "stream",
     "text": [
      "\n",
      "  8%|▊         | 79/1000 [37:06<7:41:16, 30.05s/it, best loss: -0.654069767442]\u001b[A\n",
      "\u001b[AParameters with this training accuracy 0.791851553046 and loss 0.780132067867 :\n",
      "\n",
      "  8%|▊         | 79/1000 [37:10<7:41:16, 30.05s/it, best loss: -0.654069767442]\u001b[A\n",
      "\u001b[AParameters with this testing accuracy 0.613372093023 and loss 1.21542103283 :\n",
      "\n",
      "  8%|▊         | 79/1000 [37:10<7:41:16, 30.05s/it, best loss: -0.654069767442]\u001b[A\n",
      "\u001b[A{'colsample_bytree': 0.75, 'learning_rate': 0.125, 'min_child_weight': 4.0, 'n_estimators': 30, 'subsample': 0.55, 'importance_type': 'cover', 'max_depth': 4, 'gamma': 0.65, 'booster': 'dart'}\n",
      "\n",
      "  8%|▊         | 79/1000 [37:10<7:41:16, 30.05s/it, best loss: -0.654069767442]\u001b[A"
     ]
    },
    {
     "name": "stderr",
     "output_type": "stream",
     "text": [
      "Hyperopt:   8%|▊         | 80/1000 [37:10<5:42:07, 22.31s/it]"
     ]
    },
    {
     "name": "stdout",
     "output_type": "stream",
     "text": [
      "\n",
      "  8%|▊         | 80/1000 [37:10<5:42:06, 22.31s/it, best loss: -0.654069767442]\u001b[A\n",
      "\u001b[AParameters with this training accuracy 0.891891891892 and loss 0.426675176898 :\n",
      "\n",
      "  8%|▊         | 80/1000 [37:42<5:42:06, 22.31s/it, best loss: -0.654069767442]\u001b[A\n",
      "\u001b[AParameters with this testing accuracy 0.636627906977 and loss 1.16191918861 :\n",
      "\n",
      "  8%|▊         | 80/1000 [37:42<5:42:06, 22.31s/it, best loss: -0.654069767442]\u001b[A\n",
      "\u001b[A{'colsample_bytree': 0.7000000000000001, 'learning_rate': 0.125, 'min_child_weight': 5.0, 'n_estimators': 395, 'subsample': 0.5, 'importance_type': 'cover', 'max_depth': 1, 'gamma': 0.55, 'booster': 'dart'}\n",
      "\n",
      "  8%|▊         | 80/1000 [37:42<5:42:06, 22.31s/it, best loss: -0.654069767442]\u001b[A"
     ]
    },
    {
     "name": "stderr",
     "output_type": "stream",
     "text": [
      "Hyperopt:   8%|▊         | 81/1000 [37:42<6:25:31, 25.17s/it]"
     ]
    },
    {
     "name": "stdout",
     "output_type": "stream",
     "text": [
      "\n",
      "  8%|▊         | 81/1000 [37:42<6:25:31, 25.17s/it, best loss: -0.654069767442]\u001b[A\n",
      "\u001b[AParameters with this training accuracy 0.840661557079 and loss 0.652037101519 :\n",
      "\n",
      "  8%|▊         | 81/1000 [37:46<6:25:31, 25.17s/it, best loss: -0.654069767442]\u001b[A\n",
      "\u001b[AParameters with this testing accuracy 0.619186046512 and loss 1.16027631084 :\n",
      "\n",
      "  8%|▊         | 81/1000 [37:46<6:25:31, 25.17s/it, best loss: -0.654069767442]\u001b[A\n",
      "\u001b[A{'colsample_bytree': 0.55, 'learning_rate': 0.1, 'min_child_weight': 4.0, 'n_estimators': 44, 'subsample': 0.7000000000000001, 'importance_type': 'cover', 'max_depth': 4, 'gamma': 0.6000000000000001, 'booster': 'gbtree'}\n",
      "\n",
      "  8%|▊         | 81/1000 [37:46<6:25:31, 25.17s/it, best loss: -0.654069767442]\u001b[A"
     ]
    },
    {
     "name": "stderr",
     "output_type": "stream",
     "text": [
      "Hyperopt:   8%|▊         | 82/1000 [37:47<4:50:04, 18.96s/it]"
     ]
    },
    {
     "name": "stdout",
     "output_type": "stream",
     "text": [
      "\n",
      "  8%|▊         | 82/1000 [37:46<4:50:03, 18.96s/it, best loss: -0.654069767442]\u001b[A\n",
      "\u001b[AParameters with this training accuracy 0.471561113352 and loss 1.84675294726 :\n",
      "\n",
      "  8%|▊         | 82/1000 [37:50<4:50:03, 18.96s/it, best loss: -0.654069767442]\u001b[A\n",
      "\u001b[AParameters with this testing accuracy 0.482558139535 and loss 1.84347154122 :\n",
      "\n",
      "  8%|▊         | 82/1000 [37:50<4:50:03, 18.96s/it, best loss: -0.654069767442]\u001b[A\n",
      "\u001b[A{'colsample_bytree': 0.6000000000000001, 'learning_rate': 0.025, 'min_child_weight': 3.0, 'n_estimators': 86, 'subsample': 0.55, 'importance_type': 'cover', 'max_depth': 8, 'gamma': 0.7000000000000001, 'booster': 'gblinear'}\n",
      "\n",
      "  8%|▊         | 82/1000 [37:50<4:50:03, 18.96s/it, best loss: -0.654069767442]\u001b[A"
     ]
    },
    {
     "name": "stderr",
     "output_type": "stream",
     "text": [
      "Hyperopt:   8%|▊         | 83/1000 [37:50<3:39:01, 14.33s/it]"
     ]
    },
    {
     "name": "stdout",
     "output_type": "stream",
     "text": [
      "\n",
      "  8%|▊         | 83/1000 [37:50<3:39:01, 14.33s/it, best loss: -0.654069767442]\u001b[A\n",
      "\u001b[AParameters with this training accuracy 0.820895522388 and loss 0.750384963878 :\n",
      "\n",
      "  8%|▊         | 83/1000 [38:02<3:39:01, 14.33s/it, best loss: -0.654069767442]\u001b[A\n",
      "\u001b[AParameters with this testing accuracy 0.610465116279 and loss 1.22538880287 :\n",
      "\n",
      "  8%|▊         | 83/1000 [38:02<3:39:01, 14.33s/it, best loss: -0.654069767442]\u001b[A\n",
      "\u001b[A{'colsample_bytree': 0.7000000000000001, 'learning_rate': 0.05, 'min_child_weight': 5.0, 'n_estimators': 74, 'subsample': 0.5, 'importance_type': 'total_cover', 'max_depth': 9, 'gamma': 0.65, 'booster': 'dart'}\n",
      "\n",
      "  8%|▊         | 83/1000 [38:02<3:39:01, 14.33s/it, best loss: -0.654069767442]\u001b[A"
     ]
    },
    {
     "name": "stderr",
     "output_type": "stream",
     "text": [
      "Hyperopt:   8%|▊         | 84/1000 [38:03<3:29:21, 13.71s/it]"
     ]
    },
    {
     "name": "stdout",
     "output_type": "stream",
     "text": [
      "\n",
      "  8%|▊         | 84/1000 [38:02<3:29:21, 13.71s/it, best loss: -0.654069767442]\u001b[A\n",
      "\u001b[AParameters with this training accuracy 0.991125453812 and loss 0.118668875084 :\n",
      "\n",
      "  8%|▊         | 84/1000 [38:22<3:29:21, 13.71s/it, best loss: -0.654069767442]\u001b[A\n",
      "\u001b[AParameters with this testing accuracy 0.630813953488 and loss 1.15692706449 :\n",
      "\n",
      "  8%|▊         | 84/1000 [38:22<3:29:21, 13.71s/it, best loss: -0.654069767442]\u001b[A\n",
      "\u001b[A{'colsample_bytree': 0.65, 'learning_rate': 0.15000000000000002, 'min_child_weight': 3.0, 'n_estimators': 133, 'subsample': 0.6000000000000001, 'importance_type': 'weight', 'max_depth': 7, 'gamma': 0.55, 'booster': 'dart'}\n",
      "\n",
      "  8%|▊         | 84/1000 [38:22<3:29:21, 13.71s/it, best loss: -0.654069767442]\u001b[A"
     ]
    },
    {
     "name": "stderr",
     "output_type": "stream",
     "text": [
      "Hyperopt:   8%|▊         | 85/1000 [38:23<3:58:41, 15.65s/it]"
     ]
    },
    {
     "name": "stdout",
     "output_type": "stream",
     "text": [
      "\n",
      "  8%|▊         | 85/1000 [38:22<3:58:42, 15.65s/it, best loss: -0.654069767442]\u001b[A\n",
      "\u001b[AParameters with this training accuracy 0.991932230738 and loss 0.106412264891 :\n",
      "\n",
      "  8%|▊         | 85/1000 [38:55<3:58:42, 15.65s/it, best loss: -0.654069767442]\u001b[A\n",
      "\u001b[AParameters with this testing accuracy 0.630813953488 and loss 1.21768669247 :\n",
      "\n",
      "  8%|▊         | 85/1000 [38:55<3:58:42, 15.65s/it, best loss: -0.654069767442]\u001b[A\n",
      "\u001b[A{'colsample_bytree': 0.8, 'learning_rate': 0.17500000000000002, 'min_child_weight': 4.0, 'n_estimators': 302, 'subsample': 0.8, 'importance_type': 'gain', 'max_depth': 5, 'gamma': 0.65, 'booster': 'gbtree'}\n",
      "\n",
      "  8%|▊         | 85/1000 [38:55<3:58:42, 15.65s/it, best loss: -0.654069767442]\u001b[A"
     ]
    },
    {
     "name": "stderr",
     "output_type": "stream",
     "text": [
      "Hyperopt:   9%|▊         | 86/1000 [38:56<5:16:34, 20.78s/it]"
     ]
    },
    {
     "name": "stdout",
     "output_type": "stream",
     "text": [
      "\n",
      "  9%|▊         | 86/1000 [38:55<5:16:35, 20.78s/it, best loss: -0.654069767442]\u001b[A\n",
      "\u001b[AParameters with this training accuracy 0.957644211376 and loss 0.252975604683 :\n",
      "\n",
      "  9%|▊         | 86/1000 [39:06<5:16:35, 20.78s/it, best loss: -0.654069767442]\u001b[A\n",
      "\u001b[AParameters with this testing accuracy 0.642441860465 and loss 1.13554942839 :\n",
      "\n",
      "  9%|▊         | 86/1000 [39:06<5:16:35, 20.78s/it, best loss: -0.654069767442]\u001b[A\n",
      "\u001b[A{'colsample_bytree': 0.75, 'learning_rate': 0.15000000000000002, 'min_child_weight': 3.0, 'n_estimators': 87, 'subsample': 0.65, 'importance_type': 'cover', 'max_depth': 4, 'gamma': 0.75, 'booster': 'dart'}\n",
      "\n",
      "  9%|▊         | 86/1000 [39:06<5:16:35, 20.78s/it, best loss: -0.654069767442]\u001b[A"
     ]
    },
    {
     "name": "stderr",
     "output_type": "stream",
     "text": [
      "Hyperopt:   9%|▊         | 87/1000 [39:07<4:32:18, 17.90s/it]"
     ]
    },
    {
     "name": "stdout",
     "output_type": "stream",
     "text": [
      "\n",
      "  9%|▊         | 87/1000 [39:06<4:32:17, 17.89s/it, best loss: -0.654069767442]\u001b[A\n",
      "\u001b[AParameters with this training accuracy 0.465106897943 and loss 1.87586786122 :\n",
      "\n",
      "  9%|▊         | 87/1000 [39:09<4:32:17, 17.89s/it, best loss: -0.654069767442]\u001b[A\n",
      "\u001b[AParameters with this testing accuracy 0.482558139535 and loss 1.87033174776 :\n",
      "\n",
      "  9%|▊         | 87/1000 [39:09<4:32:17, 17.89s/it, best loss: -0.654069767442]\u001b[A\n",
      "\u001b[A{'colsample_bytree': 0.8, 'learning_rate': 0.025, 'min_child_weight': 5.0, 'n_estimators': 62, 'subsample': 0.75, 'importance_type': 'gain', 'max_depth': 6, 'gamma': 0.5, 'booster': 'gblinear'}\n",
      "\n",
      "  9%|▊         | 87/1000 [39:09<4:32:17, 17.89s/it, best loss: -0.654069767442]\u001b[A"
     ]
    },
    {
     "name": "stderr",
     "output_type": "stream",
     "text": [
      "Hyperopt:   9%|▉         | 88/1000 [39:09<3:21:35, 13.26s/it]"
     ]
    },
    {
     "name": "stdout",
     "output_type": "stream",
     "text": [
      "\n",
      "  9%|▉         | 88/1000 [39:09<3:21:34, 13.26s/it, best loss: -0.654069767442]\u001b[A\n",
      "\u001b[AParameters with this training accuracy 0.990722065349 and loss 0.126157145714 :\n",
      "\n",
      "  9%|▉         | 88/1000 [40:18<3:21:34, 13.26s/it, best loss: -0.654069767442]\u001b[A\n",
      "\u001b[AParameters with this testing accuracy 0.648255813953 and loss 1.16714065226 :\n",
      "\n",
      "  9%|▉         | 88/1000 [40:18<3:21:34, 13.26s/it, best loss: -0.654069767442]\u001b[A\n",
      "\u001b[A{'colsample_bytree': 0.7000000000000001, 'learning_rate': 0.07500000000000001, 'min_child_weight': 4.0, 'n_estimators': 366, 'subsample': 0.7000000000000001, 'importance_type': 'gain', 'max_depth': 7, 'gamma': 0.7000000000000001, 'booster': 'dart'}\n",
      "\n",
      "  9%|▉         | 88/1000 [40:18<3:21:34, 13.26s/it, best loss: -0.654069767442]\u001b[A"
     ]
    },
    {
     "name": "stderr",
     "output_type": "stream",
     "text": [
      "Hyperopt:   9%|▉         | 89/1000 [40:18<7:34:33, 29.94s/it]"
     ]
    },
    {
     "name": "stdout",
     "output_type": "stream",
     "text": [
      "\n",
      "  9%|▉         | 89/1000 [40:18<7:34:35, 29.94s/it, best loss: -0.654069767442]\u001b[A\n",
      "\u001b[AParameters with this training accuracy 0.967728922953 and loss 0.217226353271 :\n",
      "\n",
      "  9%|▉         | 89/1000 [40:42<7:34:35, 29.94s/it, best loss: -0.654069767442]\u001b[A\n",
      "\u001b[AParameters with this testing accuracy 0.633720930233 and loss 1.13656164318 :\n",
      "\n",
      "  9%|▉         | 89/1000 [40:42<7:34:35, 29.94s/it, best loss: -0.654069767442]\u001b[A\n",
      "\u001b[A{'colsample_bytree': 0.6000000000000001, 'learning_rate': 0.07500000000000001, 'min_child_weight': 5.0, 'n_estimators': 366, 'subsample': 0.8500000000000001, 'importance_type': 'total_cover', 'max_depth': 3, 'gamma': 0.75, 'booster': 'gbtree'}\n",
      "\n",
      "  9%|▉         | 89/1000 [40:42<7:34:35, 29.94s/it, best loss: -0.654069767442]\u001b[A"
     ]
    },
    {
     "name": "stderr",
     "output_type": "stream",
     "text": [
      "Hyperopt:   9%|▉         | 90/1000 [40:42<7:08:08, 28.23s/it]"
     ]
    },
    {
     "name": "stdout",
     "output_type": "stream",
     "text": [
      "\n",
      "  9%|▉         | 90/1000 [40:42<7:08:10, 28.23s/it, best loss: -0.654069767442]\u001b[A\n",
      "\u001b[AParameters with this training accuracy 0.985881403792 and loss 0.150812979498 :\n",
      "\n",
      "  9%|▉         | 90/1000 [41:51<7:08:10, 28.23s/it, best loss: -0.654069767442]\u001b[A\n",
      "\u001b[AParameters with this testing accuracy 0.651162790698 and loss 1.14392347512 :\n",
      "\n",
      "  9%|▉         | 90/1000 [41:51<7:08:10, 28.23s/it, best loss: -0.654069767442]\u001b[A\n",
      "\u001b[A{'colsample_bytree': 0.55, 'learning_rate': 0.05, 'min_child_weight': 4.0, 'n_estimators': 373, 'subsample': 0.7000000000000001, 'importance_type': 'weight', 'max_depth': 7, 'gamma': 0.7000000000000001, 'booster': 'dart'}\n",
      "\n",
      "  9%|▉         | 90/1000 [41:51<7:08:10, 28.23s/it, best loss: -0.654069767442]\u001b[A"
     ]
    },
    {
     "name": "stderr",
     "output_type": "stream",
     "text": [
      "Hyperopt:   9%|▉         | 91/1000 [41:51<10:11:40, 40.37s/it]"
     ]
    },
    {
     "name": "stdout",
     "output_type": "stream",
     "text": [
      "\n",
      "  9%|▉         | 91/1000 [41:51<10:11:40, 40.38s/it, best loss: -0.654069767442]\u001b[A\n",
      "\u001b[AParameters with this training accuracy 0.659136748689 and loss 1.14990995708 :\n",
      "\n",
      "  9%|▉         | 91/1000 [41:55<10:11:40, 40.38s/it, best loss: -0.654069767442]\u001b[A\n",
      "\u001b[AParameters with this testing accuracy 0.581395348837 and loss 1.3063652301 :\n",
      "\n",
      "  9%|▉         | 91/1000 [41:55<10:11:40, 40.38s/it, best loss: -0.654069767442]\u001b[A\n",
      "\u001b[A{'colsample_bytree': 0.55, 'learning_rate': 0.05, 'min_child_weight': 4.0, 'n_estimators': 90, 'subsample': 0.8500000000000001, 'importance_type': 'weight', 'max_depth': 1, 'gamma': 0.65, 'booster': 'dart'}\n",
      "\n",
      "  9%|▉         | 91/1000 [41:55<10:11:40, 40.38s/it, best loss: -0.654069767442]\u001b[A"
     ]
    },
    {
     "name": "stderr",
     "output_type": "stream",
     "text": [
      "Hyperopt:   9%|▉         | 92/1000 [41:56<7:28:41, 29.65s/it] "
     ]
    },
    {
     "name": "stdout",
     "output_type": "stream",
     "text": [
      "\n",
      "  9%|▉         | 92/1000 [41:55<7:28:39, 29.65s/it, best loss: -0.654069767442] \u001b[A\n",
      "\u001b[AParameters with this training accuracy 0.936668011295 and loss 0.322070481627 :\n",
      "\n",
      "  9%|▉         | 92/1000 [42:15<7:28:39, 29.65s/it, best loss: -0.654069767442]\u001b[A\n",
      "\u001b[AParameters with this testing accuracy 0.639534883721 and loss 1.10606743703 :\n",
      "\n",
      "  9%|▉         | 92/1000 [42:15<7:28:39, 29.65s/it, best loss: -0.654069767442]\u001b[A\n",
      "\u001b[A{'colsample_bytree': 0.55, 'learning_rate': 0.05, 'min_child_weight': 5.0, 'n_estimators': 242, 'subsample': 0.75, 'importance_type': 'weight', 'max_depth': 4, 'gamma': 0.75, 'booster': 'gbtree'}\n",
      "\n",
      "  9%|▉         | 92/1000 [42:15<7:28:39, 29.65s/it, best loss: -0.654069767442]\u001b[A"
     ]
    },
    {
     "name": "stderr",
     "output_type": "stream",
     "text": [
      "Hyperopt:   9%|▉         | 93/1000 [42:15<6:43:51, 26.72s/it]"
     ]
    },
    {
     "name": "stdout",
     "output_type": "stream",
     "text": [
      "\n",
      "  9%|▉         | 93/1000 [42:15<6:43:51, 26.72s/it, best loss: -0.654069767442]\u001b[A\n",
      "\u001b[AParameters with this training accuracy 0.991125453812 and loss 0.126435713388 :\n",
      "\n",
      "  9%|▉         | 93/1000 [43:24<6:43:51, 26.72s/it, best loss: -0.654069767442]\u001b[A\n",
      "\u001b[AParameters with this testing accuracy 0.642441860465 and loss 1.15767278414 :\n",
      "\n",
      "  9%|▉         | 93/1000 [43:24<6:43:51, 26.72s/it, best loss: -0.654069767442]\u001b[A\n",
      "\u001b[A{'colsample_bytree': 0.65, 'learning_rate': 0.1, 'min_child_weight': 5.0, 'n_estimators': 397, 'subsample': 0.8, 'importance_type': 'weight', 'max_depth': 7, 'gamma': 0.7000000000000001, 'booster': 'dart'}\n",
      "\n",
      "  9%|▉         | 93/1000 [43:24<6:43:51, 26.72s/it, best loss: -0.654069767442]\u001b[A"
     ]
    },
    {
     "name": "stderr",
     "output_type": "stream",
     "text": [
      "Hyperopt:   9%|▉         | 94/1000 [43:24<9:54:51, 39.39s/it]"
     ]
    },
    {
     "name": "stdout",
     "output_type": "stream",
     "text": [
      "\n",
      "  9%|▉         | 94/1000 [43:24<9:54:52, 39.40s/it, best loss: -0.654069767442]\u001b[A\n",
      "\u001b[AParameters with this training accuracy 0.47519160952 and loss 1.79659119757 :\n",
      "\n",
      "  9%|▉         | 94/1000 [43:31<9:54:52, 39.40s/it, best loss: -0.654069767442]\u001b[A\n",
      "\u001b[AParameters with this testing accuracy 0.485465116279 and loss 1.79524791262 :\n",
      "\n",
      "  9%|▉         | 94/1000 [43:31<9:54:52, 39.40s/it, best loss: -0.654069767442]\u001b[A\n",
      "\u001b[A{'colsample_bytree': 0.5, 'learning_rate': 0.025, 'min_child_weight': 4.0, 'n_estimators': 217, 'subsample': 0.7000000000000001, 'importance_type': 'weight', 'max_depth': 8, 'gamma': 0.6000000000000001, 'booster': 'gblinear'}\n",
      "\n",
      "  9%|▉         | 94/1000 [43:31<9:54:52, 39.40s/it, best loss: -0.654069767442]\u001b[A"
     ]
    },
    {
     "name": "stderr",
     "output_type": "stream",
     "text": [
      "Hyperopt:  10%|▉         | 95/1000 [43:32<7:29:23, 29.79s/it]"
     ]
    },
    {
     "name": "stdout",
     "output_type": "stream",
     "text": [
      "\n",
      " 10%|▉         | 95/1000 [43:31<7:29:22, 29.79s/it, best loss: -0.654069767442]\u001b[A\n",
      "\u001b[AParameters with this training accuracy 0.992335619201 and loss 0.103555397145 :\n",
      "\n",
      " 10%|▉         | 95/1000 [44:27<7:29:22, 29.79s/it, best loss: -0.654069767442]\u001b[A\n",
      "\u001b[AParameters with this testing accuracy 0.625 and loss 1.22835456807 :\n",
      "\n",
      " 10%|▉         | 95/1000 [44:27<7:29:22, 29.79s/it, best loss: -0.654069767442]\u001b[A\n",
      "\u001b[A{'colsample_bytree': 0.6000000000000001, 'learning_rate': 0.30000000000000004, 'min_child_weight': 4.0, 'n_estimators': 356, 'subsample': 0.9500000000000001, 'importance_type': 'weight', 'max_depth': 9, 'gamma': 0.7000000000000001, 'booster': 'dart'}\n",
      "\n",
      " 10%|▉         | 95/1000 [44:27<7:29:22, 29.79s/it, best loss: -0.654069767442]\u001b[A"
     ]
    },
    {
     "name": "stderr",
     "output_type": "stream",
     "text": [
      "Hyperopt:  10%|▉         | 96/1000 [44:27<9:25:35, 37.54s/it]"
     ]
    },
    {
     "name": "stdout",
     "output_type": "stream",
     "text": [
      "\n",
      " 10%|▉         | 96/1000 [44:27<9:25:36, 37.54s/it, best loss: -0.654069767442]\u001b[A\n",
      "\u001b[AParameters with this training accuracy 0.840661557079 and loss 0.68440908226 :\n",
      "\n",
      " 10%|▉         | 96/1000 [44:33<9:25:36, 37.54s/it, best loss: -0.654069767442]\u001b[A\n",
      "\u001b[AParameters with this testing accuracy 0.625 and loss 1.19575732498 :\n",
      "\n",
      " 10%|▉         | 96/1000 [44:33<9:25:36, 37.54s/it, best loss: -0.654069767442]\u001b[A\n",
      "\u001b[A{'colsample_bytree': 0.55, 'learning_rate': 0.07500000000000001, 'min_child_weight': 5.0, 'n_estimators': 50, 'subsample': 0.8, 'importance_type': 'weight', 'max_depth': 5, 'gamma': 0.8, 'booster': 'gbtree'}\n",
      "\n",
      " 10%|▉         | 96/1000 [44:33<9:25:36, 37.54s/it, best loss: -0.654069767442]\u001b[A"
     ]
    },
    {
     "name": "stderr",
     "output_type": "stream",
     "text": [
      "Hyperopt:  10%|▉         | 97/1000 [44:33<7:02:33, 28.08s/it]"
     ]
    },
    {
     "name": "stdout",
     "output_type": "stream",
     "text": [
      "\n",
      " 10%|▉         | 97/1000 [44:33<7:02:32, 28.08s/it, best loss: -0.654069767442]\u001b[A\n",
      "\u001b[AParameters with this training accuracy 0.977410246067 and loss 0.180581659337 :\n",
      "\n",
      " 10%|▉         | 97/1000 [44:38<7:02:32, 28.08s/it, best loss: -0.654069767442]\u001b[A\n",
      "\u001b[AParameters with this testing accuracy 0.607558139535 and loss 1.25309428777 :\n",
      "\n",
      " 10%|▉         | 97/1000 [44:38<7:02:32, 28.08s/it, best loss: -0.654069767442]\u001b[A\n",
      "\u001b[A{'colsample_bytree': 0.65, 'learning_rate': 0.45, 'min_child_weight': 6.0, 'n_estimators': 32, 'subsample': 0.9, 'importance_type': 'weight', 'max_depth': 7, 'gamma': 0.6000000000000001, 'booster': 'dart'}\n",
      "\n",
      " 10%|▉         | 97/1000 [44:38<7:02:32, 28.08s/it, best loss: -0.654069767442]\u001b[A"
     ]
    },
    {
     "name": "stderr",
     "output_type": "stream",
     "text": [
      "Hyperopt:  10%|▉         | 98/1000 [44:38<5:17:04, 21.09s/it]"
     ]
    },
    {
     "name": "stdout",
     "output_type": "stream",
     "text": [
      "\n",
      " 10%|▉         | 98/1000 [44:38<5:17:03, 21.09s/it, best loss: -0.654069767442]\u001b[A\n",
      "\u001b[AParameters with this training accuracy 0.987898346107 and loss 0.134479190833 :\n",
      "\n",
      " 10%|▉         | 98/1000 [45:16<5:17:03, 21.09s/it, best loss: -0.654069767442]\u001b[A\n",
      "\u001b[AParameters with this testing accuracy 0.654069767442 and loss 1.16395926484 :\n",
      "\n",
      " 10%|▉         | 98/1000 [45:16<5:17:03, 21.09s/it, best loss: -0.654069767442]\u001b[A\n",
      "\u001b[A{'colsample_bytree': 0.5, 'learning_rate': 0.1, 'min_child_weight': 4.0, 'n_estimators': 260, 'subsample': 0.8500000000000001, 'importance_type': 'weight', 'max_depth': 6, 'gamma': 0.7000000000000001, 'booster': 'dart'}\n",
      "\n",
      " 10%|▉         | 98/1000 [45:16<5:17:03, 21.09s/it, best loss: -0.654069767442]\u001b[A"
     ]
    },
    {
     "name": "stderr",
     "output_type": "stream",
     "text": [
      "Hyperopt:  10%|▉         | 99/1000 [45:16<6:32:29, 26.14s/it]"
     ]
    },
    {
     "name": "stdout",
     "output_type": "stream",
     "text": [
      "\n",
      " 10%|▉         | 99/1000 [45:16<6:32:30, 26.14s/it, best loss: -0.654069767442]\u001b[A\n",
      "\u001b[AParameters with this training accuracy 0.474384832594 and loss 1.76726792175 :\n",
      "\n",
      " 10%|▉         | 99/1000 [45:30<6:32:30, 26.14s/it, best loss: -0.654069767442]\u001b[A\n",
      "\u001b[AParameters with this testing accuracy 0.488372093023 and loss 1.75876357032 :\n",
      "\n",
      " 10%|▉         | 99/1000 [45:30<6:32:30, 26.14s/it, best loss: -0.654069767442]\u001b[A\n",
      "\u001b[A{'colsample_bytree': 0.6000000000000001, 'learning_rate': 0.25, 'min_child_weight': 5.0, 'n_estimators': 440, 'subsample': 0.9, 'importance_type': 'cover', 'max_depth': 6, 'gamma': 0.65, 'booster': 'gblinear'}\n",
      "\n",
      " 10%|▉         | 99/1000 [45:30<6:32:30, 26.14s/it, best loss: -0.654069767442]\u001b[A"
     ]
    },
    {
     "name": "stderr",
     "output_type": "stream",
     "text": [
      "Hyperopt:  10%|█         | 100/1000 [45:30<5:38:17, 22.55s/it]"
     ]
    },
    {
     "name": "stdout",
     "output_type": "stream",
     "text": [
      "\n",
      " 10%|█         | 100/1000 [45:30<5:38:15, 22.55s/it, best loss: -0.654069767442]\u001b[A\n",
      "\u001b[AParameters with this training accuracy 0.987091569181 and loss 0.142179839068 :\n",
      "\n",
      " 10%|█         | 100/1000 [45:56<5:38:15, 22.55s/it, best loss: -0.654069767442]\u001b[A\n",
      "\u001b[AParameters with this testing accuracy 0.633720930233 and loss 1.18595703401 :\n",
      "\n",
      " 10%|█         | 100/1000 [45:56<5:38:15, 22.55s/it, best loss: -0.654069767442]\u001b[A\n",
      "\u001b[A{'colsample_bytree': 0.5, 'learning_rate': 0.15000000000000002, 'min_child_weight': 6.0, 'n_estimators': 313, 'subsample': 0.8500000000000001, 'importance_type': 'weight', 'max_depth': 6, 'gamma': 0.75, 'booster': 'gbtree'}\n",
      "\n",
      " 10%|█         | 100/1000 [45:56<5:38:15, 22.55s/it, best loss: -0.654069767442]\u001b[A"
     ]
    },
    {
     "name": "stderr",
     "output_type": "stream",
     "text": [
      "Hyperopt:  10%|█         | 101/1000 [45:57<5:55:15, 23.71s/it]"
     ]
    },
    {
     "name": "stdout",
     "output_type": "stream",
     "text": [
      "\n",
      " 10%|█         | 101/1000 [45:56<5:55:17, 23.71s/it, best loss: -0.654069767442]\u001b[A\n",
      "\u001b[AParameters with this training accuracy 0.988705123033 and loss 0.136846753258 :\n",
      "\n",
      " 10%|█         | 101/1000 [46:25<5:55:17, 23.71s/it, best loss: -0.654069767442]\u001b[A\n",
      "\u001b[AParameters with this testing accuracy 0.648255813953 and loss 1.1790870021 :\n",
      "\n",
      " 10%|█         | 101/1000 [46:25<5:55:17, 23.71s/it, best loss: -0.654069767442]\u001b[A\n",
      "\u001b[A{'colsample_bytree': 0.5, 'learning_rate': 0.2, 'min_child_weight': 4.0, 'n_estimators': 210, 'subsample': 0.9500000000000001, 'importance_type': 'total_cover', 'max_depth': 6, 'gamma': 0.8, 'booster': 'dart'}\n",
      "\n",
      " 10%|█         | 101/1000 [46:25<5:55:17, 23.71s/it, best loss: -0.654069767442]\u001b[A"
     ]
    },
    {
     "name": "stderr",
     "output_type": "stream",
     "text": [
      "Hyperopt:  10%|█         | 102/1000 [46:25<6:15:19, 25.08s/it]"
     ]
    },
    {
     "name": "stdout",
     "output_type": "stream",
     "text": [
      "\n",
      " 10%|█         | 102/1000 [46:25<6:15:19, 25.08s/it, best loss: -0.654069767442]\u001b[A\n",
      "\u001b[AParameters with this training accuracy 0.987494957644 and loss 0.143704440212 :\n",
      "\n",
      " 10%|█         | 102/1000 [47:19<6:15:19, 25.08s/it, best loss: -0.654069767442]\u001b[A\n",
      "\u001b[AParameters with this testing accuracy 0.642441860465 and loss 1.17087599085 :\n",
      "\n",
      " 10%|█         | 102/1000 [47:19<6:15:19, 25.08s/it, best loss: -0.654069767442]\u001b[A\n",
      "\u001b[A{'colsample_bytree': 0.55, 'learning_rate': 0.17500000000000002, 'min_child_weight': 5.0, 'n_estimators': 374, 'subsample': 0.9500000000000001, 'importance_type': 'weight', 'max_depth': 6, 'gamma': 0.8500000000000001, 'booster': 'dart'}\n",
      "\n",
      " 10%|█         | 102/1000 [47:19<6:15:19, 25.08s/it, best loss: -0.654069767442]\u001b[A"
     ]
    },
    {
     "name": "stderr",
     "output_type": "stream",
     "text": [
      "Hyperopt:  10%|█         | 103/1000 [47:20<8:27:13, 33.93s/it]"
     ]
    },
    {
     "name": "stdout",
     "output_type": "stream",
     "text": [
      "\n",
      " 10%|█         | 103/1000 [47:19<8:27:14, 33.93s/it, best loss: -0.654069767442]\u001b[A\n",
      "\u001b[AParameters with this training accuracy 0.987494957644 and loss 0.135737594438 :\n",
      "\n",
      " 10%|█         | 103/1000 [47:41<8:27:14, 33.93s/it, best loss: -0.654069767442]\u001b[A\n",
      "\u001b[AParameters with this testing accuracy 0.639534883721 and loss 1.17325259851 :\n",
      "\n",
      " 10%|█         | 103/1000 [47:41<8:27:14, 33.93s/it, best loss: -0.654069767442]\u001b[A\n",
      "\u001b[A{'colsample_bytree': 0.5, 'learning_rate': 0.125, 'min_child_weight': 4.0, 'n_estimators': 243, 'subsample': 1.0, 'importance_type': 'weight', 'max_depth': 6, 'gamma': 0.7000000000000001, 'booster': 'gbtree'}\n",
      "\n",
      " 10%|█         | 103/1000 [47:41<8:27:14, 33.93s/it, best loss: -0.654069767442]\u001b[A"
     ]
    },
    {
     "name": "stderr",
     "output_type": "stream",
     "text": [
      "Hyperopt:  10%|█         | 104/1000 [47:42<7:33:07, 30.34s/it]"
     ]
    },
    {
     "name": "stdout",
     "output_type": "stream",
     "text": [
      "\n",
      " 10%|█         | 104/1000 [47:41<7:33:06, 30.34s/it, best loss: -0.654069767442]\u001b[A\n",
      "\u001b[AParameters with this training accuracy 0.987091569181 and loss 0.139913155914 :\n",
      "\n",
      " 10%|█         | 104/1000 [48:39<7:33:06, 30.34s/it, best loss: -0.654069767442]\u001b[A\n",
      "\u001b[AParameters with this testing accuracy 0.636627906977 and loss 1.17950897603 :\n",
      "\n",
      " 10%|█         | 104/1000 [48:39<7:33:06, 30.34s/it, best loss: -0.654069767442]\u001b[A\n",
      "\u001b[A{'colsample_bytree': 0.55, 'learning_rate': 0.1, 'min_child_weight': 5.0, 'n_estimators': 373, 'subsample': 0.8500000000000001, 'importance_type': 'weight', 'max_depth': 6, 'gamma': 0.75, 'booster': 'dart'}\n",
      "\n",
      " 10%|█         | 104/1000 [48:39<7:33:06, 30.34s/it, best loss: -0.654069767442]\u001b[A"
     ]
    },
    {
     "name": "stderr",
     "output_type": "stream",
     "text": [
      "Hyperopt:  10%|█         | 105/1000 [48:39<9:35:19, 38.57s/it]"
     ]
    },
    {
     "name": "stdout",
     "output_type": "stream",
     "text": [
      "\n",
      " 10%|█         | 105/1000 [48:39<9:35:20, 38.57s/it, best loss: -0.654069767442]\u001b[A\n",
      "\u001b[AParameters with this training accuracy 0.994352561517 and loss 0.0872393790142 :\n",
      "\n",
      " 10%|█         | 105/1000 [49:03<9:35:20, 38.57s/it, best loss: -0.654069767442]\u001b[A\n",
      "\u001b[AParameters with this testing accuracy 0.625 and loss 1.24992944607 :\n",
      "\n",
      " 10%|█         | 105/1000 [49:03<9:35:20, 38.57s/it, best loss: -0.654069767442]\u001b[A\n",
      "\u001b[A{'colsample_bytree': 0.7000000000000001, 'learning_rate': 0.35000000000000003, 'min_child_weight': 3.0, 'n_estimators': 275, 'subsample': 0.9, 'importance_type': 'cover', 'max_depth': 4, 'gamma': 0.55, 'booster': 'gbtree'}\n",
      "\n",
      " 10%|█         | 105/1000 [49:03<9:35:20, 38.57s/it, best loss: -0.654069767442]\u001b[A"
     ]
    },
    {
     "name": "stderr",
     "output_type": "stream",
     "text": [
      "Hyperopt:  11%|█         | 106/1000 [49:04<8:31:42, 34.34s/it]"
     ]
    },
    {
     "name": "stdout",
     "output_type": "stream",
     "text": [
      "\n",
      " 11%|█         | 106/1000 [49:03<8:31:44, 34.34s/it, best loss: -0.654069767442]\u001b[A\n",
      "\u001b[AParameters with this training accuracy 0.987091569181 and loss 0.140289755508 :\n",
      "\n",
      " 11%|█         | 106/1000 [50:20<8:31:44, 34.34s/it, best loss: -0.654069767442]\u001b[A\n",
      "\u001b[AParameters with this testing accuracy 0.639534883721 and loss 1.15893785092 :\n",
      "\n",
      " 11%|█         | 106/1000 [50:20<8:31:44, 34.34s/it, best loss: -0.654069767442]\u001b[A\n",
      "\u001b[A{'colsample_bytree': 0.5, 'learning_rate': 0.05, 'min_child_weight': 4.0, 'n_estimators': 412, 'subsample': 0.8, 'importance_type': 'weight', 'max_depth': 7, 'gamma': 0.7000000000000001, 'booster': 'dart'}\n",
      "\n",
      " 11%|█         | 106/1000 [50:20<8:31:44, 34.34s/it, best loss: -0.654069767442]\u001b[A"
     ]
    },
    {
     "name": "stderr",
     "output_type": "stream",
     "text": [
      "Hyperopt:  11%|█         | 107/1000 [50:21<11:42:01, 47.17s/it]"
     ]
    },
    {
     "name": "stdout",
     "output_type": "stream",
     "text": [
      "\n",
      " 11%|█         | 107/1000 [50:21<11:42:02, 47.17s/it, best loss: -0.654069767442]\u001b[A\n",
      "\u001b[AParameters with this training accuracy 0.474384832594 and loss 1.76729902003 :\n",
      "\n",
      " 11%|█         | 107/1000 [50:31<11:42:02, 47.17s/it, best loss: -0.654069767442]\u001b[A\n",
      "\u001b[AParameters with this testing accuracy 0.488372093023 and loss 1.75881967206 :\n",
      "\n",
      " 11%|█         | 107/1000 [50:31<11:42:02, 47.17s/it, best loss: -0.654069767442]\u001b[A\n",
      "\u001b[A{'colsample_bytree': 0.6000000000000001, 'learning_rate': 0.225, 'min_child_weight': 5.0, 'n_estimators': 317, 'subsample': 0.75, 'importance_type': 'weight', 'max_depth': 1, 'gamma': 0.75, 'booster': 'gblinear'}\n",
      "\n",
      " 11%|█         | 107/1000 [50:31<11:42:02, 47.17s/it, best loss: -0.654069767442]\u001b[A"
     ]
    },
    {
     "name": "stderr",
     "output_type": "stream",
     "text": [
      "Hyperopt:  11%|█         | 108/1000 [50:31<8:57:17, 36.14s/it] "
     ]
    },
    {
     "name": "stdout",
     "output_type": "stream",
     "text": [
      "\n",
      " 11%|█         | 108/1000 [50:31<8:57:14, 36.14s/it, best loss: -0.654069767442] \u001b[A\n",
      "\u001b[AParameters with this training accuracy 0.969745865268 and loss 0.215201850992 :\n",
      "\n",
      " 11%|█         | 108/1000 [50:53<8:57:14, 36.14s/it, best loss: -0.654069767442]\u001b[A\n",
      "\u001b[AParameters with this testing accuracy 0.636627906977 and loss 1.15904440283 :\n",
      "\n",
      " 11%|█         | 108/1000 [50:53<8:57:14, 36.14s/it, best loss: -0.654069767442]\u001b[A\n",
      "\u001b[A{'colsample_bytree': 0.55, 'learning_rate': 0.1, 'min_child_weight': 6.0, 'n_estimators': 358, 'subsample': 0.9500000000000001, 'importance_type': 'weight', 'max_depth': 3, 'gamma': 0.8, 'booster': 'gbtree'}\n",
      "\n",
      " 11%|█         | 108/1000 [50:53<8:57:14, 36.14s/it, best loss: -0.654069767442]\u001b[A"
     ]
    },
    {
     "name": "stderr",
     "output_type": "stream",
     "text": [
      "Hyperopt:  11%|█         | 109/1000 [50:54<7:56:09, 32.06s/it]"
     ]
    },
    {
     "name": "stdout",
     "output_type": "stream",
     "text": [
      "\n",
      " 11%|█         | 109/1000 [50:53<7:56:09, 32.06s/it, best loss: -0.654069767442]\u001b[A\n",
      "\u001b[AParameters with this training accuracy 0.990318676886 and loss 0.125971505002 :\n",
      "\n",
      " 11%|█         | 109/1000 [51:56<7:56:09, 32.06s/it, best loss: -0.654069767442]\u001b[A\n",
      "\u001b[AParameters with this testing accuracy 0.639534883721 and loss 1.21979287809 :\n",
      "\n",
      " 11%|█         | 109/1000 [51:56<7:56:09, 32.06s/it, best loss: -0.654069767442]\u001b[A\n",
      "\u001b[A{'colsample_bytree': 0.5, 'learning_rate': 0.17500000000000002, 'min_child_weight': 6.0, 'n_estimators': 436, 'subsample': 0.8500000000000001, 'importance_type': 'weight', 'max_depth': 7, 'gamma': 0.7000000000000001, 'booster': 'dart'}\n",
      "\n",
      " 11%|█         | 109/1000 [51:56<7:56:09, 32.06s/it, best loss: -0.654069767442]\u001b[A"
     ]
    },
    {
     "name": "stderr",
     "output_type": "stream",
     "text": [
      "Hyperopt:  11%|█         | 110/1000 [51:56<10:09:41, 41.10s/it]"
     ]
    },
    {
     "name": "stdout",
     "output_type": "stream",
     "text": [
      "\n",
      " 11%|█         | 110/1000 [51:56<10:09:42, 41.10s/it, best loss: -0.654069767442]\u001b[A\n",
      "\u001b[AParameters with this training accuracy 0.974586526825 and loss 0.192239955036 :\n",
      "\n",
      " 11%|█         | 110/1000 [53:38<10:09:42, 41.10s/it, best loss: -0.654069767442]\u001b[A\n",
      "\u001b[AParameters with this testing accuracy 0.651162790698 and loss 1.1081348436 :\n",
      "\n",
      " 11%|█         | 110/1000 [53:38<10:09:42, 41.10s/it, best loss: -0.654069767442]\u001b[A\n",
      "\u001b[A{'colsample_bytree': 0.65, 'learning_rate': 0.025, 'min_child_weight': 3.0, 'n_estimators': 454, 'subsample': 0.75, 'importance_type': 'weight', 'max_depth': 6, 'gamma': 0.75, 'booster': 'dart'}\n",
      "\n",
      " 11%|█         | 110/1000 [53:38<10:09:42, 41.10s/it, best loss: -0.654069767442]\u001b[A"
     ]
    },
    {
     "name": "stderr",
     "output_type": "stream",
     "text": [
      "Hyperopt:  11%|█         | 111/1000 [53:38<14:41:45, 59.51s/it]"
     ]
    },
    {
     "name": "stdout",
     "output_type": "stream",
     "text": [
      "\n",
      " 11%|█         | 111/1000 [53:38<14:41:47, 59.51s/it, best loss: -0.654069767442]\u001b[A\n",
      "\u001b[AParameters with this training accuracy 0.951996772892 and loss 0.318048522195 :\n",
      "\n",
      " 11%|█         | 111/1000 [54:04<14:41:47, 59.51s/it, best loss: -0.654069767442]\u001b[A\n",
      "\u001b[AParameters with this testing accuracy 0.622093023256 and loss 1.15374817781 :\n",
      "\n",
      " 11%|█         | 111/1000 [54:04<14:41:47, 59.51s/it, best loss: -0.654069767442]\u001b[A\n",
      "\u001b[A{'colsample_bytree': 0.65, 'learning_rate': 0.025, 'min_child_weight': 1.0, 'n_estimators': 184, 'subsample': 0.9, 'importance_type': 'weight', 'max_depth': 6, 'gamma': 0.9, 'booster': 'gbtree'}\n",
      "\n",
      " 11%|█         | 111/1000 [54:04<14:41:47, 59.51s/it, best loss: -0.654069767442]\u001b[A"
     ]
    },
    {
     "name": "stderr",
     "output_type": "stream",
     "text": [
      "Hyperopt:  11%|█         | 112/1000 [54:04<12:09:49, 49.31s/it]"
     ]
    },
    {
     "name": "stdout",
     "output_type": "stream",
     "text": [
      "\n",
      " 11%|█         | 112/1000 [54:04<12:09:48, 49.31s/it, best loss: -0.654069767442]\u001b[A\n",
      "\u001b[AParameters with this training accuracy 0.47519160952 and loss 1.79904064445 :\n",
      "\n",
      " 11%|█         | 112/1000 [54:11<12:09:48, 49.31s/it, best loss: -0.654069767442]\u001b[A\n",
      "\u001b[AParameters with this testing accuracy 0.485465116279 and loss 1.79774488344 :\n",
      "\n",
      " 11%|█         | 112/1000 [54:11<12:09:48, 49.31s/it, best loss: -0.654069767442]\u001b[A\n",
      "\u001b[A{'colsample_bytree': 0.65, 'learning_rate': 0.025, 'min_child_weight': 2.0, 'n_estimators': 202, 'subsample': 1.0, 'importance_type': 'total_cover', 'max_depth': 6, 'gamma': 0.8500000000000001, 'booster': 'gblinear'}\n",
      "\n",
      " 11%|█         | 112/1000 [54:11<12:09:48, 49.31s/it, best loss: -0.654069767442]\u001b[A"
     ]
    },
    {
     "name": "stderr",
     "output_type": "stream",
     "text": [
      "Hyperopt:  11%|█▏        | 113/1000 [54:11<9:01:59, 36.66s/it] "
     ]
    },
    {
     "name": "stdout",
     "output_type": "stream",
     "text": [
      "\n",
      " 11%|█▏        | 113/1000 [54:11<9:01:57, 36.66s/it, best loss: -0.654069767442] \u001b[A\n",
      "\u001b[AParameters with this training accuracy 0.993949173054 and loss 0.107154647452 :\n",
      "\n",
      " 11%|█▏        | 113/1000 [55:30<9:01:57, 36.66s/it, best loss: -0.654069767442]\u001b[A\n",
      "\u001b[AParameters with this testing accuracy 0.613372093023 and loss 1.2544969584 :\n",
      "\n",
      " 11%|█▏        | 113/1000 [55:30<9:01:57, 36.66s/it, best loss: -0.654069767442]\u001b[A\n",
      "\u001b[A{'colsample_bytree': 0.6000000000000001, 'learning_rate': 0.275, 'min_child_weight': 2.0, 'n_estimators': 497, 'subsample': 0.8, 'importance_type': 'weight', 'max_depth': 6, 'gamma': 0.8500000000000001, 'booster': 'dart'}\n",
      "\n",
      " 11%|█▏        | 113/1000 [55:30<9:01:57, 36.66s/it, best loss: -0.654069767442]\u001b[A"
     ]
    },
    {
     "name": "stderr",
     "output_type": "stream",
     "text": [
      "Hyperopt:  11%|█▏        | 114/1000 [55:30<12:10:02, 49.44s/it]"
     ]
    },
    {
     "name": "stdout",
     "output_type": "stream",
     "text": [
      "\n",
      " 11%|█▏        | 114/1000 [55:30<12:10:04, 49.44s/it, best loss: -0.654069767442]\u001b[A\n",
      "\u001b[AParameters with this training accuracy 0.990318676886 and loss 0.131114374703 :\n",
      "\n",
      " 11%|█▏        | 114/1000 [56:20<12:10:04, 49.44s/it, best loss: -0.654069767442]\u001b[A\n",
      "\u001b[AParameters with this testing accuracy 0.651162790698 and loss 1.14540381912 :\n",
      "\n",
      " 11%|█▏        | 114/1000 [56:20<12:10:04, 49.44s/it, best loss: -0.654069767442]\u001b[A\n",
      "\u001b[A{'colsample_bytree': 0.75, 'learning_rate': 0.125, 'min_child_weight': 3.0, 'n_estimators': 404, 'subsample': 0.8500000000000001, 'importance_type': 'weight', 'max_depth': 6, 'gamma': 0.9, 'booster': 'gbtree'}\n",
      "\n",
      " 11%|█▏        | 114/1000 [56:20<12:10:04, 49.44s/it, best loss: -0.654069767442]\u001b[A"
     ]
    },
    {
     "name": "stderr",
     "output_type": "stream",
     "text": [
      "Hyperopt:  12%|█▏        | 115/1000 [56:20<12:10:51, 49.55s/it]"
     ]
    },
    {
     "name": "stdout",
     "output_type": "stream",
     "text": [
      "\n",
      " 12%|█▏        | 115/1000 [56:20<12:10:52, 49.55s/it, best loss: -0.654069767442]\u001b[A\n",
      "\u001b[AParameters with this training accuracy 0.987494957644 and loss 0.139027376878 :\n",
      "\n",
      " 12%|█▏        | 115/1000 [56:58<12:10:52, 49.55s/it, best loss: -0.654069767442]\u001b[A\n",
      "\u001b[AParameters with this testing accuracy 0.639534883721 and loss 1.18380157759 :\n",
      "\n",
      " 12%|█▏        | 115/1000 [56:58<12:10:52, 49.55s/it, best loss: -0.654069767442]\u001b[A\n",
      "\u001b[A{'colsample_bytree': 0.8500000000000001, 'learning_rate': 0.15000000000000002, 'min_child_weight': 3.0, 'n_estimators': 279, 'subsample': 0.9, 'importance_type': 'weight', 'max_depth': 6, 'gamma': 0.9500000000000001, 'booster': 'gbtree'}\n",
      "\n",
      " 12%|█▏        | 115/1000 [56:58<12:10:52, 49.55s/it, best loss: -0.654069767442]\u001b[A"
     ]
    },
    {
     "name": "stderr",
     "output_type": "stream",
     "text": [
      "Hyperopt:  12%|█▏        | 116/1000 [56:59<11:21:20, 46.24s/it]"
     ]
    },
    {
     "name": "stdout",
     "output_type": "stream",
     "text": [
      "\n",
      " 12%|█▏        | 116/1000 [56:58<11:21:20, 46.24s/it, best loss: -0.654069767442]\u001b[A\n",
      "\u001b[AParameters with this training accuracy 0.974586526825 and loss 0.188651422594 :\n",
      "\n",
      " 12%|█▏        | 116/1000 [57:04<11:21:20, 46.24s/it, best loss: -0.654069767442]\u001b[A\n",
      "\u001b[AParameters with this testing accuracy 0.625 and loss 1.21309923085 :\n",
      "\n",
      " 12%|█▏        | 116/1000 [57:04<11:21:20, 46.24s/it, best loss: -0.654069767442]\u001b[A\n",
      "\u001b[A{'colsample_bytree': 0.75, 'learning_rate': 0.325, 'min_child_weight': 3.0, 'n_estimators': 39, 'subsample': 0.8500000000000001, 'importance_type': 'total_cover', 'max_depth': 6, 'gamma': 1.0, 'booster': 'gbtree'}\n",
      "\n",
      " 12%|█▏        | 116/1000 [57:04<11:21:20, 46.24s/it, best loss: -0.654069767442]\u001b[A"
     ]
    },
    {
     "name": "stderr",
     "output_type": "stream",
     "text": [
      "Hyperopt:  12%|█▏        | 117/1000 [57:05<8:22:54, 34.17s/it] "
     ]
    },
    {
     "name": "stdout",
     "output_type": "stream",
     "text": [
      "\n",
      " 12%|█▏        | 117/1000 [57:04<8:22:52, 34.17s/it, best loss: -0.654069767442] \u001b[A\n",
      "\u001b[AParameters with this training accuracy 0.993545784591 and loss 0.104512926757 :\n",
      "\n",
      " 12%|█▏        | 117/1000 [58:17<8:22:52, 34.17s/it, best loss: -0.654069767442]\u001b[A\n",
      "\u001b[AParameters with this testing accuracy 0.613372093023 and loss 1.23869693167 :\n",
      "\n",
      " 12%|█▏        | 117/1000 [58:17<8:22:52, 34.17s/it, best loss: -0.654069767442]\u001b[A\n",
      "\u001b[A{'colsample_bytree': 0.55, 'learning_rate': 0.4, 'min_child_weight': 4.0, 'n_estimators': 487, 'subsample': 1.0, 'importance_type': 'weight', 'max_depth': 8, 'gamma': 0.7000000000000001, 'booster': 'dart'}\n",
      "\n",
      " 12%|█▏        | 117/1000 [58:18<8:22:52, 34.17s/it, best loss: -0.654069767442]\u001b[A"
     ]
    },
    {
     "name": "stderr",
     "output_type": "stream",
     "text": [
      "Hyperopt:  12%|█▏        | 118/1000 [58:18<11:14:11, 45.86s/it]"
     ]
    },
    {
     "name": "stdout",
     "output_type": "stream",
     "text": [
      "\n",
      " 12%|█▏        | 118/1000 [58:18<11:14:12, 45.86s/it, best loss: -0.654069767442]\u001b[A\n",
      "\u001b[AParameters with this training accuracy 0.980637353772 and loss 0.17093695785 :\n",
      "\n",
      " 12%|█▏        | 118/1000 [59:07<11:14:12, 45.86s/it, best loss: -0.654069767442]\u001b[A\n",
      "\u001b[AParameters with this testing accuracy 0.636627906977 and loss 1.14943290913 :\n",
      "\n",
      " 12%|█▏        | 118/1000 [59:07<11:14:12, 45.86s/it, best loss: -0.654069767442]\u001b[A\n",
      "\u001b[A{'colsample_bytree': 0.7000000000000001, 'learning_rate': 0.07500000000000001, 'min_child_weight': 5.0, 'n_estimators': 338, 'subsample': 0.9500000000000001, 'importance_type': 'cover', 'max_depth': 4, 'gamma': 0.65, 'booster': 'dart'}\n",
      "\n",
      " 12%|█▏        | 118/1000 [59:07<11:14:12, 45.86s/it, best loss: -0.654069767442]\u001b[A"
     ]
    },
    {
     "name": "stderr",
     "output_type": "stream",
     "text": [
      "Hyperopt:  12%|█▏        | 119/1000 [59:08<11:30:48, 47.05s/it]"
     ]
    },
    {
     "name": "stdout",
     "output_type": "stream",
     "text": [
      "\n",
      " 12%|█▏        | 119/1000 [59:07<11:30:48, 47.05s/it, best loss: -0.654069767442]\u001b[A\n",
      "\u001b[AParameters with this training accuracy 0.473981444131 and loss 1.7697736671 :\n",
      "\n",
      " 12%|█▏        | 119/1000 [59:12<11:30:48, 47.05s/it, best loss: -0.654069767442]\u001b[A\n",
      "\u001b[AParameters with this testing accuracy 0.485465116279 and loss 1.76293678211 :\n",
      "\n",
      " 12%|█▏        | 119/1000 [59:12<11:30:48, 47.05s/it, best loss: -0.654069767442]\u001b[A\n",
      "\u001b[A{'colsample_bytree': 0.55, 'learning_rate': 0.2, 'min_child_weight': 4.0, 'n_estimators': 118, 'subsample': 0.8, 'importance_type': 'gain', 'max_depth': 7, 'gamma': 0.6000000000000001, 'booster': 'gblinear'}\n",
      "\n",
      " 12%|█▏        | 119/1000 [59:12<11:30:48, 47.05s/it, best loss: -0.654069767442]\u001b[A"
     ]
    },
    {
     "name": "stderr",
     "output_type": "stream",
     "text": [
      "Hyperopt:  12%|█▏        | 120/1000 [59:12<8:22:26, 34.26s/it] "
     ]
    },
    {
     "name": "stdout",
     "output_type": "stream",
     "text": [
      "\n",
      " 12%|█▏        | 120/1000 [59:12<8:22:24, 34.26s/it, best loss: -0.654069767442] \u001b[A\n",
      "\u001b[AParameters with this training accuracy 0.993545784591 and loss 0.0896459499959 :\n",
      "\n",
      " 12%|█▏        | 120/1000 [59:34<8:22:24, 34.26s/it, best loss: -0.654069767442]\u001b[A\n",
      "\u001b[AParameters with this testing accuracy 0.622093023256 and loss 1.31899956278 :\n",
      "\n",
      " 12%|█▏        | 120/1000 [59:34<8:22:24, 34.26s/it, best loss: -0.654069767442]\u001b[A\n",
      "\u001b[A{'colsample_bytree': 0.8, 'learning_rate': 0.47500000000000003, 'min_child_weight': 6.0, 'n_estimators': 153, 'subsample': 0.9500000000000001, 'importance_type': 'cover', 'max_depth': 9, 'gamma': 0.5, 'booster': 'dart'}\n",
      "\n",
      " 12%|█▏        | 120/1000 [59:34<8:22:24, 34.26s/it, best loss: -0.654069767442]\u001b[A"
     ]
    },
    {
     "name": "stderr",
     "output_type": "stream",
     "text": [
      "Hyperopt:  12%|█▏        | 121/1000 [59:35<7:30:28, 30.75s/it]"
     ]
    },
    {
     "name": "stdout",
     "output_type": "stream",
     "text": [
      "\n",
      " 12%|█▏        | 121/1000 [59:34<7:30:27, 30.75s/it, best loss: -0.654069767442]\u001b[A\n",
      "\u001b[AParameters with this training accuracy 0.989108511497 and loss 0.137428302522 :\n",
      "\n",
      " 12%|█▏        | 121/1000 [1:00:39<7:30:27, 30.75s/it, best loss: -0.654069767442]\u001b[A\n",
      "\u001b[AParameters with this testing accuracy 0.645348837209 and loss 1.16511298365 :\n",
      "\n",
      " 12%|█▏        | 121/1000 [1:00:39<7:30:27, 30.75s/it, best loss: -0.654069767442]\u001b[A\n",
      "\u001b[A{'colsample_bytree': 0.6000000000000001, 'learning_rate': 0.1, 'min_child_weight': 4.0, 'n_estimators': 413, 'subsample': 0.7000000000000001, 'importance_type': 'gain', 'max_depth': 5, 'gamma': 0.8, 'booster': 'dart'}\n",
      "\n",
      " 12%|█▏        | 121/1000 [1:00:39<7:30:27, 30.75s/it, best loss: -0.654069767442]\u001b[A"
     ]
    },
    {
     "name": "stderr",
     "output_type": "stream",
     "text": [
      "Hyperopt:  12%|█▏        | 122/1000 [1:00:39<9:57:02, 40.80s/it]"
     ]
    },
    {
     "name": "stdout",
     "output_type": "stream",
     "text": [
      "\n",
      " 12%|█▏        | 122/1000 [1:00:39<9:57:03, 40.80s/it, best loss: -0.654069767442]\u001b[A\n",
      "\u001b[AParameters with this training accuracy 0.969342476805 and loss 0.209923307028 :\n",
      "\n",
      " 12%|█▏        | 122/1000 [1:01:20<9:57:03, 40.80s/it, best loss: -0.654069767442]\u001b[A\n",
      "\u001b[AParameters with this testing accuracy 0.648255813953 and loss 1.11634279211 :\n",
      "\n",
      " 12%|█▏        | 122/1000 [1:01:20<9:57:03, 40.80s/it, best loss: -0.654069767442]\u001b[A\n",
      "\u001b[A{'colsample_bytree': 0.5, 'learning_rate': 0.05, 'min_child_weight': 5.0, 'n_estimators': 260, 'subsample': 0.75, 'importance_type': 'weight', 'max_depth': 7, 'gamma': 0.65, 'booster': 'dart'}\n",
      "\n",
      " 12%|█▏        | 122/1000 [1:01:20<9:57:03, 40.80s/it, best loss: -0.654069767442]\u001b[A"
     ]
    },
    {
     "name": "stderr",
     "output_type": "stream",
     "text": [
      "Hyperopt:  12%|█▏        | 123/1000 [1:01:20<9:59:18, 41.00s/it]"
     ]
    },
    {
     "name": "stdout",
     "output_type": "stream",
     "text": [
      "\n",
      " 12%|█▏        | 123/1000 [1:01:20<9:59:18, 41.00s/it, best loss: -0.654069767442]\u001b[A\n",
      "\u001b[AParameters with this training accuracy 0.991125453812 and loss 0.121025825119 :\n",
      "\n",
      " 12%|█▏        | 123/1000 [1:02:09<9:59:18, 41.00s/it, best loss: -0.654069767442]\u001b[A\n",
      "\u001b[AParameters with this testing accuracy 0.645348837209 and loss 1.20509612862 :\n",
      "\n",
      " 12%|█▏        | 123/1000 [1:02:09<9:59:18, 41.00s/it, best loss: -0.654069767442]\u001b[A\n",
      "\u001b[A{'colsample_bytree': 0.75, 'learning_rate': 0.25, 'min_child_weight': 2.0, 'n_estimators': 386, 'subsample': 0.8500000000000001, 'importance_type': 'total_gain', 'max_depth': 6, 'gamma': 0.9500000000000001, 'booster': 'gbtree'}\n",
      "\n",
      " 12%|█▏        | 123/1000 [1:02:09<9:59:18, 41.00s/it, best loss: -0.654069767442]\u001b[A"
     ]
    },
    {
     "name": "stderr",
     "output_type": "stream",
     "text": [
      "Hyperopt:  12%|█▏        | 124/1000 [1:02:09<10:33:31, 43.39s/it]"
     ]
    },
    {
     "name": "stdout",
     "output_type": "stream",
     "text": [
      "\n",
      " 12%|█▏        | 124/1000 [1:02:09<10:33:31, 43.39s/it, best loss: -0.654069767442]\u001b[A\n",
      "\u001b[AParameters with this training accuracy 0.474384832594 and loss 1.76795072192 :\n",
      "\n",
      " 12%|█▏        | 124/1000 [1:02:18<10:33:31, 43.39s/it, best loss: -0.654069767442]\u001b[A\n",
      "\u001b[AParameters with this testing accuracy 0.488372093023 and loss 1.75995276151 :\n",
      "\n",
      " 12%|█▏        | 124/1000 [1:02:18<10:33:31, 43.39s/it, best loss: -0.654069767442]\u001b[A\n",
      "\u001b[A{'colsample_bytree': 0.7000000000000001, 'learning_rate': 0.15000000000000002, 'min_child_weight': 5.0, 'n_estimators': 259, 'subsample': 0.9, 'importance_type': 'cover', 'max_depth': 4, 'gamma': 0.55, 'booster': 'gblinear'}\n",
      "\n",
      " 12%|█▏        | 124/1000 [1:02:18<10:33:31, 43.39s/it, best loss: -0.654069767442]\u001b[A"
     ]
    },
    {
     "name": "stderr",
     "output_type": "stream",
     "text": [
      "Hyperopt:  12%|█▎        | 125/1000 [1:02:18<8:01:14, 33.00s/it] "
     ]
    },
    {
     "name": "stdout",
     "output_type": "stream",
     "text": [
      "\n",
      " 12%|█▎        | 125/1000 [1:02:18<8:01:12, 33.00s/it, best loss: -0.654069767442] \u001b[A\n",
      "\u001b[AParameters with this training accuracy 0.947559499798 and loss 0.282126955236 :\n",
      "\n",
      " 12%|█▎        | 125/1000 [1:02:32<8:01:12, 33.00s/it, best loss: -0.654069767442]\u001b[A\n",
      "\u001b[AParameters with this testing accuracy 0.633720930233 and loss 1.15357080638 :\n",
      "\n",
      " 12%|█▎        | 125/1000 [1:02:32<8:01:12, 33.00s/it, best loss: -0.654069767442]\u001b[A\n",
      "\u001b[A{'colsample_bytree': 0.8, 'learning_rate': 0.125, 'min_child_weight': 4.0, 'n_estimators': 133, 'subsample': 1.0, 'importance_type': 'cover', 'max_depth': 3, 'gamma': 0.6000000000000001, 'booster': 'dart'}\n",
      "\n",
      " 12%|█▎        | 125/1000 [1:02:32<8:01:12, 33.00s/it, best loss: -0.654069767442]\u001b[A"
     ]
    },
    {
     "name": "stderr",
     "output_type": "stream",
     "text": [
      "Hyperopt:  13%|█▎        | 126/1000 [1:02:32<6:38:02, 27.33s/it]"
     ]
    },
    {
     "name": "stdout",
     "output_type": "stream",
     "text": [
      "\n",
      " 13%|█▎        | 126/1000 [1:02:32<6:38:02, 27.33s/it, best loss: -0.654069767442]\u001b[A\n",
      "\u001b[AParameters with this training accuracy 0.962484872933 and loss 0.237172773678 :\n",
      "\n",
      " 13%|█▎        | 126/1000 [1:02:45<6:38:02, 27.33s/it, best loss: -0.654069767442]\u001b[A\n",
      "\u001b[AParameters with this testing accuracy 0.639534883721 and loss 1.15637708294 :\n",
      "\n",
      " 13%|█▎        | 126/1000 [1:02:45<6:38:02, 27.33s/it, best loss: -0.654069767442]\u001b[A\n",
      "\u001b[A{'colsample_bytree': 0.7000000000000001, 'learning_rate': 0.225, 'min_child_weight': 6.0, 'n_estimators': 244, 'subsample': 1.0, 'importance_type': 'cover', 'max_depth': 2, 'gamma': 0.65, 'booster': 'gbtree'}\n",
      "\n",
      " 13%|█▎        | 126/1000 [1:02:45<6:38:02, 27.33s/it, best loss: -0.654069767442]\u001b[A"
     ]
    },
    {
     "name": "stderr",
     "output_type": "stream",
     "text": [
      "Hyperopt:  13%|█▎        | 127/1000 [1:02:46<5:36:31, 23.13s/it]"
     ]
    },
    {
     "name": "stdout",
     "output_type": "stream",
     "text": [
      "\n",
      " 13%|█▎        | 127/1000 [1:02:45<5:36:30, 23.13s/it, best loss: -0.654069767442]\u001b[A\n",
      "\u001b[AParameters with this training accuracy 0.876563130294 and loss 0.487125680815 :\n",
      "\n",
      " 13%|█▎        | 127/1000 [1:03:27<5:36:30, 23.13s/it, best loss: -0.654069767442]\u001b[A\n",
      "\u001b[AParameters with this testing accuracy 0.636627906977 and loss 1.12418844333 :\n",
      "\n",
      " 13%|█▎        | 127/1000 [1:03:27<5:36:30, 23.13s/it, best loss: -0.654069767442]\u001b[A\n",
      "\u001b[A{'colsample_bytree': 0.75, 'learning_rate': 0.07500000000000001, 'min_child_weight': 4.0, 'n_estimators': 478, 'subsample': 0.9, 'importance_type': 'gain', 'max_depth': 1, 'gamma': 0.55, 'booster': 'dart'}\n",
      "\n",
      " 13%|█▎        | 127/1000 [1:03:27<5:36:30, 23.13s/it, best loss: -0.654069767442]\u001b[A"
     ]
    },
    {
     "name": "stderr",
     "output_type": "stream",
     "text": [
      "Hyperopt:  13%|█▎        | 128/1000 [1:03:27<6:56:50, 28.68s/it]"
     ]
    },
    {
     "name": "stdout",
     "output_type": "stream",
     "text": [
      "\n",
      " 13%|█▎        | 128/1000 [1:03:27<6:56:52, 28.68s/it, best loss: -0.654069767442]\u001b[A\n",
      "\u001b[AParameters with this training accuracy 0.980637353772 and loss 0.179348446398 :\n",
      "\n",
      " 13%|█▎        | 128/1000 [1:04:43<6:56:52, 28.68s/it, best loss: -0.654069767442]\u001b[A\n",
      "\u001b[AParameters with this testing accuracy 0.639534883721 and loss 1.1309647256 :\n",
      "\n",
      " 13%|█▎        | 128/1000 [1:04:43<6:56:52, 28.68s/it, best loss: -0.654069767442]\u001b[A\n",
      "\u001b[A{'colsample_bytree': 0.65, 'learning_rate': 0.025, 'min_child_weight': 1.0, 'n_estimators': 350, 'subsample': 0.75, 'importance_type': 'total_cover', 'max_depth': 6, 'gamma': 0.75, 'booster': 'dart'}\n",
      "\n",
      " 13%|█▎        | 128/1000 [1:04:43<6:56:52, 28.68s/it, best loss: -0.654069767442]\u001b[A"
     ]
    },
    {
     "name": "stderr",
     "output_type": "stream",
     "text": [
      "Hyperopt:  13%|█▎        | 129/1000 [1:04:44<10:25:04, 43.06s/it]"
     ]
    },
    {
     "name": "stdout",
     "output_type": "stream",
     "text": [
      "\n",
      " 13%|█▎        | 129/1000 [1:04:43<10:25:05, 43.06s/it, best loss: -0.654069767442]\u001b[A\n",
      "\u001b[AParameters with this training accuracy 0.969342476805 and loss 0.209876045773 :\n",
      "\n",
      " 13%|█▎        | 129/1000 [1:04:54<10:25:05, 43.06s/it, best loss: -0.654069767442]\u001b[A\n",
      "\u001b[AParameters with this testing accuracy 0.639534883721 and loss 1.1491458128 :\n",
      "\n",
      " 13%|█▎        | 129/1000 [1:04:54<10:25:05, 43.06s/it, best loss: -0.654069767442]\u001b[A\n",
      "\u001b[A{'colsample_bytree': 0.8500000000000001, 'learning_rate': 0.17500000000000002, 'min_child_weight': 5.0, 'n_estimators': 97, 'subsample': 0.9500000000000001, 'importance_type': 'cover', 'max_depth': 4, 'gamma': 0.65, 'booster': 'gbtree'}\n",
      "\n",
      " 13%|█▎        | 129/1000 [1:04:54<10:25:05, 43.06s/it, best loss: -0.654069767442]\u001b[A"
     ]
    },
    {
     "name": "stderr",
     "output_type": "stream",
     "text": [
      "Hyperopt:  13%|█▎        | 130/1000 [1:04:55<8:04:51, 33.44s/it] "
     ]
    },
    {
     "name": "stdout",
     "output_type": "stream",
     "text": [
      "\n",
      " 13%|█▎        | 130/1000 [1:04:54<8:04:50, 33.44s/it, best loss: -0.654069767442] \u001b[A\n",
      "\u001b[AParameters with this training accuracy 0.473981444131 and loss 1.76849013191 :\n",
      "\n",
      " 13%|█▎        | 130/1000 [1:05:03<8:04:50, 33.44s/it, best loss: -0.654069767442]\u001b[A\n",
      "\u001b[AParameters with this testing accuracy 0.488372093023 and loss 1.76085994159 :\n",
      "\n",
      " 13%|█▎        | 130/1000 [1:05:03<8:04:50, 33.44s/it, best loss: -0.654069767442]\u001b[A\n",
      "\u001b[A{'colsample_bytree': 0.6000000000000001, 'learning_rate': 0.125, 'min_child_weight': 4.0, 'n_estimators': 263, 'subsample': 0.9500000000000001, 'importance_type': 'gain', 'max_depth': 8, 'gamma': 0.6000000000000001, 'booster': 'gblinear'}\n",
      "\n",
      " 13%|█▎        | 130/1000 [1:05:03<8:04:50, 33.44s/it, best loss: -0.654069767442]\u001b[A"
     ]
    },
    {
     "name": "stderr",
     "output_type": "stream",
     "text": [
      "Hyperopt:  13%|█▎        | 131/1000 [1:05:04<6:16:57, 26.03s/it]"
     ]
    },
    {
     "name": "stdout",
     "output_type": "stream",
     "text": [
      "\n",
      " 13%|█▎        | 131/1000 [1:05:03<6:16:56, 26.03s/it, best loss: -0.654069767442]\u001b[A\n",
      "\u001b[AParameters with this training accuracy 0.991932230738 and loss 0.111196875998 :\n",
      "\n",
      " 13%|█▎        | 131/1000 [1:05:53<6:16:56, 26.03s/it, best loss: -0.654069767442]\u001b[A\n",
      "\u001b[AParameters with this testing accuracy 0.619186046512 and loss 1.24008103849 :\n",
      "\n",
      " 13%|█▎        | 131/1000 [1:05:53<6:16:56, 26.03s/it, best loss: -0.654069767442]\u001b[A\n",
      "\u001b[A{'colsample_bytree': 0.8, 'learning_rate': 0.30000000000000004, 'min_child_weight': 3.0, 'n_estimators': 328, 'subsample': 0.8500000000000001, 'importance_type': 'weight', 'max_depth': 9, 'gamma': 0.9, 'booster': 'gbtree'}\n",
      "\n",
      " 13%|█▎        | 131/1000 [1:05:53<6:16:56, 26.03s/it, best loss: -0.654069767442]\u001b[A"
     ]
    },
    {
     "name": "stderr",
     "output_type": "stream",
     "text": [
      "Hyperopt:  13%|█▎        | 132/1000 [1:05:53<7:59:40, 33.16s/it]"
     ]
    },
    {
     "name": "stdout",
     "output_type": "stream",
     "text": [
      "\n",
      " 13%|█▎        | 132/1000 [1:05:53<7:59:41, 33.16s/it, best loss: -0.654069767442]\u001b[A\n",
      "\u001b[AParameters with this training accuracy 0.991125453812 and loss 0.114221692221 :\n",
      "\n",
      " 13%|█▎        | 132/1000 [1:06:37<7:59:41, 33.16s/it, best loss: -0.654069767442]\u001b[A\n",
      "\u001b[AParameters with this testing accuracy 0.625 and loss 1.22063416229 :\n",
      "\n",
      " 13%|█▎        | 132/1000 [1:06:37<7:59:41, 33.16s/it, best loss: -0.654069767442]\u001b[A\n",
      "\u001b[A{'colsample_bytree': 0.65, 'learning_rate': 0.225, 'min_child_weight': 3.0, 'n_estimators': 294, 'subsample': 0.8, 'importance_type': 'weight', 'max_depth': 6, 'gamma': 0.8, 'booster': 'dart'}\n",
      "\n",
      " 13%|█▎        | 132/1000 [1:06:37<7:59:41, 33.16s/it, best loss: -0.654069767442]\u001b[A"
     ]
    },
    {
     "name": "stderr",
     "output_type": "stream",
     "text": [
      "Hyperopt:  13%|█▎        | 133/1000 [1:06:37<8:46:01, 36.40s/it]"
     ]
    },
    {
     "name": "stdout",
     "output_type": "stream",
     "text": [
      "\n",
      " 13%|█▎        | 133/1000 [1:06:37<8:46:02, 36.40s/it, best loss: -0.654069767442]\u001b[A\n",
      "\u001b[AParameters with this training accuracy 0.985881403792 and loss 0.147483602488 :\n",
      "\n",
      " 13%|█▎        | 133/1000 [1:07:31<8:46:02, 36.40s/it, best loss: -0.654069767442]\u001b[A\n",
      "\u001b[AParameters with this testing accuracy 0.654069767442 and loss 1.17449095727 :\n",
      "\n",
      " 13%|█▎        | 133/1000 [1:07:31<8:46:02, 36.40s/it, best loss: -0.654069767442]\u001b[A\n",
      "\u001b[A{'colsample_bytree': 0.7000000000000001, 'learning_rate': 0.1, 'min_child_weight': 5.0, 'n_estimators': 347, 'subsample': 1.0, 'importance_type': 'cover', 'max_depth': 5, 'gamma': 0.7000000000000001, 'booster': 'dart'}\n",
      "\n",
      " 13%|█▎        | 133/1000 [1:07:31<8:46:02, 36.40s/it, best loss: -0.654069767442]\u001b[A"
     ]
    },
    {
     "name": "stderr",
     "output_type": "stream",
     "text": [
      "Hyperopt:  13%|█▎        | 134/1000 [1:07:32<10:02:34, 41.75s/it]"
     ]
    },
    {
     "name": "stdout",
     "output_type": "stream",
     "text": [
      "\n",
      " 13%|█▎        | 134/1000 [1:07:31<10:02:35, 41.75s/it, best loss: -0.654069767442]\u001b[A\n",
      "\u001b[AParameters with this training accuracy 0.987494957644 and loss 0.146105165236 :\n",
      "\n",
      " 13%|█▎        | 134/1000 [1:08:16<10:02:35, 41.75s/it, best loss: -0.654069767442]\u001b[A\n",
      "\u001b[AParameters with this testing accuracy 0.630813953488 and loss 1.18236741983 :\n",
      "\n",
      " 13%|█▎        | 134/1000 [1:08:16<10:02:35, 41.75s/it, best loss: -0.654069767442]\u001b[A\n",
      "\u001b[A{'colsample_bytree': 0.75, 'learning_rate': 0.2, 'min_child_weight': 6.0, 'n_estimators': 305, 'subsample': 1.0, 'importance_type': 'total_gain', 'max_depth': 5, 'gamma': 0.7000000000000001, 'booster': 'dart'}\n",
      "\n",
      " 13%|█▎        | 134/1000 [1:08:16<10:02:35, 41.75s/it, best loss: -0.654069767442]\u001b[A"
     ]
    },
    {
     "name": "stderr",
     "output_type": "stream",
     "text": [
      "Hyperopt:  14%|█▎        | 135/1000 [1:08:16<10:14:09, 42.60s/it]"
     ]
    },
    {
     "name": "stdout",
     "output_type": "stream",
     "text": [
      "\n",
      " 14%|█▎        | 135/1000 [1:08:16<10:14:09, 42.60s/it, best loss: -0.654069767442]\u001b[A\n",
      "\u001b[AParameters with this training accuracy 0.984671238403 and loss 0.161165995325 :\n",
      "\n",
      " 14%|█▎        | 135/1000 [1:08:40<10:14:09, 42.60s/it, best loss: -0.654069767442]\u001b[A\n",
      "\u001b[AParameters with this testing accuracy 0.651162790698 and loss 1.16553699891 :\n",
      "\n",
      " 14%|█▎        | 135/1000 [1:08:40<10:14:09, 42.60s/it, best loss: -0.654069767442]\u001b[A\n",
      "\u001b[A{'colsample_bytree': 0.7000000000000001, 'learning_rate': 0.15000000000000002, 'min_child_weight': 6.0, 'n_estimators': 253, 'subsample': 1.0, 'importance_type': 'gain', 'max_depth': 5, 'gamma': 0.75, 'booster': 'gbtree'}\n",
      "\n",
      " 14%|█▎        | 135/1000 [1:08:40<10:14:09, 42.60s/it, best loss: -0.654069767442]\u001b[A"
     ]
    },
    {
     "name": "stderr",
     "output_type": "stream",
     "text": [
      "Hyperopt:  14%|█▎        | 136/1000 [1:08:41<8:56:13, 37.24s/it] "
     ]
    },
    {
     "name": "stdout",
     "output_type": "stream",
     "text": [
      "\n",
      " 14%|█▎        | 136/1000 [1:08:40<8:56:13, 37.24s/it, best loss: -0.654069767442] \u001b[A\n",
      "\u001b[AParameters with this training accuracy 0.991125453812 and loss 0.116065633234 :\n",
      "\n",
      " 14%|█▎        | 136/1000 [1:09:23<8:56:13, 37.24s/it, best loss: -0.654069767442]\u001b[A\n",
      "\u001b[AParameters with this testing accuracy 0.648255813953 and loss 1.23257625414 :\n",
      "\n",
      " 14%|█▎        | 136/1000 [1:09:23<8:56:13, 37.24s/it, best loss: -0.654069767442]\u001b[A\n",
      "\u001b[A{'colsample_bytree': 0.8500000000000001, 'learning_rate': 0.375, 'min_child_weight': 5.0, 'n_estimators': 292, 'subsample': 0.9, 'importance_type': 'cover', 'max_depth': 5, 'gamma': 0.75, 'booster': 'dart'}\n",
      "\n",
      " 14%|█▎        | 136/1000 [1:09:23<8:56:13, 37.24s/it, best loss: -0.654069767442]\u001b[A"
     ]
    },
    {
     "name": "stderr",
     "output_type": "stream",
     "text": [
      "Hyperopt:  14%|█▎        | 137/1000 [1:09:23<9:18:21, 38.82s/it]"
     ]
    },
    {
     "name": "stdout",
     "output_type": "stream",
     "text": [
      "\n",
      " 14%|█▎        | 137/1000 [1:09:23<9:18:22, 38.82s/it, best loss: -0.654069767442]\u001b[A\n",
      "\u001b[AParameters with this training accuracy 0.473981444131 and loss 1.77273904681 :\n",
      "\n",
      " 14%|█▎        | 137/1000 [1:09:29<9:18:22, 38.82s/it, best loss: -0.654069767442]\u001b[A\n",
      "\u001b[AParameters with this testing accuracy 0.485465116279 and loss 1.76737537168 :\n",
      "\n",
      " 14%|█▎        | 137/1000 [1:09:29<9:18:22, 38.82s/it, best loss: -0.654069767442]\u001b[A\n",
      "\u001b[A{'colsample_bytree': 0.65, 'learning_rate': 0.1, 'min_child_weight': 5.0, 'n_estimators': 175, 'subsample': 0.9500000000000001, 'importance_type': 'total_cover', 'max_depth': 5, 'gamma': 0.7000000000000001, 'booster': 'gblinear'}\n",
      "\n",
      " 14%|█▎        | 137/1000 [1:09:29<9:18:22, 38.82s/it, best loss: -0.654069767442]\u001b[A"
     ]
    },
    {
     "name": "stderr",
     "output_type": "stream",
     "text": [
      "Hyperopt:  14%|█▍        | 138/1000 [1:09:30<6:57:45, 29.08s/it]"
     ]
    },
    {
     "name": "stdout",
     "output_type": "stream",
     "text": [
      "\n",
      " 14%|█▍        | 138/1000 [1:09:29<6:57:43, 29.08s/it, best loss: -0.654069767442]\u001b[A\n",
      "\u001b[AParameters with this training accuracy 0.987898346107 and loss 0.135651422149 :\n",
      "\n",
      " 14%|█▍        | 138/1000 [1:10:51<6:57:43, 29.08s/it, best loss: -0.654069767442]\u001b[A\n",
      "\u001b[AParameters with this testing accuracy 0.630813953488 and loss 1.20431730451 :\n",
      "\n",
      " 14%|█▍        | 138/1000 [1:10:51<6:57:43, 29.08s/it, best loss: -0.654069767442]\u001b[A\n",
      "\u001b[A{'colsample_bytree': 0.9, 'learning_rate': 0.25, 'min_child_weight': 6.0, 'n_estimators': 485, 'subsample': 0.9500000000000001, 'importance_type': 'gain', 'max_depth': 5, 'gamma': 0.8, 'booster': 'dart'}\n",
      "\n",
      " 14%|█▍        | 138/1000 [1:10:51<6:57:43, 29.08s/it, best loss: -0.654069767442]\u001b[A"
     ]
    },
    {
     "name": "stderr",
     "output_type": "stream",
     "text": [
      "Hyperopt:  14%|█▍        | 139/1000 [1:10:52<10:44:38, 44.92s/it]"
     ]
    },
    {
     "name": "stdout",
     "output_type": "stream",
     "text": [
      "\n",
      " 14%|█▍        | 139/1000 [1:10:51<10:44:40, 44.92s/it, best loss: -0.654069767442]\u001b[A\n",
      "\u001b[AParameters with this training accuracy 0.986688180718 and loss 0.141765992439 :\n",
      "\n",
      " 14%|█▍        | 139/1000 [1:11:29<10:44:40, 44.92s/it, best loss: -0.654069767442]\u001b[A\n",
      "\u001b[AParameters with this testing accuracy 0.627906976744 and loss 1.16389752572 :\n",
      "\n",
      " 14%|█▍        | 139/1000 [1:11:29<10:44:40, 44.92s/it, best loss: -0.654069767442]\u001b[A\n",
      "\u001b[A{'colsample_bytree': 0.6000000000000001, 'learning_rate': 0.17500000000000002, 'min_child_weight': 6.0, 'n_estimators': 459, 'subsample': 1.0, 'importance_type': 'cover', 'max_depth': 5, 'gamma': 0.7000000000000001, 'booster': 'gbtree'}\n",
      "\n",
      " 14%|█▍        | 139/1000 [1:11:29<10:44:40, 44.92s/it, best loss: -0.654069767442]\u001b[A"
     ]
    },
    {
     "name": "stderr",
     "output_type": "stream",
     "text": [
      "Hyperopt:  14%|█▍        | 140/1000 [1:11:29<10:12:01, 42.70s/it]"
     ]
    },
    {
     "name": "stdout",
     "output_type": "stream",
     "text": [
      "\n",
      " 14%|█▍        | 140/1000 [1:11:29<10:12:02, 42.70s/it, best loss: -0.654069767442]\u001b[A\n",
      "\u001b[AParameters with this training accuracy 0.988705123033 and loss 0.135106161915 :\n",
      "\n",
      " 14%|█▍        | 140/1000 [1:12:15<10:12:02, 42.70s/it, best loss: -0.654069767442]\u001b[A\n",
      "\u001b[AParameters with this testing accuracy 0.639534883721 and loss 1.19043517294 :\n",
      "\n",
      " 14%|█▍        | 140/1000 [1:12:15<10:12:02, 42.70s/it, best loss: -0.654069767442]\u001b[A\n",
      "\u001b[A{'colsample_bytree': 0.7000000000000001, 'learning_rate': 0.1, 'min_child_weight': 5.0, 'n_estimators': 300, 'subsample': 0.9, 'importance_type': 'total_gain', 'max_depth': 5, 'gamma': 0.65, 'booster': 'dart'}\n",
      "\n",
      " 14%|█▍        | 140/1000 [1:12:15<10:12:02, 42.70s/it, best loss: -0.654069767442]\u001b[A"
     ]
    },
    {
     "name": "stderr",
     "output_type": "stream",
     "text": [
      "Hyperopt:  14%|█▍        | 141/1000 [1:12:15<10:26:10, 43.74s/it]"
     ]
    },
    {
     "name": "stdout",
     "output_type": "stream",
     "text": [
      "\n",
      " 14%|█▍        | 141/1000 [1:12:15<10:26:10, 43.74s/it, best loss: -0.654069767442]\u001b[A\n",
      "\u001b[AParameters with this training accuracy 0.820492133925 and loss 0.628676772809 :\n",
      "\n",
      " 14%|█▍        | 141/1000 [1:12:17<10:26:10, 43.74s/it, best loss: -0.654069767442]\u001b[A\n",
      "\u001b[AParameters with this testing accuracy 0.619186046512 and loss 1.17859790677 :\n",
      "\n",
      " 14%|█▍        | 141/1000 [1:12:17<10:26:10, 43.74s/it, best loss: -0.654069767442]\u001b[A\n",
      "\u001b[A{'colsample_bytree': 0.75, 'learning_rate': 0.275, 'min_child_weight': 6.0, 'n_estimators': 21, 'subsample': 1.0, 'importance_type': 'gain', 'max_depth': 3, 'gamma': 0.7000000000000001, 'booster': 'gbtree'}\n",
      "\n",
      " 14%|█▍        | 141/1000 [1:12:17<10:26:10, 43.74s/it, best loss: -0.654069767442]\u001b[A"
     ]
    },
    {
     "name": "stderr",
     "output_type": "stream",
     "text": [
      "Hyperopt:  14%|█▍        | 142/1000 [1:12:18<7:28:36, 31.37s/it] "
     ]
    },
    {
     "name": "stdout",
     "output_type": "stream",
     "text": [
      "\n",
      " 14%|█▍        | 142/1000 [1:12:17<7:28:34, 31.37s/it, best loss: -0.654069767442] \u001b[A\n",
      "\u001b[AParameters with this training accuracy 0.965711980637 and loss 0.21801089504 :\n",
      "\n",
      " 14%|█▍        | 142/1000 [1:12:41<7:28:34, 31.37s/it, best loss: -0.654069767442]\u001b[A\n",
      "\u001b[AParameters with this testing accuracy 0.636627906977 and loss 1.15894000623 :\n",
      "\n",
      " 14%|█▍        | 142/1000 [1:12:41<7:28:34, 31.37s/it, best loss: -0.654069767442]\u001b[A\n",
      "\u001b[A{'colsample_bytree': 0.6000000000000001, 'learning_rate': 0.2, 'min_child_weight': 5.0, 'n_estimators': 282, 'subsample': 1.0, 'importance_type': 'cover', 'max_depth': 2, 'gamma': 0.6000000000000001, 'booster': 'dart'}\n",
      "\n",
      " 14%|█▍        | 142/1000 [1:12:41<7:28:34, 31.37s/it, best loss: -0.654069767442]\u001b[A"
     ]
    },
    {
     "name": "stderr",
     "output_type": "stream",
     "text": [
      "Hyperopt:  14%|█▍        | 143/1000 [1:12:42<6:56:43, 29.18s/it]"
     ]
    },
    {
     "name": "stdout",
     "output_type": "stream",
     "text": [
      "\n",
      " 14%|█▍        | 143/1000 [1:12:41<6:56:43, 29.18s/it, best loss: -0.654069767442]\u001b[A\n",
      "\u001b[AParameters with this training accuracy 0.473578055668 and loss 1.76920317188 :\n",
      "\n",
      " 14%|█▍        | 143/1000 [1:12:54<6:56:43, 29.18s/it, best loss: -0.654069767442]\u001b[A\n",
      "\u001b[AParameters with this testing accuracy 0.488372093023 and loss 1.76202425722 :\n",
      "\n",
      " 14%|█▍        | 143/1000 [1:12:54<6:56:43, 29.18s/it, best loss: -0.654069767442]\u001b[A\n",
      "\u001b[A{'colsample_bytree': 0.65, 'learning_rate': 0.07500000000000001, 'min_child_weight': 5.0, 'n_estimators': 384, 'subsample': 0.9500000000000001, 'importance_type': 'total_cover', 'max_depth': 1, 'gamma': 0.8, 'booster': 'gblinear'}\n",
      "\n",
      " 14%|█▍        | 143/1000 [1:12:54<6:56:43, 29.18s/it, best loss: -0.654069767442]\u001b[A"
     ]
    },
    {
     "name": "stderr",
     "output_type": "stream",
     "text": [
      "Hyperopt:  14%|█▍        | 144/1000 [1:12:54<5:44:32, 24.15s/it]"
     ]
    },
    {
     "name": "stdout",
     "output_type": "stream",
     "text": [
      "\n",
      " 14%|█▍        | 144/1000 [1:12:54<5:44:30, 24.15s/it, best loss: -0.654069767442]\u001b[A\n",
      "\u001b[AParameters with this training accuracy 0.990722065349 and loss 0.115636707904 :\n",
      "\n",
      " 14%|█▍        | 144/1000 [1:13:28<5:44:30, 24.15s/it, best loss: -0.654069767442]\u001b[A\n",
      "\u001b[AParameters with this testing accuracy 0.622093023256 and loss 1.2765605737 :\n",
      "\n",
      " 14%|█▍        | 144/1000 [1:13:28<5:44:30, 24.15s/it, best loss: -0.654069767442]\u001b[A\n",
      "\u001b[A{'colsample_bytree': 0.8, 'learning_rate': 0.35000000000000003, 'min_child_weight': 5.0, 'n_estimators': 247, 'subsample': 0.8500000000000001, 'importance_type': 'gain', 'max_depth': 5, 'gamma': 0.75, 'booster': 'dart'}\n",
      "\n",
      " 14%|█▍        | 144/1000 [1:13:28<5:44:30, 24.15s/it, best loss: -0.654069767442]\u001b[A"
     ]
    },
    {
     "name": "stderr",
     "output_type": "stream",
     "text": [
      "Hyperopt:  14%|█▍        | 145/1000 [1:13:29<6:27:58, 27.23s/it]"
     ]
    },
    {
     "name": "stdout",
     "output_type": "stream",
     "text": [
      "\n",
      " 14%|█▍        | 145/1000 [1:13:28<6:27:59, 27.23s/it, best loss: -0.654069767442]\u001b[A\n",
      "\u001b[AParameters with this training accuracy 0.98830173457 and loss 0.136845381308 :\n",
      "\n",
      " 14%|█▍        | 145/1000 [1:14:47<6:27:59, 27.23s/it, best loss: -0.654069767442]\u001b[A\n",
      "\u001b[AParameters with this testing accuracy 0.645348837209 and loss 1.1566043294 :\n",
      "\n",
      " 14%|█▍        | 145/1000 [1:14:47<6:27:59, 27.23s/it, best loss: -0.654069767442]\u001b[A\n",
      "\u001b[A{'colsample_bytree': 0.65, 'learning_rate': 0.05, 'min_child_weight': 3.0, 'n_estimators': 400, 'subsample': 0.8, 'importance_type': 'weight', 'max_depth': 6, 'gamma': 0.75, 'booster': 'dart'}\n",
      "\n",
      " 14%|█▍        | 145/1000 [1:14:47<6:27:59, 27.23s/it, best loss: -0.654069767442]\u001b[A"
     ]
    },
    {
     "name": "stderr",
     "output_type": "stream",
     "text": [
      "Hyperopt:  15%|█▍        | 146/1000 [1:14:48<10:09:15, 42.80s/it]"
     ]
    },
    {
     "name": "stdout",
     "output_type": "stream",
     "text": [
      "\n",
      " 15%|█▍        | 146/1000 [1:14:47<10:09:16, 42.81s/it, best loss: -0.654069767442]\u001b[A\n",
      "\u001b[AParameters with this training accuracy 0.980637353772 and loss 0.172825709369 :\n",
      "\n",
      " 15%|█▍        | 146/1000 [1:15:45<10:09:16, 42.81s/it, best loss: -0.654069767442]\u001b[A\n",
      "\u001b[AParameters with this testing accuracy 0.648255813953 and loss 1.12054921375 :\n",
      "\n",
      " 15%|█▍        | 146/1000 [1:15:45<10:09:16, 42.81s/it, best loss: -0.654069767442]\u001b[A\n",
      "\u001b[A{'colsample_bytree': 0.55, 'learning_rate': 0.05, 'min_child_weight': 4.0, 'n_estimators': 323, 'subsample': 0.65, 'importance_type': 'weight', 'max_depth': 7, 'gamma': 0.7000000000000001, 'booster': 'dart'}\n",
      "\n",
      " 15%|█▍        | 146/1000 [1:15:45<10:09:16, 42.81s/it, best loss: -0.654069767442]\u001b[A"
     ]
    },
    {
     "name": "stderr",
     "output_type": "stream",
     "text": [
      "Hyperopt:  15%|█▍        | 147/1000 [1:15:45<11:09:35, 47.10s/it]"
     ]
    },
    {
     "name": "stdout",
     "output_type": "stream",
     "text": [
      "\n",
      " 15%|█▍        | 147/1000 [1:15:45<11:09:35, 47.10s/it, best loss: -0.654069767442]\u001b[A\n",
      "\u001b[AParameters with this training accuracy 0.986284792255 and loss 0.129085080633 :\n",
      "\n",
      " 15%|█▍        | 147/1000 [1:16:30<11:09:35, 47.10s/it, best loss: -0.654069767442]\u001b[A\n",
      "\u001b[AParameters with this testing accuracy 0.656976744186 and loss 1.1721668892 :\n",
      "\n",
      " 15%|█▍        | 147/1000 [1:16:30<11:09:35, 47.10s/it, best loss: -0.654069767442]\u001b[A\n",
      "\u001b[A{'colsample_bytree': 0.7000000000000001, 'learning_rate': 0.125, 'min_child_weight': 4.0, 'n_estimators': 321, 'subsample': 0.9500000000000001, 'importance_type': 'cover', 'max_depth': 4, 'gamma': 0.65, 'booster': 'dart'}\n",
      "\n",
      " 15%|█▍        | 147/1000 [1:16:30<11:09:35, 47.10s/it, best loss: -0.654069767442]\u001b[A"
     ]
    },
    {
     "name": "stderr",
     "output_type": "stream",
     "text": [
      "Hyperopt:  15%|█▍        | 148/1000 [1:16:31<11:03:33, 46.73s/it]"
     ]
    },
    {
     "name": "stdout",
     "output_type": "stream",
     "text": [
      "\n",
      " 15%|█▍        | 148/1000 [1:16:30<11:03:33, 46.73s/it, best loss: -0.656976744186]\u001b[A\n",
      "\u001b[AParameters with this training accuracy 0.989108511497 and loss 0.123603187416 :\n",
      "\n",
      " 15%|█▍        | 148/1000 [1:17:07<11:03:33, 46.73s/it, best loss: -0.656976744186]\u001b[A\n",
      "\u001b[AParameters with this testing accuracy 0.662790697674 and loss 1.17136370404 :\n",
      "\n",
      " 15%|█▍        | 148/1000 [1:17:07<11:03:33, 46.73s/it, best loss: -0.656976744186]\u001b[A\n",
      "\u001b[A{'colsample_bytree': 0.7000000000000001, 'learning_rate': 0.15000000000000002, 'min_child_weight': 4.0, 'n_estimators': 273, 'subsample': 0.9, 'importance_type': 'cover', 'max_depth': 4, 'gamma': 0.65, 'booster': 'dart'}\n",
      "\n",
      " 15%|█▍        | 148/1000 [1:17:07<11:03:33, 46.73s/it, best loss: -0.656976744186]\u001b[A"
     ]
    },
    {
     "name": "stderr",
     "output_type": "stream",
     "text": [
      "Hyperopt:  15%|█▍        | 149/1000 [1:17:08<10:21:36, 43.83s/it]"
     ]
    },
    {
     "name": "stdout",
     "output_type": "stream",
     "text": [
      "\n",
      " 15%|█▍        | 149/1000 [1:17:07<10:21:36, 43.83s/it, best loss: -0.662790697674]\u001b[A\n",
      "\u001b[AParameters with this training accuracy 0.987898346107 and loss 0.13367103843 :\n",
      "\n",
      " 15%|█▍        | 149/1000 [1:17:47<10:21:36, 43.83s/it, best loss: -0.662790697674]\u001b[A\n",
      "\u001b[AParameters with this testing accuracy 0.639534883721 and loss 1.17125293905 :\n",
      "\n",
      " 15%|█▍        | 149/1000 [1:17:47<10:21:36, 43.83s/it, best loss: -0.662790697674]\u001b[A\n",
      "\u001b[A{'colsample_bytree': 0.75, 'learning_rate': 0.125, 'min_child_weight': 4.0, 'n_estimators': 273, 'subsample': 0.9, 'importance_type': 'cover', 'max_depth': 4, 'gamma': 0.65, 'booster': 'dart'}\n",
      "\n",
      " 15%|█▍        | 149/1000 [1:17:47<10:21:36, 43.83s/it, best loss: -0.662790697674]\u001b[A"
     ]
    },
    {
     "name": "stderr",
     "output_type": "stream",
     "text": [
      "Hyperopt:  15%|█▌        | 150/1000 [1:17:47<10:02:34, 42.54s/it]"
     ]
    },
    {
     "name": "stdout",
     "output_type": "stream",
     "text": [
      "\n",
      " 15%|█▌        | 150/1000 [1:17:47<10:02:34, 42.54s/it, best loss: -0.662790697674]\u001b[A\n",
      "\u001b[AParameters with this training accuracy 0.987898346107 and loss 0.123133000245 :\n",
      "\n",
      " 15%|█▌        | 150/1000 [1:18:36<10:02:34, 42.54s/it, best loss: -0.662790697674]\u001b[A\n",
      "\u001b[AParameters with this testing accuracy 0.642441860465 and loss 1.18031281918 :\n",
      "\n",
      " 15%|█▌        | 150/1000 [1:18:36<10:02:34, 42.54s/it, best loss: -0.662790697674]\u001b[A\n",
      "\u001b[A{'colsample_bytree': 0.7000000000000001, 'learning_rate': 0.15000000000000002, 'min_child_weight': 5.0, 'n_estimators': 347, 'subsample': 0.9500000000000001, 'importance_type': 'cover', 'max_depth': 4, 'gamma': 0.6000000000000001, 'booster': 'dart'}\n",
      "\n",
      " 15%|█▌        | 150/1000 [1:18:36<10:02:34, 42.54s/it, best loss: -0.662790697674]\u001b[A"
     ]
    },
    {
     "name": "stderr",
     "output_type": "stream",
     "text": [
      "Hyperopt:  15%|█▌        | 151/1000 [1:18:36<10:29:31, 44.49s/it]"
     ]
    },
    {
     "name": "stdout",
     "output_type": "stream",
     "text": [
      "\n",
      " 15%|█▌        | 151/1000 [1:18:36<10:29:32, 44.49s/it, best loss: -0.662790697674]\u001b[A\n",
      "\u001b[AParameters with this training accuracy 0.988705123033 and loss 0.124420558785 :\n",
      "\n",
      " 15%|█▌        | 151/1000 [1:19:14<10:29:32, 44.49s/it, best loss: -0.662790697674]\u001b[A\n",
      "\u001b[AParameters with this testing accuracy 0.636627906977 and loss 1.19435155868 :\n",
      "\n",
      " 15%|█▌        | 151/1000 [1:19:14<10:29:32, 44.49s/it, best loss: -0.662790697674]\u001b[A\n",
      "\u001b[A{'colsample_bytree': 0.75, 'learning_rate': 0.125, 'min_child_weight': 4.0, 'n_estimators': 260, 'subsample': 0.9, 'importance_type': 'cover', 'max_depth': 4, 'gamma': 0.55, 'booster': 'dart'}\n",
      "\n",
      " 15%|█▌        | 151/1000 [1:19:14<10:29:32, 44.49s/it, best loss: -0.662790697674]\u001b[A"
     ]
    },
    {
     "name": "stderr",
     "output_type": "stream",
     "text": [
      "Hyperopt:  15%|█▌        | 152/1000 [1:19:14<9:59:55, 42.45s/it] "
     ]
    },
    {
     "name": "stdout",
     "output_type": "stream",
     "text": [
      "\n",
      " 15%|█▌        | 152/1000 [1:19:14<9:59:54, 42.45s/it, best loss: -0.662790697674] \u001b[A\n",
      "\u001b[AParameters with this training accuracy 0.989915288423 and loss 0.114741163141 :\n",
      "\n",
      " 15%|█▌        | 152/1000 [1:20:06<9:59:54, 42.45s/it, best loss: -0.662790697674]\u001b[A\n",
      "\u001b[AParameters with this testing accuracy 0.639534883721 and loss 1.194814394 :\n",
      "\n",
      " 15%|█▌        | 152/1000 [1:20:06<9:59:54, 42.45s/it, best loss: -0.662790697674]\u001b[A\n",
      "\u001b[A{'colsample_bytree': 0.7000000000000001, 'learning_rate': 0.17500000000000002, 'min_child_weight': 4.0, 'n_estimators': 370, 'subsample': 0.9, 'importance_type': 'cover', 'max_depth': 4, 'gamma': 0.65, 'booster': 'dart'}\n",
      "\n",
      " 15%|█▌        | 152/1000 [1:20:06<9:59:54, 42.45s/it, best loss: -0.662790697674]\u001b[A"
     ]
    },
    {
     "name": "stderr",
     "output_type": "stream",
     "text": [
      "Hyperopt:  15%|█▌        | 153/1000 [1:20:06<10:39:07, 45.27s/it]"
     ]
    },
    {
     "name": "stdout",
     "output_type": "stream",
     "text": [
      "\n",
      " 15%|█▌        | 153/1000 [1:20:06<10:39:07, 45.27s/it, best loss: -0.662790697674]\u001b[A\n",
      "\u001b[AParameters with this training accuracy 0.987091569181 and loss 0.137465439948 :\n",
      "\n",
      " 15%|█▌        | 153/1000 [1:21:15<10:39:07, 45.27s/it, best loss: -0.662790697674]\u001b[A\n",
      "\u001b[AParameters with this testing accuracy 0.648255813953 and loss 1.20546382557 :\n",
      "\n",
      " 15%|█▌        | 153/1000 [1:21:15<10:39:07, 45.27s/it, best loss: -0.662790697674]\u001b[A\n",
      "\u001b[A{'colsample_bytree': 0.7000000000000001, 'learning_rate': 0.17500000000000002, 'min_child_weight': 5.0, 'n_estimators': 471, 'subsample': 1.0, 'importance_type': 'cover', 'max_depth': 4, 'gamma': 0.65, 'booster': 'dart'}\n",
      "\n",
      " 15%|█▌        | 153/1000 [1:21:15<10:39:07, 45.27s/it, best loss: -0.662790697674]\u001b[A"
     ]
    },
    {
     "name": "stderr",
     "output_type": "stream",
     "text": [
      "Hyperopt:  15%|█▌        | 154/1000 [1:21:15<12:20:07, 52.49s/it]"
     ]
    },
    {
     "name": "stdout",
     "output_type": "stream",
     "text": [
      "\n",
      " 15%|█▌        | 154/1000 [1:21:15<12:20:07, 52.49s/it, best loss: -0.662790697674]\u001b[A\n",
      "\u001b[AParameters with this training accuracy 0.987898346107 and loss 0.130213138444 :\n",
      "\n",
      " 15%|█▌        | 154/1000 [1:22:08<12:20:07, 52.49s/it, best loss: -0.662790697674]\u001b[A\n",
      "\u001b[AParameters with this testing accuracy 0.630813953488 and loss 1.19715531873 :\n",
      "\n",
      " 15%|█▌        | 154/1000 [1:22:08<12:20:07, 52.49s/it, best loss: -0.662790697674]\u001b[A\n",
      "\u001b[A{'colsample_bytree': 0.65, 'learning_rate': 0.15000000000000002, 'min_child_weight': 6.0, 'n_estimators': 387, 'subsample': 0.9500000000000001, 'importance_type': 'cover', 'max_depth': 4, 'gamma': 0.6000000000000001, 'booster': 'dart'}\n",
      "\n",
      " 15%|█▌        | 154/1000 [1:22:08<12:20:07, 52.49s/it, best loss: -0.662790697674]\u001b[A"
     ]
    },
    {
     "name": "stderr",
     "output_type": "stream",
     "text": [
      "Hyperopt:  16%|█▌        | 155/1000 [1:22:08<12:20:33, 52.58s/it]"
     ]
    },
    {
     "name": "stdout",
     "output_type": "stream",
     "text": [
      "\n",
      " 16%|█▌        | 155/1000 [1:22:08<12:20:33, 52.58s/it, best loss: -0.662790697674]\u001b[A\n",
      "\u001b[AParameters with this training accuracy 0.858410649455 and loss 0.594080230274 :\n",
      "\n",
      " 16%|█▌        | 155/1000 [1:22:13<12:20:33, 52.58s/it, best loss: -0.662790697674]\u001b[A\n",
      "\u001b[AParameters with this testing accuracy 0.627906976744 and loss 1.17119623224 :\n",
      "\n",
      " 16%|█▌        | 155/1000 [1:22:13<12:20:33, 52.58s/it, best loss: -0.662790697674]\u001b[A\n",
      "\u001b[A{'colsample_bytree': 0.8, 'learning_rate': 0.125, 'min_child_weight': 4.0, 'n_estimators': 35, 'subsample': 0.8500000000000001, 'importance_type': 'cover', 'max_depth': 4, 'gamma': 0.5, 'booster': 'dart'}\n",
      "\n",
      " 16%|█▌        | 155/1000 [1:22:13<12:20:33, 52.58s/it, best loss: -0.662790697674]\u001b[A"
     ]
    },
    {
     "name": "stderr",
     "output_type": "stream",
     "text": [
      "Hyperopt:  16%|█▌        | 156/1000 [1:22:13<8:58:08, 38.26s/it] "
     ]
    },
    {
     "name": "stdout",
     "output_type": "stream",
     "text": [
      "\n",
      " 16%|█▌        | 156/1000 [1:22:13<8:58:06, 38.25s/it, best loss: -0.662790697674] \u001b[A\n",
      "\u001b[AParameters with this training accuracy 0.992739007664 and loss 0.0951057025408 :\n",
      "\n",
      " 16%|█▌        | 156/1000 [1:22:56<8:58:06, 38.25s/it, best loss: -0.662790697674]\u001b[A\n",
      "\u001b[AParameters with this testing accuracy 0.630813953488 and loss 1.19597798834 :\n",
      "\n",
      " 16%|█▌        | 156/1000 [1:22:56<8:58:06, 38.25s/it, best loss: -0.662790697674]\u001b[A\n",
      "\u001b[A{'colsample_bytree': 0.75, 'learning_rate': 0.225, 'min_child_weight': 4.0, 'n_estimators': 261, 'subsample': 0.9, 'importance_type': 'cover', 'max_depth': 8, 'gamma': 0.6000000000000001, 'booster': 'dart'}\n",
      "\n",
      " 16%|█▌        | 156/1000 [1:22:56<8:58:06, 38.25s/it, best loss: -0.662790697674]\u001b[A"
     ]
    },
    {
     "name": "stderr",
     "output_type": "stream",
     "text": [
      "Hyperopt:  16%|█▌        | 157/1000 [1:22:57<9:20:00, 39.86s/it]"
     ]
    },
    {
     "name": "stdout",
     "output_type": "stream",
     "text": [
      "\n",
      " 16%|█▌        | 157/1000 [1:22:56<9:20:01, 39.86s/it, best loss: -0.662790697674]\u001b[A\n",
      "\u001b[AParameters with this training accuracy 0.958450988302 and loss 0.242096046006 :\n",
      "\n",
      " 16%|█▌        | 157/1000 [1:23:16<9:20:01, 39.86s/it, best loss: -0.662790697674]\u001b[A\n",
      "\u001b[AParameters with this testing accuracy 0.639534883721 and loss 1.1291991832 :\n",
      "\n",
      " 16%|█▌        | 157/1000 [1:23:16<9:20:01, 39.86s/it, best loss: -0.662790697674]\u001b[A\n",
      "\u001b[A{'colsample_bytree': 0.65, 'learning_rate': 0.07500000000000001, 'min_child_weight': 3.0, 'n_estimators': 159, 'subsample': 0.9500000000000001, 'importance_type': 'cover', 'max_depth': 4, 'gamma': 0.65, 'booster': 'dart'}\n",
      "\n",
      " 16%|█▌        | 157/1000 [1:23:16<9:20:01, 39.86s/it, best loss: -0.662790697674]\u001b[A"
     ]
    },
    {
     "name": "stderr",
     "output_type": "stream",
     "text": [
      "Hyperopt:  16%|█▌        | 158/1000 [1:23:17<7:57:01, 33.99s/it]"
     ]
    },
    {
     "name": "stdout",
     "output_type": "stream",
     "text": [
      "\n",
      " 16%|█▌        | 158/1000 [1:23:16<7:57:00, 33.99s/it, best loss: -0.662790697674]\u001b[A\n",
      "\u001b[AParameters with this training accuracy 0.993949173054 and loss 0.0922513278998 :\n",
      "\n",
      " 16%|█▌        | 158/1000 [1:23:49<7:57:00, 33.99s/it, best loss: -0.662790697674]\u001b[A\n",
      "\u001b[AParameters with this testing accuracy 0.642441860465 and loss 1.20168431254 :\n",
      "\n",
      " 16%|█▌        | 158/1000 [1:23:49<7:57:00, 33.99s/it, best loss: -0.662790697674]\u001b[A\n",
      "\u001b[A{'colsample_bytree': 0.7000000000000001, 'learning_rate': 0.2, 'min_child_weight': 4.0, 'n_estimators': 197, 'subsample': 0.8500000000000001, 'importance_type': 'total_gain', 'max_depth': 9, 'gamma': 0.55, 'booster': 'dart'}\n",
      "\n",
      " 16%|█▌        | 158/1000 [1:23:49<7:57:00, 33.99s/it, best loss: -0.662790697674]\u001b[A"
     ]
    },
    {
     "name": "stderr",
     "output_type": "stream",
     "text": [
      "Hyperopt:  16%|█▌        | 159/1000 [1:23:50<7:52:08, 33.68s/it]"
     ]
    },
    {
     "name": "stdout",
     "output_type": "stream",
     "text": [
      "\n",
      " 16%|█▌        | 159/1000 [1:23:49<7:52:08, 33.68s/it, best loss: -0.662790697674]\u001b[A\n",
      "\u001b[AParameters with this training accuracy 0.966518757564 and loss 0.218050453775 :\n",
      "\n",
      " 16%|█▌        | 159/1000 [1:24:01<7:52:08, 33.68s/it, best loss: -0.662790697674]\u001b[A\n",
      "\u001b[AParameters with this testing accuracy 0.633720930233 and loss 1.15722169696 :\n",
      "\n",
      " 16%|█▌        | 159/1000 [1:24:01<7:52:08, 33.68s/it, best loss: -0.662790697674]\u001b[A\n",
      "\u001b[A{'colsample_bytree': 0.7000000000000001, 'learning_rate': 0.15000000000000002, 'min_child_weight': 5.0, 'n_estimators': 117, 'subsample': 1.0, 'importance_type': 'cover', 'max_depth': 4, 'gamma': 0.65, 'booster': 'gbtree'}\n",
      "\n",
      " 16%|█▌        | 159/1000 [1:24:01<7:52:08, 33.68s/it, best loss: -0.662790697674]\u001b[A"
     ]
    },
    {
     "name": "stderr",
     "output_type": "stream",
     "text": [
      "Hyperopt:  16%|█▌        | 160/1000 [1:24:01<6:18:31, 27.04s/it]"
     ]
    },
    {
     "name": "stdout",
     "output_type": "stream",
     "text": [
      "\n",
      " 16%|█▌        | 160/1000 [1:24:01<6:18:31, 27.04s/it, best loss: -0.662790697674]\u001b[A\n",
      "\u001b[AParameters with this training accuracy 0.986688180718 and loss 0.136299071963 :\n",
      "\n",
      " 16%|█▌        | 160/1000 [1:24:49<6:18:31, 27.04s/it, best loss: -0.662790697674]\u001b[A\n",
      "\u001b[AParameters with this testing accuracy 0.651162790698 and loss 1.18136536337 :\n",
      "\n",
      " 16%|█▌        | 160/1000 [1:24:49<6:18:31, 27.04s/it, best loss: -0.662790697674]\u001b[A\n",
      "\u001b[A{'colsample_bytree': 0.65, 'learning_rate': 0.1, 'min_child_weight': 5.0, 'n_estimators': 310, 'subsample': 1.0, 'importance_type': 'cover', 'max_depth': 5, 'gamma': 0.6000000000000001, 'booster': 'dart'}\n",
      "\n",
      " 16%|█▌        | 160/1000 [1:24:49<6:18:31, 27.04s/it, best loss: -0.662790697674]\u001b[A"
     ]
    },
    {
     "name": "stderr",
     "output_type": "stream",
     "text": [
      "Hyperopt:  16%|█▌        | 161/1000 [1:24:49<7:44:27, 33.21s/it]"
     ]
    },
    {
     "name": "stdout",
     "output_type": "stream",
     "text": [
      "\n",
      " 16%|█▌        | 161/1000 [1:24:49<7:44:28, 33.22s/it, best loss: -0.662790697674]\u001b[A\n",
      "\u001b[AParameters with this training accuracy 0.973779749899 and loss 0.184957338077 :\n",
      "\n",
      " 16%|█▌        | 161/1000 [1:25:15<7:44:28, 33.22s/it, best loss: -0.662790697674]\u001b[A\n",
      "\u001b[AParameters with this testing accuracy 0.651162790698 and loss 1.15779726401 :\n",
      "\n",
      " 16%|█▌        | 161/1000 [1:25:15<7:44:28, 33.22s/it, best loss: -0.662790697674]\u001b[A\n",
      "\u001b[A{'colsample_bytree': 0.75, 'learning_rate': 0.15000000000000002, 'min_child_weight': 5.0, 'n_estimators': 230, 'subsample': 0.9500000000000001, 'importance_type': 'cover', 'max_depth': 3, 'gamma': 0.7000000000000001, 'booster': 'dart'}\n",
      "\n",
      " 16%|█▌        | 161/1000 [1:25:15<7:44:28, 33.22s/it, best loss: -0.662790697674]\u001b[A"
     ]
    },
    {
     "name": "stderr",
     "output_type": "stream",
     "text": [
      "Hyperopt:  16%|█▌        | 162/1000 [1:25:15<7:15:47, 31.20s/it]"
     ]
    },
    {
     "name": "stdout",
     "output_type": "stream",
     "text": [
      "\n",
      " 16%|█▌        | 162/1000 [1:25:15<7:15:47, 31.20s/it, best loss: -0.662790697674]\u001b[A\n",
      "\u001b[AParameters with this training accuracy 0.758773699072 and loss 0.808892652976 :\n",
      "\n",
      " 16%|█▌        | 162/1000 [1:25:19<7:15:47, 31.20s/it, best loss: -0.662790697674]\u001b[A\n",
      "\u001b[AParameters with this testing accuracy 0.607558139535 and loss 1.15687356729 :\n",
      "\n",
      " 16%|█▌        | 162/1000 [1:25:19<7:15:47, 31.20s/it, best loss: -0.662790697674]\u001b[A\n",
      "\u001b[A{'colsample_bytree': 0.7000000000000001, 'learning_rate': 0.17500000000000002, 'min_child_weight': 6.0, 'n_estimators': 82, 'subsample': 1.0, 'importance_type': 'cover', 'max_depth': 1, 'gamma': 0.7000000000000001, 'booster': 'gbtree'}\n",
      "\n",
      " 16%|█▌        | 162/1000 [1:25:19<7:15:47, 31.20s/it, best loss: -0.662790697674]\u001b[A"
     ]
    },
    {
     "name": "stderr",
     "output_type": "stream",
     "text": [
      "Hyperopt:  16%|█▋        | 163/1000 [1:25:19<5:20:17, 22.96s/it]"
     ]
    },
    {
     "name": "stdout",
     "output_type": "stream",
     "text": [
      "\n",
      " 16%|█▋        | 163/1000 [1:25:19<5:20:16, 22.96s/it, best loss: -0.662790697674]\u001b[A\n",
      "\u001b[AParameters with this training accuracy 0.926179911255 and loss 0.360325384007 :\n",
      "\n",
      " 16%|█▋        | 163/1000 [1:25:31<5:20:16, 22.96s/it, best loss: -0.662790697674]\u001b[A\n",
      "\u001b[AParameters with this testing accuracy 0.622093023256 and loss 1.14598858797 :\n",
      "\n",
      " 16%|█▋        | 163/1000 [1:25:31<5:20:16, 22.96s/it, best loss: -0.662790697674]\u001b[A\n",
      "\u001b[A{'colsample_bytree': 0.9500000000000001, 'learning_rate': 0.1, 'min_child_weight': 4.0, 'n_estimators': 80, 'subsample': 0.9, 'importance_type': 'cover', 'max_depth': 4, 'gamma': 0.65, 'booster': 'dart'}\n",
      "\n",
      " 16%|█▋        | 163/1000 [1:25:31<5:20:16, 22.96s/it, best loss: -0.662790697674]\u001b[A"
     ]
    },
    {
     "name": "stderr",
     "output_type": "stream",
     "text": [
      "Hyperopt:  16%|█▋        | 164/1000 [1:25:31<4:35:22, 19.76s/it]"
     ]
    },
    {
     "name": "stdout",
     "output_type": "stream",
     "text": [
      "\n",
      " 16%|█▋        | 164/1000 [1:25:31<4:35:21, 19.76s/it, best loss: -0.662790697674]\u001b[A\n",
      "\u001b[AParameters with this training accuracy 0.474384832594 and loss 1.76825661152 :\n",
      "\n",
      " 16%|█▋        | 164/1000 [1:25:36<4:35:21, 19.76s/it, best loss: -0.662790697674]\u001b[A\n",
      "\u001b[AParameters with this testing accuracy 0.488372093023 and loss 1.76047610444 :\n",
      "\n",
      " 16%|█▋        | 164/1000 [1:25:36<4:35:21, 19.76s/it, best loss: -0.662790697674]\u001b[A\n",
      "\u001b[A{'colsample_bytree': 0.6000000000000001, 'learning_rate': 0.25, 'min_child_weight': 5.0, 'n_estimators': 129, 'subsample': 0.9500000000000001, 'importance_type': 'cover', 'max_depth': 2, 'gamma': 0.65, 'booster': 'gblinear'}\n",
      "\n",
      " 16%|█▋        | 164/1000 [1:25:36<4:35:21, 19.76s/it, best loss: -0.662790697674]\u001b[A"
     ]
    },
    {
     "name": "stderr",
     "output_type": "stream",
     "text": [
      "Hyperopt:  16%|█▋        | 165/1000 [1:25:36<3:32:38, 15.28s/it]"
     ]
    },
    {
     "name": "stdout",
     "output_type": "stream",
     "text": [
      "\n",
      " 16%|█▋        | 165/1000 [1:25:36<3:32:37, 15.28s/it, best loss: -0.662790697674]\u001b[A\n",
      "\u001b[AParameters with this training accuracy 0.990722065349 and loss 0.11636198942 :\n",
      "\n",
      " 16%|█▋        | 165/1000 [1:26:24<3:32:37, 15.28s/it, best loss: -0.662790697674]\u001b[A\n",
      "\u001b[AParameters with this testing accuracy 0.639534883721 and loss 1.17295962565 :\n",
      "\n",
      " 16%|█▋        | 165/1000 [1:26:24<3:32:37, 15.28s/it, best loss: -0.662790697674]\u001b[A\n",
      "\u001b[A{'colsample_bytree': 0.8, 'learning_rate': 0.07500000000000001, 'min_child_weight': 4.0, 'n_estimators': 227, 'subsample': 0.9, 'importance_type': 'cover', 'max_depth': 9, 'gamma': 0.6000000000000001, 'booster': 'dart'}\n",
      "\n",
      " 16%|█▋        | 165/1000 [1:26:24<3:32:37, 15.28s/it, best loss: -0.662790697674]\u001b[A"
     ]
    },
    {
     "name": "stderr",
     "output_type": "stream",
     "text": [
      "Hyperopt:  17%|█▋        | 166/1000 [1:26:24<5:47:21, 24.99s/it]"
     ]
    },
    {
     "name": "stdout",
     "output_type": "stream",
     "text": [
      "\n",
      " 17%|█▋        | 166/1000 [1:26:24<5:47:22, 24.99s/it, best loss: -0.662790697674]\u001b[A\n",
      "\u001b[AParameters with this training accuracy 0.992335619201 and loss 0.105990281027 :\n",
      "\n",
      " 17%|█▋        | 166/1000 [1:27:35<5:47:22, 24.99s/it, best loss: -0.662790697674]\u001b[A\n",
      "\u001b[AParameters with this testing accuracy 0.627906976744 and loss 1.19462813448 :\n",
      "\n",
      " 17%|█▋        | 166/1000 [1:27:35<5:47:22, 24.99s/it, best loss: -0.662790697674]\u001b[A\n",
      "\u001b[A{'colsample_bytree': 0.8500000000000001, 'learning_rate': 0.1, 'min_child_weight': 3.0, 'n_estimators': 334, 'subsample': 0.8500000000000001, 'importance_type': 'cover', 'max_depth': 8, 'gamma': 0.7000000000000001, 'booster': 'dart'}\n",
      "\n",
      " 17%|█▋        | 166/1000 [1:27:35<5:47:22, 24.99s/it, best loss: -0.662790697674]\u001b[A"
     ]
    },
    {
     "name": "stderr",
     "output_type": "stream",
     "text": [
      "Hyperopt:  17%|█▋        | 167/1000 [1:27:35<9:00:20, 38.92s/it]"
     ]
    },
    {
     "name": "stdout",
     "output_type": "stream",
     "text": [
      "\n",
      " 17%|█▋        | 167/1000 [1:27:35<9:00:22, 38.92s/it, best loss: -0.662790697674]\u001b[A\n",
      "\u001b[AParameters with this training accuracy 0.987494957644 and loss 0.13251369183 :\n",
      "\n",
      " 17%|█▋        | 167/1000 [1:28:05<9:00:22, 38.92s/it, best loss: -0.662790697674]\u001b[A\n",
      "\u001b[AParameters with this testing accuracy 0.636627906977 and loss 1.18853189304 :\n",
      "\n",
      " 17%|█▋        | 167/1000 [1:28:05<9:00:22, 38.92s/it, best loss: -0.662790697674]\u001b[A\n",
      "\u001b[A{'colsample_bytree': 0.75, 'learning_rate': 0.125, 'min_child_weight': 5.0, 'n_estimators': 330, 'subsample': 1.0, 'importance_type': 'cover', 'max_depth': 4, 'gamma': 0.55, 'booster': 'gbtree'}\n",
      "\n",
      " 17%|█▋        | 167/1000 [1:28:05<9:00:22, 38.92s/it, best loss: -0.662790697674]\u001b[A"
     ]
    },
    {
     "name": "stderr",
     "output_type": "stream",
     "text": [
      "Hyperopt:  17%|█▋        | 168/1000 [1:28:06<8:23:22, 36.30s/it]"
     ]
    },
    {
     "name": "stdout",
     "output_type": "stream",
     "text": [
      "\n",
      " 17%|█▋        | 168/1000 [1:28:05<8:23:22, 36.30s/it, best loss: -0.662790697674]\u001b[A\n",
      "\u001b[AParameters with this training accuracy 0.975393303752 and loss 0.190355907663 :\n",
      "\n",
      " 17%|█▋        | 168/1000 [1:28:54<8:23:22, 36.30s/it, best loss: -0.662790697674]\u001b[A\n",
      "\u001b[AParameters with this testing accuracy 0.633720930233 and loss 1.13826259582 :\n",
      "\n",
      " 17%|█▋        | 168/1000 [1:28:54<8:23:22, 36.30s/it, best loss: -0.662790697674]\u001b[A\n",
      "\u001b[A{'colsample_bytree': 0.8, 'learning_rate': 0.05, 'min_child_weight': 4.0, 'n_estimators': 268, 'subsample': 0.8, 'importance_type': 'cover', 'max_depth': 5, 'gamma': 0.5, 'booster': 'dart'}\n",
      "\n",
      " 17%|█▋        | 168/1000 [1:28:54<8:23:22, 36.30s/it, best loss: -0.662790697674]\u001b[A"
     ]
    },
    {
     "name": "stderr",
     "output_type": "stream",
     "text": [
      "Hyperopt:  17%|█▋        | 169/1000 [1:28:54<9:13:38, 39.97s/it]"
     ]
    },
    {
     "name": "stdout",
     "output_type": "stream",
     "text": [
      "\n",
      " 17%|█▋        | 169/1000 [1:28:54<9:13:38, 39.97s/it, best loss: -0.662790697674]\u001b[A\n",
      "\u001b[AParameters with this training accuracy 0.989915288423 and loss 0.124866618903 :\n",
      "\n",
      " 17%|█▋        | 169/1000 [1:29:19<9:13:38, 39.97s/it, best loss: -0.662790697674]\u001b[A\n",
      "\u001b[AParameters with this testing accuracy 0.648255813953 and loss 1.15068212618 :\n",
      "\n",
      " 17%|█▋        | 169/1000 [1:29:19<9:13:38, 39.97s/it, best loss: -0.662790697674]\u001b[A\n",
      "\u001b[A{'colsample_bytree': 0.5, 'learning_rate': 0.2, 'min_child_weight': 3.0, 'n_estimators': 336, 'subsample': 0.9, 'importance_type': 'gain', 'max_depth': 4, 'gamma': 0.75, 'booster': 'gbtree'}\n",
      "\n",
      " 17%|█▋        | 169/1000 [1:29:19<9:13:38, 39.97s/it, best loss: -0.662790697674]\u001b[A"
     ]
    },
    {
     "name": "stderr",
     "output_type": "stream",
     "text": [
      "Hyperopt:  17%|█▋        | 170/1000 [1:29:19<8:11:18, 35.52s/it]"
     ]
    },
    {
     "name": "stdout",
     "output_type": "stream",
     "text": [
      "\n",
      " 17%|█▋        | 170/1000 [1:29:19<8:11:18, 35.52s/it, best loss: -0.662790697674]\u001b[A\n",
      "\u001b[AParameters with this training accuracy 0.976200080678 and loss 0.175863343894 :\n",
      "\n",
      " 17%|█▋        | 170/1000 [1:30:02<8:11:18, 35.52s/it, best loss: -0.662790697674]\u001b[A\n",
      "\u001b[AParameters with this testing accuracy 0.636627906977 and loss 1.17998225785 :\n",
      "\n",
      " 17%|█▋        | 170/1000 [1:30:02<8:11:18, 35.52s/it, best loss: -0.662790697674]\u001b[A\n",
      "\u001b[A{'colsample_bytree': 0.9, 'learning_rate': 0.1, 'min_child_weight': 4.0, 'n_estimators': 306, 'subsample': 0.8500000000000001, 'importance_type': 'cover', 'max_depth': 3, 'gamma': 0.7000000000000001, 'booster': 'dart'}\n",
      "\n",
      " 17%|█▋        | 170/1000 [1:30:02<8:11:18, 35.52s/it, best loss: -0.662790697674]\u001b[A"
     ]
    },
    {
     "name": "stderr",
     "output_type": "stream",
     "text": [
      "Hyperopt:  17%|█▋        | 171/1000 [1:30:02<8:41:29, 37.74s/it]"
     ]
    },
    {
     "name": "stdout",
     "output_type": "stream",
     "text": [
      "\n",
      " 17%|█▋        | 171/1000 [1:30:02<8:41:30, 37.74s/it, best loss: -0.662790697674]\u001b[A\n",
      "\u001b[AParameters with this training accuracy 0.474384832594 and loss 1.76751718245 :\n",
      "\n",
      " 17%|█▋        | 171/1000 [1:30:15<8:41:30, 37.74s/it, best loss: -0.662790697674]\u001b[A\n",
      "\u001b[AParameters with this testing accuracy 0.488372093023 and loss 1.75920417459 :\n",
      "\n",
      " 17%|█▋        | 171/1000 [1:30:15<8:41:30, 37.74s/it, best loss: -0.662790697674]\u001b[A\n",
      "\u001b[A{'colsample_bytree': 0.6000000000000001, 'learning_rate': 0.125, 'min_child_weight': 4.0, 'n_estimators': 410, 'subsample': 0.9, 'importance_type': 'total_cover', 'max_depth': 7, 'gamma': 0.6000000000000001, 'booster': 'gblinear'}\n",
      "\n",
      " 17%|█▋        | 171/1000 [1:30:15<8:41:30, 37.74s/it, best loss: -0.662790697674]\u001b[A"
     ]
    },
    {
     "name": "stderr",
     "output_type": "stream",
     "text": [
      "Hyperopt:  17%|█▋        | 172/1000 [1:30:15<6:59:14, 30.38s/it]"
     ]
    },
    {
     "name": "stdout",
     "output_type": "stream",
     "text": [
      "\n",
      " 17%|█▋        | 172/1000 [1:30:15<6:59:12, 30.38s/it, best loss: -0.662790697674]\u001b[A\n",
      "\u001b[AParameters with this training accuracy 0.955223880597 and loss 0.262841337129 :\n",
      "\n",
      " 17%|█▋        | 172/1000 [1:30:30<6:59:12, 30.38s/it, best loss: -0.662790697674]\u001b[A\n",
      "\u001b[AParameters with this testing accuracy 0.630813953488 and loss 1.15939431069 :\n",
      "\n",
      " 17%|█▋        | 172/1000 [1:30:30<6:59:12, 30.38s/it, best loss: -0.662790697674]\u001b[A\n",
      "\u001b[A{'colsample_bytree': 0.65, 'learning_rate': 0.225, 'min_child_weight': 3.0, 'n_estimators': 419, 'subsample': 0.9500000000000001, 'importance_type': 'gain', 'max_depth': 1, 'gamma': 0.75, 'booster': 'gbtree'}\n",
      "\n",
      " 17%|█▋        | 172/1000 [1:30:30<6:59:12, 30.38s/it, best loss: -0.662790697674]\u001b[A"
     ]
    },
    {
     "name": "stderr",
     "output_type": "stream",
     "text": [
      "Hyperopt:  17%|█▋        | 173/1000 [1:30:30<5:54:13, 25.70s/it]"
     ]
    },
    {
     "name": "stdout",
     "output_type": "stream",
     "text": [
      "\n",
      " 17%|█▋        | 173/1000 [1:30:30<5:54:14, 25.70s/it, best loss: -0.662790697674]\u001b[A\n",
      "\u001b[AParameters with this training accuracy 0.889874949576 and loss 0.437960546189 :\n",
      "\n",
      " 17%|█▋        | 173/1000 [1:30:47<5:54:14, 25.70s/it, best loss: -0.662790697674]\u001b[A\n",
      "\u001b[AParameters with this testing accuracy 0.633720930233 and loss 1.12742316278 :\n",
      "\n",
      " 17%|█▋        | 173/1000 [1:30:47<5:54:14, 25.70s/it, best loss: -0.662790697674]\u001b[A\n",
      "\u001b[A{'colsample_bytree': 0.6000000000000001, 'learning_rate': 0.07500000000000001, 'min_child_weight': 4.0, 'n_estimators': 209, 'subsample': 0.8500000000000001, 'importance_type': 'total_gain', 'max_depth': 2, 'gamma': 0.65, 'booster': 'dart'}\n",
      "\n",
      " 17%|█▋        | 173/1000 [1:30:47<5:54:14, 25.70s/it, best loss: -0.662790697674]\u001b[A"
     ]
    },
    {
     "name": "stderr",
     "output_type": "stream",
     "text": [
      "Hyperopt:  17%|█▋        | 174/1000 [1:30:48<5:20:20, 23.27s/it]"
     ]
    },
    {
     "name": "stdout",
     "output_type": "stream",
     "text": [
      "\n",
      " 17%|█▋        | 174/1000 [1:30:47<5:20:19, 23.27s/it, best loss: -0.662790697674]\u001b[A\n",
      "\u001b[AParameters with this training accuracy 0.989108511497 and loss 0.118438042895 :\n",
      "\n",
      " 17%|█▋        | 174/1000 [1:31:31<5:20:19, 23.27s/it, best loss: -0.662790697674]\u001b[A\n",
      "\u001b[AParameters with this testing accuracy 0.636627906977 and loss 1.18540381172 :\n",
      "\n",
      " 17%|█▋        | 174/1000 [1:31:31<5:20:19, 23.27s/it, best loss: -0.662790697674]\u001b[A\n",
      "\u001b[A{'colsample_bytree': 0.65, 'learning_rate': 0.2, 'min_child_weight': 4.0, 'n_estimators': 324, 'subsample': 0.9500000000000001, 'importance_type': 'gain', 'max_depth': 4, 'gamma': 0.65, 'booster': 'dart'}\n",
      "\n",
      " 17%|█▋        | 174/1000 [1:31:31<5:20:19, 23.27s/it, best loss: -0.662790697674]\u001b[A"
     ]
    },
    {
     "name": "stderr",
     "output_type": "stream",
     "text": [
      "Hyperopt:  18%|█▊        | 175/1000 [1:31:31<6:42:33, 29.28s/it]"
     ]
    },
    {
     "name": "stdout",
     "output_type": "stream",
     "text": [
      "\n",
      " 18%|█▊        | 175/1000 [1:31:31<6:42:33, 29.28s/it, best loss: -0.662790697674]\u001b[A\n",
      "\u001b[AParameters with this training accuracy 0.990318676886 and loss 0.122466572276 :\n",
      "\n",
      " 18%|█▊        | 175/1000 [1:32:13<6:42:33, 29.28s/it, best loss: -0.662790697674]\u001b[A\n",
      "\u001b[AParameters with this testing accuracy 0.656976744186 and loss 1.18879104781 :\n",
      "\n",
      " 18%|█▊        | 175/1000 [1:32:13<6:42:33, 29.28s/it, best loss: -0.662790697674]\u001b[A\n",
      "\u001b[A{'colsample_bytree': 0.7000000000000001, 'learning_rate': 0.17500000000000002, 'min_child_weight': 6.0, 'n_estimators': 458, 'subsample': 1.0, 'importance_type': 'cover', 'max_depth': 5, 'gamma': 0.55, 'booster': 'gbtree'}\n",
      "\n",
      " 18%|█▊        | 175/1000 [1:32:13<6:42:33, 29.28s/it, best loss: -0.662790697674]\u001b[A"
     ]
    },
    {
     "name": "stderr",
     "output_type": "stream",
     "text": [
      "Hyperopt:  18%|█▊        | 176/1000 [1:32:13<7:34:19, 33.08s/it]"
     ]
    },
    {
     "name": "stdout",
     "output_type": "stream",
     "text": [
      "\n",
      " 18%|█▊        | 176/1000 [1:32:13<7:34:20, 33.08s/it, best loss: -0.662790697674]\u001b[A\n",
      "\u001b[AParameters with this training accuracy 0.995966115369 and loss 0.0671338169651 :\n",
      "\n",
      " 18%|█▊        | 176/1000 [1:33:51<7:34:20, 33.08s/it, best loss: -0.662790697674]\u001b[A\n",
      "\u001b[AParameters with this testing accuracy 0.622093023256 and loss 1.26022026684 :\n",
      "\n",
      " 18%|█▊        | 176/1000 [1:33:51<7:34:20, 33.08s/it, best loss: -0.662790697674]\u001b[A\n",
      "\u001b[A{'colsample_bytree': 0.75, 'learning_rate': 0.17500000000000002, 'min_child_weight': 1.0, 'n_estimators': 458, 'subsample': 0.8, 'importance_type': 'cover', 'max_depth': 8, 'gamma': 0.5, 'booster': 'dart'}\n",
      "\n",
      " 18%|█▊        | 176/1000 [1:33:51<7:34:20, 33.08s/it, best loss: -0.662790697674]\u001b[A"
     ]
    },
    {
     "name": "stderr",
     "output_type": "stream",
     "text": [
      "Hyperopt:  18%|█▊        | 177/1000 [1:33:52<12:03:13, 52.73s/it]"
     ]
    },
    {
     "name": "stdout",
     "output_type": "stream",
     "text": [
      "\n",
      " 18%|█▊        | 177/1000 [1:33:51<12:03:14, 52.73s/it, best loss: -0.662790697674]\u001b[A\n",
      "\u001b[AParameters with this training accuracy 0.968939088342 and loss 0.214319019778 :\n",
      "\n",
      " 18%|█▊        | 177/1000 [1:33:57<12:03:14, 52.73s/it, best loss: -0.662790697674]\u001b[A\n",
      "\u001b[AParameters with this testing accuracy 0.630813953488 and loss 1.2061504357 :\n",
      "\n",
      " 18%|█▊        | 177/1000 [1:33:57<12:03:14, 52.73s/it, best loss: -0.662790697674]\u001b[A\n",
      "\u001b[A{'colsample_bytree': 0.7000000000000001, 'learning_rate': 0.275, 'min_child_weight': 6.0, 'n_estimators': 51, 'subsample': 1.0, 'importance_type': 'cover', 'max_depth': 5, 'gamma': 0.5, 'booster': 'gbtree'}\n",
      "\n",
      " 18%|█▊        | 177/1000 [1:33:57<12:03:14, 52.73s/it, best loss: -0.662790697674]\u001b[A"
     ]
    },
    {
     "name": "stderr",
     "output_type": "stream",
     "text": [
      "Hyperopt:  18%|█▊        | 178/1000 [1:33:58<8:50:08, 38.70s/it] "
     ]
    },
    {
     "name": "stdout",
     "output_type": "stream",
     "text": [
      "\n",
      " 18%|█▊        | 178/1000 [1:33:57<8:50:06, 38.69s/it, best loss: -0.662790697674] \u001b[A\n",
      "\u001b[AParameters with this training accuracy 0.474384832594 and loss 1.76726794761 :\n",
      "\n",
      " 18%|█▊        | 178/1000 [1:34:08<8:50:06, 38.69s/it, best loss: -0.662790697674]\u001b[A\n",
      "\u001b[AParameters with this testing accuracy 0.488372093023 and loss 1.75876362581 :\n",
      "\n",
      " 18%|█▊        | 178/1000 [1:34:08<8:50:06, 38.69s/it, best loss: -0.662790697674]\u001b[A\n",
      "\u001b[A{'colsample_bytree': 0.8, 'learning_rate': 0.325, 'min_child_weight': 2.0, 'n_estimators': 322, 'subsample': 0.9500000000000001, 'importance_type': 'cover', 'max_depth': 4, 'gamma': 0.55, 'booster': 'gblinear'}\n",
      "\n",
      " 18%|█▊        | 178/1000 [1:34:08<8:50:06, 38.69s/it, best loss: -0.662790697674]\u001b[A"
     ]
    },
    {
     "name": "stderr",
     "output_type": "stream",
     "text": [
      "Hyperopt:  18%|█▊        | 179/1000 [1:34:08<6:53:24, 30.21s/it]"
     ]
    },
    {
     "name": "stdout",
     "output_type": "stream",
     "text": [
      "\n",
      " 18%|█▊        | 179/1000 [1:34:08<6:53:23, 30.21s/it, best loss: -0.662790697674]\u001b[A\n",
      "\u001b[AParameters with this training accuracy 0.995159338443 and loss 0.0808208295426 :\n",
      "\n",
      " 18%|█▊        | 179/1000 [1:35:10<6:53:23, 30.21s/it, best loss: -0.662790697674]\u001b[A\n",
      "\u001b[AParameters with this testing accuracy 0.625 and loss 1.20190511357 :\n",
      "\n",
      " 18%|█▊        | 179/1000 [1:35:10<6:53:23, 30.21s/it, best loss: -0.662790697674]\u001b[A\n",
      "\u001b[A{'colsample_bytree': 0.8500000000000001, 'learning_rate': 0.15000000000000002, 'min_child_weight': 2.0, 'n_estimators': 287, 'subsample': 0.9, 'importance_type': 'cover', 'max_depth': 9, 'gamma': 0.55, 'booster': 'dart'}\n",
      "\n",
      " 18%|█▊        | 179/1000 [1:35:10<6:53:23, 30.21s/it, best loss: -0.662790697674]\u001b[A"
     ]
    },
    {
     "name": "stderr",
     "output_type": "stream",
     "text": [
      "Hyperopt:  18%|█▊        | 180/1000 [1:35:10<9:03:47, 39.79s/it]"
     ]
    },
    {
     "name": "stdout",
     "output_type": "stream",
     "text": [
      "\n",
      " 18%|█▊        | 180/1000 [1:35:10<9:03:48, 39.79s/it, best loss: -0.662790697674]\u001b[A\n",
      "\u001b[AParameters with this training accuracy 0.984267849939 and loss 0.148427525088 :\n",
      "\n",
      " 18%|█▊        | 180/1000 [1:35:21<9:03:48, 39.79s/it, best loss: -0.662790697674]\u001b[A\n",
      "\u001b[AParameters with this testing accuracy 0.625 and loss 1.22535106858 :\n",
      "\n",
      " 18%|█▊        | 180/1000 [1:35:21<9:03:48, 39.79s/it, best loss: -0.662790697674]\u001b[A\n",
      "\u001b[A{'colsample_bytree': 0.8500000000000001, 'learning_rate': 0.30000000000000004, 'min_child_weight': 3.0, 'n_estimators': 100, 'subsample': 0.8500000000000001, 'importance_type': 'total_cover', 'max_depth': 3, 'gamma': 0.55, 'booster': 'dart'}\n",
      "\n",
      " 18%|█▊        | 180/1000 [1:35:21<9:03:48, 39.79s/it, best loss: -0.662790697674]\u001b[A"
     ]
    },
    {
     "name": "stderr",
     "output_type": "stream",
     "text": [
      "Hyperopt:  18%|█▊        | 181/1000 [1:35:21<7:05:46, 31.19s/it]"
     ]
    },
    {
     "name": "stdout",
     "output_type": "stream",
     "text": [
      "\n",
      " 18%|█▊        | 181/1000 [1:35:21<7:05:45, 31.19s/it, best loss: -0.662790697674]\u001b[A\n",
      "\u001b[AParameters with this training accuracy 0.989108511497 and loss 0.122607504201 :\n",
      "\n",
      " 18%|█▊        | 181/1000 [1:35:41<7:05:45, 31.19s/it, best loss: -0.662790697674]\u001b[A\n",
      "\u001b[AParameters with this testing accuracy 0.625 and loss 1.22528061537 :\n",
      "\n",
      " 18%|█▊        | 181/1000 [1:35:41<7:05:45, 31.19s/it, best loss: -0.662790697674]\u001b[A\n",
      "\u001b[A{'colsample_bytree': 0.75, 'learning_rate': 0.225, 'min_child_weight': 3.0, 'n_estimators': 332, 'subsample': 0.9, 'importance_type': 'cover', 'max_depth': 2, 'gamma': 0.5, 'booster': 'gbtree'}\n",
      "\n",
      " 18%|█▊        | 181/1000 [1:35:41<7:05:45, 31.19s/it, best loss: -0.662790697674]\u001b[A"
     ]
    },
    {
     "name": "stderr",
     "output_type": "stream",
     "text": [
      "Hyperopt:  18%|█▊        | 182/1000 [1:35:41<6:19:33, 27.84s/it]"
     ]
    },
    {
     "name": "stdout",
     "output_type": "stream",
     "text": [
      "\n",
      " 18%|█▊        | 182/1000 [1:35:41<6:19:34, 27.84s/it, best loss: -0.662790697674]\u001b[A\n",
      "\u001b[AParameters with this training accuracy 0.990318676886 and loss 0.1268864008 :\n",
      "\n",
      " 18%|█▊        | 182/1000 [1:35:56<6:19:34, 27.84s/it, best loss: -0.662790697674]\u001b[A\n",
      "\u001b[AParameters with this testing accuracy 0.625 and loss 1.21755382565 :\n",
      "\n",
      " 18%|█▊        | 182/1000 [1:35:56<6:19:34, 27.84s/it, best loss: -0.662790697674]\u001b[A\n",
      "\u001b[A{'colsample_bytree': 1.0, 'learning_rate': 0.2, 'min_child_weight': 1.0, 'n_estimators': 92, 'subsample': 0.9500000000000001, 'importance_type': 'total_gain', 'max_depth': 4, 'gamma': 0.5, 'booster': 'dart'}\n",
      "\n",
      " 18%|█▊        | 182/1000 [1:35:56<6:19:34, 27.84s/it, best loss: -0.662790697674]\u001b[A"
     ]
    },
    {
     "name": "stderr",
     "output_type": "stream",
     "text": [
      "Hyperopt:  18%|█▊        | 183/1000 [1:35:56<5:26:27, 23.98s/it]"
     ]
    },
    {
     "name": "stdout",
     "output_type": "stream",
     "text": [
      "\n",
      " 18%|█▊        | 183/1000 [1:35:56<5:26:27, 23.98s/it, best loss: -0.662790697674]\u001b[A\n",
      "\u001b[AParameters with this training accuracy 0.995562726906 and loss 0.0868134084365 :\n",
      "\n",
      " 18%|█▊        | 183/1000 [1:36:36<5:26:27, 23.98s/it, best loss: -0.662790697674]\u001b[A\n",
      "\u001b[AParameters with this testing accuracy 0.639534883721 and loss 1.25405760751 :\n",
      "\n",
      " 18%|█▊        | 183/1000 [1:36:36<5:26:27, 23.98s/it, best loss: -0.662790697674]\u001b[A\n",
      "\u001b[A{'colsample_bytree': 0.9, 'learning_rate': 0.17500000000000002, 'min_child_weight': 2.0, 'n_estimators': 321, 'subsample': 0.8, 'importance_type': 'cover', 'max_depth': 5, 'gamma': 0.6000000000000001, 'booster': 'gbtree'}\n",
      "\n",
      " 18%|█▊        | 183/1000 [1:36:36<5:26:27, 23.98s/it, best loss: -0.662790697674]\u001b[A"
     ]
    },
    {
     "name": "stderr",
     "output_type": "stream",
     "text": [
      "Hyperopt:  18%|█▊        | 184/1000 [1:36:37<6:33:59, 28.97s/it]"
     ]
    },
    {
     "name": "stdout",
     "output_type": "stream",
     "text": [
      "\n",
      " 18%|█▊        | 184/1000 [1:36:36<6:34:00, 28.97s/it, best loss: -0.662790697674]\u001b[A\n",
      "\u001b[AParameters with this training accuracy 0.99475594998 and loss 0.0859173770763 :\n",
      "\n",
      " 18%|█▊        | 184/1000 [1:37:00<6:34:00, 28.97s/it, best loss: -0.662790697674]\u001b[A\n",
      "\u001b[AParameters with this testing accuracy 0.630813953488 and loss 1.28040493933 :\n",
      "\n",
      " 18%|█▊        | 184/1000 [1:37:00<6:34:00, 28.97s/it, best loss: -0.662790697674]\u001b[A\n",
      "\u001b[A{'colsample_bytree': 0.7000000000000001, 'learning_rate': 0.30000000000000004, 'min_child_weight': 3.0, 'n_estimators': 164, 'subsample': 0.8500000000000001, 'importance_type': 'cover', 'max_depth': 6, 'gamma': 0.55, 'booster': 'dart'}\n",
      "\n",
      " 18%|█▊        | 184/1000 [1:37:00<6:34:00, 28.97s/it, best loss: -0.662790697674]\u001b[A"
     ]
    },
    {
     "name": "stderr",
     "output_type": "stream",
     "text": [
      "Hyperopt:  18%|█▊        | 185/1000 [1:37:00<6:10:21, 27.27s/it]"
     ]
    },
    {
     "name": "stdout",
     "output_type": "stream",
     "text": [
      "\n",
      " 18%|█▊        | 185/1000 [1:37:00<6:10:20, 27.26s/it, best loss: -0.662790697674]\u001b[A\n",
      "\u001b[AParameters with this training accuracy 0.474384832594 and loss 1.76787541959 :\n",
      "\n",
      " 18%|█▊        | 185/1000 [1:37:05<6:10:20, 27.26s/it, best loss: -0.662790697674]\u001b[A\n",
      "\u001b[AParameters with this testing accuracy 0.488372093023 and loss 1.75982698096 :\n",
      "\n",
      " 18%|█▊        | 185/1000 [1:37:05<6:10:20, 27.26s/it, best loss: -0.662790697674]\u001b[A\n",
      "\u001b[A{'colsample_bytree': 0.75, 'learning_rate': 0.25, 'min_child_weight': 3.0, 'n_estimators': 150, 'subsample': 1.0, 'importance_type': 'total_cover', 'max_depth': 1, 'gamma': 0.6000000000000001, 'booster': 'gblinear'}\n",
      "\n",
      " 18%|█▊        | 185/1000 [1:37:05<6:10:20, 27.26s/it, best loss: -0.662790697674]\u001b[A"
     ]
    },
    {
     "name": "stderr",
     "output_type": "stream",
     "text": [
      "Hyperopt:  19%|█▊        | 186/1000 [1:37:06<4:41:05, 20.72s/it]"
     ]
    },
    {
     "name": "stdout",
     "output_type": "stream",
     "text": [
      "\n",
      " 19%|█▊        | 186/1000 [1:37:05<4:41:04, 20.72s/it, best loss: -0.662790697674]\u001b[A\n",
      "\u001b[AParameters with this training accuracy 0.991125453812 and loss 0.117930354171 :\n",
      "\n",
      " 19%|█▊        | 186/1000 [1:37:33<4:41:04, 20.72s/it, best loss: -0.662790697674]\u001b[A\n",
      "\u001b[AParameters with this testing accuracy 0.651162790698 and loss 1.17155053397 :\n",
      "\n",
      " 19%|█▊        | 186/1000 [1:37:33<4:41:04, 20.72s/it, best loss: -0.662790697674]\u001b[A\n",
      "\u001b[A{'colsample_bytree': 0.65, 'learning_rate': 0.125, 'min_child_weight': 6.0, 'n_estimators': 273, 'subsample': 0.9500000000000001, 'importance_type': 'gain', 'max_depth': 7, 'gamma': 0.55, 'booster': 'gbtree'}\n",
      "\n",
      " 19%|█▊        | 186/1000 [1:37:33<4:41:04, 20.72s/it, best loss: -0.662790697674]\u001b[A"
     ]
    },
    {
     "name": "stderr",
     "output_type": "stream",
     "text": [
      "Hyperopt:  19%|█▊        | 187/1000 [1:37:34<5:10:24, 22.91s/it]"
     ]
    },
    {
     "name": "stdout",
     "output_type": "stream",
     "text": [
      "\n",
      " 19%|█▊        | 187/1000 [1:37:33<5:10:24, 22.91s/it, best loss: -0.662790697674]\u001b[A\n",
      "\u001b[AParameters with this training accuracy 0.990722065349 and loss 0.124863865299 :\n",
      "\n",
      " 19%|█▊        | 187/1000 [1:38:05<5:10:24, 22.91s/it, best loss: -0.662790697674]\u001b[A\n",
      "\u001b[AParameters with this testing accuracy 0.639534883721 and loss 1.18030974343 :\n",
      "\n",
      " 19%|█▊        | 187/1000 [1:38:05<5:10:24, 22.91s/it, best loss: -0.662790697674]\u001b[A\n",
      "\u001b[A{'colsample_bytree': 0.7000000000000001, 'learning_rate': 0.15000000000000002, 'min_child_weight': 6.0, 'n_estimators': 283, 'subsample': 1.0, 'importance_type': 'gain', 'max_depth': 7, 'gamma': 0.6000000000000001, 'booster': 'gbtree'}\n",
      "\n",
      " 19%|█▊        | 187/1000 [1:38:05<5:10:24, 22.91s/it, best loss: -0.662790697674]\u001b[A"
     ]
    },
    {
     "name": "stderr",
     "output_type": "stream",
     "text": [
      "Hyperopt:  19%|█▉        | 188/1000 [1:38:06<5:47:18, 25.66s/it]"
     ]
    },
    {
     "name": "stdout",
     "output_type": "stream",
     "text": [
      "\n",
      " 19%|█▉        | 188/1000 [1:38:05<5:47:18, 25.66s/it, best loss: -0.662790697674]\u001b[A\n",
      "\u001b[AParameters with this training accuracy 0.991528842275 and loss 0.112332779905 :\n",
      "\n",
      " 19%|█▉        | 188/1000 [1:38:50<5:47:18, 25.66s/it, best loss: -0.662790697674]\u001b[A\n",
      "\u001b[AParameters with this testing accuracy 0.633720930233 and loss 1.20069889669 :\n",
      "\n",
      " 19%|█▉        | 188/1000 [1:38:50<5:47:18, 25.66s/it, best loss: -0.662790697674]\u001b[A\n",
      "\u001b[A{'colsample_bytree': 0.65, 'learning_rate': 0.17500000000000002, 'min_child_weight': 6.0, 'n_estimators': 457, 'subsample': 1.0, 'importance_type': 'gain', 'max_depth': 7, 'gamma': 0.55, 'booster': 'gbtree'}\n",
      "\n",
      " 19%|█▉        | 188/1000 [1:38:50<5:47:18, 25.66s/it, best loss: -0.662790697674]\u001b[A"
     ]
    },
    {
     "name": "stderr",
     "output_type": "stream",
     "text": [
      "Hyperopt:  19%|█▉        | 189/1000 [1:38:51<7:05:43, 31.50s/it]"
     ]
    },
    {
     "name": "stdout",
     "output_type": "stream",
     "text": [
      "\n",
      " 19%|█▉        | 189/1000 [1:38:50<7:05:43, 31.50s/it, best loss: -0.662790697674]\u001b[A\n",
      "\u001b[AParameters with this training accuracy 0.99475594998 and loss 0.0862689105308 :\n",
      "\n",
      " 19%|█▉        | 189/1000 [1:39:45<7:05:43, 31.50s/it, best loss: -0.662790697674]\u001b[A\n",
      "\u001b[AParameters with this testing accuracy 0.645348837209 and loss 1.28739964104 :\n",
      "\n",
      " 19%|█▉        | 189/1000 [1:39:45<7:05:43, 31.50s/it, best loss: -0.662790697674]\u001b[A\n",
      "\u001b[A{'colsample_bytree': 0.6000000000000001, 'learning_rate': 0.225, 'min_child_weight': 4.0, 'n_estimators': 411, 'subsample': 0.8, 'importance_type': 'cover', 'max_depth': 4, 'gamma': 0.5, 'booster': 'dart'}\n",
      "\n",
      " 19%|█▉        | 189/1000 [1:39:45<7:05:43, 31.50s/it, best loss: -0.662790697674]\u001b[A"
     ]
    },
    {
     "name": "stderr",
     "output_type": "stream",
     "text": [
      "Hyperopt:  19%|█▉        | 190/1000 [1:39:45<8:37:46, 38.35s/it]"
     ]
    },
    {
     "name": "stdout",
     "output_type": "stream",
     "text": [
      "\n",
      " 19%|█▉        | 190/1000 [1:39:45<8:37:47, 38.36s/it, best loss: -0.662790697674]\u001b[A\n",
      "\u001b[AParameters with this training accuracy 0.992739007664 and loss 0.101114999211 :\n",
      "\n",
      " 19%|█▉        | 190/1000 [1:41:06<8:37:47, 38.36s/it, best loss: -0.662790697674]\u001b[A\n",
      "\u001b[AParameters with this testing accuracy 0.627906976744 and loss 1.19758496923 :\n",
      "\n",
      " 19%|█▉        | 190/1000 [1:41:06<8:37:47, 38.36s/it, best loss: -0.662790697674]\u001b[A\n",
      "\u001b[A{'colsample_bytree': 0.8, 'learning_rate': 0.15000000000000002, 'min_child_weight': 4.0, 'n_estimators': 417, 'subsample': 0.9, 'importance_type': 'weight', 'max_depth': 8, 'gamma': 0.65, 'booster': 'dart'}\n",
      "\n",
      " 19%|█▉        | 190/1000 [1:41:06<8:37:47, 38.36s/it, best loss: -0.662790697674]\u001b[A"
     ]
    },
    {
     "name": "stderr",
     "output_type": "stream",
     "text": [
      "Hyperopt:  19%|█▉        | 191/1000 [1:41:07<11:31:35, 51.29s/it]"
     ]
    },
    {
     "name": "stdout",
     "output_type": "stream",
     "text": [
      "\n",
      " 19%|█▉        | 191/1000 [1:41:06<11:31:36, 51.29s/it, best loss: -0.662790697674]\u001b[A\n",
      "\u001b[AParameters with this training accuracy 0.987091569181 and loss 0.145316860847 :\n",
      "\n",
      " 19%|█▉        | 191/1000 [1:41:44<11:31:36, 51.29s/it, best loss: -0.662790697674]\u001b[A\n",
      "\u001b[AParameters with this testing accuracy 0.636627906977 and loss 1.18073881869 :\n",
      "\n",
      " 19%|█▉        | 191/1000 [1:41:44<11:31:36, 51.29s/it, best loss: -0.662790697674]\u001b[A\n",
      "\u001b[A{'colsample_bytree': 0.7000000000000001, 'learning_rate': 0.125, 'min_child_weight': 6.0, 'n_estimators': 251, 'subsample': 1.0, 'importance_type': 'cover', 'max_depth': 5, 'gamma': 0.6000000000000001, 'booster': 'dart'}\n",
      "\n",
      " 19%|█▉        | 191/1000 [1:41:44<11:31:36, 51.29s/it, best loss: -0.662790697674]\u001b[A"
     ]
    },
    {
     "name": "stderr",
     "output_type": "stream",
     "text": [
      "Hyperopt:  19%|█▉        | 192/1000 [1:41:45<10:36:58, 47.30s/it]"
     ]
    },
    {
     "name": "stdout",
     "output_type": "stream",
     "text": [
      "\n",
      " 19%|█▉        | 192/1000 [1:41:44<10:36:57, 47.30s/it, best loss: -0.662790697674]\u001b[A\n",
      "\u001b[AParameters with this training accuracy 0.991932230738 and loss 0.112236442345 :\n",
      "\n",
      " 19%|█▉        | 192/1000 [1:42:21<10:36:57, 47.30s/it, best loss: -0.662790697674]\u001b[A\n",
      "\u001b[AParameters with this testing accuracy 0.630813953488 and loss 1.21083466127 :\n",
      "\n",
      " 19%|█▉        | 192/1000 [1:42:21<10:36:57, 47.30s/it, best loss: -0.662790697674]\u001b[A\n",
      "\u001b[A{'colsample_bytree': 0.55, 'learning_rate': 0.275, 'min_child_weight': 4.0, 'n_estimators': 280, 'subsample': 0.9500000000000001, 'importance_type': 'total_gain', 'max_depth': 6, 'gamma': 0.7000000000000001, 'booster': 'dart'}\n",
      "\n",
      " 19%|█▉        | 192/1000 [1:42:22<10:36:57, 47.30s/it, best loss: -0.662790697674]\u001b[A"
     ]
    },
    {
     "name": "stderr",
     "output_type": "stream",
     "text": [
      "Hyperopt:  19%|█▉        | 193/1000 [1:42:22<9:55:57, 44.31s/it] "
     ]
    },
    {
     "name": "stdout",
     "output_type": "stream",
     "text": [
      "\n",
      " 19%|█▉        | 193/1000 [1:42:22<9:55:56, 44.31s/it, best loss: -0.662790697674] \u001b[A\n",
      "\u001b[AParameters with this training accuracy 0.474384832594 and loss 1.76728309686 :\n",
      "\n",
      " 19%|█▉        | 193/1000 [1:42:34<9:55:56, 44.31s/it, best loss: -0.662790697674]\u001b[A\n",
      "\u001b[AParameters with this testing accuracy 0.488372093023 and loss 1.75879096563 :\n",
      "\n",
      " 19%|█▉        | 193/1000 [1:42:34<9:55:56, 44.31s/it, best loss: -0.662790697674]\u001b[A\n",
      "\u001b[A{'colsample_bytree': 0.75, 'learning_rate': 0.2, 'min_child_weight': 3.0, 'n_estimators': 402, 'subsample': 0.8500000000000001, 'importance_type': 'cover', 'max_depth': 9, 'gamma': 0.65, 'booster': 'gblinear'}\n",
      "\n",
      " 19%|█▉        | 193/1000 [1:42:34<9:55:56, 44.31s/it, best loss: -0.662790697674]\u001b[A"
     ]
    },
    {
     "name": "stderr",
     "output_type": "stream",
     "text": [
      "Hyperopt:  19%|█▉        | 194/1000 [1:42:35<7:48:35, 34.88s/it]"
     ]
    },
    {
     "name": "stdout",
     "output_type": "stream",
     "text": [
      "\n",
      " 19%|█▉        | 194/1000 [1:42:34<7:48:34, 34.88s/it, best loss: -0.662790697674]\u001b[A\n",
      "\u001b[AParameters with this training accuracy 0.993545784591 and loss 0.090548968134 :\n",
      "\n",
      " 19%|█▉        | 194/1000 [1:43:17<7:48:34, 34.88s/it, best loss: -0.662790697674]\u001b[A\n",
      "\u001b[AParameters with this testing accuracy 0.633720930233 and loss 1.24095653815 :\n",
      "\n",
      " 19%|█▉        | 194/1000 [1:43:17<7:48:34, 34.88s/it, best loss: -0.662790697674]\u001b[A\n",
      "\u001b[A{'colsample_bytree': 0.8, 'learning_rate': 0.25, 'min_child_weight': 3.0, 'n_estimators': 297, 'subsample': 0.9, 'importance_type': 'weight', 'max_depth': 4, 'gamma': 0.55, 'booster': 'dart'}\n",
      "\n",
      " 19%|█▉        | 194/1000 [1:43:17<7:48:34, 34.88s/it, best loss: -0.662790697674]\u001b[A"
     ]
    },
    {
     "name": "stderr",
     "output_type": "stream",
     "text": [
      "Hyperopt:  20%|█▉        | 195/1000 [1:43:17<8:18:49, 37.18s/it]"
     ]
    },
    {
     "name": "stdout",
     "output_type": "stream",
     "text": [
      "\n",
      " 20%|█▉        | 195/1000 [1:43:17<8:18:50, 37.18s/it, best loss: -0.662790697674]\u001b[A\n",
      "\u001b[AParameters with this training accuracy 0.845502218637 and loss 0.57991733825 :\n",
      "\n",
      " 20%|█▉        | 195/1000 [1:43:24<8:18:50, 37.18s/it, best loss: -0.662790697674]\u001b[A\n",
      "\u001b[AParameters with this testing accuracy 0.622093023256 and loss 1.15753347466 :\n",
      "\n",
      " 20%|█▉        | 195/1000 [1:43:24<8:18:50, 37.18s/it, best loss: -0.662790697674]\u001b[A\n",
      "\u001b[A{'colsample_bytree': 0.9500000000000001, 'learning_rate': 0.1, 'min_child_weight': 4.0, 'n_estimators': 61, 'subsample': 0.75, 'importance_type': 'total_cover', 'max_depth': 3, 'gamma': 0.6000000000000001, 'booster': 'dart'}\n",
      "\n",
      " 20%|█▉        | 195/1000 [1:43:24<8:18:50, 37.18s/it, best loss: -0.662790697674]\u001b[A"
     ]
    },
    {
     "name": "stderr",
     "output_type": "stream",
     "text": [
      "Hyperopt:  20%|█▉        | 196/1000 [1:43:25<6:18:13, 28.23s/it]"
     ]
    },
    {
     "name": "stdout",
     "output_type": "stream",
     "text": [
      "\n",
      " 20%|█▉        | 196/1000 [1:43:24<6:18:12, 28.22s/it, best loss: -0.662790697674]\u001b[A\n",
      "\u001b[AParameters with this training accuracy 0.98951189996 and loss 0.12329652122 :\n",
      "\n",
      " 20%|█▉        | 196/1000 [1:43:40<6:18:12, 28.22s/it, best loss: -0.662790697674]\u001b[A\n",
      "\u001b[AParameters with this testing accuracy 0.642441860465 and loss 1.17223025943 :\n",
      "\n",
      " 20%|█▉        | 196/1000 [1:43:40<6:18:12, 28.22s/it, best loss: -0.662790697674]\u001b[A\n",
      "\u001b[A{'colsample_bytree': 0.65, 'learning_rate': 0.17500000000000002, 'min_child_weight': 4.0, 'n_estimators': 108, 'subsample': 0.9500000000000001, 'importance_type': 'cover', 'max_depth': 6, 'gamma': 0.5, 'booster': 'dart'}\n",
      "\n",
      " 20%|█▉        | 196/1000 [1:43:40<6:18:12, 28.22s/it, best loss: -0.662790697674]\u001b[A"
     ]
    },
    {
     "name": "stderr",
     "output_type": "stream",
     "text": [
      "Hyperopt:  20%|█▉        | 197/1000 [1:43:40<5:26:25, 24.39s/it]"
     ]
    },
    {
     "name": "stdout",
     "output_type": "stream",
     "text": [
      "\n",
      " 20%|█▉        | 197/1000 [1:43:40<5:26:25, 24.39s/it, best loss: -0.662790697674]\u001b[A\n",
      "\u001b[AParameters with this training accuracy 0.87858007261 and loss 0.554880407758 :\n",
      "\n",
      " 20%|█▉        | 197/1000 [1:43:53<5:26:25, 24.39s/it, best loss: -0.662790697674]\u001b[A\n",
      "\u001b[AParameters with this testing accuracy 0.627906976744 and loss 1.18227005824 :\n",
      "\n",
      " 20%|█▉        | 197/1000 [1:43:53<5:26:25, 24.39s/it, best loss: -0.662790697674]\u001b[A\n",
      "\u001b[A{'colsample_bytree': 1.0, 'learning_rate': 0.05, 'min_child_weight': 2.0, 'n_estimators': 78, 'subsample': 0.8500000000000001, 'importance_type': 'weight', 'max_depth': 4, 'gamma': 0.65, 'booster': 'dart'}\n",
      "\n",
      " 20%|█▉        | 197/1000 [1:43:53<5:26:25, 24.39s/it, best loss: -0.662790697674]\u001b[A"
     ]
    },
    {
     "name": "stderr",
     "output_type": "stream",
     "text": [
      "Hyperopt:  20%|█▉        | 198/1000 [1:43:53<4:39:41, 20.93s/it]"
     ]
    },
    {
     "name": "stdout",
     "output_type": "stream",
     "text": [
      "\n",
      " 20%|█▉        | 198/1000 [1:43:53<4:39:41, 20.92s/it, best loss: -0.662790697674]\u001b[A\n",
      "\u001b[AParameters with this training accuracy 0.986688180718 and loss 0.141914009256 :\n",
      "\n",
      " 20%|█▉        | 198/1000 [1:44:12<4:39:41, 20.92s/it, best loss: -0.662790697674]\u001b[A\n",
      "\u001b[AParameters with this testing accuracy 0.648255813953 and loss 1.18719902793 :\n",
      "\n",
      " 20%|█▉        | 198/1000 [1:44:12<4:39:41, 20.92s/it, best loss: -0.662790697674]\u001b[A\n",
      "\u001b[A{'colsample_bytree': 0.7000000000000001, 'learning_rate': 0.15000000000000002, 'min_child_weight': 5.0, 'n_estimators': 155, 'subsample': 1.0, 'importance_type': 'gain', 'max_depth': 7, 'gamma': 0.7000000000000001, 'booster': 'gbtree'}\n",
      "\n",
      " 20%|█▉        | 198/1000 [1:44:12<4:39:41, 20.92s/it, best loss: -0.662790697674]\u001b[A"
     ]
    },
    {
     "name": "stderr",
     "output_type": "stream",
     "text": [
      "Hyperopt:  20%|█▉        | 199/1000 [1:44:13<4:35:11, 20.61s/it]"
     ]
    },
    {
     "name": "stdout",
     "output_type": "stream",
     "text": [
      "\n",
      " 20%|█▉        | 199/1000 [1:44:12<4:35:11, 20.61s/it, best loss: -0.662790697674]\u001b[A\n",
      "\u001b[AParameters with this training accuracy 0.473981444131 and loss 1.773327604 :\n",
      "\n",
      " 20%|█▉        | 199/1000 [1:44:20<4:35:11, 20.61s/it, best loss: -0.662790697674]\u001b[A\n",
      "\u001b[AParameters with this testing accuracy 0.485465116279 and loss 1.76820597029 :\n",
      "\n",
      " 20%|█▉        | 199/1000 [1:44:20<4:35:11, 20.61s/it, best loss: -0.662790697674]\u001b[A\n",
      "\u001b[A{'colsample_bytree': 0.5, 'learning_rate': 0.07500000000000001, 'min_child_weight': 3.0, 'n_estimators': 225, 'subsample': 0.9, 'importance_type': 'cover', 'max_depth': 1, 'gamma': 0.8, 'booster': 'gblinear'}\n",
      "\n",
      " 20%|█▉        | 199/1000 [1:44:20<4:35:11, 20.61s/it, best loss: -0.662790697674]\u001b[A"
     ]
    },
    {
     "name": "stderr",
     "output_type": "stream",
     "text": [
      "Hyperopt:  20%|██        | 200/1000 [1:44:20<3:42:30, 16.69s/it]"
     ]
    },
    {
     "name": "stdout",
     "output_type": "stream",
     "text": [
      "\n",
      " 20%|██        | 200/1000 [1:44:20<3:42:29, 16.69s/it, best loss: -0.662790697674]\u001b[A\n",
      "\u001b[AParameters with this training accuracy 0.874142799516 and loss 0.537268292493 :\n",
      "\n",
      " 20%|██        | 200/1000 [1:44:23<3:42:29, 16.69s/it, best loss: -0.662790697674]\u001b[A\n",
      "\u001b[AParameters with this testing accuracy 0.622093023256 and loss 1.1674813589 :\n",
      "\n",
      " 20%|██        | 200/1000 [1:44:23<3:42:29, 16.69s/it, best loss: -0.662790697674]\u001b[A\n",
      "\u001b[A{'colsample_bytree': 0.6000000000000001, 'learning_rate': 0.225, 'min_child_weight': 6.0, 'n_estimators': 23, 'subsample': 0.9500000000000001, 'importance_type': 'gain', 'max_depth': 5, 'gamma': 0.75, 'booster': 'gbtree'}\n",
      "\n",
      " 20%|██        | 200/1000 [1:44:23<3:42:29, 16.69s/it, best loss: -0.662790697674]\u001b[A"
     ]
    },
    {
     "name": "stderr",
     "output_type": "stream",
     "text": [
      "Hyperopt:  20%|██        | 201/1000 [1:44:24<2:48:12, 12.63s/it]"
     ]
    },
    {
     "name": "stdout",
     "output_type": "stream",
     "text": [
      "\n",
      " 20%|██        | 201/1000 [1:44:23<2:48:12, 12.63s/it, best loss: -0.662790697674]\u001b[A\n",
      "\u001b[AParameters with this training accuracy 0.987091569181 and loss 0.133460001478 :\n",
      "\n",
      " 20%|██        | 201/1000 [1:44:55<2:48:12, 12.63s/it, best loss: -0.662790697674]\u001b[A\n",
      "\u001b[AParameters with this testing accuracy 0.636627906977 and loss 1.19340589377 :\n",
      "\n",
      " 20%|██        | 201/1000 [1:44:55<2:48:12, 12.63s/it, best loss: -0.662790697674]\u001b[A\n",
      "\u001b[A{'colsample_bytree': 0.75, 'learning_rate': 0.2, 'min_child_weight': 5.0, 'n_estimators': 214, 'subsample': 1.0, 'importance_type': 'cover', 'max_depth': 5, 'gamma': 0.65, 'booster': 'dart'}\n",
      "\n",
      " 20%|██        | 201/1000 [1:44:55<2:48:12, 12.63s/it, best loss: -0.662790697674]\u001b[A"
     ]
    },
    {
     "name": "stderr",
     "output_type": "stream",
     "text": [
      "Hyperopt:  20%|██        | 202/1000 [1:44:55<4:03:46, 18.33s/it]"
     ]
    },
    {
     "name": "stdout",
     "output_type": "stream",
     "text": [
      "\n",
      " 20%|██        | 202/1000 [1:44:55<4:03:48, 18.33s/it, best loss: -0.662790697674]\u001b[A\n",
      "\u001b[AParameters with this training accuracy 0.954013715208 and loss 0.269561948201 :\n",
      "\n",
      " 20%|██        | 202/1000 [1:46:25<4:03:48, 18.33s/it, best loss: -0.662790697674]\u001b[A\n",
      "\u001b[AParameters with this testing accuracy 0.636627906977 and loss 1.12908243788 :\n",
      "\n",
      " 20%|██        | 202/1000 [1:46:25<4:03:48, 18.33s/it, best loss: -0.662790697674]\u001b[A\n",
      "\u001b[A{'colsample_bytree': 0.7000000000000001, 'learning_rate': 0.025, 'min_child_weight': 6.0, 'n_estimators': 450, 'subsample': 1.0, 'importance_type': 'cover', 'max_depth': 5, 'gamma': 0.6000000000000001, 'booster': 'dart'}\n",
      "\n",
      " 20%|██        | 202/1000 [1:46:25<4:03:48, 18.33s/it, best loss: -0.662790697674]\u001b[A"
     ]
    },
    {
     "name": "stderr",
     "output_type": "stream",
     "text": [
      "Hyperopt:  20%|██        | 203/1000 [1:46:25<8:49:31, 39.86s/it]"
     ]
    },
    {
     "name": "stdout",
     "output_type": "stream",
     "text": [
      "\n",
      " 20%|██        | 203/1000 [1:46:25<8:49:33, 39.87s/it, best loss: -0.662790697674]\u001b[A\n",
      "\u001b[AParameters with this training accuracy 0.981444130698 and loss 0.155759178115 :\n",
      "\n",
      " 20%|██        | 203/1000 [1:47:19<8:49:33, 39.87s/it, best loss: -0.662790697674]\u001b[A\n",
      "\u001b[AParameters with this testing accuracy 0.642441860465 and loss 1.19302587239 :\n",
      "\n",
      " 20%|██        | 203/1000 [1:47:19<8:49:33, 39.87s/it, best loss: -0.662790697674]\u001b[A\n",
      "\u001b[A{'colsample_bytree': 0.8, 'learning_rate': 0.125, 'min_child_weight': 4.0, 'n_estimators': 458, 'subsample': 0.8, 'importance_type': 'total_gain', 'max_depth': 2, 'gamma': 0.55, 'booster': 'dart'}\n",
      "\n",
      " 20%|██        | 203/1000 [1:47:19<8:49:33, 39.87s/it, best loss: -0.662790697674]\u001b[A"
     ]
    },
    {
     "name": "stderr",
     "output_type": "stream",
     "text": [
      "Hyperopt:  20%|██        | 204/1000 [1:47:20<9:46:31, 44.21s/it]"
     ]
    },
    {
     "name": "stdout",
     "output_type": "stream",
     "text": [
      "\n",
      " 20%|██        | 204/1000 [1:47:19<9:46:32, 44.21s/it, best loss: -0.662790697674]\u001b[A\n",
      "\u001b[AParameters with this training accuracy 0.978620411456 and loss 0.187092259316 :\n",
      "\n",
      " 20%|██        | 204/1000 [1:47:44<9:46:32, 44.21s/it, best loss: -0.662790697674]\u001b[A\n",
      "\u001b[AParameters with this testing accuracy 0.642441860465 and loss 1.16308918927 :\n",
      "\n",
      " 20%|██        | 204/1000 [1:47:44<9:46:32, 44.21s/it, best loss: -0.662790697674]\u001b[A\n",
      "\u001b[A{'colsample_bytree': 0.55, 'learning_rate': 0.1, 'min_child_weight': 4.0, 'n_estimators': 208, 'subsample': 0.9, 'importance_type': 'weight', 'max_depth': 4, 'gamma': 0.7000000000000001, 'booster': 'dart'}\n",
      "\n",
      " 20%|██        | 204/1000 [1:47:44<9:46:32, 44.21s/it, best loss: -0.662790697674]\u001b[A"
     ]
    },
    {
     "name": "stderr",
     "output_type": "stream",
     "text": [
      "Hyperopt:  20%|██        | 205/1000 [1:47:45<8:29:37, 38.46s/it]"
     ]
    },
    {
     "name": "stdout",
     "output_type": "stream",
     "text": [
      "\n",
      " 20%|██        | 205/1000 [1:47:44<8:29:37, 38.46s/it, best loss: -0.662790697674]\u001b[A\n",
      "\u001b[AParameters with this training accuracy 0.990722065349 and loss 0.121528380062 :\n",
      "\n",
      " 20%|██        | 205/1000 [1:48:34<8:29:37, 38.46s/it, best loss: -0.662790697674]\u001b[A\n",
      "\u001b[AParameters with this testing accuracy 0.630813953488 and loss 1.17363394577 :\n",
      "\n",
      " 20%|██        | 205/1000 [1:48:34<8:29:37, 38.46s/it, best loss: -0.662790697674]\u001b[A\n",
      "\u001b[A{'colsample_bytree': 0.6000000000000001, 'learning_rate': 0.07500000000000001, 'min_child_weight': 3.0, 'n_estimators': 474, 'subsample': 0.8500000000000001, 'importance_type': 'cover', 'max_depth': 6, 'gamma': 0.75, 'booster': 'gbtree'}\n",
      "\n",
      " 20%|██        | 205/1000 [1:48:34<8:29:37, 38.46s/it, best loss: -0.662790697674]\u001b[A"
     ]
    },
    {
     "name": "stderr",
     "output_type": "stream",
     "text": [
      "Hyperopt:  21%|██        | 206/1000 [1:48:34<9:12:53, 41.78s/it]"
     ]
    },
    {
     "name": "stdout",
     "output_type": "stream",
     "text": [
      "\n",
      " 21%|██        | 206/1000 [1:48:34<9:12:54, 41.78s/it, best loss: -0.662790697674]\u001b[A\n",
      "\u001b[AParameters with this training accuracy 0.474384832594 and loss 1.76755710435 :\n",
      "\n",
      " 21%|██        | 206/1000 [1:48:43<9:12:54, 41.78s/it, best loss: -0.662790697674]\u001b[A\n",
      "\u001b[AParameters with this testing accuracy 0.488372093023 and loss 1.75927503721 :\n",
      "\n",
      " 21%|██        | 206/1000 [1:48:43<9:12:54, 41.78s/it, best loss: -0.662790697674]\u001b[A\n",
      "\u001b[A{'colsample_bytree': 0.8500000000000001, 'learning_rate': 0.17500000000000002, 'min_child_weight': 2.0, 'n_estimators': 274, 'subsample': 0.9, 'importance_type': 'total_cover', 'max_depth': 8, 'gamma': 0.6000000000000001, 'booster': 'gblinear'}\n",
      "\n",
      " 21%|██        | 206/1000 [1:48:43<9:12:54, 41.78s/it, best loss: -0.662790697674]\u001b[A"
     ]
    },
    {
     "name": "stderr",
     "output_type": "stream",
     "text": [
      "Hyperopt:  21%|██        | 207/1000 [1:48:43<7:03:01, 32.01s/it]"
     ]
    },
    {
     "name": "stdout",
     "output_type": "stream",
     "text": [
      "\n",
      " 21%|██        | 207/1000 [1:48:43<7:03:00, 32.01s/it, best loss: -0.662790697674]\u001b[A\n",
      "\u001b[AParameters with this training accuracy 0.991125453812 and loss 0.117410595467 :\n",
      "\n",
      " 21%|██        | 207/1000 [1:49:06<7:03:00, 32.01s/it, best loss: -0.662790697674]\u001b[A\n",
      "\u001b[AParameters with this testing accuracy 0.645348837209 and loss 1.16284198421 :\n",
      "\n",
      " 21%|██        | 207/1000 [1:49:06<7:03:00, 32.01s/it, best loss: -0.662790697674]\u001b[A\n",
      "\u001b[A{'colsample_bytree': 0.75, 'learning_rate': 0.15000000000000002, 'min_child_weight': 4.0, 'n_estimators': 125, 'subsample': 0.9500000000000001, 'importance_type': 'weight', 'max_depth': 9, 'gamma': 0.65, 'booster': 'dart'}\n",
      "\n",
      " 21%|██        | 207/1000 [1:49:06<7:03:00, 32.01s/it, best loss: -0.662790697674]\u001b[A"
     ]
    },
    {
     "name": "stderr",
     "output_type": "stream",
     "text": [
      "Hyperopt:  21%|██        | 208/1000 [1:49:06<6:26:26, 29.28s/it]"
     ]
    },
    {
     "name": "stdout",
     "output_type": "stream",
     "text": [
      "\n",
      " 21%|██        | 208/1000 [1:49:06<6:26:25, 29.27s/it, best loss: -0.662790697674]\u001b[A\n",
      "\u001b[AParameters with this training accuracy 0.98305768455 and loss 0.16260901813 :\n",
      "\n",
      " 21%|██        | 208/1000 [1:49:25<6:26:25, 29.27s/it, best loss: -0.662790697674]\u001b[A\n",
      "\u001b[AParameters with this testing accuracy 0.622093023256 and loss 1.19996777738 :\n",
      "\n",
      " 21%|██        | 208/1000 [1:49:25<6:26:25, 29.27s/it, best loss: -0.662790697674]\u001b[A\n",
      "\u001b[A{'colsample_bytree': 0.7000000000000001, 'learning_rate': 0.25, 'min_child_weight': 5.0, 'n_estimators': 142, 'subsample': 1.0, 'importance_type': 'cover', 'max_depth': 5, 'gamma': 0.8500000000000001, 'booster': 'dart'}\n",
      "\n",
      " 21%|██        | 208/1000 [1:49:25<6:26:25, 29.27s/it, best loss: -0.662790697674]\u001b[A"
     ]
    },
    {
     "name": "stderr",
     "output_type": "stream",
     "text": [
      "Hyperopt:  21%|██        | 209/1000 [1:49:25<5:44:53, 26.16s/it]"
     ]
    },
    {
     "name": "stdout",
     "output_type": "stream",
     "text": [
      "\n",
      " 21%|██        | 209/1000 [1:49:25<5:44:53, 26.16s/it, best loss: -0.662790697674]\u001b[A\n",
      "\u001b[AParameters with this training accuracy 0.979023799919 and loss 0.172818047801 :\n",
      "\n",
      " 21%|██        | 209/1000 [1:50:00<5:44:53, 26.16s/it, best loss: -0.662790697674]\u001b[A\n",
      "\u001b[AParameters with this testing accuracy 0.636627906977 and loss 1.14556649599 :\n",
      "\n",
      " 21%|██        | 209/1000 [1:50:00<5:44:53, 26.16s/it, best loss: -0.662790697674]\u001b[A\n",
      "\u001b[A{'colsample_bytree': 0.65, 'learning_rate': 0.05, 'min_child_weight': 4.0, 'n_estimators': 405, 'subsample': 0.9, 'importance_type': 'cover', 'max_depth': 4, 'gamma': 0.55, 'booster': 'gbtree'}\n",
      "\n",
      " 21%|██        | 209/1000 [1:50:00<5:44:53, 26.16s/it, best loss: -0.662790697674]\u001b[A"
     ]
    },
    {
     "name": "stderr",
     "output_type": "stream",
     "text": [
      "Hyperopt:  21%|██        | 210/1000 [1:50:00<6:20:25, 28.89s/it]"
     ]
    },
    {
     "name": "stdout",
     "output_type": "stream",
     "text": [
      "\n",
      " 21%|██        | 210/1000 [1:50:00<6:20:26, 28.89s/it, best loss: -0.662790697674]\u001b[A\n",
      "\u001b[AParameters with this training accuracy 0.986688180718 and loss 0.136140489922 :\n",
      "\n",
      " 21%|██        | 210/1000 [1:50:12<6:20:26, 28.89s/it, best loss: -0.662790697674]\u001b[A\n",
      "\u001b[AParameters with this testing accuracy 0.636627906977 and loss 1.23091554998 :\n",
      "\n",
      " 21%|██        | 210/1000 [1:50:12<6:20:26, 28.89s/it, best loss: -0.662790697674]\u001b[A\n",
      "\u001b[A{'colsample_bytree': 0.75, 'learning_rate': 0.4, 'min_child_weight': 5.0, 'n_estimators': 98, 'subsample': 1.0, 'importance_type': 'cover', 'max_depth': 5, 'gamma': 0.7000000000000001, 'booster': 'dart'}\n",
      "\n",
      " 21%|██        | 210/1000 [1:50:12<6:20:26, 28.89s/it, best loss: -0.662790697674]\u001b[A"
     ]
    },
    {
     "name": "stderr",
     "output_type": "stream",
     "text": [
      "Hyperopt:  21%|██        | 211/1000 [1:50:12<5:12:14, 23.75s/it]"
     ]
    },
    {
     "name": "stdout",
     "output_type": "stream",
     "text": [
      "\n",
      " 21%|██        | 211/1000 [1:50:12<5:12:13, 23.74s/it, best loss: -0.662790697674]\u001b[A\n",
      "\u001b[AParameters with this training accuracy 0.949979830577 and loss 0.283887401951 :\n",
      "\n",
      " 21%|██        | 211/1000 [1:51:12<5:12:13, 23.74s/it, best loss: -0.662790697674]\u001b[A\n",
      "\u001b[AParameters with this testing accuracy 0.648255813953 and loss 1.11389630634 :\n",
      "\n",
      " 21%|██        | 211/1000 [1:51:12<5:12:13, 23.74s/it, best loss: -0.662790697674]\u001b[A\n",
      "\u001b[A{'colsample_bytree': 0.6000000000000001, 'learning_rate': 0.025, 'min_child_weight': 4.0, 'n_estimators': 321, 'subsample': 0.8, 'importance_type': 'total_gain', 'max_depth': 6, 'gamma': 0.5, 'booster': 'dart'}\n",
      "\n",
      " 21%|██        | 211/1000 [1:51:12<5:12:13, 23.74s/it, best loss: -0.662790697674]\u001b[A"
     ]
    },
    {
     "name": "stderr",
     "output_type": "stream",
     "text": [
      "Hyperopt:  21%|██        | 212/1000 [1:51:12<7:35:44, 34.70s/it]"
     ]
    },
    {
     "name": "stdout",
     "output_type": "stream",
     "text": [
      "\n",
      " 21%|██        | 212/1000 [1:51:12<7:35:45, 34.70s/it, best loss: -0.662790697674]\u001b[A\n",
      "\u001b[AParameters with this training accuracy 0.987494957644 and loss 0.144248963932 :\n",
      "\n",
      " 21%|██        | 212/1000 [1:51:27<7:35:45, 34.70s/it, best loss: -0.662790697674]\u001b[A\n",
      "\u001b[AParameters with this testing accuracy 0.645348837209 and loss 1.18105700706 :\n",
      "\n",
      " 21%|██        | 212/1000 [1:51:27<7:35:45, 34.70s/it, best loss: -0.662790697674]\u001b[A\n",
      "\u001b[A{'colsample_bytree': 0.65, 'learning_rate': 0.225, 'min_child_weight': 6.0, 'n_estimators': 131, 'subsample': 0.9500000000000001, 'importance_type': 'gain', 'max_depth': 7, 'gamma': 0.75, 'booster': 'gbtree'}\n",
      "\n",
      " 21%|██        | 212/1000 [1:51:27<7:35:45, 34.70s/it, best loss: -0.662790697674]\u001b[A"
     ]
    },
    {
     "name": "stderr",
     "output_type": "stream",
     "text": [
      "Hyperopt:  21%|██▏       | 213/1000 [1:51:27<6:17:29, 28.78s/it]"
     ]
    },
    {
     "name": "stdout",
     "output_type": "stream",
     "text": [
      "\n",
      " 21%|██▏       | 213/1000 [1:51:27<6:17:28, 28.78s/it, best loss: -0.662790697674]\u001b[A\n",
      "\u001b[AParameters with this training accuracy 0.474384832594 and loss 1.7676182869 :\n",
      "\n",
      " 21%|██▏       | 213/1000 [1:51:39<6:17:28, 28.78s/it, best loss: -0.662790697674]\u001b[A\n",
      "\u001b[AParameters with this testing accuracy 0.488372093023 and loss 1.75938031413 :\n",
      "\n",
      " 21%|██▏       | 213/1000 [1:51:39<6:17:28, 28.78s/it, best loss: -0.662790697674]\u001b[A\n",
      "\u001b[A{'colsample_bytree': 0.9, 'learning_rate': 0.125, 'min_child_weight': 3.0, 'n_estimators': 378, 'subsample': 0.8500000000000001, 'importance_type': 'weight', 'max_depth': 3, 'gamma': 0.6000000000000001, 'booster': 'gblinear'}\n",
      "\n",
      " 21%|██▏       | 213/1000 [1:51:39<6:17:28, 28.78s/it, best loss: -0.662790697674]\u001b[A"
     ]
    },
    {
     "name": "stderr",
     "output_type": "stream",
     "text": [
      "Hyperopt:  21%|██▏       | 214/1000 [1:51:40<5:12:04, 23.82s/it]"
     ]
    },
    {
     "name": "stdout",
     "output_type": "stream",
     "text": [
      "\n",
      " 21%|██▏       | 214/1000 [1:51:39<5:12:03, 23.82s/it, best loss: -0.662790697674]\u001b[A\n",
      "\u001b[AParameters with this training accuracy 0.984671238403 and loss 0.149386998015 :\n",
      "\n",
      " 21%|██▏       | 214/1000 [1:52:31<5:12:03, 23.82s/it, best loss: -0.662790697674]\u001b[A\n",
      "\u001b[AParameters with this testing accuracy 0.636627906977 and loss 1.20295978989 :\n",
      "\n",
      " 21%|██▏       | 214/1000 [1:52:31<5:12:03, 23.82s/it, best loss: -0.662790697674]\u001b[A\n",
      "\u001b[A{'colsample_bytree': 0.7000000000000001, 'learning_rate': 0.2, 'min_child_weight': 5.0, 'n_estimators': 347, 'subsample': 1.0, 'importance_type': 'cover', 'max_depth': 5, 'gamma': 0.8, 'booster': 'dart'}\n",
      "\n",
      " 21%|██▏       | 214/1000 [1:52:31<5:12:03, 23.82s/it, best loss: -0.662790697674]\u001b[A"
     ]
    },
    {
     "name": "stderr",
     "output_type": "stream",
     "text": [
      "Hyperopt:  22%|██▏       | 215/1000 [1:52:31<6:59:50, 32.09s/it]"
     ]
    },
    {
     "name": "stdout",
     "output_type": "stream",
     "text": [
      "\n",
      " 22%|██▏       | 215/1000 [1:52:31<6:59:51, 32.09s/it, best loss: -0.662790697674]\u001b[A\n",
      "\u001b[AParameters with this training accuracy 0.908027430415 and loss 0.398169576745 :\n",
      "\n",
      " 22%|██▏       | 215/1000 [1:52:35<6:59:51, 32.09s/it, best loss: -0.662790697674]\u001b[A\n",
      "\u001b[AParameters with this testing accuracy 0.627906976744 and loss 1.16291600167 :\n",
      "\n",
      " 22%|██▏       | 215/1000 [1:52:35<6:59:51, 32.09s/it, best loss: -0.662790697674]\u001b[A\n",
      "\u001b[A{'colsample_bytree': 0.55, 'learning_rate': 0.15000000000000002, 'min_child_weight': 1.0, 'n_estimators': 38, 'subsample': 0.75, 'importance_type': 'total_cover', 'max_depth': 4, 'gamma': 0.65, 'booster': 'dart'}\n",
      "\n",
      " 22%|██▏       | 215/1000 [1:52:35<6:59:51, 32.09s/it, best loss: -0.662790697674]\u001b[A"
     ]
    },
    {
     "name": "stderr",
     "output_type": "stream",
     "text": [
      "Hyperopt:  22%|██▏       | 216/1000 [1:52:35<5:10:14, 23.74s/it]"
     ]
    },
    {
     "name": "stdout",
     "output_type": "stream",
     "text": [
      "\n",
      " 22%|██▏       | 216/1000 [1:52:35<5:10:13, 23.74s/it, best loss: -0.662790697674]\u001b[A\n",
      "\u001b[AParameters with this training accuracy 0.987091569181 and loss 0.144682345537 :\n",
      "\n",
      " 22%|██▏       | 216/1000 [1:53:26<5:10:13, 23.74s/it, best loss: -0.662790697674]\u001b[A\n",
      "\u001b[AParameters with this testing accuracy 0.639534883721 and loss 1.17007597041 :\n",
      "\n",
      " 22%|██▏       | 216/1000 [1:53:26<5:10:13, 23.74s/it, best loss: -0.662790697674]\u001b[A\n",
      "\u001b[A{'colsample_bytree': 0.75, 'learning_rate': 0.07500000000000001, 'min_child_weight': 6.0, 'n_estimators': 499, 'subsample': 0.9500000000000001, 'importance_type': 'cover', 'max_depth': 5, 'gamma': 0.7000000000000001, 'booster': 'gbtree'}\n",
      "\n",
      " 22%|██▏       | 216/1000 [1:53:26<5:10:13, 23.74s/it, best loss: -0.662790697674]\u001b[A"
     ]
    },
    {
     "name": "stderr",
     "output_type": "stream",
     "text": [
      "Hyperopt:  22%|██▏       | 217/1000 [1:53:26<6:56:51, 31.94s/it]"
     ]
    },
    {
     "name": "stdout",
     "output_type": "stream",
     "text": [
      "\n",
      " 22%|██▏       | 217/1000 [1:53:26<6:56:53, 31.95s/it, best loss: -0.662790697674]\u001b[A\n",
      "\u001b[AParameters with this training accuracy 0.985881403792 and loss 0.147266752008 :\n",
      "\n",
      " 22%|██▏       | 217/1000 [1:54:09<6:56:53, 31.95s/it, best loss: -0.662790697674]\u001b[A\n",
      "\u001b[AParameters with this testing accuracy 0.645348837209 and loss 1.17893994117 :\n",
      "\n",
      " 22%|██▏       | 217/1000 [1:54:09<6:56:53, 31.95s/it, best loss: -0.662790697674]\u001b[A\n",
      "\u001b[A{'colsample_bytree': 0.7000000000000001, 'learning_rate': 0.1, 'min_child_weight': 5.0, 'n_estimators': 284, 'subsample': 1.0, 'importance_type': 'cover', 'max_depth': 5, 'gamma': 0.65, 'booster': 'dart'}\n",
      "\n",
      " 22%|██▏       | 217/1000 [1:54:09<6:56:53, 31.95s/it, best loss: -0.662790697674]\u001b[A"
     ]
    },
    {
     "name": "stderr",
     "output_type": "stream",
     "text": [
      "Hyperopt:  22%|██▏       | 218/1000 [1:54:10<7:40:49, 35.36s/it]"
     ]
    },
    {
     "name": "stdout",
     "output_type": "stream",
     "text": [
      "\n",
      " 22%|██▏       | 218/1000 [1:54:09<7:40:49, 35.36s/it, best loss: -0.662790697674]\u001b[A\n",
      "\u001b[AParameters with this training accuracy 0.981847519161 and loss 0.162123148579 :\n",
      "\n",
      " 22%|██▏       | 218/1000 [1:54:29<7:40:49, 35.36s/it, best loss: -0.662790697674]\u001b[A\n",
      "\u001b[AParameters with this testing accuracy 0.639534883721 and loss 1.18192224061 :\n",
      "\n",
      " 22%|██▏       | 218/1000 [1:54:29<7:40:49, 35.36s/it, best loss: -0.662790697674]\u001b[A\n",
      "\u001b[A{'colsample_bytree': 0.8, 'learning_rate': 0.17500000000000002, 'min_child_weight': 3.0, 'n_estimators': 314, 'subsample': 0.9, 'importance_type': 'weight', 'max_depth': 2, 'gamma': 0.6000000000000001, 'booster': 'gbtree'}\n",
      "\n",
      " 22%|██▏       | 218/1000 [1:54:29<7:40:49, 35.36s/it, best loss: -0.662790697674]\u001b[A"
     ]
    },
    {
     "name": "stderr",
     "output_type": "stream",
     "text": [
      "Hyperopt:  22%|██▏       | 219/1000 [1:54:29<6:38:25, 30.61s/it]"
     ]
    },
    {
     "name": "stdout",
     "output_type": "stream",
     "text": [
      "\n",
      " 22%|██▏       | 219/1000 [1:54:29<6:38:26, 30.61s/it, best loss: -0.662790697674]\u001b[A\n",
      "\u001b[AParameters with this training accuracy 0.98830173457 and loss 0.135726744357 :\n",
      "\n",
      " 22%|██▏       | 219/1000 [1:55:27<6:38:26, 30.61s/it, best loss: -0.662790697674]\u001b[A\n",
      "\u001b[AParameters with this testing accuracy 0.636627906977 and loss 1.20934369319 :\n",
      "\n",
      " 22%|██▏       | 219/1000 [1:55:27<6:38:26, 30.61s/it, best loss: -0.662790697674]\u001b[A\n",
      "\u001b[A{'colsample_bytree': 0.7000000000000001, 'learning_rate': 0.275, 'min_child_weight': 6.0, 'n_estimators': 393, 'subsample': 1.0, 'importance_type': 'cover', 'max_depth': 5, 'gamma': 0.7000000000000001, 'booster': 'dart'}\n",
      "\n",
      " 22%|██▏       | 219/1000 [1:55:27<6:38:26, 30.61s/it, best loss: -0.662790697674]\u001b[A"
     ]
    },
    {
     "name": "stderr",
     "output_type": "stream",
     "text": [
      "Hyperopt:  22%|██▏       | 220/1000 [1:55:27<8:23:32, 38.73s/it]"
     ]
    },
    {
     "name": "stdout",
     "output_type": "stream",
     "text": [
      "\n",
      " 22%|██▏       | 220/1000 [1:55:27<8:23:32, 38.73s/it, best loss: -0.662790697674]\u001b[A\n",
      "\u001b[AParameters with this training accuracy 0.473981444131 and loss 1.77285018596 :\n",
      "\n",
      " 22%|██▏       | 220/1000 [1:55:33<8:23:32, 38.73s/it, best loss: -0.662790697674]\u001b[A\n",
      "\u001b[AParameters with this testing accuracy 0.485465116279 and loss 1.76752985106 :\n",
      "\n",
      " 22%|██▏       | 220/1000 [1:55:33<8:23:32, 38.73s/it, best loss: -0.662790697674]\u001b[A\n",
      "\u001b[A{'colsample_bytree': 0.65, 'learning_rate': 0.1, 'min_child_weight': 4.0, 'n_estimators': 173, 'subsample': 0.8, 'importance_type': 'total_gain', 'max_depth': 1, 'gamma': 0.75, 'booster': 'gblinear'}\n",
      "\n",
      " 22%|██▏       | 220/1000 [1:55:33<8:23:32, 38.73s/it, best loss: -0.662790697674]\u001b[A"
     ]
    },
    {
     "name": "stderr",
     "output_type": "stream",
     "text": [
      "Hyperopt:  22%|██▏       | 221/1000 [1:55:33<6:16:09, 28.97s/it]"
     ]
    },
    {
     "name": "stdout",
     "output_type": "stream",
     "text": [
      "\n",
      " 22%|██▏       | 221/1000 [1:55:33<6:16:07, 28.97s/it, best loss: -0.662790697674]\u001b[A\n",
      "\u001b[AParameters with this training accuracy 0.948769665188 and loss 0.284697626594 :\n",
      "\n",
      " 22%|██▏       | 221/1000 [1:56:02<6:16:07, 28.97s/it, best loss: -0.662790697674]\u001b[A\n",
      "\u001b[AParameters with this testing accuracy 0.630813953488 and loss 1.11935088867 :\n",
      "\n",
      " 22%|██▏       | 221/1000 [1:56:02<6:16:07, 28.97s/it, best loss: -0.662790697674]\u001b[A\n",
      "\u001b[A{'colsample_bytree': 0.6000000000000001, 'learning_rate': 0.05, 'min_child_weight': 4.0, 'n_estimators': 224, 'subsample': 0.8500000000000001, 'importance_type': 'weight', 'max_depth': 4, 'gamma': 0.5, 'booster': 'dart'}\n",
      "\n",
      " 22%|██▏       | 221/1000 [1:56:02<6:16:07, 28.97s/it, best loss: -0.662790697674]\u001b[A"
     ]
    },
    {
     "name": "stderr",
     "output_type": "stream",
     "text": [
      "Hyperopt:  22%|██▏       | 222/1000 [1:56:03<6:18:19, 29.18s/it]"
     ]
    },
    {
     "name": "stdout",
     "output_type": "stream",
     "text": [
      "\n",
      " 22%|██▏       | 222/1000 [1:56:02<6:18:19, 29.18s/it, best loss: -0.662790697674]\u001b[A\n",
      "\u001b[AParameters with this training accuracy 0.989108511497 and loss 0.12493898162 :\n",
      "\n",
      " 22%|██▏       | 222/1000 [1:56:10<6:18:19, 29.18s/it, best loss: -0.662790697674]\u001b[A\n",
      "\u001b[AParameters with this testing accuracy 0.625 and loss 1.24647583599 :\n",
      "\n",
      " 22%|██▏       | 222/1000 [1:56:10<6:18:19, 29.18s/it, best loss: -0.662790697674]\u001b[A\n",
      "\u001b[A{'colsample_bytree': 0.75, 'learning_rate': 0.47500000000000003, 'min_child_weight': 5.0, 'n_estimators': 54, 'subsample': 0.9500000000000001, 'importance_type': 'cover', 'max_depth': 5, 'gamma': 0.55, 'booster': 'dart'}\n",
      "\n",
      " 22%|██▏       | 222/1000 [1:56:10<6:18:19, 29.18s/it, best loss: -0.662790697674]\u001b[A"
     ]
    },
    {
     "name": "stderr",
     "output_type": "stream",
     "text": [
      "Hyperopt:  22%|██▏       | 223/1000 [1:56:10<4:52:51, 22.62s/it]"
     ]
    },
    {
     "name": "stdout",
     "output_type": "stream",
     "text": [
      "\n",
      " 22%|██▏       | 223/1000 [1:56:10<4:52:50, 22.61s/it, best loss: -0.662790697674]\u001b[A\n",
      "\u001b[AParameters with this training accuracy 0.993142396127 and loss 0.101070400662 :\n",
      "\n",
      " 22%|██▏       | 223/1000 [1:57:07<4:52:50, 22.61s/it, best loss: -0.662790697674]\u001b[A\n",
      "\u001b[AParameters with this testing accuracy 0.648255813953 and loss 1.19172630762 :\n",
      "\n",
      " 22%|██▏       | 223/1000 [1:57:07<4:52:50, 22.61s/it, best loss: -0.662790697674]\u001b[A\n",
      "\u001b[A{'colsample_bytree': 0.8500000000000001, 'learning_rate': 0.125, 'min_child_weight': 3.0, 'n_estimators': 430, 'subsample': 0.9, 'importance_type': 'total_cover', 'max_depth': 6, 'gamma': 0.65, 'booster': 'gbtree'}\n",
      "\n",
      " 22%|██▏       | 223/1000 [1:57:07<4:52:50, 22.61s/it, best loss: -0.662790697674]\u001b[A"
     ]
    },
    {
     "name": "stderr",
     "output_type": "stream",
     "text": [
      "Hyperopt:  22%|██▏       | 224/1000 [1:57:07<7:05:27, 32.90s/it]"
     ]
    },
    {
     "name": "stdout",
     "output_type": "stream",
     "text": [
      "\n",
      " 22%|██▏       | 224/1000 [1:57:07<7:05:29, 32.90s/it, best loss: -0.662790697674]\u001b[A\n",
      "\u001b[AParameters with this training accuracy 0.988705123033 and loss 0.123168955673 :\n",
      "\n",
      " 22%|██▏       | 224/1000 [1:58:17<7:05:29, 32.90s/it, best loss: -0.662790697674]\u001b[A\n",
      "\u001b[AParameters with this testing accuracy 0.642441860465 and loss 1.18756220795 :\n",
      "\n",
      " 22%|██▏       | 224/1000 [1:58:17<7:05:29, 32.90s/it, best loss: -0.662790697674]\u001b[A\n",
      "\u001b[A{'colsample_bytree': 0.7000000000000001, 'learning_rate': 0.15000000000000002, 'min_child_weight': 5.0, 'n_estimators': 443, 'subsample': 1.0, 'importance_type': 'cover', 'max_depth': 5, 'gamma': 0.6000000000000001, 'booster': 'dart'}\n",
      "\n",
      " 22%|██▏       | 224/1000 [1:58:17<7:05:29, 32.90s/it, best loss: -0.662790697674]\u001b[A"
     ]
    },
    {
     "name": "stderr",
     "output_type": "stream",
     "text": [
      "Hyperopt:  22%|██▎       | 225/1000 [1:58:18<9:31:18, 44.23s/it]"
     ]
    },
    {
     "name": "stdout",
     "output_type": "stream",
     "text": [
      "\n",
      " 22%|██▎       | 225/1000 [1:58:17<9:31:19, 44.23s/it, best loss: -0.662790697674]\u001b[A\n",
      "\u001b[AParameters with this training accuracy 0.992335619201 and loss 0.104701499018 :\n",
      "\n",
      " 22%|██▎       | 225/1000 [1:58:53<9:31:19, 44.23s/it, best loss: -0.662790697674]\u001b[A\n",
      "\u001b[AParameters with this testing accuracy 0.627906976744 and loss 1.21036665835 :\n",
      "\n",
      " 22%|██▎       | 225/1000 [1:58:53<9:31:19, 44.23s/it, best loss: -0.662790697674]\u001b[A\n",
      "\u001b[A{'colsample_bytree': 0.65, 'learning_rate': 0.2, 'min_child_weight': 6.0, 'n_estimators': 368, 'subsample': 0.9500000000000001, 'importance_type': 'gain', 'max_depth': 7, 'gamma': 0.55, 'booster': 'gbtree'}\n",
      "\n",
      " 22%|██▎       | 225/1000 [1:58:53<9:31:19, 44.23s/it, best loss: -0.662790697674]\u001b[A"
     ]
    },
    {
     "name": "stderr",
     "output_type": "stream",
     "text": [
      "Hyperopt:  23%|██▎       | 226/1000 [1:58:53<8:56:51, 41.62s/it]"
     ]
    },
    {
     "name": "stdout",
     "output_type": "stream",
     "text": [
      "\n",
      " 23%|██▎       | 226/1000 [1:58:53<8:56:51, 41.62s/it, best loss: -0.662790697674]\u001b[A\n",
      "\u001b[AParameters with this training accuracy 0.991528842275 and loss 0.115165337633 :\n",
      "\n",
      " 23%|██▎       | 226/1000 [1:59:27<8:56:51, 41.62s/it, best loss: -0.662790697674]\u001b[A\n",
      "\u001b[AParameters with this testing accuracy 0.633720930233 and loss 1.19180816107 :\n",
      "\n",
      " 23%|██▎       | 226/1000 [1:59:27<8:56:51, 41.62s/it, best loss: -0.662790697674]\u001b[A\n",
      "\u001b[A{'colsample_bytree': 0.65, 'learning_rate': 0.17500000000000002, 'min_child_weight': 6.0, 'n_estimators': 343, 'subsample': 0.9500000000000001, 'importance_type': 'gain', 'max_depth': 7, 'gamma': 0.6000000000000001, 'booster': 'gbtree'}\n",
      "\n",
      " 23%|██▎       | 226/1000 [1:59:27<8:56:51, 41.62s/it, best loss: -0.662790697674]\u001b[A"
     ]
    },
    {
     "name": "stderr",
     "output_type": "stream",
     "text": [
      "Hyperopt:  23%|██▎       | 227/1000 [1:59:27<8:25:56, 39.27s/it]"
     ]
    },
    {
     "name": "stdout",
     "output_type": "stream",
     "text": [
      "\n",
      " 23%|██▎       | 227/1000 [1:59:27<8:25:57, 39.27s/it, best loss: -0.662790697674]\u001b[A\n",
      "\u001b[AParameters with this training accuracy 0.991125453812 and loss 0.117742485692 :\n",
      "\n",
      " 23%|██▎       | 227/1000 [1:59:47<8:25:57, 39.27s/it, best loss: -0.662790697674]\u001b[A\n",
      "\u001b[AParameters with this testing accuracy 0.630813953488 and loss 1.19913717145 :\n",
      "\n",
      " 23%|██▎       | 227/1000 [1:59:47<8:25:57, 39.27s/it, best loss: -0.662790697674]\u001b[A\n",
      "\u001b[A{'colsample_bytree': 0.5, 'learning_rate': 0.225, 'min_child_weight': 4.0, 'n_estimators': 156, 'subsample': 0.8500000000000001, 'importance_type': 'weight', 'max_depth': 8, 'gamma': 0.7000000000000001, 'booster': 'dart'}\n",
      "\n",
      " 23%|██▎       | 227/1000 [1:59:47<8:25:57, 39.27s/it, best loss: -0.662790697674]\u001b[A"
     ]
    },
    {
     "name": "stderr",
     "output_type": "stream",
     "text": [
      "Hyperopt:  23%|██▎       | 228/1000 [1:59:47<7:12:57, 33.65s/it]"
     ]
    },
    {
     "name": "stdout",
     "output_type": "stream",
     "text": [
      "\n",
      " 23%|██▎       | 228/1000 [1:59:47<7:12:56, 33.65s/it, best loss: -0.662790697674]\u001b[A\n",
      "\u001b[AParameters with this training accuracy 0.473981444131 and loss 1.77361964575 :\n",
      "\n",
      " 23%|██▎       | 228/1000 [1:59:55<7:12:56, 33.65s/it, best loss: -0.662790697674]\u001b[A\n",
      "\u001b[AParameters with this testing accuracy 0.485465116279 and loss 1.76861833716 :\n",
      "\n",
      " 23%|██▎       | 228/1000 [1:59:55<7:12:56, 33.65s/it, best loss: -0.662790697674]\u001b[A\n",
      "\u001b[A{'colsample_bytree': 0.9500000000000001, 'learning_rate': 0.07500000000000001, 'min_child_weight': 4.0, 'n_estimators': 219, 'subsample': 0.8, 'importance_type': 'cover', 'max_depth': 9, 'gamma': 0.8, 'booster': 'gblinear'}\n",
      "\n",
      " 23%|██▎       | 228/1000 [1:59:55<7:12:56, 33.65s/it, best loss: -0.662790697674]\u001b[A"
     ]
    },
    {
     "name": "stderr",
     "output_type": "stream",
     "text": [
      "Hyperopt:  23%|██▎       | 229/1000 [1:59:55<5:31:50, 25.82s/it]"
     ]
    },
    {
     "name": "stdout",
     "output_type": "stream",
     "text": [
      "\n",
      " 23%|██▎       | 229/1000 [1:59:55<5:31:48, 25.82s/it, best loss: -0.662790697674]\u001b[A\n",
      "\u001b[AParameters with this training accuracy 0.964098426785 and loss 0.216369580469 :\n",
      "\n",
      " 23%|██▎       | 229/1000 [2:00:09<5:31:48, 25.82s/it, best loss: -0.662790697674]\u001b[A\n",
      "\u001b[AParameters with this testing accuracy 0.636627906977 and loss 1.15263277452 :\n",
      "\n",
      " 23%|██▎       | 229/1000 [2:00:09<5:31:48, 25.82s/it, best loss: -0.662790697674]\u001b[A\n",
      "\u001b[A{'colsample_bytree': 0.8, 'learning_rate': 0.125, 'min_child_weight': 3.0, 'n_estimators': 111, 'subsample': 0.75, 'importance_type': 'total_gain', 'max_depth': 4, 'gamma': 0.65, 'booster': 'dart'}\n",
      "\n",
      " 23%|██▎       | 229/1000 [2:00:09<5:31:48, 25.82s/it, best loss: -0.662790697674]\u001b[A"
     ]
    },
    {
     "name": "stderr",
     "output_type": "stream",
     "text": [
      "Hyperopt:  23%|██▎       | 230/1000 [2:00:10<4:48:37, 22.49s/it]"
     ]
    },
    {
     "name": "stdout",
     "output_type": "stream",
     "text": [
      "\n",
      " 23%|██▎       | 230/1000 [2:00:09<4:48:37, 22.49s/it, best loss: -0.662790697674]\u001b[A\n",
      "\u001b[AParameters with this training accuracy 0.991528842275 and loss 0.121181946489 :\n",
      "\n",
      " 23%|██▎       | 230/1000 [2:01:00<4:48:37, 22.49s/it, best loss: -0.662790697674]\u001b[A\n",
      "\u001b[AParameters with this testing accuracy 0.636627906977 and loss 1.20339987428 :\n",
      "\n",
      " 23%|██▎       | 230/1000 [2:01:01<4:48:37, 22.49s/it, best loss: -0.662790697674]\u001b[A\n",
      "\u001b[A{'colsample_bytree': 0.6000000000000001, 'learning_rate': 0.25, 'min_child_weight': 4.0, 'n_estimators': 365, 'subsample': 0.7000000000000001, 'importance_type': 'weight', 'max_depth': 6, 'gamma': 0.8500000000000001, 'booster': 'dart'}\n",
      "\n",
      " 23%|██▎       | 230/1000 [2:01:01<4:48:37, 22.49s/it, best loss: -0.662790697674]\u001b[A"
     ]
    },
    {
     "name": "stderr",
     "output_type": "stream",
     "text": [
      "Hyperopt:  23%|██▎       | 231/1000 [2:01:01<6:38:22, 31.08s/it]"
     ]
    },
    {
     "name": "stdout",
     "output_type": "stream",
     "text": [
      "\n",
      " 23%|██▎       | 231/1000 [2:01:01<6:38:23, 31.08s/it, best loss: -0.662790697674]\u001b[A\n",
      "\u001b[AParameters with this training accuracy 0.986688180718 and loss 0.146528867062 :\n",
      "\n",
      " 23%|██▎       | 231/1000 [2:01:57<6:38:23, 31.08s/it, best loss: -0.662790697674]\u001b[A\n",
      "\u001b[AParameters with this testing accuracy 0.633720930233 and loss 1.17575944402 :\n",
      "\n",
      " 23%|██▎       | 231/1000 [2:01:57<6:38:23, 31.08s/it, best loss: -0.662790697674]\u001b[A\n",
      "\u001b[A{'colsample_bytree': 0.75, 'learning_rate': 0.15000000000000002, 'min_child_weight': 5.0, 'n_estimators': 354, 'subsample': 1.0, 'importance_type': 'cover', 'max_depth': 5, 'gamma': 0.75, 'booster': 'dart'}\n",
      "\n",
      " 23%|██▎       | 231/1000 [2:01:57<6:38:23, 31.08s/it, best loss: -0.662790697674]\u001b[A"
     ]
    },
    {
     "name": "stderr",
     "output_type": "stream",
     "text": [
      "Hyperopt:  23%|██▎       | 232/1000 [2:01:58<8:16:24, 38.78s/it]"
     ]
    },
    {
     "name": "stdout",
     "output_type": "stream",
     "text": [
      "\n",
      " 23%|██▎       | 232/1000 [2:01:57<8:16:25, 38.78s/it, best loss: -0.662790697674]\u001b[A\n",
      "\u001b[AParameters with this training accuracy 0.935861234369 and loss 0.31597158489 :\n",
      "\n",
      " 23%|██▎       | 232/1000 [2:02:08<8:16:25, 38.78s/it, best loss: -0.662790697674]\u001b[A\n",
      "\u001b[AParameters with this testing accuracy 0.630813953488 and loss 1.12724195492 :\n",
      "\n",
      " 23%|██▎       | 232/1000 [2:02:09<8:16:25, 38.78s/it, best loss: -0.662790697674]\u001b[A\n",
      "\u001b[A{'colsample_bytree': 0.55, 'learning_rate': 0.07500000000000001, 'min_child_weight': 2.0, 'n_estimators': 158, 'subsample': 0.9, 'importance_type': 'cover', 'max_depth': 3, 'gamma': 0.7000000000000001, 'booster': 'gbtree'}\n",
      "\n",
      " 23%|██▎       | 232/1000 [2:02:09<8:16:25, 38.78s/it, best loss: -0.662790697674]\u001b[A"
     ]
    },
    {
     "name": "stderr",
     "output_type": "stream",
     "text": [
      "Hyperopt:  23%|██▎       | 233/1000 [2:02:09<6:30:10, 30.52s/it]"
     ]
    },
    {
     "name": "stdout",
     "output_type": "stream",
     "text": [
      "\n",
      " 23%|██▎       | 233/1000 [2:02:09<6:30:09, 30.52s/it, best loss: -0.662790697674]\u001b[A\n",
      "\u001b[AParameters with this training accuracy 0.989915288423 and loss 0.118740066529 :\n",
      "\n",
      " 23%|██▎       | 233/1000 [2:02:33<6:30:09, 30.52s/it, best loss: -0.662790697674]\u001b[A\n",
      "\u001b[AParameters with this testing accuracy 0.639534883721 and loss 1.17379840487 :\n",
      "\n",
      " 23%|██▎       | 233/1000 [2:02:33<6:30:09, 30.52s/it, best loss: -0.662790697674]\u001b[A\n",
      "\u001b[A{'colsample_bytree': 0.7000000000000001, 'learning_rate': 0.30000000000000004, 'min_child_weight': 5.0, 'n_estimators': 185, 'subsample': 0.9500000000000001, 'importance_type': 'cover', 'max_depth': 5, 'gamma': 0.65, 'booster': 'dart'}\n",
      "\n",
      " 23%|██▎       | 233/1000 [2:02:33<6:30:09, 30.52s/it, best loss: -0.662790697674]\u001b[A"
     ]
    },
    {
     "name": "stderr",
     "output_type": "stream",
     "text": [
      "Hyperopt:  23%|██▎       | 234/1000 [2:02:33<6:06:00, 28.67s/it]"
     ]
    },
    {
     "name": "stdout",
     "output_type": "stream",
     "text": [
      "\n",
      " 23%|██▎       | 234/1000 [2:02:33<6:05:59, 28.67s/it, best loss: -0.662790697674]\u001b[A\n",
      "\u001b[AParameters with this training accuracy 0.474384832594 and loss 1.76751386168 :\n",
      "\n",
      " 23%|██▎       | 234/1000 [2:02:41<6:05:59, 28.67s/it, best loss: -0.662790697674]\u001b[A\n",
      "\u001b[AParameters with this testing accuracy 0.488372093023 and loss 1.75919985665 :\n",
      "\n",
      " 23%|██▎       | 234/1000 [2:02:41<6:05:59, 28.67s/it, best loss: -0.662790697674]\u001b[A\n",
      "\u001b[A{'colsample_bytree': 0.8500000000000001, 'learning_rate': 0.2, 'min_child_weight': 1.0, 'n_estimators': 245, 'subsample': 0.8500000000000001, 'importance_type': 'total_cover', 'max_depth': 4, 'gamma': 0.5, 'booster': 'gblinear'}\n",
      "\n",
      " 23%|██▎       | 234/1000 [2:02:41<6:05:59, 28.67s/it, best loss: -0.662790697674]\u001b[A"
     ]
    },
    {
     "name": "stderr",
     "output_type": "stream",
     "text": [
      "Hyperopt:  24%|██▎       | 235/1000 [2:02:42<4:48:15, 22.61s/it]"
     ]
    },
    {
     "name": "stdout",
     "output_type": "stream",
     "text": [
      "\n",
      " 24%|██▎       | 235/1000 [2:02:41<4:48:14, 22.61s/it, best loss: -0.662790697674]\u001b[A\n",
      "\u001b[AParameters with this training accuracy 0.991125453812 and loss 0.115380613289 :\n",
      "\n",
      " 24%|██▎       | 235/1000 [2:03:02<4:48:14, 22.61s/it, best loss: -0.662790697674]\u001b[A\n",
      "\u001b[AParameters with this testing accuracy 0.639534883721 and loss 1.17760558355 :\n",
      "\n",
      " 24%|██▎       | 235/1000 [2:03:02<4:48:14, 22.61s/it, best loss: -0.662790697674]\u001b[A\n",
      "\u001b[A{'colsample_bytree': 0.65, 'learning_rate': 0.17500000000000002, 'min_child_weight': 5.0, 'n_estimators': 186, 'subsample': 0.9500000000000001, 'importance_type': 'gain', 'max_depth': 7, 'gamma': 0.6000000000000001, 'booster': 'gbtree'}\n",
      "\n",
      " 24%|██▎       | 235/1000 [2:03:02<4:48:14, 22.61s/it, best loss: -0.662790697674]\u001b[A"
     ]
    },
    {
     "name": "stderr",
     "output_type": "stream",
     "text": [
      "Hyperopt:  24%|██▎       | 236/1000 [2:03:02<4:39:44, 21.97s/it]"
     ]
    },
    {
     "name": "stdout",
     "output_type": "stream",
     "text": [
      "\n",
      " 24%|██▎       | 236/1000 [2:03:02<4:39:45, 21.97s/it, best loss: -0.662790697674]\u001b[A\n",
      "\u001b[AParameters with this training accuracy 0.975393303752 and loss 0.177845964135 :\n",
      "\n",
      " 24%|██▎       | 236/1000 [2:03:28<4:39:45, 21.97s/it, best loss: -0.662790697674]\u001b[A\n",
      "\u001b[AParameters with this testing accuracy 0.616279069767 and loss 1.2841822 :\n",
      "\n",
      " 24%|██▎       | 236/1000 [2:03:28<4:39:45, 21.97s/it, best loss: -0.662790697674]\u001b[A\n",
      "\u001b[A{'colsample_bytree': 0.8, 'learning_rate': 0.42500000000000004, 'min_child_weight': 4.0, 'n_estimators': 333, 'subsample': 0.9, 'importance_type': 'weight', 'max_depth': 1, 'gamma': 0.55, 'booster': 'dart'}\n",
      "\n",
      " 24%|██▎       | 236/1000 [2:03:28<4:39:45, 21.97s/it, best loss: -0.662790697674]\u001b[A"
     ]
    },
    {
     "name": "stderr",
     "output_type": "stream",
     "text": [
      "Hyperopt:  24%|██▎       | 237/1000 [2:03:29<4:57:06, 23.36s/it]"
     ]
    },
    {
     "name": "stdout",
     "output_type": "stream",
     "text": [
      "\n",
      " 24%|██▎       | 237/1000 [2:03:28<4:57:07, 23.36s/it, best loss: -0.662790697674]\u001b[A\n",
      "\u001b[AParameters with this training accuracy 0.932634126664 and loss 0.330039150905 :\n",
      "\n",
      " 24%|██▎       | 237/1000 [2:03:46<4:57:07, 23.36s/it, best loss: -0.662790697674]\u001b[A\n",
      "\u001b[AParameters with this testing accuracy 0.645348837209 and loss 1.13180038138 :\n",
      "\n",
      " 24%|██▎       | 237/1000 [2:03:46<4:57:07, 23.36s/it, best loss: -0.662790697674]\u001b[A\n",
      "\u001b[A{'colsample_bytree': 0.5, 'learning_rate': 0.1, 'min_child_weight': 3.0, 'n_estimators': 222, 'subsample': 0.8500000000000001, 'importance_type': 'cover', 'max_depth': 2, 'gamma': 0.65, 'booster': 'dart'}\n",
      "\n",
      " 24%|██▎       | 237/1000 [2:03:46<4:57:07, 23.36s/it, best loss: -0.662790697674]\u001b[A"
     ]
    },
    {
     "name": "stderr",
     "output_type": "stream",
     "text": [
      "Hyperopt:  24%|██▍       | 238/1000 [2:03:47<4:35:48, 21.72s/it]"
     ]
    },
    {
     "name": "stdout",
     "output_type": "stream",
     "text": [
      "\n",
      " 24%|██▍       | 238/1000 [2:03:46<4:35:48, 21.72s/it, best loss: -0.662790697674]\u001b[A\n",
      "\u001b[AParameters with this training accuracy 0.972972972973 and loss 0.194933110569 :\n",
      "\n",
      " 24%|██▍       | 238/1000 [2:04:04<4:35:48, 21.72s/it, best loss: -0.662790697674]\u001b[A\n",
      "\u001b[AParameters with this testing accuracy 0.65988372093 and loss 1.15011743226 :\n",
      "\n",
      " 24%|██▍       | 238/1000 [2:04:04<4:35:48, 21.72s/it, best loss: -0.662790697674]\u001b[A\n",
      "\u001b[A{'colsample_bytree': 0.65, 'learning_rate': 0.125, 'min_child_weight': 6.0, 'n_estimators': 207, 'subsample': 0.9500000000000001, 'importance_type': 'gain', 'max_depth': 4, 'gamma': 0.75, 'booster': 'gbtree'}\n",
      "\n",
      " 24%|██▍       | 238/1000 [2:04:04<4:35:48, 21.72s/it, best loss: -0.662790697674]\u001b[A"
     ]
    },
    {
     "name": "stderr",
     "output_type": "stream",
     "text": [
      "Hyperopt:  24%|██▍       | 239/1000 [2:04:05<4:21:48, 20.64s/it]"
     ]
    },
    {
     "name": "stdout",
     "output_type": "stream",
     "text": [
      "\n",
      " 24%|██▍       | 239/1000 [2:04:04<4:21:48, 20.64s/it, best loss: -0.662790697674]\u001b[A\n",
      "\u001b[AParameters with this training accuracy 0.984267849939 and loss 0.159734884443 :\n",
      "\n",
      " 24%|██▍       | 239/1000 [2:04:28<4:21:48, 20.64s/it, best loss: -0.662790697674]\u001b[A\n",
      "\u001b[AParameters with this testing accuracy 0.630813953488 and loss 1.17960903009 :\n",
      "\n",
      " 24%|██▍       | 239/1000 [2:04:28<4:21:48, 20.64s/it, best loss: -0.662790697674]\u001b[A\n",
      "\u001b[A{'colsample_bytree': 0.65, 'learning_rate': 0.225, 'min_child_weight': 6.0, 'n_estimators': 291, 'subsample': 0.9500000000000001, 'importance_type': 'gain', 'max_depth': 4, 'gamma': 0.8500000000000001, 'booster': 'gbtree'}\n",
      "\n",
      " 24%|██▍       | 239/1000 [2:04:28<4:21:48, 20.64s/it, best loss: -0.662790697674]\u001b[A"
     ]
    },
    {
     "name": "stderr",
     "output_type": "stream",
     "text": [
      "Hyperopt:  24%|██▍       | 240/1000 [2:04:28<4:31:45, 21.45s/it]"
     ]
    },
    {
     "name": "stdout",
     "output_type": "stream",
     "text": [
      "\n",
      " 24%|██▍       | 240/1000 [2:04:28<4:31:45, 21.45s/it, best loss: -0.662790697674]\u001b[A\n",
      "\u001b[AParameters with this training accuracy 0.970956030658 and loss 0.205515684459 :\n",
      "\n",
      " 24%|██▍       | 240/1000 [2:04:40<4:31:45, 21.45s/it, best loss: -0.662790697674]\u001b[A\n",
      "\u001b[AParameters with this testing accuracy 0.639534883721 and loss 1.16269807384 :\n",
      "\n",
      " 24%|██▍       | 240/1000 [2:04:40<4:31:45, 21.45s/it, best loss: -0.662790697674]\u001b[A\n",
      "\u001b[A{'colsample_bytree': 0.7000000000000001, 'learning_rate': 0.2, 'min_child_weight': 6.0, 'n_estimators': 126, 'subsample': 1.0, 'importance_type': 'gain', 'max_depth': 4, 'gamma': 0.8, 'booster': 'gbtree'}\n",
      "\n",
      " 24%|██▍       | 240/1000 [2:04:40<4:31:45, 21.45s/it, best loss: -0.662790697674]\u001b[A"
     ]
    },
    {
     "name": "stderr",
     "output_type": "stream",
     "text": [
      "Hyperopt:  24%|██▍       | 241/1000 [2:04:40<3:54:34, 18.54s/it]"
     ]
    },
    {
     "name": "stdout",
     "output_type": "stream",
     "text": [
      "\n",
      " 24%|██▍       | 241/1000 [2:04:40<3:54:33, 18.54s/it, best loss: -0.662790697674]\u001b[A\n",
      "\u001b[AParameters with this training accuracy 0.979830576846 and loss 0.174137859931 :\n",
      "\n",
      " 24%|██▍       | 241/1000 [2:05:04<3:54:33, 18.54s/it, best loss: -0.662790697674]\u001b[A\n",
      "\u001b[AParameters with this testing accuracy 0.639534883721 and loss 1.15525217749 :\n",
      "\n",
      " 24%|██▍       | 241/1000 [2:05:04<3:54:33, 18.54s/it, best loss: -0.662790697674]\u001b[A\n",
      "\u001b[A{'colsample_bytree': 0.6000000000000001, 'learning_rate': 0.125, 'min_child_weight': 6.0, 'n_estimators': 298, 'subsample': 0.9500000000000001, 'importance_type': 'gain', 'max_depth': 4, 'gamma': 0.8, 'booster': 'gbtree'}\n",
      "\n",
      " 24%|██▍       | 241/1000 [2:05:04<3:54:33, 18.54s/it, best loss: -0.662790697674]\u001b[A"
     ]
    },
    {
     "name": "stderr",
     "output_type": "stream",
     "text": [
      "Hyperopt:  24%|██▍       | 242/1000 [2:05:04<4:14:55, 20.18s/it]"
     ]
    },
    {
     "name": "stdout",
     "output_type": "stream",
     "text": [
      "\n",
      " 24%|██▍       | 242/1000 [2:05:04<4:14:55, 20.18s/it, best loss: -0.662790697674]\u001b[A\n",
      "\u001b[AParameters with this training accuracy 0.983461073013 and loss 0.160460419613 :\n",
      "\n",
      " 24%|██▍       | 242/1000 [2:05:41<4:14:55, 20.18s/it, best loss: -0.662790697674]\u001b[A\n",
      "\u001b[AParameters with this testing accuracy 0.633720930233 and loss 1.17680867978 :\n",
      "\n",
      " 24%|██▍       | 242/1000 [2:05:41<4:14:55, 20.18s/it, best loss: -0.662790697674]\u001b[A\n",
      "\u001b[A{'colsample_bytree': 0.7000000000000001, 'learning_rate': 0.17500000000000002, 'min_child_weight': 6.0, 'n_estimators': 484, 'subsample': 1.0, 'importance_type': 'gain', 'max_depth': 4, 'gamma': 0.75, 'booster': 'gbtree'}\n",
      "\n",
      " 24%|██▍       | 242/1000 [2:05:41<4:14:55, 20.18s/it, best loss: -0.662790697674]\u001b[A"
     ]
    },
    {
     "name": "stderr",
     "output_type": "stream",
     "text": [
      "Hyperopt:  24%|██▍       | 243/1000 [2:05:41<5:18:50, 25.27s/it]"
     ]
    },
    {
     "name": "stdout",
     "output_type": "stream",
     "text": [
      "\n",
      " 24%|██▍       | 243/1000 [2:05:41<5:18:51, 25.27s/it, best loss: -0.662790697674]\u001b[A\n",
      "\u001b[AParameters with this training accuracy 0.986688180718 and loss 0.138510577762 :\n",
      "\n",
      " 24%|██▍       | 243/1000 [2:06:20<5:18:51, 25.27s/it, best loss: -0.662790697674]\u001b[A\n",
      "\u001b[AParameters with this testing accuracy 0.619186046512 and loss 1.22818205426 :\n",
      "\n",
      " 24%|██▍       | 243/1000 [2:06:20<5:18:51, 25.27s/it, best loss: -0.662790697674]\u001b[A\n",
      "\u001b[A{'colsample_bytree': 0.75, 'learning_rate': 0.325, 'min_child_weight': 6.0, 'n_estimators': 462, 'subsample': 0.9500000000000001, 'importance_type': 'cover', 'max_depth': 4, 'gamma': 0.8, 'booster': 'gbtree'}\n",
      "\n",
      " 24%|██▍       | 243/1000 [2:06:20<5:18:51, 25.27s/it, best loss: -0.662790697674]\u001b[A"
     ]
    },
    {
     "name": "stderr",
     "output_type": "stream",
     "text": [
      "Hyperopt:  24%|██▍       | 244/1000 [2:06:20<6:10:14, 29.38s/it]"
     ]
    },
    {
     "name": "stdout",
     "output_type": "stream",
     "text": [
      "\n",
      " 24%|██▍       | 244/1000 [2:06:20<6:10:15, 29.39s/it, best loss: -0.662790697674]\u001b[A\n",
      "\u001b[AParameters with this training accuracy 0.976200080678 and loss 0.191900078068 :\n",
      "\n",
      " 24%|██▍       | 244/1000 [2:06:34<6:10:15, 29.39s/it, best loss: -0.662790697674]\u001b[A\n",
      "\u001b[AParameters with this testing accuracy 0.630813953488 and loss 1.18467897525 :\n",
      "\n",
      " 24%|██▍       | 244/1000 [2:06:34<6:10:15, 29.39s/it, best loss: -0.662790697674]\u001b[A\n",
      "\u001b[A{'colsample_bytree': 0.65, 'learning_rate': 0.275, 'min_child_weight': 6.0, 'n_estimators': 171, 'subsample': 1.0, 'importance_type': 'total_gain', 'max_depth': 4, 'gamma': 0.9500000000000001, 'booster': 'gbtree'}\n",
      "\n",
      " 24%|██▍       | 244/1000 [2:06:34<6:10:15, 29.39s/it, best loss: -0.662790697674]\u001b[A"
     ]
    },
    {
     "name": "stderr",
     "output_type": "stream",
     "text": [
      "Hyperopt:  24%|██▍       | 245/1000 [2:06:34<5:12:16, 24.82s/it]"
     ]
    },
    {
     "name": "stdout",
     "output_type": "stream",
     "text": [
      "\n",
      " 24%|██▍       | 245/1000 [2:06:34<5:12:15, 24.82s/it, best loss: -0.662790697674]\u001b[A\n",
      "\u001b[AParameters with this training accuracy 0.983864461476 and loss 0.163719345272 :\n",
      "\n",
      " 24%|██▍       | 245/1000 [2:07:03<5:12:15, 24.82s/it, best loss: -0.662790697674]\u001b[A\n",
      "\u001b[AParameters with this testing accuracy 0.639534883721 and loss 1.15985606057 :\n",
      "\n",
      " 24%|██▍       | 245/1000 [2:07:03<5:12:15, 24.82s/it, best loss: -0.662790697674]\u001b[A\n",
      "\u001b[A{'colsample_bytree': 0.65, 'learning_rate': 0.15000000000000002, 'min_child_weight': 6.0, 'n_estimators': 361, 'subsample': 0.9, 'importance_type': 'gain', 'max_depth': 4, 'gamma': 0.8500000000000001, 'booster': 'gbtree'}\n",
      "\n",
      " 24%|██▍       | 245/1000 [2:07:03<5:12:15, 24.82s/it, best loss: -0.662790697674]\u001b[A"
     ]
    },
    {
     "name": "stderr",
     "output_type": "stream",
     "text": [
      "Hyperopt:  25%|██▍       | 246/1000 [2:07:04<5:29:15, 26.20s/it]"
     ]
    },
    {
     "name": "stdout",
     "output_type": "stream",
     "text": [
      "\n",
      " 25%|██▍       | 246/1000 [2:07:03<5:29:16, 26.20s/it, best loss: -0.662790697674]\u001b[A\n",
      "\u001b[AParameters with this training accuracy 0.984671238403 and loss 0.155072119945 :\n",
      "\n",
      " 25%|██▍       | 246/1000 [2:07:39<5:29:16, 26.20s/it, best loss: -0.662790697674]\u001b[A\n",
      "\u001b[AParameters with this testing accuracy 0.648255813953 and loss 1.21558143567 :\n",
      "\n",
      " 25%|██▍       | 246/1000 [2:07:39<5:29:16, 26.20s/it, best loss: -0.662790697674]\u001b[A\n",
      "\u001b[A{'colsample_bytree': 0.7000000000000001, 'learning_rate': 0.325, 'min_child_weight': 6.0, 'n_estimators': 423, 'subsample': 0.9500000000000001, 'importance_type': 'cover', 'max_depth': 4, 'gamma': 0.9, 'booster': 'gbtree'}\n",
      "\n",
      " 25%|██▍       | 246/1000 [2:07:39<5:29:16, 26.20s/it, best loss: -0.662790697674]\u001b[A"
     ]
    },
    {
     "name": "stderr",
     "output_type": "stream",
     "text": [
      "Hyperopt:  25%|██▍       | 247/1000 [2:07:39<6:03:00, 28.93s/it]"
     ]
    },
    {
     "name": "stdout",
     "output_type": "stream",
     "text": [
      "\n",
      " 25%|██▍       | 247/1000 [2:07:39<6:03:00, 28.93s/it, best loss: -0.662790697674]\u001b[A\n",
      "\u001b[AParameters with this training accuracy 0.891891891892 and loss 0.475608409259 :\n",
      "\n",
      " 25%|██▍       | 247/1000 [2:07:53<6:03:00, 28.93s/it, best loss: -0.662790697674]\u001b[A\n",
      "\u001b[AParameters with this testing accuracy 0.622093023256 and loss 1.14207687638 :\n",
      "\n",
      " 25%|██▍       | 247/1000 [2:07:53<6:03:00, 28.93s/it, best loss: -0.662790697674]\u001b[A\n",
      "\u001b[A{'colsample_bytree': 0.75, 'learning_rate': 0.05, 'min_child_weight': 6.0, 'n_estimators': 138, 'subsample': 1.0, 'importance_type': 'total_cover', 'max_depth': 4, 'gamma': 0.75, 'booster': 'gbtree'}\n",
      "\n",
      " 25%|██▍       | 247/1000 [2:07:53<6:03:00, 28.93s/it, best loss: -0.662790697674]\u001b[A"
     ]
    },
    {
     "name": "stderr",
     "output_type": "stream",
     "text": [
      "Hyperopt:  25%|██▍       | 248/1000 [2:07:54<5:09:46, 24.72s/it]"
     ]
    },
    {
     "name": "stdout",
     "output_type": "stream",
     "text": [
      "\n",
      " 25%|██▍       | 248/1000 [2:07:53<5:09:45, 24.71s/it, best loss: -0.662790697674]\u001b[A\n",
      "\u001b[AParameters with this training accuracy 0.946752722872 and loss 0.286096298785 :\n",
      "\n",
      " 25%|██▍       | 248/1000 [2:08:24<5:09:45, 24.71s/it, best loss: -0.662790697674]\u001b[A\n",
      "\u001b[AParameters with this testing accuracy 0.622093023256 and loss 1.15012430619 :\n",
      "\n",
      " 25%|██▍       | 248/1000 [2:08:24<5:09:45, 24.71s/it, best loss: -0.662790697674]\u001b[A\n",
      "\u001b[A{'colsample_bytree': 0.6000000000000001, 'learning_rate': 0.025, 'min_child_weight': 2.0, 'n_estimators': 352, 'subsample': 1.0, 'importance_type': 'cover', 'max_depth': 4, 'gamma': 0.5, 'booster': 'gbtree'}\n",
      "\n",
      " 25%|██▍       | 248/1000 [2:08:24<5:09:45, 24.71s/it, best loss: -0.662790697674]\u001b[A"
     ]
    },
    {
     "name": "stderr",
     "output_type": "stream",
     "text": [
      "Hyperopt:  25%|██▍       | 249/1000 [2:08:24<5:30:00, 26.37s/it]"
     ]
    },
    {
     "name": "stdout",
     "output_type": "stream",
     "text": [
      "\n",
      " 25%|██▍       | 249/1000 [2:08:24<5:30:00, 26.37s/it, best loss: -0.662790697674]\u001b[A\n",
      "\u001b[AParameters with this training accuracy 0.990722065349 and loss 0.123729509332 :\n",
      "\n",
      " 25%|██▍       | 249/1000 [2:09:10<5:30:00, 26.37s/it, best loss: -0.662790697674]\u001b[A\n",
      "\u001b[AParameters with this testing accuracy 0.630813953488 and loss 1.15874871313 :\n",
      "\n",
      " 25%|██▍       | 249/1000 [2:09:10<5:30:00, 26.37s/it, best loss: -0.662790697674]\u001b[A\n",
      "\u001b[A{'colsample_bytree': 0.65, 'learning_rate': 0.125, 'min_child_weight': 5.0, 'n_estimators': 403, 'subsample': 0.9, 'importance_type': 'cover', 'max_depth': 9, 'gamma': 0.75, 'booster': 'gbtree'}\n",
      "\n",
      " 25%|██▍       | 249/1000 [2:09:10<5:30:00, 26.37s/it, best loss: -0.662790697674]\u001b[A"
     ]
    },
    {
     "name": "stderr",
     "output_type": "stream",
     "text": [
      "Hyperopt:  25%|██▌       | 250/1000 [2:09:10<6:43:25, 32.27s/it]"
     ]
    },
    {
     "name": "stdout",
     "output_type": "stream",
     "text": [
      "\n",
      " 25%|██▌       | 250/1000 [2:09:10<6:43:25, 32.27s/it, best loss: -0.662790697674]\u001b[A\n",
      "\u001b[AParameters with this training accuracy 0.990318676886 and loss 0.128411028425 :\n",
      "\n",
      " 25%|██▌       | 250/1000 [2:10:01<6:43:25, 32.27s/it, best loss: -0.662790697674]\u001b[A\n",
      "\u001b[AParameters with this testing accuracy 0.627906976744 and loss 1.1680630355 :\n",
      "\n",
      " 25%|██▌       | 250/1000 [2:10:01<6:43:25, 32.27s/it, best loss: -0.662790697674]\u001b[A\n",
      "\u001b[A{'colsample_bytree': 0.7000000000000001, 'learning_rate': 0.25, 'min_child_weight': 6.0, 'n_estimators': 475, 'subsample': 0.9500000000000001, 'importance_type': 'gain', 'max_depth': 8, 'gamma': 0.8, 'booster': 'gbtree'}\n",
      "\n",
      " 25%|██▌       | 250/1000 [2:10:01<6:43:25, 32.27s/it, best loss: -0.662790697674]\u001b[A"
     ]
    },
    {
     "name": "stderr",
     "output_type": "stream",
     "text": [
      "Hyperopt:  25%|██▌       | 251/1000 [2:10:01<7:53:27, 37.93s/it]"
     ]
    },
    {
     "name": "stdout",
     "output_type": "stream",
     "text": [
      "\n",
      " 25%|██▌       | 251/1000 [2:10:01<7:53:28, 37.93s/it, best loss: -0.662790697674]\u001b[A\n",
      "\u001b[AParameters with this training accuracy 0.985074626866 and loss 0.148945500156 :\n",
      "\n",
      " 25%|██▌       | 251/1000 [2:10:26<7:53:28, 37.93s/it, best loss: -0.662790697674]\u001b[A\n",
      "\u001b[AParameters with this testing accuracy 0.645348837209 and loss 1.18489081446 :\n",
      "\n",
      " 25%|██▌       | 251/1000 [2:10:26<7:53:28, 37.93s/it, best loss: -0.662790697674]\u001b[A\n",
      "\u001b[A{'colsample_bytree': 0.6000000000000001, 'learning_rate': 0.17500000000000002, 'min_child_weight': 5.0, 'n_estimators': 315, 'subsample': 0.9500000000000001, 'importance_type': 'total_gain', 'max_depth': 4, 'gamma': 0.8, 'booster': 'gbtree'}\n",
      "\n",
      " 25%|██▌       | 251/1000 [2:10:26<7:53:28, 37.93s/it, best loss: -0.662790697674]\u001b[A"
     ]
    },
    {
     "name": "stderr",
     "output_type": "stream",
     "text": [
      "Hyperopt:  25%|██▌       | 252/1000 [2:10:26<7:03:41, 33.99s/it]"
     ]
    },
    {
     "name": "stdout",
     "output_type": "stream",
     "text": [
      "\n",
      " 25%|██▌       | 252/1000 [2:10:26<7:03:41, 33.99s/it, best loss: -0.662790697674]\u001b[A\n",
      "\u001b[AParameters with this training accuracy 0.987091569181 and loss 0.146774319898 :\n",
      "\n",
      " 25%|██▌       | 252/1000 [2:10:55<7:03:41, 33.99s/it, best loss: -0.662790697674]\u001b[A\n",
      "\u001b[AParameters with this testing accuracy 0.613372093023 and loss 1.22213212667 :\n",
      "\n",
      " 25%|██▌       | 252/1000 [2:10:55<7:03:41, 33.99s/it, best loss: -0.662790697674]\u001b[A\n",
      "\u001b[A{'colsample_bytree': 0.7000000000000001, 'learning_rate': 0.15000000000000002, 'min_child_weight': 6.0, 'n_estimators': 369, 'subsample': 0.65, 'importance_type': 'cover', 'max_depth': 4, 'gamma': 0.75, 'booster': 'gbtree'}\n",
      "\n",
      " 25%|██▌       | 252/1000 [2:10:55<7:03:41, 33.99s/it, best loss: -0.662790697674]\u001b[A"
     ]
    },
    {
     "name": "stderr",
     "output_type": "stream",
     "text": [
      "Hyperopt:  25%|██▌       | 253/1000 [2:10:55<6:44:17, 32.47s/it]"
     ]
    },
    {
     "name": "stdout",
     "output_type": "stream",
     "text": [
      "\n",
      " 25%|██▌       | 253/1000 [2:10:55<6:44:17, 32.47s/it, best loss: -0.662790697674]\u001b[A\n",
      "\u001b[AParameters with this training accuracy 0.980233965309 and loss 0.163876461817 :\n",
      "\n",
      " 25%|██▌       | 253/1000 [2:11:10<6:44:17, 32.47s/it, best loss: -0.662790697674]\u001b[A\n",
      "\u001b[AParameters with this testing accuracy 0.627906976744 and loss 1.21435932227 :\n",
      "\n",
      " 25%|██▌       | 253/1000 [2:11:10<6:44:17, 32.47s/it, best loss: -0.662790697674]\u001b[A\n",
      "\u001b[A{'colsample_bytree': 0.75, 'learning_rate': 0.225, 'min_child_weight': 6.0, 'n_estimators': 211, 'subsample': 0.9, 'importance_type': 'cover', 'max_depth': 3, 'gamma': 0.7000000000000001, 'booster': 'gbtree'}\n",
      "\n",
      " 25%|██▌       | 253/1000 [2:11:10<6:44:17, 32.47s/it, best loss: -0.662790697674]\u001b[A"
     ]
    },
    {
     "name": "stderr",
     "output_type": "stream",
     "text": [
      "Hyperopt:  25%|██▌       | 254/1000 [2:11:11<5:41:01, 27.43s/it]"
     ]
    },
    {
     "name": "stdout",
     "output_type": "stream",
     "text": [
      "\n",
      " 25%|██▌       | 254/1000 [2:11:10<5:41:00, 27.43s/it, best loss: -0.662790697674]\u001b[A\n",
      "\u001b[AParameters with this training accuracy 0.974183138362 and loss 0.195040906476 :\n",
      "\n",
      " 25%|██▌       | 254/1000 [2:11:23<5:41:00, 27.43s/it, best loss: -0.662790697674]\u001b[A\n",
      "\u001b[AParameters with this testing accuracy 0.639534883721 and loss 1.16228431435 :\n",
      "\n",
      " 25%|██▌       | 254/1000 [2:11:23<5:41:00, 27.43s/it, best loss: -0.662790697674]\u001b[A\n",
      "\u001b[A{'colsample_bytree': 0.65, 'learning_rate': 0.2, 'min_child_weight': 5.0, 'n_estimators': 143, 'subsample': 1.0, 'importance_type': 'gain', 'max_depth': 4, 'gamma': 0.9, 'booster': 'gbtree'}\n",
      "\n",
      " 25%|██▌       | 254/1000 [2:11:23<5:41:00, 27.43s/it, best loss: -0.662790697674]\u001b[A"
     ]
    },
    {
     "name": "stderr",
     "output_type": "stream",
     "text": [
      "Hyperopt:  26%|██▌       | 255/1000 [2:11:23<4:45:49, 23.02s/it]"
     ]
    },
    {
     "name": "stdout",
     "output_type": "stream",
     "text": [
      "\n",
      " 26%|██▌       | 255/1000 [2:11:23<4:45:49, 23.02s/it, best loss: -0.662790697674]\u001b[A\n",
      "\u001b[AParameters with this training accuracy 0.96208148447 and loss 0.237305641601 :\n",
      "\n",
      " 26%|██▌       | 255/1000 [2:11:43<4:45:49, 23.02s/it, best loss: -0.662790697674]\u001b[A\n",
      "\u001b[AParameters with this testing accuracy 0.656976744186 and loss 1.15411404785 :\n",
      "\n",
      " 26%|██▌       | 255/1000 [2:11:43<4:45:49, 23.02s/it, best loss: -0.662790697674]\u001b[A\n",
      "\u001b[A{'colsample_bytree': 0.65, 'learning_rate': 0.1, 'min_child_weight': 2.0, 'n_estimators': 371, 'subsample': 0.9500000000000001, 'importance_type': 'total_cover', 'max_depth': 2, 'gamma': 0.8500000000000001, 'booster': 'gbtree'}\n",
      "\n",
      " 26%|██▌       | 255/1000 [2:11:43<4:45:49, 23.02s/it, best loss: -0.662790697674]\u001b[A"
     ]
    },
    {
     "name": "stderr",
     "output_type": "stream",
     "text": [
      "Hyperopt:  26%|██▌       | 256/1000 [2:11:43<4:34:46, 22.16s/it]"
     ]
    },
    {
     "name": "stdout",
     "output_type": "stream",
     "text": [
      "\n",
      " 26%|██▌       | 256/1000 [2:11:43<4:34:47, 22.16s/it, best loss: -0.662790697674]\u001b[A\n",
      "\u001b[AParameters with this training accuracy 0.840258168616 and loss 0.578827206402 :\n",
      "\n",
      " 26%|██▌       | 256/1000 [2:11:49<4:34:47, 22.16s/it, best loss: -0.662790697674]\u001b[A\n",
      "\u001b[AParameters with this testing accuracy 0.625 and loss 1.14360894286 :\n",
      "\n",
      " 26%|██▌       | 256/1000 [2:11:49<4:34:47, 22.16s/it, best loss: -0.662790697674]\u001b[A\n",
      "\u001b[A{'colsample_bytree': 0.55, 'learning_rate': 0.1, 'min_child_weight': 2.0, 'n_estimators': 91, 'subsample': 0.9500000000000001, 'importance_type': 'total_cover', 'max_depth': 2, 'gamma': 1.0, 'booster': 'gbtree'}\n",
      "\n",
      " 26%|██▌       | 256/1000 [2:11:49<4:34:47, 22.16s/it, best loss: -0.662790697674]\u001b[A"
     ]
    },
    {
     "name": "stderr",
     "output_type": "stream",
     "text": [
      "Hyperopt:  26%|██▌       | 257/1000 [2:11:49<3:32:58, 17.20s/it]"
     ]
    },
    {
     "name": "stdout",
     "output_type": "stream",
     "text": [
      "\n",
      " 26%|██▌       | 257/1000 [2:11:49<3:32:58, 17.20s/it, best loss: -0.662790697674]\u001b[A\n",
      "\u001b[AParameters with this training accuracy 0.899959661154 and loss 0.415214615519 :\n",
      "\n",
      " 26%|██▌       | 257/1000 [2:12:00<3:32:58, 17.20s/it, best loss: -0.662790697674]\u001b[A\n",
      "\u001b[AParameters with this testing accuracy 0.633720930233 and loss 1.13648814201 :\n",
      "\n",
      " 26%|██▌       | 257/1000 [2:12:00<3:32:58, 17.20s/it, best loss: -0.662790697674]\u001b[A\n",
      "\u001b[A{'colsample_bytree': 0.65, 'learning_rate': 0.07500000000000001, 'min_child_weight': 1.0, 'n_estimators': 194, 'subsample': 0.9500000000000001, 'importance_type': 'total_cover', 'max_depth': 2, 'gamma': 0.9, 'booster': 'gbtree'}\n",
      "\n",
      " 26%|██▌       | 257/1000 [2:12:00<3:32:58, 17.20s/it, best loss: -0.662790697674]\u001b[A"
     ]
    },
    {
     "name": "stderr",
     "output_type": "stream",
     "text": [
      "Hyperopt:  26%|██▌       | 258/1000 [2:12:00<3:10:30, 15.41s/it]"
     ]
    },
    {
     "name": "stdout",
     "output_type": "stream",
     "text": [
      "\n",
      " 26%|██▌       | 258/1000 [2:12:00<3:10:30, 15.40s/it, best loss: -0.662790697674]\u001b[A\n",
      "\u001b[AParameters with this training accuracy 0.954820492134 and loss 0.271221871564 :\n",
      "\n",
      " 26%|██▌       | 258/1000 [2:12:20<3:10:30, 15.40s/it, best loss: -0.662790697674]\u001b[A\n",
      "\u001b[AParameters with this testing accuracy 0.639534883721 and loss 1.1483686809 :\n",
      "\n",
      " 26%|██▌       | 258/1000 [2:12:20<3:10:30, 15.40s/it, best loss: -0.662790697674]\u001b[A\n",
      "\u001b[A{'colsample_bytree': 0.65, 'learning_rate': 0.1, 'min_child_weight': 1.0, 'n_estimators': 371, 'subsample': 1.0, 'importance_type': 'total_cover', 'max_depth': 2, 'gamma': 0.9500000000000001, 'booster': 'gbtree'}\n",
      "\n",
      " 26%|██▌       | 258/1000 [2:12:20<3:10:30, 15.40s/it, best loss: -0.662790697674]\u001b[A"
     ]
    },
    {
     "name": "stderr",
     "output_type": "stream",
     "text": [
      "Hyperopt:  26%|██▌       | 259/1000 [2:12:20<3:26:11, 16.70s/it]"
     ]
    },
    {
     "name": "stdout",
     "output_type": "stream",
     "text": [
      "\n",
      " 26%|██▌       | 259/1000 [2:12:20<3:26:11, 16.70s/it, best loss: -0.662790697674]\u001b[A\n",
      "\u001b[AParameters with this training accuracy 0.959257765228 and loss 0.24297582859 :\n",
      "\n",
      " 26%|██▌       | 259/1000 [2:12:35<3:26:11, 16.70s/it, best loss: -0.662790697674]\u001b[A\n",
      "\u001b[AParameters with this testing accuracy 0.636627906977 and loss 1.15436247859 :\n",
      "\n",
      " 26%|██▌       | 259/1000 [2:12:35<3:26:11, 16.70s/it, best loss: -0.662790697674]\u001b[A\n",
      "\u001b[A{'colsample_bytree': 0.7000000000000001, 'learning_rate': 0.125, 'min_child_weight': 1.0, 'n_estimators': 266, 'subsample': 0.9500000000000001, 'importance_type': 'total_cover', 'max_depth': 2, 'gamma': 0.9, 'booster': 'gbtree'}\n",
      "\n",
      " 26%|██▌       | 259/1000 [2:12:35<3:26:11, 16.70s/it, best loss: -0.662790697674]\u001b[A"
     ]
    },
    {
     "name": "stderr",
     "output_type": "stream",
     "text": [
      "Hyperopt:  26%|██▌       | 260/1000 [2:12:35<3:21:07, 16.31s/it]"
     ]
    },
    {
     "name": "stdout",
     "output_type": "stream",
     "text": [
      "\n",
      " 26%|██▌       | 260/1000 [2:12:35<3:21:07, 16.31s/it, best loss: -0.662790697674]\u001b[A\n",
      "\u001b[AParameters with this training accuracy 0.768051633723 and loss 0.834608333541 :\n",
      "\n",
      " 26%|██▌       | 260/1000 [2:12:45<3:21:07, 16.31s/it, best loss: -0.662790697674]\u001b[A\n",
      "\u001b[AParameters with this testing accuracy 0.607558139535 and loss 1.21004968258 :\n",
      "\n",
      " 26%|██▌       | 260/1000 [2:12:45<3:21:07, 16.31s/it, best loss: -0.662790697674]\u001b[A\n",
      "\u001b[A{'colsample_bytree': 0.6000000000000001, 'learning_rate': 0.025, 'min_child_weight': 2.0, 'n_estimators': 181, 'subsample': 0.9, 'importance_type': 'total_cover', 'max_depth': 2, 'gamma': 0.8500000000000001, 'booster': 'gbtree'}\n",
      "\n",
      " 26%|██▌       | 260/1000 [2:12:45<3:21:07, 16.31s/it, best loss: -0.662790697674]\u001b[A"
     ]
    },
    {
     "name": "stderr",
     "output_type": "stream",
     "text": [
      "Hyperopt:  26%|██▌       | 261/1000 [2:12:46<2:58:21, 14.48s/it]"
     ]
    },
    {
     "name": "stdout",
     "output_type": "stream",
     "text": [
      "\n",
      " 26%|██▌       | 261/1000 [2:12:45<2:58:20, 14.48s/it, best loss: -0.662790697674]\u001b[A\n",
      "\u001b[AParameters with this training accuracy 0.897942718838 and loss 0.433700768374 :\n",
      "\n",
      " 26%|██▌       | 261/1000 [2:12:53<2:58:20, 14.48s/it, best loss: -0.662790697674]\u001b[A\n",
      "\u001b[AParameters with this testing accuracy 0.627906976744 and loss 1.14708797598 :\n",
      "\n",
      " 26%|██▌       | 261/1000 [2:12:53<2:58:20, 14.48s/it, best loss: -0.662790697674]\u001b[A\n",
      "\u001b[A{'colsample_bytree': 0.7000000000000001, 'learning_rate': 0.125, 'min_child_weight': 2.0, 'n_estimators': 124, 'subsample': 1.0, 'importance_type': 'total_cover', 'max_depth': 2, 'gamma': 0.8500000000000001, 'booster': 'gbtree'}\n",
      "\n",
      " 26%|██▌       | 261/1000 [2:12:53<2:58:20, 14.48s/it, best loss: -0.662790697674]\u001b[A"
     ]
    },
    {
     "name": "stderr",
     "output_type": "stream",
     "text": [
      "Hyperopt:  26%|██▌       | 262/1000 [2:12:53<2:33:06, 12.45s/it]"
     ]
    },
    {
     "name": "stdout",
     "output_type": "stream",
     "text": [
      "\n",
      " 26%|██▌       | 262/1000 [2:12:53<2:33:06, 12.45s/it, best loss: -0.662790697674]\u001b[A\n",
      "\u001b[AParameters with this training accuracy 0.938281565147 and loss 0.311666857785 :\n",
      "\n",
      " 26%|██▌       | 262/1000 [2:13:02<2:33:06, 12.45s/it, best loss: -0.662790697674]\u001b[A\n",
      "\u001b[AParameters with this testing accuracy 0.645348837209 and loss 1.1383414651 :\n",
      "\n",
      " 26%|██▌       | 262/1000 [2:13:02<2:33:06, 12.45s/it, best loss: -0.662790697674]\u001b[A\n",
      "\u001b[A{'colsample_bytree': 0.65, 'learning_rate': 0.15000000000000002, 'min_child_weight': 2.0, 'n_estimators': 160, 'subsample': 0.9500000000000001, 'importance_type': 'total_cover', 'max_depth': 2, 'gamma': 0.9500000000000001, 'booster': 'gbtree'}\n",
      "\n",
      " 26%|██▌       | 262/1000 [2:13:02<2:33:06, 12.45s/it, best loss: -0.662790697674]\u001b[A"
     ]
    },
    {
     "name": "stderr",
     "output_type": "stream",
     "text": [
      "Hyperopt:  26%|██▋       | 263/1000 [2:13:02<2:20:38, 11.45s/it]"
     ]
    },
    {
     "name": "stdout",
     "output_type": "stream",
     "text": [
      "\n",
      " 26%|██▋       | 263/1000 [2:13:02<2:20:37, 11.45s/it, best loss: -0.662790697674]\u001b[A\n",
      "\u001b[AParameters with this training accuracy 0.94392900363 and loss 0.302273108988 :\n",
      "\n",
      " 26%|██▋       | 263/1000 [2:13:26<2:20:37, 11.45s/it, best loss: -0.662790697674]\u001b[A\n",
      "\u001b[AParameters with this testing accuracy 0.639534883721 and loss 1.13240890654 :\n",
      "\n",
      " 26%|██▋       | 263/1000 [2:13:26<2:20:37, 11.45s/it, best loss: -0.662790697674]\u001b[A\n",
      "\u001b[A{'colsample_bytree': 0.6000000000000001, 'learning_rate': 0.05, 'min_child_weight': 1.0, 'n_estimators': 453, 'subsample': 0.9, 'importance_type': 'total_cover', 'max_depth': 2, 'gamma': 0.8500000000000001, 'booster': 'gbtree'}\n",
      "\n",
      " 26%|██▋       | 263/1000 [2:13:26<2:20:37, 11.45s/it, best loss: -0.662790697674]\u001b[A"
     ]
    },
    {
     "name": "stderr",
     "output_type": "stream",
     "text": [
      "Hyperopt:  26%|██▋       | 264/1000 [2:13:26<3:05:22, 15.11s/it]"
     ]
    },
    {
     "name": "stdout",
     "output_type": "stream",
     "text": [
      "\n",
      " 26%|██▋       | 264/1000 [2:13:26<3:05:23, 15.11s/it, best loss: -0.662790697674]\u001b[A\n",
      "\u001b[AParameters with this training accuracy 0.948769665188 and loss 0.288559308156 :\n",
      "\n",
      " 26%|██▋       | 264/1000 [2:13:49<3:05:23, 15.11s/it, best loss: -0.662790697674]\u001b[A\n",
      "\u001b[AParameters with this testing accuracy 0.633720930233 and loss 1.14788429711 :\n",
      "\n",
      " 26%|██▋       | 264/1000 [2:13:49<3:05:23, 15.11s/it, best loss: -0.662790697674]\u001b[A\n",
      "\u001b[A{'colsample_bytree': 0.7000000000000001, 'learning_rate': 0.07500000000000001, 'min_child_weight': 1.0, 'n_estimators': 407, 'subsample': 1.0, 'importance_type': 'cover', 'max_depth': 2, 'gamma': 0.9, 'booster': 'gbtree'}\n",
      "\n",
      " 26%|██▋       | 264/1000 [2:13:49<3:05:23, 15.11s/it, best loss: -0.662790697674]\u001b[A"
     ]
    },
    {
     "name": "stderr",
     "output_type": "stream",
     "text": [
      "Hyperopt:  26%|██▋       | 265/1000 [2:13:49<3:33:49, 17.46s/it]"
     ]
    },
    {
     "name": "stdout",
     "output_type": "stream",
     "text": [
      "\n",
      " 26%|██▋       | 265/1000 [2:13:49<3:33:49, 17.46s/it, best loss: -0.662790697674]\u001b[A\n",
      "\u001b[AParameters with this training accuracy 0.96208148447 and loss 0.24186065181 :\n",
      "\n",
      " 26%|██▋       | 265/1000 [2:14:07<3:33:49, 17.46s/it, best loss: -0.662790697674]\u001b[A\n",
      "\u001b[AParameters with this testing accuracy 0.636627906977 and loss 1.14936906472 :\n",
      "\n",
      " 26%|██▋       | 265/1000 [2:14:07<3:33:49, 17.46s/it, best loss: -0.662790697674]\u001b[A\n",
      "\u001b[A{'colsample_bytree': 0.65, 'learning_rate': 0.1, 'min_child_weight': 1.0, 'n_estimators': 331, 'subsample': 0.9500000000000001, 'importance_type': 'total_cover', 'max_depth': 2, 'gamma': 0.8500000000000001, 'booster': 'gbtree'}\n",
      "\n",
      " 26%|██▋       | 265/1000 [2:14:07<3:33:49, 17.46s/it, best loss: -0.662790697674]\u001b[A"
     ]
    },
    {
     "name": "stderr",
     "output_type": "stream",
     "text": [
      "Hyperopt:  27%|██▋       | 266/1000 [2:14:07<3:36:11, 17.67s/it]"
     ]
    },
    {
     "name": "stdout",
     "output_type": "stream",
     "text": [
      "\n",
      " 27%|██▋       | 266/1000 [2:14:07<3:36:11, 17.67s/it, best loss: -0.662790697674]\u001b[A\n",
      "\u001b[AParameters with this training accuracy 0.883017345704 and loss 0.464933465796 :\n",
      "\n",
      " 27%|██▋       | 266/1000 [2:14:16<3:36:11, 17.67s/it, best loss: -0.662790697674]\u001b[A\n",
      "\u001b[AParameters with this testing accuracy 0.633720930233 and loss 1.13972481571 :\n",
      "\n",
      " 27%|██▋       | 266/1000 [2:14:16<3:36:11, 17.67s/it, best loss: -0.662790697674]\u001b[A\n",
      "\u001b[A{'colsample_bytree': 0.75, 'learning_rate': 0.17500000000000002, 'min_child_weight': 2.0, 'n_estimators': 229, 'subsample': 1.0, 'importance_type': 'total_cover', 'max_depth': 1, 'gamma': 0.8500000000000001, 'booster': 'gbtree'}\n",
      "\n",
      " 27%|██▋       | 266/1000 [2:14:16<3:36:11, 17.67s/it, best loss: -0.662790697674]\u001b[A"
     ]
    },
    {
     "name": "stderr",
     "output_type": "stream",
     "text": [
      "Hyperopt:  27%|██▋       | 267/1000 [2:14:16<3:03:38, 15.03s/it]"
     ]
    },
    {
     "name": "stdout",
     "output_type": "stream",
     "text": [
      "\n",
      " 27%|██▋       | 267/1000 [2:14:16<3:03:38, 15.03s/it, best loss: -0.662790697674]\u001b[A\n",
      "\u001b[AParameters with this training accuracy 0.98305768455 and loss 0.160354990247 :\n",
      "\n",
      " 27%|██▋       | 267/1000 [2:14:34<3:03:38, 15.03s/it, best loss: -0.662790697674]\u001b[A\n",
      "\u001b[AParameters with this testing accuracy 0.648255813953 and loss 1.16567844704 :\n",
      "\n",
      " 27%|██▋       | 267/1000 [2:14:34<3:03:38, 15.03s/it, best loss: -0.662790697674]\u001b[A\n",
      "\u001b[A{'colsample_bytree': 0.65, 'learning_rate': 0.15000000000000002, 'min_child_weight': 3.0, 'n_estimators': 207, 'subsample': 0.9, 'importance_type': 'total_cover', 'max_depth': 4, 'gamma': 0.9, 'booster': 'gbtree'}\n",
      "\n",
      " 27%|██▋       | 267/1000 [2:14:34<3:03:38, 15.03s/it, best loss: -0.662790697674]\u001b[A"
     ]
    },
    {
     "name": "stderr",
     "output_type": "stream",
     "text": [
      "Hyperopt:  27%|██▋       | 268/1000 [2:14:35<3:16:18, 16.09s/it]"
     ]
    },
    {
     "name": "stdout",
     "output_type": "stream",
     "text": [
      "\n",
      " 27%|██▋       | 268/1000 [2:14:34<3:16:17, 16.09s/it, best loss: -0.662790697674]\u001b[A\n",
      "\u001b[AParameters with this training accuracy 0.98830173457 and loss 0.138532976571 :\n",
      "\n",
      " 27%|██▋       | 268/1000 [2:15:30<3:16:17, 16.09s/it, best loss: -0.662790697674]\u001b[A\n",
      "\u001b[AParameters with this testing accuracy 0.648255813953 and loss 1.17047353381 :\n",
      "\n",
      " 27%|██▋       | 268/1000 [2:15:30<3:16:17, 16.09s/it, best loss: -0.662790697674]\u001b[A\n",
      "\u001b[A{'colsample_bytree': 0.7000000000000001, 'learning_rate': 0.125, 'min_child_weight': 2.0, 'n_estimators': 363, 'subsample': 0.9500000000000001, 'importance_type': 'total_cover', 'max_depth': 8, 'gamma': 1.0, 'booster': 'gbtree'}\n",
      "\n",
      " 27%|██▋       | 268/1000 [2:15:30<3:16:17, 16.09s/it, best loss: -0.662790697674]\u001b[A"
     ]
    },
    {
     "name": "stderr",
     "output_type": "stream",
     "text": [
      "Hyperopt:  27%|██▋       | 269/1000 [2:15:30<5:39:18, 27.85s/it]"
     ]
    },
    {
     "name": "stdout",
     "output_type": "stream",
     "text": [
      "\n",
      " 27%|██▋       | 269/1000 [2:15:30<5:39:19, 27.85s/it, best loss: -0.662790697674]\u001b[A\n",
      "\u001b[AParameters with this training accuracy 0.994352561517 and loss 0.117781212368 :\n",
      "\n",
      " 27%|██▋       | 269/1000 [2:16:37<5:39:19, 27.85s/it, best loss: -0.662790697674]\u001b[A\n",
      "\u001b[AParameters with this testing accuracy 0.633720930233 and loss 1.15075907749 :\n",
      "\n",
      " 27%|██▋       | 269/1000 [2:16:37<5:39:19, 27.85s/it, best loss: -0.662790697674]\u001b[A\n",
      "\u001b[A{'colsample_bytree': 0.6000000000000001, 'learning_rate': 0.1, 'min_child_weight': 1.0, 'n_estimators': 438, 'subsample': 1.0, 'importance_type': 'total_cover', 'max_depth': 9, 'gamma': 0.8, 'booster': 'gbtree'}\n",
      "\n",
      " 27%|██▋       | 269/1000 [2:16:37<5:39:19, 27.85s/it, best loss: -0.662790697674]\u001b[A"
     ]
    },
    {
     "name": "stderr",
     "output_type": "stream",
     "text": [
      "Hyperopt:  27%|██▋       | 270/1000 [2:16:37<8:03:25, 39.73s/it]"
     ]
    },
    {
     "name": "stdout",
     "output_type": "stream",
     "text": [
      "\n",
      " 27%|██▋       | 270/1000 [2:16:37<8:03:26, 39.73s/it, best loss: -0.662790697674]\u001b[A\n",
      "\u001b[AParameters with this training accuracy 0.855990318677 and loss 0.544748290674 :\n",
      "\n",
      " 27%|██▋       | 270/1000 [2:16:46<8:03:26, 39.73s/it, best loss: -0.662790697674]\u001b[A\n",
      "\u001b[AParameters with this testing accuracy 0.625 and loss 1.14207398171 :\n",
      "\n",
      " 27%|██▋       | 270/1000 [2:16:46<8:03:26, 39.73s/it, best loss: -0.662790697674]\u001b[A\n",
      "\u001b[A{'colsample_bytree': 0.7000000000000001, 'learning_rate': 0.07500000000000001, 'min_child_weight': 2.0, 'n_estimators': 140, 'subsample': 1.0, 'importance_type': 'total_cover', 'max_depth': 2, 'gamma': 0.8, 'booster': 'gbtree'}\n",
      "\n",
      " 27%|██▋       | 270/1000 [2:16:46<8:03:26, 39.73s/it, best loss: -0.662790697674]\u001b[A"
     ]
    },
    {
     "name": "stderr",
     "output_type": "stream",
     "text": [
      "Hyperopt:  27%|██▋       | 271/1000 [2:16:46<6:09:48, 30.44s/it]"
     ]
    },
    {
     "name": "stdout",
     "output_type": "stream",
     "text": [
      "\n",
      " 27%|██▋       | 271/1000 [2:16:46<6:09:47, 30.44s/it, best loss: -0.662790697674]\u001b[A\n",
      "\u001b[AParameters with this training accuracy 0.947559499798 and loss 0.281171003852 :\n",
      "\n",
      " 27%|██▋       | 271/1000 [2:17:05<6:09:47, 30.44s/it, best loss: -0.662790697674]\u001b[A\n",
      "\u001b[AParameters with this testing accuracy 0.633720930233 and loss 1.11954311018 :\n",
      "\n",
      " 27%|██▋       | 271/1000 [2:17:05<6:09:47, 30.44s/it, best loss: -0.662790697674]\u001b[A\n",
      "\u001b[A{'colsample_bytree': 0.65, 'learning_rate': 0.05, 'min_child_weight': 3.0, 'n_estimators': 207, 'subsample': 0.9, 'importance_type': 'total_cover', 'max_depth': 4, 'gamma': 0.8, 'booster': 'gbtree'}\n",
      "\n",
      " 27%|██▋       | 271/1000 [2:17:05<6:09:47, 30.44s/it, best loss: -0.662790697674]\u001b[A"
     ]
    },
    {
     "name": "stderr",
     "output_type": "stream",
     "text": [
      "Hyperopt:  27%|██▋       | 272/1000 [2:17:06<5:28:55, 27.11s/it]"
     ]
    },
    {
     "name": "stdout",
     "output_type": "stream",
     "text": [
      "\n",
      " 27%|██▋       | 272/1000 [2:17:05<5:28:55, 27.11s/it, best loss: -0.662790697674]\u001b[A\n",
      "\u001b[AParameters with this training accuracy 0.882210568778 and loss 0.476271569171 :\n",
      "\n",
      " 27%|██▋       | 272/1000 [2:17:10<5:28:55, 27.11s/it, best loss: -0.662790697674]\u001b[A\n",
      "\u001b[AParameters with this testing accuracy 0.636627906977 and loss 1.15997631384 :\n",
      "\n",
      " 27%|██▋       | 272/1000 [2:17:10<5:28:55, 27.11s/it, best loss: -0.662790697674]\u001b[A\n",
      "\u001b[A{'colsample_bytree': 0.75, 'learning_rate': 0.125, 'min_child_weight': 1.0, 'n_estimators': 49, 'subsample': 0.9500000000000001, 'importance_type': 'cover', 'max_depth': 3, 'gamma': 0.9500000000000001, 'booster': 'gbtree'}\n",
      "\n",
      " 27%|██▋       | 272/1000 [2:17:10<5:28:55, 27.11s/it, best loss: -0.662790697674]\u001b[A"
     ]
    },
    {
     "name": "stderr",
     "output_type": "stream",
     "text": [
      "Hyperopt:  27%|██▋       | 273/1000 [2:17:10<4:07:26, 20.42s/it]"
     ]
    },
    {
     "name": "stdout",
     "output_type": "stream",
     "text": [
      "\n",
      " 27%|██▋       | 273/1000 [2:17:10<4:07:25, 20.42s/it, best loss: -0.662790697674]\u001b[A\n",
      "\u001b[AParameters with this training accuracy 0.963291649859 and loss 0.231889599555 :\n",
      "\n",
      " 27%|██▋       | 273/1000 [2:17:28<4:07:25, 20.42s/it, best loss: -0.662790697674]\u001b[A\n",
      "\u001b[AParameters with this testing accuracy 0.639534883721 and loss 1.14084631437 :\n",
      "\n",
      " 27%|██▋       | 273/1000 [2:17:28<4:07:25, 20.42s/it, best loss: -0.662790697674]\u001b[A\n",
      "\u001b[A{'colsample_bytree': 0.7000000000000001, 'learning_rate': 0.07500000000000001, 'min_child_weight': 3.0, 'n_estimators': 191, 'subsample': 0.9, 'importance_type': 'gain', 'max_depth': 4, 'gamma': 0.9500000000000001, 'booster': 'gbtree'}\n",
      "\n",
      " 27%|██▋       | 273/1000 [2:17:28<4:07:25, 20.42s/it, best loss: -0.662790697674]\u001b[A"
     ]
    },
    {
     "name": "stderr",
     "output_type": "stream",
     "text": [
      "Hyperopt:  27%|██▋       | 274/1000 [2:17:29<4:00:03, 19.84s/it]"
     ]
    },
    {
     "name": "stdout",
     "output_type": "stream",
     "text": [
      "\n",
      " 27%|██▋       | 274/1000 [2:17:28<4:00:03, 19.84s/it, best loss: -0.662790697674]\u001b[A\n",
      "\u001b[AParameters with this training accuracy 0.721661960468 and loss 1.0919719857 :\n",
      "\n",
      " 27%|██▋       | 274/1000 [2:17:35<4:00:03, 19.84s/it, best loss: -0.662790697674]\u001b[A\n",
      "\u001b[AParameters with this testing accuracy 0.601744186047 and loss 1.34156769315 :\n",
      "\n",
      " 27%|██▋       | 274/1000 [2:17:35<4:00:03, 19.84s/it, best loss: -0.662790697674]\u001b[A\n",
      "\u001b[A{'colsample_bytree': 0.65, 'learning_rate': 0.025, 'min_child_weight': 2.0, 'n_estimators': 101, 'subsample': 0.9500000000000001, 'importance_type': 'total_gain', 'max_depth': 2, 'gamma': 0.9, 'booster': 'gbtree'}\n",
      "\n",
      " 27%|██▋       | 274/1000 [2:17:35<4:00:03, 19.84s/it, best loss: -0.662790697674]\u001b[A"
     ]
    },
    {
     "name": "stderr",
     "output_type": "stream",
     "text": [
      "Hyperopt:  28%|██▊       | 275/1000 [2:17:35<3:11:00, 15.81s/it]"
     ]
    },
    {
     "name": "stdout",
     "output_type": "stream",
     "text": [
      "\n",
      " 28%|██▊       | 275/1000 [2:17:35<3:11:00, 15.81s/it, best loss: -0.662790697674]\u001b[A\n",
      "\u001b[AParameters with this training accuracy 0.47519160952 and loss 1.79265598275 :\n",
      "\n",
      " 28%|██▊       | 275/1000 [2:17:37<3:11:00, 15.81s/it, best loss: -0.662790697674]\u001b[A\n",
      "\u001b[AParameters with this testing accuracy 0.485465116279 and loss 1.79087569591 :\n",
      "\n",
      " 28%|██▊       | 275/1000 [2:17:37<3:11:00, 15.81s/it, best loss: -0.662790697674]\u001b[A\n",
      "\u001b[A{'colsample_bytree': 0.65, 'learning_rate': 0.15000000000000002, 'min_child_weight': 3.0, 'n_estimators': 36, 'subsample': 1.0, 'importance_type': 'cover', 'max_depth': 1, 'gamma': 0.8500000000000001, 'booster': 'gblinear'}\n",
      "\n",
      " 28%|██▊       | 275/1000 [2:17:37<3:11:00, 15.81s/it, best loss: -0.662790697674]\u001b[A"
     ]
    },
    {
     "name": "stderr",
     "output_type": "stream",
     "text": [
      "Hyperopt:  28%|██▊       | 276/1000 [2:17:37<2:21:47, 11.75s/it]"
     ]
    },
    {
     "name": "stdout",
     "output_type": "stream",
     "text": [
      "\n",
      " 28%|██▊       | 276/1000 [2:17:37<2:21:46, 11.75s/it, best loss: -0.662790697674]\u001b[A\n",
      "\u001b[AParameters with this training accuracy 0.982250907624 and loss 0.166409639336 :\n",
      "\n",
      " 28%|██▊       | 276/1000 [2:18:11<2:21:46, 11.75s/it, best loss: -0.662790697674]\u001b[A\n",
      "\u001b[AParameters with this testing accuracy 0.651162790698 and loss 1.15263405897 :\n",
      "\n",
      " 28%|██▊       | 276/1000 [2:18:11<2:21:46, 11.75s/it, best loss: -0.662790697674]\u001b[A\n",
      "\u001b[A{'colsample_bytree': 0.6000000000000001, 'learning_rate': 0.125, 'min_child_weight': 6.0, 'n_estimators': 448, 'subsample': 1.0, 'importance_type': 'total_cover', 'max_depth': 4, 'gamma': 0.75, 'booster': 'gbtree'}\n",
      "\n",
      " 28%|██▊       | 276/1000 [2:18:11<2:21:46, 11.75s/it, best loss: -0.662790697674]\u001b[A"
     ]
    },
    {
     "name": "stderr",
     "output_type": "stream",
     "text": [
      "Hyperopt:  28%|██▊       | 277/1000 [2:18:11<3:41:25, 18.37s/it]"
     ]
    },
    {
     "name": "stdout",
     "output_type": "stream",
     "text": [
      "\n",
      " 28%|██▊       | 277/1000 [2:18:11<3:41:27, 18.38s/it, best loss: -0.662790697674]\u001b[A\n",
      "\u001b[AParameters with this training accuracy 0.968535699879 and loss 0.211050299401 :\n",
      "\n",
      " 28%|██▊       | 277/1000 [2:18:18<3:41:27, 18.38s/it, best loss: -0.662790697674]\u001b[A\n",
      "\u001b[AParameters with this testing accuracy 0.642441860465 and loss 1.15717424664 :\n",
      "\n",
      " 28%|██▊       | 277/1000 [2:18:18<3:41:27, 18.38s/it, best loss: -0.662790697674]\u001b[A\n",
      "\u001b[A{'colsample_bytree': 0.7000000000000001, 'learning_rate': 0.17500000000000002, 'min_child_weight': 2.0, 'n_estimators': 67, 'subsample': 0.9500000000000001, 'importance_type': 'cover', 'max_depth': 4, 'gamma': 0.55, 'booster': 'gbtree'}\n",
      "\n",
      " 28%|██▊       | 277/1000 [2:18:18<3:41:27, 18.38s/it, best loss: -0.662790697674]\u001b[A"
     ]
    },
    {
     "name": "stderr",
     "output_type": "stream",
     "text": [
      "Hyperopt:  28%|██▊       | 278/1000 [2:18:18<2:59:46, 14.94s/it]"
     ]
    },
    {
     "name": "stdout",
     "output_type": "stream",
     "text": [
      "\n",
      " 28%|██▊       | 278/1000 [2:18:18<2:59:45, 14.94s/it, best loss: -0.662790697674]\u001b[A\n",
      "\u001b[AParameters with this training accuracy 0.989915288423 and loss 0.123754992441 :\n",
      "\n",
      " 28%|██▊       | 278/1000 [2:18:58<2:59:45, 14.94s/it, best loss: -0.662790697674]\u001b[A\n",
      "\u001b[AParameters with this testing accuracy 0.633720930233 and loss 1.15907648579 :\n",
      "\n",
      " 28%|██▊       | 278/1000 [2:18:58<2:59:45, 14.94s/it, best loss: -0.662790697674]\u001b[A\n",
      "\u001b[A{'colsample_bytree': 0.75, 'learning_rate': 0.1, 'min_child_weight': 4.0, 'n_estimators': 293, 'subsample': 0.9, 'importance_type': 'gain', 'max_depth': 8, 'gamma': 0.75, 'booster': 'gbtree'}\n",
      "\n",
      " 28%|██▊       | 278/1000 [2:18:58<2:59:45, 14.94s/it, best loss: -0.662790697674]\u001b[A"
     ]
    },
    {
     "name": "stderr",
     "output_type": "stream",
     "text": [
      "Hyperopt:  28%|██▊       | 279/1000 [2:18:58<4:29:49, 22.45s/it]"
     ]
    },
    {
     "name": "stdout",
     "output_type": "stream",
     "text": [
      "\n",
      " 28%|██▊       | 279/1000 [2:18:58<4:29:50, 22.46s/it, best loss: -0.662790697674]\u001b[A\n",
      "\u001b[AParameters with this training accuracy 0.993142396127 and loss 0.0929406176861 :\n",
      "\n",
      " 28%|██▊       | 279/1000 [2:19:37<4:29:50, 22.46s/it, best loss: -0.662790697674]\u001b[A\n",
      "\u001b[AParameters with this testing accuracy 0.648255813953 and loss 1.18432662581 :\n",
      "\n",
      " 28%|██▊       | 279/1000 [2:19:37<4:29:50, 22.46s/it, best loss: -0.662790697674]\u001b[A\n",
      "\u001b[A{'colsample_bytree': 0.7000000000000001, 'learning_rate': 0.15000000000000002, 'min_child_weight': 5.0, 'n_estimators': 340, 'subsample': 0.9500000000000001, 'importance_type': 'cover', 'max_depth': 9, 'gamma': 0.5, 'booster': 'gbtree'}\n",
      "\n",
      " 28%|██▊       | 279/1000 [2:19:37<4:29:50, 22.46s/it, best loss: -0.662790697674]\u001b[A"
     ]
    },
    {
     "name": "stderr",
     "output_type": "stream",
     "text": [
      "Hyperopt:  28%|██▊       | 280/1000 [2:19:37<5:29:27, 27.46s/it]"
     ]
    },
    {
     "name": "stdout",
     "output_type": "stream",
     "text": [
      "\n",
      " 28%|██▊       | 280/1000 [2:19:37<5:29:28, 27.46s/it, best loss: -0.662790697674]\u001b[A\n",
      "\u001b[AParameters with this training accuracy 0.473981444131 and loss 1.76853570019 :\n",
      "\n",
      " 28%|██▊       | 280/1000 [2:19:43<5:29:28, 27.46s/it, best loss: -0.662790697674]\u001b[A\n",
      "\u001b[AParameters with this testing accuracy 0.488372093023 and loss 1.76093785421 :\n",
      "\n",
      " 28%|██▊       | 280/1000 [2:19:43<5:29:28, 27.46s/it, best loss: -0.662790697674]\u001b[A\n",
      "\u001b[A{'colsample_bytree': 0.75, 'learning_rate': 0.17500000000000002, 'min_child_weight': 4.0, 'n_estimators': 179, 'subsample': 0.9500000000000001, 'importance_type': 'cover', 'max_depth': 4, 'gamma': 0.7000000000000001, 'booster': 'gblinear'}\n",
      "\n",
      " 28%|██▊       | 280/1000 [2:19:43<5:29:28, 27.46s/it, best loss: -0.662790697674]\u001b[A"
     ]
    },
    {
     "name": "stderr",
     "output_type": "stream",
     "text": [
      "Hyperopt:  28%|██▊       | 281/1000 [2:19:44<4:12:41, 21.09s/it]"
     ]
    },
    {
     "name": "stdout",
     "output_type": "stream",
     "text": [
      "\n",
      " 28%|██▊       | 281/1000 [2:19:43<4:12:40, 21.09s/it, best loss: -0.662790697674]\u001b[A\n",
      "\u001b[AParameters with this training accuracy 0.961678096006 and loss 0.241913277167 :\n",
      "\n",
      " 28%|██▊       | 281/1000 [2:20:06<4:12:40, 21.09s/it, best loss: -0.662790697674]\u001b[A\n",
      "\u001b[AParameters with this testing accuracy 0.630813953488 and loss 1.1545053022 :\n",
      "\n",
      " 28%|██▊       | 281/1000 [2:20:06<4:12:40, 21.09s/it, best loss: -0.662790697674]\u001b[A\n",
      "\u001b[A{'colsample_bytree': 0.6000000000000001, 'learning_rate': 0.2, 'min_child_weight': 3.0, 'n_estimators': 465, 'subsample': 1.0, 'importance_type': 'total_cover', 'max_depth': 2, 'gamma': 1.0, 'booster': 'gbtree'}\n",
      "\n",
      " 28%|██▊       | 281/1000 [2:20:06<4:12:40, 21.09s/it, best loss: -0.662790697674]\u001b[A"
     ]
    },
    {
     "name": "stderr",
     "output_type": "stream",
     "text": [
      "Hyperopt:  28%|██▊       | 282/1000 [2:20:06<4:17:11, 21.49s/it]"
     ]
    },
    {
     "name": "stdout",
     "output_type": "stream",
     "text": [
      "\n",
      " 28%|██▊       | 282/1000 [2:20:06<4:17:12, 21.49s/it, best loss: -0.662790697674]\u001b[A\n",
      "\u001b[AParameters with this training accuracy 0.939895119 and loss 0.308681149676 :\n",
      "\n",
      " 28%|██▊       | 282/1000 [2:20:22<4:17:12, 21.49s/it, best loss: -0.662790697674]\u001b[A\n",
      "\u001b[AParameters with this testing accuracy 0.630813953488 and loss 1.13853967943 :\n",
      "\n",
      " 28%|██▊       | 282/1000 [2:20:22<4:17:12, 21.49s/it, best loss: -0.662790697674]\u001b[A\n",
      "\u001b[A{'colsample_bytree': 0.65, 'learning_rate': 0.05, 'min_child_weight': 1.0, 'n_estimators': 213, 'subsample': 0.9, 'importance_type': 'gain', 'max_depth': 3, 'gamma': 0.6000000000000001, 'booster': 'gbtree'}\n",
      "\n",
      " 28%|██▊       | 282/1000 [2:20:22<4:17:12, 21.49s/it, best loss: -0.662790697674]\u001b[A"
     ]
    },
    {
     "name": "stderr",
     "output_type": "stream",
     "text": [
      "Hyperopt:  28%|██▊       | 283/1000 [2:20:23<3:59:14, 20.02s/it]"
     ]
    },
    {
     "name": "stdout",
     "output_type": "stream",
     "text": [
      "\n",
      " 28%|██▊       | 283/1000 [2:20:22<3:59:13, 20.02s/it, best loss: -0.662790697674]\u001b[A\n",
      "\u001b[AParameters with this training accuracy 0.954820492134 and loss 0.259027009234 :\n",
      "\n",
      " 28%|██▊       | 283/1000 [2:20:38<3:59:13, 20.02s/it, best loss: -0.662790697674]\u001b[A\n",
      "\u001b[AParameters with this testing accuracy 0.636627906977 and loss 1.12962787499 :\n",
      "\n",
      " 28%|██▊       | 283/1000 [2:20:38<3:59:13, 20.02s/it, best loss: -0.662790697674]\u001b[A\n",
      "\u001b[A{'colsample_bytree': 0.7000000000000001, 'learning_rate': 0.1, 'min_child_weight': 6.0, 'n_estimators': 172, 'subsample': 1.0, 'importance_type': 'total_gain', 'max_depth': 4, 'gamma': 0.8500000000000001, 'booster': 'gbtree'}\n",
      "\n",
      " 28%|██▊       | 283/1000 [2:20:38<3:59:13, 20.02s/it, best loss: -0.662790697674]\u001b[A"
     ]
    },
    {
     "name": "stderr",
     "output_type": "stream",
     "text": [
      "Hyperopt:  28%|██▊       | 284/1000 [2:20:38<3:43:04, 18.69s/it]"
     ]
    },
    {
     "name": "stdout",
     "output_type": "stream",
     "text": [
      "\n",
      " 28%|██▊       | 284/1000 [2:20:38<3:43:04, 18.69s/it, best loss: -0.662790697674]\u001b[A\n",
      "\u001b[AParameters with this training accuracy 0.47519160952 and loss 1.8057979199 :\n",
      "\n",
      " 28%|██▊       | 284/1000 [2:20:39<3:43:04, 18.69s/it, best loss: -0.662790697674]\u001b[A\n",
      "\u001b[AParameters with this testing accuracy 0.485465116279 and loss 1.80405662092 :\n",
      "\n",
      " 28%|██▊       | 284/1000 [2:20:39<3:43:04, 18.69s/it, best loss: -0.662790697674]\u001b[A\n",
      "\u001b[A{'colsample_bytree': 0.6000000000000001, 'learning_rate': 0.15000000000000002, 'min_child_weight': 6.0, 'n_estimators': 25, 'subsample': 0.9, 'importance_type': 'cover', 'max_depth': 1, 'gamma': 0.8, 'booster': 'gblinear'}\n",
      "\n",
      " 28%|██▊       | 284/1000 [2:20:39<3:43:04, 18.69s/it, best loss: -0.662790697674]\u001b[A"
     ]
    },
    {
     "name": "stderr",
     "output_type": "stream",
     "text": [
      "Hyperopt:  28%|██▊       | 285/1000 [2:20:40<2:41:52, 13.58s/it]"
     ]
    },
    {
     "name": "stdout",
     "output_type": "stream",
     "text": [
      "\n",
      " 28%|██▊       | 285/1000 [2:20:39<2:41:51, 13.58s/it, best loss: -0.662790697674]\u001b[A\n",
      "\u001b[AParameters with this training accuracy 0.987898346107 and loss 0.133522878412 :\n",
      "\n",
      " 28%|██▊       | 285/1000 [2:21:11<2:41:51, 13.58s/it, best loss: -0.662790697674]\u001b[A\n",
      "\u001b[AParameters with this testing accuracy 0.651162790698 and loss 1.16495937643 :\n",
      "\n",
      " 28%|██▊       | 285/1000 [2:21:11<2:41:51, 13.58s/it, best loss: -0.662790697674]\u001b[A\n",
      "\u001b[A{'colsample_bytree': 0.65, 'learning_rate': 0.125, 'min_child_weight': 5.0, 'n_estimators': 389, 'subsample': 0.8500000000000001, 'importance_type': 'cover', 'max_depth': 4, 'gamma': 0.7000000000000001, 'booster': 'gbtree'}\n",
      "\n",
      " 28%|██▊       | 285/1000 [2:21:11<2:41:51, 13.58s/it, best loss: -0.662790697674]\u001b[A"
     ]
    },
    {
     "name": "stderr",
     "output_type": "stream",
     "text": [
      "Hyperopt:  29%|██▊       | 286/1000 [2:21:11<3:44:38, 18.88s/it]"
     ]
    },
    {
     "name": "stdout",
     "output_type": "stream",
     "text": [
      "\n",
      " 29%|██▊       | 286/1000 [2:21:11<3:44:40, 18.88s/it, best loss: -0.662790697674]\u001b[A\n",
      "\u001b[AParameters with this training accuracy 0.947156111335 and loss 0.277880033525 :\n",
      "\n",
      " 29%|██▊       | 286/1000 [2:21:33<3:44:40, 18.88s/it, best loss: -0.662790697674]\u001b[A\n",
      "\u001b[AParameters with this testing accuracy 0.633720930233 and loss 1.12718505748 :\n",
      "\n",
      " 29%|██▊       | 286/1000 [2:21:33<3:44:40, 18.88s/it, best loss: -0.662790697674]\u001b[A\n",
      "\u001b[A{'colsample_bytree': 0.75, 'learning_rate': 0.07500000000000001, 'min_child_weight': 3.0, 'n_estimators': 371, 'subsample': 0.9500000000000001, 'importance_type': 'gain', 'max_depth': 2, 'gamma': 0.55, 'booster': 'gbtree'}\n",
      "\n",
      " 29%|██▊       | 286/1000 [2:21:33<3:44:40, 18.88s/it, best loss: -0.662790697674]\u001b[A"
     ]
    },
    {
     "name": "stderr",
     "output_type": "stream",
     "text": [
      "Hyperopt:  29%|██▊       | 287/1000 [2:21:33<3:55:16, 19.80s/it]"
     ]
    },
    {
     "name": "stdout",
     "output_type": "stream",
     "text": [
      "\n",
      " 29%|██▊       | 287/1000 [2:21:33<3:55:17, 19.80s/it, best loss: -0.662790697674]\u001b[A\n",
      "\u001b[AParameters with this training accuracy 0.98830173457 and loss 0.12219733023 :\n",
      "\n",
      " 29%|██▊       | 287/1000 [2:22:11<3:55:17, 19.80s/it, best loss: -0.662790697674]\u001b[A\n",
      "\u001b[AParameters with this testing accuracy 0.651162790698 and loss 1.20069455885 :\n",
      "\n",
      " 29%|██▊       | 287/1000 [2:22:11<3:55:17, 19.80s/it, best loss: -0.662790697674]\u001b[A\n",
      "\u001b[A{'colsample_bytree': 0.7000000000000001, 'learning_rate': 0.17500000000000002, 'min_child_weight': 4.0, 'n_estimators': 434, 'subsample': 1.0, 'importance_type': 'total_cover', 'max_depth': 4, 'gamma': 0.6000000000000001, 'booster': 'gbtree'}\n",
      "\n",
      " 29%|██▊       | 287/1000 [2:22:11<3:55:17, 19.80s/it, best loss: -0.662790697674]\u001b[A"
     ]
    },
    {
     "name": "stderr",
     "output_type": "stream",
     "text": [
      "Hyperopt:  29%|██▉       | 288/1000 [2:22:12<5:02:16, 25.47s/it]"
     ]
    },
    {
     "name": "stdout",
     "output_type": "stream",
     "text": [
      "\n",
      " 29%|██▉       | 288/1000 [2:22:11<5:02:17, 25.47s/it, best loss: -0.662790697674]\u001b[A\n",
      "\u001b[AParameters with this training accuracy 0.98830173457 and loss 0.144304203331 :\n",
      "\n",
      " 29%|██▉       | 288/1000 [2:23:00<5:02:17, 25.47s/it, best loss: -0.662790697674]\u001b[A\n",
      "\u001b[AParameters with this testing accuracy 0.636627906977 and loss 1.1485022307 :\n",
      "\n",
      " 29%|██▉       | 288/1000 [2:23:00<5:02:17, 25.47s/it, best loss: -0.662790697674]\u001b[A\n",
      "\u001b[A{'colsample_bytree': 0.8, 'learning_rate': 0.125, 'min_child_weight': 5.0, 'n_estimators': 339, 'subsample': 0.9500000000000001, 'importance_type': 'cover', 'max_depth': 9, 'gamma': 0.9, 'booster': 'gbtree'}\n",
      "\n",
      " 29%|██▉       | 288/1000 [2:23:00<5:02:17, 25.47s/it, best loss: -0.662790697674]\u001b[A"
     ]
    },
    {
     "name": "stderr",
     "output_type": "stream",
     "text": [
      "Hyperopt:  29%|██▉       | 289/1000 [2:23:00<6:24:32, 32.45s/it]"
     ]
    },
    {
     "name": "stdout",
     "output_type": "stream",
     "text": [
      "\n",
      " 29%|██▉       | 289/1000 [2:23:00<6:24:32, 32.45s/it, best loss: -0.662790697674]\u001b[A\n",
      "\u001b[AParameters with this training accuracy 0.47519160952 and loss 1.78743256131 :\n",
      "\n",
      " 29%|██▉       | 289/1000 [2:23:02<6:24:32, 32.45s/it, best loss: -0.662790697674]\u001b[A\n",
      "\u001b[AParameters with this testing accuracy 0.485465116279 and loss 1.7852093646 :\n",
      "\n",
      " 29%|██▉       | 289/1000 [2:23:02<6:24:32, 32.45s/it, best loss: -0.662790697674]\u001b[A\n",
      "\u001b[A{'colsample_bytree': 0.65, 'learning_rate': 0.2, 'min_child_weight': 4.0, 'n_estimators': 31, 'subsample': 0.9, 'importance_type': 'cover', 'max_depth': 8, 'gamma': 0.75, 'booster': 'gblinear'}\n",
      "\n",
      " 29%|██▉       | 289/1000 [2:23:02<6:24:32, 32.45s/it, best loss: -0.662790697674]\u001b[A"
     ]
    },
    {
     "name": "stderr",
     "output_type": "stream",
     "text": [
      "Hyperopt:  29%|██▉       | 290/1000 [2:23:02<4:35:31, 23.28s/it]"
     ]
    },
    {
     "name": "stdout",
     "output_type": "stream",
     "text": [
      "\n",
      " 29%|██▉       | 290/1000 [2:23:02<4:35:29, 23.28s/it, best loss: -0.662790697674]\u001b[A\n",
      "\u001b[AParameters with this training accuracy 0.983864461476 and loss 0.157225322444 :\n",
      "\n",
      " 29%|██▉       | 290/1000 [2:23:38<4:35:29, 23.28s/it, best loss: -0.662790697674]\u001b[A\n",
      "\u001b[AParameters with this testing accuracy 0.639534883721 and loss 1.15072401462 :\n",
      "\n",
      " 29%|██▉       | 290/1000 [2:23:38<4:35:29, 23.28s/it, best loss: -0.662790697674]\u001b[A\n",
      "\u001b[A{'colsample_bytree': 0.7000000000000001, 'learning_rate': 0.1, 'min_child_weight': 6.0, 'n_estimators': 426, 'subsample': 1.0, 'importance_type': 'gain', 'max_depth': 4, 'gamma': 0.65, 'booster': 'gbtree'}\n",
      "\n",
      " 29%|██▉       | 290/1000 [2:23:38<4:35:29, 23.28s/it, best loss: -0.662790697674]\u001b[A"
     ]
    },
    {
     "name": "stderr",
     "output_type": "stream",
     "text": [
      "Hyperopt:  29%|██▉       | 291/1000 [2:23:38<5:19:11, 27.01s/it]"
     ]
    },
    {
     "name": "stdout",
     "output_type": "stream",
     "text": [
      "\n",
      " 29%|██▉       | 291/1000 [2:23:38<5:19:12, 27.01s/it, best loss: -0.662790697674]\u001b[A\n",
      "\u001b[AParameters with this training accuracy 0.991932230738 and loss 0.111215402191 :\n",
      "\n",
      " 29%|██▉       | 291/1000 [2:24:17<5:19:12, 27.01s/it, best loss: -0.662790697674]\u001b[A\n",
      "\u001b[AParameters with this testing accuracy 0.642441860465 and loss 1.16646821808 :\n",
      "\n",
      " 29%|██▉       | 291/1000 [2:24:17<5:19:12, 27.01s/it, best loss: -0.662790697674]\u001b[A\n",
      "\u001b[A{'colsample_bytree': 0.55, 'learning_rate': 0.05, 'min_child_weight': 2.0, 'n_estimators': 414, 'subsample': 0.9, 'importance_type': 'total_gain', 'max_depth': 5, 'gamma': 0.5, 'booster': 'gbtree'}\n",
      "\n",
      " 29%|██▉       | 291/1000 [2:24:17<5:19:12, 27.01s/it, best loss: -0.662790697674]\u001b[A"
     ]
    },
    {
     "name": "stderr",
     "output_type": "stream",
     "text": [
      "Hyperopt:  29%|██▉       | 292/1000 [2:24:17<6:01:12, 30.61s/it]"
     ]
    },
    {
     "name": "stdout",
     "output_type": "stream",
     "text": [
      "\n",
      " 29%|██▉       | 292/1000 [2:24:17<6:01:13, 30.61s/it, best loss: -0.662790697674]\u001b[A\n",
      "\u001b[AParameters with this training accuracy 0.958450988302 and loss 0.246643739282 :\n",
      "\n",
      " 29%|██▉       | 292/1000 [2:24:29<6:01:13, 30.61s/it, best loss: -0.662790697674]\u001b[A\n",
      "\u001b[AParameters with this testing accuracy 0.645348837209 and loss 1.15686136509 :\n",
      "\n",
      " 29%|██▉       | 292/1000 [2:24:29<6:01:13, 30.61s/it, best loss: -0.662790697674]\u001b[A\n",
      "\u001b[A{'colsample_bytree': 0.75, 'learning_rate': 0.225, 'min_child_weight': 5.0, 'n_estimators': 200, 'subsample': 0.9500000000000001, 'importance_type': 'cover', 'max_depth': 2, 'gamma': 0.8500000000000001, 'booster': 'gbtree'}\n",
      "\n",
      " 29%|██▉       | 292/1000 [2:24:29<6:01:13, 30.61s/it, best loss: -0.662790697674]\u001b[A"
     ]
    },
    {
     "name": "stderr",
     "output_type": "stream",
     "text": [
      "Hyperopt:  29%|██▉       | 293/1000 [2:24:29<4:54:39, 25.01s/it]"
     ]
    },
    {
     "name": "stdout",
     "output_type": "stream",
     "text": [
      "\n",
      " 29%|██▉       | 293/1000 [2:24:29<4:54:38, 25.01s/it, best loss: -0.662790697674]\u001b[A\n",
      "\u001b[AParameters with this training accuracy 0.975796692215 and loss 0.184702880128 :\n",
      "\n",
      " 29%|██▉       | 293/1000 [2:24:42<4:54:38, 25.01s/it, best loss: -0.662790697674]\u001b[A\n",
      "\u001b[AParameters with this testing accuracy 0.616279069767 and loss 1.17692966697 :\n",
      "\n",
      " 29%|██▉       | 293/1000 [2:24:42<4:54:38, 25.01s/it, best loss: -0.662790697674]\u001b[A\n",
      "\u001b[A{'colsample_bytree': 0.65, 'learning_rate': 0.15000000000000002, 'min_child_weight': 3.0, 'n_estimators': 180, 'subsample': 1.0, 'importance_type': 'total_cover', 'max_depth': 3, 'gamma': 0.55, 'booster': 'gbtree'}\n",
      "\n",
      " 29%|██▉       | 293/1000 [2:24:42<4:54:38, 25.01s/it, best loss: -0.662790697674]\u001b[A"
     ]
    },
    {
     "name": "stderr",
     "output_type": "stream",
     "text": [
      "Hyperopt:  29%|██▉       | 294/1000 [2:24:42<4:11:38, 21.39s/it]"
     ]
    },
    {
     "name": "stdout",
     "output_type": "stream",
     "text": [
      "\n",
      " 29%|██▉       | 294/1000 [2:24:42<4:11:37, 21.38s/it, best loss: -0.662790697674]\u001b[A\n",
      "\u001b[AParameters with this training accuracy 0.474384832594 and loss 1.76726697127 :\n",
      "\n",
      " 29%|██▉       | 294/1000 [2:24:52<4:11:37, 21.38s/it, best loss: -0.662790697674]\u001b[A\n",
      "\u001b[AParameters with this testing accuracy 0.488372093023 and loss 1.75876186179 :\n",
      "\n",
      " 29%|██▉       | 294/1000 [2:24:52<4:11:37, 21.38s/it, best loss: -0.662790697674]\u001b[A\n",
      "\u001b[A{'colsample_bytree': 0.6000000000000001, 'learning_rate': 0.5, 'min_child_weight': 4.0, 'n_estimators': 316, 'subsample': 0.9500000000000001, 'importance_type': 'cover', 'max_depth': 4, 'gamma': 0.8, 'booster': 'gblinear'}\n",
      "\n",
      " 29%|██▉       | 294/1000 [2:24:52<4:11:37, 21.38s/it, best loss: -0.662790697674]\u001b[A"
     ]
    },
    {
     "name": "stderr",
     "output_type": "stream",
     "text": [
      "Hyperopt:  30%|██▉       | 295/1000 [2:24:53<3:33:35, 18.18s/it]"
     ]
    },
    {
     "name": "stdout",
     "output_type": "stream",
     "text": [
      "\n",
      " 30%|██▉       | 295/1000 [2:24:52<3:33:34, 18.18s/it, best loss: -0.662790697674]\u001b[A\n",
      "\u001b[AParameters with this training accuracy 0.703509479629 and loss 0.972445278786 :\n",
      "\n",
      " 30%|██▉       | 295/1000 [2:25:05<3:33:34, 18.18s/it, best loss: -0.662790697674]\u001b[A\n",
      "\u001b[AParameters with this testing accuracy 0.613372093023 and loss 1.20089554691 :\n",
      "\n",
      " 30%|██▉       | 295/1000 [2:25:05<3:33:34, 18.18s/it, best loss: -0.662790697674]\u001b[A\n",
      "\u001b[A{'colsample_bytree': 0.7000000000000001, 'learning_rate': 0.025, 'min_child_weight': 6.0, 'n_estimators': 327, 'subsample': 0.8500000000000001, 'importance_type': 'gain', 'max_depth': 1, 'gamma': 0.7000000000000001, 'booster': 'gbtree'}\n",
      "\n",
      " 30%|██▉       | 295/1000 [2:25:05<3:33:34, 18.18s/it, best loss: -0.662790697674]\u001b[A"
     ]
    },
    {
     "name": "stderr",
     "output_type": "stream",
     "text": [
      "Hyperopt:  30%|██▉       | 296/1000 [2:25:05<3:13:33, 16.50s/it]"
     ]
    },
    {
     "name": "stdout",
     "output_type": "stream",
     "text": [
      "\n",
      " 30%|██▉       | 296/1000 [2:25:05<3:13:33, 16.50s/it, best loss: -0.662790697674]\u001b[A\n",
      "\u001b[AParameters with this training accuracy 0.987091569181 and loss 0.134180649067 :\n",
      "\n",
      " 30%|██▉       | 296/1000 [2:25:26<3:13:33, 16.50s/it, best loss: -0.662790697674]\u001b[A\n",
      "\u001b[AParameters with this testing accuracy 0.645348837209 and loss 1.1956630011 :\n",
      "\n",
      " 30%|██▉       | 296/1000 [2:25:26<3:13:33, 16.50s/it, best loss: -0.662790697674]\u001b[A\n",
      "\u001b[A{'colsample_bytree': 0.65, 'learning_rate': 0.2, 'min_child_weight': 5.0, 'n_estimators': 255, 'subsample': 1.0, 'importance_type': 'cover', 'max_depth': 4, 'gamma': 0.6000000000000001, 'booster': 'gbtree'}\n",
      "\n",
      " 30%|██▉       | 296/1000 [2:25:26<3:13:33, 16.50s/it, best loss: -0.662790697674]\u001b[A"
     ]
    },
    {
     "name": "stderr",
     "output_type": "stream",
     "text": [
      "Hyperopt:  30%|██▉       | 297/1000 [2:25:26<3:28:53, 17.83s/it]"
     ]
    },
    {
     "name": "stdout",
     "output_type": "stream",
     "text": [
      "\n",
      " 30%|██▉       | 297/1000 [2:25:26<3:28:53, 17.83s/it, best loss: -0.662790697674]\u001b[A\n",
      "\u001b[AParameters with this training accuracy 0.991528842275 and loss 0.11462506359 :\n",
      "\n",
      " 30%|██▉       | 297/1000 [2:25:56<3:28:53, 17.83s/it, best loss: -0.662790697674]\u001b[A\n",
      "\u001b[AParameters with this testing accuracy 0.656976744186 and loss 1.18391653787 :\n",
      "\n",
      " 30%|██▉       | 297/1000 [2:25:56<3:28:53, 17.83s/it, best loss: -0.662790697674]\u001b[A\n",
      "\u001b[A{'colsample_bytree': 0.75, 'learning_rate': 0.1, 'min_child_weight': 2.0, 'n_estimators': 252, 'subsample': 0.9, 'importance_type': 'total_cover', 'max_depth': 5, 'gamma': 0.65, 'booster': 'gbtree'}\n",
      "\n",
      " 30%|██▉       | 297/1000 [2:25:56<3:28:53, 17.83s/it, best loss: -0.662790697674]\u001b[A"
     ]
    },
    {
     "name": "stderr",
     "output_type": "stream",
     "text": [
      "Hyperopt:  30%|██▉       | 298/1000 [2:25:57<4:13:39, 21.68s/it]"
     ]
    },
    {
     "name": "stdout",
     "output_type": "stream",
     "text": [
      "\n",
      " 30%|██▉       | 298/1000 [2:25:56<4:13:39, 21.68s/it, best loss: -0.662790697674]\u001b[A\n",
      "\u001b[AParameters with this training accuracy 0.693424768052 and loss 1.21540232038 :\n",
      "\n",
      " 30%|██▉       | 298/1000 [2:25:59<4:13:39, 21.68s/it, best loss: -0.662790697674]\u001b[A\n",
      "\u001b[AParameters with this testing accuracy 0.578488372093 and loss 1.42427406573 :\n",
      "\n",
      " 30%|██▉       | 298/1000 [2:25:59<4:13:39, 21.68s/it, best loss: -0.662790697674]\u001b[A\n",
      "\u001b[A{'colsample_bytree': 0.6000000000000001, 'learning_rate': 0.07500000000000001, 'min_child_weight': 3.0, 'n_estimators': 27, 'subsample': 0.9500000000000001, 'importance_type': 'cover', 'max_depth': 2, 'gamma': 0.75, 'booster': 'dart'}\n",
      "\n",
      " 30%|██▉       | 298/1000 [2:25:59<4:13:39, 21.68s/it, best loss: -0.662790697674]\u001b[A"
     ]
    },
    {
     "name": "stderr",
     "output_type": "stream",
     "text": [
      "Hyperopt:  30%|██▉       | 299/1000 [2:25:59<3:05:50, 15.91s/it]"
     ]
    },
    {
     "name": "stdout",
     "output_type": "stream",
     "text": [
      "\n",
      " 30%|██▉       | 299/1000 [2:25:59<3:05:48, 15.90s/it, best loss: -0.662790697674]\u001b[A\n",
      "\u001b[AParameters with this training accuracy 0.995159338443 and loss 0.0962015219547 :\n",
      "\n",
      " 30%|██▉       | 299/1000 [2:27:02<3:05:48, 15.90s/it, best loss: -0.662790697674]\u001b[A\n",
      "\u001b[AParameters with this testing accuracy 0.630813953488 and loss 1.1957399149 :\n",
      "\n",
      " 30%|██▉       | 299/1000 [2:27:02<3:05:48, 15.90s/it, best loss: -0.662790697674]\u001b[A\n",
      "\u001b[A{'colsample_bytree': 0.8, 'learning_rate': 0.1, 'min_child_weight': 1.0, 'n_estimators': 493, 'subsample': 0.8500000000000001, 'importance_type': 'total_cover', 'max_depth': 5, 'gamma': 0.65, 'booster': 'gbtree'}\n",
      "\n",
      " 30%|██▉       | 299/1000 [2:27:02<3:05:48, 15.90s/it, best loss: -0.662790697674]\u001b[A"
     ]
    },
    {
     "name": "stderr",
     "output_type": "stream",
     "text": [
      "Hyperopt:  30%|███       | 300/1000 [2:27:02<5:49:19, 29.94s/it]"
     ]
    },
    {
     "name": "stdout",
     "output_type": "stream",
     "text": [
      "\n",
      " 30%|███       | 300/1000 [2:27:02<5:49:21, 29.94s/it, best loss: -0.662790697674]\u001b[A\n",
      "\u001b[AParameters with this training accuracy 0.813634530052 and loss 0.976594333725 :\n",
      "\n",
      " 30%|███       | 300/1000 [2:27:12<5:49:21, 29.94s/it, best loss: -0.662790697674]\u001b[A\n",
      "\u001b[AParameters with this testing accuracy 0.625 and loss 1.36728674269 :\n",
      "\n",
      " 30%|███       | 300/1000 [2:27:12<5:49:21, 29.94s/it, best loss: -0.662790697674]\u001b[A\n",
      "\u001b[A{'colsample_bytree': 0.75, 'learning_rate': 0.025, 'min_child_weight': 2.0, 'n_estimators': 76, 'subsample': 0.8, 'importance_type': 'total_cover', 'max_depth': 4, 'gamma': 0.65, 'booster': 'dart'}\n",
      "\n",
      " 30%|███       | 300/1000 [2:27:12<5:49:21, 29.94s/it, best loss: -0.662790697674]\u001b[A"
     ]
    },
    {
     "name": "stderr",
     "output_type": "stream",
     "text": [
      "Hyperopt:  30%|███       | 301/1000 [2:27:12<4:40:17, 24.06s/it]"
     ]
    },
    {
     "name": "stdout",
     "output_type": "stream",
     "text": [
      "\n",
      " 30%|███       | 301/1000 [2:27:12<4:40:16, 24.06s/it, best loss: -0.662790697674]\u001b[A\n",
      "\u001b[AParameters with this training accuracy 0.475594997983 and loss 1.80915453162 :\n",
      "\n",
      " 30%|███       | 301/1000 [2:27:15<4:40:16, 24.06s/it, best loss: -0.662790697674]\u001b[A\n",
      "\u001b[AParameters with this testing accuracy 0.485465116279 and loss 1.80770662968 :\n",
      "\n",
      " 30%|███       | 301/1000 [2:27:15<4:40:16, 24.06s/it, best loss: -0.662790697674]\u001b[A\n",
      "\u001b[A{'colsample_bytree': 0.8, 'learning_rate': 0.05, 'min_child_weight': 2.0, 'n_estimators': 77, 'subsample': 0.8500000000000001, 'importance_type': 'total_cover', 'max_depth': 8, 'gamma': 0.7000000000000001, 'booster': 'gblinear'}\n",
      "\n",
      " 30%|███       | 301/1000 [2:27:15<4:40:16, 24.06s/it, best loss: -0.662790697674]\u001b[A"
     ]
    },
    {
     "name": "stderr",
     "output_type": "stream",
     "text": [
      "Hyperopt:  30%|███       | 302/1000 [2:27:16<3:27:25, 17.83s/it]"
     ]
    },
    {
     "name": "stdout",
     "output_type": "stream",
     "text": [
      "\n",
      " 30%|███       | 302/1000 [2:27:15<3:27:24, 17.83s/it, best loss: -0.662790697674]\u001b[A\n",
      "\u001b[AParameters with this training accuracy 0.995562726906 and loss 0.0987115718818 :\n",
      "\n",
      " 30%|███       | 302/1000 [2:28:02<3:27:24, 17.83s/it, best loss: -0.662790697674]\u001b[A\n",
      "\u001b[AParameters with this testing accuracy 0.627906976744 and loss 1.17058650308 :\n",
      "\n",
      " 30%|███       | 302/1000 [2:28:02<3:27:24, 17.83s/it, best loss: -0.662790697674]\u001b[A\n",
      "\u001b[A{'colsample_bytree': 0.75, 'learning_rate': 0.07500000000000001, 'min_child_weight': 1.0, 'n_estimators': 252, 'subsample': 0.9, 'importance_type': 'total_cover', 'max_depth': 9, 'gamma': 0.65, 'booster': 'gbtree'}\n",
      "\n",
      " 30%|███       | 302/1000 [2:28:02<3:27:24, 17.83s/it, best loss: -0.662790697674]\u001b[A"
     ]
    },
    {
     "name": "stderr",
     "output_type": "stream",
     "text": [
      "Hyperopt:  30%|███       | 303/1000 [2:28:02<5:07:30, 26.47s/it]"
     ]
    },
    {
     "name": "stdout",
     "output_type": "stream",
     "text": [
      "\n",
      " 30%|███       | 303/1000 [2:28:02<5:07:30, 26.47s/it, best loss: -0.662790697674]\u001b[A\n",
      "\u001b[AParameters with this training accuracy 0.98951189996 and loss 0.12187221467 :\n",
      "\n",
      " 30%|███       | 303/1000 [2:28:59<5:07:30, 26.47s/it, best loss: -0.662790697674]\u001b[A\n",
      "\u001b[AParameters with this testing accuracy 0.639534883721 and loss 1.19802934601 :\n",
      "\n",
      " 30%|███       | 303/1000 [2:28:59<5:07:30, 26.47s/it, best loss: -0.662790697674]\u001b[A\n",
      "\u001b[A{'colsample_bytree': 0.8, 'learning_rate': 0.125, 'min_child_weight': 6.0, 'n_estimators': 351, 'subsample': 0.8500000000000001, 'importance_type': 'gain', 'max_depth': 5, 'gamma': 0.6000000000000001, 'booster': 'dart'}\n",
      "\n",
      " 30%|███       | 303/1000 [2:28:59<5:07:30, 26.47s/it, best loss: -0.662790697674]\u001b[A"
     ]
    },
    {
     "name": "stderr",
     "output_type": "stream",
     "text": [
      "Hyperopt:  30%|███       | 304/1000 [2:28:59<6:53:44, 35.67s/it]"
     ]
    },
    {
     "name": "stdout",
     "output_type": "stream",
     "text": [
      "\n",
      " 30%|███       | 304/1000 [2:28:59<6:53:44, 35.67s/it, best loss: -0.662790697674]\u001b[A\n",
      "\u001b[AParameters with this training accuracy 0.936264622832 and loss 0.320368015298 :\n",
      "\n",
      " 30%|███       | 304/1000 [2:29:05<6:53:44, 35.67s/it, best loss: -0.662790697674]\u001b[A\n",
      "\u001b[AParameters with this testing accuracy 0.630813953488 and loss 1.11535396552 :\n",
      "\n",
      " 30%|███       | 304/1000 [2:29:05<6:53:44, 35.67s/it, best loss: -0.662790697674]\u001b[A\n",
      "\u001b[A{'colsample_bytree': 0.75, 'learning_rate': 0.17500000000000002, 'min_child_weight': 4.0, 'n_estimators': 43, 'subsample': 0.9, 'importance_type': 'total_gain', 'max_depth': 5, 'gamma': 0.7000000000000001, 'booster': 'gbtree'}\n",
      "\n",
      " 30%|███       | 304/1000 [2:29:05<6:53:44, 35.67s/it, best loss: -0.662790697674]\u001b[A"
     ]
    },
    {
     "name": "stderr",
     "output_type": "stream",
     "text": [
      "Hyperopt:  30%|███       | 305/1000 [2:29:05<5:10:08, 26.78s/it]"
     ]
    },
    {
     "name": "stdout",
     "output_type": "stream",
     "text": [
      "\n",
      " 30%|███       | 305/1000 [2:29:05<5:10:07, 26.77s/it, best loss: -0.662790697674]\u001b[A\n",
      "\u001b[AParameters with this training accuracy 0.970956030658 and loss 0.208774091196 :\n",
      "\n",
      " 30%|███       | 305/1000 [2:30:28<5:10:07, 26.77s/it, best loss: -0.662790697674]\u001b[A\n",
      "\u001b[AParameters with this testing accuracy 0.633720930233 and loss 1.15269619569 :\n",
      "\n",
      " 30%|███       | 305/1000 [2:30:28<5:10:07, 26.77s/it, best loss: -0.662790697674]\u001b[A\n",
      "\u001b[A{'colsample_bytree': 0.8, 'learning_rate': 0.025, 'min_child_weight': 1.0, 'n_estimators': 429, 'subsample': 0.8500000000000001, 'importance_type': 'total_cover', 'max_depth': 4, 'gamma': 0.65, 'booster': 'dart'}\n",
      "\n",
      " 30%|███       | 305/1000 [2:30:28<5:10:07, 26.77s/it, best loss: -0.662790697674]\u001b[A"
     ]
    },
    {
     "name": "stderr",
     "output_type": "stream",
     "text": [
      "Hyperopt:  31%|███       | 306/1000 [2:30:28<8:24:33, 43.62s/it]"
     ]
    },
    {
     "name": "stdout",
     "output_type": "stream",
     "text": [
      "\n",
      " 31%|███       | 306/1000 [2:30:28<8:24:34, 43.62s/it, best loss: -0.662790697674]\u001b[A\n",
      "\u001b[AParameters with this training accuracy 0.869302137959 and loss 0.507053285422 :\n",
      "\n",
      " 31%|███       | 306/1000 [2:30:41<8:24:34, 43.62s/it, best loss: -0.662790697674]\u001b[A\n",
      "\u001b[AParameters with this testing accuracy 0.627906976744 and loss 1.12885207952 :\n",
      "\n",
      " 31%|███       | 306/1000 [2:30:41<8:24:34, 43.62s/it, best loss: -0.662790697674]\u001b[A\n",
      "\u001b[A{'colsample_bytree': 0.75, 'learning_rate': 0.05, 'min_child_weight': 2.0, 'n_estimators': 215, 'subsample': 0.8, 'importance_type': 'total_cover', 'max_depth': 2, 'gamma': 0.7000000000000001, 'booster': 'gbtree'}\n",
      "\n",
      " 31%|███       | 306/1000 [2:30:41<8:24:34, 43.62s/it, best loss: -0.662790697674]\u001b[A"
     ]
    },
    {
     "name": "stderr",
     "output_type": "stream",
     "text": [
      "Hyperopt:  31%|███       | 307/1000 [2:30:42<6:39:14, 34.57s/it]"
     ]
    },
    {
     "name": "stdout",
     "output_type": "stream",
     "text": [
      "\n",
      " 31%|███       | 307/1000 [2:30:41<6:39:13, 34.57s/it, best loss: -0.662790697674]\u001b[A\n",
      "\u001b[AParameters with this training accuracy 0.984671238403 and loss 0.148234412564 :\n",
      "\n",
      " 31%|███       | 307/1000 [2:31:14<6:39:13, 34.57s/it, best loss: -0.662790697674]\u001b[A\n",
      "\u001b[AParameters with this testing accuracy 0.656976744186 and loss 1.17434826224 :\n",
      "\n",
      " 31%|███       | 307/1000 [2:31:14<6:39:13, 34.57s/it, best loss: -0.662790697674]\u001b[A\n",
      "\u001b[A{'colsample_bytree': 0.7000000000000001, 'learning_rate': 0.07500000000000001, 'min_child_weight': 2.0, 'n_estimators': 441, 'subsample': 0.9, 'importance_type': 'total_cover', 'max_depth': 3, 'gamma': 0.65, 'booster': 'gbtree'}\n",
      "\n",
      " 31%|███       | 307/1000 [2:31:14<6:39:13, 34.57s/it, best loss: -0.662790697674]\u001b[A"
     ]
    },
    {
     "name": "stderr",
     "output_type": "stream",
     "text": [
      "Hyperopt:  31%|███       | 308/1000 [2:31:14<6:30:43, 33.88s/it]"
     ]
    },
    {
     "name": "stdout",
     "output_type": "stream",
     "text": [
      "\n",
      " 31%|███       | 308/1000 [2:31:14<6:30:44, 33.88s/it, best loss: -0.662790697674]\u001b[A\n",
      "\u001b[AParameters with this training accuracy 0.961274707543 and loss 0.230113607948 :\n",
      "\n",
      " 31%|███       | 308/1000 [2:31:40<6:30:44, 33.88s/it, best loss: -0.662790697674]\u001b[A\n",
      "\u001b[AParameters with this testing accuracy 0.636627906977 and loss 1.14054026885 :\n",
      "\n",
      " 31%|███       | 308/1000 [2:31:40<6:30:44, 33.88s/it, best loss: -0.662790697674]\u001b[A\n",
      "\u001b[A{'colsample_bytree': 0.8, 'learning_rate': 0.07500000000000001, 'min_child_weight': 2.0, 'n_estimators': 220, 'subsample': 0.8, 'importance_type': 'total_cover', 'max_depth': 3, 'gamma': 0.65, 'booster': 'dart'}\n",
      "\n",
      " 31%|███       | 308/1000 [2:31:40<6:30:44, 33.88s/it, best loss: -0.662790697674]\u001b[A"
     ]
    },
    {
     "name": "stderr",
     "output_type": "stream",
     "text": [
      "Hyperopt:  31%|███       | 309/1000 [2:31:41<6:05:30, 31.74s/it]"
     ]
    },
    {
     "name": "stdout",
     "output_type": "stream",
     "text": [
      "\n",
      " 31%|███       | 309/1000 [2:31:40<6:05:30, 31.74s/it, best loss: -0.662790697674]\u001b[A\n",
      "\u001b[AParameters with this training accuracy 0.47519160952 and loss 1.78911513284 :\n",
      "\n",
      " 31%|███       | 309/1000 [2:31:46<6:05:30, 31.74s/it, best loss: -0.662790697674]\u001b[A\n",
      "\u001b[AParameters with this testing accuracy 0.485465116279 and loss 1.78734896789 :\n",
      "\n",
      " 31%|███       | 309/1000 [2:31:46<6:05:30, 31.74s/it, best loss: -0.662790697674]\u001b[A\n",
      "\u001b[A{'colsample_bytree': 0.7000000000000001, 'learning_rate': 0.05, 'min_child_weight': 2.0, 'n_estimators': 137, 'subsample': 0.8500000000000001, 'importance_type': 'total_cover', 'max_depth': 3, 'gamma': 0.7000000000000001, 'booster': 'gblinear'}\n",
      "\n",
      " 31%|███       | 309/1000 [2:31:46<6:05:30, 31.74s/it, best loss: -0.662790697674]\u001b[A"
     ]
    },
    {
     "name": "stderr",
     "output_type": "stream",
     "text": [
      "Hyperopt:  31%|███       | 310/1000 [2:31:46<4:33:21, 23.77s/it]"
     ]
    },
    {
     "name": "stdout",
     "output_type": "stream",
     "text": [
      "\n",
      " 31%|███       | 310/1000 [2:31:46<4:33:20, 23.77s/it, best loss: -0.662790697674]\u001b[A\n",
      "\u001b[AParameters with this training accuracy 0.991932230738 and loss 0.101443864436 :\n",
      "\n",
      " 31%|███       | 310/1000 [2:32:16<4:33:20, 23.77s/it, best loss: -0.662790697674]\u001b[A\n",
      "\u001b[AParameters with this testing accuracy 0.616279069767 and loss 1.28944431834 :\n",
      "\n",
      " 31%|███       | 310/1000 [2:32:16<4:33:20, 23.77s/it, best loss: -0.662790697674]\u001b[A\n",
      "\u001b[A{'colsample_bytree': 0.7000000000000001, 'learning_rate': 0.225, 'min_child_weight': 5.0, 'n_estimators': 441, 'subsample': 0.75, 'importance_type': 'cover', 'max_depth': 3, 'gamma': 0.55, 'booster': 'gbtree'}\n",
      "\n",
      " 31%|███       | 310/1000 [2:32:16<4:33:20, 23.77s/it, best loss: -0.662790697674]\u001b[A"
     ]
    },
    {
     "name": "stderr",
     "output_type": "stream",
     "text": [
      "Hyperopt:  31%|███       | 311/1000 [2:32:17<4:56:41, 25.84s/it]"
     ]
    },
    {
     "name": "stdout",
     "output_type": "stream",
     "text": [
      "\n",
      " 31%|███       | 311/1000 [2:32:16<4:56:43, 25.84s/it, best loss: -0.662790697674]\u001b[A\n",
      "\u001b[AParameters with this training accuracy 0.969342476805 and loss 0.202490658963 :\n",
      "\n",
      " 31%|███       | 311/1000 [2:32:21<4:56:43, 25.84s/it, best loss: -0.662790697674]\u001b[A\n",
      "\u001b[AParameters with this testing accuracy 0.622093023256 and loss 1.20916863501 :\n",
      "\n",
      " 31%|███       | 311/1000 [2:32:21<4:56:43, 25.84s/it, best loss: -0.662790697674]\u001b[A\n",
      "\u001b[A{'colsample_bytree': 0.75, 'learning_rate': 0.35000000000000003, 'min_child_weight': 1.0, 'n_estimators': 48, 'subsample': 0.8500000000000001, 'importance_type': 'total_cover', 'max_depth': 3, 'gamma': 0.6000000000000001, 'booster': 'gbtree'}\n",
      "\n",
      " 31%|███       | 311/1000 [2:32:21<4:56:43, 25.84s/it, best loss: -0.662790697674]\u001b[A"
     ]
    },
    {
     "name": "stderr",
     "output_type": "stream",
     "text": [
      "Hyperopt:  31%|███       | 312/1000 [2:32:21<3:43:23, 19.48s/it]"
     ]
    },
    {
     "name": "stdout",
     "output_type": "stream",
     "text": [
      "\n",
      " 31%|███       | 312/1000 [2:32:21<3:43:22, 19.48s/it, best loss: -0.662790697674]\u001b[A\n",
      "\u001b[AParameters with this training accuracy 0.955223880597 and loss 0.246719557258 :\n",
      "\n",
      " 31%|███       | 312/1000 [2:32:40<3:43:22, 19.48s/it, best loss: -0.662790697674]\u001b[A\n",
      "\u001b[AParameters with this testing accuracy 0.636627906977 and loss 1.15289627309 :\n",
      "\n",
      " 31%|███       | 312/1000 [2:32:40<3:43:22, 19.48s/it, best loss: -0.662790697674]\u001b[A\n",
      "\u001b[A{'colsample_bytree': 0.8500000000000001, 'learning_rate': 0.07500000000000001, 'min_child_weight': 2.0, 'n_estimators': 204, 'subsample': 0.9, 'importance_type': 'total_cover', 'max_depth': 3, 'gamma': 0.6000000000000001, 'booster': 'gbtree'}\n",
      "\n",
      " 31%|███       | 312/1000 [2:32:40<3:43:22, 19.48s/it, best loss: -0.662790697674]\u001b[A"
     ]
    },
    {
     "name": "stderr",
     "output_type": "stream",
     "text": [
      "Hyperopt:  31%|███▏      | 313/1000 [2:32:40<3:40:45, 19.28s/it]"
     ]
    },
    {
     "name": "stdout",
     "output_type": "stream",
     "text": [
      "\n",
      " 31%|███▏      | 313/1000 [2:32:40<3:40:45, 19.28s/it, best loss: -0.662790697674]\u001b[A\n",
      "\u001b[AParameters with this training accuracy 0.686970552642 and loss 2.05977506453 :\n",
      "\n",
      " 31%|███▏      | 313/1000 [2:32:42<3:40:45, 19.28s/it, best loss: -0.662790697674]\u001b[A\n",
      "\u001b[AParameters with this testing accuracy 0.575581395349 and loss 2.14700446607 :\n",
      "\n",
      " 31%|███▏      | 313/1000 [2:32:42<3:40:45, 19.28s/it, best loss: -0.662790697674]\u001b[A\n",
      "\u001b[A{'colsample_bytree': 0.55, 'learning_rate': 0.025, 'min_child_weight': 2.0, 'n_estimators': 14, 'subsample': 0.8500000000000001, 'importance_type': 'total_cover', 'max_depth': 3, 'gamma': 0.65, 'booster': 'gbtree'}\n",
      "\n",
      " 31%|███▏      | 313/1000 [2:32:42<3:40:45, 19.28s/it, best loss: -0.662790697674]\u001b[A"
     ]
    },
    {
     "name": "stderr",
     "output_type": "stream",
     "text": [
      "Hyperopt:  31%|███▏      | 314/1000 [2:32:42<2:41:42, 14.14s/it]"
     ]
    },
    {
     "name": "stdout",
     "output_type": "stream",
     "text": [
      "\n",
      " 31%|███▏      | 314/1000 [2:32:42<2:41:41, 14.14s/it, best loss: -0.662790697674]\u001b[A\n",
      "\u001b[AParameters with this training accuracy 0.901573215006 and loss 0.451539723303 :\n",
      "\n",
      " 31%|███▏      | 314/1000 [2:32:48<2:41:41, 14.14s/it, best loss: -0.662790697674]\u001b[A\n",
      "\u001b[AParameters with this testing accuracy 0.616279069767 and loss 1.17883568415 :\n",
      "\n",
      " 31%|███▏      | 314/1000 [2:32:48<2:41:41, 14.14s/it, best loss: -0.662790697674]\u001b[A\n",
      "\u001b[A{'colsample_bytree': 0.65, 'learning_rate': 0.1, 'min_child_weight': 1.0, 'n_estimators': 46, 'subsample': 0.9, 'importance_type': 'total_cover', 'max_depth': 4, 'gamma': 0.7000000000000001, 'booster': 'dart'}\n",
      "\n",
      " 31%|███▏      | 314/1000 [2:32:48<2:41:41, 14.14s/it, best loss: -0.662790697674]\u001b[A"
     ]
    },
    {
     "name": "stderr",
     "output_type": "stream",
     "text": [
      "Hyperopt:  32%|███▏      | 315/1000 [2:32:48<2:12:33, 11.61s/it]"
     ]
    },
    {
     "name": "stdout",
     "output_type": "stream",
     "text": [
      "\n",
      " 32%|███▏      | 315/1000 [2:32:48<2:12:33, 11.61s/it, best loss: -0.662790697674]\u001b[A\n",
      "\u001b[AParameters with this training accuracy 0.970956030658 and loss 0.20255240433 :\n",
      "\n",
      " 32%|███▏      | 315/1000 [2:32:58<2:12:33, 11.61s/it, best loss: -0.662790697674]\u001b[A\n",
      "\u001b[AParameters with this testing accuracy 0.648255813953 and loss 1.14330736148 :\n",
      "\n",
      " 32%|███▏      | 315/1000 [2:32:58<2:12:33, 11.61s/it, best loss: -0.662790697674]\u001b[A\n",
      "\u001b[A{'colsample_bytree': 0.65, 'learning_rate': 0.15000000000000002, 'min_child_weight': 2.0, 'n_estimators': 141, 'subsample': 0.7000000000000001, 'importance_type': 'total_cover', 'max_depth': 3, 'gamma': 0.75, 'booster': 'gbtree'}\n",
      "\n",
      " 32%|███▏      | 315/1000 [2:32:58<2:12:33, 11.61s/it, best loss: -0.662790697674]\u001b[A"
     ]
    },
    {
     "name": "stderr",
     "output_type": "stream",
     "text": [
      "Hyperopt:  32%|███▏      | 316/1000 [2:32:59<2:09:32, 11.36s/it]"
     ]
    },
    {
     "name": "stdout",
     "output_type": "stream",
     "text": [
      "\n",
      " 32%|███▏      | 316/1000 [2:32:58<2:09:33, 11.36s/it, best loss: -0.662790697674]\u001b[A\n",
      "\u001b[AParameters with this training accuracy 0.995562726906 and loss 0.0941570969146 :\n",
      "\n",
      " 32%|███▏      | 316/1000 [2:33:36<2:09:33, 11.36s/it, best loss: -0.662790697674]\u001b[A\n",
      "\u001b[AParameters with this testing accuracy 0.627906976744 and loss 1.19821822171 :\n",
      "\n",
      " 32%|███▏      | 316/1000 [2:33:36<2:09:33, 11.36s/it, best loss: -0.662790697674]\u001b[A\n",
      "\u001b[A{'colsample_bytree': 0.75, 'learning_rate': 0.1, 'min_child_weight': 1.0, 'n_estimators': 308, 'subsample': 0.8, 'importance_type': 'total_cover', 'max_depth': 5, 'gamma': 0.6000000000000001, 'booster': 'gbtree'}\n",
      "\n",
      " 32%|███▏      | 316/1000 [2:33:36<2:09:33, 11.36s/it, best loss: -0.662790697674]\u001b[A"
     ]
    },
    {
     "name": "stderr",
     "output_type": "stream",
     "text": [
      "Hyperopt:  32%|███▏      | 317/1000 [2:33:36<3:38:22, 19.18s/it]"
     ]
    },
    {
     "name": "stdout",
     "output_type": "stream",
     "text": [
      "\n",
      " 32%|███▏      | 317/1000 [2:33:36<3:38:23, 19.18s/it, best loss: -0.662790697674]\u001b[A\n",
      "\u001b[AParameters with this training accuracy 0.992739007664 and loss 0.105511827086 :\n",
      "\n",
      " 32%|███▏      | 317/1000 [2:33:57<3:38:23, 19.18s/it, best loss: -0.662790697674]\u001b[A\n",
      "\u001b[AParameters with this testing accuracy 0.616279069767 and loss 1.31813902099 :\n",
      "\n",
      " 32%|███▏      | 317/1000 [2:33:57<3:38:23, 19.18s/it, best loss: -0.662790697674]\u001b[A\n",
      "\u001b[A{'colsample_bytree': 0.6000000000000001, 'learning_rate': 0.375, 'min_child_weight': 2.0, 'n_estimators': 218, 'subsample': 0.9, 'importance_type': 'total_cover', 'max_depth': 3, 'gamma': 0.65, 'booster': 'dart'}\n",
      "\n",
      " 32%|███▏      | 317/1000 [2:33:57<3:38:23, 19.18s/it, best loss: -0.662790697674]\u001b[A"
     ]
    },
    {
     "name": "stderr",
     "output_type": "stream",
     "text": [
      "Hyperopt:  32%|███▏      | 318/1000 [2:33:57<3:44:58, 19.79s/it]"
     ]
    },
    {
     "name": "stdout",
     "output_type": "stream",
     "text": [
      "\n",
      " 32%|███▏      | 318/1000 [2:33:57<3:44:58, 19.79s/it, best loss: -0.662790697674]\u001b[A\n",
      "\u001b[AParameters with this training accuracy 0.995562726906 and loss 0.0828239081192 :\n",
      "\n",
      " 32%|███▏      | 318/1000 [2:34:47<3:44:58, 19.79s/it, best loss: -0.662790697674]\u001b[A\n"
     ]
    }
   ],
   "source": [
    "import time\n",
    "from tqdm import tqdm\n",
    "import numpy as np\n",
    "\n",
    "trials = Trials()\n",
    "cores = 48\n",
    "start = time.time()\n",
    "evaluations = 1000\n",
    "pbar = tqdm(total=evaluations, desc=\"Hyperopt\")\n",
    "best_param = optimize(evals=evaluations,\n",
    "                      optimizer=tpe.suggest,\n",
    "                      trials=trials)\n",
    "print(\"------------------------------------\")\n",
    "print(\"The best hyperparameters are: \", \"\\n\")\n",
    "print(best_param)\n",
    "end = time.time()\n",
    "print('Time elapsed to optimize {0} executions: {1}'.format(evaluations, end - start))\n",
    "best_param['importance_type'] = importance_type_list[best_param['importance_type']]\n",
    "best_param['booster'] = booster_list[best_param['booster']]\n",
    "best_param['max_depth'] = max_depth_list[best_param['max_depth']]\n",
    "print('\\n Best score:')\n",
    "score(best_param)"
   ]
  },
  {
   "cell_type": "code",
   "execution_count": 24,
   "metadata": {},
   "outputs": [
    {
     "name": "stdout",
     "output_type": "stream",
     "text": [
      "Time elapsed to optimize 1000 executions: 36951.486124\n",
      "\n",
      " Best score:\n",
      "Parameters with this training accuracy 0.988705123033 and loss 0.125064155434 :\n",
      "Parameters with this testing accuracy 0.65988372093 and loss 1.16798332479 :\n",
      "{'colsample_bytree': 0.7000000000000001, 'learning_rate': 0.15000000000000002, 'min_child_weight': 4.0, 'n_estimators': 263, 'subsample': 0.9, 'gamma': 0.65, 'max_depth': 4, 'importance_type': 'cover', 'booster': 'dart'}\n"
     ]
    },
    {
     "data": {
      "text/plain": [
       "{'loss': -0.6598837209302325, 'status': 'ok'}"
      ]
     },
     "execution_count": 24,
     "metadata": {},
     "output_type": "execute_result"
    }
   ],
   "source": [
    "end = time.time()\n",
    "print('Time elapsed to optimize {0} executions: {1}'.format(evaluations, end - start))\n",
    "print('\\n Best score:')\n",
    "score(best_param)"
   ]
  },
  {
   "cell_type": "code",
   "execution_count": 25,
   "metadata": {},
   "outputs": [],
   "source": [
    "# get the best params and train the model\n",
    "xgb_opt = XGBClassifier(n_estimators = best_param['n_estimators'],\n",
    "                          learning_rate = best_param['learning_rate'],\n",
    "                            max_depth = best_param['max_depth'],\n",
    "                            min_child_weight = best_param['min_child_weight'],\n",
    "                            subsample = best_param['subsample'], \n",
    "                            gamma = best_param['gamma'],\n",
    "                            colsample_bytree = best_param['colsample_bytree'],\n",
    "                            importance_type = best_param['importance_type'],\n",
    "                            booster=best_param['booster'],\n",
    "                            objective = \"multi:softprob\",\n",
    "                            n_jobs=24,\n",
    "                            random_state=42,\n",
    "                            silent=True,)\n",
    "\n",
    "eval_set=[(X_train, y_train), (X_val, y_val)]\n",
    "\n",
    "fitted_model = xgb_opt.fit(X=X_train,y=y_train, eval_set=eval_set, verbose=False)"
   ]
  },
  {
   "cell_type": "code",
   "execution_count": 26,
   "metadata": {},
   "outputs": [
    {
     "data": {
      "text/plain": [
       "array([[4.0332701e-02, 5.4047529e-02, 1.6118009e-02, ..., 7.3164374e-02,\n",
       "        2.1498175e-03, 2.9499431e-03],\n",
       "       [9.3397141e-01, 3.0173353e-04, 4.7247863e-04, ..., 3.2371530e-04,\n",
       "        9.3392329e-03, 4.6151257e-03],\n",
       "       [1.4282230e-03, 5.0156745e-03, 7.3491666e-03, ..., 3.2036579e-03,\n",
       "        4.7519775e-03, 1.1454795e-03],\n",
       "       ...,\n",
       "       [6.0856016e-04, 8.9634565e-04, 2.0177320e-03, ..., 6.1735231e-04,\n",
       "        1.1633107e-04, 2.8664328e-04],\n",
       "       [4.5767945e-01, 8.4569061e-04, 5.2112690e-04, ..., 5.4780295e-04,\n",
       "        4.4439502e-02, 6.6446973e-04],\n",
       "       [3.0148372e-01, 4.8518674e-03, 1.3824512e-03, ..., 1.9204329e-03,\n",
       "        3.8238868e-04, 4.3620295e-03]], dtype=float32)"
      ]
     },
     "execution_count": 26,
     "metadata": {},
     "output_type": "execute_result"
    }
   ],
   "source": [
    "y_score = fitted_model.predict_proba(X_test)\n",
    "y_score"
   ]
  },
  {
   "cell_type": "code",
   "execution_count": 27,
   "metadata": {},
   "outputs": [
    {
     "data": {
      "text/plain": [
       "0.6598837209302325"
      ]
     },
     "execution_count": 27,
     "metadata": {},
     "output_type": "execute_result"
    }
   ],
   "source": [
    "test_acc = accuracy_score(y_test, fitted_model.predict(X_test))\n",
    "test_acc"
   ]
  },
  {
   "cell_type": "code",
   "execution_count": null,
   "metadata": {},
   "outputs": [],
   "source": []
  },
  {
   "cell_type": "code",
   "execution_count": 28,
   "metadata": {},
   "outputs": [
    {
     "data": {
      "image/png": "[encoded data removed]",
      "text/plain": [
       "<Figure size 432x288 with 1 Axes>"
      ]
     },
     "metadata": {
      "needs_background": "light"
     },
     "output_type": "display_data"
    }
   ],
   "source": [
    "from matplotlib import pyplot as plt \n",
    "%matplotlib inline \n",
    "x_list =range(len(train_acc_list))\n",
    "\n",
    "plt.plot(x_list, train_acc_list, label='Training accuracy')\n",
    "plt.plot(x_list, test_acc_list, label='Testing accuracy')\n",
    "plt.legend()\n",
    "plt.show()"
   ]
  },
  {
   "cell_type": "code",
   "execution_count": 29,
   "metadata": {},
   "outputs": [
    {
     "data": {
      "image/png": "[encoded data removed]",
      "text/plain": [
       "<Figure size 432x288 with 1 Axes>"
      ]
     },
     "metadata": {
      "needs_background": "light"
     },
     "output_type": "display_data"
    }
   ],
   "source": [
    "plt.plot(x_list, train_loss_list, label='Training loss')\n",
    "plt.plot(x_list, test_loss_list, label='Testing loss')\n",
    "plt.legend()\n",
    "plt.show()"
   ]
  },
  {
   "cell_type": "code",
   "execution_count": null,
   "metadata": {},
   "outputs": [],
   "source": []
  },
  {
   "cell_type": "code",
   "execution_count": null,
   "metadata": {},
   "outputs": [],
   "source": []
  }
 ],
 "metadata": {
  "kernelspec": {
   "display_name": "Python 2",
   "language": "python",
   "name": "python2"
  },
  "language_info": {
   "codemirror_mode": {
    "name": "ipython",
    "version": 2
   },
   "file_extension": ".py",
   "mimetype": "text/x-python",
   "name": "python",
   "nbconvert_exporter": "python",
   "pygments_lexer": "ipython2",
   "version": "2.7.15"
  }
 },
 "nbformat": 4,
 "nbformat_minor": 2
}

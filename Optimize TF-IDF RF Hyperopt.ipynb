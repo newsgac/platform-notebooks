{
 "cells": [
  {
   "cell_type": "code",
   "execution_count": null,
   "metadata": {},
   "outputs": [],
   "source": [
    "# import sys\n",
    "# !{sys.executable} -m pip install imbalanced-learn --user\n",
    "# !{sys.executable} -m pip install hyperopt --user"
   ]
  },
  {
   "cell_type": "code",
   "execution_count": 1,
   "metadata": {},
   "outputs": [
    {
     "name": "stdout",
     "output_type": "stream",
     "text": [
      "[nltk_data] Downloading package punkt to /home/newsgac/nltk_data...\n",
      "[nltk_data]   Package punkt is already up-to-date!\n"
     ]
    },
    {
     "data": {
      "text/plain": [
       "True"
      ]
     },
     "execution_count": 1,
     "metadata": {},
     "output_type": "execute_result"
    }
   ],
   "source": [
    "import numpy\n",
    "from time import time\n",
    "from sklearn.model_selection import GridSearchCV\n",
    "from hyperopt import tpe, fmin, hp, STATUS_OK, Trials\n",
    "from sklearn.metrics import accuracy_score, log_loss\n",
    "from sklearn.model_selection import train_test_split\n",
    "from copy import deepcopy\n",
    "\n",
    "from newsgac import config\n",
    "from newsgac.genres import genre_codes\n",
    "from newsgac.learners import learners, LearnerSVC, LearnerNB, LearnerXGB, LearnerGB, LearnerMLP, LearnerRF, LearnerLGBM\n",
    "from newsgac.pipelines.get_sk_pipeline import get_sk_pipeline\n",
    "from newsgac.pipelines.utils import report\n",
    "from sklearn.ensemble import RandomForestClassifier\n",
    "\n",
    "\n",
    "from newsgac import database\n",
    "from newsgac.data_sources import DataSource\n",
    "from newsgac.pipelines import Pipeline\n",
    "\n",
    "# from imblearn.under_sampling import RandomUnderSampler\n",
    "# from imblearn.over_sampling import RandomOverSampler, SMOTE, ADASYN\n",
    "# from imblearn.combine import SMOTEENN, SMOTETomek\n",
    "import numpy as np\n",
    "import nltk\n",
    "nltk.download('punkt')"
   ]
  },
  {
   "cell_type": "code",
   "execution_count": 2,
   "metadata": {},
   "outputs": [
    {
     "data": {
      "text/plain": [
       "[u'N2BGS Training',\n",
       " u'N2BGS Testing',\n",
       " u'Linked NRC (2930)',\n",
       " u'BOW + 5 features (N2BGS train)',\n",
       " u'BOW + 5 features (N2BGS test)',\n",
       " u'nrc-1950-1994-a.txt',\n",
       " u'nrc-1950-1994-b.txt',\n",
       " u'nrc-1950-1994-c.txt',\n",
       " u'nrc-1950-1994-d.txt',\n",
       " u'nrc-1950-1994-e.txt',\n",
       " u'telegraaf-1950-1994-a.txt',\n",
       " u'telegraaf-1950-1994-b.txt',\n",
       " u'telegraaf-1950-1994-c.txt',\n",
       " u'telegraaf-1950-1994-d.txt',\n",
       " u'telegraaf-1950-1994-e.txt',\n",
       " u'volkskrant-1950-1995-a.txt',\n",
       " u'volkskrant-1950-1995-b.txt',\n",
       " u'volkskrant-1950-1995-c.txt',\n",
       " u'volkskrant-1950-1995-d.txt',\n",
       " u'volkskrant-1950-1995-e.txt',\n",
       " u'nrc-1965.txt',\n",
       " u'nrc-1985.txt',\n",
       " u'BOW + 9 features (N2BGS train)',\n",
       " u'BOW + 9 features (N2BGS test)',\n",
       " u'Linked NRC (2930/9 features)',\n",
       " u'BOW Train unique (9 features)',\n",
       " u'BOW Test unique (9 features)',\n",
       " u'Linked NRC (unique/9 features)',\n",
       " u'BOW Train unique (N3BGS/9 features)',\n",
       " u'N3BGS FROG Test',\n",
       " u'N3BGS FROG Train',\n",
       " u'BOW Test unique (N3BGS/9 features)',\n",
       " u'BOW Test unique (N3BGS/9 features/collapsed)',\n",
       " u'Linked NRC (2930 articles)',\n",
       " u'Combined N3BGS/Linked NRC (3884)',\n",
       " u'2019 N3BGS Test',\n",
       " u'2019 N3BGS Train',\n",
       " u'AAOB',\n",
       " u'20190228 unbalanced train size=3443',\n",
       " u'20190228 unbalanced test size=3443']"
      ]
     },
     "execution_count": 2,
     "metadata": {},
     "output_type": "execute_result"
    }
   ],
   "source": [
    "[d.display_title for d in DataSource.objects.all()]"
   ]
  },
  {
   "cell_type": "code",
   "execution_count": 3,
   "metadata": {},
   "outputs": [
    {
     "data": {
      "text/plain": [
       "[u'dummy frog',\n",
       " u'dummy bow',\n",
       " u'RF FROG',\n",
       " u'SVC FROG',\n",
       " u'XGB FROG',\n",
       " u'NB FROG',\n",
       " u'MLP FROG',\n",
       " u'RF BOW',\n",
       " u'SVC BOW',\n",
       " u'XGB BOW',\n",
       " u'NB BOW',\n",
       " u'MLP BOW',\n",
       " u'SVC LIN BOW',\n",
       " u'Erik MLP BOW (with stop-words)',\n",
       " u'Erik MLP BOW (5 features) ',\n",
       " u'Erik MLP BOW (9 features) ',\n",
       " u'Erik SVC BOW (9 features)',\n",
       " u'Erik RF BOW (9 features)',\n",
       " u'Erik XGB BOW (9 features)',\n",
       " u'Erik NB BOW (9 features)',\n",
       " u'Erik MLP unique 9 features',\n",
       " u'Erik NB unique (9 features)',\n",
       " u'Erik XGB unique (9 features)',\n",
       " u'Erik SVC unique (9 features)',\n",
       " u'Erik RF unique (9 features)',\n",
       " u'N3BGS MLP unique 9 features',\n",
       " u'N3BGS NB unique 9 features ',\n",
       " u'N3BGS SVC unique 9 features ',\n",
       " u'N3BGS RF unique 9 features',\n",
       " u'N3BGS XGB unique 9 features ',\n",
       " u'dummy n3bgs bow',\n",
       " u'dummy n3bgs frog',\n",
       " u'RF FROG N3BGS',\n",
       " u'SVC FROG N3BGS',\n",
       " u'XGB FROG N3BGS',\n",
       " u'Erik NB N3BGS Collapsed',\n",
       " u'Erik MLP N3BGS Collapsed',\n",
       " u'Erik MLP Linked NRC (2930 articles)',\n",
       " u'Erik RF Linked NRC (2930 articles) ',\n",
       " u'Erik NB Linked NRC (2930 articles) ',\n",
       " u'Erik SVC Linked NRC (2930 articles) ',\n",
       " u'Erik XGB Linked NRC (2930 articles) ',\n",
       " u'SVC BOW Combined',\n",
       " u'NB FROG N3BGS',\n",
       " u'MLP FROG N3BGS',\n",
       " u'RF BOW NBGS',\n",
       " u'SVC BOW N3BGS',\n",
       " u'XGB BOW N3BGS',\n",
       " u'NB BOW N3BGS',\n",
       " u'MLP BOW N3BGS',\n",
       " u'KIM N3BGS FROG and TF-IDF',\n",
       " u'KIM N3BGS MLP Combi features',\n",
       " u'KIM N3BGS RF COMBI',\n",
       " u'KIM N3BGS SVM COMBI (copy)',\n",
       " u'KIM N3BGS XGB COMBI',\n",
       " u'20190228 SVM',\n",
       " u'20190228 SVC no stop words',\n",
       " u'20190228 SVC no stop words, lowercased',\n",
       " u'dummy combi for opt',\n",
       " u'dummy combi for opt ugs',\n",
       " u'new dummy ugs opt',\n",
       " u'new dummy bgs opt',\n",
       " u'dummy opt frog bgs',\n",
       " u'dummy bow opt bgs',\n",
       " u'dummy frog ugs opt',\n",
       " u'dummy bow opt ugs']"
      ]
     },
     "execution_count": 3,
     "metadata": {},
     "output_type": "execute_result"
    }
   ],
   "source": [
    "[d.display_title for d in Pipeline.objects.all()]"
   ]
  },
  {
   "cell_type": "code",
   "execution_count": 4,
   "metadata": {},
   "outputs": [
    {
     "name": "stdout",
     "output_type": "stream",
     "text": [
      "DataSource: 20190228 unbalanced train size=3443\n",
      "NLP Tool: TF-IDF\n",
      "Classifier: Light GBM\n",
      "Task status: Status.SUCCESS\n"
     ]
    }
   ],
   "source": [
    "p = Pipeline.objects.all()[65]\n",
    "print 'DataSource: ' + p.data_source.display_title\n",
    "print 'NLP Tool: ' + p.nlp_tool.name\n",
    "print 'Classifier: ' + p.learner.name\n",
    "print 'Task status: ' + str(p.task.status)"
   ]
  },
  {
   "cell_type": "code",
   "execution_count": 5,
   "metadata": {},
   "outputs": [
    {
     "data": {
      "text/plain": [
       "3099"
      ]
     },
     "execution_count": 5,
     "metadata": {},
     "output_type": "execute_result"
    }
   ],
   "source": [
    "len(p.data_source.articles)"
   ]
  },
  {
   "cell_type": "code",
   "execution_count": 6,
   "metadata": {},
   "outputs": [
    {
     "name": "stdout",
     "output_type": "stream",
     "text": [
      "Testing data source: 20190228 unbalanced test size=3443\n"
     ]
    }
   ],
   "source": [
    "test_data_source = DataSource.objects.all()[39]\n",
    "print 'Testing data source: ' + test_data_source.display_title"
   ]
  },
  {
   "cell_type": "code",
   "execution_count": 7,
   "metadata": {},
   "outputs": [
    {
     "data": {
      "text/plain": [
       "[('CleanOCR', <newsgac.nlp_tools.transformers.CleanOCR at 0x7f3a9079f890>),\n",
       " ('StopWordRemoval',\n",
       "  <newsgac.nlp_tools.transformers.StopWordRemoval at 0x7f3a9079f8d0>),\n",
       " ('FeatureExtraction', FeatureUnion(n_jobs=None,\n",
       "         transformer_list=[('TFIDF', Pipeline(memory=None,\n",
       "       steps=[('RemoveQuotes', <newsgac.nlp_tools.transformers.RemoveQuotes object at 0x7f3a9079f9d0>), ('TF-IDF', TfidfVectorizer(analyzer=u'word', binary=False, decode_error=u'strict',\n",
       "          dtype=<type 'numpy.float64'>, encoding=u'utf-8', input=u'content',\n",
       "          lowercase=True, max_df=1.0, max_featu...        token_pattern=u'(?u)\\\\b\\\\w\\\\w+\\\\b', tokenizer=None, use_idf=True,\n",
       "          vocabulary=None))]))],\n",
       "         transformer_weights=None)),\n",
       " ('RobustScaler',\n",
       "  RobustScaler(copy=True, quantile_range=(25.0, 75.0), with_centering=False,\n",
       "         with_scaling=True))]"
      ]
     },
     "execution_count": 7,
     "metadata": {},
     "output_type": "execute_result"
    }
   ],
   "source": [
    "skp = p.get_sk_pipeline()\n",
    "skp_opt = deepcopy(skp)\n",
    "skp_opt.steps.pop()\n",
    "skp_opt.steps"
   ]
  },
  {
   "cell_type": "code",
   "execution_count": 8,
   "metadata": {},
   "outputs": [],
   "source": [
    "texts = numpy.array([article.raw_text for article in p.data_source.articles])\n",
    "labels = numpy.array([article.label for article in p.data_source.articles])\n",
    "\n",
    "X = skp_opt.fit_transform(texts)"
   ]
  },
  {
   "cell_type": "code",
   "execution_count": 9,
   "metadata": {},
   "outputs": [],
   "source": [
    "# get the test dataset for optimization accuracy\n",
    "texts_test = numpy.array([article.raw_text for article in test_data_source.articles])\n",
    "labels_test = numpy.array([article.label for article in test_data_source.articles])\n",
    "\n",
    "X_test = skp_opt.transform(texts_test)"
   ]
  },
  {
   "cell_type": "code",
   "execution_count": 10,
   "metadata": {},
   "outputs": [],
   "source": [
    "X_train = X\n",
    "y_train = labels\n",
    "y_test = labels_test"
   ]
  },
  {
   "cell_type": "code",
   "execution_count": 11,
   "metadata": {},
   "outputs": [
    {
     "data": {
      "text/plain": [
       "(344,)"
      ]
     },
     "execution_count": 11,
     "metadata": {},
     "output_type": "execute_result"
    }
   ],
   "source": [
    "y_test.shape"
   ]
  },
  {
   "cell_type": "code",
   "execution_count": 12,
   "metadata": {},
   "outputs": [],
   "source": [
    "criterion_list = ['gini', 'entropy']\n",
    "n_estimators_list = np.arange(1, 1000, 1, dtype=int)\n",
    "max_features_list = np.arange(1, X_train.shape[1], 1, dtype=int) \n",
    "max_depth_list = np.arange(1, 50, 1, dtype=int) \n",
    "min_samples_split_list = np.arange(10, 100, 10, dtype=int)\n",
    "min_samples_leaf_list = np.arange(1, 30, 1, dtype=int)\n",
    "max_leaf_nodes_list = np.arange(10, 30, 2, dtype=int)\n",
    "class_weights = [None, 'balanced']\n",
    "bootstrap_list =[True, False]\n"
   ]
  },
  {
   "cell_type": "code",
   "execution_count": 13,
   "metadata": {},
   "outputs": [],
   "source": [
    "def optimize(evals, trials, optimizer=tpe.suggest):\n",
    "    space = {\n",
    "        'criterion': hp.choice('criterion', criterion_list),\n",
    "        'n_estimators': hp.choice('n_estimators', n_estimators_list),\n",
    "        'max_features': hp.choice('max_features', max_features_list),\n",
    "        'max_depth': hp.choice('max_depth', max_depth_list),\n",
    "        'min_samples_split': hp.choice('min_samples_split', min_samples_split_list),\n",
    "        'min_samples_leaf': hp.choice('min_samples_leaf', min_samples_leaf_list),\n",
    "        'max_leaf_nodes': hp.choice('max_leaf_nodes', max_leaf_nodes_list),\n",
    "        'class_weight': hp.choice('class_weight', class_weights),\n",
    "        'bootstrap': hp.choice('bootstrap', bootstrap_list)\n",
    "    }\n",
    "    best = fmin(score, space, algo=optimizer, max_evals=evals, trials=trials)\n",
    "    pbar.close()\n",
    "    return best"
   ]
  },
  {
   "cell_type": "code",
   "execution_count": 14,
   "metadata": {},
   "outputs": [],
   "source": [
    "# def train_test_split_w_sampling(X, y, sampling_method, test_size):\n",
    "#     if sampling_method == 'under-sampling':\n",
    "#         random_under_sampler = RandomUnderSampler(ratio='majority', random_state=0)\n",
    "#         X, y = random_under_sampler.fit_sample(X, y)\n",
    "\n",
    "#         X_train, X_test, y_train, y_test = train_test_split(X, y, test_size=test_size, random_state=0)\n",
    "\n",
    "#         return X_train, X_test, y_train, y_test\n",
    "#     elif sampling_method == 'over-sampling':\n",
    "#         X_train, X_test, y_train, y_test = train_test_split(X, y, test_size=test_size, random_state=0)\n",
    "\n",
    "#         random_over_sampler = RandomOverSampler(ratio='minority', random_state=0)\n",
    "#         X_train, y_train = random_over_sampler.fit_sample(X_train, y_train)\n",
    "\n",
    "#         return X_train, X_test, y_train, y_test\n",
    "#     elif sampling_method == 'smote':\n",
    "#         X_train, X_test, y_train, y_test = train_test_split(X, y, test_size=test_size, random_state=0)\n",
    "\n",
    "#         smote = SMOTE(random_state=0, n_jobs=6)\n",
    "#         X_train, y_train = smote.fit_sample(X_train, y_train)\n",
    "        \n",
    "#         return X_train, X_test, y_train, y_test\n",
    "#     elif sampling_method == 'smote_enn':\n",
    "#         X_train, X_test, y_train, y_test = train_test_split(X, y, test_size=test_size, random_state=0)\n",
    "\n",
    "#         smote_enn = SMOTEENN(random_state=0)\n",
    "#         X_train, y_train = smote_enn.fit_sample(X_train, y_train)\n",
    "        \n",
    "#         return X_train, X_test, y_train, y_test\n",
    "#     elif sampling_method == 'smote_tomek':\n",
    "#         X_train, X_test, y_train, y_test = train_test_split(X, y, test_size=test_size, random_state=0)\n",
    "\n",
    "#         smote_tomek = SMOTETomek(random_state=0)\n",
    "#         X_train, y_train = smote_tomek.fit_sample(X_train, y_train)\n",
    "        \n",
    "#         return X_train, X_test, y_train, y_test\n",
    "#     else:\n",
    "#         X_train, X_test, y_train, y_test = train_test_split(X, y, test_size=test_size, random_state=0)\n",
    "        \n",
    "#         return X_train, X_test, y_train, y_test"
   ]
  },
  {
   "cell_type": "code",
   "execution_count": 15,
   "metadata": {},
   "outputs": [],
   "source": [
    "# X_train, X_test, y_train, y_test = train_test_split_w_sampling(X, labels, 'no sampling', 0.1)\n",
    "# X_train, X_test, y_train, y_test = train_test_split_w_sampling(X, labels, 'under-sampling', 0.33)"
   ]
  },
  {
   "cell_type": "code",
   "execution_count": 16,
   "metadata": {},
   "outputs": [],
   "source": [
    "train_acc_list = []\n",
    "train_loss_list = []\n",
    "test_acc_list = []\n",
    "test_loss_list = []\n",
    "\n",
    "def score(params):\n",
    "    criterion = params['criterion']\n",
    "    n_estimators = params['n_estimators']\n",
    "    max_features = params['max_features']\n",
    "    max_depth = params['max_depth']\n",
    "    min_samples_split = params['min_samples_split']\n",
    "    min_samples_leaf = params['min_samples_leaf']\n",
    "    max_leaf_nodes = params['max_leaf_nodes']\n",
    "    class_weight = params['class_weight']\n",
    "    bootstrap = params['bootstrap']\n",
    "    \n",
    "    model = RandomForestClassifier(criterion=criterion, n_estimators=n_estimators, max_features=max_features,\n",
    "                                  max_depth=max_depth, min_samples_split=min_samples_split, min_samples_leaf=min_samples_leaf,\n",
    "                                  max_leaf_nodes=max_leaf_nodes, class_weight=class_weight, bootstrap=bootstrap,\n",
    "                                  random_state=42, n_jobs=48)\n",
    "#     model = RandomForestClassifier(criterion=criterion)\n",
    "    \n",
    "    model.fit(X_train, y_train)\n",
    "    labels_prediction = model.predict(X_test)\n",
    "    labels_probs = model.predict_proba(X_test)\n",
    "    train_acc = accuracy_score(y_train, model.predict(X_train))\n",
    "    train_loss = log_loss(y_train, model.predict_proba(X_train))\n",
    "    test_acc = accuracy_score(y_test, labels_prediction)\n",
    "    test_loss = log_loss(y_test, labels_probs)\n",
    "    \n",
    "    train_acc_list.append(train_acc)\n",
    "    train_loss_list.append(train_loss)\n",
    "    test_acc_list.append(test_acc)\n",
    "    test_loss_list.append(test_loss)\n",
    "    \n",
    "    print('Parameters with this training accuracy {} and loss {} :'.format(train_acc, train_loss))\n",
    "    print('Parameters with this testing accuracy {} and loss {} :'.format(test_acc, test_loss))\n",
    "    print(params)\n",
    "    pbar.update()\n",
    "#     return {'loss': test_loss, 'status': STATUS_OK}\n",
    "    return {'loss': -test_acc, 'status': STATUS_OK}"
   ]
  },
  {
   "cell_type": "code",
   "execution_count": null,
   "metadata": {
    "scrolled": true
   },
   "outputs": [
    {
     "name": "stderr",
     "output_type": "stream",
     "text": [
      "Hyperopt:   0%|          | 0/1000 [00:00<?, ?it/s]"
     ]
    },
    {
     "name": "stdout",
     "output_type": "stream",
     "text": [
      "\n",
      "  0%|          | 0/1000 [00:00<?, ?it/s, best loss: ?]\u001b[A\n",
      "\u001b[AParameters with this training accuracy 0.257502420136 and loss 2.06310038833 :\n",
      "\n",
      "  0%|          | 0/1000 [00:14<?, ?it/s, best loss: ?]\u001b[A\n",
      "\u001b[AParameters with this testing accuracy 0.191860465116 and loss 2.17972585961 :\n",
      "\n",
      "  0%|          | 0/1000 [00:14<?, ?it/s, best loss: ?]\u001b[A\n",
      "\u001b[A{'max_leaf_nodes': 18, 'bootstrap': True, 'min_samples_leaf': 22, 'n_estimators': 725, 'max_features': 14210, 'criterion': 'entropy', 'min_samples_split': 30, 'max_depth': 6, 'class_weight': 'balanced'}\n",
      "\n",
      "  0%|          | 0/1000 [00:14<?, ?it/s, best loss: ?]\u001b[A"
     ]
    },
    {
     "name": "stderr",
     "output_type": "stream",
     "text": [
      "Hyperopt:   0%|          | 1/1000 [00:24<6:53:59, 24.86s/it]"
     ]
    },
    {
     "name": "stdout",
     "output_type": "stream",
     "text": [
      "\n",
      "  0%|          | 1/1000 [00:14<3:59:33, 14.39s/it, best loss: -0.191860465116]\u001b[A\n",
      "\u001b[AParameters with this training accuracy 0.212326556954 and loss 2.12557894738 :\n",
      "\n",
      "  0%|          | 1/1000 [00:47<3:59:33, 14.39s/it, best loss: -0.191860465116]\u001b[A\n",
      "\u001b[AParameters with this testing accuracy 0.156976744186 and loss 2.38662736599 :\n",
      "\n",
      "  0%|          | 1/1000 [00:47<3:59:33, 14.39s/it, best loss: -0.191860465116]\u001b[A\n",
      "\u001b[A{'max_leaf_nodes': 22, 'bootstrap': False, 'min_samples_leaf': 28, 'n_estimators': 984, 'max_features': 26116, 'criterion': 'entropy', 'min_samples_split': 70, 'max_depth': 48, 'class_weight': 'balanced'}\n",
      "\n",
      "  0%|          | 1/1000 [00:47<3:59:33, 14.39s/it, best loss: -0.191860465116]\u001b[A"
     ]
    },
    {
     "name": "stderr",
     "output_type": "stream",
     "text": [
      "Hyperopt:   0%|          | 2/1000 [00:57<7:32:33, 27.21s/it]"
     ]
    },
    {
     "name": "stdout",
     "output_type": "stream",
     "text": [
      "\n",
      "  0%|          | 2/1000 [00:47<5:30:35, 19.88s/it, best loss: -0.191860465116]\u001b[A\n",
      "\u001b[AParameters with this training accuracy 0.55727654082 and loss 1.34691377823 :\n",
      "\n",
      "  0%|          | 2/1000 [01:23<5:30:35, 19.88s/it, best loss: -0.191860465116]\u001b[A\n",
      "\u001b[AParameters with this testing accuracy 0.53488372093 and loss 1.43638939093 :\n",
      "\n",
      "  0%|          | 2/1000 [01:23<5:30:35, 19.88s/it, best loss: -0.191860465116]\u001b[A\n",
      "\u001b[A{'max_leaf_nodes': 22, 'bootstrap': False, 'min_samples_leaf': 1, 'n_estimators': 907, 'max_features': 14275, 'criterion': 'entropy', 'min_samples_split': 80, 'max_depth': 37, 'class_weight': None}\n",
      "\n",
      "  0%|          | 2/1000 [01:23<5:30:35, 19.88s/it, best loss: -0.191860465116]\u001b[A"
     ]
    },
    {
     "name": "stderr",
     "output_type": "stream",
     "text": [
      "Hyperopt:   0%|          | 3/1000 [01:33<8:15:59, 29.85s/it]"
     ]
    },
    {
     "name": "stdout",
     "output_type": "stream",
     "text": [
      "\n",
      "  0%|          | 3/1000 [01:23<6:50:42, 24.72s/it, best loss: -0.53488372093] \u001b[A\n",
      "\u001b[AParameters with this training accuracy 0.313326879639 and loss 2.0155632579 :\n",
      "\n",
      "  0%|          | 3/1000 [01:28<6:50:42, 24.72s/it, best loss: -0.53488372093]\u001b[A\n",
      "\u001b[AParameters with this testing accuracy 0.244186046512 and loss 2.12279319157 :\n",
      "\n",
      "  0%|          | 3/1000 [01:28<6:50:42, 24.72s/it, best loss: -0.53488372093]\u001b[A\n",
      "\u001b[A{'max_leaf_nodes': 22, 'bootstrap': True, 'min_samples_leaf': 16, 'n_estimators': 64, 'max_features': 5123, 'criterion': 'entropy', 'min_samples_split': 80, 'max_depth': 11, 'class_weight': 'balanced'}\n",
      "\n",
      "  0%|          | 3/1000 [01:28<6:50:42, 24.72s/it, best loss: -0.53488372093]\u001b[A"
     ]
    },
    {
     "name": "stderr",
     "output_type": "stream",
     "text": [
      "Hyperopt:   0%|          | 4/1000 [01:38<6:13:23, 22.49s/it]"
     ]
    },
    {
     "name": "stdout",
     "output_type": "stream",
     "text": [
      "\n",
      "  0%|          | 4/1000 [01:28<5:13:43, 18.90s/it, best loss: -0.53488372093]\u001b[A\n",
      "\u001b[AParameters with this training accuracy 0.511132623427 and loss 1.48850060398 :\n",
      "\n",
      "  0%|          | 4/1000 [01:38<5:13:43, 18.90s/it, best loss: -0.53488372093]\u001b[A\n",
      "\u001b[AParameters with this testing accuracy 0.523255813953 and loss 1.50722415945 :\n",
      "\n",
      "  0%|          | 4/1000 [01:38<5:13:43, 18.90s/it, best loss: -0.53488372093]\u001b[A\n",
      "\u001b[A{'max_leaf_nodes': 12, 'bootstrap': False, 'min_samples_leaf': 25, 'n_estimators': 676, 'max_features': 3938, 'criterion': 'entropy', 'min_samples_split': 60, 'max_depth': 5, 'class_weight': None}\n",
      "\n",
      "  0%|          | 4/1000 [01:38<5:13:43, 18.90s/it, best loss: -0.53488372093]\u001b[A"
     ]
    },
    {
     "name": "stderr",
     "output_type": "stream",
     "text": [
      "Hyperopt:   0%|          | 5/1000 [01:48<5:11:07, 18.76s/it]"
     ]
    },
    {
     "name": "stdout",
     "output_type": "stream",
     "text": [
      "\n",
      "  0%|          | 5/1000 [01:38<4:29:25, 16.25s/it, best loss: -0.53488372093]\u001b[A\n",
      "\u001b[AParameters with this training accuracy 0.262665375928 and loss 2.05230433287 :\n",
      "\n",
      "  0%|          | 5/1000 [01:46<4:29:25, 16.25s/it, best loss: -0.53488372093]\u001b[A\n",
      "\u001b[AParameters with this testing accuracy 0.200581395349 and loss 2.17074979045 :\n",
      "\n",
      "  0%|          | 5/1000 [01:46<4:29:25, 16.25s/it, best loss: -0.53488372093]\u001b[A\n",
      "\u001b[A{'max_leaf_nodes': 18, 'bootstrap': False, 'min_samples_leaf': 24, 'n_estimators': 411, 'max_features': 10413, 'criterion': 'gini', 'min_samples_split': 10, 'max_depth': 38, 'class_weight': 'balanced'}\n",
      "\n",
      "  0%|          | 5/1000 [01:46<4:29:25, 16.25s/it, best loss: -0.53488372093]\u001b[A"
     ]
    },
    {
     "name": "stderr",
     "output_type": "stream",
     "text": [
      "Hyperopt:   1%|          | 6/1000 [01:56<4:16:11, 15.46s/it]"
     ]
    },
    {
     "name": "stdout",
     "output_type": "stream",
     "text": [
      "\n",
      "  1%|          | 6/1000 [01:46<3:47:01, 13.70s/it, best loss: -0.53488372093]\u001b[A\n",
      "\u001b[AParameters with this training accuracy 0.336237495966 and loss 1.93152366687 :\n",
      "\n",
      "  1%|          | 6/1000 [02:04<3:47:01, 13.70s/it, best loss: -0.53488372093]\u001b[A\n",
      "\u001b[AParameters with this testing accuracy 0.238372093023 and loss 2.0866599328 :\n",
      "\n",
      "  1%|          | 6/1000 [02:04<3:47:01, 13.70s/it, best loss: -0.53488372093]\u001b[A\n",
      "\u001b[A{'max_leaf_nodes': 24, 'bootstrap': True, 'min_samples_leaf': 19, 'n_estimators': 812, 'max_features': 26039, 'criterion': 'gini', 'min_samples_split': 10, 'max_depth': 44, 'class_weight': 'balanced'}\n",
      "\n",
      "  1%|          | 6/1000 [02:04<3:47:01, 13.70s/it, best loss: -0.53488372093]\u001b[A"
     ]
    },
    {
     "name": "stderr",
     "output_type": "stream",
     "text": [
      "Hyperopt:   1%|          | 7/1000 [02:14<4:29:37, 16.29s/it]"
     ]
    },
    {
     "name": "stdout",
     "output_type": "stream",
     "text": [
      "\n",
      "  1%|          | 7/1000 [02:04<4:09:13, 15.06s/it, best loss: -0.53488372093]\u001b[A\n",
      "\u001b[AParameters with this training accuracy 0.521458535011 and loss 1.43275008058 :\n",
      "\n",
      "  1%|          | 7/1000 [02:13<4:09:13, 15.06s/it, best loss: -0.53488372093]\u001b[A\n",
      "\u001b[AParameters with this testing accuracy 0.517441860465 and loss 1.4737802709 :\n",
      "\n",
      "  1%|          | 7/1000 [02:13<4:09:13, 15.06s/it, best loss: -0.53488372093]\u001b[A\n",
      "\u001b[A{'max_leaf_nodes': 16, 'bootstrap': True, 'min_samples_leaf': 24, 'n_estimators': 655, 'max_features': 3793, 'criterion': 'entropy', 'min_samples_split': 90, 'max_depth': 19, 'class_weight': None}\n",
      "\n",
      "  1%|          | 7/1000 [02:13<4:09:13, 15.06s/it, best loss: -0.53488372093]\u001b[A"
     ]
    },
    {
     "name": "stderr",
     "output_type": "stream",
     "text": [
      "Hyperopt:   1%|          | 8/1000 [02:23<3:52:46, 14.08s/it]"
     ]
    },
    {
     "name": "stdout",
     "output_type": "stream",
     "text": [
      "\n",
      "  1%|          | 8/1000 [02:13<3:38:30, 13.22s/it, best loss: -0.53488372093]\u001b[A\n",
      "\u001b[AParameters with this training accuracy 0.535011293966 and loss 1.45468697207 :\n",
      "\n",
      "  1%|          | 8/1000 [02:23<3:38:30, 13.22s/it, best loss: -0.53488372093]\u001b[A\n",
      "\u001b[AParameters with this testing accuracy 0.523255813953 and loss 1.49992868401 :\n",
      "\n",
      "  1%|          | 8/1000 [02:23<3:38:30, 13.22s/it, best loss: -0.53488372093]\u001b[A\n",
      "\u001b[A{'max_leaf_nodes': 16, 'bootstrap': True, 'min_samples_leaf': 14, 'n_estimators': 863, 'max_features': 3111, 'criterion': 'gini', 'min_samples_split': 30, 'max_depth': 6, 'class_weight': None}\n",
      "\n",
      "  1%|          | 8/1000 [02:23<3:38:30, 13.22s/it, best loss: -0.53488372093]\u001b[A"
     ]
    },
    {
     "name": "stderr",
     "output_type": "stream",
     "text": [
      "Hyperopt:   1%|          | 9/1000 [02:34<3:33:59, 12.96s/it]"
     ]
    },
    {
     "name": "stdout",
     "output_type": "stream",
     "text": [
      "\n",
      "  1%|          | 9/1000 [02:23<3:24:01, 12.35s/it, best loss: -0.53488372093]\u001b[A\n",
      "\u001b[AParameters with this training accuracy 0.532107131333 and loss 1.45676954044 :\n",
      "\n",
      "  1%|          | 9/1000 [02:39<3:24:01, 12.35s/it, best loss: -0.53488372093]\u001b[A\n",
      "\u001b[AParameters with this testing accuracy 0.53488372093 and loss 1.49448542685 :\n",
      "\n",
      "  1%|          | 9/1000 [02:39<3:24:01, 12.35s/it, best loss: -0.53488372093]\u001b[A\n",
      "\u001b[A{'max_leaf_nodes': 12, 'bootstrap': True, 'min_samples_leaf': 5, 'n_estimators': 480, 'max_features': 24603, 'criterion': 'entropy', 'min_samples_split': 50, 'max_depth': 13, 'class_weight': None}\n",
      "\n",
      "  1%|          | 9/1000 [02:39<3:24:01, 12.35s/it, best loss: -0.53488372093]\u001b[A"
     ]
    },
    {
     "name": "stderr",
     "output_type": "stream",
     "text": [
      "Hyperopt:   1%|          | 10/1000 [02:50<3:50:03, 13.94s/it]"
     ]
    },
    {
     "name": "stdout",
     "output_type": "stream",
     "text": [
      "\n",
      "  1%|          | 10/1000 [02:39<3:43:04, 13.52s/it, best loss: -0.53488372093]\u001b[A\n",
      "\u001b[AParameters with this training accuracy 0.232978380123 and loss 2.08945886275 :\n",
      "\n",
      "  1%|          | 10/1000 [02:52<3:43:04, 13.52s/it, best loss: -0.53488372093]\u001b[A\n",
      "\u001b[AParameters with this testing accuracy 0.174418604651 and loss 2.19625375963 :\n",
      "\n",
      "  1%|          | 10/1000 [02:52<3:43:04, 13.52s/it, best loss: -0.53488372093]\u001b[A\n",
      "\u001b[A{'max_leaf_nodes': 16, 'bootstrap': True, 'min_samples_leaf': 20, 'n_estimators': 463, 'max_features': 14285, 'criterion': 'entropy', 'min_samples_split': 30, 'max_depth': 17, 'class_weight': 'balanced'}\n",
      "\n",
      "  1%|          | 10/1000 [02:52<3:43:04, 13.52s/it, best loss: -0.53488372093]\u001b[A"
     ]
    },
    {
     "name": "stderr",
     "output_type": "stream",
     "text": [
      "Hyperopt:   1%|          | 11/1000 [03:03<3:43:05, 13.53s/it]"
     ]
    },
    {
     "name": "stdout",
     "output_type": "stream",
     "text": [
      "\n",
      "  1%|          | 11/1000 [02:52<3:38:12, 13.24s/it, best loss: -0.53488372093]\u001b[A\n",
      "\u001b[AParameters with this training accuracy 0.287512100678 and loss 1.99468336104 :\n",
      "\n",
      "  1%|          | 11/1000 [03:10<3:38:12, 13.24s/it, best loss: -0.53488372093]\u001b[A\n",
      "\u001b[AParameters with this testing accuracy 0.197674418605 and loss 2.13871333805 :\n",
      "\n",
      "  1%|          | 11/1000 [03:10<3:38:12, 13.24s/it, best loss: -0.53488372093]\u001b[A\n",
      "\u001b[A{'max_leaf_nodes': 22, 'bootstrap': True, 'min_samples_leaf': 9, 'n_estimators': 673, 'max_features': 18964, 'criterion': 'entropy', 'min_samples_split': 30, 'max_depth': 33, 'class_weight': 'balanced'}\n",
      "\n",
      "  1%|          | 11/1000 [03:10<3:38:12, 13.24s/it, best loss: -0.53488372093]\u001b[A"
     ]
    },
    {
     "name": "stderr",
     "output_type": "stream",
     "text": [
      "Hyperopt:   1%|          | 12/1000 [03:21<4:06:39, 14.98s/it]"
     ]
    },
    {
     "name": "stdout",
     "output_type": "stream",
     "text": [
      "\n",
      "  1%|          | 12/1000 [03:10<4:03:15, 14.77s/it, best loss: -0.53488372093]\u001b[A\n",
      "\u001b[AParameters with this training accuracy 0.235559858019 and loss 2.09572031743 :\n",
      "\n",
      "  1%|          | 12/1000 [03:21<4:03:15, 14.77s/it, best loss: -0.53488372093]\u001b[A\n",
      "\u001b[AParameters with this testing accuracy 0.186046511628 and loss 2.19780055887 :\n",
      "\n",
      "  1%|          | 12/1000 [03:21<4:03:15, 14.77s/it, best loss: -0.53488372093]\u001b[A\n",
      "\u001b[A{'max_leaf_nodes': 14, 'bootstrap': True, 'min_samples_leaf': 18, 'n_estimators': 286, 'max_features': 24095, 'criterion': 'gini', 'min_samples_split': 50, 'max_depth': 16, 'class_weight': 'balanced'}\n",
      "\n",
      "  1%|          | 12/1000 [03:21<4:03:15, 14.77s/it, best loss: -0.53488372093]\u001b[A"
     ]
    },
    {
     "name": "stderr",
     "output_type": "stream",
     "text": [
      "Hyperopt:   1%|▏         | 13/1000 [03:31<3:42:45, 13.54s/it]"
     ]
    },
    {
     "name": "stdout",
     "output_type": "stream",
     "text": [
      "\n",
      "  1%|▏         | 13/1000 [03:21<3:40:22, 13.40s/it, best loss: -0.53488372093]\u001b[A\n",
      "\u001b[AParameters with this training accuracy 0.326234269119 and loss 1.96999509436 :\n",
      "\n",
      "  1%|▏         | 13/1000 [03:34<3:40:22, 13.40s/it, best loss: -0.53488372093]\u001b[A\n",
      "\u001b[AParameters with this testing accuracy 0.238372093023 and loss 2.11713404475 :\n",
      "\n",
      "  1%|▏         | 13/1000 [03:34<3:40:22, 13.40s/it, best loss: -0.53488372093]\u001b[A\n",
      "\u001b[A{'max_leaf_nodes': 22, 'bootstrap': True, 'min_samples_leaf': 8, 'n_estimators': 872, 'max_features': 11871, 'criterion': 'gini', 'min_samples_split': 70, 'max_depth': 18, 'class_weight': 'balanced'}\n",
      "\n",
      "  1%|▏         | 13/1000 [03:34<3:40:22, 13.40s/it, best loss: -0.53488372093]\u001b[A"
     ]
    },
    {
     "name": "stderr",
     "output_type": "stream",
     "text": [
      "Hyperopt:   1%|▏         | 14/1000 [03:45<3:43:16, 13.59s/it]"
     ]
    },
    {
     "name": "stdout",
     "output_type": "stream",
     "text": [
      "\n",
      "  1%|▏         | 14/1000 [03:34<3:41:36, 13.49s/it, best loss: -0.53488372093]\u001b[A\n",
      "\u001b[AParameters with this training accuracy 0.323007421749 and loss 1.96611821148 :\n",
      "\n",
      "  1%|▏         | 14/1000 [04:21<3:41:36, 13.49s/it, best loss: -0.53488372093]\u001b[A\n",
      "\u001b[AParameters with this testing accuracy 0.212209302326 and loss 2.16405792902 :\n",
      "\n",
      "  1%|▏         | 14/1000 [04:21<3:41:36, 13.49s/it, best loss: -0.53488372093]\u001b[A\n",
      "\u001b[A{'max_leaf_nodes': 28, 'bootstrap': False, 'min_samples_leaf': 3, 'n_estimators': 973, 'max_features': 18682, 'criterion': 'entropy', 'min_samples_split': 80, 'max_depth': 41, 'class_weight': 'balanced'}\n",
      "\n",
      "  1%|▏         | 14/1000 [04:21<3:41:36, 13.49s/it, best loss: -0.53488372093]\u001b[A"
     ]
    },
    {
     "name": "stderr",
     "output_type": "stream",
     "text": [
      "Hyperopt:   2%|▏         | 15/1000 [04:31<6:25:47, 23.50s/it]"
     ]
    },
    {
     "name": "stdout",
     "output_type": "stream",
     "text": [
      "\n",
      "  2%|▏         | 15/1000 [04:21<6:24:38, 23.43s/it, best loss: -0.53488372093]\u001b[A\n",
      "\u001b[AParameters with this training accuracy 0.293643110681 and loss 2.06774436679 :\n",
      "\n",
      "  2%|▏         | 15/1000 [04:29<6:24:38, 23.43s/it, best loss: -0.53488372093]\u001b[A\n",
      "\u001b[AParameters with this testing accuracy 0.21511627907 and loss 2.17442110272 :\n",
      "\n",
      "  2%|▏         | 15/1000 [04:29<6:24:38, 23.43s/it, best loss: -0.53488372093]\u001b[A\n",
      "\u001b[A{'max_leaf_nodes': 18, 'bootstrap': False, 'min_samples_leaf': 15, 'n_estimators': 186, 'max_features': 9212, 'criterion': 'entropy', 'min_samples_split': 60, 'max_depth': 28, 'class_weight': 'balanced'}\n",
      "\n",
      "  2%|▏         | 15/1000 [04:29<6:24:38, 23.43s/it, best loss: -0.53488372093]\u001b[A"
     ]
    },
    {
     "name": "stderr",
     "output_type": "stream",
     "text": [
      "Hyperopt:   2%|▏         | 16/1000 [04:40<5:10:16, 18.92s/it]"
     ]
    },
    {
     "name": "stdout",
     "output_type": "stream",
     "text": [
      "\n",
      "  2%|▏         | 16/1000 [04:29<5:09:26, 18.87s/it, best loss: -0.53488372093]\u001b[A\n",
      "\u001b[AParameters with this training accuracy 0.337850919652 and loss 1.93300219802 :\n",
      "\n",
      "  2%|▏         | 16/1000 [04:40<5:09:26, 18.87s/it, best loss: -0.53488372093]\u001b[A\n",
      "\u001b[AParameters with this testing accuracy 0.238372093023 and loss 2.07987993221 :\n",
      "\n",
      "  2%|▏         | 16/1000 [04:40<5:09:26, 18.87s/it, best loss: -0.53488372093]\u001b[A\n",
      "\u001b[A{'max_leaf_nodes': 24, 'bootstrap': True, 'min_samples_leaf': 26, 'n_estimators': 426, 'max_features': 23955, 'criterion': 'gini', 'min_samples_split': 20, 'max_depth': 28, 'class_weight': 'balanced'}\n",
      "\n",
      "  2%|▏         | 16/1000 [04:40<5:09:26, 18.87s/it, best loss: -0.53488372093]\u001b[A"
     ]
    },
    {
     "name": "stderr",
     "output_type": "stream",
     "text": [
      "Hyperopt:   2%|▏         | 17/1000 [04:50<4:28:53, 16.41s/it]"
     ]
    },
    {
     "name": "stdout",
     "output_type": "stream",
     "text": [
      "\n",
      "  2%|▏         | 17/1000 [04:40<4:28:18, 16.38s/it, best loss: -0.53488372093]\u001b[A\n",
      "\u001b[AParameters with this training accuracy 0.153275250081 and loss 2.30572027848 :\n",
      "\n",
      "  2%|▏         | 17/1000 [04:52<4:28:18, 16.38s/it, best loss: -0.53488372093]\u001b[A\n",
      "\u001b[AParameters with this testing accuracy 0.104651162791 and loss 2.38553454424 :\n",
      "\n",
      "  2%|▏         | 17/1000 [04:52<4:28:18, 16.38s/it, best loss: -0.53488372093]\u001b[A\n",
      "\u001b[A{'max_leaf_nodes': 10, 'bootstrap': True, 'min_samples_leaf': 24, 'n_estimators': 461, 'max_features': 25544, 'criterion': 'entropy', 'min_samples_split': 10, 'max_depth': 2, 'class_weight': 'balanced'}\n",
      "\n",
      "  2%|▏         | 17/1000 [04:52<4:28:18, 16.38s/it, best loss: -0.53488372093]\u001b[A"
     ]
    },
    {
     "name": "stderr",
     "output_type": "stream",
     "text": [
      "Hyperopt:   2%|▏         | 18/1000 [05:02<4:08:28, 15.18s/it]"
     ]
    },
    {
     "name": "stdout",
     "output_type": "stream",
     "text": [
      "\n",
      "  2%|▏         | 18/1000 [04:52<4:08:04, 15.16s/it, best loss: -0.53488372093]\u001b[A\n",
      "\u001b[AParameters with this training accuracy 0.540819619232 and loss 1.45557730108 :\n",
      "\n",
      "  2%|▏         | 18/1000 [05:16<4:08:04, 15.16s/it, best loss: -0.53488372093]\u001b[A\n",
      "\u001b[AParameters with this testing accuracy 0.526162790698 and loss 1.49606842127 :\n",
      "\n",
      "  2%|▏         | 18/1000 [05:16<4:08:04, 15.16s/it, best loss: -0.53488372093]\u001b[A\n",
      "\u001b[A{'max_leaf_nodes': 14, 'bootstrap': False, 'min_samples_leaf': 4, 'n_estimators': 765, 'max_features': 14339, 'criterion': 'entropy', 'min_samples_split': 20, 'max_depth': 4, 'class_weight': None}\n",
      "\n",
      "  2%|▏         | 18/1000 [05:16<4:08:04, 15.16s/it, best loss: -0.53488372093]\u001b[A"
     ]
    },
    {
     "name": "stderr",
     "output_type": "stream",
     "text": [
      "Hyperopt:   2%|▏         | 19/1000 [05:27<4:52:01, 17.86s/it]"
     ]
    },
    {
     "name": "stdout",
     "output_type": "stream",
     "text": [
      "\n",
      "  2%|▏         | 19/1000 [05:16<4:51:44, 17.84s/it, best loss: -0.53488372093]\u001b[A\n",
      "\u001b[AParameters with this training accuracy 0.205550177477 and loss 2.19984804495 :\n",
      "\n",
      "  2%|▏         | 19/1000 [05:27<4:51:44, 17.84s/it, best loss: -0.53488372093]\u001b[A\n",
      "\u001b[AParameters with this testing accuracy 0.148255813953 and loss 2.27904804284 :\n",
      "\n",
      "  2%|▏         | 19/1000 [05:27<4:51:44, 17.84s/it, best loss: -0.53488372093]\u001b[A\n",
      "\u001b[A{'max_leaf_nodes': 10, 'bootstrap': True, 'min_samples_leaf': 16, 'n_estimators': 709, 'max_features': 10057, 'criterion': 'gini', 'min_samples_split': 40, 'max_depth': 34, 'class_weight': 'balanced'}\n",
      "\n",
      "  2%|▏         | 19/1000 [05:27<4:51:44, 17.84s/it, best loss: -0.53488372093]\u001b[A"
     ]
    },
    {
     "name": "stderr",
     "output_type": "stream",
     "text": [
      "Hyperopt:   2%|▏         | 20/1000 [05:37<4:15:50, 15.66s/it]"
     ]
    },
    {
     "name": "stdout",
     "output_type": "stream",
     "text": [
      "\n",
      "  2%|▏         | 20/1000 [05:27<4:15:39, 15.65s/it, best loss: -0.53488372093]\u001b[A\n",
      "\u001b[AParameters with this training accuracy 0.51403678606 and loss 1.4727085133 :\n",
      "\n",
      "  2%|▏         | 20/1000 [05:35<4:15:39, 15.65s/it, best loss: -0.53488372093]\u001b[A\n",
      "\u001b[AParameters with this testing accuracy 0.523255813953 and loss 1.4984713448 :\n",
      "\n",
      "  2%|▏         | 20/1000 [05:35<4:15:39, 15.65s/it, best loss: -0.53488372093]\u001b[A\n",
      "\u001b[A{'max_leaf_nodes': 12, 'bootstrap': False, 'min_samples_leaf': 1, 'n_estimators': 222, 'max_features': 4180, 'criterion': 'entropy', 'min_samples_split': 50, 'max_depth': 37, 'class_weight': None}\n",
      "\n",
      "  2%|▏         | 20/1000 [05:35<4:15:39, 15.65s/it, best loss: -0.53488372093]\u001b[A"
     ]
    },
    {
     "name": "stderr",
     "output_type": "stream",
     "text": [
      "Hyperopt:   2%|▏         | 21/1000 [05:46<3:39:59, 13.48s/it]"
     ]
    },
    {
     "name": "stdout",
     "output_type": "stream",
     "text": [
      "\n",
      "  2%|▏         | 21/1000 [05:35<3:39:50, 13.47s/it, best loss: -0.53488372093]\u001b[A\n",
      "\u001b[AParameters with this training accuracy 0.564052920297 and loss 1.32144509058 :\n",
      "\n",
      "  2%|▏         | 21/1000 [05:56<3:39:50, 13.47s/it, best loss: -0.53488372093]\u001b[A\n",
      "\u001b[AParameters with this testing accuracy 0.529069767442 and loss 1.42997816424 :\n",
      "\n",
      "  2%|▏         | 21/1000 [05:57<3:39:50, 13.47s/it, best loss: -0.53488372093]\u001b[A\n",
      "\u001b[A{'max_leaf_nodes': 26, 'bootstrap': False, 'min_samples_leaf': 1, 'n_estimators': 364, 'max_features': 18700, 'criterion': 'entropy', 'min_samples_split': 80, 'max_depth': 10, 'class_weight': None}\n",
      "\n",
      "  2%|▏         | 21/1000 [05:57<3:39:50, 13.47s/it, best loss: -0.53488372093]\u001b[A"
     ]
    },
    {
     "name": "stderr",
     "output_type": "stream",
     "text": [
      "Hyperopt:   2%|▏         | 22/1000 [06:07<4:18:54, 15.88s/it]"
     ]
    },
    {
     "name": "stdout",
     "output_type": "stream",
     "text": [
      "\n",
      "  2%|▏         | 22/1000 [05:57<4:18:49, 15.88s/it, best loss: -0.53488372093]\u001b[A\n",
      "\u001b[AParameters with this training accuracy 0.523071958696 and loss 1.46266359266 :\n",
      "\n",
      "  2%|▏         | 22/1000 [06:39<4:18:49, 15.88s/it, best loss: -0.53488372093]\u001b[A\n",
      "\u001b[AParameters with this testing accuracy 0.5 and loss 1.53423225492 :\n",
      "\n",
      "  2%|▏         | 22/1000 [06:39<4:18:49, 15.88s/it, best loss: -0.53488372093]\u001b[A\n",
      "\u001b[A{'max_leaf_nodes': 20, 'bootstrap': False, 'min_samples_leaf': 5, 'n_estimators': 855, 'max_features': 26148, 'criterion': 'entropy', 'min_samples_split': 50, 'max_depth': 13, 'class_weight': None}\n",
      "\n",
      "  2%|▏         | 22/1000 [06:39<4:18:49, 15.88s/it, best loss: -0.53488372093]\u001b[A"
     ]
    },
    {
     "name": "stderr",
     "output_type": "stream",
     "text": [
      "Hyperopt:   2%|▏         | 23/1000 [06:50<6:30:57, 24.01s/it]"
     ]
    },
    {
     "name": "stdout",
     "output_type": "stream",
     "text": [
      "\n",
      "  2%|▏         | 23/1000 [06:40<6:30:54, 24.01s/it, best loss: -0.53488372093]\u001b[A\n",
      "\u001b[AParameters with this training accuracy 0.522426589222 and loss 1.51407875024 :\n",
      "\n",
      "  2%|▏         | 23/1000 [06:50<6:30:54, 24.01s/it, best loss: -0.53488372093]\u001b[A\n",
      "\u001b[AParameters with this testing accuracy 0.529069767442 and loss 1.53850077568 :\n",
      "\n",
      "  2%|▏         | 23/1000 [06:50<6:30:54, 24.01s/it, best loss: -0.53488372093]\u001b[A\n",
      "\u001b[A{'max_leaf_nodes': 12, 'bootstrap': False, 'min_samples_leaf': 21, 'n_estimators': 259, 'max_features': 21421, 'criterion': 'entropy', 'min_samples_split': 50, 'max_depth': 31, 'class_weight': None}\n",
      "\n",
      "  2%|▏         | 23/1000 [06:50<6:30:54, 24.01s/it, best loss: -0.53488372093]\u001b[A"
     ]
    },
    {
     "name": "stderr",
     "output_type": "stream",
     "text": [
      "Hyperopt:   2%|▏         | 24/1000 [07:01<5:25:32, 20.01s/it]"
     ]
    },
    {
     "name": "stdout",
     "output_type": "stream",
     "text": [
      "\n",
      "  2%|▏         | 24/1000 [06:50<5:25:29, 20.01s/it, best loss: -0.53488372093]\u001b[A\n",
      "\u001b[AParameters with this training accuracy 0.525330751855 and loss 1.48567228686 :\n",
      "\n",
      "  2%|▏         | 24/1000 [06:56<5:25:29, 20.01s/it, best loss: -0.53488372093]\u001b[A\n",
      "\u001b[AParameters with this testing accuracy 0.523255813953 and loss 1.51741666953 :\n",
      "\n",
      "  2%|▏         | 24/1000 [06:56<5:25:29, 20.01s/it, best loss: -0.53488372093]\u001b[A\n",
      "\u001b[A{'max_leaf_nodes': 12, 'bootstrap': False, 'min_samples_leaf': 29, 'n_estimators': 35, 'max_features': 15578, 'criterion': 'entropy', 'min_samples_split': 80, 'max_depth': 21, 'class_weight': None}\n",
      "\n",
      "  2%|▏         | 24/1000 [06:56<5:25:29, 20.01s/it, best loss: -0.53488372093]\u001b[A"
     ]
    },
    {
     "name": "stderr",
     "output_type": "stream",
     "text": [
      "Hyperopt:   2%|▎         | 25/1000 [07:07<4:17:19, 15.84s/it]"
     ]
    },
    {
     "name": "stdout",
     "output_type": "stream",
     "text": [
      "\n",
      "  2%|▎         | 25/1000 [06:56<4:17:17, 15.83s/it, best loss: -0.53488372093]\u001b[A\n",
      "\u001b[AParameters with this training accuracy 0.525653436592 and loss 1.35917517438 :\n",
      "\n",
      "  2%|▎         | 25/1000 [07:06<4:17:17, 15.83s/it, best loss: -0.53488372093]\u001b[A\n",
      "\u001b[AParameters with this testing accuracy 0.526162790698 and loss 1.45210116364 :\n",
      "\n",
      "  2%|▎         | 25/1000 [07:06<4:17:17, 15.83s/it, best loss: -0.53488372093]\u001b[A\n",
      "\u001b[A{'max_leaf_nodes': 28, 'bootstrap': False, 'min_samples_leaf': 5, 'n_estimators': 963, 'max_features': 653, 'criterion': 'entropy', 'min_samples_split': 90, 'max_depth': 35, 'class_weight': None}\n",
      "\n",
      "  2%|▎         | 25/1000 [07:06<4:17:17, 15.83s/it, best loss: -0.53488372093]\u001b[A"
     ]
    },
    {
     "name": "stderr",
     "output_type": "stream",
     "text": [
      "Hyperopt:   3%|▎         | 26/1000 [07:17<3:49:07, 14.11s/it]"
     ]
    },
    {
     "name": "stdout",
     "output_type": "stream",
     "text": [
      "\n",
      "  3%|▎         | 26/1000 [07:06<3:49:06, 14.11s/it, best loss: -0.53488372093]\u001b[A\n",
      "\u001b[AParameters with this training accuracy 0.512100677638 and loss 1.41604679119 :\n",
      "\n",
      "  3%|▎         | 26/1000 [07:17<3:49:06, 14.11s/it, best loss: -0.53488372093]\u001b[A\n",
      "\u001b[AParameters with this testing accuracy 0.520348837209 and loss 1.47606391859 :\n",
      "\n",
      "  3%|▎         | 26/1000 [07:17<3:49:06, 14.11s/it, best loss: -0.53488372093]\u001b[A\n",
      "\u001b[A{'max_leaf_nodes': 20, 'bootstrap': False, 'min_samples_leaf': 7, 'n_estimators': 751, 'max_features': 1003, 'criterion': 'entropy', 'min_samples_split': 40, 'max_depth': 13, 'class_weight': None}\n",
      "\n",
      "  3%|▎         | 26/1000 [07:17<3:49:06, 14.11s/it, best loss: -0.53488372093]\u001b[A"
     ]
    },
    {
     "name": "stderr",
     "output_type": "stream",
     "text": [
      "Hyperopt:   3%|▎         | 27/1000 [07:27<3:31:22, 13.03s/it]"
     ]
    },
    {
     "name": "stdout",
     "output_type": "stream",
     "text": [
      "\n",
      "  3%|▎         | 27/1000 [07:17<3:31:21, 13.03s/it, best loss: -0.53488372093]\u001b[A\n",
      "\u001b[AParameters with this training accuracy 0.556631171346 and loss 1.34487017974 :\n",
      "\n",
      "  3%|▎         | 27/1000 [07:23<3:31:21, 13.03s/it, best loss: -0.53488372093]\u001b[A\n",
      "\u001b[AParameters with this testing accuracy 0.523255813953 and loss 1.42884384696 :\n",
      "\n",
      "  3%|▎         | 27/1000 [07:23<3:31:21, 13.03s/it, best loss: -0.53488372093]\u001b[A\n",
      "\u001b[A{'max_leaf_nodes': 22, 'bootstrap': True, 'min_samples_leaf': 17, 'n_estimators': 135, 'max_features': 11858, 'criterion': 'entropy', 'min_samples_split': 80, 'max_depth': 37, 'class_weight': None}\n",
      "\n",
      "  3%|▎         | 27/1000 [07:23<3:31:21, 13.03s/it, best loss: -0.53488372093]\u001b[A"
     ]
    },
    {
     "name": "stderr",
     "output_type": "stream",
     "text": [
      "Hyperopt:   3%|▎         | 28/1000 [07:34<2:59:57, 11.11s/it]"
     ]
    },
    {
     "name": "stdout",
     "output_type": "stream",
     "text": [
      "\n",
      "  3%|▎         | 28/1000 [07:24<2:59:56, 11.11s/it, best loss: -0.53488372093]\u001b[A\n",
      "\u001b[AParameters with this training accuracy 0.576314940303 and loss 1.28232474368 :\n",
      "\n",
      "  3%|▎         | 28/1000 [07:29<2:59:56, 11.11s/it, best loss: -0.53488372093]\u001b[A\n",
      "\u001b[AParameters with this testing accuracy 0.543604651163 and loss 1.42346431366 :\n",
      "\n",
      "  3%|▎         | 28/1000 [07:29<2:59:56, 11.11s/it, best loss: -0.53488372093]\u001b[A\n",
      "\u001b[A{'max_leaf_nodes': 26, 'bootstrap': True, 'min_samples_leaf': 2, 'n_estimators': 31, 'max_features': 17852, 'criterion': 'entropy', 'min_samples_split': 50, 'max_depth': 15, 'class_weight': None}\n",
      "\n",
      "  3%|▎         | 28/1000 [07:30<2:59:56, 11.11s/it, best loss: -0.53488372093]\u001b[A"
     ]
    },
    {
     "name": "stderr",
     "output_type": "stream",
     "text": [
      "Hyperopt:   3%|▎         | 29/1000 [07:40<2:35:01,  9.58s/it]"
     ]
    },
    {
     "name": "stdout",
     "output_type": "stream",
     "text": [
      "\n",
      "  3%|▎         | 29/1000 [07:30<2:35:00,  9.58s/it, best loss: -0.543604651163]\u001b[A\n",
      "\u001b[AParameters with this training accuracy 0.555340432398 and loss 1.31955203213 :\n",
      "\n",
      "  3%|▎         | 29/1000 [07:44<2:35:00,  9.58s/it, best loss: -0.543604651163]\u001b[A\n",
      "\u001b[AParameters with this testing accuracy 0.523255813953 and loss 1.41434594861 :\n",
      "\n",
      "  3%|▎         | 29/1000 [07:44<2:35:00,  9.58s/it, best loss: -0.543604651163]\u001b[A\n",
      "\u001b[A{'max_leaf_nodes': 26, 'bootstrap': False, 'min_samples_leaf': 2, 'n_estimators': 785, 'max_features': 2878, 'criterion': 'entropy', 'min_samples_split': 50, 'max_depth': 15, 'class_weight': None}\n",
      "\n",
      "  3%|▎         | 29/1000 [07:44<2:35:00,  9.58s/it, best loss: -0.543604651163]\u001b[A"
     ]
    },
    {
     "name": "stderr",
     "output_type": "stream",
     "text": [
      "Hyperopt:   3%|▎         | 30/1000 [07:54<2:58:14, 11.03s/it]"
     ]
    },
    {
     "name": "stdout",
     "output_type": "stream",
     "text": [
      "\n",
      "  3%|▎         | 30/1000 [07:44<2:58:14, 11.03s/it, best loss: -0.543604651163]\u001b[A\n",
      "\u001b[AParameters with this training accuracy 0.564052920297 and loss 1.32582469925 :\n",
      "\n",
      "  3%|▎         | 30/1000 [07:57<2:58:14, 11.03s/it, best loss: -0.543604651163]\u001b[A\n",
      "\u001b[AParameters with this testing accuracy 0.531976744186 and loss 1.42346450729 :\n",
      "\n",
      "  3%|▎         | 30/1000 [07:57<2:58:14, 11.03s/it, best loss: -0.543604651163]\u001b[A\n",
      "\u001b[A{'max_leaf_nodes': 26, 'bootstrap': True, 'min_samples_leaf': 27, 'n_estimators': 793, 'max_features': 10669, 'criterion': 'entropy', 'min_samples_split': 70, 'max_depth': 39, 'class_weight': None}\n",
      "\n",
      "  3%|▎         | 30/1000 [07:57<2:58:14, 11.03s/it, best loss: -0.543604651163]\u001b[A"
     ]
    },
    {
     "name": "stderr",
     "output_type": "stream",
     "text": [
      "Hyperopt:   3%|▎         | 31/1000 [08:08<3:08:50, 11.69s/it]"
     ]
    },
    {
     "name": "stdout",
     "output_type": "stream",
     "text": [
      "\n",
      "  3%|▎         | 31/1000 [07:57<3:08:50, 11.69s/it, best loss: -0.543604651163]\u001b[A\n",
      "\u001b[AParameters with this training accuracy 0.568247821878 and loss 1.3156571502 :\n",
      "\n",
      "  3%|▎         | 31/1000 [08:10<3:08:50, 11.69s/it, best loss: -0.543604651163]\u001b[A\n",
      "\u001b[AParameters with this testing accuracy 0.537790697674 and loss 1.43097651393 :\n",
      "\n",
      "  3%|▎         | 31/1000 [08:10<3:08:50, 11.69s/it, best loss: -0.543604651163]\u001b[A\n",
      "\u001b[A{'max_leaf_nodes': 26, 'bootstrap': False, 'min_samples_leaf': 12, 'n_estimators': 283, 'max_features': 16284, 'criterion': 'entropy', 'min_samples_split': 80, 'max_depth': 47, 'class_weight': None}\n",
      "\n",
      "  3%|▎         | 31/1000 [08:10<3:08:50, 11.69s/it, best loss: -0.543604651163]\u001b[A"
     ]
    },
    {
     "name": "stderr",
     "output_type": "stream",
     "text": [
      "Hyperopt:   3%|▎         | 32/1000 [08:20<3:12:30, 11.93s/it]"
     ]
    },
    {
     "name": "stdout",
     "output_type": "stream",
     "text": [
      "\n",
      "  3%|▎         | 32/1000 [08:10<3:12:30, 11.93s/it, best loss: -0.543604651163]\u001b[A\n",
      "\u001b[AParameters with this training accuracy 0.566311713456 and loss 1.28620285056 :\n",
      "\n",
      "  3%|▎         | 32/1000 [08:26<3:12:30, 11.93s/it, best loss: -0.543604651163]\u001b[A\n",
      "\u001b[AParameters with this testing accuracy 0.523255813953 and loss 1.40367266933 :\n",
      "\n",
      "  3%|▎         | 32/1000 [08:26<3:12:30, 11.93s/it, best loss: -0.543604651163]\u001b[A\n",
      "\u001b[A{'max_leaf_nodes': 26, 'bootstrap': True, 'min_samples_leaf': 2, 'n_estimators': 735, 'max_features': 6848, 'criterion': 'entropy', 'min_samples_split': 60, 'max_depth': 47, 'class_weight': None}\n",
      "\n",
      "  3%|▎         | 32/1000 [08:26<3:12:30, 11.93s/it, best loss: -0.543604651163]\u001b[A"
     ]
    },
    {
     "name": "stderr",
     "output_type": "stream",
     "text": [
      "Hyperopt:   3%|▎         | 33/1000 [08:36<3:33:28, 13.25s/it]"
     ]
    },
    {
     "name": "stdout",
     "output_type": "stream",
     "text": [
      "\n",
      "  3%|▎         | 33/1000 [08:26<3:33:28, 13.25s/it, best loss: -0.543604651163]\u001b[A\n",
      "\u001b[AParameters with this training accuracy 0.542755727654 and loss 1.36884585461 :\n",
      "\n",
      "  3%|▎         | 33/1000 [08:37<3:33:28, 13.25s/it, best loss: -0.543604651163]\u001b[A\n",
      "\u001b[AParameters with this testing accuracy 0.523255813953 and loss 1.47753012779 :\n",
      "\n",
      "  3%|▎         | 33/1000 [08:37<3:33:28, 13.25s/it, best loss: -0.543604651163]\u001b[A\n",
      "\u001b[A{'max_leaf_nodes': 26, 'bootstrap': False, 'min_samples_leaf': 12, 'n_estimators': 190, 'max_features': 24184, 'criterion': 'entropy', 'min_samples_split': 40, 'max_depth': 15, 'class_weight': None}\n",
      "\n",
      "  3%|▎         | 33/1000 [08:37<3:33:28, 13.25s/it, best loss: -0.543604651163]\u001b[A"
     ]
    },
    {
     "name": "stderr",
     "output_type": "stream",
     "text": [
      "Hyperopt:   3%|▎         | 34/1000 [08:48<3:23:50, 12.66s/it]"
     ]
    },
    {
     "name": "stdout",
     "output_type": "stream",
     "text": [
      "\n",
      "  3%|▎         | 34/1000 [08:37<3:23:50, 12.66s/it, best loss: -0.543604651163]\u001b[A\n",
      "\u001b[AParameters with this training accuracy 0.541142303969 and loss 1.37226604945 :\n",
      "\n",
      "  3%|▎         | 34/1000 [08:48<3:23:50, 12.66s/it, best loss: -0.543604651163]\u001b[A\n",
      "\u001b[AParameters with this testing accuracy 0.517441860465 and loss 1.47575026191 :\n",
      "\n",
      "  3%|▎         | 34/1000 [08:48<3:23:50, 12.66s/it, best loss: -0.543604651163]\u001b[A\n",
      "\u001b[A{'max_leaf_nodes': 26, 'bootstrap': False, 'min_samples_leaf': 11, 'n_estimators': 129, 'max_features': 24315, 'criterion': 'entropy', 'min_samples_split': 80, 'max_depth': 47, 'class_weight': None}\n",
      "\n",
      "  3%|▎         | 34/1000 [08:48<3:23:50, 12.66s/it, best loss: -0.543604651163]\u001b[A"
     ]
    },
    {
     "name": "stderr",
     "output_type": "stream",
     "text": [
      "Hyperopt:   4%|▎         | 35/1000 [08:58<3:12:13, 11.95s/it]"
     ]
    },
    {
     "name": "stdout",
     "output_type": "stream",
     "text": [
      "\n",
      "  4%|▎         | 35/1000 [08:48<3:12:12, 11.95s/it, best loss: -0.543604651163]\u001b[A\n",
      "\u001b[AParameters with this training accuracy 0.572120038722 and loss 1.3492804217 :\n",
      "\n",
      "  4%|▎         | 35/1000 [08:55<3:12:12, 11.95s/it, best loss: -0.543604651163]\u001b[A\n",
      "\u001b[AParameters with this testing accuracy 0.546511627907 and loss 1.44692549752 :\n",
      "\n",
      "  4%|▎         | 35/1000 [08:55<3:12:12, 11.95s/it, best loss: -0.543604651163]\u001b[A\n",
      "\u001b[A{'max_leaf_nodes': 26, 'bootstrap': True, 'min_samples_leaf': 12, 'n_estimators': 574, 'max_features': 3342, 'criterion': 'gini', 'min_samples_split': 20, 'max_depth': 8, 'class_weight': None}\n",
      "\n",
      "  4%|▎         | 35/1000 [08:55<3:12:12, 11.95s/it, best loss: -0.543604651163]\u001b[A"
     ]
    },
    {
     "name": "stderr",
     "output_type": "stream",
     "text": [
      "Hyperopt:   4%|▎         | 36/1000 [09:06<2:52:42, 10.75s/it]"
     ]
    },
    {
     "name": "stdout",
     "output_type": "stream",
     "text": [
      "\n",
      "  4%|▎         | 36/1000 [08:56<2:52:42, 10.75s/it, best loss: -0.546511627907]\u001b[A\n",
      "\u001b[AParameters with this training accuracy 0.553081639238 and loss 1.41449945981 :\n",
      "\n",
      "  4%|▎         | 36/1000 [09:00<2:52:42, 10.75s/it, best loss: -0.546511627907]\u001b[A\n",
      "\u001b[AParameters with this testing accuracy 0.531976744186 and loss 1.47378200768 :\n",
      "\n",
      "  4%|▎         | 36/1000 [09:00<2:52:42, 10.75s/it, best loss: -0.546511627907]\u001b[A\n",
      "\u001b[A{'max_leaf_nodes': 18, 'bootstrap': True, 'min_samples_leaf': 6, 'n_estimators': 52, 'max_features': 3660, 'criterion': 'gini', 'min_samples_split': 20, 'max_depth': 7, 'class_weight': None}\n",
      "\n",
      "  4%|▎         | 36/1000 [09:00<2:52:42, 10.75s/it, best loss: -0.546511627907]\u001b[A"
     ]
    },
    {
     "name": "stderr",
     "output_type": "stream",
     "text": [
      "Hyperopt:   4%|▎         | 37/1000 [09:11<2:23:56,  8.97s/it]"
     ]
    },
    {
     "name": "stdout",
     "output_type": "stream",
     "text": [
      "\n",
      "  4%|▎         | 37/1000 [09:00<2:23:56,  8.97s/it, best loss: -0.546511627907]\u001b[A\n",
      "\u001b[AParameters with this training accuracy 0.581477896096 and loss 1.31993653705 :\n",
      "\n",
      "  4%|▎         | 37/1000 [09:13<2:23:56,  8.97s/it, best loss: -0.546511627907]\u001b[A\n",
      "\u001b[AParameters with this testing accuracy 0.55523255814 and loss 1.41170397018 :\n",
      "\n",
      "  4%|▎         | 37/1000 [09:13<2:23:56,  8.97s/it, best loss: -0.546511627907]\u001b[A\n",
      "\u001b[A{'max_leaf_nodes': 26, 'bootstrap': True, 'min_samples_leaf': 22, 'n_estimators': 574, 'max_features': 16471, 'criterion': 'gini', 'min_samples_split': 20, 'max_depth': 30, 'class_weight': None}\n",
      "\n",
      "  4%|▎         | 37/1000 [09:13<2:23:56,  8.97s/it, best loss: -0.546511627907]\u001b[A"
     ]
    },
    {
     "name": "stderr",
     "output_type": "stream",
     "text": [
      "Hyperopt:   4%|▍         | 38/1000 [09:23<2:40:46, 10.03s/it]"
     ]
    },
    {
     "name": "stdout",
     "output_type": "stream",
     "text": [
      "\n",
      "  4%|▍         | 38/1000 [09:13<2:40:46, 10.03s/it, best loss: -0.55523255814] \u001b[A\n",
      "\u001b[AParameters with this training accuracy 0.479832203937 and loss 1.60305543276 :\n",
      "\n",
      "  4%|▍         | 38/1000 [09:23<2:40:46, 10.03s/it, best loss: -0.55523255814]\u001b[A\n",
      "\u001b[AParameters with this testing accuracy 0.494186046512 and loss 1.62888843791 :\n",
      "\n",
      "  4%|▍         | 38/1000 [09:23<2:40:46, 10.03s/it, best loss: -0.55523255814]\u001b[A\n",
      "\u001b[A{'max_leaf_nodes': 24, 'bootstrap': True, 'min_samples_leaf': 22, 'n_estimators': 852, 'max_features': 143, 'criterion': 'gini', 'min_samples_split': 20, 'max_depth': 8, 'class_weight': None}\n",
      "\n",
      "  4%|▍         | 38/1000 [09:23<2:40:46, 10.03s/it, best loss: -0.55523255814]\u001b[A"
     ]
    },
    {
     "name": "stderr",
     "output_type": "stream",
     "text": [
      "Hyperopt:   4%|▍         | 39/1000 [09:33<2:39:24,  9.95s/it]"
     ]
    },
    {
     "name": "stdout",
     "output_type": "stream",
     "text": [
      "\n",
      "  4%|▍         | 39/1000 [09:23<2:39:25,  9.95s/it, best loss: -0.55523255814]\u001b[A\n",
      "\u001b[AParameters with this training accuracy 0.541787673443 and loss 1.51642287005 :\n",
      "\n",
      "  4%|▍         | 39/1000 [09:35<2:39:25,  9.95s/it, best loss: -0.55523255814]\u001b[A\n",
      "\u001b[AParameters with this testing accuracy 0.546511627907 and loss 1.52217472958 :\n",
      "\n",
      "  4%|▍         | 39/1000 [09:35<2:39:25,  9.95s/it, best loss: -0.55523255814]\u001b[A\n",
      "\u001b[A{'max_leaf_nodes': 10, 'bootstrap': True, 'min_samples_leaf': 10, 'n_estimators': 611, 'max_features': 24129, 'criterion': 'gini', 'min_samples_split': 20, 'max_depth': 20, 'class_weight': None}\n",
      "\n",
      "  4%|▍         | 39/1000 [09:35<2:39:25,  9.95s/it, best loss: -0.55523255814]\u001b[A"
     ]
    },
    {
     "name": "stderr",
     "output_type": "stream",
     "text": [
      "Hyperopt:   4%|▍         | 40/1000 [09:46<2:53:00, 10.81s/it]"
     ]
    },
    {
     "name": "stdout",
     "output_type": "stream",
     "text": [
      "\n",
      "  4%|▍         | 40/1000 [09:35<2:53:00, 10.81s/it, best loss: -0.55523255814]\u001b[A\n",
      "\u001b[AParameters with this training accuracy 0.533075185544 and loss 1.52203404608 :\n",
      "\n",
      "  4%|▍         | 40/1000 [09:41<2:53:00, 10.81s/it, best loss: -0.55523255814]\u001b[A\n",
      "\u001b[AParameters with this testing accuracy 0.531976744186 and loss 1.52702424933 :\n",
      "\n",
      "  4%|▍         | 40/1000 [09:41<2:53:00, 10.81s/it, best loss: -0.55523255814]\u001b[A\n",
      "\u001b[A{'max_leaf_nodes': 10, 'bootstrap': True, 'min_samples_leaf': 23, 'n_estimators': 85, 'max_features': 11604, 'criterion': 'gini', 'min_samples_split': 20, 'max_depth': 20, 'class_weight': None}\n",
      "\n",
      "  4%|▍         | 40/1000 [09:41<2:53:00, 10.81s/it, best loss: -0.55523255814]\u001b[A"
     ]
    },
    {
     "name": "stderr",
     "output_type": "stream",
     "text": [
      "Hyperopt:   4%|▍         | 41/1000 [09:51<2:27:16,  9.21s/it]"
     ]
    },
    {
     "name": "stdout",
     "output_type": "stream",
     "text": [
      "\n",
      "  4%|▍         | 41/1000 [09:41<2:27:16,  9.21s/it, best loss: -0.55523255814]\u001b[A\n",
      "\u001b[AParameters with this training accuracy 0.539851565021 and loss 1.46761679731 :\n",
      "\n",
      "  4%|▍         | 41/1000 [09:46<2:27:16,  9.21s/it, best loss: -0.55523255814]\u001b[A\n",
      "\u001b[AParameters with this testing accuracy 0.540697674419 and loss 1.51341023651 :\n",
      "\n",
      "  4%|▍         | 41/1000 [09:46<2:27:16,  9.21s/it, best loss: -0.55523255814]\u001b[A\n",
      "\u001b[A{'max_leaf_nodes': 14, 'bootstrap': True, 'min_samples_leaf': 22, 'n_estimators': 17, 'max_features': 4539, 'criterion': 'gini', 'min_samples_split': 20, 'max_depth': 30, 'class_weight': None}\n",
      "\n",
      "  4%|▍         | 41/1000 [09:46<2:27:16,  9.21s/it, best loss: -0.55523255814]\u001b[A"
     ]
    },
    {
     "name": "stderr",
     "output_type": "stream",
     "text": [
      "Hyperopt:   4%|▍         | 42/1000 [09:56<2:06:38,  7.93s/it]"
     ]
    },
    {
     "name": "stdout",
     "output_type": "stream",
     "text": [
      "\n",
      "  4%|▍         | 42/1000 [09:46<2:06:37,  7.93s/it, best loss: -0.55523255814]\u001b[A\n",
      "\u001b[AParameters with this training accuracy 0.53888351081 and loss 1.51029941041 :\n",
      "\n",
      "  4%|▍         | 42/1000 [09:51<2:06:37,  7.93s/it, best loss: -0.55523255814]\u001b[A\n",
      "\u001b[AParameters with this testing accuracy 0.531976744186 and loss 1.52341322381 :\n",
      "\n",
      "  4%|▍         | 42/1000 [09:51<2:06:37,  7.93s/it, best loss: -0.55523255814]\u001b[A\n",
      "\u001b[A{'max_leaf_nodes': 10, 'bootstrap': True, 'min_samples_leaf': 10, 'n_estimators': 187, 'max_features': 11028, 'criterion': 'gini', 'min_samples_split': 90, 'max_depth': 27, 'class_weight': None}\n",
      "\n",
      "  4%|▍         | 42/1000 [09:51<2:06:37,  7.93s/it, best loss: -0.55523255814]\u001b[A"
     ]
    },
    {
     "name": "stderr",
     "output_type": "stream",
     "text": [
      "Hyperopt:   4%|▍         | 43/1000 [10:02<1:55:18,  7.23s/it]"
     ]
    },
    {
     "name": "stdout",
     "output_type": "stream",
     "text": [
      "\n",
      "  4%|▍         | 43/1000 [09:51<1:55:18,  7.23s/it, best loss: -0.55523255814]\u001b[A\n",
      "\u001b[AParameters with this training accuracy 0.534043239755 and loss 1.51172641318 :\n",
      "\n",
      "  4%|▍         | 43/1000 [10:03<1:55:18,  7.23s/it, best loss: -0.55523255814]\u001b[A\n",
      "\u001b[AParameters with this testing accuracy 0.529069767442 and loss 1.52528995691 :\n",
      "\n",
      "  4%|▍         | 43/1000 [10:03<1:55:18,  7.23s/it, best loss: -0.55523255814]\u001b[A\n",
      "\u001b[A{'max_leaf_nodes': 10, 'bootstrap': True, 'min_samples_leaf': 13, 'n_estimators': 829, 'max_features': 7867, 'criterion': 'gini', 'min_samples_split': 20, 'max_depth': 29, 'class_weight': None}\n",
      "\n",
      "  4%|▍         | 43/1000 [10:03<1:55:18,  7.23s/it, best loss: -0.55523255814]\u001b[A"
     ]
    },
    {
     "name": "stderr",
     "output_type": "stream",
     "text": [
      "Hyperopt:   4%|▍         | 44/1000 [10:13<2:15:00,  8.47s/it]"
     ]
    },
    {
     "name": "stdout",
     "output_type": "stream",
     "text": [
      "\n",
      "  4%|▍         | 44/1000 [10:03<2:15:00,  8.47s/it, best loss: -0.55523255814]\u001b[A\n",
      "\u001b[AParameters with this training accuracy 0.561148757664 and loss 1.41153939547 :\n",
      "\n",
      "  4%|▍         | 44/1000 [10:13<2:15:00,  8.47s/it, best loss: -0.55523255814]\u001b[A\n",
      "\u001b[AParameters with this testing accuracy 0.55523255814 and loss 1.46607142718 :\n",
      "\n",
      "  4%|▍         | 44/1000 [10:13<2:15:00,  8.47s/it, best loss: -0.55523255814]\u001b[A\n",
      "\u001b[A{'max_leaf_nodes': 16, 'bootstrap': True, 'min_samples_leaf': 10, 'n_estimators': 401, 'max_features': 24258, 'criterion': 'gini', 'min_samples_split': 10, 'max_depth': 30, 'class_weight': None}\n",
      "\n",
      "  4%|▍         | 44/1000 [10:13<2:15:00,  8.47s/it, best loss: -0.55523255814]\u001b[A"
     ]
    },
    {
     "name": "stderr",
     "output_type": "stream",
     "text": [
      "Hyperopt:   4%|▍         | 45/1000 [10:23<2:22:48,  8.97s/it]"
     ]
    },
    {
     "name": "stdout",
     "output_type": "stream",
     "text": [
      "\n",
      "  4%|▍         | 45/1000 [10:13<2:22:47,  8.97s/it, best loss: -0.55523255814]\u001b[A\n",
      "\u001b[AParameters with this training accuracy 0.55179090029 and loss 1.43078124464 :\n",
      "\n",
      "  4%|▍         | 45/1000 [10:26<2:22:47,  8.97s/it, best loss: -0.55523255814]\u001b[A\n",
      "\u001b[AParameters with this testing accuracy 0.537790697674 and loss 1.46914287546 :\n",
      "\n",
      "  4%|▍         | 45/1000 [10:26<2:22:47,  8.97s/it, best loss: -0.55523255814]\u001b[A\n",
      "\u001b[A{'max_leaf_nodes': 16, 'bootstrap': True, 'min_samples_leaf': 25, 'n_estimators': 960, 'max_features': 12016, 'criterion': 'gini', 'min_samples_split': 10, 'max_depth': 40, 'class_weight': None}\n",
      "\n",
      "  4%|▍         | 45/1000 [10:26<2:22:47,  8.97s/it, best loss: -0.55523255814]\u001b[A"
     ]
    },
    {
     "name": "stderr",
     "output_type": "stream",
     "text": [
      "Hyperopt:   5%|▍         | 46/1000 [10:37<2:43:03, 10.26s/it]"
     ]
    },
    {
     "name": "stdout",
     "output_type": "stream",
     "text": [
      "\n",
      "  5%|▍         | 46/1000 [10:26<2:43:04, 10.26s/it, best loss: -0.55523255814]\u001b[A\n",
      "\u001b[AParameters with this training accuracy 0.260729267506 and loss 2.06379409522 :\n",
      "\n",
      "  5%|▍         | 46/1000 [10:34<2:43:04, 10.26s/it, best loss: -0.55523255814]\u001b[A\n",
      "\u001b[AParameters with this testing accuracy 0.174418604651 and loss 2.17936473782 :\n",
      "\n",
      "  5%|▍         | 46/1000 [10:34<2:43:04, 10.26s/it, best loss: -0.55523255814]\u001b[A\n",
      "\u001b[A{'max_leaf_nodes': 16, 'bootstrap': True, 'min_samples_leaf': 10, 'n_estimators': 167, 'max_features': 25436, 'criterion': 'gini', 'min_samples_split': 10, 'max_depth': 30, 'class_weight': 'balanced'}\n",
      "\n",
      "  5%|▍         | 46/1000 [10:34<2:43:04, 10.26s/it, best loss: -0.55523255814]\u001b[A"
     ]
    },
    {
     "name": "stderr",
     "output_type": "stream",
     "text": [
      "Hyperopt:   5%|▍         | 47/1000 [10:44<2:29:21,  9.40s/it]"
     ]
    },
    {
     "name": "stdout",
     "output_type": "stream",
     "text": [
      "\n",
      "  5%|▍         | 47/1000 [10:34<2:29:21,  9.40s/it, best loss: -0.55523255814]\u001b[A\n",
      "\u001b[AParameters with this training accuracy 0.556308486609 and loss 1.43683763123 :\n",
      "\n",
      "  5%|▍         | 47/1000 [10:47<2:29:21,  9.40s/it, best loss: -0.55523255814]\u001b[A\n",
      "\u001b[AParameters with this testing accuracy 0.549418604651 and loss 1.47250161413 :\n",
      "\n",
      "  5%|▍         | 47/1000 [10:47<2:29:21,  9.40s/it, best loss: -0.55523255814]\u001b[A\n",
      "\u001b[A{'max_leaf_nodes': 16, 'bootstrap': True, 'min_samples_leaf': 28, 'n_estimators': 748, 'max_features': 24829, 'criterion': 'gini', 'min_samples_split': 10, 'max_depth': 46, 'class_weight': None}\n",
      "\n",
      "  5%|▍         | 47/1000 [10:48<2:29:21,  9.40s/it, best loss: -0.55523255814]\u001b[A"
     ]
    },
    {
     "name": "stderr",
     "output_type": "stream",
     "text": [
      "Hyperopt:   5%|▍         | 48/1000 [10:58<2:50:41, 10.76s/it]"
     ]
    },
    {
     "name": "stdout",
     "output_type": "stream",
     "text": [
      "\n",
      "  5%|▍         | 48/1000 [10:48<2:50:41, 10.76s/it, best loss: -0.55523255814]\u001b[A\n",
      "\u001b[AParameters with this training accuracy 0.271700548564 and loss 2.06487507658 :\n",
      "\n",
      "  5%|▍         | 48/1000 [11:02<2:50:41, 10.76s/it, best loss: -0.55523255814]\u001b[A\n",
      "\u001b[AParameters with this testing accuracy 0.203488372093 and loss 2.1814326254 :\n",
      "\n",
      "  5%|▍         | 48/1000 [11:02<2:50:41, 10.76s/it, best loss: -0.55523255814]\u001b[A\n",
      "\u001b[A{'max_leaf_nodes': 16, 'bootstrap': True, 'min_samples_leaf': 14, 'n_estimators': 752, 'max_features': 19927, 'criterion': 'gini', 'min_samples_split': 30, 'max_depth': 36, 'class_weight': 'balanced'}\n",
      "\n",
      "  5%|▍         | 48/1000 [11:02<2:50:41, 10.76s/it, best loss: -0.55523255814]\u001b[A"
     ]
    },
    {
     "name": "stderr",
     "output_type": "stream",
     "text": [
      "Hyperopt:   5%|▍         | 49/1000 [11:13<3:09:41, 11.97s/it]"
     ]
    },
    {
     "name": "stdout",
     "output_type": "stream",
     "text": [
      "\n",
      "  5%|▍         | 49/1000 [11:02<3:09:41, 11.97s/it, best loss: -0.55523255814]\u001b[A\n",
      "\u001b[AParameters with this training accuracy 0.570829299774 and loss 1.32779930766 :\n",
      "\n",
      "  5%|▍         | 49/1000 [11:07<3:09:41, 11.97s/it, best loss: -0.55523255814]\u001b[A\n",
      "\u001b[AParameters with this testing accuracy 0.537790697674 and loss 1.42416220797 :\n",
      "\n",
      "  5%|▍         | 49/1000 [11:07<3:09:41, 11.97s/it, best loss: -0.55523255814]\u001b[A\n",
      "\u001b[A{'max_leaf_nodes': 28, 'bootstrap': True, 'min_samples_leaf': 19, 'n_estimators': 116, 'max_features': 3837, 'criterion': 'gini', 'min_samples_split': 10, 'max_depth': 45, 'class_weight': None}\n",
      "\n",
      "  5%|▍         | 49/1000 [11:07<3:09:41, 11.97s/it, best loss: -0.55523255814]\u001b[A"
     ]
    },
    {
     "name": "stderr",
     "output_type": "stream",
     "text": [
      "Hyperopt:   5%|▌         | 50/1000 [11:18<2:36:16,  9.87s/it]"
     ]
    },
    {
     "name": "stdout",
     "output_type": "stream",
     "text": [
      "\n",
      "  5%|▌         | 50/1000 [11:07<2:36:15,  9.87s/it, best loss: -0.55523255814]\u001b[A\n",
      "\u001b[AParameters with this training accuracy 0.2894482091 and loss 2.02988077033 :\n",
      "\n",
      "  5%|▌         | 50/1000 [11:21<2:36:15,  9.87s/it, best loss: -0.55523255814]\u001b[A\n",
      "\u001b[AParameters with this testing accuracy 0.19476744186 and loss 2.15821000777 :\n",
      "\n",
      "  5%|▌         | 50/1000 [11:21<2:36:15,  9.87s/it, best loss: -0.55523255814]\u001b[A\n",
      "\u001b[A{'max_leaf_nodes': 18, 'bootstrap': True, 'min_samples_leaf': 9, 'n_estimators': 636, 'max_features': 17179, 'criterion': 'gini', 'min_samples_split': 70, 'max_depth': 30, 'class_weight': 'balanced'}\n",
      "\n",
      "  5%|▌         | 50/1000 [11:21<2:36:15,  9.87s/it, best loss: -0.55523255814]\u001b[A"
     ]
    },
    {
     "name": "stderr",
     "output_type": "stream",
     "text": [
      "Hyperopt:   5%|▌         | 51/1000 [11:31<2:54:08, 11.01s/it]"
     ]
    },
    {
     "name": "stdout",
     "output_type": "stream",
     "text": [
      "\n",
      "  5%|▌         | 51/1000 [11:21<2:54:08, 11.01s/it, best loss: -0.55523255814]\u001b[A\n",
      "\u001b[AParameters with this training accuracy 0.567279767667 and loss 1.38237134815 :\n",
      "\n",
      "  5%|▌         | 51/1000 [11:31<2:54:08, 11.01s/it, best loss: -0.55523255814]\u001b[A\n",
      "\u001b[AParameters with this testing accuracy 0.55523255814 and loss 1.44762749685 :\n",
      "\n",
      "  5%|▌         | 51/1000 [11:31<2:54:08, 11.01s/it, best loss: -0.55523255814]\u001b[A\n",
      "\u001b[A{'max_leaf_nodes': 20, 'bootstrap': True, 'min_samples_leaf': 20, 'n_estimators': 441, 'max_features': 21481, 'criterion': 'gini', 'min_samples_split': 60, 'max_depth': 9, 'class_weight': None}\n",
      "\n",
      "  5%|▌         | 51/1000 [11:31<2:54:08, 11.01s/it, best loss: -0.55523255814]\u001b[A"
     ]
    },
    {
     "name": "stderr",
     "output_type": "stream",
     "text": [
      "Hyperopt:   5%|▌         | 52/1000 [11:42<2:50:52, 10.82s/it]"
     ]
    },
    {
     "name": "stdout",
     "output_type": "stream",
     "text": [
      "\n",
      "  5%|▌         | 52/1000 [11:31<2:50:52, 10.82s/it, best loss: -0.55523255814]\u001b[A\n",
      "\u001b[AParameters with this training accuracy 0.482090997096 and loss 1.72922864435 :\n",
      "\n",
      "  5%|▌         | 52/1000 [11:41<2:50:52, 10.82s/it, best loss: -0.55523255814]\u001b[A\n",
      "\u001b[AParameters with this testing accuracy 0.505813953488 and loss 1.6852096282 :\n",
      "\n",
      "  5%|▌         | 52/1000 [11:41<2:50:52, 10.82s/it, best loss: -0.55523255814]\u001b[A\n",
      "\u001b[A{'max_leaf_nodes': 20, 'bootstrap': True, 'min_samples_leaf': 20, 'n_estimators': 739, 'max_features': 18831, 'criterion': 'gini', 'min_samples_split': 60, 'max_depth': 1, 'class_weight': None}\n",
      "\n",
      "  5%|▌         | 52/1000 [11:41<2:50:52, 10.82s/it, best loss: -0.55523255814]\u001b[A"
     ]
    },
    {
     "name": "stderr",
     "output_type": "stream",
     "text": [
      "Hyperopt:   5%|▌         | 53/1000 [11:51<2:44:24, 10.42s/it]"
     ]
    },
    {
     "name": "stdout",
     "output_type": "stream",
     "text": [
      "\n",
      "  5%|▌         | 53/1000 [11:41<2:44:24, 10.42s/it, best loss: -0.55523255814]\u001b[A\n",
      "\u001b[AParameters with this training accuracy 0.296224588577 and loss 1.99055882249 :\n",
      "\n",
      "  5%|▌         | 53/1000 [11:50<2:44:24, 10.42s/it, best loss: -0.55523255814]\u001b[A\n",
      "\u001b[AParameters with this testing accuracy 0.223837209302 and loss 2.12569054008 :\n",
      "\n",
      "  5%|▌         | 53/1000 [11:50<2:44:24, 10.42s/it, best loss: -0.55523255814]\u001b[A\n",
      "\u001b[A{'max_leaf_nodes': 20, 'bootstrap': True, 'min_samples_leaf': 18, 'n_estimators': 284, 'max_features': 22054, 'criterion': 'gini', 'min_samples_split': 60, 'max_depth': 12, 'class_weight': 'balanced'}\n",
      "\n",
      "  5%|▌         | 53/1000 [11:50<2:44:24, 10.42s/it, best loss: -0.55523255814]\u001b[A"
     ]
    },
    {
     "name": "stderr",
     "output_type": "stream",
     "text": [
      "Hyperopt:   5%|▌         | 54/1000 [12:00<2:37:26,  9.99s/it]"
     ]
    },
    {
     "name": "stdout",
     "output_type": "stream",
     "text": [
      "\n",
      "  5%|▌         | 54/1000 [11:50<2:37:25,  9.99s/it, best loss: -0.55523255814]\u001b[A\n",
      "\u001b[AParameters with this training accuracy 0.56695708293 and loss 1.38154399327 :\n",
      "\n",
      "  5%|▌         | 54/1000 [12:03<2:37:25,  9.99s/it, best loss: -0.55523255814]\u001b[A\n",
      "\u001b[AParameters with this testing accuracy 0.552325581395 and loss 1.44414592684 :\n",
      "\n",
      "  5%|▌         | 54/1000 [12:04<2:37:25,  9.99s/it, best loss: -0.55523255814]\u001b[A\n",
      "\u001b[A{'max_leaf_nodes': 20, 'bootstrap': True, 'min_samples_leaf': 20, 'n_estimators': 993, 'max_features': 15085, 'criterion': 'gini', 'min_samples_split': 60, 'max_depth': 9, 'class_weight': None}\n",
      "\n",
      "  5%|▌         | 54/1000 [12:04<2:37:25,  9.99s/it, best loss: -0.55523255814]\u001b[A"
     ]
    },
    {
     "name": "stderr",
     "output_type": "stream",
     "text": [
      "Hyperopt:   6%|▌         | 55/1000 [12:14<2:55:02, 11.11s/it]"
     ]
    },
    {
     "name": "stdout",
     "output_type": "stream",
     "text": [
      "\n",
      "  6%|▌         | 55/1000 [12:04<2:55:03, 11.11s/it, best loss: -0.55523255814]\u001b[A\n",
      "\u001b[AParameters with this training accuracy 0.517586318167 and loss 1.48444493758 :\n",
      "\n",
      "  6%|▌         | 55/1000 [12:14<2:55:03, 11.11s/it, best loss: -0.55523255814]\u001b[A\n",
      "\u001b[AParameters with this testing accuracy 0.526162790698 and loss 1.53972563225 :\n",
      "\n",
      "  6%|▌         | 55/1000 [12:14<2:55:03, 11.11s/it, best loss: -0.55523255814]\u001b[A\n",
      "\u001b[A{'max_leaf_nodes': 24, 'bootstrap': True, 'min_samples_leaf': 22, 'n_estimators': 903, 'max_features': 460, 'criterion': 'gini', 'min_samples_split': 60, 'max_depth': 9, 'class_weight': None}\n",
      "\n",
      "  6%|▌         | 55/1000 [12:14<2:55:03, 11.11s/it, best loss: -0.55523255814]\u001b[A"
     ]
    },
    {
     "name": "stderr",
     "output_type": "stream",
     "text": [
      "Hyperopt:   6%|▌         | 56/1000 [12:25<2:52:00, 10.93s/it]"
     ]
    },
    {
     "name": "stdout",
     "output_type": "stream",
     "text": [
      "\n",
      "  6%|▌         | 56/1000 [12:14<2:52:00, 10.93s/it, best loss: -0.55523255814]\u001b[A\n",
      "\u001b[AParameters with this training accuracy 0.202968699581 and loss 2.34407649942 :\n",
      "\n",
      "  6%|▌         | 56/1000 [12:22<2:52:00, 10.93s/it, best loss: -0.55523255814]\u001b[A\n",
      "\u001b[AParameters with this testing accuracy 0.148255813953 and loss 2.40785625481 :\n",
      "\n",
      "  6%|▌         | 56/1000 [12:22<2:52:00, 10.93s/it, best loss: -0.55523255814]\u001b[A\n",
      "\u001b[A{'max_leaf_nodes': 20, 'bootstrap': True, 'min_samples_leaf': 3, 'n_estimators': 441, 'max_features': 16322, 'criterion': 'gini', 'min_samples_split': 30, 'max_depth': 3, 'class_weight': 'balanced'}\n",
      "\n",
      "  6%|▌         | 56/1000 [12:22<2:52:00, 10.93s/it, best loss: -0.55523255814]\u001b[A"
     ]
    },
    {
     "name": "stderr",
     "output_type": "stream",
     "text": [
      "Hyperopt:   6%|▌         | 57/1000 [12:33<2:38:15, 10.07s/it]"
     ]
    },
    {
     "name": "stdout",
     "output_type": "stream",
     "text": [
      "\n",
      "  6%|▌         | 57/1000 [12:22<2:38:15, 10.07s/it, best loss: -0.55523255814]\u001b[A\n",
      "\u001b[AParameters with this training accuracy 0.530816392385 and loss 1.44356938847 :\n",
      "\n",
      "  6%|▌         | 57/1000 [12:28<2:38:15, 10.07s/it, best loss: -0.55523255814]\u001b[A\n",
      "\u001b[AParameters with this testing accuracy 0.53488372093 and loss 1.49467418579 :\n",
      "\n",
      "  6%|▌         | 57/1000 [12:28<2:38:15, 10.07s/it, best loss: -0.55523255814]\u001b[A\n",
      "\u001b[A{'max_leaf_nodes': 16, 'bootstrap': True, 'min_samples_leaf': 8, 'n_estimators': 268, 'max_features': 1612, 'criterion': 'gini', 'min_samples_split': 10, 'max_depth': 32, 'class_weight': None}\n",
      "\n",
      "  6%|▌         | 57/1000 [12:28<2:38:15, 10.07s/it, best loss: -0.55523255814]\u001b[A"
     ]
    },
    {
     "name": "stderr",
     "output_type": "stream",
     "text": [
      "Hyperopt:   6%|▌         | 58/1000 [12:38<2:17:38,  8.77s/it]"
     ]
    },
    {
     "name": "stdout",
     "output_type": "stream",
     "text": [
      "\n",
      "  6%|▌         | 58/1000 [12:28<2:17:37,  8.77s/it, best loss: -0.55523255814]\u001b[A\n",
      "\u001b[AParameters with this training accuracy 0.576314940303 and loss 1.34414561999 :\n",
      "\n",
      "  6%|▌         | 58/1000 [12:40<2:17:37,  8.77s/it, best loss: -0.55523255814]\u001b[A\n",
      "\u001b[AParameters with this testing accuracy 0.561046511628 and loss 1.4299089005 :\n",
      "\n",
      "  6%|▌         | 58/1000 [12:40<2:17:37,  8.77s/it, best loss: -0.55523255814]\u001b[A\n",
      "\u001b[A{'max_leaf_nodes': 22, 'bootstrap': True, 'min_samples_leaf': 15, 'n_estimators': 498, 'max_features': 17467, 'criterion': 'gini', 'min_samples_split': 90, 'max_depth': 23, 'class_weight': None}\n",
      "\n",
      "  6%|▌         | 58/1000 [12:40<2:17:37,  8.77s/it, best loss: -0.55523255814]\u001b[A"
     ]
    },
    {
     "name": "stderr",
     "output_type": "stream",
     "text": [
      "Hyperopt:   6%|▌         | 59/1000 [12:50<2:32:06,  9.70s/it]"
     ]
    },
    {
     "name": "stdout",
     "output_type": "stream",
     "text": [
      "\n",
      "  6%|▌         | 59/1000 [12:40<2:32:06,  9.70s/it, best loss: -0.561046511628]\u001b[A\n",
      "\u001b[AParameters with this training accuracy 0.364956437561 and loss 1.9941581205 :\n",
      "\n",
      "  6%|▌         | 59/1000 [12:46<2:32:06,  9.70s/it, best loss: -0.561046511628]\u001b[A\n",
      "\u001b[AParameters with this testing accuracy 0.247093023256 and loss 2.12149378475 :\n",
      "\n",
      "  6%|▌         | 59/1000 [12:46<2:32:06,  9.70s/it, best loss: -0.561046511628]\u001b[A\n",
      "\u001b[A{'max_leaf_nodes': 22, 'bootstrap': True, 'min_samples_leaf': 15, 'n_estimators': 339, 'max_features': 4108, 'criterion': 'gini', 'min_samples_split': 90, 'max_depth': 23, 'class_weight': 'balanced'}\n",
      "\n",
      "  6%|▌         | 59/1000 [12:46<2:32:06,  9.70s/it, best loss: -0.561046511628]\u001b[A"
     ]
    },
    {
     "name": "stderr",
     "output_type": "stream",
     "text": [
      "Hyperopt:   6%|▌         | 60/1000 [12:56<2:15:22,  8.64s/it]"
     ]
    },
    {
     "name": "stdout",
     "output_type": "stream",
     "text": [
      "\n",
      "  6%|▌         | 60/1000 [12:46<2:15:22,  8.64s/it, best loss: -0.561046511628]\u001b[A\n",
      "\u001b[AParameters with this training accuracy 0.573088092933 and loss 1.3466387184 :\n",
      "\n",
      "  6%|▌         | 60/1000 [12:58<2:15:22,  8.64s/it, best loss: -0.561046511628]\u001b[A\n",
      "\u001b[AParameters with this testing accuracy 0.563953488372 and loss 1.43334376147 :\n",
      "\n",
      "  6%|▌         | 60/1000 [12:58<2:15:22,  8.64s/it, best loss: -0.561046511628]\u001b[A\n",
      "\u001b[A{'max_leaf_nodes': 22, 'bootstrap': True, 'min_samples_leaf': 15, 'n_estimators': 497, 'max_features': 24512, 'criterion': 'gini', 'min_samples_split': 90, 'max_depth': 14, 'class_weight': None}\n",
      "\n",
      "  6%|▌         | 60/1000 [12:58<2:15:22,  8.64s/it, best loss: -0.561046511628]\u001b[A"
     ]
    },
    {
     "name": "stderr",
     "output_type": "stream",
     "text": [
      "Hyperopt:   6%|▌         | 61/1000 [13:09<2:33:10,  9.79s/it]"
     ]
    },
    {
     "name": "stdout",
     "output_type": "stream",
     "text": [
      "\n",
      "  6%|▌         | 61/1000 [12:58<2:33:10,  9.79s/it, best loss: -0.563953488372]\u001b[A\n",
      "\u001b[AParameters with this training accuracy 0.575024201355 and loss 1.34351073549 :\n",
      "\n",
      "  6%|▌         | 61/1000 [13:09<2:33:10,  9.79s/it, best loss: -0.563953488372]\u001b[A\n",
      "\u001b[AParameters with this testing accuracy 0.558139534884 and loss 1.42555129318 :\n",
      "\n",
      "  6%|▌         | 61/1000 [13:09<2:33:10,  9.79s/it, best loss: -0.563953488372]\u001b[A\n",
      "\u001b[A{'max_leaf_nodes': 22, 'bootstrap': True, 'min_samples_leaf': 15, 'n_estimators': 521, 'max_features': 20010, 'criterion': 'gini', 'min_samples_split': 90, 'max_depth': 14, 'class_weight': None}\n",
      "\n",
      "  6%|▌         | 61/1000 [13:09<2:33:10,  9.79s/it, best loss: -0.563953488372]\u001b[A"
     ]
    },
    {
     "name": "stderr",
     "output_type": "stream",
     "text": [
      "Hyperopt:   6%|▌         | 62/1000 [13:20<2:37:41, 10.09s/it]"
     ]
    },
    {
     "name": "stdout",
     "output_type": "stream",
     "text": [
      "\n",
      "  6%|▌         | 62/1000 [13:09<2:37:42, 10.09s/it, best loss: -0.563953488372]\u001b[A\n",
      "\u001b[AParameters with this training accuracy 0.561471442401 and loss 1.36796711238 :\n",
      "\n",
      "  6%|▌         | 62/1000 [13:18<2:37:42, 10.09s/it, best loss: -0.563953488372]\u001b[A\n",
      "\u001b[AParameters with this testing accuracy 0.546511627907 and loss 1.44319515974 :\n",
      "\n",
      "  6%|▌         | 62/1000 [13:18<2:37:42, 10.09s/it, best loss: -0.563953488372]\u001b[A\n",
      "\u001b[A{'max_leaf_nodes': 22, 'bootstrap': True, 'min_samples_leaf': 16, 'n_estimators': 498, 'max_features': 4373, 'criterion': 'gini', 'min_samples_split': 90, 'max_depth': 25, 'class_weight': None}\n",
      "\n",
      "  6%|▌         | 62/1000 [13:18<2:37:42, 10.09s/it, best loss: -0.563953488372]\u001b[A"
     ]
    },
    {
     "name": "stderr",
     "output_type": "stream",
     "text": [
      "Hyperopt:   6%|▋         | 63/1000 [13:29<2:32:47,  9.78s/it]"
     ]
    },
    {
     "name": "stdout",
     "output_type": "stream",
     "text": [
      "\n",
      "  6%|▋         | 63/1000 [13:18<2:32:47,  9.78s/it, best loss: -0.563953488372]\u001b[A\n",
      "\u001b[AParameters with this training accuracy 0.25814778961 and loss 2.04803874654 :\n",
      "\n",
      "  6%|▋         | 63/1000 [13:34<2:32:47,  9.78s/it, best loss: -0.563953488372]\u001b[A\n",
      "\u001b[AParameters with this testing accuracy 0.220930232558 and loss 2.23590008874 :\n",
      "\n",
      "  6%|▋         | 63/1000 [13:34<2:32:47,  9.78s/it, best loss: -0.563953488372]\u001b[A\n",
      "\u001b[A{'max_leaf_nodes': 22, 'bootstrap': False, 'min_samples_leaf': 15, 'n_estimators': 601, 'max_features': 25070, 'criterion': 'gini', 'min_samples_split': 90, 'max_depth': 49, 'class_weight': 'balanced'}\n",
      "\n",
      "  6%|▋         | 63/1000 [13:34<2:32:47,  9.78s/it, best loss: -0.563953488372]\u001b[A"
     ]
    },
    {
     "name": "stderr",
     "output_type": "stream",
     "text": [
      "Hyperopt:   6%|▋         | 64/1000 [13:45<3:01:50, 11.66s/it]"
     ]
    },
    {
     "name": "stdout",
     "output_type": "stream",
     "text": [
      "\n",
      "  6%|▋         | 64/1000 [13:34<3:01:50, 11.66s/it, best loss: -0.563953488372]\u001b[A\n",
      "\u001b[AParameters with this training accuracy 0.579541787673 and loss 1.34051551287 :\n",
      "\n",
      "  6%|▋         | 64/1000 [13:42<3:01:50, 11.66s/it, best loss: -0.563953488372]\u001b[A\n",
      "\u001b[AParameters with this testing accuracy 0.561046511628 and loss 1.42415154487 :\n",
      "\n",
      "  6%|▋         | 64/1000 [13:42<3:01:50, 11.66s/it, best loss: -0.563953488372]\u001b[A\n",
      "\u001b[A{'max_leaf_nodes': 22, 'bootstrap': True, 'min_samples_leaf': 15, 'n_estimators': 202, 'max_features': 15721, 'criterion': 'gini', 'min_samples_split': 90, 'max_depth': 42, 'class_weight': None}\n",
      "\n",
      "  6%|▋         | 64/1000 [13:42<3:01:50, 11.66s/it, best loss: -0.563953488372]\u001b[A"
     ]
    },
    {
     "name": "stderr",
     "output_type": "stream",
     "text": [
      "Hyperopt:   6%|▋         | 65/1000 [13:52<2:41:36, 10.37s/it]"
     ]
    },
    {
     "name": "stdout",
     "output_type": "stream",
     "text": [
      "\n",
      "  6%|▋         | 65/1000 [13:42<2:41:36, 10.37s/it, best loss: -0.563953488372]\u001b[A\n",
      "\u001b[AParameters with this training accuracy 0.577282994514 and loss 1.34428264773 :\n",
      "\n",
      "  6%|▋         | 65/1000 [13:50<2:41:36, 10.37s/it, best loss: -0.563953488372]\u001b[A\n",
      "\u001b[AParameters with this testing accuracy 0.55523255814 and loss 1.42431040609 :\n",
      "\n",
      "  6%|▋         | 65/1000 [13:50<2:41:36, 10.37s/it, best loss: -0.563953488372]\u001b[A\n",
      "\u001b[A{'max_leaf_nodes': 22, 'bootstrap': True, 'min_samples_leaf': 15, 'n_estimators': 470, 'max_features': 14274, 'criterion': 'gini', 'min_samples_split': 90, 'max_depth': 42, 'class_weight': None}\n",
      "\n",
      "  6%|▋         | 65/1000 [13:50<2:41:36, 10.37s/it, best loss: -0.563953488372]\u001b[A"
     ]
    },
    {
     "name": "stderr",
     "output_type": "stream",
     "text": [
      "Hyperopt:   7%|▋         | 66/1000 [14:01<2:34:09,  9.90s/it]"
     ]
    },
    {
     "name": "stdout",
     "output_type": "stream",
     "text": [
      "\n",
      "  7%|▋         | 66/1000 [13:50<2:34:09,  9.90s/it, best loss: -0.563953488372]\u001b[A\n",
      "\u001b[AParameters with this training accuracy 0.54211035818 and loss 1.39730480758 :\n",
      "\n",
      "  7%|▋         | 66/1000 [13:56<2:34:09,  9.90s/it, best loss: -0.563953488372]\u001b[A\n",
      "\u001b[AParameters with this testing accuracy 0.531976744186 and loss 1.46598912108 :\n",
      "\n",
      "  7%|▋         | 66/1000 [13:56<2:34:09,  9.90s/it, best loss: -0.563953488372]\u001b[A\n",
      "\u001b[A{'max_leaf_nodes': 22, 'bootstrap': True, 'min_samples_leaf': 15, 'n_estimators': 27, 'max_features': 1753, 'criterion': 'gini', 'min_samples_split': 90, 'max_depth': 42, 'class_weight': None}\n",
      "\n",
      "  7%|▋         | 66/1000 [13:56<2:34:09,  9.90s/it, best loss: -0.563953488372]\u001b[A"
     ]
    },
    {
     "name": "stderr",
     "output_type": "stream",
     "text": [
      "Hyperopt:   7%|▋         | 67/1000 [14:06<2:13:28,  8.58s/it]"
     ]
    },
    {
     "name": "stdout",
     "output_type": "stream",
     "text": [
      "\n",
      "  7%|▋         | 67/1000 [13:56<2:13:28,  8.58s/it, best loss: -0.563953488372]\u001b[A\n",
      "\u001b[AParameters with this training accuracy 0.574378831881 and loss 1.32070249173 :\n",
      "\n",
      "  7%|▋         | 67/1000 [14:03<2:13:28,  8.58s/it, best loss: -0.563953488372]\u001b[A\n",
      "\u001b[AParameters with this testing accuracy 0.549418604651 and loss 1.41671491485 :\n",
      "\n",
      "  7%|▋         | 67/1000 [14:03<2:13:28,  8.58s/it, best loss: -0.563953488372]\u001b[A\n",
      "\u001b[A{'max_leaf_nodes': 22, 'bootstrap': True, 'min_samples_leaf': 4, 'n_estimators': 164, 'max_features': 10780, 'criterion': 'gini', 'min_samples_split': 90, 'max_depth': 24, 'class_weight': None}\n",
      "\n",
      "  7%|▋         | 67/1000 [14:03<2:13:28,  8.58s/it, best loss: -0.563953488372]\u001b[A"
     ]
    },
    {
     "name": "stderr",
     "output_type": "stream",
     "text": [
      "Hyperopt:   7%|▋         | 68/1000 [14:14<2:06:46,  8.16s/it]"
     ]
    },
    {
     "name": "stdout",
     "output_type": "stream",
     "text": [
      "\n",
      "  7%|▋         | 68/1000 [14:03<2:06:46,  8.16s/it, best loss: -0.563953488372]\u001b[A\n",
      "\u001b[AParameters with this training accuracy 0.56695708293 and loss 1.36901065337 :\n",
      "\n",
      "  7%|▋         | 68/1000 [14:10<2:06:46,  8.16s/it, best loss: -0.563953488372]\u001b[A\n",
      "\u001b[AParameters with this testing accuracy 0.546511627907 and loss 1.43188970152 :\n",
      "\n",
      "  7%|▋         | 68/1000 [14:10<2:06:46,  8.16s/it, best loss: -0.563953488372]\u001b[A\n",
      "\u001b[A{'max_leaf_nodes': 22, 'bootstrap': True, 'min_samples_leaf': 26, 'n_estimators': 232, 'max_features': 9819, 'criterion': 'gini', 'min_samples_split': 90, 'max_depth': 43, 'class_weight': None}\n",
      "\n",
      "  7%|▋         | 68/1000 [14:10<2:06:46,  8.16s/it, best loss: -0.563953488372]\u001b[A"
     ]
    },
    {
     "name": "stderr",
     "output_type": "stream",
     "text": [
      "Hyperopt:   7%|▋         | 69/1000 [14:21<2:01:12,  7.81s/it]"
     ]
    },
    {
     "name": "stdout",
     "output_type": "stream",
     "text": [
      "\n",
      "  7%|▋         | 69/1000 [14:10<2:01:12,  7.81s/it, best loss: -0.563953488372]\u001b[A\n",
      "\u001b[AParameters with this training accuracy 0.565989028719 and loss 1.36193713446 :\n",
      "\n",
      "  7%|▋         | 69/1000 [14:18<2:01:12,  7.81s/it, best loss: -0.563953488372]\u001b[A\n",
      "\u001b[AParameters with this testing accuracy 0.546511627907 and loss 1.43159581231 :\n",
      "\n",
      "  7%|▋         | 69/1000 [14:18<2:01:12,  7.81s/it, best loss: -0.563953488372]\u001b[A\n",
      "\u001b[A{'max_leaf_nodes': 22, 'bootstrap': True, 'min_samples_leaf': 21, 'n_estimators': 525, 'max_features': 9322, 'criterion': 'gini', 'min_samples_split': 90, 'max_depth': 23, 'class_weight': None}\n",
      "\n",
      "  7%|▋         | 69/1000 [14:18<2:01:12,  7.81s/it, best loss: -0.563953488372]\u001b[A"
     ]
    },
    {
     "name": "stderr",
     "output_type": "stream",
     "text": [
      "Hyperopt:   7%|▋         | 70/1000 [14:29<2:03:31,  7.97s/it]"
     ]
    },
    {
     "name": "stdout",
     "output_type": "stream",
     "text": [
      "\n",
      "  7%|▋         | 70/1000 [14:18<2:03:31,  7.97s/it, best loss: -0.563953488372]\u001b[A\n",
      "\u001b[AParameters with this training accuracy 0.549854791868 and loss 1.46030396438 :\n",
      "\n",
      "  7%|▋         | 70/1000 [14:30<2:03:31,  7.97s/it, best loss: -0.563953488372]\u001b[A\n",
      "\u001b[AParameters with this testing accuracy 0.537790697674 and loss 1.48556225429 :\n",
      "\n",
      "  7%|▋         | 70/1000 [14:30<2:03:31,  7.97s/it, best loss: -0.563953488372]\u001b[A\n",
      "\u001b[A{'max_leaf_nodes': 14, 'bootstrap': True, 'min_samples_leaf': 29, 'n_estimators': 603, 'max_features': 15164, 'criterion': 'gini', 'min_samples_split': 40, 'max_depth': 19, 'class_weight': None}\n",
      "\n",
      "  7%|▋         | 70/1000 [14:30<2:03:31,  7.97s/it, best loss: -0.563953488372]\u001b[A"
     ]
    },
    {
     "name": "stderr",
     "output_type": "stream",
     "text": [
      "Hyperopt:   7%|▋         | 71/1000 [14:41<2:21:41,  9.15s/it]"
     ]
    },
    {
     "name": "stdout",
     "output_type": "stream",
     "text": [
      "\n",
      "  7%|▋         | 71/1000 [14:30<2:21:41,  9.15s/it, best loss: -0.563953488372]\u001b[A\n",
      "\u001b[AParameters with this training accuracy 0.573733462407 and loss 1.34520066825 :\n",
      "\n",
      "  7%|▋         | 71/1000 [14:41<2:21:41,  9.15s/it, best loss: -0.563953488372]\u001b[A\n",
      "\u001b[AParameters with this testing accuracy 0.561046511628 and loss 1.42465143548 :\n",
      "\n",
      "  7%|▋         | 71/1000 [14:41<2:21:41,  9.15s/it, best loss: -0.563953488372]\u001b[A\n",
      "\u001b[A{'max_leaf_nodes': 22, 'bootstrap': True, 'min_samples_leaf': 15, 'n_estimators': 419, 'max_features': 22504, 'criterion': 'gini', 'min_samples_split': 90, 'max_depth': 22, 'class_weight': None}\n",
      "\n",
      "  7%|▋         | 71/1000 [14:41<2:21:41,  9.15s/it, best loss: -0.563953488372]\u001b[A"
     ]
    },
    {
     "name": "stderr",
     "output_type": "stream",
     "text": [
      "Hyperopt:   7%|▋         | 72/1000 [14:51<2:26:51,  9.50s/it]"
     ]
    },
    {
     "name": "stdout",
     "output_type": "stream",
     "text": [
      "\n",
      "  7%|▋         | 72/1000 [14:41<2:26:51,  9.50s/it, best loss: -0.563953488372]\u001b[A\n",
      "\u001b[AParameters with this training accuracy 0.539851565021 and loss 1.47892712339 :\n",
      "\n",
      "  7%|▋         | 72/1000 [14:48<2:26:51,  9.50s/it, best loss: -0.563953488372]\u001b[A\n",
      "\u001b[AParameters with this testing accuracy 0.537790697674 and loss 1.49958311028 :\n",
      "\n",
      "  7%|▋         | 72/1000 [14:48<2:26:51,  9.50s/it, best loss: -0.563953488372]\u001b[A\n",
      "\u001b[A{'max_leaf_nodes': 12, 'bootstrap': True, 'min_samples_leaf': 17, 'n_estimators': 340, 'max_features': 11303, 'criterion': 'gini', 'min_samples_split': 70, 'max_depth': 22, 'class_weight': None}\n",
      "\n",
      "  7%|▋         | 72/1000 [14:48<2:26:51,  9.50s/it, best loss: -0.563953488372]\u001b[A"
     ]
    },
    {
     "name": "stderr",
     "output_type": "stream",
     "text": [
      "Hyperopt:   7%|▋         | 73/1000 [14:59<2:17:49,  8.92s/it]"
     ]
    },
    {
     "name": "stdout",
     "output_type": "stream",
     "text": [
      "\n",
      "  7%|▋         | 73/1000 [14:48<2:17:49,  8.92s/it, best loss: -0.563953488372]\u001b[A\n",
      "\u001b[AParameters with this training accuracy 0.588899645047 and loss 1.28651025389 :\n",
      "\n",
      "  7%|▋         | 73/1000 [15:01<2:17:49,  8.92s/it, best loss: -0.563953488372]\u001b[A\n",
      "\u001b[AParameters with this testing accuracy 0.546511627907 and loss 1.40215785853 :\n",
      "\n",
      "  7%|▋         | 73/1000 [15:01<2:17:49,  8.92s/it, best loss: -0.563953488372]\u001b[A\n",
      "\u001b[A{'max_leaf_nodes': 28, 'bootstrap': True, 'min_samples_leaf': 11, 'n_estimators': 972, 'max_features': 6920, 'criterion': 'gini', 'min_samples_split': 90, 'max_depth': 22, 'class_weight': None}\n",
      "\n",
      "  7%|▋         | 73/1000 [15:01<2:17:49,  8.92s/it, best loss: -0.563953488372]\u001b[A"
     ]
    },
    {
     "name": "stderr",
     "output_type": "stream",
     "text": [
      "Hyperopt:   7%|▋         | 74/1000 [15:11<2:34:33, 10.01s/it]"
     ]
    },
    {
     "name": "stdout",
     "output_type": "stream",
     "text": [
      "\n",
      "  7%|▋         | 74/1000 [15:01<2:34:33, 10.02s/it, best loss: -0.563953488372]\u001b[A\n",
      "\u001b[AParameters with this training accuracy 0.572120038722 and loss 1.36600445443 :\n",
      "\n",
      "  7%|▋         | 74/1000 [15:09<2:34:33, 10.02s/it, best loss: -0.563953488372]\u001b[A\n",
      "\u001b[AParameters with this testing accuracy 0.552325581395 and loss 1.42698190096 :\n",
      "\n",
      "  7%|▋         | 74/1000 [15:09<2:34:33, 10.02s/it, best loss: -0.563953488372]\u001b[A\n",
      "\u001b[A{'max_leaf_nodes': 22, 'bootstrap': False, 'min_samples_leaf': 24, 'n_estimators': 454, 'max_features': 7232, 'criterion': 'gini', 'min_samples_split': 90, 'max_depth': 14, 'class_weight': None}\n",
      "\n",
      "  7%|▋         | 74/1000 [15:09<2:34:33, 10.02s/it, best loss: -0.563953488372]\u001b[A"
     ]
    },
    {
     "name": "stderr",
     "output_type": "stream",
     "text": [
      "Hyperopt:   8%|▊         | 75/1000 [15:19<2:24:37,  9.38s/it]"
     ]
    },
    {
     "name": "stdout",
     "output_type": "stream",
     "text": [
      "\n",
      "  8%|▊         | 75/1000 [15:09<2:24:37,  9.38s/it, best loss: -0.563953488372]\u001b[A\n",
      "\u001b[AParameters with this training accuracy 0.542433042917 and loss 1.43261953336 :\n",
      "\n",
      "  8%|▊         | 75/1000 [15:14<2:24:37,  9.38s/it, best loss: -0.563953488372]\u001b[A\n",
      "\u001b[AParameters with this testing accuracy 0.529069767442 and loss 1.48513423845 :\n",
      "\n",
      "  8%|▊         | 75/1000 [15:14<2:24:37,  9.38s/it, best loss: -0.563953488372]\u001b[A\n",
      "\u001b[A{'max_leaf_nodes': 18, 'bootstrap': True, 'min_samples_leaf': 15, 'n_estimators': 90, 'max_features': 1834, 'criterion': 'gini', 'min_samples_split': 90, 'max_depth': 48, 'class_weight': None}\n",
      "\n",
      "  8%|▊         | 75/1000 [15:14<2:24:37,  9.38s/it, best loss: -0.563953488372]\u001b[A"
     ]
    },
    {
     "name": "stderr",
     "output_type": "stream",
     "text": [
      "Hyperopt:   8%|▊         | 76/1000 [15:25<2:06:25,  8.21s/it]"
     ]
    },
    {
     "name": "stdout",
     "output_type": "stream",
     "text": [
      "\n",
      "  8%|▊         | 76/1000 [15:14<2:06:24,  8.21s/it, best loss: -0.563953488372]\u001b[A\n",
      "\u001b[AParameters with this training accuracy 0.58857696031 and loss 1.29788466211 :\n",
      "\n",
      "  8%|▊         | 76/1000 [15:21<2:06:24,  8.21s/it, best loss: -0.563953488372]\u001b[A\n",
      "\u001b[AParameters with this testing accuracy 0.56976744186 and loss 1.41038564186 :\n",
      "\n",
      "  8%|▊         | 76/1000 [15:21<2:06:24,  8.21s/it, best loss: -0.563953488372]\u001b[A\n",
      "\u001b[A{'max_leaf_nodes': 24, 'bootstrap': True, 'min_samples_leaf': 7, 'n_estimators': 215, 'max_features': 16572, 'criterion': 'gini', 'min_samples_split': 30, 'max_depth': 26, 'class_weight': None}\n",
      "\n",
      "  8%|▊         | 76/1000 [15:21<2:06:24,  8.21s/it, best loss: -0.563953488372]\u001b[A"
     ]
    },
    {
     "name": "stderr",
     "output_type": "stream",
     "text": [
      "Hyperopt:   8%|▊         | 77/1000 [15:32<2:00:33,  7.84s/it]"
     ]
    },
    {
     "name": "stdout",
     "output_type": "stream",
     "text": [
      "\n",
      "  8%|▊         | 77/1000 [15:21<2:00:33,  7.84s/it, best loss: -0.56976744186] \u001b[A\n",
      "\u001b[AParameters with this training accuracy 0.563407550823 and loss 1.42024257204 :\n",
      "\n",
      "  8%|▊         | 77/1000 [15:34<2:00:33,  7.84s/it, best loss: -0.56976744186]\u001b[A\n",
      "\u001b[AParameters with this testing accuracy 0.561046511628 and loss 1.48577374863 :\n",
      "\n",
      "  8%|▊         | 77/1000 [15:34<2:00:33,  7.84s/it, best loss: -0.56976744186]\u001b[A\n",
      "\u001b[A{'max_leaf_nodes': 24, 'bootstrap': True, 'min_samples_leaf': 27, 'n_estimators': 813, 'max_features': 18115, 'criterion': 'gini', 'min_samples_split': 30, 'max_depth': 5, 'class_weight': None}\n",
      "\n",
      "  8%|▊         | 77/1000 [15:34<2:00:33,  7.84s/it, best loss: -0.56976744186]\u001b[A"
     ]
    },
    {
     "name": "stderr",
     "output_type": "stream",
     "text": [
      "Hyperopt:   8%|▊         | 78/1000 [15:45<2:25:41,  9.48s/it]"
     ]
    },
    {
     "name": "stdout",
     "output_type": "stream",
     "text": [
      "\n",
      "  8%|▊         | 78/1000 [15:34<2:25:42,  9.48s/it, best loss: -0.56976744186]\u001b[A\n",
      "\u001b[AParameters with this training accuracy 0.588254275573 and loss 1.33726377214 :\n",
      "\n",
      "  8%|▊         | 78/1000 [15:54<2:25:42,  9.48s/it, best loss: -0.56976744186]\u001b[A\n",
      "\u001b[AParameters with this testing accuracy 0.566860465116 and loss 1.41627491797 :\n",
      "\n",
      "  8%|▊         | 78/1000 [15:54<2:25:42,  9.48s/it, best loss: -0.56976744186]\u001b[A\n",
      "\u001b[A{'max_leaf_nodes': 24, 'bootstrap': False, 'min_samples_leaf': 7, 'n_estimators': 957, 'max_features': 16786, 'criterion': 'gini', 'min_samples_split': 30, 'max_depth': 26, 'class_weight': None}\n",
      "\n",
      "  8%|▊         | 78/1000 [15:54<2:25:42,  9.48s/it, best loss: -0.56976744186]\u001b[A"
     ]
    },
    {
     "name": "stderr",
     "output_type": "stream",
     "text": [
      "Hyperopt:   8%|▊         | 79/1000 [16:05<3:13:27, 12.60s/it]"
     ]
    },
    {
     "name": "stdout",
     "output_type": "stream",
     "text": [
      "\n",
      "  8%|▊         | 79/1000 [15:54<3:13:27, 12.60s/it, best loss: -0.56976744186]\u001b[A\n",
      "\u001b[AParameters with this training accuracy 0.572442723459 and loss 1.42946303986 :\n",
      "\n",
      "  8%|▊         | 79/1000 [16:00<3:13:27, 12.60s/it, best loss: -0.56976744186]\u001b[A\n",
      "\u001b[AParameters with this testing accuracy 0.546511627907 and loss 1.67852092672 :\n",
      "\n",
      "  8%|▊         | 79/1000 [16:00<3:13:27, 12.60s/it, best loss: -0.56976744186]\u001b[A\n",
      "\u001b[A{'max_leaf_nodes': 24, 'bootstrap': False, 'min_samples_leaf': 7, 'n_estimators': 33, 'max_features': 26070, 'criterion': 'gini', 'min_samples_split': 30, 'max_depth': 26, 'class_weight': None}\n",
      "\n",
      "  8%|▊         | 79/1000 [16:00<3:13:27, 12.60s/it, best loss: -0.56976744186]\u001b[A"
     ]
    },
    {
     "name": "stderr",
     "output_type": "stream",
     "text": [
      "Hyperopt:   8%|▊         | 80/1000 [16:10<2:39:56, 10.43s/it]"
     ]
    },
    {
     "name": "stdout",
     "output_type": "stream",
     "text": [
      "\n",
      "  8%|▊         | 80/1000 [16:00<2:39:56, 10.43s/it, best loss: -0.56976744186]\u001b[A\n",
      "\u001b[AParameters with this training accuracy 0.58212326557 and loss 1.326705903 :\n",
      "\n",
      "  8%|▊         | 80/1000 [16:09<2:39:56, 10.43s/it, best loss: -0.56976744186]\u001b[A\n",
      "\u001b[AParameters with this testing accuracy 0.561046511628 and loss 1.41349701584 :\n",
      "\n",
      "  8%|▊         | 80/1000 [16:09<2:39:56, 10.43s/it, best loss: -0.56976744186]\u001b[A\n",
      "\u001b[A{'max_leaf_nodes': 24, 'bootstrap': False, 'min_samples_leaf': 7, 'n_estimators': 629, 'max_features': 4225, 'criterion': 'gini', 'min_samples_split': 30, 'max_depth': 26, 'class_weight': None}\n",
      "\n",
      "  8%|▊         | 80/1000 [16:09<2:39:56, 10.43s/it, best loss: -0.56976744186]\u001b[A"
     ]
    },
    {
     "name": "stderr",
     "output_type": "stream",
     "text": [
      "Hyperopt:   8%|▊         | 81/1000 [16:20<2:35:01, 10.12s/it]"
     ]
    },
    {
     "name": "stdout",
     "output_type": "stream",
     "text": [
      "\n",
      "  8%|▊         | 81/1000 [16:09<2:35:01, 10.12s/it, best loss: -0.56976744186]\u001b[A\n",
      "\u001b[AParameters with this training accuracy 0.281058405937 and loss 1.99682922943 :\n",
      "\n",
      "  8%|▊         | 81/1000 [16:15<2:35:01, 10.12s/it, best loss: -0.56976744186]\u001b[A\n",
      "\u001b[AParameters with this testing accuracy 0.200581395349 and loss 2.16292574789 :\n",
      "\n",
      "  8%|▊         | 81/1000 [16:15<2:35:01, 10.12s/it, best loss: -0.56976744186]\u001b[A\n",
      "\u001b[A{'max_leaf_nodes': 24, 'bootstrap': False, 'min_samples_leaf': 7, 'n_estimators': 16, 'max_features': 13755, 'criterion': 'gini', 'min_samples_split': 30, 'max_depth': 26, 'class_weight': 'balanced'}\n",
      "\n",
      "  8%|▊         | 81/1000 [16:15<2:35:01, 10.12s/it, best loss: -0.56976744186]\u001b[A"
     ]
    },
    {
     "name": "stderr",
     "output_type": "stream",
     "text": [
      "Hyperopt:   8%|▊         | 82/1000 [16:25<2:14:35,  8.80s/it]"
     ]
    },
    {
     "name": "stdout",
     "output_type": "stream",
     "text": [
      "\n",
      "  8%|▊         | 82/1000 [16:15<2:14:35,  8.80s/it, best loss: -0.56976744186]\u001b[A\n",
      "\u001b[AParameters with this training accuracy 0.586640851888 and loss 1.33128433952 :\n",
      "\n",
      "  8%|▊         | 82/1000 [16:29<2:14:35,  8.80s/it, best loss: -0.56976744186]\u001b[A\n",
      "\u001b[AParameters with this testing accuracy 0.566860465116 and loss 1.41076111469 :\n",
      "\n",
      "  8%|▊         | 82/1000 [16:29<2:14:35,  8.80s/it, best loss: -0.56976744186]\u001b[A\n",
      "\u001b[A{'max_leaf_nodes': 24, 'bootstrap': False, 'min_samples_leaf': 6, 'n_estimators': 626, 'max_features': 14430, 'criterion': 'gini', 'min_samples_split': 30, 'max_depth': 38, 'class_weight': None}\n",
      "\n",
      "  8%|▊         | 82/1000 [16:29<2:14:35,  8.80s/it, best loss: -0.56976744186]\u001b[A"
     ]
    },
    {
     "name": "stderr",
     "output_type": "stream",
     "text": [
      "Hyperopt:   8%|▊         | 83/1000 [16:39<2:37:46, 10.32s/it]"
     ]
    },
    {
     "name": "stdout",
     "output_type": "stream",
     "text": [
      "\n",
      "  8%|▊         | 83/1000 [16:29<2:37:47, 10.32s/it, best loss: -0.56976744186]\u001b[A\n",
      "\u001b[AParameters with this training accuracy 0.553404323975 and loss 1.334335811 :\n",
      "\n",
      "  8%|▊         | 83/1000 [16:39<2:37:47, 10.32s/it, best loss: -0.56976744186]\u001b[A\n",
      "\u001b[AParameters with this testing accuracy 0.523255813953 and loss 1.41873912755 :\n",
      "\n",
      "  8%|▊         | 83/1000 [16:39<2:37:47, 10.32s/it, best loss: -0.56976744186]\u001b[A\n",
      "\u001b[A{'max_leaf_nodes': 24, 'bootstrap': False, 'min_samples_leaf': 6, 'n_estimators': 626, 'max_features': 3381, 'criterion': 'entropy', 'min_samples_split': 30, 'max_depth': 11, 'class_weight': None}\n",
      "\n",
      "  8%|▊         | 83/1000 [16:39<2:37:47, 10.32s/it, best loss: -0.56976744186]\u001b[A"
     ]
    },
    {
     "name": "stderr",
     "output_type": "stream",
     "text": [
      "Hyperopt:   8%|▊         | 84/1000 [16:50<2:39:26, 10.44s/it]"
     ]
    },
    {
     "name": "stdout",
     "output_type": "stream",
     "text": [
      "\n",
      "  8%|▊         | 84/1000 [16:39<2:39:27, 10.44s/it, best loss: -0.56976744186]\u001b[A\n",
      "\u001b[AParameters with this training accuracy 0.571797353985 and loss 1.40823874063 :\n",
      "\n",
      "  8%|▊         | 84/1000 [16:53<2:39:27, 10.44s/it, best loss: -0.56976744186]\u001b[A\n",
      "\u001b[AParameters with this testing accuracy 0.546511627907 and loss 1.56597272131 :\n",
      "\n",
      "  8%|▊         | 84/1000 [16:53<2:39:27, 10.44s/it, best loss: -0.56976744186]\u001b[A\n",
      "\u001b[A{'max_leaf_nodes': 24, 'bootstrap': False, 'min_samples_leaf': 6, 'n_estimators': 443, 'max_features': 25359, 'criterion': 'gini', 'min_samples_split': 30, 'max_depth': 38, 'class_weight': None}\n",
      "\n",
      "  8%|▊         | 84/1000 [16:53<2:39:27, 10.44s/it, best loss: -0.56976744186]\u001b[A"
     ]
    },
    {
     "name": "stderr",
     "output_type": "stream",
     "text": [
      "Hyperopt:   8%|▊         | 85/1000 [17:03<2:53:14, 11.36s/it]"
     ]
    },
    {
     "name": "stdout",
     "output_type": "stream",
     "text": [
      "\n",
      "  8%|▊         | 85/1000 [16:53<2:53:14, 11.36s/it, best loss: -0.56976744186]\u001b[A\n",
      "\u001b[AParameters with this training accuracy 0.575992255566 and loss 1.37808238389 :\n",
      "\n",
      "  8%|▊         | 85/1000 [17:03<2:53:14, 11.36s/it, best loss: -0.56976744186]\u001b[A\n",
      "\u001b[AParameters with this testing accuracy 0.55523255814 and loss 1.53148513573 :\n",
      "\n",
      "  8%|▊         | 85/1000 [17:03<2:53:14, 11.36s/it, best loss: -0.56976744186]\u001b[A\n",
      "\u001b[A{'max_leaf_nodes': 24, 'bootstrap': False, 'min_samples_leaf': 7, 'n_estimators': 246, 'max_features': 23410, 'criterion': 'gini', 'min_samples_split': 30, 'max_depth': 18, 'class_weight': None}\n",
      "\n",
      "  8%|▊         | 85/1000 [17:03<2:53:14, 11.36s/it, best loss: -0.56976744186]\u001b[A"
     ]
    },
    {
     "name": "stderr",
     "output_type": "stream",
     "text": [
      "Hyperopt:   9%|▊         | 86/1000 [17:14<2:47:34, 11.00s/it]"
     ]
    },
    {
     "name": "stdout",
     "output_type": "stream",
     "text": [
      "\n",
      "  9%|▊         | 86/1000 [17:03<2:47:34, 11.00s/it, best loss: -0.56976744186]\u001b[A\n",
      "\u001b[AParameters with this training accuracy 0.197805743788 and loss 2.07124545988 :\n",
      "\n",
      "  9%|▊         | 86/1000 [17:22<2:47:34, 11.00s/it, best loss: -0.56976744186]\u001b[A\n",
      "\u001b[AParameters with this testing accuracy 0.148255813953 and loss 2.28052369286 :\n",
      "\n",
      "  9%|▊         | 86/1000 [17:22<2:47:34, 11.00s/it, best loss: -0.56976744186]\u001b[A\n",
      "\u001b[A{'max_leaf_nodes': 24, 'bootstrap': False, 'min_samples_leaf': 6, 'n_estimators': 703, 'max_features': 24711, 'criterion': 'gini', 'min_samples_split': 30, 'max_depth': 38, 'class_weight': 'balanced'}\n",
      "\n",
      "  9%|▊         | 86/1000 [17:22<2:47:34, 11.00s/it, best loss: -0.56976744186]\u001b[A"
     ]
    },
    {
     "name": "stderr",
     "output_type": "stream",
     "text": [
      "Hyperopt:   9%|▊         | 87/1000 [17:32<3:22:31, 13.31s/it]"
     ]
    },
    {
     "name": "stdout",
     "output_type": "stream",
     "text": [
      "\n",
      "  9%|▊         | 87/1000 [17:22<3:22:31, 13.31s/it, best loss: -0.56976744186]\u001b[A\n",
      "\u001b[AParameters with this training accuracy 0.524685382381 and loss 1.41247037528 :\n",
      "\n",
      "  9%|▊         | 87/1000 [17:38<3:22:31, 13.31s/it, best loss: -0.56976744186]\u001b[A\n",
      "\u001b[AParameters with this testing accuracy 0.502906976744 and loss 1.51942044609 :\n",
      "\n",
      "  9%|▊         | 87/1000 [17:38<3:22:31, 13.31s/it, best loss: -0.56976744186]\u001b[A\n",
      "\u001b[A{'max_leaf_nodes': 24, 'bootstrap': False, 'min_samples_leaf': 23, 'n_estimators': 369, 'max_features': 24935, 'criterion': 'entropy', 'min_samples_split': 30, 'max_depth': 33, 'class_weight': None}\n",
      "\n",
      "  9%|▊         | 87/1000 [17:38<3:22:31, 13.31s/it, best loss: -0.56976744186]\u001b[A"
     ]
    },
    {
     "name": "stderr",
     "output_type": "stream",
     "text": [
      "Hyperopt:   9%|▉         | 88/1000 [17:48<3:34:07, 14.09s/it]"
     ]
    },
    {
     "name": "stdout",
     "output_type": "stream",
     "text": [
      "\n",
      "  9%|▉         | 88/1000 [17:38<3:34:07, 14.09s/it, best loss: -0.56976744186]\u001b[A\n",
      "\u001b[AParameters with this training accuracy 0.5701839303 and loss 1.43225875144 :\n",
      "\n",
      "  9%|▉         | 88/1000 [17:59<3:34:07, 14.09s/it, best loss: -0.56976744186]\u001b[A\n",
      "\u001b[AParameters with this testing accuracy 0.543604651163 and loss 1.59483111192 :\n",
      "\n",
      "  9%|▉         | 88/1000 [17:59<3:34:07, 14.09s/it, best loss: -0.56976744186]\u001b[A\n",
      "\u001b[A{'max_leaf_nodes': 24, 'bootstrap': False, 'min_samples_leaf': 1, 'n_estimators': 775, 'max_features': 26396, 'criterion': 'gini', 'min_samples_split': 30, 'max_depth': 44, 'class_weight': None}\n",
      "\n",
      "  9%|▉         | 88/1000 [17:59<3:34:07, 14.09s/it, best loss: -0.56976744186]\u001b[A"
     ]
    },
    {
     "name": "stderr",
     "output_type": "stream",
     "text": [
      "Hyperopt:   9%|▉         | 89/1000 [18:10<4:07:15, 16.28s/it]"
     ]
    },
    {
     "name": "stdout",
     "output_type": "stream",
     "text": [
      "\n",
      "  9%|▉         | 89/1000 [17:59<4:07:15, 16.28s/it, best loss: -0.56976744186]\u001b[A\n",
      "\u001b[AParameters with this training accuracy 0.554049693449 and loss 1.49881437253 :\n",
      "\n",
      "  9%|▉         | 89/1000 [18:07<4:07:15, 16.28s/it, best loss: -0.56976744186]\u001b[A\n",
      "\u001b[AParameters with this testing accuracy 0.549418604651 and loss 1.5842958159 :\n",
      "\n",
      "  9%|▉         | 89/1000 [18:07<4:07:15, 16.28s/it, best loss: -0.56976744186]\u001b[A\n",
      "\u001b[A{'max_leaf_nodes': 14, 'bootstrap': False, 'min_samples_leaf': 13, 'n_estimators': 228, 'max_features': 21976, 'criterion': 'gini', 'min_samples_split': 30, 'max_depth': 16, 'class_weight': None}\n",
      "\n",
      "  9%|▉         | 89/1000 [18:07<4:07:15, 16.28s/it, best loss: -0.56976744186]\u001b[A"
     ]
    },
    {
     "name": "stderr",
     "output_type": "stream",
     "text": [
      "Hyperopt:   9%|▉         | 90/1000 [18:18<3:30:53, 13.90s/it]"
     ]
    },
    {
     "name": "stdout",
     "output_type": "stream",
     "text": [
      "\n",
      "  9%|▉         | 90/1000 [18:07<3:30:52, 13.90s/it, best loss: -0.56976744186]\u001b[A\n",
      "\u001b[AParameters with this training accuracy 0.269764440142 and loss 2.00706113946 :\n",
      "\n",
      "  9%|▉         | 90/1000 [18:23<3:30:52, 13.90s/it, best loss: -0.56976744186]\u001b[A\n",
      "\u001b[AParameters with this testing accuracy 0.235465116279 and loss 2.17760689772 :\n",
      "\n",
      "  9%|▉         | 90/1000 [18:23<3:30:52, 13.90s/it, best loss: -0.56976744186]\u001b[A\n",
      "\u001b[A{'max_leaf_nodes': 24, 'bootstrap': False, 'min_samples_leaf': 28, 'n_estimators': 654, 'max_features': 19954, 'criterion': 'gini', 'min_samples_split': 40, 'max_depth': 17, 'class_weight': 'balanced'}\n",
      "\n",
      "  9%|▉         | 90/1000 [18:23<3:30:52, 13.90s/it, best loss: -0.56976744186]\u001b[A"
     ]
    },
    {
     "name": "stderr",
     "output_type": "stream",
     "text": [
      "Hyperopt:   9%|▉         | 91/1000 [18:34<3:38:41, 14.43s/it]"
     ]
    },
    {
     "name": "stdout",
     "output_type": "stream",
     "text": [
      "\n",
      "  9%|▉         | 91/1000 [18:23<3:38:41, 14.43s/it, best loss: -0.56976744186]\u001b[A\n",
      "\u001b[AParameters with this training accuracy 0.495966440787 and loss 1.52339533928 :\n",
      "\n",
      "  9%|▉         | 91/1000 [18:29<3:38:41, 14.43s/it, best loss: -0.56976744186]\u001b[A\n",
      "\u001b[AParameters with this testing accuracy 0.508720930233 and loss 1.54980903727 :\n",
      "\n",
      "  9%|▉         | 91/1000 [18:29<3:38:41, 14.43s/it, best loss: -0.56976744186]\u001b[A\n",
      "\u001b[A{'max_leaf_nodes': 12, 'bootstrap': False, 'min_samples_leaf': 7, 'n_estimators': 394, 'max_features': 930, 'criterion': 'entropy', 'min_samples_split': 50, 'max_depth': 6, 'class_weight': None}\n",
      "\n",
      "  9%|▉         | 91/1000 [18:29<3:38:41, 14.43s/it, best loss: -0.56976744186]\u001b[A"
     ]
    },
    {
     "name": "stderr",
     "output_type": "stream",
     "text": [
      "Hyperopt:   9%|▉         | 92/1000 [18:40<3:00:26, 11.92s/it]"
     ]
    },
    {
     "name": "stdout",
     "output_type": "stream",
     "text": [
      "\n",
      "  9%|▉         | 92/1000 [18:29<3:00:26, 11.92s/it, best loss: -0.56976744186]\u001b[A\n",
      "\u001b[AParameters with this training accuracy 0.588899645047 and loss 1.30999389509 :\n",
      "\n",
      "  9%|▉         | 92/1000 [18:37<3:00:26, 11.92s/it, best loss: -0.56976744186]\u001b[A\n",
      "\u001b[AParameters with this testing accuracy 0.561046511628 and loss 1.40373257979 :\n",
      "\n",
      "  9%|▉         | 92/1000 [18:37<3:00:26, 11.92s/it, best loss: -0.56976744186]\u001b[A\n",
      "\u001b[A{'max_leaf_nodes': 28, 'bootstrap': False, 'min_samples_leaf': 19, 'n_estimators': 220, 'max_features': 16404, 'criterion': 'gini', 'min_samples_split': 70, 'max_depth': 41, 'class_weight': None}\n",
      "\n",
      "  9%|▉         | 92/1000 [18:37<3:00:26, 11.92s/it, best loss: -0.56976744186]\u001b[A"
     ]
    },
    {
     "name": "stderr",
     "output_type": "stream",
     "text": [
      "Hyperopt:   9%|▉         | 93/1000 [18:47<2:41:22, 10.67s/it]"
     ]
    },
    {
     "name": "stdout",
     "output_type": "stream",
     "text": [
      "\n",
      "  9%|▉         | 93/1000 [18:37<2:41:21, 10.67s/it, best loss: -0.56976744186]\u001b[A\n",
      "\u001b[AParameters with this training accuracy 0.543078412391 and loss 1.54319273415 :\n",
      "\n",
      "  9%|▉         | 93/1000 [18:52<2:41:21, 10.67s/it, best loss: -0.56976744186]\u001b[A\n",
      "\u001b[AParameters with this testing accuracy 0.561046511628 and loss 1.58903811892 :\n",
      "\n",
      "  9%|▉         | 93/1000 [18:52<2:41:21, 10.67s/it, best loss: -0.56976744186]\u001b[A\n",
      "\u001b[A{'max_leaf_nodes': 24, 'bootstrap': False, 'min_samples_leaf': 25, 'n_estimators': 789, 'max_features': 23395, 'criterion': 'gini', 'min_samples_split': 80, 'max_depth': 4, 'class_weight': None}\n",
      "\n",
      "  9%|▉         | 93/1000 [18:52<2:41:21, 10.67s/it, best loss: -0.56976744186]\u001b[A"
     ]
    },
    {
     "name": "stderr",
     "output_type": "stream",
     "text": [
      "Hyperopt:   9%|▉         | 94/1000 [19:02<3:00:52, 11.98s/it]"
     ]
    },
    {
     "name": "stdout",
     "output_type": "stream",
     "text": [
      "\n",
      "  9%|▉         | 94/1000 [18:52<3:00:53, 11.98s/it, best loss: -0.56976744186]\u001b[A\n",
      "\u001b[AParameters with this training accuracy 0.560826072927 and loss 1.396088244 :\n",
      "\n",
      "  9%|▉         | 94/1000 [19:04<3:00:53, 11.98s/it, best loss: -0.56976744186]\u001b[A\n",
      "\u001b[AParameters with this testing accuracy 0.549418604651 and loss 1.44919642259 :\n",
      "\n",
      "  9%|▉         | 94/1000 [19:04<3:00:53, 11.98s/it, best loss: -0.56976744186]\u001b[A\n",
      "\u001b[A{'max_leaf_nodes': 18, 'bootstrap': False, 'min_samples_leaf': 9, 'n_estimators': 995, 'max_features': 4360, 'criterion': 'gini', 'min_samples_split': 30, 'max_depth': 26, 'class_weight': None}\n",
      "\n",
      "  9%|▉         | 94/1000 [19:04<3:00:53, 11.98s/it, best loss: -0.56976744186]\u001b[A"
     ]
    },
    {
     "name": "stderr",
     "output_type": "stream",
     "text": [
      "Hyperopt:  10%|▉         | 95/1000 [19:15<3:01:19, 12.02s/it]"
     ]
    },
    {
     "name": "stdout",
     "output_type": "stream",
     "text": [
      "\n",
      " 10%|▉         | 95/1000 [19:04<3:01:19, 12.02s/it, best loss: -0.56976744186]\u001b[A\n",
      "\u001b[AParameters with this training accuracy 0.35850274282 and loss 2.0155567029 :\n",
      "\n",
      " 10%|▉         | 95/1000 [19:19<3:01:19, 12.02s/it, best loss: -0.56976744186]\u001b[A\n",
      "\u001b[AParameters with this testing accuracy 0.252906976744 and loss 2.12876146763 :\n",
      "\n",
      " 10%|▉         | 95/1000 [19:19<3:01:19, 12.02s/it, best loss: -0.56976744186]\u001b[A\n",
      "\u001b[A{'max_leaf_nodes': 24, 'bootstrap': False, 'min_samples_leaf': 5, 'n_estimators': 968, 'max_features': 3132, 'criterion': 'entropy', 'min_samples_split': 30, 'max_depth': 34, 'class_weight': 'balanced'}\n",
      "\n",
      " 10%|▉         | 95/1000 [19:19<3:01:19, 12.02s/it, best loss: -0.56976744186]\u001b[A"
     ]
    },
    {
     "name": "stderr",
     "output_type": "stream",
     "text": [
      "Hyperopt:  10%|▉         | 96/1000 [19:30<3:15:03, 12.95s/it]"
     ]
    },
    {
     "name": "stdout",
     "output_type": "stream",
     "text": [
      "\n",
      " 10%|▉         | 96/1000 [19:19<3:15:04, 12.95s/it, best loss: -0.56976744186]\u001b[A\n",
      "\u001b[AParameters with this training accuracy 0.480154888674 and loss 1.64832899113 :\n",
      "\n",
      " 10%|▉         | 96/1000 [19:28<3:15:04, 12.95s/it, best loss: -0.56976744186]\u001b[A\n",
      "\u001b[AParameters with this testing accuracy 0.505813953488 and loss 1.64354848486 :\n",
      "\n",
      " 10%|▉         | 96/1000 [19:28<3:15:04, 12.95s/it, best loss: -0.56976744186]\u001b[A\n",
      "\u001b[A{'max_leaf_nodes': 24, 'bootstrap': False, 'min_samples_leaf': 14, 'n_estimators': 758, 'max_features': 1771, 'criterion': 'gini', 'min_samples_split': 30, 'max_depth': 2, 'class_weight': None}\n",
      "\n",
      " 10%|▉         | 96/1000 [19:28<3:15:04, 12.95s/it, best loss: -0.56976744186]\u001b[A"
     ]
    },
    {
     "name": "stderr",
     "output_type": "stream",
     "text": [
      "Hyperopt:  10%|▉         | 97/1000 [19:38<2:55:54, 11.69s/it]"
     ]
    },
    {
     "name": "stdout",
     "output_type": "stream",
     "text": [
      "\n",
      " 10%|▉         | 97/1000 [19:28<2:55:54, 11.69s/it, best loss: -0.56976744186]\u001b[A\n",
      "\u001b[AParameters with this training accuracy 0.529848338174 and loss 1.52062923315 :\n",
      "\n",
      " 10%|▉         | 97/1000 [19:36<2:55:54, 11.69s/it, best loss: -0.56976744186]\u001b[A\n",
      "\u001b[AParameters with this testing accuracy 0.520348837209 and loss 1.52810689758 :\n",
      "\n",
      " 10%|▉         | 97/1000 [19:36<2:55:54, 11.69s/it, best loss: -0.56976744186]\u001b[A\n",
      "\u001b[A{'max_leaf_nodes': 10, 'bootstrap': False, 'min_samples_leaf': 8, 'n_estimators': 403, 'max_features': 4135, 'criterion': 'gini', 'min_samples_split': 50, 'max_depth': 21, 'class_weight': None}\n",
      "\n",
      " 10%|▉         | 97/1000 [19:36<2:55:54, 11.69s/it, best loss: -0.56976744186]\u001b[A"
     ]
    },
    {
     "name": "stderr",
     "output_type": "stream",
     "text": [
      "Hyperopt:  10%|▉         | 98/1000 [19:46<2:38:06, 10.52s/it]"
     ]
    },
    {
     "name": "stdout",
     "output_type": "stream",
     "text": [
      "\n",
      " 10%|▉         | 98/1000 [19:36<2:38:05, 10.52s/it, best loss: -0.56976744186]\u001b[A\n",
      "\u001b[AParameters with this training accuracy 0.541464988706 and loss 1.45852407154 :\n",
      "\n",
      " 10%|▉         | 98/1000 [19:45<2:38:05, 10.52s/it, best loss: -0.56976744186]\u001b[A\n",
      "\u001b[AParameters with this testing accuracy 0.546511627907 and loss 1.48357307599 :\n",
      "\n",
      " 10%|▉         | 98/1000 [19:45<2:38:05, 10.52s/it, best loss: -0.56976744186]\u001b[A\n",
      "\u001b[A{'max_leaf_nodes': 14, 'bootstrap': False, 'min_samples_leaf': 18, 'n_estimators': 455, 'max_features': 10624, 'criterion': 'gini', 'min_samples_split': 40, 'max_depth': 10, 'class_weight': None}\n",
      "\n",
      " 10%|▉         | 98/1000 [19:45<2:38:05, 10.52s/it, best loss: -0.56976744186]\u001b[A"
     ]
    },
    {
     "name": "stderr",
     "output_type": "stream",
     "text": [
      "Hyperopt:  10%|▉         | 99/1000 [19:56<2:33:27, 10.22s/it]"
     ]
    },
    {
     "name": "stdout",
     "output_type": "stream",
     "text": [
      "\n",
      " 10%|▉         | 99/1000 [19:45<2:33:27, 10.22s/it, best loss: -0.56976744186]\u001b[A\n",
      "\u001b[AParameters with this training accuracy 0.298483381736 and loss 1.9871249355 :\n",
      "\n",
      " 10%|▉         | 99/1000 [19:53<2:33:27, 10.22s/it, best loss: -0.56976744186]\u001b[A\n",
      "\u001b[AParameters with this testing accuracy 0.197674418605 and loss 2.12341218847 :\n",
      "\n",
      " 10%|▉         | 99/1000 [19:53<2:33:27, 10.22s/it, best loss: -0.56976744186]\u001b[A\n",
      "\u001b[A{'max_leaf_nodes': 24, 'bootstrap': False, 'min_samples_leaf': 7, 'n_estimators': 431, 'max_features': 5026, 'criterion': 'gini', 'min_samples_split': 30, 'max_depth': 28, 'class_weight': 'balanced'}\n",
      "\n",
      " 10%|▉         | 99/1000 [19:53<2:33:27, 10.22s/it, best loss: -0.56976744186]\u001b[A"
     ]
    },
    {
     "name": "stderr",
     "output_type": "stream",
     "text": [
      "Hyperopt:  10%|█         | 100/1000 [20:04<2:22:47,  9.52s/it]"
     ]
    },
    {
     "name": "stdout",
     "output_type": "stream",
     "text": [
      "\n",
      " 10%|█         | 100/1000 [19:53<2:22:47,  9.52s/it, best loss: -0.56976744186]\u001b[A\n",
      "\u001b[AParameters with this training accuracy 0.524685382381 and loss 1.469678739 :\n",
      "\n",
      " 10%|█         | 100/1000 [20:04<2:22:47,  9.52s/it, best loss: -0.56976744186]\u001b[A\n",
      "\u001b[AParameters with this testing accuracy 0.523255813953 and loss 1.49668718299 :\n",
      "\n",
      " 10%|█         | 100/1000 [20:04<2:22:47,  9.52s/it, best loss: -0.56976744186]\u001b[A\n",
      "\u001b[A{'max_leaf_nodes': 12, 'bootstrap': False, 'min_samples_leaf': 3, 'n_estimators': 467, 'max_features': 6188, 'criterion': 'entropy', 'min_samples_split': 80, 'max_depth': 31, 'class_weight': None}\n",
      "\n",
      " 10%|█         | 100/1000 [20:04<2:22:47,  9.52s/it, best loss: -0.56976744186]\u001b[A"
     ]
    },
    {
     "name": "stderr",
     "output_type": "stream",
     "text": [
      "Hyperopt:  10%|█         | 101/1000 [20:15<2:29:21,  9.97s/it]"
     ]
    },
    {
     "name": "stdout",
     "output_type": "stream",
     "text": [
      "\n",
      " 10%|█         | 101/1000 [20:04<2:29:21,  9.97s/it, best loss: -0.56976744186]\u001b[A\n",
      "\u001b[AParameters with this training accuracy 0.595353339787 and loss 1.33789198527 :\n",
      "\n",
      " 10%|█         | 101/1000 [20:10<2:29:21,  9.97s/it, best loss: -0.56976744186]\u001b[A\n",
      "\u001b[AParameters with this testing accuracy 0.561046511628 and loss 1.51122251724 :\n",
      "\n",
      " 10%|█         | 101/1000 [20:10<2:29:21,  9.97s/it, best loss: -0.56976744186]\u001b[A\n",
      "\u001b[A{'max_leaf_nodes': 28, 'bootstrap': False, 'min_samples_leaf': 16, 'n_estimators': 61, 'max_features': 12088, 'criterion': 'gini', 'min_samples_split': 70, 'max_depth': 7, 'class_weight': None}\n",
      "\n",
      " 10%|█         | 101/1000 [20:10<2:29:21,  9.97s/it, best loss: -0.56976744186]\u001b[A"
     ]
    },
    {
     "name": "stderr",
     "output_type": "stream",
     "text": [
      "Hyperopt:  10%|█         | 102/1000 [20:20<2:09:46,  8.67s/it]"
     ]
    },
    {
     "name": "stdout",
     "output_type": "stream",
     "text": [
      "\n",
      " 10%|█         | 102/1000 [20:10<2:09:46,  8.67s/it, best loss: -0.56976744186]\u001b[A\n",
      "\u001b[AParameters with this training accuracy 0.577605679251 and loss 1.36358297862 :\n",
      "\n",
      " 10%|█         | 102/1000 [20:22<2:09:46,  8.67s/it, best loss: -0.56976744186]\u001b[A\n",
      "\u001b[AParameters with this testing accuracy 0.558139534884 and loss 1.51772305249 :\n",
      "\n",
      " 10%|█         | 102/1000 [20:22<2:09:46,  8.67s/it, best loss: -0.56976744186]\u001b[A\n",
      "\u001b[A{'max_leaf_nodes': 24, 'bootstrap': False, 'min_samples_leaf': 4, 'n_estimators': 405, 'max_features': 21810, 'criterion': 'gini', 'min_samples_split': 30, 'max_depth': 39, 'class_weight': None}\n",
      "\n",
      " 10%|█         | 102/1000 [20:22<2:09:46,  8.67s/it, best loss: -0.56976744186]\u001b[A"
     ]
    },
    {
     "name": "stderr",
     "output_type": "stream",
     "text": [
      "Hyperopt:  10%|█         | 103/1000 [20:32<2:24:31,  9.67s/it]"
     ]
    },
    {
     "name": "stdout",
     "output_type": "stream",
     "text": [
      "\n",
      " 10%|█         | 103/1000 [20:22<2:24:31,  9.67s/it, best loss: -0.56976744186]\u001b[A\n",
      "\u001b[AParameters with this training accuracy 0.559858018716 and loss 1.42190408032 :\n",
      "\n",
      " 10%|█         | 103/1000 [20:29<2:24:31,  9.67s/it, best loss: -0.56976744186]\u001b[A\n",
      "\u001b[AParameters with this testing accuracy 0.55523255814 and loss 1.45609400766 :\n",
      "\n",
      " 10%|█         | 103/1000 [20:29<2:24:31,  9.67s/it, best loss: -0.56976744186]\u001b[A\n",
      "\u001b[A{'max_leaf_nodes': 18, 'bootstrap': False, 'min_samples_leaf': 26, 'n_estimators': 143, 'max_features': 15489, 'criterion': 'gini', 'min_samples_split': 30, 'max_depth': 35, 'class_weight': None}\n",
      "\n",
      " 10%|█         | 103/1000 [20:29<2:24:31,  9.67s/it, best loss: -0.56976744186]\u001b[A"
     ]
    },
    {
     "name": "stderr",
     "output_type": "stream",
     "text": [
      "Hyperopt:  10%|█         | 104/1000 [20:39<2:13:10,  8.92s/it]"
     ]
    },
    {
     "name": "stdout",
     "output_type": "stream",
     "text": [
      "\n",
      " 10%|█         | 104/1000 [20:29<2:13:09,  8.92s/it, best loss: -0.56976744186]\u001b[A\n",
      "\u001b[AParameters with this training accuracy 0.30558244595 and loss 1.96905261969 :\n",
      "\n",
      " 10%|█         | 104/1000 [20:39<2:13:09,  8.92s/it, best loss: -0.56976744186]\u001b[A\n",
      "\u001b[AParameters with this testing accuracy 0.218023255814 and loss 2.1243149505 :\n",
      "\n",
      " 10%|█         | 104/1000 [20:39<2:13:09,  8.92s/it, best loss: -0.56976744186]\u001b[A\n",
      "\u001b[A{'max_leaf_nodes': 24, 'bootstrap': False, 'min_samples_leaf': 21, 'n_estimators': 548, 'max_features': 12306, 'criterion': 'gini', 'min_samples_split': 30, 'max_depth': 38, 'class_weight': 'balanced'}\n",
      "\n",
      " 10%|█         | 104/1000 [20:39<2:13:09,  8.92s/it, best loss: -0.56976744186]\u001b[A"
     ]
    },
    {
     "name": "stderr",
     "output_type": "stream",
     "text": [
      "Hyperopt:  10%|█         | 105/1000 [20:49<2:17:51,  9.24s/it]"
     ]
    },
    {
     "name": "stdout",
     "output_type": "stream",
     "text": [
      "\n",
      " 10%|█         | 105/1000 [20:39<2:17:51,  9.24s/it, best loss: -0.56976744186]\u001b[A\n",
      "\u001b[AParameters with this training accuracy 0.512423362375 and loss 1.45287994892 :\n",
      "\n",
      " 10%|█         | 105/1000 [20:48<2:17:51,  9.24s/it, best loss: -0.56976744186]\u001b[A\n",
      "\u001b[AParameters with this testing accuracy 0.520348837209 and loss 1.48825241104 :\n",
      "\n",
      " 10%|█         | 105/1000 [20:48<2:17:51,  9.24s/it, best loss: -0.56976744186]\u001b[A\n",
      "\u001b[A{'max_leaf_nodes': 14, 'bootstrap': False, 'min_samples_leaf': 6, 'n_estimators': 515, 'max_features': 2743, 'criterion': 'entropy', 'min_samples_split': 50, 'max_depth': 27, 'class_weight': None}\n",
      "\n",
      " 10%|█         | 105/1000 [20:48<2:17:51,  9.24s/it, best loss: -0.56976744186]\u001b[A"
     ]
    },
    {
     "name": "stderr",
     "output_type": "stream",
     "text": [
      "Hyperopt:  11%|█         | 106/1000 [20:59<2:18:21,  9.29s/it]"
     ]
    },
    {
     "name": "stdout",
     "output_type": "stream",
     "text": [
      "\n",
      " 11%|█         | 106/1000 [20:48<2:18:22,  9.29s/it, best loss: -0.56976744186]\u001b[A\n",
      "\u001b[AParameters with this training accuracy 0.533075185544 and loss 1.58598268402 :\n",
      "\n",
      " 11%|█         | 106/1000 [21:05<2:18:22,  9.29s/it, best loss: -0.56976744186]\u001b[A\n",
      "\u001b[AParameters with this testing accuracy 0.523255813953 and loss 1.65263391016 :\n",
      "\n",
      " 11%|█         | 106/1000 [21:05<2:18:22,  9.29s/it, best loss: -0.56976744186]\u001b[A\n",
      "\u001b[A{'max_leaf_nodes': 10, 'bootstrap': False, 'min_samples_leaf': 29, 'n_estimators': 891, 'max_features': 24203, 'criterion': 'gini', 'min_samples_split': 40, 'max_depth': 37, 'class_weight': None}\n",
      "\n",
      " 11%|█         | 106/1000 [21:05<2:18:22,  9.29s/it, best loss: -0.56976744186]\u001b[A"
     ]
    },
    {
     "name": "stderr",
     "output_type": "stream",
     "text": [
      "Hyperopt:  11%|█         | 107/1000 [21:16<2:51:23, 11.52s/it]"
     ]
    },
    {
     "name": "stdout",
     "output_type": "stream",
     "text": [
      "\n",
      " 11%|█         | 107/1000 [21:05<2:51:23, 11.52s/it, best loss: -0.56976744186]\u001b[A\n",
      "\u001b[AParameters with this training accuracy 0.581477896096 and loss 1.32635563887 :\n",
      "\n",
      " 11%|█         | 107/1000 [21:11<2:51:23, 11.52s/it, best loss: -0.56976744186]\u001b[A\n",
      "\u001b[AParameters with this testing accuracy 0.558139534884 and loss 1.41500635564 :\n",
      "\n",
      " 11%|█         | 107/1000 [21:11<2:51:23, 11.52s/it, best loss: -0.56976744186]\u001b[A\n",
      "\u001b[A{'max_leaf_nodes': 24, 'bootstrap': False, 'min_samples_leaf': 12, 'n_estimators': 213, 'max_features': 7927, 'criterion': 'gini', 'min_samples_split': 80, 'max_depth': 40, 'class_weight': None}\n",
      "\n",
      " 11%|█         | 107/1000 [21:11<2:51:23, 11.52s/it, best loss: -0.56976744186]\u001b[A"
     ]
    },
    {
     "name": "stderr",
     "output_type": "stream",
     "text": [
      "Hyperopt:  11%|█         | 108/1000 [21:21<2:25:35,  9.79s/it]"
     ]
    },
    {
     "name": "stdout",
     "output_type": "stream",
     "text": [
      "\n",
      " 11%|█         | 108/1000 [21:11<2:25:34,  9.79s/it, best loss: -0.56976744186]\u001b[A\n",
      "\u001b[AParameters with this training accuracy 0.533720555018 and loss 1.49627907118 :\n",
      "\n",
      " 11%|█         | 108/1000 [21:17<2:25:34,  9.79s/it, best loss: -0.56976744186]\u001b[A\n",
      "\u001b[AParameters with this testing accuracy 0.531976744186 and loss 1.51844363062 :\n",
      "\n",
      " 11%|█         | 108/1000 [21:17<2:25:34,  9.79s/it, best loss: -0.56976744186]\u001b[A\n",
      "\u001b[A{'max_leaf_nodes': 12, 'bootstrap': False, 'min_samples_leaf': 2, 'n_estimators': 157, 'max_features': 2910, 'criterion': 'gini', 'min_samples_split': 60, 'max_depth': 46, 'class_weight': None}\n",
      "\n",
      " 11%|█         | 108/1000 [21:17<2:25:34,  9.79s/it, best loss: -0.56976744186]\u001b[A"
     ]
    },
    {
     "name": "stderr",
     "output_type": "stream",
     "text": [
      "Hyperopt:  11%|█         | 109/1000 [21:28<2:09:43,  8.74s/it]"
     ]
    },
    {
     "name": "stdout",
     "output_type": "stream",
     "text": [
      "\n",
      " 11%|█         | 109/1000 [21:17<2:09:43,  8.74s/it, best loss: -0.56976744186]\u001b[A\n",
      "\u001b[AParameters with this training accuracy 0.573733462407 and loss 1.35818466535 :\n",
      "\n",
      " 11%|█         | 109/1000 [21:32<2:09:43,  8.74s/it, best loss: -0.56976744186]\u001b[A\n",
      "\u001b[AParameters with this testing accuracy 0.566860465116 and loss 1.52352917433 :\n",
      "\n",
      " 11%|█         | 109/1000 [21:32<2:09:43,  8.74s/it, best loss: -0.56976744186]\u001b[A\n",
      "\u001b[A{'max_leaf_nodes': 26, 'bootstrap': False, 'min_samples_leaf': 17, 'n_estimators': 593, 'max_features': 22755, 'criterion': 'gini', 'min_samples_split': 10, 'max_depth': 29, 'class_weight': None}\n",
      "\n",
      " 11%|█         | 109/1000 [21:32<2:09:43,  8.74s/it, best loss: -0.56976744186]\u001b[A"
     ]
    },
    {
     "name": "stderr",
     "output_type": "stream",
     "text": [
      "Hyperopt:  11%|█         | 110/1000 [21:43<2:37:40, 10.63s/it]"
     ]
    },
    {
     "name": "stdout",
     "output_type": "stream",
     "text": [
      "\n",
      " 11%|█         | 110/1000 [21:32<2:37:40, 10.63s/it, best loss: -0.56976744186]\u001b[A\n",
      "\u001b[AParameters with this training accuracy 0.357534688609 and loss 1.99687799465 :\n",
      "\n",
      " 11%|█         | 110/1000 [21:41<2:37:40, 10.63s/it, best loss: -0.56976744186]\u001b[A\n",
      "\u001b[AParameters with this testing accuracy 0.241279069767 and loss 2.12384661971 :\n",
      "\n",
      " 11%|█         | 110/1000 [21:41<2:37:40, 10.63s/it, best loss: -0.56976744186]\u001b[A\n",
      "\u001b[A{'max_leaf_nodes': 26, 'bootstrap': False, 'min_samples_leaf': 24, 'n_estimators': 215, 'max_features': 4920, 'criterion': 'entropy', 'min_samples_split': 10, 'max_depth': 45, 'class_weight': 'balanced'}\n",
      "\n",
      " 11%|█         | 110/1000 [21:41<2:37:40, 10.63s/it, best loss: -0.56976744186]\u001b[A"
     ]
    },
    {
     "name": "stderr",
     "output_type": "stream",
     "text": [
      "Hyperopt:  11%|█         | 111/1000 [21:51<2:29:13, 10.07s/it]"
     ]
    },
    {
     "name": "stdout",
     "output_type": "stream",
     "text": [
      "\n",
      " 11%|█         | 111/1000 [21:41<2:29:13, 10.07s/it, best loss: -0.56976744186]\u001b[A\n",
      "\u001b[AParameters with this training accuracy 0.571151984511 and loss 1.36536943624 :\n",
      "\n",
      " 11%|█         | 111/1000 [21:47<2:29:13, 10.07s/it, best loss: -0.56976744186]\u001b[A\n",
      "\u001b[AParameters with this testing accuracy 0.563953488372 and loss 1.53403959556 :\n",
      "\n",
      " 11%|█         | 111/1000 [21:48<2:29:13, 10.07s/it, best loss: -0.56976744186]\u001b[A\n",
      "\u001b[A{'max_leaf_nodes': 26, 'bootstrap': False, 'min_samples_leaf': 17, 'n_estimators': 111, 'max_features': 23723, 'criterion': 'gini', 'min_samples_split': 10, 'max_depth': 29, 'class_weight': None}\n",
      "\n",
      " 11%|█         | 111/1000 [21:48<2:29:13, 10.07s/it, best loss: -0.56976744186]\u001b[A"
     ]
    },
    {
     "name": "stderr",
     "output_type": "stream",
     "text": [
      "Hyperopt:  11%|█         | 112/1000 [21:58<2:13:46,  9.04s/it]"
     ]
    },
    {
     "name": "stdout",
     "output_type": "stream",
     "text": [
      "\n",
      " 11%|█         | 112/1000 [21:48<2:13:45,  9.04s/it, best loss: -0.56976744186]\u001b[A\n",
      "\u001b[AParameters with this training accuracy 0.577282994514 and loss 1.34667039143 :\n",
      "\n",
      " 11%|█         | 112/1000 [21:54<2:13:45,  9.04s/it, best loss: -0.56976744186]\u001b[A\n",
      "\u001b[AParameters with this testing accuracy 0.558139534884 and loss 1.51229619402 :\n",
      "\n",
      " 11%|█         | 112/1000 [21:54<2:13:45,  9.04s/it, best loss: -0.56976744186]\u001b[A\n",
      "\u001b[A{'max_leaf_nodes': 26, 'bootstrap': False, 'min_samples_leaf': 17, 'n_estimators': 87, 'max_features': 22055, 'criterion': 'gini', 'min_samples_split': 10, 'max_depth': 26, 'class_weight': None}\n",
      "\n",
      " 11%|█         | 112/1000 [21:54<2:13:45,  9.04s/it, best loss: -0.56976744186]\u001b[A"
     ]
    },
    {
     "name": "stderr",
     "output_type": "stream",
     "text": [
      "Hyperopt:  11%|█▏        | 113/1000 [22:05<2:03:31,  8.36s/it]"
     ]
    },
    {
     "name": "stdout",
     "output_type": "stream",
     "text": [
      "\n",
      " 11%|█▏        | 113/1000 [21:54<2:03:31,  8.36s/it, best loss: -0.56976744186]\u001b[A\n",
      "\u001b[AParameters with this training accuracy 0.564375605034 and loss 1.35319999042 :\n",
      "\n",
      " 11%|█▏        | 113/1000 [22:01<2:03:31,  8.36s/it, best loss: -0.56976744186]\u001b[A\n",
      "\u001b[AParameters with this testing accuracy 0.53488372093 and loss 1.44046656726 :\n",
      "\n",
      " 11%|█▏        | 113/1000 [22:01<2:03:31,  8.36s/it, best loss: -0.56976744186]\u001b[A\n",
      "\u001b[A{'max_leaf_nodes': 26, 'bootstrap': False, 'min_samples_leaf': 17, 'n_estimators': 297, 'max_features': 1899, 'criterion': 'gini', 'min_samples_split': 10, 'max_depth': 29, 'class_weight': None}\n",
      "\n",
      " 11%|█▏        | 113/1000 [22:01<2:03:31,  8.36s/it, best loss: -0.56976744186]\u001b[A"
     ]
    },
    {
     "name": "stderr",
     "output_type": "stream",
     "text": [
      "Hyperopt:  11%|█▏        | 114/1000 [22:11<1:55:34,  7.83s/it]"
     ]
    },
    {
     "name": "stdout",
     "output_type": "stream",
     "text": [
      "\n",
      " 11%|█▏        | 114/1000 [22:01<1:55:34,  7.83s/it, best loss: -0.56976744186]\u001b[A\n",
      "\u001b[AParameters with this training accuracy 0.556953856083 and loss 1.42533571052 :\n",
      "\n",
      " 11%|█▏        | 114/1000 [22:09<1:55:34,  7.83s/it, best loss: -0.56976744186]\u001b[A\n",
      "\u001b[AParameters with this testing accuracy 0.549418604651 and loss 1.45542916789 :\n",
      "\n",
      " 11%|█▏        | 114/1000 [22:09<1:55:34,  7.83s/it, best loss: -0.56976744186]\u001b[A\n",
      "\u001b[A{'max_leaf_nodes': 16, 'bootstrap': False, 'min_samples_leaf': 7, 'n_estimators': 381, 'max_features': 13470, 'criterion': 'gini', 'min_samples_split': 70, 'max_depth': 36, 'class_weight': None}\n",
      "\n",
      " 11%|█▏        | 114/1000 [22:09<1:55:34,  7.83s/it, best loss: -0.56976744186]\u001b[A"
     ]
    },
    {
     "name": "stderr",
     "output_type": "stream",
     "text": [
      "Hyperopt:  12%|█▏        | 115/1000 [22:20<1:57:31,  7.97s/it]"
     ]
    },
    {
     "name": "stdout",
     "output_type": "stream",
     "text": [
      "\n",
      " 12%|█▏        | 115/1000 [22:09<1:57:32,  7.97s/it, best loss: -0.56976744186]\u001b[A\n",
      "\u001b[AParameters with this training accuracy 0.293643110681 and loss 2.00448151896 :\n",
      "\n",
      " 12%|█▏        | 115/1000 [22:19<1:57:32,  7.97s/it, best loss: -0.56976744186]\u001b[A\n",
      "\u001b[AParameters with this testing accuracy 0.203488372093 and loss 2.18507360213 :\n",
      "\n",
      " 12%|█▏        | 115/1000 [22:19<1:57:32,  7.97s/it, best loss: -0.56976744186]\u001b[A\n",
      "\u001b[A{'max_leaf_nodes': 26, 'bootstrap': False, 'min_samples_leaf': 27, 'n_estimators': 216, 'max_features': 16880, 'criterion': 'entropy', 'min_samples_split': 10, 'max_depth': 12, 'class_weight': 'balanced'}\n",
      "\n",
      " 12%|█▏        | 115/1000 [22:19<1:57:32,  7.97s/it, best loss: -0.56976744186]\u001b[A"
     ]
    },
    {
     "name": "stderr",
     "output_type": "stream",
     "text": [
      "Hyperopt:  12%|█▏        | 116/1000 [22:29<2:04:49,  8.47s/it]"
     ]
    },
    {
     "name": "stdout",
     "output_type": "stream",
     "text": [
      "\n",
      " 12%|█▏        | 116/1000 [22:19<2:04:49,  8.47s/it, best loss: -0.56976744186]\u001b[A\n",
      "\u001b[AParameters with this training accuracy 0.562762181349 and loss 1.45751306089 :\n",
      "\n",
      " 12%|█▏        | 116/1000 [22:33<2:04:49,  8.47s/it, best loss: -0.56976744186]\u001b[A\n",
      "\u001b[AParameters with this testing accuracy 0.55523255814 and loss 1.5739669335 :\n",
      "\n",
      " 12%|█▏        | 116/1000 [22:33<2:04:49,  8.47s/it, best loss: -0.56976744186]\u001b[A\n",
      "\u001b[A{'max_leaf_nodes': 20, 'bootstrap': False, 'min_samples_leaf': 11, 'n_estimators': 524, 'max_features': 25241, 'criterion': 'gini', 'min_samples_split': 10, 'max_depth': 32, 'class_weight': None}\n",
      "\n",
      " 12%|█▏        | 116/1000 [22:33<2:04:49,  8.47s/it, best loss: -0.56976744186]\u001b[A"
     ]
    },
    {
     "name": "stderr",
     "output_type": "stream",
     "text": [
      "Hyperopt:  12%|█▏        | 117/1000 [22:44<2:32:04, 10.33s/it]"
     ]
    },
    {
     "name": "stdout",
     "output_type": "stream",
     "text": [
      "\n",
      " 12%|█▏        | 117/1000 [22:34<2:32:05, 10.33s/it, best loss: -0.56976744186]\u001b[A\n",
      "\u001b[AParameters with this training accuracy 0.560180703453 and loss 1.42230237499 :\n",
      "\n",
      " 12%|█▏        | 117/1000 [22:55<2:32:05, 10.33s/it, best loss: -0.56976744186]\u001b[A\n",
      "\u001b[AParameters with this testing accuracy 0.546511627907 and loss 1.62412272616 :\n",
      "\n",
      " 12%|█▏        | 117/1000 [22:55<2:32:05, 10.33s/it, best loss: -0.56976744186]\u001b[A\n",
      "\u001b[A{'max_leaf_nodes': 26, 'bootstrap': False, 'min_samples_leaf': 13, 'n_estimators': 906, 'max_features': 26675, 'criterion': 'gini', 'min_samples_split': 20, 'max_depth': 13, 'class_weight': None}\n",
      "\n",
      " 12%|█▏        | 117/1000 [22:55<2:32:05, 10.33s/it, best loss: -0.56976744186]\u001b[A"
     ]
    },
    {
     "name": "stderr",
     "output_type": "stream",
     "text": [
      "Hyperopt:  12%|█▏        | 118/1000 [23:06<3:22:52, 13.80s/it]"
     ]
    },
    {
     "name": "stdout",
     "output_type": "stream",
     "text": [
      "\n",
      " 12%|█▏        | 118/1000 [22:55<3:22:52, 13.80s/it, best loss: -0.56976744186]\u001b[A\n",
      "\u001b[AParameters with this training accuracy 0.585995482414 and loss 1.28184020525 :\n",
      "\n",
      " 12%|█▏        | 118/1000 [23:06<3:22:52, 13.80s/it, best loss: -0.56976744186]\u001b[A\n",
      "\u001b[AParameters with this testing accuracy 0.549418604651 and loss 1.40306182281 :\n",
      "\n",
      " 12%|█▏        | 118/1000 [23:06<3:22:52, 13.80s/it, best loss: -0.56976744186]\u001b[A\n",
      "\u001b[A{'max_leaf_nodes': 28, 'bootstrap': True, 'min_samples_leaf': 1, 'n_estimators': 644, 'max_features': 3960, 'criterion': 'gini', 'min_samples_split': 10, 'max_depth': 29, 'class_weight': None}\n",
      "\n",
      " 12%|█▏        | 118/1000 [23:06<3:22:52, 13.80s/it, best loss: -0.56976744186]\u001b[A"
     ]
    },
    {
     "name": "stderr",
     "output_type": "stream",
     "text": [
      "Hyperopt:  12%|█▏        | 119/1000 [23:16<3:08:28, 12.84s/it]"
     ]
    },
    {
     "name": "stdout",
     "output_type": "stream",
     "text": [
      "\n",
      " 12%|█▏        | 119/1000 [23:06<3:08:28, 12.84s/it, best loss: -0.56976744186]\u001b[A\n",
      "\u001b[AParameters with this training accuracy 0.552758954501 and loss 1.42031610469 :\n",
      "\n",
      " 12%|█▏        | 119/1000 [23:12<3:08:28, 12.84s/it, best loss: -0.56976744186]\u001b[A\n",
      "\u001b[AParameters with this testing accuracy 0.529069767442 and loss 1.46619123573 :\n",
      "\n",
      " 12%|█▏        | 119/1000 [23:12<3:08:28, 12.84s/it, best loss: -0.56976744186]\u001b[A\n",
      "\u001b[A{'max_leaf_nodes': 18, 'bootstrap': False, 'min_samples_leaf': 25, 'n_estimators': 278, 'max_features': 3485, 'criterion': 'gini', 'min_samples_split': 60, 'max_depth': 24, 'class_weight': None}\n",
      "\n",
      " 12%|█▏        | 119/1000 [23:12<3:08:28, 12.84s/it, best loss: -0.56976744186]\u001b[A"
     ]
    },
    {
     "name": "stderr",
     "output_type": "stream",
     "text": [
      "Hyperopt:  12%|█▏        | 120/1000 [23:23<2:39:01, 10.84s/it]"
     ]
    },
    {
     "name": "stdout",
     "output_type": "stream",
     "text": [
      "\n",
      " 12%|█▏        | 120/1000 [23:12<2:39:01, 10.84s/it, best loss: -0.56976744186]\u001b[A\n",
      "\u001b[AParameters with this training accuracy 0.136495643756 and loss 2.44008020588 :\n",
      "\n",
      " 12%|█▏        | 120/1000 [23:26<2:39:01, 10.84s/it, best loss: -0.56976744186]\u001b[A\n",
      "\u001b[AParameters with this testing accuracy 0.0959302325581 and loss 2.48288282172 :\n",
      "\n",
      " 12%|█▏        | 120/1000 [23:26<2:39:01, 10.84s/it, best loss: -0.56976744186]\u001b[A\n",
      "\u001b[A{'max_leaf_nodes': 24, 'bootstrap': True, 'min_samples_leaf': 28, 'n_estimators': 839, 'max_features': 20833, 'criterion': 'entropy', 'min_samples_split': 30, 'max_depth': 1, 'class_weight': 'balanced'}\n",
      "\n",
      " 12%|█▏        | 120/1000 [23:26<2:39:01, 10.84s/it, best loss: -0.56976744186]\u001b[A"
     ]
    },
    {
     "name": "stderr",
     "output_type": "stream",
     "text": [
      "Hyperopt:  12%|█▏        | 121/1000 [23:37<2:52:31, 11.78s/it]"
     ]
    },
    {
     "name": "stdout",
     "output_type": "stream",
     "text": [
      "\n",
      " 12%|█▏        | 121/1000 [23:26<2:52:31, 11.78s/it, best loss: -0.56976744186]\u001b[A\n",
      "\u001b[AParameters with this training accuracy 0.564052920297 and loss 1.35641517116 :\n",
      "\n",
      " 12%|█▏        | 121/1000 [23:35<2:52:31, 11.78s/it, best loss: -0.56976744186]\u001b[A\n",
      "\u001b[AParameters with this testing accuracy 0.537790697674 and loss 1.43850468417 :\n",
      "\n",
      " 12%|█▏        | 121/1000 [23:35<2:52:31, 11.78s/it, best loss: -0.56976744186]\u001b[A\n",
      "\u001b[A{'max_leaf_nodes': 24, 'bootstrap': False, 'min_samples_leaf': 6, 'n_estimators': 810, 'max_features': 1521, 'criterion': 'gini', 'min_samples_split': 30, 'max_depth': 25, 'class_weight': None}\n",
      "\n",
      " 12%|█▏        | 121/1000 [23:35<2:52:31, 11.78s/it, best loss: -0.56976744186]\u001b[A"
     ]
    },
    {
     "name": "stderr",
     "output_type": "stream",
     "text": [
      "Hyperopt:  12%|█▏        | 122/1000 [23:45<2:39:35, 10.91s/it]"
     ]
    },
    {
     "name": "stdout",
     "output_type": "stream",
     "text": [
      "\n",
      " 12%|█▏        | 122/1000 [23:35<2:39:35, 10.91s/it, best loss: -0.56976744186]\u001b[A\n",
      "\u001b[AParameters with this training accuracy 0.556308486609 and loss 1.54733577411 :\n",
      "\n",
      " 12%|█▏        | 122/1000 [23:43<2:39:35, 10.91s/it, best loss: -0.56976744186]\u001b[A\n",
      "\u001b[AParameters with this testing accuracy 0.549418604651 and loss 1.56190126972 :\n",
      "\n",
      " 12%|█▏        | 122/1000 [23:43<2:39:35, 10.91s/it, best loss: -0.56976744186]\u001b[A\n",
      "\u001b[A{'max_leaf_nodes': 26, 'bootstrap': True, 'min_samples_leaf': 7, 'n_estimators': 275, 'max_features': 25991, 'criterion': 'gini', 'min_samples_split': 50, 'max_depth': 3, 'class_weight': None}\n",
      "\n",
      " 12%|█▏        | 122/1000 [23:43<2:39:35, 10.91s/it, best loss: -0.56976744186]\u001b[A"
     ]
    },
    {
     "name": "stderr",
     "output_type": "stream",
     "text": [
      "Hyperopt:  12%|█▏        | 123/1000 [23:54<2:27:19, 10.08s/it]"
     ]
    },
    {
     "name": "stdout",
     "output_type": "stream",
     "text": [
      "\n",
      " 12%|█▏        | 123/1000 [23:43<2:27:19, 10.08s/it, best loss: -0.56976744186]\u001b[A\n",
      "\u001b[AParameters with this training accuracy 0.525976121329 and loss 1.5301126787 :\n",
      "\n",
      " 12%|█▏        | 123/1000 [23:54<2:27:19, 10.08s/it, best loss: -0.56976744186]\u001b[A\n",
      "\u001b[AParameters with this testing accuracy 0.517441860465 and loss 1.53392494947 :\n",
      "\n",
      " 12%|█▏        | 123/1000 [23:54<2:27:19, 10.08s/it, best loss: -0.56976744186]\u001b[A\n",
      "\u001b[A{'max_leaf_nodes': 10, 'bootstrap': False, 'min_samples_leaf': 23, 'n_estimators': 901, 'max_features': 4011, 'criterion': 'gini', 'min_samples_split': 40, 'max_depth': 49, 'class_weight': None}\n",
      "\n",
      " 12%|█▏        | 123/1000 [23:54<2:27:19, 10.08s/it, best loss: -0.56976744186]\u001b[A"
     ]
    },
    {
     "name": "stderr",
     "output_type": "stream",
     "text": [
      "Hyperopt:  12%|█▏        | 124/1000 [24:05<2:32:26, 10.44s/it]"
     ]
    },
    {
     "name": "stdout",
     "output_type": "stream",
     "text": [
      "\n",
      " 12%|█▏        | 124/1000 [23:54<2:32:26, 10.44s/it, best loss: -0.56976744186]\u001b[A\n",
      "\u001b[AParameters with this training accuracy 0.563407550823 and loss 1.35779275016 :\n",
      "\n",
      " 12%|█▏        | 124/1000 [24:00<2:32:26, 10.44s/it, best loss: -0.56976744186]\u001b[A\n",
      "\u001b[AParameters with this testing accuracy 0.537790697674 and loss 1.44368695571 :\n",
      "\n",
      " 12%|█▏        | 124/1000 [24:00<2:32:26, 10.44s/it, best loss: -0.56976744186]\u001b[A\n",
      "\u001b[A{'max_leaf_nodes': 24, 'bootstrap': True, 'min_samples_leaf': 14, 'n_estimators': 256, 'max_features': 2710, 'criterion': 'gini', 'min_samples_split': 30, 'max_depth': 43, 'class_weight': None}\n",
      "\n",
      " 12%|█▏        | 124/1000 [24:00<2:32:26, 10.44s/it, best loss: -0.56976744186]\u001b[A"
     ]
    },
    {
     "name": "stderr",
     "output_type": "stream",
     "text": [
      "Hyperopt:  12%|█▎        | 125/1000 [24:11<2:12:04,  9.06s/it]"
     ]
    },
    {
     "name": "stdout",
     "output_type": "stream",
     "text": [
      "\n",
      " 12%|█▎        | 125/1000 [24:00<2:12:04,  9.06s/it, best loss: -0.56976744186]\u001b[A\n",
      "\u001b[AParameters with this training accuracy 0.23330106486 and loss 2.08572003486 :\n",
      "\n",
      " 12%|█▎        | 125/1000 [24:13<2:12:04,  9.06s/it, best loss: -0.56976744186]\u001b[A\n",
      "\u001b[AParameters with this testing accuracy 0.174418604651 and loss 2.19369452777 :\n",
      "\n",
      " 12%|█▎        | 125/1000 [24:13<2:12:04,  9.06s/it, best loss: -0.56976744186]\u001b[A\n",
      "\u001b[A{'max_leaf_nodes': 16, 'bootstrap': False, 'min_samples_leaf': 17, 'n_estimators': 923, 'max_features': 7204, 'criterion': 'gini', 'min_samples_split': 80, 'max_depth': 48, 'class_weight': 'balanced'}\n",
      "\n",
      " 12%|█▎        | 125/1000 [24:13<2:12:04,  9.06s/it, best loss: -0.56976744186]\u001b[A"
     ]
    },
    {
     "name": "stderr",
     "output_type": "stream",
     "text": [
      "Hyperopt:  13%|█▎        | 126/1000 [24:23<2:27:14, 10.11s/it]"
     ]
    },
    {
     "name": "stdout",
     "output_type": "stream",
     "text": [
      "\n",
      " 13%|█▎        | 126/1000 [24:13<2:27:15, 10.11s/it, best loss: -0.56976744186]\u001b[A\n",
      "\u001b[AParameters with this training accuracy 0.557599225557 and loss 1.36169639877 :\n",
      "\n",
      " 13%|█▎        | 126/1000 [24:23<2:27:15, 10.11s/it, best loss: -0.56976744186]\u001b[A\n",
      "\u001b[AParameters with this testing accuracy 0.529069767442 and loss 1.44291068804 :\n",
      "\n",
      " 13%|█▎        | 126/1000 [24:23<2:27:15, 10.11s/it, best loss: -0.56976744186]\u001b[A\n",
      "\u001b[A{'max_leaf_nodes': 20, 'bootstrap': True, 'min_samples_leaf': 18, 'n_estimators': 333, 'max_features': 16769, 'criterion': 'entropy', 'min_samples_split': 20, 'max_depth': 8, 'class_weight': None}\n",
      "\n",
      " 13%|█▎        | 126/1000 [24:23<2:27:15, 10.11s/it, best loss: -0.56976744186]\u001b[A"
     ]
    },
    {
     "name": "stderr",
     "output_type": "stream",
     "text": [
      "Hyperopt:  13%|█▎        | 127/1000 [24:33<2:26:41, 10.08s/it]"
     ]
    },
    {
     "name": "stdout",
     "output_type": "stream",
     "text": [
      "\n",
      " 13%|█▎        | 127/1000 [24:23<2:26:41, 10.08s/it, best loss: -0.56976744186]\u001b[A\n",
      "\u001b[AParameters with this training accuracy 0.547273313972 and loss 1.44720107863 :\n",
      "\n",
      " 13%|█▎        | 127/1000 [24:33<2:26:41, 10.08s/it, best loss: -0.56976744186]\u001b[A\n",
      "\u001b[AParameters with this testing accuracy 0.540697674419 and loss 1.47435334936 :\n",
      "\n",
      " 13%|█▎        | 127/1000 [24:34<2:26:41, 10.08s/it, best loss: -0.56976744186]\u001b[A\n",
      "\u001b[A{'max_leaf_nodes': 14, 'bootstrap': False, 'min_samples_leaf': 5, 'n_estimators': 802, 'max_features': 5908, 'criterion': 'gini', 'min_samples_split': 10, 'max_depth': 11, 'class_weight': None}\n",
      "\n",
      " 13%|█▎        | 127/1000 [24:34<2:26:41, 10.08s/it, best loss: -0.56976744186]\u001b[A"
     ]
    },
    {
     "name": "stderr",
     "output_type": "stream",
     "text": [
      "Hyperopt:  13%|█▎        | 128/1000 [24:44<2:29:06, 10.26s/it]"
     ]
    },
    {
     "name": "stdout",
     "output_type": "stream",
     "text": [
      "\n",
      " 13%|█▎        | 128/1000 [24:34<2:29:06, 10.26s/it, best loss: -0.56976744186]\u001b[A\n",
      "\u001b[AParameters with this training accuracy 0.541142303969 and loss 1.48343244376 :\n",
      "\n",
      " 13%|█▎        | 128/1000 [24:45<2:29:06, 10.26s/it, best loss: -0.56976744186]\u001b[A\n",
      "\u001b[AParameters with this testing accuracy 0.540697674419 and loss 1.50081347364 :\n",
      "\n",
      " 13%|█▎        | 128/1000 [24:45<2:29:06, 10.26s/it, best loss: -0.56976744186]\u001b[A\n",
      "\u001b[A{'max_leaf_nodes': 12, 'bootstrap': True, 'min_samples_leaf': 19, 'n_estimators': 625, 'max_features': 17985, 'criterion': 'gini', 'min_samples_split': 70, 'max_depth': 20, 'class_weight': None}\n",
      "\n",
      " 13%|█▎        | 128/1000 [24:45<2:29:06, 10.26s/it, best loss: -0.56976744186]\u001b[A"
     ]
    },
    {
     "name": "stderr",
     "output_type": "stream",
     "text": [
      "Hyperopt:  13%|█▎        | 129/1000 [24:55<2:33:22, 10.57s/it]"
     ]
    },
    {
     "name": "stdout",
     "output_type": "stream",
     "text": [
      "\n",
      " 13%|█▎        | 129/1000 [24:45<2:33:22, 10.57s/it, best loss: -0.56976744186]\u001b[A\n",
      "\u001b[AParameters with this training accuracy 0.585672797677 and loss 1.33131933877 :\n",
      "\n",
      " 13%|█▎        | 129/1000 [24:54<2:33:22, 10.57s/it, best loss: -0.56976744186]\u001b[A\n",
      "\u001b[AParameters with this testing accuracy 0.563953488372 and loss 1.4222417147 :\n",
      "\n",
      " 13%|█▎        | 129/1000 [24:54<2:33:22, 10.57s/it, best loss: -0.56976744186]\u001b[A\n",
      "\u001b[A{'max_leaf_nodes': 24, 'bootstrap': False, 'min_samples_leaf': 9, 'n_estimators': 324, 'max_features': 14071, 'criterion': 'gini', 'min_samples_split': 30, 'max_depth': 26, 'class_weight': None}\n",
      "\n",
      " 13%|█▎        | 129/1000 [24:54<2:33:22, 10.57s/it, best loss: -0.56976744186]\u001b[A"
     ]
    },
    {
     "name": "stderr",
     "output_type": "stream",
     "text": [
      "Hyperopt:  13%|█▎        | 130/1000 [25:04<2:25:48, 10.06s/it]"
     ]
    },
    {
     "name": "stdout",
     "output_type": "stream",
     "text": [
      "\n",
      " 13%|█▎        | 130/1000 [24:54<2:25:47, 10.06s/it, best loss: -0.56976744186]\u001b[A\n",
      "\u001b[AParameters with this training accuracy 0.327847692804 and loss 1.93778364818 :\n",
      "\n",
      " 13%|█▎        | 130/1000 [25:00<2:25:47, 10.06s/it, best loss: -0.56976744186]\u001b[A\n"
     ]
    }
   ],
   "source": [
    "import time\n",
    "from tqdm import tqdm\n",
    "import numpy as np\n",
    "\n",
    "trials = Trials()\n",
    "cores = 48\n",
    "start = time.time()\n",
    "evaluations = 1000\n",
    "pbar = tqdm(total=evaluations, desc=\"Hyperopt\")\n",
    "best_param = optimize(evals=evaluations,\n",
    "                      optimizer=tpe.suggest,\n",
    "                      trials=trials)\n",
    "print(\"------------------------------------\")\n",
    "print(\"The best hyperparameters are: \", \"\\n\")\n",
    "print(best_param)\n",
    "end = time.time()\n",
    "print('Time elapsed to optimize {0} executions: {1}'.format(evaluations, end - start))\n",
    "best_param['criterion'] = criterion_list[best_param['criterion']]\n",
    "best_param['max_leaf_nodes'] = max_leaf_nodes_list[best_param['max_leaf_nodes']]\n",
    "best_param['min_samples_leaf'] = min_samples_leaf_list[best_param['min_samples_leaf']]\n",
    "best_param['n_estimators'] = n_estimators_list[best_param['n_estimators']]\n",
    "best_param['max_features'] = max_features_list[best_param['max_features']]\n",
    "best_param['min_samples_split'] = min_samples_split_list[best_param['min_samples_split']]\n",
    "best_param['max_depth'] = max_depth_list[best_param['max_depth']]\n",
    "best_param['class_weight'] = class_weights[best_param['class_weight']]\n",
    "best_param['bootstrap'] = bootstrap_list[best_param['bootstrap']]\n",
    "print('\\n Best score:')\n",
    "score(best_param)"
   ]
  },
  {
   "cell_type": "code",
   "execution_count": null,
   "metadata": {},
   "outputs": [],
   "source": [
    "# get the best params and train the model\n",
    "RF_opt = RandomForestClassifier(criterion=best_param['criterion'], n_estimators=best_param['n_estimators'], max_features=best_param['max_features'],\n",
    "                                  max_depth=best_param['max_depth'], min_samples_split=best_param['min_samples_split'], min_samples_leaf=best_param['min_samples_leaf'],\n",
    "                                  max_leaf_nodes=best_param['max_leaf_nodes'], class_weight=best_param['class_weight'], bootstrap=best_param['bootstrap'],\n",
    "                                  random_state=42, n_jobs=48)\n",
    "\n",
    "\n",
    "fitted_model = RF_opt.fit(X=X_train,y=y_train)\n",
    "\n",
    "# train_acc = accuracy_score(y_train, fitted_model.predict(X_train))\n",
    "# train_loss = log_loss(y_train, fitted_model.predict_proba(X_train))\n",
    "# test_acc = accuracy_score(y_test, fitted_model.predict(X_test))\n",
    "# test_loss = log_loss(y_test, fitted_model.predict_proba(X_test))\n",
    "\n",
    "# print('Parameters with this training accuracy {} and loss {} :'.format(train_acc, train_loss))\n",
    "# print('Parameters with this testing accuracy {} and loss {} :'.format(test_acc, test_loss))\n"
   ]
  },
  {
   "cell_type": "code",
   "execution_count": null,
   "metadata": {},
   "outputs": [],
   "source": [
    "y_score = fitted_model.predict_proba(X_test)\n",
    "y_score"
   ]
  },
  {
   "cell_type": "code",
   "execution_count": null,
   "metadata": {},
   "outputs": [],
   "source": [
    "test_acc = accuracy_score(y_test, fitted_model.predict(X_test))\n",
    "test_acc"
   ]
  },
  {
   "cell_type": "code",
   "execution_count": null,
   "metadata": {},
   "outputs": [],
   "source": [
    "from matplotlib import pyplot as plt \n",
    "%matplotlib inline \n",
    "x_list =range(len(train_acc_list))\n",
    "\n",
    "plt.plot(x_list, train_acc_list, label='Training accuracy')\n",
    "plt.plot(x_list, test_acc_list, label='Testing accuracy')\n",
    "plt.legend()\n",
    "plt.show()"
   ]
  },
  {
   "cell_type": "code",
   "execution_count": null,
   "metadata": {},
   "outputs": [],
   "source": [
    "plt.plot(x_list, train_loss_list, label='Training loss')\n",
    "plt.plot(x_list, test_loss_list, label='Testing loss')\n",
    "plt.legend()\n",
    "plt.show()"
   ]
  },
  {
   "cell_type": "code",
   "execution_count": null,
   "metadata": {},
   "outputs": [],
   "source": []
  },
  {
   "cell_type": "code",
   "execution_count": null,
   "metadata": {},
   "outputs": [],
   "source": []
  }
 ],
 "metadata": {
  "kernelspec": {
   "display_name": "Python 2",
   "language": "python",
   "name": "python2"
  },
  "language_info": {
   "codemirror_mode": {
    "name": "ipython",
    "version": 2
   },
   "file_extension": ".py",
   "mimetype": "text/x-python",
   "name": "python",
   "nbconvert_exporter": "python",
   "pygments_lexer": "ipython2",
   "version": "2.7.15"
  }
 },
 "nbformat": 4,
 "nbformat_minor": 2
}

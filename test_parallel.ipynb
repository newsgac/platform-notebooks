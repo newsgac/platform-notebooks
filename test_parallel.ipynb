{
 "cells": [
  {
   "cell_type": "code",
   "execution_count": 1,
   "metadata": {},
   "outputs": [
    {
     "name": "stdout",
     "output_type": "stream",
     "text": [
      "[0, 1, 4] 5.40565681458\n"
     ]
    }
   ],
   "source": [
    "from sklearn.externals.joblib import Parallel, delayed\n",
    "import time\n",
    "\n",
    "def slow_square(i):\n",
    "    time.sleep(5)\n",
    "    return i*i\n",
    "\n",
    "t = time.time()\n",
    "r = Parallel(n_jobs=3)(delayed(slow_square)(i) for i in range(3))\n",
    "print r, time.time() - t"
   ]
  },
  {
   "cell_type": "code",
   "execution_count": null,
   "metadata": {},
   "outputs": [],
   "source": []
  }
 ],
 "metadata": {
  "kernelspec": {
   "display_name": "Python 2",
   "language": "python",
   "name": "python2"
  },
  "language_info": {
   "codemirror_mode": {
    "name": "ipython",
    "version": 2
   },
   "file_extension": ".py",
   "mimetype": "text/x-python",
   "name": "python",
   "nbconvert_exporter": "python",
   "pygments_lexer": "ipython2",
   "version": "2.7.15"
  }
 },
 "nbformat": 4,
 "nbformat_minor": 2
}

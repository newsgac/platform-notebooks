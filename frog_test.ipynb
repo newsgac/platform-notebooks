{
 "cells": [
  {
   "cell_type": "code",
   "execution_count": 1,
   "metadata": {},
   "outputs": [
    {
     "name": "stdout",
     "output_type": "stream",
     "text": [
      "[nltk_data] Downloading package punkt to /home/newsgac/nltk_data...\n",
      "[nltk_data]   Unzipping tokenizers/punkt.zip.\n"
     ]
    },
    {
     "data": {
      "text/plain": [
       "True"
      ]
     },
     "execution_count": 1,
     "metadata": {},
     "output_type": "execute_result"
    }
   ],
   "source": [
    "from newsgac import database\n",
    "from newsgac.data_sources import DataSource\n",
    "from newsgac.pipelines import Pipeline\n",
    "from newsgac.nlp_tools.models.frog import Frog\n",
    "import nltk\n",
    "nltk.download('punkt')"
   ]
  },
  {
   "cell_type": "code",
   "execution_count": 2,
   "metadata": {},
   "outputs": [
    {
     "data": {
      "text/plain": [
       "[u'NBGS', u'TT']"
      ]
     },
     "execution_count": 2,
     "metadata": {},
     "output_type": "execute_result"
    }
   ],
   "source": [
    "[d.display_title for d in DataSource.objects.all()]"
   ]
  },
  {
   "cell_type": "code",
   "execution_count": 3,
   "metadata": {},
   "outputs": [
    {
     "data": {
      "text/plain": [
       "[u'Frog test', u'Frog test (copy)']"
      ]
     },
     "execution_count": 3,
     "metadata": {},
     "output_type": "execute_result"
    }
   ],
   "source": [
    "[p.display_title for p in Pipeline.objects.all()]"
   ]
  },
  {
   "cell_type": "code",
   "execution_count": 4,
   "metadata": {},
   "outputs": [],
   "source": [
    "p = Pipeline.objects.all()[1]"
   ]
  },
  {
   "cell_type": "code",
   "execution_count": 6,
   "metadata": {},
   "outputs": [],
   "source": [
    "p.display_title = 'Frog SVC NBGS'"
   ]
  },
  {
   "cell_type": "code",
   "execution_count": 7,
   "metadata": {},
   "outputs": [],
   "source": [
    "p.save()"
   ]
  },
  {
   "cell_type": "code",
   "execution_count": 8,
   "metadata": {},
   "outputs": [],
   "source": [
    "skp = p.get_sk_pipeline()"
   ]
  },
  {
   "cell_type": "code",
   "execution_count": 11,
   "metadata": {},
   "outputs": [
    {
     "data": {
      "text/plain": [
       "('Classifier', SVC(C=3.0, cache_size=200, class_weight='balanced', coef0=0.0,\n",
       "   decision_function_shape='ovr', degree=3, gamma=0.1, kernel=u'linear',\n",
       "   max_iter=-1, probability=True, random_state=42, shrinking=True,\n",
       "   tol=0.001, verbose=False))"
      ]
     },
     "execution_count": 11,
     "metadata": {},
     "output_type": "execute_result"
    }
   ],
   "source": [
    "skp.steps.pop()"
   ]
  },
  {
   "cell_type": "code",
   "execution_count": 16,
   "metadata": {},
   "outputs": [
    {
     "data": {
      "text/plain": [
       "[('BasicFeatures',\n",
       "  <newsgac.nlp_tools.transformers.ExtractBasicFeatures at 0x7f8b11a26090>),\n",
       " ('QuoteFeatures',\n",
       "  <newsgac.nlp_tools.transformers.ExtractQuotes at 0x7f8b11a26110>),\n",
       " ('SentimentFeatures',\n",
       "  <newsgac.nlp_tools.transformers.ExtractSentimentFeatures at 0x7f8b11a26890>),\n",
       " ('Frog', Pipeline(memory=None,\n",
       "       steps=[('RemoveQuotes', <newsgac.nlp_tools.transformers.RemoveQuotes object at 0x7f8b11a26950>), ('Frog', <newsgac.nlp_tools.models.frog.FrogFeatureExtractor object at 0x7f8b11a26050>)]))]"
      ]
     },
     "execution_count": 16,
     "metadata": {},
     "output_type": "execute_result"
    }
   ],
   "source": [
    "skp.steps[1][1].transformer_list"
   ]
  },
  {
   "cell_type": "code",
   "execution_count": 18,
   "metadata": {},
   "outputs": [
    {
     "data": {
      "text/plain": [
       "('RobustScaler',\n",
       " RobustScaler(copy=True, quantile_range=(25.0, 75.0), with_centering=False,\n",
       "        with_scaling=True))"
      ]
     },
     "execution_count": 18,
     "metadata": {},
     "output_type": "execute_result"
    }
   ],
   "source": [
    "skp.steps.pop()"
   ]
  },
  {
   "cell_type": "code",
   "execution_count": 29,
   "metadata": {},
   "outputs": [
    {
     "data": {
      "text/plain": [
       "['BasicFeatures__question_marks_perc',\n",
       " 'BasicFeatures__exclamation_marks_perc',\n",
       " 'BasicFeatures__currency_symbols_perc',\n",
       " 'BasicFeatures__digits_perc',\n",
       " 'BasicFeatures__sentences',\n",
       " 'BasicFeatures__avg_sentence_length',\n",
       " 'QuoteFeatures__direct_quotes',\n",
       " 'QuoteFeatures__direct_quotes_perc',\n",
       " 'SentimentFeatures__polarity',\n",
       " 'SentimentFeatures__subjectivity',\n",
       " 'Frog__adjectives_perc',\n",
       " 'Frog__cogn_verbs_perc',\n",
       " 'Frog__intensifiers_perc',\n",
       " 'Frog__modal_adverbs_perc',\n",
       " 'Frog__modal_verbs_perc',\n",
       " 'Frog__named_entities_perc',\n",
       " 'Frog__number_perc',\n",
       " 'Frog__pronoun_1_perc',\n",
       " 'Frog__pronoun_2_perc',\n",
       " 'Frog__pronoun_3_perc',\n",
       " 'Frog__unique_named_entities']"
      ]
     },
     "execution_count": 29,
     "metadata": {},
     "output_type": "execute_result"
    }
   ],
   "source": [
    "skp.steps[1][1].get_feature_names()"
   ]
  },
  {
   "cell_type": "code",
   "execution_count": 31,
   "metadata": {},
   "outputs": [],
   "source": [
    "datasource = DataSource.objects.first()"
   ]
  },
  {
   "cell_type": "code",
   "execution_count": 32,
   "metadata": {},
   "outputs": [
    {
     "data": {
      "text/plain": [
       "u'NBGS'"
      ]
     },
     "execution_count": 32,
     "metadata": {},
     "output_type": "execute_result"
    }
   ],
   "source": [
    "datasource.display_title"
   ]
  },
  {
   "cell_type": "code",
   "execution_count": 35,
   "metadata": {},
   "outputs": [
    {
     "name": "stdout",
     "output_type": "stream",
     "text": [
      "Dr.H.S . Visscher Filmkroniek FILM ZONDER NOODZAAK OF RAF FINEMENT „I TABU ” : SIGHT-SEEING VAN MENSELIJKE NARIGHEID `` T\\E mogelijkheden van de „verborgen camera '' en „cinema vérité '' hebben een filmgenre in het leven geroepen waarvan het voortbestaan even onmiskenbaar als raadselachtig is : de exotische en erotische reportage- en compilatiefilm . Cameraploegen worden over de hele wereld uitgestuurd op zoek naar bizarre en morbide verschijnselen in de menselijke samenleving , en vervolgens wordt het materiaal ondergebracht in een „kijk-film '' , die onder allerlei eerlijkheids- en onthullingsleuzen op ongelimiteerde wijze de voyeursneigingen die de „candid camera '' eigen zgn , uitbuit . Het resultaat is in de meeste gevallen een kleurige sight-seeing van menselijke narigheid en buitenissigheid met een stevige dosis exotisch naakt . Blasetti — het genre is bij uitstek Italiaans — voerde ons langs allerlei soorten van liefde en sexualiteit „all over the world '' in zijn film „ik bemin — jij bemint '' , die overigens nog gelardeerd werd met show-fragmenten die niets met zijn , thema ' te maken hadden . Een andere film bracht de burgerman in de nachtcabarets van de Europese hoofdsteden en confronteerde hem met het modeverschijnsel van onze tijd : de strip-tease . Jacopetti liet ■ zijn cameramensen alles „vangen '' wat zij aan afgrijselijks en weerzinwekkends op deze wereld konden vinden — en dat is nogal wat — om ermee te betogen dat wij in een „hondse wereld '' leven : Mondo Cane . Zijn film verwekte een hevige deining , ook in Nederland — en dat heeft Jacopetti geen windeieren gelegd , getuige het feit dat er niet lang daarna een Mondo Cane II is verschenen ... T~\\E nieuwste vertegenwoordiger van het genre ■*- ' is de Italiaanse film „I Tabu '' : een attractieve titel die ons „belooft '' de taboes van onze samenleving openlijk en onverhuld aan de orde te stellen — en onder deze vlag ogenblikkelijk weer een beroep doet op de voyeursinstincten door de begeleidende reclamevraag : „Kan de mensheid zó onmenselijk zijn ? '' Die vraag is niet zo erg ( bc- ) Vlemmend , want de hele film is zó boordevol van 'n snuifje-van-dit en een snoepje-van-dat , dat men op een enkele uitzondering na aan de onmenselijkheid ternauwernood toekomt — afgezien nog van het feit dat vele fragmenten volslagen onbelangrijk en zelfs onbenullig zijn . Het is de kunst van dergelijke films om al de losse fragmenten dapper aan elkaar te laten praten door een commentator — voor een Nederlandse commen , tatorstem is gezorgd — en er een wat beschouwelijk en „belehrend '' klankje aan te geven , dat . tegen het slot zich opwerkt tot een zekere verhevenheid , waarmee het publiek naar huis gestuurd kan worden . Jacopetti lukte dat indertijd niet eens zo gek in zijn eerste „Mondo Cane '' in „I Tabu '' voert de laatste sekwentie ons naar een kerkdienst in een melaatsenkolonie , terwijl de commentaar zich verliest in gepoUjste evangeliserende clichés , die niets uithalen . Waarschijnlijk is het wel goed bedoeld , maar goede bedoelingen alleen maken zo weinig uit , vooral als de film èn de commentaar verder zo graag speculeren op de voyeursinstincten . De hele commentaar lijdt trouwens aan een naar pathos en aan opgeschroefde clichés , zoals het huilerige fragment over invalide en aan lager wal geraakte Japanse samurai . Datzelfde onechte pathos is te beluisteren in de muzikale begeleiding met „engelenstemmen '' naar de beste Hollywoodtradities , die op de goedkoopste manier wordt aangewend , bijvoorbeeld in het fragment over de nog levende slachtoffers van Hiroshima . We zien een volkomen mismaakte dwerg lopen , geboren uit een radio-actief besmette moeder . „Een armzalig gedrocht '' , zegt de commentaar , „maar in hem huist de onsterfelijke ziel van een mens '' . Dat is het soort van gemakkelijke zinnen dat men nu juist maar niet te vlot moet gebruiken bij het mens '' elijk faillissement dat Hiroshima is ... r/O zit een uitgebreid publiek , belust op „ta- boes '' — op „dat-wat-niet-mag '' , — in de zaal en laat zich van India naar Japan , van Japan naar Zweden , van Zweden naar Honoloeloe , van Honoloeloe naar Zwitserland of vice versa slingeren , niet om de alomtegenwoordigheid van de Peter Stuyvesantsigaretten , maar om menselijke misère en buitenissigheid gedemonstreerd te zien . „I Tabu '' is in het genre een van de minst geslaagde films . Hoe verziekt , verwrongen de mentaliteit van Jacopetti 's „Mondo Cane '' ook mag zjjn , zijn film ervaart men in ieder geval als de uitdrukking van een werkelijk ressentiment tegen een „hondse wereld '' — en bovendien was zijn film knap gemaakt en gemonteerd , terwijl er toch , zij 't soms moeilijk onderkenbaar , een zekere „lijn '' in te ontdekken viel . ~I Tabu '' mist echter iedere noodzakelijkheid en ieder artistiek raffinement ; de „draai '' van de commentaar , halverwege de film , van het „taboe '' naar „de menselijke jacht op geluk '' is volkomen willekeurig , en bovendien is de film knullig gemaakt : iedere overgang van het ene fragment naar het andere is willekeurig en zonder enige ambitie tot werkelijke vormgeving De „candid camera '' is dikwijls maar een smoesje — men zie het fragment over de Zweedse nozems , dat byzonder weinig overtuigend en typisch „opgelegd '' is — , of een naar gluurdertje — men zie het absoluut onbenullige fragment over een Zwitserse nudistenkolonie — , of een machteloze registrator — men lic het gedeelte dat aan de prostitutie in Bombay gewijd is . Wat de Zweedse schoolles over sexuele omgang hierbij moet doen , is even raadselachtig als het fragment over Zwitserse kinderen die met de huissleutel om hun hals lopen omdat hun beide ouders de hele dag werken . Zo zou men kunnen doorgaan . Het enige moment dat werkelijk boeit en treft is de begrafenis van een jongenslijkje in de Ganges : daar wordt iets merkbaar van werkelijke ontzetting en werkehjk mededogen . De rest blijft buitenkant — een veelal saaie en langdradige buitenkant . s • * T Tabu '' toont duidelijk verwantschap met het 11*- genre van de bijbelse spektakelfilm a la De Mille : dezelfde nobele bedoelingen pretenderend , dezelfde belustheid tonend op sadistische en exotisch-erotische buitenissigheden , dezelfde quasigelegaliseerde verwachtingen wekkend . Ongetwijfeld betracht de film veel meer kiesheid in wat hij toont dan Jacopetti 's „Mondo Cane '' ; maar daarmee is de film zelf allerminst zuiverder dan die van Jacopetti . Integendeel . Er is praktisch geen fragment dat de tijd of de vorm vindt om ons werkelijk en intrinsiek bij een handeling of een situatie te betrekken . Kenmerkend is het slot , waar ons wel een aantal aandachtige gezichten van gelovige melaatsen wordt getoond , maar waar geen enkele wezenlijke confrontatie met en betrokkenheid bij deze afschuwelijke ziekte gewekt is . Onder het mom van menselijke bewogenheid blijft het ... sightseeing van kleurige menselijke narigheid . Men vraagt zich af wat de makers eigenlijk m zon film gezien hebben , nog klemmender is de vraag , wat het publiek in dit genre bltJft zien ...\n"
     ]
    }
   ],
   "source": [
    "print datasource.articles[90].raw_text"
   ]
  },
  {
   "cell_type": "code",
   "execution_count": 46,
   "metadata": {},
   "outputs": [
    {
     "name": "stdout",
     "output_type": "stream",
     "text": [
      "Dr.H.S . Visscher Filmkroniek FILM ZONDER NOODZAAK OF RAF FINEMENT I TABU : SIGHT-SEEING VAN MENSELIJKE NARIGHEID TE mogelijkheden van de verborgen camera '' en cinema vrit '' hebben een filmgenre in het leven geroepen waarvan het voortbestaan even onmiskenbaar als raadselachtig is : de exotische en erotische reportage- en compilatiefilm . Cameraploegen worden over de hele wereld uitgestuurd op zoek naar bizarre en morbide verschijnselen in de menselijke samenleving , en vervolgens wordt het materiaal ondergebracht in een kijk-film '' , die onder allerlei eerlijkheids- en onthullingsleuzen op ongelimiteerde wijze de voyeursneigingen die de candid camera '' eigen zgn , uitbuit . Het resultaat is in de meeste gevallen een kleurige sight-seeing van menselijke narigheid en buitenissigheid met een stevige dosis exotisch naakt . Blasetti het genre is bij uitstek Italiaans voerde ons langs allerlei soorten van liefde en sexualiteit all over the world '' in zijn film ik bemin jij bemint '' , die overigens nog gelardeerd werd met show-fragmenten die niets met zijn , thema ' te maken hadden . Een andere film bracht de burgerman in de nachtcabarets van de Europese hoofdsteden en confronteerde hem met het modeverschijnsel van onze tijd : de strip-tease . Jacopetti liet zijn cameramensen alles vangen '' wat zij aan afgrijselijks en weerzinwekkends op deze wereld konden vinden en dat is nogal wat om ermee te betogen dat wij in een hondse wereld '' leven : Mondo Cane . Zijn film verwekte een hevige deining , ook in Nederland en dat heeft Jacopetti geen windeieren gelegd , getuige het feit dat er niet lang daarna een Mondo Cane II is verschenen ... TE nieuwste vertegenwoordiger van het genre - ' is de Italiaanse film I Tabu '' : een attractieve titel die ons belooft '' de taboes van onze samenleving openlijk en onverhuld aan de orde te stellen en onder deze vlag ogenblikkelijk weer een beroep doet op de voyeursinstincten door de begeleidende reclamevraag : Kan de mensheid zó onmenselijk zijn ? '' Die vraag is niet zo erg bc- Vlemmend , want de hele film is zó boordevol van 'n snuifje-van-dit en een snoepje-van-dat , dat men op een enkele uitzondering na aan de onmenselijkheid ternauwernood toekomt afgezien nog van het feit dat vele fragmenten volslagen onbelangrijk en zelfs onbenullig zijn . Het is de kunst van dergelijke films om al de losse fragmenten dapper aan elkaar te laten praten door een commentator voor een Nederlandse commen , tatorstem is gezorgd en er een wat beschouwelijk en belehrend '' klankje aan te geven , dat . tegen het slot zich opwerkt tot een zekere verhevenheid , waarmee het publiek naar huis gestuurd kan worden . Jacopetti lukte dat indertijd niet eens zo gek in zijn eerste Mondo Cane '' in I Tabu '' voert de laatste sekwentie ons naar een kerkdienst in een melaatsenkolonie , terwijl de commentaar zich verliest in gepoUjste evangeliserende clichs , die niets uithalen . Waarschijnlijk is het wel goed bedoeld , maar goede bedoelingen alleen maken zo weinig uit , vooral als de film n de commentaar verder zo graag speculeren op de voyeursinstincten . De hele commentaar lijdt trouwens aan een naar pathos en aan opgeschroefde clichs , zoals het huilerige fragment over invalide en aan lager wal geraakte Japanse samurai . Datzelfde onechte pathos is te beluisteren in de muzikale begeleiding met engelenstemmen '' naar de beste Hollywoodtradities , die op de goedkoopste manier wordt aangewend , bijvoorbeeld in het fragment over de nog levende slachtoffers van Hiroshima . We zien een volkomen mismaakte dwerg lopen , geboren uit een radio-actief besmette moeder . Een armzalig gedrocht '' , zegt de commentaar , maar in hem huist de onsterfelijke ziel van een mens '' . Dat is het soort van gemakkelijke zinnen dat men nu juist maar niet te vlot moet gebruiken bij het mens '' elijk faillissement dat Hiroshima is ... rO zit een uitgebreid publiek , belust op ta- boes '' op dat-wat-niet-mag '' , in de zaal en laat zich van India naar Japan , van Japan naar Zweden , van Zweden naar Honoloeloe , van Honoloeloe naar Zwitserland of vice versa slingeren , niet om de alomtegenwoordigheid van de Peter Stuyvesantsigaretten , maar om menselijke misre en buitenissigheid gedemonstreerd te zien . I Tabu '' is in het genre een van de minst geslaagde films . Hoe verziekt , verwrongen de mentaliteit van Jacopetti 's Mondo Cane '' ook mag zjjn , zijn film ervaart men in ieder geval als de uitdrukking van een werkelijk ressentiment tegen een hondse wereld '' en bovendien was zijn film knap gemaakt en gemonteerd , terwijl er toch , zij 't soms moeilijk onderkenbaar , een zekere lijn '' in te ontdekken viel . I Tabu '' mist echter iedere noodzakelijkheid en ieder artistiek raffinement ; de draai '' van de commentaar , halverwege de film , van het taboe '' naar de menselijke jacht op geluk '' is volkomen willekeurig , en bovendien is de film knullig gemaakt : iedere overgang van het ene fragment naar het andere is willekeurig en zonder enige ambitie tot werkelijke vormgeving De candid camera '' is dikwijls maar een smoesje men zie het fragment over de Zweedse nozems , dat byzonder weinig overtuigend en typisch opgelegd '' is , of een naar gluurdertje men zie het absoluut onbenullige fragment over een Zwitserse nudistenkolonie , of een machteloze registrator men lic het gedeelte dat aan de prostitutie in Bombay gewijd is . Wat de Zweedse schoolles over sexuele omgang hierbij moet doen , is even raadselachtig als het fragment over Zwitserse kinderen die met de huissleutel om hun hals lopen omdat hun beide ouders de hele dag werken . Zo zou men kunnen doorgaan . Het enige moment dat werkelijk boeit en treft is de begrafenis van een jongenslijkje in de Ganges : daar wordt iets merkbaar van werkelijke ontzetting en werkehjk mededogen . De rest blijft buitenkant een veelal saaie en langdradige buitenkant . s T Tabu '' toont duidelijk verwantschap met het 11- genre van de bijbelse spektakelfilm a la De Mille : dezelfde nobele bedoelingen pretenderend , dezelfde belustheid tonend op sadistische en exotisch-erotische buitenissigheden , dezelfde quasigelegaliseerde verwachtingen wekkend . Ongetwijfeld betracht de film veel meer kiesheid in wat hij toont dan Jacopetti 's Mondo Cane '' ; maar daarmee is de film zelf allerminst zuiverder dan die van Jacopetti . Integendeel . Er is praktisch geen fragment dat de tijd of de vorm vindt om ons werkelijk en intrinsiek bij een handeling of een situatie te betrekken . Kenmerkend is het slot , waar ons wel een aantal aandachtige gezichten van gelovige melaatsen wordt getoond , maar waar geen enkele wezenlijke confrontatie met en betrokkenheid bij deze afschuwelijke ziekte gewekt is . Onder het mom van menselijke bewogenheid blijft het ... sightseeing van kleurige menselijke narigheid . Men vraagt zich af wat de makers eigenlijk m zon film gezien hebben , nog klemmender is de vraag , wat het publiek in dit genre bltJft zien ...\n"
     ]
    }
   ],
   "source": [
    "print skp.steps[0][1].transform([datasource.articles[90].raw_text])[0]"
   ]
  },
  {
   "cell_type": "code",
   "execution_count": null,
   "metadata": {},
   "outputs": [],
   "source": []
  }
 ],
 "metadata": {
  "kernelspec": {
   "display_name": "Python 2",
   "language": "python",
   "name": "python2"
  },
  "language_info": {
   "codemirror_mode": {
    "name": "ipython",
    "version": 2
   },
   "file_extension": ".py",
   "mimetype": "text/x-python",
   "name": "python",
   "nbconvert_exporter": "python",
   "pygments_lexer": "ipython2",
   "version": "2.7.15"
  }
 },
 "nbformat": 4,
 "nbformat_minor": 2
}

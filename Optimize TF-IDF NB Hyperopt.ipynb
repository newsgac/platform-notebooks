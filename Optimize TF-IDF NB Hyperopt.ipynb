{
 "cells": [
  {
   "cell_type": "code",
   "execution_count": null,
   "metadata": {},
   "outputs": [],
   "source": [
    "# import sys\n",
    "# !{sys.executable} -m pip install imbalanced-learn --user\n",
    "# !{sys.executable} -m pip install hyperopt --user"
   ]
  },
  {
   "cell_type": "code",
   "execution_count": 1,
   "metadata": {},
   "outputs": [
    {
     "name": "stdout",
     "output_type": "stream",
     "text": [
      "[nltk_data] Downloading package punkt to /home/newsgac/nltk_data...\n",
      "[nltk_data]   Package punkt is already up-to-date!\n"
     ]
    },
    {
     "data": {
      "text/plain": [
       "True"
      ]
     },
     "execution_count": 1,
     "metadata": {},
     "output_type": "execute_result"
    }
   ],
   "source": [
    "import numpy\n",
    "from time import time\n",
    "from sklearn.model_selection import GridSearchCV\n",
    "from hyperopt import tpe, fmin, hp, STATUS_OK, Trials\n",
    "from sklearn.metrics import accuracy_score, log_loss, roc_auc_score\n",
    "from sklearn.model_selection import train_test_split\n",
    "from copy import deepcopy\n",
    "\n",
    "from newsgac import config\n",
    "from newsgac.genres import genre_codes\n",
    "from newsgac.learners import learners, LearnerSVC, LearnerNB, LearnerXGB, LearnerGB, LearnerMLP, LearnerRF, LearnerLGBM\n",
    "from newsgac.pipelines.get_sk_pipeline import get_sk_pipeline\n",
    "from newsgac.pipelines.utils import report\n",
    "from sklearn.naive_bayes import MultinomialNB\n",
    "\n",
    "\n",
    "from newsgac import database\n",
    "from newsgac.data_sources import DataSource\n",
    "from newsgac.pipelines import Pipeline\n",
    "\n",
    "# from imblearn.under_sampling import RandomUnderSampler\n",
    "# from imblearn.over_sampling import RandomOverSampler, SMOTE, ADASYN\n",
    "# from imblearn.combine import SMOTEENN, SMOTETomek\n",
    "import numpy as np\n",
    "import nltk\n",
    "nltk.download('punkt')"
   ]
  },
  {
   "cell_type": "code",
   "execution_count": 2,
   "metadata": {},
   "outputs": [
    {
     "data": {
      "text/plain": [
       "[u'N2BGS Training',\n",
       " u'N2BGS Testing',\n",
       " u'Linked NRC (2930)',\n",
       " u'BOW + 5 features (N2BGS train)',\n",
       " u'BOW + 5 features (N2BGS test)',\n",
       " u'nrc-1950-1994-a.txt',\n",
       " u'nrc-1950-1994-b.txt',\n",
       " u'nrc-1950-1994-c.txt',\n",
       " u'nrc-1950-1994-d.txt',\n",
       " u'nrc-1950-1994-e.txt',\n",
       " u'telegraaf-1950-1994-a.txt',\n",
       " u'telegraaf-1950-1994-b.txt',\n",
       " u'telegraaf-1950-1994-c.txt',\n",
       " u'telegraaf-1950-1994-d.txt',\n",
       " u'telegraaf-1950-1994-e.txt',\n",
       " u'volkskrant-1950-1995-a.txt',\n",
       " u'volkskrant-1950-1995-b.txt',\n",
       " u'volkskrant-1950-1995-c.txt',\n",
       " u'volkskrant-1950-1995-d.txt',\n",
       " u'volkskrant-1950-1995-e.txt',\n",
       " u'nrc-1965.txt',\n",
       " u'nrc-1985.txt',\n",
       " u'BOW + 9 features (N2BGS train)',\n",
       " u'BOW + 9 features (N2BGS test)',\n",
       " u'Linked NRC (2930/9 features)',\n",
       " u'BOW Train unique (9 features)',\n",
       " u'BOW Test unique (9 features)',\n",
       " u'Linked NRC (unique/9 features)',\n",
       " u'BOW Train unique (N3BGS/9 features)',\n",
       " u'N3BGS FROG Test',\n",
       " u'N3BGS FROG Train',\n",
       " u'BOW Test unique (N3BGS/9 features)']"
      ]
     },
     "execution_count": 2,
     "metadata": {},
     "output_type": "execute_result"
    }
   ],
   "source": [
    "[d.display_title for d in DataSource.objects.all()]"
   ]
  },
  {
   "cell_type": "code",
   "execution_count": 3,
   "metadata": {},
   "outputs": [
    {
     "data": {
      "text/plain": [
       "[u'dummy frog',\n",
       " u'dummy bow',\n",
       " u'RF FROG',\n",
       " u'SVC FROG',\n",
       " u'XGB FROG',\n",
       " u'NB FROG',\n",
       " u'MLP FROG',\n",
       " u'RF BOW',\n",
       " u'SVC BOW',\n",
       " u'XGB BOW',\n",
       " u'NB BOW',\n",
       " u'MLP BOW',\n",
       " u'SVC LIN BOW',\n",
       " u'Erik MLP BOW (with stop-words)',\n",
       " u'Erik MLP BOW (5 features) ',\n",
       " u'Erik MLP BOW (9 features) ',\n",
       " u'Erik SVC BOW (9 features)',\n",
       " u'Erik RF BOW (9 features)',\n",
       " u'Erik XGB BOW (9 features)',\n",
       " u'Erik NB BOW (9 features)',\n",
       " u'Erik MLP unique 9 features',\n",
       " u'Erik NB unique (9 features)',\n",
       " u'Erik XGB unique (9 features)',\n",
       " u'Erik SVC unique (9 features)',\n",
       " u'Erik RF unique (9 features)',\n",
       " u'N3BGS MLP unique 9 features',\n",
       " u'N3BGS NB unique 9 features ',\n",
       " u'N3BGS SVC unique 9 features ',\n",
       " u'N3BGS RF unique 9 features',\n",
       " u'N3BGS XGB unique 9 features ',\n",
       " u'dummy n3bgs bow',\n",
       " u'dummy n3bgs frog']"
      ]
     },
     "execution_count": 3,
     "metadata": {},
     "output_type": "execute_result"
    }
   ],
   "source": [
    "[d.display_title for d in Pipeline.objects.all()]"
   ]
  },
  {
   "cell_type": "code",
   "execution_count": 4,
   "metadata": {},
   "outputs": [
    {
     "name": "stdout",
     "output_type": "stream",
     "text": [
      "DataSource: BOW Train unique (N3BGS/9 features)\n",
      "NLP Tool: TF-IDF\n",
      "Classifier: Support Vector\n",
      "Task status: Status.SUCCESS\n"
     ]
    }
   ],
   "source": [
    "p = Pipeline.objects.all()[30]\n",
    "print 'DataSource: ' + p.data_source.display_title\n",
    "print 'NLP Tool: ' + p.nlp_tool.name\n",
    "print 'Classifier: ' + p.learner.name\n",
    "print 'Task status: ' + str(p.task.status)"
   ]
  },
  {
   "cell_type": "code",
   "execution_count": 5,
   "metadata": {},
   "outputs": [
    {
     "data": {
      "text/plain": [
       "857"
      ]
     },
     "execution_count": 5,
     "metadata": {},
     "output_type": "execute_result"
    }
   ],
   "source": [
    "len(p.data_source.articles)"
   ]
  },
  {
   "cell_type": "code",
   "execution_count": 6,
   "metadata": {},
   "outputs": [
    {
     "name": "stdout",
     "output_type": "stream",
     "text": [
      "Testing data source: BOW Test unique (N3BGS/9 features)\n"
     ]
    }
   ],
   "source": [
    "test_data_source = DataSource.objects.all()[31]\n",
    "print 'Testing data source: ' + test_data_source.display_title"
   ]
  },
  {
   "cell_type": "code",
   "execution_count": 7,
   "metadata": {},
   "outputs": [
    {
     "data": {
      "text/plain": [
       "[('CleanOCR', <newsgac.nlp_tools.transformers.CleanOCR at 0x7efcf7682110>),\n",
       " ('StopWordRemoval',\n",
       "  <newsgac.nlp_tools.transformers.StopWordRemoval at 0x7efcf7682150>),\n",
       " ('FeatureExtraction', FeatureUnion(n_jobs=None,\n",
       "         transformer_list=[('TFIDF', Pipeline(memory=None,\n",
       "       steps=[('RemoveQuotes', <newsgac.nlp_tools.transformers.RemoveQuotes object at 0x7efcf7682190>), ('TF-IDF', TfidfVectorizer(analyzer=u'word', binary=False, decode_error=u'strict',\n",
       "          dtype=<type 'numpy.float64'>, encoding=u'utf-8', input=u'content',\n",
       "          lowercase=True, max_df=1.0, max_featu...        token_pattern=u'(?u)\\\\b\\\\w\\\\w+\\\\b', tokenizer=None, use_idf=True,\n",
       "          vocabulary=None))]))],\n",
       "         transformer_weights=None))]"
      ]
     },
     "execution_count": 7,
     "metadata": {},
     "output_type": "execute_result"
    }
   ],
   "source": [
    "skp = p.get_sk_pipeline()\n",
    "skp_opt = deepcopy(skp)\n",
    "skp_opt.steps.pop()\n",
    "skp_opt.steps"
   ]
  },
  {
   "cell_type": "code",
   "execution_count": 8,
   "metadata": {},
   "outputs": [],
   "source": [
    "texts = numpy.array([article.raw_text for article in p.data_source.articles])\n",
    "labels = numpy.array([article.label for article in p.data_source.articles])\n",
    "\n",
    "X = skp_opt.fit_transform(texts)"
   ]
  },
  {
   "cell_type": "code",
   "execution_count": 9,
   "metadata": {},
   "outputs": [],
   "source": [
    "# get the test dataset for optimization accuracy\n",
    "texts_test = numpy.array([article.raw_text for article in test_data_source.articles])\n",
    "labels_test = numpy.array([article.label for article in test_data_source.articles])\n",
    "\n",
    "X_test = skp_opt.transform(texts_test)"
   ]
  },
  {
   "cell_type": "code",
   "execution_count": 10,
   "metadata": {},
   "outputs": [],
   "source": [
    "X_train = X\n",
    "y_train = labels\n",
    "y_test = labels_test"
   ]
  },
  {
   "cell_type": "code",
   "execution_count": 11,
   "metadata": {},
   "outputs": [
    {
     "data": {
      "text/plain": [
       "(95,)"
      ]
     },
     "execution_count": 11,
     "metadata": {},
     "output_type": "execute_result"
    }
   ],
   "source": [
    "y_test.shape"
   ]
  },
  {
   "cell_type": "code",
   "execution_count": null,
   "metadata": {},
   "outputs": [],
   "source": []
  },
  {
   "cell_type": "code",
   "execution_count": 12,
   "metadata": {},
   "outputs": [],
   "source": [
    "def optimize(evals, trials, optimizer=tpe.suggest):\n",
    "    space = {\n",
    "        'alpha': hp.uniform('alpha', 0.0, 5.0),\n",
    "    }\n",
    "    best = fmin(score, space, algo=optimizer, max_evals=evals, trials=trials)\n",
    "    pbar.close()\n",
    "    return best"
   ]
  },
  {
   "cell_type": "code",
   "execution_count": 13,
   "metadata": {},
   "outputs": [],
   "source": [
    "train_acc_list = []\n",
    "train_loss_list = []\n",
    "test_acc_list = []\n",
    "test_loss_list = []\n",
    "\n",
    "def score(params):\n",
    "    \n",
    "    model = MultinomialNB(alpha=params['alpha'])\n",
    "\n",
    "    model.fit(X_train, y_train)   \n",
    "\n",
    "    train_acc = accuracy_score(y_train, model.predict(X_train))\n",
    "    train_loss = log_loss(y_train, model.predict_proba(X_train))\n",
    "    test_acc = accuracy_score(y_test, model.predict(X_test))\n",
    "    test_loss = log_loss(y_test, model.predict_proba(X_test))\n",
    "    \n",
    "    train_acc_list.append(train_acc)\n",
    "    train_loss_list.append(train_loss)\n",
    "    test_acc_list.append(test_acc)\n",
    "    test_loss_list.append(test_loss)\n",
    "    \n",
    "    print('Parameters with this training accuracy {} and loss {} :'.format(train_acc, train_loss))\n",
    "    print('Parameters with this testing accuracy {} and loss {} :'.format(test_acc, test_loss))\n",
    "    print(params)\n",
    "    pbar.update()\n",
    "#     return {'loss': test_loss, 'status': STATUS_OK}\n",
    "    return {'loss': -test_acc, 'status': STATUS_OK}"
   ]
  },
  {
   "cell_type": "code",
   "execution_count": 14,
   "metadata": {},
   "outputs": [
    {
     "name": "stderr",
     "output_type": "stream",
     "text": [
      "Hyperopt:   0%|          | 5/1000 [00:00<00:22, 43.55it/s]"
     ]
    },
    {
     "name": "stdout",
     "output_type": "stream",
     "text": [
      "Parameters with this training accuracy 0.997666277713 and loss 0.0110269472659 :\n",
      "Parameters with this testing accuracy 0.305263157895 and loss 3.21206015359 :\n",
      "{'alpha': 0.003206298625275106}\n",
      "Parameters with this training accuracy 0.935822637106 and loss 1.38223919878 :\n",
      "Parameters with this testing accuracy 0.357894736842 and loss 2.25086877546 :\n",
      "{'alpha': 0.8853683711354099}\n",
      "Parameters with this training accuracy 0.890315052509 and loss 1.9892439686 :\n",
      "Parameters with this testing accuracy 0.357894736842 and loss 2.46773901205 :\n",
      "{'alpha': 2.1736038981273857}\n",
      "Parameters with this training accuracy 0.866977829638 and loss 2.30253389477 :\n",
      "Parameters with this testing accuracy 0.347368421053 and loss 2.58979637225 :\n",
      "{'alpha': 4.2050118899104785}\n",
      "Parameters with this training accuracy 0.926487747958 and loss 1.59889442458 :\n",
      "Parameters with this testing accuracy 0.357894736842 and loss 2.32455127296 :\n",
      "{'alpha': 1.184256846915654}\n",
      "Parameters with this training accuracy 0.94049008168 and loss 1.2981233967 :\n",
      "Parameters with this testing accuracy 0.357894736842 and loss 2.22333647041 :\n",
      "{'alpha': 0.7945787324235137}\n",
      "Parameters with this training accuracy 0.947491248541 and loss 1.18789034512 :\n",
      "Parameters with this testing accuracy 0.357894736842 and loss 2.18808973226 :\n",
      "{'alpha': 0.6911549332300881}\n",
      "Parameters with this training accuracy 0.933488914819 and loss 1.41934445499 :\n",
      "Parameters with this testing accuracy 0.357894736842 and loss 2.26319894409 :\n",
      "{'alpha': 0.9292840808513064}\n",
      "Parameters with this training accuracy 0.892648774796 and loss 1.95857331484 :\n",
      "Parameters with this testing accuracy 0.357894736842 and loss 2.45604510791 :\n",
      "{'alpha': 2.060011636286964}\n",
      "Parameters with this training accuracy 0.901983663944 and loss 1.85765948448 :\n",
      "Parameters with this testing accuracy 0.357894736842 and loss 2.41805022018 :\n",
      "{'alpha': 1.741562071992725}\n"
     ]
    },
    {
     "name": "stderr",
     "output_type": "stream",
     "text": [
      "Hyperopt:   2%|▏         | 16/1000 [00:00<00:21, 46.14it/s]"
     ]
    },
    {
     "name": "stdout",
     "output_type": "stream",
     "text": [
      "Parameters with this training accuracy 0.886814469078 and loss 2.0671989532 :\n",
      "Parameters with this testing accuracy 0.357894736842 and loss 2.49772421103 :\n",
      "{'alpha': 2.50798242657668}\n",
      "Parameters with this training accuracy 0.886814469078 and loss 2.01909553956 :\n",
      "Parameters with this testing accuracy 0.357894736842 and loss 2.47917910028 :\n",
      "{'alpha': 2.2932865286999107}\n",
      "Parameters with this training accuracy 0.87747957993 and loss 2.23465367862 :\n",
      "Parameters with this testing accuracy 0.357894736842 and loss 2.56308345059 :\n",
      "{'alpha': 3.5611545723370206}\n",
      "Parameters with this training accuracy 0.886814469078 and loss 2.06898432942 :\n",
      "Parameters with this testing accuracy 0.357894736842 and loss 2.49841493831 :\n",
      "{'alpha': 2.5165281478401025}\n",
      "Parameters with this training accuracy 0.886814469078 and loss 2.03786237592 :\n",
      "Parameters with this testing accuracy 0.357894736842 and loss 2.4863987562 :\n",
      "{'alpha': 2.3736297409952254}\n",
      "Parameters with this training accuracy 0.889148191365 and loss 1.99662505532 :\n",
      "Parameters with this testing accuracy 0.357894736842 and loss 2.47056248024 :\n",
      "{'alpha': 2.202318152027164}\n",
      "Parameters with this training accuracy 0.926487747958 and loss 1.59657694923 :\n",
      "Parameters with this testing accuracy 0.357894736842 and loss 2.3237410858 :\n",
      "{'alpha': 1.1804329086005405}\n",
      "Parameters with this training accuracy 0.903150525088 and loss 1.84306042655 :\n",
      "Parameters with this testing accuracy 0.357894736842 and loss 2.41261966933 :\n",
      "{'alpha': 1.7014178863072549}\n",
      "Parameters with this training accuracy 0.903150525088 and loss 1.84455396931 :\n",
      "Parameters with this testing accuracy 0.357894736842 and loss 2.41317443034 :\n",
      "{'alpha': 1.7054644152324983}\n",
      "Parameters with this training accuracy 0.913652275379 and loss 1.74094565043 :\n",
      "Parameters with this testing accuracy 0.357894736842 and loss 2.37514176411 :\n",
      "{'alpha': 1.4537184923495512}\n"
     ]
    },
    {
     "name": "stderr",
     "output_type": "stream",
     "text": [
      "Hyperopt:   3%|▎         | 26/1000 [00:00<00:21, 46.31it/s]"
     ]
    },
    {
     "name": "stdout",
     "output_type": "stream",
     "text": [
      "Parameters with this training accuracy 0.880980163361 and loss 2.16837443406 :\n",
      "Parameters with this testing accuracy 0.357894736842 and loss 2.53709539555 :\n",
      "{'alpha': 3.0734770891957517}\n",
      "Parameters with this training accuracy 0.880980163361 and loss 2.1573592072 :\n",
      "Parameters with this testing accuracy 0.357894736842 and loss 2.5327890637 :\n",
      "{'alpha': 3.0027385446907857}\n",
      "Parameters with this training accuracy 0.85764294049 and loss 2.35165765906 :\n",
      "Parameters with this testing accuracy 0.336842105263 and loss 2.60915941115 :\n",
      "{'alpha': 4.801880648620902}\n",
      "Parameters with this training accuracy 0.997666277713 and loss 0.0144794285851 :\n",
      "Parameters with this testing accuracy 0.326315789474 and loss 2.46166488061 :\n",
      "{'alpha': 0.009829718275777388}\n",
      "Parameters with this training accuracy 0.880980163361 and loss 2.15013789704 :\n",
      "Parameters with this testing accuracy 0.357894736842 and loss 2.52996824459 :\n",
      "{'alpha': 2.957742235482523}\n",
      "Parameters with this training accuracy 0.869311551925 and loss 2.28190088485 :\n",
      "Parameters with this testing accuracy 0.357894736842 and loss 2.58166945602 :\n",
      "{'alpha': 3.9902625415954045}\n",
      "Parameters with this training accuracy 0.875145857643 and loss 2.24475426559 :\n",
      "Parameters with this testing accuracy 0.357894736842 and loss 2.56705341016 :\n",
      "{'alpha': 3.6463652767452137}\n",
      "Parameters with this training accuracy 0.882147024504 and loss 2.13201338867 :\n",
      "Parameters with this testing accuracy 0.357894736842 and loss 2.52289692224 :\n",
      "{'alpha': 2.849342110249638}\n",
      "Parameters with this training accuracy 0.856476079347 and loss 2.36558634206 :\n",
      "Parameters with this testing accuracy 0.336842105263 and loss 2.61465132571 :\n",
      "{'alpha': 4.997575962939374}\n",
      "Parameters with this training accuracy 0.87747957993 and loss 2.23441130071 :\n",
      "Parameters with this testing accuracy 0.357894736842 and loss 2.56298821185 :\n",
      "{'alpha': 3.5591495612329993}\n"
     ]
    },
    {
     "name": "stderr",
     "output_type": "stream",
     "text": [
      "Hyperopt:   4%|▎         | 36/1000 [00:00<00:21, 45.76it/s]"
     ]
    },
    {
     "name": "stdout",
     "output_type": "stream",
     "text": [
      "Parameters with this training accuracy 0.883313885648 and loss 2.11528449189 :\n",
      "Parameters with this testing accuracy 0.357894736842 and loss 2.51638170172 :\n",
      "{'alpha': 2.75467607212719}\n",
      "Parameters with this training accuracy 0.997666277713 and loss 0.0196721990261 :\n",
      "Parameters with this testing accuracy 0.347368421053 and loss 2.15986762545 :\n",
      "{'alpha': 0.018525054865989876}\n",
      "Parameters with this training accuracy 0.859976662777 and loss 2.33191022431 :\n",
      "Parameters with this testing accuracy 0.336842105263 and loss 2.60137397586 :\n",
      "{'alpha': 4.545805963768472}\n",
      "Parameters with this training accuracy 0.869311551925 and loss 2.29587091973 :\n",
      "Parameters with this testing accuracy 0.347368421053 and loss 2.58717143646 :\n",
      "{'alpha': 4.13361120131931}\n",
      "Parameters with this training accuracy 0.966161026838 and loss 0.750197562509 :\n",
      "Parameters with this testing accuracy 0.389473684211 and loss 2.05545433068 :\n",
      "{'alpha': 0.39517688141284824}\n",
      "Parameters with this training accuracy 0.962660443407 and loss 0.841181058289 :\n",
      "Parameters with this testing accuracy 0.378947368421 and loss 2.08230787278 :\n",
      "{'alpha': 0.4457827293843197}\n",
      "Parameters with this training accuracy 0.962660443407 and loss 0.841605221997 :\n",
      "Parameters with this testing accuracy 0.378947368421 and loss 2.08243366726 :\n",
      "{'alpha': 0.44602900585675237}\n",
      "Parameters with this training accuracy 0.973162193699 and loss 0.561008672546 :\n",
      "Parameters with this testing accuracy 0.4 and loss 2.00003184584 :\n",
      "{'alpha': 0.3013955072425079}\n",
      "Parameters with this training accuracy 0.974329054842 and loss 0.491559317783 :\n",
      "Parameters with this testing accuracy 0.4 and loss 1.9796272771 :\n",
      "{'alpha': 0.2697586346169747}\n"
     ]
    },
    {
     "name": "stderr",
     "output_type": "stream",
     "text": [
      "Hyperopt:   5%|▍         | 46/1000 [00:01<00:21, 45.15it/s]"
     ]
    },
    {
     "name": "stdout",
     "output_type": "stream",
     "text": [
      "Parameters with this training accuracy 0.978996499417 and loss 0.332168111161 :\n",
      "Parameters with this testing accuracy 0.410526315789 and loss 1.93216904645 :\n",
      "{'alpha': 0.19992548223348813}\n",
      "Parameters with this training accuracy 0.929988331389 and loss 1.48766561197 :\n",
      "Parameters with this testing accuracy 0.357894736842 and loss 2.28620962705 :\n",
      "{'alpha': 1.0173020410089235}\n",
      "Parameters with this training accuracy 0.943990665111 and loss 1.20876978548 :\n",
      "Parameters with this testing accuracy 0.357894736842 and loss 2.19469667949 :\n",
      "{'alpha': 0.7095523442020903}\n",
      "Parameters with this training accuracy 0.918319719953 and loss 1.70715409437 :\n",
      "Parameters with this testing accuracy 0.357894736842 and loss 2.36294174141 :\n",
      "{'alpha': 1.3827075472775723}\n",
      "Parameters with this training accuracy 0.978996499417 and loss 0.285232577044 :\n",
      "Parameters with this testing accuracy 0.410526315789 and loss 1.9180174309 :\n",
      "{'alpha': 0.17940971650851428}\n",
      "Parameters with this training accuracy 0.89731621937 and loss 1.91372195307 :\n",
      "Parameters with this testing accuracy 0.357894736842 and loss 2.43906298418 :\n",
      "{'alpha': 1.9089193900510397}\n",
      "Parameters with this training accuracy 0.991831971995 and loss 0.0419478807316 :\n",
      "Parameters with this testing accuracy 0.357894736842 and loss 1.91856539785 :\n",
      "{'alpha': 0.045308518550834204}\n",
      "Parameters with this training accuracy 0.938156359393 and loss 1.35633170946 :\n",
      "Parameters with this testing accuracy 0.357894736842 and loss 2.24232765919 :\n",
      "{'alpha': 0.8561701689102365}\n",
      "Parameters with this training accuracy 0.914819136523 and loss 1.72806839071 :\n",
      "Parameters with this testing accuracy 0.357894736842 and loss 2.37048051429 :\n",
      "{'alpha': 1.4260857637726119}\n",
      "Parameters with this training accuracy 0.950991831972 and loss 1.08716316411 :\n",
      "Parameters with this testing accuracy 0.368421052632 and loss 2.15663918661 :\n",
      "{'alpha': 0.6091528155619925}\n"
     ]
    },
    {
     "name": "stderr",
     "output_type": "stream",
     "text": [
      "Hyperopt:   6%|▌         | 56/1000 [00:01<00:21, 44.90it/s]"
     ]
    },
    {
     "name": "stdout",
     "output_type": "stream",
     "text": [
      "Parameters with this training accuracy 0.926487747958 and loss 1.57034572864 :\n",
      "Parameters with this testing accuracy 0.357894736842 and loss 2.31460451596 :\n",
      "{'alpha': 1.1382470361886394}\n",
      "Parameters with this training accuracy 0.896149358226 and loss 1.93626452227 :\n",
      "Parameters with this testing accuracy 0.357894736842 and loss 2.44758008515 :\n",
      "{'alpha': 1.9827696248289208}\n",
      "Parameters with this training accuracy 0.952158693116 and loss 1.0678224295 :\n",
      "Parameters with this testing accuracy 0.368421052632 and loss 2.15067608283 :\n",
      "{'alpha': 0.5945686596855096}\n",
      "Parameters with this training accuracy 0.983663943991 and loss 0.144056845908 :\n",
      "Parameters with this testing accuracy 0.389473684211 and loss 1.87795545482 :\n",
      "{'alpha': 0.1131555753386697}\n",
      "Parameters with this training accuracy 0.911318553092 and loss 1.78493497291 :\n",
      "Parameters with this testing accuracy 0.357894736842 and loss 2.39117577489 :\n",
      "{'alpha': 1.553843650006541}\n",
      "Parameters with this training accuracy 0.880980163361 and loss 2.19401352625 :\n",
      "Parameters with this testing accuracy 0.347368421053 and loss 2.54713403518 :\n",
      "{'alpha': 3.248709131212286}\n",
      "Parameters with this training accuracy 0.929988331389 and loss 1.46637934552 :\n",
      "Parameters with this testing accuracy 0.357894736842 and loss 2.27899704584 :\n",
      "{'alpha': 0.9888172168858893}\n",
      "Parameters with this training accuracy 0.978996499417 and loss 0.370750328488 :\n",
      "Parameters with this testing accuracy 0.4 and loss 1.94375505292 :\n",
      "{'alpha': 0.21668114503450434}\n",
      "Parameters with this training accuracy 0.926487747958 and loss 1.59931008115 :\n",
      "Parameters with this testing accuracy 0.357894736842 and loss 2.32469663752 :\n",
      "{'alpha': 1.1849444046031983}\n",
      "Parameters with this training accuracy 0.886814469078 and loss 2.06183233532 :\n",
      "Parameters with this testing accuracy 0.357894736842 and loss 2.4956489655 :\n",
      "{'alpha': 2.4825586831431043}\n"
     ]
    },
    {
     "name": "stderr",
     "output_type": "stream",
     "text": [
      "Hyperopt:   7%|▋         | 66/1000 [00:01<00:20, 45.00it/s]"
     ]
    },
    {
     "name": "stdout",
     "output_type": "stream",
     "text": [
      "Parameters with this training accuracy 0.890315052509 and loss 1.99433089068 :\n",
      "Parameters with this testing accuracy 0.357894736842 and loss 2.46968452549 :\n",
      "{'alpha': 2.1933334308296644}\n",
      "Parameters with this training accuracy 0.9008168028 and loss 1.87444521237 :\n",
      "Parameters with this testing accuracy 0.357894736842 and loss 2.4243156234 :\n",
      "{'alpha': 1.789398038185192}\n",
      "Parameters with this training accuracy 0.883313885648 and loss 2.09668061639 :\n",
      "Parameters with this testing accuracy 0.357894736842 and loss 2.50915040134 :\n",
      "{'alpha': 2.6549933358988054}\n",
      "Parameters with this training accuracy 0.94049008168 and loss 1.28272310605 :\n",
      "Parameters with this testing accuracy 0.357894736842 and loss 2.21835689421 :\n",
      "{'alpha': 0.7791457360644265}\n",
      "Parameters with this training accuracy 0.910151691949 and loss 1.79503701239 :\n",
      "Parameters with this testing accuracy 0.357894736842 and loss 2.39488189919 :\n",
      "{'alpha': 1.578174466528418}\n",
      "Parameters with this training accuracy 0.880980163361 and loss 2.19403603704 :\n",
      "Parameters with this testing accuracy 0.347368421053 and loss 2.54714285767 :\n",
      "{'alpha': 3.2488698988574845}\n",
      "Parameters with this training accuracy 0.982497082847 and loss 0.177877016813 :\n",
      "Parameters with this testing accuracy 0.4 and loss 1.8864810128 :\n",
      "{'alpha': 0.1301964456531638}\n",
      "Parameters with this training accuracy 0.955659276546 and loss 0.988216213107 :\n",
      "Parameters with this testing accuracy 0.368421052632 and loss 2.12636550889 :\n",
      "{'alpha': 0.537975092594934}\n",
      "Parameters with this training accuracy 0.926487747958 and loss 1.59686267675 :\n",
      "Parameters with this testing accuracy 0.357894736842 and loss 2.3238409496 :\n",
      "{'alpha': 1.180903502057383}\n",
      "Parameters with this training accuracy 0.977829638273 and loss 0.407947519903 :\n",
      "Parameters with this testing accuracy 0.4 and loss 1.9548647633 :\n",
      "{'alpha': 0.23286218393707475}\n"
     ]
    },
    {
     "name": "stderr",
     "output_type": "stream",
     "text": [
      "Hyperopt:   8%|▊         | 76/1000 [00:01<00:20, 44.70it/s]"
     ]
    },
    {
     "name": "stdout",
     "output_type": "stream",
     "text": [
      "Parameters with this training accuracy 0.997666277713 and loss 0.0108740996573 :\n",
      "Parameters with this testing accuracy 0.305263157895 and loss 3.27981094785 :\n",
      "{'alpha': 0.00293715620781676}\n",
      "Parameters with this training accuracy 0.922987164527 and loss 1.67887541828 :\n",
      "Parameters with this testing accuracy 0.357894736842 and loss 2.35281113608 :\n",
      "{'alpha': 1.3268411435657175}\n",
      "Parameters with this training accuracy 0.966161026838 and loss 0.708742015307 :\n",
      "Parameters with this testing accuracy 0.4 and loss 2.04328561554 :\n",
      "{'alpha': 0.373447795006677}\n",
      "Parameters with this training accuracy 0.935822637106 and loss 1.38949899046 :\n",
      "Parameters with this testing accuracy 0.357894736842 and loss 2.25327213665 :\n",
      "{'alpha': 0.8937613676070703}\n",
      "Parameters with this training accuracy 0.966161026838 and loss 0.75641499433 :\n",
      "Parameters with this testing accuracy 0.389473684211 and loss 2.05728230911 :\n",
      "{'alpha': 0.398502906362956}\n",
      "Parameters with this training accuracy 0.928821470245 and loss 1.51483622505 :\n",
      "Parameters with this testing accuracy 0.357894736842 and loss 2.29547382423 :\n",
      "{'alpha': 1.055167612278432}\n",
      "Parameters with this training accuracy 0.948658109685 and loss 1.15110831926 :\n",
      "Parameters with this testing accuracy 0.357894736842 and loss 2.17652566278 :\n",
      "{'alpha': 0.6599659003747956}\n",
      "Parameters with this training accuracy 0.922987164527 and loss 1.65582860289 :\n",
      "Parameters with this testing accuracy 0.357894736842 and loss 2.34460838652 :\n",
      "{'alpha': 1.2835259358394444}\n",
      "Parameters with this training accuracy 0.95682613769 and loss 0.947466947483 :\n",
      "Parameters with this testing accuracy 0.378947368421 and loss 2.11405528323 :\n",
      "{'alpha': 0.5109514532894389}\n",
      "Parameters with this training accuracy 0.94049008168 and loss 1.25115611473 :\n",
      "Parameters with this testing accuracy 0.357894736842 and loss 2.20820716402 :\n",
      "{'alpha': 0.7485558372592445}\n"
     ]
    },
    {
     "name": "stderr",
     "output_type": "stream",
     "text": [
      "Hyperopt:   9%|▊         | 86/1000 [00:01<00:20, 44.86it/s]"
     ]
    },
    {
     "name": "stdout",
     "output_type": "stream",
     "text": [
      "Parameters with this training accuracy 0.862310385064 and loss 2.32716078344 :\n",
      "Parameters with this testing accuracy 0.347368421053 and loss 2.59950175464 :\n",
      "{'alpha': 4.487633525768308}\n",
      "Parameters with this training accuracy 0.982497082847 and loss 0.179822318113 :\n",
      "Parameters with this testing accuracy 0.4 and loss 1.88701235697 :\n",
      "{'alpha': 0.1311432703308824}\n",
      "Parameters with this training accuracy 0.982497082847 and loss 0.157776598645 :\n",
      "Parameters with this testing accuracy 0.4 and loss 1.88121733246 :\n",
      "{'alpha': 0.12021450149042934}\n",
      "Parameters with this training accuracy 0.899649941657 and loss 1.8937254792 :\n",
      "Parameters with this testing accuracy 0.357894736842 and loss 2.43153986422 :\n",
      "{'alpha': 1.8466858324875646}\n",
      "Parameters with this training accuracy 0.890315052509 and loss 1.97030174926 :\n",
      "Parameters with this testing accuracy 0.357894736842 and loss 2.46050937738 :\n",
      "{'alpha': 2.1023951127658616}\n",
      "Parameters with this training accuracy 0.911318553092 and loss 1.78338785743 :\n",
      "Parameters with this testing accuracy 0.357894736842 and loss 2.39060896953 :\n",
      "{'alpha': 1.5501634082600608}\n",
      "Parameters with this training accuracy 0.939323220537 and loss 1.32343603074 :\n",
      "Parameters with this testing accuracy 0.357894736842 and loss 2.23156167859 :\n",
      "{'alpha': 0.8207100199255186}\n",
      "Parameters with this training accuracy 0.973162193699 and loss 0.519057195133 :\n",
      "Parameters with this testing accuracy 0.4 and loss 1.98771957893 :\n",
      "{'alpha': 0.2821524982111715}\n",
      "Parameters with this training accuracy 0.875145857643 and loss 2.25551754811 :\n",
      "Parameters with this testing accuracy 0.357894736842 and loss 2.57128603502 :\n",
      "{'alpha': 3.7408720914584594}\n"
     ]
    },
    {
     "name": "stderr",
     "output_type": "stream",
     "text": [
      "Hyperopt:  10%|▉         | 96/1000 [00:02<00:22, 40.05it/s]"
     ]
    },
    {
     "name": "stdout",
     "output_type": "stream",
     "text": [
      "Parameters with this training accuracy 0.973162193699 and loss 0.554458053708 :\n",
      "Parameters with this testing accuracy 0.4 and loss 1.99811145031 :\n",
      "{'alpha': 0.2983614737138062}\n",
      "Parameters with this training accuracy 0.886814469078 and loss 2.03621776015 :\n",
      "Parameters with this testing accuracy 0.357894736842 and loss 2.48576525282 :\n",
      "{'alpha': 2.366421472293322}\n",
      "Parameters with this training accuracy 0.928821470245 and loss 1.51299053941 :\n",
      "Parameters with this testing accuracy 0.357894736842 and loss 2.29484244832 :\n",
      "{'alpha': 1.0525398958437637}\n",
      "Parameters with this training accuracy 0.933488914819 and loss 1.43715326931 :\n",
      "Parameters with this testing accuracy 0.357894736842 and loss 2.26915823146 :\n",
      "{'alpha': 0.9512948627462781}\n",
      "Parameters with this training accuracy 0.903150525088 and loss 1.8469424498 :\n",
      "Parameters with this testing accuracy 0.357894736842 and loss 2.41406199018 :\n",
      "{'alpha': 1.7119639182011208}\n",
      "Parameters with this training accuracy 0.962660443407 and loss 0.837474539024 :\n",
      "Parameters with this testing accuracy 0.378947368421 and loss 2.08120889882 :\n",
      "{'alpha': 0.4436350126491176}\n",
      "Parameters with this training accuracy 0.948658109685 and loss 1.15744144653 :\n",
      "Parameters with this testing accuracy 0.357894736842 and loss 2.17851007067 :\n",
      "{'alpha': 0.6652289734121739}\n",
      "Parameters with this training accuracy 0.924154025671 and loss 1.65220210899 :\n",
      "Parameters with this testing accuracy 0.357894736842 and loss 2.34332204687 :\n",
      "{'alpha': 1.2768823581841156}\n"
     ]
    },
    {
     "name": "stderr",
     "output_type": "stream",
     "text": [
      "\r",
      "Hyperopt:  10%|█         | 101/1000 [00:02<00:21, 41.01it/s]"
     ]
    },
    {
     "name": "stdout",
     "output_type": "stream",
     "text": [
      "Parameters with this training accuracy 0.978996499417 and loss 0.371732649156 :\n",
      "Parameters with this testing accuracy 0.4 and loss 1.9440492338 :\n",
      "{'alpha': 0.21710769475249841}\n",
      "Parameters with this training accuracy 0.955659276546 and loss 1.01980374691 :\n",
      "Parameters with this testing accuracy 0.368421052632 and loss 2.1359685595 :\n",
      "{'alpha': 0.5597996984723677}\n",
      "Parameters with this training accuracy 0.997666277713 and loss 0.0140579527159 :\n",
      "Parameters with this testing accuracy 0.326315789474 and loss 2.50869701273 :\n",
      "{'alpha': 0.009044913846818242}\n",
      "Parameters with this training accuracy 0.870478413069 and loss 2.27454066732 :\n",
      "Parameters with this testing accuracy 0.357894736842 and loss 2.57877170857 :\n",
      "{'alpha': 3.9180044336353137}\n",
      "Parameters with this training accuracy 0.894982497083 and loss 1.94084670426 :\n",
      "Parameters with this testing accuracy 0.357894736842 and loss 2.44931589118 :\n",
      "{'alpha': 1.9982865383425827}\n",
      "Parameters with this training accuracy 0.883313885648 and loss 2.09049467072 :\n",
      "Parameters with this testing accuracy 0.357894736842 and loss 2.5067494265 :\n",
      "{'alpha': 2.6230735946371357}\n",
      "Parameters with this training accuracy 0.912485414236 and loss 1.75672295546 :\n",
      "Parameters with this testing accuracy 0.357894736842 and loss 2.38087290259 :\n",
      "{'alpha': 1.4885812257598343}\n",
      "Parameters with this training accuracy 0.906651108518 and loss 1.81918329486 :\n",
      "Parameters with this testing accuracy 0.357894736842 and loss 2.40377604692 :\n",
      "{'alpha': 1.6385202512544732}\n"
     ]
    },
    {
     "name": "stderr",
     "output_type": "stream",
     "text": [
      "Hyperopt:  11%|█         | 111/1000 [00:02<00:22, 39.47it/s]"
     ]
    },
    {
     "name": "stdout",
     "output_type": "stream",
     "text": [
      "Parameters with this training accuracy 0.862310385064 and loss 2.32650053952 :\n",
      "Parameters with this testing accuracy 0.347368421053 and loss 2.59924149766 :\n",
      "{'alpha': 4.479645615213786}\n",
      "Parameters with this training accuracy 0.85764294049 and loss 2.3566269445 :\n",
      "Parameters with this testing accuracy 0.336842105263 and loss 2.61111872048 :\n",
      "{'alpha': 4.870182022649865}\n",
      "Parameters with this training accuracy 0.879813302217 and loss 2.21318448654 :\n",
      "Parameters with this testing accuracy 0.347368421053 and loss 2.55465261579 :\n",
      "{'alpha': 3.390371951321346}\n",
      "Parameters with this training accuracy 0.966161026838 and loss 0.701844487483 :\n",
      "Parameters with this testing accuracy 0.4 and loss 2.04126372525 :\n",
      "{'alpha': 0.36990474646567595}\n",
      "Parameters with this training accuracy 0.882147024504 and loss 2.13340806082 :\n",
      "Parameters with this testing accuracy 0.357894736842 and loss 2.52344060574 :\n",
      "{'alpha': 2.8574617595026317}\n",
      "Parameters with this training accuracy 0.935822637106 and loss 1.39678885187 :\n",
      "Parameters with this testing accuracy 0.357894736842 and loss 2.25568988071 :\n",
      "{'alpha': 0.9022849981583423}\n",
      "Parameters with this training accuracy 0.957992998833 and loss 0.929605081951 :\n",
      "Parameters with this testing accuracy 0.378947368421 and loss 2.10868529609 :\n",
      "{'alpha': 0.49948379263086634}\n",
      "Parameters with this training accuracy 0.927654609102 and loss 1.54354532199 :\n",
      "Parameters with this testing accuracy 0.357894736842 and loss 2.30533367707 :\n",
      "{'alpha': 1.0971318924625448}\n"
     ]
    },
    {
     "name": "stderr",
     "output_type": "stream",
     "text": [
      "\r",
      "Hyperopt:  12%|█▏        | 116/1000 [00:02<00:23, 37.87it/s]"
     ]
    },
    {
     "name": "stdout",
     "output_type": "stream",
     "text": [
      "Parameters with this training accuracy 0.886814469078 and loss 2.01016968652 :\n",
      "Parameters with this testing accuracy 0.357894736842 and loss 2.47575263308 :\n",
      "{'alpha': 2.2564937724349727}\n",
      "Parameters with this training accuracy 0.978996499417 and loss 0.321539071807 :\n",
      "Parameters with this testing accuracy 0.410526315789 and loss 1.92896776592 :\n",
      "{'alpha': 0.19529969250550316}\n",
      "Parameters with this training accuracy 0.941656942824 and loss 1.23728649156 :\n",
      "Parameters with this testing accuracy 0.357894736842 and loss 2.2037715858 :\n",
      "{'alpha': 0.7355402837538421}\n",
      "Parameters with this training accuracy 0.918319719953 and loss 1.70606850422 :\n",
      "Parameters with this testing accuracy 0.357894736842 and loss 2.36255150397 :\n",
      "{'alpha': 1.3805049888570537}\n",
      "Parameters with this training accuracy 0.997666277713 and loss 0.0113377481257 :\n",
      "Parameters with this testing accuracy 0.305263157895 and loss 3.08860059677 :\n",
      "{'alpha': 0.0037762586090057115}\n",
      "Parameters with this training accuracy 0.925320886814 and loss 1.61272458983 :\n",
      "Parameters with this testing accuracy 0.357894736842 and loss 2.32939639934 :\n",
      "{'alpha': 1.2074164867148949}\n",
      "Parameters with this training accuracy 0.978996499417 and loss 0.280918240938 :\n",
      "Parameters with this testing accuracy 0.421052631579 and loss 1.91671625414 :\n",
      "{'alpha': 0.17750816648913298}\n",
      "Parameters with this training accuracy 0.939323220537 and loss 1.31226629684 :\n",
      "Parameters with this testing accuracy 0.357894736842 and loss 2.2279258705 :\n",
      "{'alpha': 0.809059236427907}\n"
     ]
    },
    {
     "name": "stderr",
     "output_type": "stream",
     "text": [
      "Hyperopt:  12%|█▎        | 125/1000 [00:02<00:23, 37.16it/s]"
     ]
    },
    {
     "name": "stdout",
     "output_type": "stream",
     "text": [
      "Parameters with this training accuracy 0.987164527421 and loss 0.109633504336 :\n",
      "Parameters with this testing accuracy 0.368421052632 and loss 1.87211014797 :\n",
      "{'alpha': 0.09420773799985115}\n",
      "Parameters with this training accuracy 0.880980163361 and loss 2.17355302311 :\n",
      "Parameters with this testing accuracy 0.357894736842 and loss 2.53912134 :\n",
      "{'alpha': 3.1076453035013274}\n",
      "Parameters with this training accuracy 0.949824970828 and loss 1.13721402056 :\n",
      "Parameters with this testing accuracy 0.368421052632 and loss 2.17218162378 :\n",
      "{'alpha': 0.6485698169081616}\n",
      "Parameters with this training accuracy 0.866977829638 and loss 2.30318445979 :\n",
      "Parameters with this testing accuracy 0.347368421053 and loss 2.59005269205 :\n",
      "{'alpha': 4.212093032121158}\n",
      "Parameters with this training accuracy 0.968494749125 and loss 0.661783873538 :\n",
      "Parameters with this testing accuracy 0.4 and loss 2.02953143065 :\n",
      "{'alpha': 0.3497058080753469}\n",
      "Parameters with this training accuracy 0.898483080513 and loss 1.89916942746 :\n",
      "Parameters with this testing accuracy 0.357894736842 and loss 2.43358495809 :\n",
      "{'alpha': 1.863336425824228}\n",
      "Parameters with this training accuracy 0.929988331389 and loss 1.46003563287 :\n",
      "Parameters with this testing accuracy 0.357894736842 and loss 2.27685519281 :\n",
      "{'alpha': 0.9805200772007796}\n",
      "Parameters with this training accuracy 0.890315052509 and loss 1.96785780725 :\n",
      "Parameters with this testing accuracy 0.357894736842 and loss 2.45957834888 :\n",
      "{'alpha': 2.093458528992588}\n"
     ]
    },
    {
     "name": "stderr",
     "output_type": "stream",
     "text": [
      "Hyperopt:  13%|█▎        | 134/1000 [00:03<00:23, 36.39it/s]"
     ]
    },
    {
     "name": "stdout",
     "output_type": "stream",
     "text": [
      "Parameters with this training accuracy 0.961493582264 and loss 0.904398877302 :\n",
      "Parameters with this testing accuracy 0.378947368421 and loss 2.10113255198 :\n",
      "{'alpha': 0.48367082509965514}\n",
      "Parameters with this training accuracy 0.912485414236 and loss 1.75199670595 :\n",
      "Parameters with this testing accuracy 0.357894736842 and loss 2.37915376355 :\n",
      "{'alpha': 1.4780186899216097}\n",
      "Parameters with this training accuracy 0.977829638273 and loss 0.42034391375 :\n",
      "Parameters with this testing accuracy 0.4 and loss 1.95855360626 :\n",
      "{'alpha': 0.23827607952254648}\n",
      "Parameters with this training accuracy 0.952158693116 and loss 1.06304702872 :\n",
      "Parameters with this testing accuracy 0.368421052632 and loss 2.14920728849 :\n",
      "{'alpha': 0.5910204910079807}\n",
      "Parameters with this training accuracy 0.906651108518 and loss 1.82276285946 :\n",
      "Parameters with this testing accuracy 0.357894736842 and loss 2.40509879257 :\n",
      "{'alpha': 1.647739368029832}\n",
      "Parameters with this training accuracy 0.922987164527 and loss 1.65458903191 :\n",
      "Parameters with this testing accuracy 0.357894736842 and loss 2.34416856873 :\n",
      "{'alpha': 1.2812499438752831}\n",
      "Parameters with this training accuracy 0.938156359393 and loss 1.34754870615 :\n",
      "Parameters with this testing accuracy 0.357894736842 and loss 2.23944460754 :\n",
      "{'alpha': 0.8465303432627144}\n",
      "Parameters with this training accuracy 0.886814469078 and loss 2.04284737888 :\n",
      "Parameters with this testing accuracy 0.357894736842 and loss 2.48831990556 :\n",
      "{'alpha': 2.395681662466214}\n"
     ]
    },
    {
     "name": "stderr",
     "output_type": "stream",
     "text": [
      "Hyperopt:  14%|█▍        | 143/1000 [00:03<00:22, 38.10it/s]"
     ]
    },
    {
     "name": "stdout",
     "output_type": "stream",
     "text": [
      "Parameters with this training accuracy 0.859976662777 and loss 2.33909948458 :\n",
      "Parameters with this testing accuracy 0.336842105263 and loss 2.60420818116 :\n",
      "{'alpha': 4.636308734838796}\n",
      "Parameters with this training accuracy 0.987164527421 and loss 0.121139310035 :\n",
      "Parameters with this testing accuracy 0.389473684211 and loss 1.8735372283 :\n",
      "{'alpha': 0.10077804914240529}\n",
      "Parameters with this training accuracy 0.89731621937 and loss 1.9236636091 :\n",
      "Parameters with this testing accuracy 0.357894736842 and loss 2.44281453504 :\n",
      "{'alpha': 1.940989310698751}\n",
      "Parameters with this training accuracy 0.928821470245 and loss 1.54074066187 :\n",
      "Parameters with this testing accuracy 0.357894736842 and loss 2.30436720589 :\n",
      "{'alpha': 1.092939854771915}\n",
      "Parameters with this training accuracy 0.942823803967 and loss 1.23275731914 :\n",
      "Parameters with this testing accuracy 0.357894736842 and loss 2.20232624994 :\n",
      "{'alpha': 0.7313441944918686}\n",
      "Parameters with this training accuracy 0.996499416569 and loss 0.0255485032548 :\n",
      "Parameters with this testing accuracy 0.357894736842 and loss 2.03304042999 :\n",
      "{'alpha': 0.026852473112975672}\n",
      "Parameters with this training accuracy 0.879813302217 and loss 2.21607404798 :\n",
      "Parameters with this testing accuracy 0.347368421053 and loss 2.55578669399 :\n",
      "{'alpha': 3.412581303924717}\n",
      "Parameters with this training accuracy 0.9008168028 and loss 1.87246280499 :\n",
      "Parameters with this testing accuracy 0.357894736842 and loss 2.42357449328 :\n",
      "{'alpha': 1.7836520162497194}\n"
     ]
    },
    {
     "name": "stderr",
     "output_type": "stream",
     "text": [
      "Hyperopt:  15%|█▌        | 153/1000 [00:03<00:20, 40.75it/s]"
     ]
    },
    {
     "name": "stdout",
     "output_type": "stream",
     "text": [
      "Parameters with this training accuracy 0.966161026838 and loss 0.811948082583 :\n",
      "Parameters with this testing accuracy 0.389473684211 and loss 2.07365303769 :\n",
      "{'alpha': 0.4290514628346734}\n",
      "Parameters with this training accuracy 0.978996499417 and loss 0.340759345691 :\n",
      "Parameters with this testing accuracy 0.410526315789 and loss 1.9347539274 :\n",
      "{'alpha': 0.20365955513866646}\n",
      "Parameters with this training accuracy 0.969661610268 and loss 0.633475286349 :\n",
      "Parameters with this testing accuracy 0.4 and loss 2.02124741375 :\n",
      "{'alpha': 0.33579731833128607}\n",
      "Parameters with this training accuracy 0.978996499417 and loss 0.27406375657 :\n",
      "Parameters with this testing accuracy 0.421052631579 and loss 1.9146499512 :\n",
      "{'alpha': 0.17447934092552173}\n",
      "Parameters with this training accuracy 0.98016336056 and loss 0.213120886004 :\n",
      "Parameters with this testing accuracy 0.410526315789 and loss 1.89647965148 :\n",
      "{'alpha': 0.1469372953504998}\n",
      "Parameters with this training accuracy 0.997666277713 and loss 0.0147276712647 :\n",
      "Parameters with this testing accuracy 0.326315789474 and loss 2.43672426785 :\n",
      "{'alpha': 0.010285569386103033}\n",
      "Parameters with this training accuracy 0.950991831972 and loss 1.10330066461 :\n",
      "Parameters with this testing accuracy 0.368421052632 and loss 2.16163266494 :\n",
      "{'alpha': 0.621591289553793}\n",
      "Parameters with this training accuracy 0.933488914819 and loss 1.43642860582 :\n",
      "Parameters with this testing accuracy 0.357894736842 and loss 2.26891521154 :\n",
      "{'alpha': 0.9503868985790713}\n",
      "Parameters with this training accuracy 0.955659276546 and loss 1.0040732652 :\n",
      "Parameters with this testing accuracy 0.368421052632 and loss 2.13117941473 :\n",
      "{'alpha': 0.5488316998002736}\n"
     ]
    },
    {
     "name": "stderr",
     "output_type": "stream",
     "text": [
      "Hyperopt:  16%|█▋        | 163/1000 [00:03<00:19, 42.69it/s]"
     ]
    },
    {
     "name": "stdout",
     "output_type": "stream",
     "text": [
      "Parameters with this training accuracy 0.971995332555 and loss 0.572301927692 :\n",
      "Parameters with this testing accuracy 0.4 and loss 2.00334114363 :\n",
      "{'alpha': 0.3066535243773746}\n",
      "Parameters with this training accuracy 0.981330221704 and loss 0.189858714007 :\n",
      "Parameters with this testing accuracy 0.410526315789 and loss 1.8897996432 :\n",
      "{'alpha': 0.1359815937666474}\n",
      "Parameters with this training accuracy 0.94049008168 and loss 1.29029172234 :\n",
      "Parameters with this testing accuracy 0.357894736842 and loss 2.22080184095 :\n",
      "{'alpha': 0.7866874892374696}\n",
      "Parameters with this training accuracy 0.962660443407 and loss 0.839396432589 :\n",
      "Parameters with this testing accuracy 0.378947368421 and loss 2.08177867514 :\n",
      "{'alpha': 0.44474766757125284}\n",
      "Parameters with this training accuracy 0.945157526254 and loss 1.19658761553 :\n",
      "Parameters with this testing accuracy 0.357894736842 and loss 2.19083803155 :\n",
      "{'alpha': 0.6987553928709032}\n",
      "Parameters with this training accuracy 0.925320886814 and loss 1.62365351486 :\n",
      "Parameters with this testing accuracy 0.357894736842 and loss 2.33323740072 :\n",
      "{'alpha': 1.2261386651585104}\n",
      "Parameters with this training accuracy 0.935822637106 and loss 1.3873876748 :\n",
      "Parameters with this testing accuracy 0.357894736842 and loss 2.25257273053 :\n",
      "{'alpha': 0.8913107347760733}\n",
      "Parameters with this training accuracy 0.997666277713 and loss 0.0156959951464 :\n",
      "Parameters with this testing accuracy 0.315789473684 and loss 2.35478699421 :\n",
      "{'alpha': 0.012019745701114276}\n",
      "Parameters with this training accuracy 0.983663943991 and loss 0.149423856851 :\n",
      "Parameters with this testing accuracy 0.389473684211 and loss 1.87919051918 :\n",
      "{'alpha': 0.11594397433256473}\n",
      "Parameters with this training accuracy 0.926487747958 and loss 1.5630770786 :\n",
      "Parameters with this testing accuracy 0.357894736842 and loss 2.312083758 :\n",
      "{'alpha': 1.1269032453087922}\n"
     ]
    },
    {
     "name": "stderr",
     "output_type": "stream",
     "text": [
      "\r",
      "Hyperopt:  17%|█▋        | 168/1000 [00:03<00:19, 42.55it/s]"
     ]
    },
    {
     "name": "stdout",
     "output_type": "stream",
     "text": [
      "Parameters with this training accuracy 0.975495915986 and loss 0.461149471744 :\n",
      "Parameters with this testing accuracy 0.4 and loss 1.97065137654 :\n",
      "{'alpha': 0.2562212385608873}\n",
      "Parameters with this training accuracy 0.921820303384 and loss 1.68810504355 :\n",
      "Parameters with this testing accuracy 0.357894736842 and loss 2.35610962215 :\n",
      "{'alpha': 1.3447357632753005}\n",
      "Parameters with this training accuracy 0.929988331389 and loss 1.48824164798 :\n",
      "Parameters with this testing accuracy 0.357894736842 and loss 2.28640536023 :\n",
      "{'alpha': 1.018086980595033}\n",
      "Parameters with this training accuracy 0.955659276546 and loss 0.992773279129 :\n",
      "Parameters with this testing accuracy 0.368421052632 and loss 2.1277475573 :\n",
      "{'alpha': 0.5410749591298731}\n",
      "Parameters with this training accuracy 0.967327887981 and loss 0.675722954524 :\n",
      "Parameters with this testing accuracy 0.4 and loss 2.03361196245 :\n",
      "{'alpha': 0.35666273929053494}\n",
      "Parameters with this training accuracy 0.978996499417 and loss 0.395976939236 :\n",
      "Parameters with this testing accuracy 0.4 and loss 1.95129623087 :\n",
      "{'alpha': 0.22764634286857702}\n",
      "Parameters with this training accuracy 0.997666277713 and loss 0.0180504933958 :\n",
      "Parameters with this testing accuracy 0.336842105263 and loss 2.22096907372 :\n",
      "{'alpha': 0.015977172597969075}\n",
      "Parameters with this training accuracy 0.914819136523 and loss 1.72631142307 :\n",
      "Parameters with this testing accuracy 0.357894736842 and loss 2.36984568572 :\n",
      "{'alpha': 1.4223711695358807}\n",
      "Parameters with this training accuracy 0.950991831972 and loss 1.10163835135 :\n",
      "Parameters with this testing accuracy 0.368421052632 and loss 2.16111752197 :\n",
      "{'alpha': 0.6202984089840078}\n"
     ]
    },
    {
     "name": "stderr",
     "output_type": "stream",
     "text": [
      "Hyperopt:  18%|█▊        | 178/1000 [00:04<00:19, 43.24it/s]"
     ]
    },
    {
     "name": "stdout",
     "output_type": "stream",
     "text": [
      "Parameters with this training accuracy 0.873978996499 and loss 2.26070050653 :\n",
      "Parameters with this testing accuracy 0.357894736842 and loss 2.57332496286 :\n",
      "{'alpha': 3.7878142647897954}\n",
      "Parameters with this training accuracy 0.865810968495 and loss 2.30749929074 :\n",
      "Parameters with this testing accuracy 0.347368421053 and loss 2.59175281879 :\n",
      "{'alpha': 4.25956444277662}\n",
      "Parameters with this training accuracy 0.963827304551 and loss 0.831057193842 :\n",
      "Parameters with this testing accuracy 0.389473684211 and loss 2.079307304 :\n",
      "{'alpha': 0.4399348464267026}\n",
      "Parameters with this training accuracy 0.938156359393 and loss 1.35633479345 :\n",
      "Parameters with this testing accuracy 0.357894736842 and loss 2.24232867263 :\n",
      "{'alpha': 0.8561735763304674}\n",
      "Parameters with this training accuracy 0.885647607935 and loss 2.07937335379 :\n",
      "Parameters with this testing accuracy 0.357894736842 and loss 2.50243746062 :\n",
      "{'alpha': 2.567145960046788}\n",
      "Parameters with this training accuracy 0.911318553092 and loss 1.78207547895 :\n",
      "Parameters with this testing accuracy 0.357894736842 and loss 2.39012832661 :\n",
      "{'alpha': 1.5470510056096924}\n",
      "Parameters with this training accuracy 0.943990665111 and loss 1.23052796586 :\n",
      "Parameters with this testing accuracy 0.357894736842 and loss 2.20161538557 :\n",
      "{'alpha': 0.7292884454507056}\n",
      "Parameters with this training accuracy 0.929988331389 and loss 1.47705531767 :\n",
      "Parameters with this testing accuracy 0.357894736842 and loss 2.28260951801 :\n",
      "{'alpha': 1.0029778769344302}\n",
      "Parameters with this training accuracy 0.926487747958 and loss 1.59216166223 :\n",
      "Parameters with this testing accuracy 0.357894736842 and loss 2.32219885068 :\n",
      "{'alpha': 1.1731918453054153}\n"
     ]
    },
    {
     "name": "stderr",
     "output_type": "stream",
     "text": [
      "Hyperopt:  19%|█▉        | 188/1000 [00:04<00:18, 43.69it/s]"
     ]
    },
    {
     "name": "stdout",
     "output_type": "stream",
     "text": [
      "Parameters with this training accuracy 0.978996499417 and loss 0.30946753609 :\n",
      "Parameters with this testing accuracy 0.421052631579 and loss 1.92532853307 :\n",
      "{'alpha': 0.19003466884042436}\n",
      "Parameters with this training accuracy 0.883313885648 and loss 2.11168587586 :\n",
      "Parameters with this testing accuracy 0.357894736842 and loss 2.51498172916 :\n",
      "{'alpha': 2.734948691065395}\n",
      "Parameters with this training accuracy 0.987164527421 and loss 0.125113610681 :\n",
      "Parameters with this testing accuracy 0.389473684211 and loss 1.87417740895 :\n",
      "{'alpha': 0.10298647706626723}\n",
      "Parameters with this training accuracy 0.95682613769 and loss 0.969392554289 :\n",
      "Parameters with this testing accuracy 0.378947368421 and loss 2.12066837437 :\n",
      "{'alpha': 0.5253388422977535}\n",
      "Parameters with this training accuracy 0.890315052509 and loss 1.98707005164 :\n",
      "Parameters with this testing accuracy 0.357894736842 and loss 2.46690809851 :\n",
      "{'alpha': 2.1652523763204443}\n",
      "Parameters with this training accuracy 0.882147024504 and loss 2.14445867141 :\n",
      "Parameters with this testing accuracy 0.357894736842 and loss 2.52775113709 :\n",
      "{'alpha': 2.9230922408376996}\n",
      "Parameters with this training accuracy 0.880980163361 and loss 2.17628756765 :\n",
      "Parameters with this testing accuracy 0.357894736842 and loss 2.5401914873 :\n",
      "{'alpha': 3.125930537342975}\n",
      "Parameters with this training accuracy 0.967327887981 and loss 0.674961516708 :\n",
      "Parameters with this testing accuracy 0.4 and loss 2.03338901993 :\n",
      "{'alpha': 0.3562807909410532}\n",
      "Parameters with this training accuracy 0.948658109685 and loss 1.15915775368 :\n",
      "Parameters with this testing accuracy 0.357894736842 and loss 2.1790483289 :\n",
      "{'alpha': 0.6666628077248616}\n"
     ]
    },
    {
     "name": "stderr",
     "output_type": "stream",
     "text": [
      "Hyperopt:  20%|█▉        | 198/1000 [00:04<00:18, 43.98it/s]"
     ]
    },
    {
     "name": "stdout",
     "output_type": "stream",
     "text": [
      "Parameters with this training accuracy 0.938156359393 and loss 1.32521971751 :\n",
      "Parameters with this testing accuracy 0.357894736842 and loss 2.23214320003 :\n",
      "{'alpha': 0.8225883990984793}\n",
      "Parameters with this training accuracy 0.903150525088 and loss 1.85021401623 :\n",
      "Parameters with this testing accuracy 0.357894736842 and loss 2.41527846877 :\n",
      "{'alpha': 1.7209233663076997}\n",
      "Parameters with this training accuracy 0.97666277713 and loss 0.441404283348 :\n",
      "Parameters with this testing accuracy 0.4 and loss 1.96480571576 :\n",
      "{'alpha': 0.24751086554565754}\n",
      "Parameters with this training accuracy 0.997666277713 and loss 0.0190847928425 :\n",
      "Parameters with this testing accuracy 0.336842105263 and loss 2.17995774208 :\n",
      "{'alpha': 0.017616994498530686}\n",
      "Parameters with this training accuracy 0.87747957993 and loss 2.23140034878 :\n",
      "Parameters with this testing accuracy 0.357894736842 and loss 2.56180520943 :\n",
      "{'alpha': 3.534393654411409}\n",
      "Parameters with this training accuracy 0.933488914819 and loss 1.42254629107 :\n",
      "Parameters with this testing accuracy 0.357894736842 and loss 2.26426836767 :\n",
      "{'alpha': 0.9331953557682}\n",
      "Parameters with this training accuracy 0.978996499417 and loss 0.243105414477 :\n",
      "Parameters with this testing accuracy 0.410526315789 and loss 1.90535231095 :\n",
      "{'alpha': 0.16065167338919945}\n",
      "Parameters with this training accuracy 0.997666277713 and loss 0.0110645483799 :\n",
      "Parameters with this testing accuracy 0.305263157895 and loss 3.19613054411 :\n",
      "{'alpha': 0.003273755329369993}\n",
      "Parameters with this training accuracy 0.962660443407 and loss 0.86936016858 :\n",
      "Parameters with this testing accuracy 0.378947368421 and loss 2.09067936147 :\n",
      "{'alpha': 0.46237127720446214}\n"
     ]
    },
    {
     "name": "stderr",
     "output_type": "stream",
     "text": [
      "Hyperopt:  21%|██        | 208/1000 [00:04<00:17, 44.26it/s]"
     ]
    },
    {
     "name": "stdout",
     "output_type": "stream",
     "text": [
      "Parameters with this training accuracy 0.928821470245 and loss 1.53438711459 :\n",
      "Parameters with this testing accuracy 0.357894736842 and loss 2.30218040585 :\n",
      "{'alpha': 1.0835186468977547}\n",
      "Parameters with this training accuracy 0.922987164527 and loss 1.65372584524 :\n",
      "Parameters with this testing accuracy 0.357894736842 and loss 2.34386237997 :\n",
      "{'alpha': 1.2796682009669984}\n",
      "Parameters with this training accuracy 0.869311551925 and loss 2.29232759487 :\n",
      "Parameters with this testing accuracy 0.347368421053 and loss 2.58577570798 :\n",
      "{'alpha': 4.096455443931612}\n",
      "Parameters with this training accuracy 0.886814469078 and loss 2.05379269698 :\n",
      "Parameters with this testing accuracy 0.357894736842 and loss 2.49254291628 :\n",
      "{'alpha': 2.445196512103633}\n",
      "Parameters with this training accuracy 0.955659276546 and loss 1.03281378601 :\n",
      "Parameters with this testing accuracy 0.368421052632 and loss 2.13994002974 :\n",
      "{'alpha': 0.5690244900674688}\n",
      "Parameters with this training accuracy 0.971995332555 and loss 0.576889058123 :\n",
      "Parameters with this testing accuracy 0.4 and loss 2.00468485627 :\n",
      "{'alpha': 0.30879941386405313}\n",
      "Parameters with this training accuracy 0.918319719953 and loss 1.7099867017 :\n",
      "Parameters with this testing accuracy 0.357894736842 and loss 2.36396047994 :\n",
      "{'alpha': 1.3884770452364021}\n",
      "Parameters with this training accuracy 0.94049008168 and loss 1.29604355637 :\n",
      "Parameters with this testing accuracy 0.357894736842 and loss 2.2226628862 :\n",
      "{'alpha': 0.7924743227311196}\n",
      "Parameters with this training accuracy 0.910151691949 and loss 1.79476299594 :\n",
      "Parameters with this testing accuracy 0.357894736842 and loss 2.39478125435 :\n",
      "{'alpha': 1.5775075441020914}\n"
     ]
    },
    {
     "name": "stderr",
     "output_type": "stream",
     "text": [
      "\r",
      "Hyperopt:  21%|██▏       | 213/1000 [00:04<00:18, 43.54it/s]"
     ]
    },
    {
     "name": "stdout",
     "output_type": "stream",
     "text": [
      "Parameters with this training accuracy 0.894982497083 and loss 1.94762859027 :\n",
      "Parameters with this testing accuracy 0.357894736842 and loss 2.45188774579 :\n",
      "{'alpha': 2.0215786958629374}\n",
      "Parameters with this training accuracy 0.947491248541 and loss 1.18888519115 :\n",
      "Parameters with this testing accuracy 0.357894736842 and loss 2.18840382587 :\n",
      "{'alpha': 0.6920198315019634}\n",
      "Parameters with this training accuracy 0.962660443407 and loss 0.897645663306 :\n",
      "Parameters with this testing accuracy 0.378947368421 and loss 2.0991138344 :\n",
      "{'alpha': 0.47950530178125417}\n",
      "Parameters with this training accuracy 0.978996499417 and loss 0.33379748473 :\n",
      "Parameters with this testing accuracy 0.410526315789 and loss 1.93265947707 :\n",
      "{'alpha': 0.2006339500559918}\n",
      "Parameters with this training accuracy 0.966161026838 and loss 0.742166597258 :\n",
      "Parameters with this testing accuracy 0.4 and loss 2.05309439776 :\n",
      "{'alpha': 0.39090730443863525}\n",
      "Parameters with this training accuracy 0.926487747958 and loss 1.57028134914 :\n",
      "Parameters with this testing accuracy 0.357894736842 and loss 2.31458216836 :\n",
      "{'alpha': 1.1381459184399596}\n",
      "Parameters with this training accuracy 0.899649941657 and loss 1.89059217147 :\n",
      "Parameters with this testing accuracy 0.357894736842 and loss 2.43036383789 :\n",
      "{'alpha': 1.8371989969319802}\n",
      "Parameters with this training accuracy 0.886814469078 and loss 2.02526118234 :\n",
      "Parameters with this testing accuracy 0.357894736842 and loss 2.48154876823 :\n",
      "{'alpha': 2.319227136551266}\n",
      "Parameters with this training accuracy 0.987164527421 and loss 0.108296446481 :\n",
      "Parameters with this testing accuracy 0.368421052632 and loss 1.87199380313 :\n",
      "{'alpha': 0.09342542909157024}\n"
     ]
    },
    {
     "name": "stderr",
     "output_type": "stream",
     "text": [
      "Hyperopt:  22%|██▏       | 223/1000 [00:05<00:17, 43.68it/s]"
     ]
    },
    {
     "name": "stdout",
     "output_type": "stream",
     "text": [
      "Parameters with this training accuracy 0.912485414236 and loss 1.75488190573 :\n",
      "Parameters with this testing accuracy 0.357894736842 and loss 2.38020299873 :\n",
      "{'alpha': 1.4844544522192293}\n",
      "Parameters with this training accuracy 0.863477246208 and loss 2.31891004899 :\n",
      "Parameters with this testing accuracy 0.347368421053 and loss 2.59624965199 :\n",
      "{'alpha': 4.389497572632077}\n",
      "Parameters with this training accuracy 0.933488914819 and loss 1.43612334812 :\n",
      "Parameters with this testing accuracy 0.357894736842 and loss 2.26881285515 :\n",
      "{'alpha': 0.9500047440971127}\n",
      "Parameters with this training accuracy 0.85764294049 and loss 2.3577691983 :\n",
      "Parameters with this testing accuracy 0.336842105263 and loss 2.61156909749 :\n",
      "{'alpha': 4.886115201518094}\n",
      "Parameters with this training accuracy 0.952158693116 and loss 1.05773634813 :\n",
      "Parameters with this testing accuracy 0.368421052632 and loss 2.14757548225 :\n",
      "{'alpha': 0.5870986692307069}\n",
      "Parameters with this training accuracy 0.970828471412 and loss 0.610597287555 :\n",
      "Parameters with this testing accuracy 0.4 and loss 2.0145530405 :\n",
      "{'alpha': 0.3247596340649156}\n",
      "Parameters with this training accuracy 0.935822637106 and loss 1.38699505285 :\n",
      "Parameters with this testing accuracy 0.357894736842 and loss 2.25244270941 :\n",
      "{'alpha': 0.8908558985756767}\n",
      "Parameters with this training accuracy 0.996499416569 and loss 0.0242454466236 :\n",
      "Parameters with this testing accuracy 0.357894736842 and loss 2.0531239462 :\n",
      "{'alpha': 0.02511059077465702}\n",
      "Parameters with this training accuracy 0.925320886814 and loss 1.61535609862 :\n",
      "Parameters with this testing accuracy 0.357894736842 and loss 2.33032026003 :\n",
      "{'alpha': 1.2118900329824136}\n"
     ]
    },
    {
     "name": "stderr",
     "output_type": "stream",
     "text": [
      "Hyperopt:  23%|██▎       | 233/1000 [00:05<00:17, 43.46it/s]"
     ]
    },
    {
     "name": "stdout",
     "output_type": "stream",
     "text": [
      "Parameters with this training accuracy 0.978996499417 and loss 0.237655415274 :\n",
      "Parameters with this testing accuracy 0.410526315789 and loss 1.90372603391 :\n",
      "{'alpha': 0.15818644980578592}\n",
      "Parameters with this training accuracy 0.929988331389 and loss 1.49419230407 :\n",
      "Parameters with this testing accuracy 0.357894736842 and loss 2.28842905819 :\n",
      "{'alpha': 1.0262401508345123}\n",
      "Parameters with this training accuracy 0.947491248541 and loss 1.1688800615 :\n",
      "Parameters with this testing accuracy 0.357894736842 and loss 2.18210122668 :\n",
      "{'alpha': 0.6748462615898065}\n",
      "Parameters with this training accuracy 0.966161026838 and loss 0.777806243794 :\n",
      "Parameters with this testing accuracy 0.389473684211 and loss 2.06357848859 :\n",
      "{'alpha': 0.4100873017696779}\n",
      "Parameters with this training accuracy 0.94049008168 and loss 1.26335483764 :\n",
      "Parameters with this testing accuracy 0.357894736842 and loss 2.21212038306 :\n",
      "{'alpha': 0.7602147307773512}\n",
      "Parameters with this training accuracy 0.905484247375 and loss 1.8368691171 :\n",
      "Parameters with this testing accuracy 0.357894736842 and loss 2.41032194613 :\n",
      "{'alpha': 1.684787006640785}\n",
      "Parameters with this training accuracy 0.977829638273 and loss 0.427487305663 :\n",
      "Parameters with this testing accuracy 0.4 and loss 1.96067629941 :\n",
      "{'alpha': 0.24140270264612604}\n",
      "Parameters with this training accuracy 0.922987164527 and loss 1.67951513133 :\n",
      "Parameters with this testing accuracy 0.357894736842 and loss 2.35303950799 :\n",
      "{'alpha': 1.3280711048081157}\n",
      "Parameters with this training accuracy 0.962660443407 and loss 0.872907348172 :\n",
      "Parameters with this testing accuracy 0.378947368421 and loss 2.09173531263 :\n",
      "{'alpha': 0.4644928736674637}\n"
     ]
    },
    {
     "name": "stderr",
     "output_type": "stream",
     "text": [
      "Hyperopt:  24%|██▍       | 243/1000 [00:05<00:17, 43.51it/s]"
     ]
    },
    {
     "name": "stdout",
     "output_type": "stream",
     "text": [
      "Parameters with this training accuracy 0.859976662777 and loss 2.34720973157 :\n",
      "Parameters with this testing accuracy 0.336842105263 and loss 2.60740570473 :\n",
      "{'alpha': 4.742109818649333}\n",
      "Parameters with this training accuracy 0.984830805134 and loss 0.137862123127 :\n",
      "Parameters with this testing accuracy 0.389473684211 and loss 1.87660889428 :\n",
      "{'alpha': 0.10988955992984928}\n",
      "Parameters with this training accuracy 0.997666277713 and loss 0.0159923268859 :\n",
      "Parameters with this testing accuracy 0.326315789474 and loss 2.33365909301 :\n",
      "{'alpha': 0.012537076091068106}\n",
      "Parameters with this training accuracy 0.969661610268 and loss 0.632423897999 :\n",
      "Parameters with this testing accuracy 0.4 and loss 2.02093977829 :\n",
      "{'alpha': 0.33528620984424884}\n",
      "Parameters with this training accuracy 0.952158693116 and loss 1.04550183958 :\n",
      "Parameters with this testing accuracy 0.368421052632 and loss 2.14382264496 :\n",
      "{'alpha': 0.5781587404558051}\n",
      "Parameters with this training accuracy 0.870478413069 and loss 2.27518050742 :\n",
      "Parameters with this testing accuracy 0.357894736842 and loss 2.57902358599 :\n",
      "{'alpha': 3.9242002628392574}\n",
      "Parameters with this training accuracy 0.938156359393 and loss 1.32810225463 :\n",
      "Parameters with this testing accuracy 0.357894736842 and loss 2.23308350976 :\n",
      "{'alpha': 0.8256344919516898}\n",
      "Parameters with this training accuracy 0.889148191365 and loss 1.99696826744 :\n",
      "Parameters with this testing accuracy 0.357894736842 and loss 2.47069385303 :\n",
      "{'alpha': 2.203666974587819}\n",
      "Parameters with this training accuracy 0.95682613769 and loss 0.939866812774 :\n",
      "Parameters with this testing accuracy 0.378947368421 and loss 2.11176851274 :\n",
      "{'alpha': 0.5060447977582478}\n"
     ]
    },
    {
     "name": "stderr",
     "output_type": "stream",
     "text": [
      "Hyperopt:  25%|██▌       | 253/1000 [00:05<00:17, 43.61it/s]"
     ]
    },
    {
     "name": "stdout",
     "output_type": "stream",
     "text": [
      "Parameters with this training accuracy 0.928821470245 and loss 1.53781798823 :\n",
      "Parameters with this testing accuracy 0.357894736842 and loss 2.30336081581 :\n",
      "{'alpha': 1.088593132640492}\n",
      "Parameters with this training accuracy 0.883313885648 and loss 2.10932040172 :\n",
      "Parameters with this testing accuracy 0.357894736842 and loss 2.51406179375 :\n",
      "{'alpha': 2.722099891735919}\n",
      "Parameters with this training accuracy 0.97666277713 and loss 0.441349542037 :\n",
      "Parameters with this testing accuracy 0.4 and loss 1.96478948839 :\n",
      "{'alpha': 0.24748679245860886}\n",
      "Parameters with this training accuracy 0.89731621937 and loss 1.92792500985 :\n",
      "Parameters with this testing accuracy 0.357894736842 and loss 2.44442485376 :\n",
      "{'alpha': 1.954974653271474}\n",
      "Parameters with this training accuracy 0.949824970828 and loss 1.13837210748 :\n",
      "Parameters with this testing accuracy 0.368421052632 and loss 2.17254320006 :\n",
      "{'alpha': 0.6495118773670001}\n",
      "Parameters with this training accuracy 0.929988331389 and loss 1.46505812794 :\n",
      "Parameters with this testing accuracy 0.357894736842 and loss 2.27855066985 :\n",
      "{'alpha': 0.9870820212051188}\n",
      "Parameters with this training accuracy 0.880980163361 and loss 2.2078024492 :\n",
      "Parameters with this testing accuracy 0.347368421053 and loss 2.55254086862 :\n",
      "{'alpha': 3.3496184712339456}\n",
      "Parameters with this training accuracy 0.913652275379 and loss 1.73767897023 :\n",
      "Parameters with this testing accuracy 0.357894736842 and loss 2.37395790407 :\n",
      "{'alpha': 1.4466400329425173}\n",
      "Parameters with this training accuracy 0.997666277713 and loss 0.0192841025208 :\n",
      "Parameters with this testing accuracy 0.336842105263 and loss 2.172908957 :\n",
      "{'alpha': 0.017926916080784977}\n"
     ]
    },
    {
     "name": "stderr",
     "output_type": "stream",
     "text": [
      "\r",
      "Hyperopt:  26%|██▌       | 258/1000 [00:06<00:17, 43.46it/s]"
     ]
    },
    {
     "name": "stdout",
     "output_type": "stream",
     "text": [
      "Parameters with this training accuracy 0.943990665111 and loss 1.22757040948 :\n",
      "Parameters with this testing accuracy 0.357894736842 and loss 2.20067289078 :\n",
      "{'alpha': 0.7265709612213627}\n",
      "Parameters with this training accuracy 0.967327887981 and loss 0.680419062251 :\n",
      "Parameters with this testing accuracy 0.4 and loss 2.03498705731 :\n",
      "{'alpha': 0.3590233568721194}\n",
      "Parameters with this training accuracy 0.880980163361 and loss 2.16620396308 :\n",
      "Parameters with this testing accuracy 0.357894736842 and loss 2.53624653722 :\n",
      "{'alpha': 3.0593323500033742}\n",
      "Parameters with this training accuracy 0.875145857643 and loss 2.24528251538 :\n",
      "Parameters with this testing accuracy 0.357894736842 and loss 2.56726109137 :\n",
      "{'alpha': 3.6509125492787753}\n",
      "Parameters with this training accuracy 0.978996499417 and loss 0.372184855369 :\n",
      "Parameters with this testing accuracy 0.4 and loss 1.94418464421 :\n",
      "{'alpha': 0.21730406200123537}\n",
      "Parameters with this training accuracy 0.981330221704 and loss 0.201605688842 :\n",
      "Parameters with this testing accuracy 0.410526315789 and loss 1.89314158387 :\n",
      "{'alpha': 0.14155500462751147}\n",
      "Parameters with this training accuracy 0.978996499417 and loss 0.220005306062 :\n",
      "Parameters with this testing accuracy 0.410526315789 and loss 1.89849763852 :\n",
      "{'alpha': 0.1501214599553929}\n",
      "Parameters with this training accuracy 0.966161026838 and loss 0.802765677827 :\n",
      "Parameters with this testing accuracy 0.389473684211 and loss 2.07094015482 :\n",
      "{'alpha': 0.4238916957713304}\n",
      "Parameters with this training accuracy 0.997666277713 and loss 0.0159988179933 :\n",
      "Parameters with this testing accuracy 0.326315789474 and loss 2.33321366372 :\n",
      "{'alpha': 0.012548341092266962}\n"
     ]
    },
    {
     "name": "stderr",
     "output_type": "stream",
     "text": [
      "Hyperopt:  27%|██▋       | 268/1000 [00:06<00:16, 43.07it/s]"
     ]
    },
    {
     "name": "stdout",
     "output_type": "stream",
     "text": [
      "Parameters with this training accuracy 0.973162193699 and loss 0.5408989061 :\n",
      "Parameters with this testing accuracy 0.4 and loss 1.99413412707 :\n",
      "{'alpha': 0.2921168165851208}\n",
      "Parameters with this training accuracy 0.955659276546 and loss 1.01222724627 :\n",
      "Parameters with this testing accuracy 0.368421052632 and loss 2.13366016994 :\n",
      "{'alpha': 0.5544919956295385}\n",
      "Parameters with this training accuracy 0.98016336056 and loss 0.213988594543 :\n",
      "Parameters with this testing accuracy 0.410526315789 and loss 1.89673318024 :\n",
      "{'alpha': 0.1473399395508497}\n",
      "Parameters with this training accuracy 0.93698949825 and loss 1.37377162093 :\n",
      "Parameters with this testing accuracy 0.357894736842 and loss 2.24807111004 :\n",
      "{'alpha': 0.8756973442211176}\n",
      "Parameters with this training accuracy 0.95682613769 and loss 0.942927730689 :\n",
      "Parameters with this testing accuracy 0.378947368421 and loss 2.11268916231 :\n",
      "{'alpha': 0.5080160357840198}\n",
      "Parameters with this training accuracy 0.950991831972 and loss 1.09868814267 :\n",
      "Parameters with this testing accuracy 0.368421052632 and loss 2.16020370298 :\n",
      "{'alpha': 0.6180104677991314}\n",
      "Parameters with this training accuracy 0.997666277713 and loss 0.0145262752032 :\n",
      "Parameters with this testing accuracy 0.326315789474 and loss 2.45681297439 :\n",
      "{'alpha': 0.009916104544581306}\n",
      "Parameters with this training accuracy 0.94049008168 and loss 1.26223969232 :\n",
      "Parameters with this testing accuracy 0.357894736842 and loss 2.21176218653 :\n",
      "{'alpha': 0.7591405715262074}\n",
      "Parameters with this training accuracy 0.966161026838 and loss 0.727868395201 :\n",
      "Parameters with this testing accuracy 0.4 and loss 2.04889601847 :\n",
      "{'alpha': 0.3833784013277524}\n"
     ]
    },
    {
     "name": "stderr",
     "output_type": "stream",
     "text": [
      "Hyperopt:  28%|██▊       | 278/1000 [00:06<00:16, 42.71it/s]"
     ]
    },
    {
     "name": "stdout",
     "output_type": "stream",
     "text": [
      "Parameters with this training accuracy 0.974329054842 and loss 0.506619093233 :\n",
      "Parameters with this testing accuracy 0.4 and loss 1.98406172292 :\n",
      "{'alpha': 0.27652676236880813}\n",
      "Parameters with this training accuracy 0.978996499417 and loss 0.327076106906 :\n",
      "Parameters with this testing accuracy 0.410526315789 and loss 1.93063584066 :\n",
      "{'alpha': 0.1977104043663073}\n",
      "Parameters with this training accuracy 0.926487747958 and loss 1.59759862114 :\n",
      "Parameters with this testing accuracy 0.357894736842 and loss 2.32409820141 :\n",
      "{'alpha': 1.1821167283194456}\n",
      "Parameters with this training accuracy 0.934655775963 and loss 1.40528381895 :\n",
      "Parameters with this testing accuracy 0.357894736842 and loss 2.25851293178 :\n",
      "{'alpha': 0.9123410494461659}\n",
      "Parameters with this training accuracy 0.989498249708 and loss 0.068242463413 :\n",
      "Parameters with this testing accuracy 0.347368421053 and loss 1.87851223143 :\n",
      "{'alpha': 0.06737192072524031}\n",
      "Parameters with this training accuracy 0.962660443407 and loss 0.844294503676 :\n",
      "Parameters with this testing accuracy 0.378947368421 and loss 2.08323137841 :\n",
      "{'alpha': 0.4475928376376243}\n",
      "Parameters with this training accuracy 0.949824970828 and loss 1.14739866738 :\n",
      "Parameters with this testing accuracy 0.357894736842 and loss 2.17536456232 :\n",
      "{'alpha': 0.6569031425753876}\n",
      "Parameters with this training accuracy 0.94049008168 and loss 1.29267264475 :\n",
      "Parameters with this testing accuracy 0.357894736842 and loss 2.22157189095 :\n",
      "{'alpha': 0.7890770524492332}\n",
      "Parameters with this training accuracy 0.978996499417 and loss 0.263928891944 :\n",
      "Parameters with this testing accuracy 0.421052631579 and loss 1.9115982515 :\n",
      "{'alpha': 0.16998153860752427}\n"
     ]
    },
    {
     "name": "stderr",
     "output_type": "stream",
     "text": [
      "Hyperopt:  29%|██▉       | 288/1000 [00:06<00:16, 42.16it/s]"
     ]
    },
    {
     "name": "stdout",
     "output_type": "stream",
     "text": [
      "Parameters with this training accuracy 0.929988331389 and loss 1.48059812256 :\n",
      "Parameters with this testing accuracy 0.357894736842 and loss 2.28381050841 :\n",
      "{'alpha': 1.0077326511974385}\n",
      "Parameters with this training accuracy 0.971995332555 and loss 0.573875300306 :\n",
      "Parameters with this testing accuracy 0.4 and loss 2.0038020615 :\n",
      "{'alpha': 0.30738888564738476}\n",
      "Parameters with this training accuracy 0.988331388565 and loss 0.0847939275603 :\n",
      "Parameters with this testing accuracy 0.357894736842 and loss 1.87260366803 :\n",
      "{'alpha': 0.07886689184617951}\n",
      "Parameters with this training accuracy 0.925320886814 and loss 1.64192856108 :\n",
      "Parameters with this testing accuracy 0.357894736842 and loss 2.33968444176 :\n",
      "{'alpha': 1.2583075343148007}\n",
      "Parameters with this training accuracy 0.952158693116 and loss 1.0622817836 :\n",
      "Parameters with this testing accuracy 0.368421052632 and loss 2.14897204723 :\n",
      "{'alpha': 0.5904538173241961}\n",
      "Parameters with this training accuracy 0.927654609102 and loss 1.54706329906 :\n",
      "Parameters with this testing accuracy 0.357894736842 and loss 2.3065469483 :\n",
      "{'alpha': 1.1024191695336694}\n",
      "Parameters with this training accuracy 0.997666277713 and loss 0.0113548446757 :\n",
      "Parameters with this testing accuracy 0.315789473684 and loss 3.08232863991 :\n",
      "{'alpha': 0.0038083332087090194}\n",
      "Parameters with this training accuracy 0.957992998833 and loss 0.93057979409 :\n",
      "Parameters with this testing accuracy 0.378947368421 and loss 2.10897794209 :\n",
      "{'alpha': 0.5001038673061268}\n",
      "Parameters with this training accuracy 0.997666277713 and loss 0.0122200692776 :\n",
      "Parameters with this testing accuracy 0.305263157895 and loss 2.82305111713 :\n",
      "{'alpha': 0.005485094516751415}\n"
     ]
    },
    {
     "name": "stderr",
     "output_type": "stream",
     "text": [
      "Hyperopt:  30%|██▉       | 298/1000 [00:06<00:16, 42.37it/s]"
     ]
    },
    {
     "name": "stdout",
     "output_type": "stream",
     "text": [
      "Parameters with this training accuracy 0.941656942824 and loss 1.24082356459 :\n",
      "Parameters with this testing accuracy 0.357894736842 and loss 2.20490138986 :\n",
      "{'alpha': 0.7388356489886396}\n",
      "Parameters with this training accuracy 0.966161026838 and loss 0.780869834459 :\n",
      "Parameters with this testing accuracy 0.389473684211 and loss 2.0644811535 :\n",
      "{'alpha': 0.41176470699060475}\n",
      "Parameters with this training accuracy 0.978996499417 and loss 0.340097084747 :\n",
      "Parameters with this testing accuracy 0.410526315789 and loss 1.93455476254 :\n",
      "{'alpha': 0.2033718295407356}\n",
      "Parameters with this training accuracy 0.93698949825 and loss 1.36584665713 :\n",
      "Parameters with this testing accuracy 0.357894736842 and loss 2.24545809584 :\n",
      "{'alpha': 0.8667593850317712}\n",
      "Parameters with this training accuracy 0.987164527421 and loss 0.115460359701 :\n",
      "Parameters with this testing accuracy 0.389473684211 and loss 1.87274504736 :\n",
      "{'alpha': 0.09756981669771346}\n",
      "Parameters with this training accuracy 0.907817969662 and loss 1.81346973452 :\n",
      "Parameters with this testing accuracy 0.357894736842 and loss 2.40166698531 :\n",
      "{'alpha': 1.6239539928734423}\n",
      "Parameters with this training accuracy 0.970828471412 and loss 0.604313358401 :\n",
      "Parameters with this testing accuracy 0.4 and loss 2.01271400663 :\n",
      "{'alpha': 0.32175782700767125}\n",
      "Parameters with this training accuracy 0.918319719953 and loss 1.70448874095 :\n",
      "Parameters with this testing accuracy 0.357894736842 and loss 2.36198381582 :\n",
      "{'alpha': 1.3773082581770077}\n",
      "Parameters with this training accuracy 0.949824970828 and loss 1.12271346366 :\n",
      "Parameters with this testing accuracy 0.368421052632 and loss 2.16766186674 :\n",
      "{'alpha': 0.6368919120299827}\n"
     ]
    },
    {
     "name": "stderr",
     "output_type": "stream",
     "text": [
      "\r",
      "Hyperopt:  30%|███       | 303/1000 [00:07<00:16, 42.96it/s]"
     ]
    },
    {
     "name": "stdout",
     "output_type": "stream",
     "text": [
      "Parameters with this training accuracy 0.882147024504 and loss 2.13057337848 :\n",
      "Parameters with this testing accuracy 0.357894736842 and loss 2.52233564606 :\n",
      "{'alpha': 2.840996109764017}\n",
      "Parameters with this training accuracy 0.978996499417 and loss 0.390710290491 :\n",
      "Parameters with this testing accuracy 0.4 and loss 1.94972417774 :\n",
      "{'alpha': 0.22535461696517828}\n",
      "Parameters with this training accuracy 0.962660443407 and loss 0.882051657721 :\n",
      "Parameters with this testing accuracy 0.378947368421 and loss 2.0944597815 :\n",
      "{'alpha': 0.4699976342661817}\n",
      "Parameters with this training accuracy 0.932322053676 and loss 1.44660752215 :\n",
      "Parameters with this testing accuracy 0.357894736842 and loss 2.2723328976 :\n",
      "{'alpha': 0.963238332685762}\n",
      "Parameters with this training accuracy 0.9008168028 and loss 1.87211026731 :\n",
      "Parameters with this testing accuracy 0.357894736842 and loss 2.42344272873 :\n",
      "{'alpha': 1.7826329348432155}\n",
      "Parameters with this training accuracy 0.880980163361 and loss 2.19144057856 :\n",
      "Parameters with this testing accuracy 0.347368421053 and loss 2.54612573343 :\n",
      "{'alpha': 3.2304167679726583}\n",
      "Parameters with this training accuracy 0.885647607935 and loss 2.07583111301 :\n",
      "Parameters with this testing accuracy 0.357894736842 and loss 2.50106533226 :\n",
      "{'alpha': 2.5497144226457285}\n",
      "Parameters with this training accuracy 0.985997666278 and loss 0.131396990703 :\n",
      "Parameters with this testing accuracy 0.389473684211 and loss 1.87531120999 :\n",
      "{'alpha': 0.10642142481051256}\n",
      "Parameters with this training accuracy 0.966161026838 and loss 0.725563187016 :\n",
      "Parameters with this testing accuracy 0.4 and loss 2.04821949856 :\n",
      "{'alpha': 0.38217309768084184}\n"
     ]
    },
    {
     "name": "stderr",
     "output_type": "stream",
     "text": [
      "Hyperopt:  31%|███▏      | 313/1000 [00:07<00:16, 42.60it/s]"
     ]
    },
    {
     "name": "stdout",
     "output_type": "stream",
     "text": [
      "Parameters with this training accuracy 0.997666277713 and loss 0.0117153998595 :\n",
      "Parameters with this testing accuracy 0.305263157895 and loss 2.96134905774 :\n",
      "{'alpha': 0.0044972795301605195}\n",
      "Parameters with this training accuracy 0.911318553092 and loss 1.77077149723 :\n",
      "Parameters with this testing accuracy 0.357894736842 and loss 2.38599461287 :\n",
      "{'alpha': 1.520596929742442}\n",
      "Parameters with this training accuracy 0.955659276546 and loss 1.02238261873 :\n",
      "Parameters with this testing accuracy 0.368421052632 and loss 2.13675502278 :\n",
      "{'alpha': 0.5616170636944267}\n",
      "Parameters with this training accuracy 0.939323220537 and loss 1.32074933744 :\n",
      "Parameters with this testing accuracy 0.357894736842 and loss 2.23068623718 :\n",
      "{'alpha': 0.8178900448880746}\n",
      "Parameters with this training accuracy 0.973162193699 and loss 0.53020096553 :\n",
      "Parameters with this testing accuracy 0.4 and loss 1.99099361164 :\n",
      "{'alpha': 0.2872222474619346}\n",
      "Parameters with this training accuracy 0.978996499417 and loss 0.247266897911 :\n",
      "Parameters with this testing accuracy 0.421052631579 and loss 1.90659690458 :\n",
      "{'alpha': 0.16252701963540486}\n",
      "Parameters with this training accuracy 0.926487747958 and loss 1.58867796141 :\n",
      "Parameters with this testing accuracy 0.357894736842 and loss 2.32098325775 :\n",
      "{'alpha': 1.1675192830046228}\n",
      "Parameters with this training accuracy 0.947491248541 and loss 1.16298523584 :\n",
      "Parameters with this testing accuracy 0.357894736842 and loss 2.18024941338 :\n",
      "{'alpha': 0.6698719967380606}\n",
      "Parameters with this training accuracy 0.865810968495 and loss 2.31617628136 :\n",
      "Parameters with this testing accuracy 0.347368421053 and loss 2.59517221536 :\n",
      "{'alpha': 4.357771156490769}\n"
     ]
    },
    {
     "name": "stderr",
     "output_type": "stream",
     "text": [
      "Hyperopt:  32%|███▏      | 323/1000 [00:07<00:15, 42.69it/s]"
     ]
    },
    {
     "name": "stdout",
     "output_type": "stream",
     "text": [
      "Parameters with this training accuracy 0.928821470245 and loss 1.53206171794 :\n",
      "Parameters with this testing accuracy 0.357894736842 and loss 2.30138093803 :\n",
      "{'alpha': 1.0800963362455034}\n",
      "Parameters with this training accuracy 0.95682613769 and loss 0.962888815653 :\n",
      "Parameters with this testing accuracy 0.378947368421 and loss 2.11870422825 :\n",
      "{'alpha': 0.5210346052825646}\n",
      "Parameters with this training accuracy 0.891481913652 and loss 1.96470830064 :\n",
      "Parameters with this testing accuracy 0.357894736842 and loss 2.45837913214 :\n",
      "{'alpha': 2.0820239528622557}\n",
      "Parameters with this training accuracy 0.943990665111 and loss 1.21825838485 :\n",
      "Parameters with this testing accuracy 0.357894736842 and loss 2.19770961131 :\n",
      "{'alpha': 0.7180867739502087}\n",
      "Parameters with this training accuracy 0.966161026838 and loss 0.713070905623 :\n",
      "Parameters with this testing accuracy 0.4 and loss 2.04455490804 :\n",
      "{'alpha': 0.37568163428502765}\n",
      "Parameters with this training accuracy 0.869311551925 and loss 2.28622634165 :\n",
      "Parameters with this testing accuracy 0.357894736842 and loss 2.58337274537 :\n",
      "{'alpha': 4.033757907361018}\n",
      "Parameters with this training accuracy 0.93698949825 and loss 1.37796213947 :\n",
      "Parameters with this testing accuracy 0.357894736842 and loss 2.24945490319 :\n",
      "{'alpha': 0.8804676574960548}\n",
      "Parameters with this training accuracy 0.997666277713 and loss 0.0107889172224 :\n",
      "Parameters with this testing accuracy 0.305263157895 and loss 3.3197274207 :\n",
      "{'alpha': 0.0027910418568677653}\n",
      "Parameters with this training accuracy 0.978996499417 and loss 0.29859555475 :\n",
      "Parameters with this testing accuracy 0.410526315789 and loss 1.92204891142 :\n",
      "{'alpha': 0.18527883873815965}\n"
     ]
    },
    {
     "name": "stderr",
     "output_type": "stream",
     "text": [
      "Hyperopt:  33%|███▎      | 333/1000 [00:07<00:15, 42.45it/s]"
     ]
    },
    {
     "name": "stdout",
     "output_type": "stream",
     "text": [
      "Parameters with this training accuracy 0.921820303384 and loss 1.67997236148 :\n",
      "Parameters with this testing accuracy 0.357894736842 and loss 2.35320275784 :\n",
      "{'alpha': 1.328951146249786}\n",
      "Parameters with this training accuracy 0.929988331389 and loss 1.47621851271 :\n",
      "Parameters with this testing accuracy 0.357894736842 and loss 2.28232600603 :\n",
      "{'alpha': 1.0018588822286578}\n",
      "Parameters with this training accuracy 0.973162193699 and loss 0.56219864749 :\n",
      "Parameters with this testing accuracy 0.4 and loss 2.00038063166 :\n",
      "{'alpha': 0.3019478987243448}\n",
      "Parameters with this training accuracy 0.924154025671 and loss 1.64364541882 :\n",
      "Parameters with this testing accuracy 0.357894736842 and loss 2.34029167071 :\n",
      "{'alpha': 1.2613866372730553}\n",
      "Parameters with this training accuracy 0.997666277713 and loss 0.00950423350364 :\n",
      "Parameters with this testing accuracy 0.273684210526 and loss 4.1304035737 :\n",
      "{'alpha': 0.0010629932828487287}\n",
      "Parameters with this training accuracy 0.952158693116 and loss 1.07016532909 :\n",
      "Parameters with this testing accuracy 0.368421052632 and loss 2.1513972101 :\n",
      "{'alpha': 0.596317012984431}\n",
      "Parameters with this training accuracy 0.94049008168 and loss 1.26544230961 :\n",
      "Parameters with this testing accuracy 0.357894736842 and loss 2.21279115646 :\n",
      "{'alpha': 0.7622300495669206}\n",
      "Parameters with this training accuracy 0.962660443407 and loss 0.862704202052 :\n",
      "Parameters with this testing accuracy 0.378947368421 and loss 2.08869929322 :\n",
      "{'alpha': 0.45841077126864094}\n",
      "Parameters with this training accuracy 0.987164527421 and loss 0.117986652695 :\n",
      "Parameters with this testing accuracy 0.389473684211 and loss 1.87307823554 :\n",
      "{'alpha': 0.09900495485937624}\n"
     ]
    },
    {
     "name": "stderr",
     "output_type": "stream",
     "text": [
      "Hyperopt:  34%|███▍      | 343/1000 [00:08<00:15, 41.92it/s]"
     ]
    },
    {
     "name": "stdout",
     "output_type": "stream",
     "text": [
      "Parameters with this training accuracy 0.85764294049 and loss 2.36210205678 :\n",
      "Parameters with this testing accuracy 0.336842105263 and loss 2.61327750135 :\n",
      "{'alpha': 4.9473665987289435}\n",
      "Parameters with this training accuracy 0.933488914819 and loss 1.42331187525 :\n",
      "Parameters with this testing accuracy 0.357894736842 and loss 2.26452420438 :\n",
      "{'alpha': 0.9341335296624197}\n",
      "Parameters with this training accuracy 0.978996499417 and loss 0.35215538861 :\n",
      "Parameters with this testing accuracy 0.410526315789 and loss 1.93817851412 :\n",
      "{'alpha': 0.20860857390429569}\n",
      "Parameters with this training accuracy 0.997666277713 and loss 0.0110780037663 :\n",
      "Parameters with this testing accuracy 0.305263157895 and loss 3.19049909166 :\n",
      "{'alpha': 0.0032980052984114827}\n",
      "Parameters with this training accuracy 0.859976662777 and loss 2.33806486189 :\n",
      "Parameters with this testing accuracy 0.336842105263 and loss 2.60380029043 :\n",
      "{'alpha': 4.62309818516759}\n",
      "Parameters with this training accuracy 0.875145857643 and loss 2.25856162135 :\n",
      "Parameters with this testing accuracy 0.357894736842 and loss 2.57248348899 :\n",
      "{'alpha': 3.7683263807747727}\n",
      "Parameters with this training accuracy 0.966161026838 and loss 0.773610896956 :\n",
      "Parameters with this testing accuracy 0.389473684211 and loss 2.06234275774 :\n",
      "{'alpha': 0.40779777172962167}\n",
      "Parameters with this training accuracy 0.95682613769 and loss 0.963383625567 :\n",
      "Parameters with this testing accuracy 0.378947368421 and loss 2.11885358653 :\n",
      "{'alpha': 0.5213609802883236}\n",
      "Parameters with this training accuracy 0.947491248541 and loss 1.17390895864 :\n",
      "Parameters with this testing accuracy 0.357894736842 and loss 2.18368292865 :\n",
      "{'alpha': 0.6791205157791993}\n"
     ]
    },
    {
     "name": "stderr",
     "output_type": "stream",
     "text": [
      "\r",
      "Hyperopt:  35%|███▍      | 348/1000 [00:08<00:15, 42.01it/s]"
     ]
    },
    {
     "name": "stdout",
     "output_type": "stream",
     "text": [
      "Parameters with this training accuracy 0.898483080513 and loss 1.90595095188 :\n",
      "Parameters with this testing accuracy 0.357894736842 and loss 2.43613572599 :\n",
      "{'alpha': 1.8843811380305127}\n",
      "Parameters with this training accuracy 0.973162193699 and loss 0.539989524491 :\n",
      "Parameters with this testing accuracy 0.4 and loss 1.99386725624 :\n",
      "{'alpha': 0.29169966530438585}\n",
      "Parameters with this training accuracy 0.928821470245 and loss 1.52197614866 :\n",
      "Parameters with this testing accuracy 0.357894736842 and loss 2.29791910845 :\n",
      "{'alpha': 1.0654111474313324}\n",
      "Parameters with this training accuracy 0.939323220537 and loss 1.31452219268 :\n",
      "Parameters with this testing accuracy 0.357894736842 and loss 2.22865937641 :\n",
      "{'alpha': 0.8113968536005487}\n",
      "Parameters with this training accuracy 0.983663943991 and loss 0.144932396378 :\n",
      "Parameters with this testing accuracy 0.389473684211 and loss 1.87815289343 :\n",
      "{'alpha': 0.11361298397858628}\n",
      "Parameters with this training accuracy 0.915985997666 and loss 1.71528138155 :\n",
      "Parameters with this testing accuracy 0.357894736842 and loss 2.36586663327 :\n",
      "{'alpha': 1.3993489723083583}\n",
      "Parameters with this training accuracy 0.886814469078 and loss 2.02092791333 :\n",
      "Parameters with this testing accuracy 0.357894736842 and loss 2.47988310834 :\n",
      "{'alpha': 2.3009503584674946}\n",
      "Parameters with this training accuracy 0.955659276546 and loss 1.02701886238 :\n",
      "Parameters with this testing accuracy 0.368421052632 and loss 2.13816986267 :\n",
      "{'alpha': 0.5648981443323062}\n",
      "Parameters with this training accuracy 0.977829638273 and loss 0.401337265609 :\n",
      "Parameters with this testing accuracy 0.4 and loss 1.95289497565 :\n",
      "{'alpha': 0.22998065670016365}\n"
     ]
    },
    {
     "name": "stderr",
     "output_type": "stream",
     "text": [
      "Hyperopt:  36%|███▌      | 358/1000 [00:08<00:15, 42.01it/s]"
     ]
    },
    {
     "name": "stdout",
     "output_type": "stream",
     "text": [
      "Parameters with this training accuracy 0.87747957993 and loss 2.22307647228 :\n",
      "Parameters with this testing accuracy 0.357894736842 and loss 2.55853580988 :\n",
      "{'alpha': 3.467383048177403}\n",
      "Parameters with this training accuracy 0.905484247375 and loss 1.82927775736 :\n",
      "Parameters with this testing accuracy 0.357894736842 and loss 2.40750900036 :\n",
      "{'alpha': 1.6647059320906663}\n",
      "Parameters with this training accuracy 0.966161026838 and loss 0.701487195653 :\n",
      "Parameters with this testing accuracy 0.4 and loss 2.04115900934 :\n",
      "{'alpha': 0.369721756552734}\n",
      "Parameters with this training accuracy 0.926487747958 and loss 1.57875966326 :\n",
      "Parameters with this testing accuracy 0.357894736842 and loss 2.31752839891 :\n",
      "{'alpha': 1.151562791531451}\n",
      "Parameters with this training accuracy 0.880980163361 and loss 2.15402670784 :\n",
      "Parameters with this testing accuracy 0.357894736842 and loss 2.53148707599 :\n",
      "{'alpha': 2.9818411181227864}\n",
      "Parameters with this training accuracy 0.934655775963 and loss 1.40603785202 :\n",
      "Parameters with this testing accuracy 0.357894736842 and loss 2.25876380578 :\n",
      "{'alpha': 0.9132401455298901}\n",
      "Parameters with this training accuracy 0.987164527421 and loss 0.119440265491 :\n",
      "Parameters with this testing accuracy 0.389473684211 and loss 1.87328416414 :\n",
      "{'alpha': 0.09982489426373527}\n",
      "Parameters with this training accuracy 0.943990665111 and loss 1.2275063821 :\n",
      "Parameters with this testing accuracy 0.357894736842 and loss 2.20065249411 :\n",
      "{'alpha': 0.7265122537449555}\n",
      "Parameters with this training accuracy 0.962660443407 and loss 0.853169343051 :\n",
      "Parameters with this testing accuracy 0.378947368421 and loss 2.08586574588 :\n",
      "{'alpha': 0.4527831536122582}\n"
     ]
    },
    {
     "name": "stderr",
     "output_type": "stream",
     "text": [
      "Hyperopt:  37%|███▋      | 368/1000 [00:08<00:15, 42.07it/s]"
     ]
    },
    {
     "name": "stdout",
     "output_type": "stream",
     "text": [
      "Parameters with this training accuracy 0.950991831972 and loss 1.1100099835 :\n",
      "Parameters with this testing accuracy 0.368421052632 and loss 2.16371366229 :\n",
      "{'alpha': 0.6268370361948719}\n",
      "Parameters with this training accuracy 0.925320886814 and loss 1.62840145992 :\n",
      "Parameters with this testing accuracy 0.357894736842 and loss 2.33490945693 :\n",
      "{'alpha': 1.2343911008747654}\n",
      "Parameters with this training accuracy 0.971995332555 and loss 0.569771637602 :\n",
      "Parameters with this testing accuracy 0.4 and loss 2.00259983316 :\n",
      "{'alpha': 0.3054723802245901}\n",
      "Parameters with this training accuracy 0.978996499417 and loss 0.272216940531 :\n",
      "Parameters with this testing accuracy 0.421052631579 and loss 1.91409349739 :\n",
      "{'alpha': 0.17366154282372337}\n",
      "Parameters with this training accuracy 0.939323220537 and loss 1.32296059491 :\n",
      "Parameters with this testing accuracy 0.357894736842 and loss 2.23140671893 :\n",
      "{'alpha': 0.8202101816079277}\n",
      "Parameters with this training accuracy 0.978996499417 and loss 0.252630466392 :\n",
      "Parameters with this testing accuracy 0.421052631579 and loss 1.90820404594 :\n",
      "{'alpha': 0.16493568869739728}\n",
      "Parameters with this training accuracy 0.911318553092 and loss 1.77723279682 :\n",
      "Parameters with this testing accuracy 0.357894736842 and loss 2.38835605344 :\n",
      "{'alpha': 1.5356407246505828}\n",
      "Parameters with this training accuracy 0.929988331389 and loss 1.48530776758 :\n",
      "Parameters with this testing accuracy 0.357894736842 and loss 2.28540875061 :\n",
      "{'alpha': 1.014096970975765}\n",
      "Parameters with this training accuracy 0.961493582264 and loss 0.909536058107 :\n",
      "Parameters with this testing accuracy 0.378947368421 and loss 2.10266952838 :\n",
      "{'alpha': 0.4868593810764235}\n"
     ]
    },
    {
     "name": "stderr",
     "output_type": "stream",
     "text": [
      "Hyperopt:  38%|███▊      | 378/1000 [00:08<00:14, 42.09it/s]"
     ]
    },
    {
     "name": "stdout",
     "output_type": "stream",
     "text": [
      "Parameters with this training accuracy 0.989498249708 and loss 0.0813530368336 :\n",
      "Parameters with this testing accuracy 0.357894736842 and loss 1.8733052914 :\n",
      "{'alpha': 0.07657962208474547}\n",
      "Parameters with this training accuracy 0.883313885648 and loss 2.09745666514 :\n",
      "Parameters with this testing accuracy 0.357894736842 and loss 2.50945173812 :\n",
      "{'alpha': 2.659039823491272}\n",
      "Parameters with this training accuracy 0.886814469078 and loss 2.05978774717 :\n",
      "Parameters with this testing accuracy 0.357894736842 and loss 2.4948587297 :\n",
      "{'alpha': 2.472975417867309}\n",
      "Parameters with this training accuracy 0.875145857643 and loss 2.24438168535 :\n",
      "Parameters with this testing accuracy 0.357894736842 and loss 2.56690693366 :\n",
      "{'alpha': 3.643163567283172}\n",
      "Parameters with this training accuracy 0.966161026838 and loss 0.725891646965 :\n",
      "Parameters with this testing accuracy 0.4 and loss 2.04831588742 :\n",
      "{'alpha': 0.38234469371483804}\n",
      "Parameters with this training accuracy 0.950991831972 and loss 1.08908585101 :\n",
      "Parameters with this testing accuracy 0.368421052632 and loss 2.15723326237 :\n",
      "{'alpha': 0.6106217207428577}\n",
      "Parameters with this training accuracy 0.997666277713 and loss 0.0157238072137 :\n",
      "Parameters with this testing accuracy 0.315789473684 and loss 2.35273565967 :\n",
      "{'alpha': 0.012068556865412527}\n",
      "Parameters with this training accuracy 0.943990665111 and loss 1.21364022494 :\n",
      "Parameters with this testing accuracy 0.357894736842 and loss 2.19624237819 :\n",
      "{'alpha': 0.7139192019857825}\n",
      "Parameters with this training accuracy 0.973162193699 and loss 0.515861097964 :\n",
      "Parameters with this testing accuracy 0.4 and loss 1.98678002852 :\n",
      "{'alpha': 0.2807036777082377}\n"
     ]
    },
    {
     "name": "stderr",
     "output_type": "stream",
     "text": [
      "Hyperopt:  39%|███▉      | 388/1000 [00:09<00:14, 41.46it/s]"
     ]
    },
    {
     "name": "stdout",
     "output_type": "stream",
     "text": [
      "Parameters with this training accuracy 0.913652275379 and loss 1.74480817324 :\n",
      "Parameters with this testing accuracy 0.357894736842 and loss 2.37654278773 :\n",
      "{'alpha': 1.4621492469394088}\n",
      "Parameters with this training accuracy 0.93698949825 and loss 1.3634184236 :\n",
      "Parameters with this testing accuracy 0.357894736842 and loss 2.24465849588 :\n",
      "{'alpha': 0.8640423888812225}\n",
      "Parameters with this training accuracy 0.95682613769 and loss 0.953301540689 :\n",
      "Parameters with this testing accuracy 0.378947368421 and loss 2.11581274067 :\n",
      "{'alpha': 0.5147460798929274}\n",
      "Parameters with this training accuracy 0.9008168028 and loss 1.86639832577 :\n",
      "Parameters with this testing accuracy 0.357894736842 and loss 2.42130922299 :\n",
      "{'alpha': 1.7662361841848966}\n",
      "Parameters with this training accuracy 0.927654609102 and loss 1.54891054473 :\n",
      "Parameters with this testing accuracy 0.357894736842 and loss 2.3071844654 :\n",
      "{'alpha': 1.1052084925500063}\n",
      "Parameters with this training accuracy 0.880980163361 and loss 2.188241421 :\n",
      "Parameters with this testing accuracy 0.347368421053 and loss 2.54487229754 :\n",
      "{'alpha': 3.2078999562519934}\n",
      "Parameters with this training accuracy 0.981330221704 and loss 0.208987209894 :\n",
      "Parameters with this testing accuracy 0.410526315789 and loss 1.8952754455 :\n",
      "{'alpha': 0.14501368250996352}\n",
      "Parameters with this training accuracy 0.922987164527 and loss 1.67086241691 :\n",
      "Parameters with this testing accuracy 0.357894736842 and loss 2.34995370858 :\n",
      "{'alpha': 1.311563019743716}\n",
      "Parameters with this training accuracy 0.97666277713 and loss 0.446549433146 :\n",
      "Parameters with this testing accuracy 0.4 and loss 1.96633040254 :\n",
      "{'alpha': 0.2497752775823926}\n"
     ]
    },
    {
     "name": "stderr",
     "output_type": "stream",
     "text": [
      "\r",
      "Hyperopt:  39%|███▉      | 393/1000 [00:09<00:14, 40.78it/s]"
     ]
    },
    {
     "name": "stdout",
     "output_type": "stream",
     "text": [
      "Parameters with this training accuracy 0.967327887981 and loss 0.673912337676 :\n",
      "Parameters with this testing accuracy 0.4 and loss 2.03308183733 :\n",
      "{'alpha': 0.35575487448756016}\n",
      "Parameters with this training accuracy 0.949824970828 and loss 1.14004682983 :\n",
      "Parameters with this testing accuracy 0.368421052632 and loss 2.17306623915 :\n",
      "{'alpha': 0.6508766913808555}\n",
      "Parameters with this training accuracy 0.870478413069 and loss 2.270975701 :\n",
      "Parameters with this testing accuracy 0.357894736842 and loss 2.57736844517 :\n",
      "{'alpha': 3.883775764222262}\n",
      "Parameters with this training accuracy 0.932322053676 and loss 1.44512695094 :\n",
      "Parameters with this testing accuracy 0.357894736842 and loss 2.27183522568 :\n",
      "{'alpha': 0.9613558607172354}\n",
      "Parameters with this training accuracy 0.890315052509 and loss 1.98411899076 :\n",
      "Parameters with this testing accuracy 0.357894736842 and loss 2.46578063767 :\n",
      "{'alpha': 2.1539909484039454}\n",
      "Parameters with this training accuracy 0.978996499417 and loss 0.271313097486 :\n",
      "Parameters with this testing accuracy 0.421052631579 and loss 1.91382121665 :\n",
      "{'alpha': 0.17326102475326785}\n",
      "Parameters with this training accuracy 0.990665110852 and loss 0.0524465695986 :\n",
      "Parameters with this testing accuracy 0.347368421053 and loss 1.89450901002 :\n",
      "{'alpha': 0.05488062519802067}\n",
      "Parameters with this training accuracy 0.94049008168 and loss 1.2874498824 :\n",
      "Parameters with this testing accuracy 0.357894736842 and loss 2.21988329757 :\n",
      "{'alpha': 0.7838460810071863}\n",
      "Parameters with this training accuracy 0.978996499417 and loss 0.395088318923 :\n",
      "Parameters with this testing accuracy 0.4 and loss 1.9510310716 :\n",
      "{'alpha': 0.22725955109590837}\n"
     ]
    },
    {
     "name": "stderr",
     "output_type": "stream",
     "text": [
      "Hyperopt:  40%|████      | 403/1000 [00:09<00:14, 39.99it/s]"
     ]
    },
    {
     "name": "stdout",
     "output_type": "stream",
     "text": [
      "Parameters with this training accuracy 0.997666277713 and loss 0.00963361544786 :\n",
      "Parameters with this testing accuracy 0.273684210526 and loss 4.03049626267 :\n",
      "{'alpha': 0.001190713946157912}\n",
      "Parameters with this training accuracy 0.883313885648 and loss 2.12866149356 :\n",
      "Parameters with this testing accuracy 0.357894736842 and loss 2.52159057486 :\n",
      "{'alpha': 2.8299738199789926}\n",
      "Parameters with this training accuracy 0.963827304551 and loss 0.829285834224 :\n",
      "Parameters with this testing accuracy 0.389473684211 and loss 2.07878266156 :\n",
      "{'alpha': 0.4389175567483135}\n",
      "Parameters with this training accuracy 0.926487747958 and loss 1.6052586407 :\n",
      "Parameters with this testing accuracy 0.357894736842 and loss 2.32677869824 :\n",
      "{'alpha': 1.194841475988295}\n",
      "Parameters with this training accuracy 0.978996499417 and loss 0.316773399609 :\n",
      "Parameters with this testing accuracy 0.410526315789 and loss 1.92753142673 :\n",
      "{'alpha': 0.19322281171286385}\n",
      "Parameters with this training accuracy 0.968494749125 and loss 0.662499877925 :\n",
      "Parameters with this testing accuracy 0.4 and loss 2.02974100105 :\n",
      "{'alpha': 0.35006137269222426}\n",
      "Parameters with this training accuracy 0.955659276546 and loss 1.0112901893 :\n",
      "Parameters with this testing accuracy 0.368421052632 and loss 2.13337489334 :\n",
      "{'alpha': 0.553838789702384}\n",
      "Parameters with this training accuracy 0.997666277713 and loss 0.0115492650589 :\n",
      "Parameters with this testing accuracy 0.315789473684 and loss 3.01451049502 :\n",
      "{'alpha': 0.004177198609988442}\n"
     ]
    },
    {
     "name": "stderr",
     "output_type": "stream",
     "text": [
      "Hyperopt:  41%|████▏     | 413/1000 [00:09<00:14, 40.59it/s]"
     ]
    },
    {
     "name": "stdout",
     "output_type": "stream",
     "text": [
      "Parameters with this training accuracy 0.987164527421 and loss 0.11132661499 :\n",
      "Parameters with this testing accuracy 0.368421052632 and loss 1.87227393668 :\n",
      "{'alpha': 0.09519242722612753}\n",
      "Parameters with this training accuracy 0.963827304551 and loss 0.8328461395 :\n",
      "Parameters with this testing accuracy 0.378947368421 and loss 2.07983726364 :\n",
      "{'alpha': 0.44096401065687924}\n",
      "Parameters with this training accuracy 0.997666277713 and loss 0.0136027814143 :\n",
      "Parameters with this testing accuracy 0.315789473684 and loss 2.56745605513 :\n",
      "{'alpha': 0.00818217999873963}\n",
      "Parameters with this training accuracy 0.981330221704 and loss 0.198485845293 :\n",
      "Parameters with this testing accuracy 0.410526315789 and loss 1.89224694355 :\n",
      "{'alpha': 0.14008345396836663}\n",
      "Parameters with this training accuracy 0.973162193699 and loss 0.549619629584 :\n",
      "Parameters with this testing accuracy 0.4 and loss 1.99669256083 :\n",
      "{'alpha': 0.2961277322310421}\n",
      "Parameters with this training accuracy 0.997666277713 and loss 0.00978087809259 :\n",
      "Parameters with this testing accuracy 0.273684210526 and loss 3.92172004221 :\n",
      "{'alpha': 0.0013491685604493375}\n",
      "Parameters with this training accuracy 0.955659276546 and loss 1.02795406731 :\n",
      "Parameters with this testing accuracy 0.368421052632 and loss 2.13845540764 :\n",
      "{'alpha': 0.5655621616383093}\n",
      "Parameters with this training accuracy 0.947491248541 and loss 1.18881270893 :\n",
      "Parameters with this testing accuracy 0.357894736842 and loss 2.18838093935 :\n",
      "{'alpha': 0.6919567780351396}\n",
      "Parameters with this training accuracy 0.966161026838 and loss 0.723332739255 :\n",
      "Parameters with this testing accuracy 0.4 and loss 2.04756500817 :\n",
      "{'alpha': 0.38100910517038467}\n"
     ]
    },
    {
     "name": "stderr",
     "output_type": "stream",
     "text": [
      "\r",
      "Hyperopt:  42%|████▏     | 418/1000 [00:09<00:14, 40.93it/s]"
     ]
    },
    {
     "name": "stdout",
     "output_type": "stream",
     "text": [
      "Parameters with this training accuracy 0.981330221704 and loss 0.190904620703 :\n",
      "Parameters with this testing accuracy 0.410526315789 and loss 1.89009405461 :\n",
      "{'alpha': 0.1364815574165772}\n",
      "Parameters with this training accuracy 0.961493582264 and loss 0.902891250415 :\n",
      "Parameters with this testing accuracy 0.378947368421 and loss 2.10068170998 :\n",
      "{'alpha': 0.48273833301827995}\n",
      "Parameters with this training accuracy 0.977829638273 and loss 0.417333423428 :\n",
      "Parameters with this testing accuracy 0.4 and loss 1.95765837431 :\n",
      "{'alpha': 0.2369599809017801}\n",
      "Parameters with this training accuracy 0.939323220537 and loss 1.32098207291 :\n",
      "Parameters with this testing accuracy 0.357894736842 and loss 2.2307620497 :\n",
      "{'alpha': 0.8181338827305529}\n",
      "Parameters with this training accuracy 0.950991831972 and loss 1.09413878866 :\n",
      "Parameters with this testing accuracy 0.368421052632 and loss 2.15879564337 :\n",
      "{'alpha': 0.614498836168107}\n",
      "Parameters with this training accuracy 0.973162193699 and loss 0.551079382729 :\n",
      "Parameters with this testing accuracy 0.4 and loss 1.9971206816 :\n",
      "{'alpha': 0.2968010112405127}\n",
      "Parameters with this training accuracy 0.978996499417 and loss 0.330195922894 :\n",
      "Parameters with this testing accuracy 0.410526315789 and loss 1.93157531549 :\n",
      "{'alpha': 0.1990677511784328}\n"
     ]
    },
    {
     "name": "stderr",
     "output_type": "stream",
     "text": [
      "Hyperopt:  43%|████▎     | 428/1000 [00:10<00:15, 37.38it/s]"
     ]
    },
    {
     "name": "stdout",
     "output_type": "stream",
     "text": [
      "Parameters with this training accuracy 0.966161026838 and loss 0.803901796661 :\n",
      "Parameters with this testing accuracy 0.389473684211 and loss 2.07127567448 :\n",
      "{'alpha': 0.42452768847208167}\n",
      "Parameters with this training accuracy 0.933488914819 and loss 1.41731193563 :\n",
      "Parameters with this testing accuracy 0.357894736842 and loss 2.26252052788 :\n",
      "{'alpha': 0.9268115214489517}\n",
      "Parameters with this training accuracy 0.987164527421 and loss 0.116981359009 :\n",
      "Parameters with this testing accuracy 0.389473684211 and loss 1.87294179004 :\n",
      "{'alpha': 0.09843542969612659}\n",
      "Parameters with this training accuracy 0.955659276546 and loss 0.994802456106 :\n",
      "Parameters with this testing accuracy 0.368421052632 and loss 2.12836331693 :\n",
      "{'alpha': 0.5424604691224233}\n",
      "Parameters with this training accuracy 0.943990665111 and loss 1.22017807812 :\n",
      "Parameters with this testing accuracy 0.357894736842 and loss 2.19831997561 :\n",
      "{'alpha': 0.7198269347453033}\n",
      "Parameters with this training accuracy 0.969661610268 and loss 0.656558493402 :\n",
      "Parameters with this testing accuracy 0.4 and loss 2.02800208091 :\n",
      "{'alpha': 0.34711667530176155}\n",
      "Parameters with this training accuracy 0.929988331389 and loss 1.49953499057 :\n",
      "Parameters with this testing accuracy 0.357894736842 and loss 2.29024865073 :\n",
      "{'alpha': 1.0336300702744292}\n",
      "Parameters with this training accuracy 0.989498249708 and loss 0.0799653377556 :\n",
      "Parameters with this testing accuracy 0.357894736842 and loss 1.87365240946 :\n",
      "{'alpha': 0.0756434045134608}\n"
     ]
    },
    {
     "name": "stderr",
     "output_type": "stream",
     "text": [
      "Hyperopt:  44%|████▎     | 437/1000 [00:10<00:15, 35.80it/s]"
     ]
    },
    {
     "name": "stdout",
     "output_type": "stream",
     "text": [
      "Parameters with this training accuracy 0.997666277713 and loss 0.0149887165441 :\n",
      "Parameters with this testing accuracy 0.315789473684 and loss 2.41240743327 :\n",
      "{'alpha': 0.010759879700710628}\n",
      "Parameters with this training accuracy 0.975495915986 and loss 0.476321948583 :\n",
      "Parameters with this testing accuracy 0.4 and loss 1.97513359245 :\n",
      "{'alpha': 0.2629552626274969}\n",
      "Parameters with this training accuracy 0.962660443407 and loss 0.898026642726 :\n",
      "Parameters with this testing accuracy 0.378947368421 and loss 2.09922766694 :\n",
      "{'alpha': 0.4797395157239968}\n",
      "Parameters with this training accuracy 0.978996499417 and loss 0.299713688085 :\n",
      "Parameters with this testing accuracy 0.421052631579 and loss 1.92238625338 :\n",
      "{'alpha': 0.18576867340534498}\n",
      "Parameters with this training accuracy 0.949824970828 and loss 1.12932831633 :\n",
      "Parameters with this testing accuracy 0.368421052632 and loss 2.16972194952 :\n",
      "{'alpha': 0.6421922453555303}\n",
      "Parameters with this training accuracy 0.938156359393 and loss 1.34636603382 :\n",
      "Parameters with this testing accuracy 0.357894736842 and loss 2.23905687125 :\n",
      "{'alpha': 0.8452420387453886}\n",
      "Parameters with this training accuracy 0.966161026838 and loss 0.696043418327 :\n",
      "Parameters with this testing accuracy 0.4 and loss 2.0395637415 :\n",
      "{'alpha': 0.3669401904500422}\n",
      "Parameters with this training accuracy 0.94049008168 and loss 1.2545692966 :\n",
      "Parameters with this testing accuracy 0.357894736842 and loss 2.20930093844 :\n",
      "{'alpha': 0.7517977988907512}\n"
     ]
    },
    {
     "name": "stderr",
     "output_type": "stream",
     "text": [
      "Hyperopt:  45%|████▍     | 446/1000 [00:10<00:14, 38.56it/s]"
     ]
    },
    {
     "name": "stdout",
     "output_type": "stream",
     "text": [
      "Parameters with this training accuracy 0.978996499417 and loss 0.320499062883 :\n",
      "Parameters with this testing accuracy 0.410526315789 and loss 1.92865436253 :\n",
      "{'alpha': 0.1948466250136268}\n",
      "Parameters with this training accuracy 0.95682613769 and loss 0.944304801516 :\n",
      "Parameters with this testing accuracy 0.378947368421 and loss 2.11310349924 :\n",
      "{'alpha': 0.5089050205167398}\n",
      "Parameters with this training accuracy 0.950991831972 and loss 1.07925262849 :\n",
      "Parameters with this testing accuracy 0.368421052632 and loss 2.15419741423 :\n",
      "{'alpha': 0.6031458572766121}\n",
      "Parameters with this training accuracy 0.989498249708 and loss 0.078596343445 :\n",
      "Parameters with this testing accuracy 0.357894736842 and loss 1.87403452865 :\n",
      "{'alpha': 0.07471166106744889}\n",
      "Parameters with this training accuracy 0.997666277713 and loss 0.0150234840449 :\n",
      "Parameters with this testing accuracy 0.315789473684 and loss 2.40930493184 :\n",
      "{'alpha': 0.010822664842878277}\n",
      "Parameters with this training accuracy 0.933488914819 and loss 1.42419375043 :\n",
      "Parameters with this testing accuracy 0.357894736842 and loss 2.2648189641 :\n",
      "{'alpha': 0.9352156305162579}\n",
      "Parameters with this training accuracy 0.966161026838 and loss 0.803120889333 :\n",
      "Parameters with this testing accuracy 0.389473684211 and loss 2.07104505204 :\n",
      "{'alpha': 0.4240904683240919}\n",
      "Parameters with this training accuracy 0.997666277713 and loss 0.0121339210662 :\n",
      "Parameters with this testing accuracy 0.305263157895 and loss 2.84444938996 :\n",
      "{'alpha': 0.005315543688162672}\n",
      "Parameters with this training accuracy 0.974329054842 and loss 0.507748595354 :\n",
      "Parameters with this testing accuracy 0.4 and loss 1.98439405734 :\n",
      "{'alpha': 0.277036257133196}\n"
     ]
    },
    {
     "name": "stderr",
     "output_type": "stream",
     "text": [
      "Hyperopt:  46%|████▌     | 455/1000 [00:10<00:13, 39.75it/s]"
     ]
    },
    {
     "name": "stdout",
     "output_type": "stream",
     "text": [
      "Parameters with this training accuracy 0.928821470245 and loss 1.53650302548 :\n",
      "Parameters with this testing accuracy 0.357894736842 and loss 2.30290827186 :\n",
      "{'alpha': 1.0866446489543002}\n",
      "Parameters with this training accuracy 0.947491248541 and loss 1.18811551186 :\n",
      "Parameters with this testing accuracy 0.357894736842 and loss 2.18816081592 :\n",
      "{'alpha': 0.691350587563856}\n",
      "Parameters with this training accuracy 0.969661610268 and loss 0.634325280627 :\n",
      "Parameters with this testing accuracy 0.4 and loss 2.02149612181 :\n",
      "{'alpha': 0.3362108018352318}\n",
      "Parameters with this training accuracy 0.859976662777 and loss 2.34721158373 :\n",
      "Parameters with this testing accuracy 0.336842105263 and loss 2.60740643498 :\n",
      "{'alpha': 4.7421344454408585}\n",
      "Parameters with this training accuracy 0.869311551925 and loss 2.29770458051 :\n",
      "Parameters with this testing accuracy 0.347368421053 and loss 2.58789377642 :\n",
      "{'alpha': 4.15305903749076}\n",
      "Parameters with this training accuracy 0.978996499417 and loss 0.217114290791 :\n",
      "Parameters with this testing accuracy 0.410526315789 and loss 1.89764845784 :\n",
      "{'alpha': 0.1487871810449453}\n",
      "Parameters with this training accuracy 0.939323220537 and loss 1.31077551168 :\n",
      "Parameters with this testing accuracy 0.357894736842 and loss 2.2274413624 :\n",
      "{'alpha': 0.8075186937709917}\n",
      "Parameters with this training accuracy 0.955659276546 and loss 1.01744032963 :\n",
      "Parameters with this testing accuracy 0.368421052632 and loss 2.13524813272 :\n",
      "{'alpha': 0.5581389746805431}\n",
      "Parameters with this training accuracy 0.962660443407 and loss 0.88460535685 :\n",
      "Parameters with this testing accuracy 0.378947368421 and loss 2.09522124182 :\n",
      "{'alpha': 0.4715441585288172}\n"
     ]
    },
    {
     "name": "stderr",
     "output_type": "stream",
     "text": [
      "\r",
      "Hyperopt:  46%|████▌     | 460/1000 [00:10<00:13, 39.52it/s]"
     ]
    },
    {
     "name": "stdout",
     "output_type": "stream",
     "text": [
      "Parameters with this training accuracy 0.929988331389 and loss 1.475576588 :\n",
      "Parameters with this testing accuracy 0.357894736842 and loss 2.28210856148 :\n",
      "{'alpha': 1.001001537192933}\n",
      "Parameters with this training accuracy 0.981330221704 and loss 0.20970410757 :\n",
      "Parameters with this testing accuracy 0.410526315789 and loss 1.89548384833 :\n",
      "{'alpha': 0.14534795054169775}\n",
      "Parameters with this training accuracy 0.970828471412 and loss 0.599578089241 :\n",
      "Parameters with this testing accuracy 0.4 and loss 2.011328057 :\n",
      "{'alpha': 0.31950402936989863}\n",
      "Parameters with this training accuracy 0.949824970828 and loss 1.12120990425 :\n",
      "Parameters with this testing accuracy 0.368421052632 and loss 2.16719401253 :\n",
      "{'alpha': 0.6356933656422112}\n",
      "Parameters with this training accuracy 0.997666277713 and loss 0.0113854587499 :\n",
      "Parameters with this testing accuracy 0.315789473684 and loss 3.07122562081 :\n",
      "{'alpha': 0.0038659265317827207}\n",
      "Parameters with this training accuracy 0.926487747958 and loss 1.60259282837 :\n",
      "Parameters with this testing accuracy 0.357894736842 and loss 2.32584523854 :\n",
      "{'alpha': 1.19039287994278}\n",
      "Parameters with this training accuracy 0.978996499417 and loss 0.287698433233 :\n",
      "Parameters with this testing accuracy 0.410526315789 and loss 1.91876125805 :\n",
      "{'alpha': 0.18049499044345965}\n",
      "Parameters with this training accuracy 0.94049008168 and loss 1.26106307639 :\n",
      "Parameters with this testing accuracy 0.357894736842 and loss 2.21138434779 :\n",
      "{'alpha': 0.7580090383791384}\n",
      "Parameters with this training accuracy 0.934655775963 and loss 1.40960192285 :\n",
      "Parameters with this testing accuracy 0.357894736842 and loss 2.25995025516 :\n",
      "{'alpha': 0.917504362584495}\n"
     ]
    },
    {
     "name": "stderr",
     "output_type": "stream",
     "text": [
      "Hyperopt:  47%|████▋     | 470/1000 [00:11<00:13, 39.86it/s]"
     ]
    },
    {
     "name": "stdout",
     "output_type": "stream",
     "text": [
      "Parameters with this training accuracy 0.921820303384 and loss 1.6878737575 :\n",
      "Parameters with this testing accuracy 0.357894736842 and loss 2.35602687084 :\n",
      "{'alpha': 1.3442833977209385}\n",
      "Parameters with this training accuracy 0.894982497083 and loss 1.94187557096 :\n",
      "Parameters with this testing accuracy 0.357894736842 and loss 2.44970585067 :\n",
      "{'alpha': 2.0017949210497012}\n",
      "Parameters with this training accuracy 0.966161026838 and loss 0.774741396807 :\n",
      "Parameters with this testing accuracy 0.389473684211 and loss 2.06267569945 :\n",
      "{'alpha': 0.40841386589453277}\n",
      "Parameters with this training accuracy 0.97666277713 and loss 0.455313180676 :\n",
      "Parameters with this testing accuracy 0.4 and loss 1.96892504847 :\n",
      "{'alpha': 0.2536407255617428}\n",
      "Parameters with this training accuracy 0.95682613769 and loss 0.969787054002 :\n",
      "Parameters with this testing accuracy 0.378947368421 and loss 2.12078758384 :\n",
      "{'alpha': 0.5256009325825955}\n",
      "Parameters with this training accuracy 0.997666277713 and loss 0.012263497483 :\n",
      "Parameters with this testing accuracy 0.305263157895 and loss 2.81257374481 :\n",
      "{'alpha': 0.005570624458405032}\n",
      "Parameters with this training accuracy 0.966161026838 and loss 0.723299388589 :\n",
      "Parameters with this testing accuracy 0.4 and loss 2.04755522259 :\n",
      "{'alpha': 0.3809917171471695}\n",
      "Parameters with this training accuracy 0.987164527421 and loss 0.102917427682 :\n",
      "Parameters with this testing accuracy 0.368421052632 and loss 1.87165386545 :\n",
      "{'alpha': 0.09023407366093011}\n"
     ]
    },
    {
     "name": "stderr",
     "output_type": "stream",
     "text": [
      "Hyperopt:  48%|████▊     | 478/1000 [00:11<00:13, 39.61it/s]"
     ]
    },
    {
     "name": "stdout",
     "output_type": "stream",
     "text": [
      "Parameters with this training accuracy 0.978996499417 and loss 0.312252651787 :\n",
      "Parameters with this testing accuracy 0.421052631579 and loss 1.92616843311 :\n",
      "{'alpha': 0.19125069760744673}\n",
      "Parameters with this training accuracy 0.947491248541 and loss 1.17380746257 :\n",
      "Parameters with this testing accuracy 0.357894736842 and loss 2.18365098835 :\n",
      "{'alpha': 0.6790339688285645}\n",
      "Parameters with this training accuracy 0.939323220537 and loss 1.31767635463 :\n",
      "Parameters with this testing accuracy 0.357894736842 and loss 2.22968563222 :\n",
      "{'alpha': 0.8146783187528199}\n",
      "Parameters with this training accuracy 0.926487747958 and loss 1.55653874202 :\n",
      "Parameters with this testing accuracy 0.357894736842 and loss 2.30982032994 :\n",
      "{'alpha': 1.1168231394142087}\n",
      "Parameters with this training accuracy 0.880980163361 and loss 2.20618082465 :\n",
      "Parameters with this testing accuracy 0.347368421053 and loss 2.55190473972 :\n",
      "{'alpha': 3.337493022944126}\n",
      "Parameters with this training accuracy 0.974329054842 and loss 0.497200382802 :\n",
      "Parameters with this testing accuracy 0.4 and loss 1.9812890842 :\n",
      "{'alpha': 0.2722884828422428}\n",
      "Parameters with this training accuracy 0.955659276546 and loss 1.00567261466 :\n",
      "Parameters with this testing accuracy 0.368421052632 and loss 2.1316657084 :\n",
      "{'alpha': 0.5499377232848324}\n",
      "Parameters with this training accuracy 0.93698949825 and loss 1.37908010786 :\n",
      "Parameters with this testing accuracy 0.357894736842 and loss 2.24982432465 :\n",
      "{'alpha': 0.8817455191266241}\n"
     ]
    },
    {
     "name": "stderr",
     "output_type": "stream",
     "text": [
      "Hyperopt:  49%|████▊     | 486/1000 [00:11<00:13, 39.14it/s]"
     ]
    },
    {
     "name": "stdout",
     "output_type": "stream",
     "text": [
      "Parameters with this training accuracy 0.966161026838 and loss 0.803017370427 :\n",
      "Parameters with this testing accuracy 0.389473684211 and loss 2.07101448157 :\n",
      "{'alpha': 0.42403253342184366}\n",
      "Parameters with this training accuracy 0.997666277713 and loss 0.0143139410338 :\n",
      "Parameters with this testing accuracy 0.326315789474 and loss 2.47938146346 :\n",
      "{'alpha': 0.009523204163749466}\n",
      "Parameters with this training accuracy 0.997666277713 and loss 0.00991883467146 :\n",
      "Parameters with this testing accuracy 0.273684210526 and loss 3.82464659742 :\n",
      "{'alpha': 0.0015103570765965801}\n",
      "Parameters with this training accuracy 0.925320886814 and loss 1.64267416092 :\n",
      "Parameters with this testing accuracy 0.357894736842 and loss 2.33994811727 :\n",
      "{'alpha': 1.2596435095508327}\n",
      "Parameters with this training accuracy 0.906651108518 and loss 1.81914781376 :\n",
      "Parameters with this testing accuracy 0.357894736842 and loss 2.40376294113 :\n",
      "{'alpha': 1.6384292321115537}\n",
      "Parameters with this training accuracy 0.865810968495 and loss 2.31184931961 :\n",
      "Parameters with this testing accuracy 0.347368421053 and loss 2.59346698403 :\n",
      "{'alpha': 4.308331674815852}\n",
      "Parameters with this training accuracy 0.982497082847 and loss 0.174641027803 :\n",
      "Parameters with this testing accuracy 0.4 and loss 1.88560443834 :\n",
      "{'alpha': 0.1286144621705853}\n",
      "Parameters with this training accuracy 0.914819136523 and loss 1.73657753418 :\n",
      "Parameters with this testing accuracy 0.357894736842 and loss 2.37355895324 :\n",
      "{'alpha': 1.4442639733393263}\n",
      "Parameters with this training accuracy 0.97666277713 and loss 0.435898985898 :\n",
      "Parameters with this testing accuracy 0.4 and loss 1.96317313904 :\n",
      "{'alpha': 0.24509177184259096}\n"
     ]
    },
    {
     "name": "stderr",
     "output_type": "stream",
     "text": [
      "Hyperopt:  50%|████▉     | 495/1000 [00:11<00:12, 39.43it/s]"
     ]
    },
    {
     "name": "stdout",
     "output_type": "stream",
     "text": [
      "Parameters with this training accuracy 0.949824970828 and loss 1.12788020678 :\n",
      "Parameters with this testing accuracy 0.368421052632 and loss 2.16927071244 :\n",
      "{'alpha': 0.6410280762119701}\n",
      "Parameters with this training accuracy 0.929988331389 and loss 1.470015483 :\n",
      "Parameters with this testing accuracy 0.357894736842 and loss 2.28022630575 :\n",
      "{'alpha': 0.9936122013363224}\n",
      "Parameters with this training accuracy 0.95682613769 and loss 0.94043003632 :\n",
      "Parameters with this testing accuracy 0.378947368421 and loss 2.1119378828 :\n",
      "{'alpha': 0.5064070218517038}\n",
      "Parameters with this training accuracy 0.941656942824 and loss 1.24365511908 :\n",
      "Parameters with this testing accuracy 0.357894736842 and loss 2.20580651345 :\n",
      "{'alpha': 0.7414854375051163}\n",
      "Parameters with this training accuracy 0.971995332555 and loss 0.577117271076 :\n",
      "Parameters with this testing accuracy 0.4 and loss 2.00475170049 :\n",
      "{'alpha': 0.30890632988392863}\n",
      "Parameters with this training accuracy 0.997666277713 and loss 0.0111834752784 :\n",
      "Parameters with this testing accuracy 0.305263157895 and loss 3.14758731814 :\n",
      "{'alpha': 0.003489996468521994}\n",
      "Parameters with this training accuracy 0.985997666278 and loss 0.132655651043 :\n",
      "Parameters with this testing accuracy 0.389473684211 and loss 1.87555421642 :\n",
      "{'alpha': 0.10710166965877957}\n",
      "Parameters with this training accuracy 0.966161026838 and loss 0.784284526675 :\n",
      "Parameters with this testing accuracy 0.389473684211 and loss 2.06548756305 :\n",
      "{'alpha': 0.41363987490135723}\n"
     ]
    },
    {
     "name": "stderr",
     "output_type": "stream",
     "text": [
      "Hyperopt:  50%|█████     | 505/1000 [00:12<00:12, 38.82it/s]"
     ]
    },
    {
     "name": "stdout",
     "output_type": "stream",
     "text": [
      "Parameters with this training accuracy 0.978996499417 and loss 0.31851182565 :\n",
      "Parameters with this testing accuracy 0.410526315789 and loss 1.92805543939 :\n",
      "{'alpha': 0.19398065138726828}\n",
      "Parameters with this training accuracy 0.952158693116 and loss 1.06850299207 :\n",
      "Parameters with this testing accuracy 0.368421052632 and loss 2.15088552032 :\n",
      "{'alpha': 0.5950760046919115}\n",
      "Parameters with this training accuracy 0.886814469078 and loss 2.04501830834 :\n",
      "Parameters with this testing accuracy 0.357894736842 and loss 2.48915698616 :\n",
      "{'alpha': 2.4053816265033117}\n",
      "Parameters with this training accuracy 0.93698949825 and loss 1.37574945268 :\n",
      "Parameters with this testing accuracy 0.357894736842 and loss 2.24872404848 :\n",
      "{'alpha': 0.8779449921073808}\n",
      "Parameters with this training accuracy 0.968494749125 and loss 0.663915054279 :\n",
      "Parameters with this testing accuracy 0.4 and loss 2.03015522447 :\n",
      "{'alpha': 0.35076470712594154}\n",
      "Parameters with this training accuracy 0.928821470245 and loss 1.51604223797 :\n",
      "Parameters with this testing accuracy 0.357894736842 and loss 2.29588654267 :\n",
      "{'alpha': 1.0568890959335608}\n",
      "Parameters with this training accuracy 0.962660443407 and loss 0.890934679477 :\n",
      "Parameters with this testing accuracy 0.378947368421 and loss 2.09710968012 :\n",
      "{'alpha': 0.47539479510432436}\n",
      "Parameters with this training accuracy 0.942823803967 and loss 1.23114560618 :\n",
      "Parameters with this testing accuracy 0.357894736842 and loss 2.20181229296 :\n",
      "{'alpha': 0.7298573538512155}\n"
     ]
    },
    {
     "name": "stderr",
     "output_type": "stream",
     "text": [
      "\r",
      "Hyperopt:  51%|█████     | 510/1000 [00:12<00:12, 39.86it/s]"
     ]
    },
    {
     "name": "stdout",
     "output_type": "stream",
     "text": [
      "Parameters with this training accuracy 0.974329054842 and loss 0.490516856555 :\n",
      "Parameters with this testing accuracy 0.4 and loss 1.97932007372 :\n",
      "{'alpha': 0.26929180137002784}\n",
      "Parameters with this training accuracy 0.898483080513 and loss 1.91037307756 :\n",
      "Parameters with this testing accuracy 0.357894736842 and loss 2.43780093484 :\n",
      "{'alpha': 1.8982886472566811}\n",
      "Parameters with this training accuracy 0.856476079347 and loss 2.36539681694 :\n",
      "Parameters with this testing accuracy 0.336842105263 and loss 2.61457659757 :\n",
      "{'alpha': 4.994822583951991}\n",
      "Parameters with this training accuracy 0.987164527421 and loss 0.10601628345 :\n",
      "Parameters with this testing accuracy 0.368421052632 and loss 1.8718235579 :\n",
      "{'alpha': 0.09208143749309937}\n",
      "Parameters with this training accuracy 0.952158693116 and loss 1.06558579804 :\n",
      "Parameters with this testing accuracy 0.368421052632 and loss 2.14998797756 :\n",
      "{'alpha': 0.5929042562568119}\n",
      "Parameters with this training accuracy 0.911318553092 and loss 1.775536357 :\n",
      "Parameters with this testing accuracy 0.357894736842 and loss 2.38773569358 :\n",
      "{'alpha': 1.5316710977244037}\n",
      "Parameters with this training accuracy 0.926487747958 and loss 1.57923265515 :\n",
      "Parameters with this testing accuracy 0.357894736842 and loss 2.31769295538 :\n",
      "{'alpha': 1.152317301957077}\n",
      "Parameters with this training accuracy 0.938156359393 and loss 1.33197987173 :\n",
      "Parameters with this testing accuracy 0.357894736842 and loss 2.23434947558 :\n",
      "{'alpha': 0.8297527726421025}\n",
      "Parameters with this training accuracy 0.978996499417 and loss 0.34221716608 :\n",
      "Parameters with this testing accuracy 0.410526315789 and loss 1.93519228802 :\n",
      "{'alpha': 0.20429286106269132}\n"
     ]
    },
    {
     "name": "stderr",
     "output_type": "stream",
     "text": [
      "Hyperopt:  52%|█████▏    | 520/1000 [00:12<00:11, 40.23it/s]"
     ]
    },
    {
     "name": "stdout",
     "output_type": "stream",
     "text": [
      "Parameters with this training accuracy 0.886814469078 and loss 2.00664379785 :\n",
      "Parameters with this testing accuracy 0.357894736842 and loss 2.47440045131 :\n",
      "{'alpha': 2.242201884303151}\n",
      "Parameters with this training accuracy 0.880980163361 and loss 2.17398964729 :\n",
      "Parameters with this testing accuracy 0.357894736842 and loss 2.5392921941 :\n",
      "{'alpha': 3.110553540980641}\n",
      "Parameters with this training accuracy 0.966161026838 and loss 0.716029692595 :\n",
      "Parameters with this testing accuracy 0.4 and loss 2.04542263256 :\n",
      "{'alpha': 0.3772130468559952}\n",
      "Parameters with this training accuracy 0.95682613769 and loss 0.962548461865 :\n",
      "Parameters with this testing accuracy 0.378947368421 and loss 2.11860149972 :\n",
      "{'alpha': 0.520810213229269}\n",
      "Parameters with this training accuracy 0.988331388565 and loss 0.0965221290015 :\n",
      "Parameters with this testing accuracy 0.368421052632 and loss 1.87156357578 :\n",
      "{'alpha': 0.08633976402762875}\n",
      "Parameters with this training accuracy 0.859976662777 and loss 2.3309114767 :\n",
      "Parameters with this testing accuracy 0.336842105263 and loss 2.60098026125 :\n",
      "{'alpha': 4.533468230209067}\n",
      "Parameters with this training accuracy 0.997666277713 and loss 0.0155378628304 :\n",
      "Parameters with this testing accuracy 0.315789473684 and loss 2.36673603325 :\n",
      "{'alpha': 0.011741187529785202}\n",
      "Parameters with this training accuracy 0.932322053676 and loss 1.44859671674 :\n",
      "Parameters with this testing accuracy 0.357894736842 and loss 2.2730018329 :\n",
      "{'alpha': 0.9657746199874727}\n",
      "Parameters with this training accuracy 0.947491248541 and loss 1.16257026955 :\n",
      "Parameters with this testing accuracy 0.357894736842 and loss 2.18011914579 :\n",
      "{'alpha': 0.6695232846598699}\n"
     ]
    },
    {
     "name": "stderr",
     "output_type": "stream",
     "text": [
      "Hyperopt:  53%|█████▎    | 530/1000 [00:12<00:11, 40.47it/s]"
     ]
    },
    {
     "name": "stdout",
     "output_type": "stream",
     "text": [
      "Parameters with this training accuracy 0.997666277713 and loss 0.0127680306674 :\n",
      "Parameters with this testing accuracy 0.315789473684 and loss 2.7043341114 :\n",
      "{'alpha': 0.006563459000982513}\n",
      "Parameters with this training accuracy 0.922987164527 and loss 1.65913038459 :\n",
      "Parameters with this testing accuracy 0.357894736842 and loss 2.34578058751 :\n",
      "{'alpha': 1.2896146542238758}\n",
      "Parameters with this training accuracy 0.973162193699 and loss 0.562159817221 :\n",
      "Parameters with this testing accuracy 0.4 and loss 2.0003692507 :\n",
      "{'alpha': 0.3019298674990441}\n",
      "Parameters with this training accuracy 0.94049008168 and loss 1.29552614347 :\n",
      "Parameters with this testing accuracy 0.357894736842 and loss 2.22249536777 :\n",
      "{'alpha': 0.7919517842392321}\n",
      "Parameters with this training accuracy 0.966161026838 and loss 0.788490051228 :\n",
      "Parameters with this testing accuracy 0.389473684211 and loss 2.06672749034 :\n",
      "{'alpha': 0.41595739310929475}\n",
      "Parameters with this training accuracy 0.997666277713 and loss 0.0108294714926 :\n",
      "Parameters with this testing accuracy 0.305263157895 and loss 3.30052663391 :\n",
      "{'alpha': 0.002860236315930381}\n",
      "Parameters with this training accuracy 0.953325554259 and loss 1.03819271676 :\n",
      "Parameters with this testing accuracy 0.368421052632 and loss 2.1415848632 :\n",
      "{'alpha': 0.5728800144890904}\n",
      "Parameters with this training accuracy 0.87747957993 and loss 2.23047878229 :\n",
      "Parameters with this testing accuracy 0.357894736842 and loss 2.56144316568 :\n",
      "{'alpha': 3.526872175742178}\n",
      "Parameters with this training accuracy 0.978996499417 and loss 0.314128203272 :\n",
      "Parameters with this testing accuracy 0.421052631579 and loss 1.92673395788 :\n",
      "{'alpha': 0.19206912969591966}\n"
     ]
    },
    {
     "name": "stderr",
     "output_type": "stream",
     "text": [
      "Hyperopt:  54%|█████▍    | 540/1000 [00:12<00:11, 40.35it/s]"
     ]
    },
    {
     "name": "stdout",
     "output_type": "stream",
     "text": [
      "Parameters with this training accuracy 0.945157526254 and loss 1.19611612826 :\n",
      "Parameters with this testing accuracy 0.357894736842 and loss 2.19068890493 :\n",
      "{'alpha': 0.6983410817034792}\n",
      "Parameters with this training accuracy 0.880980163361 and loss 2.14767947188 :\n",
      "Parameters with this testing accuracy 0.357894736842 and loss 2.52900835561 :\n",
      "{'alpha': 2.9426644613178654}\n",
      "Parameters with this training accuracy 0.933488914819 and loss 1.418314769 :\n",
      "Parameters with this testing accuracy 0.357894736842 and loss 2.26285521072 :\n",
      "{'alpha': 0.9280304706153646}\n",
      "Parameters with this training accuracy 0.978996499417 and loss 0.392991042249 :\n",
      "Parameters with this testing accuracy 0.4 and loss 1.9504051163 :\n",
      "{'alpha': 0.22634685876393895}\n",
      "Parameters with this training accuracy 0.962660443407 and loss 0.841977007566 :\n",
      "Parameters with this testing accuracy 0.378947368421 and loss 2.08254393318 :\n",
      "{'alpha': 0.44624495505491363}\n",
      "Parameters with this training accuracy 0.970828471412 and loss 0.612825233891 :\n",
      "Parameters with this testing accuracy 0.4 and loss 2.01520502124 :\n",
      "{'alpha': 0.3258269454429446}\n",
      "Parameters with this training accuracy 0.9008168028 and loss 1.86645265337 :\n",
      "Parameters with this testing accuracy 0.357894736842 and loss 2.42132950289 :\n",
      "{'alpha': 1.7663911258108824}\n",
      "Parameters with this training accuracy 0.981330221704 and loss 0.196487587316 :\n",
      "Parameters with this testing accuracy 0.410526315789 and loss 1.89167645342 :\n",
      "{'alpha': 0.1391377250561227}\n",
      "Parameters with this training accuracy 0.883313885648 and loss 2.08469300318 :\n",
      "Parameters with this testing accuracy 0.357894736842 and loss 2.50449925167 :\n",
      "{'alpha': 2.5936679270079135}\n"
     ]
    },
    {
     "name": "stderr",
     "output_type": "stream",
     "text": [
      "Hyperopt:  55%|█████▌    | 550/1000 [00:13<00:11, 40.42it/s]"
     ]
    },
    {
     "name": "stdout",
     "output_type": "stream",
     "text": [
      "Parameters with this training accuracy 0.925320886814 and loss 1.60596835001 :\n",
      "Parameters with this testing accuracy 0.357894736842 and loss 2.32702731827 :\n",
      "{'alpha': 1.1960294659669726}\n",
      "Parameters with this training accuracy 0.957992998833 and loss 0.932858483837 :\n",
      "Parameters with this testing accuracy 0.378947368421 and loss 2.10966226633 :\n",
      "{'alpha': 0.5015560285585584}\n",
      "Parameters with this training accuracy 0.928821470245 and loss 1.51209815867 :\n",
      "Parameters with this testing accuracy 0.357894736842 and loss 2.29453728909 :\n",
      "{'alpha': 1.0512723674274584}\n",
      "Parameters with this training accuracy 0.915985997666 and loss 1.71474432621 :\n",
      "Parameters with this testing accuracy 0.357894736842 and loss 2.36567317139 :\n",
      "{'alpha': 1.3982409585513036}\n",
      "Parameters with this training accuracy 0.985997666278 and loss 0.136211316672 :\n",
      "Parameters with this testing accuracy 0.389473684211 and loss 1.87626627066 :\n",
      "{'alpha': 0.1090100226757762}\n",
      "Parameters with this training accuracy 0.978996499417 and loss 0.337366787631 :\n",
      "Parameters with this testing accuracy 0.410526315789 and loss 1.93373350087 :\n",
      "{'alpha': 0.20218543559785898}\n",
      "Parameters with this training accuracy 0.950991831972 and loss 1.11141125174 :\n",
      "Parameters with this testing accuracy 0.368421052632 and loss 2.16414865506 :\n",
      "{'alpha': 0.6279382348027621}\n",
      "Parameters with this training accuracy 0.94049008168 and loss 1.29075523758 :\n",
      "Parameters with this testing accuracy 0.357894736842 and loss 2.2209517187 :\n",
      "{'alpha': 0.787152041689388}\n",
      "Parameters with this training accuracy 0.935822637106 and loss 1.39055887568 :\n",
      "Parameters with this testing accuracy 0.357894736842 and loss 2.25362338039 :\n",
      "{'alpha': 0.894994626284715}\n"
     ]
    },
    {
     "name": "stderr",
     "output_type": "stream",
     "text": [
      "\r",
      "Hyperopt:  56%|█████▌    | 555/1000 [00:13<00:11, 39.74it/s]"
     ]
    },
    {
     "name": "stdout",
     "output_type": "stream",
     "text": [
      "Parameters with this training accuracy 0.997666277713 and loss 0.0124852622667 :\n",
      "Parameters with this testing accuracy 0.315789473684 and loss 2.76209564033 :\n",
      "{'alpha': 0.006007515626038212}\n",
      "Parameters with this training accuracy 0.966161026838 and loss 0.684829999349 :\n",
      "Parameters with this testing accuracy 0.4 and loss 2.03627884138 :\n",
      "{'alpha': 0.36124850154656174}\n",
      "Parameters with this training accuracy 0.908984830805 and loss 1.80779382232 :\n",
      "Parameters with this testing accuracy 0.357894736842 and loss 2.39957457574 :\n",
      "{'alpha': 1.6096622443842623}\n",
      "Parameters with this training accuracy 0.997666277713 and loss 0.00960881269817 :\n",
      "Parameters with this testing accuracy 0.273684210526 and loss 4.04933614779 :\n",
      "{'alpha': 0.0011654024764401194}\n",
      "Parameters with this training accuracy 0.975495915986 and loss 0.470405995457 :\n",
      "Parameters with this testing accuracy 0.4 and loss 1.97338686529 :\n",
      "{'alpha': 0.2603250194302822}\n",
      "Parameters with this training accuracy 0.962660443407 and loss 0.893841325556 :\n",
      "Parameters with this testing accuracy 0.378947368421 and loss 2.09797747994 :\n",
      "{'alpha': 0.47717160914474066}\n",
      "Parameters with this training accuracy 0.947491248541 and loss 1.18283120786 :\n",
      "Parameters with this testing accuracy 0.357894736842 and loss 2.18649354473 :\n",
      "{'alpha': 0.6867743916634488}\n",
      "Parameters with this training accuracy 0.875145857643 and loss 2.24513576462 :\n",
      "Parameters with this testing accuracy 0.357894736842 and loss 2.56720339581 :\n",
      "{'alpha': 3.6496483675118956}\n",
      "Parameters with this training accuracy 0.929988331389 and loss 1.49582176965 :\n",
      "Parameters with this testing accuracy 0.357894736842 and loss 2.28898374931 :\n",
      "{'alpha': 1.0284869647549053}\n"
     ]
    },
    {
     "name": "stderr",
     "output_type": "stream",
     "text": [
      "Hyperopt:  56%|█████▋    | 565/1000 [00:13<00:10, 39.88it/s]"
     ]
    },
    {
     "name": "stdout",
     "output_type": "stream",
     "text": [
      "Parameters with this training accuracy 0.955659276546 and loss 1.02309448461 :\n",
      "Parameters with this testing accuracy 0.368421052632 and loss 2.13697218282 :\n",
      "{'alpha': 0.5621196929315903}\n",
      "Parameters with this training accuracy 0.872812135356 and loss 2.26667348599 :\n",
      "Parameters with this testing accuracy 0.357894736842 and loss 2.5756752379 :\n",
      "{'alpha': 3.8431174202360996}\n",
      "Parameters with this training accuracy 0.982497082847 and loss 0.160569159064 :\n",
      "Parameters with this testing accuracy 0.4 and loss 1.88191930217 :\n",
      "{'alpha': 0.12162492336299073}\n",
      "Parameters with this training accuracy 0.966161026838 and loss 0.741292405597 :\n",
      "Parameters with this testing accuracy 0.4 and loss 2.05283759398 :\n",
      "{'alpha': 0.39044433827986624}\n",
      "Parameters with this training accuracy 0.926487747958 and loss 1.56356673884 :\n",
      "Parameters with this testing accuracy 0.357894736842 and loss 2.31225342221 :\n",
      "{'alpha': 1.1276628479387902}\n",
      "Parameters with this training accuracy 0.941656942824 and loss 1.23409439364 :\n",
      "Parameters with this testing accuracy 0.357894736842 and loss 2.20275277428 :\n",
      "{'alpha': 0.73258019666197}\n",
      "Parameters with this training accuracy 0.862310385064 and loss 2.32167645795 :\n",
      "Parameters with this testing accuracy 0.347368421053 and loss 2.59734000769 :\n",
      "{'alpha': 4.421998008564888}\n",
      "Parameters with this training accuracy 0.970828471412 and loss 0.626353820743 :\n",
      "Parameters with this testing accuracy 0.4 and loss 2.01916367639 :\n",
      "{'alpha': 0.3323427615914212}\n"
     ]
    },
    {
     "name": "stderr",
     "output_type": "stream",
     "text": [
      "Hyperopt:  57%|█████▊    | 575/1000 [00:13<00:10, 39.59it/s]"
     ]
    },
    {
     "name": "stdout",
     "output_type": "stream",
     "text": [
      "Parameters with this training accuracy 0.883313885648 and loss 2.11420385895 :\n",
      "Parameters with this testing accuracy 0.357894736842 and loss 2.5159612434 :\n",
      "{'alpha': 2.7487290724127527}\n",
      "Parameters with this training accuracy 0.997666277713 and loss 0.0126838860171 :\n",
      "Parameters with this testing accuracy 0.315789473684 and loss 2.72081053662 :\n",
      "{'alpha': 0.00639826925221601}\n",
      "Parameters with this training accuracy 0.922987164527 and loss 1.65797368362 :\n",
      "Parameters with this testing accuracy 0.357894736842 and loss 2.34536982202 :\n",
      "{'alpha': 1.2874772548463171}\n",
      "Parameters with this training accuracy 0.938156359393 and loss 1.34110954053 :\n",
      "Parameters with this testing accuracy 0.357894736842 and loss 2.23733491651 :\n",
      "{'alpha': 0.8395437170137168}\n",
      "Parameters with this training accuracy 0.978996499417 and loss 0.333488026353 :\n",
      "Parameters with this testing accuracy 0.410526315789 and loss 1.93256633891 :\n",
      "{'alpha': 0.20049940569914826}\n",
      "Parameters with this training accuracy 0.890315052509 and loss 1.97356115722 :\n",
      "Parameters with this testing accuracy 0.357894736842 and loss 2.46175168871 :\n",
      "{'alpha': 2.1144010259998463}\n",
      "Parameters with this training accuracy 0.952158693116 and loss 1.07282596168 :\n",
      "Parameters with this testing accuracy 0.368421052632 and loss 2.15221654211 :\n",
      "{'alpha': 0.5983085417746925}\n",
      "Parameters with this training accuracy 0.962660443407 and loss 0.864443758361 :\n",
      "Parameters with this testing accuracy 0.378947368421 and loss 2.08921662394 :\n",
      "{'alpha': 0.4594432970890443}\n"
     ]
    },
    {
     "name": "stderr",
     "output_type": "stream",
     "text": [
      "\r",
      "Hyperopt:  58%|█████▊    | 580/1000 [00:13<00:10, 40.13it/s]"
     ]
    },
    {
     "name": "stdout",
     "output_type": "stream",
     "text": [
      "Parameters with this training accuracy 0.982497082847 and loss 0.167995682951 :\n",
      "Parameters with this testing accuracy 0.4 and loss 1.88383617162 :\n",
      "{'alpha': 0.12533703677210845}\n",
      "Parameters with this training accuracy 0.973162193699 and loss 0.516037661358 :\n",
      "Parameters with this testing accuracy 0.4 and loss 1.98683193907 :\n",
      "{'alpha': 0.28078365629236}\n",
      "Parameters with this training accuracy 0.973162193699 and loss 0.535272344964 :\n",
      "Parameters with this testing accuracy 0.4 and loss 1.99248267128 :\n",
      "{'alpha': 0.28953906731117723}\n",
      "Parameters with this training accuracy 0.978996499417 and loss 0.309568017776 :\n",
      "Parameters with this testing accuracy 0.421052631579 and loss 1.92535883736 :\n",
      "{'alpha': 0.1900785557539329}\n",
      "Parameters with this training accuracy 0.989498249708 and loss 0.0813671557745 :\n",
      "Parameters with this testing accuracy 0.357894736842 and loss 1.87330195908 :\n",
      "{'alpha': 0.07658910571738486}\n",
      "Parameters with this training accuracy 0.997666277713 and loss 0.0101734240498 :\n",
      "Parameters with this testing accuracy 0.294736842105 and loss 3.65786997847 :\n",
      "{'alpha': 0.0018398060727355392}\n",
      "Parameters with this training accuracy 0.966161026838 and loss 0.725261741032 :\n",
      "Parameters with this testing accuracy 0.4 and loss 2.04813103882 :\n",
      "{'alpha': 0.38201565614644173}\n",
      "Parameters with this training accuracy 0.978996499417 and loss 0.321225827869 :\n",
      "Parameters with this testing accuracy 0.410526315789 and loss 1.92887337379 :\n",
      "{'alpha': 0.19516324100502985}\n"
     ]
    },
    {
     "name": "stderr",
     "output_type": "stream",
     "text": [
      "Hyperopt:  59%|█████▉    | 590/1000 [00:14<00:10, 39.85it/s]"
     ]
    },
    {
     "name": "stdout",
     "output_type": "stream",
     "text": [
      "Parameters with this training accuracy 0.957992998833 and loss 0.924284856183 :\n",
      "Parameters with this testing accuracy 0.378947368421 and loss 2.10708874098 :\n",
      "{'alpha': 0.4961107013046735}\n",
      "Parameters with this training accuracy 0.987164527421 and loss 0.116738222709 :\n",
      "Parameters with this testing accuracy 0.389473684211 and loss 1.87290954513 :\n",
      "{'alpha': 0.09829737869351239}\n",
      "Parameters with this training accuracy 0.973162193699 and loss 0.553650593427 :\n",
      "Parameters with this testing accuracy 0.4 and loss 1.99787468615 :\n",
      "{'alpha': 0.2979882712800656}\n",
      "Parameters with this training accuracy 0.966161026838 and loss 0.821058814352 :\n",
      "Parameters with this testing accuracy 0.389473684211 and loss 2.0763473566 :\n",
      "{'alpha': 0.4342155192990786}\n",
      "Parameters with this training accuracy 0.987164527421 and loss 0.107327324878 :\n",
      "Parameters with this testing accuracy 0.368421052632 and loss 1.8719169877 :\n",
      "{'alpha': 0.092855744698501}\n",
      "Parameters with this training accuracy 0.952158693116 and loss 1.04786521415 :\n",
      "Parameters with this testing accuracy 0.368421052632 and loss 2.14454689625 :\n",
      "{'alpha': 0.5798754743386081}\n",
      "Parameters with this training accuracy 0.977829638273 and loss 0.423354042163 :\n",
      "Parameters with this testing accuracy 0.4 and loss 1.95944834352 :\n",
      "{'alpha': 0.23959293651914315}\n",
      "Parameters with this training accuracy 0.997666277713 and loss 0.00850328603635 :\n",
      "Parameters with this testing accuracy 0.263157894737 and loss 5.03336795631 :\n",
      "{'alpha': 0.00039696305645936514}\n"
     ]
    },
    {
     "name": "stderr",
     "output_type": "stream",
     "text": [
      "Hyperopt:  60%|█████▉    | 599/1000 [00:14<00:10, 39.62it/s]"
     ]
    },
    {
     "name": "stdout",
     "output_type": "stream",
     "text": [
      "Parameters with this training accuracy 0.966161026838 and loss 0.693762779931 :\n",
      "Parameters with this testing accuracy 0.4 and loss 2.03889552463 :\n",
      "{'alpha': 0.36577847594646384}\n",
      "Parameters with this training accuracy 0.997666277713 and loss 0.0104648255029 :\n",
      "Parameters with this testing accuracy 0.305263157895 and loss 3.48655924478 :\n",
      "{'alpha': 0.002265107456299209}\n",
      "Parameters with this training accuracy 0.978996499417 and loss 0.246311524373 :\n",
      "Parameters with this testing accuracy 0.410526315789 and loss 1.90631098146 :\n",
      "{'alpha': 0.16209700437415986}\n",
      "Parameters with this training accuracy 0.950991831972 and loss 1.11224371014 :\n",
      "Parameters with this testing accuracy 0.368421052632 and loss 2.16440713384 :\n",
      "{'alpha': 0.6285933517449314}\n",
      "Parameters with this training accuracy 0.95682613769 and loss 0.954571325195 :\n",
      "Parameters with this testing accuracy 0.378947368421 and loss 2.11619543938 :\n",
      "{'alpha': 0.5155751380685609}\n",
      "Parameters with this training accuracy 0.978996499417 and loss 0.323078208213 :\n",
      "Parameters with this testing accuracy 0.410526315789 and loss 1.92943152782 :\n",
      "{'alpha': 0.1959700364977901}\n",
      "Parameters with this training accuracy 0.94049008168 and loss 1.2607270273 :\n",
      "Parameters with this testing accuracy 0.357894736842 and loss 2.21127645398 :\n",
      "{'alpha': 0.7576862109442478}\n",
      "Parameters with this training accuracy 0.966161026838 and loss 0.787674939093 :\n",
      "Parameters with this testing accuracy 0.389473684211 and loss 2.0664871303 :\n",
      "{'alpha': 0.4155075139890583}\n"
     ]
    },
    {
     "name": "stderr",
     "output_type": "stream",
     "text": [
      "Hyperopt:  61%|██████    | 607/1000 [00:14<00:10, 38.88it/s]"
     ]
    },
    {
     "name": "stdout",
     "output_type": "stream",
     "text": [
      "Parameters with this training accuracy 0.947491248541 and loss 1.16524324049 :\n",
      "Parameters with this testing accuracy 0.357894736842 and loss 2.18095846274 :\n",
      "{'alpha': 0.6717728216088306}\n",
      "Parameters with this training accuracy 0.971995332555 and loss 0.586289197757 :\n",
      "Parameters with this testing accuracy 0.4 and loss 2.00743772307 :\n",
      "{'alpha': 0.3132157951360939}\n",
      "Parameters with this training accuracy 0.869311551925 and loss 2.28309517061 :\n",
      "Parameters with this testing accuracy 0.357894736842 and loss 2.58213972067 :\n",
      "{'alpha': 4.002194296953765}\n",
      "Parameters with this training accuracy 0.989498249708 and loss 0.0718320361648 :\n",
      "Parameters with this testing accuracy 0.347368421053 and loss 1.87659753562 :\n",
      "{'alpha': 0.0699792919426649}\n",
      "Parameters with this training accuracy 0.997666277713 and loss 0.0120813333484 :\n",
      "Parameters with this testing accuracy 0.305263157895 and loss 2.85792760437 :\n",
      "{'alpha': 0.0052121527540662516}\n",
      "Parameters with this training accuracy 0.978996499417 and loss 0.398425765398 :\n",
      "Parameters with this testing accuracy 0.4 and loss 1.95202676449 :\n",
      "{'alpha': 0.2287125140853546}\n",
      "Parameters with this training accuracy 0.962660443407 and loss 0.859341307297 :\n",
      "Parameters with this testing accuracy 0.378947368421 and loss 2.08769952313 :\n",
      "{'alpha': 0.4564198097837007}\n",
      "Parameters with this training accuracy 0.952158693116 and loss 1.0407538504 :\n",
      "Parameters with this testing accuracy 0.368421052632 and loss 2.14236863007 :\n",
      "{'alpha': 0.5747244621686637}\n"
     ]
    },
    {
     "name": "stderr",
     "output_type": "stream",
     "text": [
      "Hyperopt:  62%|██████▏   | 615/1000 [00:14<00:09, 38.76it/s]"
     ]
    },
    {
     "name": "stdout",
     "output_type": "stream",
     "text": [
      "Parameters with this training accuracy 0.982497082847 and loss 0.175877229235 :\n",
      "Parameters with this testing accuracy 0.4 and loss 1.88593818819 :\n",
      "{'alpha': 0.1292198489205077}\n",
      "Parameters with this training accuracy 0.93698949825 and loss 1.36063176346 :\n",
      "Parameters with this testing accuracy 0.357894736842 and loss 2.24374146562 :\n",
      "{'alpha': 0.860936717915304}\n",
      "Parameters with this training accuracy 0.966161026838 and loss 0.705089566749 :\n",
      "Parameters with this testing accuracy 0.4 and loss 2.04221488034 :\n",
      "{'alpha': 0.3715691678369325}\n",
      "Parameters with this training accuracy 0.943990665111 and loss 1.22139960657 :\n",
      "Parameters with this testing accuracy 0.357894736842 and loss 2.19870850005 :\n",
      "{'alpha': 0.7209366125276535}\n",
      "Parameters with this training accuracy 0.955659276546 and loss 0.974312103154 :\n",
      "Parameters with this testing accuracy 0.378947368421 and loss 2.12215553147 :\n",
      "{'alpha': 0.5286154975018319}\n",
      "Parameters with this training accuracy 0.973162193699 and loss 0.535912642565 :\n",
      "Parameters with this testing accuracy 0.4 and loss 1.99267063749 :\n",
      "{'alpha': 0.28983202241981765}\n",
      "Parameters with this training accuracy 0.997666277713 and loss 0.00917353146799 :\n",
      "Parameters with this testing accuracy 0.273684210526 and loss 4.40376935655 :\n",
      "{'alpha': 0.0007835122963661401}\n",
      "Parameters with this training accuracy 0.929988331389 and loss 1.46250826908 :\n",
      "Parameters with this testing accuracy 0.357894736842 and loss 2.27768962354 :\n",
      "{'alpha': 0.9837438456855501}\n"
     ]
    },
    {
     "name": "stderr",
     "output_type": "stream",
     "text": [
      "\r",
      "Hyperopt:  62%|██████▏   | 620/1000 [00:15<00:09, 39.31it/s]"
     ]
    },
    {
     "name": "stdout",
     "output_type": "stream",
     "text": [
      "Parameters with this training accuracy 0.98016336056 and loss 0.214837709676 :\n",
      "Parameters with this testing accuracy 0.410526315789 and loss 1.89698151548 :\n",
      "{'alpha': 0.14773358072536535}\n",
      "Parameters with this training accuracy 0.948658109685 and loss 1.15041277689 :\n",
      "Parameters with this testing accuracy 0.357894736842 and loss 2.17630789041 :\n",
      "{'alpha': 0.6593905217125808}\n",
      "Parameters with this training accuracy 0.988331388565 and loss 0.0976030140972 :\n",
      "Parameters with this testing accuracy 0.368421052632 and loss 1.87155155937 :\n",
      "{'alpha': 0.08700612431925853}\n",
      "Parameters with this training accuracy 0.964994165694 and loss 0.823415277607 :\n",
      "Parameters with this testing accuracy 0.389473684211 and loss 2.07704467097 :\n",
      "{'alpha': 0.43555852095007264}\n",
      "Parameters with this training accuracy 0.977829638273 and loss 0.425977060388 :\n",
      "Parameters with this testing accuracy 0.4 and loss 1.96022770227 :\n",
      "{'alpha': 0.2407412203382272}\n",
      "Parameters with this training accuracy 0.94049008168 and loss 1.28427742977 :\n",
      "Parameters with this testing accuracy 0.357894736842 and loss 2.21885863567 :\n",
      "{'alpha': 0.7806878395478302}\n",
      "Parameters with this training accuracy 0.955659276546 and loss 1.00385990906 :\n",
      "Parameters with this testing accuracy 0.368421052632 and loss 2.13111455291 :\n",
      "{'alpha': 0.5486843085402148}\n",
      "Parameters with this training accuracy 0.969661610268 and loss 0.648464731407 :\n",
      "Parameters with this testing accuracy 0.4 and loss 2.02563348208 :\n",
      "{'alpha': 0.34312605398469065}\n"
     ]
    },
    {
     "name": "stderr",
     "output_type": "stream",
     "text": [
      "Hyperopt:  63%|██████▎   | 629/1000 [00:15<00:09, 39.36it/s]"
     ]
    },
    {
     "name": "stdout",
     "output_type": "stream",
     "text": [
      "Parameters with this training accuracy 0.981330221704 and loss 0.210978142433 :\n",
      "Parameters with this testing accuracy 0.410526315789 and loss 1.89585467694 :\n",
      "{'alpha': 0.14594130679885653}\n",
      "Parameters with this training accuracy 0.933488914819 and loss 1.41322145155 :\n",
      "Parameters with this testing accuracy 0.357894736842 and loss 2.26115626416 :\n",
      "{'alpha': 0.9218595462787643}\n",
      "Parameters with this training accuracy 0.997666277713 and loss 0.0129409892149 :\n",
      "Parameters with this testing accuracy 0.315789473684 and loss 2.67220166657 :\n",
      "{'alpha': 0.006902096228048216}\n",
      "Parameters with this training accuracy 0.962660443407 and loss 0.836838235434 :\n",
      "Parameters with this testing accuracy 0.378947368421 and loss 2.08102028489 :\n",
      "{'alpha': 0.44326709338828285}\n",
      "Parameters with this training accuracy 0.973162193699 and loss 0.550822531224 :\n",
      "Parameters with this testing accuracy 0.4 and loss 1.99704535407 :\n",
      "{'alpha': 0.29668250417621084}\n",
      "Parameters with this training accuracy 0.978996499417 and loss 0.382075135286 :\n",
      "Parameters with this testing accuracy 0.4 and loss 1.94714396861 :\n",
      "{'alpha': 0.2216003395944961}\n",
      "Parameters with this training accuracy 0.950991831972 and loss 1.11904476494 :\n",
      "Parameters with this testing accuracy 0.368421052632 and loss 2.16652055972 :\n",
      "{'alpha': 0.6339714682756981}\n",
      "Parameters with this training accuracy 0.988331388565 and loss 0.0910560272151 :\n",
      "Parameters with this testing accuracy 0.357894736842 and loss 1.87182243091 :\n",
      "{'alpha': 0.08291475627479897}\n"
     ]
    },
    {
     "name": "stderr",
     "output_type": "stream",
     "text": [
      "Hyperopt:  64%|██████▍   | 638/1000 [00:15<00:09, 39.33it/s]"
     ]
    },
    {
     "name": "stdout",
     "output_type": "stream",
     "text": [
      "Parameters with this training accuracy 0.997666277713 and loss 0.0108955932386 :\n",
      "Parameters with this testing accuracy 0.305263157895 and loss 3.26998690226 :\n",
      "{'alpha': 0.002974481988874622}\n",
      "Parameters with this training accuracy 0.938156359393 and loss 1.3290171319 :\n",
      "Parameters with this testing accuracy 0.357894736842 and loss 2.23338209035 :\n",
      "{'alpha': 0.8266040099580623}\n",
      "Parameters with this training accuracy 0.961493582264 and loss 0.90621507342 :\n",
      "Parameters with this testing accuracy 0.378947368421 and loss 2.10167580093 :\n",
      "{'alpha': 0.4847961352345923}\n",
      "Parameters with this training accuracy 0.966161026838 and loss 0.716787207278 :\n",
      "Parameters with this testing accuracy 0.4 and loss 2.04564481149 :\n",
      "{'alpha': 0.37760572522902114}\n",
      "Parameters with this training accuracy 0.941656942824 and loss 1.23833317499 :\n",
      "Parameters with this testing accuracy 0.357894736842 and loss 2.20410581774 :\n",
      "{'alpha': 0.7365137524160452}\n",
      "Parameters with this training accuracy 0.955659276546 and loss 0.986273311536 :\n",
      "Parameters with this testing accuracy 0.368421052632 and loss 2.12577661107 :\n",
      "{'alpha': 0.5366583493491407}\n",
      "Parameters with this training accuracy 0.978996499417 and loss 0.36360981652 :\n",
      "Parameters with this testing accuracy 0.4 and loss 1.94161538304 :\n",
      "{'alpha': 0.21358104685762053}\n",
      "Parameters with this training accuracy 0.928821470245 and loss 1.54077728569 :\n",
      "Parameters with this testing accuracy 0.357894736842 and loss 2.30437982173 :\n",
      "{'alpha': 1.0929944634743078}\n",
      "Parameters with this training accuracy 0.973162193699 and loss 0.55886375445 :\n",
      "Parameters with this testing accuracy 0.4 and loss 1.99940310951 :\n",
      "{'alpha': 0.30040079071413617}\n"
     ]
    },
    {
     "name": "stderr",
     "output_type": "stream",
     "text": [
      "Hyperopt:  65%|██████▍   | 646/1000 [00:15<00:09, 37.50it/s]"
     ]
    },
    {
     "name": "stdout",
     "output_type": "stream",
     "text": [
      "Parameters with this training accuracy 0.949824970828 and loss 1.13687821568 :\n",
      "Parameters with this testing accuracy 0.368421052632 and loss 2.1720767961 :\n",
      "{'alpha': 0.6482969148938997}\n",
      "Parameters with this training accuracy 0.988331388565 and loss 0.0926013579614 :\n",
      "Parameters with this testing accuracy 0.368421052632 and loss 1.87171344062 :\n",
      "{'alpha': 0.08389271704322314}\n",
      "Parameters with this training accuracy 0.997666277713 and loss 0.0126996474568 :\n",
      "Parameters with this testing accuracy 0.315789473684 and loss 2.71768025466 :\n",
      "{'alpha': 0.006429230513905426}\n",
      "Parameters with this training accuracy 0.93698949825 and loss 1.37546003837 :\n",
      "Parameters with this testing accuracy 0.357894736842 and loss 2.24862848437 :\n",
      "{'alpha': 0.8776156685458207}\n",
      "Parameters with this training accuracy 0.966161026838 and loss 0.767346578147 :\n",
      "Parameters with this testing accuracy 0.389473684211 and loss 2.06049844827 :\n",
      "{'alpha': 0.40439520851728594}\n",
      "Parameters with this training accuracy 0.955659276546 and loss 0.977592282037 :\n",
      "Parameters with this testing accuracy 0.368421052632 and loss 2.12314781114 :\n",
      "{'alpha': 0.5308103329892363}\n",
      "Parameters with this training accuracy 0.978996499417 and loss 0.277751758306 :\n",
      "Parameters with this testing accuracy 0.421052631579 and loss 1.91576153318 :\n",
      "{'alpha': 0.1761102009829812}\n",
      "Parameters with this training accuracy 0.978996499417 and loss 0.327781786656 :\n",
      "Parameters with this testing accuracy 0.410526315789 and loss 1.93084836898 :\n",
      "{'alpha': 0.19801748256909685}\n"
     ]
    },
    {
     "name": "stderr",
     "output_type": "stream",
     "text": [
      "Hyperopt:  65%|██████▌   | 654/1000 [00:15<00:09, 34.85it/s]"
     ]
    },
    {
     "name": "stdout",
     "output_type": "stream",
     "text": [
      "Parameters with this training accuracy 0.932322053676 and loss 1.44308587152 :\n",
      "Parameters with this testing accuracy 0.357894736842 and loss 2.2711494565 :\n",
      "{'alpha': 0.9587681200259867}\n",
      "Parameters with this training accuracy 0.997666277713 and loss 0.00924591032537 :\n",
      "Parameters with this testing accuracy 0.273684210526 and loss 4.34176521106 :\n",
      "{'alpha': 0.0008391164082423019}\n",
      "Parameters with this training accuracy 0.94049008168 and loss 1.26051966271 :\n",
      "Parameters with this testing accuracy 0.357894736842 and loss 2.21120988063 :\n",
      "{'alpha': 0.7574870815307786}\n",
      "Parameters with this training accuracy 0.971995332555 and loss 0.579444934636 :\n",
      "Parameters with this testing accuracy 0.4 and loss 2.00543344648 :\n",
      "{'alpha': 0.3099976770969982}\n",
      "Parameters with this training accuracy 0.997666277713 and loss 0.0100177221877 :\n",
      "Parameters with this testing accuracy 0.284210526316 and loss 3.75795965862 :\n",
      "{'alpha': 0.001633450127005276}\n",
      "Parameters with this training accuracy 0.950991831972 and loss 1.10062220197 :\n",
      "Parameters with this testing accuracy 0.368421052632 and loss 2.16080270953 :\n",
      "{'alpha': 0.6195094131292527}\n",
      "Parameters with this training accuracy 0.962660443407 and loss 0.840053830221 :\n",
      "Parameters with this testing accuracy 0.378947368421 and loss 2.08197360111 :\n",
      "{'alpha': 0.4451287398431607}\n"
     ]
    },
    {
     "name": "stderr",
     "output_type": "stream",
     "text": [
      "Hyperopt:  66%|██████▌   | 662/1000 [00:16<00:10, 33.68it/s]"
     ]
    },
    {
     "name": "stdout",
     "output_type": "stream",
     "text": [
      "Parameters with this training accuracy 0.925320886814 and loss 1.6229989605 :\n",
      "Parameters with this testing accuracy 0.357894736842 and loss 2.33300705062 :\n",
      "{'alpha': 1.2250066750082713}\n",
      "Parameters with this training accuracy 0.987164527421 and loss 0.114225189078 :\n",
      "Parameters with this testing accuracy 0.378947368421 and loss 1.87259423599 :\n",
      "{'alpha': 0.09686331490982936}\n",
      "Parameters with this training accuracy 0.977829638273 and loss 0.431931346917 :\n",
      "Parameters with this testing accuracy 0.4 and loss 1.96199578789 :\n",
      "{'alpha': 0.24335066927951837}\n",
      "Parameters with this training accuracy 0.997666277713 and loss 0.00986814238148 :\n",
      "Parameters with this testing accuracy 0.273684210526 and loss 3.8597705763 :\n",
      "{'alpha': 0.001449695762562292}\n",
      "Parameters with this training accuracy 0.969661610268 and loss 0.656760999585 :\n",
      "Parameters with this testing accuracy 0.4 and loss 2.02806134713 :\n",
      "{'alpha': 0.34721682746277854}\n",
      "Parameters with this training accuracy 0.928821470245 and loss 1.51724385065 :\n",
      "Parameters with this testing accuracy 0.357894736842 and loss 2.29629788351 :\n",
      "{'alpha': 1.0586078277591675}\n",
      "Parameters with this training accuracy 0.982497082847 and loss 0.183287602164 :\n",
      "Parameters with this testing accuracy 0.4 and loss 1.88796644597 :\n",
      "{'alpha': 0.1328224269320158}\n"
     ]
    },
    {
     "name": "stderr",
     "output_type": "stream",
     "text": [
      "\r",
      "Hyperopt:  67%|██████▋   | 666/1000 [00:16<00:10, 32.89it/s]"
     ]
    },
    {
     "name": "stdout",
     "output_type": "stream",
     "text": [
      "Parameters with this training accuracy 0.952158693116 and loss 1.06335176794 :\n",
      "Parameters with this testing accuracy 0.368421052632 and loss 2.14930097719 :\n",
      "{'alpha': 0.5912463007533537}\n",
      "Parameters with this training accuracy 0.938156359393 and loss 1.33607734083 :\n",
      "Parameters with this testing accuracy 0.357894736842 and loss 2.23568853349 :\n",
      "{'alpha': 0.8341304967946077}\n",
      "Parameters with this training accuracy 0.962660443407 and loss 0.890205870509 :\n",
      "Parameters with this testing accuracy 0.378947368421 and loss 2.0968921449 :\n",
      "{'alpha': 0.474950117789438}\n",
      "Parameters with this training accuracy 0.966161026838 and loss 0.729158870527 :\n",
      "Parameters with this testing accuracy 0.4 and loss 2.04927478183 :\n",
      "{'alpha': 0.3840541645056757}\n",
      "Parameters with this training accuracy 0.943990665111 and loss 1.21002376453 :\n",
      "Parameters with this testing accuracy 0.357894736842 and loss 2.1950944814 :\n",
      "{'alpha': 0.7106738987233225}\n",
      "Parameters with this training accuracy 0.98016336056 and loss 0.214254050473 :\n",
      "Parameters with this testing accuracy 0.410526315789 and loss 1.89681079128 :\n",
      "{'alpha': 0.14746304190156673}\n",
      "Parameters with this training accuracy 0.97666277713 and loss 0.438270168971 :\n",
      "Parameters with this testing accuracy 0.4 and loss 1.96387645448 :\n",
      "{'alpha': 0.24613322757449857}\n"
     ]
    },
    {
     "name": "stderr",
     "output_type": "stream",
     "text": [
      "Hyperopt:  67%|██████▋   | 674/1000 [00:16<00:10, 32.52it/s]"
     ]
    },
    {
     "name": "stdout",
     "output_type": "stream",
     "text": [
      "Parameters with this training accuracy 0.95682613769 and loss 0.955294571041 :\n",
      "Parameters with this testing accuracy 0.378947368421 and loss 2.1164134533 :\n",
      "{'alpha': 0.5160478735608391}\n",
      "Parameters with this training accuracy 0.997666277713 and loss 0.0127302863661 :\n",
      "Parameters with this testing accuracy 0.315789473684 and loss 2.71165373928 :\n",
      "{'alpha': 0.00648939225063927}\n",
      "Parameters with this training accuracy 0.933488914819 and loss 1.43577322852 :\n",
      "Parameters with this testing accuracy 0.357894736842 and loss 2.26869546588 :\n",
      "{'alpha': 0.9495666576778504}\n",
      "Parameters with this training accuracy 0.915985997666 and loss 1.71885395651 :\n",
      "Parameters with this testing accuracy 0.357894736842 and loss 2.3671542317 :\n",
      "{'alpha': 1.406750022433825}\n",
      "Parameters with this training accuracy 0.948658109685 and loss 1.15834576267 :\n",
      "Parameters with this testing accuracy 0.357894736842 and loss 2.17879365173 :\n",
      "{'alpha': 0.6659840540748129}\n",
      "Parameters with this training accuracy 0.969661610268 and loss 0.63383139146 :\n",
      "Parameters with this testing accuracy 0.4 and loss 2.02135160994 :\n",
      "{'alpha': 0.33597051693737595}\n",
      "Parameters with this training accuracy 0.978996499417 and loss 0.31534055596 :\n",
      "Parameters with this testing accuracy 0.421052631579 and loss 1.92709947428 :\n",
      "{'alpha': 0.19259797271197243}\n"
     ]
    },
    {
     "name": "stderr",
     "output_type": "stream",
     "text": [
      "Hyperopt:  68%|██████▊   | 682/1000 [00:16<00:09, 31.99it/s]"
     ]
    },
    {
     "name": "stdout",
     "output_type": "stream",
     "text": [
      "Parameters with this training accuracy 0.94049008168 and loss 1.29829907014 :\n",
      "Parameters with this testing accuracy 0.357894736842 and loss 2.22339338015 :\n",
      "{'alpha': 0.7947567726174224}\n",
      "Parameters with this training accuracy 0.926487747958 and loss 1.59515400774 :\n",
      "Parameters with this testing accuracy 0.357894736842 and loss 2.32324386767 :\n",
      "{'alpha': 1.1780929538329221}\n",
      "Parameters with this training accuracy 0.886814469078 and loss 2.02598897128 :\n",
      "Parameters with this testing accuracy 0.357894736842 and loss 2.4818286309 :\n",
      "{'alpha': 2.322318085312137}\n",
      "Parameters with this training accuracy 0.997666277713 and loss 0.0118719020972 :\n",
      "Parameters with this testing accuracy 0.305263157895 and loss 2.9149520977 :\n",
      "{'alpha': 0.004801756668048773}\n",
      "Parameters with this training accuracy 0.952158693116 and loss 1.04980403833 :\n",
      "Parameters with this testing accuracy 0.368421052632 and loss 2.14514129235 :\n",
      "{'alpha': 0.5812874521492601}\n",
      "Parameters with this training accuracy 0.966161026838 and loss 0.794280248026 :\n",
      "Parameters with this testing accuracy 0.389473684211 and loss 2.0684354391 :\n",
      "{'alpha': 0.41916288417245773}\n",
      "Parameters with this training accuracy 0.987164527421 and loss 0.116624273785 :\n",
      "Parameters with this testing accuracy 0.389473684211 and loss 1.87289453592 :\n",
      "{'alpha': 0.09823263772930704}\n"
     ]
    },
    {
     "name": "stderr",
     "output_type": "stream",
     "text": [
      "Hyperopt:  69%|██████▉   | 690/1000 [00:17<00:09, 31.20it/s]"
     ]
    },
    {
     "name": "stdout",
     "output_type": "stream",
     "text": [
      "Parameters with this training accuracy 0.974329054842 and loss 0.48952789258 :\n",
      "Parameters with this testing accuracy 0.4 and loss 1.97902860503 :\n",
      "{'alpha': 0.2688491180439138}\n",
      "Parameters with this training accuracy 0.929988331389 and loss 1.49478293232 :\n",
      "Parameters with this testing accuracy 0.357894736842 and loss 2.28863008869 :\n",
      "{'alpha': 1.0270538369065965}\n",
      "Parameters with this training accuracy 0.943990665111 and loss 1.21901479178 :\n",
      "Parameters with this testing accuracy 0.357894736842 and loss 2.19795007776 :\n",
      "{'alpha': 0.7187718938292411}\n",
      "Parameters with this training accuracy 0.880980163361 and loss 2.18643223223 :\n",
      "Parameters with this testing accuracy 0.347368421053 and loss 2.54416358789 :\n",
      "{'alpha': 3.195276470659987}\n",
      "Parameters with this training accuracy 0.96032672112 and loss 0.91633274472 :\n",
      "Parameters with this testing accuracy 0.378947368421 and loss 2.1047048102 :\n",
      "{'alpha': 0.49110464277903726}\n",
      "Parameters with this training accuracy 0.997666277713 and loss 0.00840258345969 :\n",
      "Parameters with this testing accuracy 0.263157894737 and loss 5.13636204325 :\n",
      "{'alpha': 0.00035598572156317343}\n",
      "Parameters with this training accuracy 0.969661610268 and loss 0.649027724719 :\n",
      "Parameters with this testing accuracy 0.4 and loss 2.02579823074 :\n",
      "{'alpha': 0.3434028688829517}\n"
     ]
    },
    {
     "name": "stderr",
     "output_type": "stream",
     "text": [
      "\r",
      "Hyperopt:  69%|██████▉   | 694/1000 [00:17<00:10, 28.99it/s]"
     ]
    },
    {
     "name": "stdout",
     "output_type": "stream",
     "text": [
      "Parameters with this training accuracy 0.981330221704 and loss 0.195963288467 :\n",
      "Parameters with this testing accuracy 0.410526315789 and loss 1.8915271128 :\n",
      "{'alpha': 0.13888916241337634}\n",
      "Parameters with this training accuracy 0.894982497083 and loss 1.9388078662 :\n",
      "Parameters with this testing accuracy 0.357894736842 and loss 2.4485433587 :\n",
      "{'alpha': 1.991360579800184}\n",
      "Parameters with this training accuracy 0.935822637106 and loss 1.39043818122 :\n",
      "Parameters with this testing accuracy 0.357894736842 and loss 2.25358337777 :\n",
      "{'alpha': 0.8948540863044846}\n",
      "Parameters with this training accuracy 0.950991831972 and loss 1.09489097822 :\n",
      "Parameters with this testing accuracy 0.368421052632 and loss 2.15902836077 :\n",
      "{'alpha': 0.6150780759164208}\n",
      "Parameters with this training accuracy 0.880980163361 and loss 2.16164154658 :\n",
      "Parameters with this testing accuracy 0.357894736842 and loss 2.53446272196 :\n",
      "{'alpha': 3.029931836573907}\n",
      "Parameters with this training accuracy 0.859976662777 and loss 2.33809068116 :\n",
      "Parameters with this testing accuracy 0.336842105263 and loss 2.60381046939 :\n",
      "{'alpha': 4.6234270857376085}\n",
      "Parameters with this training accuracy 0.988331388565 and loss 0.0935088485288 :\n",
      "Parameters with this testing accuracy 0.368421052632 and loss 1.8716631202 :\n",
      "{'alpha': 0.08446339350879911}\n"
     ]
    },
    {
     "name": "stderr",
     "output_type": "stream",
     "text": [
      "Hyperopt:  70%|███████   | 703/1000 [00:17<00:09, 30.16it/s]"
     ]
    },
    {
     "name": "stdout",
     "output_type": "stream",
     "text": [
      "Parameters with this training accuracy 0.973162193699 and loss 0.541069885568 :\n",
      "Parameters with this testing accuracy 0.4 and loss 1.99418430162 :\n",
      "{'alpha': 0.29219527115727717}\n",
      "Parameters with this training accuracy 0.955659276546 and loss 1.01113688502 :\n",
      "Parameters with this testing accuracy 0.368421052632 and loss 2.13332822622 :\n",
      "{'alpha': 0.5537319916387525}\n",
      "Parameters with this training accuracy 0.978996499417 and loss 0.343749466529 :\n",
      "Parameters with this testing accuracy 0.410526315789 and loss 1.93565295951 :\n",
      "{'alpha': 0.20495844246761338}\n",
      "Parameters with this training accuracy 0.879813302217 and loss 2.21469744992 :\n",
      "Parameters with this testing accuracy 0.347368421053 and loss 2.55524638889 :\n",
      "{'alpha': 3.4019716407313667}\n",
      "Parameters with this training accuracy 0.866977829638 and loss 2.30215079397 :\n",
      "Parameters with this testing accuracy 0.347368421053 and loss 2.58964543414 :\n",
      "{'alpha': 4.200851239004278}\n",
      "Parameters with this training accuracy 0.966161026838 and loss 0.791074011598 :\n",
      "Parameters with this testing accuracy 0.389473684211 and loss 2.06748957049 :\n",
      "{'alpha': 0.41738577358879264}\n",
      "Parameters with this training accuracy 0.939323220537 and loss 1.30706705329 :\n",
      "Parameters with this testing accuracy 0.357894736842 and loss 2.22623686968 :\n",
      "{'alpha': 0.8037010405937366}\n"
     ]
    },
    {
     "name": "stderr",
     "output_type": "stream",
     "text": [
      "Hyperopt:  71%|███████   | 711/1000 [00:17<00:09, 30.68it/s]"
     ]
    },
    {
     "name": "stdout",
     "output_type": "stream",
     "text": [
      "Parameters with this training accuracy 0.886814469078 and loss 2.06907511938 :\n",
      "Parameters with this testing accuracy 0.357894736842 and loss 2.49845006755 :\n",
      "{'alpha': 2.516963896868537}\n",
      "Parameters with this training accuracy 0.943990665111 and loss 1.21781991286 :\n",
      "Parameters with this testing accuracy 0.357894736842 and loss 2.19757023755 :\n",
      "{'alpha': 0.7176899504744549}\n",
      "Parameters with this training accuracy 0.927654609102 and loss 1.55007552608 :\n",
      "Parameters with this testing accuracy 0.357894736842 and loss 2.3075866782 :\n",
      "{'alpha': 1.106972245510733}\n",
      "Parameters with this training accuracy 0.978996499417 and loss 0.386446842918 :\n",
      "Parameters with this testing accuracy 0.4 and loss 1.94845066396 :\n",
      "{'alpha': 0.22350056163921933}\n",
      "Parameters with this training accuracy 0.978996499417 and loss 0.30146456645 :\n",
      "Parameters with this testing accuracy 0.421052631579 and loss 1.92291448077 :\n",
      "{'alpha': 0.18653535240955987}\n",
      "Parameters with this training accuracy 0.957992998833 and loss 0.931728727708 :\n",
      "Parameters with this testing accuracy 0.378947368421 and loss 2.10932295332 :\n",
      "{'alpha': 0.5008356122568103}\n",
      "Parameters with this training accuracy 0.883313885648 and loss 2.09735680429 :\n",
      "Parameters with this testing accuracy 0.357894736842 and loss 2.50941296097 :\n",
      "{'alpha': 2.658518596443278}\n"
     ]
    },
    {
     "name": "stderr",
     "output_type": "stream",
     "text": [
      "\r",
      "Hyperopt:  72%|███████▏  | 716/1000 [00:17<00:08, 33.08it/s]"
     ]
    },
    {
     "name": "stdout",
     "output_type": "stream",
     "text": [
      "Parameters with this training accuracy 0.912485414236 and loss 1.76418008144 :\n",
      "Parameters with this testing accuracy 0.357894736842 and loss 2.38358939738 :\n",
      "{'alpha': 1.5054587636927232}\n",
      "Parameters with this training accuracy 0.966161026838 and loss 0.733086022874 :\n",
      "Parameters with this testing accuracy 0.4 and loss 2.0504276165 :\n",
      "{'alpha': 0.3861151839055026}\n",
      "Parameters with this training accuracy 0.997666277713 and loss 0.0136695507378 :\n",
      "Parameters with this testing accuracy 0.315789473684 and loss 2.55824482891 :\n",
      "{'alpha': 0.00830969746814525}\n",
      "Parameters with this training accuracy 0.905484247375 and loss 1.83762452855 :\n",
      "Parameters with this testing accuracy 0.357894736842 and loss 2.41060212413 :\n",
      "{'alpha': 1.6868038695363956}\n",
      "Parameters with this training accuracy 0.935822637106 and loss 1.38481956293 :\n",
      "Parameters with this testing accuracy 0.357894736842 and loss 2.25172250462 :\n",
      "{'alpha': 0.8883406980425742}\n",
      "Parameters with this training accuracy 0.948658109685 and loss 1.1559438233 :\n",
      "Parameters with this testing accuracy 0.357894736842 and loss 2.17804056041 :\n",
      "{'alpha': 0.6639804592989487}\n",
      "Parameters with this training accuracy 0.988331388565 and loss 0.0828379183417 :\n",
      "Parameters with this testing accuracy 0.357894736842 and loss 1.87297589374 :\n",
      "{'alpha': 0.07757250480005377}\n",
      "Parameters with this training accuracy 0.85764294049 and loss 2.35529169996 :\n",
      "Parameters with this testing accuracy 0.336842105263 and loss 2.61059225144 :\n",
      "{'alpha': 4.851668324444863}\n"
     ]
    },
    {
     "name": "stderr",
     "output_type": "stream",
     "text": [
      "Hyperopt:  72%|███████▏  | 724/1000 [00:18<00:07, 35.56it/s]"
     ]
    },
    {
     "name": "stdout",
     "output_type": "stream",
     "text": [
      "Parameters with this training accuracy 0.973162193699 and loss 0.550644637393 :\n",
      "Parameters with this testing accuracy 0.4 and loss 1.99699318201 :\n",
      "{'alpha': 0.29660043690206095}\n",
      "Parameters with this training accuracy 0.997666277713 and loss 0.0132499564222 :\n",
      "Parameters with this testing accuracy 0.315789473684 and loss 2.6200229713 :\n",
      "{'alpha': 0.007503168036493119}\n",
      "Parameters with this training accuracy 0.962660443407 and loss 0.860742240584 :\n",
      "Parameters with this testing accuracy 0.378947368421 and loss 2.0881159604 :\n",
      "{'alpha': 0.457248399398431}\n",
      "Parameters with this training accuracy 0.922987164527 and loss 1.66993374457 :\n",
      "Parameters with this testing accuracy 0.357894736842 and loss 2.34962292162 :\n",
      "{'alpha': 1.309807580916521}\n",
      "Parameters with this training accuracy 0.987164527421 and loss 0.107006995511 :\n",
      "Parameters with this testing accuracy 0.368421052632 and loss 1.87189302945 :\n",
      "{'alpha': 0.0926669451355214}\n",
      "Parameters with this training accuracy 0.929988331389 and loss 1.50570641891 :\n",
      "Parameters with this testing accuracy 0.357894736842 and loss 2.29235362436 :\n",
      "{'alpha': 1.0422496028089339}\n",
      "Parameters with this training accuracy 0.997666277713 and loss 0.0105332208356 :\n",
      "Parameters with this testing accuracy 0.305263157895 and loss 3.44932017221 :\n",
      "{'alpha': 0.002371790941409574}\n",
      "Parameters with this training accuracy 0.882147024504 and loss 2.13753606801 :\n",
      "Parameters with this testing accuracy 0.357894736842 and loss 2.52505027195 :\n",
      "{'alpha': 2.8817069359915752}\n"
     ]
    },
    {
     "name": "stderr",
     "output_type": "stream",
     "text": [
      "Hyperopt:  73%|███████▎  | 732/1000 [00:18<00:07, 36.60it/s]"
     ]
    },
    {
     "name": "stdout",
     "output_type": "stream",
     "text": [
      "Parameters with this training accuracy 0.952158693116 and loss 1.06439000237 :\n",
      "Parameters with this testing accuracy 0.368421052632 and loss 2.14962021326 :\n",
      "{'alpha': 0.5920162529542581}\n",
      "Parameters with this training accuracy 0.968494749125 and loss 0.663909532104 :\n",
      "Parameters with this testing accuracy 0.4 and loss 2.0301536081 :\n",
      "{'alpha': 0.35076196117808656}\n",
      "Parameters with this training accuracy 0.939323220537 and loss 1.31891412916 :\n",
      "Parameters with this testing accuracy 0.357894736842 and loss 2.23008857788 :\n",
      "{'alpha': 0.8159702254422668}\n",
      "Parameters with this training accuracy 0.95682613769 and loss 0.953455430629 :\n",
      "Parameters with this testing accuracy 0.378947368421 and loss 2.11585911711 :\n",
      "{'alpha': 0.5148464947771224}\n",
      "Parameters with this training accuracy 0.974329054842 and loss 0.499615203658 :\n",
      "Parameters with this testing accuracy 0.4 and loss 1.9820001856 :\n",
      "{'alpha': 0.27337338847219017}\n",
      "Parameters with this training accuracy 0.947491248541 and loss 1.18365050181 :\n",
      "Parameters with this testing accuracy 0.357894736842 and loss 2.18675191367 :\n",
      "{'alpha': 0.6874817839081399}\n",
      "Parameters with this training accuracy 0.931155192532 and loss 1.45889147122 :\n",
      "Parameters with this testing accuracy 0.357894736842 and loss 2.27646925646 :\n",
      "{'alpha': 0.9790327580602769}\n",
      "Parameters with this training accuracy 0.978996499417 and loss 0.222903676729 :\n",
      "Parameters with this testing accuracy 0.410526315789 and loss 1.89935130801 :\n",
      "{'alpha': 0.15145514132118906}\n"
     ]
    },
    {
     "name": "stderr",
     "output_type": "stream",
     "text": [
      "Hyperopt:  74%|███████▍  | 741/1000 [00:18<00:06, 37.52it/s]"
     ]
    },
    {
     "name": "stdout",
     "output_type": "stream",
     "text": [
      "Parameters with this training accuracy 0.978996499417 and loss 0.364839073155 :\n",
      "Parameters with this testing accuracy 0.4 and loss 1.94198388946 :\n",
      "{'alpha': 0.21411468888830648}\n",
      "Parameters with this training accuracy 0.966161026838 and loss 0.69689045731 :\n",
      "Parameters with this testing accuracy 0.4 and loss 2.03981193649 :\n",
      "{'alpha': 0.3673721964634343}\n",
      "Parameters with this training accuracy 0.880980163361 and loss 2.20226113687 :\n",
      "Parameters with this testing accuracy 0.347368421053 and loss 2.5503674177 :\n",
      "{'alpha': 3.3084724694209955}\n",
      "Parameters with this training accuracy 0.962660443407 and loss 0.851606606998 :\n",
      "Parameters with this testing accuracy 0.378947368421 and loss 2.08540166081 :\n",
      "{'alpha': 0.4518658976373773}\n",
      "Parameters with this training accuracy 0.94049008168 and loss 1.26645825036 :\n",
      "Parameters with this testing accuracy 0.357894736842 and loss 2.21311773213 :\n",
      "{'alpha': 0.7632130361800047}\n",
      "Parameters with this training accuracy 0.925320886814 and loss 1.60951519856 :\n",
      "Parameters with this testing accuracy 0.357894736842 and loss 2.32827050768 :\n",
      "{'alpha': 1.201989757963984}\n",
      "Parameters with this training accuracy 0.952158693116 and loss 1.06843336549 :\n",
      "Parameters with this testing accuracy 0.368421052632 and loss 2.15086409201 :\n",
      "{'alpha': 0.5950240802265618}\n",
      "Parameters with this training accuracy 0.987164527421 and loss 0.106340748393 :\n",
      "Parameters with this testing accuracy 0.368421052632 and loss 1.87184553126 :\n",
      "{'alpha': 0.09227346147236856}\n"
     ]
    },
    {
     "name": "stderr",
     "output_type": "stream",
     "text": [
      "Hyperopt:  75%|███████▍  | 749/1000 [00:18<00:06, 38.33it/s]"
     ]
    },
    {
     "name": "stdout",
     "output_type": "stream",
     "text": [
      "Parameters with this training accuracy 0.899649941657 and loss 1.8948346169 :\n",
      "Parameters with this testing accuracy 0.357894736842 and loss 2.43195634069 :\n",
      "{'alpha': 1.850060832010751}\n",
      "Parameters with this training accuracy 0.978996499417 and loss 0.291272637196 :\n",
      "Parameters with this testing accuracy 0.410526315789 and loss 1.91983953754 :\n",
      "{'alpha': 0.18206618121621032}\n",
      "Parameters with this training accuracy 0.935822637106 and loss 1.39506821417 :\n",
      "Parameters with this testing accuracy 0.357894736842 and loss 2.2551188156 :\n",
      "{'alpha': 0.9002644052672878}\n",
      "Parameters with this training accuracy 0.975495915986 and loss 0.469774630849 :\n",
      "Parameters with this testing accuracy 0.4 and loss 1.97320037993 :\n",
      "{'alpha': 0.2600446649125206}\n",
      "Parameters with this training accuracy 0.966161026838 and loss 0.748611309144 :\n",
      "Parameters with this testing accuracy 0.389473684211 and loss 2.05498809486 :\n",
      "{'alpha': 0.39433120464746685}\n",
      "Parameters with this training accuracy 0.955659276546 and loss 0.980455662704 :\n",
      "Parameters with this testing accuracy 0.368421052632 and loss 2.12401446523 :\n",
      "{'alpha': 0.5327329220404483}\n",
      "Parameters with this training accuracy 0.997666277713 and loss 0.0139299484469 :\n",
      "Parameters with this testing accuracy 0.326315789474 and loss 2.52430748423 :\n",
      "{'alpha': 0.008803867003475574}\n",
      "Parameters with this training accuracy 0.949824970828 and loss 1.13753733694 :\n",
      "Parameters with this testing accuracy 0.368421052632 and loss 2.17228256009 :\n",
      "{'alpha': 0.6488326813023214}\n"
     ]
    },
    {
     "name": "stderr",
     "output_type": "stream",
     "text": [
      "Hyperopt:  76%|███████▌  | 757/1000 [00:18<00:06, 38.09it/s]"
     ]
    },
    {
     "name": "stdout",
     "output_type": "stream",
     "text": [
      "Parameters with this training accuracy 0.978996499417 and loss 0.216748964305 :\n",
      "Parameters with this testing accuracy 0.410526315789 and loss 1.89754132494 :\n",
      "{'alpha': 0.148618282657056}\n",
      "Parameters with this training accuracy 0.921820303384 and loss 1.68783250939 :\n",
      "Parameters with this testing accuracy 0.357894736842 and loss 2.35601211328 :\n",
      "{'alpha': 1.3442027432446226}\n",
      "Parameters with this training accuracy 0.970828471412 and loss 0.62545872027 :\n",
      "Parameters with this testing accuracy 0.4 and loss 2.01890176845 :\n",
      "{'alpha': 0.3319097734971366}\n",
      "Parameters with this training accuracy 0.982497082847 and loss 0.16554189366 :\n",
      "Parameters with this testing accuracy 0.4 and loss 1.88319532707 :\n",
      "{'alpha': 0.12411653249586387}\n",
      "Parameters with this training accuracy 0.94049008168 and loss 1.28131725408 :\n",
      "Parameters with this testing accuracy 0.357894736842 and loss 2.21790324135 :\n",
      "{'alpha': 0.7777539018766735}\n",
      "Parameters with this training accuracy 0.962660443407 and loss 0.867516461148 :\n",
      "Parameters with this testing accuracy 0.378947368421 and loss 2.09013070845 :\n",
      "{'alpha': 0.4612715486074257}\n",
      "Parameters with this training accuracy 0.93698949825 and loss 1.35957796402 :\n",
      "Parameters with this testing accuracy 0.357894736842 and loss 2.2433948488 :\n",
      "{'alpha': 0.8597657120372293}\n",
      "Parameters with this training accuracy 0.926487747958 and loss 1.57508868803 :\n",
      "Parameters with this testing accuracy 0.357894736842 and loss 2.31625193255 :\n",
      "{'alpha': 1.1457285611835226}\n"
     ]
    },
    {
     "name": "stderr",
     "output_type": "stream",
     "text": [
      "Hyperopt:  76%|███████▋  | 765/1000 [00:19<00:06, 37.64it/s]"
     ]
    },
    {
     "name": "stdout",
     "output_type": "stream",
     "text": [
      "Parameters with this training accuracy 0.978996499417 and loss 0.394340505446 :\n",
      "Parameters with this testing accuracy 0.4 and loss 1.95080790098 :\n",
      "{'alpha': 0.2269340869934532}\n",
      "Parameters with this training accuracy 0.997666277713 and loss 0.0134982983011 :\n",
      "Parameters with this testing accuracy 0.315789473684 and loss 2.582319712 :\n",
      "{'alpha': 0.007981994416977667}\n",
      "Parameters with this training accuracy 0.929988331389 and loss 1.46221171377 :\n",
      "Parameters with this testing accuracy 0.357894736842 and loss 2.27758951821 :\n",
      "{'alpha': 0.9833565133326875}\n",
      "Parameters with this training accuracy 0.950991831972 and loss 1.0781996626 :\n",
      "Parameters with this testing accuracy 0.368421052632 and loss 2.15387268628 :\n",
      "{'alpha': 0.6023506805376113}\n",
      "Parameters with this training accuracy 0.971995332555 and loss 0.584203923211 :\n",
      "Parameters with this testing accuracy 0.4 and loss 2.00682712007 :\n",
      "{'alpha': 0.3122338617665259}\n",
      "Parameters with this training accuracy 0.875145857643 and loss 2.25742539124 :\n",
      "Parameters with this testing accuracy 0.357894736842 and loss 2.57203650865 :\n",
      "{'alpha': 3.7580404397155225}\n",
      "Parameters with this training accuracy 0.997666277713 and loss 0.00924739417964 :\n",
      "Parameters with this testing accuracy 0.273684210526 and loss 4.34050664489 :\n",
      "{'alpha': 0.000840288026074637}\n",
      "Parameters with this training accuracy 0.988331388565 and loss 0.0887823677302 :\n",
      "Parameters with this testing accuracy 0.357894736842 and loss 1.87203973051 :\n",
      "{'alpha': 0.0814612349193093}\n"
     ]
    },
    {
     "name": "stderr",
     "output_type": "stream",
     "text": [
      "Hyperopt:  77%|███████▋  | 773/1000 [00:19<00:06, 37.77it/s]"
     ]
    },
    {
     "name": "stdout",
     "output_type": "stream",
     "text": [
      "Parameters with this training accuracy 0.998833138856 and loss 0.00695143158784 :\n",
      "Parameters with this testing accuracy 0.263157894737 and loss 6.86465934847 :\n",
      "{'alpha': 6.051210814336794e-05}\n",
      "Parameters with this training accuracy 0.945157526254 and loss 1.20110752695 :\n",
      "Parameters with this testing accuracy 0.357894736842 and loss 2.19226844387 :\n",
      "{'alpha': 0.7027405900401515}\n",
      "Parameters with this training accuracy 0.869311551925 and loss 2.29021757903 :\n",
      "Parameters with this testing accuracy 0.347368421053 and loss 2.58494463334 :\n",
      "{'alpha': 4.074591378176849}\n",
      "Parameters with this training accuracy 0.963827304551 and loss 0.82757069598 :\n",
      "Parameters with this testing accuracy 0.389473684211 and loss 2.07827477199 :\n",
      "{'alpha': 0.4379342150619635}\n",
      "Parameters with this training accuracy 0.886814469078 and loss 2.04784157946 :\n",
      "Parameters with this testing accuracy 0.357894736842 and loss 2.49024599169 :\n",
      "{'alpha': 2.4180851395543494}\n",
      "Parameters with this training accuracy 0.975495915986 and loss 0.475194685004 :\n",
      "Parameters with this testing accuracy 0.4 and loss 1.97480085093 :\n",
      "{'alpha': 0.262453614527672}\n",
      "Parameters with this training accuracy 0.910151691949 and loss 1.79318586038 :\n",
      "Parameters with this testing accuracy 0.357894736842 and loss 2.39420210679 :\n",
      "{'alpha': 1.5736765897391882}\n",
      "Parameters with this training accuracy 0.997666277713 and loss 0.00983783215533 :\n",
      "Parameters with this testing accuracy 0.273684210526 and loss 3.88107533004 :\n",
      "{'alpha': 0.0014142191288871175}\n"
     ]
    },
    {
     "name": "stderr",
     "output_type": "stream",
     "text": [
      "Hyperopt:  78%|███████▊  | 782/1000 [00:19<00:05, 37.62it/s]"
     ]
    },
    {
     "name": "stdout",
     "output_type": "stream",
     "text": [
      "Parameters with this training accuracy 0.95682613769 and loss 0.954371419683 :\n",
      "Parameters with this testing accuracy 0.378947368421 and loss 2.11613518481 :\n",
      "{'alpha': 0.5154445402674224}\n",
      "Parameters with this training accuracy 0.978996499417 and loss 0.229168643953 :\n",
      "Parameters with this testing accuracy 0.410526315789 and loss 1.9012036667 :\n",
      "{'alpha': 0.15432499656731297}\n",
      "Parameters with this training accuracy 0.966161026838 and loss 0.728320325107 :\n",
      "Parameters with this testing accuracy 0.4 and loss 2.04902865956 :\n",
      "{'alpha': 0.3836149726418241}\n",
      "Parameters with this training accuracy 0.889148191365 and loss 1.99765597556 :\n",
      "Parameters with this testing accuracy 0.357894736842 and loss 2.47095711256 :\n",
      "{'alpha': 2.2063733531629253}\n",
      "Parameters with this training accuracy 0.913652275379 and loss 1.73881168368 :\n",
      "Parameters with this testing accuracy 0.357894736842 and loss 2.37436829684 :\n",
      "{'alpha': 1.4490891320197516}\n",
      "Parameters with this training accuracy 0.950991831972 and loss 1.09428907855 :\n",
      "Parameters with this testing accuracy 0.368421052632 and loss 2.15884213818 :\n",
      "{'alpha': 0.6146145267766406}\n",
      "Parameters with this training accuracy 0.928821470245 and loss 1.52227189661 :\n",
      "Parameters with this testing accuracy 0.357894736842 and loss 2.29802049394 :\n",
      "{'alpha': 1.0658381592148136}\n",
      "Parameters with this training accuracy 0.94049008168 and loss 1.27536077024 :\n",
      "Parameters with this testing accuracy 0.357894736842 and loss 2.21598284644 :\n",
      "{'alpha': 0.7718878519868113}\n"
     ]
    },
    {
     "name": "stderr",
     "output_type": "stream",
     "text": [
      "Hyperopt:  79%|███████▉  | 791/1000 [00:19<00:05, 37.96it/s]"
     ]
    },
    {
     "name": "stdout",
     "output_type": "stream",
     "text": [
      "Parameters with this training accuracy 0.971995332555 and loss 0.578773986415 :\n",
      "Parameters with this testing accuracy 0.4 and loss 2.00523693957 :\n",
      "{'alpha': 0.30968293658707147}\n",
      "Parameters with this training accuracy 0.955659276546 and loss 0.973685031275 :\n",
      "Parameters with this testing accuracy 0.378947368421 and loss 2.12196590099 :\n",
      "{'alpha': 0.5281968315834283}\n",
      "Parameters with this training accuracy 0.981330221704 and loss 0.201552015248 :\n",
      "Parameters with this testing accuracy 0.410526315789 and loss 1.89312615368 :\n",
      "{'alpha': 0.14152973856176246}\n",
      "Parameters with this training accuracy 0.978996499417 and loss 0.35385099026 :\n",
      "Parameters with this testing accuracy 0.4 and loss 1.93868761701 :\n",
      "{'alpha': 0.2093446979673981}\n",
      "Parameters with this training accuracy 0.989498249708 and loss 0.0769062638956 :\n",
      "Parameters with this testing accuracy 0.357894736842 and loss 1.87456453687 :\n",
      "{'alpha': 0.07354981650013415}\n",
      "Parameters with this training accuracy 0.966161026838 and loss 0.740776877029 :\n",
      "Parameters with this testing accuracy 0.4 and loss 2.05268615886 :\n",
      "{'alpha': 0.39017148112535927}\n",
      "Parameters with this training accuracy 0.978996499417 and loss 0.300144351876 :\n",
      "Parameters with this testing accuracy 0.421052631579 and loss 1.92251618335 :\n",
      "{'alpha': 0.18595729276226208}\n",
      "Parameters with this training accuracy 0.974329054842 and loss 0.49873068959 :\n",
      "Parameters with this testing accuracy 0.4 and loss 1.98173973876 :\n",
      "{'alpha': 0.27297586694599935}\n"
     ]
    },
    {
     "name": "stderr",
     "output_type": "stream",
     "text": [
      "Hyperopt:  80%|███████▉  | 799/1000 [00:20<00:05, 37.82it/s]"
     ]
    },
    {
     "name": "stdout",
     "output_type": "stream",
     "text": [
      "Parameters with this training accuracy 0.997666277713 and loss 0.0107754963078 :\n",
      "Parameters with this testing accuracy 0.305263157895 and loss 3.32616138056 :\n",
      "{'alpha': 0.0027682948846467492}\n",
      "Parameters with this training accuracy 0.966161026838 and loss 0.811869893802 :\n",
      "Parameters with this testing accuracy 0.389473684211 and loss 2.07362992632 :\n",
      "{'alpha': 0.4290073380088527}\n",
      "Parameters with this training accuracy 0.988331388565 and loss 0.093589311117 :\n",
      "Parameters with this testing accuracy 0.368421052632 and loss 1.87165913079 :\n",
      "{'alpha': 0.08451386523597938}\n",
      "Parameters with this training accuracy 0.978996499417 and loss 0.317074214706 :\n",
      "Parameters with this testing accuracy 0.410526315789 and loss 1.92762210622 :\n",
      "{'alpha': 0.1933539673298466}\n",
      "Parameters with this training accuracy 0.998833138856 and loss 0.00695545819581 :\n",
      "Parameters with this testing accuracy 0.263157894737 and loss 6.85919463616 :\n",
      "{'alpha': 6.0844914798907634e-05}\n",
      "Parameters with this training accuracy 0.973162193699 and loss 0.546599210712 :\n",
      "Parameters with this testing accuracy 0.4 and loss 1.99580660518 :\n",
      "{'alpha': 0.2947363705535507}\n",
      "Parameters with this training accuracy 0.966161026838 and loss 0.683253978396 :\n",
      "Parameters with this testing accuracy 0.4 and loss 2.03581726658 :\n",
      "{'alpha': 0.36045257913762174}\n",
      "Parameters with this training accuracy 0.961493582264 and loss 0.9086047236 :\n",
      "Parameters with this testing accuracy 0.378947368421 and loss 2.10239079898 :\n",
      "{'alpha': 0.48628003683804105}\n"
     ]
    },
    {
     "name": "stderr",
     "output_type": "stream",
     "text": [
      "Hyperopt:  81%|████████  | 807/1000 [00:20<00:05, 37.70it/s]"
     ]
    },
    {
     "name": "stdout",
     "output_type": "stream",
     "text": [
      "Parameters with this training accuracy 0.978996499417 and loss 0.263872182899 :\n",
      "Parameters with this testing accuracy 0.421052631579 and loss 1.91158119155 :\n",
      "{'alpha': 0.16995630008206036}\n",
      "Parameters with this training accuracy 0.987164527421 and loss 0.115626258113 :\n",
      "Parameters with this testing accuracy 0.389473684211 and loss 1.87276592409 :\n",
      "{'alpha': 0.09766446374364561}\n",
      "Parameters with this training accuracy 0.997666277713 and loss 0.0108448279259 :\n",
      "Parameters with this testing accuracy 0.305263157895 and loss 3.29334977422 :\n",
      "{'alpha': 0.0028866142441520415}\n",
      "Parameters with this training accuracy 0.977829638273 and loss 0.411685161902 :\n",
      "Parameters with this testing accuracy 0.4 and loss 1.95597769112 :\n",
      "{'alpha': 0.23449306015853605}\n",
      "Parameters with this training accuracy 0.966161026838 and loss 0.737020643593 :\n",
      "Parameters with this testing accuracy 0.4 and loss 2.05158293617 :\n",
      "{'alpha': 0.3881870395975066}\n",
      "Parameters with this training accuracy 0.95682613769 and loss 0.945409707855 :\n",
      "Parameters with this testing accuracy 0.378947368421 and loss 2.11343601306 :\n",
      "{'alpha': 0.5096192736929219}\n",
      "Parameters with this training accuracy 0.970828471412 and loss 0.61412566102 :\n",
      "Parameters with this testing accuracy 0.4 and loss 2.01558556627 :\n",
      "{'alpha': 0.326450663963912}\n",
      "Parameters with this training accuracy 0.949824970828 and loss 1.12202319999 :\n",
      "Parameters with this testing accuracy 0.368421052632 and loss 2.16744706273 :\n",
      "{'alpha': 0.6363413909670379}\n"
     ]
    },
    {
     "name": "stderr",
     "output_type": "stream",
     "text": [
      "Hyperopt:  82%|████████▏ | 815/1000 [00:20<00:04, 37.30it/s]"
     ]
    },
    {
     "name": "stdout",
     "output_type": "stream",
     "text": [
      "Parameters with this training accuracy 0.982497082847 and loss 0.154915207476 :\n",
      "Parameters with this testing accuracy 0.4 and loss 1.88051007018 :\n",
      "{'alpha': 0.11876053835390091}\n",
      "Parameters with this training accuracy 0.978996499417 and loss 0.335281718658 :\n",
      "Parameters with this testing accuracy 0.410526315789 and loss 1.93310614453 :\n",
      "{'alpha': 0.20127918587221}\n",
      "Parameters with this training accuracy 0.955659276546 and loss 1.01726343045 :\n",
      "Parameters with this testing accuracy 0.368421052632 and loss 2.13519422225 :\n",
      "{'alpha': 0.5580148556582814}\n",
      "Parameters with this training accuracy 0.974329054842 and loss 0.490843670048 :\n",
      "Parameters with this testing accuracy 0.4 and loss 1.97941638607 :\n",
      "{'alpha': 0.26943813192916233}\n",
      "Parameters with this training accuracy 0.963827304551 and loss 0.826250479502 :\n",
      "Parameters with this testing accuracy 0.389473684211 and loss 2.07788389465 :\n",
      "{'alpha': 0.4371784029050451}\n",
      "Parameters with this training accuracy 0.945157526254 and loss 1.20609193343 :\n",
      "Parameters with this testing accuracy 0.357894736842 and loss 2.19384756209 :\n",
      "{'alpha': 0.7071636765618167}\n",
      "Parameters with this training accuracy 0.988331388565 and loss 0.0837014346361 :\n",
      "Parameters with this testing accuracy 0.357894736842 and loss 1.87280322121 :\n",
      "{'alpha': 0.0781457964945699}\n",
      "Parameters with this training accuracy 0.969661610268 and loss 0.643407421095 :\n",
      "Parameters with this testing accuracy 0.4 and loss 2.02415360682 :\n",
      "{'alpha': 0.3406445425010497}\n"
     ]
    },
    {
     "name": "stderr",
     "output_type": "stream",
     "text": [
      "Hyperopt:  82%|████████▏ | 823/1000 [00:20<00:04, 36.94it/s]"
     ]
    },
    {
     "name": "stdout",
     "output_type": "stream",
     "text": [
      "Parameters with this training accuracy 0.982497082847 and loss 0.15855406172 :\n",
      "Parameters with this testing accuracy 0.4 and loss 1.88141164009 :\n",
      "{'alpha': 0.12060800566413563}\n",
      "Parameters with this training accuracy 0.95682613769 and loss 0.960926368272 :\n",
      "Parameters with this testing accuracy 0.378947368421 and loss 2.11811198579 :\n",
      "{'alpha': 0.5197419470834497}\n",
      "Parameters with this training accuracy 0.947491248541 and loss 1.1628624271 :\n",
      "Parameters with this testing accuracy 0.357894736842 and loss 2.18021085962 :\n",
      "{'alpha': 0.6697687760388368}\n",
      "Parameters with this training accuracy 0.978996499417 and loss 0.392084502571 :\n",
      "Parameters with this testing accuracy 0.4 and loss 1.95013448873 :\n",
      "{'alpha': 0.22595243256933306}\n",
      "Parameters with this training accuracy 0.970828471412 and loss 0.619304229218 :\n",
      "Parameters with this testing accuracy 0.4 and loss 2.01710092088 :\n",
      "{'alpha': 0.3289399068196944}\n",
      "Parameters with this training accuracy 0.963827304551 and loss 0.830813870844 :\n",
      "Parameters with this testing accuracy 0.389473684211 and loss 2.07923523011 :\n",
      "{'alpha': 0.43979500286321105}\n",
      "Parameters with this training accuracy 0.987164527421 and loss 0.105829901511 :\n",
      "Parameters with this testing accuracy 0.368421052632 and loss 1.87181128375 :\n",
      "{'alpha': 0.09197101529898125}\n",
      "Parameters with this training accuracy 0.997666277713 and loss 0.0124536540043 :\n",
      "Parameters with this testing accuracy 0.305263157895 and loss 2.76899503016 :\n",
      "{'alpha': 0.005945260225853205}\n"
     ]
    },
    {
     "name": "stderr",
     "output_type": "stream",
     "text": [
      "Hyperopt:  83%|████████▎ | 831/1000 [00:20<00:04, 37.08it/s]"
     ]
    },
    {
     "name": "stdout",
     "output_type": "stream",
     "text": [
      "Parameters with this training accuracy 0.975495915986 and loss 0.465785229743 :\n",
      "Parameters with this testing accuracy 0.4 and loss 1.97202171489 :\n",
      "{'alpha': 0.2582747166086948}\n",
      "Parameters with this training accuracy 0.952158693116 and loss 1.06243318338 :\n",
      "Parameters with this testing accuracy 0.368421052632 and loss 2.14901858567 :\n",
      "{'alpha': 0.5905658890455869}\n",
      "Parameters with this training accuracy 0.978996499417 and loss 0.301098869708 :\n",
      "Parameters with this testing accuracy 0.421052631579 and loss 1.9228041544 :\n",
      "{'alpha': 0.18637525491444087}\n",
      "Parameters with this training accuracy 0.938156359393 and loss 1.35576829843 :\n",
      "Parameters with this testing accuracy 0.357894736842 and loss 2.24214252853 :\n",
      "{'alpha': 0.8555479393278242}\n",
      "Parameters with this training accuracy 0.966161026838 and loss 0.770615124723 :\n",
      "Parameters with this testing accuracy 0.389473684211 and loss 2.06146063482 :\n",
      "{'alpha': 0.40616818265009574}\n",
      "Parameters with this training accuracy 0.978996499417 and loss 0.253959025179 :\n",
      "Parameters with this testing accuracy 0.421052631579 and loss 1.90860260037 :\n",
      "{'alpha': 0.1655309297686273}\n",
      "Parameters with this training accuracy 0.997666277713 and loss 0.0142203697234 :\n",
      "Parameters with this testing accuracy 0.326315789474 and loss 2.4898167822 :\n",
      "{'alpha': 0.009348959230113307}\n",
      "Parameters with this training accuracy 0.941656942824 and loss 1.23719733059 :\n",
      "Parameters with this testing accuracy 0.357894736842 and loss 2.20374311827 :\n",
      "{'alpha': 0.7354574249857939}\n"
     ]
    },
    {
     "name": "stderr",
     "output_type": "stream",
     "text": [
      "Hyperopt:  84%|████████▍ | 839/1000 [00:21<00:04, 37.34it/s]"
     ]
    },
    {
     "name": "stdout",
     "output_type": "stream",
     "text": [
      "Parameters with this training accuracy 0.997666277713 and loss 0.0130874406894 :\n",
      "Parameters with this testing accuracy 0.315789473684 and loss 2.64668367663 :\n",
      "{'alpha': 0.007187685852216852}\n",
      "Parameters with this training accuracy 0.955659276546 and loss 0.999811231318 :\n",
      "Parameters with this testing accuracy 0.368421052632 and loss 2.12988419865 :\n",
      "{'alpha': 0.5458942470666505}\n",
      "Parameters with this training accuracy 0.973162193699 and loss 0.548350716314 :\n",
      "Parameters with this testing accuracy 0.4 and loss 1.99632038014 :\n",
      "{'alpha': 0.29554292021761597}\n",
      "Parameters with this training accuracy 0.962660443407 and loss 0.854281796053 :\n",
      "Parameters with this testing accuracy 0.378947368421 and loss 2.08619616583 :\n",
      "{'alpha': 0.453436982663487}\n",
      "Parameters with this training accuracy 0.997666277713 and loss 0.00781994871622 :\n",
      "Parameters with this testing accuracy 0.252631578947 and loss 5.77453031508 :\n",
      "{'alpha': 0.0001830995205212571}\n",
      "Parameters with this training accuracy 0.949824970828 and loss 1.13654442399 :\n",
      "Parameters with this testing accuracy 0.368421052632 and loss 2.17197260439 :\n",
      "{'alpha': 0.6480257658598397}\n",
      "Parameters with this training accuracy 0.933488914819 and loss 1.41698646953 :\n",
      "Parameters with this testing accuracy 0.357894736842 and loss 2.26241192606 :\n",
      "{'alpha': 0.9264163325347705}\n",
      "Parameters with this training accuracy 0.94049008168 and loss 1.28682136255 :\n",
      "Parameters with this testing accuracy 0.357894736842 and loss 2.21968023148 :\n",
      "{'alpha': 0.7832192290350372}\n"
     ]
    },
    {
     "name": "stderr",
     "output_type": "stream",
     "text": [
      "Hyperopt:  85%|████████▍ | 847/1000 [00:21<00:04, 37.30it/s]"
     ]
    },
    {
     "name": "stdout",
     "output_type": "stream",
     "text": [
      "Parameters with this training accuracy 0.983663943991 and loss 0.144495478519 :\n",
      "Parameters with this testing accuracy 0.389473684211 and loss 1.87805416098 :\n",
      "{'alpha': 0.11338485345301105}\n",
      "Parameters with this training accuracy 0.969661610268 and loss 0.655080347539 :\n",
      "Parameters with this testing accuracy 0.4 and loss 2.0275694874 :\n",
      "{'alpha': 0.3463860946341521}\n",
      "Parameters with this training accuracy 0.952158693116 and loss 1.04914221866 :\n",
      "Parameters with this testing accuracy 0.368421052632 and loss 2.1449383695 :\n",
      "{'alpha': 0.5808051029797588}\n",
      "Parameters with this training accuracy 0.997666277713 and loss 0.0102947389047 :\n",
      "Parameters with this testing accuracy 0.294736842105 and loss 3.58403409149 :\n",
      "{'alpha': 0.002010886072583623}\n",
      "Parameters with this training accuracy 0.978996499417 and loss 0.374700910059 :\n",
      "Parameters with this testing accuracy 0.4 and loss 1.94493789729 :\n",
      "{'alpha': 0.21839673332380305}\n",
      "Parameters with this training accuracy 0.966161026838 and loss 0.816458760327 :\n",
      "Parameters with this testing accuracy 0.389473684211 and loss 2.07498664948 :\n",
      "{'alpha': 0.43160255803725733}\n",
      "Parameters with this training accuracy 0.997666277713 and loss 0.0100401411993 :\n",
      "Parameters with this testing accuracy 0.284210526316 and loss 3.74317793347 :\n",
      "{'alpha': 0.001662224933768719}\n",
      "Parameters with this training accuracy 0.978996499417 and loss 0.298053763252 :\n",
      "Parameters with this testing accuracy 0.410526315789 and loss 1.92188545043 :\n",
      "{'alpha': 0.18504142518694688}\n"
     ]
    },
    {
     "name": "stderr",
     "output_type": "stream",
     "text": [
      "Hyperopt:  86%|████████▌ | 855/1000 [00:21<00:03, 37.37it/s]"
     ]
    },
    {
     "name": "stdout",
     "output_type": "stream",
     "text": [
      "Parameters with this training accuracy 0.947491248541 and loss 1.17031474791 :\n",
      "Parameters with this testing accuracy 0.357894736842 and loss 2.18255228794 :\n",
      "{'alpha': 0.6760627614632282}\n",
      "Parameters with this training accuracy 0.984830805134 and loss 0.136587285004 :\n",
      "Parameters with this testing accuracy 0.389473684211 and loss 1.87634365754 :\n",
      "{'alpha': 0.10921068892247732}\n",
      "Parameters with this training accuracy 0.966161026838 and loss 0.685124199585 :\n",
      "Parameters with this testing accuracy 0.4 and loss 2.03636500767 :\n",
      "{'alpha': 0.3613971876301646}\n",
      "Parameters with this training accuracy 0.962660443407 and loss 0.891545251915 :\n",
      "Parameters with this testing accuracy 0.378947368421 and loss 2.09729194125 :\n",
      "{'alpha': 0.47576758981057793}\n",
      "Parameters with this training accuracy 0.970828471412 and loss 0.596523496141 :\n",
      "Parameters with this testing accuracy 0.4 and loss 2.01043394242 :\n",
      "{'alpha': 0.3180538577834384}\n",
      "Parameters with this training accuracy 0.93698949825 and loss 1.35684733933 :\n",
      "Parameters with this testing accuracy 0.357894736842 and loss 2.24249711225 :\n",
      "{'alpha': 0.8567400955348874}\n",
      "Parameters with this training accuracy 0.955659276546 and loss 1.02436259206 :\n",
      "Parameters with this testing accuracy 0.368421052632 and loss 2.13735910004 :\n",
      "{'alpha': 0.5630161099289589}\n",
      "Parameters with this training accuracy 0.978996499417 and loss 0.348579502899 :\n",
      "Parameters with this testing accuracy 0.410526315789 and loss 1.93710447925 :\n",
      "{'alpha': 0.20705600020270695}\n"
     ]
    },
    {
     "name": "stderr",
     "output_type": "stream",
     "text": [
      "Hyperopt:  86%|████████▋ | 863/1000 [00:21<00:03, 37.01it/s]"
     ]
    },
    {
     "name": "stdout",
     "output_type": "stream",
     "text": [
      "Parameters with this training accuracy 0.974329054842 and loss 0.497882561404 :\n",
      "Parameters with this testing accuracy 0.4 and loss 1.98148998484 :\n",
      "{'alpha': 0.27259484618948127}\n",
      "Parameters with this training accuracy 0.984830805134 and loss 0.139891628661 :\n",
      "Parameters with this testing accuracy 0.389473684211 and loss 1.87703984825 :\n",
      "{'alpha': 0.11096545368704426}\n",
      "Parameters with this training accuracy 0.943990665111 and loss 1.22271923206 :\n",
      "Parameters with this testing accuracy 0.357894736842 and loss 2.1991283489 :\n",
      "{'alpha': 0.7221374989137168}\n",
      "Parameters with this training accuracy 0.961493582264 and loss 0.905778762953 :\n",
      "Parameters with this testing accuracy 0.378947368421 and loss 2.10154528133 :\n",
      "{'alpha': 0.48452560231064135}\n",
      "Parameters with this training accuracy 0.977829638273 and loss 0.412868000975 :\n",
      "Parameters with this testing accuracy 0.4 and loss 1.95632976851 :\n",
      "{'alpha': 0.23500943161462579}\n",
      "Parameters with this training accuracy 0.966161026838 and loss 0.756606589125 :\n",
      "Parameters with this testing accuracy 0.389473684211 and loss 2.05733865341 :\n",
      "{'alpha': 0.3986056889549288}\n",
      "Parameters with this training accuracy 0.997666277713 and loss 0.00882363385605 :\n",
      "Parameters with this testing accuracy 0.273684210526 and loss 4.72017163579 :\n",
      "{'alpha': 0.0005548846990505452}\n",
      "Parameters with this training accuracy 0.952158693116 and loss 1.07372900331 :\n",
      "Parameters with this testing accuracy 0.368421052632 and loss 2.15249472958 :\n",
      "{'alpha': 0.5989859575692386}\n"
     ]
    },
    {
     "name": "stderr",
     "output_type": "stream",
     "text": [
      "Hyperopt:  87%|████████▋ | 871/1000 [00:22<00:03, 36.10it/s]"
     ]
    },
    {
     "name": "stdout",
     "output_type": "stream",
     "text": [
      "Parameters with this training accuracy 0.988331388565 and loss 0.0942068272287 :\n",
      "Parameters with this testing accuracy 0.368421052632 and loss 1.87163101998 :\n",
      "{'alpha': 0.08490053195338856}\n",
      "Parameters with this training accuracy 0.876312718786 and loss 2.23832903816 :\n",
      "Parameters with this testing accuracy 0.357894736842 and loss 2.56452778007 :\n",
      "{'alpha': 3.5917835829868037}\n",
      "Parameters with this training accuracy 0.931155192532 and loss 1.45722937309 :\n",
      "Parameters with this testing accuracy 0.357894736842 and loss 2.27590881732 :\n",
      "{'alpha': 0.9768771166027898}\n",
      "Parameters with this training accuracy 0.978996499417 and loss 0.303634413675 :\n",
      "Parameters with this testing accuracy 0.421052631579 and loss 1.9235690752 :\n",
      "{'alpha': 0.1874849177824648}\n",
      "Parameters with this training accuracy 0.939323220537 and loss 1.32078647297 :\n",
      "Parameters with this testing accuracy 0.357894736842 and loss 2.23069833362 :\n",
      "{'alpha': 0.8179289463036905}\n",
      "Parameters with this training accuracy 0.987164527421 and loss 0.120319767126 :\n",
      "Parameters with this testing accuracy 0.389473684211 and loss 1.87341353936 :\n",
      "{'alpha': 0.1003189838180267}\n",
      "Parameters with this training accuracy 0.997666277713 and loss 0.0113195438731 :\n",
      "Parameters with this testing accuracy 0.305263157895 and loss 3.09533579779 :\n",
      "{'alpha': 0.003742177973016958}\n",
      "Parameters with this training accuracy 0.969661610268 and loss 0.639914502069 :\n",
      "Parameters with this testing accuracy 0.4 and loss 2.02313154343 :\n",
      "{'alpha': 0.3389359434180276}\n"
     ]
    },
    {
     "name": "stderr",
     "output_type": "stream",
     "text": [
      "Hyperopt:  88%|████████▊ | 879/1000 [00:22<00:03, 35.57it/s]"
     ]
    },
    {
     "name": "stdout",
     "output_type": "stream",
     "text": [
      "Parameters with this training accuracy 0.962660443407 and loss 0.87619114922 :\n",
      "Parameters with this testing accuracy 0.378947368421 and loss 2.09271330521 :\n",
      "{'alpha': 0.4664637702361582}\n",
      "Parameters with this training accuracy 0.948658109685 and loss 1.15740530838 :\n",
      "Parameters with this testing accuracy 0.357894736842 and loss 2.17849873942 :\n",
      "{'alpha': 0.665198817550591}\n",
      "Parameters with this training accuracy 0.955659276546 and loss 1.01370327122 :\n",
      "Parameters with this testing accuracy 0.368421052632 and loss 2.13410962883 :\n",
      "{'alpha': 0.5555223505621867}\n",
      "Parameters with this training accuracy 0.978996499417 and loss 0.278438905078 :\n",
      "Parameters with this testing accuracy 0.421052631579 and loss 1.91596869052 :\n",
      "{'alpha': 0.1764137426583349}\n",
      "Parameters with this training accuracy 0.971995332555 and loss 0.589635175514 :\n",
      "Parameters with this testing accuracy 0.4 and loss 2.00841739671 :\n",
      "{'alpha': 0.3147940743455592}\n",
      "Parameters with this training accuracy 0.94049008168 and loss 1.25534869928 :\n",
      "Parameters with this testing accuracy 0.357894736842 and loss 2.20955082635 :\n",
      "{'alpha': 0.7525402894017137}\n",
      "Parameters with this training accuracy 0.934655775963 and loss 1.40638013961 :\n",
      "Parameters with this testing accuracy 0.357894736842 and loss 2.25887770394 :\n",
      "{'alpha': 0.913648635570657}\n",
      "Parameters with this training accuracy 0.997666277713 and loss 0.0123943954586 :\n",
      "Parameters with this testing accuracy 0.305263157895 and loss 2.78218765089 :\n",
      "{'alpha': 0.005828517972905067}\n"
     ]
    },
    {
     "name": "stderr",
     "output_type": "stream",
     "text": [
      "\r",
      "Hyperopt:  88%|████████▊ | 883/1000 [00:22<00:03, 36.29it/s]"
     ]
    },
    {
     "name": "stdout",
     "output_type": "stream",
     "text": [
      "Parameters with this training accuracy 0.966161026838 and loss 0.807151328285 :\n",
      "Parameters with this testing accuracy 0.389473684211 and loss 2.07223554478 :\n",
      "{'alpha': 0.42635050746947767}\n",
      "Parameters with this training accuracy 0.859976662777 and loss 2.3463006508 :\n",
      "Parameters with this testing accuracy 0.336842105263 and loss 2.60704728289 :\n",
      "{'alpha': 4.730048481374928}\n",
      "Parameters with this training accuracy 0.883313885648 and loss 2.11956747575 :\n",
      "Parameters with this testing accuracy 0.357894736842 and loss 2.51804863841 :\n",
      "{'alpha': 2.7784432858618375}\n",
      "Parameters with this training accuracy 0.987164527421 and loss 0.112988038848 :\n",
      "Parameters with this testing accuracy 0.378947368421 and loss 1.87245160026 :\n",
      "{'alpha': 0.09615241011055119}\n",
      "Parameters with this training accuracy 0.97666277713 and loss 0.43294478237 :\n",
      "Parameters with this testing accuracy 0.4 and loss 1.96229657449 :\n",
      "{'alpha': 0.24379521149738534}\n",
      "Parameters with this training accuracy 0.966161026838 and loss 0.70050204901 :\n",
      "Parameters with this testing accuracy 0.4 and loss 2.04087028913 :\n",
      "{'alpha': 0.36921747928917326}\n",
      "Parameters with this training accuracy 0.955659276546 and loss 0.981200223409 :\n",
      "Parameters with this testing accuracy 0.368421052632 and loss 2.12423989047 :\n",
      "{'alpha': 0.5332338690848367}\n",
      "Parameters with this training accuracy 0.997666277713 and loss 0.010183957692 :\n",
      "Parameters with this testing accuracy 0.294736842105 and loss 3.65131524983 :\n",
      "{'alpha': 0.001854309380267427}\n"
     ]
    },
    {
     "name": "stderr",
     "output_type": "stream",
     "text": [
      "Hyperopt:  90%|████████▉ | 895/1000 [00:22<00:02, 35.83it/s]"
     ]
    },
    {
     "name": "stdout",
     "output_type": "stream",
     "text": [
      "Parameters with this training accuracy 0.97666277713 and loss 0.451430793974 :\n",
      "Parameters with this testing accuracy 0.4 and loss 1.96777596752 :\n",
      "{'alpha': 0.2519269533174717}\n",
      "Parameters with this training accuracy 0.950991831972 and loss 1.11871456285 :\n",
      "Parameters with this testing accuracy 0.368421052632 and loss 2.16641787955 :\n",
      "{'alpha': 0.6337092802357351}\n",
      "Parameters with this training accuracy 0.997666277713 and loss 0.00887018518061 :\n",
      "Parameters with this testing accuracy 0.273684210526 and loss 4.67650991399 :\n",
      "{'alpha': 0.0005816878883778132}\n",
      "Parameters with this training accuracy 0.981330221704 and loss 0.210157929999 :\n",
      "Parameters with this testing accuracy 0.410526315789 and loss 1.89561587316 :\n",
      "{'alpha': 0.14555940975080142}\n",
      "Parameters with this training accuracy 0.929988331389 and loss 1.49425000493 :\n",
      "Parameters with this testing accuracy 0.357894736842 and loss 2.28844869632 :\n",
      "{'alpha': 1.0263196075364998}\n",
      "Parameters with this training accuracy 0.94049008168 and loss 1.29770996464 :\n",
      "Parameters with this testing accuracy 0.357894736842 and loss 2.22320254787 :\n",
      "{'alpha': 0.7941599098151136}\n",
      "Parameters with this training accuracy 0.961493582264 and loss 0.910280541177 :\n",
      "Parameters with this testing accuracy 0.378947368421 and loss 2.10289236466 :\n",
      "{'alpha': 0.487322902713574}\n",
      "Parameters with this training accuracy 0.966161026838 and loss 0.717871871884 :\n",
      "Parameters with this testing accuracy 0.4 and loss 2.04596295955 :\n",
      "{'alpha': 0.378168420355223}\n"
     ]
    },
    {
     "name": "stderr",
     "output_type": "stream",
     "text": [
      "Hyperopt:  90%|█████████ | 903/1000 [00:22<00:02, 36.38it/s]"
     ]
    },
    {
     "name": "stdout",
     "output_type": "stream",
     "text": [
      "Parameters with this training accuracy 0.978996499417 and loss 0.252312542744 :\n",
      "Parameters with this testing accuracy 0.421052631579 and loss 1.90810869772 :\n",
      "{'alpha': 0.16479316796322607}\n",
      "Parameters with this training accuracy 0.985997666278 and loss 0.131504419067 :\n",
      "Parameters with this testing accuracy 0.389473684211 and loss 1.87533175727 :\n",
      "{'alpha': 0.10647958319172922}\n",
      "Parameters with this training accuracy 0.926487747958 and loss 1.5564872234 :\n",
      "Parameters with this testing accuracy 0.357894736842 and loss 2.30980251057 :\n",
      "{'alpha': 1.1167441741468842}\n",
      "Parameters with this training accuracy 0.948658109685 and loss 1.1501892298 :\n",
      "Parameters with this testing accuracy 0.357894736842 and loss 2.17623790545 :\n",
      "{'alpha': 0.6592057057501667}\n",
      "Parameters with this training accuracy 0.974329054842 and loss 0.496229828989 :\n",
      "Parameters with this testing accuracy 0.4 and loss 1.98100323429 :\n",
      "{'alpha': 0.2718527716198378}\n",
      "Parameters with this training accuracy 0.925320886814 and loss 1.62741365507 :\n",
      "Parameters with this testing accuracy 0.357894736842 and loss 2.33456141884 :\n",
      "{'alpha': 1.2326681851598333}\n",
      "Parameters with this training accuracy 0.955659276546 and loss 0.971875466806 :\n",
      "Parameters with this testing accuracy 0.378947368421 and loss 2.12141879139 :\n",
      "{'alpha': 0.5269903226050123}\n",
      "Parameters with this training accuracy 0.870478413069 and loss 2.27376701661 :\n",
      "Parameters with this testing accuracy 0.357894736842 and loss 2.57846716362 :\n",
      "{'alpha': 3.910534308442494}\n"
     ]
    },
    {
     "name": "stderr",
     "output_type": "stream",
     "text": [
      "Hyperopt:  91%|█████████ | 911/1000 [00:23<00:02, 36.73it/s]"
     ]
    },
    {
     "name": "stdout",
     "output_type": "stream",
     "text": [
      "Parameters with this training accuracy 0.966161026838 and loss 0.791279384082 :\n",
      "Parameters with this testing accuracy 0.389473684211 and loss 2.06755014847 :\n",
      "{'alpha': 0.4174994469445572}\n",
      "Parameters with this training accuracy 0.93698949825 and loss 1.36240706409 :\n",
      "Parameters with this testing accuracy 0.357894736842 and loss 2.24432560538 :\n",
      "{'alpha': 0.8629137260621179}\n",
      "Parameters with this training accuracy 0.87747957993 and loss 2.22253112435 :\n",
      "Parameters with this testing accuracy 0.357894736842 and loss 2.55832166707 :\n",
      "{'alpha': 3.4630643928914866}\n",
      "Parameters with this training accuracy 0.973162193699 and loss 0.521713458829 :\n",
      "Parameters with this testing accuracy 0.4 and loss 1.98850024786 :\n",
      "{'alpha': 0.28335835091117445}\n",
      "Parameters with this training accuracy 0.943990665111 and loss 1.22864219145 :\n",
      "Parameters with this testing accuracy 0.357894736842 and loss 2.20101436445 :\n",
      "{'alpha': 0.7275544616979955}\n",
      "Parameters with this training accuracy 0.978996499417 and loss 0.234823631471 :\n",
      "Parameters with this testing accuracy 0.410526315789 and loss 1.90288291188 :\n",
      "{'alpha': 0.15690117042495594}\n",
      "Parameters with this training accuracy 0.891481913652 and loss 1.96656992312 :\n",
      "Parameters with this testing accuracy 0.357894736842 and loss 2.45908788802 :\n",
      "{'alpha': 2.0887716383338266}\n",
      "Parameters with this training accuracy 0.997666277713 and loss 0.0106774004482 :\n",
      "Parameters with this testing accuracy 0.305263157895 and loss 3.37441050238 :\n",
      "{'alpha': 0.0026044323346107734}\n"
     ]
    },
    {
     "name": "stderr",
     "output_type": "stream",
     "text": [
      "Hyperopt:  92%|█████████▏| 919/1000 [00:23<00:02, 36.68it/s]"
     ]
    },
    {
     "name": "stdout",
     "output_type": "stream",
     "text": [
      "Parameters with this training accuracy 0.955659276546 and loss 1.01144455248 :\n",
      "Parameters with this testing accuracy 0.368421052632 and loss 2.13342188413 :\n",
      "{'alpha': 0.5539463446572076}\n",
      "Parameters with this training accuracy 0.989498249708 and loss 0.0795193517598 :\n",
      "Parameters with this testing accuracy 0.357894736842 and loss 1.87377244332 :\n",
      "{'alpha': 0.07534076613904721}\n",
      "Parameters with this training accuracy 0.966161026838 and loss 0.713084170952 :\n",
      "Parameters with this testing accuracy 0.4 and loss 2.04455879806 :\n",
      "{'alpha': 0.375688491826334}\n",
      "Parameters with this training accuracy 0.931155192532 and loss 1.4558889478 :\n",
      "Parameters with this testing accuracy 0.357894736842 and loss 2.2754570165 :\n",
      "{'alpha': 0.9751429260278712}\n",
      "Parameters with this training accuracy 0.962660443407 and loss 0.869941031828 :\n",
      "Parameters with this testing accuracy 0.378947368421 and loss 2.0908522432 :\n",
      "{'alpha': 0.4627181738944595}\n",
      "Parameters with this training accuracy 0.978996499417 and loss 0.388153135476 :\n",
      "Parameters with this testing accuracy 0.4 and loss 1.94896043992 :\n",
      "{'alpha': 0.22424246816371662}\n",
      "Parameters with this training accuracy 0.997666277713 and loss 0.0125995827898 :\n",
      "Parameters with this testing accuracy 0.315789473684 and loss 2.73790943945 :\n",
      "{'alpha': 0.006232537049344761}\n",
      "Parameters with this training accuracy 0.947491248541 and loss 1.16968246279 :\n",
      "Parameters with this testing accuracy 0.357894736842 and loss 2.18235348163 :\n",
      "{'alpha': 0.6755263499572015}\n"
     ]
    },
    {
     "name": "stderr",
     "output_type": "stream",
     "text": [
      "Hyperopt:  93%|█████████▎| 927/1000 [00:23<00:02, 36.17it/s]"
     ]
    },
    {
     "name": "stdout",
     "output_type": "stream",
     "text": [
      "Parameters with this training accuracy 0.970828471412 and loss 0.61567358026 :\n",
      "Parameters with this testing accuracy 0.4 and loss 2.01603852748 :\n",
      "{'alpha': 0.3271938018628488}\n",
      "Parameters with this training accuracy 0.952158693116 and loss 1.05626147064 :\n",
      "Parameters with this testing accuracy 0.368421052632 and loss 2.14712260064 :\n",
      "{'alpha': 0.5860139654244949}\n",
      "Parameters with this training accuracy 0.939323220537 and loss 1.31998067214 :\n",
      "Parameters with this testing accuracy 0.357894736842 and loss 2.23043587869 :\n",
      "{'alpha': 0.8170853071431661}\n",
      "Parameters with this training accuracy 0.988331388565 and loss 0.0948632697313 :\n",
      "Parameters with this testing accuracy 0.368421052632 and loss 1.87160591347 :\n",
      "{'alpha': 0.08531026155623134}\n",
      "Parameters with this training accuracy 0.978996499417 and loss 0.376327607657 :\n",
      "Parameters with this testing accuracy 0.4 and loss 1.94542474714 :\n",
      "{'alpha': 0.21910326804100083}\n",
      "Parameters with this training accuracy 0.971995332555 and loss 0.565048526294 :\n",
      "Parameters with this testing accuracy 0.4 and loss 2.00121585786 :\n",
      "{'alpha': 0.3032723882327598}\n",
      "Parameters with this training accuracy 0.978996499417 and loss 0.248623857245 :\n",
      "Parameters with this testing accuracy 0.421052631579 and loss 1.9070032017 :\n",
      "{'alpha': 0.16313727231320116}\n",
      "Parameters with this training accuracy 0.966161026838 and loss 0.769488589432 :\n",
      "Parameters with this testing accuracy 0.389473684211 and loss 2.06112897823 :\n",
      "{'alpha': 0.4055565237243276}\n"
     ]
    },
    {
     "name": "stderr",
     "output_type": "stream",
     "text": [
      "Hyperopt:  94%|█████████▎| 935/1000 [00:23<00:01, 35.25it/s]"
     ]
    },
    {
     "name": "stdout",
     "output_type": "stream",
     "text": [
      "Parameters with this training accuracy 0.933488914819 and loss 1.42702698361 :\n",
      "Parameters with this testing accuracy 0.357894736842 and loss 2.26576639782 :\n",
      "{'alpha': 0.938702458938135}\n",
      "Parameters with this training accuracy 0.95682613769 and loss 0.946552150191 :\n",
      "Parameters with this testing accuracy 0.378947368421 and loss 2.11377988552 :\n",
      "{'alpha': 0.5103586996147436}\n",
      "Parameters with this training accuracy 0.997666277713 and loss 0.0115404683975 :\n",
      "Parameters with this testing accuracy 0.315789473684 and loss 3.01744442182 :\n",
      "{'alpha': 0.004160362485124164}\n",
      "Parameters with this training accuracy 0.997666277713 and loss 0.010465709318 :\n",
      "Parameters with this testing accuracy 0.305263157895 and loss 3.48607094191 :\n",
      "{'alpha': 0.0022664702529039404}\n",
      "Parameters with this training accuracy 0.950991831972 and loss 1.10436364858 :\n",
      "Parameters with this testing accuracy 0.368421052632 and loss 2.1619621718 :\n",
      "{'alpha': 0.6224194491072981}\n",
      "Parameters with this training accuracy 0.941656942824 and loss 1.23966756884 :\n",
      "Parameters with this testing accuracy 0.357894736842 and loss 2.20453204139 :\n",
      "{'alpha': 0.7377568635240893}\n",
      "Parameters with this training accuracy 0.997666277713 and loss 0.00896274175283 :\n",
      "Parameters with this testing accuracy 0.273684210526 and loss 4.59111490813 :\n",
      "{'alpha': 0.0006381555865510313}\n",
      "Parameters with this training accuracy 0.985997666278 and loss 0.129274501116 :\n",
      "Parameters with this testing accuracy 0.389473684211 and loss 1.87491292288 :\n",
      "{'alpha': 0.10526853479987613}\n"
     ]
    },
    {
     "name": "stderr",
     "output_type": "stream",
     "text": [
      "Hyperopt:  94%|█████████▍| 943/1000 [00:24<00:01, 35.54it/s]"
     ]
    },
    {
     "name": "stdout",
     "output_type": "stream",
     "text": [
      "Parameters with this training accuracy 0.89731621937 and loss 1.91419666461 :\n",
      "Parameters with this testing accuracy 0.357894736842 and loss 2.43924195137 :\n",
      "{'alpha': 1.9104332663396582}\n",
      "Parameters with this training accuracy 0.978996499417 and loss 0.296726967923 :\n",
      "Parameters with this testing accuracy 0.410526315789 and loss 1.92148514637 :\n",
      "{'alpha': 0.18445984173321184}\n",
      "Parameters with this training accuracy 0.973162193699 and loss 0.51402231176 :\n",
      "Parameters with this testing accuracy 0.4 and loss 1.98623936975 :\n",
      "{'alpha': 0.2798711641186195}\n",
      "Parameters with this training accuracy 0.926487747958 and loss 1.56527053866 :\n",
      "Parameters with this testing accuracy 0.357894736842 and loss 2.31284394619 :\n",
      "{'alpha': 1.1303110657328406}\n",
      "Parameters with this training accuracy 0.962660443407 and loss 0.884001286064 :\n",
      "Parameters with this testing accuracy 0.378947368421 and loss 2.09504109616 :\n",
      "{'alpha': 0.47117796563835973}\n",
      "Parameters with this training accuracy 0.880980163361 and loss 2.17939444849 :\n",
      "Parameters with this testing accuracy 0.357894736842 and loss 2.54140763449 :\n",
      "{'alpha': 3.1469128907506727}\n",
      "Parameters with this training accuracy 0.966161026838 and loss 0.692449404195 :\n",
      "Parameters with this testing accuracy 0.4 and loss 2.0385107399 :\n",
      "{'alpha': 0.3651104258324196}\n",
      "Parameters with this training accuracy 0.9008168028 and loss 1.86796345081 :\n",
      "Parameters with this testing accuracy 0.357894736842 and loss 2.42189356235 :\n",
      "{'alpha': 1.7707076484746462}\n"
     ]
    },
    {
     "name": "stderr",
     "output_type": "stream",
     "text": [
      "Hyperopt:  95%|█████████▌| 951/1000 [00:24<00:01, 35.86it/s]"
     ]
    },
    {
     "name": "stdout",
     "output_type": "stream",
     "text": [
      "Parameters with this training accuracy 0.950991831972 and loss 1.09913052754 :\n",
      "Parameters with this testing accuracy 0.368421052632 and loss 2.16034069495 :\n",
      "{'alpha': 0.618353007826937}\n",
      "Parameters with this training accuracy 0.985997666278 and loss 0.134420141254 :\n",
      "Parameters with this testing accuracy 0.389473684211 and loss 1.87590299288 :\n",
      "{'alpha': 0.10805110423576357}\n",
      "Parameters with this training accuracy 0.938156359393 and loss 1.33959273783 :\n",
      "Parameters with this testing accuracy 0.357894736842 and loss 2.23683844914 :\n",
      "{'alpha': 0.837907768227846}\n",
      "Parameters with this training accuracy 0.866977829638 and loss 2.30721827785 :\n",
      "Parameters with this testing accuracy 0.347368421053 and loss 2.59164208903 :\n",
      "{'alpha': 4.256445710536694}\n",
      "Parameters with this training accuracy 0.973162193699 and loss 0.520098260365 :\n",
      "Parameters with this testing accuracy 0.4 and loss 1.98802556531 :\n",
      "{'alpha': 0.2826249162189499}\n",
      "Parameters with this training accuracy 0.962660443407 and loss 0.862220146895 :\n",
      "Parameters with this testing accuracy 0.378947368421 and loss 2.08855535963 :\n",
      "{'alpha': 0.45812377801912485}\n",
      "Parameters with this training accuracy 0.947491248541 and loss 1.18297491041 :\n",
      "Parameters with this testing accuracy 0.357894736842 and loss 2.1865388587 :\n",
      "{'alpha': 0.6868984109525385}\n",
      "Parameters with this training accuracy 0.928821470245 and loss 1.51492246617 :\n",
      "Parameters with this testing accuracy 0.357894736842 and loss 2.29550333316 :\n",
      "{'alpha': 1.0552905967633897}\n"
     ]
    },
    {
     "name": "stderr",
     "output_type": "stream",
     "text": [
      "Hyperopt:  96%|█████████▌| 959/1000 [00:24<00:01, 36.06it/s]"
     ]
    },
    {
     "name": "stdout",
     "output_type": "stream",
     "text": [
      "Parameters with this training accuracy 0.98016336056 and loss 0.215324634176 :\n",
      "Parameters with this testing accuracy 0.410526315789 and loss 1.89712402774 :\n",
      "{'alpha': 0.14795914819019348}\n",
      "Parameters with this training accuracy 0.966161026838 and loss 0.704675129512 :\n",
      "Parameters with this testing accuracy 0.4 and loss 2.04209339781 :\n",
      "{'alpha': 0.37135635612419554}\n",
      "Parameters with this training accuracy 0.997666277713 and loss 0.0113605558744 :\n",
      "Parameters with this testing accuracy 0.315789473684 and loss 3.08024491072 :\n",
      "{'alpha': 0.0038190622353056203}\n",
      "Parameters with this training accuracy 0.955659276546 and loss 0.989713848644 :\n",
      "Parameters with this testing accuracy 0.368421052632 and loss 2.12681958298 :\n",
      "{'alpha': 0.5389920580976029}\n",
      "Parameters with this training accuracy 0.880980163361 and loss 2.1538637009 :\n",
      "Parameters with this testing accuracy 0.357894736842 and loss 2.5314234003 :\n",
      "{'alpha': 2.980824794244141}\n",
      "Parameters with this training accuracy 0.978996499417 and loss 0.393907032372 :\n",
      "Parameters with this testing accuracy 0.4 and loss 1.9506785278 :\n",
      "{'alpha': 0.22674544619080456}\n",
      "Parameters with this training accuracy 0.978996499417 and loss 0.262467747648 :\n",
      "Parameters with this testing accuracy 0.421052631579 and loss 1.91115875747 :\n",
      "{'alpha': 0.16933098364476198}\n",
      "Parameters with this training accuracy 0.94049008168 and loss 1.27265556262 :\n",
      "Parameters with this testing accuracy 0.357894736842 and loss 2.21511158034 :\n",
      "{'alpha': 0.7692401816655677}\n"
     ]
    },
    {
     "name": "stderr",
     "output_type": "stream",
     "text": [
      "Hyperopt:  97%|█████████▋| 967/1000 [00:24<00:00, 35.95it/s]"
     ]
    },
    {
     "name": "stdout",
     "output_type": "stream",
     "text": [
      "Parameters with this training accuracy 0.862310385064 and loss 2.32887875739 :\n",
      "Parameters with this testing accuracy 0.347368421053 and loss 2.60017896268 :\n",
      "{'alpha': 4.508530700621859}\n",
      "Parameters with this training accuracy 0.933488914819 and loss 1.41948825897 :\n",
      "Parameters with this testing accuracy 0.357894736842 and loss 2.2632469564 :\n",
      "{'alpha': 0.9294593209436592}\n",
      "Parameters with this training accuracy 0.969661610268 and loss 0.637920146242 :\n",
      "Parameters with this testing accuracy 0.4 and loss 2.02254798493 :\n",
      "{'alpha': 0.3379623051806659}\n",
      "Parameters with this training accuracy 0.962660443407 and loss 0.867064630242 :\n",
      "Parameters with this testing accuracy 0.378947368421 and loss 2.08999627228 :\n",
      "{'alpha': 0.4610023545511023}\n",
      "Parameters with this training accuracy 0.987164527421 and loss 0.111114876488 :\n",
      "Parameters with this testing accuracy 0.368421052632 and loss 1.8722524795 :\n",
      "{'alpha': 0.09506964040221513}\n",
      "Parameters with this training accuracy 0.987164527421 and loss 0.10904544167 :\n",
      "Parameters with this testing accuracy 0.368421052632 and loss 1.87205752636 :\n",
      "{'alpha': 0.09386418166491325}\n",
      "Parameters with this training accuracy 0.921820303384 and loss 1.69289602363 :\n",
      "Parameters with this testing accuracy 0.357894736842 and loss 2.35782486475 :\n",
      "{'alpha': 1.3541524767060427}\n",
      "Parameters with this training accuracy 0.949824970828 and loss 1.14670429006 :\n",
      "Parameters with this testing accuracy 0.368421052632 and loss 2.17514733017 :\n",
      "{'alpha': 0.6563314898540329}\n"
     ]
    },
    {
     "name": "stderr",
     "output_type": "stream",
     "text": [
      "Hyperopt:  98%|█████████▊| 975/1000 [00:24<00:00, 35.83it/s]"
     ]
    },
    {
     "name": "stdout",
     "output_type": "stream",
     "text": [
      "Parameters with this training accuracy 0.925320886814 and loss 1.64131770838 :\n",
      "Parameters with this testing accuracy 0.357894736842 and loss 2.33946845614 :\n",
      "{'alpha': 1.2572143968237413}\n",
      "Parameters with this training accuracy 0.955659276546 and loss 1.00557305073 :\n",
      "Parameters with this testing accuracy 0.368421052632 and loss 2.13163543116 :\n",
      "{'alpha': 0.5498688106165255}\n",
      "Parameters with this training accuracy 0.97666277713 and loss 0.449217681058 :\n",
      "Parameters with this testing accuracy 0.4 and loss 1.96712069035 :\n",
      "{'alpha': 0.2509510104932032}\n",
      "Parameters with this training accuracy 0.997666277713 and loss 0.0136411891238 :\n",
      "Parameters with this testing accuracy 0.315789473684 and loss 2.56213079742 :\n",
      "{'alpha': 0.008255571352162538}\n",
      "Parameters with this training accuracy 0.966161026838 and loss 0.726245557876 :\n",
      "Parameters with this testing accuracy 0.4 and loss 2.04841974718 :\n",
      "{'alpha': 0.38252963907325255}\n",
      "Parameters with this training accuracy 0.93698949825 and loss 1.36633877093 :\n",
      "Parameters with this testing accuracy 0.357894736842 and loss 2.24562020452 :\n",
      "{'alpha': 0.8673112495512239}\n",
      "Parameters with this training accuracy 0.997666277713 and loss 0.0131390194244 :\n",
      "Parameters with this testing accuracy 0.315789473684 and loss 2.63804037209 :\n",
      "{'alpha': 0.007287984057742197}\n",
      "Parameters with this training accuracy 0.94049008168 and loss 1.25976215762 :\n",
      "Parameters with this testing accuracy 0.357894736842 and loss 2.21096671528 :\n",
      "{'alpha': 0.7567601556646819}\n"
     ]
    },
    {
     "name": "stderr",
     "output_type": "stream",
     "text": [
      "Hyperopt:  98%|█████████▊| 983/1000 [00:25<00:00, 35.86it/s]"
     ]
    },
    {
     "name": "stdout",
     "output_type": "stream",
     "text": [
      "Parameters with this training accuracy 0.971995332555 and loss 0.564855326513 :\n",
      "Parameters with this testing accuracy 0.4 and loss 2.00115923961 :\n",
      "{'alpha': 0.30318252802034373}\n",
      "Parameters with this training accuracy 0.952158693116 and loss 1.04701479338 :\n",
      "Parameters with this testing accuracy 0.368421052632 and loss 2.14428624844 :\n",
      "{'alpha': 0.579257176982036}\n",
      "Parameters with this training accuracy 0.963827304551 and loss 0.835936028731 :\n",
      "Parameters with this testing accuracy 0.378947368421 and loss 2.08075287582 :\n",
      "{'alpha': 0.44274581693318}\n",
      "Parameters with this training accuracy 0.929988331389 and loss 1.49008642979 :\n",
      "Parameters with this testing accuracy 0.357894736842 and loss 2.28703240067 :\n",
      "{'alpha': 1.0206058818287742}\n",
      "Parameters with this training accuracy 0.949824970828 and loss 1.12878963754 :\n",
      "Parameters with this testing accuracy 0.368421052632 and loss 2.16955407864 :\n",
      "{'alpha': 0.6417589369598378}\n",
      "Parameters with this training accuracy 0.978996499417 and loss 0.249556329206 :\n",
      "Parameters with this testing accuracy 0.421052631579 and loss 1.90728252305 :\n",
      "{'alpha': 0.16355627773049058}\n",
      "Parameters with this training accuracy 0.997666277713 and loss 0.0119438048847 :\n",
      "Parameters with this testing accuracy 0.305263157895 and loss 2.89474879049 :\n",
      "{'alpha': 0.0049423528528377}\n",
      "Parameters with this training accuracy 0.883313885648 and loss 2.0908459432 :\n",
      "Parameters with this testing accuracy 0.357894736842 and loss 2.50688571903 :\n",
      "{'alpha': 2.6248703808079616}\n"
     ]
    },
    {
     "name": "stderr",
     "output_type": "stream",
     "text": [
      "Hyperopt:  99%|█████████▉| 991/1000 [00:25<00:00, 35.50it/s]"
     ]
    },
    {
     "name": "stdout",
     "output_type": "stream",
     "text": [
      "Parameters with this training accuracy 0.977829638273 and loss 0.430429399688 :\n",
      "Parameters with this testing accuracy 0.4 and loss 1.96154993362 :\n",
      "{'alpha': 0.24269206366367788}\n",
      "Parameters with this training accuracy 0.886814469078 and loss 2.01410375725 :\n",
      "Parameters with this testing accuracy 0.357894736842 and loss 2.47726225324 :\n",
      "{'alpha': 2.272600887636485}\n",
      "Parameters with this training accuracy 0.966161026838 and loss 0.774958269382 :\n",
      "Parameters with this testing accuracy 0.389473684211 and loss 2.062739574 :\n",
      "{'alpha': 0.4085321279331602}\n",
      "Parameters with this training accuracy 0.997666277713 and loss 0.0105849771127 :\n",
      "Parameters with this testing accuracy 0.305263157895 and loss 3.42187412811 :\n",
      "{'alpha': 0.002454125466717305}\n",
      "Parameters with this training accuracy 0.978996499417 and loss 0.250643417675 :\n",
      "Parameters with this testing accuracy 0.421052631579 and loss 1.90760828139 :\n",
      "{'alpha': 0.16404440916055346}\n",
      "Parameters with this training accuracy 0.997666277713 and loss 0.00993009979972 :\n",
      "Parameters with this testing accuracy 0.273684210526 and loss 3.81692746258 :\n",
      "{'alpha': 0.0015240628583695348}\n",
      "Parameters with this training accuracy 0.955659276546 and loss 0.974720496518 :\n",
      "Parameters with this testing accuracy 0.368421052632 and loss 2.12227904316 :\n",
      "{'alpha': 0.5288883208498689}\n",
      "Parameters with this training accuracy 0.973162193699 and loss 0.513347427933 :\n",
      "Parameters with this testing accuracy 0.4 and loss 1.98604091217 :\n",
      "{'alpha': 0.2795657953777551}\n"
     ]
    },
    {
     "name": "stderr",
     "output_type": "stream",
     "text": [
      "Hyperopt: 100%|█████████▉| 999/1000 [00:25<00:00, 35.58it/s]"
     ]
    },
    {
     "name": "stdout",
     "output_type": "stream",
     "text": [
      "Parameters with this training accuracy 0.94049008168 and loss 1.2800934703 :\n",
      "Parameters with this testing accuracy 0.357894736842 and loss 2.21750846453 :\n",
      "{'alpha': 0.7765446062155854}\n",
      "Parameters with this training accuracy 0.987164527421 and loss 0.116483519298 :\n",
      "Parameters with this testing accuracy 0.389473684211 and loss 1.87287608697 :\n",
      "{'alpha': 0.09815263021451426}\n",
      "Parameters with this training accuracy 0.935822637106 and loss 1.38481867596 :\n",
      "Parameters with this testing accuracy 0.357894736842 and loss 2.25172221107 :\n",
      "{'alpha': 0.8883396742886301}\n",
      "Parameters with this training accuracy 0.966161026838 and loss 0.710257152335 :\n",
      "Parameters with this testing accuracy 0.4 and loss 2.04372984329 :\n",
      "{'alpha': 0.3742287489892405}\n",
      "Parameters with this training accuracy 0.978996499417 and loss 0.300088740761 :\n",
      "Parameters with this testing accuracy 0.421052631579 and loss 1.9224994057 :\n",
      "{'alpha': 0.18593293801595404}\n",
      "Parameters with this training accuracy 0.952158693116 and loss 1.07516563505 :\n",
      "Parameters with this testing accuracy 0.368421052632 and loss 2.15293739651 :\n",
      "{'alpha': 0.6000651900090053}\n",
      "Parameters with this training accuracy 0.962660443407 and loss 0.872999065872 :\n",
      "Parameters with this testing accuracy 0.378947368421 and loss 2.09176262246 :\n",
      "{'alpha': 0.46454783213587414}\n",
      "Parameters with this training accuracy 0.926487747958 and loss 1.56461157066 :\n",
      "Parameters with this testing accuracy 0.357894736842 and loss 2.31261552196 :\n",
      "{'alpha': 1.129285883180806}\n"
     ]
    },
    {
     "name": "stderr",
     "output_type": "stream",
     "text": [
      "Hyperopt: 100%|██████████| 1000/1000 [00:25<00:00, 38.97it/s]\n"
     ]
    },
    {
     "name": "stdout",
     "output_type": "stream",
     "text": [
      "Parameters with this training accuracy 0.973162193699 and loss 0.519449459102 :\n",
      "Parameters with this testing accuracy 0.4 and loss 1.98783487489 :\n",
      "{'alpha': 0.28233047240590414}\n",
      "------------------------------------\n",
      "('The best hyperparameters are: ', '\\n')\n",
      "{'alpha': 0.17750816648913298}\n",
      "Time elapsed to optimize 1000 executions: 25.6654388905\n",
      "\n",
      " Best score:\n",
      "Parameters with this training accuracy 0.978996499417 and loss 0.280918240938 :\n",
      "Parameters with this testing accuracy 0.421052631579 and loss 1.91671625414 :\n",
      "{'alpha': 0.17750816648913298}\n"
     ]
    },
    {
     "data": {
      "text/plain": [
       "{'loss': -0.42105263157894735, 'status': 'ok'}"
      ]
     },
     "execution_count": 14,
     "metadata": {},
     "output_type": "execute_result"
    }
   ],
   "source": [
    "import time\n",
    "from tqdm import tqdm\n",
    "import numpy as np\n",
    "\n",
    "trials = Trials()\n",
    "cores = 48\n",
    "start = time.time()\n",
    "evaluations = 1000\n",
    "pbar = tqdm(total=evaluations, desc=\"Hyperopt\")\n",
    "best_param = optimize(evals=evaluations,\n",
    "                      optimizer=tpe.suggest,\n",
    "                      trials=trials)\n",
    "print(\"------------------------------------\")\n",
    "print(\"The best hyperparameters are: \", \"\\n\")\n",
    "print(best_param)\n",
    "end = time.time()\n",
    "print('Time elapsed to optimize {0} executions: {1}'.format(evaluations, end - start))\n",
    "print('\\n Best score:')\n",
    "score(best_param)"
   ]
  },
  {
   "cell_type": "code",
   "execution_count": 15,
   "metadata": {},
   "outputs": [],
   "source": [
    "# get the best params and train the model\n",
    "nb_opt = MultinomialNB(alpha=best_param['alpha'])\n",
    "\n",
    "fitted_model = nb_opt.fit(X=X_train,y=y_train)"
   ]
  },
  {
   "cell_type": "code",
   "execution_count": 16,
   "metadata": {},
   "outputs": [
    {
     "data": {
      "text/plain": [
       "array([[0.01174436, 0.26061281, 0.16257089, ..., 0.07303543, 0.00507514,\n",
       "        0.04916722],\n",
       "       [0.06617937, 0.07590418, 0.14417148, ..., 0.06445092, 0.0043164 ,\n",
       "        0.07116968],\n",
       "       [0.07324591, 0.09596694, 0.09270521, ..., 0.09075008, 0.00354046,\n",
       "        0.09847035],\n",
       "       ...,\n",
       "       [0.04412919, 0.03808316, 0.04842609, ..., 0.00913518, 0.00886323,\n",
       "        0.08937629],\n",
       "       [0.11695065, 0.05592272, 0.10719885, ..., 0.02160267, 0.04733834,\n",
       "        0.05198465],\n",
       "       [0.00347516, 0.18754251, 0.09473312, ..., 0.0523137 , 0.00163583,\n",
       "        0.05532629]])"
      ]
     },
     "execution_count": 16,
     "metadata": {},
     "output_type": "execute_result"
    }
   ],
   "source": [
    "y_score = fitted_model.predict_proba(X_test)\n",
    "y_score"
   ]
  },
  {
   "cell_type": "code",
   "execution_count": 17,
   "metadata": {},
   "outputs": [
    {
     "data": {
      "text/plain": [
       "0.42105263157894735"
      ]
     },
     "execution_count": 17,
     "metadata": {},
     "output_type": "execute_result"
    }
   ],
   "source": [
    "test_acc = accuracy_score(y_test, fitted_model.predict(X_test))\n",
    "test_acc"
   ]
  },
  {
   "cell_type": "code",
   "execution_count": null,
   "metadata": {},
   "outputs": [],
   "source": []
  },
  {
   "cell_type": "code",
   "execution_count": 18,
   "metadata": {},
   "outputs": [
    {
     "data": {
      "image/png": "[encoded data removed]",
      "text/plain": [
       "<Figure size 432x288 with 1 Axes>"
      ]
     },
     "metadata": {
      "needs_background": "light"
     },
     "output_type": "display_data"
    }
   ],
   "source": [
    "from matplotlib import pyplot as plt \n",
    "%matplotlib inline \n",
    "x_list =range(len(train_acc_list))\n",
    "\n",
    "plt.plot(x_list, train_acc_list, label='Training accuracy')\n",
    "plt.plot(x_list, test_acc_list, label='Testing accuracy')\n",
    "plt.legend()\n",
    "plt.show()"
   ]
  },
  {
   "cell_type": "code",
   "execution_count": 19,
   "metadata": {},
   "outputs": [
    {
     "data": {
      "image/png": "[encoded data removed]",
      "text/plain": [
       "<Figure size 432x288 with 1 Axes>"
      ]
     },
     "metadata": {
      "needs_background": "light"
     },
     "output_type": "display_data"
    }
   ],
   "source": [
    "plt.plot(x_list, train_loss_list, label='Training loss')\n",
    "plt.plot(x_list, test_loss_list, label='Testing loss')\n",
    "plt.legend()\n",
    "plt.show()"
   ]
  },
  {
   "cell_type": "code",
   "execution_count": null,
   "metadata": {},
   "outputs": [],
   "source": []
  },
  {
   "cell_type": "code",
   "execution_count": null,
   "metadata": {},
   "outputs": [],
   "source": []
  }
 ],
 "metadata": {
  "kernelspec": {
   "display_name": "Python 2",
   "language": "python",
   "name": "python2"
  },
  "language_info": {
   "codemirror_mode": {
    "name": "ipython",
    "version": 2
   },
   "file_extension": ".py",
   "mimetype": "text/x-python",
   "name": "python",
   "nbconvert_exporter": "python",
   "pygments_lexer": "ipython2",
   "version": "2.7.15"
  }
 },
 "nbformat": 4,
 "nbformat_minor": 2
}

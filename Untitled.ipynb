{
 "cells": [
  {
   "cell_type": "code",
   "execution_count": 21,
   "metadata": {},
   "outputs": [],
   "source": [
    "from newsgac.ace.models import ACE\n",
    "from newsgac.genres import genre_labels"
   ]
  },
  {
   "cell_type": "code",
   "execution_count": null,
   "metadata": {},
   "outputs": [],
   "source": []
  },
  {
   "cell_type": "code",
   "execution_count": 10,
   "metadata": {},
   "outputs": [
    {
     "data": {
      "text/plain": [
       "[u'N2BGS Testing (RF FROG, SVC FROG, XGB FROG, NB FROG, MLP FROG, RF BOW, SVC BOW, XGB BOW, NB BOW, MLP BOW)',\n",
       " u'BOW + 5 features (N2BGS test) (Erik MLP BOW (5 features) )',\n",
       " u'Linked NRC (2930) (RF FROG, SVC FROG, XGB FROG, NB FROG, MLP FROG, RF BOW, SVC BOW, XGB BOW, NB BOW, MLP BOW, SVC LIN BOW)',\n",
       " u'nrc-1965.txt (Erik MLP BOW (with stop-words))',\n",
       " u'nrc-1985.txt (Erik MLP BOW (with stop-words))',\n",
       " u'BOW + 9 features (N2BGS test) (Erik MLP BOW (9 features) )',\n",
       " u'BOW + 9 features (N2BGS test) (Erik MLP BOW (9 features) , Erik SVC BOW (9 features), Erik RF BOW (9 features), Erik XGB BOW (9 features), Erik NB BOW (9 features))',\n",
       " u'Linked NRC (2930/9 features) (Erik MLP BOW (9 features) , Erik SVC BOW (9 features), Erik RF BOW (9 features), Erik XGB BOW (9 features), Erik NB BOW (9 features))',\n",
       " u'BOW Test unique (9 features) (Erik MLP unique 9 features, Erik NB unique (9 features), Erik XGB unique (9 features), Erik SVC unique (9 features), Erik RF unique (9 features))',\n",
       " u'Linked NRC (unique/9 features) (Erik MLP unique 9 features, Erik NB unique (9 features), Erik XGB unique (9 features), Erik SVC unique (9 features), Erik RF unique (9 features))',\n",
       " u'BOW Test unique (N3BGS/9 features) (N3BGS MLP unique 9 features, N3BGS NB unique 9 features , N3BGS SVC unique 9 features , N3BGS RF unique 9 features, N3BGS XGB unique 9 features )',\n",
       " u'nrc-1965.txt (RF FROG, NB FROG, RF BOW, SVC BOW)',\n",
       " u'N3BGS FROG Test (RF FROG N3BGS, SVC FROG N3BGS, XGB FROG N3BGS, NB FROG N3BGS, MLP FROG N3BGS, RF BOW NBGS, SVC BOW N3BGS, XGB BOW N3BGS, NB BOW N3BGS, MLP BOW N3BGS)']"
      ]
     },
     "execution_count": 10,
     "metadata": {},
     "output_type": "execute_result"
    }
   ],
   "source": [
    "[ace.display_title for ace in ACE.objects.all()]"
   ]
  },
  {
   "cell_type": "code",
   "execution_count": 27,
   "metadata": {},
   "outputs": [
    {
     "data": {
      "text/plain": [
       "['DataSource',\n",
       " 'DoesNotExist',\n",
       " 'MultipleObjectsReturned',\n",
       " 'Pipeline',\n",
       " 'User',\n",
       " '__class__',\n",
       " '__delattr__',\n",
       " '__dict__',\n",
       " '__doc__',\n",
       " '__eq__',\n",
       " '__format__',\n",
       " '__getattribute__',\n",
       " '__hash__',\n",
       " '__init__',\n",
       " '__iter__',\n",
       " '__module__',\n",
       " '__new__',\n",
       " '__reduce__',\n",
       " '__reduce_ex__',\n",
       " '__repr__',\n",
       " '__setattr__',\n",
       " '__sizeof__',\n",
       " '__str__',\n",
       " '__subclasshook__',\n",
       " '__weakref__',\n",
       " '_data',\n",
       " '_defaults',\n",
       " '_find_referenced_objects',\n",
       " '_id',\n",
       " '_mongometa',\n",
       " '_qs',\n",
       " '_set_attributes',\n",
       " '_subclasses',\n",
       " 'clean',\n",
       " 'clean_fields',\n",
       " 'created',\n",
       " 'data_source',\n",
       " 'delete',\n",
       " 'delete_objects',\n",
       " 'delete_pipeline',\n",
       " 'display_title',\n",
       " 'from_document',\n",
       " 'full_clean',\n",
       " 'get_display_title',\n",
       " 'is_valid',\n",
       " 'objects',\n",
       " 'pipelines',\n",
       " 'pk',\n",
       " 'predictions',\n",
       " 'refresh_from_db',\n",
       " 'register_delete_rule',\n",
       " 'save',\n",
       " 'task',\n",
       " 'to_son',\n",
       " 'updated',\n",
       " 'user']"
      ]
     },
     "execution_count": 27,
     "metadata": {},
     "output_type": "execute_result"
    }
   ],
   "source": [
    "dir(a)"
   ]
  },
  {
   "cell_type": "code",
   "execution_count": 26,
   "metadata": {},
   "outputs": [
    {
     "data": {
      "text/plain": [
       "['Recensie',\n",
       " 'Brief',\n",
       " 'Verslag',\n",
       " 'Fictie',\n",
       " 'Opiniestuk',\n",
       " 'Verslag',\n",
       " 'Recensie',\n",
       " 'Interview',\n",
       " 'Column',\n",
       " 'Achtergrond',\n",
       " 'Column',\n",
       " 'Reportage/feature',\n",
       " 'Column',\n",
       " 'Brief',\n",
       " 'Afbeelding',\n",
       " 'Service',\n",
       " 'Afbeelding',\n",
       " 'Overzicht',\n",
       " 'Overzicht',\n",
       " 'Brief',\n",
       " 'Achtergrond',\n",
       " 'Afbeelding',\n",
       " 'Afbeelding',\n",
       " 'Afbeelding',\n",
       " 'Fictie',\n",
       " 'Afbeelding',\n",
       " 'Achtergrond',\n",
       " 'Service',\n",
       " 'Recensie',\n",
       " 'Interview',\n",
       " 'Column',\n",
       " 'Fictie',\n",
       " 'Reportage/feature',\n",
       " 'Nieuwsbericht',\n",
       " 'Achtergrond',\n",
       " 'Service',\n",
       " 'Overzicht',\n",
       " 'Afbeelding',\n",
       " 'Achtergrond',\n",
       " 'Fictie',\n",
       " 'Afbeelding',\n",
       " 'Fictie',\n",
       " 'Nieuwsbericht',\n",
       " 'Brief',\n",
       " 'Service',\n",
       " 'Opiniestuk',\n",
       " 'Achtergrond',\n",
       " 'Mededeling',\n",
       " 'Overzicht',\n",
       " 'Service',\n",
       " 'Reportage/feature',\n",
       " 'Reportage/feature',\n",
       " 'Brief',\n",
       " 'Column',\n",
       " 'Verslag',\n",
       " 'Service',\n",
       " 'Achtergrond',\n",
       " 'Recensie',\n",
       " 'Service',\n",
       " 'Service',\n",
       " 'Column',\n",
       " 'Reportage/feature',\n",
       " 'Reportage/feature',\n",
       " 'Verslag',\n",
       " 'Recensie',\n",
       " 'Achtergrond',\n",
       " 'Fictie',\n",
       " 'Reportage/feature',\n",
       " 'Fictie',\n",
       " 'Column',\n",
       " 'Overzicht',\n",
       " 'Achtergrond',\n",
       " 'Column',\n",
       " 'Achtergrond',\n",
       " 'Nieuwsbericht',\n",
       " 'Afbeelding',\n",
       " 'Mededeling',\n",
       " 'Afbeelding',\n",
       " 'Interview',\n",
       " 'Interview',\n",
       " 'Service',\n",
       " 'Column',\n",
       " 'Recensie',\n",
       " 'Overzicht',\n",
       " 'Recensie',\n",
       " 'Achtergrond',\n",
       " 'Verslag',\n",
       " 'Column',\n",
       " 'Opiniestuk',\n",
       " 'Reportage/feature',\n",
       " 'Afbeelding']"
      ]
     },
     "execution_count": 26,
     "metadata": {},
     "output_type": "execute_result"
    }
   ],
   "source": [
    "[genre_labels[i] for i in a.predictions.get().transpose()[0]]"
   ]
  },
  {
   "cell_type": "code",
   "execution_count": 6,
   "metadata": {},
   "outputs": [],
   "source": [
    "pl = p.sk_pipeline.get()"
   ]
  },
  {
   "cell_type": "code",
   "execution_count": 7,
   "metadata": {},
   "outputs": [
    {
     "data": {
      "text/plain": [
       "['__abstractmethods__',\n",
       " '__class__',\n",
       " '__delattr__',\n",
       " '__dict__',\n",
       " '__doc__',\n",
       " '__format__',\n",
       " '__getattribute__',\n",
       " '__getstate__',\n",
       " '__hash__',\n",
       " '__init__',\n",
       " '__module__',\n",
       " '__new__',\n",
       " '__reduce__',\n",
       " '__reduce_ex__',\n",
       " '__repr__',\n",
       " '__setattr__',\n",
       " '__setstate__',\n",
       " '__sizeof__',\n",
       " '__str__',\n",
       " '__subclasshook__',\n",
       " '__weakref__',\n",
       " '_abc_cache',\n",
       " '_abc_negative_cache',\n",
       " '_abc_negative_cache_version',\n",
       " '_abc_registry',\n",
       " '_estimator_type',\n",
       " '_final_estimator',\n",
       " '_fit',\n",
       " '_get_param_names',\n",
       " '_get_params',\n",
       " '_inverse_transform',\n",
       " '_pairwise',\n",
       " '_replace_estimator',\n",
       " '_set_params',\n",
       " '_transform',\n",
       " '_validate_names',\n",
       " '_validate_steps',\n",
       " 'classes_',\n",
       " 'decision_function',\n",
       " 'fit',\n",
       " 'fit_predict',\n",
       " 'fit_transform',\n",
       " 'get_feature_names',\n",
       " 'get_params',\n",
       " 'inverse_transform',\n",
       " 'memory',\n",
       " 'named_steps',\n",
       " 'predict',\n",
       " 'predict_log_proba',\n",
       " 'predict_proba',\n",
       " 'score',\n",
       " 'set_params',\n",
       " 'steps',\n",
       " 'transform']"
      ]
     },
     "execution_count": 7,
     "metadata": {},
     "output_type": "execute_result"
    }
   ],
   "source": [
    "dir(pl)"
   ]
  },
  {
   "cell_type": "code",
   "execution_count": null,
   "metadata": {},
   "outputs": [],
   "source": []
  }
 ],
 "metadata": {
  "kernelspec": {
   "display_name": "Python 2",
   "language": "python",
   "name": "python2"
  },
  "language_info": {
   "codemirror_mode": {
    "name": "ipython",
    "version": 2
   },
   "file_extension": ".py",
   "mimetype": "text/x-python",
   "name": "python",
   "nbconvert_exporter": "python",
   "pygments_lexer": "ipython2",
   "version": "2.7.15"
  }
 },
 "nbformat": 4,
 "nbformat_minor": 2
}

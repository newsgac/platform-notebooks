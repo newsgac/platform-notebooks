{
 "cells": [
  {
   "cell_type": "code",
   "execution_count": 2,
   "metadata": {},
   "outputs": [
    {
     "name": "stdout",
     "output_type": "stream",
     "text": [
      "[nltk_data] Downloading package punkt to /home/newsgac/nltk_data...\n",
      "[nltk_data]   Unzipping tokenizers/punkt.zip.\n"
     ]
    },
    {
     "data": {
      "text/plain": [
       "True"
      ]
     },
     "execution_count": 2,
     "metadata": {},
     "output_type": "execute_result"
    }
   ],
   "source": [
    "import numpy\n",
    "from time import time\n",
    "from sklearn.model_selection import GridSearchCV\n",
    "\n",
    "from newsgac import config\n",
    "from newsgac.genres import genre_codes\n",
    "from newsgac.learners import learners, LearnerSVC, LearnerNB, LearnerXGB, LearnerGB, LearnerMLP, LearnerRF, LearnerLGBM\n",
    "from newsgac.pipelines.get_sk_pipeline import get_sk_pipeline\n",
    "from newsgac.pipelines.utils import report\n",
    "\n",
    "\n",
    "from newsgac import database\n",
    "from newsgac.data_sources import DataSource\n",
    "from newsgac.pipelines import Pipeline\n",
    "\n",
    "import nltk\n",
    "nltk.download('punkt')"
   ]
  },
  {
   "cell_type": "code",
   "execution_count": 3,
   "metadata": {},
   "outputs": [
    {
     "data": {
      "text/plain": [
       "8"
      ]
     },
     "execution_count": 3,
     "metadata": {},
     "output_type": "execute_result"
    }
   ],
   "source": [
    "config.n_parallel_jobs"
   ]
  },
  {
   "cell_type": "code",
   "execution_count": 2,
   "metadata": {},
   "outputs": [
    {
     "data": {
      "text/plain": [
       "[u'NGBS Training', u'NBGS test']"
      ]
     },
     "execution_count": 2,
     "metadata": {},
     "output_type": "execute_result"
    }
   ],
   "source": [
    "[d.display_title for d in DataSource.objects.all()]"
   ]
  },
  {
   "cell_type": "code",
   "execution_count": 3,
   "metadata": {},
   "outputs": [
    {
     "name": "stdout",
     "output_type": "stream",
     "text": [
      "DataSource: NGBS Training\n",
      "NLP Tool: Frog\n",
      "Classifier: Random Forest\n",
      "Task status: Status.SUCCESS\n"
     ]
    }
   ],
   "source": [
    "p = Pipeline.objects.first()\n",
    "print 'DataSource: ' + p.data_source.display_title\n",
    "print 'NLP Tool: ' + p.nlp_tool.name\n",
    "print 'Classifier: ' + p.learner.name\n",
    "print 'Task status: ' + str(p.task.status)"
   ]
  },
  {
   "cell_type": "code",
   "execution_count": 4,
   "metadata": {},
   "outputs": [
    {
     "data": {
      "text/plain": [
       "813"
      ]
     },
     "execution_count": 4,
     "metadata": {},
     "output_type": "execute_result"
    }
   ],
   "source": [
    "len(p.data_source.articles)"
   ]
  },
  {
   "cell_type": "code",
   "execution_count": 5,
   "metadata": {},
   "outputs": [],
   "source": [
    "param_space = {\n",
    "    LearnerRF: {\n",
    "        'criterion': ['gini', 'entropy'],\n",
    "#         'n_estimators': [10, 30, 50, 100, 120, 160],\n",
    "#         'max_features': [None, 2, 4, 6, 8, 12, 24],\n",
    "#         'max_depth': [None, 2, 4, 6, 8, 10, 12],\n",
    "#         'min_samples_split': [2, 4, 8, 16, 32],\n",
    "#         'min_samples_leaf': [1, 3, 5, 7, 9],          # tune\n",
    "#         'max_leaf_nodes': [None, 4, 6, 8, 16, 32, 64],\n",
    "#         'class_weight': [None, 'balanced'],\n",
    "    }\n",
    "}"
   ]
  },
  {
   "cell_type": "code",
   "execution_count": 6,
   "metadata": {},
   "outputs": [],
   "source": [
    "def run_grid_search(pipeline):\n",
    "    texts = numpy.array([article.raw_text for article in pipeline.data_source.articles])\n",
    "    labels = numpy.array([article.label for article in pipeline.data_source.articles])\n",
    "    param_grid = []\n",
    "    pipeline.grid_search_result = {}\n",
    "    scores = ['accuracy', 'recall_micro', 'precision_micro', 'f1_micro']\n",
    "    for learner in learners:\n",
    "        if learner in param_space:\n",
    "            space = {\n",
    "                'Classifier__%s' % name: space for name, space in param_space[learner].iteritems()\n",
    "            }\n",
    "            space['Classifier'] = [learner.create().get_classifier()]\n",
    "            param_grid.append(space)\n",
    "\n",
    "    print param_grid\n",
    "    skp = pipeline.get_sk_pipeline()\n",
    "    search = GridSearchCV(skp, param_grid, iid=False, cv=5, return_train_score=False, \n",
    "                          n_jobs=config.n_parallel_jobs,\n",
    "                          scoring=scores[3])\n",
    "    start = time()\n",
    "    search.fit(texts, labels)\n",
    "    print(\"Best parameter (CV score=%0.3f):\" % search.best_score_)\n",
    "    print(search.best_params_)\n",
    "\n",
    "    pipeline.grid_search_result = {\n",
    "        'full': search.cv_results_,\n",
    "        'best': search.best_params_\n",
    "    }\n",
    "    print pipeline.grid_search_result\n",
    "    print(\"GridSearchCV took %.2f seconds for %d candidate parameter settings.\"\n",
    "          % (time() - start, len(search.cv_results_['params'])))\n",
    "    report(search.cv_results_)"
   ]
  },
  {
   "cell_type": "code",
   "execution_count": 7,
   "metadata": {},
   "outputs": [
    {
     "name": "stdout",
     "output_type": "stream",
     "text": [
      "[{'Classifier': [RandomForestClassifier(bootstrap=True, class_weight=None, criterion='gini',\n",
      "            max_depth=None, max_features=u'auto', max_leaf_nodes=None,\n",
      "            min_impurity_decrease=0.0, min_impurity_split=None,\n",
      "            min_samples_leaf=1, min_samples_split=2,\n",
      "            min_weight_fraction_leaf=0.0, n_estimators=100, n_jobs=8,\n",
      "            oob_score=False, random_state=42, verbose=0, warm_start=False)], 'Classifier__criterion': ['gini', 'entropy']}]\n",
      "Best parameter (CV score=0.446):\n",
      "{'Classifier': RandomForestClassifier(bootstrap=True, class_weight=None, criterion='gini',\n",
      "            max_depth=None, max_features=u'auto', max_leaf_nodes=None,\n",
      "            min_impurity_decrease=0.0, min_impurity_split=None,\n",
      "            min_samples_leaf=1, min_samples_split=2,\n",
      "            min_weight_fraction_leaf=0.0, n_estimators=100, n_jobs=8,\n",
      "            oob_score=False, random_state=42, verbose=0, warm_start=False), 'Classifier__criterion': 'gini'}\n",
      "{'full': {'split4_test_score': array([0.40397351, 0.37086093]), 'rank_test_score': array([1, 2], dtype=int32), 'param_Classifier__criterion': masked_array(data=['gini', 'entropy'],\n",
      "             mask=[False, False],\n",
      "       fill_value='?',\n",
      "            dtype=object), 'std_score_time': array([24.0569933 , 28.51661055]), 'split2_test_score': array([0.46060606, 0.46060606]), 'mean_score_time': array([124.30694857,  51.42235012]), 'mean_fit_time': array([191.31133556, 215.08023582]), 'std_test_score': array([0.04252086, 0.0436517 ]), 'param_Classifier': masked_array(data=[RandomForestClassifier(bootstrap=True, class_weight=None, criterion='gini',\n",
      "            max_depth=None, max_features=u'auto', max_leaf_nodes=None,\n",
      "            min_impurity_decrease=0.0, min_impurity_split=None,\n",
      "            min_samples_leaf=1, min_samples_split=2,\n",
      "            min_weight_fraction_leaf=0.0, n_estimators=100, n_jobs=8,\n",
      "            oob_score=False, random_state=42, verbose=0, warm_start=False),\n",
      "                   RandomForestClassifier(bootstrap=True, class_weight=None, criterion='gini',\n",
      "            max_depth=None, max_features=u'auto', max_leaf_nodes=None,\n",
      "            min_impurity_decrease=0.0, min_impurity_split=None,\n",
      "            min_samples_leaf=1, min_samples_split=2,\n",
      "            min_weight_fraction_leaf=0.0, n_estimators=100, n_jobs=8,\n",
      "            oob_score=False, random_state=42, verbose=0, warm_start=False)],\n",
      "             mask=[False, False],\n",
      "       fill_value='?',\n",
      "            dtype=object), 'split0_test_score': array([0.52095808, 0.46706587]), 'mean_test_score': array([0.44554366, 0.43404256]), 'params': [{'Classifier': RandomForestClassifier(bootstrap=True, class_weight=None, criterion='gini',\n",
      "            max_depth=None, max_features=u'auto', max_leaf_nodes=None,\n",
      "            min_impurity_decrease=0.0, min_impurity_split=None,\n",
      "            min_samples_leaf=1, min_samples_split=2,\n",
      "            min_weight_fraction_leaf=0.0, n_estimators=100, n_jobs=8,\n",
      "            oob_score=False, random_state=42, verbose=0, warm_start=False), 'Classifier__criterion': 'gini'}, {'Classifier': RandomForestClassifier(bootstrap=True, class_weight=None, criterion='gini',\n",
      "            max_depth=None, max_features=u'auto', max_leaf_nodes=None,\n",
      "            min_impurity_decrease=0.0, min_impurity_split=None,\n",
      "            min_samples_leaf=1, min_samples_split=2,\n",
      "            min_weight_fraction_leaf=0.0, n_estimators=100, n_jobs=8,\n",
      "            oob_score=False, random_state=42, verbose=0, warm_start=False), 'Classifier__criterion': 'entropy'}], 'std_fit_time': array([35.12114004, 73.77679318]), 'split3_test_score': array([0.41104294, 0.39263804]), 'split1_test_score': array([0.43113772, 0.47904192])}, 'best': {'Classifier': RandomForestClassifier(bootstrap=True, class_weight=None, criterion='gini',\n",
      "            max_depth=None, max_features=u'auto', max_leaf_nodes=None,\n",
      "            min_impurity_decrease=0.0, min_impurity_split=None,\n",
      "            min_samples_leaf=1, min_samples_split=2,\n",
      "            min_weight_fraction_leaf=0.0, n_estimators=100, n_jobs=8,\n",
      "            oob_score=False, random_state=42, verbose=0, warm_start=False), 'Classifier__criterion': 'gini'}}\n",
      "GridSearchCV took 527.31 seconds for 2 candidate parameter settings.\n",
      "Model with rank: 1\n",
      "Mean validation score: 0.446 (std: 0.043)\n",
      "Parameters: {'Classifier': RandomForestClassifier(bootstrap=True, class_weight=None, criterion='gini',\n",
      "            max_depth=None, max_features=u'auto', max_leaf_nodes=None,\n",
      "            min_impurity_decrease=0.0, min_impurity_split=None,\n",
      "            min_samples_leaf=1, min_samples_split=2,\n",
      "            min_weight_fraction_leaf=0.0, n_estimators=100, n_jobs=8,\n",
      "            oob_score=False, random_state=42, verbose=0, warm_start=False), 'Classifier__criterion': 'gini'}\n",
      "\n",
      "Model with rank: 2\n",
      "Mean validation score: 0.434 (std: 0.044)\n",
      "Parameters: {'Classifier': RandomForestClassifier(bootstrap=True, class_weight=None, criterion='gini',\n",
      "            max_depth=None, max_features=u'auto', max_leaf_nodes=None,\n",
      "            min_impurity_decrease=0.0, min_impurity_split=None,\n",
      "            min_samples_leaf=1, min_samples_split=2,\n",
      "            min_weight_fraction_leaf=0.0, n_estimators=100, n_jobs=8,\n",
      "            oob_score=False, random_state=42, verbose=0, warm_start=False), 'Classifier__criterion': 'entropy'}\n",
      "\n"
     ]
    }
   ],
   "source": [
    "run_grid_search(p)"
   ]
  },
  {
   "cell_type": "code",
   "execution_count": null,
   "metadata": {},
   "outputs": [],
   "source": []
  }
 ],
 "metadata": {
  "kernelspec": {
   "display_name": "Python 2",
   "language": "python",
   "name": "python2"
  },
  "language_info": {
   "codemirror_mode": {
    "name": "ipython",
    "version": 2
   },
   "file_extension": ".py",
   "mimetype": "text/x-python",
   "name": "python",
   "nbconvert_exporter": "python",
   "pygments_lexer": "ipython2",
   "version": "2.7.15"
  }
 },
 "nbformat": 4,
 "nbformat_minor": 2
}

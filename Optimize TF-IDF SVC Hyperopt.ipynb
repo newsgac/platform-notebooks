{
 "cells": [
  {
   "cell_type": "code",
   "execution_count": null,
   "metadata": {},
   "outputs": [],
   "source": [
    "# import sys\n",
    "# !{sys.executable} -m pip install imbalanced-learn --user\n",
    "# !{sys.executable} -m pip install hyperopt --user"
   ]
  },
  {
   "cell_type": "code",
   "execution_count": 1,
   "metadata": {},
   "outputs": [
    {
     "name": "stdout",
     "output_type": "stream",
     "text": [
      "[nltk_data] Downloading package punkt to /home/newsgac/nltk_data...\n",
      "[nltk_data]   Package punkt is already up-to-date!\n"
     ]
    },
    {
     "data": {
      "text/plain": [
       "True"
      ]
     },
     "execution_count": 1,
     "metadata": {},
     "output_type": "execute_result"
    }
   ],
   "source": [
    "import numpy\n",
    "from time import time\n",
    "from sklearn.model_selection import GridSearchCV\n",
    "from hyperopt import tpe, fmin, hp, STATUS_OK, Trials\n",
    "from sklearn.metrics import accuracy_score, log_loss\n",
    "from sklearn.model_selection import train_test_split\n",
    "from copy import deepcopy\n",
    "\n",
    "from newsgac import config\n",
    "from newsgac.genres import genre_codes\n",
    "from newsgac.learners import learners, LearnerSVC, LearnerNB, LearnerXGB, LearnerGB, LearnerMLP, LearnerRF, LearnerLGBM\n",
    "from newsgac.pipelines.get_sk_pipeline import get_sk_pipeline\n",
    "from newsgac.pipelines.utils import report\n",
    "from sklearn import svm\n",
    "\n",
    "\n",
    "from newsgac import database\n",
    "from newsgac.data_sources import DataSource\n",
    "from newsgac.pipelines import Pipeline\n",
    "\n",
    "# from imblearn.under_sampling import RandomUnderSampler\n",
    "# from imblearn.over_sampling import RandomOverSampler, SMOTE, ADASYN\n",
    "# from imblearn.combine import SMOTEENN, SMOTETomek\n",
    "import numpy as np\n",
    "import nltk\n",
    "nltk.download('punkt')"
   ]
  },
  {
   "cell_type": "code",
   "execution_count": 2,
   "metadata": {},
   "outputs": [
    {
     "data": {
      "text/plain": [
       "[u'N2BGS Training',\n",
       " u'N2BGS Testing',\n",
       " u'Linked NRC (2930)',\n",
       " u'BOW + 5 features (N2BGS train)',\n",
       " u'BOW + 5 features (N2BGS test)',\n",
       " u'nrc-1950-1994-a.txt',\n",
       " u'nrc-1950-1994-b.txt',\n",
       " u'nrc-1950-1994-c.txt',\n",
       " u'nrc-1950-1994-d.txt',\n",
       " u'nrc-1950-1994-e.txt',\n",
       " u'telegraaf-1950-1994-a.txt',\n",
       " u'telegraaf-1950-1994-b.txt',\n",
       " u'telegraaf-1950-1994-c.txt',\n",
       " u'telegraaf-1950-1994-d.txt',\n",
       " u'telegraaf-1950-1994-e.txt',\n",
       " u'volkskrant-1950-1995-a.txt',\n",
       " u'volkskrant-1950-1995-b.txt',\n",
       " u'volkskrant-1950-1995-c.txt',\n",
       " u'volkskrant-1950-1995-d.txt',\n",
       " u'volkskrant-1950-1995-e.txt',\n",
       " u'nrc-1965.txt',\n",
       " u'nrc-1985.txt',\n",
       " u'BOW + 9 features (N2BGS train)',\n",
       " u'BOW + 9 features (N2BGS test)',\n",
       " u'Linked NRC (2930/9 features)',\n",
       " u'BOW Train unique (9 features)',\n",
       " u'BOW Test unique (9 features)',\n",
       " u'Linked NRC (unique/9 features)',\n",
       " u'BOW Train unique (N3BGS/9 features)',\n",
       " u'N3BGS FROG Test',\n",
       " u'N3BGS FROG Train',\n",
       " u'BOW Test unique (N3BGS/9 features)',\n",
       " u'BOW Test unique (N3BGS/9 features/collapsed)',\n",
       " u'Linked NRC (2930 articles)',\n",
       " u'Combined N3BGS/Linked NRC (3884)',\n",
       " u'2019 N3BGS Test',\n",
       " u'2019 N3BGS Train',\n",
       " u'AAOB',\n",
       " u'20190228 unbalanced train size=3443',\n",
       " u'20190228 unbalanced test size=3443']"
      ]
     },
     "execution_count": 2,
     "metadata": {},
     "output_type": "execute_result"
    }
   ],
   "source": [
    "[d.display_title for d in DataSource.objects.all()]"
   ]
  },
  {
   "cell_type": "code",
   "execution_count": 3,
   "metadata": {},
   "outputs": [
    {
     "data": {
      "text/plain": [
       "[u'dummy frog',\n",
       " u'dummy bow',\n",
       " u'RF FROG',\n",
       " u'SVC FROG',\n",
       " u'XGB FROG',\n",
       " u'NB FROG',\n",
       " u'MLP FROG',\n",
       " u'RF BOW',\n",
       " u'SVC BOW',\n",
       " u'XGB BOW',\n",
       " u'NB BOW',\n",
       " u'MLP BOW',\n",
       " u'SVC LIN BOW',\n",
       " u'Erik MLP BOW (with stop-words)',\n",
       " u'Erik MLP BOW (5 features) ',\n",
       " u'Erik MLP BOW (9 features) ',\n",
       " u'Erik SVC BOW (9 features)',\n",
       " u'Erik RF BOW (9 features)',\n",
       " u'Erik XGB BOW (9 features)',\n",
       " u'Erik NB BOW (9 features)',\n",
       " u'Erik MLP unique 9 features',\n",
       " u'Erik NB unique (9 features)',\n",
       " u'Erik XGB unique (9 features)',\n",
       " u'Erik SVC unique (9 features)',\n",
       " u'Erik RF unique (9 features)',\n",
       " u'N3BGS MLP unique 9 features',\n",
       " u'N3BGS NB unique 9 features ',\n",
       " u'N3BGS SVC unique 9 features ',\n",
       " u'N3BGS RF unique 9 features',\n",
       " u'N3BGS XGB unique 9 features ',\n",
       " u'dummy n3bgs bow',\n",
       " u'dummy n3bgs frog',\n",
       " u'RF FROG N3BGS',\n",
       " u'SVC FROG N3BGS',\n",
       " u'XGB FROG N3BGS',\n",
       " u'Erik NB N3BGS Collapsed',\n",
       " u'Erik MLP N3BGS Collapsed',\n",
       " u'Erik MLP Linked NRC (2930 articles)',\n",
       " u'Erik RF Linked NRC (2930 articles) ',\n",
       " u'Erik NB Linked NRC (2930 articles) ',\n",
       " u'Erik SVC Linked NRC (2930 articles) ',\n",
       " u'Erik XGB Linked NRC (2930 articles) ',\n",
       " u'SVC BOW Combined',\n",
       " u'NB FROG N3BGS',\n",
       " u'MLP FROG N3BGS',\n",
       " u'RF BOW NBGS',\n",
       " u'SVC BOW N3BGS',\n",
       " u'XGB BOW N3BGS',\n",
       " u'NB BOW N3BGS',\n",
       " u'MLP BOW N3BGS',\n",
       " u'KIM N3BGS FROG and TF-IDF',\n",
       " u'KIM N3BGS MLP Combi features',\n",
       " u'KIM N3BGS RF COMBI',\n",
       " u'KIM N3BGS SVM COMBI (copy)',\n",
       " u'KIM N3BGS XGB COMBI',\n",
       " u'20190228 SVM',\n",
       " u'20190228 SVC no stop words',\n",
       " u'20190228 SVC no stop words, lowercased',\n",
       " u'dummy combi for opt',\n",
       " u'dummy combi for opt ugs',\n",
       " u'new dummy ugs opt',\n",
       " u'new dummy bgs opt',\n",
       " u'dummy opt frog bgs',\n",
       " u'dummy bow opt bgs',\n",
       " u'dummy frog ugs opt',\n",
       " u'dummy bow opt ugs']"
      ]
     },
     "execution_count": 3,
     "metadata": {},
     "output_type": "execute_result"
    }
   ],
   "source": [
    "[d.display_title for d in Pipeline.objects.all()]"
   ]
  },
  {
   "cell_type": "code",
   "execution_count": 4,
   "metadata": {},
   "outputs": [
    {
     "name": "stdout",
     "output_type": "stream",
     "text": [
      "DataSource: 20190228 unbalanced train size=3443\n",
      "NLP Tool: TF-IDF\n",
      "Classifier: Light GBM\n",
      "Task status: Status.SUCCESS\n"
     ]
    }
   ],
   "source": [
    "p = Pipeline.objects.all()[65]\n",
    "print 'DataSource: ' + p.data_source.display_title\n",
    "print 'NLP Tool: ' + p.nlp_tool.name\n",
    "print 'Classifier: ' + p.learner.name\n",
    "print 'Task status: ' + str(p.task.status)"
   ]
  },
  {
   "cell_type": "code",
   "execution_count": 5,
   "metadata": {},
   "outputs": [
    {
     "data": {
      "text/plain": [
       "3099"
      ]
     },
     "execution_count": 5,
     "metadata": {},
     "output_type": "execute_result"
    }
   ],
   "source": [
    "len(p.data_source.articles)"
   ]
  },
  {
   "cell_type": "code",
   "execution_count": 6,
   "metadata": {},
   "outputs": [
    {
     "name": "stdout",
     "output_type": "stream",
     "text": [
      "Testing data source: 20190228 unbalanced test size=3443\n"
     ]
    }
   ],
   "source": [
    "test_data_source = DataSource.objects.all()[39]\n",
    "print 'Testing data source: ' + test_data_source.display_title"
   ]
  },
  {
   "cell_type": "code",
   "execution_count": 7,
   "metadata": {},
   "outputs": [
    {
     "data": {
      "text/plain": [
       "[('CleanOCR', <newsgac.nlp_tools.transformers.CleanOCR at 0x7f0755a34950>),\n",
       " ('StopWordRemoval',\n",
       "  <newsgac.nlp_tools.transformers.StopWordRemoval at 0x7f0755a34990>),\n",
       " ('FeatureExtraction', FeatureUnion(n_jobs=None,\n",
       "         transformer_list=[('TFIDF', Pipeline(memory=None,\n",
       "       steps=[('RemoveQuotes', <newsgac.nlp_tools.transformers.RemoveQuotes object at 0x7f0755a34890>), ('TF-IDF', TfidfVectorizer(analyzer=u'word', binary=False, decode_error=u'strict',\n",
       "          dtype=<type 'numpy.float64'>, encoding=u'utf-8', input=u'content',\n",
       "          lowercase=True, max_df=1.0, max_featu...        token_pattern=u'(?u)\\\\b\\\\w\\\\w+\\\\b', tokenizer=None, use_idf=True,\n",
       "          vocabulary=None))]))],\n",
       "         transformer_weights=None)),\n",
       " ('RobustScaler',\n",
       "  RobustScaler(copy=True, quantile_range=(25.0, 75.0), with_centering=False,\n",
       "         with_scaling=True))]"
      ]
     },
     "execution_count": 7,
     "metadata": {},
     "output_type": "execute_result"
    }
   ],
   "source": [
    "skp = p.get_sk_pipeline()\n",
    "skp_opt = deepcopy(skp)\n",
    "skp_opt.steps.pop()\n",
    "skp_opt.steps"
   ]
  },
  {
   "cell_type": "code",
   "execution_count": 8,
   "metadata": {},
   "outputs": [],
   "source": [
    "texts = numpy.array([article.raw_text for article in p.data_source.articles])\n",
    "labels = numpy.array([article.label for article in p.data_source.articles])\n",
    "\n",
    "X = skp_opt.fit_transform(texts)"
   ]
  },
  {
   "cell_type": "code",
   "execution_count": 9,
   "metadata": {},
   "outputs": [],
   "source": [
    "# get the test dataset for optimization accuracy\n",
    "texts_test = numpy.array([article.raw_text for article in test_data_source.articles])\n",
    "labels_test = numpy.array([article.label for article in test_data_source.articles])\n",
    "\n",
    "X_test = skp_opt.transform(texts_test)"
   ]
  },
  {
   "cell_type": "code",
   "execution_count": 10,
   "metadata": {},
   "outputs": [],
   "source": [
    "X_train = X\n",
    "y_train = labels\n",
    "y_test = labels_test"
   ]
  },
  {
   "cell_type": "code",
   "execution_count": 11,
   "metadata": {},
   "outputs": [
    {
     "data": {
      "text/plain": [
       "(344,)"
      ]
     },
     "execution_count": 11,
     "metadata": {},
     "output_type": "execute_result"
    }
   ],
   "source": [
    "y_test.shape"
   ]
  },
  {
   "cell_type": "code",
   "execution_count": 12,
   "metadata": {},
   "outputs": [],
   "source": [
    "kernel_list = ['linear', 'rbf', 'poly', 'sigmoid']\n",
    "# kernel_list = ['linear']\n",
    "class_weights = [None, 'balanced']"
   ]
  },
  {
   "cell_type": "code",
   "execution_count": 13,
   "metadata": {},
   "outputs": [],
   "source": [
    "def optimize(evals, trials, optimizer=tpe.suggest):\n",
    "    space = {\n",
    "        'kernel': hp.choice('kernel', kernel_list),\n",
    "        'class_weight': hp.choice('class_weight', class_weights),\n",
    "        'C': hp.uniform('C', 0, 20),\n",
    "        'gamma': hp.uniform('gamma',0.001,10)\n",
    "    }\n",
    "    best = fmin(score, space, algo=optimizer, max_evals=evals, trials=trials)\n",
    "    pbar.close()\n",
    "    return best"
   ]
  },
  {
   "cell_type": "code",
   "execution_count": 14,
   "metadata": {},
   "outputs": [],
   "source": [
    "train_acc_list = []\n",
    "train_loss_list = []\n",
    "test_acc_list = []\n",
    "test_loss_list = []\n",
    "\n",
    "def score(params):\n",
    "    c = params['C']\n",
    "    gamma = params['gamma']\n",
    "    kernel = params['kernel']\n",
    "    class_weight = params['class_weight']\n",
    "    \n",
    "    model = svm.SVC(kernel=kernel,\n",
    "            C=c,\n",
    "            random_state=42,\n",
    "            decision_function_shape='ovr',\n",
    "            # class_weight=self.class_weight,\n",
    "            class_weight=class_weight,\n",
    "            probability=True,\n",
    "            gamma=gamma)\n",
    "    \n",
    "    model.fit(X_train, y_train)\n",
    "    labels_prediction = model.predict(X_test)\n",
    "    labels_probs = model.predict_proba(X_test)\n",
    "    train_acc = accuracy_score(y_train, model.predict(X_train))\n",
    "    train_loss = log_loss(y_train, model.predict_proba(X_train))\n",
    "    test_acc = accuracy_score(y_test, labels_prediction)\n",
    "    test_loss = log_loss(y_test, labels_probs)\n",
    "    \n",
    "    train_acc_list.append(train_acc)\n",
    "    train_loss_list.append(train_loss)\n",
    "    test_acc_list.append(test_acc)\n",
    "    test_loss_list.append(test_loss)\n",
    "    \n",
    "    print('Parameters with this training accuracy {} and loss {} :'.format(train_acc, train_loss))\n",
    "    print('Parameters with this testing accuracy {} and loss {} :'.format(test_acc, test_loss))\n",
    "    print(params)\n",
    "    pbar.update()\n",
    "#     return {'loss': test_loss, 'status': STATUS_OK}\n",
    "    return {'loss': -test_acc, 'status': STATUS_OK}"
   ]
  },
  {
   "cell_type": "code",
   "execution_count": 15,
   "metadata": {},
   "outputs": [
    {
     "name": "stderr",
     "output_type": "stream",
     "text": [
      "Hyperopt:   0%|          | 0/10 [00:00<?, ?it/s]"
     ]
    },
    {
     "name": "stdout",
     "output_type": "stream",
     "text": [
      "\n",
      "  0%|          | 0/10 [00:00<?, ?it/s, best loss: ?]\u001b[A\n",
      "\u001b[AParameters with this training accuracy 0.891900613101 and loss 1.30600111834 :\n",
      "\n",
      "  0%|          | 0/10 [02:42<?, ?it/s, best loss: ?]\u001b[A\n",
      "\u001b[AParameters with this testing accuracy 0.44476744186 and loss 1.65899169479 :\n",
      "\n",
      "  0%|          | 0/10 [02:42<?, ?it/s, best loss: ?]\u001b[A\n",
      "\u001b[A{'kernel': 'poly', 'C': 4.973009636125858, 'gamma': 0.4360592553431118, 'class_weight': 'balanced'}\n",
      "\n",
      "  0%|          | 0/10 [02:42<?, ?it/s, best loss: ?]\u001b[A"
     ]
    },
    {
     "name": "stderr",
     "output_type": "stream",
     "text": [
      "Hyperopt:  10%|█         | 1/10 [02:42<24:23, 162.61s/it]"
     ]
    },
    {
     "name": "stdout",
     "output_type": "stream",
     "text": [
      "\n",
      " 10%|█         | 1/10 [02:42<24:23, 162.60s/it, best loss: -0.44476744186]\u001b[A\n",
      "\u001b[AParameters with this training accuracy 0.996450467893 and loss 1.17658104266 :\n",
      "\n",
      " 10%|█         | 1/10 [05:37<24:23, 162.60s/it, best loss: -0.44476744186]\u001b[A\n",
      "\u001b[AParameters with this testing accuracy 0.433139534884 and loss 1.6213094774 :\n",
      "\n",
      " 10%|█         | 1/10 [05:37<24:23, 162.60s/it, best loss: -0.44476744186]\u001b[A\n",
      "\u001b[A{'kernel': 'poly', 'C': 13.633813144074633, 'gamma': 5.184094496055288, 'class_weight': 'balanced'}\n",
      "\n",
      " 10%|█         | 1/10 [05:37<24:23, 162.60s/it, best loss: -0.44476744186]\u001b[A"
     ]
    },
    {
     "name": "stderr",
     "output_type": "stream",
     "text": [
      "Hyperopt:  20%|██        | 2/10 [05:37<22:10, 166.35s/it]"
     ]
    },
    {
     "name": "stdout",
     "output_type": "stream",
     "text": [
      "\n",
      " 20%|██        | 2/10 [05:37<22:10, 166.34s/it, best loss: -0.44476744186]\u001b[A\n",
      "\u001b[AParameters with this training accuracy 0.996450467893 and loss 1.17095712472 :\n",
      "\n",
      " 20%|██        | 2/10 [08:27<22:10, 166.34s/it, best loss: -0.44476744186]\u001b[A\n",
      "\u001b[AParameters with this testing accuracy 0.433139534884 and loss 1.62109117743 :\n",
      "\n",
      " 20%|██        | 2/10 [08:27<22:10, 166.34s/it, best loss: -0.44476744186]\u001b[A\n",
      "\u001b[A{'kernel': 'poly', 'C': 12.502759049206931, 'gamma': 5.0334881569026235, 'class_weight': None}\n",
      "\n",
      " 20%|██        | 2/10 [08:27<22:10, 166.34s/it, best loss: -0.44476744186]\u001b[A"
     ]
    },
    {
     "name": "stderr",
     "output_type": "stream",
     "text": [
      "Hyperopt:  30%|███       | 3/10 [08:27<19:31, 167.31s/it]"
     ]
    },
    {
     "name": "stdout",
     "output_type": "stream",
     "text": [
      "\n",
      " 30%|███       | 3/10 [08:27<19:31, 167.30s/it, best loss: -0.44476744186]\u001b[A\n",
      "\u001b[AParameters with this training accuracy 0.207163601162 and loss 1.90881349613 :\n",
      "\n",
      " 30%|███       | 3/10 [11:00<19:31, 167.30s/it, best loss: -0.44476744186]\u001b[A\n",
      "\u001b[AParameters with this testing accuracy 0.162790697674 and loss 1.89115660412 :\n",
      "\n",
      " 30%|███       | 3/10 [11:00<19:31, 167.30s/it, best loss: -0.44476744186]\u001b[A\n",
      "\u001b[A{'kernel': 'sigmoid', 'C': 4.026079386816798, 'gamma': 0.9536605487206085, 'class_weight': 'balanced'}\n",
      "\n",
      " 30%|███       | 3/10 [11:00<19:31, 167.30s/it, best loss: -0.44476744186]\u001b[A"
     ]
    },
    {
     "name": "stderr",
     "output_type": "stream",
     "text": [
      "Hyperopt:  40%|████      | 4/10 [11:00<16:18, 163.01s/it]"
     ]
    },
    {
     "name": "stdout",
     "output_type": "stream",
     "text": [
      "\n",
      " 40%|████      | 4/10 [11:00<16:18, 163.00s/it, best loss: -0.44476744186]\u001b[A\n",
      "\u001b[AParameters with this training accuracy 0.995159728945 and loss 0.210083491074 :\n",
      "\n",
      " 40%|████      | 4/10 [13:20<16:18, 163.00s/it, best loss: -0.44476744186]\u001b[A\n",
      "\u001b[AParameters with this testing accuracy 0.642441860465 and loss 1.0777950372 :\n",
      "\n",
      " 40%|████      | 4/10 [13:20<16:18, 163.00s/it, best loss: -0.44476744186]\u001b[A\n",
      "\u001b[A{'kernel': 'linear', 'C': 15.278357185528439, 'gamma': 7.867216386889451, 'class_weight': 'balanced'}\n",
      "\n",
      " 40%|████      | 4/10 [13:20<16:18, 163.00s/it, best loss: -0.44476744186]\u001b[A"
     ]
    },
    {
     "name": "stderr",
     "output_type": "stream",
     "text": [
      "Hyperopt:  50%|█████     | 5/10 [13:20<13:01, 156.29s/it]"
     ]
    },
    {
     "name": "stdout",
     "output_type": "stream",
     "text": [
      "\n",
      " 50%|█████     | 5/10 [13:20<13:01, 156.29s/it, best loss: -0.642441860465]\u001b[A\n",
      "\u001b[AParameters with this training accuracy 0.181348822201 and loss 1.81020026274 :\n",
      "\n",
      " 50%|█████     | 5/10 [15:31<13:01, 156.29s/it, best loss: -0.642441860465]\u001b[A\n",
      "\u001b[AParameters with this testing accuracy 0.142441860465 and loss 1.81115959942 :\n",
      "\n",
      " 50%|█████     | 5/10 [15:31<13:01, 156.29s/it, best loss: -0.642441860465]\u001b[A\n",
      "\u001b[A{'kernel': 'sigmoid', 'C': 13.234833593340658, 'gamma': 9.26373368648936, 'class_weight': 'balanced'}\n",
      "\n",
      " 50%|█████     | 5/10 [15:31<13:01, 156.29s/it, best loss: -0.642441860465]\u001b[A"
     ]
    },
    {
     "name": "stderr",
     "output_type": "stream",
     "text": [
      "Hyperopt:  60%|██████    | 6/10 [15:31<09:54, 148.62s/it]"
     ]
    },
    {
     "name": "stdout",
     "output_type": "stream",
     "text": [
      "\n",
      " 60%|██████    | 6/10 [15:31<09:54, 148.62s/it, best loss: -0.642441860465]\u001b[A\n",
      "\u001b[AParameters with this training accuracy 0.996450467893 and loss 1.17459730045 :\n",
      "\n",
      " 60%|██████    | 6/10 [18:16<09:54, 148.62s/it, best loss: -0.642441860465]\u001b[A\n",
      "\u001b[AParameters with this testing accuracy 0.433139534884 and loss 1.62209092202 :\n",
      "\n",
      " 60%|██████    | 6/10 [18:16<09:54, 148.62s/it, best loss: -0.642441860465]\u001b[A\n",
      "\u001b[A{'kernel': 'poly', 'C': 19.387495262844645, 'gamma': 3.6859397030146135, 'class_weight': 'balanced'}\n",
      "\n",
      " 60%|██████    | 6/10 [18:16<09:54, 148.62s/it, best loss: -0.642441860465]\u001b[A"
     ]
    },
    {
     "name": "stderr",
     "output_type": "stream",
     "text": [
      "Hyperopt:  70%|███████   | 7/10 [18:16<07:40, 153.49s/it]"
     ]
    },
    {
     "name": "stdout",
     "output_type": "stream",
     "text": [
      "\n",
      " 70%|███████   | 7/10 [18:16<07:40, 153.49s/it, best loss: -0.642441860465]\u001b[A\n",
      "\u001b[AParameters with this training accuracy 0.169409486931 and loss 1.8734869389 :\n",
      "\n",
      " 70%|███████   | 7/10 [20:34<07:40, 153.49s/it, best loss: -0.642441860465]\u001b[A\n",
      "\u001b[AParameters with this testing accuracy 0.110465116279 and loss 1.85043818765 :\n",
      "\n",
      " 70%|███████   | 7/10 [20:34<07:40, 153.49s/it, best loss: -0.642441860465]\u001b[A\n",
      "\u001b[A{'kernel': 'sigmoid', 'C': 13.19777110134927, 'gamma': 3.1159292903418603, 'class_weight': 'balanced'}\n",
      "\n",
      " 70%|███████   | 7/10 [20:34<07:40, 153.49s/it, best loss: -0.642441860465]\u001b[A"
     ]
    },
    {
     "name": "stderr",
     "output_type": "stream",
     "text": [
      "Hyperopt:  80%|████████  | 8/10 [20:34<04:57, 148.78s/it]"
     ]
    },
    {
     "name": "stdout",
     "output_type": "stream",
     "text": [
      "\n",
      " 80%|████████  | 8/10 [20:34<04:57, 148.78s/it, best loss: -0.642441860465]\u001b[A\n",
      "\u001b[AParameters with this training accuracy 0.995805098419 and loss 0.196942378424 :\n",
      "\n",
      " 80%|████████  | 8/10 [22:53<04:57, 148.78s/it, best loss: -0.642441860465]\u001b[A\n",
      "\u001b[AParameters with this testing accuracy 0.651162790698 and loss 1.08150507356 :\n",
      "\n",
      " 80%|████████  | 8/10 [22:53<04:57, 148.78s/it, best loss: -0.642441860465]\u001b[A\n",
      "\u001b[A{'kernel': 'linear', 'C': 5.370547091941049, 'gamma': 8.405408815461676, 'class_weight': None}\n",
      "\n",
      " 80%|████████  | 8/10 [22:53<04:57, 148.78s/it, best loss: -0.642441860465]\u001b[A"
     ]
    },
    {
     "name": "stderr",
     "output_type": "stream",
     "text": [
      "Hyperopt:  90%|█████████ | 9/10 [22:53<02:26, 146.04s/it]"
     ]
    },
    {
     "name": "stdout",
     "output_type": "stream",
     "text": [
      "\n",
      " 90%|█████████ | 9/10 [22:53<02:26, 146.04s/it, best loss: -0.651162790698]\u001b[A\n",
      "\u001b[AParameters with this training accuracy 0.996450467893 and loss 2.60743022168 :\n",
      "\n",
      " 90%|█████████ | 9/10 [26:43<02:26, 146.04s/it, best loss: -0.651162790698]\u001b[A\n",
      "\u001b[AParameters with this testing accuracy 0.46511627907 and loss 1.93744329905 :\n",
      "\n",
      " 90%|█████████ | 9/10 [26:43<02:26, 146.04s/it, best loss: -0.651162790698]\u001b[A\n",
      "\u001b[A{'kernel': 'rbf', 'C': 18.48509597604255, 'gamma': 8.835841039859861, 'class_weight': 'balanced'}\n",
      "\n",
      " 90%|█████████ | 9/10 [26:43<02:26, 146.04s/it, best loss: -0.651162790698]\u001b[A"
     ]
    },
    {
     "name": "stderr",
     "output_type": "stream",
     "text": [
      "Hyperopt: 100%|██████████| 10/10 [26:43<00:00, 171.04s/it]"
     ]
    },
    {
     "name": "stdout",
     "output_type": "stream",
     "text": [
      "\n",
      "100%|██████████| 10/10 [26:43<00:00, 171.04s/it, best loss: -0.651162790698]\u001b[A------------------------------------\n",
      "('The best hyperparameters are: ', '\\n')\n",
      "{'kernel': 0, 'C': 5.370547091941049, 'gamma': 8.405408815461676, 'class_weight': 0}\n",
      "Time elapsed to optimize 10 executions: 1603.24613714\n",
      "\n",
      " Best score:\n"
     ]
    },
    {
     "name": "stderr",
     "output_type": "stream",
     "text": [
      "\n"
     ]
    },
    {
     "name": "stdout",
     "output_type": "stream",
     "text": [
      "Parameters with this training accuracy 0.995805098419 and loss 0.197679786532 :\n",
      "Parameters with this testing accuracy 0.651162790698 and loss 1.08168052103 :\n",
      "{'kernel': 'linear', 'C': 5.370547091941049, 'gamma': 8.405408815461676, 'class_weight': None}\n"
     ]
    },
    {
     "data": {
      "text/plain": [
       "{'loss': -0.6511627906976745, 'status': 'ok'}"
      ]
     },
     "execution_count": 15,
     "metadata": {},
     "output_type": "execute_result"
    }
   ],
   "source": [
    "import time\n",
    "from tqdm import tqdm\n",
    "import numpy as np\n",
    "\n",
    "trials = Trials()\n",
    "cores = 48\n",
    "start = time.time()\n",
    "evaluations = 10\n",
    "pbar = tqdm(total=evaluations, desc=\"Hyperopt\")\n",
    "best_param = optimize(evals=evaluations,\n",
    "                      optimizer=tpe.suggest,\n",
    "                      trials=trials)\n",
    "print(\"------------------------------------\")\n",
    "print(\"The best hyperparameters are: \", \"\\n\")\n",
    "print(best_param)\n",
    "end = time.time()\n",
    "print('Time elapsed to optimize {0} executions: {1}'.format(evaluations, end - start))\n",
    "best_param['kernel'] = kernel_list[best_param['kernel']]\n",
    "best_param['class_weight'] = class_weights[best_param['class_weight']]\n",
    "print('\\n Best score:')\n",
    "score(best_param)"
   ]
  },
  {
   "cell_type": "code",
   "execution_count": 16,
   "metadata": {},
   "outputs": [],
   "source": [
    "# get the best params and train the model\n",
    "SVC_opt = svm.SVC(kernel=best_param['kernel'],\n",
    "            C=best_param['C'],\n",
    "            random_state=42,\n",
    "            decision_function_shape='ovr',\n",
    "            # class_weight=self.class_weight,\n",
    "            class_weight=best_param['class_weight'],\n",
    "            probability=True,\n",
    "            gamma=best_param['gamma'])\n",
    "\n",
    "\n",
    "fitted_model = SVC_opt.fit(X=X_train,y=y_train)"
   ]
  },
  {
   "cell_type": "code",
   "execution_count": 17,
   "metadata": {},
   "outputs": [
    {
     "data": {
      "text/plain": [
       "array([[13.10294832,  4.97329091,  6.0124811 , ...,  9.03743599,\n",
       "         1.91422364,  0.81735311],\n",
       "       [15.2383287 ,  1.88872993,  3.94637936, ...,  0.8466485 ,\n",
       "        -0.1922721 , 10.03442645],\n",
       "       [ 9.03301844, 11.14478948, 10.08136427, ...,  6.00466299,\n",
       "         4.92385279,  3.9106869 ],\n",
       "       ...,\n",
       "       [13.10258485,  4.99179658,  3.98069725, ...,  3.99068329,\n",
       "         9.02847324,  1.89607295],\n",
       "       [15.21807966,  0.82993604,  3.87408754, ...,  2.89571694,\n",
       "        10.05052388, -0.25438888],\n",
       "       [14.19644259,  9.02163649,  9.01059615, ...,  2.93304507,\n",
       "        -0.17412783,  4.94400294]])"
      ]
     },
     "execution_count": 17,
     "metadata": {},
     "output_type": "execute_result"
    }
   ],
   "source": [
    "y_score = fitted_model.decision_function(X_test)\n",
    "y_score"
   ]
  },
  {
   "cell_type": "code",
   "execution_count": 18,
   "metadata": {},
   "outputs": [
    {
     "data": {
      "text/plain": [
       "0.6511627906976745"
      ]
     },
     "execution_count": 18,
     "metadata": {},
     "output_type": "execute_result"
    }
   ],
   "source": [
    "test_acc = accuracy_score(y_test, fitted_model.predict(X_test))\n",
    "test_acc"
   ]
  },
  {
   "cell_type": "code",
   "execution_count": 19,
   "metadata": {},
   "outputs": [
    {
     "data": {
      "image/png": "[encoded data removed]",
      "text/plain": [
       "<Figure size 432x288 with 1 Axes>"
      ]
     },
     "metadata": {
      "needs_background": "light"
     },
     "output_type": "display_data"
    }
   ],
   "source": [
    "from matplotlib import pyplot as plt \n",
    "%matplotlib inline \n",
    "x_list =range(len(train_acc_list))\n",
    "\n",
    "plt.plot(x_list, train_acc_list, label='Training accuracy')\n",
    "plt.plot(x_list, test_acc_list, label='Testing accuracy')\n",
    "plt.legend()\n",
    "plt.show()"
   ]
  },
  {
   "cell_type": "code",
   "execution_count": 20,
   "metadata": {},
   "outputs": [
    {
     "data": {
      "image/png": "[encoded data removed]",
      "text/plain": [
       "<Figure size 432x288 with 1 Axes>"
      ]
     },
     "metadata": {
      "needs_background": "light"
     },
     "output_type": "display_data"
    }
   ],
   "source": [
    "plt.plot(x_list, train_loss_list, label='Training loss')\n",
    "plt.plot(x_list, test_loss_list, label='Testing loss')\n",
    "plt.legend()\n",
    "plt.show()"
   ]
  },
  {
   "cell_type": "code",
   "execution_count": null,
   "metadata": {},
   "outputs": [],
   "source": []
  },
  {
   "cell_type": "code",
   "execution_count": null,
   "metadata": {},
   "outputs": [],
   "source": []
  }
 ],
 "metadata": {
  "kernelspec": {
   "display_name": "Python 2",
   "language": "python",
   "name": "python2"
  },
  "language_info": {
   "codemirror_mode": {
    "name": "ipython",
    "version": 2
   },
   "file_extension": ".py",
   "mimetype": "text/x-python",
   "name": "python",
   "nbconvert_exporter": "python",
   "pygments_lexer": "ipython2",
   "version": "2.7.15"
  }
 },
 "nbformat": 4,
 "nbformat_minor": 2
}

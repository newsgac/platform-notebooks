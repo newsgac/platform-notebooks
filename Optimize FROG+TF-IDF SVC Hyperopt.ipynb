{
 "cells": [
  {
   "cell_type": "code",
   "execution_count": null,
   "metadata": {},
   "outputs": [],
   "source": [
    "# import sys\n",
    "# !{sys.executable} -m pip install imbalanced-learn --user\n",
    "# !{sys.executable} -m pip install hyperopt --user"
   ]
  },
  {
   "cell_type": "code",
   "execution_count": 1,
   "metadata": {},
   "outputs": [
    {
     "name": "stdout",
     "output_type": "stream",
     "text": [
      "[nltk_data] Downloading package punkt to /home/newsgac/nltk_data...\n",
      "[nltk_data]   Package punkt is already up-to-date!\n"
     ]
    },
    {
     "data": {
      "text/plain": [
       "True"
      ]
     },
     "execution_count": 1,
     "metadata": {},
     "output_type": "execute_result"
    }
   ],
   "source": [
    "import numpy\n",
    "from time import time\n",
    "from sklearn.model_selection import GridSearchCV\n",
    "from hyperopt import tpe, fmin, hp, STATUS_OK, Trials\n",
    "from sklearn.metrics import accuracy_score, log_loss\n",
    "from sklearn.model_selection import train_test_split\n",
    "from copy import deepcopy\n",
    "\n",
    "from newsgac import config\n",
    "from newsgac.genres import genre_codes\n",
    "from newsgac.learners import learners, LearnerSVC, LearnerNB, LearnerXGB, LearnerGB, LearnerMLP, LearnerRF, LearnerLGBM\n",
    "from newsgac.pipelines.get_sk_pipeline import get_sk_pipeline\n",
    "from newsgac.pipelines.utils import report\n",
    "from sklearn import svm\n",
    "\n",
    "\n",
    "from newsgac import database\n",
    "from newsgac.data_sources import DataSource\n",
    "from newsgac.pipelines import Pipeline\n",
    "\n",
    "# from imblearn.under_sampling import RandomUnderSampler\n",
    "# from imblearn.over_sampling import RandomOverSampler, SMOTE, ADASYN\n",
    "# from imblearn.combine import SMOTEENN, SMOTETomek\n",
    "import numpy as np\n",
    "import nltk\n",
    "nltk.download('punkt')"
   ]
  },
  {
   "cell_type": "code",
   "execution_count": 2,
   "metadata": {},
   "outputs": [
    {
     "data": {
      "text/plain": [
       "[u'N2BGS Training',\n",
       " u'N2BGS Testing',\n",
       " u'Linked NRC (2930)',\n",
       " u'BOW + 5 features (N2BGS train)',\n",
       " u'BOW + 5 features (N2BGS test)',\n",
       " u'nrc-1950-1994-a.txt',\n",
       " u'nrc-1950-1994-b.txt',\n",
       " u'nrc-1950-1994-c.txt',\n",
       " u'nrc-1950-1994-d.txt',\n",
       " u'nrc-1950-1994-e.txt',\n",
       " u'telegraaf-1950-1994-a.txt',\n",
       " u'telegraaf-1950-1994-b.txt',\n",
       " u'telegraaf-1950-1994-c.txt',\n",
       " u'telegraaf-1950-1994-d.txt',\n",
       " u'telegraaf-1950-1994-e.txt',\n",
       " u'volkskrant-1950-1995-a.txt',\n",
       " u'volkskrant-1950-1995-b.txt',\n",
       " u'volkskrant-1950-1995-c.txt',\n",
       " u'volkskrant-1950-1995-d.txt',\n",
       " u'volkskrant-1950-1995-e.txt',\n",
       " u'nrc-1965.txt',\n",
       " u'nrc-1985.txt',\n",
       " u'BOW + 9 features (N2BGS train)',\n",
       " u'BOW + 9 features (N2BGS test)',\n",
       " u'Linked NRC (2930/9 features)',\n",
       " u'BOW Train unique (9 features)',\n",
       " u'BOW Test unique (9 features)',\n",
       " u'Linked NRC (unique/9 features)',\n",
       " u'BOW Train unique (N3BGS/9 features)',\n",
       " u'N3BGS FROG Test',\n",
       " u'N3BGS FROG Train',\n",
       " u'BOW Test unique (N3BGS/9 features)',\n",
       " u'BOW Test unique (N3BGS/9 features/collapsed)',\n",
       " u'Linked NRC (2930 articles)',\n",
       " u'Combined N3BGS/Linked NRC (3884)',\n",
       " u'2019 N3BGS Test',\n",
       " u'2019 N3BGS Train',\n",
       " u'AAOB',\n",
       " u'20190228 unbalanced train size=3443',\n",
       " u'20190228 unbalanced test size=3443']"
      ]
     },
     "execution_count": 2,
     "metadata": {},
     "output_type": "execute_result"
    }
   ],
   "source": [
    "[d.display_title for d in DataSource.objects.all()]"
   ]
  },
  {
   "cell_type": "code",
   "execution_count": 3,
   "metadata": {},
   "outputs": [
    {
     "data": {
      "text/plain": [
       "[u'dummy frog',\n",
       " u'dummy bow',\n",
       " u'RF FROG',\n",
       " u'SVC FROG',\n",
       " u'XGB FROG',\n",
       " u'NB FROG',\n",
       " u'MLP FROG',\n",
       " u'RF BOW',\n",
       " u'SVC BOW',\n",
       " u'XGB BOW',\n",
       " u'NB BOW',\n",
       " u'MLP BOW',\n",
       " u'SVC LIN BOW',\n",
       " u'Erik MLP BOW (with stop-words)',\n",
       " u'Erik MLP BOW (5 features) ',\n",
       " u'Erik MLP BOW (9 features) ',\n",
       " u'Erik SVC BOW (9 features)',\n",
       " u'Erik RF BOW (9 features)',\n",
       " u'Erik XGB BOW (9 features)',\n",
       " u'Erik NB BOW (9 features)',\n",
       " u'Erik MLP unique 9 features',\n",
       " u'Erik NB unique (9 features)',\n",
       " u'Erik XGB unique (9 features)',\n",
       " u'Erik SVC unique (9 features)',\n",
       " u'Erik RF unique (9 features)',\n",
       " u'N3BGS MLP unique 9 features',\n",
       " u'N3BGS NB unique 9 features ',\n",
       " u'N3BGS SVC unique 9 features ',\n",
       " u'N3BGS RF unique 9 features',\n",
       " u'N3BGS XGB unique 9 features ',\n",
       " u'dummy n3bgs bow',\n",
       " u'dummy n3bgs frog',\n",
       " u'RF FROG N3BGS',\n",
       " u'SVC FROG N3BGS',\n",
       " u'XGB FROG N3BGS',\n",
       " u'Erik NB N3BGS Collapsed',\n",
       " u'Erik MLP N3BGS Collapsed',\n",
       " u'Erik MLP Linked NRC (2930 articles)',\n",
       " u'Erik RF Linked NRC (2930 articles) ',\n",
       " u'Erik NB Linked NRC (2930 articles) ',\n",
       " u'Erik SVC Linked NRC (2930 articles) ',\n",
       " u'Erik XGB Linked NRC (2930 articles) ',\n",
       " u'SVC BOW Combined',\n",
       " u'NB FROG N3BGS',\n",
       " u'MLP FROG N3BGS',\n",
       " u'RF BOW NBGS',\n",
       " u'SVC BOW N3BGS',\n",
       " u'XGB BOW N3BGS',\n",
       " u'NB BOW N3BGS',\n",
       " u'MLP BOW N3BGS',\n",
       " u'KIM N3BGS FROG and TF-IDF',\n",
       " u'KIM N3BGS MLP Combi features',\n",
       " u'KIM N3BGS RF COMBI',\n",
       " u'KIM N3BGS SVM COMBI (copy)',\n",
       " u'KIM N3BGS XGB COMBI',\n",
       " u'20190228 SVM',\n",
       " u'20190228 SVC no stop words',\n",
       " u'20190228 SVC no stop words, lowercased',\n",
       " u'dummy combi for opt',\n",
       " u'dummy combi for opt ugs',\n",
       " u'new dummy ugs opt',\n",
       " u'new dummy bgs opt',\n",
       " u'dummy opt frog bgs',\n",
       " u'dummy bow opt bgs',\n",
       " u'dummy frog ugs opt',\n",
       " u'dummy bow opt ugs']"
      ]
     },
     "execution_count": 3,
     "metadata": {},
     "output_type": "execute_result"
    }
   ],
   "source": [
    "[d.display_title for d in Pipeline.objects.all()]"
   ]
  },
  {
   "cell_type": "code",
   "execution_count": 4,
   "metadata": {},
   "outputs": [
    {
     "name": "stdout",
     "output_type": "stream",
     "text": [
      "Pipeline: dummy combi for opt ugs\n",
      "DataSource: 20190228 unbalanced train size=3443\n",
      "NLP Tool: Frog + TFIDF\n",
      "Classifier: Multi-Layer Perceptron\n",
      "Task status: Status.SUCCESS\n"
     ]
    }
   ],
   "source": [
    "p = Pipeline.objects.all()[59]\n",
    "print 'Pipeline: ' + p.display_title\n",
    "print 'DataSource: ' + p.data_source.display_title\n",
    "print 'NLP Tool: ' + p.nlp_tool.name\n",
    "print 'Classifier: ' + p.learner.name\n",
    "print 'Task status: ' + str(p.task.status)"
   ]
  },
  {
   "cell_type": "code",
   "execution_count": 5,
   "metadata": {},
   "outputs": [
    {
     "data": {
      "text/plain": [
       "3099"
      ]
     },
     "execution_count": 5,
     "metadata": {},
     "output_type": "execute_result"
    }
   ],
   "source": [
    "len(p.data_source.articles)"
   ]
  },
  {
   "cell_type": "code",
   "execution_count": 6,
   "metadata": {},
   "outputs": [
    {
     "name": "stdout",
     "output_type": "stream",
     "text": [
      "Testing data source: 20190228 unbalanced test size=3443\n"
     ]
    }
   ],
   "source": [
    "test_data_source = DataSource.objects.all()[39]\n",
    "print 'Testing data source: ' + test_data_source.display_title"
   ]
  },
  {
   "cell_type": "code",
   "execution_count": 7,
   "metadata": {},
   "outputs": [
    {
     "data": {
      "text/plain": [
       "[('CleanOCR', <newsgac.nlp_tools.transformers.CleanOCR at 0x7f7176909110>),\n",
       " ('StopWordRemoval',\n",
       "  <newsgac.nlp_tools.transformers.StopWordRemoval at 0x7f7176909310>),\n",
       " ('FeatureExtraction', FeatureUnion(n_jobs=None,\n",
       "         transformer_list=[('frog', FeatureUnion(n_jobs=None,\n",
       "         transformer_list=[('Basic', <newsgac.nlp_tools.transformers.ExtractBasicFeatures object at 0x7f7173fd6b50>), ('Quote', <newsgac.nlp_tools.transformers.ExtractQuotes object at 0x7f7173fd6b90>), ('Sentiment', Pipeline(memory=None,\n",
       "       steps=...\\b', tokenizer=None, use_idf=True,\n",
       "          vocabulary=None))]))],\n",
       "         transformer_weights=None))],\n",
       "         transformer_weights=None)),\n",
       " ('RobustScaler',\n",
       "  RobustScaler(copy=True, quantile_range=(25.0, 75.0), with_centering=False,\n",
       "         with_scaling=True))]"
      ]
     },
     "execution_count": 7,
     "metadata": {},
     "output_type": "execute_result"
    }
   ],
   "source": [
    "skp = p.get_sk_pipeline()\n",
    "skp_opt = deepcopy(skp)\n",
    "skp_opt.steps.pop()\n",
    "skp_opt.steps"
   ]
  },
  {
   "cell_type": "code",
   "execution_count": 8,
   "metadata": {},
   "outputs": [],
   "source": [
    "texts = numpy.array([article.raw_text for article in p.data_source.articles])\n",
    "labels = numpy.array([article.label for article in p.data_source.articles])\n",
    "\n",
    "X = skp_opt.fit_transform(texts)"
   ]
  },
  {
   "cell_type": "code",
   "execution_count": 9,
   "metadata": {},
   "outputs": [],
   "source": [
    "# get the test dataset for optimization accuracy\n",
    "texts_test = numpy.array([article.raw_text for article in test_data_source.articles])\n",
    "labels_test = numpy.array([article.label for article in test_data_source.articles])\n",
    "\n",
    "X_test = skp_opt.transform(texts_test)"
   ]
  },
  {
   "cell_type": "code",
   "execution_count": 10,
   "metadata": {},
   "outputs": [],
   "source": [
    "X_train = X\n",
    "y_train = labels\n",
    "y_test = labels_test"
   ]
  },
  {
   "cell_type": "code",
   "execution_count": 11,
   "metadata": {},
   "outputs": [
    {
     "data": {
      "text/plain": [
       "(344,)"
      ]
     },
     "execution_count": 11,
     "metadata": {},
     "output_type": "execute_result"
    }
   ],
   "source": [
    "y_test.shape"
   ]
  },
  {
   "cell_type": "code",
   "execution_count": 13,
   "metadata": {},
   "outputs": [],
   "source": [
    "kernel_list = ['linear', 'rbf', 'poly', 'sigmoid']\n",
    "# kernel_list = ['linear']\n",
    "class_weights = [None, 'balanced']"
   ]
  },
  {
   "cell_type": "code",
   "execution_count": 14,
   "metadata": {},
   "outputs": [],
   "source": [
    "def optimize(evals, trials, optimizer=tpe.suggest):\n",
    "    space = {\n",
    "        'kernel': hp.choice('kernel', kernel_list),\n",
    "        'class_weight': hp.choice('class_weight', class_weights),\n",
    "        'C': hp.uniform('C', 0, 20),\n",
    "        'gamma': hp.uniform('gamma',0.001,10)\n",
    "    }\n",
    "    best = fmin(score, space, algo=optimizer, max_evals=evals, trials=trials)\n",
    "    pbar.close()\n",
    "    return best"
   ]
  },
  {
   "cell_type": "code",
   "execution_count": 15,
   "metadata": {},
   "outputs": [],
   "source": [
    "train_acc_list = []\n",
    "train_loss_list = []\n",
    "test_acc_list = []\n",
    "test_loss_list = []\n",
    "\n",
    "def score(params):\n",
    "    c = params['C']\n",
    "    gamma = params['gamma']\n",
    "    kernel = params['kernel']\n",
    "    class_weight = params['class_weight']\n",
    "    \n",
    "    model = svm.SVC(kernel=kernel,\n",
    "            C=c,\n",
    "            random_state=42,\n",
    "            decision_function_shape='ovr',\n",
    "            # class_weight=self.class_weight,\n",
    "            class_weight=class_weight,\n",
    "            probability=True,\n",
    "            gamma=gamma)\n",
    "    \n",
    "    model.fit(X_train, y_train)\n",
    "    labels_prediction = model.predict(X_test)\n",
    "    labels_probs = model.predict_proba(X_test)\n",
    "    train_acc = accuracy_score(y_train, model.predict(X_train))\n",
    "    train_loss = log_loss(y_train, model.predict_proba(X_train))\n",
    "    test_acc = accuracy_score(y_test, labels_prediction)\n",
    "    test_loss = log_loss(y_test, labels_probs)\n",
    "    \n",
    "    train_acc_list.append(train_acc)\n",
    "    train_loss_list.append(train_loss)\n",
    "    test_acc_list.append(test_acc)\n",
    "    test_loss_list.append(test_loss)\n",
    "    \n",
    "    print('Parameters with this training accuracy {} and loss {} :'.format(train_acc, train_loss))\n",
    "    print('Parameters with this testing accuracy {} and loss {} :'.format(test_acc, test_loss))\n",
    "    print(params)\n",
    "    pbar.update()\n",
    "#     return {'loss': test_loss, 'status': STATUS_OK}\n",
    "    return {'loss': -test_acc, 'status': STATUS_OK}"
   ]
  },
  {
   "cell_type": "code",
   "execution_count": null,
   "metadata": {},
   "outputs": [
    {
     "name": "stderr",
     "output_type": "stream",
     "text": [
      "Hyperopt:   0%|          | 0/1000 [00:00<?, ?it/s]"
     ]
    },
    {
     "name": "stdout",
     "output_type": "stream",
     "text": [
      "\n",
      "  0%|          | 0/1000 [00:00<?, ?it/s, best loss: ?]\u001b[A\n",
      "\u001b[AParameters with this training accuracy 0.996450467893 and loss 0.858198316055 :\n",
      "\n",
      "  0%|          | 0/1000 [01:47<?, ?it/s, best loss: ?]\u001b[A\n",
      "\u001b[AParameters with this testing accuracy 0.56976744186 and loss 1.32180975031 :\n",
      "\n",
      "  0%|          | 0/1000 [01:47<?, ?it/s, best loss: ?]\u001b[A\n",
      "\u001b[A{'kernel': 'poly', 'C': 4.302310645441003, 'gamma': 7.729220738696893, 'class_weight': None}\n",
      "\n",
      "  0%|          | 0/1000 [01:47<?, ?it/s, best loss: ?]\u001b[A"
     ]
    },
    {
     "name": "stderr",
     "output_type": "stream",
     "text": [
      "Hyperopt:   0%|          | 1/1000 [01:47<29:53:51, 107.74s/it]"
     ]
    },
    {
     "name": "stdout",
     "output_type": "stream",
     "text": [
      "\n",
      "  0%|          | 1/1000 [01:47<29:53:41, 107.73s/it, best loss: -0.56976744186]\u001b[A\n",
      "\u001b[AParameters with this training accuracy 0.996450467893 and loss 2.71860343194 :\n",
      "\n",
      "  0%|          | 1/1000 [06:50<29:53:41, 107.73s/it, best loss: -0.56976744186]\u001b[A\n",
      "\u001b[AParameters with this testing accuracy 0.459302325581 and loss 1.94021705794 :\n",
      "\n",
      "  0%|          | 1/1000 [06:50<29:53:41, 107.73s/it, best loss: -0.56976744186]\u001b[A\n",
      "\u001b[A{'kernel': 'rbf', 'C': 19.74279514111955, 'gamma': 3.1259376627712605, 'class_weight': None}\n",
      "\n",
      "  0%|          | 1/1000 [06:50<29:53:41, 107.73s/it, best loss: -0.56976744186]\u001b[A"
     ]
    },
    {
     "name": "stderr",
     "output_type": "stream",
     "text": [
      "Hyperopt:   0%|          | 2/1000 [06:50<46:06:29, 166.32s/it]"
     ]
    },
    {
     "name": "stdout",
     "output_type": "stream",
     "text": [
      "\n",
      "  0%|          | 2/1000 [06:50<46:06:22, 166.31s/it, best loss: -0.56976744186]\u001b[A\n",
      "\u001b[AParameters with this training accuracy 0.996450467893 and loss 0.855379599524 :\n",
      "\n",
      "  0%|          | 2/1000 [08:27<46:06:22, 166.31s/it, best loss: -0.56976744186]\u001b[A\n",
      "\u001b[AParameters with this testing accuracy 0.56976744186 and loss 1.32218207895 :\n",
      "\n",
      "  0%|          | 2/1000 [08:27<46:06:22, 166.31s/it, best loss: -0.56976744186]\u001b[A\n",
      "\u001b[A{'kernel': 'poly', 'C': 12.66496220083473, 'gamma': 2.2053987446488654, 'class_weight': None}\n",
      "\n",
      "  0%|          | 2/1000 [08:27<46:06:22, 166.31s/it, best loss: -0.56976744186]\u001b[A"
     ]
    },
    {
     "name": "stderr",
     "output_type": "stream",
     "text": [
      "Hyperopt:   0%|          | 3/1000 [08:27<40:18:36, 145.55s/it]"
     ]
    },
    {
     "name": "stdout",
     "output_type": "stream",
     "text": [
      "\n",
      "  0%|          | 3/1000 [08:27<40:18:31, 145.55s/it, best loss: -0.56976744186]\u001b[A\n",
      "\u001b[AParameters with this training accuracy 0.996450467893 and loss 2.79983731961 :\n",
      "\n",
      "  0%|          | 3/1000 [12:59<40:18:31, 145.55s/it, best loss: -0.56976744186]\u001b[A\n",
      "\u001b[AParameters with this testing accuracy 0.459302325581 and loss 1.94379916265 :\n",
      "\n",
      "  0%|          | 3/1000 [12:59<40:18:31, 145.55s/it, best loss: -0.56976744186]\u001b[A\n",
      "\u001b[A{'kernel': 'rbf', 'C': 11.59309375202325, 'gamma': 8.791600795311776, 'class_weight': 'balanced'}\n",
      "\n",
      "  0%|          | 3/1000 [12:59<40:18:31, 145.55s/it, best loss: -0.56976744186]\u001b[A"
     ]
    },
    {
     "name": "stderr",
     "output_type": "stream",
     "text": [
      "Hyperopt:   0%|          | 4/1000 [12:59<50:44:14, 183.39s/it]"
     ]
    },
    {
     "name": "stdout",
     "output_type": "stream",
     "text": [
      "\n",
      "  0%|          | 4/1000 [12:59<50:44:10, 183.38s/it, best loss: -0.56976744186]\u001b[A\n",
      "\u001b[AParameters with this training accuracy 0.996450467893 and loss 0.887444913085 :\n",
      "\n",
      "  0%|          | 4/1000 [14:43<50:44:10, 183.38s/it, best loss: -0.56976744186]\u001b[A\n",
      "\u001b[AParameters with this testing accuracy 0.56976744186 and loss 1.32591023488 :\n",
      "\n",
      "  0%|          | 4/1000 [14:43<50:44:10, 183.38s/it, best loss: -0.56976744186]\u001b[A\n",
      "\u001b[A{'kernel': 'poly', 'C': 18.455749864888897, 'gamma': 3.069952695711614, 'class_weight': 'balanced'}\n",
      "\n",
      "  0%|          | 4/1000 [14:43<50:44:10, 183.38s/it, best loss: -0.56976744186]\u001b[A"
     ]
    },
    {
     "name": "stderr",
     "output_type": "stream",
     "text": [
      "Hyperopt:   0%|          | 5/1000 [14:43<44:05:13, 159.51s/it]"
     ]
    },
    {
     "name": "stdout",
     "output_type": "stream",
     "text": [
      "\n",
      "  0%|          | 5/1000 [14:43<44:05:11, 159.51s/it, best loss: -0.56976744186]\u001b[A\n",
      "\u001b[AParameters with this training accuracy 0.992900935786 and loss 0.432247253063 :\n",
      "\n",
      "  0%|          | 5/1000 [16:45<44:05:11, 159.51s/it, best loss: -0.56976744186]\u001b[A\n",
      "\u001b[AParameters with this testing accuracy 0.665697674419 and loss 1.09740211511 :\n",
      "\n",
      "  0%|          | 5/1000 [16:45<44:05:11, 159.51s/it, best loss: -0.56976744186]\u001b[A\n",
      "\u001b[A{'kernel': 'linear', 'C': 10.063813295521907, 'gamma': 7.42194384407677, 'class_weight': 'balanced'}\n",
      "\n",
      "  0%|          | 5/1000 [16:45<44:05:11, 159.51s/it, best loss: -0.56976744186]\u001b[A"
     ]
    },
    {
     "name": "stderr",
     "output_type": "stream",
     "text": [
      "Hyperopt:   1%|          | 6/1000 [16:45<40:56:58, 148.31s/it]"
     ]
    },
    {
     "name": "stdout",
     "output_type": "stream",
     "text": [
      "\n",
      "  1%|          | 6/1000 [16:45<40:56:56, 148.31s/it, best loss: -0.665697674419]\u001b[A\n",
      "\u001b[AParameters with this training accuracy 0.996450467893 and loss 1.88079738733 :\n",
      "\n",
      "  1%|          | 6/1000 [21:27<40:56:56, 148.31s/it, best loss: -0.665697674419]\u001b[A\n",
      "\u001b[AParameters with this testing accuracy 0.462209302326 and loss 1.93064538204 :\n",
      "\n",
      "  1%|          | 6/1000 [21:27<40:56:56, 148.31s/it, best loss: -0.665697674419]\u001b[A\n",
      "\u001b[A{'kernel': 'rbf', 'C': 16.617669416679945, 'gamma': 0.9590684610153134, 'class_weight': 'balanced'}\n",
      "\n",
      "  1%|          | 6/1000 [21:27<40:56:56, 148.31s/it, best loss: -0.665697674419]\u001b[A"
     ]
    },
    {
     "name": "stderr",
     "output_type": "stream",
     "text": [
      "Hyperopt:   1%|          | 7/1000 [21:27<51:59:02, 188.46s/it]"
     ]
    },
    {
     "name": "stdout",
     "output_type": "stream",
     "text": [
      "\n",
      "  1%|          | 7/1000 [21:27<51:59:01, 188.46s/it, best loss: -0.665697674419]\u001b[A\n",
      "\u001b[AParameters with this training accuracy 0.995805098419 and loss 0.419996303211 :\n",
      "\n",
      "  1%|          | 7/1000 [23:37<51:59:01, 188.46s/it, best loss: -0.665697674419]\u001b[A\n",
      "\u001b[AParameters with this testing accuracy 0.65988372093 and loss 1.10470582823 :\n",
      "\n",
      "  1%|          | 7/1000 [23:37<51:59:01, 188.46s/it, best loss: -0.665697674419]\u001b[A\n",
      "\u001b[A{'kernel': 'linear', 'C': 12.346232871022558, 'gamma': 2.7184428263498077, 'class_weight': None}\n",
      "\n",
      "  1%|          | 7/1000 [23:37<51:59:01, 188.46s/it, best loss: -0.665697674419]\u001b[A"
     ]
    },
    {
     "name": "stderr",
     "output_type": "stream",
     "text": [
      "Hyperopt:   1%|          | 8/1000 [23:37<47:05:22, 170.89s/it]"
     ]
    },
    {
     "name": "stdout",
     "output_type": "stream",
     "text": [
      "\n",
      "  1%|          | 8/1000 [23:37<47:05:21, 170.89s/it, best loss: -0.665697674419]\u001b[A\n",
      "\u001b[AParameters with this training accuracy 0.431106808648 and loss 1.97741256426 :\n",
      "\n",
      "  1%|          | 8/1000 [28:19<47:05:21, 170.89s/it, best loss: -0.665697674419]\u001b[A\n",
      "\u001b[AParameters with this testing accuracy 0.468023255814 and loss 1.94285522102 :\n",
      "\n",
      "  1%|          | 8/1000 [28:19<47:05:21, 170.89s/it, best loss: -0.665697674419]\u001b[A\n",
      "\u001b[A{'kernel': 'sigmoid', 'C': 3.7810935834084614, 'gamma': 7.0954790460995385, 'class_weight': 'balanced'}\n",
      "\n",
      "  1%|          | 8/1000 [28:19<47:05:21, 170.89s/it, best loss: -0.665697674419]\u001b[A"
     ]
    },
    {
     "name": "stderr",
     "output_type": "stream",
     "text": [
      "Hyperopt:   1%|          | 9/1000 [28:19<56:13:58, 204.28s/it]"
     ]
    },
    {
     "name": "stdout",
     "output_type": "stream",
     "text": [
      "\n",
      "  1%|          | 9/1000 [28:19<56:13:57, 204.28s/it, best loss: -0.665697674419]\u001b[A\n",
      "\u001b[AParameters with this training accuracy 0.182962245886 and loss 1.96607123728 :\n",
      "\n",
      "  1%|          | 9/1000 [33:04<56:13:57, 204.28s/it, best loss: -0.665697674419]\u001b[A\n",
      "\u001b[AParameters with this testing accuracy 0.174418604651 and loss 1.95102390376 :\n",
      "\n",
      "  1%|          | 9/1000 [33:04<56:13:57, 204.28s/it, best loss: -0.665697674419]\u001b[A\n",
      "\u001b[A{'kernel': 'sigmoid', 'C': 0.7364109954472231, 'gamma': 2.899728159384522, 'class_weight': 'balanced'}\n",
      "\n",
      "  1%|          | 9/1000 [33:04<56:13:57, 204.28s/it, best loss: -0.665697674419]\u001b[A"
     ]
    },
    {
     "name": "stderr",
     "output_type": "stream",
     "text": [
      "Hyperopt:   1%|          | 10/1000 [33:04<62:49:18, 228.44s/it]"
     ]
    },
    {
     "name": "stdout",
     "output_type": "stream",
     "text": [
      "\n",
      "  1%|          | 10/1000 [33:04<62:49:17, 228.44s/it, best loss: -0.665697674419]\u001b[A\n",
      "\u001b[AParameters with this training accuracy 0.988383349468 and loss 0.444891403527 :\n",
      "\n",
      "  1%|          | 10/1000 [35:16<62:49:17, 228.44s/it, best loss: -0.665697674419]\u001b[A\n",
      "\u001b[AParameters with this testing accuracy 0.662790697674 and loss 1.09595974337 :\n",
      "\n",
      "  1%|          | 10/1000 [35:16<62:49:17, 228.44s/it, best loss: -0.665697674419]\u001b[A\n",
      "\u001b[A{'kernel': 'linear', 'C': 7.373279947531078, 'gamma': 3.0985109604443326, 'class_weight': 'balanced'}\n",
      "\n",
      "  1%|          | 10/1000 [35:16<62:49:17, 228.44s/it, best loss: -0.665697674419]\u001b[A"
     ]
    },
    {
     "name": "stderr",
     "output_type": "stream",
     "text": [
      "Hyperopt:   1%|          | 11/1000 [35:16<54:46:51, 199.40s/it]"
     ]
    },
    {
     "name": "stdout",
     "output_type": "stream",
     "text": [
      "\n",
      "  1%|          | 11/1000 [35:16<54:46:50, 199.40s/it, best loss: -0.665697674419]\u001b[A\n",
      "\u001b[AParameters with this training accuracy 0.996450467893 and loss 0.418360488237 :\n",
      "\n",
      "  1%|          | 11/1000 [37:31<54:46:50, 199.40s/it, best loss: -0.665697674419]\u001b[A\n",
      "\u001b[AParameters with this testing accuracy 0.65988372093 and loss 1.10296199273 :\n",
      "\n",
      "  1%|          | 11/1000 [37:31<54:46:50, 199.40s/it, best loss: -0.665697674419]\u001b[A\n",
      "\u001b[A{'kernel': 'linear', 'C': 15.018331498649037, 'gamma': 9.047663147825864, 'class_weight': None}\n",
      "\n",
      "  1%|          | 11/1000 [37:31<54:46:50, 199.40s/it, best loss: -0.665697674419]\u001b[A"
     ]
    },
    {
     "name": "stderr",
     "output_type": "stream",
     "text": [
      "Hyperopt:   1%|          | 12/1000 [37:31<49:24:45, 180.05s/it]"
     ]
    },
    {
     "name": "stdout",
     "output_type": "stream",
     "text": [
      "\n",
      "  1%|          | 12/1000 [37:31<49:24:44, 180.05s/it, best loss: -0.665697674419]\u001b[A\n",
      "\u001b[AParameters with this training accuracy 0.996450467893 and loss 0.849790208253 :\n",
      "\n",
      "  1%|          | 12/1000 [39:21<49:24:44, 180.05s/it, best loss: -0.665697674419]\u001b[A\n",
      "\u001b[AParameters with this testing accuracy 0.56976744186 and loss 1.32050587776 :\n",
      "\n",
      "  1%|          | 12/1000 [39:21<49:24:44, 180.05s/it, best loss: -0.665697674419]\u001b[A\n",
      "\u001b[A{'kernel': 'poly', 'C': 19.792442527796545, 'gamma': 4.007985091211013, 'class_weight': None}\n",
      "\n",
      "  1%|          | 12/1000 [39:21<49:24:44, 180.05s/it, best loss: -0.665697674419]\u001b[A"
     ]
    },
    {
     "name": "stderr",
     "output_type": "stream",
     "text": [
      "Hyperopt:   1%|▏         | 13/1000 [39:21<43:38:00, 159.15s/it]"
     ]
    },
    {
     "name": "stdout",
     "output_type": "stream",
     "text": [
      "\n",
      "  1%|▏         | 13/1000 [39:21<43:38:00, 159.15s/it, best loss: -0.665697674419]\u001b[A\n",
      "\u001b[AParameters with this training accuracy 0.988383349468 and loss 0.176519089459 :\n",
      "\n",
      "  1%|▏         | 13/1000 [44:06<43:38:00, 159.15s/it, best loss: -0.665697674419]\u001b[A\n",
      "\u001b[AParameters with this testing accuracy 0.505813953488 and loss 1.57573887368 :\n",
      "\n",
      "  1%|▏         | 13/1000 [44:06<43:38:00, 159.15s/it, best loss: -0.665697674419]\u001b[A\n",
      "\u001b[A{'kernel': 'rbf', 'C': 4.038888499547479, 'gamma': 0.27794656868301654, 'class_weight': 'balanced'}\n",
      "\n",
      "  1%|▏         | 13/1000 [44:06<43:38:00, 159.15s/it, best loss: -0.665697674419]\u001b[A"
     ]
    },
    {
     "name": "stderr",
     "output_type": "stream",
     "text": [
      "Hyperopt:   1%|▏         | 14/1000 [44:06<53:55:34, 196.89s/it]"
     ]
    },
    {
     "name": "stdout",
     "output_type": "stream",
     "text": [
      "\n",
      "  1%|▏         | 14/1000 [44:06<53:55:34, 196.89s/it, best loss: -0.665697674419]\u001b[A\n",
      "\u001b[AParameters with this training accuracy 0.41464988706 and loss 1.95318223204 :\n",
      "\n",
      "  1%|▏         | 14/1000 [45:43<53:55:34, 196.89s/it, best loss: -0.665697674419]\u001b[A\n",
      "\u001b[AParameters with this testing accuracy 0.468023255814 and loss 1.94080086177 :\n",
      "\n",
      "  1%|▏         | 14/1000 [45:43<53:55:34, 196.89s/it, best loss: -0.665697674419]\u001b[A\n",
      "\u001b[A{'kernel': 'sigmoid', 'C': 3.236099132377066, 'gamma': 1.4857750374841396, 'class_weight': None}\n",
      "\n",
      "  1%|▏         | 14/1000 [45:43<53:55:34, 196.89s/it, best loss: -0.665697674419]\u001b[A"
     ]
    },
    {
     "name": "stderr",
     "output_type": "stream",
     "text": [
      "Hyperopt:   2%|▏         | 15/1000 [45:43<45:39:44, 166.89s/it]"
     ]
    },
    {
     "name": "stdout",
     "output_type": "stream",
     "text": [
      "\n",
      "  2%|▏         | 15/1000 [45:43<45:39:44, 166.89s/it, best loss: -0.665697674419]\u001b[A\n",
      "\u001b[AParameters with this training accuracy 0.996450467893 and loss 2.84394548501 :\n",
      "\n",
      "  2%|▏         | 15/1000 [50:37<45:39:44, 166.89s/it, best loss: -0.665697674419]\u001b[A\n",
      "\u001b[AParameters with this testing accuracy 0.459302325581 and loss 1.94071651635 :\n",
      "\n",
      "  2%|▏         | 15/1000 [50:37<45:39:44, 166.89s/it, best loss: -0.665697674419]\u001b[A\n",
      "\u001b[A{'kernel': 'rbf', 'C': 2.07559578314662, 'gamma': 5.039854954962682, 'class_weight': None}\n",
      "\n",
      "  2%|▏         | 15/1000 [50:37<45:39:44, 166.89s/it, best loss: -0.665697674419]\u001b[A"
     ]
    },
    {
     "name": "stderr",
     "output_type": "stream",
     "text": [
      "Hyperopt:   2%|▏         | 16/1000 [50:37<56:02:49, 205.05s/it]"
     ]
    },
    {
     "name": "stdout",
     "output_type": "stream",
     "text": [
      "\n",
      "  2%|▏         | 16/1000 [50:37<56:02:49, 205.05s/it, best loss: -0.665697674419]\u001b[A\n",
      "\u001b[AParameters with this training accuracy 0.996450467893 and loss 0.418633582709 :\n",
      "\n",
      "  2%|▏         | 16/1000 [52:51<56:02:49, 205.05s/it, best loss: -0.665697674419]\u001b[A\n",
      "\u001b[AParameters with this testing accuracy 0.65988372093 and loss 1.10337132084 :\n",
      "\n",
      "  2%|▏         | 16/1000 [52:51<56:02:49, 205.05s/it, best loss: -0.665697674419]\u001b[A\n",
      "\u001b[A{'kernel': 'linear', 'C': 16.17318348777579, 'gamma': 8.566939179686354, 'class_weight': None}\n",
      "\n",
      "  2%|▏         | 16/1000 [52:51<56:02:49, 205.05s/it, best loss: -0.665697674419]\u001b[A"
     ]
    },
    {
     "name": "stderr",
     "output_type": "stream",
     "text": [
      "Hyperopt:   2%|▏         | 17/1000 [52:51<50:11:39, 183.82s/it]"
     ]
    },
    {
     "name": "stdout",
     "output_type": "stream",
     "text": [
      "\n",
      "  2%|▏         | 17/1000 [52:51<50:11:39, 183.82s/it, best loss: -0.665697674419]\u001b[A\n",
      "\u001b[AParameters with this training accuracy 0.996450467893 and loss 2.81023263638 :\n",
      "\n",
      "  2%|▏         | 17/1000 [57:42<50:11:39, 183.82s/it, best loss: -0.665697674419]\u001b[A\n",
      "\u001b[AParameters with this testing accuracy 0.459302325581 and loss 1.94135381563 :\n",
      "\n",
      "  2%|▏         | 17/1000 [57:42<50:11:39, 183.82s/it, best loss: -0.665697674419]\u001b[A\n",
      "\u001b[A{'kernel': 'rbf', 'C': 15.469358884798265, 'gamma': 5.544310425505599, 'class_weight': 'balanced'}\n",
      "\n",
      "  2%|▏         | 17/1000 [57:42<50:11:39, 183.82s/it, best loss: -0.665697674419]\u001b[A"
     ]
    },
    {
     "name": "stderr",
     "output_type": "stream",
     "text": [
      "Hyperopt:   2%|▏         | 18/1000 [57:42<58:52:00, 215.80s/it]"
     ]
    },
    {
     "name": "stdout",
     "output_type": "stream",
     "text": [
      "\n",
      "  2%|▏         | 18/1000 [57:42<58:52:00, 215.81s/it, best loss: -0.665697674419]\u001b[A\n",
      "\u001b[AParameters with this training accuracy 0.996450467893 and loss 2.72123260035 :\n",
      "\n",
      "  2%|▏         | 18/1000 [1:02:15<58:52:00, 215.81s/it, best loss: -0.665697674419]\u001b[A\n",
      "\u001b[AParameters with this testing accuracy 0.459302325581 and loss 1.94074780903 :\n",
      "\n",
      "  2%|▏         | 18/1000 [1:02:15<58:52:00, 215.81s/it, best loss: -0.665697674419]\u001b[A\n",
      "\u001b[A{'kernel': 'rbf', 'C': 10.822951879523131, 'gamma': 4.1361615599137735, 'class_weight': 'balanced'}\n",
      "\n",
      "  2%|▏         | 18/1000 [1:02:15<58:52:00, 215.81s/it, best loss: -0.665697674419]\u001b[A"
     ]
    },
    {
     "name": "stderr",
     "output_type": "stream",
     "text": [
      "Hyperopt:   2%|▏         | 19/1000 [1:02:15<63:32:41, 233.19s/it]"
     ]
    },
    {
     "name": "stdout",
     "output_type": "stream",
     "text": [
      "\n",
      "  2%|▏         | 19/1000 [1:02:15<63:32:41, 233.19s/it, best loss: -0.665697674419]\u001b[A\n",
      "\u001b[AParameters with this training accuracy 0.413681832849 and loss 1.9463499856 :\n",
      "\n",
      "  2%|▏         | 19/1000 [1:03:54<63:32:41, 233.19s/it, best loss: -0.665697674419]\u001b[A\n",
      "\u001b[AParameters with this testing accuracy 0.46511627907 and loss 1.93684941282 :\n",
      "\n",
      "  2%|▏         | 19/1000 [1:03:54<63:32:41, 233.19s/it, best loss: -0.665697674419]\u001b[A\n",
      "\u001b[A{'kernel': 'sigmoid', 'C': 18.90999166586545, 'gamma': 2.715809882226323, 'class_weight': None}\n",
      "\n",
      "  2%|▏         | 19/1000 [1:03:54<63:32:41, 233.19s/it, best loss: -0.665697674419]\u001b[A"
     ]
    },
    {
     "name": "stderr",
     "output_type": "stream",
     "text": [
      "Hyperopt:   2%|▏         | 20/1000 [1:03:54<52:31:42, 192.96s/it]"
     ]
    },
    {
     "name": "stdout",
     "output_type": "stream",
     "text": [
      "\n",
      "  2%|▏         | 20/1000 [1:03:54<52:31:42, 192.96s/it, best loss: -0.665697674419]\u001b[A\n",
      "\u001b[AParameters with this training accuracy 0.989028718942 and loss 0.442033730646 :\n",
      "\n",
      "  2%|▏         | 20/1000 [1:06:00<52:31:42, 192.96s/it, best loss: -0.665697674419]\u001b[A\n",
      "\u001b[AParameters with this testing accuracy 0.662790697674 and loss 1.09572088057 :\n",
      "\n",
      "  2%|▏         | 20/1000 [1:06:00<52:31:42, 192.96s/it, best loss: -0.665697674419]\u001b[A\n",
      "\u001b[A{'kernel': 'linear', 'C': 7.696998067802757, 'gamma': 6.261794979618358, 'class_weight': 'balanced'}\n",
      "\n",
      "  2%|▏         | 20/1000 [1:06:00<52:31:42, 192.96s/it, best loss: -0.665697674419]\u001b[A"
     ]
    },
    {
     "name": "stderr",
     "output_type": "stream",
     "text": [
      "Hyperopt:   2%|▏         | 21/1000 [1:06:00<46:58:14, 172.72s/it]"
     ]
    },
    {
     "name": "stdout",
     "output_type": "stream",
     "text": [
      "\n",
      "  2%|▏         | 21/1000 [1:06:00<46:58:14, 172.72s/it, best loss: -0.665697674419]\u001b[A\n",
      "\u001b[AParameters with this training accuracy 0.991932881575 and loss 0.436917068139 :\n",
      "\n",
      "  2%|▏         | 21/1000 [1:08:04<46:58:14, 172.72s/it, best loss: -0.665697674419]\u001b[A\n",
      "\u001b[AParameters with this testing accuracy 0.662790697674 and loss 1.09614132669 :\n",
      "\n",
      "  2%|▏         | 21/1000 [1:08:04<46:58:14, 172.72s/it, best loss: -0.665697674419]\u001b[A\n",
      "\u001b[A{'kernel': 'linear', 'C': 8.525010307306982, 'gamma': 9.955341462473946, 'class_weight': 'balanced'}\n",
      "\n",
      "  2%|▏         | 21/1000 [1:08:04<46:58:14, 172.72s/it, best loss: -0.665697674419]\u001b[A"
     ]
    },
    {
     "name": "stderr",
     "output_type": "stream",
     "text": [
      "Hyperopt:   2%|▏         | 22/1000 [1:08:04<42:57:30, 158.13s/it]"
     ]
    },
    {
     "name": "stdout",
     "output_type": "stream",
     "text": [
      "\n",
      "  2%|▏         | 22/1000 [1:08:04<42:57:30, 158.13s/it, best loss: -0.665697674419]\u001b[A\n",
      "\u001b[AParameters with this training accuracy 0.985801871571 and loss 0.451335115154 :\n",
      "\n",
      "  2%|▏         | 22/1000 [1:10:12<42:57:30, 158.13s/it, best loss: -0.665697674419]\u001b[A\n",
      "\u001b[AParameters with this testing accuracy 0.65988372093 and loss 1.09679923433 :\n",
      "\n",
      "  2%|▏         | 22/1000 [1:10:12<42:57:30, 158.13s/it, best loss: -0.665697674419]\u001b[A\n",
      "\u001b[A{'kernel': 'linear', 'C': 6.479896449755295, 'gamma': 6.553479298521005, 'class_weight': 'balanced'}\n",
      "\n",
      "  2%|▏         | 22/1000 [1:10:12<42:57:30, 158.13s/it, best loss: -0.665697674419]\u001b[A"
     ]
    },
    {
     "name": "stderr",
     "output_type": "stream",
     "text": [
      "Hyperopt:   2%|▏         | 23/1000 [1:10:12<40:27:35, 149.08s/it]"
     ]
    },
    {
     "name": "stdout",
     "output_type": "stream",
     "text": [
      "\n",
      "  2%|▏         | 23/1000 [1:10:12<40:27:35, 149.08s/it, best loss: -0.665697674419]\u001b[A\n",
      "\u001b[AParameters with this training accuracy 0.992578251049 and loss 0.43372558549 :\n",
      "\n",
      "  2%|▏         | 23/1000 [1:12:24<40:27:35, 149.08s/it, best loss: -0.665697674419]\u001b[A\n",
      "\u001b[AParameters with this testing accuracy 0.662790697674 and loss 1.09692427527 :\n",
      "\n",
      "  2%|▏         | 23/1000 [1:12:24<40:27:35, 149.08s/it, best loss: -0.665697674419]\u001b[A\n",
      "\u001b[A{'kernel': 'linear', 'C': 9.373744655571052, 'gamma': 6.024341757437234, 'class_weight': 'balanced'}\n",
      "\n",
      "  2%|▏         | 23/1000 [1:12:24<40:27:35, 149.08s/it, best loss: -0.665697674419]\u001b[A"
     ]
    },
    {
     "name": "stderr",
     "output_type": "stream",
     "text": [
      "Hyperopt:   2%|▏         | 24/1000 [1:12:24<39:01:29, 143.94s/it]"
     ]
    },
    {
     "name": "stdout",
     "output_type": "stream",
     "text": [
      "\n",
      "  2%|▏         | 24/1000 [1:12:24<39:01:29, 143.94s/it, best loss: -0.665697674419]\u001b[A\n",
      "\u001b[AParameters with this training accuracy 0.992578251049 and loss 0.431794929074 :\n",
      "\n",
      "  2%|▏         | 24/1000 [1:14:35<39:01:29, 143.94s/it, best loss: -0.665697674419]\u001b[A\n",
      "\u001b[AParameters with this testing accuracy 0.665697674419 and loss 1.09680270894 :\n",
      "\n",
      "  2%|▏         | 24/1000 [1:14:35<39:01:29, 143.94s/it, best loss: -0.665697674419]\u001b[A\n",
      "\u001b[A{'kernel': 'linear', 'C': 9.852465242724602, 'gamma': 7.658509036134475, 'class_weight': 'balanced'}\n",
      "\n",
      "  2%|▏         | 24/1000 [1:14:35<39:01:29, 143.94s/it, best loss: -0.665697674419]\u001b[A"
     ]
    },
    {
     "name": "stderr",
     "output_type": "stream",
     "text": [
      "Hyperopt:   2%|▎         | 25/1000 [1:14:35<37:54:27, 139.97s/it]"
     ]
    },
    {
     "name": "stdout",
     "output_type": "stream",
     "text": [
      "\n",
      "  2%|▎         | 25/1000 [1:14:35<37:54:27, 139.97s/it, best loss: -0.665697674419]\u001b[A\n",
      "\u001b[AParameters with this training accuracy 0.995159728945 and loss 0.42518477428 :\n",
      "\n",
      "  2%|▎         | 25/1000 [1:16:46<37:54:27, 139.97s/it, best loss: -0.665697674419]\u001b[A\n",
      "\u001b[AParameters with this testing accuracy 0.665697674419 and loss 1.09863879999 :\n",
      "\n",
      "  2%|▎         | 25/1000 [1:16:46<37:54:27, 139.97s/it, best loss: -0.665697674419]\u001b[A\n",
      "\u001b[A{'kernel': 'linear', 'C': 13.84145283375546, 'gamma': 9.828909599054361, 'class_weight': 'balanced'}\n",
      "\n",
      "  2%|▎         | 25/1000 [1:16:46<37:54:27, 139.97s/it, best loss: -0.665697674419]\u001b[A"
     ]
    },
    {
     "name": "stderr",
     "output_type": "stream",
     "text": [
      "Hyperopt:   3%|▎         | 26/1000 [1:16:46<37:09:06, 137.32s/it]"
     ]
    },
    {
     "name": "stdout",
     "output_type": "stream",
     "text": [
      "\n",
      "  3%|▎         | 26/1000 [1:16:46<37:09:06, 137.32s/it, best loss: -0.665697674419]\u001b[A\n",
      "\u001b[AParameters with this training accuracy 0.994837044208 and loss 0.4255859469 :\n",
      "\n",
      "  3%|▎         | 26/1000 [1:19:14<37:09:06, 137.32s/it, best loss: -0.665697674419]\u001b[A\n",
      "\u001b[AParameters with this testing accuracy 0.665697674419 and loss 1.09724094639 :\n",
      "\n",
      "  3%|▎         | 26/1000 [1:19:14<37:09:06, 137.32s/it, best loss: -0.665697674419]\u001b[A\n",
      "\u001b[A{'kernel': 'linear', 'C': 13.752773712876097, 'gamma': 9.901492327672358, 'class_weight': 'balanced'}\n",
      "\n",
      "  3%|▎         | 26/1000 [1:19:14<37:09:06, 137.32s/it, best loss: -0.665697674419]\u001b[A"
     ]
    },
    {
     "name": "stderr",
     "output_type": "stream",
     "text": [
      "Hyperopt:   3%|▎         | 27/1000 [1:19:14<38:01:23, 140.68s/it]"
     ]
    },
    {
     "name": "stdout",
     "output_type": "stream",
     "text": [
      "\n",
      "  3%|▎         | 27/1000 [1:19:14<38:01:24, 140.68s/it, best loss: -0.665697674419]\u001b[A\n",
      "\u001b[AParameters with this training accuracy 0.995159728945 and loss 0.425227587674 :\n",
      "\n",
      "  3%|▎         | 27/1000 [1:21:20<38:01:24, 140.68s/it, best loss: -0.665697674419]\u001b[A\n",
      "\u001b[AParameters with this testing accuracy 0.662790697674 and loss 1.09777743075 :\n",
      "\n",
      "  3%|▎         | 27/1000 [1:21:20<38:01:24, 140.68s/it, best loss: -0.665697674419]\u001b[A\n",
      "\u001b[A{'kernel': 'linear', 'C': 14.092525163262533, 'gamma': 9.435794592182306, 'class_weight': 'balanced'}\n",
      "\n",
      "  3%|▎         | 27/1000 [1:21:20<38:01:24, 140.68s/it, best loss: -0.665697674419]\u001b[A"
     ]
    },
    {
     "name": "stderr",
     "output_type": "stream",
     "text": [
      "Hyperopt:   3%|▎         | 28/1000 [1:21:20<36:48:04, 136.30s/it]"
     ]
    },
    {
     "name": "stdout",
     "output_type": "stream",
     "text": [
      "\n",
      "  3%|▎         | 28/1000 [1:21:20<36:48:04, 136.30s/it, best loss: -0.665697674419]\u001b[A\n",
      "\u001b[AParameters with this training accuracy 0.983865763149 and loss 0.457944137421 :\n",
      "\n",
      "  3%|▎         | 28/1000 [1:23:27<36:48:04, 136.30s/it, best loss: -0.665697674419]\u001b[A\n",
      "\u001b[AParameters with this testing accuracy 0.656976744186 and loss 1.09683671807 :\n",
      "\n",
      "  3%|▎         | 28/1000 [1:23:27<36:48:04, 136.30s/it, best loss: -0.665697674419]\u001b[A\n",
      "\u001b[A{'kernel': 'linear', 'C': 5.739611906399343, 'gamma': 8.198578914221741, 'class_weight': 'balanced'}\n",
      "\n",
      "  3%|▎         | 28/1000 [1:23:27<36:48:04, 136.30s/it, best loss: -0.665697674419]\u001b[A"
     ]
    },
    {
     "name": "stderr",
     "output_type": "stream",
     "text": [
      "Hyperopt:   3%|▎         | 29/1000 [1:23:28<36:01:10, 133.54s/it]"
     ]
    },
    {
     "name": "stdout",
     "output_type": "stream",
     "text": [
      "\n",
      "  3%|▎         | 29/1000 [1:23:27<36:01:10, 133.54s/it, best loss: -0.665697674419]\u001b[A\n",
      "\u001b[AParameters with this training accuracy 0.996450467893 and loss 0.851138078389 :\n",
      "\n",
      "  3%|▎         | 29/1000 [1:25:17<36:01:10, 133.54s/it, best loss: -0.665697674419]\u001b[A\n",
      "\u001b[AParameters with this testing accuracy 0.56976744186 and loss 1.32088504127 :\n",
      "\n",
      "  3%|▎         | 29/1000 [1:25:17<36:01:10, 133.54s/it, best loss: -0.665697674419]\u001b[A\n",
      "\u001b[A{'kernel': 'poly', 'C': 17.506485006553326, 'gamma': 9.656546443081892, 'class_weight': 'balanced'}\n",
      "\n",
      "  3%|▎         | 29/1000 [1:25:17<36:01:10, 133.54s/it, best loss: -0.665697674419]\u001b[A"
     ]
    },
    {
     "name": "stderr",
     "output_type": "stream",
     "text": [
      "Hyperopt:   3%|▎         | 30/1000 [1:25:17<34:01:47, 126.30s/it]"
     ]
    },
    {
     "name": "stdout",
     "output_type": "stream",
     "text": [
      "\n",
      "  3%|▎         | 30/1000 [1:25:17<34:01:47, 126.30s/it, best loss: -0.665697674419]\u001b[A\n",
      "\u001b[AParameters with this training accuracy 0.994837044208 and loss 0.425649365292 :\n",
      "\n",
      "  3%|▎         | 30/1000 [1:27:29<34:01:47, 126.30s/it, best loss: -0.665697674419]\u001b[A\n",
      "\u001b[AParameters with this testing accuracy 0.665697674419 and loss 1.09805515364 :\n",
      "\n",
      "  3%|▎         | 30/1000 [1:27:29<34:01:47, 126.30s/it, best loss: -0.665697674419]\u001b[A\n",
      "\u001b[A{'kernel': 'linear', 'C': 13.598297928463051, 'gamma': 9.987765361351249, 'class_weight': 'balanced'}\n",
      "\n",
      "  3%|▎         | 30/1000 [1:27:29<34:01:47, 126.30s/it, best loss: -0.665697674419]\u001b[A"
     ]
    },
    {
     "name": "stderr",
     "output_type": "stream",
     "text": [
      "Hyperopt:   3%|▎         | 31/1000 [1:27:29<34:27:28, 128.02s/it]"
     ]
    },
    {
     "name": "stdout",
     "output_type": "stream",
     "text": [
      "\n",
      "  3%|▎         | 31/1000 [1:27:29<34:27:28, 128.02s/it, best loss: -0.665697674419]\u001b[A\n",
      "\u001b[AParameters with this training accuracy 0.994837044208 and loss 0.425874902963 :\n",
      "\n",
      "  3%|▎         | 31/1000 [1:29:44<34:27:28, 128.02s/it, best loss: -0.665697674419]\u001b[A\n",
      "\u001b[AParameters with this testing accuracy 0.665697674419 and loss 1.09767217106 :\n",
      "\n",
      "  3%|▎         | 31/1000 [1:29:44<34:27:28, 128.02s/it, best loss: -0.665697674419]\u001b[A\n",
      "\u001b[A{'kernel': 'linear', 'C': 13.04592345140634, 'gamma': 8.418216025894695, 'class_weight': 'balanced'}\n",
      "\n",
      "  3%|▎         | 31/1000 [1:29:44<34:27:28, 128.02s/it, best loss: -0.665697674419]\u001b[A"
     ]
    },
    {
     "name": "stderr",
     "output_type": "stream",
     "text": [
      "Hyperopt:   3%|▎         | 32/1000 [1:29:44<34:59:15, 130.12s/it]"
     ]
    },
    {
     "name": "stdout",
     "output_type": "stream",
     "text": [
      "\n",
      "  3%|▎         | 32/1000 [1:29:44<34:59:15, 130.12s/it, best loss: -0.665697674419]\u001b[A\n",
      "\u001b[AParameters with this training accuracy 0.996450467893 and loss 0.887455340252 :\n",
      "\n",
      "  3%|▎         | 32/1000 [1:31:22<34:59:15, 130.12s/it, best loss: -0.665697674419]\u001b[A\n",
      "\u001b[AParameters with this testing accuracy 0.56976744186 and loss 1.32603271923 :\n",
      "\n",
      "  3%|▎         | 32/1000 [1:31:22<34:59:15, 130.12s/it, best loss: -0.665697674419]\u001b[A\n",
      "\u001b[A{'kernel': 'poly', 'C': 12.713314030710146, 'gamma': 8.176029782566275, 'class_weight': 'balanced'}\n",
      "\n",
      "  3%|▎         | 32/1000 [1:31:22<34:59:15, 130.12s/it, best loss: -0.665697674419]\u001b[A"
     ]
    },
    {
     "name": "stderr",
     "output_type": "stream",
     "text": [
      "Hyperopt:   3%|▎         | 33/1000 [1:31:22<32:23:50, 120.61s/it]"
     ]
    },
    {
     "name": "stdout",
     "output_type": "stream",
     "text": [
      "\n",
      "  3%|▎         | 33/1000 [1:31:22<32:23:50, 120.61s/it, best loss: -0.665697674419]\u001b[A\n",
      "\u001b[AParameters with this training accuracy 0.992900935786 and loss 0.430392289789 :\n",
      "\n",
      "  3%|▎         | 33/1000 [1:33:20<32:23:50, 120.61s/it, best loss: -0.665697674419]\u001b[A\n",
      "\u001b[AParameters with this testing accuracy 0.665697674419 and loss 1.09662048642 :\n",
      "\n",
      "  3%|▎         | 33/1000 [1:33:20<32:23:50, 120.61s/it, best loss: -0.665697674419]\u001b[A\n",
      "\u001b[A{'kernel': 'linear', 'C': 10.86403508513473, 'gamma': 7.207918160378777, 'class_weight': 'balanced'}\n",
      "\n",
      "  3%|▎         | 33/1000 [1:33:20<32:23:50, 120.61s/it, best loss: -0.665697674419]\u001b[A"
     ]
    },
    {
     "name": "stderr",
     "output_type": "stream",
     "text": [
      "Hyperopt:   3%|▎         | 34/1000 [1:33:20<32:07:04, 119.69s/it]"
     ]
    },
    {
     "name": "stdout",
     "output_type": "stream",
     "text": [
      "\n",
      "  3%|▎         | 34/1000 [1:33:20<32:07:04, 119.69s/it, best loss: -0.665697674419]\u001b[A\n",
      "\u001b[AParameters with this training accuracy 0.0141981284285 and loss 1.97200715894 :\n",
      "\n",
      "  3%|▎         | 34/1000 [1:37:29<32:07:04, 119.69s/it, best loss: -0.665697674419]\u001b[A\n",
      "\u001b[AParameters with this testing accuracy 0.0174418604651 and loss 1.94640183533 :\n",
      "\n",
      "  3%|▎         | 34/1000 [1:37:29<32:07:04, 119.69s/it, best loss: -0.665697674419]\u001b[A\n",
      "\u001b[A{'kernel': 'sigmoid', 'C': 8.6983471031395, 'gamma': 6.788755171869993, 'class_weight': 'balanced'}\n",
      "\n",
      "  3%|▎         | 34/1000 [1:37:29<32:07:04, 119.69s/it, best loss: -0.665697674419]\u001b[A"
     ]
    },
    {
     "name": "stderr",
     "output_type": "stream",
     "text": [
      "Hyperopt:   4%|▎         | 35/1000 [1:37:29<42:29:14, 158.50s/it]"
     ]
    },
    {
     "name": "stdout",
     "output_type": "stream",
     "text": [
      "\n",
      "  4%|▎         | 35/1000 [1:37:29<42:29:14, 158.50s/it, best loss: -0.665697674419]\u001b[A\n",
      "\u001b[AParameters with this training accuracy 0.996450467893 and loss 0.849227665043 :\n",
      "\n",
      "  4%|▎         | 35/1000 [1:39:01<42:29:14, 158.50s/it, best loss: -0.665697674419]\u001b[A\n",
      "\u001b[AParameters with this testing accuracy 0.56976744186 and loss 1.32089079491 :\n",
      "\n",
      "  4%|▎         | 35/1000 [1:39:01<42:29:14, 158.50s/it, best loss: -0.665697674419]\u001b[A\n",
      "\u001b[A{'kernel': 'poly', 'C': 11.700759178810594, 'gamma': 7.6213931960436385, 'class_weight': 'balanced'}\n",
      "\n",
      "  4%|▎         | 35/1000 [1:39:01<42:29:14, 158.50s/it, best loss: -0.665697674419]\u001b[A"
     ]
    },
    {
     "name": "stderr",
     "output_type": "stream",
     "text": [
      "Hyperopt:   4%|▎         | 36/1000 [1:39:01<37:06:29, 138.58s/it]"
     ]
    },
    {
     "name": "stdout",
     "output_type": "stream",
     "text": [
      "\n",
      "  4%|▎         | 36/1000 [1:39:01<37:06:29, 138.58s/it, best loss: -0.665697674419]\u001b[A\n",
      "\u001b[AParameters with this training accuracy 0.992900935786 and loss 0.429631166771 :\n",
      "\n",
      "  4%|▎         | 36/1000 [1:40:56<37:06:29, 138.58s/it, best loss: -0.665697674419]\u001b[A\n",
      "\u001b[AParameters with this testing accuracy 0.665697674419 and loss 1.09743885124 :\n",
      "\n",
      "  4%|▎         | 36/1000 [1:40:56<37:06:29, 138.58s/it, best loss: -0.665697674419]\u001b[A\n",
      "\u001b[A{'kernel': 'linear', 'C': 11.063446331175923, 'gamma': 4.275463706037599, 'class_weight': 'balanced'}\n",
      "\n",
      "  4%|▎         | 36/1000 [1:40:56<37:06:29, 138.58s/it, best loss: -0.665697674419]\u001b[A"
     ]
    },
    {
     "name": "stderr",
     "output_type": "stream",
     "text": [
      "Hyperopt:   4%|▎         | 37/1000 [1:40:56<35:08:13, 131.35s/it]"
     ]
    },
    {
     "name": "stdout",
     "output_type": "stream",
     "text": [
      "\n",
      "  4%|▎         | 37/1000 [1:40:56<35:08:13, 131.35s/it, best loss: -0.665697674419]\u001b[A\n",
      "\u001b[AParameters with this training accuracy 0.983865763149 and loss 0.457740846047 :\n",
      "\n",
      "  4%|▎         | 37/1000 [1:42:46<35:08:13, 131.35s/it, best loss: -0.665697674419]\u001b[A\n",
      "\u001b[AParameters with this testing accuracy 0.656976744186 and loss 1.09700946532 :\n",
      "\n",
      "  4%|▎         | 37/1000 [1:42:46<35:08:13, 131.35s/it, best loss: -0.665697674419]\u001b[A\n",
      "\u001b[A{'kernel': 'linear', 'C': 5.711280461034669, 'gamma': 4.014120964064011, 'class_weight': 'balanced'}\n",
      "\n",
      "  4%|▎         | 37/1000 [1:42:46<35:08:13, 131.35s/it, best loss: -0.665697674419]\u001b[A"
     ]
    },
    {
     "name": "stderr",
     "output_type": "stream",
     "text": [
      "Hyperopt:   4%|▍         | 38/1000 [1:42:46<33:23:49, 124.98s/it]"
     ]
    },
    {
     "name": "stdout",
     "output_type": "stream",
     "text": [
      "\n",
      "  4%|▍         | 38/1000 [1:42:46<33:23:49, 124.98s/it, best loss: -0.665697674419]\u001b[A\n",
      "\u001b[AParameters with this training accuracy 0.996450467893 and loss 0.849759812609 :\n",
      "\n",
      "  4%|▍         | 38/1000 [1:44:18<33:23:49, 124.98s/it, best loss: -0.665697674419]\u001b[A\n",
      "\u001b[AParameters with this testing accuracy 0.56976744186 and loss 1.32070496706 :\n",
      "\n",
      "  4%|▍         | 38/1000 [1:44:18<33:23:49, 124.98s/it, best loss: -0.665697674419]\u001b[A\n",
      "\u001b[A{'kernel': 'poly', 'C': 10.980110530535372, 'gamma': 4.799739897795489, 'class_weight': None}\n",
      "\n",
      "  4%|▍         | 38/1000 [1:44:18<33:23:49, 124.98s/it, best loss: -0.665697674419]\u001b[A"
     ]
    },
    {
     "name": "stderr",
     "output_type": "stream",
     "text": [
      "Hyperopt:   4%|▍         | 39/1000 [1:44:18<30:45:58, 115.25s/it]"
     ]
    },
    {
     "name": "stdout",
     "output_type": "stream",
     "text": [
      "\n",
      "  4%|▍         | 39/1000 [1:44:18<30:45:58, 115.25s/it, best loss: -0.665697674419]\u001b[A\n",
      "\u001b[AParameters with this training accuracy 0.0187157147467 and loss 1.96015996413 :\n",
      "\n",
      "  4%|▍         | 39/1000 [1:48:22<30:45:58, 115.25s/it, best loss: -0.665697674419]\u001b[A\n",
      "\u001b[AParameters with this testing accuracy 0.0261627906977 and loss 1.95128239228 :\n",
      "\n",
      "  4%|▍         | 39/1000 [1:48:22<30:45:58, 115.25s/it, best loss: -0.665697674419]\u001b[A\n",
      "\u001b[A{'kernel': 'sigmoid', 'C': 5.122492354175803, 'gamma': 1.682718794675242, 'class_weight': 'balanced'}\n",
      "\n",
      "  4%|▍         | 39/1000 [1:48:22<30:45:58, 115.25s/it, best loss: -0.665697674419]\u001b[A"
     ]
    },
    {
     "name": "stderr",
     "output_type": "stream",
     "text": [
      "Hyperopt:   4%|▍         | 40/1000 [1:48:22<41:00:31, 153.78s/it]"
     ]
    },
    {
     "name": "stdout",
     "output_type": "stream",
     "text": [
      "\n",
      "  4%|▍         | 40/1000 [1:48:22<41:00:31, 153.78s/it, best loss: -0.665697674419]\u001b[A\n",
      "\u001b[AParameters with this training accuracy 0.995482413682 and loss 0.424234278414 :\n",
      "\n",
      "  4%|▍         | 40/1000 [1:50:16<41:00:31, 153.78s/it, best loss: -0.665697674419]\u001b[A\n",
      "\u001b[AParameters with this testing accuracy 0.662790697674 and loss 1.09953789831 :\n",
      "\n",
      "  4%|▍         | 40/1000 [1:50:16<41:00:31, 153.78s/it, best loss: -0.665697674419]\u001b[A\n",
      "\u001b[A{'kernel': 'linear', 'C': 18.317998462609648, 'gamma': 7.12963616778818, 'class_weight': 'balanced'}\n",
      "\n",
      "  4%|▍         | 40/1000 [1:50:16<41:00:31, 153.78s/it, best loss: -0.665697674419]\u001b[A"
     ]
    },
    {
     "name": "stderr",
     "output_type": "stream",
     "text": [
      "Hyperopt:   4%|▍         | 41/1000 [1:50:16<37:45:56, 141.77s/it]"
     ]
    },
    {
     "name": "stdout",
     "output_type": "stream",
     "text": [
      "\n",
      "  4%|▍         | 41/1000 [1:50:16<37:45:56, 141.77s/it, best loss: -0.665697674419]\u001b[A\n",
      "\u001b[AParameters with this training accuracy 0.996450467893 and loss 2.64216635009 :\n",
      "\n",
      "  4%|▍         | 41/1000 [1:54:30<37:45:56, 141.77s/it, best loss: -0.665697674419]\u001b[A\n",
      "\u001b[AParameters with this testing accuracy 0.459302325581 and loss 1.9395102633 :\n",
      "\n",
      "  4%|▍         | 41/1000 [1:54:30<37:45:56, 141.77s/it, best loss: -0.665697674419]\u001b[A\n",
      "\u001b[A{'kernel': 'rbf', 'C': 7.576498868851271, 'gamma': 3.529719603152473, 'class_weight': 'balanced'}\n",
      "\n",
      "  4%|▍         | 41/1000 [1:54:30<37:45:56, 141.77s/it, best loss: -0.665697674419]\u001b[A"
     ]
    },
    {
     "name": "stderr",
     "output_type": "stream",
     "text": [
      "Hyperopt:   4%|▍         | 42/1000 [1:54:30<46:43:47, 175.60s/it]"
     ]
    },
    {
     "name": "stdout",
     "output_type": "stream",
     "text": [
      "\n",
      "  4%|▍         | 42/1000 [1:54:30<46:43:48, 175.60s/it, best loss: -0.665697674419]\u001b[A\n",
      "\u001b[AParameters with this training accuracy 0.995805098419 and loss 0.41984316816 :\n",
      "\n",
      "  4%|▍         | 42/1000 [1:56:24<46:43:48, 175.60s/it, best loss: -0.665697674419]\u001b[A\n",
      "\u001b[AParameters with this testing accuracy 0.65988372093 and loss 1.10440660294 :\n",
      "\n",
      "  4%|▍         | 42/1000 [1:56:24<46:43:48, 175.60s/it, best loss: -0.665697674419]\u001b[A\n",
      "\u001b[A{'kernel': 'linear', 'C': 8.911527321846908, 'gamma': 5.574148887062735, 'class_weight': None}\n",
      "\n",
      "  4%|▍         | 42/1000 [1:56:24<46:43:48, 175.60s/it, best loss: -0.665697674419]\u001b[A"
     ]
    },
    {
     "name": "stderr",
     "output_type": "stream",
     "text": [
      "Hyperopt:   4%|▍         | 43/1000 [1:56:24<41:42:59, 156.93s/it]"
     ]
    },
    {
     "name": "stdout",
     "output_type": "stream",
     "text": [
      "\n",
      "  4%|▍         | 43/1000 [1:56:24<41:42:59, 156.93s/it, best loss: -0.665697674419]\u001b[A\n",
      "\u001b[AParameters with this training accuracy 0.993868989997 and loss 0.426670959327 :\n",
      "\n",
      "  4%|▍         | 43/1000 [1:58:18<41:42:59, 156.93s/it, best loss: -0.665697674419]\u001b[A\n",
      "\u001b[AParameters with this testing accuracy 0.668604651163 and loss 1.09688095118 :\n",
      "\n",
      "  4%|▍         | 43/1000 [1:58:18<41:42:59, 156.93s/it, best loss: -0.665697674419]\u001b[A\n",
      "\u001b[A{'kernel': 'linear', 'C': 11.90240722001194, 'gamma': 4.867363291768593, 'class_weight': 'balanced'}\n",
      "\n",
      "  4%|▍         | 43/1000 [1:58:19<41:42:59, 156.93s/it, best loss: -0.665697674419]\u001b[A"
     ]
    },
    {
     "name": "stderr",
     "output_type": "stream",
     "text": [
      "Hyperopt:   4%|▍         | 44/1000 [1:58:19<38:19:47, 144.34s/it]"
     ]
    },
    {
     "name": "stdout",
     "output_type": "stream",
     "text": [
      "\n",
      "  4%|▍         | 44/1000 [1:58:19<38:19:48, 144.34s/it, best loss: -0.668604651163]\u001b[A\n",
      "\u001b[AParameters with this training accuracy 0.0229106163278 and loss 1.95576310542 :\n",
      "\n",
      "  4%|▍         | 44/1000 [2:02:26<38:19:48, 144.34s/it, best loss: -0.668604651163]\u001b[A\n",
      "\u001b[AParameters with this testing accuracy 0.0523255813953 and loss 1.95174452149 :\n",
      "\n",
      "  4%|▍         | 44/1000 [2:02:26<38:19:48, 144.34s/it, best loss: -0.668604651163]\u001b[A\n",
      "\u001b[A{'kernel': 'sigmoid', 'C': 14.805997140796894, 'gamma': 4.615892613600399, 'class_weight': 'balanced'}\n",
      "\n",
      "  4%|▍         | 44/1000 [2:02:26<38:19:48, 144.34s/it, best loss: -0.668604651163]\u001b[A"
     ]
    },
    {
     "name": "stderr",
     "output_type": "stream",
     "text": [
      "Hyperopt:   4%|▍         | 45/1000 [2:02:26<46:30:06, 175.29s/it]"
     ]
    },
    {
     "name": "stdout",
     "output_type": "stream",
     "text": [
      "\n",
      "  4%|▍         | 45/1000 [2:02:26<46:30:06, 175.29s/it, best loss: -0.668604651163]\u001b[A\n",
      "\u001b[AParameters with this training accuracy 0.996450467893 and loss 0.849002810498 :\n",
      "\n",
      "  4%|▍         | 45/1000 [2:03:58<46:30:06, 175.29s/it, best loss: -0.668604651163]\u001b[A\n",
      "\u001b[AParameters with this testing accuracy 0.56976744186 and loss 1.320901129 :\n",
      "\n",
      "  4%|▍         | 45/1000 [2:03:58<46:30:06, 175.29s/it, best loss: -0.668604651163]\u001b[A\n",
      "\u001b[A{'kernel': 'poly', 'C': 17.049596413850395, 'gamma': 0.4772135554452337, 'class_weight': None}\n",
      "\n",
      "  4%|▍         | 45/1000 [2:03:58<46:30:06, 175.29s/it, best loss: -0.668604651163]\u001b[A"
     ]
    },
    {
     "name": "stderr",
     "output_type": "stream",
     "text": [
      "Hyperopt:   5%|▍         | 46/1000 [2:03:58<39:50:34, 150.35s/it]"
     ]
    },
    {
     "name": "stdout",
     "output_type": "stream",
     "text": [
      "\n",
      "  5%|▍         | 46/1000 [2:03:58<39:50:34, 150.35s/it, best loss: -0.668604651163]\u001b[A\n",
      "\u001b[AParameters with this training accuracy 0.568570506615 and loss 2.73739675736 :\n",
      "\n",
      "  5%|▍         | 46/1000 [2:08:06<39:50:34, 150.35s/it, best loss: -0.668604651163]\u001b[A\n",
      "\u001b[AParameters with this testing accuracy 0.139534883721 and loss 1.9338250419 :\n",
      "\n",
      "  5%|▍         | 46/1000 [2:08:06<39:50:34, 150.35s/it, best loss: -0.668604651163]\u001b[A\n",
      "\u001b[A{'kernel': 'rbf', 'C': 1.2155242342492691, 'gamma': 2.289698875877407, 'class_weight': 'balanced'}\n",
      "\n",
      "  5%|▍         | 46/1000 [2:08:06<39:50:34, 150.35s/it, best loss: -0.668604651163]\u001b[A"
     ]
    },
    {
     "name": "stderr",
     "output_type": "stream",
     "text": [
      "Hyperopt:   5%|▍         | 47/1000 [2:08:06<47:33:05, 179.63s/it]"
     ]
    },
    {
     "name": "stdout",
     "output_type": "stream",
     "text": [
      "\n",
      "  5%|▍         | 47/1000 [2:08:06<47:33:05, 179.63s/it, best loss: -0.668604651163]\u001b[A\n",
      "\u001b[AParameters with this training accuracy 0.995805098419 and loss 0.417969775465 :\n",
      "\n",
      "  5%|▍         | 47/1000 [2:10:01<47:33:05, 179.63s/it, best loss: -0.668604651163]\u001b[A\n",
      "\u001b[AParameters with this testing accuracy 0.65988372093 and loss 1.10323142673 :\n",
      "\n",
      "  5%|▍         | 47/1000 [2:10:01<47:33:05, 179.63s/it, best loss: -0.668604651163]\u001b[A\n",
      "\u001b[A{'kernel': 'linear', 'C': 12.232905266825023, 'gamma': 5.60591700234705, 'class_weight': None}\n",
      "\n",
      "  5%|▍         | 47/1000 [2:10:01<47:33:05, 179.63s/it, best loss: -0.668604651163]\u001b[A"
     ]
    },
    {
     "name": "stderr",
     "output_type": "stream",
     "text": [
      "Hyperopt:   5%|▍         | 48/1000 [2:10:01<42:23:53, 160.33s/it]"
     ]
    },
    {
     "name": "stdout",
     "output_type": "stream",
     "text": [
      "\n",
      "  5%|▍         | 48/1000 [2:10:01<42:23:53, 160.33s/it, best loss: -0.668604651163]\u001b[A\n",
      "\u001b[AParameters with this training accuracy 0.995482413682 and loss 0.423834048826 :\n",
      "\n",
      "  5%|▍         | 48/1000 [2:12:01<42:23:53, 160.33s/it, best loss: -0.668604651163]\u001b[A\n",
      "\u001b[AParameters with this testing accuracy 0.662790697674 and loss 1.09841798707 :\n",
      "\n",
      "  5%|▍         | 48/1000 [2:12:01<42:23:53, 160.33s/it, best loss: -0.668604651163]\u001b[A\n",
      "\u001b[A{'kernel': 'linear', 'C': 15.960914486729749, 'gamma': 3.454880732769114, 'class_weight': 'balanced'}\n",
      "\n",
      "  5%|▍         | 48/1000 [2:12:01<42:23:53, 160.33s/it, best loss: -0.668604651163]\u001b[A"
     ]
    },
    {
     "name": "stderr",
     "output_type": "stream",
     "text": [
      "Hyperopt:   5%|▍         | 49/1000 [2:12:01<39:05:43, 148.00s/it]"
     ]
    },
    {
     "name": "stdout",
     "output_type": "stream",
     "text": [
      "\n",
      "  5%|▍         | 49/1000 [2:12:01<39:05:44, 148.00s/it, best loss: -0.668604651163]\u001b[A\n",
      "\u001b[AParameters with this training accuracy 0.0196837689577 and loss 1.97709986968 :\n",
      "\n",
      "  5%|▍         | 49/1000 [2:16:10<39:05:44, 148.00s/it, best loss: -0.668604651163]\u001b[A\n",
      "\u001b[AParameters with this testing accuracy 0.031976744186 and loss 1.94521475274 :\n",
      "\n",
      "  5%|▍         | 49/1000 [2:16:10<39:05:44, 148.00s/it, best loss: -0.668604651163]\u001b[A\n",
      "\u001b[A{'kernel': 'sigmoid', 'C': 9.990554163418064, 'gamma': 9.177553354133668, 'class_weight': 'balanced'}\n",
      "\n",
      "  5%|▍         | 49/1000 [2:16:10<39:05:44, 148.00s/it, best loss: -0.668604651163]\u001b[A"
     ]
    },
    {
     "name": "stderr",
     "output_type": "stream",
     "text": [
      "Hyperopt:   5%|▌         | 50/1000 [2:16:10<47:05:50, 178.47s/it]"
     ]
    },
    {
     "name": "stdout",
     "output_type": "stream",
     "text": [
      "\n",
      "  5%|▌         | 50/1000 [2:16:10<47:05:50, 178.47s/it, best loss: -0.668604651163]\u001b[A\n",
      "\u001b[AParameters with this training accuracy 0.996450467893 and loss 2.84757391957 :\n",
      "\n",
      "  5%|▌         | 50/1000 [2:20:22<47:05:50, 178.47s/it, best loss: -0.668604651163]\u001b[A\n",
      "\u001b[AParameters with this testing accuracy 0.459302325581 and loss 1.94208658085 :\n",
      "\n",
      "  5%|▌         | 50/1000 [2:20:22<47:05:50, 178.47s/it, best loss: -0.668604651163]\u001b[A\n",
      "\u001b[A{'kernel': 'rbf', 'C': 2.550350276865771, 'gamma': 5.984579557758052, 'class_weight': None}\n",
      "\n",
      "  5%|▌         | 50/1000 [2:20:22<47:05:50, 178.47s/it, best loss: -0.668604651163]\u001b[A"
     ]
    },
    {
     "name": "stderr",
     "output_type": "stream",
     "text": [
      "Hyperopt:   5%|▌         | 51/1000 [2:20:22<52:51:27, 200.51s/it]"
     ]
    },
    {
     "name": "stdout",
     "output_type": "stream",
     "text": [
      "\n",
      "  5%|▌         | 51/1000 [2:20:22<52:51:27, 200.51s/it, best loss: -0.668604651163]\u001b[A\n",
      "\u001b[AParameters with this training accuracy 0.995482413682 and loss 0.426939263231 :\n",
      "\n",
      "  5%|▌         | 51/1000 [2:22:19<52:51:27, 200.51s/it, best loss: -0.668604651163]\u001b[A\n",
      "\u001b[AParameters with this testing accuracy 0.662790697674 and loss 1.10115530385 :\n",
      "\n",
      "  5%|▌         | 51/1000 [2:22:19<52:51:27, 200.51s/it, best loss: -0.668604651163]\u001b[A\n",
      "\u001b[A{'kernel': 'linear', 'C': 19.969274518788993, 'gamma': 1.0102056571161038, 'class_weight': 'balanced'}\n",
      "\n",
      "  5%|▌         | 51/1000 [2:22:19<52:51:27, 200.51s/it, best loss: -0.668604651163]\u001b[A"
     ]
    },
    {
     "name": "stderr",
     "output_type": "stream",
     "text": [
      "Hyperopt:   5%|▌         | 52/1000 [2:22:19<46:13:15, 175.52s/it]"
     ]
    },
    {
     "name": "stdout",
     "output_type": "stream",
     "text": [
      "\n",
      "  5%|▌         | 52/1000 [2:22:19<46:13:15, 175.52s/it, best loss: -0.668604651163]\u001b[A\n",
      "\u001b[AParameters with this training accuracy 0.996450467893 and loss 0.888755823909 :\n",
      "\n",
      "  5%|▌         | 52/1000 [2:23:53<46:13:15, 175.52s/it, best loss: -0.668604651163]\u001b[A\n",
      "\u001b[AParameters with this testing accuracy 0.56976744186 and loss 1.32701401898 :\n",
      "\n",
      "  5%|▌         | 52/1000 [2:23:53<46:13:15, 175.52s/it, best loss: -0.668604651163]\u001b[A\n",
      "\u001b[A{'kernel': 'poly', 'C': 18.999723460271575, 'gamma': 5.218076578811439, 'class_weight': 'balanced'}\n",
      "\n",
      "  5%|▌         | 52/1000 [2:23:53<46:13:15, 175.52s/it, best loss: -0.668604651163]\u001b[A"
     ]
    },
    {
     "name": "stderr",
     "output_type": "stream",
     "text": [
      "Hyperopt:   5%|▌         | 53/1000 [2:23:53<39:40:31, 150.83s/it]"
     ]
    },
    {
     "name": "stdout",
     "output_type": "stream",
     "text": [
      "\n",
      "  5%|▌         | 53/1000 [2:23:53<39:40:31, 150.82s/it, best loss: -0.668604651163]\u001b[A\n",
      "\u001b[AParameters with this training accuracy 0.996450467893 and loss 0.417838622616 :\n",
      "\n",
      "  5%|▌         | 53/1000 [2:25:48<39:40:31, 150.82s/it, best loss: -0.668604651163]\u001b[A\n",
      "\u001b[AParameters with this testing accuracy 0.65988372093 and loss 1.10262828956 :\n",
      "\n",
      "  5%|▌         | 53/1000 [2:25:48<39:40:31, 150.82s/it, best loss: -0.668604651163]\u001b[A\n",
      "\u001b[A{'kernel': 'linear', 'C': 15.509690725125534, 'gamma': 3.494324966298924, 'class_weight': None}\n",
      "\n",
      "  5%|▌         | 53/1000 [2:25:48<39:40:31, 150.82s/it, best loss: -0.668604651163]\u001b[A"
     ]
    },
    {
     "name": "stderr",
     "output_type": "stream",
     "text": [
      "Hyperopt:   5%|▌         | 54/1000 [2:25:48<36:49:51, 140.16s/it]"
     ]
    },
    {
     "name": "stdout",
     "output_type": "stream",
     "text": [
      "\n",
      "  5%|▌         | 54/1000 [2:25:48<36:49:51, 140.16s/it, best loss: -0.668604651163]\u001b[A\n",
      "\u001b[AParameters with this training accuracy 0.996450467893 and loss 2.54763840224 :\n",
      "\n",
      "  5%|▌         | 54/1000 [2:30:01<36:49:51, 140.16s/it, best loss: -0.668604651163]\u001b[A\n",
      "\u001b[AParameters with this testing accuracy 0.462209302326 and loss 1.94289903631 :\n",
      "\n",
      "  5%|▌         | 54/1000 [2:30:01<36:49:51, 140.16s/it, best loss: -0.668604651163]\u001b[A\n",
      "\u001b[A{'kernel': 'rbf', 'C': 14.417963123334896, 'gamma': 2.074808060278298, 'class_weight': 'balanced'}\n",
      "\n",
      "  5%|▌         | 54/1000 [2:30:01<36:49:51, 140.16s/it, best loss: -0.668604651163]\u001b[A"
     ]
    },
    {
     "name": "stderr",
     "output_type": "stream",
     "text": [
      "Hyperopt:   6%|▌         | 55/1000 [2:30:02<45:43:43, 174.20s/it]"
     ]
    },
    {
     "name": "stdout",
     "output_type": "stream",
     "text": [
      "\n",
      "  6%|▌         | 55/1000 [2:30:01<45:43:43, 174.20s/it, best loss: -0.668604651163]\u001b[A\n",
      "\u001b[AParameters with this training accuracy 0.0445304937076 and loss 1.95782137698 :\n",
      "\n",
      "  6%|▌         | 55/1000 [2:34:09<45:43:43, 174.20s/it, best loss: -0.668604651163]\u001b[A\n",
      "\u001b[AParameters with this testing accuracy 0.0436046511628 and loss 1.94729784147 :\n",
      "\n",
      "  6%|▌         | 55/1000 [2:34:09<45:43:43, 174.20s/it, best loss: -0.668604651163]\u001b[A\n",
      "\u001b[A{'kernel': 'sigmoid', 'C': 7.127122340054392, 'gamma': 4.520784262621231, 'class_weight': 'balanced'}\n",
      "\n",
      "  6%|▌         | 55/1000 [2:34:09<45:43:43, 174.20s/it, best loss: -0.668604651163]\u001b[A"
     ]
    },
    {
     "name": "stderr",
     "output_type": "stream",
     "text": [
      "Hyperopt:   6%|▌         | 56/1000 [2:34:09<51:24:33, 196.05s/it]"
     ]
    },
    {
     "name": "stdout",
     "output_type": "stream",
     "text": [
      "\n",
      "  6%|▌         | 56/1000 [2:34:09<51:24:33, 196.05s/it, best loss: -0.668604651163]\u001b[A\n",
      "\u001b[AParameters with this training accuracy 0.994837044208 and loss 0.425725064298 :\n",
      "\n",
      "  6%|▌         | 56/1000 [2:36:06<51:24:33, 196.05s/it, best loss: -0.668604651163]\u001b[A\n",
      "\u001b[AParameters with this testing accuracy 0.665697674419 and loss 1.09815718182 :\n",
      "\n",
      "  6%|▌         | 56/1000 [2:36:06<51:24:33, 196.05s/it, best loss: -0.668604651163]\u001b[A\n",
      "\u001b[A{'kernel': 'linear', 'C': 13.401678397109746, 'gamma': 5.18463081574398, 'class_weight': 'balanced'}\n",
      "\n",
      "  6%|▌         | 56/1000 [2:36:06<51:24:33, 196.05s/it, best loss: -0.668604651163]\u001b[A"
     ]
    },
    {
     "name": "stderr",
     "output_type": "stream",
     "text": [
      "Hyperopt:   6%|▌         | 57/1000 [2:36:06<45:08:43, 172.35s/it]"
     ]
    },
    {
     "name": "stdout",
     "output_type": "stream",
     "text": [
      "\n",
      "  6%|▌         | 57/1000 [2:36:06<45:08:43, 172.35s/it, best loss: -0.668604651163]\u001b[A\n",
      "\u001b[AParameters with this training accuracy 0.996450467893 and loss 0.418968623911 :\n",
      "\n",
      "  6%|▌         | 57/1000 [2:38:00<45:08:43, 172.35s/it, best loss: -0.668604651163]\u001b[A\n",
      "\u001b[AParameters with this testing accuracy 0.65988372093 and loss 1.10310049618 :\n",
      "\n",
      "  6%|▌         | 57/1000 [2:38:00<45:08:43, 172.35s/it, best loss: -0.668604651163]\u001b[A\n",
      "\u001b[A{'kernel': 'linear', 'C': 17.393172369658707, 'gamma': 6.642112697283959, 'class_weight': None}\n",
      "\n",
      "  6%|▌         | 57/1000 [2:38:00<45:08:43, 172.35s/it, best loss: -0.668604651163]\u001b[A"
     ]
    },
    {
     "name": "stderr",
     "output_type": "stream",
     "text": [
      "Hyperopt:   6%|▌         | 58/1000 [2:38:00<40:32:59, 154.97s/it]"
     ]
    },
    {
     "name": "stdout",
     "output_type": "stream",
     "text": [
      "\n",
      "  6%|▌         | 58/1000 [2:38:00<40:32:59, 154.97s/it, best loss: -0.668604651163]\u001b[A\n",
      "\u001b[AParameters with this training accuracy 0.993868989997 and loss 0.427588559012 :\n",
      "\n",
      "  6%|▌         | 58/1000 [2:39:56<40:32:59, 154.97s/it, best loss: -0.668604651163]\u001b[A\n",
      "\u001b[AParameters with this testing accuracy 0.668604651163 and loss 1.09723718055 :\n",
      "\n",
      "  6%|▌         | 58/1000 [2:39:56<40:32:59, 154.97s/it, best loss: -0.668604651163]\u001b[A\n",
      "\u001b[A{'kernel': 'linear', 'C': 11.88674271714549, 'gamma': 4.208019308294297, 'class_weight': 'balanced'}\n",
      "\n",
      "  6%|▌         | 58/1000 [2:39:56<40:32:59, 154.97s/it, best loss: -0.668604651163]\u001b[A"
     ]
    },
    {
     "name": "stderr",
     "output_type": "stream",
     "text": [
      "Hyperopt:   6%|▌         | 59/1000 [2:39:56<37:25:17, 143.16s/it]"
     ]
    },
    {
     "name": "stdout",
     "output_type": "stream",
     "text": [
      "\n",
      "  6%|▌         | 59/1000 [2:39:56<37:25:17, 143.16s/it, best loss: -0.668604651163]\u001b[A\n",
      "\u001b[AParameters with this training accuracy 0.996450467893 and loss 2.74303039218 :\n",
      "\n",
      "  6%|▌         | 59/1000 [2:44:03<37:25:17, 143.16s/it, best loss: -0.668604651163]\u001b[A\n",
      "\u001b[AParameters with this testing accuracy 0.459302325581 and loss 1.94117409806 :\n",
      "\n",
      "  6%|▌         | 59/1000 [2:44:03<37:25:17, 143.16s/it, best loss: -0.668604651163]\u001b[A\n",
      "\u001b[A{'kernel': 'rbf', 'C': 11.651318047439368, 'gamma': 2.7142935858952284, 'class_weight': 'balanced'}\n",
      "\n",
      "  6%|▌         | 59/1000 [2:44:03<37:25:17, 143.16s/it, best loss: -0.668604651163]\u001b[A"
     ]
    },
    {
     "name": "stderr",
     "output_type": "stream",
     "text": [
      "Hyperopt:   6%|▌         | 60/1000 [2:44:03<45:33:53, 174.50s/it]"
     ]
    },
    {
     "name": "stdout",
     "output_type": "stream",
     "text": [
      "\n",
      "  6%|▌         | 60/1000 [2:44:03<45:33:53, 174.50s/it, best loss: -0.668604651163]\u001b[A\n",
      "\u001b[AParameters with this training accuracy 0.991287512101 and loss 0.443508520278 :\n",
      "\n",
      "  6%|▌         | 60/1000 [2:45:57<45:33:53, 174.50s/it, best loss: -0.668604651163]\u001b[A\n",
      "\u001b[AParameters with this testing accuracy 0.662790697674 and loss 1.09665254 :\n",
      "\n",
      "  6%|▌         | 60/1000 [2:45:57<45:33:53, 174.50s/it, best loss: -0.668604651163]\u001b[A\n",
      "\u001b[A{'kernel': 'linear', 'C': 8.147780285552376, 'gamma': 2.473307451406755, 'class_weight': 'balanced'}\n",
      "\n",
      "  6%|▌         | 60/1000 [2:45:57<45:33:53, 174.50s/it, best loss: -0.668604651163]\u001b[A"
     ]
    },
    {
     "name": "stderr",
     "output_type": "stream",
     "text": [
      "Hyperopt:   6%|▌         | 61/1000 [2:45:57<40:45:33, 156.27s/it]"
     ]
    },
    {
     "name": "stdout",
     "output_type": "stream",
     "text": [
      "\n",
      "  6%|▌         | 61/1000 [2:45:57<40:45:33, 156.27s/it, best loss: -0.668604651163]\u001b[A\n",
      "\u001b[AParameters with this training accuracy 0.996450467893 and loss 0.850423847028 :\n",
      "\n",
      "  6%|▌         | 61/1000 [2:47:29<40:45:33, 156.27s/it, best loss: -0.668604651163]\u001b[A\n",
      "\u001b[AParameters with this testing accuracy 0.56976744186 and loss 1.32112547368 :\n",
      "\n",
      "  6%|▌         | 61/1000 [2:47:29<40:45:33, 156.27s/it, best loss: -0.668604651163]\u001b[A\n",
      "\u001b[A{'kernel': 'poly', 'C': 9.441365963591046, 'gamma': 3.73251137407843, 'class_weight': None}\n",
      "\n",
      "  6%|▌         | 61/1000 [2:47:29<40:45:33, 156.27s/it, best loss: -0.668604651163]\u001b[A"
     ]
    },
    {
     "name": "stderr",
     "output_type": "stream",
     "text": [
      "Hyperopt:   6%|▌         | 62/1000 [2:47:29<35:41:20, 136.97s/it]"
     ]
    },
    {
     "name": "stdout",
     "output_type": "stream",
     "text": [
      "\n",
      "  6%|▌         | 62/1000 [2:47:29<35:41:19, 136.97s/it, best loss: -0.668604651163]\u001b[A\n",
      "\u001b[AParameters with this training accuracy 0.0645369474024 and loss 1.95852876413 :\n",
      "\n",
      "  6%|▌         | 62/1000 [2:51:40<35:41:19, 136.97s/it, best loss: -0.668604651163]\u001b[A\n",
      "\u001b[AParameters with this testing accuracy 0.0872093023256 and loss 1.94935511723 :\n",
      "\n",
      "  6%|▌         | 62/1000 [2:51:40<35:41:19, 136.97s/it, best loss: -0.668604651163]\u001b[A\n",
      "\u001b[A{'kernel': 'sigmoid', 'C': 4.852635743685142, 'gamma': 1.856826148646157, 'class_weight': 'balanced'}\n",
      "\n",
      "  6%|▌         | 62/1000 [2:51:40<35:41:19, 136.97s/it, best loss: -0.668604651163]\u001b[A"
     ]
    },
    {
     "name": "stderr",
     "output_type": "stream",
     "text": [
      "Hyperopt:   6%|▋         | 63/1000 [2:51:40<44:32:04, 171.10s/it]"
     ]
    },
    {
     "name": "stdout",
     "output_type": "stream",
     "text": [
      "\n",
      "  6%|▋         | 63/1000 [2:51:40<44:32:04, 171.10s/it, best loss: -0.668604651163]\u001b[A\n",
      "\u001b[AParameters with this training accuracy 0.995482413682 and loss 0.421796456493 :\n",
      "\n",
      "  6%|▋         | 63/1000 [2:53:35<44:32:04, 171.10s/it, best loss: -0.668604651163]\u001b[A\n",
      "\u001b[AParameters with this testing accuracy 0.662790697674 and loss 1.09922494224 :\n",
      "\n",
      "  6%|▋         | 63/1000 [2:53:35<44:32:04, 171.10s/it, best loss: -0.668604651163]\u001b[A\n",
      "\u001b[A{'kernel': 'linear', 'C': 16.498948053946442, 'gamma': 1.116073724988333, 'class_weight': 'balanced'}\n",
      "\n",
      "  6%|▋         | 63/1000 [2:53:35<44:32:04, 171.10s/it, best loss: -0.668604651163]\u001b[A"
     ]
    },
    {
     "name": "stderr",
     "output_type": "stream",
     "text": [
      "Hyperopt:   6%|▋         | 64/1000 [2:53:35<40:07:19, 154.32s/it]"
     ]
    },
    {
     "name": "stdout",
     "output_type": "stream",
     "text": [
      "\n",
      "  6%|▋         | 64/1000 [2:53:35<40:07:19, 154.32s/it, best loss: -0.668604651163]\u001b[A\n",
      "\u001b[AParameters with this training accuracy 0.994191674734 and loss 0.426688611422 :\n",
      "\n",
      "  6%|▋         | 64/1000 [2:55:29<40:07:19, 154.32s/it, best loss: -0.668604651163]\u001b[A\n",
      "\u001b[AParameters with this testing accuracy 0.668604651163 and loss 1.09741047062 :\n",
      "\n",
      "  6%|▋         | 64/1000 [2:55:29<40:07:19, 154.32s/it, best loss: -0.668604651163]\u001b[A\n",
      "\u001b[A{'kernel': 'linear', 'C': 12.129575141963292, 'gamma': 6.143905441369989, 'class_weight': 'balanced'}\n",
      "\n",
      "  6%|▋         | 64/1000 [2:55:29<40:07:19, 154.32s/it, best loss: -0.668604651163]\u001b[A"
     ]
    },
    {
     "name": "stderr",
     "output_type": "stream",
     "text": [
      "Hyperopt:   6%|▋         | 65/1000 [2:55:29<36:59:22, 142.42s/it]"
     ]
    },
    {
     "name": "stdout",
     "output_type": "stream",
     "text": [
      "\n",
      "  6%|▋         | 65/1000 [2:55:29<36:59:22, 142.42s/it, best loss: -0.668604651163]\u001b[A\n",
      "\u001b[AParameters with this training accuracy 0.994191674734 and loss 0.426770058644 :\n",
      "\n",
      "  6%|▋         | 65/1000 [2:57:24<36:59:22, 142.42s/it, best loss: -0.668604651163]\u001b[A\n",
      "\u001b[AParameters with this testing accuracy 0.668604651163 and loss 1.09713907702 :\n",
      "\n",
      "  6%|▋         | 65/1000 [2:57:24<36:59:22, 142.42s/it, best loss: -0.668604651163]\u001b[A\n",
      "\u001b[A{'kernel': 'linear', 'C': 12.263164326018162, 'gamma': 6.304360620610604, 'class_weight': 'balanced'}\n",
      "\n",
      "  6%|▋         | 65/1000 [2:57:24<36:59:22, 142.42s/it, best loss: -0.668604651163]\u001b[A"
     ]
    },
    {
     "name": "stderr",
     "output_type": "stream",
     "text": [
      "Hyperopt:   7%|▋         | 66/1000 [2:57:24<34:48:20, 134.15s/it]"
     ]
    },
    {
     "name": "stdout",
     "output_type": "stream",
     "text": [
      "\n",
      "  7%|▋         | 66/1000 [2:57:24<34:48:20, 134.15s/it, best loss: -0.668604651163]\u001b[A\n",
      "\u001b[AParameters with this training accuracy 0.994514359471 and loss 0.426246108967 :\n",
      "\n",
      "  7%|▋         | 66/1000 [2:59:24<34:48:20, 134.15s/it, best loss: -0.668604651163]\u001b[A\n",
      "\u001b[AParameters with this testing accuracy 0.668604651163 and loss 1.097672092 :\n",
      "\n",
      "  7%|▋         | 66/1000 [2:59:24<34:48:20, 134.15s/it, best loss: -0.668604651163]\u001b[A\n",
      "\u001b[A{'kernel': 'linear', 'C': 12.788931956790186, 'gamma': 6.286411061355738, 'class_weight': 'balanced'}\n",
      "\n",
      "  7%|▋         | 66/1000 [2:59:24<34:48:20, 134.15s/it, best loss: -0.668604651163]\u001b[A"
     ]
    },
    {
     "name": "stderr",
     "output_type": "stream",
     "text": [
      "Hyperopt:   7%|▋         | 67/1000 [2:59:24<33:40:43, 129.95s/it]"
     ]
    },
    {
     "name": "stdout",
     "output_type": "stream",
     "text": [
      "\n",
      "  7%|▋         | 67/1000 [2:59:24<33:40:43, 129.95s/it, best loss: -0.668604651163]\u001b[A\n",
      "\u001b[AParameters with this training accuracy 0.992900935786 and loss 0.43444540704 :\n",
      "\n",
      "  7%|▋         | 67/1000 [3:01:18<33:40:43, 129.95s/it, best loss: -0.668604651163]\u001b[A\n",
      "\u001b[AParameters with this testing accuracy 0.665697674419 and loss 1.09782212689 :\n",
      "\n",
      "  7%|▋         | 67/1000 [3:01:18<33:40:43, 129.95s/it, best loss: -0.668604651163]\u001b[A\n",
      "\u001b[A{'kernel': 'linear', 'C': 10.254995924607726, 'gamma': 5.725224799577739, 'class_weight': 'balanced'}\n",
      "\n",
      "  7%|▋         | 67/1000 [3:01:18<33:40:43, 129.95s/it, best loss: -0.668604651163]\u001b[A"
     ]
    },
    {
     "name": "stderr",
     "output_type": "stream",
     "text": [
      "Hyperopt:   7%|▋         | 68/1000 [3:01:18<32:20:54, 124.95s/it]"
     ]
    },
    {
     "name": "stdout",
     "output_type": "stream",
     "text": [
      "\n",
      "  7%|▋         | 68/1000 [3:01:18<32:20:54, 124.95s/it, best loss: -0.668604651163]\u001b[A\n",
      "\u001b[AParameters with this training accuracy 0.986447241045 and loss 0.45121202738 :\n",
      "\n",
      "  7%|▋         | 68/1000 [3:03:10<32:20:54, 124.95s/it, best loss: -0.668604651163]\u001b[A\n",
      "\u001b[AParameters with this testing accuracy 0.65988372093 and loss 1.09640508445 :\n",
      "\n",
      "  7%|▋         | 68/1000 [3:03:10<32:20:54, 124.95s/it, best loss: -0.668604651163]\u001b[A\n",
      "\u001b[A{'kernel': 'linear', 'C': 6.565008835144669, 'gamma': 8.011142334856899, 'class_weight': 'balanced'}\n",
      "\n",
      "  7%|▋         | 68/1000 [3:03:10<32:20:54, 124.95s/it, best loss: -0.668604651163]\u001b[A"
     ]
    },
    {
     "name": "stderr",
     "output_type": "stream",
     "text": [
      "Hyperopt:   7%|▋         | 69/1000 [3:03:10<31:18:37, 121.07s/it]"
     ]
    },
    {
     "name": "stdout",
     "output_type": "stream",
     "text": [
      "\n",
      "  7%|▋         | 69/1000 [3:03:10<31:18:37, 121.07s/it, best loss: -0.668604651163]\u001b[A\n",
      "\u001b[AParameters with this training accuracy 0.994837044208 and loss 0.427879646044 :\n",
      "\n",
      "  7%|▋         | 69/1000 [3:05:09<31:18:37, 121.07s/it, best loss: -0.668604651163]\u001b[A\n",
      "\u001b[AParameters with this testing accuracy 0.665697674419 and loss 1.09764876521 :\n",
      "\n",
      "  7%|▋         | 69/1000 [3:05:09<31:18:37, 121.07s/it, best loss: -0.668604651163]\u001b[A\n",
      "\u001b[A{'kernel': 'linear', 'C': 13.032799181099872, 'gamma': 6.312356161972622, 'class_weight': 'balanced'}\n",
      "\n",
      "  7%|▋         | 69/1000 [3:05:09<31:18:37, 121.07s/it, best loss: -0.668604651163]\u001b[A"
     ]
    },
    {
     "name": "stderr",
     "output_type": "stream",
     "text": [
      "Hyperopt:   7%|▋         | 70/1000 [3:05:09<31:07:33, 120.49s/it]"
     ]
    },
    {
     "name": "stdout",
     "output_type": "stream",
     "text": [
      "\n",
      "  7%|▋         | 70/1000 [3:05:09<31:07:33, 120.49s/it, best loss: -0.668604651163]\u001b[A\n",
      "\u001b[AParameters with this training accuracy 0.995159728945 and loss 0.425728417004 :\n",
      "\n",
      "  7%|▋         | 70/1000 [3:07:05<31:07:33, 120.49s/it, best loss: -0.668604651163]\u001b[A\n",
      "\u001b[AParameters with this testing accuracy 0.662790697674 and loss 1.09865209852 :\n",
      "\n",
      "  7%|▋         | 70/1000 [3:07:05<31:07:33, 120.49s/it, best loss: -0.668604651163]\u001b[A\n",
      "\u001b[A{'kernel': 'linear', 'C': 15.046623729569365, 'gamma': 7.442646421624127, 'class_weight': 'balanced'}\n",
      "\n",
      "  7%|▋         | 70/1000 [3:07:05<31:07:33, 120.49s/it, best loss: -0.668604651163]\u001b[A"
     ]
    },
    {
     "name": "stderr",
     "output_type": "stream",
     "text": [
      "Hyperopt:   7%|▋         | 71/1000 [3:07:05<30:46:46, 119.27s/it]"
     ]
    },
    {
     "name": "stdout",
     "output_type": "stream",
     "text": [
      "\n",
      "  7%|▋         | 71/1000 [3:07:05<30:46:46, 119.27s/it, best loss: -0.668604651163]\u001b[A\n",
      "\u001b[AParameters with this training accuracy 0.994191674734 and loss 0.425845931318 :\n",
      "\n",
      "  7%|▋         | 71/1000 [3:09:00<30:46:46, 119.27s/it, best loss: -0.668604651163]\u001b[A\n",
      "\u001b[AParameters with this testing accuracy 0.668604651163 and loss 1.09773963853 :\n",
      "\n",
      "  7%|▋         | 71/1000 [3:09:00<30:46:46, 119.27s/it, best loss: -0.668604651163]\u001b[A\n",
      "\u001b[A{'kernel': 'linear', 'C': 12.757123878638927, 'gamma': 6.808455266825017, 'class_weight': 'balanced'}\n",
      "\n",
      "  7%|▋         | 71/1000 [3:09:00<30:46:46, 119.27s/it, best loss: -0.668604651163]\u001b[A"
     ]
    },
    {
     "name": "stderr",
     "output_type": "stream",
     "text": [
      "Hyperopt:   7%|▋         | 72/1000 [3:09:00<30:25:06, 118.00s/it]"
     ]
    },
    {
     "name": "stdout",
     "output_type": "stream",
     "text": [
      "\n",
      "  7%|▋         | 72/1000 [3:09:00<30:25:06, 118.00s/it, best loss: -0.668604651163]\u001b[A\n",
      "\u001b[AParameters with this training accuracy 0.992900935786 and loss 0.431854375201 :\n",
      "\n",
      "  7%|▋         | 72/1000 [3:10:56<30:25:06, 118.00s/it, best loss: -0.668604651163]\u001b[A\n",
      "\u001b[AParameters with this testing accuracy 0.665697674419 and loss 1.09736058045 :\n",
      "\n",
      "  7%|▋         | 72/1000 [3:10:56<30:25:06, 118.00s/it, best loss: -0.668604651163]\u001b[A\n",
      "\u001b[A{'kernel': 'linear', 'C': 10.372604091476973, 'gamma': 8.782541809483021, 'class_weight': 'balanced'}\n",
      "\n",
      "  7%|▋         | 72/1000 [3:10:56<30:25:06, 118.00s/it, best loss: -0.668604651163]\u001b[A"
     ]
    },
    {
     "name": "stderr",
     "output_type": "stream",
     "text": [
      "Hyperopt:   7%|▋         | 73/1000 [3:10:56<30:12:51, 117.34s/it]"
     ]
    },
    {
     "name": "stdout",
     "output_type": "stream",
     "text": [
      "\n",
      "  7%|▋         | 73/1000 [3:10:56<30:12:51, 117.34s/it, best loss: -0.668604651163]\u001b[A\n",
      "\u001b[AParameters with this training accuracy 0.995159728945 and loss 0.423887057985 :\n",
      "\n",
      "  7%|▋         | 73/1000 [3:12:51<30:12:51, 117.34s/it, best loss: -0.668604651163]\u001b[A\n",
      "\u001b[AParameters with this testing accuracy 0.662790697674 and loss 1.09849199808 :\n",
      "\n",
      "  7%|▋         | 73/1000 [3:12:51<30:12:51, 117.34s/it, best loss: -0.668604651163]\u001b[A\n",
      "\u001b[A{'kernel': 'linear', 'C': 14.31088440795234, 'gamma': 7.876966982812958, 'class_weight': 'balanced'}\n",
      "\n",
      "  7%|▋         | 73/1000 [3:12:51<30:12:51, 117.34s/it, best loss: -0.668604651163]\u001b[A"
     ]
    },
    {
     "name": "stderr",
     "output_type": "stream",
     "text": [
      "Hyperopt:   7%|▋         | 74/1000 [3:12:51<30:01:34, 116.73s/it]"
     ]
    },
    {
     "name": "stdout",
     "output_type": "stream",
     "text": [
      "\n",
      "  7%|▋         | 74/1000 [3:12:51<30:01:34, 116.73s/it, best loss: -0.668604651163]\u001b[A\n",
      "\u001b[AParameters with this training accuracy 0.995482413682 and loss 0.423799874496 :\n",
      "\n",
      "  7%|▋         | 74/1000 [3:14:55<30:01:34, 116.73s/it, best loss: -0.668604651163]\u001b[A\n",
      "\u001b[AParameters with this testing accuracy 0.662790697674 and loss 1.09850759038 :\n",
      "\n",
      "  7%|▋         | 74/1000 [3:14:55<30:01:34, 116.73s/it, best loss: -0.668604651163]\u001b[A\n",
      "\u001b[A{'kernel': 'linear', 'C': 15.651249453809537, 'gamma': 6.965620402159648, 'class_weight': 'balanced'}\n",
      "\n",
      "  7%|▋         | 74/1000 [3:14:55<30:01:34, 116.73s/it, best loss: -0.668604651163]\u001b[A"
     ]
    },
    {
     "name": "stderr",
     "output_type": "stream",
     "text": [
      "Hyperopt:   8%|▊         | 75/1000 [3:14:55<30:30:10, 118.71s/it]"
     ]
    },
    {
     "name": "stdout",
     "output_type": "stream",
     "text": [
      "\n",
      "  8%|▊         | 75/1000 [3:14:55<30:30:10, 118.71s/it, best loss: -0.668604651163]\u001b[A\n",
      "\u001b[AParameters with this training accuracy 0.996450467893 and loss 0.852299615925 :\n",
      "\n",
      "  8%|▊         | 75/1000 [3:16:29<30:30:10, 118.71s/it, best loss: -0.668604651163]\u001b[A\n",
      "\u001b[AParameters with this testing accuracy 0.56976744186 and loss 1.32102746881 :\n",
      "\n",
      "  8%|▊         | 75/1000 [3:16:29<30:30:10, 118.71s/it, best loss: -0.668604651163]\u001b[A\n",
      "\u001b[A{'kernel': 'poly', 'C': 11.269220888320055, 'gamma': 3.097554256701639, 'class_weight': 'balanced'}\n",
      "\n",
      "  8%|▊         | 75/1000 [3:16:29<30:30:10, 118.71s/it, best loss: -0.668604651163]\u001b[A"
     ]
    },
    {
     "name": "stderr",
     "output_type": "stream",
     "text": [
      "Hyperopt:   8%|▊         | 76/1000 [3:16:29<28:32:51, 111.22s/it]"
     ]
    },
    {
     "name": "stdout",
     "output_type": "stream",
     "text": [
      "\n",
      "  8%|▊         | 76/1000 [3:16:29<28:32:51, 111.22s/it, best loss: -0.668604651163]\u001b[A\n",
      "\u001b[AParameters with this training accuracy 0.996450467893 and loss 2.76157885864 :\n",
      "\n",
      "  8%|▊         | 76/1000 [3:20:44<28:32:51, 111.22s/it, best loss: -0.668604651163]\u001b[A\n",
      "\u001b[AParameters with this testing accuracy 0.459302325581 and loss 1.94032753719 :\n",
      "\n",
      "  8%|▊         | 76/1000 [3:20:44<28:32:51, 111.22s/it, best loss: -0.668604651163]\u001b[A\n",
      "\u001b[A{'kernel': 'rbf', 'C': 9.44451990086265, 'gamma': 4.495768516371843, 'class_weight': 'balanced'}\n",
      "\n",
      "  8%|▊         | 76/1000 [3:20:44<28:32:51, 111.22s/it, best loss: -0.668604651163]\u001b[A"
     ]
    },
    {
     "name": "stderr",
     "output_type": "stream",
     "text": [
      "Hyperopt:   8%|▊         | 77/1000 [3:20:44<39:34:56, 154.38s/it]"
     ]
    },
    {
     "name": "stdout",
     "output_type": "stream",
     "text": [
      "\n",
      "  8%|▊         | 77/1000 [3:20:44<39:34:56, 154.38s/it, best loss: -0.668604651163]\u001b[A\n",
      "\u001b[AParameters with this training accuracy 0.992900935786 and loss 0.433261994473 :\n",
      "\n",
      "  8%|▊         | 77/1000 [3:22:38<39:34:56, 154.38s/it, best loss: -0.668604651163]\u001b[A\n",
      "\u001b[AParameters with this testing accuracy 0.665697674419 and loss 1.09747281133 :\n",
      "\n",
      "  8%|▊         | 77/1000 [3:22:38<39:34:56, 154.38s/it, best loss: -0.668604651163]\u001b[A\n",
      "\u001b[A{'kernel': 'linear', 'C': 10.508184762862594, 'gamma': 5.9216910700295236, 'class_weight': 'balanced'}\n",
      "\n",
      "  8%|▊         | 77/1000 [3:22:38<39:34:56, 154.38s/it, best loss: -0.668604651163]\u001b[A"
     ]
    },
    {
     "name": "stderr",
     "output_type": "stream",
     "text": [
      "Hyperopt:   8%|▊         | 78/1000 [3:22:38<36:28:04, 142.39s/it]"
     ]
    },
    {
     "name": "stdout",
     "output_type": "stream",
     "text": [
      "\n",
      "  8%|▊         | 78/1000 [3:22:38<36:28:04, 142.39s/it, best loss: -0.668604651163]\u001b[A\n",
      "\u001b[AParameters with this training accuracy 0.139077121652 and loss 1.9577047263 :\n",
      "\n",
      "  8%|▊         | 78/1000 [3:26:50<36:28:04, 142.39s/it, best loss: -0.668604651163]\u001b[A\n",
      "\u001b[AParameters with this testing accuracy 0.191860465116 and loss 1.95076250105 :\n",
      "\n",
      "  8%|▊         | 78/1000 [3:26:50<36:28:04, 142.39s/it, best loss: -0.668604651163]\u001b[A\n",
      "\u001b[A{'kernel': 'sigmoid', 'C': 13.405141202823671, 'gamma': 4.970208236788703, 'class_weight': 'balanced'}\n",
      "\n",
      "  8%|▊         | 78/1000 [3:26:50<36:28:04, 142.39s/it, best loss: -0.668604651163]\u001b[A"
     ]
    },
    {
     "name": "stderr",
     "output_type": "stream",
     "text": [
      "Hyperopt:   8%|▊         | 79/1000 [3:26:50<44:49:34, 175.22s/it]"
     ]
    },
    {
     "name": "stdout",
     "output_type": "stream",
     "text": [
      "\n",
      "  8%|▊         | 79/1000 [3:26:50<44:49:34, 175.22s/it, best loss: -0.668604651163]\u001b[A\n",
      "\u001b[AParameters with this training accuracy 0.995805098419 and loss 0.417192605546 :\n",
      "\n",
      "  8%|▊         | 79/1000 [3:28:43<44:49:34, 175.22s/it, best loss: -0.668604651163]\u001b[A\n",
      "\u001b[AParameters with this testing accuracy 0.65988372093 and loss 1.10386929583 :\n",
      "\n",
      "  8%|▊         | 79/1000 [3:28:43<44:49:34, 175.22s/it, best loss: -0.668604651163]\u001b[A\n",
      "\u001b[A{'kernel': 'linear', 'C': 8.09574729131374, 'gamma': 6.2699121731448635, 'class_weight': None}\n",
      "\n",
      "  8%|▊         | 79/1000 [3:28:43<44:49:34, 175.22s/it, best loss: -0.668604651163]\u001b[A"
     ]
    },
    {
     "name": "stderr",
     "output_type": "stream",
     "text": [
      "Hyperopt:   8%|▊         | 80/1000 [3:28:43<40:01:32, 156.62s/it]"
     ]
    },
    {
     "name": "stdout",
     "output_type": "stream",
     "text": [
      "\n",
      "  8%|▊         | 80/1000 [3:28:43<40:01:32, 156.62s/it, best loss: -0.668604651163]\u001b[A\n",
      "\u001b[AParameters with this training accuracy 0.995482413682 and loss 0.423484723537 :\n",
      "\n",
      "  8%|▊         | 80/1000 [3:30:40<40:01:32, 156.62s/it, best loss: -0.668604651163]\u001b[A\n",
      "\u001b[AParameters with this testing accuracy 0.662790697674 and loss 1.09925403842 :\n",
      "\n",
      "  8%|▊         | 80/1000 [3:30:40<40:01:32, 156.62s/it, best loss: -0.668604651163]\u001b[A\n",
      "\u001b[A{'kernel': 'linear', 'C': 18.36214054905352, 'gamma': 6.432508258871772, 'class_weight': 'balanced'}\n",
      "\n",
      "  8%|▊         | 80/1000 [3:30:40<40:01:32, 156.62s/it, best loss: -0.668604651163]\u001b[A"
     ]
    },
    {
     "name": "stderr",
     "output_type": "stream",
     "text": [
      "Hyperopt:   8%|▊         | 81/1000 [3:30:40<36:54:46, 144.60s/it]"
     ]
    },
    {
     "name": "stdout",
     "output_type": "stream",
     "text": [
      "\n",
      "  8%|▊         | 81/1000 [3:30:40<36:54:46, 144.60s/it, best loss: -0.668604651163]\u001b[A\n",
      "\u001b[AParameters with this training accuracy 0.996450467893 and loss 0.851491634174 :\n",
      "\n",
      "  8%|▊         | 81/1000 [3:32:13<36:54:46, 144.60s/it, best loss: -0.668604651163]\u001b[A\n",
      "\u001b[AParameters with this testing accuracy 0.56976744186 and loss 1.32086493094 :\n",
      "\n",
      "  8%|▊         | 81/1000 [3:32:13<36:54:46, 144.60s/it, best loss: -0.668604651163]\u001b[A\n",
      "\u001b[A{'kernel': 'poly', 'C': 12.02220789663622, 'gamma': 5.362422562962887, 'class_weight': 'balanced'}\n",
      "\n",
      "  8%|▊         | 81/1000 [3:32:13<36:54:46, 144.60s/it, best loss: -0.668604651163]\u001b[A"
     ]
    },
    {
     "name": "stderr",
     "output_type": "stream",
     "text": [
      "Hyperopt:   8%|▊         | 82/1000 [3:32:13<32:56:25, 129.18s/it]"
     ]
    },
    {
     "name": "stdout",
     "output_type": "stream",
     "text": [
      "\n",
      "  8%|▊         | 82/1000 [3:32:13<32:56:25, 129.18s/it, best loss: -0.668604651163]\u001b[A\n",
      "\u001b[AParameters with this training accuracy 0.991932881575 and loss 0.437743240102 :\n",
      "\n",
      "  8%|▊         | 82/1000 [3:34:08<32:56:25, 129.18s/it, best loss: -0.668604651163]\u001b[A\n",
      "\u001b[AParameters with this testing accuracy 0.662790697674 and loss 1.09671666311 :\n",
      "\n",
      "  8%|▊         | 82/1000 [3:34:08<32:56:25, 129.18s/it, best loss: -0.668604651163]\u001b[A\n",
      "\u001b[A{'kernel': 'linear', 'C': 9.064809771295703, 'gamma': 7.297393700800201, 'class_weight': 'balanced'}\n",
      "\n",
      "  8%|▊         | 82/1000 [3:34:08<32:56:25, 129.18s/it, best loss: -0.668604651163]\u001b[A"
     ]
    },
    {
     "name": "stderr",
     "output_type": "stream",
     "text": [
      "Hyperopt:   8%|▊         | 83/1000 [3:34:08<31:48:30, 124.88s/it]"
     ]
    },
    {
     "name": "stdout",
     "output_type": "stream",
     "text": [
      "\n",
      "  8%|▊         | 83/1000 [3:34:08<31:48:30, 124.88s/it, best loss: -0.668604651163]\u001b[A\n",
      "\u001b[AParameters with this training accuracy 0.996450467893 and loss 2.74719986847 :\n",
      "\n",
      "  8%|▊         | 83/1000 [3:38:22<31:48:30, 124.88s/it, best loss: -0.668604651163]\u001b[A\n",
      "\u001b[AParameters with this testing accuracy 0.459302325581 and loss 1.94087902983 :\n",
      "\n",
      "  8%|▊         | 83/1000 [3:38:22<31:48:30, 124.88s/it, best loss: -0.668604651163]\u001b[A\n",
      "\u001b[A{'kernel': 'rbf', 'C': 11.401926102081237, 'gamma': 3.7988664445291924, 'class_weight': None}\n",
      "\n",
      "  8%|▊         | 83/1000 [3:38:22<31:48:30, 124.88s/it, best loss: -0.668604651163]\u001b[A"
     ]
    },
    {
     "name": "stderr",
     "output_type": "stream",
     "text": [
      "Hyperopt:   8%|▊         | 84/1000 [3:38:22<41:38:53, 163.68s/it]"
     ]
    },
    {
     "name": "stdout",
     "output_type": "stream",
     "text": [
      "\n",
      "  8%|▊         | 84/1000 [3:38:22<41:38:53, 163.68s/it, best loss: -0.668604651163]\u001b[A\n",
      "\u001b[AParameters with this training accuracy 0.994191674734 and loss 0.426093530312 :\n",
      "\n",
      "  8%|▊         | 84/1000 [3:40:17<41:38:53, 163.68s/it, best loss: -0.668604651163]\u001b[A\n",
      "\u001b[AParameters with this testing accuracy 0.668604651163 and loss 1.0971858663 :\n",
      "\n",
      "  8%|▊         | 84/1000 [3:40:17<41:38:53, 163.68s/it, best loss: -0.668604651163]\u001b[A\n",
      "\u001b[A{'kernel': 'linear', 'C': 12.739179759542981, 'gamma': 8.420238718161771, 'class_weight': 'balanced'}\n",
      "\n",
      "  8%|▊         | 84/1000 [3:40:17<41:38:53, 163.68s/it, best loss: -0.668604651163]\u001b[A"
     ]
    },
    {
     "name": "stderr",
     "output_type": "stream",
     "text": [
      "Hyperopt:   8%|▊         | 85/1000 [3:40:17<37:55:03, 149.18s/it]"
     ]
    },
    {
     "name": "stdout",
     "output_type": "stream",
     "text": [
      "\n",
      "  8%|▊         | 85/1000 [3:40:17<37:55:03, 149.18s/it, best loss: -0.668604651163]\u001b[A\n",
      "\u001b[AParameters with this training accuracy 0.0141981284285 and loss 1.97288170029 :\n",
      "\n",
      "  8%|▊         | 85/1000 [3:44:28<37:55:03, 149.18s/it, best loss: -0.668604651163]\u001b[A\n",
      "\u001b[AParameters with this testing accuracy 0.0174418604651 and loss 1.94686184963 :\n",
      "\n",
      "  8%|▊         | 85/1000 [3:44:28<37:55:03, 149.18s/it, best loss: -0.668604651163]\u001b[A\n",
      "\u001b[A{'kernel': 'sigmoid', 'C': 19.343669692448103, 'gamma': 8.415864148946788, 'class_weight': 'balanced'}\n",
      "\n",
      "  8%|▊         | 85/1000 [3:44:28<37:55:03, 149.18s/it, best loss: -0.668604651163]\u001b[A"
     ]
    },
    {
     "name": "stderr",
     "output_type": "stream",
     "text": [
      "Hyperopt:   9%|▊         | 86/1000 [3:44:28<45:36:48, 179.66s/it]"
     ]
    },
    {
     "name": "stdout",
     "output_type": "stream",
     "text": [
      "\n",
      "  9%|▊         | 86/1000 [3:44:28<45:36:48, 179.66s/it, best loss: -0.668604651163]\u001b[A\n",
      "\u001b[AParameters with this training accuracy 0.995159728945 and loss 0.424930998283 :\n",
      "\n",
      "  9%|▊         | 86/1000 [3:46:24<45:36:48, 179.66s/it, best loss: -0.668604651163]\u001b[A\n",
      "\u001b[AParameters with this testing accuracy 0.662790697674 and loss 1.09844097727 :\n",
      "\n",
      "  9%|▊         | 86/1000 [3:46:24<45:36:48, 179.66s/it, best loss: -0.668604651163]\u001b[A\n",
      "\u001b[A{'kernel': 'linear', 'C': 14.84314119479652, 'gamma': 5.372540041611583, 'class_weight': 'balanced'}\n",
      "\n",
      "  9%|▊         | 86/1000 [3:46:24<45:36:48, 179.66s/it, best loss: -0.668604651163]\u001b[A"
     ]
    },
    {
     "name": "stderr",
     "output_type": "stream",
     "text": [
      "Hyperopt:   9%|▊         | 87/1000 [3:46:24<40:42:32, 160.52s/it]"
     ]
    },
    {
     "name": "stdout",
     "output_type": "stream",
     "text": [
      "\n",
      "  9%|▊         | 87/1000 [3:46:24<40:42:32, 160.52s/it, best loss: -0.668604651163]\u001b[A\n",
      "\u001b[AParameters with this training accuracy 0.995482413682 and loss 0.42359067448 :\n",
      "\n",
      "  9%|▊         | 87/1000 [3:48:19<40:42:32, 160.52s/it, best loss: -0.668604651163]\u001b[A\n",
      "\u001b[AParameters with this testing accuracy 0.662790697674 and loss 1.09885633675 :\n",
      "\n",
      "  9%|▊         | 87/1000 [3:48:20<40:42:32, 160.52s/it, best loss: -0.668604651163]\u001b[A\n",
      "\u001b[A{'kernel': 'linear', 'C': 17.76642184773565, 'gamma': 4.2997677578440205, 'class_weight': 'balanced'}\n",
      "\n",
      "  9%|▊         | 87/1000 [3:48:20<40:42:32, 160.52s/it, best loss: -0.668604651163]\u001b[A"
     ]
    },
    {
     "name": "stderr",
     "output_type": "stream",
     "text": [
      "Hyperopt:   9%|▉         | 88/1000 [3:48:20<37:15:12, 147.05s/it]"
     ]
    },
    {
     "name": "stdout",
     "output_type": "stream",
     "text": [
      "\n",
      "  9%|▉         | 88/1000 [3:48:20<37:15:12, 147.05s/it, best loss: -0.668604651163]\u001b[A\n",
      "\u001b[AParameters with this training accuracy 0.988060664731 and loss 0.847262964215 :\n",
      "\n",
      "  9%|▉         | 88/1000 [3:49:49<37:15:12, 147.05s/it, best loss: -0.668604651163]\u001b[A\n",
      "\u001b[AParameters with this testing accuracy 0.593023255814 and loss 1.32079715681 :\n",
      "\n",
      "  9%|▉         | 88/1000 [3:49:49<37:15:12, 147.05s/it, best loss: -0.668604651163]\u001b[A\n",
      "\u001b[A{'kernel': 'poly', 'C': 9.771928389953835, 'gamma': 0.029836691202496546, 'class_weight': None}\n",
      "\n",
      "  9%|▉         | 88/1000 [3:49:49<37:15:12, 147.05s/it, best loss: -0.668604651163]\u001b[A"
     ]
    },
    {
     "name": "stderr",
     "output_type": "stream",
     "text": [
      "Hyperopt:   9%|▉         | 89/1000 [3:49:49<32:48:34, 129.65s/it]"
     ]
    },
    {
     "name": "stdout",
     "output_type": "stream",
     "text": [
      "\n",
      "  9%|▉         | 89/1000 [3:49:49<32:48:34, 129.65s/it, best loss: -0.668604651163]\u001b[A\n",
      "\u001b[AParameters with this training accuracy 0.995159728945 and loss 0.424678059523 :\n",
      "\n",
      "  9%|▉         | 89/1000 [3:51:46<32:48:34, 129.65s/it, best loss: -0.668604651163]\u001b[A\n",
      "\u001b[AParameters with this testing accuracy 0.662790697674 and loss 1.09845244045 :\n",
      "\n",
      "  9%|▉         | 89/1000 [3:51:46<32:48:34, 129.65s/it, best loss: -0.668604651163]\u001b[A\n",
      "\u001b[A{'kernel': 'linear', 'C': 15.239730598247776, 'gamma': 9.332030150811727, 'class_weight': 'balanced'}\n",
      "\n",
      "  9%|▉         | 89/1000 [3:51:46<32:48:34, 129.65s/it, best loss: -0.668604651163]\u001b[A"
     ]
    },
    {
     "name": "stderr",
     "output_type": "stream",
     "text": [
      "Hyperopt:   9%|▉         | 90/1000 [3:51:46<31:49:28, 125.90s/it]"
     ]
    },
    {
     "name": "stdout",
     "output_type": "stream",
     "text": [
      "\n",
      "  9%|▉         | 90/1000 [3:51:46<31:49:28, 125.90s/it, best loss: -0.668604651163]\u001b[A\n",
      "\u001b[AParameters with this training accuracy 0.996450467893 and loss 2.78946165374 :\n",
      "\n",
      "  9%|▉         | 90/1000 [3:55:58<31:49:28, 125.90s/it, best loss: -0.668604651163]\u001b[A\n",
      "\u001b[AParameters with this testing accuracy 0.459302325581 and loss 1.9413444649 :\n",
      "\n",
      "  9%|▉         | 90/1000 [3:55:58<31:49:28, 125.90s/it, best loss: -0.668604651163]\u001b[A\n",
      "\u001b[A{'kernel': 'rbf', 'C': 16.49686983232213, 'gamma': 4.8676846690859, 'class_weight': 'balanced'}\n",
      "\n",
      "  9%|▉         | 90/1000 [3:55:58<31:49:28, 125.90s/it, best loss: -0.668604651163]\u001b[A"
     ]
    },
    {
     "name": "stderr",
     "output_type": "stream",
     "text": [
      "Hyperopt:   9%|▉         | 91/1000 [3:55:58<41:22:17, 163.85s/it]"
     ]
    },
    {
     "name": "stdout",
     "output_type": "stream",
     "text": [
      "\n",
      "  9%|▉         | 91/1000 [3:55:58<41:22:17, 163.85s/it, best loss: -0.668604651163]\u001b[A\n",
      "\u001b[AParameters with this training accuracy 0.0141981284285 and loss 1.97274157325 :\n",
      "\n",
      "  9%|▉         | 91/1000 [4:00:05<41:22:17, 163.85s/it, best loss: -0.668604651163]\u001b[A\n",
      "\u001b[AParameters with this testing accuracy 0.0174418604651 and loss 1.93759366539 :\n",
      "\n",
      "  9%|▉         | 91/1000 [4:00:05<41:22:17, 163.85s/it, best loss: -0.668604651163]\u001b[A\n",
      "\u001b[A{'kernel': 'sigmoid', 'C': 13.860174553505903, 'gamma': 8.859281531501686, 'class_weight': 'balanced'}\n",
      "\n",
      "  9%|▉         | 91/1000 [4:00:05<41:22:17, 163.85s/it, best loss: -0.668604651163]\u001b[A"
     ]
    },
    {
     "name": "stderr",
     "output_type": "stream",
     "text": [
      "Hyperopt:   9%|▉         | 92/1000 [4:00:05<47:34:44, 188.64s/it]"
     ]
    },
    {
     "name": "stdout",
     "output_type": "stream",
     "text": [
      "\n",
      "  9%|▉         | 92/1000 [4:00:05<47:34:44, 188.64s/it, best loss: -0.668604651163]\u001b[A\n",
      "\u001b[AParameters with this training accuracy 0.994191674734 and loss 0.42677489111 :\n",
      "\n",
      "  9%|▉         | 92/1000 [4:01:59<47:34:44, 188.64s/it, best loss: -0.668604651163]\u001b[A\n",
      "\u001b[AParameters with this testing accuracy 0.668604651163 and loss 1.09764185148 :\n",
      "\n",
      "  9%|▉         | 92/1000 [4:01:59<47:34:44, 188.64s/it, best loss: -0.668604651163]\u001b[A\n",
      "\u001b[A{'kernel': 'linear', 'C': 12.648157329636206, 'gamma': 6.930125422544513, 'class_weight': 'balanced'}\n",
      "\n",
      "  9%|▉         | 92/1000 [4:01:59<47:34:44, 188.64s/it, best loss: -0.668604651163]\u001b[A"
     ]
    },
    {
     "name": "stderr",
     "output_type": "stream",
     "text": [
      "Hyperopt:   9%|▉         | 93/1000 [4:02:00<41:57:10, 166.52s/it]"
     ]
    },
    {
     "name": "stdout",
     "output_type": "stream",
     "text": [
      "\n",
      "  9%|▉         | 93/1000 [4:01:59<41:57:10, 166.52s/it, best loss: -0.668604651163]\u001b[A\n",
      "\u001b[AParameters with this training accuracy 0.995482413682 and loss 0.423271791339 :\n",
      "\n",
      "  9%|▉         | 93/1000 [4:03:55<41:57:10, 166.52s/it, best loss: -0.668604651163]\u001b[A\n",
      "\u001b[AParameters with this testing accuracy 0.65988372093 and loss 1.10529220305 :\n",
      "\n",
      "  9%|▉         | 93/1000 [4:03:55<41:57:10, 166.52s/it, best loss: -0.668604651163]\u001b[A\n",
      "\u001b[A{'kernel': 'linear', 'C': 6.979136724501147, 'gamma': 5.749906604298131, 'class_weight': None}\n",
      "\n",
      "  9%|▉         | 93/1000 [4:03:55<41:57:10, 166.52s/it, best loss: -0.668604651163]\u001b[A"
     ]
    },
    {
     "name": "stderr",
     "output_type": "stream",
     "text": [
      "Hyperopt:   9%|▉         | 94/1000 [4:03:55<38:03:18, 151.21s/it]"
     ]
    },
    {
     "name": "stdout",
     "output_type": "stream",
     "text": [
      "\n",
      "  9%|▉         | 94/1000 [4:03:55<38:03:18, 151.21s/it, best loss: -0.668604651163]\u001b[A\n",
      "\u001b[AParameters with this training accuracy 0.996450467893 and loss 0.854284757458 :\n",
      "\n",
      "  9%|▉         | 94/1000 [4:05:28<38:03:18, 151.21s/it, best loss: -0.668604651163]\u001b[A\n",
      "\u001b[AParameters with this testing accuracy 0.56976744186 and loss 1.32050049735 :\n",
      "\n",
      "  9%|▉         | 94/1000 [4:05:28<38:03:18, 151.21s/it, best loss: -0.668604651163]\u001b[A\n",
      "\u001b[A{'kernel': 'poly', 'C': 17.01211340088652, 'gamma': 6.662817900811535, 'class_weight': 'balanced'}\n",
      "\n",
      "  9%|▉         | 94/1000 [4:05:28<38:03:18, 151.21s/it, best loss: -0.668604651163]\u001b[A"
     ]
    },
    {
     "name": "stderr",
     "output_type": "stream",
     "text": [
      "Hyperopt:  10%|▉         | 95/1000 [4:05:28<33:36:27, 133.69s/it]"
     ]
    },
    {
     "name": "stdout",
     "output_type": "stream",
     "text": [
      "\n",
      " 10%|▉         | 95/1000 [4:05:28<33:36:27, 133.69s/it, best loss: -0.668604651163]\u001b[A\n",
      "\u001b[AParameters with this training accuracy 0.995159728945 and loss 0.426420527865 :\n",
      "\n",
      " 10%|▉         | 95/1000 [4:07:22<33:36:27, 133.69s/it, best loss: -0.668604651163]\u001b[A\n",
      "\u001b[AParameters with this testing accuracy 0.662790697674 and loss 1.09781470391 :\n",
      "\n",
      " 10%|▉         | 95/1000 [4:07:22<33:36:27, 133.69s/it, best loss: -0.668604651163]\u001b[A\n",
      "\u001b[A{'kernel': 'linear', 'C': 14.574682651999472, 'gamma': 3.3046597652577554, 'class_weight': 'balanced'}\n",
      "\n",
      " 10%|▉         | 95/1000 [4:07:22<33:36:27, 133.69s/it, best loss: -0.668604651163]\u001b[A"
     ]
    },
    {
     "name": "stderr",
     "output_type": "stream",
     "text": [
      "Hyperopt:  10%|▉         | 96/1000 [4:07:22<32:04:30, 127.73s/it]"
     ]
    },
    {
     "name": "stdout",
     "output_type": "stream",
     "text": [
      "\n",
      " 10%|▉         | 96/1000 [4:07:22<32:04:30, 127.73s/it, best loss: -0.668604651163]\u001b[A\n",
      "\u001b[AParameters with this training accuracy 0.996450467893 and loss 2.95371930437 :\n",
      "\n",
      " 10%|▉         | 96/1000 [4:11:36<32:04:30, 127.73s/it, best loss: -0.668604651163]\u001b[A\n",
      "\u001b[AParameters with this testing accuracy 0.459302325581 and loss 1.94227133182 :\n",
      "\n",
      " 10%|▉         | 96/1000 [4:11:36<32:04:30, 127.73s/it, best loss: -0.668604651163]\u001b[A\n",
      "\u001b[A{'kernel': 'rbf', 'C': 16.07104581224818, 'gamma': 7.549543576182384, 'class_weight': 'balanced'}\n",
      "\n",
      " 10%|▉         | 96/1000 [4:11:36<32:04:30, 127.73s/it, best loss: -0.668604651163]\u001b[A"
     ]
    },
    {
     "name": "stderr",
     "output_type": "stream",
     "text": [
      "Hyperopt:  10%|▉         | 97/1000 [4:11:36<41:34:46, 165.77s/it]"
     ]
    },
    {
     "name": "stdout",
     "output_type": "stream",
     "text": [
      "\n",
      " 10%|▉         | 97/1000 [4:11:36<41:34:46, 165.77s/it, best loss: -0.668604651163]\u001b[A\n",
      "\u001b[AParameters with this training accuracy 0.431106808648 and loss 1.94607231103 :\n",
      "\n",
      " 10%|▉         | 97/1000 [4:13:00<41:34:46, 165.77s/it, best loss: -0.668604651163]\u001b[A\n",
      "\u001b[AParameters with this testing accuracy 0.468023255814 and loss 1.93641281031 :\n",
      "\n",
      " 10%|▉         | 97/1000 [4:13:00<41:34:46, 165.77s/it, best loss: -0.668604651163]\u001b[A\n",
      "\u001b[A{'kernel': 'sigmoid', 'C': 10.69102074412667, 'gamma': 2.877586349312376, 'class_weight': None}\n",
      "\n",
      " 10%|▉         | 97/1000 [4:13:00<41:34:46, 165.77s/it, best loss: -0.668604651163]\u001b[A"
     ]
    },
    {
     "name": "stderr",
     "output_type": "stream",
     "text": [
      "Hyperopt:  10%|▉         | 98/1000 [4:13:00<35:23:45, 141.27s/it]"
     ]
    },
    {
     "name": "stdout",
     "output_type": "stream",
     "text": [
      "\n",
      " 10%|▉         | 98/1000 [4:13:00<35:23:45, 141.27s/it, best loss: -0.668604651163]\u001b[A\n",
      "\u001b[AParameters with this training accuracy 0.995159728945 and loss 0.425121945569 :\n",
      "\n",
      " 10%|▉         | 98/1000 [4:14:57<35:23:45, 141.27s/it, best loss: -0.668604651163]\u001b[A\n",
      "\u001b[AParameters with this testing accuracy 0.662790697674 and loss 1.09825729576 :\n",
      "\n",
      " 10%|▉         | 98/1000 [4:14:57<35:23:45, 141.27s/it, best loss: -0.668604651163]\u001b[A\n",
      "\u001b[A{'kernel': 'linear', 'C': 14.138629690833412, 'gamma': 4.703781998273239, 'class_weight': 'balanced'}\n",
      "\n",
      " 10%|▉         | 98/1000 [4:14:57<35:23:45, 141.27s/it, best loss: -0.668604651163]\u001b[A"
     ]
    },
    {
     "name": "stderr",
     "output_type": "stream",
     "text": [
      "Hyperopt:  10%|▉         | 99/1000 [4:14:57<33:32:53, 134.04s/it]"
     ]
    },
    {
     "name": "stdout",
     "output_type": "stream",
     "text": [
      "\n",
      " 10%|▉         | 99/1000 [4:14:57<33:32:53, 134.04s/it, best loss: -0.668604651163]\u001b[A\n",
      "\u001b[AParameters with this training accuracy 0.972894482091 and loss 0.5006366669 :\n",
      "\n",
      " 10%|▉         | 99/1000 [4:16:44<33:32:53, 134.04s/it, best loss: -0.668604651163]\u001b[A\n",
      "\u001b[AParameters with this testing accuracy 0.642441860465 and loss 1.09903751019 :\n",
      "\n",
      " 10%|▉         | 99/1000 [4:16:44<33:32:53, 134.04s/it, best loss: -0.668604651163]\u001b[A\n",
      "\u001b[A{'kernel': 'linear', 'C': 3.62057414653417, 'gamma': 3.774466416030048, 'class_weight': 'balanced'}\n",
      "\n",
      " 10%|▉         | 99/1000 [4:16:44<33:32:53, 134.04s/it, best loss: -0.668604651163]\u001b[A"
     ]
    },
    {
     "name": "stderr",
     "output_type": "stream",
     "text": [
      "Hyperopt:  10%|█         | 100/1000 [4:16:44<31:28:02, 125.87s/it]"
     ]
    },
    {
     "name": "stdout",
     "output_type": "stream",
     "text": [
      "\n",
      " 10%|█         | 100/1000 [4:16:44<31:28:02, 125.87s/it, best loss: -0.668604651163]\u001b[A\n",
      "\u001b[AParameters with this training accuracy 0.985156502097 and loss 0.453959075946 :\n",
      "\n",
      " 10%|█         | 100/1000 [4:18:35<31:28:02, 125.87s/it, best loss: -0.668604651163]\u001b[A\n",
      "\u001b[AParameters with this testing accuracy 0.656976744186 and loss 1.09691569797 :\n",
      "\n",
      " 10%|█         | 100/1000 [4:18:35<31:28:02, 125.87s/it, best loss: -0.668604651163]\u001b[A\n",
      "\u001b[A{'kernel': 'linear', 'C': 6.031413237549237, 'gamma': 8.249279541900263, 'class_weight': 'balanced'}\n",
      "\n",
      " 10%|█         | 100/1000 [4:18:35<31:28:02, 125.87s/it, best loss: -0.668604651163]\u001b[A"
     ]
    },
    {
     "name": "stderr",
     "output_type": "stream",
     "text": [
      "Hyperopt:  10%|█         | 101/1000 [4:18:35<30:18:05, 121.34s/it]"
     ]
    },
    {
     "name": "stdout",
     "output_type": "stream",
     "text": [
      "\n",
      " 10%|█         | 101/1000 [4:18:35<30:18:05, 121.34s/it, best loss: -0.668604651163]\u001b[A\n",
      "\u001b[AParameters with this training accuracy 0.996450467893 and loss 0.854299111117 :\n",
      "\n",
      " 10%|█         | 101/1000 [4:20:08<30:18:05, 121.34s/it, best loss: -0.668604651163]\u001b[A\n",
      "\u001b[AParameters with this testing accuracy 0.56976744186 and loss 1.32049787889 :\n",
      "\n",
      " 10%|█         | 101/1000 [4:20:08<30:18:05, 121.34s/it, best loss: -0.668604651163]\u001b[A\n",
      "\u001b[A{'kernel': 'poly', 'C': 8.128637754578062, 'gamma': 4.315155594877328, 'class_weight': 'balanced'}\n",
      "\n",
      " 10%|█         | 101/1000 [4:20:08<30:18:05, 121.34s/it, best loss: -0.668604651163]\u001b[A"
     ]
    },
    {
     "name": "stderr",
     "output_type": "stream",
     "text": [
      "Hyperopt:  10%|█         | 102/1000 [4:20:08<28:09:58, 112.92s/it]"
     ]
    },
    {
     "name": "stdout",
     "output_type": "stream",
     "text": [
      "\n",
      " 10%|█         | 102/1000 [4:20:08<28:09:58, 112.92s/it, best loss: -0.668604651163]\u001b[A\n",
      "\u001b[AParameters with this training accuracy 0.994837044208 and loss 0.421913992842 :\n",
      "\n",
      " 10%|█         | 102/1000 [4:22:04<28:09:58, 112.92s/it, best loss: -0.668604651163]\u001b[A\n",
      "\u001b[AParameters with this testing accuracy 0.65988372093 and loss 1.10380852589 :\n",
      "\n",
      " 10%|█         | 102/1000 [4:22:04<28:09:58, 112.92s/it, best loss: -0.668604651163]\u001b[A\n",
      "\u001b[A{'kernel': 'linear', 'C': 5.029667623837829, 'gamma': 2.524468664759067, 'class_weight': None}\n",
      "\n",
      " 10%|█         | 102/1000 [4:22:04<28:09:58, 112.92s/it, best loss: -0.668604651163]\u001b[A"
     ]
    },
    {
     "name": "stderr",
     "output_type": "stream",
     "text": [
      "Hyperopt:  10%|█         | 103/1000 [4:22:04<28:18:39, 113.62s/it]"
     ]
    },
    {
     "name": "stdout",
     "output_type": "stream",
     "text": [
      "\n",
      " 10%|█         | 103/1000 [4:22:04<28:18:39, 113.62s/it, best loss: -0.668604651163]\u001b[A\n",
      "\u001b[AParameters with this training accuracy 0.996450467893 and loss 2.85714833892 :\n",
      "\n",
      " 10%|█         | 103/1000 [4:26:20<28:18:39, 113.62s/it, best loss: -0.668604651163]\u001b[A\n",
      "\u001b[AParameters with this testing accuracy 0.459302325581 and loss 1.94219332855 :\n",
      "\n",
      " 10%|█         | 103/1000 [4:26:20<28:18:39, 113.62s/it, best loss: -0.668604651163]\u001b[A\n",
      "\u001b[A{'kernel': 'rbf', 'C': 9.82925568106444, 'gamma': 7.73940532768665, 'class_weight': 'balanced'}\n",
      "\n",
      " 10%|█         | 103/1000 [4:26:20<28:18:39, 113.62s/it, best loss: -0.668604651163]\u001b[A"
     ]
    },
    {
     "name": "stderr",
     "output_type": "stream",
     "text": [
      "Hyperopt:  10%|█         | 104/1000 [4:26:20<38:58:14, 156.58s/it]"
     ]
    },
    {
     "name": "stdout",
     "output_type": "stream",
     "text": [
      "\n",
      " 10%|█         | 104/1000 [4:26:20<38:58:14, 156.58s/it, best loss: -0.668604651163]\u001b[A\n",
      "\u001b[AParameters with this training accuracy 0.994191674734 and loss 0.427646043994 :\n",
      "\n",
      " 10%|█         | 104/1000 [4:28:13<38:58:14, 156.58s/it, best loss: -0.668604651163]\u001b[A\n",
      "\u001b[AParameters with this testing accuracy 0.668604651163 and loss 1.09766689705 :\n",
      "\n",
      " 10%|█         | 104/1000 [4:28:13<38:58:14, 156.58s/it, best loss: -0.668604651163]\u001b[A\n",
      "\u001b[A{'kernel': 'linear', 'C': 12.118331344714836, 'gamma': 4.078137557782746, 'class_weight': 'balanced'}\n",
      "\n",
      " 10%|█         | 104/1000 [4:28:13<38:58:14, 156.58s/it, best loss: -0.668604651163]\u001b[A"
     ]
    },
    {
     "name": "stderr",
     "output_type": "stream",
     "text": [
      "Hyperopt:  10%|█         | 105/1000 [4:28:13<35:38:45, 143.38s/it]"
     ]
    },
    {
     "name": "stdout",
     "output_type": "stream",
     "text": [
      "\n",
      " 10%|█         | 105/1000 [4:28:13<35:38:45, 143.38s/it, best loss: -0.668604651163]\u001b[A\n",
      "\u001b[AParameters with this training accuracy 0.0141981284285 and loss 1.96513311089 :\n",
      "\n",
      " 10%|█         | 105/1000 [4:32:19<35:38:45, 143.38s/it, best loss: -0.668604651163]\u001b[A\n",
      "\u001b[AParameters with this testing accuracy 0.0174418604651 and loss 1.9447055599 :\n",
      "\n",
      " 10%|█         | 105/1000 [4:32:19<35:38:45, 143.38s/it, best loss: -0.668604651163]\u001b[A\n",
      "\u001b[A{'kernel': 'sigmoid', 'C': 12.328304585833822, 'gamma': 6.0187757464042235, 'class_weight': 'balanced'}\n",
      "\n",
      " 10%|█         | 105/1000 [4:32:19<35:38:45, 143.38s/it, best loss: -0.668604651163]\u001b[A"
     ]
    },
    {
     "name": "stderr",
     "output_type": "stream",
     "text": [
      "Hyperopt:  11%|█         | 106/1000 [4:32:19<43:16:55, 174.29s/it]"
     ]
    },
    {
     "name": "stdout",
     "output_type": "stream",
     "text": [
      "\n",
      " 11%|█         | 106/1000 [4:32:19<43:16:55, 174.29s/it, best loss: -0.668604651163]\u001b[A\n",
      "\u001b[AParameters with this training accuracy 0.994837044208 and loss 0.423873776594 :\n",
      "\n",
      " 11%|█         | 106/1000 [4:34:17<43:16:55, 174.29s/it, best loss: -0.668604651163]\u001b[A\n",
      "\u001b[AParameters with this testing accuracy 0.665697674419 and loss 1.09779186391 :\n",
      "\n",
      " 11%|█         | 106/1000 [4:34:17<43:16:55, 174.29s/it, best loss: -0.668604651163]\u001b[A\n",
      "\u001b[A{'kernel': 'linear', 'C': 13.58571506325367, 'gamma': 6.843778512313872, 'class_weight': 'balanced'}\n",
      "\n",
      " 11%|█         | 106/1000 [4:34:17<43:16:55, 174.29s/it, best loss: -0.668604651163]\u001b[A"
     ]
    },
    {
     "name": "stderr",
     "output_type": "stream",
     "text": [
      "Hyperopt:  11%|█         | 107/1000 [4:34:17<39:00:34, 157.26s/it]"
     ]
    },
    {
     "name": "stdout",
     "output_type": "stream",
     "text": [
      "\n",
      " 11%|█         | 107/1000 [4:34:17<39:00:34, 157.26s/it, best loss: -0.668604651163]\u001b[A\n",
      "\u001b[AParameters with this training accuracy 0.996450467893 and loss 0.418595408682 :\n",
      "\n",
      " 11%|█         | 107/1000 [4:36:14<39:00:34, 157.26s/it, best loss: -0.668604651163]\u001b[A\n",
      "\u001b[AParameters with this testing accuracy 0.65988372093 and loss 1.10271689506 :\n",
      "\n",
      " 11%|█         | 107/1000 [4:36:14<39:00:34, 157.26s/it, best loss: -0.668604651163]\u001b[A\n",
      "\u001b[A{'kernel': 'linear', 'C': 17.859167577008336, 'gamma': 2.210377761054582, 'class_weight': None}\n",
      "\n",
      " 11%|█         | 107/1000 [4:36:14<39:00:34, 157.26s/it, best loss: -0.668604651163]\u001b[A"
     ]
    },
    {
     "name": "stderr",
     "output_type": "stream",
     "text": [
      "Hyperopt:  11%|█         | 108/1000 [4:36:14<36:01:08, 145.37s/it]"
     ]
    },
    {
     "name": "stdout",
     "output_type": "stream",
     "text": [
      "\n",
      " 11%|█         | 108/1000 [4:36:14<36:01:08, 145.37s/it, best loss: -0.668604651163]\u001b[A\n",
      "\u001b[AParameters with this training accuracy 0.992900935786 and loss 0.42973583206 :\n",
      "\n",
      " 11%|█         | 108/1000 [4:38:11<36:01:08, 145.37s/it, best loss: -0.668604651163]\u001b[A\n",
      "\u001b[AParameters with this testing accuracy 0.665697674419 and loss 1.09719274566 :\n",
      "\n",
      " 11%|█         | 108/1000 [4:38:11<36:01:08, 145.37s/it, best loss: -0.668604651163]\u001b[A\n",
      "\u001b[A{'kernel': 'linear', 'C': 11.110876982983921, 'gamma': 5.1060103507519905, 'class_weight': 'balanced'}\n",
      "\n",
      " 11%|█         | 108/1000 [4:38:11<36:01:08, 145.37s/it, best loss: -0.668604651163]\u001b[A"
     ]
    },
    {
     "name": "stderr",
     "output_type": "stream",
     "text": [
      "Hyperopt:  11%|█         | 109/1000 [4:38:11<33:50:48, 136.76s/it]"
     ]
    },
    {
     "name": "stdout",
     "output_type": "stream",
     "text": [
      "\n",
      " 11%|█         | 109/1000 [4:38:11<33:50:48, 136.76s/it, best loss: -0.668604651163]\u001b[A\n",
      "\u001b[AParameters with this training accuracy 0.996450467893 and loss 0.848861822175 :\n",
      "\n",
      " 11%|█         | 109/1000 [4:39:43<33:50:48, 136.76s/it, best loss: -0.668604651163]\u001b[A\n",
      "\u001b[AParameters with this testing accuracy 0.56976744186 and loss 1.32038475884 :\n",
      "\n",
      " 11%|█         | 109/1000 [4:39:43<33:50:48, 136.76s/it, best loss: -0.668604651163]\u001b[A\n",
      "\u001b[A{'kernel': 'poly', 'C': 13.045015913530321, 'gamma': 9.460842521369432, 'class_weight': 'balanced'}\n",
      "\n",
      " 11%|█         | 109/1000 [4:39:43<33:50:48, 136.76s/it, best loss: -0.668604651163]\u001b[A"
     ]
    },
    {
     "name": "stderr",
     "output_type": "stream",
     "text": [
      "Hyperopt:  11%|█         | 110/1000 [4:39:43<30:30:30, 123.41s/it]"
     ]
    },
    {
     "name": "stdout",
     "output_type": "stream",
     "text": [
      "\n",
      " 11%|█         | 110/1000 [4:39:43<30:30:30, 123.40s/it, best loss: -0.668604651163]\u001b[A\n",
      "\u001b[AParameters with this training accuracy 0.991932881575 and loss 0.43786346459 :\n",
      "\n",
      " 11%|█         | 110/1000 [4:41:37<30:30:30, 123.40s/it, best loss: -0.668604651163]\u001b[A\n",
      "\u001b[AParameters with this testing accuracy 0.662790697674 and loss 1.09688082004 :\n",
      "\n",
      " 11%|█         | 110/1000 [4:41:37<30:30:30, 123.40s/it, best loss: -0.668604651163]\u001b[A\n",
      "\u001b[A{'kernel': 'linear', 'C': 8.730254482526483, 'gamma': 4.023358033576786, 'class_weight': 'balanced'}\n",
      "\n",
      " 11%|█         | 110/1000 [4:41:37<30:30:30, 123.40s/it, best loss: -0.668604651163]\u001b[A"
     ]
    },
    {
     "name": "stderr",
     "output_type": "stream",
     "text": [
      "Hyperopt:  11%|█         | 111/1000 [4:41:37<29:46:49, 120.60s/it]"
     ]
    },
    {
     "name": "stdout",
     "output_type": "stream",
     "text": [
      "\n",
      " 11%|█         | 111/1000 [4:41:37<29:46:49, 120.60s/it, best loss: -0.668604651163]\u001b[A\n",
      "\u001b[AParameters with this training accuracy 0.996450467893 and loss 2.2442240031 :\n",
      "\n",
      " 11%|█         | 111/1000 [4:45:50<29:46:49, 120.60s/it, best loss: -0.668604651163]\u001b[A\n",
      "\u001b[AParameters with this testing accuracy 0.462209302326 and loss 1.94411194317 :\n",
      "\n",
      " 11%|█         | 111/1000 [4:45:50<29:46:49, 120.60s/it, best loss: -0.668604651163]\u001b[A\n",
      "\u001b[A{'kernel': 'rbf', 'C': 15.58794528495513, 'gamma': 1.2940777246957866, 'class_weight': 'balanced'}\n",
      "\n",
      " 11%|█         | 111/1000 [4:45:50<29:46:49, 120.60s/it, best loss: -0.668604651163]\u001b[A"
     ]
    },
    {
     "name": "stderr",
     "output_type": "stream",
     "text": [
      "Hyperopt:  11%|█         | 112/1000 [4:45:50<39:29:28, 160.10s/it]"
     ]
    },
    {
     "name": "stdout",
     "output_type": "stream",
     "text": [
      "\n",
      " 11%|█         | 112/1000 [4:45:50<39:29:28, 160.10s/it, best loss: -0.668604651163]\u001b[A\n",
      "\u001b[AParameters with this training accuracy 0.416908680219 and loss 1.94968752896 :\n",
      "\n",
      " 11%|█         | 112/1000 [4:47:17<39:29:28, 160.10s/it, best loss: -0.668604651163]\u001b[A\n",
      "\u001b[AParameters with this testing accuracy 0.468023255814 and loss 1.93798846763 :\n",
      "\n",
      " 11%|█         | 112/1000 [4:47:17<39:29:28, 160.10s/it, best loss: -0.668604651163]\u001b[A\n",
      "\u001b[A{'kernel': 'sigmoid', 'C': 4.4670132229618895, 'gamma': 1.8179389473558967, 'class_weight': None}\n",
      "\n",
      " 11%|█         | 112/1000 [4:47:17<39:29:28, 160.10s/it, best loss: -0.668604651163]\u001b[A"
     ]
    },
    {
     "name": "stderr",
     "output_type": "stream",
     "text": [
      "Hyperopt:  11%|█▏        | 113/1000 [4:47:17<34:05:18, 138.35s/it]"
     ]
    },
    {
     "name": "stdout",
     "output_type": "stream",
     "text": [
      "\n",
      " 11%|█▏        | 113/1000 [4:47:17<34:05:19, 138.35s/it, best loss: -0.668604651163]\u001b[A\n",
      "\u001b[AParameters with this training accuracy 0.989351403679 and loss 0.443809128608 :\n",
      "\n",
      " 11%|█▏        | 113/1000 [4:49:10<34:05:19, 138.35s/it, best loss: -0.668604651163]\u001b[A\n",
      "\u001b[AParameters with this testing accuracy 0.662790697674 and loss 1.09636472513 :\n",
      "\n",
      " 11%|█▏        | 113/1000 [4:49:10<34:05:19, 138.35s/it, best loss: -0.668604651163]\u001b[A\n",
      "\u001b[A{'kernel': 'linear', 'C': 7.71075437705506, 'gamma': 5.384274391686498, 'class_weight': 'balanced'}\n",
      "\n",
      " 11%|█▏        | 113/1000 [4:49:10<34:05:19, 138.35s/it, best loss: -0.668604651163]\u001b[A"
     ]
    },
    {
     "name": "stderr",
     "output_type": "stream",
     "text": [
      "Hyperopt:  11%|█▏        | 114/1000 [4:49:10<32:08:26, 130.59s/it]"
     ]
    },
    {
     "name": "stdout",
     "output_type": "stream",
     "text": [
      "\n",
      " 11%|█▏        | 114/1000 [4:49:10<32:08:26, 130.59s/it, best loss: -0.668604651163]\u001b[A\n",
      "\u001b[AParameters with this training accuracy 0.994514359471 and loss 0.428317049467 :\n",
      "\n",
      " 11%|█▏        | 114/1000 [4:51:06<32:08:26, 130.59s/it, best loss: -0.668604651163]\u001b[A\n",
      "\u001b[AParameters with this testing accuracy 0.665697674419 and loss 1.09901458716 :\n",
      "\n",
      " 11%|█▏        | 114/1000 [4:51:06<32:08:26, 130.59s/it, best loss: -0.668604651163]\u001b[A\n",
      "\u001b[A{'kernel': 'linear', 'C': 12.897697221699456, 'gamma': 8.751211609872092, 'class_weight': 'balanced'}\n",
      "\n",
      " 11%|█▏        | 114/1000 [4:51:06<32:08:26, 130.59s/it, best loss: -0.668604651163]\u001b[A"
     ]
    },
    {
     "name": "stderr",
     "output_type": "stream",
     "text": [
      "Hyperopt:  12%|█▏        | 115/1000 [4:51:06<31:03:58, 126.37s/it]"
     ]
    },
    {
     "name": "stdout",
     "output_type": "stream",
     "text": [
      "\n",
      " 12%|█▏        | 115/1000 [4:51:06<31:03:58, 126.37s/it, best loss: -0.668604651163]\u001b[A\n",
      "\u001b[AParameters with this training accuracy 0.660535656663 and loss 1.02559166645 :\n",
      "\n",
      " 12%|█▏        | 115/1000 [4:52:52<31:03:58, 126.37s/it, best loss: -0.668604651163]\u001b[A\n",
      "\u001b[AParameters with this testing accuracy 0.482558139535 and loss 1.22619118581 :\n",
      "\n",
      " 12%|█▏        | 115/1000 [4:52:52<31:03:58, 126.37s/it, best loss: -0.668604651163]\u001b[A\n",
      "\u001b[A{'kernel': 'linear', 'C': 0.23018900836913048, 'gamma': 2.956372429135161, 'class_weight': 'balanced'}\n",
      "\n",
      " 12%|█▏        | 115/1000 [4:52:52<31:03:58, 126.37s/it, best loss: -0.668604651163]\u001b[A"
     ]
    },
    {
     "name": "stderr",
     "output_type": "stream",
     "text": [
      "Hyperopt:  12%|█▏        | 116/1000 [4:52:52<29:30:17, 120.16s/it]"
     ]
    },
    {
     "name": "stdout",
     "output_type": "stream",
     "text": [
      "\n",
      " 12%|█▏        | 116/1000 [4:52:52<29:30:17, 120.16s/it, best loss: -0.668604651163]\u001b[A\n",
      "\u001b[AParameters with this training accuracy 0.996450467893 and loss 0.849877626633 :\n",
      "\n",
      " 12%|█▏        | 116/1000 [4:54:25<29:30:17, 120.16s/it, best loss: -0.668604651163]\u001b[A\n",
      "\u001b[AParameters with this testing accuracy 0.56976744186 and loss 1.32068366212 :\n",
      "\n",
      " 12%|█▏        | 116/1000 [4:54:25<29:30:17, 120.16s/it, best loss: -0.668604651163]\u001b[A\n",
      "\u001b[A{'kernel': 'poly', 'C': 11.435994773369327, 'gamma': 9.716685164988878, 'class_weight': 'balanced'}\n",
      "\n",
      " 12%|█▏        | 116/1000 [4:54:25<29:30:17, 120.16s/it, best loss: -0.668604651163]\u001b[A"
     ]
    },
    {
     "name": "stderr",
     "output_type": "stream",
     "text": [
      "Hyperopt:  12%|█▏        | 117/1000 [4:54:25<27:26:32, 111.88s/it]"
     ]
    },
    {
     "name": "stdout",
     "output_type": "stream",
     "text": [
      "\n",
      " 12%|█▏        | 117/1000 [4:54:25<27:26:32, 111.88s/it, best loss: -0.668604651163]\u001b[A\n",
      "\u001b[AParameters with this training accuracy 0.995482413682 and loss 0.423829247492 :\n",
      "\n",
      " 12%|█▏        | 117/1000 [4:56:21<27:26:32, 111.88s/it, best loss: -0.668604651163]\u001b[A\n",
      "\u001b[AParameters with this testing accuracy 0.662790697674 and loss 1.09875425923 :\n",
      "\n",
      " 12%|█▏        | 117/1000 [4:56:21<27:26:32, 111.88s/it, best loss: -0.668604651163]\u001b[A\n",
      "\u001b[A{'kernel': 'linear', 'C': 16.806454033466476, 'gamma': 6.528024433368908, 'class_weight': 'balanced'}\n",
      "\n",
      " 12%|█▏        | 117/1000 [4:56:21<27:26:32, 111.88s/it, best loss: -0.668604651163]\u001b[A"
     ]
    },
    {
     "name": "stderr",
     "output_type": "stream",
     "text": [
      "Hyperopt:  12%|█▏        | 118/1000 [4:56:21<27:43:35, 113.17s/it]"
     ]
    },
    {
     "name": "stdout",
     "output_type": "stream",
     "text": [
      "\n",
      " 12%|█▏        | 118/1000 [4:56:21<27:43:35, 113.17s/it, best loss: -0.668604651163]\u001b[A\n",
      "\u001b[AParameters with this training accuracy 0.996450467893 and loss 2.71797533492 :\n",
      "\n",
      " 12%|█▏        | 118/1000 [5:00:31<27:43:35, 113.17s/it, best loss: -0.668604651163]\u001b[A\n",
      "\u001b[AParameters with this testing accuracy 0.459302325581 and loss 1.94127519946 :\n",
      "\n",
      " 12%|█▏        | 118/1000 [5:00:31<27:43:35, 113.17s/it, best loss: -0.668604651163]\u001b[A\n",
      "\u001b[A{'kernel': 'rbf', 'C': 9.201482354763595, 'gamma': 3.358637834834152, 'class_weight': None}\n",
      "\n",
      " 12%|█▏        | 118/1000 [5:00:31<27:43:35, 113.17s/it, best loss: -0.668604651163]\u001b[A"
     ]
    },
    {
     "name": "stderr",
     "output_type": "stream",
     "text": [
      "Hyperopt:  12%|█▏        | 119/1000 [5:00:31<37:46:21, 154.35s/it]"
     ]
    },
    {
     "name": "stdout",
     "output_type": "stream",
     "text": [
      "\n",
      " 12%|█▏        | 119/1000 [5:00:31<37:46:21, 154.35s/it, best loss: -0.668604651163]\u001b[A\n",
      "\u001b[AParameters with this training accuracy 0.994837044208 and loss 0.425692918267 :\n",
      "\n",
      " 12%|█▏        | 119/1000 [5:02:25<37:46:21, 154.35s/it, best loss: -0.668604651163]\u001b[A\n",
      "\u001b[AParameters with this testing accuracy 0.665697674419 and loss 1.09758839016 :\n",
      "\n",
      " 12%|█▏        | 119/1000 [5:02:25<37:46:21, 154.35s/it, best loss: -0.668604651163]\u001b[A\n",
      "\u001b[A{'kernel': 'linear', 'C': 13.309722138171155, 'gamma': 7.232469420199104, 'class_weight': 'balanced'}\n",
      "\n",
      " 12%|█▏        | 119/1000 [5:02:25<37:46:21, 154.35s/it, best loss: -0.668604651163]\u001b[A"
     ]
    },
    {
     "name": "stderr",
     "output_type": "stream",
     "text": [
      "Hyperopt:  12%|█▏        | 120/1000 [5:02:25<34:46:23, 142.25s/it]"
     ]
    },
    {
     "name": "stdout",
     "output_type": "stream",
     "text": [
      "\n",
      " 12%|█▏        | 120/1000 [5:02:25<34:46:23, 142.25s/it, best loss: -0.668604651163]\u001b[A\n",
      "\u001b[AParameters with this training accuracy 0.0235559858019 and loss 1.97262978337 :\n",
      "\n",
      " 12%|█▏        | 120/1000 [5:06:33<34:46:23, 142.25s/it, best loss: -0.668604651163]\u001b[A\n",
      "\u001b[AParameters with this testing accuracy 0.0348837209302 and loss 1.94710475186 :\n",
      "\n",
      " 12%|█▏        | 120/1000 [5:06:33<34:46:23, 142.25s/it, best loss: -0.668604651163]\u001b[A\n",
      "\u001b[A{'kernel': 'sigmoid', 'C': 19.346865522767498, 'gamma': 7.910189268333773, 'class_weight': 'balanced'}\n",
      "\n",
      " 12%|█▏        | 120/1000 [5:06:33<34:46:23, 142.25s/it, best loss: -0.668604651163]\u001b[A"
     ]
    },
    {
     "name": "stderr",
     "output_type": "stream",
     "text": [
      "Hyperopt:  12%|█▏        | 121/1000 [5:06:33<42:29:30, 174.03s/it]"
     ]
    },
    {
     "name": "stdout",
     "output_type": "stream",
     "text": [
      "\n",
      " 12%|█▏        | 121/1000 [5:06:33<42:29:30, 174.03s/it, best loss: -0.668604651163]\u001b[A\n",
      "\u001b[AParameters with this training accuracy 0.992900935786 and loss 0.429966090249 :\n",
      "\n",
      " 12%|█▏        | 121/1000 [5:08:28<42:29:30, 174.03s/it, best loss: -0.668604651163]\u001b[A\n",
      "\u001b[AParameters with this testing accuracy 0.665697674419 and loss 1.09700101794 :\n",
      "\n",
      " 12%|█▏        | 121/1000 [5:08:28<42:29:30, 174.03s/it, best loss: -0.668604651163]\u001b[A\n",
      "\u001b[A{'kernel': 'linear', 'C': 10.184728563329566, 'gamma': 9.097473755730087, 'class_weight': 'balanced'}\n",
      "\n",
      " 12%|█▏        | 121/1000 [5:08:28<42:29:30, 174.03s/it, best loss: -0.668604651163]\u001b[A"
     ]
    },
    {
     "name": "stderr",
     "output_type": "stream",
     "text": [
      "Hyperopt:  12%|█▏        | 122/1000 [5:08:28<38:04:17, 156.10s/it]"
     ]
    },
    {
     "name": "stdout",
     "output_type": "stream",
     "text": [
      "\n",
      " 12%|█▏        | 122/1000 [5:08:28<38:04:17, 156.10s/it, best loss: -0.668604651163]\u001b[A\n",
      "\u001b[AParameters with this training accuracy 0.994191674734 and loss 0.426575710811 :\n",
      "\n",
      " 12%|█▏        | 122/1000 [5:10:21<38:04:17, 156.10s/it, best loss: -0.668604651163]\u001b[A\n",
      "\u001b[AParameters with this testing accuracy 0.668604651163 and loss 1.09715110552 :\n",
      "\n",
      " 12%|█▏        | 122/1000 [5:10:21<38:04:17, 156.10s/it, best loss: -0.668604651163]\u001b[A\n",
      "\u001b[A{'kernel': 'linear', 'C': 12.465059471594518, 'gamma': 8.468384607567224, 'class_weight': 'balanced'}\n",
      "\n",
      " 12%|█▏        | 122/1000 [5:10:21<38:04:17, 156.10s/it, best loss: -0.668604651163]\u001b[A"
     ]
    },
    {
     "name": "stderr",
     "output_type": "stream",
     "text": [
      "Hyperopt:  12%|█▏        | 123/1000 [5:10:22<34:56:27, 143.43s/it]"
     ]
    },
    {
     "name": "stdout",
     "output_type": "stream",
     "text": [
      "\n",
      " 12%|█▏        | 123/1000 [5:10:22<34:56:27, 143.43s/it, best loss: -0.668604651163]\u001b[A\n",
      "\u001b[AParameters with this training accuracy 0.996450467893 and loss 0.850465799754 :\n",
      "\n",
      " 12%|█▏        | 123/1000 [5:11:54<34:56:27, 143.43s/it, best loss: -0.668604651163]\u001b[A\n",
      "\u001b[AParameters with this testing accuracy 0.56976744186 and loss 1.32123347288 :\n",
      "\n",
      " 12%|█▏        | 123/1000 [5:11:54<34:56:27, 143.43s/it, best loss: -0.668604651163]\u001b[A\n",
      "\u001b[A{'kernel': 'poly', 'C': 11.701363394062987, 'gamma': 0.5310815073981621, 'class_weight': None}\n",
      "\n",
      " 12%|█▏        | 123/1000 [5:11:54<34:56:27, 143.43s/it, best loss: -0.668604651163]\u001b[A"
     ]
    },
    {
     "name": "stderr",
     "output_type": "stream",
     "text": [
      "Hyperopt:  12%|█▏        | 124/1000 [5:11:54<31:09:31, 128.05s/it]"
     ]
    },
    {
     "name": "stdout",
     "output_type": "stream",
     "text": [
      "\n",
      " 12%|█▏        | 124/1000 [5:11:54<31:09:31, 128.05s/it, best loss: -0.668604651163]\u001b[A\n",
      "\u001b[AParameters with this training accuracy 0.995159728945 and loss 0.424356724125 :\n",
      "\n",
      " 12%|█▏        | 124/1000 [5:13:51<31:09:31, 128.05s/it, best loss: -0.668604651163]\u001b[A\n",
      "\u001b[AParameters with this testing accuracy 0.665697674419 and loss 1.09799583884 :\n",
      "\n",
      " 12%|█▏        | 124/1000 [5:13:51<31:09:31, 128.05s/it, best loss: -0.668604651163]\u001b[A\n",
      "\u001b[A{'kernel': 'linear', 'C': 13.948516725633493, 'gamma': 8.153261578541734, 'class_weight': 'balanced'}\n",
      "\n",
      " 12%|█▏        | 124/1000 [5:13:51<31:09:31, 128.05s/it, best loss: -0.668604651163]\u001b[A"
     ]
    },
    {
     "name": "stderr",
     "output_type": "stream",
     "text": [
      "Hyperopt:  12%|█▎        | 125/1000 [5:13:51<30:21:16, 124.89s/it]"
     ]
    },
    {
     "name": "stdout",
     "output_type": "stream",
     "text": [
      "\n",
      " 12%|█▎        | 125/1000 [5:13:51<30:21:16, 124.89s/it, best loss: -0.668604651163]\u001b[A\n",
      "\u001b[AParameters with this training accuracy 0.996450467893 and loss 2.86486803388 :\n",
      "\n",
      " 12%|█▎        | 125/1000 [5:18:05<30:21:16, 124.89s/it, best loss: -0.668604651163]\u001b[A\n",
      "\u001b[AParameters with this testing accuracy 0.459302325581 and loss 1.94457661792 :\n",
      "\n",
      " 12%|█▎        | 125/1000 [5:18:05<30:21:16, 124.89s/it, best loss: -0.668604651163]\u001b[A\n",
      "\u001b[A{'kernel': 'rbf', 'C': 6.5421074187909305, 'gamma': 8.635641176214556, 'class_weight': 'balanced'}\n",
      "\n",
      " 12%|█▎        | 125/1000 [5:18:05<30:21:16, 124.89s/it, best loss: -0.668604651163]\u001b[A"
     ]
    },
    {
     "name": "stderr",
     "output_type": "stream",
     "text": [
      "Hyperopt:  13%|█▎        | 126/1000 [5:18:05<39:43:11, 163.61s/it]"
     ]
    },
    {
     "name": "stdout",
     "output_type": "stream",
     "text": [
      "\n",
      " 13%|█▎        | 126/1000 [5:18:05<39:43:11, 163.61s/it, best loss: -0.668604651163]\u001b[A\n",
      "\u001b[AParameters with this training accuracy 0.991610196838 and loss 0.43967717629 :\n",
      "\n",
      " 13%|█▎        | 126/1000 [5:19:56<39:43:11, 163.61s/it, best loss: -0.668604651163]\u001b[A\n",
      "\u001b[AParameters with this testing accuracy 0.662790697674 and loss 1.09677259951 :\n",
      "\n",
      " 13%|█▎        | 126/1000 [5:19:56<39:43:11, 163.61s/it, best loss: -0.668604651163]\u001b[A\n",
      "\u001b[A{'kernel': 'linear', 'C': 8.446850552948318, 'gamma': 9.560294041499798, 'class_weight': 'balanced'}\n",
      "\n",
      " 13%|█▎        | 126/1000 [5:19:56<39:43:11, 163.61s/it, best loss: -0.668604651163]\u001b[A"
     ]
    },
    {
     "name": "stderr",
     "output_type": "stream",
     "text": [
      "Hyperopt:  13%|█▎        | 127/1000 [5:19:56<35:52:03, 147.91s/it]"
     ]
    },
    {
     "name": "stdout",
     "output_type": "stream",
     "text": [
      "\n",
      " 13%|█▎        | 127/1000 [5:19:56<35:52:03, 147.91s/it, best loss: -0.668604651163]\u001b[A\n",
      "\u001b[AParameters with this training accuracy 0.431106808648 and loss 1.97024826884 :\n",
      "\n",
      " 13%|█▎        | 127/1000 [5:24:02<35:52:03, 147.91s/it, best loss: -0.668604651163]\u001b[A\n",
      "\u001b[AParameters with this testing accuracy 0.468023255814 and loss 1.94432333429 :\n",
      "\n",
      " 13%|█▎        | 127/1000 [5:24:02<35:52:03, 147.91s/it, best loss: -0.668604651163]\u001b[A\n",
      "\u001b[A{'kernel': 'sigmoid', 'C': 14.531574944077613, 'gamma': 6.9246190923620805, 'class_weight': 'balanced'}\n",
      "\n",
      " 13%|█▎        | 127/1000 [5:24:02<35:52:03, 147.91s/it, best loss: -0.668604651163]\u001b[A"
     ]
    },
    {
     "name": "stderr",
     "output_type": "stream",
     "text": [
      "Hyperopt:  13%|█▎        | 128/1000 [5:24:02<42:57:37, 177.36s/it]"
     ]
    },
    {
     "name": "stdout",
     "output_type": "stream",
     "text": [
      "\n",
      " 13%|█▎        | 128/1000 [5:24:02<42:57:37, 177.36s/it, best loss: -0.668604651163]\u001b[A\n",
      "\u001b[AParameters with this training accuracy 0.995805098419 and loss 0.421354182578 :\n",
      "\n",
      " 13%|█▎        | 128/1000 [5:25:58<42:57:37, 177.36s/it, best loss: -0.668604651163]\u001b[A\n",
      "\u001b[AParameters with this testing accuracy 0.65988372093 and loss 1.10416738107 :\n",
      "\n",
      " 13%|█▎        | 128/1000 [5:25:58<42:57:37, 177.36s/it, best loss: -0.668604651163]\u001b[A\n",
      "\u001b[A{'kernel': 'linear', 'C': 10.894417563808368, 'gamma': 5.840983458185734, 'class_weight': None}\n",
      "\n",
      " 13%|█▎        | 128/1000 [5:25:58<42:57:37, 177.36s/it, best loss: -0.668604651163]\u001b[A"
     ]
    },
    {
     "name": "stderr",
     "output_type": "stream",
     "text": [
      "Hyperopt:  13%|█▎        | 129/1000 [5:25:58<38:25:57, 158.85s/it]"
     ]
    },
    {
     "name": "stdout",
     "output_type": "stream",
     "text": [
      "\n",
      " 13%|█▎        | 129/1000 [5:25:58<38:25:57, 158.85s/it, best loss: -0.668604651163]\u001b[A\n",
      "\u001b[AParameters with this training accuracy 0.992578251049 and loss 0.434975671564 :\n",
      "\n",
      " 13%|█▎        | 129/1000 [5:27:53<38:25:57, 158.85s/it, best loss: -0.668604651163]\u001b[A\n",
      "\u001b[AParameters with this testing accuracy 0.662790697674 and loss 1.09729876335 :\n",
      "\n",
      " 13%|█▎        | 129/1000 [5:27:53<38:25:57, 158.85s/it, best loss: -0.668604651163]\u001b[A\n",
      "\u001b[A{'kernel': 'linear', 'C': 9.481348979837698, 'gamma': 6.236037407328423, 'class_weight': 'balanced'}\n",
      "\n",
      " 13%|█▎        | 129/1000 [5:27:53<38:25:57, 158.85s/it, best loss: -0.668604651163]\u001b[A"
     ]
    },
    {
     "name": "stderr",
     "output_type": "stream",
     "text": [
      "Hyperopt:  13%|█▎        | 130/1000 [5:27:53<35:10:13, 145.53s/it]"
     ]
    },
    {
     "name": "stdout",
     "output_type": "stream",
     "text": [
      "\n",
      " 13%|█▎        | 130/1000 [5:27:53<35:10:13, 145.53s/it, best loss: -0.668604651163]\u001b[A\n",
      "\u001b[AParameters with this training accuracy 0.995482413682 and loss 0.421537788467 :\n",
      "\n",
      " 13%|█▎        | 130/1000 [5:29:50<35:10:13, 145.53s/it, best loss: -0.668604651163]\u001b[A\n",
      "\u001b[AParameters with this testing accuracy 0.662790697674 and loss 1.09809602632 :\n",
      "\n",
      " 13%|█▎        | 130/1000 [5:29:50<35:10:13, 145.53s/it, best loss: -0.668604651163]\u001b[A\n",
      "\u001b[A{'kernel': 'linear', 'C': 16.296386371754252, 'gamma': 5.507334062748967, 'class_weight': 'balanced'}\n",
      "\n",
      " 13%|█▎        | 130/1000 [5:29:50<35:10:13, 145.53s/it, best loss: -0.668604651163]\u001b[A"
     ]
    },
    {
     "name": "stderr",
     "output_type": "stream",
     "text": [
      "Hyperopt:  13%|█▎        | 131/1000 [5:29:50<33:06:45, 137.18s/it]"
     ]
    },
    {
     "name": "stdout",
     "output_type": "stream",
     "text": [
      "\n",
      " 13%|█▎        | 131/1000 [5:29:50<33:06:45, 137.18s/it, best loss: -0.668604651163]\u001b[A\n",
      "\u001b[AParameters with this training accuracy 0.996450467893 and loss 0.854696571344 :\n",
      "\n",
      " 13%|█▎        | 131/1000 [5:31:24<33:06:45, 137.18s/it, best loss: -0.668604651163]\u001b[A\n",
      "\u001b[AParameters with this testing accuracy 0.56976744186 and loss 1.32066673659 :\n",
      "\n",
      " 13%|█▎        | 131/1000 [5:31:24<33:06:45, 137.18s/it, best loss: -0.668604651163]\u001b[A\n",
      "\u001b[A{'kernel': 'poly', 'C': 18.09062403547191, 'gamma': 4.448543480370074, 'class_weight': 'balanced'}\n",
      "\n",
      " 13%|█▎        | 131/1000 [5:31:24<33:06:45, 137.18s/it, best loss: -0.668604651163]\u001b[A"
     ]
    },
    {
     "name": "stderr",
     "output_type": "stream",
     "text": [
      "Hyperopt:  13%|█▎        | 132/1000 [5:31:24<29:56:24, 124.18s/it]"
     ]
    },
    {
     "name": "stdout",
     "output_type": "stream",
     "text": [
      "\n",
      " 13%|█▎        | 132/1000 [5:31:24<29:56:24, 124.18s/it, best loss: -0.668604651163]\u001b[A\n",
      "\u001b[AParameters with this training accuracy 0.996450467893 and loss 2.83360535219 :\n",
      "\n",
      " 13%|█▎        | 132/1000 [5:35:39<29:56:24, 124.18s/it, best loss: -0.668604651163]\u001b[A\n",
      "\u001b[AParameters with this testing accuracy 0.459302325581 and loss 1.9415921124 :\n",
      "\n",
      " 13%|█▎        | 132/1000 [5:35:39<29:56:24, 124.18s/it, best loss: -0.668604651163]\u001b[A\n",
      "\u001b[A{'kernel': 'rbf', 'C': 17.339799474055745, 'gamma': 4.9826020480046225, 'class_weight': 'balanced'}\n",
      "\n",
      " 13%|█▎        | 132/1000 [5:35:39<29:56:24, 124.18s/it, best loss: -0.668604651163]\u001b[A"
     ]
    },
    {
     "name": "stderr",
     "output_type": "stream",
     "text": [
      "Hyperopt:  13%|█▎        | 133/1000 [5:35:39<39:19:57, 163.32s/it]"
     ]
    },
    {
     "name": "stdout",
     "output_type": "stream",
     "text": [
      "\n",
      " 13%|█▎        | 133/1000 [5:35:39<39:19:57, 163.32s/it, best loss: -0.668604651163]\u001b[A\n",
      "\u001b[AParameters with this training accuracy 0.996450467893 and loss 0.418759344511 :\n",
      "\n",
      " 13%|█▎        | 133/1000 [5:37:34<39:19:57, 163.32s/it, best loss: -0.668604651163]\u001b[A\n",
      "\u001b[AParameters with this testing accuracy 0.65988372093 and loss 1.10322635756 :\n",
      "\n",
      " 13%|█▎        | 133/1000 [5:37:34<39:19:57, 163.32s/it, best loss: -0.668604651163]\u001b[A\n",
      "\u001b[A{'kernel': 'linear', 'C': 15.087804697329553, 'gamma': 9.250143988245707, 'class_weight': None}\n",
      "\n",
      " 13%|█▎        | 133/1000 [5:37:34<39:19:57, 163.32s/it, best loss: -0.668604651163]\u001b[A"
     ]
    },
    {
     "name": "stderr",
     "output_type": "stream",
     "text": [
      "Hyperopt:  13%|█▎        | 134/1000 [5:37:34<35:48:40, 148.87s/it]"
     ]
    },
    {
     "name": "stdout",
     "output_type": "stream",
     "text": [
      "\n",
      " 13%|█▎        | 134/1000 [5:37:34<35:48:40, 148.87s/it, best loss: -0.668604651163]\u001b[A\n",
      "\u001b[AParameters with this training accuracy 0.431106808648 and loss 1.96121960866 :\n",
      "\n",
      " 13%|█▎        | 134/1000 [5:41:43<35:48:40, 148.87s/it, best loss: -0.668604651163]\u001b[A\n",
      "\u001b[AParameters with this testing accuracy 0.468023255814 and loss 1.95482078771 :\n",
      "\n",
      " 13%|█▎        | 134/1000 [5:41:43<35:48:40, 148.87s/it, best loss: -0.668604651163]\u001b[A\n",
      "\u001b[A{'kernel': 'sigmoid', 'C': 5.950461668762329, 'gamma': 4.675105252604718, 'class_weight': 'balanced'}\n",
      "\n",
      " 13%|█▎        | 134/1000 [5:41:43<35:48:40, 148.87s/it, best loss: -0.668604651163]\u001b[A"
     ]
    },
    {
     "name": "stderr",
     "output_type": "stream",
     "text": [
      "Hyperopt:  14%|█▎        | 135/1000 [5:41:44<43:01:43, 179.08s/it]"
     ]
    },
    {
     "name": "stdout",
     "output_type": "stream",
     "text": [
      "\n",
      " 14%|█▎        | 135/1000 [5:41:43<43:01:44, 179.08s/it, best loss: -0.668604651163]\u001b[A\n",
      "\u001b[AParameters with this training accuracy 0.961277831559 and loss 0.5375767542 :\n",
      "\n",
      " 14%|█▎        | 135/1000 [5:43:29<43:01:44, 179.08s/it, best loss: -0.668604651163]\u001b[A\n",
      "\u001b[AParameters with this testing accuracy 0.654069767442 and loss 1.10329802991 :\n",
      "\n",
      " 14%|█▎        | 135/1000 [5:43:29<43:01:44, 179.08s/it, best loss: -0.668604651163]\u001b[A\n",
      "\u001b[A{'kernel': 'linear', 'C': 2.7855546987227893, 'gamma': 7.113342953143789, 'class_weight': 'balanced'}\n",
      "\n",
      " 14%|█▎        | 135/1000 [5:43:29<43:01:44, 179.08s/it, best loss: -0.668604651163]\u001b[A"
     ]
    },
    {
     "name": "stderr",
     "output_type": "stream",
     "text": [
      "Hyperopt:  14%|█▎        | 136/1000 [5:43:29<37:42:39, 157.13s/it]"
     ]
    },
    {
     "name": "stdout",
     "output_type": "stream",
     "text": [
      "\n",
      " 14%|█▎        | 136/1000 [5:43:29<37:42:39, 157.13s/it, best loss: -0.668604651163]\u001b[A\n",
      "\u001b[AParameters with this training accuracy 0.939980638916 and loss 0.606605695848 :\n",
      "\n",
      " 14%|█▎        | 136/1000 [5:45:14<37:42:39, 157.13s/it, best loss: -0.668604651163]\u001b[A\n",
      "\u001b[AParameters with this testing accuracy 0.625 and loss 1.1115182309 :\n",
      "\n",
      " 14%|█▎        | 136/1000 [5:45:14<37:42:39, 157.13s/it, best loss: -0.668604651163]\u001b[A\n",
      "\u001b[A{'kernel': 'linear', 'C': 1.8690277580702315, 'gamma': 7.419222800583509, 'class_weight': 'balanced'}\n",
      "\n",
      " 14%|█▎        | 136/1000 [5:45:14<37:42:39, 157.13s/it, best loss: -0.668604651163]\u001b[A"
     ]
    },
    {
     "name": "stderr",
     "output_type": "stream",
     "text": [
      "Hyperopt:  14%|█▎        | 137/1000 [5:45:14<33:54:48, 141.47s/it]"
     ]
    },
    {
     "name": "stdout",
     "output_type": "stream",
     "text": [
      "\n",
      " 14%|█▎        | 137/1000 [5:45:14<33:54:48, 141.47s/it, best loss: -0.668604651163]\u001b[A\n",
      "\u001b[AParameters with this training accuracy 0.996450467893 and loss 0.85154157835 :\n",
      "\n",
      " 14%|█▎        | 137/1000 [5:46:47<33:54:48, 141.47s/it, best loss: -0.668604651163]\u001b[A\n",
      "\u001b[AParameters with this testing accuracy 0.56976744186 and loss 1.32098910236 :\n",
      "\n",
      " 14%|█▎        | 137/1000 [5:46:47<33:54:48, 141.47s/it, best loss: -0.668604651163]\u001b[A\n",
      "\u001b[A{'kernel': 'poly', 'C': 5.428057349911083, 'gamma': 3.9567583072438404, 'class_weight': 'balanced'}\n",
      "\n",
      " 14%|█▎        | 137/1000 [5:46:47<33:54:48, 141.47s/it, best loss: -0.668604651163]\u001b[A"
     ]
    },
    {
     "name": "stderr",
     "output_type": "stream",
     "text": [
      "Hyperopt:  14%|█▍        | 138/1000 [5:46:47<30:21:16, 126.77s/it]"
     ]
    },
    {
     "name": "stdout",
     "output_type": "stream",
     "text": [
      "\n",
      " 14%|█▍        | 138/1000 [5:46:47<30:21:16, 126.77s/it, best loss: -0.668604651163]\u001b[A\n",
      "\u001b[AParameters with this training accuracy 0.995482413682 and loss 0.418718049822 :\n",
      "\n",
      " 14%|█▍        | 138/1000 [5:48:44<30:21:16, 126.77s/it, best loss: -0.668604651163]\u001b[A\n",
      "\u001b[AParameters with this testing accuracy 0.65988372093 and loss 1.10417972685 :\n",
      "\n",
      " 14%|█▍        | 138/1000 [5:48:44<30:21:16, 126.77s/it, best loss: -0.668604651163]\u001b[A\n",
      "\u001b[A{'kernel': 'linear', 'C': 7.103821307248861, 'gamma': 9.97992254433164, 'class_weight': None}\n",
      "\n",
      " 14%|█▍        | 138/1000 [5:48:44<30:21:16, 126.77s/it, best loss: -0.668604651163]\u001b[A"
     ]
    },
    {
     "name": "stderr",
     "output_type": "stream",
     "text": [
      "Hyperopt:  14%|█▍        | 139/1000 [5:48:44<29:35:56, 123.76s/it]"
     ]
    },
    {
     "name": "stdout",
     "output_type": "stream",
     "text": [
      "\n",
      " 14%|█▍        | 139/1000 [5:48:44<29:35:56, 123.76s/it, best loss: -0.668604651163]\u001b[A\n",
      "\u001b[AParameters with this training accuracy 0.996450467893 and loss 2.83561663353 :\n",
      "\n",
      " 14%|█▍        | 139/1000 [5:52:59<29:35:56, 123.76s/it, best loss: -0.668604651163]\u001b[A\n",
      "\u001b[AParameters with this testing accuracy 0.459302325581 and loss 1.94222904842 :\n",
      "\n",
      " 14%|█▍        | 139/1000 [5:52:59<29:35:56, 123.76s/it, best loss: -0.668604651163]\u001b[A\n",
      "\u001b[A{'kernel': 'rbf', 'C': 10.582596845546341, 'gamma': 6.18061804545411, 'class_weight': 'balanced'}\n",
      "\n",
      " 14%|█▍        | 139/1000 [5:52:59<29:35:56, 123.76s/it, best loss: -0.668604651163]\u001b[A"
     ]
    },
    {
     "name": "stderr",
     "output_type": "stream",
     "text": [
      "Hyperopt:  14%|█▍        | 140/1000 [5:52:59<39:01:39, 163.37s/it]"
     ]
    },
    {
     "name": "stdout",
     "output_type": "stream",
     "text": [
      "\n",
      " 14%|█▍        | 140/1000 [5:52:59<39:01:40, 163.37s/it, best loss: -0.668604651163]\u001b[A\n",
      "\u001b[AParameters with this training accuracy 0.995482413682 and loss 0.423057842374 :\n",
      "\n",
      " 14%|█▍        | 140/1000 [5:54:56<39:01:40, 163.37s/it, best loss: -0.668604651163]\u001b[A\n",
      "\u001b[AParameters with this testing accuracy 0.662790697674 and loss 1.09916514768 :\n",
      "\n",
      " 14%|█▍        | 140/1000 [5:54:56<39:01:40, 163.37s/it, best loss: -0.668604651163]\u001b[A\n",
      "\u001b[A{'kernel': 'linear', 'C': 18.710553362965598, 'gamma': 8.463543543847702, 'class_weight': 'balanced'}\n",
      "\n",
      " 14%|█▍        | 140/1000 [5:54:56<39:01:40, 163.37s/it, best loss: -0.668604651163]\u001b[A"
     ]
    },
    {
     "name": "stderr",
     "output_type": "stream",
     "text": [
      "Hyperopt:  14%|█▍        | 141/1000 [5:54:56<35:38:45, 149.39s/it]"
     ]
    },
    {
     "name": "stdout",
     "output_type": "stream",
     "text": [
      "\n",
      " 14%|█▍        | 141/1000 [5:54:56<35:38:45, 149.39s/it, best loss: -0.668604651163]\u001b[A\n",
      "\u001b[AParameters with this training accuracy 0.0190383994837 and loss 1.95381530169 :\n",
      "\n",
      " 14%|█▍        | 141/1000 [5:59:03<35:38:45, 149.39s/it, best loss: -0.668604651163]\u001b[A\n",
      "\u001b[AParameters with this testing accuracy 0.031976744186 and loss 1.94631863587 :\n",
      "\n",
      " 14%|█▍        | 141/1000 [5:59:03<35:38:45, 149.39s/it, best loss: -0.668604651163]\u001b[A\n",
      "\u001b[A{'kernel': 'sigmoid', 'C': 15.540999267437542, 'gamma': 3.589284895945966, 'class_weight': 'balanced'}\n",
      "\n",
      " 14%|█▍        | 141/1000 [5:59:03<35:38:45, 149.39s/it, best loss: -0.668604651163]\u001b[A"
     ]
    },
    {
     "name": "stderr",
     "output_type": "stream",
     "text": [
      "Hyperopt:  14%|█▍        | 142/1000 [5:59:03<42:33:18, 178.55s/it]"
     ]
    },
    {
     "name": "stdout",
     "output_type": "stream",
     "text": [
      "\n",
      " 14%|█▍        | 142/1000 [5:59:03<42:33:18, 178.55s/it, best loss: -0.668604651163]\u001b[A\n",
      "\u001b[AParameters with this training accuracy 0.994191674734 and loss 0.428482291351 :\n",
      "\n",
      " 14%|█▍        | 142/1000 [6:00:59<42:33:18, 178.55s/it, best loss: -0.668604651163]\u001b[A\n",
      "\u001b[AParameters with this testing accuracy 0.668604651163 and loss 1.09720859595 :\n",
      "\n",
      " 14%|█▍        | 142/1000 [6:00:59<42:33:18, 178.55s/it, best loss: -0.668604651163]\u001b[A\n",
      "\u001b[A{'kernel': 'linear', 'C': 12.497097066707122, 'gamma': 9.029749967684532, 'class_weight': 'balanced'}\n",
      "\n",
      " 14%|█▍        | 142/1000 [6:00:59<42:33:18, 178.55s/it, best loss: -0.668604651163]\u001b[A"
     ]
    },
    {
     "name": "stderr",
     "output_type": "stream",
     "text": [
      "Hyperopt:  14%|█▍        | 143/1000 [6:00:59<38:04:21, 159.93s/it]"
     ]
    },
    {
     "name": "stdout",
     "output_type": "stream",
     "text": [
      "\n",
      " 14%|█▍        | 143/1000 [6:00:59<38:04:21, 159.93s/it, best loss: -0.668604651163]\u001b[A\n",
      "\u001b[AParameters with this training accuracy 0.995482413682 and loss 0.425889618621 :\n",
      "\n",
      " 14%|█▍        | 143/1000 [6:02:55<38:04:21, 159.93s/it, best loss: -0.668604651163]\u001b[A\n",
      "\u001b[AParameters with this testing accuracy 0.662790697674 and loss 1.09927837136 :\n",
      "\n",
      " 14%|█▍        | 143/1000 [6:02:55<38:04:21, 159.93s/it, best loss: -0.668604651163]\u001b[A\n",
      "\u001b[A{'kernel': 'linear', 'C': 15.81920227320989, 'gamma': 7.7326944114111535, 'class_weight': 'balanced'}\n",
      "\n",
      " 14%|█▍        | 143/1000 [6:02:55<38:04:21, 159.93s/it, best loss: -0.668604651163]\u001b[A"
     ]
    },
    {
     "name": "stderr",
     "output_type": "stream",
     "text": [
      "Hyperopt:  14%|█▍        | 144/1000 [6:02:55<34:54:23, 146.80s/it]"
     ]
    },
    {
     "name": "stdout",
     "output_type": "stream",
     "text": [
      "\n",
      " 14%|█▍        | 144/1000 [6:02:55<34:54:23, 146.80s/it, best loss: -0.668604651163]\u001b[A\n",
      "\u001b[AParameters with this training accuracy 0.995805098419 and loss 0.418367223924 :\n",
      "\n",
      " 14%|█▍        | 144/1000 [6:04:52<34:54:23, 146.80s/it, best loss: -0.668604651163]\u001b[A\n",
      "\u001b[AParameters with this testing accuracy 0.65988372093 and loss 1.10321579683 :\n",
      "\n",
      " 14%|█▍        | 144/1000 [6:04:52<34:54:23, 146.80s/it, best loss: -0.668604651163]\u001b[A\n",
      "\u001b[A{'kernel': 'linear', 'C': 11.966998913946252, 'gamma': 3.207698817031779, 'class_weight': None}\n",
      "\n",
      " 14%|█▍        | 144/1000 [6:04:52<34:54:23, 146.80s/it, best loss: -0.668604651163]\u001b[A"
     ]
    },
    {
     "name": "stderr",
     "output_type": "stream",
     "text": [
      "Hyperopt:  14%|█▍        | 145/1000 [6:04:52<32:44:41, 137.87s/it]"
     ]
    },
    {
     "name": "stdout",
     "output_type": "stream",
     "text": [
      "\n",
      " 14%|█▍        | 145/1000 [6:04:52<32:44:41, 137.87s/it, best loss: -0.668604651163]\u001b[A\n",
      "\u001b[AParameters with this training accuracy 0.994837044208 and loss 0.426207406626 :\n",
      "\n",
      " 14%|█▍        | 145/1000 [6:06:48<32:44:41, 137.87s/it, best loss: -0.668604651163]\u001b[A\n",
      "\u001b[AParameters with this testing accuracy 0.665697674419 and loss 1.09691034579 :\n",
      "\n",
      " 14%|█▍        | 145/1000 [6:06:48<32:44:41, 137.87s/it, best loss: -0.668604651163]\u001b[A\n",
      "\u001b[A{'kernel': 'linear', 'C': 13.30957231220609, 'gamma': 5.66750059069927, 'class_weight': 'balanced'}\n",
      "\n",
      " 14%|█▍        | 145/1000 [6:06:48<32:44:41, 137.87s/it, best loss: -0.668604651163]\u001b[A"
     ]
    },
    {
     "name": "stderr",
     "output_type": "stream",
     "text": [
      "Hyperopt:  15%|█▍        | 146/1000 [6:06:48<31:06:53, 131.16s/it]"
     ]
    },
    {
     "name": "stdout",
     "output_type": "stream",
     "text": [
      "\n",
      " 15%|█▍        | 146/1000 [6:06:48<31:06:53, 131.16s/it, best loss: -0.668604651163]\u001b[A\n",
      "\u001b[AParameters with this training accuracy 0.993868989997 and loss 0.42755572781 :\n",
      "\n",
      " 15%|█▍        | 146/1000 [6:08:40<31:06:53, 131.16s/it, best loss: -0.668604651163]\u001b[A\n",
      "\u001b[AParameters with this testing accuracy 0.665697674419 and loss 1.09716614578 :\n",
      "\n",
      " 15%|█▍        | 146/1000 [6:08:40<31:06:53, 131.16s/it, best loss: -0.668604651163]\u001b[A\n",
      "\u001b[A{'kernel': 'linear', 'C': 11.81509591097549, 'gamma': 9.031039906343883, 'class_weight': 'balanced'}\n",
      "\n",
      " 15%|█▍        | 146/1000 [6:08:40<31:06:53, 131.16s/it, best loss: -0.668604651163]\u001b[A"
     ]
    },
    {
     "name": "stderr",
     "output_type": "stream",
     "text": [
      "Hyperopt:  15%|█▍        | 147/1000 [6:08:40<29:43:44, 125.47s/it]"
     ]
    },
    {
     "name": "stdout",
     "output_type": "stream",
     "text": [
      "\n",
      " 15%|█▍        | 147/1000 [6:08:40<29:43:44, 125.47s/it, best loss: -0.668604651163]\u001b[A\n",
      "\u001b[AParameters with this training accuracy 0.992900935786 and loss 0.43231307595 :\n",
      "\n",
      " 15%|█▍        | 147/1000 [6:10:35<29:43:44, 125.47s/it, best loss: -0.668604651163]\u001b[A\n",
      "\u001b[AParameters with this testing accuracy 0.665697674419 and loss 1.09865455643 :\n",
      "\n",
      " 15%|█▍        | 147/1000 [6:10:35<29:43:44, 125.47s/it, best loss: -0.668604651163]\u001b[A\n",
      "\u001b[A{'kernel': 'linear', 'C': 11.217858682214999, 'gamma': 6.601497067921315, 'class_weight': 'balanced'}\n",
      "\n",
      " 15%|█▍        | 147/1000 [6:10:35<29:43:44, 125.47s/it, best loss: -0.668604651163]\u001b[A"
     ]
    },
    {
     "name": "stderr",
     "output_type": "stream",
     "text": [
      "Hyperopt:  15%|█▍        | 148/1000 [6:10:35<28:57:30, 122.36s/it]"
     ]
    },
    {
     "name": "stdout",
     "output_type": "stream",
     "text": [
      "\n",
      " 15%|█▍        | 148/1000 [6:10:35<28:57:30, 122.36s/it, best loss: -0.668604651163]\u001b[A\n",
      "\u001b[AParameters with this training accuracy 0.994191674734 and loss 0.430240716832 :\n",
      "\n",
      " 15%|█▍        | 148/1000 [6:12:32<28:57:30, 122.36s/it, best loss: -0.668604651163]\u001b[A\n",
      "\u001b[AParameters with this testing accuracy 0.668604651163 and loss 1.09825156051 :\n",
      "\n",
      " 15%|█▍        | 148/1000 [6:12:32<28:57:30, 122.36s/it, best loss: -0.668604651163]\u001b[A\n",
      "\u001b[A{'kernel': 'linear', 'C': 12.328023397541253, 'gamma': 7.074119580157912, 'class_weight': 'balanced'}\n",
      "\n",
      " 15%|█▍        | 148/1000 [6:12:32<28:57:30, 122.36s/it, best loss: -0.668604651163]\u001b[A"
     ]
    },
    {
     "name": "stderr",
     "output_type": "stream",
     "text": [
      "Hyperopt:  15%|█▍        | 149/1000 [6:12:32<28:32:11, 120.72s/it]"
     ]
    },
    {
     "name": "stdout",
     "output_type": "stream",
     "text": [
      "\n",
      " 15%|█▍        | 149/1000 [6:12:32<28:32:11, 120.72s/it, best loss: -0.668604651163]\u001b[A\n",
      "\u001b[AParameters with this training accuracy 0.995159728945 and loss 0.425105173958 :\n",
      "\n",
      " 15%|█▍        | 149/1000 [6:14:28<28:32:11, 120.72s/it, best loss: -0.668604651163]\u001b[A\n",
      "\u001b[AParameters with this testing accuracy 0.662790697674 and loss 1.09808645025 :\n",
      "\n",
      " 15%|█▍        | 149/1000 [6:14:28<28:32:11, 120.72s/it, best loss: -0.668604651163]\u001b[A\n",
      "\u001b[A{'kernel': 'linear', 'C': 14.268860905882697, 'gamma': 4.141330984397344, 'class_weight': 'balanced'}\n",
      "\n",
      " 15%|█▍        | 149/1000 [6:14:28<28:32:11, 120.72s/it, best loss: -0.668604651163]\u001b[A"
     ]
    },
    {
     "name": "stderr",
     "output_type": "stream",
     "text": [
      "Hyperopt:  15%|█▌        | 150/1000 [6:14:28<28:08:15, 119.17s/it]"
     ]
    },
    {
     "name": "stdout",
     "output_type": "stream",
     "text": [
      "\n",
      " 15%|█▌        | 150/1000 [6:14:28<28:08:15, 119.17s/it, best loss: -0.668604651163]\u001b[A\n",
      "\u001b[AParameters with this training accuracy 0.992900935786 and loss 0.435791140976 :\n",
      "\n",
      " 15%|█▌        | 150/1000 [6:16:23<28:08:15, 119.17s/it, best loss: -0.668604651163]\u001b[A\n",
      "\u001b[AParameters with this testing accuracy 0.665697674419 and loss 1.09798044415 :\n",
      "\n",
      " 15%|█▌        | 150/1000 [6:16:23<28:08:15, 119.17s/it, best loss: -0.668604651163]\u001b[A\n",
      "\u001b[A{'kernel': 'linear', 'C': 10.069232387203877, 'gamma': 5.291038127219795, 'class_weight': 'balanced'}\n",
      "\n",
      " 15%|█▌        | 150/1000 [6:16:23<28:08:15, 119.17s/it, best loss: -0.668604651163]\u001b[A"
     ]
    },
    {
     "name": "stderr",
     "output_type": "stream",
     "text": [
      "Hyperopt:  15%|█▌        | 151/1000 [6:16:23<27:48:42, 117.93s/it]"
     ]
    },
    {
     "name": "stdout",
     "output_type": "stream",
     "text": [
      "\n",
      " 15%|█▌        | 151/1000 [6:16:23<27:48:42, 117.93s/it, best loss: -0.668604651163]\u001b[A\n",
      "\u001b[AParameters with this training accuracy 0.995159728945 and loss 0.423719487915 :\n",
      "\n",
      " 15%|█▌        | 151/1000 [6:18:17<27:48:42, 117.93s/it, best loss: -0.668604651163]\u001b[A\n",
      "\u001b[AParameters with this testing accuracy 0.662790697674 and loss 1.09765950991 :\n",
      "\n",
      " 15%|█▌        | 151/1000 [6:18:17<27:48:42, 117.93s/it, best loss: -0.668604651163]\u001b[A\n",
      "\u001b[A{'kernel': 'linear', 'C': 15.203251253022174, 'gamma': 7.462939512153134, 'class_weight': 'balanced'}\n",
      "\n",
      " 15%|█▌        | 151/1000 [6:18:17<27:48:42, 117.93s/it, best loss: -0.668604651163]\u001b[A"
     ]
    },
    {
     "name": "stderr",
     "output_type": "stream",
     "text": [
      "Hyperopt:  15%|█▌        | 152/1000 [6:18:17<27:29:59, 116.74s/it]"
     ]
    },
    {
     "name": "stdout",
     "output_type": "stream",
     "text": [
      "\n",
      " 15%|█▌        | 152/1000 [6:18:17<27:29:59, 116.74s/it, best loss: -0.668604651163]\u001b[A\n",
      "\u001b[AParameters with this training accuracy 0.994191674734 and loss 0.429656235093 :\n",
      "\n",
      " 15%|█▌        | 152/1000 [6:20:12<27:29:59, 116.74s/it, best loss: -0.668604651163]\u001b[A\n",
      "\u001b[AParameters with this testing accuracy 0.668604651163 and loss 1.09809542892 :\n",
      "\n",
      " 15%|█▌        | 152/1000 [6:20:12<27:29:59, 116.74s/it, best loss: -0.668604651163]\u001b[A\n",
      "\u001b[A{'kernel': 'linear', 'C': 12.522018934478563, 'gamma': 2.618994951649651, 'class_weight': 'balanced'}\n",
      "\n",
      " 15%|█▌        | 152/1000 [6:20:12<27:29:59, 116.74s/it, best loss: -0.668604651163]\u001b[A"
     ]
    },
    {
     "name": "stderr",
     "output_type": "stream",
     "text": [
      "Hyperopt:  15%|█▌        | 153/1000 [6:20:12<27:20:28, 116.21s/it]"
     ]
    },
    {
     "name": "stdout",
     "output_type": "stream",
     "text": [
      "\n",
      " 15%|█▌        | 153/1000 [6:20:12<27:20:28, 116.21s/it, best loss: -0.668604651163]\u001b[A\n",
      "\u001b[AParameters with this training accuracy 0.995159728945 and loss 0.426894726101 :\n",
      "\n",
      " 15%|█▌        | 153/1000 [6:22:06<27:20:28, 116.21s/it, best loss: -0.668604651163]\u001b[A\n",
      "\u001b[AParameters with this testing accuracy 0.662790697674 and loss 1.09915867227 :\n",
      "\n",
      " 15%|█▌        | 153/1000 [6:22:06<27:20:28, 116.21s/it, best loss: -0.668604651163]\u001b[A\n",
      "\u001b[A{'kernel': 'linear', 'C': 14.7537102577871, 'gamma': 6.982297489320356, 'class_weight': 'balanced'}\n",
      "\n",
      " 15%|█▌        | 153/1000 [6:22:06<27:20:28, 116.21s/it, best loss: -0.668604651163]\u001b[A"
     ]
    },
    {
     "name": "stderr",
     "output_type": "stream",
     "text": [
      "Hyperopt:  15%|█▌        | 154/1000 [6:22:06<27:11:33, 115.71s/it]"
     ]
    },
    {
     "name": "stdout",
     "output_type": "stream",
     "text": [
      "\n",
      " 15%|█▌        | 154/1000 [6:22:06<27:11:33, 115.71s/it, best loss: -0.668604651163]\u001b[A\n",
      "\u001b[AParameters with this training accuracy 0.995159728945 and loss 0.425152344018 :\n",
      "\n",
      " 15%|█▌        | 154/1000 [6:24:01<27:11:33, 115.71s/it, best loss: -0.668604651163]\u001b[A\n",
      "\u001b[AParameters with this testing accuracy 0.665697674419 and loss 1.09802295793 :\n",
      "\n",
      " 15%|█▌        | 154/1000 [6:24:01<27:11:33, 115.71s/it, best loss: -0.668604651163]\u001b[A\n",
      "\u001b[A{'kernel': 'linear', 'C': 13.885964656445756, 'gamma': 6.464543389490518, 'class_weight': 'balanced'}\n",
      "\n",
      " 15%|█▌        | 154/1000 [6:24:01<27:11:33, 115.71s/it, best loss: -0.668604651163]\u001b[A"
     ]
    },
    {
     "name": "stderr",
     "output_type": "stream",
     "text": [
      "Hyperopt:  16%|█▌        | 155/1000 [6:24:01<27:07:36, 115.57s/it]"
     ]
    },
    {
     "name": "stdout",
     "output_type": "stream",
     "text": [
      "\n",
      " 16%|█▌        | 155/1000 [6:24:01<27:07:36, 115.57s/it, best loss: -0.668604651163]\u001b[A\n",
      "\u001b[AParameters with this training accuracy 0.994837044208 and loss 0.425372491234 :\n",
      "\n",
      " 16%|█▌        | 155/1000 [6:25:58<27:07:36, 115.57s/it, best loss: -0.668604651163]\u001b[A\n",
      "\u001b[AParameters with this testing accuracy 0.665697674419 and loss 1.09752399876 :\n",
      "\n",
      " 16%|█▌        | 155/1000 [6:25:58<27:07:36, 115.57s/it, best loss: -0.668604651163]\u001b[A\n",
      "\u001b[A{'kernel': 'linear', 'C': 13.479418239157447, 'gamma': 6.713417327086489, 'class_weight': 'balanced'}\n",
      "\n",
      " 16%|█▌        | 155/1000 [6:25:58<27:07:36, 115.57s/it, best loss: -0.668604651163]\u001b[A"
     ]
    },
    {
     "name": "stderr",
     "output_type": "stream",
     "text": [
      "Hyperopt:  16%|█▌        | 156/1000 [6:25:58<27:08:09, 115.75s/it]"
     ]
    },
    {
     "name": "stdout",
     "output_type": "stream",
     "text": [
      "\n",
      " 16%|█▌        | 156/1000 [6:25:58<27:08:09, 115.75s/it, best loss: -0.668604651163]\u001b[A\n",
      "\u001b[AParameters with this training accuracy 0.992578251049 and loss 0.433589843751 :\n",
      "\n",
      " 16%|█▌        | 156/1000 [6:27:50<27:08:09, 115.75s/it, best loss: -0.668604651163]\u001b[A\n",
      "\u001b[AParameters with this testing accuracy 0.665697674419 and loss 1.09728371501 :\n",
      "\n",
      " 16%|█▌        | 156/1000 [6:27:50<27:08:09, 115.75s/it, best loss: -0.668604651163]\u001b[A\n",
      "\u001b[A{'kernel': 'linear', 'C': 9.679368117426352, 'gamma': 7.8026767168781115, 'class_weight': 'balanced'}\n",
      "\n",
      " 16%|█▌        | 156/1000 [6:27:50<27:08:09, 115.75s/it, best loss: -0.668604651163]\u001b[A"
     ]
    },
    {
     "name": "stderr",
     "output_type": "stream",
     "text": [
      "Hyperopt:  16%|█▌        | 157/1000 [6:27:50<26:52:45, 114.79s/it]"
     ]
    },
    {
     "name": "stdout",
     "output_type": "stream",
     "text": [
      "\n",
      " 16%|█▌        | 157/1000 [6:27:50<26:52:45, 114.79s/it, best loss: -0.668604651163]\u001b[A\n",
      "\u001b[AParameters with this training accuracy 0.996450467893 and loss 0.851225217476 :\n",
      "\n",
      " 16%|█▌        | 157/1000 [6:29:24<26:52:45, 114.79s/it, best loss: -0.668604651163]\u001b[A\n",
      "\u001b[AParameters with this testing accuracy 0.56976744186 and loss 1.32026395166 :\n",
      "\n",
      " 16%|█▌        | 157/1000 [6:29:24<26:52:45, 114.79s/it, best loss: -0.668604651163]\u001b[A\n",
      "\u001b[A{'kernel': 'poly', 'C': 7.796335450768095, 'gamma': 5.995047109992243, 'class_weight': 'balanced'}\n",
      "\n",
      " 16%|█▌        | 157/1000 [6:29:24<26:52:45, 114.79s/it, best loss: -0.668604651163]\u001b[A"
     ]
    },
    {
     "name": "stderr",
     "output_type": "stream",
     "text": [
      "Hyperopt:  16%|█▌        | 158/1000 [6:29:24<25:20:56, 108.38s/it]"
     ]
    },
    {
     "name": "stdout",
     "output_type": "stream",
     "text": [
      "\n",
      " 16%|█▌        | 158/1000 [6:29:24<25:20:56, 108.38s/it, best loss: -0.668604651163]\u001b[A\n",
      "\u001b[AParameters with this training accuracy 0.991610196838 and loss 0.439129733399 :\n",
      "\n",
      " 16%|█▌        | 158/1000 [6:31:16<25:20:56, 108.38s/it, best loss: -0.668604651163]\u001b[A\n",
      "\u001b[AParameters with this testing accuracy 0.662790697674 and loss 1.09637212556 :\n",
      "\n",
      " 16%|█▌        | 158/1000 [6:31:16<25:20:56, 108.38s/it, best loss: -0.668604651163]\u001b[A\n",
      "\u001b[A{'kernel': 'linear', 'C': 8.488631071248046, 'gamma': 5.1170377898994905, 'class_weight': 'balanced'}\n",
      "\n",
      " 16%|█▌        | 158/1000 [6:31:16<25:20:56, 108.38s/it, best loss: -0.668604651163]\u001b[A"
     ]
    },
    {
     "name": "stderr",
     "output_type": "stream",
     "text": [
      "Hyperopt:  16%|█▌        | 159/1000 [6:31:16<25:37:23, 109.68s/it]"
     ]
    },
    {
     "name": "stdout",
     "output_type": "stream",
     "text": [
      "\n",
      " 16%|█▌        | 159/1000 [6:31:16<25:37:23, 109.68s/it, best loss: -0.668604651163]\u001b[A\n",
      "\u001b[AParameters with this training accuracy 0.996450467893 and loss 2.87348156186 :\n",
      "\n",
      " 16%|█▌        | 159/1000 [6:35:28<25:37:23, 109.68s/it, best loss: -0.668604651163]\u001b[A\n",
      "\u001b[AParameters with this testing accuracy 0.459302325581 and loss 1.94273816783 :\n",
      "\n",
      " 16%|█▌        | 159/1000 [6:35:28<25:37:23, 109.68s/it, best loss: -0.668604651163]\u001b[A\n",
      "\u001b[A{'kernel': 'rbf', 'C': 8.971481253312405, 'gamma': 7.36570337534737, 'class_weight': 'balanced'}\n",
      "\n",
      " 16%|█▌        | 159/1000 [6:35:28<25:37:23, 109.68s/it, best loss: -0.668604651163]\u001b[A"
     ]
    },
    {
     "name": "stderr",
     "output_type": "stream",
     "text": [
      "Hyperopt:  16%|█▌        | 160/1000 [6:35:28<35:32:25, 152.32s/it]"
     ]
    },
    {
     "name": "stdout",
     "output_type": "stream",
     "text": [
      "\n",
      " 16%|█▌        | 160/1000 [6:35:28<35:32:25, 152.32s/it, best loss: -0.668604651163]\u001b[A\n",
      "\u001b[AParameters with this training accuracy 0.160696999032 and loss 1.97426694313 :\n",
      "\n",
      " 16%|█▌        | 160/1000 [6:39:36<35:32:25, 152.32s/it, best loss: -0.668604651163]\u001b[A\n",
      "\u001b[AParameters with this testing accuracy 0.142441860465 and loss 1.93988469457 :\n",
      "\n",
      " 16%|█▌        | 160/1000 [6:39:36<35:32:25, 152.32s/it, best loss: -0.668604651163]\u001b[A\n",
      "\u001b[A{'kernel': 'sigmoid', 'C': 10.386758545720895, 'gamma': 8.732573170403018, 'class_weight': 'balanced'}\n",
      "\n",
      " 16%|█▌        | 160/1000 [6:39:36<35:32:25, 152.32s/it, best loss: -0.668604651163]\u001b[A"
     ]
    },
    {
     "name": "stderr",
     "output_type": "stream",
     "text": [
      "Hyperopt:  16%|█▌        | 161/1000 [6:39:36<42:12:10, 181.09s/it]"
     ]
    },
    {
     "name": "stdout",
     "output_type": "stream",
     "text": [
      "\n",
      " 16%|█▌        | 161/1000 [6:39:36<42:12:10, 181.09s/it, best loss: -0.668604651163]\u001b[A\n",
      "\u001b[AParameters with this training accuracy 0.994514359471 and loss 0.428647851695 :\n",
      "\n",
      " 16%|█▌        | 161/1000 [6:41:33<42:12:10, 181.09s/it, best loss: -0.668604651163]\u001b[A\n",
      "\u001b[AParameters with this testing accuracy 0.668604651163 and loss 1.09799886304 :\n",
      "\n",
      " 16%|█▌        | 161/1000 [6:41:33<42:12:10, 181.09s/it, best loss: -0.668604651163]\u001b[A\n",
      "\u001b[A{'kernel': 'linear', 'C': 12.782226491184728, 'gamma': 7.5776588049984115, 'class_weight': 'balanced'}\n",
      "\n",
      " 16%|█▌        | 161/1000 [6:41:33<42:12:10, 181.09s/it, best loss: -0.668604651163]\u001b[A"
     ]
    },
    {
     "name": "stderr",
     "output_type": "stream",
     "text": [
      "Hyperopt:  16%|█▌        | 162/1000 [6:41:33<37:41:03, 161.89s/it]"
     ]
    },
    {
     "name": "stdout",
     "output_type": "stream",
     "text": [
      "\n",
      " 16%|█▌        | 162/1000 [6:41:33<37:41:03, 161.89s/it, best loss: -0.668604651163]\u001b[A\n",
      "\u001b[AParameters with this training accuracy 0.993223620523 and loss 0.427558323631 :\n",
      "\n",
      " 16%|█▌        | 162/1000 [6:43:30<37:41:03, 161.89s/it, best loss: -0.668604651163]\u001b[A\n",
      "\u001b[AParameters with this testing accuracy 0.665697674419 and loss 1.09680746151 :\n",
      "\n",
      " 16%|█▌        | 162/1000 [6:43:30<37:41:03, 161.89s/it, best loss: -0.668604651163]\u001b[A\n",
      "\u001b[A{'kernel': 'linear', 'C': 11.4469954674466, 'gamma': 8.093652774345765, 'class_weight': 'balanced'}\n",
      "\n",
      " 16%|█▌        | 162/1000 [6:43:30<37:41:03, 161.89s/it, best loss: -0.668604651163]\u001b[A"
     ]
    },
    {
     "name": "stderr",
     "output_type": "stream",
     "text": [
      "Hyperopt:  16%|█▋        | 163/1000 [6:43:30<34:28:37, 148.29s/it]"
     ]
    },
    {
     "name": "stdout",
     "output_type": "stream",
     "text": [
      "\n",
      " 16%|█▋        | 163/1000 [6:43:30<34:28:37, 148.29s/it, best loss: -0.668604651163]\u001b[A\n",
      "\u001b[AParameters with this training accuracy 0.994837044208 and loss 0.426482084057 :\n",
      "\n",
      " 16%|█▋        | 163/1000 [6:45:26<34:28:37, 148.29s/it, best loss: -0.668604651163]\u001b[A\n",
      "\u001b[AParameters with this testing accuracy 0.665697674419 and loss 1.09799986372 :\n",
      "\n",
      " 16%|█▋        | 163/1000 [6:45:26<34:28:37, 148.29s/it, best loss: -0.668604651163]\u001b[A\n",
      "\u001b[A{'kernel': 'linear', 'C': 12.933300579565804, 'gamma': 8.281232315313549, 'class_weight': 'balanced'}\n",
      "\n",
      " 16%|█▋        | 163/1000 [6:45:26<34:28:37, 148.29s/it, best loss: -0.668604651163]\u001b[A"
     ]
    },
    {
     "name": "stderr",
     "output_type": "stream",
     "text": [
      "Hyperopt:  16%|█▋        | 164/1000 [6:45:26<32:13:19, 138.76s/it]"
     ]
    },
    {
     "name": "stdout",
     "output_type": "stream",
     "text": [
      "\n",
      " 16%|█▋        | 164/1000 [6:45:26<32:13:19, 138.76s/it, best loss: -0.668604651163]\u001b[A\n",
      "\u001b[AParameters with this training accuracy 0.996450467893 and loss 0.85429854356 :\n",
      "\n",
      " 16%|█▋        | 164/1000 [6:46:59<32:13:19, 138.76s/it, best loss: -0.668604651163]\u001b[A\n",
      "\u001b[AParameters with this testing accuracy 0.56976744186 and loss 1.32049948738 :\n",
      "\n",
      " 16%|█▋        | 164/1000 [6:46:59<32:13:19, 138.76s/it, best loss: -0.668604651163]\u001b[A\n",
      "\u001b[A{'kernel': 'poly', 'C': 12.134377090969618, 'gamma': 4.906142689522004, 'class_weight': 'balanced'}\n",
      "\n",
      " 16%|█▋        | 164/1000 [6:46:59<32:13:19, 138.76s/it, best loss: -0.668604651163]\u001b[A"
     ]
    },
    {
     "name": "stderr",
     "output_type": "stream",
     "text": [
      "Hyperopt:  16%|█▋        | 165/1000 [6:46:59<29:00:10, 125.04s/it]"
     ]
    },
    {
     "name": "stdout",
     "output_type": "stream",
     "text": [
      "\n",
      " 16%|█▋        | 165/1000 [6:46:59<29:00:10, 125.04s/it, best loss: -0.668604651163]\u001b[A\n",
      "\u001b[AParameters with this training accuracy 0.995159728945 and loss 0.424464618513 :\n",
      "\n",
      " 16%|█▋        | 165/1000 [6:48:55<29:00:10, 125.04s/it, best loss: -0.668604651163]\u001b[A\n",
      "\u001b[AParameters with this testing accuracy 0.662790697674 and loss 1.09826812296 :\n",
      "\n",
      " 16%|█▋        | 165/1000 [6:48:55<29:00:10, 125.04s/it, best loss: -0.668604651163]\u001b[A\n",
      "\u001b[A{'kernel': 'linear', 'C': 14.298797075249102, 'gamma': 9.371466687068034, 'class_weight': 'balanced'}\n",
      "\n",
      " 16%|█▋        | 165/1000 [6:48:55<29:00:10, 125.04s/it, best loss: -0.668604651163]\u001b[A"
     ]
    },
    {
     "name": "stderr",
     "output_type": "stream",
     "text": [
      "Hyperopt:  17%|█▋        | 166/1000 [6:48:55<28:18:42, 122.21s/it]"
     ]
    },
    {
     "name": "stdout",
     "output_type": "stream",
     "text": [
      "\n",
      " 17%|█▋        | 166/1000 [6:48:55<28:18:42, 122.21s/it, best loss: -0.668604651163]\u001b[A\n",
      "\u001b[AParameters with this training accuracy 0.995805098419 and loss 0.418258777884 :\n",
      "\n",
      " 17%|█▋        | 166/1000 [6:50:49<28:18:42, 122.21s/it, best loss: -0.668604651163]\u001b[A\n",
      "\u001b[AParameters with this testing accuracy 0.65988372093 and loss 1.10341448038 :\n",
      "\n",
      " 17%|█▋        | 166/1000 [6:50:49<28:18:42, 122.21s/it, best loss: -0.668604651163]\u001b[A\n",
      "\u001b[A{'kernel': 'linear', 'C': 10.722368778534106, 'gamma': 1.422978168378994, 'class_weight': None}\n",
      "\n",
      " 17%|█▋        | 166/1000 [6:50:49<28:18:42, 122.21s/it, best loss: -0.668604651163]\u001b[A"
     ]
    },
    {
     "name": "stderr",
     "output_type": "stream",
     "text": [
      "Hyperopt:  17%|█▋        | 167/1000 [6:50:49<27:42:41, 119.76s/it]"
     ]
    },
    {
     "name": "stdout",
     "output_type": "stream",
     "text": [
      "\n",
      " 17%|█▋        | 167/1000 [6:50:49<27:42:41, 119.76s/it, best loss: -0.668604651163]\u001b[A\n",
      "\u001b[AParameters with this training accuracy 0.996450467893 and loss 2.87876869352 :\n",
      "\n",
      " 17%|█▋        | 167/1000 [6:55:03<27:42:41, 119.76s/it, best loss: -0.668604651163]\u001b[A\n",
      "\u001b[AParameters with this testing accuracy 0.459302325581 and loss 1.94503300773 :\n",
      "\n",
      " 17%|█▋        | 167/1000 [6:55:03<27:42:41, 119.76s/it, best loss: -0.668604651163]\u001b[A\n",
      "\u001b[A{'kernel': 'rbf', 'C': 16.883914429743232, 'gamma': 9.001412413810826, 'class_weight': 'balanced'}\n",
      "\n",
      " 17%|█▋        | 167/1000 [6:55:03<27:42:41, 119.76s/it, best loss: -0.668604651163]\u001b[A"
     ]
    },
    {
     "name": "stderr",
     "output_type": "stream",
     "text": [
      "Hyperopt:  17%|█▋        | 168/1000 [6:55:03<36:58:49, 160.01s/it]"
     ]
    },
    {
     "name": "stdout",
     "output_type": "stream",
     "text": [
      "\n",
      " 17%|█▋        | 168/1000 [6:55:03<36:58:49, 160.01s/it, best loss: -0.668604651163]\u001b[A\n",
      "\u001b[AParameters with this training accuracy 0.995482413682 and loss 0.424178579333 :\n",
      "\n",
      " 17%|█▋        | 168/1000 [6:57:00<36:58:49, 160.01s/it, best loss: -0.668604651163]\u001b[A\n",
      "\u001b[AParameters with this testing accuracy 0.662790697674 and loss 1.0985113435 :\n",
      "\n",
      " 17%|█▋        | 168/1000 [6:57:00<36:58:49, 160.01s/it, best loss: -0.668604651163]\u001b[A\n",
      "\u001b[A{'kernel': 'linear', 'C': 16.05442907680826, 'gamma': 9.93546041539593, 'class_weight': 'balanced'}\n",
      "\n",
      " 17%|█▋        | 168/1000 [6:57:00<36:58:49, 160.01s/it, best loss: -0.668604651163]\u001b[A"
     ]
    },
    {
     "name": "stderr",
     "output_type": "stream",
     "text": [
      "Hyperopt:  17%|█▋        | 169/1000 [6:57:00<33:55:55, 147.00s/it]"
     ]
    },
    {
     "name": "stdout",
     "output_type": "stream",
     "text": [
      "\n",
      " 17%|█▋        | 169/1000 [6:57:00<33:55:55, 147.00s/it, best loss: -0.668604651163]\u001b[A\n",
      "\u001b[AParameters with this training accuracy 0.0387221684414 and loss 1.96475143403 :\n",
      "\n",
      " 17%|█▋        | 169/1000 [7:01:09<33:55:55, 147.00s/it, best loss: -0.668604651163]\u001b[A\n",
      "\u001b[AParameters with this testing accuracy 0.0581395348837 and loss 1.94701260024 :\n",
      "\n",
      " 17%|█▋        | 169/1000 [7:01:09<33:55:55, 147.00s/it, best loss: -0.668604651163]\u001b[A\n",
      "\u001b[A{'kernel': 'sigmoid', 'C': 13.638428833975253, 'gamma': 6.049965322114503, 'class_weight': 'balanced'}\n",
      "\n",
      " 17%|█▋        | 169/1000 [7:01:09<33:55:55, 147.00s/it, best loss: -0.668604651163]\u001b[A"
     ]
    },
    {
     "name": "stderr",
     "output_type": "stream",
     "text": [
      "Hyperopt:  17%|█▋        | 170/1000 [7:01:09<40:57:44, 177.67s/it]"
     ]
    },
    {
     "name": "stdout",
     "output_type": "stream",
     "text": [
      "\n",
      " 17%|█▋        | 170/1000 [7:01:09<40:57:45, 177.67s/it, best loss: -0.668604651163]\u001b[A\n",
      "\u001b[AParameters with this training accuracy 0.99354630526 and loss 0.431340731222 :\n",
      "\n",
      " 17%|█▋        | 170/1000 [7:03:05<40:57:45, 177.67s/it, best loss: -0.668604651163]\u001b[A\n",
      "\u001b[AParameters with this testing accuracy 0.665697674419 and loss 1.09784300562 :\n",
      "\n",
      " 17%|█▋        | 170/1000 [7:03:05<40:57:45, 177.67s/it, best loss: -0.668604651163]\u001b[A\n",
      "\u001b[A{'kernel': 'linear', 'C': 11.587819998443806, 'gamma': 9.637605413528354, 'class_weight': 'balanced'}\n",
      "\n",
      " 17%|█▋        | 170/1000 [7:03:05<40:57:45, 177.67s/it, best loss: -0.668604651163]\u001b[A"
     ]
    },
    {
     "name": "stderr",
     "output_type": "stream",
     "text": [
      "Hyperopt:  17%|█▋        | 171/1000 [7:03:05<36:39:30, 159.19s/it]"
     ]
    },
    {
     "name": "stdout",
     "output_type": "stream",
     "text": [
      "\n",
      " 17%|█▋        | 171/1000 [7:03:05<36:39:30, 159.19s/it, best loss: -0.668604651163]\u001b[A\n",
      "\u001b[AParameters with this training accuracy 0.995805098419 and loss 0.418000689294 :\n",
      "\n",
      " 17%|█▋        | 171/1000 [7:05:00<36:39:30, 159.19s/it, best loss: -0.668604651163]\u001b[A\n",
      "\u001b[AParameters with this testing accuracy 0.65988372093 and loss 1.10373075801 :\n",
      "\n",
      " 17%|█▋        | 171/1000 [7:05:00<36:39:30, 159.19s/it, best loss: -0.668604651163]\u001b[A\n",
      "\u001b[A{'kernel': 'linear', 'C': 11.106254332704534, 'gamma': 6.400765907938423, 'class_weight': None}\n",
      "\n",
      " 17%|█▋        | 171/1000 [7:05:00<36:39:30, 159.19s/it, best loss: -0.668604651163]\u001b[A"
     ]
    },
    {
     "name": "stderr",
     "output_type": "stream",
     "text": [
      "Hyperopt:  17%|█▋        | 172/1000 [7:05:00<33:34:58, 146.01s/it]"
     ]
    },
    {
     "name": "stdout",
     "output_type": "stream",
     "text": [
      "\n",
      " 17%|█▋        | 172/1000 [7:05:00<33:34:58, 146.01s/it, best loss: -0.668604651163]\u001b[A\n",
      "\u001b[AParameters with this training accuracy 0.995159728945 and loss 0.427087445861 :\n",
      "\n",
      " 17%|█▋        | 172/1000 [7:06:55<33:34:58, 146.01s/it, best loss: -0.668604651163]\u001b[A\n",
      "\u001b[AParameters with this testing accuracy 0.662790697674 and loss 1.09842234487 :\n",
      "\n",
      " 17%|█▋        | 172/1000 [7:06:55<33:34:58, 146.01s/it, best loss: -0.668604651163]\u001b[A\n",
      "\u001b[A{'kernel': 'linear', 'C': 14.683381667497933, 'gamma': 8.542082946718565, 'class_weight': 'balanced'}\n",
      "\n",
      " 17%|█▋        | 172/1000 [7:06:55<33:34:58, 146.01s/it, best loss: -0.668604651163]\u001b[A"
     ]
    },
    {
     "name": "stderr",
     "output_type": "stream",
     "text": [
      "Hyperopt:  17%|█▋        | 173/1000 [7:06:55<31:22:33, 136.58s/it]"
     ]
    },
    {
     "name": "stdout",
     "output_type": "stream",
     "text": [
      "\n",
      " 17%|█▋        | 173/1000 [7:06:55<31:22:33, 136.58s/it, best loss: -0.668604651163]\u001b[A\n",
      "\u001b[AParameters with this training accuracy 0.996450467893 and loss 0.851496250046 :\n",
      "\n",
      " 17%|█▋        | 173/1000 [7:08:27<31:22:33, 136.58s/it, best loss: -0.668604651163]\u001b[A\n",
      "\u001b[AParameters with this testing accuracy 0.56976744186 and loss 1.32087088789 :\n",
      "\n",
      " 17%|█▋        | 173/1000 [7:08:27<31:22:33, 136.58s/it, best loss: -0.668604651163]\u001b[A\n",
      "\u001b[A{'kernel': 'poly', 'C': 9.195171499360276, 'gamma': 8.009454410290981, 'class_weight': 'balanced'}\n",
      "\n",
      " 17%|█▋        | 173/1000 [7:08:27<31:22:33, 136.58s/it, best loss: -0.668604651163]\u001b[A"
     ]
    },
    {
     "name": "stderr",
     "output_type": "stream",
     "text": [
      "Hyperopt:  17%|█▋        | 174/1000 [7:08:27<28:17:25, 123.30s/it]"
     ]
    },
    {
     "name": "stdout",
     "output_type": "stream",
     "text": [
      "\n",
      " 17%|█▋        | 174/1000 [7:08:27<28:17:25, 123.30s/it, best loss: -0.668604651163]\u001b[A\n",
      "\u001b[AParameters with this training accuracy 0.988383349468 and loss 0.443959778945 :\n",
      "\n",
      " 17%|█▋        | 174/1000 [7:10:19<28:17:25, 123.30s/it, best loss: -0.668604651163]\u001b[A\n",
      "\u001b[AParameters with this testing accuracy 0.662790697674 and loss 1.09536189037 :\n",
      "\n",
      " 17%|█▋        | 174/1000 [7:10:19<28:17:25, 123.30s/it, best loss: -0.668604651163]\u001b[A\n",
      "\u001b[A{'kernel': 'linear', 'C': 7.381075147771428, 'gamma': 2.55527530649844, 'class_weight': 'balanced'}\n",
      "\n",
      " 17%|█▋        | 174/1000 [7:10:19<28:17:25, 123.30s/it, best loss: -0.668604651163]\u001b[A"
     ]
    },
    {
     "name": "stderr",
     "output_type": "stream",
     "text": [
      "Hyperopt:  18%|█▊        | 175/1000 [7:10:19<27:26:22, 119.74s/it]"
     ]
    },
    {
     "name": "stdout",
     "output_type": "stream",
     "text": [
      "\n",
      " 18%|█▊        | 175/1000 [7:10:19<27:26:22, 119.74s/it, best loss: -0.668604651163]\u001b[A\n",
      "\u001b[AParameters with this training accuracy 0.996450467893 and loss 2.47519007767 :\n",
      "\n",
      " 18%|█▊        | 175/1000 [7:14:30<27:26:22, 119.74s/it, best loss: -0.668604651163]\u001b[A\n",
      "\u001b[AParameters with this testing accuracy 0.462209302326 and loss 1.94263853774 :\n",
      "\n",
      " 18%|█▊        | 175/1000 [7:14:30<27:26:22, 119.74s/it, best loss: -0.668604651163]\u001b[A\n",
      "\u001b[A{'kernel': 'rbf', 'C': 10.20913336885021, 'gamma': 2.0438026267874703, 'class_weight': 'balanced'}\n",
      "\n",
      " 18%|█▊        | 175/1000 [7:14:30<27:26:22, 119.74s/it, best loss: -0.668604651163]\u001b[A"
     ]
    },
    {
     "name": "stderr",
     "output_type": "stream",
     "text": [
      "Hyperopt:  18%|█▊        | 176/1000 [7:14:30<36:27:44, 159.30s/it]"
     ]
    },
    {
     "name": "stdout",
     "output_type": "stream",
     "text": [
      "\n",
      " 18%|█▊        | 176/1000 [7:14:30<36:27:44, 159.30s/it, best loss: -0.668604651163]\u001b[A\n",
      "\u001b[AParameters with this training accuracy 0.431106808648 and loss 1.95492630704 :\n",
      "\n",
      " 18%|█▊        | 176/1000 [7:15:59<36:27:44, 159.30s/it, best loss: -0.668604651163]\u001b[A\n",
      "\u001b[AParameters with this testing accuracy 0.468023255814 and loss 1.93714213236 :\n",
      "\n",
      " 18%|█▊        | 176/1000 [7:15:59<36:27:44, 159.30s/it, best loss: -0.668604651163]\u001b[A\n",
      "\u001b[A{'kernel': 'sigmoid', 'C': 17.53810079189615, 'gamma': 7.066303953973941, 'class_weight': None}\n",
      "\n",
      " 18%|█▊        | 176/1000 [7:15:59<36:27:44, 159.30s/it, best loss: -0.668604651163]\u001b[A"
     ]
    },
    {
     "name": "stderr",
     "output_type": "stream",
     "text": [
      "Hyperopt:  18%|█▊        | 177/1000 [7:15:59<31:33:11, 138.02s/it]"
     ]
    },
    {
     "name": "stdout",
     "output_type": "stream",
     "text": [
      "\n",
      " 18%|█▊        | 177/1000 [7:15:59<31:33:11, 138.02s/it, best loss: -0.668604651163]\u001b[A\n",
      "\u001b[AParameters with this training accuracy 0.994837044208 and loss 0.425523841437 :\n",
      "\n",
      " 18%|█▊        | 177/1000 [7:17:57<31:33:11, 138.02s/it, best loss: -0.668604651163]\u001b[A\n",
      "\u001b[AParameters with this testing accuracy 0.665697674419 and loss 1.09775697484 :\n",
      "\n",
      " 18%|█▊        | 177/1000 [7:17:57<31:33:11, 138.02s/it, best loss: -0.668604651163]\u001b[A\n",
      "\u001b[A{'kernel': 'linear', 'C': 13.227125083532094, 'gamma': 5.500008788836327, 'class_weight': 'balanced'}\n",
      "\n",
      " 18%|█▊        | 177/1000 [7:17:57<31:33:11, 138.02s/it, best loss: -0.668604651163]\u001b[A"
     ]
    },
    {
     "name": "stderr",
     "output_type": "stream",
     "text": [
      "Hyperopt:  18%|█▊        | 178/1000 [7:17:57<30:09:23, 132.07s/it]"
     ]
    },
    {
     "name": "stdout",
     "output_type": "stream",
     "text": [
      "\n",
      " 18%|█▊        | 178/1000 [7:17:57<30:09:23, 132.07s/it, best loss: -0.668604651163]\u001b[A\n",
      "\u001b[AParameters with this training accuracy 0.994191674734 and loss 0.426711929121 :\n",
      "\n",
      " 18%|█▊        | 178/1000 [7:19:50<30:09:23, 132.07s/it, best loss: -0.668604651163]\u001b[A\n",
      "\u001b[AParameters with this testing accuracy 0.668604651163 and loss 1.09706937038 :\n",
      "\n",
      " 18%|█▊        | 178/1000 [7:19:50<30:09:23, 132.07s/it, best loss: -0.668604651163]\u001b[A\n",
      "\u001b[A{'kernel': 'linear', 'C': 12.276048858843797, 'gamma': 2.8759662655901375, 'class_weight': 'balanced'}\n",
      "\n",
      " 18%|█▊        | 178/1000 [7:19:50<30:09:23, 132.07s/it, best loss: -0.668604651163]\u001b[A"
     ]
    },
    {
     "name": "stderr",
     "output_type": "stream",
     "text": [
      "Hyperopt:  18%|█▊        | 179/1000 [7:19:50<28:51:34, 126.55s/it]"
     ]
    },
    {
     "name": "stdout",
     "output_type": "stream",
     "text": [
      "\n",
      " 18%|█▊        | 179/1000 [7:19:50<28:51:34, 126.55s/it, best loss: -0.668604651163]\u001b[A\n",
      "\u001b[AParameters with this training accuracy 0.994191674734 and loss 0.424661516251 :\n",
      "\n",
      " 18%|█▊        | 179/1000 [7:21:45<28:51:34, 126.55s/it, best loss: -0.668604651163]\u001b[A\n",
      "\u001b[AParameters with this testing accuracy 0.668604651163 and loss 1.09785098373 :\n",
      "\n",
      " 18%|█▊        | 179/1000 [7:21:45<28:51:34, 126.55s/it, best loss: -0.668604651163]\u001b[A\n",
      "\u001b[A{'kernel': 'linear', 'C': 12.332043819397688, 'gamma': 9.766593397271372, 'class_weight': 'balanced'}\n",
      "\n",
      " 18%|█▊        | 179/1000 [7:21:45<28:51:34, 126.55s/it, best loss: -0.668604651163]\u001b[A"
     ]
    },
    {
     "name": "stderr",
     "output_type": "stream",
     "text": [
      "Hyperopt:  18%|█▊        | 180/1000 [7:21:45<27:59:21, 122.88s/it]"
     ]
    },
    {
     "name": "stdout",
     "output_type": "stream",
     "text": [
      "\n",
      " 18%|█▊        | 180/1000 [7:21:45<27:59:21, 122.88s/it, best loss: -0.668604651163]\u001b[A\n",
      "\u001b[AParameters with this training accuracy 0.991287512101 and loss 0.439769006698 :\n",
      "\n",
      " 18%|█▊        | 180/1000 [7:23:38<27:59:21, 122.88s/it, best loss: -0.668604651163]\u001b[A\n",
      "\u001b[AParameters with this testing accuracy 0.662790697674 and loss 1.09636511192 :\n",
      "\n",
      " 18%|█▊        | 180/1000 [7:23:38<27:59:21, 122.88s/it, best loss: -0.668604651163]\u001b[A\n",
      "\u001b[A{'kernel': 'linear', 'C': 8.192929490167977, 'gamma': 0.678090958372547, 'class_weight': 'balanced'}\n",
      "\n",
      " 18%|█▊        | 180/1000 [7:23:38<27:59:21, 122.88s/it, best loss: -0.668604651163]\u001b[A"
     ]
    },
    {
     "name": "stderr",
     "output_type": "stream",
     "text": [
      "Hyperopt:  18%|█▊        | 181/1000 [7:23:38<27:17:11, 119.94s/it]"
     ]
    },
    {
     "name": "stdout",
     "output_type": "stream",
     "text": [
      "\n",
      " 18%|█▊        | 181/1000 [7:23:38<27:17:11, 119.94s/it, best loss: -0.668604651163]\u001b[A\n",
      "\u001b[AParameters with this training accuracy 0.996450467893 and loss 0.851493710554 :\n",
      "\n",
      " 18%|█▊        | 181/1000 [7:25:06<27:17:11, 119.94s/it, best loss: -0.668604651163]\u001b[A\n",
      "\u001b[AParameters with this testing accuracy 0.56976744186 and loss 1.32087021742 :\n",
      "\n",
      " 18%|█▊        | 181/1000 [7:25:06<27:17:11, 119.94s/it, best loss: -0.668604651163]\u001b[A\n",
      "\u001b[A{'kernel': 'poly', 'C': 6.800922869709015, 'gamma': 5.833630056566543, 'class_weight': 'balanced'}\n",
      "\n",
      " 18%|█▊        | 181/1000 [7:25:06<27:17:11, 119.94s/it, best loss: -0.668604651163]\u001b[A"
     ]
    },
    {
     "name": "stderr",
     "output_type": "stream",
     "text": [
      "Hyperopt:  18%|█▊        | 182/1000 [7:25:06<25:05:26, 110.42s/it]"
     ]
    },
    {
     "name": "stdout",
     "output_type": "stream",
     "text": [
      "\n",
      " 18%|█▊        | 182/1000 [7:25:06<25:05:26, 110.42s/it, best loss: -0.668604651163]\u001b[A\n",
      "\u001b[AParameters with this training accuracy 0.996450467893 and loss 2.81612286234 :\n",
      "\n",
      " 18%|█▊        | 182/1000 [7:29:05<25:05:26, 110.42s/it, best loss: -0.668604651163]\u001b[A\n",
      "\u001b[AParameters with this testing accuracy 0.459302325581 and loss 1.94144676824 :\n",
      "\n",
      " 18%|█▊        | 182/1000 [7:29:05<25:05:26, 110.42s/it, best loss: -0.668604651163]\u001b[A\n",
      "\u001b[A{'kernel': 'rbf', 'C': 10.946117537456482, 'gamma': 4.454950490692425, 'class_weight': None}\n",
      "\n",
      " 18%|█▊        | 182/1000 [7:29:05<25:05:26, 110.42s/it, best loss: -0.668604651163]\u001b[A"
     ]
    },
    {
     "name": "stderr",
     "output_type": "stream",
     "text": [
      "Hyperopt:  18%|█▊        | 183/1000 [7:29:05<33:50:36, 149.13s/it]"
     ]
    },
    {
     "name": "stdout",
     "output_type": "stream",
     "text": [
      "\n",
      " 18%|█▊        | 183/1000 [7:29:05<33:50:36, 149.13s/it, best loss: -0.668604651163]\u001b[A\n",
      "\u001b[AParameters with this training accuracy 0.992578251049 and loss 0.434338282471 :\n",
      "\n",
      " 18%|█▊        | 183/1000 [7:30:55<33:50:36, 149.13s/it, best loss: -0.668604651163]\u001b[A\n",
      "\u001b[AParameters with this testing accuracy 0.665697674419 and loss 1.09688526014 :\n",
      "\n",
      " 18%|█▊        | 183/1000 [7:30:55<33:50:36, 149.13s/it, best loss: -0.668604651163]\u001b[A\n",
      "\u001b[A{'kernel': 'linear', 'C': 9.855277999771063, 'gamma': 5.6269037087471805, 'class_weight': 'balanced'}\n",
      "\n",
      " 18%|█▊        | 183/1000 [7:30:55<33:50:36, 149.13s/it, best loss: -0.668604651163]\u001b[A"
     ]
    },
    {
     "name": "stderr",
     "output_type": "stream",
     "text": [
      "Hyperopt:  18%|█▊        | 184/1000 [7:30:55<31:04:50, 137.12s/it]"
     ]
    },
    {
     "name": "stdout",
     "output_type": "stream",
     "text": [
      "\n",
      " 18%|█▊        | 184/1000 [7:30:55<31:04:50, 137.12s/it, best loss: -0.668604651163]\u001b[A\n",
      "\u001b[AParameters with this training accuracy 0.0180703452727 and loss 1.95495992925 :\n",
      "\n",
      " 18%|█▊        | 184/1000 [7:34:52<31:04:50, 137.12s/it, best loss: -0.668604651163]\u001b[A\n",
      "\u001b[AParameters with this testing accuracy 0.031976744186 and loss 1.94221002312 :\n",
      "\n",
      " 18%|█▊        | 184/1000 [7:34:52<31:04:50, 137.12s/it, best loss: -0.668604651163]\u001b[A\n",
      "\u001b[A{'kernel': 'sigmoid', 'C': 8.702255971858316, 'gamma': 3.606727277151867, 'class_weight': 'balanced'}\n",
      "\n",
      " 18%|█▊        | 184/1000 [7:34:52<31:04:50, 137.12s/it, best loss: -0.668604651163]\u001b[A"
     ]
    },
    {
     "name": "stderr",
     "output_type": "stream",
     "text": [
      "Hyperopt:  18%|█▊        | 185/1000 [7:34:52<37:50:11, 167.13s/it]"
     ]
    },
    {
     "name": "stdout",
     "output_type": "stream",
     "text": [
      "\n",
      " 18%|█▊        | 185/1000 [7:34:52<37:50:11, 167.13s/it, best loss: -0.668604651163]\u001b[A\n",
      "\u001b[AParameters with this training accuracy 0.995482413682 and loss 0.42451404333 :\n",
      "\n",
      " 18%|█▊        | 185/1000 [7:36:45<37:50:11, 167.13s/it, best loss: -0.668604651163]\u001b[A\n",
      "\u001b[AParameters with this testing accuracy 0.662790697674 and loss 1.09880328588 :\n",
      "\n",
      " 18%|█▊        | 185/1000 [7:36:45<37:50:11, 167.13s/it, best loss: -0.668604651163]\u001b[A\n",
      "\u001b[A{'kernel': 'linear', 'C': 16.26156005879706, 'gamma': 8.851512519483128, 'class_weight': 'balanced'}\n",
      "\n",
      " 18%|█▊        | 185/1000 [7:36:45<37:50:11, 167.13s/it, best loss: -0.668604651163]\u001b[A"
     ]
    },
    {
     "name": "stderr",
     "output_type": "stream",
     "text": [
      "Hyperopt:  19%|█▊        | 186/1000 [7:36:45<34:08:21, 150.98s/it]"
     ]
    },
    {
     "name": "stdout",
     "output_type": "stream",
     "text": [
      "\n",
      " 19%|█▊        | 186/1000 [7:36:45<34:08:21, 150.98s/it, best loss: -0.668604651163]\u001b[A\n",
      "\u001b[AParameters with this training accuracy 0.995159728945 and loss 0.426563459383 :\n",
      "\n",
      " 19%|█▊        | 186/1000 [7:38:35<34:08:21, 150.98s/it, best loss: -0.668604651163]\u001b[A\n",
      "\u001b[AParameters with this testing accuracy 0.665697674419 and loss 1.09759940132 :\n",
      "\n",
      " 19%|█▊        | 186/1000 [7:38:35<34:08:21, 150.98s/it, best loss: -0.668604651163]\u001b[A\n",
      "\u001b[A{'kernel': 'linear', 'C': 13.948348378562244, 'gamma': 7.260838908477053, 'class_weight': 'balanced'}\n",
      "\n",
      " 19%|█▊        | 186/1000 [7:38:35<34:08:21, 150.98s/it, best loss: -0.668604651163]\u001b[A"
     ]
    },
    {
     "name": "stderr",
     "output_type": "stream",
     "text": [
      "Hyperopt:  19%|█▊        | 187/1000 [7:38:35<31:19:16, 138.69s/it]"
     ]
    },
    {
     "name": "stdout",
     "output_type": "stream",
     "text": [
      "\n",
      " 19%|█▊        | 187/1000 [7:38:35<31:19:16, 138.69s/it, best loss: -0.668604651163]\u001b[A\n",
      "\u001b[AParameters with this training accuracy 0.99354630526 and loss 0.426840938701 :\n",
      "\n",
      " 19%|█▊        | 187/1000 [7:40:29<31:19:16, 138.69s/it, best loss: -0.668604651163]\u001b[A\n",
      "\u001b[AParameters with this testing accuracy 0.665697674419 and loss 1.09762437444 :\n",
      "\n",
      " 19%|█▊        | 187/1000 [7:40:29<31:19:16, 138.69s/it, best loss: -0.668604651163]\u001b[A\n",
      "\u001b[A{'kernel': 'linear', 'C': 11.798289237939843, 'gamma': 6.792296593823, 'class_weight': 'balanced'}\n",
      "\n",
      " 19%|█▊        | 187/1000 [7:40:29<31:19:16, 138.69s/it, best loss: -0.668604651163]\u001b[A"
     ]
    },
    {
     "name": "stderr",
     "output_type": "stream",
     "text": [
      "Hyperopt:  19%|█▉        | 188/1000 [7:40:29<29:35:37, 131.20s/it]"
     ]
    },
    {
     "name": "stdout",
     "output_type": "stream",
     "text": [
      "\n",
      " 19%|█▉        | 188/1000 [7:40:29<29:35:37, 131.20s/it, best loss: -0.668604651163]\u001b[A\n",
      "\u001b[AParameters with this training accuracy 0.996450467893 and loss 0.850773174629 :\n",
      "\n",
      " 19%|█▉        | 188/1000 [7:42:00<29:35:37, 131.20s/it, best loss: -0.668604651163]\u001b[A\n",
      "\u001b[AParameters with this testing accuracy 0.56976744186 and loss 1.32113593702 :\n",
      "\n",
      " 19%|█▉        | 188/1000 [7:42:00<29:35:37, 131.20s/it, best loss: -0.668604651163]\u001b[A\n",
      "\u001b[A{'kernel': 'poly', 'C': 15.32371918334607, 'gamma': 3.8517974506095705, 'class_weight': None}\n",
      "\n",
      " 19%|█▉        | 188/1000 [7:42:00<29:35:37, 131.20s/it, best loss: -0.668604651163]\u001b[A"
     ]
    },
    {
     "name": "stderr",
     "output_type": "stream",
     "text": [
      "Hyperopt:  19%|█▉        | 189/1000 [7:42:00<26:50:34, 119.15s/it]"
     ]
    },
    {
     "name": "stdout",
     "output_type": "stream",
     "text": [
      "\n",
      " 19%|█▉        | 189/1000 [7:42:00<26:50:34, 119.15s/it, best loss: -0.668604651163]\u001b[A\n",
      "\u001b[AParameters with this training accuracy 0.994514359471 and loss 0.426764388718 :\n",
      "\n",
      " 19%|█▉        | 189/1000 [7:43:55<26:50:34, 119.15s/it, best loss: -0.668604651163]\u001b[A\n",
      "\u001b[AParameters with this testing accuracy 0.668604651163 and loss 1.09795436558 :\n",
      "\n",
      " 19%|█▉        | 189/1000 [7:43:55<26:50:34, 119.15s/it, best loss: -0.668604651163]\u001b[A\n",
      "\u001b[A{'kernel': 'linear', 'C': 12.810300863178535, 'gamma': 7.56629205459298, 'class_weight': 'balanced'}\n",
      "\n",
      " 19%|█▉        | 189/1000 [7:43:55<26:50:34, 119.15s/it, best loss: -0.668604651163]\u001b[A"
     ]
    },
    {
     "name": "stderr",
     "output_type": "stream",
     "text": [
      "Hyperopt:  19%|█▉        | 190/1000 [7:43:55<26:32:02, 117.93s/it]"
     ]
    },
    {
     "name": "stdout",
     "output_type": "stream",
     "text": [
      "\n",
      " 19%|█▉        | 190/1000 [7:43:55<26:32:02, 117.93s/it, best loss: -0.668604651163]\u001b[A\n",
      "\u001b[AParameters with this training accuracy 0.994514359471 and loss 0.428229153839 :\n",
      "\n",
      " 19%|█▉        | 190/1000 [7:45:45<26:32:02, 117.93s/it, best loss: -0.668604651163]\u001b[A\n",
      "\u001b[AParameters with this testing accuracy 0.665697674419 and loss 1.098616845 :\n",
      "\n",
      " 19%|█▉        | 190/1000 [7:45:45<26:32:02, 117.93s/it, best loss: -0.668604651163]\u001b[A\n",
      "\u001b[A{'kernel': 'linear', 'C': 12.900030978782446, 'gamma': 0.35063174445105716, 'class_weight': 'balanced'}\n",
      "\n",
      " 19%|█▉        | 190/1000 [7:45:45<26:32:02, 117.93s/it, best loss: -0.668604651163]\u001b[A"
     ]
    },
    {
     "name": "stderr",
     "output_type": "stream",
     "text": [
      "Hyperopt:  19%|█▉        | 191/1000 [7:45:45<25:59:02, 115.63s/it]"
     ]
    },
    {
     "name": "stdout",
     "output_type": "stream",
     "text": [
      "\n",
      " 19%|█▉        | 191/1000 [7:45:45<25:59:02, 115.63s/it, best loss: -0.668604651163]\u001b[A\n",
      "\u001b[AParameters with this training accuracy 0.985801871571 and loss 0.453469063179 :\n",
      "\n",
      " 19%|█▉        | 192/1000 [7:51:29<34:16:32, 152.71s/it, best loss: -0.668604651163]\u001b[A\n",
      "\u001b[AParameters with this testing accuracy 0.656976744186 and loss 1.09664845059 :\n",
      "\n",
      " 19%|█▉        | 192/1000 [7:51:29<34:16:32, 152.71s/it, best loss: -0.668604651163]\u001b[A\n",
      "\u001b[A{'kernel': 'linear', 'C': 6.220108885202038, 'gamma': 1.5907618528387752, 'class_weight': 'balanced'}\n",
      "\n",
      " 19%|█▉        | 192/1000 [7:51:29<34:16:32, 152.71s/it, best loss: -0.668604651163]\u001b[A"
     ]
    },
    {
     "name": "stderr",
     "output_type": "stream",
     "text": [
      "Hyperopt:  19%|█▉        | 193/1000 [7:51:29<31:01:04, 138.37s/it]"
     ]
    },
    {
     "name": "stdout",
     "output_type": "stream",
     "text": [
      "\n",
      " 19%|█▉        | 193/1000 [7:51:29<31:01:04, 138.37s/it, best loss: -0.668604651163]\u001b[A\n",
      "\u001b[AParameters with this training accuracy 0.204904808003 and loss 1.95540105686 :\n",
      "\n",
      " 19%|█▉        | 193/1000 [7:55:26<31:01:04, 138.37s/it, best loss: -0.668604651163]\u001b[A\n",
      "\u001b[AParameters with this testing accuracy 0.261627906977 and loss 1.94866980284 :\n",
      "\n",
      " 19%|█▉        | 193/1000 [7:55:26<31:01:04, 138.37s/it, best loss: -0.668604651163]\u001b[A\n",
      "\u001b[A{'kernel': 'sigmoid', 'C': 16.506909453435195, 'gamma': 2.724648583525177, 'class_weight': 'balanced'}\n",
      "\n",
      " 19%|█▉        | 193/1000 [7:55:26<31:01:04, 138.37s/it, best loss: -0.668604651163]\u001b[A"
     ]
    },
    {
     "name": "stderr",
     "output_type": "stream",
     "text": [
      "Hyperopt:  19%|█▉        | 194/1000 [7:55:26<37:33:12, 167.73s/it]"
     ]
    },
    {
     "name": "stdout",
     "output_type": "stream",
     "text": [
      "\n",
      " 19%|█▉        | 194/1000 [7:55:26<37:33:12, 167.73s/it, best loss: -0.668604651163]\u001b[A\n",
      "\u001b[AParameters with this training accuracy 0.995805098419 and loss 0.418963695491 :\n",
      "\n",
      " 19%|█▉        | 194/1000 [7:57:20<37:33:12, 167.73s/it, best loss: -0.668604651163]\u001b[A\n",
      "\u001b[AParameters with this testing accuracy 0.65988372093 and loss 1.10397852144 :\n",
      "\n",
      " 19%|█▉        | 194/1000 [7:57:20<37:33:12, 167.73s/it, best loss: -0.668604651163]\u001b[A\n",
      "\u001b[A{'kernel': 'linear', 'C': 10.59687407846786, 'gamma': 9.11842395254794, 'class_weight': None}\n",
      "\n",
      " 19%|█▉        | 194/1000 [7:57:20<37:33:12, 167.73s/it, best loss: -0.668604651163]\u001b[A"
     ]
    },
    {
     "name": "stderr",
     "output_type": "stream",
     "text": [
      "Hyperopt:  20%|█▉        | 195/1000 [7:57:20<33:54:56, 151.67s/it]"
     ]
    },
    {
     "name": "stdout",
     "output_type": "stream",
     "text": [
      "\n",
      " 20%|█▉        | 195/1000 [7:57:20<33:54:56, 151.67s/it, best loss: -0.668604651163]\u001b[A\n",
      "\u001b[AParameters with this training accuracy 0.995482413682 and loss 0.424634716647 :\n",
      "\n",
      " 20%|█▉        | 195/1000 [7:59:16<33:54:56, 151.67s/it, best loss: -0.668604651163]\u001b[A\n",
      "\u001b[AParameters with this testing accuracy 0.662790697674 and loss 1.09983185343 :\n",
      "\n",
      " 20%|█▉        | 195/1000 [7:59:16<33:54:56, 151.67s/it, best loss: -0.668604651163]\u001b[A\n",
      "\u001b[A{'kernel': 'linear', 'C': 19.98816867449972, 'gamma': 0.11062918832341229, 'class_weight': 'balanced'}\n",
      "\n",
      " 20%|█▉        | 195/1000 [7:59:16<33:54:56, 151.67s/it, best loss: -0.668604651163]\u001b[A"
     ]
    },
    {
     "name": "stderr",
     "output_type": "stream",
     "text": [
      "Hyperopt:  20%|█▉        | 196/1000 [7:59:16<31:28:27, 140.93s/it]"
     ]
    },
    {
     "name": "stdout",
     "output_type": "stream",
     "text": [
      "\n",
      " 20%|█▉        | 196/1000 [7:59:16<31:28:27, 140.93s/it, best loss: -0.668604651163]\u001b[A\n",
      "\u001b[AParameters with this training accuracy 0.992578251049 and loss 0.434469484759 :\n",
      "\n",
      " 20%|█▉        | 196/1000 [8:01:06<31:28:27, 140.93s/it, best loss: -0.668604651163]\u001b[A\n",
      "\u001b[AParameters with this testing accuracy 0.662790697674 and loss 1.09714588117 :\n",
      "\n",
      " 20%|█▉        | 196/1000 [8:01:06<31:28:27, 140.93s/it, best loss: -0.668604651163]\u001b[A\n",
      "\u001b[A{'kernel': 'linear', 'C': 9.456345674679795, 'gamma': 2.04519149851784, 'class_weight': 'balanced'}\n",
      "\n",
      " 20%|█▉        | 196/1000 [8:01:06<31:28:27, 140.93s/it, best loss: -0.668604651163]\u001b[A"
     ]
    },
    {
     "name": "stderr",
     "output_type": "stream",
     "text": [
      "Hyperopt:  20%|█▉        | 197/1000 [8:01:06<29:24:25, 131.84s/it]"
     ]
    },
    {
     "name": "stdout",
     "output_type": "stream",
     "text": [
      "\n",
      " 20%|█▉        | 197/1000 [8:01:06<29:24:25, 131.84s/it, best loss: -0.668604651163]\u001b[A\n",
      "\u001b[AParameters with this training accuracy 0.996450467893 and loss 0.850865994011 :\n",
      "\n",
      " 20%|█▉        | 197/1000 [8:02:34<29:24:25, 131.84s/it, best loss: -0.668604651163]\u001b[A\n",
      "\u001b[AParameters with this testing accuracy 0.56976744186 and loss 1.32025316865 :\n",
      "\n",
      " 20%|█▉        | 197/1000 [8:02:34<29:24:25, 131.84s/it, best loss: -0.668604651163]\u001b[A\n",
      "\u001b[A{'kernel': 'poly', 'C': 15.751108323504786, 'gamma': 2.968862106157104, 'class_weight': 'balanced'}\n",
      "\n",
      " 20%|█▉        | 197/1000 [8:02:34<29:24:25, 131.84s/it, best loss: -0.668604651163]\u001b[A"
     ]
    },
    {
     "name": "stderr",
     "output_type": "stream",
     "text": [
      "Hyperopt:  20%|█▉        | 198/1000 [8:02:34<26:25:52, 118.64s/it]"
     ]
    },
    {
     "name": "stdout",
     "output_type": "stream",
     "text": [
      "\n",
      " 20%|█▉        | 198/1000 [8:02:34<26:25:52, 118.64s/it, best loss: -0.668604651163]\u001b[A\n",
      "\u001b[AParameters with this training accuracy 0.996450467893 and loss 2.79687963183 :\n",
      "\n",
      " 20%|█▉        | 198/1000 [8:06:39<26:25:52, 118.64s/it, best loss: -0.668604651163]\u001b[A\n",
      "\u001b[AParameters with this testing accuracy 0.459302325581 and loss 1.94294258388 :\n",
      "\n",
      " 20%|█▉        | 198/1000 [8:06:39<26:25:52, 118.64s/it, best loss: -0.668604651163]\u001b[A\n",
      "\u001b[A{'kernel': 'rbf', 'C': 17.267790072096638, 'gamma': 7.875694056999, 'class_weight': 'balanced'}\n",
      "\n",
      " 20%|█▉        | 198/1000 [8:06:39<26:25:52, 118.64s/it, best loss: -0.668604651163]\u001b[A"
     ]
    },
    {
     "name": "stderr",
     "output_type": "stream",
     "text": [
      "Hyperopt:  20%|█▉        | 199/1000 [8:06:39<34:48:34, 156.45s/it]"
     ]
    },
    {
     "name": "stdout",
     "output_type": "stream",
     "text": [
      "\n",
      " 20%|█▉        | 199/1000 [8:06:39<34:48:34, 156.45s/it, best loss: -0.668604651163]\u001b[A\n",
      "\u001b[AParameters with this training accuracy 0.995159728945 and loss 0.425473939699 :\n",
      "\n",
      " 20%|█▉        | 199/1000 [8:08:29<34:48:34, 156.45s/it, best loss: -0.668604651163]\u001b[A\n",
      "\u001b[AParameters with this testing accuracy 0.662790697674 and loss 1.09848936305 :\n",
      "\n",
      " 20%|█▉        | 199/1000 [8:08:29<34:48:34, 156.45s/it, best loss: -0.668604651163]\u001b[A\n",
      "\u001b[A{'kernel': 'linear', 'C': 14.257280734050045, 'gamma': 4.167364649655403, 'class_weight': 'balanced'}\n",
      "\n",
      " 20%|█▉        | 199/1000 [8:08:29<34:48:34, 156.45s/it, best loss: -0.668604651163]\u001b[A"
     ]
    },
    {
     "name": "stderr",
     "output_type": "stream",
     "text": [
      "Hyperopt:  20%|██        | 200/1000 [8:08:29<31:42:24, 142.68s/it]"
     ]
    },
    {
     "name": "stdout",
     "output_type": "stream",
     "text": [
      "\n",
      " 20%|██        | 200/1000 [8:08:29<31:42:24, 142.68s/it, best loss: -0.668604651163]\u001b[A\n",
      "\u001b[AParameters with this training accuracy 0.996450467893 and loss 0.419057951969 :\n",
      "\n",
      " 20%|██        | 200/1000 [8:10:23<31:42:24, 142.68s/it, best loss: -0.668604651163]\u001b[A\n",
      "\u001b[AParameters with this testing accuracy 0.65988372093 and loss 1.10364470205 :\n",
      "\n",
      " 20%|██        | 200/1000 [8:10:23<31:42:24, 142.68s/it, best loss: -0.668604651163]\u001b[A\n",
      "\u001b[A{'kernel': 'linear', 'C': 13.432866876826187, 'gamma': 8.310642885435565, 'class_weight': None}\n",
      "\n",
      " 20%|██        | 200/1000 [8:10:23<31:42:24, 142.68s/it, best loss: -0.668604651163]\u001b[A"
     ]
    },
    {
     "name": "stderr",
     "output_type": "stream",
     "text": [
      "Hyperopt:  20%|██        | 201/1000 [8:10:23<29:42:31, 133.86s/it]"
     ]
    },
    {
     "name": "stdout",
     "output_type": "stream",
     "text": [
      "\n",
      " 20%|██        | 201/1000 [8:10:23<29:42:31, 133.86s/it, best loss: -0.668604651163]\u001b[A\n",
      "\u001b[AParameters with this training accuracy 0.0141981284285 and loss 1.96290903542 :\n",
      "\n",
      " 20%|██        | 201/1000 [8:14:24<29:42:31, 133.86s/it, best loss: -0.668604651163]\u001b[A\n",
      "\u001b[AParameters with this testing accuracy 0.0232558139535 and loss 1.9433655539 :\n",
      "\n",
      " 20%|██        | 201/1000 [8:14:24<29:42:31, 133.86s/it, best loss: -0.668604651163]\u001b[A\n",
      "\u001b[A{'kernel': 'sigmoid', 'C': 11.224307143931844, 'gamma': 0.77744579397873, 'class_weight': 'balanced'}\n",
      "\n",
      " 20%|██        | 201/1000 [8:14:24<29:42:31, 133.86s/it, best loss: -0.668604651163]\u001b[A"
     ]
    },
    {
     "name": "stderr",
     "output_type": "stream",
     "text": [
      "Hyperopt:  20%|██        | 202/1000 [8:14:24<36:49:12, 166.11s/it]"
     ]
    },
    {
     "name": "stdout",
     "output_type": "stream",
     "text": [
      "\n",
      " 20%|██        | 202/1000 [8:14:24<36:49:12, 166.11s/it, best loss: -0.668604651163]\u001b[A\n",
      "\u001b[AParameters with this training accuracy 0.989351403679 and loss 0.444278321309 :\n",
      "\n",
      " 20%|██        | 202/1000 [8:16:13<36:49:12, 166.11s/it, best loss: -0.668604651163]\u001b[A\n",
      "\u001b[AParameters with this testing accuracy 0.662790697674 and loss 1.09652032881 :\n",
      "\n",
      " 20%|██        | 202/1000 [8:16:13<36:49:12, 166.11s/it, best loss: -0.668604651163]\u001b[A\n",
      "\u001b[A{'kernel': 'linear', 'C': 7.713315885345498, 'gamma': 9.38907208992843, 'class_weight': 'balanced'}\n",
      "\n",
      " 20%|██        | 202/1000 [8:16:13<36:49:12, 166.11s/it, best loss: -0.668604651163]\u001b[A"
     ]
    },
    {
     "name": "stderr",
     "output_type": "stream",
     "text": [
      "Hyperopt:  20%|██        | 203/1000 [8:16:13<32:58:15, 148.93s/it]"
     ]
    },
    {
     "name": "stdout",
     "output_type": "stream",
     "text": [
      "\n",
      " 20%|██        | 203/1000 [8:16:13<32:58:15, 148.93s/it, best loss: -0.668604651163]\u001b[A\n",
      "\u001b[AParameters with this training accuracy 0.995159728945 and loss 0.424821459186 :\n",
      "\n",
      " 20%|██        | 203/1000 [8:18:05<32:58:15, 148.93s/it, best loss: -0.668604651163]\u001b[A\n",
      "\u001b[AParameters with this testing accuracy 0.665697674419 and loss 1.0979529081 :\n",
      "\n",
      " 20%|██        | 203/1000 [8:18:05<32:58:15, 148.93s/it, best loss: -0.668604651163]\u001b[A\n",
      "\u001b[A{'kernel': 'linear', 'C': 13.76612514995243, 'gamma': 6.364584040268968, 'class_weight': 'balanced'}\n",
      "\n",
      " 20%|██        | 203/1000 [8:18:05<32:58:15, 148.93s/it, best loss: -0.668604651163]\u001b[A"
     ]
    },
    {
     "name": "stderr",
     "output_type": "stream",
     "text": [
      "Hyperopt:  20%|██        | 204/1000 [8:18:05<30:30:22, 137.97s/it]"
     ]
    },
    {
     "name": "stdout",
     "output_type": "stream",
     "text": [
      "\n",
      " 20%|██        | 204/1000 [8:18:05<30:30:22, 137.97s/it, best loss: -0.668604651163]\u001b[A\n",
      "\u001b[AParameters with this training accuracy 0.979348176831 and loss 0.4762250356 :\n",
      "\n",
      " 20%|██        | 204/1000 [8:19:50<30:30:22, 137.97s/it, best loss: -0.668604651163]\u001b[A\n",
      "\u001b[AParameters with this testing accuracy 0.651162790698 and loss 1.09780551418 :\n",
      "\n",
      " 20%|██        | 204/1000 [8:19:50<30:30:22, 137.97s/it, best loss: -0.668604651163]\u001b[A\n",
      "\u001b[A{'kernel': 'linear', 'C': 4.583224887346472, 'gamma': 3.1424799651442097, 'class_weight': 'balanced'}\n",
      "\n",
      " 20%|██        | 204/1000 [8:19:50<30:30:22, 137.97s/it, best loss: -0.668604651163]\u001b[A"
     ]
    },
    {
     "name": "stderr",
     "output_type": "stream",
     "text": [
      "Hyperopt:  20%|██        | 205/1000 [8:19:50<28:17:00, 128.08s/it]"
     ]
    },
    {
     "name": "stdout",
     "output_type": "stream",
     "text": [
      "\n",
      " 20%|██        | 205/1000 [8:19:50<28:17:00, 128.08s/it, best loss: -0.668604651163]\u001b[A\n",
      "\u001b[AParameters with this training accuracy 0.996450467893 and loss 0.853025380999 :\n",
      "\n",
      " 20%|██        | 205/1000 [8:21:20<28:17:00, 128.08s/it, best loss: -0.668604651163]\u001b[A\n",
      "\u001b[AParameters with this testing accuracy 0.56976744186 and loss 1.32188867339 :\n",
      "\n",
      " 20%|██        | 205/1000 [8:21:20<28:17:00, 128.08s/it, best loss: -0.668604651163]\u001b[A\n",
      "\u001b[A{'kernel': 'poly', 'C': 11.48902458703075, 'gamma': 4.773923362809445, 'class_weight': 'balanced'}\n",
      "\n",
      " 20%|██        | 205/1000 [8:21:20<28:17:00, 128.08s/it, best loss: -0.668604651163]\u001b[A"
     ]
    },
    {
     "name": "stderr",
     "output_type": "stream",
     "text": [
      "Hyperopt:  21%|██        | 206/1000 [8:21:20<25:41:17, 116.47s/it]"
     ]
    },
    {
     "name": "stdout",
     "output_type": "stream",
     "text": [
      "\n",
      " 21%|██        | 206/1000 [8:21:20<25:41:17, 116.47s/it, best loss: -0.668604651163]\u001b[A\n",
      "\u001b[AParameters with this training accuracy 0.996450467893 and loss 2.84784310456 :\n",
      "\n",
      " 21%|██        | 206/1000 [8:25:22<25:41:17, 116.47s/it, best loss: -0.668604651163]\u001b[A\n",
      "\u001b[AParameters with this testing accuracy 0.459302325581 and loss 1.94182529064 :\n",
      "\n",
      " 21%|██        | 206/1000 [8:25:22<25:41:17, 116.47s/it, best loss: -0.668604651163]\u001b[A\n",
      "\u001b[A{'kernel': 'rbf', 'C': 18.68330313899451, 'gamma': 6.143712738189039, 'class_weight': None}\n",
      "\n",
      " 21%|██        | 206/1000 [8:25:22<25:41:17, 116.47s/it, best loss: -0.668604651163]\u001b[A"
     ]
    },
    {
     "name": "stderr",
     "output_type": "stream",
     "text": [
      "Hyperopt:  21%|██        | 207/1000 [8:25:22<33:58:46, 154.26s/it]"
     ]
    },
    {
     "name": "stdout",
     "output_type": "stream",
     "text": [
      "\n",
      " 21%|██        | 207/1000 [8:25:22<33:58:47, 154.26s/it, best loss: -0.668604651163]\u001b[A\n",
      "\u001b[AParameters with this training accuracy 0.992900935786 and loss 0.433218765481 :\n",
      "\n",
      " 21%|██        | 207/1000 [8:27:13<33:58:47, 154.26s/it, best loss: -0.668604651163]\u001b[A\n",
      "\u001b[AParameters with this testing accuracy 0.665697674419 and loss 1.09754812822 :\n",
      "\n",
      " 21%|██        | 207/1000 [8:27:13<33:58:47, 154.26s/it, best loss: -0.668604651163]\u001b[A\n",
      "\u001b[A{'kernel': 'linear', 'C': 10.042887045342267, 'gamma': 1.737583366633099, 'class_weight': 'balanced'}\n",
      "\n",
      " 21%|██        | 207/1000 [8:27:13<33:58:47, 154.26s/it, best loss: -0.668604651163]\u001b[A"
     ]
    },
    {
     "name": "stderr",
     "output_type": "stream",
     "text": [
      "Hyperopt:  21%|██        | 208/1000 [8:27:13<31:06:54, 141.43s/it]"
     ]
    },
    {
     "name": "stdout",
     "output_type": "stream",
     "text": [
      "\n",
      " 21%|██        | 208/1000 [8:27:13<31:06:54, 141.43s/it, best loss: -0.668604651163]\u001b[A\n",
      "\u001b[AParameters with this training accuracy 0.0790577605679 and loss 1.96204818135 :\n",
      "\n",
      " 21%|██        | 208/1000 [8:31:11<31:06:54, 141.43s/it, best loss: -0.668604651163]\u001b[A\n",
      "\u001b[AParameters with this testing accuracy 0.0959302325581 and loss 1.94486165759 :\n",
      "\n",
      " 21%|██        | 208/1000 [8:31:11<31:06:54, 141.43s/it, best loss: -0.668604651163]\u001b[A\n",
      "\u001b[A{'kernel': 'sigmoid', 'C': 10.539027235945017, 'gamma': 1.1311302263037541, 'class_weight': 'balanced'}\n",
      "\n",
      " 21%|██        | 208/1000 [8:31:11<31:06:54, 141.43s/it, best loss: -0.668604651163]\u001b[A"
     ]
    },
    {
     "name": "stderr",
     "output_type": "stream",
     "text": [
      "Hyperopt:  21%|██        | 209/1000 [8:31:11<37:25:22, 170.32s/it]"
     ]
    },
    {
     "name": "stdout",
     "output_type": "stream",
     "text": [
      "\n",
      " 21%|██        | 209/1000 [8:31:11<37:25:22, 170.32s/it, best loss: -0.668604651163]\u001b[A\n",
      "\u001b[AParameters with this training accuracy 0.994191674734 and loss 0.427267485817 :\n",
      "\n",
      " 21%|██        | 209/1000 [8:33:06<37:25:22, 170.32s/it, best loss: -0.668604651163]\u001b[A\n",
      "\u001b[AParameters with this testing accuracy 0.668604651163 and loss 1.09745548908 :\n",
      "\n",
      " 21%|██        | 209/1000 [8:33:06<37:25:22, 170.32s/it, best loss: -0.668604651163]\u001b[A\n",
      "\u001b[A{'kernel': 'linear', 'C': 12.449859043202165, 'gamma': 8.514877321306281, 'class_weight': 'balanced'}\n",
      "\n",
      " 21%|██        | 209/1000 [8:33:06<37:25:22, 170.32s/it, best loss: -0.668604651163]\u001b[A"
     ]
    },
    {
     "name": "stderr",
     "output_type": "stream",
     "text": [
      "Hyperopt:  21%|██        | 210/1000 [8:33:06<33:43:20, 153.67s/it]"
     ]
    },
    {
     "name": "stdout",
     "output_type": "stream",
     "text": [
      "\n",
      " 21%|██        | 210/1000 [8:33:06<33:43:20, 153.67s/it, best loss: -0.668604651163]\u001b[A\n",
      "\u001b[AParameters with this training accuracy 0.993868989997 and loss 0.429828616678 :\n",
      "\n",
      " 21%|██        | 210/1000 [8:35:02<33:43:20, 153.67s/it, best loss: -0.668604651163]\u001b[A\n",
      "\u001b[AParameters with this testing accuracy 0.668604651163 and loss 1.09763550735 :\n",
      "\n",
      " 21%|██        | 210/1000 [8:35:02<33:43:20, 153.67s/it, best loss: -0.668604651163]\u001b[A\n",
      "\u001b[A{'kernel': 'linear', 'C': 12.09159380788315, 'gamma': 5.083689830838953, 'class_weight': 'balanced'}\n",
      "\n",
      " 21%|██        | 210/1000 [8:35:02<33:43:20, 153.67s/it, best loss: -0.668604651163]\u001b[A"
     ]
    },
    {
     "name": "stderr",
     "output_type": "stream",
     "text": [
      "Hyperopt:  21%|██        | 211/1000 [8:35:02<31:12:13, 142.37s/it]"
     ]
    },
    {
     "name": "stdout",
     "output_type": "stream",
     "text": [
      "\n",
      " 21%|██        | 211/1000 [8:35:02<31:12:13, 142.37s/it, best loss: -0.668604651163]\u001b[A\n",
      "\u001b[AParameters with this training accuracy 0.993868989997 and loss 0.428620897814 :\n",
      "\n",
      " 21%|██        | 211/1000 [8:36:59<31:12:13, 142.37s/it, best loss: -0.668604651163]\u001b[A\n",
      "\u001b[AParameters with this testing accuracy 0.668604651163 and loss 1.0967598728 :\n",
      "\n",
      " 21%|██        | 211/1000 [8:36:59<31:12:13, 142.37s/it, best loss: -0.668604651163]\u001b[A\n",
      "\u001b[A{'kernel': 'linear', 'C': 11.925120576385146, 'gamma': 4.6161107870896725, 'class_weight': 'balanced'}\n",
      "\n",
      " 21%|██        | 211/1000 [8:36:59<31:12:13, 142.37s/it, best loss: -0.668604651163]\u001b[A"
     ]
    },
    {
     "name": "stderr",
     "output_type": "stream",
     "text": [
      "Hyperopt:  21%|██        | 212/1000 [8:36:59<29:30:56, 134.84s/it]"
     ]
    },
    {
     "name": "stdout",
     "output_type": "stream",
     "text": [
      "\n",
      " 21%|██        | 212/1000 [8:36:59<29:30:56, 134.84s/it, best loss: -0.668604651163]\u001b[A\n",
      "\u001b[AParameters with this training accuracy 0.982252339464 and loss 0.462994523867 :\n",
      "\n",
      " 21%|██        | 212/1000 [8:38:48<29:30:56, 134.84s/it, best loss: -0.668604651163]\u001b[A\n",
      "\u001b[AParameters with this testing accuracy 0.651162790698 and loss 1.09706348534 :\n",
      "\n",
      " 21%|██        | 212/1000 [8:38:48<29:30:56, 134.84s/it, best loss: -0.668604651163]\u001b[A\n",
      "\u001b[A{'kernel': 'linear', 'C': 5.393878020036873, 'gamma': 4.3384914250007345, 'class_weight': 'balanced'}\n",
      "\n",
      " 21%|██        | 212/1000 [8:38:48<29:30:56, 134.84s/it, best loss: -0.668604651163]\u001b[A"
     ]
    },
    {
     "name": "stderr",
     "output_type": "stream",
     "text": [
      "Hyperopt:  21%|██▏       | 213/1000 [8:38:48<27:47:33, 127.13s/it]"
     ]
    },
    {
     "name": "stdout",
     "output_type": "stream",
     "text": [
      "\n",
      " 21%|██▏       | 213/1000 [8:38:48<27:47:33, 127.13s/it, best loss: -0.668604651163]\u001b[A\n",
      "\u001b[AParameters with this training accuracy 0.996450467893 and loss 0.849795375159 :\n",
      "\n",
      " 21%|██▏       | 213/1000 [8:40:19<27:47:33, 127.13s/it, best loss: -0.668604651163]\u001b[A\n",
      "\u001b[AParameters with this testing accuracy 0.56976744186 and loss 1.32050355247 :\n",
      "\n",
      " 21%|██▏       | 213/1000 [8:40:19<27:47:33, 127.13s/it, best loss: -0.668604651163]\u001b[A\n",
      "\u001b[A{'kernel': 'poly', 'C': 9.013979651390887, 'gamma': 5.257724599284328, 'class_weight': None}\n",
      "\n",
      " 21%|██▏       | 213/1000 [8:40:19<27:47:33, 127.13s/it, best loss: -0.668604651163]\u001b[A"
     ]
    },
    {
     "name": "stderr",
     "output_type": "stream",
     "text": [
      "Hyperopt:  21%|██▏       | 214/1000 [8:40:19<25:21:10, 116.12s/it]"
     ]
    },
    {
     "name": "stdout",
     "output_type": "stream",
     "text": [
      "\n",
      " 21%|██▏       | 214/1000 [8:40:19<25:21:10, 116.12s/it, best loss: -0.668604651163]\u001b[A\n",
      "\u001b[AParameters with this training accuracy 0.996450467893 and loss 2.87583835589 :\n",
      "\n",
      " 21%|██▏       | 214/1000 [8:44:29<25:21:10, 116.12s/it, best loss: -0.668604651163]\u001b[A\n",
      "\u001b[AParameters with this testing accuracy 0.459302325581 and loss 1.94235025729 :\n",
      "\n",
      " 21%|██▏       | 214/1000 [8:44:29<25:21:10, 116.12s/it, best loss: -0.668604651163]\u001b[A\n",
      "\u001b[A{'kernel': 'rbf', 'C': 15.064407940846946, 'gamma': 6.583633966132214, 'class_weight': 'balanced'}\n",
      "\n",
      " 21%|██▏       | 214/1000 [8:44:29<25:21:10, 116.12s/it, best loss: -0.668604651163]\u001b[A"
     ]
    },
    {
     "name": "stderr",
     "output_type": "stream",
     "text": [
      "Hyperopt:  22%|██▏       | 215/1000 [8:44:29<34:03:21, 156.18s/it]"
     ]
    },
    {
     "name": "stdout",
     "output_type": "stream",
     "text": [
      "\n",
      " 22%|██▏       | 215/1000 [8:44:29<34:03:21, 156.18s/it, best loss: -0.668604651163]\u001b[A\n",
      "\u001b[AParameters with this training accuracy 0.973862536302 and loss 0.496056375409 :\n",
      "\n",
      " 22%|██▏       | 215/1000 [8:46:13<34:03:21, 156.18s/it, best loss: -0.668604651163]\u001b[A\n",
      "\u001b[AParameters with this testing accuracy 0.639534883721 and loss 1.09842214561 :\n",
      "\n",
      " 22%|██▏       | 215/1000 [8:46:13<34:03:21, 156.18s/it, best loss: -0.668604651163]\u001b[A\n",
      "\u001b[A{'kernel': 'linear', 'C': 3.746846494459967, 'gamma': 5.851540943688103, 'class_weight': 'balanced'}\n",
      "\n",
      " 22%|██▏       | 215/1000 [8:46:13<34:03:21, 156.18s/it, best loss: -0.668604651163]\u001b[A"
     ]
    },
    {
     "name": "stderr",
     "output_type": "stream",
     "text": [
      "Hyperopt:  22%|██▏       | 216/1000 [8:46:13<30:39:45, 140.80s/it]"
     ]
    },
    {
     "name": "stdout",
     "output_type": "stream",
     "text": [
      "\n",
      " 22%|██▏       | 216/1000 [8:46:13<30:39:45, 140.80s/it, best loss: -0.668604651163]\u001b[A\n",
      "\u001b[AParameters with this training accuracy 0.995482413682 and loss 0.424193046137 :\n",
      "\n",
      " 22%|██▏       | 216/1000 [8:48:07<30:39:45, 140.80s/it, best loss: -0.668604651163]\u001b[A\n",
      "\u001b[AParameters with this testing accuracy 0.662790697674 and loss 1.09956048735 :\n",
      "\n",
      " 22%|██▏       | 216/1000 [8:48:07<30:39:45, 140.80s/it, best loss: -0.668604651163]\u001b[A\n",
      "\u001b[A{'kernel': 'linear', 'C': 19.553972426921213, 'gamma': 7.575225082573141, 'class_weight': 'balanced'}\n",
      "\n",
      " 22%|██▏       | 216/1000 [8:48:07<30:39:45, 140.80s/it, best loss: -0.668604651163]\u001b[A"
     ]
    },
    {
     "name": "stderr",
     "output_type": "stream",
     "text": [
      "Hyperopt:  22%|██▏       | 217/1000 [8:48:07<28:48:56, 132.49s/it]"
     ]
    },
    {
     "name": "stdout",
     "output_type": "stream",
     "text": [
      "\n",
      " 22%|██▏       | 217/1000 [8:48:07<28:48:56, 132.49s/it, best loss: -0.668604651163]\u001b[A\n",
      "\u001b[AParameters with this training accuracy 0.0180703452727 and loss 1.95498285563 :\n",
      "\n",
      " 22%|██▏       | 217/1000 [8:52:10<28:48:56, 132.49s/it, best loss: -0.668604651163]\u001b[A\n",
      "\u001b[AParameters with this testing accuracy 0.031976744186 and loss 1.9514162149 :\n",
      "\n",
      " 22%|██▏       | 217/1000 [8:52:10<28:48:56, 132.49s/it, best loss: -0.668604651163]\u001b[A\n",
      "\u001b[A{'kernel': 'sigmoid', 'C': 17.896774073672944, 'gamma': 3.54039961613859, 'class_weight': 'balanced'}\n",
      "\n",
      " 22%|██▏       | 217/1000 [8:52:10<28:48:56, 132.49s/it, best loss: -0.668604651163]\u001b[A"
     ]
    },
    {
     "name": "stderr",
     "output_type": "stream",
     "text": [
      "Hyperopt:  22%|██▏       | 218/1000 [8:52:10<36:01:36, 165.85s/it]"
     ]
    },
    {
     "name": "stdout",
     "output_type": "stream",
     "text": [
      "\n",
      " 22%|██▏       | 218/1000 [8:52:10<36:01:36, 165.85s/it, best loss: -0.668604651163]\u001b[A\n",
      "\u001b[AParameters with this training accuracy 0.994837044208 and loss 0.42533944449 :\n",
      "\n",
      " 22%|██▏       | 218/1000 [8:54:04<36:01:36, 165.85s/it, best loss: -0.668604651163]\u001b[A\n",
      "\u001b[AParameters with this testing accuracy 0.665697674419 and loss 1.09784787531 :\n",
      "\n",
      " 22%|██▏       | 218/1000 [8:54:04<36:01:36, 165.85s/it, best loss: -0.668604651163]\u001b[A\n",
      "\u001b[A{'kernel': 'linear', 'C': 13.126760669780563, 'gamma': 8.181662663469758, 'class_weight': 'balanced'}\n",
      "\n",
      " 22%|██▏       | 218/1000 [8:54:04<36:01:36, 165.85s/it, best loss: -0.668604651163]\u001b[A"
     ]
    },
    {
     "name": "stderr",
     "output_type": "stream",
     "text": [
      "Hyperopt:  22%|██▏       | 219/1000 [8:54:04<32:36:15, 150.29s/it]"
     ]
    },
    {
     "name": "stdout",
     "output_type": "stream",
     "text": [
      "\n",
      " 22%|██▏       | 219/1000 [8:54:04<32:36:15, 150.29s/it, best loss: -0.668604651163]\u001b[A\n",
      "\u001b[AParameters with this training accuracy 0.996450467893 and loss 0.419553979691 :\n",
      "\n",
      " 22%|██▏       | 219/1000 [8:55:59<32:36:15, 150.29s/it, best loss: -0.668604651163]\u001b[A\n",
      "\u001b[AParameters with this testing accuracy 0.65988372093 and loss 1.10336790712 :\n",
      "\n",
      " 22%|██▏       | 219/1000 [8:55:59<32:36:15, 150.29s/it, best loss: -0.668604651163]\u001b[A\n",
      "\u001b[A{'kernel': 'linear', 'C': 14.496112591404863, 'gamma': 3.4021810497288785, 'class_weight': None}\n",
      "\n",
      " 22%|██▏       | 219/1000 [8:55:59<32:36:15, 150.29s/it, best loss: -0.668604651163]\u001b[A"
     ]
    },
    {
     "name": "stderr",
     "output_type": "stream",
     "text": [
      "Hyperopt:  22%|██▏       | 220/1000 [8:55:59<30:16:27, 139.73s/it]"
     ]
    },
    {
     "name": "stdout",
     "output_type": "stream",
     "text": [
      "\n",
      " 22%|██▏       | 220/1000 [8:55:59<30:16:27, 139.73s/it, best loss: -0.668604651163]\u001b[A\n",
      "\u001b[AParameters with this training accuracy 0.995482413682 and loss 0.421570467345 :\n",
      "\n",
      " 22%|██▏       | 220/1000 [8:57:58<30:16:27, 139.73s/it, best loss: -0.668604651163]\u001b[A\n",
      "\u001b[AParameters with this testing accuracy 0.662790697674 and loss 1.09828523834 :\n",
      "\n",
      " 22%|██▏       | 220/1000 [8:57:58<30:16:27, 139.73s/it, best loss: -0.668604651163]\u001b[A\n",
      "\u001b[A{'kernel': 'linear', 'C': 16.870514920901904, 'gamma': 9.759277991343733, 'class_weight': 'balanced'}\n",
      "\n",
      " 22%|██▏       | 220/1000 [8:57:58<30:16:27, 139.73s/it, best loss: -0.668604651163]\u001b[A"
     ]
    },
    {
     "name": "stderr",
     "output_type": "stream",
     "text": [
      "Hyperopt:  22%|██▏       | 221/1000 [8:57:58<28:52:57, 133.48s/it]"
     ]
    },
    {
     "name": "stdout",
     "output_type": "stream",
     "text": [
      "\n",
      " 22%|██▏       | 221/1000 [8:57:58<28:52:57, 133.48s/it, best loss: -0.668604651163]\u001b[A\n",
      "\u001b[AParameters with this training accuracy 0.996450467893 and loss 0.852787927715 :\n",
      "\n",
      " 22%|██▏       | 221/1000 [8:59:30<28:52:57, 133.48s/it, best loss: -0.668604651163]\u001b[A\n",
      "\u001b[AParameters with this testing accuracy 0.56976744186 and loss 1.32119306193 :\n",
      "\n",
      " 22%|██▏       | 221/1000 [8:59:30<28:52:57, 133.48s/it, best loss: -0.668604651163]\u001b[A\n",
      "\u001b[A{'kernel': 'poly', 'C': 8.325044274697571, 'gamma': 2.2990906133098634, 'class_weight': 'balanced'}\n",
      "\n",
      " 22%|██▏       | 221/1000 [8:59:30<28:52:57, 133.48s/it, best loss: -0.668604651163]\u001b[A"
     ]
    },
    {
     "name": "stderr",
     "output_type": "stream",
     "text": [
      "Hyperopt:  22%|██▏       | 222/1000 [8:59:30<26:10:26, 121.11s/it]"
     ]
    },
    {
     "name": "stdout",
     "output_type": "stream",
     "text": [
      "\n",
      " 22%|██▏       | 222/1000 [8:59:30<26:10:26, 121.11s/it, best loss: -0.668604651163]\u001b[A\n",
      "\u001b[AParameters with this training accuracy 0.992900935786 and loss 0.430317284638 :\n",
      "\n",
      " 22%|██▏       | 222/1000 [9:01:20<26:10:26, 121.11s/it, best loss: -0.668604651163]\u001b[A\n",
      "\u001b[AParameters with this testing accuracy 0.665697674419 and loss 1.0973562845 :\n",
      "\n",
      " 22%|██▏       | 222/1000 [9:01:20<26:10:26, 121.11s/it, best loss: -0.668604651163]\u001b[A\n",
      "\u001b[A{'kernel': 'linear', 'C': 10.872293106771103, 'gamma': 3.986567611316808, 'class_weight': 'balanced'}\n",
      "\n",
      " 22%|██▏       | 222/1000 [9:01:20<26:10:26, 121.11s/it, best loss: -0.668604651163]\u001b[A"
     ]
    },
    {
     "name": "stderr",
     "output_type": "stream",
     "text": [
      "Hyperopt:  22%|██▏       | 223/1000 [9:01:20<25:24:42, 117.74s/it]"
     ]
    },
    {
     "name": "stdout",
     "output_type": "stream",
     "text": [
      "\n",
      " 22%|██▏       | 223/1000 [9:01:20<25:24:42, 117.74s/it, best loss: -0.668604651163]\u001b[A\n",
      "\u001b[AParameters with this training accuracy 0.996450467893 and loss 2.90565838726 :\n",
      "\n",
      " 22%|██▏       | 223/1000 [9:05:25<25:24:42, 117.74s/it, best loss: -0.668604651163]\u001b[A\n",
      "\u001b[AParameters with this testing accuracy 0.459302325581 and loss 1.94443178983 :\n",
      "\n",
      " 22%|██▏       | 223/1000 [9:05:25<25:24:42, 117.74s/it, best loss: -0.668604651163]\u001b[A\n",
      "\u001b[A{'kernel': 'rbf', 'C': 15.906476182536947, 'gamma': 8.69175233393025, 'class_weight': 'balanced'}\n",
      "\n",
      " 22%|██▏       | 223/1000 [9:05:25<25:24:42, 117.74s/it, best loss: -0.668604651163]\u001b[A"
     ]
    },
    {
     "name": "stderr",
     "output_type": "stream",
     "text": [
      "Hyperopt:  22%|██▏       | 224/1000 [9:05:25<33:36:04, 155.88s/it]"
     ]
    },
    {
     "name": "stdout",
     "output_type": "stream",
     "text": [
      "\n",
      " 22%|██▏       | 224/1000 [9:05:25<33:36:04, 155.88s/it, best loss: -0.668604651163]\u001b[A\n",
      "\u001b[AParameters with this training accuracy 0.995159728945 and loss 0.425836737784 :\n",
      "\n",
      " 22%|██▏       | 224/1000 [9:07:21<33:36:04, 155.88s/it, best loss: -0.668604651163]\u001b[A\n",
      "\u001b[AParameters with this testing accuracy 0.662790697674 and loss 1.0973260586 :\n",
      "\n",
      " 22%|██▏       | 224/1000 [9:07:21<33:36:04, 155.88s/it, best loss: -0.668604651163]\u001b[A\n",
      "\u001b[A{'kernel': 'linear', 'C': 14.11067401901687, 'gamma': 8.973310981418791, 'class_weight': 'balanced'}\n",
      "\n",
      " 22%|██▏       | 224/1000 [9:07:21<33:36:04, 155.88s/it, best loss: -0.668604651163]\u001b[A"
     ]
    },
    {
     "name": "stderr",
     "output_type": "stream",
     "text": [
      "Hyperopt:  22%|██▎       | 225/1000 [9:07:22<31:00:05, 144.01s/it]"
     ]
    },
    {
     "name": "stdout",
     "output_type": "stream",
     "text": [
      "\n",
      " 22%|██▎       | 225/1000 [9:07:21<31:00:05, 144.01s/it, best loss: -0.668604651163]\u001b[A\n",
      "\u001b[AParameters with this training accuracy 0.431106808648 and loss 1.95391485972 :\n",
      "\n",
      " 22%|██▎       | 225/1000 [9:08:47<31:00:05, 144.01s/it, best loss: -0.668604651163]\u001b[A\n",
      "\u001b[AParameters with this testing accuracy 0.468023255814 and loss 1.93420525746 :\n",
      "\n",
      " 22%|██▎       | 225/1000 [9:08:47<31:00:05, 144.01s/it, best loss: -0.668604651163]\u001b[A\n",
      "\u001b[A{'kernel': 'sigmoid', 'C': 15.288855403366744, 'gamma': 3.244351469597053, 'class_weight': None}\n",
      "\n",
      " 22%|██▎       | 225/1000 [9:08:47<31:00:05, 144.01s/it, best loss: -0.668604651163]\u001b[A"
     ]
    },
    {
     "name": "stderr",
     "output_type": "stream",
     "text": [
      "Hyperopt:  23%|██▎       | 226/1000 [9:08:47<27:12:44, 126.57s/it]"
     ]
    },
    {
     "name": "stdout",
     "output_type": "stream",
     "text": [
      "\n",
      " 23%|██▎       | 226/1000 [9:08:47<27:12:44, 126.57s/it, best loss: -0.668604651163]\u001b[A\n",
      "\u001b[AParameters with this training accuracy 0.992578251049 and loss 0.433950119934 :\n",
      "\n",
      " 23%|██▎       | 226/1000 [9:10:41<27:12:44, 126.57s/it, best loss: -0.668604651163]\u001b[A\n",
      "\u001b[AParameters with this testing accuracy 0.665697674419 and loss 1.09710479532 :\n",
      "\n",
      " 23%|██▎       | 226/1000 [9:10:41<27:12:44, 126.57s/it, best loss: -0.668604651163]\u001b[A\n",
      "\u001b[A{'kernel': 'linear', 'C': 9.62689056374202, 'gamma': 4.188597138892335, 'class_weight': 'balanced'}\n",
      "\n",
      " 23%|██▎       | 226/1000 [9:10:41<27:12:44, 126.57s/it, best loss: -0.668604651163]\u001b[A"
     ]
    },
    {
     "name": "stderr",
     "output_type": "stream",
     "text": [
      "Hyperopt:  23%|██▎       | 227/1000 [9:10:41<26:22:25, 122.83s/it]"
     ]
    },
    {
     "name": "stdout",
     "output_type": "stream",
     "text": [
      "\n",
      " 23%|██▎       | 227/1000 [9:10:41<26:22:25, 122.83s/it, best loss: -0.668604651163]\u001b[A\n",
      "\u001b[AParameters with this training accuracy 0.988060664731 and loss 0.444186116231 :\n",
      "\n",
      " 23%|██▎       | 227/1000 [9:12:32<26:22:25, 122.83s/it, best loss: -0.668604651163]\u001b[A\n",
      "\u001b[AParameters with this testing accuracy 0.662790697674 and loss 1.09538042723 :\n",
      "\n",
      " 23%|██▎       | 227/1000 [9:12:32<26:22:25, 122.83s/it, best loss: -0.668604651163]\u001b[A\n",
      "\u001b[A{'kernel': 'linear', 'C': 7.269907694903822, 'gamma': 2.7601068037024716, 'class_weight': 'balanced'}\n",
      "\n",
      " 23%|██▎       | 227/1000 [9:12:32<26:22:25, 122.83s/it, best loss: -0.668604651163]\u001b[A"
     ]
    },
    {
     "name": "stderr",
     "output_type": "stream",
     "text": [
      "Hyperopt:  23%|██▎       | 228/1000 [9:12:32<25:34:25, 119.26s/it]"
     ]
    },
    {
     "name": "stdout",
     "output_type": "stream",
     "text": [
      "\n",
      " 23%|██▎       | 228/1000 [9:12:32<25:34:25, 119.26s/it, best loss: -0.668604651163]\u001b[A\n",
      "\u001b[AParameters with this training accuracy 0.996450467893 and loss 0.851223317767 :\n",
      "\n",
      " 23%|██▎       | 228/1000 [9:14:05<25:34:25, 119.26s/it, best loss: -0.668604651163]\u001b[A\n",
      "\u001b[AParameters with this testing accuracy 0.56976744186 and loss 1.32026552165 :\n",
      "\n",
      " 23%|██▎       | 228/1000 [9:14:05<25:34:25, 119.26s/it, best loss: -0.668604651163]\u001b[A\n",
      "\u001b[A{'kernel': 'poly', 'C': 11.66827192615873, 'gamma': 5.531121964398569, 'class_weight': 'balanced'}\n",
      "\n",
      " 23%|██▎       | 228/1000 [9:14:05<25:34:25, 119.26s/it, best loss: -0.668604651163]\u001b[A"
     ]
    },
    {
     "name": "stderr",
     "output_type": "stream",
     "text": [
      "Hyperopt:  23%|██▎       | 229/1000 [9:14:05<23:47:56, 111.12s/it]"
     ]
    },
    {
     "name": "stdout",
     "output_type": "stream",
     "text": [
      "\n",
      " 23%|██▎       | 229/1000 [9:14:05<23:47:56, 111.12s/it, best loss: -0.668604651163]\u001b[A\n",
      "\u001b[AParameters with this training accuracy 0.994191674734 and loss 0.427312577491 :\n",
      "\n",
      " 23%|██▎       | 229/1000 [9:15:58<23:47:56, 111.12s/it, best loss: -0.668604651163]\u001b[A\n",
      "\u001b[AParameters with this testing accuracy 0.668604651163 and loss 1.09727833539 :\n",
      "\n",
      " 23%|██▎       | 229/1000 [9:15:58<23:47:56, 111.12s/it, best loss: -0.668604651163]\u001b[A\n",
      "\u001b[A{'kernel': 'linear', 'C': 12.151429338550834, 'gamma': 4.5729534363839095, 'class_weight': 'balanced'}\n",
      "\n",
      " 23%|██▎       | 229/1000 [9:15:58<23:47:56, 111.12s/it, best loss: -0.668604651163]\u001b[A"
     ]
    },
    {
     "name": "stderr",
     "output_type": "stream",
     "text": [
      "Hyperopt:  23%|██▎       | 230/1000 [9:15:58<23:54:25, 111.77s/it]"
     ]
    },
    {
     "name": "stdout",
     "output_type": "stream",
     "text": [
      "\n",
      " 23%|██▎       | 230/1000 [9:15:58<23:54:25, 111.77s/it, best loss: -0.668604651163]\u001b[A\n",
      "\u001b[AParameters with this training accuracy 0.991932881575 and loss 0.440952930609 :\n",
      "\n",
      " 23%|██▎       | 230/1000 [9:17:55<23:54:25, 111.77s/it, best loss: -0.668604651163]\u001b[A\n",
      "\u001b[AParameters with this testing accuracy 0.662790697674 and loss 1.09732200765 :\n",
      "\n",
      " 23%|██▎       | 230/1000 [9:17:55<23:54:25, 111.77s/it, best loss: -0.668604651163]\u001b[A\n",
      "\u001b[A{'kernel': 'linear', 'C': 8.746188540971058, 'gamma': 3.7819593107556617, 'class_weight': 'balanced'}\n",
      "\n",
      " 23%|██▎       | 230/1000 [9:17:55<23:54:25, 111.77s/it, best loss: -0.668604651163]\u001b[A"
     ]
    },
    {
     "name": "stderr",
     "output_type": "stream",
     "text": [
      "Hyperopt:  23%|██▎       | 231/1000 [9:17:55<24:14:25, 113.48s/it]"
     ]
    },
    {
     "name": "stdout",
     "output_type": "stream",
     "text": [
      "\n",
      " 23%|██▎       | 231/1000 [9:17:55<24:14:25, 113.48s/it, best loss: -0.668604651163]\u001b[A\n",
      "\u001b[AParameters with this training accuracy 0.996450467893 and loss 2.84810293842 :\n",
      "\n",
      " 23%|██▎       | 231/1000 [9:22:06<24:14:25, 113.48s/it, best loss: -0.668604651163]\u001b[A\n",
      "\u001b[AParameters with this testing accuracy 0.459302325581 and loss 1.9423414901 :\n",
      "\n",
      " 23%|██▎       | 231/1000 [9:22:06<24:14:25, 113.48s/it, best loss: -0.668604651163]\u001b[A\n",
      "\u001b[A{'kernel': 'rbf', 'C': 12.667665304060272, 'gamma': 7.694788804035627, 'class_weight': None}\n",
      "\n",
      " 23%|██▎       | 231/1000 [9:22:06<24:14:25, 113.48s/it, best loss: -0.668604651163]\u001b[A"
     ]
    },
    {
     "name": "stderr",
     "output_type": "stream",
     "text": [
      "Hyperopt:  23%|██▎       | 232/1000 [9:22:06<33:00:14, 154.71s/it]"
     ]
    },
    {
     "name": "stdout",
     "output_type": "stream",
     "text": [
      "\n",
      " 23%|██▎       | 232/1000 [9:22:06<33:00:14, 154.71s/it, best loss: -0.668604651163]\u001b[A\n",
      "\u001b[AParameters with this training accuracy 0.994837044208 and loss 0.425274959753 :\n",
      "\n",
      " 23%|██▎       | 232/1000 [9:24:01<33:00:14, 154.71s/it, best loss: -0.668604651163]\u001b[A\n",
      "\u001b[AParameters with this testing accuracy 0.665697674419 and loss 1.09765355245 :\n",
      "\n",
      " 23%|██▎       | 232/1000 [9:24:01<33:00:14, 154.71s/it, best loss: -0.668604651163]\u001b[A\n",
      "\u001b[A{'kernel': 'linear', 'C': 13.743762311663561, 'gamma': 4.947292026168231, 'class_weight': 'balanced'}\n",
      "\n",
      " 23%|██▎       | 232/1000 [9:24:01<33:00:14, 154.71s/it, best loss: -0.668604651163]\u001b[A"
     ]
    },
    {
     "name": "stderr",
     "output_type": "stream",
     "text": [
      "Hyperopt:  23%|██▎       | 233/1000 [9:24:01<30:24:17, 142.71s/it]"
     ]
    },
    {
     "name": "stdout",
     "output_type": "stream",
     "text": [
      "\n",
      " 23%|██▎       | 233/1000 [9:24:01<30:24:17, 142.71s/it, best loss: -0.668604651163]\u001b[A\n",
      "\u001b[AParameters with this training accuracy 0.992900935786 and loss 0.434003915221 :\n",
      "\n",
      " 23%|██▎       | 233/1000 [9:25:56<30:24:17, 142.71s/it, best loss: -0.668604651163]\u001b[A\n",
      "\u001b[AParameters with this testing accuracy 0.665697674419 and loss 1.09754393015 :\n",
      "\n",
      " 23%|██▎       | 233/1000 [9:25:56<30:24:17, 142.71s/it, best loss: -0.668604651163]\u001b[A\n",
      "\u001b[A{'kernel': 'linear', 'C': 10.266263662765187, 'gamma': 4.811153083788898, 'class_weight': 'balanced'}\n",
      "\n",
      " 23%|██▎       | 233/1000 [9:25:56<30:24:17, 142.71s/it, best loss: -0.668604651163]\u001b[A"
     ]
    },
    {
     "name": "stderr",
     "output_type": "stream",
     "text": [
      "Hyperopt:  23%|██▎       | 234/1000 [9:25:56<28:34:25, 134.29s/it]"
     ]
    },
    {
     "name": "stdout",
     "output_type": "stream",
     "text": [
      "\n",
      " 23%|██▎       | 234/1000 [9:25:56<28:34:25, 134.29s/it, best loss: -0.668604651163]\u001b[A\n",
      "\u001b[AParameters with this training accuracy 0.0141981284285 and loss 1.96950491403 :\n",
      "\n",
      " 23%|██▎       | 234/1000 [9:30:04<28:34:25, 134.29s/it, best loss: -0.668604651163]\u001b[A\n",
      "\u001b[AParameters with this testing accuracy 0.0174418604651 and loss 1.93794647021 :\n",
      "\n",
      " 23%|██▎       | 234/1000 [9:30:04<28:34:25, 134.29s/it, best loss: -0.668604651163]\u001b[A\n",
      "\u001b[A{'kernel': 'sigmoid', 'C': 13.188355186166422, 'gamma': 7.543548793753651, 'class_weight': 'balanced'}\n",
      "\n",
      " 23%|██▎       | 234/1000 [9:30:04<28:34:25, 134.29s/it, best loss: -0.668604651163]\u001b[A"
     ]
    },
    {
     "name": "stderr",
     "output_type": "stream",
     "text": [
      "Hyperopt:  24%|██▎       | 235/1000 [9:30:04<35:49:47, 168.61s/it]"
     ]
    },
    {
     "name": "stdout",
     "output_type": "stream",
     "text": [
      "\n",
      " 24%|██▎       | 235/1000 [9:30:04<35:49:47, 168.61s/it, best loss: -0.668604651163]\u001b[A\n",
      "\u001b[AParameters with this training accuracy 0.991932881575 and loss 0.437632006887 :\n",
      "\n",
      " 24%|██▎       | 235/1000 [9:31:54<35:49:47, 168.61s/it, best loss: -0.668604651163]\u001b[A\n",
      "\u001b[AParameters with this testing accuracy 0.662790697674 and loss 1.09678115559 :\n",
      "\n",
      " 24%|██▎       | 235/1000 [9:31:54<35:49:47, 168.61s/it, best loss: -0.668604651163]\u001b[A\n",
      "\u001b[A{'kernel': 'linear', 'C': 9.187738978058915, 'gamma': 7.157032217672564, 'class_weight': 'balanced'}\n",
      "\n",
      " 24%|██▎       | 235/1000 [9:31:54<35:49:47, 168.61s/it, best loss: -0.668604651163]\u001b[A"
     ]
    },
    {
     "name": "stderr",
     "output_type": "stream",
     "text": [
      "Hyperopt:  24%|██▎       | 236/1000 [9:31:54<32:02:19, 150.97s/it]"
     ]
    },
    {
     "name": "stdout",
     "output_type": "stream",
     "text": [
      "\n",
      " 24%|██▎       | 236/1000 [9:31:54<32:02:19, 150.97s/it, best loss: -0.668604651163]\u001b[A\n",
      "\u001b[AParameters with this training accuracy 0.995159728945 and loss 0.424149317988 :\n",
      "\n",
      " 24%|██▎       | 236/1000 [9:33:47<32:02:19, 150.97s/it, best loss: -0.668604651163]\u001b[A\n",
      "\u001b[AParameters with this testing accuracy 0.662790697674 and loss 1.09868836481 :\n",
      "\n",
      " 24%|██▎       | 236/1000 [9:33:47<32:02:19, 150.97s/it, best loss: -0.668604651163]\u001b[A\n",
      "\u001b[A{'kernel': 'linear', 'C': 14.454772604580029, 'gamma': 9.191039570207488, 'class_weight': 'balanced'}\n",
      "\n",
      " 24%|██▎       | 236/1000 [9:33:47<32:02:19, 150.97s/it, best loss: -0.668604651163]\u001b[A"
     ]
    },
    {
     "name": "stderr",
     "output_type": "stream",
     "text": [
      "Hyperopt:  24%|██▎       | 237/1000 [9:33:47<29:34:43, 139.56s/it]"
     ]
    },
    {
     "name": "stdout",
     "output_type": "stream",
     "text": [
      "\n",
      " 24%|██▎       | 237/1000 [9:33:47<29:34:43, 139.56s/it, best loss: -0.668604651163]\u001b[A\n",
      "\u001b[AParameters with this training accuracy 0.994191674734 and loss 0.428022797169 :\n",
      "\n",
      " 24%|██▎       | 237/1000 [9:35:43<29:34:43, 139.56s/it, best loss: -0.668604651163]\u001b[A\n",
      "\u001b[AParameters with this testing accuracy 0.668604651163 and loss 1.09709403478 :\n",
      "\n",
      " 24%|██▎       | 237/1000 [9:35:43<29:34:43, 139.56s/it, best loss: -0.668604651163]\u001b[A\n",
      "\u001b[A{'kernel': 'linear', 'C': 12.443061171535275, 'gamma': 8.014556983170467, 'class_weight': 'balanced'}\n",
      "\n",
      " 24%|██▎       | 237/1000 [9:35:43<29:34:43, 139.56s/it, best loss: -0.668604651163]\u001b[A"
     ]
    },
    {
     "name": "stderr",
     "output_type": "stream",
     "text": [
      "Hyperopt:  24%|██▍       | 238/1000 [9:35:43<28:01:00, 132.36s/it]"
     ]
    },
    {
     "name": "stdout",
     "output_type": "stream",
     "text": [
      "\n",
      " 24%|██▍       | 238/1000 [9:35:43<28:01:00, 132.36s/it, best loss: -0.668604651163]\u001b[A\n",
      "\u001b[AParameters with this training accuracy 0.996450467893 and loss 0.849686884276 :\n",
      "\n",
      " 24%|██▍       | 238/1000 [9:37:11<28:01:00, 132.36s/it, best loss: -0.668604651163]\u001b[A\n",
      "\u001b[AParameters with this testing accuracy 0.56976744186 and loss 1.32053482774 :\n",
      "\n",
      " 24%|██▍       | 238/1000 [9:37:11<28:01:00, 132.36s/it, best loss: -0.668604651163]\u001b[A\n",
      "\u001b[A{'kernel': 'poly', 'C': 7.912652800135144, 'gamma': 9.886463947524621, 'class_weight': None}\n",
      "\n",
      " 24%|██▍       | 238/1000 [9:37:11<28:01:00, 132.36s/it, best loss: -0.668604651163]\u001b[A"
     ]
    },
    {
     "name": "stderr",
     "output_type": "stream",
     "text": [
      "Hyperopt:  24%|██▍       | 239/1000 [9:37:11<25:13:15, 119.31s/it]"
     ]
    },
    {
     "name": "stdout",
     "output_type": "stream",
     "text": [
      "\n",
      " 24%|██▍       | 239/1000 [9:37:11<25:13:15, 119.31s/it, best loss: -0.668604651163]\u001b[A\n",
      "\u001b[AParameters with this training accuracy 0.992900935786 and loss 0.432062648643 :\n",
      "\n",
      " 24%|██▍       | 239/1000 [9:39:06<25:13:15, 119.31s/it, best loss: -0.668604651163]\u001b[A\n",
      "\u001b[AParameters with this testing accuracy 0.665697674419 and loss 1.09783551337 :\n",
      "\n",
      " 24%|██▍       | 239/1000 [9:39:06<25:13:15, 119.31s/it, best loss: -0.668604651163]\u001b[A\n",
      "\u001b[A{'kernel': 'linear', 'C': 11.24883080816183, 'gamma': 1.3316047889910783, 'class_weight': 'balanced'}\n",
      "\n",
      " 24%|██▍       | 239/1000 [9:39:06<25:13:15, 119.31s/it, best loss: -0.668604651163]\u001b[A"
     ]
    },
    {
     "name": "stderr",
     "output_type": "stream",
     "text": [
      "Hyperopt:  24%|██▍       | 240/1000 [9:39:06<24:53:34, 117.91s/it]"
     ]
    },
    {
     "name": "stdout",
     "output_type": "stream",
     "text": [
      "\n",
      " 24%|██▍       | 240/1000 [9:39:06<24:53:34, 117.91s/it, best loss: -0.668604651163]\u001b[A\n",
      "\u001b[AParameters with this training accuracy 0.996450467893 and loss 2.51513071469 :\n",
      "\n",
      " 24%|██▍       | 240/1000 [9:43:11<24:53:34, 117.91s/it, best loss: -0.668604651163]\u001b[A\n",
      "\u001b[AParameters with this testing accuracy 0.462209302326 and loss 1.94350210811 :\n",
      "\n",
      " 24%|██▍       | 240/1000 [9:43:11<24:53:34, 117.91s/it, best loss: -0.668604651163]\u001b[A\n",
      "\u001b[A{'kernel': 'rbf', 'C': 18.268565638832804, 'gamma': 1.848841384331419, 'class_weight': 'balanced'}\n",
      "\n",
      " 24%|██▍       | 240/1000 [9:43:11<24:53:34, 117.91s/it, best loss: -0.668604651163]\u001b[A"
     ]
    },
    {
     "name": "stderr",
     "output_type": "stream",
     "text": [
      "Hyperopt:  24%|██▍       | 241/1000 [9:43:11<32:54:20, 156.07s/it]"
     ]
    },
    {
     "name": "stdout",
     "output_type": "stream",
     "text": [
      "\n",
      " 24%|██▍       | 241/1000 [9:43:11<32:54:20, 156.07s/it, best loss: -0.668604651163]\u001b[A\n",
      "\u001b[AParameters with this training accuracy 0.0238786705389 and loss 1.95591993666 :\n",
      "\n",
      " 24%|██▍       | 241/1000 [9:47:17<32:54:20, 156.07s/it, best loss: -0.668604651163]\u001b[A\n",
      "\u001b[AParameters with this testing accuracy 0.0523255813953 and loss 1.94534325043 :\n",
      "\n",
      " 24%|██▍       | 241/1000 [9:47:17<32:54:20, 156.07s/it, best loss: -0.668604651163]\u001b[A\n",
      "\u001b[A{'kernel': 'sigmoid', 'C': 9.693140823012035, 'gamma': 2.5465556927266384, 'class_weight': 'balanced'}\n",
      "\n",
      " 24%|██▍       | 241/1000 [9:47:17<32:54:20, 156.07s/it, best loss: -0.668604651163]\u001b[A"
     ]
    },
    {
     "name": "stderr",
     "output_type": "stream",
     "text": [
      "Hyperopt:  24%|██▍       | 242/1000 [9:47:17<38:30:49, 182.91s/it]"
     ]
    },
    {
     "name": "stdout",
     "output_type": "stream",
     "text": [
      "\n",
      " 24%|██▍       | 242/1000 [9:47:17<38:30:49, 182.91s/it, best loss: -0.668604651163]\u001b[A\n",
      "\u001b[AParameters with this training accuracy 0.995482413682 and loss 0.423197432074 :\n",
      "\n",
      " 24%|██▍       | 242/1000 [9:49:12<38:30:49, 182.91s/it, best loss: -0.668604651163]\u001b[A\n",
      "\u001b[AParameters with this testing accuracy 0.662790697674 and loss 1.09833090902 :\n",
      "\n",
      " 24%|██▍       | 242/1000 [9:49:12<38:30:49, 182.91s/it, best loss: -0.668604651163]\u001b[A\n",
      "\u001b[A{'kernel': 'linear', 'C': 16.5873959815589, 'gamma': 8.088640312811911, 'class_weight': 'balanced'}\n",
      "\n",
      " 24%|██▍       | 242/1000 [9:49:12<38:30:49, 182.91s/it, best loss: -0.668604651163]\u001b[A"
     ]
    },
    {
     "name": "stderr",
     "output_type": "stream",
     "text": [
      "Hyperopt:  24%|██▍       | 243/1000 [9:49:12<34:13:17, 162.74s/it]"
     ]
    },
    {
     "name": "stdout",
     "output_type": "stream",
     "text": [
      "\n",
      " 24%|██▍       | 243/1000 [9:49:12<34:13:17, 162.74s/it, best loss: -0.668604651163]\u001b[A\n",
      "\u001b[AParameters with this training accuracy 0.996450467893 and loss 0.41800397048 :\n",
      "\n",
      " 24%|██▍       | 243/1000 [9:51:05<34:13:17, 162.74s/it, best loss: -0.668604651163]\u001b[A\n",
      "\u001b[AParameters with this testing accuracy 0.65988372093 and loss 1.10278673923 :\n",
      "\n",
      " 24%|██▍       | 243/1000 [9:51:05<34:13:17, 162.74s/it, best loss: -0.668604651163]\u001b[A\n",
      "\u001b[A{'kernel': 'linear', 'C': 14.783574692035282, 'gamma': 0.8839061007417834, 'class_weight': None}\n",
      "\n",
      " 24%|██▍       | 243/1000 [9:51:05<34:13:17, 162.74s/it, best loss: -0.668604651163]\u001b[A"
     ]
    },
    {
     "name": "stderr",
     "output_type": "stream",
     "text": [
      "Hyperopt:  24%|██▍       | 244/1000 [9:51:05<30:59:47, 147.60s/it]"
     ]
    },
    {
     "name": "stdout",
     "output_type": "stream",
     "text": [
      "\n",
      " 24%|██▍       | 244/1000 [9:51:05<30:59:47, 147.60s/it, best loss: -0.668604651163]\u001b[A\n",
      "\u001b[AParameters with this training accuracy 0.992900935786 and loss 0.432321728905 :\n",
      "\n",
      " 24%|██▍       | 244/1000 [9:52:54<30:59:47, 147.60s/it, best loss: -0.668604651163]\u001b[A\n",
      "\u001b[AParameters with this testing accuracy 0.665697674419 and loss 1.0967066408 :\n",
      "\n",
      " 24%|██▍       | 244/1000 [9:52:54<30:59:47, 147.60s/it, best loss: -0.668604651163]\u001b[A\n",
      "\u001b[A{'kernel': 'linear', 'C': 10.428328861480363, 'gamma': 2.096729913659785, 'class_weight': 'balanced'}\n",
      "\n",
      " 24%|██▍       | 244/1000 [9:52:54<30:59:47, 147.60s/it, best loss: -0.668604651163]\u001b[A"
     ]
    },
    {
     "name": "stderr",
     "output_type": "stream",
     "text": [
      "Hyperopt:  24%|██▍       | 245/1000 [9:52:54<28:34:20, 136.24s/it]"
     ]
    },
    {
     "name": "stdout",
     "output_type": "stream",
     "text": [
      "\n",
      " 24%|██▍       | 245/1000 [9:52:54<28:34:20, 136.24s/it, best loss: -0.668604651163]\u001b[A\n",
      "\u001b[AParameters with this training accuracy 0.996450467893 and loss 0.850864659778 :\n",
      "\n",
      " 24%|██▍       | 245/1000 [9:54:22<28:34:20, 136.24s/it, best loss: -0.668604651163]\u001b[A\n",
      "\u001b[AParameters with this testing accuracy 0.56976744186 and loss 1.3202538451 :\n",
      "\n",
      " 24%|██▍       | 245/1000 [9:54:22<28:34:20, 136.24s/it, best loss: -0.668604651163]\u001b[A\n",
      "\u001b[A{'kernel': 'poly', 'C': 10.870693151043296, 'gamma': 2.952053411068714, 'class_weight': 'balanced'}\n",
      "\n",
      " 24%|██▍       | 245/1000 [9:54:22<28:34:20, 136.24s/it, best loss: -0.668604651163]\u001b[A"
     ]
    },
    {
     "name": "stderr",
     "output_type": "stream",
     "text": [
      "Hyperopt:  25%|██▍       | 246/1000 [9:54:22<25:30:28, 121.79s/it]"
     ]
    },
    {
     "name": "stdout",
     "output_type": "stream",
     "text": [
      "\n",
      " 25%|██▍       | 246/1000 [9:54:22<25:30:28, 121.79s/it, best loss: -0.668604651163]\u001b[A\n",
      "\u001b[AParameters with this training accuracy 0.98709261052 and loss 0.448869899089 :\n",
      "\n",
      " 25%|██▍       | 246/1000 [9:56:13<25:30:28, 121.79s/it, best loss: -0.668604651163]\u001b[A\n",
      "\u001b[AParameters with this testing accuracy 0.662790697674 and loss 1.09598067752 :\n",
      "\n",
      " 25%|██▍       | 246/1000 [9:56:13<25:30:28, 121.79s/it, best loss: -0.668604651163]\u001b[A\n",
      "\u001b[A{'kernel': 'linear', 'C': 6.808094535196791, 'gamma': 4.682802702570687, 'class_weight': 'balanced'}\n",
      "\n",
      " 25%|██▍       | 246/1000 [9:56:13<25:30:28, 121.79s/it, best loss: -0.668604651163]\u001b[A"
     ]
    },
    {
     "name": "stderr",
     "output_type": "stream",
     "text": [
      "Hyperopt:  25%|██▍       | 247/1000 [9:56:13<24:46:10, 118.42s/it]"
     ]
    },
    {
     "name": "stdout",
     "output_type": "stream",
     "text": [
      "\n",
      " 25%|██▍       | 247/1000 [9:56:13<24:46:10, 118.42s/it, best loss: -0.668604651163]\u001b[A\n",
      "\u001b[AParameters with this training accuracy 0.99354630526 and loss 0.425558611727 :\n",
      "\n",
      " 25%|██▍       | 247/1000 [9:58:04<24:46:10, 118.42s/it, best loss: -0.668604651163]\u001b[A\n",
      "\u001b[AParameters with this testing accuracy 0.665697674419 and loss 1.09760448364 :\n",
      "\n",
      " 25%|██▍       | 247/1000 [9:58:04<24:46:10, 118.42s/it, best loss: -0.668604651163]\u001b[A\n",
      "\u001b[A{'kernel': 'linear', 'C': 11.763450128951519, 'gamma': 5.35224201836538, 'class_weight': 'balanced'}\n",
      "\n",
      " 25%|██▍       | 247/1000 [9:58:04<24:46:10, 118.42s/it, best loss: -0.668604651163]\u001b[A"
     ]
    },
    {
     "name": "stderr",
     "output_type": "stream",
     "text": [
      "Hyperopt:  25%|██▍       | 248/1000 [9:58:04<24:15:23, 116.12s/it]"
     ]
    },
    {
     "name": "stdout",
     "output_type": "stream",
     "text": [
      "\n",
      " 25%|██▍       | 248/1000 [9:58:04<24:15:23, 116.12s/it, best loss: -0.668604651163]\u001b[A\n",
      "\u001b[AParameters with this training accuracy 0.996450467893 and loss 2.72931874347 :\n",
      "\n",
      " 25%|██▍       | 248/1000 [10:02:09<24:15:23, 116.12s/it, best loss: -0.668604651163]\u001b[A\n",
      "\u001b[AParameters with this testing accuracy 0.459302325581 and loss 1.94099366248 :\n",
      "\n",
      " 25%|██▍       | 248/1000 [10:02:09<24:15:23, 116.12s/it, best loss: -0.668604651163]\u001b[A\n",
      "\u001b[A{'kernel': 'rbf', 'C': 13.68218683261052, 'gamma': 4.310397823149008, 'class_weight': 'balanced'}\n",
      "\n",
      " 25%|██▍       | 248/1000 [10:02:09<24:15:23, 116.12s/it, best loss: -0.668604651163]\u001b[A"
     ]
    },
    {
     "name": "stderr",
     "output_type": "stream",
     "text": [
      "Hyperopt:  25%|██▍       | 249/1000 [10:02:09<32:19:28, 154.95s/it]"
     ]
    },
    {
     "name": "stdout",
     "output_type": "stream",
     "text": [
      "\n",
      " 25%|██▍       | 249/1000 [10:02:09<32:19:28, 154.95s/it, best loss: -0.668604651163]\u001b[A\n",
      "\u001b[AParameters with this training accuracy 0.431106808648 and loss 1.94553102017 :\n",
      "\n",
      " 25%|██▍       | 249/1000 [10:03:34<32:19:28, 154.95s/it, best loss: -0.668604651163]\u001b[A\n",
      "\u001b[AParameters with this testing accuracy 0.468023255814 and loss 1.93776659812 :\n",
      "\n",
      " 25%|██▍       | 249/1000 [10:03:34<32:19:28, 154.95s/it, best loss: -0.668604651163]\u001b[A\n",
      "\u001b[A{'kernel': 'sigmoid', 'C': 15.557241983680203, 'gamma': 3.6252013461251087, 'class_weight': None}\n",
      "\n",
      " 25%|██▍       | 249/1000 [10:03:34<32:19:28, 154.95s/it, best loss: -0.668604651163]\u001b[A"
     ]
    },
    {
     "name": "stderr",
     "output_type": "stream",
     "text": [
      "Hyperopt:  25%|██▌       | 250/1000 [10:03:34<27:52:24, 133.79s/it]"
     ]
    },
    {
     "name": "stdout",
     "output_type": "stream",
     "text": [
      "\n",
      " 25%|██▌       | 250/1000 [10:03:34<27:52:24, 133.79s/it, best loss: -0.668604651163]\u001b[A\n",
      "\u001b[AParameters with this training accuracy 0.992900935786 and loss 0.434825605607 :\n",
      "\n",
      " 25%|██▌       | 250/1000 [10:05:26<27:52:24, 133.79s/it, best loss: -0.668604651163]\u001b[A\n",
      "\u001b[AParameters with this testing accuracy 0.665697674419 and loss 1.09734200304 :\n",
      "\n",
      " 25%|██▌       | 250/1000 [10:05:26<27:52:24, 133.79s/it, best loss: -0.668604651163]\u001b[A\n",
      "\u001b[A{'kernel': 'linear', 'C': 9.915600215094557, 'gamma': 5.166492983937887, 'class_weight': 'balanced'}\n",
      "\n",
      " 25%|██▌       | 250/1000 [10:05:26<27:52:24, 133.79s/it, best loss: -0.668604651163]\u001b[A"
     ]
    },
    {
     "name": "stderr",
     "output_type": "stream",
     "text": [
      "Hyperopt:  25%|██▌       | 251/1000 [10:05:26<26:28:57, 127.29s/it]"
     ]
    },
    {
     "name": "stdout",
     "output_type": "stream",
     "text": [
      "\n",
      " 25%|██▌       | 251/1000 [10:05:26<26:28:57, 127.29s/it, best loss: -0.668604651163]\u001b[A\n",
      "\u001b[AParameters with this training accuracy 0.995482413682 and loss 0.423564255593 :\n",
      "\n",
      " 25%|██▌       | 251/1000 [10:07:18<26:28:57, 127.29s/it, best loss: -0.668604651163]\u001b[A\n",
      "\u001b[AParameters with this testing accuracy 0.662790697674 and loss 1.09857831697 :\n",
      "\n",
      " 25%|██▌       | 251/1000 [10:07:18<26:28:57, 127.29s/it, best loss: -0.668604651163]\u001b[A\n",
      "\u001b[A{'kernel': 'linear', 'C': 16.24828913017692, 'gamma': 4.588339426412295, 'class_weight': 'balanced'}\n",
      "\n",
      " 25%|██▌       | 251/1000 [10:07:18<26:28:57, 127.29s/it, best loss: -0.668604651163]\u001b[A"
     ]
    },
    {
     "name": "stderr",
     "output_type": "stream",
     "text": [
      "Hyperopt:  25%|██▌       | 252/1000 [10:07:18<25:31:44, 122.87s/it]"
     ]
    },
    {
     "name": "stdout",
     "output_type": "stream",
     "text": [
      "\n",
      " 25%|██▌       | 252/1000 [10:07:18<25:31:44, 122.87s/it, best loss: -0.668604651163]\u001b[A\n",
      "\u001b[AParameters with this training accuracy 0.994191674734 and loss 0.427830647383 :\n",
      "\n",
      " 25%|██▌       | 252/1000 [10:09:12<25:31:44, 122.87s/it, best loss: -0.668604651163]\u001b[A\n",
      "\u001b[AParameters with this testing accuracy 0.668604651163 and loss 1.0982441227 :\n",
      "\n",
      " 25%|██▌       | 252/1000 [10:09:12<25:31:44, 122.87s/it, best loss: -0.668604651163]\u001b[A\n",
      "\u001b[A{'kernel': 'linear', 'C': 12.623502164339547, 'gamma': 9.459995821653639, 'class_weight': 'balanced'}\n",
      "\n",
      " 25%|██▌       | 252/1000 [10:09:12<25:31:44, 122.87s/it, best loss: -0.668604651163]\u001b[A"
     ]
    },
    {
     "name": "stderr",
     "output_type": "stream",
     "text": [
      "Hyperopt:  25%|██▌       | 253/1000 [10:09:12<24:55:02, 120.08s/it]"
     ]
    },
    {
     "name": "stdout",
     "output_type": "stream",
     "text": [
      "\n",
      " 25%|██▌       | 253/1000 [10:09:12<24:55:02, 120.08s/it, best loss: -0.668604651163]\u001b[A\n",
      "\u001b[AParameters with this training accuracy 0.565666343982 and loss 1.10086881165 :\n",
      "\n",
      " 25%|██▌       | 253/1000 [10:11:03<24:55:02, 120.08s/it, best loss: -0.668604651163]\u001b[A\n",
      "\u001b[AParameters with this testing accuracy 0.433139534884 and loss 1.25598885005 :\n",
      "\n",
      " 25%|██▌       | 253/1000 [10:11:03<24:55:02, 120.08s/it, best loss: -0.668604651163]\u001b[A\n",
      "\u001b[A{'kernel': 'linear', 'C': 0.09737903139730442, 'gamma': 8.653699522000744, 'class_weight': 'balanced'}\n",
      "\n",
      " 25%|██▌       | 253/1000 [10:11:03<24:55:02, 120.08s/it, best loss: -0.668604651163]\u001b[A"
     ]
    },
    {
     "name": "stderr",
     "output_type": "stream",
     "text": [
      "Hyperopt:  25%|██▌       | 254/1000 [10:11:03<24:18:11, 117.28s/it]"
     ]
    },
    {
     "name": "stdout",
     "output_type": "stream",
     "text": [
      "\n",
      " 25%|██▌       | 254/1000 [10:11:03<24:18:11, 117.28s/it, best loss: -0.668604651163]\u001b[A\n",
      "\u001b[AParameters with this training accuracy 0.996450467893 and loss 0.888907867673 :\n",
      "\n",
      " 25%|██▌       | 254/1000 [10:12:33<24:18:11, 117.28s/it, best loss: -0.668604651163]\u001b[A\n",
      "\u001b[AParameters with this testing accuracy 0.56976744186 and loss 1.32701301177 :\n",
      "\n",
      " 25%|██▌       | 254/1000 [10:12:33<24:18:11, 117.28s/it, best loss: -0.668604651163]\u001b[A\n",
      "\u001b[A{'kernel': 'poly', 'C': 17.200822362735238, 'gamma': 9.173260976629235, 'class_weight': 'balanced'}\n",
      "\n",
      " 25%|██▌       | 254/1000 [10:12:33<24:18:11, 117.28s/it, best loss: -0.668604651163]\u001b[A"
     ]
    },
    {
     "name": "stderr",
     "output_type": "stream",
     "text": [
      "Hyperopt:  26%|██▌       | 255/1000 [10:12:33<22:35:19, 109.15s/it]"
     ]
    },
    {
     "name": "stdout",
     "output_type": "stream",
     "text": [
      "\n",
      " 26%|██▌       | 255/1000 [10:12:33<22:35:19, 109.15s/it, best loss: -0.668604651163]\u001b[A\n",
      "\u001b[AParameters with this training accuracy 0.995482413682 and loss 0.42526005343 :\n",
      "\n",
      " 26%|██▌       | 255/1000 [10:14:25<22:35:19, 109.15s/it, best loss: -0.668604651163]\u001b[A\n",
      "\u001b[AParameters with this testing accuracy 0.662790697674 and loss 1.10010676519 :\n",
      "\n",
      " 26%|██▌       | 255/1000 [10:14:25<22:35:19, 109.15s/it, best loss: -0.668604651163]\u001b[A\n",
      "\u001b[A{'kernel': 'linear', 'C': 18.962600572447304, 'gamma': 9.621539657120545, 'class_weight': 'balanced'}\n",
      "\n",
      " 26%|██▌       | 255/1000 [10:14:25<22:35:19, 109.15s/it, best loss: -0.668604651163]\u001b[A"
     ]
    },
    {
     "name": "stderr",
     "output_type": "stream",
     "text": [
      "Hyperopt:  26%|██▌       | 256/1000 [10:14:25<22:45:22, 110.11s/it]"
     ]
    },
    {
     "name": "stdout",
     "output_type": "stream",
     "text": [
      "\n",
      " 26%|██▌       | 256/1000 [10:14:25<22:45:22, 110.11s/it, best loss: -0.668604651163]\u001b[A\n",
      "\u001b[AParameters with this training accuracy 0.996450467893 and loss 2.83937343186 :\n",
      "\n",
      " 26%|██▌       | 256/1000 [10:18:34<22:45:22, 110.11s/it, best loss: -0.668604651163]\u001b[A\n",
      "\u001b[AParameters with this testing accuracy 0.459302325581 and loss 1.94360406406 :\n",
      "\n",
      " 26%|██▌       | 256/1000 [10:18:34<22:45:22, 110.11s/it, best loss: -0.668604651163]\u001b[A\n",
      "\u001b[A{'kernel': 'rbf', 'C': 13.294015958100951, 'gamma': 8.407684268020162, 'class_weight': None}\n",
      "\n",
      " 26%|██▌       | 256/1000 [10:18:34<22:45:22, 110.11s/it, best loss: -0.668604651163]\u001b[A"
     ]
    },
    {
     "name": "stderr",
     "output_type": "stream",
     "text": [
      "Hyperopt:  26%|██▌       | 257/1000 [10:18:34<31:19:36, 151.78s/it]"
     ]
    },
    {
     "name": "stdout",
     "output_type": "stream",
     "text": [
      "\n",
      " 26%|██▌       | 257/1000 [10:18:34<31:19:35, 151.78s/it, best loss: -0.668604651163]\u001b[A\n",
      "\u001b[AParameters with this training accuracy 0.994191674734 and loss 0.424778929437 :\n",
      "\n",
      " 26%|██▌       | 257/1000 [10:20:30<31:19:35, 151.78s/it, best loss: -0.668604651163]\u001b[A\n",
      "\u001b[AParameters with this testing accuracy 0.668604651163 and loss 1.0972062823 :\n",
      "\n",
      " 26%|██▌       | 257/1000 [10:20:30<31:19:35, 151.78s/it, best loss: -0.668604651163]\u001b[A\n",
      "\u001b[A{'kernel': 'linear', 'C': 12.393552497204114, 'gamma': 3.8290762035134076, 'class_weight': 'balanced'}\n",
      "\n",
      " 26%|██▌       | 257/1000 [10:20:30<31:19:35, 151.78s/it, best loss: -0.668604651163]\u001b[A"
     ]
    },
    {
     "name": "stderr",
     "output_type": "stream",
     "text": [
      "Hyperopt:  26%|██▌       | 258/1000 [10:20:30<29:02:52, 140.93s/it]"
     ]
    },
    {
     "name": "stdout",
     "output_type": "stream",
     "text": [
      "\n",
      " 26%|██▌       | 258/1000 [10:20:30<29:02:52, 140.93s/it, best loss: -0.668604651163]\u001b[A\n",
      "\u001b[AParameters with this training accuracy 0.993223620523 and loss 0.428531357296 :\n",
      "\n",
      " 26%|██▌       | 258/1000 [10:22:24<29:02:52, 140.93s/it, best loss: -0.668604651163]\u001b[A\n",
      "\u001b[AParameters with this testing accuracy 0.665697674419 and loss 1.09634295906 :\n",
      "\n",
      " 26%|██▌       | 258/1000 [10:22:24<29:02:52, 140.93s/it, best loss: -0.668604651163]\u001b[A\n",
      "\u001b[A{'kernel': 'linear', 'C': 11.469699115215109, 'gamma': 3.8162666320132033, 'class_weight': 'balanced'}\n",
      "\n",
      " 26%|██▌       | 258/1000 [10:22:24<29:02:52, 140.93s/it, best loss: -0.668604651163]\u001b[A"
     ]
    },
    {
     "name": "stderr",
     "output_type": "stream",
     "text": [
      "Hyperopt:  26%|██▌       | 259/1000 [10:22:24<27:20:08, 132.80s/it]"
     ]
    },
    {
     "name": "stdout",
     "output_type": "stream",
     "text": [
      "\n",
      " 26%|██▌       | 259/1000 [10:22:24<27:20:08, 132.80s/it, best loss: -0.668604651163]\u001b[A\n",
      "\u001b[AParameters with this training accuracy 0.995159728945 and loss 0.423917970271 :\n",
      "\n",
      " 26%|██▌       | 259/1000 [10:24:20<27:20:08, 132.80s/it, best loss: -0.668604651163]\u001b[A\n",
      "\u001b[AParameters with this testing accuracy 0.665697674419 and loss 1.09751683375 :\n",
      "\n",
      " 26%|██▌       | 259/1000 [10:24:20<27:20:08, 132.80s/it, best loss: -0.668604651163]\u001b[A\n",
      "\u001b[A{'kernel': 'linear', 'C': 13.938076884975997, 'gamma': 9.345055874907668, 'class_weight': 'balanced'}\n",
      "\n",
      " 26%|██▌       | 259/1000 [10:24:20<27:20:08, 132.80s/it, best loss: -0.668604651163]\u001b[A"
     ]
    },
    {
     "name": "stderr",
     "output_type": "stream",
     "text": [
      "Hyperopt:  26%|██▌       | 260/1000 [10:24:20<26:17:34, 127.91s/it]"
     ]
    },
    {
     "name": "stdout",
     "output_type": "stream",
     "text": [
      "\n",
      " 26%|██▌       | 260/1000 [10:24:20<26:17:34, 127.91s/it, best loss: -0.668604651163]\u001b[A\n",
      "\u001b[AParameters with this training accuracy 0.992900935786 and loss 0.432050419885 :\n",
      "\n",
      " 26%|██▌       | 260/1000 [10:26:13<26:17:34, 127.91s/it, best loss: -0.668604651163]\u001b[A\n",
      "\u001b[AParameters with this testing accuracy 0.665697674419 and loss 1.09821715732 :\n",
      "\n",
      " 26%|██▌       | 260/1000 [10:26:13<26:17:34, 127.91s/it, best loss: -0.668604651163]\u001b[A\n",
      "\u001b[A{'kernel': 'linear', 'C': 11.123087533673932, 'gamma': 8.779678493261407, 'class_weight': 'balanced'}\n",
      "\n",
      " 26%|██▌       | 260/1000 [10:26:13<26:17:34, 127.91s/it, best loss: -0.668604651163]\u001b[A"
     ]
    },
    {
     "name": "stderr",
     "output_type": "stream",
     "text": [
      "Hyperopt:  26%|██▌       | 261/1000 [10:26:13<25:18:02, 123.25s/it]"
     ]
    },
    {
     "name": "stdout",
     "output_type": "stream",
     "text": [
      "\n",
      " 26%|██▌       | 261/1000 [10:26:13<25:18:02, 123.25s/it, best loss: -0.668604651163]\u001b[A\n",
      "\u001b[AParameters with this training accuracy 0.993868989997 and loss 0.426563249735 :\n",
      "\n",
      " 26%|██▌       | 261/1000 [10:28:08<25:18:02, 123.25s/it, best loss: -0.668604651163]\u001b[A\n",
      "\u001b[AParameters with this testing accuracy 0.668604651163 and loss 1.09708188946 :\n",
      "\n",
      " 26%|██▌       | 261/1000 [10:28:08<25:18:02, 123.25s/it, best loss: -0.668604651163]\u001b[A\n",
      "\u001b[A{'kernel': 'linear', 'C': 12.086861373033821, 'gamma': 9.756408844968481, 'class_weight': 'balanced'}\n",
      "\n",
      " 26%|██▌       | 261/1000 [10:28:08<25:18:02, 123.25s/it, best loss: -0.668604651163]\u001b[A"
     ]
    },
    {
     "name": "stderr",
     "output_type": "stream",
     "text": [
      "Hyperopt:  26%|██▌       | 262/1000 [10:28:08<24:47:50, 120.96s/it]"
     ]
    },
    {
     "name": "stdout",
     "output_type": "stream",
     "text": [
      "\n",
      " 26%|██▌       | 262/1000 [10:28:08<24:47:50, 120.96s/it, best loss: -0.668604651163]\u001b[A\n",
      "\u001b[AParameters with this training accuracy 0.994837044208 and loss 0.426109868551 :\n",
      "\n",
      " 26%|██▌       | 262/1000 [10:30:05<24:47:50, 120.96s/it, best loss: -0.668604651163]\u001b[A\n",
      "\u001b[AParameters with this testing accuracy 0.665697674419 and loss 1.09791786188 :\n",
      "\n",
      " 26%|██▌       | 262/1000 [10:30:05<24:47:50, 120.96s/it, best loss: -0.668604651163]\u001b[A\n",
      "\u001b[A{'kernel': 'linear', 'C': 13.074990721764777, 'gamma': 9.919853830174338, 'class_weight': 'balanced'}\n",
      "\n",
      " 26%|██▌       | 262/1000 [10:30:05<24:47:50, 120.96s/it, best loss: -0.668604651163]\u001b[A"
     ]
    },
    {
     "name": "stderr",
     "output_type": "stream",
     "text": [
      "Hyperopt:  26%|██▋       | 263/1000 [10:30:05<24:28:37, 119.56s/it]"
     ]
    },
    {
     "name": "stdout",
     "output_type": "stream",
     "text": [
      "\n",
      " 26%|██▋       | 263/1000 [10:30:05<24:28:37, 119.56s/it, best loss: -0.668604651163]\u001b[A\n",
      "\u001b[AParameters with this training accuracy 0.993868989997 and loss 0.429748070312 :\n",
      "\n",
      " 26%|██▋       | 263/1000 [10:32:00<24:28:37, 119.56s/it, best loss: -0.668604651163]\u001b[A\n",
      "\u001b[AParameters with this testing accuracy 0.668604651163 and loss 1.09734850818 :\n",
      "\n",
      " 26%|██▋       | 263/1000 [10:32:00<24:28:37, 119.56s/it, best loss: -0.668604651163]\u001b[A\n",
      "\u001b[A{'kernel': 'linear', 'C': 11.966158271409942, 'gamma': 7.853078663638602, 'class_weight': 'balanced'}\n",
      "\n",
      " 26%|██▋       | 263/1000 [10:32:00<24:28:37, 119.56s/it, best loss: -0.668604651163]\u001b[A"
     ]
    },
    {
     "name": "stderr",
     "output_type": "stream",
     "text": [
      "Hyperopt:  26%|██▋       | 264/1000 [10:32:00<24:13:09, 118.46s/it]"
     ]
    },
    {
     "name": "stdout",
     "output_type": "stream",
     "text": [
      "\n",
      " 26%|██▋       | 264/1000 [10:32:00<24:13:09, 118.46s/it, best loss: -0.668604651163]\u001b[A\n",
      "\u001b[AParameters with this training accuracy 0.992900935786 and loss 0.431840032186 :\n",
      "\n",
      " 26%|██▋       | 264/1000 [10:33:53<24:13:09, 118.46s/it, best loss: -0.668604651163]\u001b[A\n",
      "\u001b[AParameters with this testing accuracy 0.665697674419 and loss 1.09748432171 :\n",
      "\n",
      " 26%|██▋       | 264/1000 [10:33:53<24:13:09, 118.46s/it, best loss: -0.668604651163]\u001b[A\n",
      "\u001b[A{'kernel': 'linear', 'C': 10.54925616757055, 'gamma': 6.951371578513182, 'class_weight': 'balanced'}\n",
      "\n",
      " 26%|██▋       | 264/1000 [10:33:53<24:13:09, 118.46s/it, best loss: -0.668604651163]\u001b[A"
     ]
    },
    {
     "name": "stderr",
     "output_type": "stream",
     "text": [
      "Hyperopt:  26%|██▋       | 265/1000 [10:33:53<23:48:47, 116.64s/it]"
     ]
    },
    {
     "name": "stdout",
     "output_type": "stream",
     "text": [
      "\n",
      " 26%|██▋       | 265/1000 [10:33:53<23:48:47, 116.64s/it, best loss: -0.668604651163]\u001b[A\n",
      "\u001b[AParameters with this training accuracy 0.994837044208 and loss 0.42546050868 :\n",
      "\n",
      " 26%|██▋       | 265/1000 [10:35:48<23:48:47, 116.64s/it, best loss: -0.668604651163]\u001b[A\n",
      "\u001b[AParameters with this testing accuracy 0.665697674419 and loss 1.09793716069 :\n",
      "\n",
      " 26%|██▋       | 265/1000 [10:35:48<23:48:47, 116.64s/it, best loss: -0.668604651163]\u001b[A\n",
      "\u001b[A{'kernel': 'linear', 'C': 13.43043459377843, 'gamma': 6.2433388101951195, 'class_weight': 'balanced'}\n",
      "\n",
      " 26%|██▋       | 265/1000 [10:35:48<23:48:47, 116.64s/it, best loss: -0.668604651163]\u001b[A"
     ]
    },
    {
     "name": "stderr",
     "output_type": "stream",
     "text": [
      "Hyperopt:  27%|██▋       | 266/1000 [10:35:48<23:42:58, 116.32s/it]"
     ]
    },
    {
     "name": "stdout",
     "output_type": "stream",
     "text": [
      "\n",
      " 27%|██▋       | 266/1000 [10:35:48<23:42:58, 116.32s/it, best loss: -0.668604651163]\u001b[A\n",
      "\u001b[AParameters with this training accuracy 0.995159728945 and loss 0.425584411617 :\n",
      "\n",
      " 27%|██▋       | 266/1000 [10:37:45<23:42:58, 116.32s/it, best loss: -0.668604651163]\u001b[A\n",
      "\u001b[AParameters with this testing accuracy 0.662790697674 and loss 1.09853641406 :\n",
      "\n",
      " 27%|██▋       | 266/1000 [10:37:45<23:42:58, 116.32s/it, best loss: -0.668604651163]\u001b[A\n",
      "\u001b[A{'kernel': 'linear', 'C': 14.206546332449218, 'gamma': 8.947716620957483, 'class_weight': 'balanced'}\n",
      "\n",
      " 27%|██▋       | 266/1000 [10:37:45<23:42:58, 116.32s/it, best loss: -0.668604651163]\u001b[A"
     ]
    },
    {
     "name": "stderr",
     "output_type": "stream",
     "text": [
      "Hyperopt:  27%|██▋       | 267/1000 [10:37:45<23:40:47, 116.30s/it]"
     ]
    },
    {
     "name": "stdout",
     "output_type": "stream",
     "text": [
      "\n",
      " 27%|██▋       | 267/1000 [10:37:45<23:40:47, 116.30s/it, best loss: -0.668604651163]\u001b[A\n",
      "\u001b[AParameters with this training accuracy 0.99354630526 and loss 0.428551429877 :\n",
      "\n",
      " 27%|██▋       | 267/1000 [10:39:41<23:40:47, 116.30s/it, best loss: -0.668604651163]\u001b[A\n",
      "\u001b[AParameters with this testing accuracy 0.665697674419 and loss 1.09726846645 :\n",
      "\n",
      " 27%|██▋       | 267/1000 [10:39:41<23:40:47, 116.30s/it, best loss: -0.668604651163]\u001b[A\n",
      "\u001b[A{'kernel': 'linear', 'C': 11.480585547767452, 'gamma': 5.750548163740742, 'class_weight': 'balanced'}\n",
      "\n",
      " 27%|██▋       | 267/1000 [10:39:41<23:40:47, 116.30s/it, best loss: -0.668604651163]\u001b[A"
     ]
    },
    {
     "name": "stderr",
     "output_type": "stream",
     "text": [
      "Hyperopt:  27%|██▋       | 268/1000 [10:39:41<23:37:49, 116.22s/it]"
     ]
    },
    {
     "name": "stdout",
     "output_type": "stream",
     "text": [
      "\n",
      " 27%|██▋       | 268/1000 [10:39:41<23:37:49, 116.22s/it, best loss: -0.668604651163]\u001b[A\n",
      "\u001b[AParameters with this training accuracy 0.995159728945 and loss 0.424753807622 :\n",
      "\n",
      " 27%|██▋       | 268/1000 [10:41:37<23:37:49, 116.22s/it, best loss: -0.668604651163]\u001b[A\n",
      "\u001b[AParameters with this testing accuracy 0.662790697674 and loss 1.09820898968 :\n",
      "\n",
      " 27%|██▋       | 268/1000 [10:41:37<23:37:49, 116.22s/it, best loss: -0.668604651163]\u001b[A\n",
      "\u001b[A{'kernel': 'linear', 'C': 14.813052889752694, 'gamma': 6.843971899824737, 'class_weight': 'balanced'}\n",
      "\n",
      " 27%|██▋       | 268/1000 [10:41:37<23:37:49, 116.22s/it, best loss: -0.668604651163]\u001b[A"
     ]
    },
    {
     "name": "stderr",
     "output_type": "stream",
     "text": [
      "Hyperopt:  27%|██▋       | 269/1000 [10:41:37<23:36:27, 116.26s/it]"
     ]
    },
    {
     "name": "stdout",
     "output_type": "stream",
     "text": [
      "\n",
      " 27%|██▋       | 269/1000 [10:41:37<23:36:27, 116.26s/it, best loss: -0.668604651163]\u001b[A\n",
      "\u001b[AParameters with this training accuracy 0.992578251049 and loss 0.433789889197 :\n",
      "\n",
      " 27%|██▋       | 269/1000 [10:43:27<23:36:27, 116.26s/it, best loss: -0.668604651163]\u001b[A\n",
      "\u001b[AParameters with this testing accuracy 0.662790697674 and loss 1.0969462416 :\n",
      "\n",
      " 27%|██▋       | 269/1000 [10:43:27<23:36:27, 116.26s/it, best loss: -0.668604651163]\u001b[A\n",
      "\u001b[A{'kernel': 'linear', 'C': 9.444381663161504, 'gamma': 1.1161093682032401, 'class_weight': 'balanced'}\n",
      "\n",
      " 27%|██▋       | 269/1000 [10:43:27<23:36:27, 116.26s/it, best loss: -0.668604651163]\u001b[A"
     ]
    },
    {
     "name": "stderr",
     "output_type": "stream",
     "text": [
      "Hyperopt:  27%|██▋       | 270/1000 [10:43:27<23:12:17, 114.44s/it]"
     ]
    },
    {
     "name": "stdout",
     "output_type": "stream",
     "text": [
      "\n",
      " 27%|██▋       | 270/1000 [10:43:27<23:12:17, 114.44s/it, best loss: -0.668604651163]\u001b[A\n",
      "\u001b[AParameters with this training accuracy 0.992900935786 and loss 0.432214061051 :\n",
      "\n",
      " 27%|██▋       | 270/1000 [10:45:19<23:12:17, 114.44s/it, best loss: -0.668604651163]\u001b[A\n",
      "\u001b[AParameters with this testing accuracy 0.665697674419 and loss 1.09719993596 :\n",
      "\n",
      " 27%|██▋       | 270/1000 [10:45:19<23:12:17, 114.44s/it, best loss: -0.668604651163]\u001b[A\n",
      "\u001b[A{'kernel': 'linear', 'C': 10.11618537365503, 'gamma': 3.3231361164876354, 'class_weight': 'balanced'}\n",
      "\n",
      " 27%|██▋       | 270/1000 [10:45:19<23:12:17, 114.44s/it, best loss: -0.668604651163]\u001b[A"
     ]
    },
    {
     "name": "stderr",
     "output_type": "stream",
     "text": [
      "Hyperopt:  27%|██▋       | 271/1000 [10:45:19<23:02:22, 113.78s/it]"
     ]
    },
    {
     "name": "stdout",
     "output_type": "stream",
     "text": [
      "\n",
      " 27%|██▋       | 271/1000 [10:45:19<23:02:22, 113.78s/it, best loss: -0.668604651163]\u001b[A\n",
      "\u001b[AParameters with this training accuracy 0.995159728945 and loss 0.425142992761 :\n",
      "\n",
      " 27%|██▋       | 271/1000 [10:47:12<23:02:22, 113.78s/it, best loss: -0.668604651163]\u001b[A\n",
      "\u001b[AParameters with this testing accuracy 0.662790697674 and loss 1.09863152901 :\n",
      "\n",
      " 27%|██▋       | 271/1000 [10:47:12<23:02:22, 113.78s/it, best loss: -0.668604651163]\u001b[A\n",
      "\u001b[A{'kernel': 'linear', 'C': 15.069019302837937, 'gamma': 4.127240296992508, 'class_weight': 'balanced'}\n",
      "\n",
      " 27%|██▋       | 271/1000 [10:47:12<23:02:22, 113.78s/it, best loss: -0.668604651163]\u001b[A"
     ]
    },
    {
     "name": "stderr",
     "output_type": "stream",
     "text": [
      "Hyperopt:  27%|██▋       | 272/1000 [10:47:12<22:55:37, 113.38s/it]"
     ]
    },
    {
     "name": "stdout",
     "output_type": "stream",
     "text": [
      "\n",
      " 27%|██▋       | 272/1000 [10:47:12<22:55:37, 113.38s/it, best loss: -0.668604651163]\u001b[A\n",
      "\u001b[AParameters with this training accuracy 0.994837044208 and loss 0.426778781938 :\n",
      "\n",
      " 27%|██▋       | 272/1000 [10:49:03<22:55:37, 113.38s/it, best loss: -0.668604651163]\u001b[A\n",
      "\u001b[AParameters with this testing accuracy 0.665697674419 and loss 1.09781216316 :\n",
      "\n",
      " 27%|██▋       | 272/1000 [10:49:03<22:55:37, 113.38s/it, best loss: -0.668604651163]\u001b[A\n",
      "\u001b[A{'kernel': 'linear', 'C': 12.948586637952815, 'gamma': 6.005014818566746, 'class_weight': 'balanced'}\n",
      "\n",
      " 27%|██▋       | 272/1000 [10:49:03<22:55:37, 113.38s/it, best loss: -0.668604651163]\u001b[A"
     ]
    },
    {
     "name": "stderr",
     "output_type": "stream",
     "text": [
      "Hyperopt:  27%|██▋       | 273/1000 [10:49:03<22:44:08, 112.58s/it]"
     ]
    },
    {
     "name": "stdout",
     "output_type": "stream",
     "text": [
      "\n",
      " 27%|██▋       | 273/1000 [10:49:03<22:44:08, 112.58s/it, best loss: -0.668604651163]\u001b[A\n",
      "\u001b[AParameters with this training accuracy 0.994191674734 and loss 0.425578703306 :\n",
      "\n",
      " 27%|██▋       | 273/1000 [10:50:55<22:44:08, 112.58s/it, best loss: -0.668604651163]\u001b[A\n",
      "\u001b[AParameters with this testing accuracy 0.668604651163 and loss 1.09696627901 :\n",
      "\n",
      " 27%|██▋       | 273/1000 [10:50:55<22:44:08, 112.58s/it, best loss: -0.668604651163]\u001b[A\n",
      "\u001b[A{'kernel': 'linear', 'C': 12.527342491726694, 'gamma': 8.308448902228358, 'class_weight': 'balanced'}\n",
      "\n",
      " 27%|██▋       | 273/1000 [10:50:55<22:44:08, 112.58s/it, best loss: -0.668604651163]\u001b[A"
     ]
    },
    {
     "name": "stderr",
     "output_type": "stream",
     "text": [
      "Hyperopt:  27%|██▋       | 274/1000 [10:50:55<22:41:24, 112.51s/it]"
     ]
    },
    {
     "name": "stdout",
     "output_type": "stream",
     "text": [
      "\n",
      " 27%|██▋       | 274/1000 [10:50:55<22:41:24, 112.51s/it, best loss: -0.668604651163]\u001b[A\n",
      "\u001b[AParameters with this training accuracy 0.991932881575 and loss 0.437680664711 :\n",
      "\n",
      " 27%|██▋       | 274/1000 [10:52:46<22:41:24, 112.51s/it, best loss: -0.668604651163]\u001b[A\n",
      "\u001b[AParameters with this testing accuracy 0.662790697674 and loss 1.09603006809 :\n",
      "\n",
      " 27%|██▋       | 274/1000 [10:52:46<22:41:24, 112.51s/it, best loss: -0.668604651163]\u001b[A\n",
      "\u001b[A{'kernel': 'linear', 'C': 8.60296318552983, 'gamma': 4.396336912125498, 'class_weight': 'balanced'}\n",
      "\n",
      " 27%|██▋       | 274/1000 [10:52:46<22:41:24, 112.51s/it, best loss: -0.668604651163]\u001b[A"
     ]
    },
    {
     "name": "stderr",
     "output_type": "stream",
     "text": [
      "Hyperopt:  28%|██▊       | 275/1000 [10:52:46<22:35:48, 112.20s/it]"
     ]
    },
    {
     "name": "stdout",
     "output_type": "stream",
     "text": [
      "\n",
      " 28%|██▊       | 275/1000 [10:52:46<22:35:48, 112.20s/it, best loss: -0.668604651163]\u001b[A\n",
      "\u001b[AParameters with this training accuracy 0.994191674734 and loss 0.426550691227 :\n",
      "\n",
      " 28%|██▊       | 275/1000 [10:54:45<22:35:48, 112.20s/it, best loss: -0.668604651163]\u001b[A\n",
      "\u001b[AParameters with this testing accuracy 0.668604651163 and loss 1.09757196996 :\n",
      "\n",
      " 28%|██▊       | 275/1000 [10:54:45<22:35:48, 112.20s/it, best loss: -0.668604651163]\u001b[A\n",
      "\u001b[A{'kernel': 'linear', 'C': 12.477362331199643, 'gamma': 5.043522319577558, 'class_weight': 'balanced'}\n",
      "\n",
      " 28%|██▊       | 275/1000 [10:54:45<22:35:48, 112.20s/it, best loss: -0.668604651163]\u001b[A"
     ]
    },
    {
     "name": "stderr",
     "output_type": "stream",
     "text": [
      "Hyperopt:  28%|██▊       | 276/1000 [10:54:46<22:58:36, 114.25s/it]"
     ]
    },
    {
     "name": "stdout",
     "output_type": "stream",
     "text": [
      "\n",
      " 28%|██▊       | 276/1000 [10:54:45<22:58:36, 114.25s/it, best loss: -0.668604651163]\u001b[A\n",
      "\u001b[AParameters with this training accuracy 0.992900935786 and loss 0.426795245147 :\n",
      "\n",
      " 28%|██▊       | 276/1000 [10:56:38<22:58:36, 114.25s/it, best loss: -0.668604651163]\u001b[A\n",
      "\u001b[AParameters with this testing accuracy 0.665697674419 and loss 1.09757269702 :\n",
      "\n",
      " 28%|██▊       | 276/1000 [10:56:38<22:58:36, 114.25s/it, best loss: -0.668604651163]\u001b[A\n",
      "\u001b[A{'kernel': 'linear', 'C': 11.179455762363256, 'gamma': 5.046059187343543, 'class_weight': 'balanced'}\n",
      "\n",
      " 28%|██▊       | 276/1000 [10:56:38<22:58:36, 114.25s/it, best loss: -0.668604651163]\u001b[A"
     ]
    },
    {
     "name": "stderr",
     "output_type": "stream",
     "text": [
      "Hyperopt:  28%|██▊       | 277/1000 [10:56:38<22:52:03, 113.86s/it]"
     ]
    },
    {
     "name": "stdout",
     "output_type": "stream",
     "text": [
      "\n",
      " 28%|██▊       | 277/1000 [10:56:38<22:52:03, 113.86s/it, best loss: -0.668604651163]\u001b[A\n",
      "\u001b[AParameters with this training accuracy 0.0158115521136 and loss 1.97697326585 :\n",
      "\n",
      " 28%|██▊       | 277/1000 [11:00:45<22:52:03, 113.86s/it, best loss: -0.668604651163]\u001b[A\n",
      "\u001b[AParameters with this testing accuracy 0.0261627906977 and loss 1.94764829726 :\n",
      "\n",
      " 28%|██▊       | 277/1000 [11:00:45<22:52:03, 113.86s/it, best loss: -0.668604651163]\u001b[A\n",
      "\u001b[A{'kernel': 'sigmoid', 'C': 12.732386458143493, 'gamma': 9.62149194797262, 'class_weight': 'balanced'}\n",
      "\n",
      " 28%|██▊       | 277/1000 [11:00:45<22:52:03, 113.86s/it, best loss: -0.668604651163]\u001b[A"
     ]
    },
    {
     "name": "stderr",
     "output_type": "stream",
     "text": [
      "Hyperopt:  28%|██▊       | 278/1000 [11:00:45<30:49:13, 153.68s/it]"
     ]
    },
    {
     "name": "stdout",
     "output_type": "stream",
     "text": [
      "\n",
      " 28%|██▊       | 278/1000 [11:00:45<30:49:13, 153.68s/it, best loss: -0.668604651163]\u001b[A\n",
      "\u001b[AParameters with this training accuracy 0.899967731526 and loss 0.719659500789 :\n",
      "\n",
      " 28%|██▊       | 278/1000 [11:02:23<30:49:13, 153.68s/it, best loss: -0.668604651163]\u001b[A\n",
      "\u001b[AParameters with this testing accuracy 0.619186046512 and loss 1.13623181126 :\n",
      "\n",
      " 28%|██▊       | 278/1000 [11:02:23<30:49:13, 153.68s/it, best loss: -0.668604651163]\u001b[A\n",
      "\u001b[A{'kernel': 'linear', 'C': 1.0951895721793665, 'gamma': 7.345720872528826, 'class_weight': 'balanced'}\n",
      "\n",
      " 28%|██▊       | 278/1000 [11:02:23<30:49:13, 153.68s/it, best loss: -0.668604651163]\u001b[A"
     ]
    },
    {
     "name": "stderr",
     "output_type": "stream",
     "text": [
      "Hyperopt:  28%|██▊       | 279/1000 [11:02:23<27:26:06, 136.99s/it]"
     ]
    },
    {
     "name": "stdout",
     "output_type": "stream",
     "text": [
      "\n",
      " 28%|██▊       | 279/1000 [11:02:23<27:26:06, 136.99s/it, best loss: -0.668604651163]\u001b[A\n",
      "\u001b[AParameters with this training accuracy 0.996450467893 and loss 0.851692526837 :\n",
      "\n",
      " 28%|██▊       | 279/1000 [11:03:54<27:26:06, 136.99s/it, best loss: -0.668604651163]\u001b[A\n",
      "\u001b[AParameters with this testing accuracy 0.56976744186 and loss 1.32097461667 :\n",
      "\n",
      " 28%|██▊       | 279/1000 [11:03:54<27:26:06, 136.99s/it, best loss: -0.668604651163]\u001b[A\n",
      "\u001b[A{'kernel': 'poly', 'C': 15.834196760442609, 'gamma': 5.840095395725179, 'class_weight': 'balanced'}\n",
      "\n",
      " 28%|██▊       | 279/1000 [11:03:54<27:26:06, 136.99s/it, best loss: -0.668604651163]\u001b[A"
     ]
    },
    {
     "name": "stderr",
     "output_type": "stream",
     "text": [
      "Hyperopt:  28%|██▊       | 280/1000 [11:03:54<24:36:23, 123.03s/it]"
     ]
    },
    {
     "name": "stdout",
     "output_type": "stream",
     "text": [
      "\n",
      " 28%|██▊       | 280/1000 [11:03:54<24:36:23, 123.03s/it, best loss: -0.668604651163]\u001b[A\n",
      "\u001b[AParameters with this training accuracy 0.994837044208 and loss 0.426531722791 :\n",
      "\n",
      " 28%|██▊       | 280/1000 [11:05:50<24:36:23, 123.03s/it, best loss: -0.668604651163]\u001b[A\n",
      "\u001b[AParameters with this testing accuracy 0.665697674419 and loss 1.09717778732 :\n",
      "\n",
      " 28%|██▊       | 280/1000 [11:05:50<24:36:23, 123.03s/it, best loss: -0.668604651163]\u001b[A\n",
      "\u001b[A{'kernel': 'linear', 'C': 13.453767577179336, 'gamma': 6.593931899157833, 'class_weight': 'balanced'}\n",
      "\n",
      " 28%|██▊       | 280/1000 [11:05:50<24:36:23, 123.03s/it, best loss: -0.668604651163]\u001b[A"
     ]
    },
    {
     "name": "stderr",
     "output_type": "stream",
     "text": [
      "Hyperopt:  28%|██▊       | 281/1000 [11:05:50<24:09:27, 120.96s/it]"
     ]
    },
    {
     "name": "stdout",
     "output_type": "stream",
     "text": [
      "\n",
      " 28%|██▊       | 281/1000 [11:05:50<24:09:27, 120.96s/it, best loss: -0.668604651163]\u001b[A\n",
      "\u001b[AParameters with this training accuracy 0.995159728945 and loss 0.425248079985 :\n",
      "\n",
      " 28%|██▊       | 281/1000 [11:07:39<24:09:27, 120.96s/it, best loss: -0.668604651163]\u001b[A\n",
      "\u001b[AParameters with this testing accuracy 0.662790697674 and loss 1.09823939122 :\n",
      "\n",
      " 28%|██▊       | 281/1000 [11:07:39<24:09:27, 120.96s/it, best loss: -0.668604651163]\u001b[A\n",
      "\u001b[A{'kernel': 'linear', 'C': 14.46494319797247, 'gamma': 9.511933595492593, 'class_weight': 'balanced'}\n",
      "\n",
      " 28%|██▊       | 281/1000 [11:07:39<24:09:27, 120.96s/it, best loss: -0.668604651163]\u001b[A"
     ]
    },
    {
     "name": "stderr",
     "output_type": "stream",
     "text": [
      "Hyperopt:  28%|██▊       | 282/1000 [11:07:39<23:27:06, 117.59s/it]"
     ]
    },
    {
     "name": "stdout",
     "output_type": "stream",
     "text": [
      "\n",
      " 28%|██▊       | 282/1000 [11:07:39<23:27:06, 117.59s/it, best loss: -0.668604651163]\u001b[A\n",
      "\u001b[AParameters with this training accuracy 0.996450467893 and loss 2.81351226756 :\n",
      "\n",
      " 28%|██▊       | 282/1000 [11:11:41<23:27:06, 117.59s/it, best loss: -0.668604651163]\u001b[A\n",
      "\u001b[AParameters with this testing accuracy 0.459302325581 and loss 1.94304929751 :\n",
      "\n",
      " 28%|██▊       | 282/1000 [11:11:41<23:27:06, 117.59s/it, best loss: -0.668604651163]\u001b[A\n",
      "\u001b[A{'kernel': 'rbf', 'C': 10.825324482352535, 'gamma': 8.556882747283584, 'class_weight': 'balanced'}\n",
      "\n",
      " 28%|██▊       | 282/1000 [11:11:41<23:27:06, 117.59s/it, best loss: -0.668604651163]\u001b[A"
     ]
    },
    {
     "name": "stderr",
     "output_type": "stream",
     "text": [
      "Hyperopt:  28%|██▊       | 283/1000 [11:11:41<30:49:15, 154.75s/it]"
     ]
    },
    {
     "name": "stdout",
     "output_type": "stream",
     "text": [
      "\n",
      " 28%|██▊       | 283/1000 [11:11:41<30:49:15, 154.75s/it, best loss: -0.668604651163]\u001b[A\n",
      "\u001b[AParameters with this training accuracy 0.995159728945 and loss 0.425890643159 :\n",
      "\n",
      " 28%|██▊       | 283/1000 [11:13:37<30:49:15, 154.75s/it, best loss: -0.668604651163]\u001b[A\n",
      "\u001b[AParameters with this testing accuracy 0.665697674419 and loss 1.09847501092 :\n",
      "\n",
      " 28%|██▊       | 283/1000 [11:13:37<30:49:15, 154.75s/it, best loss: -0.668604651163]\u001b[A\n",
      "\u001b[A{'kernel': 'linear', 'C': 13.960338445678186, 'gamma': 8.225080401281328, 'class_weight': 'balanced'}\n",
      "\n",
      " 28%|██▊       | 283/1000 [11:13:37<30:49:15, 154.75s/it, best loss: -0.668604651163]\u001b[A"
     ]
    },
    {
     "name": "stderr",
     "output_type": "stream",
     "text": [
      "Hyperopt:  28%|██▊       | 284/1000 [11:13:37<28:27:05, 143.05s/it]"
     ]
    },
    {
     "name": "stdout",
     "output_type": "stream",
     "text": [
      "\n",
      " 28%|██▊       | 284/1000 [11:13:37<28:27:04, 143.05s/it, best loss: -0.668604651163]\u001b[A\n",
      "\u001b[AParameters with this training accuracy 0.0329138431752 and loss 1.96885051559 :\n",
      "\n",
      " 28%|██▊       | 284/1000 [11:17:36<28:27:04, 143.05s/it, best loss: -0.668604651163]\u001b[A\n",
      "\u001b[AParameters with this testing accuracy 0.0406976744186 and loss 1.94079462803 :\n",
      "\n",
      " 28%|██▊       | 284/1000 [11:17:36<28:27:04, 143.05s/it, best loss: -0.668604651163]\u001b[A\n",
      "\u001b[A{'kernel': 'sigmoid', 'C': 15.346302743920248, 'gamma': 7.042399778997723, 'class_weight': 'balanced'}\n",
      "\n",
      " 28%|██▊       | 284/1000 [11:17:36<28:27:04, 143.05s/it, best loss: -0.668604651163]\u001b[A"
     ]
    },
    {
     "name": "stderr",
     "output_type": "stream",
     "text": [
      "Hyperopt:  28%|██▊       | 285/1000 [11:17:36<34:09:22, 171.98s/it]"
     ]
    },
    {
     "name": "stdout",
     "output_type": "stream",
     "text": [
      "\n",
      " 28%|██▊       | 285/1000 [11:17:36<34:09:22, 171.98s/it, best loss: -0.668604651163]\u001b[A\n",
      "\u001b[AParameters with this training accuracy 0.995805098419 and loss 0.417596209166 :\n",
      "\n",
      " 28%|██▊       | 285/1000 [11:19:26<34:09:22, 171.98s/it, best loss: -0.668604651163]\u001b[A\n",
      "\u001b[AParameters with this testing accuracy 0.65988372093 and loss 1.10309528527 :\n",
      "\n",
      " 28%|██▊       | 285/1000 [11:19:26<34:09:22, 171.98s/it, best loss: -0.668604651163]\u001b[A\n",
      "\u001b[A{'kernel': 'linear', 'C': 11.769281330087278, 'gamma': 7.9022888176323445, 'class_weight': None}\n",
      "\n",
      " 28%|██▊       | 285/1000 [11:19:26<34:09:22, 171.98s/it, best loss: -0.668604651163]\u001b[A"
     ]
    },
    {
     "name": "stderr",
     "output_type": "stream",
     "text": [
      "Hyperopt:  29%|██▊       | 286/1000 [11:19:26<30:24:55, 153.36s/it]"
     ]
    },
    {
     "name": "stdout",
     "output_type": "stream",
     "text": [
      "\n",
      " 29%|██▊       | 286/1000 [11:19:26<30:24:55, 153.36s/it, best loss: -0.668604651163]\u001b[A\n",
      "\u001b[AParameters with this training accuracy 0.994514359471 and loss 0.427169050155 :\n",
      "\n",
      " 29%|██▊       | 286/1000 [11:21:18<30:24:55, 153.36s/it, best loss: -0.668604651163]\u001b[A\n",
      "\u001b[AParameters with this testing accuracy 0.668604651163 and loss 1.09702005728 :\n",
      "\n",
      " 29%|██▊       | 286/1000 [11:21:18<30:24:55, 153.36s/it, best loss: -0.668604651163]\u001b[A\n",
      "\u001b[A{'kernel': 'linear', 'C': 12.843107638284378, 'gamma': 7.638309938551903, 'class_weight': 'balanced'}\n",
      "\n",
      " 29%|██▊       | 286/1000 [11:21:18<30:24:55, 153.36s/it, best loss: -0.668604651163]\u001b[A"
     ]
    },
    {
     "name": "stderr",
     "output_type": "stream",
     "text": [
      "Hyperopt:  29%|██▊       | 287/1000 [11:21:18<27:53:24, 140.82s/it]"
     ]
    },
    {
     "name": "stdout",
     "output_type": "stream",
     "text": [
      "\n",
      " 29%|██▊       | 287/1000 [11:21:18<27:53:24, 140.82s/it, best loss: -0.668604651163]\u001b[A\n",
      "\u001b[AParameters with this training accuracy 0.991932881575 and loss 0.435789527239 :\n",
      "\n",
      " 29%|██▊       | 287/1000 [11:23:08<27:53:24, 140.82s/it, best loss: -0.668604651163]\u001b[A\n",
      "\u001b[AParameters with this testing accuracy 0.662790697674 and loss 1.09685374467 :\n",
      "\n",
      " 29%|██▊       | 287/1000 [11:23:08<27:53:24, 140.82s/it, best loss: -0.668604651163]\u001b[A\n",
      "\u001b[A{'kernel': 'linear', 'C': 9.148359117555064, 'gamma': 5.306039497006366, 'class_weight': 'balanced'}\n",
      "\n",
      " 29%|██▊       | 287/1000 [11:23:08<27:53:24, 140.82s/it, best loss: -0.668604651163]\u001b[A"
     ]
    },
    {
     "name": "stderr",
     "output_type": "stream",
     "text": [
      "Hyperopt:  29%|██▉       | 288/1000 [11:23:08<26:01:49, 131.62s/it]"
     ]
    },
    {
     "name": "stdout",
     "output_type": "stream",
     "text": [
      "\n",
      " 29%|██▉       | 288/1000 [11:23:08<26:01:49, 131.62s/it, best loss: -0.668604651163]\u001b[A\n",
      "\u001b[AParameters with this training accuracy 0.996450467893 and loss 0.888827495722 :\n",
      "\n",
      " 29%|██▉       | 288/1000 [11:24:38<26:01:49, 131.62s/it, best loss: -0.668604651163]\u001b[A\n",
      "\u001b[AParameters with this testing accuracy 0.56976744186 and loss 1.3270804276 :\n",
      "\n",
      " 29%|██▉       | 288/1000 [11:24:38<26:01:49, 131.62s/it, best loss: -0.668604651163]\u001b[A\n",
      "\u001b[A{'kernel': 'poly', 'C': 13.582738096035953, 'gamma': 8.495252055222085, 'class_weight': 'balanced'}\n",
      "\n",
      " 29%|██▉       | 288/1000 [11:24:38<26:01:49, 131.62s/it, best loss: -0.668604651163]\u001b[A"
     ]
    },
    {
     "name": "stderr",
     "output_type": "stream",
     "text": [
      "Hyperopt:  29%|██▉       | 289/1000 [11:24:38<23:31:32, 119.12s/it]"
     ]
    },
    {
     "name": "stdout",
     "output_type": "stream",
     "text": [
      "\n",
      " 29%|██▉       | 289/1000 [11:24:38<23:31:32, 119.12s/it, best loss: -0.668604651163]\u001b[A\n",
      "\u001b[AParameters with this training accuracy 0.992578251049 and loss 0.433300972852 :\n",
      "\n",
      " 29%|██▉       | 289/1000 [11:26:30<23:31:32, 119.12s/it, best loss: -0.668604651163]\u001b[A\n",
      "\u001b[AParameters with this testing accuracy 0.665697674419 and loss 1.09757512727 :\n",
      "\n",
      " 29%|██▉       | 289/1000 [11:26:30<23:31:32, 119.12s/it, best loss: -0.668604651163]\u001b[A\n",
      "\u001b[A{'kernel': 'linear', 'C': 9.889045673351987, 'gamma': 7.268202122175296, 'class_weight': 'balanced'}\n",
      "\n",
      " 29%|██▉       | 289/1000 [11:26:30<23:31:32, 119.12s/it, best loss: -0.668604651163]\u001b[A"
     ]
    },
    {
     "name": "stderr",
     "output_type": "stream",
     "text": [
      "Hyperopt:  29%|██▉       | 290/1000 [11:26:30<23:05:40, 117.10s/it]"
     ]
    },
    {
     "name": "stdout",
     "output_type": "stream",
     "text": [
      "\n",
      " 29%|██▉       | 290/1000 [11:26:30<23:05:40, 117.10s/it, best loss: -0.668604651163]\u001b[A\n",
      "\u001b[AParameters with this training accuracy 0.993868989997 and loss 0.428640733835 :\n",
      "\n",
      " 29%|██▉       | 290/1000 [11:28:20<23:05:40, 117.10s/it, best loss: -0.668604651163]\u001b[A\n",
      "\u001b[AParameters with this testing accuracy 0.668604651163 and loss 1.09778776198 :\n",
      "\n",
      " 29%|██▉       | 290/1000 [11:28:20<23:05:40, 117.10s/it, best loss: -0.668604651163]\u001b[A\n",
      "\u001b[A{'kernel': 'linear', 'C': 11.888583283969448, 'gamma': 9.934309382390582, 'class_weight': 'balanced'}\n",
      "\n",
      " 29%|██▉       | 290/1000 [11:28:20<23:05:40, 117.10s/it, best loss: -0.668604651163]\u001b[A"
     ]
    },
    {
     "name": "stderr",
     "output_type": "stream",
     "text": [
      "Hyperopt:  29%|██▉       | 291/1000 [11:28:20<22:37:33, 114.88s/it]"
     ]
    },
    {
     "name": "stdout",
     "output_type": "stream",
     "text": [
      "\n",
      " 29%|██▉       | 291/1000 [11:28:20<22:37:33, 114.88s/it, best loss: -0.668604651163]\u001b[A\n",
      "\u001b[AParameters with this training accuracy 0.996450467893 and loss 2.85061439421 :\n",
      "\n",
      " 29%|██▉       | 291/1000 [11:32:22<22:37:33, 114.88s/it, best loss: -0.668604651163]\u001b[A\n",
      "\u001b[AParameters with this testing accuracy 0.459302325581 and loss 1.94383887054 :\n",
      "\n",
      " 29%|██▉       | 291/1000 [11:32:22<22:37:33, 114.88s/it, best loss: -0.668604651163]\u001b[A\n",
      "\u001b[A{'kernel': 'rbf', 'C': 11.906767128533989, 'gamma': 9.18912193179342, 'class_weight': 'balanced'}\n",
      "\n",
      " 29%|██▉       | 291/1000 [11:32:22<22:37:33, 114.88s/it, best loss: -0.668604651163]\u001b[A"
     ]
    },
    {
     "name": "stderr",
     "output_type": "stream",
     "text": [
      "Hyperopt:  29%|██▉       | 292/1000 [11:32:22<30:06:12, 153.07s/it]"
     ]
    },
    {
     "name": "stdout",
     "output_type": "stream",
     "text": [
      "\n",
      " 29%|██▉       | 292/1000 [11:32:22<30:06:12, 153.07s/it, best loss: -0.668604651163]\u001b[A\n",
      "\u001b[AParameters with this training accuracy 0.995805098419 and loss 0.418968188149 :\n",
      "\n",
      " 29%|██▉       | 292/1000 [11:34:17<30:06:12, 153.07s/it, best loss: -0.668604651163]\u001b[A\n",
      "\u001b[AParameters with this testing accuracy 0.65988372093 and loss 1.10404632209 :\n",
      "\n",
      " 29%|██▉       | 292/1000 [11:34:17<30:06:12, 153.07s/it, best loss: -0.668604651163]\u001b[A\n",
      "\u001b[A{'kernel': 'linear', 'C': 10.489329829740413, 'gamma': 0.01735609198726662, 'class_weight': None}\n",
      "\n",
      " 29%|██▉       | 292/1000 [11:34:17<30:06:12, 153.07s/it, best loss: -0.668604651163]\u001b[A"
     ]
    },
    {
     "name": "stderr",
     "output_type": "stream",
     "text": [
      "Hyperopt:  29%|██▉       | 293/1000 [11:34:17<27:49:13, 141.66s/it]"
     ]
    },
    {
     "name": "stdout",
     "output_type": "stream",
     "text": [
      "\n",
      " 29%|██▉       | 293/1000 [11:34:17<27:49:13, 141.66s/it, best loss: -0.668604651163]\u001b[A\n",
      "\u001b[AParameters with this training accuracy 0.0216198773798 and loss 1.95445424567 :\n",
      "\n",
      " 29%|██▉       | 293/1000 [11:38:13<27:49:13, 141.66s/it, best loss: -0.668604651163]\u001b[A\n",
      "\u001b[AParameters with this testing accuracy 0.0232558139535 and loss 1.9449081088 :\n",
      "\n",
      " 29%|██▉       | 293/1000 [11:38:13<27:49:13, 141.66s/it, best loss: -0.668604651163]\u001b[A\n",
      "\u001b[A{'kernel': 'sigmoid', 'C': 8.235727928141088, 'gamma': 2.8406840774673863, 'class_weight': 'balanced'}\n",
      "\n",
      " 29%|██▉       | 293/1000 [11:38:13<27:49:13, 141.66s/it, best loss: -0.668604651163]\u001b[A"
     ]
    },
    {
     "name": "stderr",
     "output_type": "stream",
     "text": [
      "Hyperopt:  29%|██▉       | 294/1000 [11:38:13<33:19:05, 169.89s/it]"
     ]
    },
    {
     "name": "stdout",
     "output_type": "stream",
     "text": [
      "\n",
      " 29%|██▉       | 294/1000 [11:38:13<33:19:05, 169.89s/it, best loss: -0.668604651163]\u001b[A\n",
      "\u001b[AParameters with this training accuracy 0.992900935786 and loss 0.430006500483 :\n",
      "\n",
      " 29%|██▉       | 294/1000 [11:40:04<33:19:05, 169.89s/it, best loss: -0.668604651163]\u001b[A\n",
      "\u001b[AParameters with this testing accuracy 0.665697674419 and loss 1.09772279177 :\n",
      "\n",
      " 29%|██▉       | 294/1000 [11:40:04<33:19:05, 169.89s/it, best loss: -0.668604651163]\u001b[A\n",
      "\u001b[A{'kernel': 'linear', 'C': 11.300700667082593, 'gamma': 1.5001419407590828, 'class_weight': 'balanced'}\n",
      "\n",
      " 29%|██▉       | 294/1000 [11:40:04<33:19:05, 169.89s/it, best loss: -0.668604651163]\u001b[A"
     ]
    },
    {
     "name": "stderr",
     "output_type": "stream",
     "text": [
      "Hyperopt:  30%|██▉       | 295/1000 [11:40:04<29:49:46, 152.32s/it]"
     ]
    },
    {
     "name": "stdout",
     "output_type": "stream",
     "text": [
      "\n",
      " 30%|██▉       | 295/1000 [11:40:04<29:49:46, 152.32s/it, best loss: -0.668604651163]\u001b[A\n",
      "\u001b[AParameters with this training accuracy 0.995159728945 and loss 0.425253369115 :\n",
      "\n",
      " 30%|██▉       | 295/1000 [11:41:54<29:49:46, 152.32s/it, best loss: -0.668604651163]\u001b[A\n",
      "\u001b[AParameters with this testing accuracy 0.662790697674 and loss 1.09846958949 :\n",
      "\n",
      " 30%|██▉       | 295/1000 [11:41:54<29:49:46, 152.32s/it, best loss: -0.668604651163]\u001b[A\n",
      "\u001b[A{'kernel': 'linear', 'C': 14.475198840848709, 'gamma': 9.302405486009489, 'class_weight': 'balanced'}\n",
      "\n",
      " 30%|██▉       | 295/1000 [11:41:54<29:49:46, 152.32s/it, best loss: -0.668604651163]\u001b[A"
     ]
    },
    {
     "name": "stderr",
     "output_type": "stream",
     "text": [
      "Hyperopt:  30%|██▉       | 296/1000 [11:41:54<27:17:29, 139.56s/it]"
     ]
    },
    {
     "name": "stdout",
     "output_type": "stream",
     "text": [
      "\n",
      " 30%|██▉       | 296/1000 [11:41:54<27:17:29, 139.56s/it, best loss: -0.668604651163]\u001b[A\n",
      "\u001b[AParameters with this training accuracy 0.992900935786 and loss 0.433298393628 :\n",
      "\n",
      " 30%|██▉       | 296/1000 [11:43:44<27:17:29, 139.56s/it, best loss: -0.668604651163]\u001b[A\n",
      "\u001b[AParameters with this testing accuracy 0.665697674419 and loss 1.09697887804 :\n",
      "\n",
      " 30%|██▉       | 296/1000 [11:43:44<27:17:29, 139.56s/it, best loss: -0.668604651163]\u001b[A\n",
      "\u001b[A{'kernel': 'linear', 'C': 10.179402303246885, 'gamma': 9.71638810698464, 'class_weight': 'balanced'}\n",
      "\n",
      " 30%|██▉       | 296/1000 [11:43:44<27:17:29, 139.56s/it, best loss: -0.668604651163]\u001b[A"
     ]
    },
    {
     "name": "stderr",
     "output_type": "stream",
     "text": [
      "Hyperopt:  30%|██▉       | 297/1000 [11:43:44<25:30:32, 130.63s/it]"
     ]
    },
    {
     "name": "stdout",
     "output_type": "stream",
     "text": [
      "\n",
      " 30%|██▉       | 297/1000 [11:43:44<25:30:32, 130.63s/it, best loss: -0.668604651163]\u001b[A\n",
      "\u001b[AParameters with this training accuracy 0.996450467893 and loss 0.847767290662 :\n",
      "\n",
      " 30%|██▉       | 297/1000 [11:45:15<25:30:32, 130.63s/it, best loss: -0.668604651163]\u001b[A\n",
      "\u001b[AParameters with this testing accuracy 0.56976744186 and loss 1.31998440841 :\n",
      "\n",
      " 30%|██▉       | 297/1000 [11:45:15<25:30:32, 130.63s/it, best loss: -0.668604651163]\u001b[A\n",
      "\u001b[A{'kernel': 'poly', 'C': 7.435395272195309, 'gamma': 3.1112201433762765, 'class_weight': 'balanced'}\n",
      "\n",
      " 30%|██▉       | 297/1000 [11:45:15<25:30:32, 130.63s/it, best loss: -0.668604651163]\u001b[A"
     ]
    },
    {
     "name": "stderr",
     "output_type": "stream",
     "text": [
      "Hyperopt:  30%|██▉       | 298/1000 [11:45:15<23:09:35, 118.77s/it]"
     ]
    },
    {
     "name": "stdout",
     "output_type": "stream",
     "text": [
      "\n",
      " 30%|██▉       | 298/1000 [11:45:15<23:09:35, 118.77s/it, best loss: -0.668604651163]\u001b[A\n",
      "\u001b[AParameters with this training accuracy 0.992900935786 and loss 0.430571314624 :\n",
      "\n",
      " 30%|██▉       | 298/1000 [11:47:09<23:09:35, 118.77s/it, best loss: -0.668604651163]\u001b[A\n",
      "\u001b[AParameters with this testing accuracy 0.665697674419 and loss 1.09778587892 :\n",
      "\n",
      " 30%|██▉       | 298/1000 [11:47:09<23:09:35, 118.77s/it, best loss: -0.668604651163]\u001b[A\n",
      "\u001b[A{'kernel': 'linear', 'C': 10.91294695648023, 'gamma': 9.432227091753251, 'class_weight': 'balanced'}\n",
      "\n",
      " 30%|██▉       | 298/1000 [11:47:09<23:09:35, 118.77s/it, best loss: -0.668604651163]\u001b[A"
     ]
    },
    {
     "name": "stderr",
     "output_type": "stream",
     "text": [
      "Hyperopt:  30%|██▉       | 299/1000 [11:47:09<22:52:28, 117.47s/it]"
     ]
    },
    {
     "name": "stdout",
     "output_type": "stream",
     "text": [
      "\n",
      " 30%|██▉       | 299/1000 [11:47:09<22:52:28, 117.47s/it, best loss: -0.668604651163]\u001b[A\n",
      "\u001b[AParameters with this training accuracy 0.995805098419 and loss 0.421454408499 :\n",
      "\n",
      " 30%|██▉       | 299/1000 [11:49:06<22:52:28, 117.47s/it, best loss: -0.668604651163]\u001b[A\n",
      "\u001b[AParameters with this testing accuracy 0.65988372093 and loss 1.10402969023 :\n",
      "\n",
      " 30%|██▉       | 299/1000 [11:49:06<22:52:28, 117.47s/it, best loss: -0.668604651163]\u001b[A\n",
      "\u001b[A{'kernel': 'linear', 'C': 12.014916095138718, 'gamma': 6.75563588371037, 'class_weight': None}\n",
      "\n",
      " 30%|██▉       | 299/1000 [11:49:06<22:52:28, 117.47s/it, best loss: -0.668604651163]\u001b[A"
     ]
    },
    {
     "name": "stderr",
     "output_type": "stream",
     "text": [
      "Hyperopt:  30%|███       | 300/1000 [11:49:06<22:47:37, 117.22s/it]"
     ]
    },
    {
     "name": "stdout",
     "output_type": "stream",
     "text": [
      "\n",
      " 30%|███       | 300/1000 [11:49:06<22:47:37, 117.22s/it, best loss: -0.668604651163]\u001b[A\n",
      "\u001b[AParameters with this training accuracy 0.995482413682 and loss 0.425177528688 :\n",
      "\n",
      " 30%|███       | 300/1000 [11:50:59<22:47:37, 117.22s/it, best loss: -0.668604651163]\u001b[A\n",
      "\u001b[AParameters with this testing accuracy 0.662790697674 and loss 1.09841007999 :\n",
      "\n",
      " 30%|███       | 300/1000 [11:50:59<22:47:37, 117.22s/it, best loss: -0.668604651163]\u001b[A\n",
      "\u001b[A{'kernel': 'linear', 'C': 15.586877756720968, 'gamma': 6.419812528172735, 'class_weight': 'balanced'}\n",
      "\n",
      " 30%|███       | 300/1000 [11:50:59<22:47:37, 117.22s/it, best loss: -0.668604651163]\u001b[A"
     ]
    },
    {
     "name": "stderr",
     "output_type": "stream",
     "text": [
      "Hyperopt:  30%|███       | 301/1000 [11:50:59<22:32:28, 116.09s/it]"
     ]
    },
    {
     "name": "stdout",
     "output_type": "stream",
     "text": [
      "\n",
      " 30%|███       | 301/1000 [11:50:59<22:32:28, 116.09s/it, best loss: -0.668604651163]\u001b[A\n",
      "\u001b[AParameters with this training accuracy 0.996450467893 and loss 2.80953264307 :\n",
      "\n",
      " 30%|███       | 301/1000 [11:54:59<22:32:28, 116.09s/it, best loss: -0.668604651163]\u001b[A\n",
      "\u001b[AParameters with this testing accuracy 0.459302325581 and loss 1.94155446625 :\n",
      "\n",
      " 30%|███       | 301/1000 [11:54:59<22:32:28, 116.09s/it, best loss: -0.668604651163]\u001b[A\n",
      "\u001b[A{'kernel': 'rbf', 'C': 16.077991104708666, 'gamma': 6.171888959408368, 'class_weight': 'balanced'}\n",
      "\n",
      " 30%|███       | 301/1000 [11:54:59<22:32:28, 116.09s/it, best loss: -0.668604651163]\u001b[A"
     ]
    },
    {
     "name": "stderr",
     "output_type": "stream",
     "text": [
      "Hyperopt:  30%|███       | 302/1000 [11:54:59<29:40:44, 153.07s/it]"
     ]
    },
    {
     "name": "stdout",
     "output_type": "stream",
     "text": [
      "\n",
      " 30%|███       | 302/1000 [11:54:59<29:40:44, 153.07s/it, best loss: -0.668604651163]\u001b[A\n",
      "\u001b[AParameters with this training accuracy 0.0367860600194 and loss 1.95542420303 :\n",
      "\n",
      " 30%|███       | 302/1000 [11:58:55<29:40:44, 153.07s/it, best loss: -0.668604651163]\u001b[A\n",
      "\u001b[AParameters with this testing accuracy 0.046511627907 and loss 1.94498693348 :\n",
      "\n",
      " 30%|███       | 302/1000 [11:58:55<29:40:44, 153.07s/it, best loss: -0.668604651163]\u001b[A\n",
      "\u001b[A{'kernel': 'sigmoid', 'C': 14.046346088291104, 'gamma': 3.7843014646495763, 'class_weight': 'balanced'}\n",
      "\n",
      " 30%|███       | 302/1000 [11:58:55<29:40:44, 153.07s/it, best loss: -0.668604651163]\u001b[A"
     ]
    },
    {
     "name": "stderr",
     "output_type": "stream",
     "text": [
      "Hyperopt:  30%|███       | 303/1000 [11:58:55<34:28:50, 178.09s/it]"
     ]
    },
    {
     "name": "stdout",
     "output_type": "stream",
     "text": [
      "\n",
      " 30%|███       | 303/1000 [11:58:55<34:28:50, 178.09s/it, best loss: -0.668604651163]\u001b[A\n",
      "\u001b[AParameters with this training accuracy 0.994837044208 and loss 0.425855805818 :\n",
      "\n",
      " 30%|███       | 303/1000 [12:00:50<34:28:50, 178.09s/it, best loss: -0.668604651163]\u001b[A\n",
      "\u001b[AParameters with this testing accuracy 0.665697674419 and loss 1.09792540073 :\n",
      "\n",
      " 30%|███       | 303/1000 [12:00:50<34:28:50, 178.09s/it, best loss: -0.668604651163]\u001b[A\n",
      "\u001b[A{'kernel': 'linear', 'C': 13.152985100178135, 'gamma': 8.81022333655755, 'class_weight': 'balanced'}\n",
      "\n",
      " 30%|███       | 303/1000 [12:00:50<34:28:50, 178.09s/it, best loss: -0.668604651163]\u001b[A"
     ]
    },
    {
     "name": "stderr",
     "output_type": "stream",
     "text": [
      "Hyperopt:  30%|███       | 304/1000 [12:00:50<30:46:43, 159.20s/it]"
     ]
    },
    {
     "name": "stdout",
     "output_type": "stream",
     "text": [
      "\n",
      " 30%|███       | 304/1000 [12:00:50<30:46:43, 159.20s/it, best loss: -0.668604651163]\u001b[A\n",
      "\u001b[AParameters with this training accuracy 0.995805098419 and loss 0.419316007232 :\n",
      "\n",
      " 30%|███       | 304/1000 [12:02:40<30:46:43, 159.20s/it, best loss: -0.668604651163]\u001b[A\n",
      "\u001b[AParameters with this testing accuracy 0.65988372093 and loss 1.10354795828 :\n",
      "\n",
      " 30%|███       | 304/1000 [12:02:40<30:46:43, 159.20s/it, best loss: -0.668604651163]\u001b[A\n",
      "\u001b[A{'kernel': 'linear', 'C': 9.444694473884839, 'gamma': 7.769126785463983, 'class_weight': None}\n",
      "\n",
      " 30%|███       | 304/1000 [12:02:40<30:46:43, 159.20s/it, best loss: -0.668604651163]\u001b[A"
     ]
    },
    {
     "name": "stderr",
     "output_type": "stream",
     "text": [
      "Hyperopt:  30%|███       | 305/1000 [12:02:40<27:53:37, 144.49s/it]"
     ]
    },
    {
     "name": "stdout",
     "output_type": "stream",
     "text": [
      "\n",
      " 30%|███       | 305/1000 [12:02:40<27:53:37, 144.49s/it, best loss: -0.668604651163]\u001b[A\n",
      "\u001b[AParameters with this training accuracy 0.995159728945 and loss 0.424735965693 :\n",
      "\n",
      " 30%|███       | 305/1000 [12:04:30<27:53:37, 144.49s/it, best loss: -0.668604651163]\u001b[A\n",
      "\u001b[AParameters with this testing accuracy 0.662790697674 and loss 1.0982470243 :\n",
      "\n",
      " 30%|███       | 305/1000 [12:04:30<27:53:37, 144.49s/it, best loss: -0.668604651163]\u001b[A\n",
      "\u001b[A{'kernel': 'linear', 'C': 14.856485645050864, 'gamma': 2.6146926154102283, 'class_weight': 'balanced'}\n",
      "\n",
      " 30%|███       | 305/1000 [12:04:30<27:53:37, 144.49s/it, best loss: -0.668604651163]\u001b[A"
     ]
    },
    {
     "name": "stderr",
     "output_type": "stream",
     "text": [
      "Hyperopt:  31%|███       | 306/1000 [12:04:30<25:49:59, 134.01s/it]"
     ]
    },
    {
     "name": "stdout",
     "output_type": "stream",
     "text": [
      "\n",
      " 31%|███       | 306/1000 [12:04:30<25:49:59, 134.01s/it, best loss: -0.668604651163]\u001b[A\n",
      "\u001b[AParameters with this training accuracy 0.994191674734 and loss 0.424786651322 :\n",
      "\n",
      " 31%|███       | 306/1000 [12:06:19<25:49:59, 134.01s/it, best loss: -0.668604651163]\u001b[A\n",
      "\u001b[AParameters with this testing accuracy 0.668604651163 and loss 1.09704926872 :\n",
      "\n",
      " 31%|███       | 306/1000 [12:06:19<25:49:59, 134.01s/it, best loss: -0.668604651163]\u001b[A\n",
      "\u001b[A{'kernel': 'linear', 'C': 12.701081291567867, 'gamma': 2.2396791591625513, 'class_weight': 'balanced'}\n",
      "\n",
      " 31%|███       | 306/1000 [12:06:19<25:49:59, 134.01s/it, best loss: -0.668604651163]\u001b[A"
     ]
    },
    {
     "name": "stderr",
     "output_type": "stream",
     "text": [
      "Hyperopt:  31%|███       | 307/1000 [12:06:19<24:22:21, 126.61s/it]"
     ]
    },
    {
     "name": "stdout",
     "output_type": "stream",
     "text": [
      "\n",
      " 31%|███       | 307/1000 [12:06:19<24:22:21, 126.61s/it, best loss: -0.668604651163]\u001b[A\n",
      "\u001b[AParameters with this training accuracy 0.996450467893 and loss 0.849768696807 :\n",
      "\n",
      " 31%|███       | 307/1000 [12:07:49<24:22:21, 126.61s/it, best loss: -0.668604651163]\u001b[A\n",
      "\u001b[AParameters with this testing accuracy 0.56976744186 and loss 1.32055793776 :\n",
      "\n",
      " 31%|███       | 307/1000 [12:07:49<24:22:21, 126.61s/it, best loss: -0.668604651163]\u001b[A\n",
      "\u001b[A{'kernel': 'poly', 'C': 12.389999454564135, 'gamma': 2.003642897549401, 'class_weight': 'balanced'}\n",
      "\n",
      " 31%|███       | 307/1000 [12:07:49<24:22:21, 126.61s/it, best loss: -0.668604651163]\u001b[A"
     ]
    },
    {
     "name": "stderr",
     "output_type": "stream",
     "text": [
      "Hyperopt:  31%|███       | 308/1000 [12:07:49<22:13:21, 115.61s/it]"
     ]
    },
    {
     "name": "stdout",
     "output_type": "stream",
     "text": [
      "\n",
      " 31%|███       | 308/1000 [12:07:49<22:13:21, 115.61s/it, best loss: -0.668604651163]\u001b[A\n",
      "\u001b[AParameters with this training accuracy 0.99354630526 and loss 0.427905550132 :\n",
      "\n",
      " 31%|███       | 308/1000 [12:09:39<22:13:21, 115.61s/it, best loss: -0.668604651163]\u001b[A\n",
      "\u001b[AParameters with this testing accuracy 0.665697674419 and loss 1.09697259889 :\n",
      "\n",
      " 31%|███       | 308/1000 [12:09:39<22:13:21, 115.61s/it, best loss: -0.668604651163]\u001b[A\n",
      "\u001b[A{'kernel': 'linear', 'C': 11.547173152642468, 'gamma': 7.841683047555247, 'class_weight': 'balanced'}\n",
      "\n",
      " 31%|███       | 308/1000 [12:09:39<22:13:21, 115.61s/it, best loss: -0.668604651163]\u001b[A"
     ]
    },
    {
     "name": "stderr",
     "output_type": "stream",
     "text": [
      "Hyperopt:  31%|███       | 309/1000 [12:09:39<21:50:21, 113.78s/it]"
     ]
    },
    {
     "name": "stdout",
     "output_type": "stream",
     "text": [
      "\n",
      " 31%|███       | 309/1000 [12:09:39<21:50:21, 113.78s/it, best loss: -0.668604651163]\u001b[A\n",
      "\u001b[AParameters with this training accuracy 0.996450467893 and loss 2.84131315892 :\n",
      "\n",
      " 31%|███       | 309/1000 [12:13:40<21:50:21, 113.78s/it, best loss: -0.668604651163]\u001b[A\n",
      "\u001b[AParameters with this testing accuracy 0.459302325581 and loss 1.94116029146 :\n",
      "\n",
      " 31%|███       | 309/1000 [12:13:40<21:50:21, 113.78s/it, best loss: -0.668604651163]\u001b[A\n",
      "\u001b[A{'kernel': 'rbf', 'C': 6.381512992004492, 'gamma': 4.6585432105576805, 'class_weight': 'balanced'}\n",
      "\n",
      " 31%|███       | 309/1000 [12:13:40<21:50:21, 113.78s/it, best loss: -0.668604651163]\u001b[A"
     ]
    },
    {
     "name": "stderr",
     "output_type": "stream",
     "text": [
      "Hyperopt:  31%|███       | 310/1000 [12:13:40<29:08:46, 152.07s/it]"
     ]
    },
    {
     "name": "stdout",
     "output_type": "stream",
     "text": [
      "\n",
      " 31%|███       | 310/1000 [12:13:40<29:08:46, 152.07s/it, best loss: -0.668604651163]\u001b[A\n",
      "\u001b[AParameters with this training accuracy 0.995482413682 and loss 0.422439370192 :\n",
      "\n",
      " 31%|███       | 310/1000 [12:15:30<29:08:46, 152.07s/it, best loss: -0.668604651163]\u001b[A\n",
      "\u001b[AParameters with this testing accuracy 0.662790697674 and loss 1.09836448256 :\n",
      "\n",
      " 31%|███       | 310/1000 [12:15:30<29:08:46, 152.07s/it, best loss: -0.668604651163]\u001b[A\n",
      "\u001b[A{'kernel': 'linear', 'C': 16.722991970714986, 'gamma': 8.015074980845252, 'class_weight': 'balanced'}\n",
      "\n",
      " 31%|███       | 310/1000 [12:15:30<29:08:46, 152.07s/it, best loss: -0.668604651163]\u001b[A"
     ]
    },
    {
     "name": "stderr",
     "output_type": "stream",
     "text": [
      "Hyperopt:  31%|███       | 311/1000 [12:15:30<26:42:00, 139.51s/it]"
     ]
    },
    {
     "name": "stdout",
     "output_type": "stream",
     "text": [
      "\n",
      " 31%|███       | 311/1000 [12:15:30<26:42:00, 139.51s/it, best loss: -0.668604651163]\u001b[A\n",
      "\u001b[AParameters with this training accuracy 0.992900935786 and loss 0.429492440124 :\n",
      "\n",
      " 31%|███       | 311/1000 [12:17:20<26:42:00, 139.51s/it, best loss: -0.668604651163]\u001b[A\n",
      "\u001b[AParameters with this testing accuracy 0.665697674419 and loss 1.09678471245 :\n",
      "\n",
      " 31%|███       | 311/1000 [12:17:20<26:42:00, 139.51s/it, best loss: -0.668604651163]\u001b[A\n",
      "\u001b[A{'kernel': 'linear', 'C': 10.670480608011227, 'gamma': 3.9814029346159905, 'class_weight': 'balanced'}\n",
      "\n",
      " 31%|███       | 311/1000 [12:17:20<26:42:00, 139.51s/it, best loss: -0.668604651163]\u001b[A"
     ]
    },
    {
     "name": "stderr",
     "output_type": "stream",
     "text": [
      "Hyperopt:  31%|███       | 312/1000 [12:17:20<24:57:26, 130.59s/it]"
     ]
    },
    {
     "name": "stdout",
     "output_type": "stream",
     "text": [
      "\n",
      " 31%|███       | 312/1000 [12:17:20<24:57:26, 130.59s/it, best loss: -0.668604651163]\u001b[A\n",
      "\u001b[AParameters with this training accuracy 0.0183930300097 and loss 1.95524785856 :\n",
      "\n",
      " 31%|███       | 312/1000 [12:21:20<24:57:26, 130.59s/it, best loss: -0.668604651163]\u001b[A\n",
      "\u001b[AParameters with this testing accuracy 0.0348837209302 and loss 1.94754235264 :\n",
      "\n",
      " 31%|███       | 312/1000 [12:21:20<24:57:26, 130.59s/it, best loss: -0.668604651163]\u001b[A\n",
      "\u001b[A{'kernel': 'sigmoid', 'C': 8.901749079411237, 'gamma': 4.5637691843209085, 'class_weight': 'balanced'}\n",
      "\n",
      " 31%|███       | 312/1000 [12:21:20<24:57:26, 130.59s/it, best loss: -0.668604651163]\u001b[A"
     ]
    },
    {
     "name": "stderr",
     "output_type": "stream",
     "text": [
      "Hyperopt:  31%|███▏      | 313/1000 [12:21:20<31:10:06, 163.33s/it]"
     ]
    },
    {
     "name": "stdout",
     "output_type": "stream",
     "text": [
      "\n",
      " 31%|███▏      | 313/1000 [12:21:20<31:10:06, 163.33s/it, best loss: -0.668604651163]\u001b[A\n",
      "\u001b[AParameters with this training accuracy 0.996450467893 and loss 0.417505704996 :\n",
      "\n",
      " 31%|███▏      | 313/1000 [12:23:13<31:10:06, 163.33s/it, best loss: -0.668604651163]\u001b[A\n",
      "\u001b[AParameters with this testing accuracy 0.65988372093 and loss 1.1027734116 :\n",
      "\n",
      " 31%|███▏      | 313/1000 [12:23:13<31:10:06, 163.33s/it, best loss: -0.668604651163]\u001b[A\n",
      "\u001b[A{'kernel': 'linear', 'C': 13.724103698362335, 'gamma': 5.478971680422554, 'class_weight': None}\n",
      "\n",
      " 31%|███▏      | 313/1000 [12:23:13<31:10:06, 163.33s/it, best loss: -0.668604651163]\u001b[A"
     ]
    },
    {
     "name": "stderr",
     "output_type": "stream",
     "text": [
      "Hyperopt:  31%|███▏      | 314/1000 [12:23:13<28:13:46, 148.14s/it]"
     ]
    },
    {
     "name": "stdout",
     "output_type": "stream",
     "text": [
      "\n",
      " 31%|███▏      | 314/1000 [12:23:13<28:13:46, 148.14s/it, best loss: -0.668604651163]\u001b[A\n",
      "\u001b[AParameters with this training accuracy 0.992578251049 and loss 0.432662215268 :\n",
      "\n",
      " 31%|███▏      | 314/1000 [12:25:03<28:13:46, 148.14s/it, best loss: -0.668604651163]\u001b[A\n",
      "\u001b[AParameters with this testing accuracy 0.665697674419 and loss 1.09683717069 :\n",
      "\n",
      " 31%|███▏      | 314/1000 [12:25:03<28:13:46, 148.14s/it, best loss: -0.668604651163]\u001b[A\n",
      "\u001b[A{'kernel': 'linear', 'C': 9.671788425196072, 'gamma': 5.082326934883524, 'class_weight': 'balanced'}\n",
      "\n",
      " 31%|███▏      | 314/1000 [12:25:03<28:13:46, 148.14s/it, best loss: -0.668604651163]\u001b[A"
     ]
    },
    {
     "name": "stderr",
     "output_type": "stream",
     "text": [
      "Hyperopt:  32%|███▏      | 315/1000 [12:25:03<26:01:40, 136.79s/it]"
     ]
    },
    {
     "name": "stdout",
     "output_type": "stream",
     "text": [
      "\n",
      " 32%|███▏      | 315/1000 [12:25:03<26:01:39, 136.79s/it, best loss: -0.668604651163]\u001b[A\n",
      "\u001b[AParameters with this training accuracy 0.996450467893 and loss 0.851041435342 :\n",
      "\n",
      " 32%|███▏      | 315/1000 [12:26:40<26:01:39, 136.79s/it, best loss: -0.668604651163]\u001b[A\n",
      "\u001b[AParameters with this testing accuracy 0.56976744186 and loss 1.32050636668 :\n",
      "\n",
      " 32%|███▏      | 315/1000 [12:26:40<26:01:39, 136.79s/it, best loss: -0.668604651163]\u001b[A\n",
      "\u001b[A{'kernel': 'poly', 'C': 7.9065085841200995, 'gamma': 3.463179498835288, 'class_weight': 'balanced'}\n",
      "\n",
      " 32%|███▏      | 315/1000 [12:26:40<26:01:39, 136.79s/it, best loss: -0.668604651163]\u001b[A"
     ]
    },
    {
     "name": "stderr",
     "output_type": "stream",
     "text": [
      "Hyperopt:  32%|███▏      | 316/1000 [12:26:40<23:42:47, 124.81s/it]"
     ]
    },
    {
     "name": "stdout",
     "output_type": "stream",
     "text": [
      "\n",
      " 32%|███▏      | 316/1000 [12:26:40<23:42:47, 124.81s/it, best loss: -0.668604651163]\u001b[A\n",
      "\u001b[AParameters with this training accuracy 0.994837044208 and loss 0.425566109386 :\n",
      "\n",
      " 32%|███▏      | 316/1000 [12:28:32<23:42:47, 124.81s/it, best loss: -0.668604651163]\u001b[A\n",
      "\u001b[AParameters with this testing accuracy 0.665697674419 and loss 1.09722703328 :\n",
      "\n",
      " 32%|███▏      | 316/1000 [12:28:32<23:42:47, 124.81s/it, best loss: -0.668604651163]\u001b[A\n",
      "\u001b[A{'kernel': 'linear', 'C': 12.945593765368383, 'gamma': 7.33212497744027, 'class_weight': 'balanced'}\n",
      "\n",
      " 32%|███▏      | 316/1000 [12:28:32<23:42:47, 124.81s/it, best loss: -0.668604651163]\u001b[A"
     ]
    },
    {
     "name": "stderr",
     "output_type": "stream",
     "text": [
      "Hyperopt:  32%|███▏      | 317/1000 [12:28:32<22:56:41, 120.94s/it]"
     ]
    },
    {
     "name": "stdout",
     "output_type": "stream",
     "text": [
      "\n",
      " 32%|███▏      | 317/1000 [12:28:32<22:56:41, 120.94s/it, best loss: -0.668604651163]\u001b[A\n",
      "\u001b[AParameters with this training accuracy 0.995159728945 and loss 0.422312522181 :\n",
      "\n",
      " 32%|███▏      | 317/1000 [12:30:21<22:56:41, 120.94s/it, best loss: -0.668604651163]\u001b[A\n",
      "\u001b[AParameters with this testing accuracy 0.662790697674 and loss 1.09761546458 :\n",
      "\n",
      " 32%|███▏      | 317/1000 [12:30:21<22:56:41, 120.94s/it, best loss: -0.668604651163]\u001b[A\n",
      "\u001b[A{'kernel': 'linear', 'C': 15.203133269027045, 'gamma': 4.828891784358122, 'class_weight': 'balanced'}\n",
      "\n",
      " 32%|███▏      | 317/1000 [12:30:21<22:56:41, 120.94s/it, best loss: -0.668604651163]\u001b[A"
     ]
    },
    {
     "name": "stderr",
     "output_type": "stream",
     "text": [
      "Hyperopt:  32%|███▏      | 318/1000 [12:30:21<22:16:12, 117.55s/it]"
     ]
    },
    {
     "name": "stdout",
     "output_type": "stream",
     "text": [
      "\n",
      " 32%|███▏      | 318/1000 [12:30:21<22:16:11, 117.55s/it, best loss: -0.668604651163]\u001b[A\n",
      "\u001b[AParameters with this training accuracy 0.996450467893 and loss 2.75281043209 :\n",
      "\n",
      " 32%|███▏      | 318/1000 [12:34:21<22:16:11, 117.55s/it, best loss: -0.668604651163]\u001b[A\n",
      "\u001b[AParameters with this testing accuracy 0.459302325581 and loss 1.94114119637 :\n",
      "\n",
      " 32%|███▏      | 318/1000 [12:34:21<22:16:11, 117.55s/it, best loss: -0.668604651163]\u001b[A\n",
      "\u001b[A{'kernel': 'rbf', 'C': 8.607653439367617, 'gamma': 4.005104607110618, 'class_weight': 'balanced'}\n",
      "\n",
      " 32%|███▏      | 318/1000 [12:34:21<22:16:11, 117.55s/it, best loss: -0.668604651163]\u001b[A"
     ]
    },
    {
     "name": "stderr",
     "output_type": "stream",
     "text": [
      "Hyperopt:  32%|███▏      | 319/1000 [12:34:21<29:09:06, 154.11s/it]"
     ]
    },
    {
     "name": "stdout",
     "output_type": "stream",
     "text": [
      "\n",
      " 32%|███▏      | 319/1000 [12:34:21<29:09:07, 154.11s/it, best loss: -0.668604651163]\u001b[A\n",
      "\u001b[AParameters with this training accuracy 0.992900935786 and loss 0.430975973802 :\n",
      "\n",
      " 32%|███▏      | 319/1000 [12:36:13<29:09:07, 154.11s/it, best loss: -0.668604651163]\u001b[A\n",
      "\u001b[AParameters with this testing accuracy 0.665697674419 and loss 1.09674245293 :\n",
      "\n",
      " 32%|███▏      | 319/1000 [12:36:13<29:09:07, 154.11s/it, best loss: -0.668604651163]\u001b[A\n",
      "\u001b[A{'kernel': 'linear', 'C': 10.266575398465154, 'gamma': 0.5237001263449679, 'class_weight': 'balanced'}\n",
      "\n",
      " 32%|███▏      | 319/1000 [12:36:13<29:09:07, 154.11s/it, best loss: -0.668604651163]\u001b[A"
     ]
    },
    {
     "name": "stderr",
     "output_type": "stream",
     "text": [
      "Hyperopt:  32%|███▏      | 320/1000 [12:36:13<26:44:36, 141.58s/it]"
     ]
    },
    {
     "name": "stdout",
     "output_type": "stream",
     "text": [
      "\n",
      " 32%|███▏      | 320/1000 [12:36:13<26:44:36, 141.58s/it, best loss: -0.668604651163]\u001b[A\n",
      "\u001b[AParameters with this training accuracy 0.431106808648 and loss 1.94561690813 :\n",
      "\n",
      " 32%|███▏      | 320/1000 [12:37:41<26:44:36, 141.58s/it, best loss: -0.668604651163]\u001b[A\n",
      "\u001b[AParameters with this testing accuracy 0.468023255814 and loss 1.93809185312 :\n",
      "\n",
      " 32%|███▏      | 320/1000 [12:37:41<26:44:36, 141.58s/it, best loss: -0.668604651163]\u001b[A\n",
      "\u001b[A{'kernel': 'sigmoid', 'C': 10.984134933592559, 'gamma': 4.320238773600994, 'class_weight': None}\n",
      "\n",
      " 32%|███▏      | 320/1000 [12:37:41<26:44:36, 141.58s/it, best loss: -0.668604651163]\u001b[A"
     ]
    },
    {
     "name": "stderr",
     "output_type": "stream",
     "text": [
      "Hyperopt:  32%|███▏      | 321/1000 [12:37:41<23:38:44, 125.37s/it]"
     ]
    },
    {
     "name": "stdout",
     "output_type": "stream",
     "text": [
      "\n",
      " 32%|███▏      | 321/1000 [12:37:41<23:38:44, 125.37s/it, best loss: -0.668604651163]\u001b[A\n",
      "\u001b[AParameters with this training accuracy 0.993868989997 and loss 0.42653104764 :\n",
      "\n",
      " 32%|███▏      | 321/1000 [12:39:34<23:38:44, 125.37s/it, best loss: -0.668604651163]\u001b[A\n",
      "\u001b[AParameters with this testing accuracy 0.668604651163 and loss 1.09676526591 :\n",
      "\n",
      " 32%|███▏      | 321/1000 [12:39:34<23:38:44, 125.37s/it, best loss: -0.668604651163]\u001b[A\n",
      "\u001b[A{'kernel': 'linear', 'C': 12.041986245117931, 'gamma': 3.1132164558648268, 'class_weight': 'balanced'}\n",
      "\n",
      " 32%|███▏      | 321/1000 [12:39:34<23:38:44, 125.37s/it, best loss: -0.668604651163]\u001b[A"
     ]
    },
    {
     "name": "stderr",
     "output_type": "stream",
     "text": [
      "Hyperopt:  32%|███▏      | 322/1000 [12:39:34<22:55:35, 121.73s/it]"
     ]
    },
    {
     "name": "stdout",
     "output_type": "stream",
     "text": [
      "\n",
      " 32%|███▏      | 322/1000 [12:39:34<22:55:35, 121.73s/it, best loss: -0.668604651163]\u001b[A\n",
      "\u001b[AParameters with this training accuracy 0.994837044208 and loss 0.427991282188 :\n",
      "\n",
      " 32%|███▏      | 322/1000 [12:41:32<22:55:35, 121.73s/it, best loss: -0.668604651163]\u001b[A\n",
      "\u001b[AParameters with this testing accuracy 0.665697674419 and loss 1.09906674556 :\n",
      "\n",
      " 32%|███▏      | 322/1000 [12:41:32<22:55:35, 121.73s/it, best loss: -0.668604651163]\u001b[A\n",
      "\u001b[A{'kernel': 'linear', 'C': 13.436749232343857, 'gamma': 8.996020318451533, 'class_weight': 'balanced'}\n",
      "\n",
      " 32%|███▏      | 322/1000 [12:41:32<22:55:35, 121.73s/it, best loss: -0.668604651163]\u001b[A"
     ]
    },
    {
     "name": "stderr",
     "output_type": "stream",
     "text": [
      "Hyperopt:  32%|███▏      | 323/1000 [12:41:32<22:41:28, 120.66s/it]"
     ]
    },
    {
     "name": "stdout",
     "output_type": "stream",
     "text": [
      "\n",
      " 32%|███▏      | 323/1000 [12:41:32<22:41:28, 120.66s/it, best loss: -0.668604651163]\u001b[A\n",
      "\u001b[AParameters with this training accuracy 0.995482413682 and loss 0.422565770133 :\n",
      "\n",
      " 32%|███▏      | 323/1000 [12:43:24<22:41:28, 120.66s/it, best loss: -0.668604651163]\u001b[A\n",
      "\u001b[AParameters with this testing accuracy 0.662790697674 and loss 1.09830931664 :\n",
      "\n",
      " 32%|███▏      | 323/1000 [12:43:24<22:41:28, 120.66s/it, best loss: -0.668604651163]\u001b[A\n",
      "\u001b[A{'kernel': 'linear', 'C': 17.593544895338873, 'gamma': 8.19137181664273, 'class_weight': 'balanced'}\n",
      "\n",
      " 32%|███▏      | 323/1000 [12:43:24<22:41:28, 120.66s/it, best loss: -0.668604651163]\u001b[A"
     ]
    },
    {
     "name": "stderr",
     "output_type": "stream",
     "text": [
      "Hyperopt:  32%|███▏      | 324/1000 [12:43:24<22:11:57, 118.22s/it]"
     ]
    },
    {
     "name": "stdout",
     "output_type": "stream",
     "text": [
      "\n",
      " 32%|███▏      | 324/1000 [12:43:24<22:11:57, 118.22s/it, best loss: -0.668604651163]\u001b[A\n",
      "\u001b[AParameters with this training accuracy 0.996450467893 and loss 0.850866152751 :\n",
      "\n",
      " 32%|███▏      | 324/1000 [12:44:56<22:11:57, 118.22s/it, best loss: -0.668604651163]\u001b[A\n",
      "\u001b[AParameters with this testing accuracy 0.56976744186 and loss 1.32025008827 :\n",
      "\n",
      " 32%|███▏      | 324/1000 [12:44:56<22:11:57, 118.22s/it, best loss: -0.668604651163]\u001b[A\n",
      "\u001b[A{'kernel': 'poly', 'C': 14.17866412017152, 'gamma': 5.673455231023135, 'class_weight': 'balanced'}\n",
      "\n",
      " 32%|███▏      | 324/1000 [12:44:56<22:11:57, 118.22s/it, best loss: -0.668604651163]\u001b[A"
     ]
    },
    {
     "name": "stderr",
     "output_type": "stream",
     "text": [
      "Hyperopt:  32%|███▎      | 325/1000 [12:44:56<20:40:41, 110.28s/it]"
     ]
    },
    {
     "name": "stdout",
     "output_type": "stream",
     "text": [
      "\n",
      " 32%|███▎      | 325/1000 [12:44:56<20:40:41, 110.28s/it, best loss: -0.668604651163]\u001b[A\n",
      "\u001b[AParameters with this training accuracy 0.995482413682 and loss 0.420873588836 :\n",
      "\n",
      " 32%|███▎      | 325/1000 [12:46:49<20:40:41, 110.28s/it, best loss: -0.668604651163]\u001b[A\n",
      "\u001b[AParameters with this testing accuracy 0.662790697674 and loss 1.09869820216 :\n",
      "\n",
      " 32%|███▎      | 325/1000 [12:46:49<20:40:41, 110.28s/it, best loss: -0.668604651163]\u001b[A\n",
      "\u001b[A{'kernel': 'linear', 'C': 16.433455225516102, 'gamma': 8.603285899593812, 'class_weight': 'balanced'}\n",
      "\n",
      " 32%|███▎      | 325/1000 [12:46:49<20:40:41, 110.28s/it, best loss: -0.668604651163]\u001b[A"
     ]
    },
    {
     "name": "stderr",
     "output_type": "stream",
     "text": [
      "Hyperopt:  33%|███▎      | 326/1000 [12:46:49<20:47:36, 111.06s/it]"
     ]
    },
    {
     "name": "stdout",
     "output_type": "stream",
     "text": [
      "\n",
      " 33%|███▎      | 326/1000 [12:46:49<20:47:36, 111.06s/it, best loss: -0.668604651163]\u001b[A\n",
      "\u001b[AParameters with this training accuracy 0.996450467893 and loss 2.83372031593 :\n",
      "\n",
      " 33%|███▎      | 326/1000 [12:50:57<20:47:36, 111.06s/it, best loss: -0.668604651163]\u001b[A\n",
      "\u001b[AParameters with this testing accuracy 0.459302325581 and loss 1.94247921965 :\n",
      "\n",
      " 33%|███▎      | 326/1000 [12:50:57<20:47:36, 111.06s/it, best loss: -0.668604651163]\u001b[A\n",
      "\u001b[A{'kernel': 'rbf', 'C': 11.552043473192088, 'gamma': 6.804291341435549, 'class_weight': None}\n",
      "\n",
      " 33%|███▎      | 326/1000 [12:50:57<20:47:36, 111.06s/it, best loss: -0.668604651163]\u001b[A"
     ]
    },
    {
     "name": "stderr",
     "output_type": "stream",
     "text": [
      "Hyperopt:  33%|███▎      | 327/1000 [12:50:57<28:27:30, 152.23s/it]"
     ]
    },
    {
     "name": "stdout",
     "output_type": "stream",
     "text": [
      "\n",
      " 33%|███▎      | 327/1000 [12:50:57<28:27:30, 152.23s/it, best loss: -0.668604651163]\u001b[A\n",
      "\u001b[AParameters with this training accuracy 0.995159728945 and loss 0.424943672112 :\n",
      "\n",
      " 33%|███▎      | 327/1000 [12:52:49<28:27:30, 152.23s/it, best loss: -0.668604651163]\u001b[A\n",
      "\u001b[AParameters with this testing accuracy 0.662790697674 and loss 1.09837908174 :\n",
      "\n",
      " 33%|███▎      | 327/1000 [12:52:49<28:27:30, 152.23s/it, best loss: -0.668604651163]\u001b[A\n",
      "\u001b[A{'kernel': 'linear', 'C': 14.604972002301466, 'gamma': 2.1863437354271054, 'class_weight': 'balanced'}\n",
      "\n",
      " 33%|███▎      | 327/1000 [12:52:49<28:27:30, 152.23s/it, best loss: -0.668604651163]\u001b[A"
     ]
    },
    {
     "name": "stderr",
     "output_type": "stream",
     "text": [
      "Hyperopt:  33%|███▎      | 328/1000 [12:52:49<26:07:59, 140.00s/it]"
     ]
    },
    {
     "name": "stdout",
     "output_type": "stream",
     "text": [
      "\n",
      " 33%|███▎      | 328/1000 [12:52:49<26:07:59, 140.00s/it, best loss: -0.668604651163]\u001b[A\n",
      "\u001b[AParameters with this training accuracy 0.992255566312 and loss 0.435879632648 :\n",
      "\n",
      " 33%|███▎      | 328/1000 [12:54:37<26:07:59, 140.00s/it, best loss: -0.668604651163]\u001b[A\n",
      "\u001b[AParameters with this testing accuracy 0.662790697674 and loss 1.09704436466 :\n",
      "\n",
      " 33%|███▎      | 328/1000 [12:54:37<26:07:59, 140.00s/it, best loss: -0.668604651163]\u001b[A\n",
      "\u001b[A{'kernel': 'linear', 'C': 9.243323518966193, 'gamma': 5.9701059199932835, 'class_weight': 'balanced'}\n",
      "\n",
      " 33%|███▎      | 328/1000 [12:54:37<26:07:59, 140.00s/it, best loss: -0.668604651163]\u001b[A"
     ]
    },
    {
     "name": "stderr",
     "output_type": "stream",
     "text": [
      "Hyperopt:  33%|███▎      | 329/1000 [12:54:37<24:19:06, 130.47s/it]"
     ]
    },
    {
     "name": "stdout",
     "output_type": "stream",
     "text": [
      "\n",
      " 33%|███▎      | 329/1000 [12:54:37<24:19:06, 130.47s/it, best loss: -0.668604651163]\u001b[A\n",
      "\u001b[AParameters with this training accuracy 0.133268796386 and loss 1.96822108508 :\n",
      "\n",
      " 33%|███▎      | 329/1000 [12:58:33<24:19:06, 130.47s/it, best loss: -0.668604651163]\u001b[A\n",
      "\u001b[AParameters with this testing accuracy 0.107558139535 and loss 1.94765151446 :\n",
      "\n",
      " 33%|███▎      | 329/1000 [12:58:33<24:19:06, 130.47s/it, best loss: -0.668604651163]\u001b[A\n",
      "\u001b[A{'kernel': 'sigmoid', 'C': 11.228071154335654, 'gamma': 6.623963951711176, 'class_weight': 'balanced'}\n",
      "\n",
      " 33%|███▎      | 329/1000 [12:58:33<24:19:06, 130.47s/it, best loss: -0.668604651163]\u001b[A"
     ]
    },
    {
     "name": "stderr",
     "output_type": "stream",
     "text": [
      "Hyperopt:  33%|███▎      | 330/1000 [12:58:33<30:10:50, 162.17s/it]"
     ]
    },
    {
     "name": "stdout",
     "output_type": "stream",
     "text": [
      "\n",
      " 33%|███▎      | 330/1000 [12:58:33<30:10:50, 162.17s/it, best loss: -0.668604651163]\u001b[A\n",
      "\u001b[AParameters with this training accuracy 0.994191674734 and loss 0.426574518528 :\n",
      "\n",
      " 33%|███▎      | 330/1000 [13:00:23<30:10:50, 162.17s/it, best loss: -0.668604651163]\u001b[A\n",
      "\u001b[AParameters with this testing accuracy 0.668604651163 and loss 1.09740946046 :\n",
      "\n",
      " 33%|███▎      | 330/1000 [13:00:23<30:10:50, 162.17s/it, best loss: -0.668604651163]\u001b[A\n",
      "\u001b[A{'kernel': 'linear', 'C': 12.4670248233387, 'gamma': 6.45677888861352, 'class_weight': 'balanced'}\n",
      "\n",
      " 33%|███▎      | 330/1000 [13:00:23<30:10:50, 162.17s/it, best loss: -0.668604651163]\u001b[A"
     ]
    },
    {
     "name": "stderr",
     "output_type": "stream",
     "text": [
      "Hyperopt:  33%|███▎      | 331/1000 [13:00:23<27:11:21, 146.31s/it]"
     ]
    },
    {
     "name": "stdout",
     "output_type": "stream",
     "text": [
      "\n",
      " 33%|███▎      | 331/1000 [13:00:23<27:11:21, 146.31s/it, best loss: -0.668604651163]\u001b[A\n",
      "\u001b[AParameters with this training accuracy 0.992900935786 and loss 0.430537977091 :\n",
      "\n",
      " 33%|███▎      | 331/1000 [13:02:12<27:11:21, 146.31s/it, best loss: -0.668604651163]\u001b[A\n",
      "\u001b[AParameters with this testing accuracy 0.665697674419 and loss 1.09698729225 :\n",
      "\n",
      " 33%|███▎      | 331/1000 [13:02:12<27:11:21, 146.31s/it, best loss: -0.668604651163]\u001b[A\n",
      "\u001b[A{'kernel': 'linear', 'C': 10.654029893438775, 'gamma': 7.152490221162823, 'class_weight': 'balanced'}\n",
      "\n",
      " 33%|███▎      | 331/1000 [13:02:12<27:11:21, 146.31s/it, best loss: -0.668604651163]\u001b[A"
     ]
    },
    {
     "name": "stderr",
     "output_type": "stream",
     "text": [
      "Hyperopt:  33%|███▎      | 332/1000 [13:02:12<25:05:52, 135.26s/it]"
     ]
    },
    {
     "name": "stdout",
     "output_type": "stream",
     "text": [
      "\n",
      " 33%|███▎      | 332/1000 [13:02:12<25:05:52, 135.26s/it, best loss: -0.668604651163]\u001b[A\n",
      "\u001b[AParameters with this training accuracy 0.994191674734 and loss 0.426924097384 :\n",
      "\n",
      " 33%|███▎      | 332/1000 [13:04:01<25:05:52, 135.26s/it, best loss: -0.668604651163]\u001b[A\n",
      "\u001b[AParameters with this testing accuracy 0.668604651163 and loss 1.09739270022 :\n",
      "\n",
      " 33%|███▎      | 332/1000 [13:04:01<25:05:52, 135.26s/it, best loss: -0.668604651163]\u001b[A\n",
      "\u001b[A{'kernel': 'linear', 'C': 12.163858062593285, 'gamma': 8.25422469797137, 'class_weight': 'balanced'}\n",
      "\n",
      " 33%|███▎      | 332/1000 [13:04:01<25:05:52, 135.26s/it, best loss: -0.668604651163]\u001b[A"
     ]
    },
    {
     "name": "stderr",
     "output_type": "stream",
     "text": [
      "Hyperopt:  33%|███▎      | 333/1000 [13:04:01<23:37:07, 127.48s/it]"
     ]
    },
    {
     "name": "stdout",
     "output_type": "stream",
     "text": [
      "\n",
      " 33%|███▎      | 333/1000 [13:04:01<23:37:06, 127.48s/it, best loss: -0.668604651163]\u001b[A\n",
      "\u001b[AParameters with this training accuracy 0.995805098419 and loss 0.417951727969 :\n",
      "\n",
      " 33%|███▎      | 333/1000 [13:05:52<23:37:06, 127.48s/it, best loss: -0.668604651163]\u001b[A\n",
      "\u001b[AParameters with this testing accuracy 0.65988372093 and loss 1.10391925484 :\n",
      "\n",
      " 33%|███▎      | 333/1000 [13:05:52<23:37:06, 127.48s/it, best loss: -0.668604651163]\u001b[A\n",
      "\u001b[A{'kernel': 'linear', 'C': 10.01936566490977, 'gamma': 3.642499718662128, 'class_weight': None}\n",
      "\n",
      " 33%|███▎      | 333/1000 [13:05:52<23:37:06, 127.48s/it, best loss: -0.668604651163]\u001b[A"
     ]
    },
    {
     "name": "stderr",
     "output_type": "stream",
     "text": [
      "Hyperopt:  33%|███▎      | 334/1000 [13:05:52<22:37:40, 122.31s/it]"
     ]
    },
    {
     "name": "stdout",
     "output_type": "stream",
     "text": [
      "\n",
      " 33%|███▎      | 334/1000 [13:05:52<22:37:40, 122.31s/it, best loss: -0.668604651163]\u001b[A\n",
      "\u001b[AParameters with this training accuracy 0.996450467893 and loss 0.847294097382 :\n",
      "\n",
      " 33%|███▎      | 334/1000 [13:07:19<22:37:40, 122.31s/it, best loss: -0.668604651163]\u001b[A\n",
      "\u001b[AParameters with this testing accuracy 0.56976744186 and loss 1.31991431395 :\n",
      "\n",
      " 33%|███▎      | 334/1000 [13:07:19<22:37:40, 122.31s/it, best loss: -0.668604651163]\u001b[A\n",
      "\u001b[A{'kernel': 'poly', 'C': 13.200756873025199, 'gamma': 4.868451499583193, 'class_weight': 'balanced'}\n",
      "\n",
      " 33%|███▎      | 334/1000 [13:07:19<22:37:40, 122.31s/it, best loss: -0.668604651163]\u001b[A"
     ]
    },
    {
     "name": "stderr",
     "output_type": "stream",
     "text": [
      "Hyperopt:  34%|███▎      | 335/1000 [13:07:19<20:40:47, 111.95s/it]"
     ]
    },
    {
     "name": "stdout",
     "output_type": "stream",
     "text": [
      "\n",
      " 34%|███▎      | 335/1000 [13:07:19<20:40:47, 111.95s/it, best loss: -0.668604651163]\u001b[A\n",
      "\u001b[AParameters with this training accuracy 0.995159728945 and loss 0.427132703201 :\n",
      "\n",
      " 34%|███▎      | 335/1000 [13:09:10<20:40:47, 111.95s/it, best loss: -0.668604651163]\u001b[A\n",
      "\u001b[AParameters with this testing accuracy 0.665697674419 and loss 1.09877337444 :\n",
      "\n",
      " 34%|███▎      | 335/1000 [13:09:10<20:40:47, 111.95s/it, best loss: -0.668604651163]\u001b[A\n",
      "\u001b[A{'kernel': 'linear', 'C': 13.78372062163688, 'gamma': 5.593632098201909, 'class_weight': 'balanced'}\n",
      "\n",
      " 34%|███▎      | 335/1000 [13:09:10<20:40:47, 111.95s/it, best loss: -0.668604651163]\u001b[A"
     ]
    },
    {
     "name": "stderr",
     "output_type": "stream",
     "text": [
      "Hyperopt:  34%|███▎      | 336/1000 [13:09:10<20:33:45, 111.48s/it]"
     ]
    },
    {
     "name": "stdout",
     "output_type": "stream",
     "text": [
      "\n",
      " 34%|███▎      | 336/1000 [13:09:10<20:33:45, 111.48s/it, best loss: -0.668604651163]\u001b[A\n",
      "\u001b[AParameters with this training accuracy 0.995482413682 and loss 0.42553102216 :\n",
      "\n",
      " 34%|███▎      | 336/1000 [13:11:00<20:33:45, 111.48s/it, best loss: -0.668604651163]\u001b[A\n",
      "\u001b[AParameters with this testing accuracy 0.662790697674 and loss 1.09879364198 :\n",
      "\n",
      " 34%|███▎      | 336/1000 [13:11:00<20:33:45, 111.48s/it, best loss: -0.668604651163]\u001b[A\n",
      "\u001b[A{'kernel': 'linear', 'C': 15.840631236395204, 'gamma': 3.224181580538839, 'class_weight': 'balanced'}\n",
      "\n",
      " 34%|███▎      | 336/1000 [13:11:00<20:33:45, 111.48s/it, best loss: -0.668604651163]\u001b[A"
     ]
    },
    {
     "name": "stderr",
     "output_type": "stream",
     "text": [
      "Hyperopt:  34%|███▎      | 337/1000 [13:11:00<20:26:41, 111.01s/it]"
     ]
    },
    {
     "name": "stdout",
     "output_type": "stream",
     "text": [
      "\n",
      " 34%|███▎      | 337/1000 [13:11:00<20:26:41, 111.01s/it, best loss: -0.668604651163]\u001b[A\n",
      "\u001b[AParameters with this training accuracy 0.996450467893 and loss 2.78969124604 :\n",
      "\n",
      " 34%|███▎      | 337/1000 [13:14:59<20:26:41, 111.01s/it, best loss: -0.668604651163]\u001b[A\n",
      "\u001b[AParameters with this testing accuracy 0.459302325581 and loss 1.94236573175 :\n",
      "\n",
      " 34%|███▎      | 337/1000 [13:14:59<20:26:41, 111.01s/it, best loss: -0.668604651163]\u001b[A\n",
      "\u001b[A{'kernel': 'rbf', 'C': 12.845507129127016, 'gamma': 7.578460631781669, 'class_weight': 'balanced'}\n",
      "\n",
      " 34%|███▎      | 337/1000 [13:14:59<20:26:41, 111.01s/it, best loss: -0.668604651163]\u001b[A"
     ]
    },
    {
     "name": "stderr",
     "output_type": "stream",
     "text": [
      "Hyperopt:  34%|███▍      | 338/1000 [13:14:59<27:29:51, 149.53s/it]"
     ]
    },
    {
     "name": "stdout",
     "output_type": "stream",
     "text": [
      "\n",
      " 34%|███▍      | 338/1000 [13:14:59<27:29:51, 149.53s/it, best loss: -0.668604651163]\u001b[A\n",
      "\u001b[AParameters with this training accuracy 0.0235559858019 and loss 1.95666787262 :\n",
      "\n",
      " 34%|███▍      | 338/1000 [13:18:51<27:29:51, 149.53s/it, best loss: -0.668604651163]\u001b[A\n",
      "\u001b[AParameters with this testing accuracy 0.031976744186 and loss 1.95304061056 :\n",
      "\n",
      " 34%|███▍      | 338/1000 [13:18:51<27:29:51, 149.53s/it, best loss: -0.668604651163]\u001b[A\n",
      "\u001b[A{'kernel': 'sigmoid', 'C': 15.402054276753512, 'gamma': 2.43536107741913, 'class_weight': 'balanced'}\n",
      "\n",
      " 34%|███▍      | 338/1000 [13:18:51<27:29:51, 149.53s/it, best loss: -0.668604651163]\u001b[A"
     ]
    },
    {
     "name": "stderr",
     "output_type": "stream",
     "text": [
      "Hyperopt:  34%|███▍      | 339/1000 [13:18:51<32:00:38, 174.34s/it]"
     ]
    },
    {
     "name": "stdout",
     "output_type": "stream",
     "text": [
      "\n",
      " 34%|███▍      | 339/1000 [13:18:51<32:00:38, 174.34s/it, best loss: -0.668604651163]\u001b[A\n",
      "\u001b[AParameters with this training accuracy 0.995159728945 and loss 0.424995114072 :\n",
      "\n",
      " 34%|███▍      | 339/1000 [13:20:41<32:00:38, 174.34s/it, best loss: -0.668604651163]\u001b[A\n",
      "\u001b[AParameters with this testing accuracy 0.662790697674 and loss 1.09844514865 :\n",
      "\n",
      " 34%|███▍      | 339/1000 [13:20:41<32:00:38, 174.34s/it, best loss: -0.668604651163]\u001b[A\n",
      "\u001b[A{'kernel': 'linear', 'C': 14.71126033785663, 'gamma': 9.531961809923402, 'class_weight': 'balanced'}\n",
      "\n",
      " 34%|███▍      | 339/1000 [13:20:41<32:00:38, 174.34s/it, best loss: -0.668604651163]\u001b[A"
     ]
    },
    {
     "name": "stderr",
     "output_type": "stream",
     "text": [
      "Hyperopt:  34%|███▍      | 340/1000 [13:20:41<28:25:37, 155.06s/it]"
     ]
    },
    {
     "name": "stdout",
     "output_type": "stream",
     "text": [
      "\n",
      " 34%|███▍      | 340/1000 [13:20:41<28:25:37, 155.06s/it, best loss: -0.668604651163]\u001b[A\n",
      "\u001b[AParameters with this training accuracy 0.965150048403 and loss 0.514224582051 :\n",
      "\n",
      " 34%|███▍      | 340/1000 [13:22:23<28:25:37, 155.06s/it, best loss: -0.668604651163]\u001b[A\n",
      "\u001b[AParameters with this testing accuracy 0.648255813953 and loss 1.10057817348 :\n",
      "\n",
      " 34%|███▍      | 340/1000 [13:22:23<28:25:37, 155.06s/it, best loss: -0.668604651163]\u001b[A\n",
      "\u001b[A{'kernel': 'linear', 'C': 3.238653957988821, 'gamma': 7.018040342373963, 'class_weight': 'balanced'}\n",
      "\n",
      " 34%|███▍      | 340/1000 [13:22:23<28:25:37, 155.06s/it, best loss: -0.668604651163]\u001b[A"
     ]
    },
    {
     "name": "stderr",
     "output_type": "stream",
     "text": [
      "Hyperopt:  34%|███▍      | 341/1000 [13:22:23<25:27:37, 139.09s/it]"
     ]
    },
    {
     "name": "stdout",
     "output_type": "stream",
     "text": [
      "\n",
      " 34%|███▍      | 341/1000 [13:22:23<25:27:37, 139.09s/it, best loss: -0.668604651163]\u001b[A\n",
      "\u001b[AParameters with this training accuracy 0.995805098419 and loss 0.41918094456 :\n",
      "\n",
      " 34%|███▍      | 341/1000 [13:24:13<25:27:37, 139.09s/it, best loss: -0.668604651163]\u001b[A\n",
      "\u001b[AParameters with this testing accuracy 0.65988372093 and loss 1.10402983586 :\n",
      "\n",
      " 34%|███▍      | 341/1000 [13:24:13<25:27:37, 139.09s/it, best loss: -0.668604651163]\u001b[A\n",
      "\u001b[A{'kernel': 'linear', 'C': 12.280529781462187, 'gamma': 8.96377111011812, 'class_weight': None}\n",
      "\n",
      " 34%|███▍      | 341/1000 [13:24:13<25:27:37, 139.09s/it, best loss: -0.668604651163]\u001b[A"
     ]
    },
    {
     "name": "stderr",
     "output_type": "stream",
     "text": [
      "Hyperopt:  34%|███▍      | 342/1000 [13:24:13<23:50:21, 130.43s/it]"
     ]
    },
    {
     "name": "stdout",
     "output_type": "stream",
     "text": [
      "\n",
      " 34%|███▍      | 342/1000 [13:24:13<23:50:21, 130.43s/it, best loss: -0.668604651163]\u001b[A\n",
      "\u001b[AParameters with this training accuracy 0.995159728945 and loss 0.424718209858 :\n",
      "\n",
      " 34%|███▍      | 342/1000 [13:26:03<23:50:21, 130.43s/it, best loss: -0.668604651163]\u001b[A\n",
      "\u001b[AParameters with this testing accuracy 0.665697674419 and loss 1.09799705916 :\n",
      "\n",
      " 34%|███▍      | 342/1000 [13:26:03<23:50:21, 130.43s/it, best loss: -0.668604651163]\u001b[A\n",
      "\u001b[A{'kernel': 'linear', 'C': 13.96907619750289, 'gamma': 8.829855004042406, 'class_weight': 'balanced'}\n",
      "\n",
      " 34%|███▍      | 342/1000 [13:26:03<23:50:21, 130.43s/it, best loss: -0.668604651163]\u001b[A"
     ]
    },
    {
     "name": "stderr",
     "output_type": "stream",
     "text": [
      "Hyperopt:  34%|███▍      | 343/1000 [13:26:03<22:40:01, 124.20s/it]"
     ]
    },
    {
     "name": "stdout",
     "output_type": "stream",
     "text": [
      "\n",
      " 34%|███▍      | 343/1000 [13:26:03<22:40:01, 124.20s/it, best loss: -0.668604651163]\u001b[A\n",
      "\u001b[AParameters with this training accuracy 0.996450467893 and loss 0.847292073802 :\n",
      "\n",
      " 34%|███▍      | 343/1000 [13:27:31<22:40:01, 124.20s/it, best loss: -0.668604651163]\u001b[A\n",
      "\u001b[AParameters with this testing accuracy 0.56976744186 and loss 1.31991666604 :\n",
      "\n",
      " 34%|███▍      | 343/1000 [13:27:31<22:40:01, 124.20s/it, best loss: -0.668604651163]\u001b[A\n",
      "\u001b[A{'kernel': 'poly', 'C': 16.84773146474931, 'gamma': 7.40630070305047, 'class_weight': 'balanced'}\n",
      "\n",
      " 34%|███▍      | 343/1000 [13:27:31<22:40:01, 124.20s/it, best loss: -0.668604651163]\u001b[A"
     ]
    },
    {
     "name": "stderr",
     "output_type": "stream",
     "text": [
      "Hyperopt:  34%|███▍      | 344/1000 [13:27:31<20:38:36, 113.29s/it]"
     ]
    },
    {
     "name": "stdout",
     "output_type": "stream",
     "text": [
      "\n",
      " 34%|███▍      | 344/1000 [13:27:31<20:38:36, 113.29s/it, best loss: -0.668604651163]\u001b[A\n",
      "\u001b[AParameters with this training accuracy 0.993223620523 and loss 0.429180375028 :\n",
      "\n",
      " 34%|███▍      | 344/1000 [13:29:20<20:38:36, 113.29s/it, best loss: -0.668604651163]\u001b[A\n",
      "\u001b[AParameters with this testing accuracy 0.665697674419 and loss 1.09731798235 :\n",
      "\n",
      " 34%|███▍      | 344/1000 [13:29:20<20:38:36, 113.29s/it, best loss: -0.668604651163]\u001b[A\n",
      "\u001b[A{'kernel': 'linear', 'C': 11.35994269585013, 'gamma': 1.844386667066022, 'class_weight': 'balanced'}\n",
      "\n",
      " 34%|███▍      | 344/1000 [13:29:20<20:38:36, 113.29s/it, best loss: -0.668604651163]\u001b[A"
     ]
    },
    {
     "name": "stderr",
     "output_type": "stream",
     "text": [
      "Hyperopt:  34%|███▍      | 345/1000 [13:29:20<20:22:40, 112.00s/it]"
     ]
    },
    {
     "name": "stdout",
     "output_type": "stream",
     "text": [
      "\n",
      " 34%|███▍      | 345/1000 [13:29:20<20:22:40, 112.00s/it, best loss: -0.668604651163]\u001b[A\n",
      "\u001b[AParameters with this training accuracy 0.996450467893 and loss 2.51794920943 :\n",
      "\n",
      " 34%|███▍      | 345/1000 [13:33:19<20:22:40, 112.00s/it, best loss: -0.668604651163]\u001b[A\n",
      "\u001b[AParameters with this testing accuracy 0.462209302326 and loss 1.94159218406 :\n",
      "\n",
      " 34%|███▍      | 345/1000 [13:33:19<20:22:40, 112.00s/it, best loss: -0.668604651163]\u001b[A\n",
      "\u001b[A{'kernel': 'rbf', 'C': 16.168618185951686, 'gamma': 2.2189763546144996, 'class_weight': 'balanced'}\n",
      "\n",
      " 34%|███▍      | 345/1000 [13:33:19<20:22:40, 112.00s/it, best loss: -0.668604651163]\u001b[A"
     ]
    },
    {
     "name": "stderr",
     "output_type": "stream",
     "text": [
      "Hyperopt:  35%|███▍      | 346/1000 [13:33:19<27:16:21, 150.12s/it]"
     ]
    },
    {
     "name": "stdout",
     "output_type": "stream",
     "text": [
      "\n",
      " 35%|███▍      | 346/1000 [13:33:19<27:16:21, 150.12s/it, best loss: -0.668604651163]\u001b[A\n",
      "\u001b[AParameters with this training accuracy 0.994837044208 and loss 0.426622474581 :\n",
      "\n",
      " 35%|███▍      | 346/1000 [13:35:09<27:16:21, 150.12s/it, best loss: -0.668604651163]\u001b[A\n",
      "\u001b[AParameters with this testing accuracy 0.665697674419 and loss 1.09801867239 :\n",
      "\n",
      " 35%|███▍      | 346/1000 [13:35:09<27:16:21, 150.12s/it, best loss: -0.668604651163]\u001b[A\n",
      "\u001b[A{'kernel': 'linear', 'C': 12.941166529559016, 'gamma': 3.028856359775858, 'class_weight': 'balanced'}\n",
      "\n",
      " 35%|███▍      | 346/1000 [13:35:09<27:16:21, 150.12s/it, best loss: -0.668604651163]\u001b[A"
     ]
    },
    {
     "name": "stderr",
     "output_type": "stream",
     "text": [
      "Hyperopt:  35%|███▍      | 347/1000 [13:35:09<25:02:31, 138.06s/it]"
     ]
    },
    {
     "name": "stdout",
     "output_type": "stream",
     "text": [
      "\n",
      " 35%|███▍      | 347/1000 [13:35:09<25:02:31, 138.06s/it, best loss: -0.668604651163]\u001b[A\n",
      "\u001b[AParameters with this training accuracy 0.431106808648 and loss 1.9501906958 :\n",
      "\n",
      " 35%|███▍      | 347/1000 [13:36:32<25:02:31, 138.06s/it, best loss: -0.668604651163]\u001b[A\n",
      "\u001b[AParameters with this testing accuracy 0.468023255814 and loss 1.93739697759 :\n",
      "\n",
      " 35%|███▍      | 347/1000 [13:36:32<25:02:31, 138.06s/it, best loss: -0.668604651163]\u001b[A\n",
      "\u001b[A{'kernel': 'sigmoid', 'C': 14.297720953214462, 'gamma': 6.122153676498019, 'class_weight': None}\n",
      "\n",
      " 35%|███▍      | 347/1000 [13:36:32<25:02:31, 138.06s/it, best loss: -0.668604651163]\u001b[A"
     ]
    },
    {
     "name": "stderr",
     "output_type": "stream",
     "text": [
      "Hyperopt:  35%|███▍      | 348/1000 [13:36:32<21:59:49, 121.46s/it]"
     ]
    },
    {
     "name": "stdout",
     "output_type": "stream",
     "text": [
      "\n",
      " 35%|███▍      | 348/1000 [13:36:32<21:59:48, 121.46s/it, best loss: -0.668604651163]\u001b[A\n",
      "\u001b[AParameters with this training accuracy 0.995159728945 and loss 0.42737616359 :\n",
      "\n",
      " 35%|███▍      | 348/1000 [13:38:22<21:59:48, 121.46s/it, best loss: -0.668604651163]\u001b[A\n",
      "\u001b[AParameters with this testing accuracy 0.662790697674 and loss 1.0983559956 :\n",
      "\n",
      " 35%|███▍      | 348/1000 [13:38:22<21:59:48, 121.46s/it, best loss: -0.668604651163]\u001b[A\n",
      "\u001b[A{'kernel': 'linear', 'C': 14.795792172008243, 'gamma': 6.2874034704843815, 'class_weight': 'balanced'}\n",
      "\n",
      " 35%|███▍      | 348/1000 [13:38:22<21:59:48, 121.46s/it, best loss: -0.668604651163]\u001b[A"
     ]
    },
    {
     "name": "stderr",
     "output_type": "stream",
     "text": [
      "Hyperopt:  35%|███▍      | 349/1000 [13:38:22<21:20:34, 118.03s/it]"
     ]
    },
    {
     "name": "stdout",
     "output_type": "stream",
     "text": [
      "\n",
      " 35%|███▍      | 349/1000 [13:38:22<21:20:34, 118.03s/it, best loss: -0.668604651163]\u001b[A\n",
      "\u001b[AParameters with this training accuracy 0.991610196838 and loss 0.439468954587 :\n",
      "\n",
      " 35%|███▍      | 349/1000 [13:40:10<21:20:34, 118.03s/it, best loss: -0.668604651163]\u001b[A\n",
      "\u001b[AParameters with this testing accuracy 0.662790697674 and loss 1.09683303717 :\n",
      "\n",
      " 35%|███▍      | 349/1000 [13:40:10<21:20:34, 118.03s/it, best loss: -0.668604651163]\u001b[A\n",
      "\u001b[A{'kernel': 'linear', 'C': 8.48010067192838, 'gamma': 5.307235142561558, 'class_weight': 'balanced'}\n",
      "\n",
      " 35%|███▍      | 349/1000 [13:40:10<21:20:34, 118.03s/it, best loss: -0.668604651163]\u001b[A"
     ]
    },
    {
     "name": "stderr",
     "output_type": "stream",
     "text": [
      "Hyperopt:  35%|███▌      | 350/1000 [13:40:10<20:46:08, 115.03s/it]"
     ]
    },
    {
     "name": "stdout",
     "output_type": "stream",
     "text": [
      "\n",
      " 35%|███▌      | 350/1000 [13:40:10<20:46:08, 115.03s/it, best loss: -0.668604651163]\u001b[A\n",
      "\u001b[AParameters with this training accuracy 0.983865763149 and loss 0.458804511211 :\n",
      "\n",
      " 35%|███▌      | 350/1000 [13:41:54<20:46:08, 115.03s/it, best loss: -0.668604651163]\u001b[A\n",
      "\u001b[AParameters with this testing accuracy 0.656976744186 and loss 1.09703600103 :\n",
      "\n",
      " 35%|███▌      | 350/1000 [13:41:54<20:46:08, 115.03s/it, best loss: -0.668604651163]\u001b[A\n",
      "\u001b[A{'kernel': 'linear', 'C': 5.6283091004770105, 'gamma': 8.484481717043804, 'class_weight': 'balanced'}\n",
      "\n",
      " 35%|███▌      | 350/1000 [13:41:54<20:46:08, 115.03s/it, best loss: -0.668604651163]\u001b[A"
     ]
    },
    {
     "name": "stderr",
     "output_type": "stream",
     "text": [
      "Hyperopt:  35%|███▌      | 351/1000 [13:41:54<20:10:02, 111.87s/it]"
     ]
    },
    {
     "name": "stdout",
     "output_type": "stream",
     "text": [
      "\n",
      " 35%|███▌      | 351/1000 [13:41:54<20:10:01, 111.87s/it, best loss: -0.668604651163]\u001b[A\n",
      "\u001b[AParameters with this training accuracy 0.938689899968 and loss 0.608420033038 :\n",
      "\n",
      " 35%|███▌      | 351/1000 [13:43:33<20:10:01, 111.87s/it, best loss: -0.668604651163]\u001b[A\n",
      "\u001b[AParameters with this testing accuracy 0.627906976744 and loss 1.11127694485 :\n",
      "\n",
      " 35%|███▌      | 351/1000 [13:43:33<20:10:01, 111.87s/it, best loss: -0.668604651163]\u001b[A\n",
      "\u001b[A{'kernel': 'linear', 'C': 1.8339155557383098, 'gamma': 5.2332273909476, 'class_weight': 'balanced'}\n",
      "\n",
      " 35%|███▌      | 351/1000 [13:43:33<20:10:01, 111.87s/it, best loss: -0.668604651163]\u001b[A"
     ]
    },
    {
     "name": "stderr",
     "output_type": "stream",
     "text": [
      "Hyperopt:  35%|███▌      | 352/1000 [13:43:33<19:27:26, 108.10s/it]"
     ]
    },
    {
     "name": "stdout",
     "output_type": "stream",
     "text": [
      "\n",
      " 35%|███▌      | 352/1000 [13:43:33<19:27:26, 108.10s/it, best loss: -0.668604651163]\u001b[A\n",
      "\u001b[AParameters with this training accuracy 0.992578251049 and loss 0.435259738868 :\n",
      "\n",
      " 35%|███▌      | 352/1000 [13:45:22<19:27:26, 108.10s/it, best loss: -0.668604651163]\u001b[A\n",
      "\u001b[AParameters with this testing accuracy 0.662790697674 and loss 1.09672622045 :\n",
      "\n",
      " 35%|███▌      | 352/1000 [13:45:22<19:27:26, 108.10s/it, best loss: -0.668604651163]\u001b[A\n",
      "\u001b[A{'kernel': 'linear', 'C': 9.59432261329584, 'gamma': 1.6571843554245524, 'class_weight': 'balanced'}\n",
      "\n",
      " 35%|███▌      | 352/1000 [13:45:22<19:27:26, 108.10s/it, best loss: -0.668604651163]\u001b[A"
     ]
    },
    {
     "name": "stderr",
     "output_type": "stream",
     "text": [
      "Hyperopt:  35%|███▌      | 353/1000 [13:45:22<19:26:44, 108.20s/it]"
     ]
    },
    {
     "name": "stdout",
     "output_type": "stream",
     "text": [
      "\n",
      " 35%|███▌      | 353/1000 [13:45:22<19:26:44, 108.20s/it, best loss: -0.668604651163]\u001b[A\n",
      "\u001b[AParameters with this training accuracy 0.996450467893 and loss 0.850866112809 :\n",
      "\n",
      " 35%|███▌      | 353/1000 [13:46:50<19:26:44, 108.20s/it, best loss: -0.668604651163]\u001b[A\n",
      "\u001b[AParameters with this testing accuracy 0.56976744186 and loss 1.32024846959 :\n",
      "\n",
      " 35%|███▌      | 353/1000 [13:46:50<19:26:44, 108.20s/it, best loss: -0.668604651163]\u001b[A\n",
      "\u001b[A{'kernel': 'poly', 'C': 8.900472161720433, 'gamma': 3.624565638889082, 'class_weight': 'balanced'}\n",
      "\n",
      " 35%|███▌      | 353/1000 [13:46:50<19:26:44, 108.20s/it, best loss: -0.668604651163]\u001b[A"
     ]
    },
    {
     "name": "stderr",
     "output_type": "stream",
     "text": [
      "Hyperopt:  35%|███▌      | 354/1000 [13:46:50<18:19:00, 102.07s/it]"
     ]
    },
    {
     "name": "stdout",
     "output_type": "stream",
     "text": [
      "\n",
      " 35%|███▌      | 354/1000 [13:46:50<18:19:00, 102.07s/it, best loss: -0.668604651163]\u001b[A\n",
      "\u001b[AParameters with this training accuracy 0.996450467893 and loss 2.85195308886 :\n",
      "\n",
      " 35%|███▌      | 354/1000 [13:50:49<18:19:00, 102.07s/it, best loss: -0.668604651163]\u001b[A\n",
      "\u001b[AParameters with this testing accuracy 0.459302325581 and loss 1.94199485418 :\n",
      "\n",
      " 35%|███▌      | 354/1000 [13:50:49<18:19:00, 102.07s/it, best loss: -0.668604651163]\u001b[A\n",
      "\u001b[A{'kernel': 'rbf', 'C': 10.366795174982906, 'gamma': 5.876416893673144, 'class_weight': None}\n",
      "\n",
      " 35%|███▌      | 354/1000 [13:50:49<18:19:00, 102.07s/it, best loss: -0.668604651163]\u001b[A"
     ]
    },
    {
     "name": "stderr",
     "output_type": "stream",
     "text": [
      "Hyperopt:  36%|███▌      | 355/1000 [13:50:49<25:39:23, 143.20s/it]"
     ]
    },
    {
     "name": "stdout",
     "output_type": "stream",
     "text": [
      "\n",
      " 36%|███▌      | 355/1000 [13:50:49<25:39:23, 143.20s/it, best loss: -0.668604651163]\u001b[A\n",
      "\u001b[AParameters with this training accuracy 0.994837044208 and loss 0.425754310941 :\n",
      "\n",
      " 36%|███▌      | 355/1000 [13:52:38<25:39:23, 143.20s/it, best loss: -0.668604651163]\u001b[A\n",
      "\u001b[AParameters with this testing accuracy 0.665697674419 and loss 1.09762307851 :\n",
      "\n",
      " 36%|███▌      | 355/1000 [13:52:38<25:39:23, 143.20s/it, best loss: -0.668604651163]\u001b[A\n",
      "\u001b[A{'kernel': 'linear', 'C': 13.364794105590105, 'gamma': 6.446610303906081, 'class_weight': 'balanced'}\n",
      "\n",
      " 36%|███▌      | 355/1000 [13:52:38<25:39:23, 143.20s/it, best loss: -0.668604651163]\u001b[A"
     ]
    },
    {
     "name": "stderr",
     "output_type": "stream",
     "text": [
      "Hyperopt:  36%|███▌      | 356/1000 [13:52:38<23:48:48, 133.12s/it]"
     ]
    },
    {
     "name": "stdout",
     "output_type": "stream",
     "text": [
      "\n",
      " 36%|███▌      | 356/1000 [13:52:38<23:48:48, 133.12s/it, best loss: -0.668604651163]\u001b[A\n",
      "\u001b[AParameters with this training accuracy 0.987737979994 and loss 0.447301911061 :\n",
      "\n",
      " 36%|███▌      | 356/1000 [13:54:24<23:48:48, 133.12s/it, best loss: -0.668604651163]\u001b[A\n",
      "\u001b[AParameters with this testing accuracy 0.662790697674 and loss 1.09621152826 :\n",
      "\n",
      " 36%|███▌      | 356/1000 [13:54:24<23:48:48, 133.12s/it, best loss: -0.668604651163]\u001b[A\n",
      "\u001b[A{'kernel': 'linear', 'C': 7.05599324122628, 'gamma': 9.830571172707707, 'class_weight': 'balanced'}\n",
      "\n",
      " 36%|███▌      | 356/1000 [13:54:24<23:48:48, 133.12s/it, best loss: -0.668604651163]\u001b[A"
     ]
    },
    {
     "name": "stderr",
     "output_type": "stream",
     "text": [
      "Hyperopt:  36%|███▌      | 357/1000 [13:54:24<22:17:10, 124.78s/it]"
     ]
    },
    {
     "name": "stdout",
     "output_type": "stream",
     "text": [
      "\n",
      " 36%|███▌      | 357/1000 [13:54:24<22:17:10, 124.78s/it, best loss: -0.668604651163]\u001b[A\n",
      "\u001b[AParameters with this training accuracy 0.0242013552759 and loss 1.95601185799 :\n",
      "\n",
      " 36%|███▌      | 357/1000 [13:58:16<22:17:10, 124.78s/it, best loss: -0.668604651163]\u001b[A\n",
      "\u001b[AParameters with this testing accuracy 0.031976744186 and loss 1.94479406189 :\n",
      "\n",
      " 36%|███▌      | 357/1000 [13:58:16<22:17:10, 124.78s/it, best loss: -0.668604651163]\u001b[A\n",
      "\u001b[A{'kernel': 'sigmoid', 'C': 12.536139994283811, 'gamma': 2.6929063415957137, 'class_weight': 'balanced'}\n",
      "\n",
      " 36%|███▌      | 357/1000 [13:58:16<22:17:10, 124.78s/it, best loss: -0.668604651163]\u001b[A"
     ]
    },
    {
     "name": "stderr",
     "output_type": "stream",
     "text": [
      "Hyperopt:  36%|███▌      | 358/1000 [13:58:17<28:01:41, 157.17s/it]"
     ]
    },
    {
     "name": "stdout",
     "output_type": "stream",
     "text": [
      "\n",
      " 36%|███▌      | 358/1000 [13:58:17<28:01:41, 157.17s/it, best loss: -0.668604651163]\u001b[A\n",
      "\u001b[AParameters with this training accuracy 0.995159728945 and loss 0.424538040188 :\n",
      "\n",
      " 36%|███▌      | 358/1000 [14:00:06<28:01:41, 157.17s/it, best loss: -0.668604651163]\u001b[A\n",
      "\u001b[AParameters with this testing accuracy 0.662790697674 and loss 1.09811127688 :\n",
      "\n",
      " 36%|███▌      | 358/1000 [14:00:06<28:01:41, 157.17s/it, best loss: -0.668604651163]\u001b[A\n",
      "\u001b[A{'kernel': 'linear', 'C': 15.232150494163662, 'gamma': 6.614836146214998, 'class_weight': 'balanced'}\n",
      "\n",
      " 36%|███▌      | 358/1000 [14:00:06<28:01:41, 157.17s/it, best loss: -0.668604651163]\u001b[A"
     ]
    },
    {
     "name": "stderr",
     "output_type": "stream",
     "text": [
      "Hyperopt:  36%|███▌      | 359/1000 [14:00:06<25:27:02, 142.94s/it]"
     ]
    },
    {
     "name": "stdout",
     "output_type": "stream",
     "text": [
      "\n",
      " 36%|███▌      | 359/1000 [14:00:06<25:27:02, 142.94s/it, best loss: -0.668604651163]\u001b[A\n",
      "\u001b[AParameters with this training accuracy 0.992900935786 and loss 0.429575012489 :\n",
      "\n",
      " 36%|███▌      | 359/1000 [14:01:56<25:27:02, 142.94s/it, best loss: -0.668604651163]\u001b[A\n",
      "\u001b[AParameters with this testing accuracy 0.665697674419 and loss 1.09721954888 :\n",
      "\n",
      " 36%|███▌      | 359/1000 [14:01:56<25:27:02, 142.94s/it, best loss: -0.668604651163]\u001b[A\n",
      "\u001b[A{'kernel': 'linear', 'C': 10.955723330046242, 'gamma': 9.947051467303641, 'class_weight': 'balanced'}\n",
      "\n",
      " 36%|███▌      | 359/1000 [14:01:56<25:27:02, 142.94s/it, best loss: -0.668604651163]\u001b[A"
     ]
    },
    {
     "name": "stderr",
     "output_type": "stream",
     "text": [
      "Hyperopt:  36%|███▌      | 360/1000 [14:01:56<23:37:25, 132.88s/it]"
     ]
    },
    {
     "name": "stdout",
     "output_type": "stream",
     "text": [
      "\n",
      " 36%|███▌      | 360/1000 [14:01:56<23:37:26, 132.88s/it, best loss: -0.668604651163]\u001b[A\n",
      "\u001b[AParameters with this training accuracy 0.993868989997 and loss 0.42832997403 :\n",
      "\n",
      " 36%|███▌      | 360/1000 [14:03:45<23:37:26, 132.88s/it, best loss: -0.668604651163]\u001b[A\n",
      "\u001b[AParameters with this testing accuracy 0.665697674419 and loss 1.09770500699 :\n",
      "\n",
      " 36%|███▌      | 360/1000 [14:03:45<23:37:26, 132.88s/it, best loss: -0.668604651163]\u001b[A\n",
      "\u001b[A{'kernel': 'linear', 'C': 11.81733951052253, 'gamma': 9.430485266664725, 'class_weight': 'balanced'}\n",
      "\n",
      " 36%|███▌      | 360/1000 [14:03:45<23:37:26, 132.88s/it, best loss: -0.668604651163]\u001b[A"
     ]
    },
    {
     "name": "stderr",
     "output_type": "stream",
     "text": [
      "Hyperopt:  36%|███▌      | 361/1000 [14:03:45<22:20:06, 125.83s/it]"
     ]
    },
    {
     "name": "stdout",
     "output_type": "stream",
     "text": [
      "\n",
      " 36%|███▌      | 361/1000 [14:03:45<22:20:06, 125.83s/it, best loss: -0.668604651163]\u001b[A\n",
      "\u001b[AParameters with this training accuracy 0.996450467893 and loss 0.847169890445 :\n",
      "\n",
      " 36%|███▌      | 361/1000 [14:05:13<22:20:06, 125.83s/it, best loss: -0.668604651163]\u001b[A\n",
      "\u001b[AParameters with this testing accuracy 0.56976744186 and loss 1.32001888143 :\n",
      "\n",
      " 36%|███▌      | 361/1000 [14:05:13<22:20:06, 125.83s/it, best loss: -0.668604651163]\u001b[A\n",
      "\u001b[A{'kernel': 'poly', 'C': 13.695811135566053, 'gamma': 7.476447457042415, 'class_weight': 'balanced'}\n",
      "\n",
      " 36%|███▌      | 361/1000 [14:05:13<22:20:06, 125.83s/it, best loss: -0.668604651163]\u001b[A"
     ]
    },
    {
     "name": "stderr",
     "output_type": "stream",
     "text": [
      "Hyperopt:  36%|███▌      | 362/1000 [14:05:13<20:16:23, 114.39s/it]"
     ]
    },
    {
     "name": "stdout",
     "output_type": "stream",
     "text": [
      "\n",
      " 36%|███▌      | 362/1000 [14:05:13<20:16:23, 114.39s/it, best loss: -0.668604651163]\u001b[A\n",
      "\u001b[AParameters with this training accuracy 0.996450467893 and loss 0.42082487452 :\n",
      "\n",
      " 36%|███▌      | 362/1000 [14:07:03<20:16:23, 114.39s/it, best loss: -0.668604651163]\u001b[A\n",
      "\u001b[AParameters with this testing accuracy 0.662790697674 and loss 1.10370785884 :\n",
      "\n",
      " 36%|███▌      | 362/1000 [14:07:03<20:16:23, 114.39s/it, best loss: -0.668604651163]\u001b[A\n",
      "\u001b[A{'kernel': 'linear', 'C': 17.96951128604104, 'gamma': 3.3944292160030183, 'class_weight': None}\n",
      "\n",
      " 36%|███▌      | 362/1000 [14:07:03<20:16:23, 114.39s/it, best loss: -0.668604651163]\u001b[A"
     ]
    },
    {
     "name": "stderr",
     "output_type": "stream",
     "text": [
      "Hyperopt:  36%|███▋      | 363/1000 [14:07:03<20:00:15, 113.05s/it]"
     ]
    },
    {
     "name": "stdout",
     "output_type": "stream",
     "text": [
      "\n",
      " 36%|███▋      | 363/1000 [14:07:03<20:00:15, 113.05s/it, best loss: -0.668604651163]\u001b[A\n",
      "\u001b[AParameters with this training accuracy 0.994191674734 and loss 0.427035449623 :\n",
      "\n",
      " 36%|███▋      | 363/1000 [14:08:52<20:00:15, 113.05s/it, best loss: -0.668604651163]\u001b[A\n",
      "\u001b[AParameters with this testing accuracy 0.668604651163 and loss 1.09767475536 :\n",
      "\n",
      " 36%|███▋      | 363/1000 [14:08:52<20:00:15, 113.05s/it, best loss: -0.668604651163]\u001b[A\n",
      "\u001b[A{'kernel': 'linear', 'C': 12.424921401086827, 'gamma': 1.2301102033330762, 'class_weight': 'balanced'}\n",
      "\n",
      " 36%|███▋      | 363/1000 [14:08:52<20:00:15, 113.05s/it, best loss: -0.668604651163]\u001b[A"
     ]
    },
    {
     "name": "stderr",
     "output_type": "stream",
     "text": [
      "Hyperopt:  36%|███▋      | 364/1000 [14:08:52<19:46:25, 111.93s/it]"
     ]
    },
    {
     "name": "stdout",
     "output_type": "stream",
     "text": [
      "\n",
      " 36%|███▋      | 364/1000 [14:08:52<19:46:25, 111.93s/it, best loss: -0.668604651163]\u001b[A\n",
      "\u001b[AParameters with this training accuracy 0.99354630526 and loss 0.166278091677 :\n",
      "\n",
      " 36%|███▋      | 364/1000 [14:12:38<19:46:25, 111.93s/it, best loss: -0.668604651163]\u001b[A\n",
      "\u001b[AParameters with this testing accuracy 0.523255813953 and loss 1.52077186332 :\n",
      "\n",
      " 36%|███▋      | 364/1000 [14:12:38<19:46:25, 111.93s/it, best loss: -0.668604651163]\u001b[A\n",
      "\u001b[A{'kernel': 'rbf', 'C': 7.8882065455560655, 'gamma': 0.23265395950084677, 'class_weight': 'balanced'}\n",
      "\n",
      " 36%|███▋      | 364/1000 [14:12:38<19:46:25, 111.93s/it, best loss: -0.668604651163]\u001b[A"
     ]
    },
    {
     "name": "stderr",
     "output_type": "stream",
     "text": [
      "Hyperopt:  36%|███▋      | 365/1000 [14:12:38<25:47:28, 146.22s/it]"
     ]
    },
    {
     "name": "stdout",
     "output_type": "stream",
     "text": [
      "\n",
      " 36%|███▋      | 365/1000 [14:12:38<25:47:28, 146.22s/it, best loss: -0.668604651163]\u001b[A\n",
      "\u001b[AParameters with this training accuracy 0.995482413682 and loss 0.4236021318 :\n",
      "\n",
      " 36%|███▋      | 365/1000 [14:14:28<25:47:28, 146.22s/it, best loss: -0.668604651163]\u001b[A\n",
      "\u001b[AParameters with this testing accuracy 0.662790697674 and loss 1.09839688633 :\n",
      "\n",
      " 36%|███▋      | 365/1000 [14:14:28<25:47:28, 146.22s/it, best loss: -0.668604651163]\u001b[A\n",
      "\u001b[A{'kernel': 'linear', 'C': 17.19765960471866, 'gamma': 0.6226770632310814, 'class_weight': 'balanced'}\n",
      "\n",
      " 36%|███▋      | 365/1000 [14:14:28<25:47:28, 146.22s/it, best loss: -0.668604651163]\u001b[A"
     ]
    },
    {
     "name": "stderr",
     "output_type": "stream",
     "text": [
      "Hyperopt:  37%|███▋      | 366/1000 [14:14:28<23:49:29, 135.28s/it]"
     ]
    },
    {
     "name": "stdout",
     "output_type": "stream",
     "text": [
      "\n",
      " 37%|███▋      | 366/1000 [14:14:28<23:49:29, 135.28s/it, best loss: -0.668604651163]\u001b[A\n",
      "\u001b[AParameters with this training accuracy 0.424007744434 and loss 1.97160208679 :\n",
      "\n",
      " 37%|███▋      | 366/1000 [14:18:24<23:49:29, 135.28s/it, best loss: -0.668604651163]\u001b[A\n",
      "\u001b[AParameters with this testing accuracy 0.468023255814 and loss 1.9456140114 :\n",
      "\n",
      " 37%|███▋      | 366/1000 [14:18:24<23:49:29, 135.28s/it, best loss: -0.668604651163]\u001b[A\n",
      "\u001b[A{'kernel': 'sigmoid', 'C': 14.35230850604369, 'gamma': 7.7405605688427555, 'class_weight': 'balanced'}\n",
      "\n",
      " 37%|███▋      | 366/1000 [14:18:24<23:49:29, 135.28s/it, best loss: -0.668604651163]\u001b[A"
     ]
    },
    {
     "name": "stderr",
     "output_type": "stream",
     "text": [
      "Hyperopt:  37%|███▋      | 367/1000 [14:18:24<29:06:37, 165.56s/it]"
     ]
    },
    {
     "name": "stdout",
     "output_type": "stream",
     "text": [
      "\n",
      " 37%|███▋      | 367/1000 [14:18:24<29:06:37, 165.56s/it, best loss: -0.668604651163]\u001b[A\n",
      "\u001b[AParameters with this training accuracy 0.992578251049 and loss 0.430538417007 :\n",
      "\n",
      " 37%|███▋      | 367/1000 [14:20:13<29:06:37, 165.56s/it, best loss: -0.668604651163]\u001b[A\n",
      "\u001b[AParameters with this testing accuracy 0.665697674419 and loss 1.09740062246 :\n",
      "\n",
      " 37%|███▋      | 367/1000 [14:20:13<29:06:37, 165.56s/it, best loss: -0.668604651163]\u001b[A\n",
      "\u001b[A{'kernel': 'linear', 'C': 9.782337670153868, 'gamma': 0.9497934725740516, 'class_weight': 'balanced'}\n",
      "\n",
      " 37%|███▋      | 367/1000 [14:20:13<29:06:37, 165.56s/it, best loss: -0.668604651163]\u001b[A"
     ]
    },
    {
     "name": "stderr",
     "output_type": "stream",
     "text": [
      "Hyperopt:  37%|███▋      | 368/1000 [14:20:13<26:04:52, 148.56s/it]"
     ]
    },
    {
     "name": "stdout",
     "output_type": "stream",
     "text": [
      "\n",
      " 37%|███▋      | 368/1000 [14:20:13<26:04:52, 148.56s/it, best loss: -0.668604651163]\u001b[A\n",
      "\u001b[AParameters with this training accuracy 0.994837044208 and loss 0.427294712853 :\n",
      "\n",
      " 37%|███▋      | 368/1000 [14:22:03<26:04:52, 148.56s/it, best loss: -0.668604651163]\u001b[A\n",
      "\u001b[AParameters with this testing accuracy 0.665697674419 and loss 1.09840284895 :\n",
      "\n",
      " 37%|███▋      | 368/1000 [14:22:03<26:04:52, 148.56s/it, best loss: -0.668604651163]\u001b[A\n",
      "\u001b[A{'kernel': 'linear', 'C': 13.088355584758888, 'gamma': 4.023230633926329, 'class_weight': 'balanced'}\n",
      "\n",
      " 37%|███▋      | 368/1000 [14:22:03<26:04:52, 148.56s/it, best loss: -0.668604651163]\u001b[A"
     ]
    },
    {
     "name": "stderr",
     "output_type": "stream",
     "text": [
      "Hyperopt:  37%|███▋      | 369/1000 [14:22:03<23:59:27, 136.87s/it]"
     ]
    },
    {
     "name": "stdout",
     "output_type": "stream",
     "text": [
      "\n",
      " 37%|███▋      | 369/1000 [14:22:03<23:59:27, 136.87s/it, best loss: -0.668604651163]\u001b[A\n",
      "\u001b[AParameters with this training accuracy 0.995805098419 and loss 0.419072290247 :\n",
      "\n",
      " 37%|███▋      | 369/1000 [14:23:53<23:59:27, 136.87s/it, best loss: -0.668604651163]\u001b[A\n",
      "\u001b[AParameters with this testing accuracy 0.65988372093 and loss 1.10391120724 :\n",
      "\n",
      " 37%|███▋      | 369/1000 [14:23:53<23:59:27, 136.87s/it, best loss: -0.668604651163]\u001b[A\n",
      "\u001b[A{'kernel': 'linear', 'C': 11.620328028845861, 'gamma': 6.845714495476942, 'class_weight': None}\n",
      "\n",
      " 37%|███▋      | 369/1000 [14:23:53<23:59:27, 136.87s/it, best loss: -0.668604651163]\u001b[A"
     ]
    },
    {
     "name": "stderr",
     "output_type": "stream",
     "text": [
      "Hyperopt:  37%|███▋      | 370/1000 [14:23:53<22:32:10, 128.78s/it]"
     ]
    },
    {
     "name": "stdout",
     "output_type": "stream",
     "text": [
      "\n",
      " 37%|███▋      | 370/1000 [14:23:53<22:32:10, 128.78s/it, best loss: -0.668604651163]\u001b[A\n",
      "\u001b[AParameters with this training accuracy 0.996450467893 and loss 0.853453711758 :\n",
      "\n",
      " 37%|███▋      | 370/1000 [14:25:20<22:32:10, 128.78s/it, best loss: -0.668604651163]\u001b[A\n",
      "\u001b[AParameters with this testing accuracy 0.56976744186 and loss 1.32041268358 :\n",
      "\n",
      " 37%|███▋      | 370/1000 [14:25:20<22:32:10, 128.78s/it, best loss: -0.668604651163]\u001b[A\n",
      "\u001b[A{'kernel': 'poly', 'C': 10.528019680205038, 'gamma': 8.316865094430264, 'class_weight': 'balanced'}\n",
      "\n",
      " 37%|███▋      | 370/1000 [14:25:20<22:32:10, 128.78s/it, best loss: -0.668604651163]\u001b[A"
     ]
    },
    {
     "name": "stderr",
     "output_type": "stream",
     "text": [
      "Hyperopt:  37%|███▋      | 371/1000 [14:25:20<20:20:50, 116.46s/it]"
     ]
    },
    {
     "name": "stdout",
     "output_type": "stream",
     "text": [
      "\n",
      " 37%|███▋      | 371/1000 [14:25:20<20:20:50, 116.46s/it, best loss: -0.668604651163]\u001b[A\n",
      "\u001b[AParameters with this training accuracy 0.993868989997 and loss 0.427835096691 :\n",
      "\n",
      " 37%|███▋      | 371/1000 [14:27:10<20:20:50, 116.46s/it, best loss: -0.668604651163]\u001b[A\n",
      "\u001b[AParameters with this testing accuracy 0.668604651163 and loss 1.09721324925 :\n",
      "\n",
      " 37%|███▋      | 371/1000 [14:27:10<20:20:50, 116.46s/it, best loss: -0.668604651163]\u001b[A\n",
      "\u001b[A{'kernel': 'linear', 'C': 11.994959211397392, 'gamma': 7.964653264529719, 'class_weight': 'balanced'}\n",
      "\n",
      " 37%|███▋      | 371/1000 [14:27:10<20:20:50, 116.46s/it, best loss: -0.668604651163]\u001b[A"
     ]
    },
    {
     "name": "stderr",
     "output_type": "stream",
     "text": [
      "Hyperopt:  37%|███▋      | 372/1000 [14:27:10<19:57:22, 114.40s/it]"
     ]
    },
    {
     "name": "stdout",
     "output_type": "stream",
     "text": [
      "\n",
      " 37%|███▋      | 372/1000 [14:27:10<19:57:22, 114.40s/it, best loss: -0.668604651163]\u001b[A\n",
      "\u001b[AParameters with this training accuracy 0.992578251049 and loss 0.433730427076 :\n",
      "\n",
      " 37%|███▋      | 372/1000 [14:28:58<19:57:22, 114.40s/it, best loss: -0.668604651163]\u001b[A\n",
      "\u001b[AParameters with this testing accuracy 0.662790697674 and loss 1.09633809865 :\n",
      "\n",
      " 37%|███▋      | 372/1000 [14:28:58<19:57:22, 114.40s/it, best loss: -0.668604651163]\u001b[A\n",
      "\u001b[A{'kernel': 'linear', 'C': 9.329338800773666, 'gamma': 0.30876104574085383, 'class_weight': 'balanced'}\n",
      "\n",
      " 37%|███▋      | 372/1000 [14:28:58<19:57:22, 114.40s/it, best loss: -0.668604651163]\u001b[A"
     ]
    },
    {
     "name": "stderr",
     "output_type": "stream",
     "text": [
      "Hyperopt:  37%|███▋      | 373/1000 [14:28:58<19:36:48, 112.61s/it]"
     ]
    },
    {
     "name": "stdout",
     "output_type": "stream",
     "text": [
      "\n",
      " 37%|███▋      | 373/1000 [14:28:58<19:36:48, 112.61s/it, best loss: -0.668604651163]\u001b[A\n",
      "\u001b[AParameters with this training accuracy 0.996450467893 and loss 3.0013098175 :\n",
      "\n",
      " 37%|███▋      | 373/1000 [14:32:58<19:36:48, 112.61s/it, best loss: -0.668604651163]\u001b[A\n",
      "\u001b[AParameters with this testing accuracy 0.459302325581 and loss 1.94546406437 :\n",
      "\n",
      " 37%|███▋      | 373/1000 [14:32:58<19:36:48, 112.61s/it, best loss: -0.668604651163]\u001b[A\n",
      "\u001b[A{'kernel': 'rbf', 'C': 10.87346628169517, 'gamma': 9.994376599681273, 'class_weight': 'balanced'}\n",
      "\n",
      " 37%|███▋      | 373/1000 [14:32:58<19:36:48, 112.61s/it, best loss: -0.668604651163]\u001b[A"
     ]
    },
    {
     "name": "stderr",
     "output_type": "stream",
     "text": [
      "Hyperopt:  37%|███▋      | 374/1000 [14:32:58<26:12:49, 150.75s/it]"
     ]
    },
    {
     "name": "stdout",
     "output_type": "stream",
     "text": [
      "\n",
      " 37%|███▋      | 374/1000 [14:32:58<26:12:49, 150.75s/it, best loss: -0.668604651163]\u001b[A\n",
      "\u001b[AParameters with this training accuracy 0.995482413682 and loss 0.425818072505 :\n",
      "\n",
      " 37%|███▋      | 374/1000 [14:34:48<26:12:49, 150.75s/it, best loss: -0.668604651163]\u001b[A\n",
      "\u001b[AParameters with this testing accuracy 0.662790697674 and loss 1.10078558828 :\n",
      "\n",
      " 37%|███▋      | 374/1000 [14:34:48<26:12:49, 150.75s/it, best loss: -0.668604651163]\u001b[A\n",
      "\u001b[A{'kernel': 'linear', 'C': 18.37335714467443, 'gamma': 9.239781969495375, 'class_weight': 'balanced'}\n",
      "\n",
      " 37%|███▋      | 374/1000 [14:34:48<26:12:49, 150.75s/it, best loss: -0.668604651163]\u001b[A"
     ]
    },
    {
     "name": "stderr",
     "output_type": "stream",
     "text": [
      "Hyperopt:  38%|███▊      | 375/1000 [14:34:48<24:02:32, 138.48s/it]"
     ]
    },
    {
     "name": "stdout",
     "output_type": "stream",
     "text": [
      "\n",
      " 38%|███▊      | 375/1000 [14:34:48<24:02:32, 138.48s/it, best loss: -0.668604651163]\u001b[A\n",
      "\u001b[AParameters with this training accuracy 0.995482413682 and loss 0.423920980417 :\n",
      "\n",
      " 38%|███▊      | 375/1000 [14:36:38<24:02:32, 138.48s/it, best loss: -0.668604651163]\u001b[A\n",
      "\u001b[AParameters with this testing accuracy 0.662790697674 and loss 1.09837934927 :\n",
      "\n",
      " 38%|███▊      | 375/1000 [14:36:38<24:02:32, 138.48s/it, best loss: -0.668604651163]\u001b[A\n",
      "\u001b[A{'kernel': 'linear', 'C': 15.764305502579639, 'gamma': 7.392022570555513, 'class_weight': 'balanced'}\n",
      "\n",
      " 38%|███▊      | 375/1000 [14:36:38<24:02:32, 138.48s/it, best loss: -0.668604651163]\u001b[A"
     ]
    },
    {
     "name": "stderr",
     "output_type": "stream",
     "text": [
      "Hyperopt:  38%|███▊      | 376/1000 [14:36:38<22:30:55, 129.90s/it]"
     ]
    },
    {
     "name": "stdout",
     "output_type": "stream",
     "text": [
      "\n",
      " 38%|███▊      | 376/1000 [14:36:38<22:30:55, 129.90s/it, best loss: -0.668604651163]\u001b[A\n",
      "\u001b[AParameters with this training accuracy 0.0216198773798 and loss 1.97420572582 :\n",
      "\n",
      " 38%|███▊      | 376/1000 [14:40:34<22:30:55, 129.90s/it, best loss: -0.668604651163]\u001b[A\n",
      "\u001b[AParameters with this testing accuracy 0.0290697674419 and loss 1.93786097606 :\n",
      "\n",
      " 38%|███▊      | 376/1000 [14:40:34<22:30:55, 129.90s/it, best loss: -0.668604651163]\u001b[A\n",
      "\u001b[A{'kernel': 'sigmoid', 'C': 14.966724225501487, 'gamma': 8.090016217980132, 'class_weight': 'balanced'}\n",
      "\n",
      " 38%|███▊      | 376/1000 [14:40:34<22:30:55, 129.90s/it, best loss: -0.668604651163]\u001b[A"
     ]
    },
    {
     "name": "stderr",
     "output_type": "stream",
     "text": [
      "Hyperopt:  38%|███▊      | 377/1000 [14:40:34<28:00:04, 161.81s/it]"
     ]
    },
    {
     "name": "stdout",
     "output_type": "stream",
     "text": [
      "\n",
      " 38%|███▊      | 377/1000 [14:40:34<28:00:04, 161.81s/it, best loss: -0.668604651163]\u001b[A\n",
      "\u001b[AParameters with this training accuracy 0.996127783156 and loss 0.419189795293 :\n",
      "\n",
      " 38%|███▊      | 377/1000 [14:42:24<28:00:04, 161.81s/it, best loss: -0.668604651163]\u001b[A\n",
      "\u001b[AParameters with this testing accuracy 0.65988372093 and loss 1.103762329 :\n",
      "\n",
      " 38%|███▊      | 377/1000 [14:42:24<28:00:04, 161.81s/it, best loss: -0.668604651163]\u001b[A\n",
      "\u001b[A{'kernel': 'linear', 'C': 12.934928419911579, 'gamma': 4.260711199190081, 'class_weight': None}\n",
      "\n",
      " 38%|███▊      | 377/1000 [14:42:24<28:00:04, 161.81s/it, best loss: -0.668604651163]\u001b[A"
     ]
    },
    {
     "name": "stderr",
     "output_type": "stream",
     "text": [
      "Hyperopt:  38%|███▊      | 378/1000 [14:42:24<25:16:16, 146.26s/it]"
     ]
    },
    {
     "name": "stdout",
     "output_type": "stream",
     "text": [
      "\n",
      " 38%|███▊      | 378/1000 [14:42:24<25:16:16, 146.26s/it, best loss: -0.668604651163]\u001b[A\n",
      "\u001b[AParameters with this training accuracy 0.994837044208 and loss 0.425917050135 :\n",
      "\n",
      " 38%|███▊      | 378/1000 [14:44:14<25:16:16, 146.26s/it, best loss: -0.668604651163]\u001b[A\n",
      "\u001b[AParameters with this testing accuracy 0.665697674419 and loss 1.09826176751 :\n",
      "\n",
      " 38%|███▊      | 378/1000 [14:44:14<25:16:16, 146.26s/it, best loss: -0.668604651163]\u001b[A\n",
      "\u001b[A{'kernel': 'linear', 'C': 13.625710467274994, 'gamma': 1.3988557101147125, 'class_weight': 'balanced'}\n",
      "\n",
      " 38%|███▊      | 378/1000 [14:44:14<25:16:16, 146.26s/it, best loss: -0.668604651163]\u001b[A"
     ]
    },
    {
     "name": "stderr",
     "output_type": "stream",
     "text": [
      "Hyperopt:  38%|███▊      | 379/1000 [14:44:14<23:20:05, 135.27s/it]"
     ]
    },
    {
     "name": "stdout",
     "output_type": "stream",
     "text": [
      "\n",
      " 38%|███▊      | 379/1000 [14:44:14<23:20:05, 135.27s/it, best loss: -0.668604651163]\u001b[A\n",
      "\u001b[AParameters with this training accuracy 0.996450467893 and loss 0.854289626316 :\n",
      "\n",
      " 38%|███▊      | 379/1000 [14:45:41<23:20:05, 135.27s/it, best loss: -0.668604651163]\u001b[A\n",
      "\u001b[AParameters with this testing accuracy 0.56976744186 and loss 1.32050048808 :\n",
      "\n",
      " 38%|███▊      | 379/1000 [14:45:41<23:20:05, 135.27s/it, best loss: -0.668604651163]\u001b[A\n",
      "\u001b[A{'kernel': 'poly', 'C': 10.089312161322379, 'gamma': 8.615642176967517, 'class_weight': 'balanced'}\n",
      "\n",
      " 38%|███▊      | 379/1000 [14:45:41<23:20:05, 135.27s/it, best loss: -0.668604651163]\u001b[A"
     ]
    },
    {
     "name": "stderr",
     "output_type": "stream",
     "text": [
      "Hyperopt:  38%|███▊      | 380/1000 [14:45:41<20:50:14, 120.99s/it]"
     ]
    },
    {
     "name": "stdout",
     "output_type": "stream",
     "text": [
      "\n",
      " 38%|███▊      | 380/1000 [14:45:41<20:50:14, 120.99s/it, best loss: -0.668604651163]\u001b[A\n",
      "\u001b[AParameters with this training accuracy 0.993223620523 and loss 0.428976701205 :\n",
      "\n",
      " 38%|███▊      | 380/1000 [14:47:30<20:50:14, 120.99s/it, best loss: -0.668604651163]\u001b[A\n",
      "\u001b[AParameters with this testing accuracy 0.665697674419 and loss 1.09708362073 :\n",
      "\n",
      " 38%|███▊      | 380/1000 [14:47:30<20:50:14, 120.99s/it, best loss: -0.668604651163]\u001b[A\n",
      "\u001b[A{'kernel': 'linear', 'C': 11.38331981230453, 'gamma': 4.419784118978986, 'class_weight': 'balanced'}\n",
      "\n",
      " 38%|███▊      | 380/1000 [14:47:31<20:50:14, 120.99s/it, best loss: -0.668604651163]\u001b[A"
     ]
    },
    {
     "name": "stderr",
     "output_type": "stream",
     "text": [
      "Hyperopt:  38%|███▊      | 381/1000 [14:47:31<20:11:40, 117.45s/it]"
     ]
    },
    {
     "name": "stdout",
     "output_type": "stream",
     "text": [
      "\n",
      " 38%|███▊      | 381/1000 [14:47:31<20:11:40, 117.45s/it, best loss: -0.668604651163]\u001b[A\n",
      "\u001b[AParameters with this training accuracy 0.988383349468 and loss 0.446619963666 :\n",
      "\n",
      " 38%|███▊      | 381/1000 [14:49:17<20:11:40, 117.45s/it, best loss: -0.668604651163]\u001b[A\n",
      "\u001b[AParameters with this testing accuracy 0.662790697674 and loss 1.09625494676 :\n",
      "\n",
      " 38%|███▊      | 381/1000 [14:49:17<20:11:40, 117.45s/it, best loss: -0.668604651163]\u001b[A\n",
      "\u001b[A{'kernel': 'linear', 'C': 7.490999120221476, 'gamma': 3.4813582208318214, 'class_weight': 'balanced'}\n",
      "\n",
      " 38%|███▊      | 381/1000 [14:49:17<20:11:40, 117.45s/it, best loss: -0.668604651163]\u001b[A"
     ]
    },
    {
     "name": "stderr",
     "output_type": "stream",
     "text": [
      "Hyperopt:  38%|███▊      | 382/1000 [14:49:17<19:35:46, 114.15s/it]"
     ]
    },
    {
     "name": "stdout",
     "output_type": "stream",
     "text": [
      "\n",
      " 38%|███▊      | 382/1000 [14:49:17<19:35:46, 114.15s/it, best loss: -0.668604651163]\u001b[A\n",
      "\u001b[AParameters with this training accuracy 0.995159728945 and loss 0.425345917317 :\n",
      "\n",
      " 38%|███▊      | 382/1000 [14:51:06<19:35:46, 114.15s/it, best loss: -0.668604651163]\u001b[A\n",
      "\u001b[AParameters with this testing accuracy 0.662790697674 and loss 1.09842882667 :\n",
      "\n",
      " 38%|███▊      | 382/1000 [14:51:06<19:35:46, 114.15s/it, best loss: -0.668604651163]\u001b[A\n",
      "\u001b[A{'kernel': 'linear', 'C': 14.214778844364691, 'gamma': 2.4282339092720617, 'class_weight': 'balanced'}\n",
      "\n",
      " 38%|███▊      | 382/1000 [14:51:07<19:35:46, 114.15s/it, best loss: -0.668604651163]\u001b[A"
     ]
    },
    {
     "name": "stderr",
     "output_type": "stream",
     "text": [
      "Hyperopt:  38%|███▊      | 383/1000 [14:51:07<19:19:38, 112.77s/it]"
     ]
    },
    {
     "name": "stdout",
     "output_type": "stream",
     "text": [
      "\n",
      " 38%|███▊      | 383/1000 [14:51:07<19:19:38, 112.77s/it, best loss: -0.668604651163]\u001b[A\n",
      "\u001b[AParameters with this training accuracy 0.996450467893 and loss 2.65289067449 :\n",
      "\n",
      " 38%|███▊      | 383/1000 [14:55:06<19:19:38, 112.77s/it, best loss: -0.668604651163]\u001b[A\n",
      "\u001b[AParameters with this testing accuracy 0.459302325581 and loss 1.93997436265 :\n",
      "\n",
      " 38%|███▊      | 383/1000 [14:55:06<19:19:38, 112.77s/it, best loss: -0.668604651163]\u001b[A\n",
      "\u001b[A{'kernel': 'rbf', 'C': 9.014645867596418, 'gamma': 3.7709095885180246, 'class_weight': None}\n",
      "\n",
      " 38%|███▊      | 383/1000 [14:55:06<19:19:38, 112.77s/it, best loss: -0.668604651163]\u001b[A"
     ]
    },
    {
     "name": "stderr",
     "output_type": "stream",
     "text": [
      "Hyperopt:  38%|███▊      | 384/1000 [14:55:06<25:47:18, 150.71s/it]"
     ]
    },
    {
     "name": "stdout",
     "output_type": "stream",
     "text": [
      "\n",
      " 38%|███▊      | 384/1000 [14:55:06<25:47:18, 150.71s/it, best loss: -0.668604651163]\u001b[A\n",
      "\u001b[AParameters with this training accuracy 0.995482413682 and loss 0.421245449523 :\n",
      "\n",
      " 38%|███▊      | 384/1000 [14:56:56<25:47:18, 150.71s/it, best loss: -0.668604651163]\u001b[A\n",
      "\u001b[AParameters with this testing accuracy 0.662790697674 and loss 1.09992832639 :\n",
      "\n",
      " 38%|███▊      | 384/1000 [14:56:56<25:47:18, 150.71s/it, best loss: -0.668604651163]\u001b[A\n",
      "\u001b[A{'kernel': 'linear', 'C': 19.215651429491672, 'gamma': 8.327279101775543, 'class_weight': 'balanced'}\n",
      "\n",
      " 38%|███▊      | 384/1000 [14:56:56<25:47:18, 150.71s/it, best loss: -0.668604651163]\u001b[A"
     ]
    },
    {
     "name": "stderr",
     "output_type": "stream",
     "text": [
      "Hyperopt:  38%|███▊      | 385/1000 [14:56:56<23:40:38, 138.60s/it]"
     ]
    },
    {
     "name": "stdout",
     "output_type": "stream",
     "text": [
      "\n",
      " 38%|███▊      | 385/1000 [14:56:56<23:40:38, 138.60s/it, best loss: -0.668604651163]\u001b[A\n",
      "\u001b[AParameters with this training accuracy 0.431106808648 and loss 1.97595029477 :\n",
      "\n",
      " 38%|███▊      | 385/1000 [15:00:52<23:40:38, 138.60s/it, best loss: -0.668604651163]\u001b[A\n",
      "\u001b[AParameters with this testing accuracy 0.468023255814 and loss 1.94144769657 :\n",
      "\n",
      " 38%|███▊      | 385/1000 [15:00:52<23:40:38, 138.60s/it, best loss: -0.668604651163]\u001b[A\n",
      "\u001b[A{'kernel': 'sigmoid', 'C': 16.35674968550744, 'gamma': 9.710594690536494, 'class_weight': 'balanced'}\n",
      "\n",
      " 38%|███▊      | 385/1000 [15:00:52<23:40:38, 138.60s/it, best loss: -0.668604651163]\u001b[A"
     ]
    },
    {
     "name": "stderr",
     "output_type": "stream",
     "text": [
      "Hyperopt:  39%|███▊      | 386/1000 [15:00:52<28:37:58, 167.88s/it]"
     ]
    },
    {
     "name": "stdout",
     "output_type": "stream",
     "text": [
      "\n",
      " 39%|███▊      | 386/1000 [15:00:52<28:37:58, 167.88s/it, best loss: -0.668604651163]\u001b[A\n",
      "\u001b[AParameters with this training accuracy 0.99354630526 and loss 0.427838456809 :\n",
      "\n",
      " 39%|███▊      | 386/1000 [15:02:42<28:37:58, 167.88s/it, best loss: -0.668604651163]\u001b[A\n",
      "\u001b[AParameters with this testing accuracy 0.665697674419 and loss 1.096848976 :\n",
      "\n",
      " 39%|███▊      | 386/1000 [15:02:42<28:37:58, 167.88s/it, best loss: -0.668604651163]\u001b[A\n",
      "\u001b[A{'kernel': 'linear', 'C': 11.705770818777422, 'gamma': 7.180688185797944, 'class_weight': 'balanced'}\n",
      "\n",
      " 39%|███▊      | 386/1000 [15:02:42<28:37:58, 167.88s/it, best loss: -0.668604651163]\u001b[A"
     ]
    },
    {
     "name": "stderr",
     "output_type": "stream",
     "text": [
      "Hyperopt:  39%|███▊      | 387/1000 [15:02:42<25:35:49, 150.33s/it]"
     ]
    },
    {
     "name": "stdout",
     "output_type": "stream",
     "text": [
      "\n",
      " 39%|███▊      | 387/1000 [15:02:42<25:35:49, 150.33s/it, best loss: -0.668604651163]\u001b[A\n",
      "\u001b[AParameters with this training accuracy 0.995482413682 and loss 0.423410230205 :\n",
      "\n",
      " 39%|███▊      | 387/1000 [15:04:31<25:35:49, 150.33s/it, best loss: -0.668604651163]\u001b[A\n",
      "\u001b[AParameters with this testing accuracy 0.662790697674 and loss 1.09782495687 :\n",
      "\n",
      " 39%|███▊      | 387/1000 [15:04:31<25:35:49, 150.33s/it, best loss: -0.668604651163]\u001b[A\n",
      "\u001b[A{'kernel': 'linear', 'C': 15.371807989477844, 'gamma': 9.14040556423897, 'class_weight': 'balanced'}\n",
      "\n",
      " 39%|███▊      | 387/1000 [15:04:31<25:35:49, 150.33s/it, best loss: -0.668604651163]\u001b[A"
     ]
    },
    {
     "name": "stderr",
     "output_type": "stream",
     "text": [
      "Hyperopt:  39%|███▉      | 388/1000 [15:04:31<23:29:09, 138.15s/it]"
     ]
    },
    {
     "name": "stdout",
     "output_type": "stream",
     "text": [
      "\n",
      " 39%|███▉      | 388/1000 [15:04:31<23:29:09, 138.15s/it, best loss: -0.668604651163]\u001b[A\n",
      "\u001b[AParameters with this training accuracy 0.996450467893 and loss 0.85220771361 :\n",
      "\n",
      " 39%|███▉      | 388/1000 [15:05:59<23:29:09, 138.15s/it, best loss: -0.668604651163]\u001b[A\n",
      "\u001b[AParameters with this testing accuracy 0.56976744186 and loss 1.32080631399 :\n",
      "\n",
      " 39%|███▉      | 388/1000 [15:05:59<23:29:09, 138.15s/it, best loss: -0.668604651163]\u001b[A\n",
      "\u001b[A{'kernel': 'poly', 'C': 8.202683155646483, 'gamma': 5.5032481516458205, 'class_weight': 'balanced'}\n",
      "\n",
      " 39%|███▉      | 388/1000 [15:05:59<23:29:09, 138.15s/it, best loss: -0.668604651163]\u001b[A"
     ]
    },
    {
     "name": "stderr",
     "output_type": "stream",
     "text": [
      "Hyperopt:  39%|███▉      | 389/1000 [15:05:59<20:53:04, 123.05s/it]"
     ]
    },
    {
     "name": "stdout",
     "output_type": "stream",
     "text": [
      "\n",
      " 39%|███▉      | 389/1000 [15:05:59<20:53:04, 123.05s/it, best loss: -0.668604651163]\u001b[A\n",
      "\u001b[AParameters with this training accuracy 0.994191674734 and loss 0.428348985885 :\n",
      "\n",
      " 39%|███▉      | 389/1000 [15:07:48<20:53:04, 123.05s/it, best loss: -0.668604651163]\u001b[A\n",
      "\u001b[AParameters with this testing accuracy 0.668604651163 and loss 1.09718894334 :\n",
      "\n",
      " 39%|███▉      | 389/1000 [15:07:48<20:53:04, 123.05s/it, best loss: -0.668604651163]\u001b[A\n",
      "\u001b[A{'kernel': 'linear', 'C': 12.509838726890782, 'gamma': 4.962700582621654, 'class_weight': 'balanced'}\n",
      "\n",
      " 39%|███▉      | 389/1000 [15:07:48<20:53:04, 123.05s/it, best loss: -0.668604651163]\u001b[A"
     ]
    },
    {
     "name": "stderr",
     "output_type": "stream",
     "text": [
      "Hyperopt:  39%|███▉      | 390/1000 [15:07:48<20:08:40, 118.89s/it]"
     ]
    },
    {
     "name": "stdout",
     "output_type": "stream",
     "text": [
      "\n",
      " 39%|███▉      | 390/1000 [15:07:48<20:08:40, 118.89s/it, best loss: -0.668604651163]\u001b[A\n",
      "\u001b[AParameters with this training accuracy 0.995159728945 and loss 0.426685199221 :\n",
      "\n",
      " 39%|███▉      | 390/1000 [15:09:38<20:08:40, 118.89s/it, best loss: -0.668604651163]\u001b[A\n",
      "\u001b[AParameters with this testing accuracy 0.662790697674 and loss 1.09803814103 :\n",
      "\n",
      " 39%|███▉      | 390/1000 [15:09:38<20:08:40, 118.89s/it, best loss: -0.668604651163]\u001b[A\n",
      "\u001b[A{'kernel': 'linear', 'C': 14.649342829483698, 'gamma': 6.072692780015997, 'class_weight': 'balanced'}\n",
      "\n",
      " 39%|███▉      | 390/1000 [15:09:38<20:08:40, 118.89s/it, best loss: -0.668604651163]\u001b[A"
     ]
    },
    {
     "name": "stderr",
     "output_type": "stream",
     "text": [
      "Hyperopt:  39%|███▉      | 391/1000 [15:09:38<19:38:22, 116.10s/it]"
     ]
    },
    {
     "name": "stdout",
     "output_type": "stream",
     "text": [
      "\n",
      " 39%|███▉      | 391/1000 [15:09:38<19:38:22, 116.10s/it, best loss: -0.668604651163]\u001b[A\n",
      "\u001b[AParameters with this training accuracy 0.996450467893 and loss 2.71667350237 :\n",
      "\n",
      " 39%|███▉      | 391/1000 [15:13:37<19:38:22, 116.10s/it, best loss: -0.668604651163]\u001b[A\n",
      "\u001b[AParameters with this testing accuracy 0.459302325581 and loss 1.94100567127 :\n",
      "\n",
      " 39%|███▉      | 391/1000 [15:13:37<19:38:22, 116.10s/it, best loss: -0.668604651163]\u001b[A\n",
      "\u001b[A{'kernel': 'rbf', 'C': 11.218502322732238, 'gamma': 4.827356743503737, 'class_weight': None}\n",
      "\n",
      " 39%|███▉      | 391/1000 [15:13:37<19:38:22, 116.10s/it, best loss: -0.668604651163]\u001b[A"
     ]
    },
    {
     "name": "stderr",
     "output_type": "stream",
     "text": [
      "Hyperopt:  39%|███▉      | 392/1000 [15:13:37<25:51:04, 153.07s/it]"
     ]
    },
    {
     "name": "stdout",
     "output_type": "stream",
     "text": [
      "\n",
      " 39%|███▉      | 392/1000 [15:13:37<25:51:04, 153.07s/it, best loss: -0.668604651163]\u001b[A\n",
      "\u001b[AParameters with this training accuracy 0.976444014198 and loss 0.482538163763 :\n",
      "\n",
      " 39%|███▉      | 392/1000 [15:15:21<25:51:04, 153.07s/it, best loss: -0.668604651163]\u001b[A\n",
      "\u001b[AParameters with this testing accuracy 0.648255813953 and loss 1.09804555349 :\n",
      "\n",
      " 39%|███▉      | 392/1000 [15:15:21<25:51:04, 153.07s/it, best loss: -0.668604651163]\u001b[A\n",
      "\u001b[A{'kernel': 'linear', 'C': 4.27602963668018, 'gamma': 4.5573952605632, 'class_weight': 'balanced'}\n",
      "\n",
      " 39%|███▉      | 392/1000 [15:15:21<25:51:04, 153.07s/it, best loss: -0.668604651163]\u001b[A"
     ]
    },
    {
     "name": "stderr",
     "output_type": "stream",
     "text": [
      "Hyperopt:  39%|███▉      | 393/1000 [15:15:21<23:17:48, 138.17s/it]"
     ]
    },
    {
     "name": "stdout",
     "output_type": "stream",
     "text": [
      "\n",
      " 39%|███▉      | 393/1000 [15:15:21<23:17:48, 138.17s/it, best loss: -0.668604651163]\u001b[A\n",
      "\u001b[AParameters with this training accuracy 0.994191674734 and loss 0.427707978222 :\n",
      "\n",
      " 39%|███▉      | 393/1000 [15:17:10<23:17:48, 138.17s/it, best loss: -0.668604651163]\u001b[A\n",
      "\u001b[AParameters with this testing accuracy 0.668604651163 and loss 1.09772766859 :\n",
      "\n",
      " 39%|███▉      | 393/1000 [15:17:10<23:17:48, 138.17s/it, best loss: -0.668604651163]\u001b[A\n",
      "\u001b[A{'kernel': 'linear', 'C': 12.188284761745045, 'gamma': 1.0703173870883602, 'class_weight': 'balanced'}\n",
      "\n",
      " 39%|███▉      | 393/1000 [15:17:10<23:17:48, 138.17s/it, best loss: -0.668604651163]\u001b[A"
     ]
    },
    {
     "name": "stderr",
     "output_type": "stream",
     "text": [
      "Hyperopt:  39%|███▉      | 394/1000 [15:17:10<21:48:11, 129.52s/it]"
     ]
    },
    {
     "name": "stdout",
     "output_type": "stream",
     "text": [
      "\n",
      " 39%|███▉      | 394/1000 [15:17:10<21:48:11, 129.52s/it, best loss: -0.668604651163]\u001b[A\n",
      "\u001b[AParameters with this training accuracy 0.0232333010649 and loss 1.96052497837 :\n",
      "\n",
      " 39%|███▉      | 394/1000 [15:21:01<21:48:11, 129.52s/it, best loss: -0.668604651163]\u001b[A\n",
      "\u001b[AParameters with this testing accuracy 0.031976744186 and loss 1.94559988304 :\n",
      "\n",
      " 39%|███▉      | 394/1000 [15:21:01<21:48:11, 129.52s/it, best loss: -0.668604651163]\u001b[A\n",
      "\u001b[A{'kernel': 'sigmoid', 'C': 9.93510812011819, 'gamma': 1.1365812266042872, 'class_weight': 'balanced'}\n",
      "\n",
      " 39%|███▉      | 394/1000 [15:21:01<21:48:11, 129.52s/it, best loss: -0.668604651163]\u001b[A"
     ]
    },
    {
     "name": "stderr",
     "output_type": "stream",
     "text": [
      "Hyperopt:  40%|███▉      | 395/1000 [15:21:01<26:53:22, 160.00s/it]"
     ]
    },
    {
     "name": "stdout",
     "output_type": "stream",
     "text": [
      "\n",
      " 40%|███▉      | 395/1000 [15:21:01<26:53:22, 160.00s/it, best loss: -0.668604651163]\u001b[A\n",
      "\u001b[AParameters with this training accuracy 0.994837044208 and loss 0.426035094842 :\n",
      "\n",
      " 40%|███▉      | 395/1000 [15:22:51<26:53:22, 160.00s/it, best loss: -0.668604651163]\u001b[A\n",
      "\u001b[AParameters with this testing accuracy 0.665697674419 and loss 1.09814815955 :\n",
      "\n",
      " 40%|███▉      | 395/1000 [15:22:51<26:53:22, 160.00s/it, best loss: -0.668604651163]\u001b[A\n",
      "\u001b[A{'kernel': 'linear', 'C': 13.383685557160177, 'gamma': 8.771271255634575, 'class_weight': 'balanced'}\n",
      "\n",
      " 40%|███▉      | 395/1000 [15:22:51<26:53:22, 160.00s/it, best loss: -0.668604651163]\u001b[A"
     ]
    },
    {
     "name": "stderr",
     "output_type": "stream",
     "text": [
      "Hyperopt:  40%|███▉      | 396/1000 [15:22:51<24:18:35, 144.89s/it]"
     ]
    },
    {
     "name": "stdout",
     "output_type": "stream",
     "text": [
      "\n",
      " 40%|███▉      | 396/1000 [15:22:51<24:18:35, 144.89s/it, best loss: -0.668604651163]\u001b[A\n",
      "\u001b[AParameters with this training accuracy 0.992900935786 and loss 0.431990320234 :\n",
      "\n",
      " 40%|███▉      | 396/1000 [15:24:40<24:18:35, 144.89s/it, best loss: -0.668604651163]\u001b[A\n",
      "\u001b[AParameters with this testing accuracy 0.665697674419 and loss 1.09808946085 :\n",
      "\n",
      " 40%|███▉      | 396/1000 [15:24:40<24:18:35, 144.89s/it, best loss: -0.668604651163]\u001b[A\n",
      "\u001b[A{'kernel': 'linear', 'C': 10.811410638468471, 'gamma': 6.466355901233304, 'class_weight': 'balanced'}\n",
      "\n",
      " 40%|███▉      | 396/1000 [15:24:40<24:18:35, 144.89s/it, best loss: -0.668604651163]\u001b[A"
     ]
    },
    {
     "name": "stderr",
     "output_type": "stream",
     "text": [
      "Hyperopt:  40%|███▉      | 397/1000 [15:24:40<22:28:30, 134.18s/it]"
     ]
    },
    {
     "name": "stdout",
     "output_type": "stream",
     "text": [
      "\n",
      " 40%|███▉      | 397/1000 [15:24:40<22:28:30, 134.18s/it, best loss: -0.668604651163]\u001b[A\n",
      "\u001b[AParameters with this training accuracy 0.996450467893 and loss 0.849127029568 :\n",
      "\n",
      " 40%|███▉      | 397/1000 [15:26:08<22:28:30, 134.18s/it, best loss: -0.668604651163]\u001b[A\n",
      "\u001b[AParameters with this testing accuracy 0.56976744186 and loss 1.32033128412 :\n",
      "\n",
      " 40%|███▉      | 397/1000 [15:26:08<22:28:30, 134.18s/it, best loss: -0.668604651163]\u001b[A\n",
      "\u001b[A{'kernel': 'poly', 'C': 5.898967620214674, 'gamma': 4.179843631279449, 'class_weight': None}\n",
      "\n",
      " 40%|███▉      | 397/1000 [15:26:08<22:28:30, 134.18s/it, best loss: -0.668604651163]\u001b[A"
     ]
    },
    {
     "name": "stderr",
     "output_type": "stream",
     "text": [
      "Hyperopt:  40%|███▉      | 398/1000 [15:26:08<20:07:18, 120.33s/it]"
     ]
    },
    {
     "name": "stdout",
     "output_type": "stream",
     "text": [
      "\n",
      " 40%|███▉      | 398/1000 [15:26:08<20:07:18, 120.33s/it, best loss: -0.668604651163]\u001b[A\n",
      "\u001b[AParameters with this training accuracy 0.992900935786 and loss 0.431911161612 :\n",
      "\n",
      " 40%|███▉      | 398/1000 [15:27:57<20:07:18, 120.33s/it, best loss: -0.668604651163]\u001b[A\n",
      "\u001b[AParameters with this testing accuracy 0.665697674419 and loss 1.09765611819 :\n",
      "\n",
      " 40%|███▉      | 398/1000 [15:27:57<20:07:18, 120.33s/it, best loss: -0.668604651163]\u001b[A\n",
      "\u001b[A{'kernel': 'linear', 'C': 10.338935802804333, 'gamma': 1.9581373983186854, 'class_weight': 'balanced'}\n",
      "\n",
      " 40%|███▉      | 398/1000 [15:27:57<20:07:18, 120.33s/it, best loss: -0.668604651163]\u001b[A"
     ]
    },
    {
     "name": "stderr",
     "output_type": "stream",
     "text": [
      "Hyperopt:  40%|███▉      | 399/1000 [15:27:57<19:32:14, 117.03s/it]"
     ]
    },
    {
     "name": "stdout",
     "output_type": "stream",
     "text": [
      "\n",
      " 40%|███▉      | 399/1000 [15:27:57<19:32:14, 117.03s/it, best loss: -0.668604651163]\u001b[A\n",
      "\u001b[AParameters with this training accuracy 0.995159728945 and loss 0.425848793521 :\n",
      "\n",
      " 40%|███▉      | 399/1000 [15:29:47<19:32:14, 117.03s/it, best loss: -0.668604651163]\u001b[A\n",
      "\u001b[AParameters with this testing accuracy 0.665697674419 and loss 1.09843865551 :\n",
      "\n",
      " 40%|███▉      | 399/1000 [15:29:47<19:32:14, 117.03s/it, best loss: -0.668604651163]\u001b[A\n",
      "\u001b[A{'kernel': 'linear', 'C': 13.966716794704318, 'gamma': 6.299976559450197, 'class_weight': 'balanced'}\n",
      "\n",
      " 40%|███▉      | 399/1000 [15:29:47<19:32:14, 117.03s/it, best loss: -0.668604651163]\u001b[A"
     ]
    },
    {
     "name": "stderr",
     "output_type": "stream",
     "text": [
      "Hyperopt:  40%|████      | 400/1000 [15:29:47<19:08:23, 114.84s/it]"
     ]
    },
    {
     "name": "stdout",
     "output_type": "stream",
     "text": [
      "\n",
      " 40%|████      | 400/1000 [15:29:47<19:08:23, 114.84s/it, best loss: -0.668604651163]\u001b[A\n",
      "\u001b[AParameters with this training accuracy 0.996450467893 and loss 2.76817876251 :\n",
      "\n",
      " 40%|████      | 400/1000 [15:33:46<19:08:23, 114.84s/it, best loss: -0.668604651163]\u001b[A\n",
      "\u001b[AParameters with this testing accuracy 0.459302325581 and loss 1.94138704911 :\n",
      "\n",
      " 40%|████      | 400/1000 [15:33:46<19:08:23, 114.84s/it, best loss: -0.668604651163]\u001b[A\n",
      "\u001b[A{'kernel': 'rbf', 'C': 11.970381331158976, 'gamma': 4.639034804375952, 'class_weight': 'balanced'}\n",
      "\n",
      " 40%|████      | 400/1000 [15:33:46<19:08:23, 114.84s/it, best loss: -0.668604651163]\u001b[A"
     ]
    },
    {
     "name": "stderr",
     "output_type": "stream",
     "text": [
      "Hyperopt:  40%|████      | 401/1000 [15:33:46<25:19:25, 152.20s/it]"
     ]
    },
    {
     "name": "stdout",
     "output_type": "stream",
     "text": [
      "\n",
      " 40%|████      | 401/1000 [15:33:46<25:19:25, 152.20s/it, best loss: -0.668604651163]\u001b[A\n",
      "\u001b[AParameters with this training accuracy 0.994514359471 and loss 0.426239312949 :\n",
      "\n",
      " 40%|████      | 401/1000 [15:35:36<25:19:25, 152.20s/it, best loss: -0.668604651163]\u001b[A\n",
      "\u001b[AParameters with this testing accuracy 0.665697674419 and loss 1.09768839907 :\n",
      "\n",
      " 40%|████      | 401/1000 [15:35:36<25:19:25, 152.20s/it, best loss: -0.668604651163]\u001b[A\n",
      "\u001b[A{'kernel': 'linear', 'C': 12.858457827003239, 'gamma': 7.683442262290754, 'class_weight': 'balanced'}\n",
      "\n",
      " 40%|████      | 401/1000 [15:35:36<25:19:25, 152.20s/it, best loss: -0.668604651163]\u001b[A"
     ]
    },
    {
     "name": "stderr",
     "output_type": "stream",
     "text": [
      "Hyperopt:  40%|████      | 402/1000 [15:35:36<23:08:49, 139.35s/it]"
     ]
    },
    {
     "name": "stdout",
     "output_type": "stream",
     "text": [
      "\n",
      " 40%|████      | 402/1000 [15:35:36<23:08:49, 139.35s/it, best loss: -0.668604651163]\u001b[A\n",
      "\u001b[AParameters with this training accuracy 0.993868989997 and loss 0.427536568368 :\n",
      "\n",
      " 40%|████      | 402/1000 [15:37:26<23:08:49, 139.35s/it, best loss: -0.668604651163]\u001b[A\n",
      "\u001b[AParameters with this testing accuracy 0.668604651163 and loss 1.09740057925 :\n",
      "\n",
      " 40%|████      | 402/1000 [15:37:26<23:08:49, 139.35s/it, best loss: -0.668604651163]\u001b[A\n",
      "\u001b[A{'kernel': 'linear', 'C': 12.017029954347795, 'gamma': 9.324178667100222, 'class_weight': 'balanced'}\n",
      "\n",
      " 40%|████      | 402/1000 [15:37:26<23:08:49, 139.35s/it, best loss: -0.668604651163]\u001b[A"
     ]
    },
    {
     "name": "stderr",
     "output_type": "stream",
     "text": [
      "Hyperopt:  40%|████      | 403/1000 [15:37:26<21:39:13, 130.58s/it]"
     ]
    },
    {
     "name": "stdout",
     "output_type": "stream",
     "text": [
      "\n",
      " 40%|████      | 403/1000 [15:37:26<21:39:13, 130.57s/it, best loss: -0.668604651163]\u001b[A\n",
      "\u001b[AParameters with this training accuracy 0.994837044208 and loss 0.425806116221 :\n",
      "\n",
      " 40%|████      | 403/1000 [15:39:17<21:39:13, 130.57s/it, best loss: -0.668604651163]\u001b[A\n",
      "\u001b[AParameters with this testing accuracy 0.665697674419 and loss 1.09787365377 :\n",
      "\n",
      " 40%|████      | 403/1000 [15:39:17<21:39:13, 130.57s/it, best loss: -0.668604651163]\u001b[A\n",
      "\u001b[A{'kernel': 'linear', 'C': 13.263995466670272, 'gamma': 8.011900888670972, 'class_weight': 'balanced'}\n",
      "\n",
      " 40%|████      | 403/1000 [15:39:17<21:39:13, 130.57s/it, best loss: -0.668604651163]\u001b[A"
     ]
    },
    {
     "name": "stderr",
     "output_type": "stream",
     "text": [
      "Hyperopt:  40%|████      | 404/1000 [15:39:17<20:37:50, 124.62s/it]"
     ]
    },
    {
     "name": "stdout",
     "output_type": "stream",
     "text": [
      "\n",
      " 40%|████      | 404/1000 [15:39:17<20:37:50, 124.62s/it, best loss: -0.668604651163]\u001b[A"
     ]
    }
   ],
   "source": [
    "import time\n",
    "from tqdm import tqdm\n",
    "import numpy as np\n",
    "\n",
    "trials = Trials()\n",
    "cores = 48\n",
    "start = time.time()\n",
    "evaluations = 1000\n",
    "pbar = tqdm(total=evaluations, desc=\"Hyperopt\")\n",
    "best_param = optimize(evals=evaluations,\n",
    "                      optimizer=tpe.suggest,\n",
    "                      trials=trials)\n",
    "print(\"------------------------------------\")\n",
    "print(\"The best hyperparameters are: \", \"\\n\")\n",
    "print(best_param)\n",
    "end = time.time()\n",
    "print('Time elapsed to optimize {0} executions: {1}'.format(evaluations, end - start))\n",
    "best_param['kernel'] = kernel_list[best_param['kernel']]\n",
    "best_param['class_weight'] = class_weights[best_param['class_weight']]\n",
    "print('\\n Best score:')\n",
    "score(best_param)"
   ]
  },
  {
   "cell_type": "code",
   "execution_count": null,
   "metadata": {},
   "outputs": [],
   "source": [
    "print('Time elapsed to optimize {0} executions: {1}'.format(evaluations, end - start))\n",
    "print('\\n Best score:')\n",
    "score(best_param)"
   ]
  },
  {
   "cell_type": "code",
   "execution_count": null,
   "metadata": {},
   "outputs": [],
   "source": [
    "# get the best params and train the model\n",
    "SVC_opt = svm.SVC(kernel=best_param['kernel'],\n",
    "            C=best_param['C'],\n",
    "            random_state=42,\n",
    "            decision_function_shape='ovr',\n",
    "            # class_weight=self.class_weight,\n",
    "            class_weight=best_param['class_weight'],\n",
    "            probability=True,\n",
    "            gamma=best_param['gamma'])\n",
    "\n",
    "\n",
    "fitted_model = SVC_opt.fit(X=X_train,y=y_train)"
   ]
  },
  {
   "cell_type": "code",
   "execution_count": null,
   "metadata": {},
   "outputs": [],
   "source": [
    "y_score = fitted_model.decision_function(X_test)\n",
    "y_score"
   ]
  },
  {
   "cell_type": "code",
   "execution_count": null,
   "metadata": {},
   "outputs": [],
   "source": [
    "test_acc = accuracy_score(y_test, fitted_model.predict(X_test))\n",
    "test_acc"
   ]
  },
  {
   "cell_type": "code",
   "execution_count": null,
   "metadata": {},
   "outputs": [],
   "source": [
    "from matplotlib import pyplot as plt \n",
    "%matplotlib inline \n",
    "x_list =range(len(train_acc_list))\n",
    "\n",
    "plt.plot(x_list, train_acc_list, label='Training accuracy')\n",
    "plt.plot(x_list, test_acc_list, label='Testing accuracy')\n",
    "plt.legend()\n",
    "plt.show()"
   ]
  },
  {
   "cell_type": "code",
   "execution_count": null,
   "metadata": {},
   "outputs": [],
   "source": [
    "plt.plot(x_list, train_loss_list, label='Training loss')\n",
    "plt.plot(x_list, test_loss_list, label='Testing loss')\n",
    "plt.legend()\n",
    "plt.show()"
   ]
  },
  {
   "cell_type": "code",
   "execution_count": null,
   "metadata": {},
   "outputs": [],
   "source": []
  },
  {
   "cell_type": "code",
   "execution_count": null,
   "metadata": {},
   "outputs": [],
   "source": []
  }
 ],
 "metadata": {
  "kernelspec": {
   "display_name": "Python 2",
   "language": "python",
   "name": "python2"
  },
  "language_info": {
   "codemirror_mode": {
    "name": "ipython",
    "version": 2
   },
   "file_extension": ".py",
   "mimetype": "text/x-python",
   "name": "python",
   "nbconvert_exporter": "python",
   "pygments_lexer": "ipython2",
   "version": "2.7.15"
  }
 },
 "nbformat": 4,
 "nbformat_minor": 2
}

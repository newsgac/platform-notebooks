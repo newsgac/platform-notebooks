{
 "cells": [
  {
   "cell_type": "markdown",
   "metadata": {},
   "source": [
    "# Data Sources"
   ]
  },
  {
   "cell_type": "code",
   "execution_count": 37,
   "metadata": {},
   "outputs": [],
   "source": [
    "from newsgac import database\n",
    "from newsgac.data_sources.models import DataSource\n",
    "from newsgac.genres import genre_labels\n",
    "from pandas import DataFrame"
   ]
  },
  {
   "cell_type": "code",
   "execution_count": 14,
   "metadata": {},
   "outputs": [
    {
     "data": {
      "text/plain": [
       "{'_id': <pymodm.fields.ObjectIdField at 0x7ff20996a810>,\n",
       " 'articles': <pymodm.fields.EmbeddedDocumentListField at 0x7ff20996a4d0>,\n",
       " 'created': <pymodm.fields.DateTimeField at 0x7ff20996a650>,\n",
       " 'description': <pymodm.fields.CharField at 0x7ff20996a410>,\n",
       " 'display_title': <pymodm.fields.CharField at 0x7ff20996a3d0>,\n",
       " 'file': <pymodm.fields.FileField at 0x7ff20996a450>,\n",
       " 'filename': <pymodm.fields.CharField at 0x7ff20996a350>,\n",
       " 'task': <pymodm.fields.EmbeddedDocumentField at 0x7ff20996a5d0>,\n",
       " 'training_purpose': <pymodm.fields.BooleanField at 0x7ff20996a490>,\n",
       " 'updated': <pymodm.fields.DateTimeField at 0x7ff20996a690>,\n",
       " 'user': <pymodm.fields.ReferenceField at 0x7ff20996a310>}"
      ]
     },
     "execution_count": 14,
     "metadata": {},
     "output_type": "execute_result"
    }
   ],
   "source": [
    "DataSource._mongometa.fields_dict"
   ]
  },
  {
   "cell_type": "code",
   "execution_count": 18,
   "metadata": {},
   "outputs": [
    {
     "data": {
      "text/plain": [
       "{'date': <pymodm.fields.DateTimeField at 0x7ff2099d9910>,\n",
       " 'label': <pymodm.fields.IntegerField at 0x7ff20996a210>,\n",
       " 'raw_text': <pymodm.fields.CharField at 0x7ff2099d9950>,\n",
       " 'year': <pymodm.fields.IntegerField at 0x7ff2099d99d0>}"
      ]
     },
     "execution_count": 18,
     "metadata": {},
     "output_type": "execute_result"
    }
   ],
   "source": [
    "DataSource.articles.related_model._mongometa.fields_dict"
   ]
  },
  {
   "cell_type": "code",
   "execution_count": 4,
   "metadata": {},
   "outputs": [
    {
     "data": {
      "text/plain": [
       "[u'NGBS Training']"
      ]
     },
     "execution_count": 4,
     "metadata": {},
     "output_type": "execute_result"
    }
   ],
   "source": [
    "[ds.display_title for ds in DataSource.objects.all()]"
   ]
  },
  {
   "cell_type": "code",
   "execution_count": 25,
   "metadata": {},
   "outputs": [
    {
     "name": "stdout",
     "output_type": "stream",
     "text": [
      "# articles: 813\n",
      "Created by test\n"
     ]
    }
   ],
   "source": [
    "ds = DataSource.objects.first()\n",
    "print '# articles: %s' % len(ds.articles)\n",
    "print 'Created by %s' % str(ds.user.name)"
   ]
  },
  {
   "cell_type": "code",
   "execution_count": 32,
   "metadata": {},
   "outputs": [
    {
     "name": "stdout",
     "output_type": "stream",
     "text": [
      "11\n",
      "Brief\n"
     ]
    }
   ],
   "source": [
    "print ds.articles[1].label\n",
    "print genre_labels[ds.articles[1].label]"
   ]
  },
  {
   "cell_type": "markdown",
   "metadata": {},
   "source": [
    "## Plot"
   ]
  },
  {
   "cell_type": "code",
   "execution_count": 44,
   "metadata": {},
   "outputs": [
    {
     "data": {
      "text/html": [
       "\n",
       "    <div class=\"bk-root\">\n",
       "        <a href=\"https://bokeh.pydata.org\" target=\"_blank\" class=\"bk-logo bk-logo-small bk-logo-notebook\"></a>\n",
       "        <span id=\"b8c50c42-eaad-420a-8b72-dc877a29d470\">Loading BokehJS ...</span>\n",
       "    </div>"
      ]
     },
     "metadata": {},
     "output_type": "display_data"
    },
    {
     "data": {
      "application/javascript": [
       "\n",
       "(function(root) {\n",
       "  function now() {\n",
       "    return new Date();\n",
       "  }\n",
       "\n",
       "  var force = true;\n",
       "\n",
       "  if (typeof (root._bokeh_onload_callbacks) === \"undefined\" || force === true) {\n",
       "    root._bokeh_onload_callbacks = [];\n",
       "    root._bokeh_is_loading = undefined;\n",
       "  }\n",
       "\n",
       "  var JS_MIME_TYPE = 'application/javascript';\n",
       "  var HTML_MIME_TYPE = 'text/html';\n",
       "  var EXEC_MIME_TYPE = 'application/vnd.bokehjs_exec.v0+json';\n",
       "  var CLASS_NAME = 'output_bokeh rendered_html';\n",
       "\n",
       "  /**\n",
       "   * Render data to the DOM node\n",
       "   */\n",
       "  function render(props, node) {\n",
       "    var script = document.createElement(\"script\");\n",
       "    node.appendChild(script);\n",
       "  }\n",
       "\n",
       "  /**\n",
       "   * Handle when an output is cleared or removed\n",
       "   */\n",
       "  function handleClearOutput(event, handle) {\n",
       "    var cell = handle.cell;\n",
       "\n",
       "    var id = cell.output_area._bokeh_element_id;\n",
       "    var server_id = cell.output_area._bokeh_server_id;\n",
       "    // Clean up Bokeh references\n",
       "    if (id !== undefined) {\n",
       "      Bokeh.index[id].model.document.clear();\n",
       "      delete Bokeh.index[id];\n",
       "    }\n",
       "\n",
       "    if (server_id !== undefined) {\n",
       "      // Clean up Bokeh references\n",
       "      var cmd = \"from bokeh.io.state import curstate; print(curstate().uuid_to_server['\" + server_id + \"'].get_sessions()[0].document.roots[0]._id)\";\n",
       "      cell.notebook.kernel.execute(cmd, {\n",
       "        iopub: {\n",
       "          output: function(msg) {\n",
       "            var element_id = msg.content.text.trim();\n",
       "            Bokeh.index[element_id].model.document.clear();\n",
       "            delete Bokeh.index[element_id];\n",
       "          }\n",
       "        }\n",
       "      });\n",
       "      // Destroy server and session\n",
       "      var cmd = \"import bokeh.io.notebook as ion; ion.destroy_server('\" + server_id + \"')\";\n",
       "      cell.notebook.kernel.execute(cmd);\n",
       "    }\n",
       "  }\n",
       "\n",
       "  /**\n",
       "   * Handle when a new output is added\n",
       "   */\n",
       "  function handleAddOutput(event, handle) {\n",
       "    var output_area = handle.output_area;\n",
       "    var output = handle.output;\n",
       "\n",
       "    // limit handleAddOutput to display_data with EXEC_MIME_TYPE content only\n",
       "    if ((output.output_type != \"display_data\") || (!output.data.hasOwnProperty(EXEC_MIME_TYPE))) {\n",
       "      return\n",
       "    }\n",
       "\n",
       "    var toinsert = output_area.element.find(\".\" + CLASS_NAME.split(' ')[0]);\n",
       "\n",
       "    if (output.metadata[EXEC_MIME_TYPE][\"id\"] !== undefined) {\n",
       "      toinsert[0].firstChild.textContent = output.data[JS_MIME_TYPE];\n",
       "      // store reference to embed id on output_area\n",
       "      output_area._bokeh_element_id = output.metadata[EXEC_MIME_TYPE][\"id\"];\n",
       "    }\n",
       "    if (output.metadata[EXEC_MIME_TYPE][\"server_id\"] !== undefined) {\n",
       "      var bk_div = document.createElement(\"div\");\n",
       "      bk_div.innerHTML = output.data[HTML_MIME_TYPE];\n",
       "      var script_attrs = bk_div.children[0].attributes;\n",
       "      for (var i = 0; i < script_attrs.length; i++) {\n",
       "        toinsert[0].firstChild.setAttribute(script_attrs[i].name, script_attrs[i].value);\n",
       "      }\n",
       "      // store reference to server id on output_area\n",
       "      output_area._bokeh_server_id = output.metadata[EXEC_MIME_TYPE][\"server_id\"];\n",
       "    }\n",
       "  }\n",
       "\n",
       "  function register_renderer(events, OutputArea) {\n",
       "\n",
       "    function append_mime(data, metadata, element) {\n",
       "      // create a DOM node to render to\n",
       "      var toinsert = this.create_output_subarea(\n",
       "        metadata,\n",
       "        CLASS_NAME,\n",
       "        EXEC_MIME_TYPE\n",
       "      );\n",
       "      this.keyboard_manager.register_events(toinsert);\n",
       "      // Render to node\n",
       "      var props = {data: data, metadata: metadata[EXEC_MIME_TYPE]};\n",
       "      render(props, toinsert[0]);\n",
       "      element.append(toinsert);\n",
       "      return toinsert\n",
       "    }\n",
       "\n",
       "    /* Handle when an output is cleared or removed */\n",
       "    events.on('clear_output.CodeCell', handleClearOutput);\n",
       "    events.on('delete.Cell', handleClearOutput);\n",
       "\n",
       "    /* Handle when a new output is added */\n",
       "    events.on('output_added.OutputArea', handleAddOutput);\n",
       "\n",
       "    /**\n",
       "     * Register the mime type and append_mime function with output_area\n",
       "     */\n",
       "    OutputArea.prototype.register_mime_type(EXEC_MIME_TYPE, append_mime, {\n",
       "      /* Is output safe? */\n",
       "      safe: true,\n",
       "      /* Index of renderer in `output_area.display_order` */\n",
       "      index: 0\n",
       "    });\n",
       "  }\n",
       "\n",
       "  // register the mime type if in Jupyter Notebook environment and previously unregistered\n",
       "  if (root.Jupyter !== undefined) {\n",
       "    var events = require('base/js/events');\n",
       "    var OutputArea = require('notebook/js/outputarea').OutputArea;\n",
       "\n",
       "    if (OutputArea.prototype.mime_types().indexOf(EXEC_MIME_TYPE) == -1) {\n",
       "      register_renderer(events, OutputArea);\n",
       "    }\n",
       "  }\n",
       "\n",
       "  \n",
       "  if (typeof (root._bokeh_timeout) === \"undefined\" || force === true) {\n",
       "    root._bokeh_timeout = Date.now() + 5000;\n",
       "    root._bokeh_failed_load = false;\n",
       "  }\n",
       "\n",
       "  var NB_LOAD_WARNING = {'data': {'text/html':\n",
       "     \"<div style='background-color: #fdd'>\\n\"+\n",
       "     \"<p>\\n\"+\n",
       "     \"BokehJS does not appear to have successfully loaded. If loading BokehJS from CDN, this \\n\"+\n",
       "     \"may be due to a slow or bad network connection. Possible fixes:\\n\"+\n",
       "     \"</p>\\n\"+\n",
       "     \"<ul>\\n\"+\n",
       "     \"<li>re-rerun `output_notebook()` to attempt to load from CDN again, or</li>\\n\"+\n",
       "     \"<li>use INLINE resources instead, as so:</li>\\n\"+\n",
       "     \"</ul>\\n\"+\n",
       "     \"<code>\\n\"+\n",
       "     \"from bokeh.resources import INLINE\\n\"+\n",
       "     \"output_notebook(resources=INLINE)\\n\"+\n",
       "     \"</code>\\n\"+\n",
       "     \"</div>\"}};\n",
       "\n",
       "  function display_loaded() {\n",
       "    var el = document.getElementById(\"b8c50c42-eaad-420a-8b72-dc877a29d470\");\n",
       "    if (el != null) {\n",
       "      el.textContent = \"BokehJS is loading...\";\n",
       "    }\n",
       "    if (root.Bokeh !== undefined) {\n",
       "      if (el != null) {\n",
       "        el.textContent = \"BokehJS \" + root.Bokeh.version + \" successfully loaded.\";\n",
       "      }\n",
       "    } else if (Date.now() < root._bokeh_timeout) {\n",
       "      setTimeout(display_loaded, 100)\n",
       "    }\n",
       "  }\n",
       "\n",
       "\n",
       "  function run_callbacks() {\n",
       "    try {\n",
       "      root._bokeh_onload_callbacks.forEach(function(callback) { callback() });\n",
       "    }\n",
       "    finally {\n",
       "      delete root._bokeh_onload_callbacks\n",
       "    }\n",
       "    console.info(\"Bokeh: all callbacks have finished\");\n",
       "  }\n",
       "\n",
       "  function load_libs(js_urls, callback) {\n",
       "    root._bokeh_onload_callbacks.push(callback);\n",
       "    if (root._bokeh_is_loading > 0) {\n",
       "      console.log(\"Bokeh: BokehJS is being loaded, scheduling callback at\", now());\n",
       "      return null;\n",
       "    }\n",
       "    if (js_urls == null || js_urls.length === 0) {\n",
       "      run_callbacks();\n",
       "      return null;\n",
       "    }\n",
       "    console.log(\"Bokeh: BokehJS not loaded, scheduling load and callback at\", now());\n",
       "    root._bokeh_is_loading = js_urls.length;\n",
       "    for (var i = 0; i < js_urls.length; i++) {\n",
       "      var url = js_urls[i];\n",
       "      var s = document.createElement('script');\n",
       "      s.src = url;\n",
       "      s.async = false;\n",
       "      s.onreadystatechange = s.onload = function() {\n",
       "        root._bokeh_is_loading--;\n",
       "        if (root._bokeh_is_loading === 0) {\n",
       "          console.log(\"Bokeh: all BokehJS libraries loaded\");\n",
       "          run_callbacks()\n",
       "        }\n",
       "      };\n",
       "      s.onerror = function() {\n",
       "        console.warn(\"failed to load library \" + url);\n",
       "      };\n",
       "      console.log(\"Bokeh: injecting script tag for BokehJS library: \", url);\n",
       "      document.getElementsByTagName(\"head\")[0].appendChild(s);\n",
       "    }\n",
       "  };var element = document.getElementById(\"b8c50c42-eaad-420a-8b72-dc877a29d470\");\n",
       "  if (element == null) {\n",
       "    console.log(\"Bokeh: ERROR: autoload.js configured with elementid 'b8c50c42-eaad-420a-8b72-dc877a29d470' but no matching script tag was found. \")\n",
       "    return false;\n",
       "  }\n",
       "\n",
       "  var js_urls = [\"https://cdn.pydata.org/bokeh/release/bokeh-0.12.13.min.js\", \"https://cdn.pydata.org/bokeh/release/bokeh-widgets-0.12.13.min.js\", \"https://cdn.pydata.org/bokeh/release/bokeh-tables-0.12.13.min.js\", \"https://cdn.pydata.org/bokeh/release/bokeh-gl-0.12.13.min.js\"];\n",
       "\n",
       "  var inline_js = [\n",
       "    function(Bokeh) {\n",
       "      Bokeh.set_log_level(\"info\");\n",
       "    },\n",
       "    \n",
       "    function(Bokeh) {\n",
       "      \n",
       "    },\n",
       "    function(Bokeh) {\n",
       "      console.log(\"Bokeh: injecting CSS: https://cdn.pydata.org/bokeh/release/bokeh-0.12.13.min.css\");\n",
       "      Bokeh.embed.inject_css(\"https://cdn.pydata.org/bokeh/release/bokeh-0.12.13.min.css\");\n",
       "      console.log(\"Bokeh: injecting CSS: https://cdn.pydata.org/bokeh/release/bokeh-widgets-0.12.13.min.css\");\n",
       "      Bokeh.embed.inject_css(\"https://cdn.pydata.org/bokeh/release/bokeh-widgets-0.12.13.min.css\");\n",
       "      console.log(\"Bokeh: injecting CSS: https://cdn.pydata.org/bokeh/release/bokeh-tables-0.12.13.min.css\");\n",
       "      Bokeh.embed.inject_css(\"https://cdn.pydata.org/bokeh/release/bokeh-tables-0.12.13.min.css\");\n",
       "    }\n",
       "  ];\n",
       "\n",
       "  function run_inline_js() {\n",
       "    \n",
       "    if ((root.Bokeh !== undefined) || (force === true)) {\n",
       "      for (var i = 0; i < inline_js.length; i++) {\n",
       "        inline_js[i].call(root, root.Bokeh);\n",
       "      }if (force === true) {\n",
       "        display_loaded();\n",
       "      }} else if (Date.now() < root._bokeh_timeout) {\n",
       "      setTimeout(run_inline_js, 100);\n",
       "    } else if (!root._bokeh_failed_load) {\n",
       "      console.log(\"Bokeh: BokehJS failed to load within specified timeout.\");\n",
       "      root._bokeh_failed_load = true;\n",
       "    } else if (force !== true) {\n",
       "      var cell = $(document.getElementById(\"b8c50c42-eaad-420a-8b72-dc877a29d470\")).parents('.cell').data().cell;\n",
       "      cell.output_area.append_execute_result(NB_LOAD_WARNING)\n",
       "    }\n",
       "\n",
       "  }\n",
       "\n",
       "  if (root._bokeh_is_loading === 0) {\n",
       "    console.log(\"Bokeh: BokehJS loaded, going straight to plotting\");\n",
       "    run_inline_js();\n",
       "  } else {\n",
       "    load_libs(js_urls, function() {\n",
       "      console.log(\"Bokeh: BokehJS plotting callback run at\", now());\n",
       "      run_inline_js();\n",
       "    });\n",
       "  }\n",
       "}(window));"
      ],
      "application/vnd.bokehjs_load.v0+json": "\n(function(root) {\n  function now() {\n    return new Date();\n  }\n\n  var force = true;\n\n  if (typeof (root._bokeh_onload_callbacks) === \"undefined\" || force === true) {\n    root._bokeh_onload_callbacks = [];\n    root._bokeh_is_loading = undefined;\n  }\n\n  \n\n  \n  if (typeof (root._bokeh_timeout) === \"undefined\" || force === true) {\n    root._bokeh_timeout = Date.now() + 5000;\n    root._bokeh_failed_load = false;\n  }\n\n  var NB_LOAD_WARNING = {'data': {'text/html':\n     \"<div style='background-color: #fdd'>\\n\"+\n     \"<p>\\n\"+\n     \"BokehJS does not appear to have successfully loaded. If loading BokehJS from CDN, this \\n\"+\n     \"may be due to a slow or bad network connection. Possible fixes:\\n\"+\n     \"</p>\\n\"+\n     \"<ul>\\n\"+\n     \"<li>re-rerun `output_notebook()` to attempt to load from CDN again, or</li>\\n\"+\n     \"<li>use INLINE resources instead, as so:</li>\\n\"+\n     \"</ul>\\n\"+\n     \"<code>\\n\"+\n     \"from bokeh.resources import INLINE\\n\"+\n     \"output_notebook(resources=INLINE)\\n\"+\n     \"</code>\\n\"+\n     \"</div>\"}};\n\n  function display_loaded() {\n    var el = document.getElementById(\"b8c50c42-eaad-420a-8b72-dc877a29d470\");\n    if (el != null) {\n      el.textContent = \"BokehJS is loading...\";\n    }\n    if (root.Bokeh !== undefined) {\n      if (el != null) {\n        el.textContent = \"BokehJS \" + root.Bokeh.version + \" successfully loaded.\";\n      }\n    } else if (Date.now() < root._bokeh_timeout) {\n      setTimeout(display_loaded, 100)\n    }\n  }\n\n\n  function run_callbacks() {\n    try {\n      root._bokeh_onload_callbacks.forEach(function(callback) { callback() });\n    }\n    finally {\n      delete root._bokeh_onload_callbacks\n    }\n    console.info(\"Bokeh: all callbacks have finished\");\n  }\n\n  function load_libs(js_urls, callback) {\n    root._bokeh_onload_callbacks.push(callback);\n    if (root._bokeh_is_loading > 0) {\n      console.log(\"Bokeh: BokehJS is being loaded, scheduling callback at\", now());\n      return null;\n    }\n    if (js_urls == null || js_urls.length === 0) {\n      run_callbacks();\n      return null;\n    }\n    console.log(\"Bokeh: BokehJS not loaded, scheduling load and callback at\", now());\n    root._bokeh_is_loading = js_urls.length;\n    for (var i = 0; i < js_urls.length; i++) {\n      var url = js_urls[i];\n      var s = document.createElement('script');\n      s.src = url;\n      s.async = false;\n      s.onreadystatechange = s.onload = function() {\n        root._bokeh_is_loading--;\n        if (root._bokeh_is_loading === 0) {\n          console.log(\"Bokeh: all BokehJS libraries loaded\");\n          run_callbacks()\n        }\n      };\n      s.onerror = function() {\n        console.warn(\"failed to load library \" + url);\n      };\n      console.log(\"Bokeh: injecting script tag for BokehJS library: \", url);\n      document.getElementsByTagName(\"head\")[0].appendChild(s);\n    }\n  };var element = document.getElementById(\"b8c50c42-eaad-420a-8b72-dc877a29d470\");\n  if (element == null) {\n    console.log(\"Bokeh: ERROR: autoload.js configured with elementid 'b8c50c42-eaad-420a-8b72-dc877a29d470' but no matching script tag was found. \")\n    return false;\n  }\n\n  var js_urls = [\"https://cdn.pydata.org/bokeh/release/bokeh-0.12.13.min.js\", \"https://cdn.pydata.org/bokeh/release/bokeh-widgets-0.12.13.min.js\", \"https://cdn.pydata.org/bokeh/release/bokeh-tables-0.12.13.min.js\", \"https://cdn.pydata.org/bokeh/release/bokeh-gl-0.12.13.min.js\"];\n\n  var inline_js = [\n    function(Bokeh) {\n      Bokeh.set_log_level(\"info\");\n    },\n    \n    function(Bokeh) {\n      \n    },\n    function(Bokeh) {\n      console.log(\"Bokeh: injecting CSS: https://cdn.pydata.org/bokeh/release/bokeh-0.12.13.min.css\");\n      Bokeh.embed.inject_css(\"https://cdn.pydata.org/bokeh/release/bokeh-0.12.13.min.css\");\n      console.log(\"Bokeh: injecting CSS: https://cdn.pydata.org/bokeh/release/bokeh-widgets-0.12.13.min.css\");\n      Bokeh.embed.inject_css(\"https://cdn.pydata.org/bokeh/release/bokeh-widgets-0.12.13.min.css\");\n      console.log(\"Bokeh: injecting CSS: https://cdn.pydata.org/bokeh/release/bokeh-tables-0.12.13.min.css\");\n      Bokeh.embed.inject_css(\"https://cdn.pydata.org/bokeh/release/bokeh-tables-0.12.13.min.css\");\n    }\n  ];\n\n  function run_inline_js() {\n    \n    if ((root.Bokeh !== undefined) || (force === true)) {\n      for (var i = 0; i < inline_js.length; i++) {\n        inline_js[i].call(root, root.Bokeh);\n      }if (force === true) {\n        display_loaded();\n      }} else if (Date.now() < root._bokeh_timeout) {\n      setTimeout(run_inline_js, 100);\n    } else if (!root._bokeh_failed_load) {\n      console.log(\"Bokeh: BokehJS failed to load within specified timeout.\");\n      root._bokeh_failed_load = true;\n    } else if (force !== true) {\n      var cell = $(document.getElementById(\"b8c50c42-eaad-420a-8b72-dc877a29d470\")).parents('.cell').data().cell;\n      cell.output_area.append_execute_result(NB_LOAD_WARNING)\n    }\n\n  }\n\n  if (root._bokeh_is_loading === 0) {\n    console.log(\"Bokeh: BokehJS loaded, going straight to plotting\");\n    run_inline_js();\n  } else {\n    load_libs(js_urls, function() {\n      console.log(\"Bokeh: BokehJS plotting callback run at\", now());\n      run_inline_js();\n    });\n  }\n}(window));"
     },
     "metadata": {},
     "output_type": "display_data"
    }
   ],
   "source": [
    "from bokeh.models import (\n",
    "    ColumnDataSource,\n",
    "    LabelSet,\n",
    "    HoverTool,\n",
    "    LinearColorMapper,\n",
    "    PrintfTickFormatter,\n",
    "    ColorBar,\n",
    "    FixedTicker, FactorRange)\n",
    "from bokeh.embed import components\n",
    "from bokeh.plotting import figure, show\n",
    "from bokeh.layouts import gridplot\n",
    "\n",
    "from bokeh.transform import factor_cmap\n",
    "from bokeh.palettes import Category20 \n",
    "\n",
    "from bokeh.io import output_notebook\n",
    "output_notebook()\n",
    "\n",
    "def visualize_data_source_stats(data_source):\n",
    "    # https://bokeh.pydata.org/en/latest/docs/user_guide/categorical.html#nested-categories\n",
    "    title = data_source.display_title\n",
    "    articles = [{\n",
    "        'year': str(article.year),\n",
    "        'label': genre_labels[article.label]\n",
    "    } for article in data_source.articles]\n",
    "\n",
    "    df = DataFrame(articles)\n",
    "\n",
    "    group_sizes = df.groupby(['year', 'label']).size().to_frame('size')\n",
    "\n",
    "    counts = list(group_sizes['size'])\n",
    "    x = list(group_sizes.index)  # year,label tuples\n",
    "\n",
    "    source = ColumnDataSource(data=dict(\n",
    "        x=x,\n",
    "        counts=counts\n",
    "    ))\n",
    "\n",
    "    p = figure(x_range=FactorRange(*x),\n",
    "               plot_height=400,\n",
    "               plot_width=1200,\n",
    "               title=\"Distribution of genres over time in \" + title,\n",
    "               toolbar_location='right',\n",
    "               tools=\"save,pan,box_zoom,reset,wheel_zoom\"\n",
    "               )\n",
    "\n",
    "    p.vbar(source=source,\n",
    "           x='x',\n",
    "           top='counts',\n",
    "           width=1,\n",
    "           line_color=\"white\",\n",
    "           fill_color=factor_cmap('x',\n",
    "                                  palette=Category20[10],\n",
    "                                  factors=sorted(list(df.label.unique())),\n",
    "                                  start=1,\n",
    "                                  end=2\n",
    "                                  )\n",
    "           )\n",
    "\n",
    "    p.x_range.range_padding = 0.1\n",
    "    p.xgrid.grid_line_color = None\n",
    "    p.yaxis.axis_label = \"Total number of instances\"\n",
    "    p.yaxis.major_label_text_font_size = '10pt'\n",
    "    p.xaxis.major_label_text_font_size = '10pt'\n",
    "    p.xaxis.major_label_orientation = \"vertical\"\n",
    "    p.legend.location = \"top_left\"\n",
    "    p.legend.orientation = \"horizontal\"\n",
    "    return p"
   ]
  },
  {
   "cell_type": "code",
   "execution_count": 45,
   "metadata": {},
   "outputs": [
    {
     "data": {
      "text/html": [
       "\n",
       "<div class=\"bk-root\">\n",
       "    <div class=\"bk-plotdiv\" id=\"40913cf9-6721-4f60-a1ae-b113bed78271\"></div>\n",
       "</div>"
      ]
     },
     "metadata": {},
     "output_type": "display_data"
    },
    {
     "data": {
      "application/javascript": [
       "(function(root) {\n",
       "  function embed_document(root) {\n",
       "    \n",
       "  var docs_json = {\"8195c31c-d0a3-4b16-bee3-2c5f6ae56c83\":{\"roots\":{\"references\":[{\"attributes\":{\"callback\":null,\"column_names\":[\"x\",\"counts\"],\"data\":{\"counts\":[12,10,8,12,2,18,12,10,10,11,12,9,12,10,11,11,11,9,12,11,11,18,11,10,12,11,10,9,10,12,11,11,12,11,11,11,5,18,10,12,10,11,10,4,9,10,11,11,10,11,11,11,5,9,10,12,11,12,4,12,11,10,10,9,12,12,9,6,12,10,10,9,10,6,11,11,11,11],\"x\":[[\"1955\",\"Achtergrond\"],[\"1955\",\"Afbeelding\"],[\"1955\",\"Brief\"],[\"1955\",\"Column\"],[\"1955\",\"Essay\"],[\"1955\",\"Fictie\"],[\"1955\",\"Interview\"],[\"1955\",\"Mededeling\"],[\"1955\",\"Nieuwsbericht\"],[\"1955\",\"Opiniestuk\"],[\"1955\",\"Overzicht\"],[\"1955\",\"Portret\"],[\"1955\",\"Recensie\"],[\"1955\",\"Reportage/feature\"],[\"1955\",\"Service\"],[\"1955\",\"Verslag\"],[\"1965\",\"Achtergrond\"],[\"1965\",\"Afbeelding\"],[\"1965\",\"Brief\"],[\"1965\",\"Column\"],[\"1965\",\"Essay\"],[\"1965\",\"Fictie\"],[\"1965\",\"Interview\"],[\"1965\",\"Mededeling\"],[\"1965\",\"Nieuwsbericht\"],[\"1965\",\"Opiniestuk\"],[\"1965\",\"Overzicht\"],[\"1965\",\"Portret\"],[\"1965\",\"Recensie\"],[\"1965\",\"Reportage/feature\"],[\"1965\",\"Service\"],[\"1965\",\"Verslag\"],[\"1975\",\"Achtergrond\"],[\"1975\",\"Afbeelding\"],[\"1975\",\"Brief\"],[\"1975\",\"Column\"],[\"1975\",\"Essay\"],[\"1975\",\"Fictie\"],[\"1975\",\"Interview\"],[\"1975\",\"Mededeling\"],[\"1975\",\"Nieuwsbericht\"],[\"1975\",\"Opiniestuk\"],[\"1975\",\"Overzicht\"],[\"1975\",\"Portret\"],[\"1975\",\"Recensie\"],[\"1975\",\"Reportage/feature\"],[\"1975\",\"Service\"],[\"1975\",\"Verslag\"],[\"1985\",\"Achtergrond\"],[\"1985\",\"Afbeelding\"],[\"1985\",\"Brief\"],[\"1985\",\"Column\"],[\"1985\",\"Essay\"],[\"1985\",\"Interview\"],[\"1985\",\"Mededeling\"],[\"1985\",\"Nieuwsbericht\"],[\"1985\",\"Opiniestuk\"],[\"1985\",\"Overzicht\"],[\"1985\",\"Portret\"],[\"1985\",\"Recensie\"],[\"1985\",\"Reportage/feature\"],[\"1985\",\"Service\"],[\"1985\",\"Verslag\"],[\"1995\",\"Achtergrond\"],[\"1995\",\"Afbeelding\"],[\"1995\",\"Brief\"],[\"1995\",\"Column\"],[\"1995\",\"Essay\"],[\"1995\",\"Interview\"],[\"1995\",\"Mededeling\"],[\"1995\",\"Nieuwsbericht\"],[\"1995\",\"Opiniestuk\"],[\"1995\",\"Overzicht\"],[\"1995\",\"Portret\"],[\"1995\",\"Recensie\"],[\"1995\",\"Reportage/feature\"],[\"1995\",\"Service\"],[\"1995\",\"Verslag\"]]}},\"id\":\"7e92ddfc-0914-4b84-9ad1-15570af7a61a\",\"type\":\"ColumnDataSource\"},{\"attributes\":{\"callback\":null,\"factors\":[[\"1955\",\"Achtergrond\"],[\"1955\",\"Afbeelding\"],[\"1955\",\"Brief\"],[\"1955\",\"Column\"],[\"1955\",\"Essay\"],[\"1955\",\"Fictie\"],[\"1955\",\"Interview\"],[\"1955\",\"Mededeling\"],[\"1955\",\"Nieuwsbericht\"],[\"1955\",\"Opiniestuk\"],[\"1955\",\"Overzicht\"],[\"1955\",\"Portret\"],[\"1955\",\"Recensie\"],[\"1955\",\"Reportage/feature\"],[\"1955\",\"Service\"],[\"1955\",\"Verslag\"],[\"1965\",\"Achtergrond\"],[\"1965\",\"Afbeelding\"],[\"1965\",\"Brief\"],[\"1965\",\"Column\"],[\"1965\",\"Essay\"],[\"1965\",\"Fictie\"],[\"1965\",\"Interview\"],[\"1965\",\"Mededeling\"],[\"1965\",\"Nieuwsbericht\"],[\"1965\",\"Opiniestuk\"],[\"1965\",\"Overzicht\"],[\"1965\",\"Portret\"],[\"1965\",\"Recensie\"],[\"1965\",\"Reportage/feature\"],[\"1965\",\"Service\"],[\"1965\",\"Verslag\"],[\"1975\",\"Achtergrond\"],[\"1975\",\"Afbeelding\"],[\"1975\",\"Brief\"],[\"1975\",\"Column\"],[\"1975\",\"Essay\"],[\"1975\",\"Fictie\"],[\"1975\",\"Interview\"],[\"1975\",\"Mededeling\"],[\"1975\",\"Nieuwsbericht\"],[\"1975\",\"Opiniestuk\"],[\"1975\",\"Overzicht\"],[\"1975\",\"Portret\"],[\"1975\",\"Recensie\"],[\"1975\",\"Reportage/feature\"],[\"1975\",\"Service\"],[\"1975\",\"Verslag\"],[\"1985\",\"Achtergrond\"],[\"1985\",\"Afbeelding\"],[\"1985\",\"Brief\"],[\"1985\",\"Column\"],[\"1985\",\"Essay\"],[\"1985\",\"Interview\"],[\"1985\",\"Mededeling\"],[\"1985\",\"Nieuwsbericht\"],[\"1985\",\"Opiniestuk\"],[\"1985\",\"Overzicht\"],[\"1985\",\"Portret\"],[\"1985\",\"Recensie\"],[\"1985\",\"Reportage/feature\"],[\"1985\",\"Service\"],[\"1985\",\"Verslag\"],[\"1995\",\"Achtergrond\"],[\"1995\",\"Afbeelding\"],[\"1995\",\"Brief\"],[\"1995\",\"Column\"],[\"1995\",\"Essay\"],[\"1995\",\"Interview\"],[\"1995\",\"Mededeling\"],[\"1995\",\"Nieuwsbericht\"],[\"1995\",\"Opiniestuk\"],[\"1995\",\"Overzicht\"],[\"1995\",\"Portret\"],[\"1995\",\"Recensie\"],[\"1995\",\"Reportage/feature\"],[\"1995\",\"Service\"],[\"1995\",\"Verslag\"]],\"range_padding\":0.1},\"id\":\"3c2156c1-53c1-432c-b379-fcff255c3529\",\"type\":\"FactorRange\"},{\"attributes\":{},\"id\":\"f0daba7e-67f5-4905-9aa5-d92112c52d99\",\"type\":\"LinearScale\"},{\"attributes\":{},\"id\":\"e872e427-4763-42df-923d-dcea5b299854\",\"type\":\"WheelZoomTool\"},{\"attributes\":{},\"id\":\"4dac7b24-f41e-442e-9cb4-1f0fcc746968\",\"type\":\"PanTool\"},{\"attributes\":{},\"id\":\"f50ac19d-30ab-47ec-93a9-d93120f69f8b\",\"type\":\"CategoricalScale\"},{\"attributes\":{\"bottom_units\":\"screen\",\"fill_alpha\":{\"value\":0.5},\"fill_color\":{\"value\":\"lightgrey\"},\"left_units\":\"screen\",\"level\":\"overlay\",\"line_alpha\":{\"value\":1.0},\"line_color\":{\"value\":\"black\"},\"line_dash\":[4,4],\"line_width\":{\"value\":2},\"plot\":null,\"render_mode\":\"css\",\"right_units\":\"screen\",\"top_units\":\"screen\"},\"id\":\"811963be-1548-4cc7-a4b9-102195a248cd\",\"type\":\"BoxAnnotation\"},{\"attributes\":{\"data_source\":{\"id\":\"7e92ddfc-0914-4b84-9ad1-15570af7a61a\",\"type\":\"ColumnDataSource\"},\"glyph\":{\"id\":\"2891f1e6-35e4-463a-9dec-a68d87c99dcf\",\"type\":\"VBar\"},\"hover_glyph\":null,\"muted_glyph\":null,\"nonselection_glyph\":{\"id\":\"d9a45984-68d2-4210-b608-1e7292be6095\",\"type\":\"VBar\"},\"selection_glyph\":null,\"view\":{\"id\":\"de6c0945-980c-4194-a0f8-27b539147106\",\"type\":\"CDSView\"}},\"id\":\"7f20364b-87da-4ab0-95a6-2127a0490327\",\"type\":\"GlyphRenderer\"},{\"attributes\":{},\"id\":\"a93f899c-dfce-46a2-be36-95d49975186a\",\"type\":\"BasicTicker\"},{\"attributes\":{},\"id\":\"eba3496f-4359-41c1-bb0d-5f703cdf9f89\",\"type\":\"CategoricalTickFormatter\"},{\"attributes\":{},\"id\":\"b984e8cc-7dff-4bc5-b960-df29f993a606\",\"type\":\"CategoricalTicker\"},{\"attributes\":{},\"id\":\"51d8a170-3c16-4936-84b5-7130e3329d2f\",\"type\":\"ResetTool\"},{\"attributes\":{},\"id\":\"8aaa8f83-b882-43c5-9ad2-2e6a5652bd5f\",\"type\":\"SaveTool\"},{\"attributes\":{\"active_drag\":\"auto\",\"active_inspect\":\"auto\",\"active_scroll\":\"auto\",\"active_tap\":\"auto\",\"tools\":[{\"id\":\"8aaa8f83-b882-43c5-9ad2-2e6a5652bd5f\",\"type\":\"SaveTool\"},{\"id\":\"4dac7b24-f41e-442e-9cb4-1f0fcc746968\",\"type\":\"PanTool\"},{\"id\":\"d74285f4-38f9-4808-9be9-054acaadc9e6\",\"type\":\"BoxZoomTool\"},{\"id\":\"51d8a170-3c16-4936-84b5-7130e3329d2f\",\"type\":\"ResetTool\"},{\"id\":\"e872e427-4763-42df-923d-dcea5b299854\",\"type\":\"WheelZoomTool\"}]},\"id\":\"b9850903-ced0-4c45-9a67-d12ca4845ba9\",\"type\":\"Toolbar\"},{\"attributes\":{\"source\":{\"id\":\"7e92ddfc-0914-4b84-9ad1-15570af7a61a\",\"type\":\"ColumnDataSource\"}},\"id\":\"de6c0945-980c-4194-a0f8-27b539147106\",\"type\":\"CDSView\"},{\"attributes\":{\"below\":[{\"id\":\"3df120e3-3e29-4408-adc4-6f9adddbd66b\",\"type\":\"CategoricalAxis\"}],\"left\":[{\"id\":\"f00370a6-bbf6-4a6f-bcfe-cf2a8f062c25\",\"type\":\"LinearAxis\"}],\"plot_height\":400,\"plot_width\":1200,\"renderers\":[{\"id\":\"3df120e3-3e29-4408-adc4-6f9adddbd66b\",\"type\":\"CategoricalAxis\"},{\"id\":\"c5b10010-eb2c-471b-a290-93e82bd22a78\",\"type\":\"Grid\"},{\"id\":\"f00370a6-bbf6-4a6f-bcfe-cf2a8f062c25\",\"type\":\"LinearAxis\"},{\"id\":\"2cfc7eaf-16b8-473c-955a-8566eac258da\",\"type\":\"Grid\"},{\"id\":\"811963be-1548-4cc7-a4b9-102195a248cd\",\"type\":\"BoxAnnotation\"},{\"id\":\"7f20364b-87da-4ab0-95a6-2127a0490327\",\"type\":\"GlyphRenderer\"}],\"title\":{\"id\":\"14d21a55-5e49-4cd7-ade3-0b47e597c4aa\",\"type\":\"Title\"},\"toolbar\":{\"id\":\"b9850903-ced0-4c45-9a67-d12ca4845ba9\",\"type\":\"Toolbar\"},\"x_range\":{\"id\":\"3c2156c1-53c1-432c-b379-fcff255c3529\",\"type\":\"FactorRange\"},\"x_scale\":{\"id\":\"f50ac19d-30ab-47ec-93a9-d93120f69f8b\",\"type\":\"CategoricalScale\"},\"y_range\":{\"id\":\"87271369-3d4c-4c15-814f-3ba3ad75e96b\",\"type\":\"DataRange1d\"},\"y_scale\":{\"id\":\"f0daba7e-67f5-4905-9aa5-d92112c52d99\",\"type\":\"LinearScale\"}},\"id\":\"f68e5a37-9d2c-4ed7-9639-9361a912e8ae\",\"subtype\":\"Figure\",\"type\":\"Plot\"},{\"attributes\":{\"fill_alpha\":{\"value\":0.1},\"fill_color\":{\"value\":\"#1f77b4\"},\"line_alpha\":{\"value\":0.1},\"line_color\":{\"value\":\"#1f77b4\"},\"top\":{\"field\":\"counts\"},\"width\":{\"value\":1},\"x\":{\"field\":\"x\"}},\"id\":\"d9a45984-68d2-4210-b608-1e7292be6095\",\"type\":\"VBar\"},{\"attributes\":{\"overlay\":{\"id\":\"811963be-1548-4cc7-a4b9-102195a248cd\",\"type\":\"BoxAnnotation\"}},\"id\":\"d74285f4-38f9-4808-9be9-054acaadc9e6\",\"type\":\"BoxZoomTool\"},{\"attributes\":{\"plot\":null,\"text\":\"Distribution of genres over time in NGBS Training\"},\"id\":\"14d21a55-5e49-4cd7-ade3-0b47e597c4aa\",\"type\":\"Title\"},{\"attributes\":{},\"id\":\"61498668-1dc2-4f43-83fb-47ea613f42b9\",\"type\":\"BasicTickFormatter\"},{\"attributes\":{\"axis_label\":\"Total number of instances\",\"formatter\":{\"id\":\"61498668-1dc2-4f43-83fb-47ea613f42b9\",\"type\":\"BasicTickFormatter\"},\"major_label_text_font_size\":{\"value\":\"10pt\"},\"plot\":{\"id\":\"f68e5a37-9d2c-4ed7-9639-9361a912e8ae\",\"subtype\":\"Figure\",\"type\":\"Plot\"},\"ticker\":{\"id\":\"a93f899c-dfce-46a2-be36-95d49975186a\",\"type\":\"BasicTicker\"}},\"id\":\"f00370a6-bbf6-4a6f-bcfe-cf2a8f062c25\",\"type\":\"LinearAxis\"},{\"attributes\":{\"callback\":null},\"id\":\"87271369-3d4c-4c15-814f-3ba3ad75e96b\",\"type\":\"DataRange1d\"},{\"attributes\":{\"grid_line_color\":{\"value\":null},\"plot\":{\"id\":\"f68e5a37-9d2c-4ed7-9639-9361a912e8ae\",\"subtype\":\"Figure\",\"type\":\"Plot\"},\"ticker\":{\"id\":\"b984e8cc-7dff-4bc5-b960-df29f993a606\",\"type\":\"CategoricalTicker\"}},\"id\":\"c5b10010-eb2c-471b-a290-93e82bd22a78\",\"type\":\"Grid\"},{\"attributes\":{\"end\":2,\"factors\":[\"Achtergrond\",\"Afbeelding\",\"Brief\",\"Column\",\"Essay\",\"Fictie\",\"Interview\",\"Mededeling\",\"Nieuwsbericht\",\"Opiniestuk\",\"Overzicht\",\"Portret\",\"Recensie\",\"Reportage/feature\",\"Service\",\"Verslag\"],\"palette\":[\"#1f77b4\",\"#aec7e8\",\"#ff7f0e\",\"#ffbb78\",\"#2ca02c\",\"#98df8a\",\"#d62728\",\"#ff9896\",\"#9467bd\",\"#c5b0d5\"],\"start\":1},\"id\":\"7e171da7-d15e-4a69-82d1-a9a94e743e9b\",\"type\":\"CategoricalColorMapper\"},{\"attributes\":{\"formatter\":{\"id\":\"eba3496f-4359-41c1-bb0d-5f703cdf9f89\",\"type\":\"CategoricalTickFormatter\"},\"major_label_orientation\":\"vertical\",\"major_label_text_font_size\":{\"value\":\"10pt\"},\"plot\":{\"id\":\"f68e5a37-9d2c-4ed7-9639-9361a912e8ae\",\"subtype\":\"Figure\",\"type\":\"Plot\"},\"ticker\":{\"id\":\"b984e8cc-7dff-4bc5-b960-df29f993a606\",\"type\":\"CategoricalTicker\"}},\"id\":\"3df120e3-3e29-4408-adc4-6f9adddbd66b\",\"type\":\"CategoricalAxis\"},{\"attributes\":{\"fill_color\":{\"field\":\"x\",\"transform\":{\"id\":\"7e171da7-d15e-4a69-82d1-a9a94e743e9b\",\"type\":\"CategoricalColorMapper\"}},\"line_color\":{\"value\":\"white\"},\"top\":{\"field\":\"counts\"},\"width\":{\"value\":1},\"x\":{\"field\":\"x\"}},\"id\":\"2891f1e6-35e4-463a-9dec-a68d87c99dcf\",\"type\":\"VBar\"},{\"attributes\":{\"dimension\":1,\"plot\":{\"id\":\"f68e5a37-9d2c-4ed7-9639-9361a912e8ae\",\"subtype\":\"Figure\",\"type\":\"Plot\"},\"ticker\":{\"id\":\"a93f899c-dfce-46a2-be36-95d49975186a\",\"type\":\"BasicTicker\"}},\"id\":\"2cfc7eaf-16b8-473c-955a-8566eac258da\",\"type\":\"Grid\"}],\"root_ids\":[\"f68e5a37-9d2c-4ed7-9639-9361a912e8ae\"]},\"title\":\"Bokeh Application\",\"version\":\"0.12.13\"}};\n",
       "  var render_items = [{\"docid\":\"8195c31c-d0a3-4b16-bee3-2c5f6ae56c83\",\"elementid\":\"40913cf9-6721-4f60-a1ae-b113bed78271\",\"modelid\":\"f68e5a37-9d2c-4ed7-9639-9361a912e8ae\"}];\n",
       "  root.Bokeh.embed.embed_items_notebook(docs_json, render_items);\n",
       "\n",
       "  }\n",
       "  if (root.Bokeh !== undefined) {\n",
       "    embed_document(root);\n",
       "  } else {\n",
       "    var attempts = 0;\n",
       "    var timer = setInterval(function(root) {\n",
       "      if (root.Bokeh !== undefined) {\n",
       "        embed_document(root);\n",
       "        clearInterval(timer);\n",
       "      }\n",
       "      attempts++;\n",
       "      if (attempts > 100) {\n",
       "        console.log(\"Bokeh: ERROR: Unable to run BokehJS code because BokehJS library is missing\")\n",
       "        clearInterval(timer);\n",
       "      }\n",
       "    }, 10, root)\n",
       "  }\n",
       "})(window);"
      ],
      "application/vnd.bokehjs_exec.v0+json": ""
     },
     "metadata": {
      "application/vnd.bokehjs_exec.v0+json": {
       "id": "f68e5a37-9d2c-4ed7-9639-9361a912e8ae"
      }
     },
     "output_type": "display_data"
    }
   ],
   "source": [
    "show(visualize_data_source_stats(ds))"
   ]
  },
  {
   "cell_type": "markdown",
   "metadata": {},
   "source": [
    "## Unicode\n",
    "Using print will properly display unicode characters in the Notebook, otherwise they will be escaped"
   ]
  },
  {
   "cell_type": "code",
   "execution_count": 22,
   "metadata": {},
   "outputs": [
    {
     "data": {
      "text/plain": [
       "u\"Margaret \\u2022 fi\\xa3Lft \\xbb 'lk dacht dat | de rSffti ! democratie \\\\.y langza\\xa3\\xa3\\xc9i ? merhand genoeg gevorderd was \\u2022 om kleinzielige vertoningen'als het afgeketste huwelijk tussen Margaret en Peter To'wnsend overbodig te 'maken . Het `` valt me tegen , - dat : de Prinses niet het goede voorbeeld van haar oom , de hertog van Windsor , heeft gevolgd , die er zelfs de ningskroon voor liet schie- ' ten . En dat alleen vanwege het sprookje van het zogenaamde adellijke bloed ! ' -\\u25a0 : \\u25a0 \\u2022 LOES SCHIPPERS Arnhem . ( In hoeverre inderdaad de religieuze bezwaren tegen een huwelijk met een gescheiden man bij \\u25a0 Margaret \\u25a0 hebben meegespeeld staat ons -als buitenstaander niet ter beoordeling . Red . HVV . ) '\""
      ]
     },
     "execution_count": 22,
     "metadata": {},
     "output_type": "execute_result"
    }
   ],
   "source": [
    "ds.articles[1].raw_text"
   ]
  },
  {
   "cell_type": "code",
   "execution_count": 23,
   "metadata": {},
   "outputs": [
    {
     "name": "stdout",
     "output_type": "stream",
     "text": [
      "Margaret • fi£Lft » 'lk dacht dat | de rSffti ! democratie \\.y langza££Éi ? merhand genoeg gevorderd was • om kleinzielige vertoningen'als het afgeketste huwelijk tussen Margaret en Peter To'wnsend overbodig te 'maken . Het `` valt me tegen , - dat : de Prinses niet het goede voorbeeld van haar oom , de hertog van Windsor , heeft gevolgd , die er zelfs de ningskroon voor liet schie- ' ten . En dat alleen vanwege het sprookje van het zogenaamde adellijke bloed ! ' -■ : ■ • LOES SCHIPPERS Arnhem . ( In hoeverre inderdaad de religieuze bezwaren tegen een huwelijk met een gescheiden man bij ■ Margaret ■ hebben meegespeeld staat ons -als buitenstaander niet ter beoordeling . Red . HVV . ) '\n"
     ]
    }
   ],
   "source": [
    "print ds.articles[1].raw_text"
   ]
  },
  {
   "cell_type": "code",
   "execution_count": null,
   "metadata": {},
   "outputs": [],
   "source": []
  }
 ],
 "metadata": {
  "kernelspec": {
   "display_name": "Python 2",
   "language": "python",
   "name": "python2"
  },
  "language_info": {
   "codemirror_mode": {
    "name": "ipython",
    "version": 2
   },
   "file_extension": ".py",
   "mimetype": "text/x-python",
   "name": "python",
   "nbconvert_exporter": "python",
   "pygments_lexer": "ipython2",
   "version": "2.7.15"
  }
 },
 "nbformat": 4,
 "nbformat_minor": 2
}

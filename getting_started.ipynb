{
 "cells": [
  {
   "cell_type": "markdown",
   "metadata": {},
   "source": [
    "# NewsGAC\n",
    "\n",
    "Welcome to NewsGAC's Jupyter environment. All code is hosted in [Bitbucket](https://bitbucket.org/newsgac/newsgac_docker_dev/)."
   ]
  },
  {
   "cell_type": "markdown",
   "metadata": {},
   "source": [
    "# Table of contents\n",
    "1. [Frontend](#Frontend)\n",
    "2. [Object persistence](#Object-persistence)\n",
    "3. [Data Sources](#Data-sources)\n",
    "4. [Pipelines](#Pipelines)"
   ]
  },
  {
   "cell_type": "markdown",
   "metadata": {},
   "source": [
    "## Frontend\n",
    "Access the frontend through [https://newsgac.project.cwi.nl/](https://newsgac.project.cwi.nl/)"
   ]
  },
  {
   "cell_type": "markdown",
   "metadata": {},
   "source": [
    "## Object persistence\n",
    "Models are saved in a MongoDB, we're using `pymodm` as an ORM. [Check the docs here](https://pymodm.readthedocs.io/en/latest/getting-started.html). If you want to interact with the Mongo DB always first import the database:"
   ]
  },
  {
   "cell_type": "code",
   "execution_count": 15,
   "metadata": {},
   "outputs": [
    {
     "data": {
      "text/plain": [
       "{'_id': <pymodm.fields.EmailField at 0x7fb5f975a7d0>,\n",
       " 'created': <pymodm.fields.DateTimeField at 0x7fb5f975a8d0>,\n",
       " 'name': <pymodm.fields.CharField at 0x7fb5f975a850>,\n",
       " 'password': <newsgac.common.fields.PasswordField at 0x7fb5f975a810>,\n",
       " 'surname': <pymodm.fields.CharField at 0x7fb5f975a890>,\n",
       " 'updated': <pymodm.fields.DateTimeField at 0x7fb5f975a910>}"
      ]
     },
     "execution_count": 15,
     "metadata": {},
     "output_type": "execute_result"
    }
   ],
   "source": [
    "from newsgac import database\n",
    "from newsgac.users.models import User\n",
    "User._mongometa.fields_dict"
   ]
  },
  {
   "cell_type": "code",
   "execution_count": 26,
   "metadata": {},
   "outputs": [
    {
     "data": {
      "text/plain": [
       "[(u'test@test.com', u'test'),\n",
       " (u'erikt@xs4all.nl', u'erikt'),\n",
       " (u'a@b.c', u'erikt')]"
      ]
     },
     "execution_count": 26,
     "metadata": {},
     "output_type": "execute_result"
    }
   ],
   "source": [
    "[(u.pk, u.name) for u in User.objects.all()]"
   ]
  },
  {
   "cell_type": "markdown",
   "metadata": {},
   "source": [
    "## Data sources\n",
    "Data files can be uploaded through the UI and they will be available as `Data sources`. [Check this notebook](data_sources.ipynb) for some examples of how to deal with them."
   ]
  },
  {
   "cell_type": "markdown",
   "metadata": {},
   "source": [
    "## Pipelines\n",
    "[See this notebook](pipelines.ipynb)"
   ]
  },
  {
   "cell_type": "code",
   "execution_count": null,
   "metadata": {},
   "outputs": [],
   "source": []
  }
 ],
 "metadata": {
  "kernelspec": {
   "display_name": "Python 2",
   "language": "python",
   "name": "python2"
  },
  "language_info": {
   "codemirror_mode": {
    "name": "ipython",
    "version": 2
   },
   "file_extension": ".py",
   "mimetype": "text/x-python",
   "name": "python",
   "nbconvert_exporter": "python",
   "pygments_lexer": "ipython2",
   "version": "2.7.15"
  }
 },
 "nbformat": 4,
 "nbformat_minor": 2
}

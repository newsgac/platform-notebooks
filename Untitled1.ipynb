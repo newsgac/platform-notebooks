{
 "cells": [
  {
   "cell_type": "code",
   "execution_count": 36,
   "metadata": {},
   "outputs": [],
   "source": [
    "from newsgac import database\n",
    "from newsgac.data_sources.models import DataSource\n",
    "DataSource.__repr__ = lambda self: str({ 'display_title': self.display_title })"
   ]
  },
  {
   "cell_type": "code",
   "execution_count": 37,
   "metadata": {},
   "outputs": [
    {
     "data": {
      "text/plain": [
       "[{'display_title': u'N2BGS Training'},\n",
       " {'display_title': u'N2BGS Testing'},\n",
       " {'display_title': u'Linked NRC (2930)'},\n",
       " {'display_title': u'BOW + 5 features (N2BGS train)'},\n",
       " {'display_title': u'BOW + 5 features (N2BGS test)'},\n",
       " {'display_title': u'nrc-1950-1994-a.txt'},\n",
       " {'display_title': u'nrc-1950-1994-b.txt'},\n",
       " {'display_title': u'nrc-1950-1994-c.txt'},\n",
       " {'display_title': u'nrc-1950-1994-d.txt'},\n",
       " {'display_title': u'nrc-1950-1994-e.txt'},\n",
       " {'display_title': u'telegraaf-1950-1994-a.txt'},\n",
       " {'display_title': u'telegraaf-1950-1994-b.txt'},\n",
       " {'display_title': u'telegraaf-1950-1994-c.txt'},\n",
       " {'display_title': u'telegraaf-1950-1994-d.txt'},\n",
       " {'display_title': u'telegraaf-1950-1994-e.txt'},\n",
       " {'display_title': u'volkskrant-1950-1995-a.txt'},\n",
       " {'display_title': u'volkskrant-1950-1995-b.txt'},\n",
       " {'display_title': u'volkskrant-1950-1995-c.txt'},\n",
       " {'display_title': u'volkskrant-1950-1995-d.txt'},\n",
       " {'display_title': u'volkskrant-1950-1995-e.txt'},\n",
       " {'display_title': u'nrc-1965.txt'},\n",
       " {'display_title': u'nrc-1985.txt'},\n",
       " {'display_title': u'BOW + 9 features (N2BGS train)'},\n",
       " {'display_title': u'BOW + 9 features (N2BGS test)'},\n",
       " {'display_title': u'Linked NRC (2930/9 features)'},\n",
       " {'display_title': u'BOW Train unique (9 features)'},\n",
       " {'display_title': u'BOW Test unique (9 features)'},\n",
       " {'display_title': u'Linked NRC (unique/9 features)'},\n",
       " {'display_title': u'BOW Train unique (N3BGS/9 features)'},\n",
       " {'display_title': u'N3BGS FROG Test'},\n",
       " {'display_title': u'N3BGS FROG Train'},\n",
       " {'display_title': u'BOW Test unique (N3BGS/9 features)'},\n",
       " {'display_title': u'BOW Test unique (N3BGS/9 features/collapsed)'},\n",
       " {'display_title': u'Linked NRC (2930 articles)'},\n",
       " {'display_title': u'Combined N3BGS/Linked NRC (3884)'}]"
      ]
     },
     "execution_count": 37,
     "metadata": {},
     "output_type": "execute_result"
    }
   ],
   "source": [
    "list(DataSource.objects.all())"
   ]
  },
  {
   "cell_type": "code",
   "execution_count": 38,
   "metadata": {},
   "outputs": [
    {
     "data": {
      "text/plain": [
       "817"
      ]
     },
     "execution_count": 38,
     "metadata": {},
     "output_type": "execute_result"
    }
   ],
   "source": [
    "len(DataSource.objects.first().articles)"
   ]
  },
  {
   "cell_type": "code",
   "execution_count": 39,
   "metadata": {},
   "outputs": [],
   "source": [
    "d = DataSource.objects.raw(dict(display_title='Linked NRC (2930 articles)')).first()"
   ]
  },
  {
   "cell_type": "code",
   "execution_count": 11,
   "metadata": {},
   "outputs": [
    {
     "data": {
      "text/plain": [
       "Article(date=datetime.datetime(1985, 6, 5, 0, 0), _id=ObjectId('5c347e7f8e76630039ab8aec'), year=1985, raw_text=u\"Proces in Milaan tegen 'bankier van God ' Michele Sindona begonnen Advocaat betwist getuigenissen Door onze correspondent RIK RENSEN ROME/MILAAN , 5 juni \\u2014 De advocaat van de voormalige bankier Michele Sindona zorgde op de eerste dag van zijn proces in Milaan al meteen voor vuurwerk . In een uitgebreid betoog verklaarde hij de getuigenissen dat Sindona schuldig zou zijn aan moord ongeldig . Sindona 's verdediger Oreste Dominioni vroeg de rechtbank in Milaan dan ook de getuigenissen te schrappen . De Siciliaanse bankier Sindona , zo hebben verscheidene getuigen verklaard , zou opdracht hebben gegeven de Italiaanse advocaat Giorgio Ambrosoli te vermoorden Deze advocaat was belast met het onderzoek naar het faillissement van Sindona 's bank , ,Banca Privata Italiana '' , \\xe9\\xe9n van de banken die deel uitmaakte van het gigantische financi\\xeble imperium van de Siciliaan , dat in 1974 ineenstortte . Advocaat Ambrosoli werd op 12 juli 1979 doodgeschoten door de Amerikaan William Arico . Arico werd in de Verenigde Staten opgepakt en belandde in een gevangenis in New York . Hij werd doodgeschoten bij een ontsnappingspoging uit deze gevangenis . Onwettig Maar voor zijn dood had hij een bekentenis gedaan aan FBIagent Michael Mott en de assistent van de Newyorkse officier van justitie Charly Ross . Arico zou hebben verteld dat hij advocaat Giorgio Ambrosoli in opdracht van Sindona had doodgeschoten . Hij zou bereid zijn geweest die verklaring te herhalen als hij \\xe9n niet aan Itali\\xeb zou worden uitgeleverd en als hij niet langer dan vijf jaar in de Amerikaanse gevangenis zou hoeven doorbrengen . De verdediging van Sindona betoogde gisteren dat deze getuigenis volgens de Amerikaanse wet misschien van waarde is , maar hij is volgens de Italiaanse wet ongeldig . Michel Sindona werd gistermorgen om half tien geflankeerd door een aantal carabinieri de rechtszaal binnengebracht en werd , zoals dat hier bij belangrijke processen gebruikelijk is , in een levensgrote kooi geplaatst . Daarna werd de Italiaanse Amerikaan Robert Venetucci de rechtszaal binnengeleid . Hij moest plaatsnemen in de kooi naast die van Sindona . De televisiecamera 's registreerden duidelijk zijn groet aan Sindona : , ,How are you . Sir ? '' Venetucci ging daarna zitten en stak een sigaret op . Ook aanwezig was de weduwe van de vermoorde advocaat Ambrosoli , die zes jaar op dit proces heeft moeten wachten . Tijdens het proces zal eerst de moord op Ambrosoli worden behandeld , daarna zal uitgebreid aandacht worden besteed aan het faillissement van Sindona 's bank \\u201eBanca Privata Italiana '' . Volgens de beschuldigingen is bij dat faillissement traude gepleegd en zijn Honderden kleine aandeelhouders hiervan de dupe geworden . Nadat de gebruikelijke openingsceremonie - het voorlezen van de namen van de verdachten en het voorlezen van de namen van de eerste getuigen - voorbij was , gaf rechter Camillo Passerini het woord aan de verdediging van Sindona . Getuigen Verdediger Oreste Dominioni stelde de rechtbank drie vragen : Hij vroeg de rechtbank ten eerste de zoon van Sindona , Nino Sindona , als getuige te mogen horen . Twee jaar geleden heeft Nino in een geruchtmakend vraaggesprek in het Amerikaanse blad New York Magazine gezegd dat advocaat Ambrosoli in opdracht van zijn vader zou zijn vermoord . Zijn vader , zo vertelde hij aan de journalist Luigi di Fonzo , had hem dit verteld . Bovendien wilde de verdediging de Amerikaanse advocaat van Sindona , Robert Costello horen . Costello heeft Sindona in Amerika verdedigd toen hij terecht stond voor het faillissement van de Franklin National Bank . Sindona werd in de VS al tot 25 jaar gevangenisstraf veroordeeld . Costello zou in de Verenigde Staten onder ede hebben verklaard dat de Amerikaanse huurmoordenaar Arico nooit een voor Sindona belastende verklaring heeft afgelegd . Ten derde vroeg Sindona 's verdediging de FBI-agent Michael Mott en de assistent-officier van justitie Charly Ross op de lijst van getuigen te mogen zetten . De rechtbank in Milaan zal morgen op de vragen van Sindona 's verdediging antwoorden en zal ook uitsluitsel geven of eventuele verklaringen van Arico die belastend zijn voor Sindona volgens de Italiaanse wet wel of niet geldig zijn . De Siciliaanse financier Michele Sindona wordt voorgeleid voor de rechtbank in Milaan ( foto Reuter )\", label=3)"
      ]
     },
     "execution_count": 11,
     "metadata": {},
     "output_type": "execute_result"
    }
   ],
   "source": [
    "d.articles[0]"
   ]
  },
  {
   "cell_type": "code",
   "execution_count": null,
   "metadata": {},
   "outputs": [],
   "source": []
  }
 ],
 "metadata": {
  "kernelspec": {
   "display_name": "Python 2",
   "language": "python",
   "name": "python2"
  },
  "language_info": {
   "codemirror_mode": {
    "name": "ipython",
    "version": 2
   },
   "file_extension": ".py",
   "mimetype": "text/x-python",
   "name": "python",
   "nbconvert_exporter": "python",
   "pygments_lexer": "ipython2",
   "version": "2.7.15"
  }
 },
 "nbformat": 4,
 "nbformat_minor": 2
}

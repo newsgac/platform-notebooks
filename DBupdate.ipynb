{
 "cells": [
  {
   "cell_type": "code",
   "execution_count": 1,
   "metadata": {},
   "outputs": [
    {
     "name": "stdout",
     "output_type": "stream",
     "text": [
      "Requirement already satisfied: passlib in /opt/conda/envs/py27/lib/python2.7/site-packages (1.7.1)\n",
      "Requirement already satisfied: flask in /opt/conda/envs/py27/lib/python2.7/site-packages (0.12)\n",
      "Requirement already satisfied: itsdangerous>=0.21 in /opt/conda/envs/py27/lib/python2.7/site-packages (from flask) (1.1.0)\n",
      "Requirement already satisfied: click>=2.0 in /opt/conda/envs/py27/lib/python2.7/site-packages (from flask) (7.0)\n",
      "Requirement already satisfied: Jinja2>=2.4 in /opt/conda/envs/py27/lib/python2.7/site-packages (from flask) (2.10)\n",
      "Requirement already satisfied: Werkzeug>=0.7 in /opt/conda/envs/py27/lib/python2.7/site-packages (from flask) (0.14.1)\n",
      "Requirement already satisfied: MarkupSafe>=0.23 in /opt/conda/envs/py27/lib/python2.7/site-packages (from Jinja2>=2.4->flask) (1.0)\n",
      "Requirement already satisfied: dill in /opt/conda/envs/py27/lib/python2.7/site-packages (0.2.7.1)\n",
      "Requirement already satisfied: pymodm in /opt/conda/envs/py27/lib/python2.7/site-packages (0.4.1)\n",
      "Requirement already satisfied: ipaddress in /opt/conda/envs/py27/lib/python2.7/site-packages (from pymodm) (1.0.22)\n",
      "Requirement already satisfied: pymongo<4.0,>=3.4 in /opt/conda/envs/py27/lib/python2.7/site-packages (from pymodm) (3.7.2)\n"
     ]
    }
   ],
   "source": [
    "# import sys\n",
    "# !{sys.executable} -m pip install passlib --user\n",
    "# !{sys.executable} -m pip install flask --user\n",
    "# !{sys.executable} -m pip install dill --user\n",
    "# !{sys.executable} -m pip install pymodm --user"
   ]
  },
  {
   "cell_type": "code",
   "execution_count": 2,
   "metadata": {},
   "outputs": [
    {
     "name": "stdout",
     "output_type": "stream",
     "text": [
      "('Found ', 0, ' other genre in documents..')\n",
      "('Found ', 817, ' duplicate(s) in documents..')\n",
      "('Found ', 0, ' other genre in documents..')\n",
      "('Found ', 91, ' duplicate(s) in documents..')\n",
      "('Found ', 0, ' other genre in documents..')\n",
      "('Found ', 2930, ' duplicate(s) in documents..')\n",
      "('Found ', 0, ' other genre in documents..')\n",
      "('Found ', 817, ' duplicate(s) in documents..')\n",
      "('Found ', 0, ' other genre in documents..')\n",
      "('Found ', 91, ' duplicate(s) in documents..')\n",
      "('Found ', 0, ' other genre in documents..')\n",
      "('Found ', 3000, ' duplicate(s) in documents..')\n",
      "('Found ', 0, ' other genre in documents..')\n",
      "('Found ', 3000, ' duplicate(s) in documents..')\n",
      "('Found ', 0, ' other genre in documents..')\n",
      "('Found ', 3000, ' duplicate(s) in documents..')\n",
      "('Found ', 0, ' other genre in documents..')\n",
      "('Found ', 3000, ' duplicate(s) in documents..')\n",
      "('Found ', 0, ' other genre in documents..')\n",
      "('Found ', 2983, ' duplicate(s) in documents..')\n",
      "('Found ', 0, ' other genre in documents..')\n",
      "('Found ', 6000, ' duplicate(s) in documents..')\n",
      "('Found ', 0, ' other genre in documents..')\n",
      "('Found ', 6000, ' duplicate(s) in documents..')\n",
      "('Found ', 0, ' other genre in documents..')\n",
      "('Found ', 6000, ' duplicate(s) in documents..')\n",
      "('Found ', 0, ' other genre in documents..')\n",
      "('Found ', 6000, ' duplicate(s) in documents..')\n",
      "('Found ', 0, ' other genre in documents..')\n",
      "('Found ', 2156, ' duplicate(s) in documents..')\n",
      "('Found ', 0, ' other genre in documents..')\n",
      "('Found ', 4000, ' duplicate(s) in documents..')\n",
      "('Found ', 0, ' other genre in documents..')\n",
      "('Found ', 4000, ' duplicate(s) in documents..')\n",
      "('Found ', 0, ' other genre in documents..')\n",
      "('Found ', 4000, ' duplicate(s) in documents..')\n",
      "('Found ', 0, ' other genre in documents..')\n",
      "('Found ', 4000, ' duplicate(s) in documents..')\n",
      "('Found ', 0, ' other genre in documents..')\n",
      "('Found ', 2396, ' duplicate(s) in documents..')\n",
      "('Found ', 0, ' other genre in documents..')\n",
      "('Found ', 1570, ' duplicate(s) in documents..')\n",
      "('Found ', 0, ' other genre in documents..')\n",
      "('Found ', 1485, ' duplicate(s) in documents..')\n",
      "('Found ', 0, ' other genre in documents..')\n",
      "('Found ', 817, ' duplicate(s) in documents..')\n",
      "('Found ', 0, ' other genre in documents..')\n",
      "('Found ', 91, ' duplicate(s) in documents..')\n",
      "('Found ', 0, ' other genre in documents..')\n",
      "('Found ', 2930, ' duplicate(s) in documents..')\n",
      "('Found ', 0, ' other genre in documents..')\n",
      "('Found ', 817, ' duplicate(s) in documents..')\n",
      "('Found ', 0, ' other genre in documents..')\n",
      "('Found ', 91, ' duplicate(s) in documents..')\n",
      "('Found ', 0, ' other genre in documents..')\n",
      "('Found ', 2930, ' duplicate(s) in documents..')\n",
      "('Found ', 0, ' other genre in documents..')\n",
      "('Found ', 859, ' duplicate(s) in documents..')\n",
      "('Found ', 0, ' other genre in documents..')\n",
      "('Found ', 95, ' duplicate(s) in documents..')\n",
      "('Found ', 0, ' other genre in documents..')\n",
      "('Found ', 859, ' duplicate(s) in documents..')\n",
      "('Found ', 0, ' other genre in documents..')\n",
      "('Found ', 95, ' duplicate(s) in documents..')\n",
      "('Found ', 0, ' other genre in documents..')\n",
      "('Found ', 859, ' duplicate(s) in documents..')\n",
      "('Found ', 0, ' other genre in documents..')\n",
      "('Found ', 2930, ' duplicate(s) in documents..')\n",
      "('Found ', 0, ' other genre in documents..')\n",
      "('Found ', 3884, ' duplicate(s) in documents..')\n"
     ]
    }
   ],
   "source": [
    "from newsgac.data_sources.tasks import process\n",
    "from newsgac.data_sources.models import DataSource\n",
    "for ds in DataSource.objects.all():\n",
    "    process(ds.pk)"
   ]
  },
  {
   "cell_type": "code",
   "execution_count": null,
   "metadata": {},
   "outputs": [],
   "source": [
    "import inspect\n",
    "inspect.getsource()"
   ]
  }
 ],
 "metadata": {
  "kernelspec": {
   "display_name": "Python 2",
   "language": "python",
   "name": "python2"
  },
  "language_info": {
   "codemirror_mode": {
    "name": "ipython",
    "version": 2
   },
   "file_extension": ".py",
   "mimetype": "text/x-python",
   "name": "python",
   "nbconvert_exporter": "python",
   "pygments_lexer": "ipython2",
   "version": "2.7.15"
  }
 },
 "nbformat": 4,
 "nbformat_minor": 2
}

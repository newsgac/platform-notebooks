{
 "cells": [
  {
   "cell_type": "code",
   "execution_count": null,
   "metadata": {},
   "outputs": [],
   "source": [
    "# import sys\n",
    "# !{sys.executable} -m pip install matplotlib --user\n",
    "# !{sys.executable} -m pip install hyperopt --user"
   ]
  },
  {
   "cell_type": "code",
   "execution_count": 1,
   "metadata": {},
   "outputs": [],
   "source": [
    "from time import time\n",
    "from hyperopt import tpe, fmin, hp, STATUS_OK, Trials\n",
    "from sklearn.metrics import accuracy_score, log_loss, roc_auc_score\n",
    "from sklearn.model_selection import train_test_split\n",
    "from copy import deepcopy\n",
    "from sklearn.neural_network import MLPClassifier\n",
    "import numpy as np\n",
    "\n",
    "# Data science imports\n",
    "import pandas as pd\n",
    "from enum import Enum\n",
    "from lightgbm import LGBMClassifier\n",
    "from sklearn.preprocessing import StandardScaler, Imputer, LabelBinarizer\n",
    "from sklearn.metrics import classification_report, accuracy_score\n",
    "from sklearn.linear_model import LogisticRegression\n",
    "from sklearn.ensemble import RandomForestClassifier\n",
    "from sklearn.tree import DecisionTreeClassifier\n",
    "from sklearn.svm import SVC\n",
    "from sklearn.impute import SimpleImputer\n",
    "from sklearn.model_selection import train_test_split, cross_val_score\n",
    "from sklearn_pandas import DataFrameMapper\n",
    "\n",
    "# Visualisation imports\n",
    "import matplotlib.pyplot as plt\n",
    "%matplotlib inline\n",
    "import warnings\n",
    "warnings.filterwarnings('ignore')"
   ]
  },
  {
   "cell_type": "code",
   "execution_count": 2,
   "metadata": {},
   "outputs": [],
   "source": [
    "# File IO: Read the data file\n",
    "file = open('train_data.txt', mode = 'r')\n",
    "lines = file.readlines()\n",
    "file.close()"
   ]
  },
  {
   "cell_type": "code",
   "execution_count": 3,
   "metadata": {},
   "outputs": [
    {
     "data": {
      "text/plain": [
       "78945"
      ]
     },
     "execution_count": 3,
     "metadata": {},
     "output_type": "execute_result"
    }
   ],
   "source": [
    "# Check for completeness\n",
    "len(lines)"
   ]
  },
  {
   "cell_type": "code",
   "execution_count": 4,
   "metadata": {},
   "outputs": [],
   "source": [
    "# Pre-processing: Clean unwanted characters \n",
    "data = []\n",
    "i = 0\n",
    "while i < len(lines)-1:\n",
    "    row = {}\n",
    "    row['id'] = lines[i+1].split(\" \")[1].strip()\n",
    "    row['durationOfStay'] = lines[i+2].split(\" \")[1].strip()\n",
    "    row['gender'] = lines[i+3].split(\" \")[1].strip()\n",
    "    row['Age'] = lines[i+4].split(\" \")[1].strip()\n",
    "    row['kids'] = lines[i+5].split(\" \")[1].strip()\n",
    "    row['destinationCode'] = lines[i+6].split(\" \")[1].strip()\n",
    "    row['AcomType'] = lines[i+7].split(\" \")[1].strip()\n",
    "    data.append(row)\n",
    "    i = i + 8"
   ]
  },
  {
   "cell_type": "code",
   "execution_count": 5,
   "metadata": {},
   "outputs": [],
   "source": [
    "# Structure the data\n",
    "def structure_data_to_df(data, test_data=False):\n",
    "    if test_data:\n",
    "        df = pd.DataFrame(data, columns=['id','durationOfStay','gender','Age','kids','destinationCode'])\n",
    "        df['id'] = df['id'].astype(str)\n",
    "    else:\n",
    "        df = pd.DataFrame(data, columns=['durationOfStay','gender','Age','kids','destinationCode','AcomType'])\n",
    "        df['AcomType'] = df['AcomType'].astype(str)\n",
    "        \n",
    "    df['gender'] = df['gender'].astype(str)\n",
    "    df['kids'] = df['kids'].astype(str)\n",
    "    df['destinationCode'] = df['destinationCode'].astype(str)\n",
    "    df = df.replace('<NA>', np.nan)\n",
    "    df = df.replace('NA', np.nan)\n",
    "    df = df.replace('nan', np.nan)\n",
    "    df[['durationOfStay', 'Age']] = df[['durationOfStay', 'Age']].apply(pd.to_numeric)\n",
    "    \n",
    "    return df\n",
    "    \n",
    "df = structure_data_to_df(data)"
   ]
  },
  {
   "cell_type": "code",
   "execution_count": 6,
   "metadata": {},
   "outputs": [],
   "source": [
    "# utility variables\n",
    "categorical_cols = ['gender']\n",
    "missing_categorical_cols = ['kids', 'destinationCode']\n",
    "numerical_cols = ['durationOfStay']\n",
    "missing_numerical_cols = ['Age']\n",
    "\n",
    "# transform utility function\n",
    "def build_imputer_and_transformer(missing_categorical_cols, categorical_cols, \n",
    "                                  missing_numerical_cols, numerical_cols, constant=True):\n",
    "    transformations = []\n",
    "    \n",
    "    for col in missing_categorical_cols:\n",
    "        if constant:\n",
    "            transformations.append(([col], [SimpleImputer(strategy='constant', fill_value='N/A'), LabelBinarizer()]))\n",
    "        else:\n",
    "            transformations.append(([col], [SimpleImputer(strategy='most_frequent'), LabelBinarizer()]))\n",
    "        \n",
    "    for col in categorical_cols:\n",
    "        transformations.append((col, LabelBinarizer()))\n",
    "        \n",
    "    transformations.append((missing_numerical_cols, [SimpleImputer(strategy='mean'), StandardScaler()]))\n",
    "    transformations.append((numerical_cols, StandardScaler()))\n",
    "   \n",
    "    transformer = DataFrameMapper(transformations)\n",
    "    return transformer"
   ]
  },
  {
   "cell_type": "code",
   "execution_count": 7,
   "metadata": {},
   "outputs": [],
   "source": [
    "y = df['AcomType'].copy()\n",
    "X = df.drop(['AcomType'], axis=1)\n",
    "\n",
    "X_train, X_test, y_train, y_test = train_test_split(X, y, stratify=y, test_size=0.2, random_state=0)\n",
    "    \n",
    "transformer = build_imputer_and_transformer(missing_categorical_cols, categorical_cols,\n",
    "                                             missing_numerical_cols, numerical_cols, constant=True)\n",
    "    \n",
    "X_train = transformer.fit_transform(X_train)\n",
    "X_test = transformer.transform(X_test)\n",
    "    "
   ]
  },
  {
   "cell_type": "code",
   "execution_count": 8,
   "metadata": {},
   "outputs": [],
   "source": [
    "criterion_list = ['gini', 'entropy']\n",
    "n_estimators_list = np.arange(10, 1000, 10, dtype=int)\n",
    "max_features_list = np.arange(1, X.shape[1], 1, dtype=int) \n",
    "max_depth_list = np.arange(1, 50, 1, dtype=int) \n",
    "min_samples_split_list = np.arange(10, 100, 10, dtype=int)\n",
    "min_samples_leaf_list = np.arange(1, 30, 1, dtype=int)\n",
    "max_leaf_nodes_list = np.arange(10, 30, 2, dtype=int)\n",
    "class_weights = [None, 'balanced']\n",
    "bootstrap_list =[True, False]"
   ]
  },
  {
   "cell_type": "code",
   "execution_count": 9,
   "metadata": {},
   "outputs": [],
   "source": [
    "def optimize(evals, trials, optimizer=tpe.suggest):\n",
    "    space = {\n",
    "        'criterion': hp.choice('criterion', criterion_list),\n",
    "        'n_estimators': hp.choice('n_estimators', n_estimators_list),\n",
    "        'max_features': hp.choice('max_features', max_features_list),\n",
    "        'max_depth': hp.choice('max_depth', max_depth_list),\n",
    "        'min_samples_split': hp.choice('min_samples_split', min_samples_split_list),\n",
    "        'min_samples_leaf': hp.choice('min_samples_leaf', min_samples_leaf_list),\n",
    "        'max_leaf_nodes': hp.choice('max_leaf_nodes', max_leaf_nodes_list),\n",
    "        'class_weight': hp.choice('class_weight', class_weights),\n",
    "        'bootstrap': hp.choice('bootstrap', bootstrap_list)\n",
    "    }\n",
    "    best = fmin(score, space, algo=optimizer, max_evals=evals, trials=trials)\n",
    "    pbar.close()\n",
    "    return best"
   ]
  },
  {
   "cell_type": "code",
   "execution_count": 10,
   "metadata": {},
   "outputs": [],
   "source": [
    "train_acc_list = []\n",
    "train_loss_list = []\n",
    "test_acc_list = []\n",
    "test_loss_list = []\n",
    "\n",
    "def score(params):\n",
    "    criterion = params['criterion']\n",
    "    n_estimators = params['n_estimators']\n",
    "    max_features = params['max_features']\n",
    "    max_depth = params['max_depth']\n",
    "    min_samples_split = params['min_samples_split']\n",
    "    min_samples_leaf = params['min_samples_leaf']\n",
    "    max_leaf_nodes = params['max_leaf_nodes']\n",
    "    class_weight = params['class_weight']\n",
    "    bootstrap = params['bootstrap']\n",
    "    \n",
    "    model = RandomForestClassifier(criterion=criterion, n_estimators=n_estimators, max_features=max_features,\n",
    "                                  max_depth=max_depth, min_samples_split=min_samples_split, \n",
    "                                   min_samples_leaf=min_samples_leaf,\n",
    "                                  max_leaf_nodes=max_leaf_nodes, class_weight=class_weight, bootstrap=bootstrap,\n",
    "                                  random_state=42, n_jobs=48)\n",
    "    \n",
    "    scores = cross_val_score(model, X_train, y_train, cv=5, scoring='balanced_accuracy', n_jobs=40)  \n",
    "    \n",
    "    scores_mean = 1.0 - scores.mean()\n",
    "\n",
    "    \n",
    "    print('Parameters with this training loss {} :'.format(scores_mean))\n",
    "    print(params)\n",
    "    pbar.update()\n",
    "#     return {'loss': test_loss, 'status': STATUS_OK}\n",
    "    return {'loss': scores_mean, 'status': STATUS_OK}\n",
    "     "
   ]
  },
  {
   "cell_type": "code",
   "execution_count": 11,
   "metadata": {
    "scrolled": true
   },
   "outputs": [
    {
     "name": "stderr",
     "output_type": "stream",
     "text": [
      "Hyperopt:   0%|          | 0/1000 [00:00<?, ?it/s]"
     ]
    },
    {
     "name": "stdout",
     "output_type": "stream",
     "text": [
      "\n",
      "  0%|          | 0/1000 [00:00<?, ?it/s, best loss: ?]\u001b[A\n",
      "\u001b[AParameters with this training score 0.7671526944389784 :\n",
      "\n",
      "  0%|          | 0/1000 [00:03<?, ?it/s, best loss: ?]\u001b[A\n",
      "\u001b[A{'bootstrap': False, 'class_weight': 'balanced', 'criterion': 'gini', 'max_depth': 41, 'max_features': 4, 'max_leaf_nodes': 24, 'min_samples_leaf': 3, 'min_samples_split': 90, 'n_estimators': 540}\n",
      "\n",
      "  0%|          | 0/1000 [00:03<?, ?it/s, best loss: ?]\u001b[A"
     ]
    },
    {
     "name": "stderr",
     "output_type": "stream",
     "text": [
      "Hyperopt:   0%|          | 1/1000 [00:04<1:06:39,  4.00s/it]"
     ]
    },
    {
     "name": "stdout",
     "output_type": "stream",
     "text": [
      "\n",
      "  0%|          | 1/1000 [00:03<1:04:35,  3.88s/it, best loss: 0.23284730556102162]\u001b[A\n",
      "\u001b[AParameters with this training score 0.7492524575542107 :\n",
      "\n",
      "  0%|          | 1/1000 [00:05<1:04:35,  3.88s/it, best loss: 0.23284730556102162]\u001b[A\n",
      "\u001b[A{'bootstrap': False, 'class_weight': 'balanced', 'criterion': 'gini', 'max_depth': 47, 'max_features': 4, 'max_leaf_nodes': 12, 'min_samples_leaf': 28, 'min_samples_split': 90, 'n_estimators': 390}\n",
      "\n",
      "  0%|          | 1/1000 [00:05<1:04:35,  3.88s/it, best loss: 0.23284730556102162]\u001b[A"
     ]
    },
    {
     "name": "stderr",
     "output_type": "stream",
     "text": [
      "Hyperopt:   0%|          | 2/1000 [00:06<56:56,  3.42s/it]  "
     ]
    },
    {
     "name": "stdout",
     "output_type": "stream",
     "text": [
      "\n",
      "  0%|          | 2/1000 [00:05<55:29,  3.34s/it, best loss: 0.23284730556102162]  \u001b[A\n",
      "\u001b[AParameters with this training score 0.7324496658859462 :\n",
      "\n",
      "  0%|          | 2/1000 [00:08<55:29,  3.34s/it, best loss: 0.23284730556102162]\u001b[A\n",
      "\u001b[A{'bootstrap': False, 'class_weight': 'balanced', 'criterion': 'entropy', 'max_depth': 22, 'max_features': 4, 'max_leaf_nodes': 14, 'min_samples_leaf': 1, 'min_samples_split': 80, 'n_estimators': 420}\n",
      "\n",
      "  0%|          | 2/1000 [00:08<55:29,  3.34s/it, best loss: 0.23284730556102162]\u001b[A"
     ]
    },
    {
     "name": "stderr",
     "output_type": "stream",
     "text": [
      "Hyperopt:   0%|          | 3/1000 [00:08<50:30,  3.04s/it]"
     ]
    },
    {
     "name": "stdout",
     "output_type": "stream",
     "text": [
      "\n",
      "  0%|          | 3/1000 [00:08<49:29,  2.98s/it, best loss: 0.23284730556102162]\u001b[A\n",
      "\u001b[AParameters with this training score 0.4999910807489044 :\n",
      "\n",
      "  0%|          | 3/1000 [00:10<49:29,  2.98s/it, best loss: 0.23284730556102162]\u001b[A\n",
      "\u001b[A{'bootstrap': False, 'class_weight': None, 'criterion': 'entropy', 'max_depth': 44, 'max_features': 2, 'max_leaf_nodes': 16, 'min_samples_leaf': 5, 'min_samples_split': 70, 'n_estimators': 700}\n",
      "\n",
      "  0%|          | 3/1000 [00:10<49:29,  2.98s/it, best loss: 0.23284730556102162]\u001b[A"
     ]
    },
    {
     "name": "stderr",
     "output_type": "stream",
     "text": [
      "Hyperopt:   0%|          | 4/1000 [00:11<49:41,  2.99s/it]"
     ]
    },
    {
     "name": "stdout",
     "output_type": "stream",
     "text": [
      "\n",
      "  0%|          | 4/1000 [00:10<48:59,  2.95s/it, best loss: 0.23284730556102162]\u001b[A\n",
      "\u001b[AParameters with this training score 0.5853298887912659 :\n",
      "\n",
      "  0%|          | 4/1000 [00:11<48:59,  2.95s/it, best loss: 0.23284730556102162]\u001b[A\n",
      "\u001b[A{'bootstrap': False, 'class_weight': None, 'criterion': 'entropy', 'max_depth': 45, 'max_features': 3, 'max_leaf_nodes': 20, 'min_samples_leaf': 10, 'min_samples_split': 60, 'n_estimators': 10}\n",
      "\n",
      "  0%|          | 4/1000 [00:12<48:59,  2.95s/it, best loss: 0.23284730556102162]\u001b[A"
     ]
    },
    {
     "name": "stderr",
     "output_type": "stream",
     "text": [
      "Hyperopt:   0%|          | 5/1000 [00:12<39:50,  2.40s/it]"
     ]
    },
    {
     "name": "stdout",
     "output_type": "stream",
     "text": [
      "\n",
      "  0%|          | 5/1000 [00:12<39:20,  2.37s/it, best loss: 0.23284730556102162]\u001b[A\n",
      "\u001b[AParameters with this training score 0.7611032345017658 :\n",
      "\n",
      "  0%|          | 5/1000 [00:15<39:20,  2.37s/it, best loss: 0.23284730556102162]\u001b[A\n",
      "\u001b[A{'bootstrap': False, 'class_weight': 'balanced', 'criterion': 'gini', 'max_depth': 36, 'max_features': 3, 'max_leaf_nodes': 22, 'min_samples_leaf': 4, 'min_samples_split': 30, 'n_estimators': 950}\n",
      "\n",
      "  0%|          | 5/1000 [00:15<39:20,  2.37s/it, best loss: 0.23284730556102162]\u001b[A"
     ]
    },
    {
     "name": "stderr",
     "output_type": "stream",
     "text": [
      "Hyperopt:   1%|          | 6/1000 [00:15<45:58,  2.77s/it]"
     ]
    },
    {
     "name": "stdout",
     "output_type": "stream",
     "text": [
      "\n",
      "  1%|          | 6/1000 [00:15<45:37,  2.75s/it, best loss: 0.23284730556102162]\u001b[A\n",
      "\u001b[AParameters with this training score 0.7580830363273166 :\n",
      "\n",
      "  1%|          | 6/1000 [00:18<45:37,  2.75s/it, best loss: 0.23284730556102162]\u001b[A\n",
      "\u001b[A{'bootstrap': False, 'class_weight': 'balanced', 'criterion': 'entropy', 'max_depth': 34, 'max_features': 4, 'max_leaf_nodes': 18, 'min_samples_leaf': 11, 'min_samples_split': 60, 'n_estimators': 620}\n",
      "\n",
      "  1%|          | 6/1000 [00:18<45:37,  2.75s/it, best loss: 0.23284730556102162]\u001b[A"
     ]
    },
    {
     "name": "stderr",
     "output_type": "stream",
     "text": [
      "Hyperopt:   1%|          | 7/1000 [00:18<45:43,  2.76s/it]"
     ]
    },
    {
     "name": "stdout",
     "output_type": "stream",
     "text": [
      "\n",
      "  1%|          | 7/1000 [00:18<45:29,  2.75s/it, best loss: 0.23284730556102162]\u001b[A\n",
      "\u001b[AParameters with this training score 0.7014940891992362 :\n",
      "\n",
      "  1%|          | 7/1000 [00:20<45:29,  2.75s/it, best loss: 0.23284730556102162]\u001b[A\n",
      "\u001b[A{'bootstrap': False, 'class_weight': 'balanced', 'criterion': 'gini', 'max_depth': 7, 'max_features': 1, 'max_leaf_nodes': 12, 'min_samples_leaf': 16, 'min_samples_split': 30, 'n_estimators': 360}\n",
      "\n",
      "  1%|          | 7/1000 [00:20<45:29,  2.75s/it, best loss: 0.23284730556102162]\u001b[A"
     ]
    },
    {
     "name": "stderr",
     "output_type": "stream",
     "text": [
      "Hyperopt:   1%|          | 8/1000 [00:20<42:20,  2.56s/it]"
     ]
    },
    {
     "name": "stdout",
     "output_type": "stream",
     "text": [
      "\n",
      "  1%|          | 8/1000 [00:20<42:10,  2.55s/it, best loss: 0.23284730556102162]\u001b[A\n",
      "\u001b[AParameters with this training score 0.7470952079023873 :\n",
      "\n",
      "  1%|          | 8/1000 [00:21<42:10,  2.55s/it, best loss: 0.23284730556102162]\u001b[A\n",
      "\u001b[A{'bootstrap': True, 'class_weight': 'balanced', 'criterion': 'gini', 'max_depth': 17, 'max_features': 3, 'max_leaf_nodes': 16, 'min_samples_leaf': 28, 'min_samples_split': 50, 'n_estimators': 370}\n",
      "\n",
      "  1%|          | 8/1000 [00:21<42:10,  2.55s/it, best loss: 0.23284730556102162]\u001b[A"
     ]
    },
    {
     "name": "stderr",
     "output_type": "stream",
     "text": [
      "Hyperopt:   1%|          | 9/1000 [00:22<36:58,  2.24s/it]"
     ]
    },
    {
     "name": "stdout",
     "output_type": "stream",
     "text": [
      "\n",
      "  1%|          | 9/1000 [00:21<36:51,  2.23s/it, best loss: 0.23284730556102162]\u001b[A\n",
      "\u001b[AParameters with this training score 0.5 :\n",
      "\n",
      "  1%|          | 9/1000 [00:24<36:51,  2.23s/it, best loss: 0.23284730556102162]\u001b[A\n",
      "\u001b[A{'bootstrap': False, 'class_weight': None, 'criterion': 'entropy', 'max_depth': 1, 'max_features': 4, 'max_leaf_nodes': 12, 'min_samples_leaf': 17, 'min_samples_split': 10, 'n_estimators': 760}\n",
      "\n",
      "  1%|          | 9/1000 [00:24<36:51,  2.23s/it, best loss: 0.23284730556102162]\u001b[A"
     ]
    },
    {
     "name": "stderr",
     "output_type": "stream",
     "text": [
      "Hyperopt:   1%|          | 10/1000 [00:24<38:31,  2.33s/it]"
     ]
    },
    {
     "name": "stdout",
     "output_type": "stream",
     "text": [
      "\n",
      "  1%|          | 10/1000 [00:24<38:26,  2.33s/it, best loss: 0.23284730556102162]\u001b[A\n",
      "\u001b[AParameters with this training score 0.49992248518387694 :\n",
      "\n",
      "  1%|          | 10/1000 [00:27<38:26,  2.33s/it, best loss: 0.23284730556102162]\u001b[A\n",
      "\u001b[A{'bootstrap': True, 'class_weight': None, 'criterion': 'entropy', 'max_depth': 45, 'max_features': 4, 'max_leaf_nodes': 10, 'min_samples_leaf': 18, 'min_samples_split': 10, 'n_estimators': 740}\n",
      "\n",
      "  1%|          | 10/1000 [00:27<38:26,  2.33s/it, best loss: 0.23284730556102162]\u001b[A"
     ]
    },
    {
     "name": "stderr",
     "output_type": "stream",
     "text": [
      "Hyperopt:   1%|          | 11/1000 [00:27<39:58,  2.43s/it]"
     ]
    },
    {
     "name": "stdout",
     "output_type": "stream",
     "text": [
      "\n",
      "  1%|          | 11/1000 [00:27<39:55,  2.42s/it, best loss: 0.23284730556102162]\u001b[A\n",
      "\u001b[AParameters with this training score 0.5778917642972272 :\n",
      "\n",
      "  1%|          | 11/1000 [00:28<39:55,  2.42s/it, best loss: 0.23284730556102162]\u001b[A\n",
      "\u001b[A{'bootstrap': False, 'class_weight': 'balanced', 'criterion': 'entropy', 'max_depth': 2, 'max_features': 4, 'max_leaf_nodes': 24, 'min_samples_leaf': 22, 'min_samples_split': 40, 'n_estimators': 330}\n",
      "\n",
      "  1%|          | 11/1000 [00:28<39:55,  2.42s/it, best loss: 0.23284730556102162]\u001b[A"
     ]
    },
    {
     "name": "stderr",
     "output_type": "stream",
     "text": [
      "Hyperopt:   1%|          | 12/1000 [00:28<34:07,  2.07s/it]"
     ]
    },
    {
     "name": "stdout",
     "output_type": "stream",
     "text": [
      "\n",
      "  1%|          | 12/1000 [00:28<34:04,  2.07s/it, best loss: 0.23284730556102162]\u001b[A\n",
      "\u001b[AParameters with this training score 0.7507651144718819 :\n",
      "\n",
      "  1%|          | 12/1000 [00:29<34:04,  2.07s/it, best loss: 0.23284730556102162]\u001b[A\n",
      "\u001b[A{'bootstrap': True, 'class_weight': 'balanced', 'criterion': 'gini', 'max_depth': 18, 'max_features': 4, 'max_leaf_nodes': 16, 'min_samples_leaf': 18, 'min_samples_split': 70, 'n_estimators': 160}\n",
      "\n",
      "  1%|          | 12/1000 [00:29<34:04,  2.07s/it, best loss: 0.23284730556102162]\u001b[A"
     ]
    },
    {
     "name": "stderr",
     "output_type": "stream",
     "text": [
      "Hyperopt:   1%|▏         | 13/1000 [00:29<28:33,  1.74s/it]"
     ]
    },
    {
     "name": "stdout",
     "output_type": "stream",
     "text": [
      "\n",
      "  1%|▏         | 13/1000 [00:29<28:31,  1.73s/it, best loss: 0.23284730556102162]\u001b[A\n",
      "\u001b[AParameters with this training score 0.7637825184483844 :\n",
      "\n",
      "  1%|▏         | 13/1000 [00:32<28:31,  1.73s/it, best loss: 0.23284730556102162]\u001b[A\n",
      "\u001b[A{'bootstrap': False, 'class_weight': 'balanced', 'criterion': 'entropy', 'max_depth': 6, 'max_features': 3, 'max_leaf_nodes': 28, 'min_samples_leaf': 10, 'min_samples_split': 50, 'n_estimators': 820}\n",
      "\n",
      "  1%|▏         | 13/1000 [00:32<28:31,  1.73s/it, best loss: 0.23284730556102162]\u001b[A"
     ]
    },
    {
     "name": "stderr",
     "output_type": "stream",
     "text": [
      "Hyperopt:   1%|▏         | 14/1000 [00:32<33:09,  2.02s/it]"
     ]
    },
    {
     "name": "stdout",
     "output_type": "stream",
     "text": [
      "\n",
      "  1%|▏         | 14/1000 [00:32<33:07,  2.02s/it, best loss: 0.23284730556102162]\u001b[A\n",
      "\u001b[AParameters with this training score 0.5343472269377688 :\n",
      "\n",
      "  1%|▏         | 14/1000 [00:34<33:07,  2.02s/it, best loss: 0.23284730556102162]\u001b[A\n",
      "\u001b[A{'bootstrap': True, 'class_weight': None, 'criterion': 'entropy', 'max_depth': 45, 'max_features': 2, 'max_leaf_nodes': 28, 'min_samples_leaf': 23, 'min_samples_split': 90, 'n_estimators': 700}\n",
      "\n",
      "  1%|▏         | 14/1000 [00:34<33:07,  2.02s/it, best loss: 0.23284730556102162]\u001b[A"
     ]
    },
    {
     "name": "stderr",
     "output_type": "stream",
     "text": [
      "Hyperopt:   2%|▏         | 15/1000 [00:34<35:19,  2.15s/it]"
     ]
    },
    {
     "name": "stdout",
     "output_type": "stream",
     "text": [
      "\n",
      "  2%|▏         | 15/1000 [00:34<35:18,  2.15s/it, best loss: 0.23284730556102162]\u001b[A\n",
      "\u001b[AParameters with this training score 0.7599506586774604 :\n",
      "\n",
      "  2%|▏         | 15/1000 [00:37<35:18,  2.15s/it, best loss: 0.23284730556102162]\u001b[A\n",
      "\u001b[A{'bootstrap': True, 'class_weight': 'balanced', 'criterion': 'gini', 'max_depth': 23, 'max_features': 2, 'max_leaf_nodes': 22, 'min_samples_leaf': 28, 'min_samples_split': 70, 'n_estimators': 680}\n",
      "\n",
      "  2%|▏         | 15/1000 [00:37<35:18,  2.15s/it, best loss: 0.23284730556102162]\u001b[A"
     ]
    },
    {
     "name": "stderr",
     "output_type": "stream",
     "text": [
      "Hyperopt:   2%|▏         | 16/1000 [00:37<37:17,  2.27s/it]"
     ]
    },
    {
     "name": "stdout",
     "output_type": "stream",
     "text": [
      "\n",
      "  2%|▏         | 16/1000 [00:37<37:16,  2.27s/it, best loss: 0.23284730556102162]\u001b[A\n",
      "\u001b[AParameters with this training score 0.5019608129468435 :\n",
      "\n",
      "  2%|▏         | 16/1000 [00:37<37:16,  2.27s/it, best loss: 0.23284730556102162]\u001b[A\n",
      "\u001b[A{'bootstrap': False, 'class_weight': None, 'criterion': 'entropy', 'max_depth': 29, 'max_features': 2, 'max_leaf_nodes': 18, 'min_samples_leaf': 8, 'min_samples_split': 30, 'n_estimators': 140}\n",
      "\n",
      "  2%|▏         | 16/1000 [00:37<37:16,  2.27s/it, best loss: 0.23284730556102162]\u001b[A"
     ]
    },
    {
     "name": "stderr",
     "output_type": "stream",
     "text": [
      "Hyperopt:   2%|▏         | 17/1000 [00:37<29:54,  1.83s/it]"
     ]
    },
    {
     "name": "stdout",
     "output_type": "stream",
     "text": [
      "\n",
      "  2%|▏         | 17/1000 [00:37<29:54,  1.83s/it, best loss: 0.23284730556102162]\u001b[A\n",
      "\u001b[AParameters with this training score 0.7267999162151133 :\n",
      "\n",
      "  2%|▏         | 17/1000 [00:38<29:54,  1.83s/it, best loss: 0.23284730556102162]\u001b[A\n",
      "\u001b[A{'bootstrap': True, 'class_weight': 'balanced', 'criterion': 'entropy', 'max_depth': 20, 'max_features': 3, 'max_leaf_nodes': 14, 'min_samples_leaf': 25, 'min_samples_split': 10, 'n_estimators': 230}\n",
      "\n",
      "  2%|▏         | 17/1000 [00:38<29:54,  1.83s/it, best loss: 0.23284730556102162]\u001b[A"
     ]
    },
    {
     "name": "stderr",
     "output_type": "stream",
     "text": [
      "Hyperopt:   2%|▏         | 18/1000 [00:39<26:11,  1.60s/it]"
     ]
    },
    {
     "name": "stdout",
     "output_type": "stream",
     "text": [
      "\n",
      "  2%|▏         | 18/1000 [00:38<26:10,  1.60s/it, best loss: 0.23284730556102162]\u001b[A\n",
      "\u001b[AParameters with this training score 0.5416825131679964 :\n",
      "\n",
      "  2%|▏         | 18/1000 [00:41<26:10,  1.60s/it, best loss: 0.23284730556102162]\u001b[A\n",
      "\u001b[A{'bootstrap': True, 'class_weight': None, 'criterion': 'gini', 'max_depth': 5, 'max_features': 4, 'max_leaf_nodes': 18, 'min_samples_leaf': 29, 'min_samples_split': 50, 'n_estimators': 720}\n",
      "\n",
      "  2%|▏         | 18/1000 [00:41<26:10,  1.60s/it, best loss: 0.23284730556102162]\u001b[A"
     ]
    },
    {
     "name": "stderr",
     "output_type": "stream",
     "text": [
      "Hyperopt:   2%|▏         | 19/1000 [00:41<30:25,  1.86s/it]"
     ]
    },
    {
     "name": "stdout",
     "output_type": "stream",
     "text": [
      "\n",
      "  2%|▏         | 19/1000 [00:41<30:25,  1.86s/it, best loss: 0.23284730556102162]\u001b[A\n",
      "\u001b[AParameters with this training score 0.7486826329478024 :\n",
      "\n",
      "  2%|▏         | 19/1000 [00:44<30:25,  1.86s/it, best loss: 0.23284730556102162]\u001b[A\n",
      "\u001b[A{'bootstrap': True, 'class_weight': 'balanced', 'criterion': 'gini', 'max_depth': 46, 'max_features': 2, 'max_leaf_nodes': 20, 'min_samples_leaf': 5, 'min_samples_split': 40, 'n_estimators': 850}\n",
      "\n",
      "  2%|▏         | 19/1000 [00:44<30:25,  1.86s/it, best loss: 0.23284730556102162]\u001b[A"
     ]
    },
    {
     "name": "stderr",
     "output_type": "stream",
     "text": [
      "Hyperopt:   2%|▏         | 20/1000 [00:44<35:01,  2.14s/it]"
     ]
    },
    {
     "name": "stdout",
     "output_type": "stream",
     "text": [
      "\n",
      "  2%|▏         | 20/1000 [00:44<35:01,  2.14s/it, best loss: 0.23284730556102162]\u001b[A\n",
      "\u001b[AParameters with this training score 0.7428529362890043 :\n",
      "\n",
      "  2%|▏         | 20/1000 [00:45<35:01,  2.14s/it, best loss: 0.23284730556102162]\u001b[A\n",
      "\u001b[A{'bootstrap': False, 'class_weight': 'balanced', 'criterion': 'gini', 'max_depth': 41, 'max_features': 1, 'max_leaf_nodes': 28, 'min_samples_leaf': 3, 'min_samples_split': 20, 'n_estimators': 180}\n",
      "\n",
      "  2%|▏         | 20/1000 [00:45<35:01,  2.14s/it, best loss: 0.23284730556102162]\u001b[A"
     ]
    },
    {
     "name": "stderr",
     "output_type": "stream",
     "text": [
      "Hyperopt:   2%|▏         | 21/1000 [00:45<28:52,  1.77s/it]"
     ]
    },
    {
     "name": "stdout",
     "output_type": "stream",
     "text": [
      "\n",
      "  2%|▏         | 21/1000 [00:45<28:52,  1.77s/it, best loss: 0.23284730556102162]\u001b[A\n",
      "\u001b[AParameters with this training score 0.7672934181698483 :\n",
      "\n",
      "  2%|▏         | 21/1000 [00:48<28:52,  1.77s/it, best loss: 0.23284730556102162]\u001b[A\n",
      "\u001b[A{'bootstrap': False, 'class_weight': 'balanced', 'criterion': 'gini', 'max_depth': 6, 'max_features': 3, 'max_leaf_nodes': 24, 'min_samples_leaf': 19, 'min_samples_split': 90, 'n_estimators': 820}\n",
      "\n",
      "  2%|▏         | 21/1000 [00:48<28:52,  1.77s/it, best loss: 0.23284730556102162]\u001b[A"
     ]
    },
    {
     "name": "stderr",
     "output_type": "stream",
     "text": [
      "Hyperopt:   2%|▏         | 22/1000 [00:48<35:31,  2.18s/it]"
     ]
    },
    {
     "name": "stdout",
     "output_type": "stream",
     "text": [
      "\n",
      "  2%|▏         | 22/1000 [00:48<35:31,  2.18s/it, best loss: 0.2327065818301517] \u001b[A\n",
      "\u001b[AParameters with this training score 0.7570854618391767 :\n",
      "\n",
      "  2%|▏         | 22/1000 [00:50<35:31,  2.18s/it, best loss: 0.2327065818301517]\u001b[A\n",
      "\u001b[A{'bootstrap': False, 'class_weight': 'balanced', 'criterion': 'gini', 'max_depth': 30, 'max_features': 1, 'max_leaf_nodes': 24, 'min_samples_leaf': 19, 'min_samples_split': 90, 'n_estimators': 670}\n",
      "\n",
      "  2%|▏         | 22/1000 [00:50<35:31,  2.18s/it, best loss: 0.2327065818301517]\u001b[A"
     ]
    },
    {
     "name": "stderr",
     "output_type": "stream",
     "text": [
      "Hyperopt:   2%|▏         | 23/1000 [00:50<35:59,  2.21s/it]"
     ]
    },
    {
     "name": "stdout",
     "output_type": "stream",
     "text": [
      "\n",
      "  2%|▏         | 23/1000 [00:50<35:59,  2.21s/it, best loss: 0.2327065818301517]\u001b[A\n",
      "\u001b[AParameters with this training score 0.741823343441292 :\n",
      "\n",
      "  2%|▏         | 23/1000 [00:53<35:59,  2.21s/it, best loss: 0.2327065818301517]\u001b[A\n",
      "\u001b[A{'bootstrap': False, 'class_weight': 'balanced', 'criterion': 'gini', 'max_depth': 4, 'max_features': 3, 'max_leaf_nodes': 24, 'min_samples_leaf': 2, 'min_samples_split': 90, 'n_estimators': 540}\n",
      "\n",
      "  2%|▏         | 23/1000 [00:53<35:59,  2.21s/it, best loss: 0.2327065818301517]\u001b[A"
     ]
    },
    {
     "name": "stderr",
     "output_type": "stream",
     "text": [
      "Hyperopt:   2%|▏         | 24/1000 [00:53<38:10,  2.35s/it]"
     ]
    },
    {
     "name": "stdout",
     "output_type": "stream",
     "text": [
      "\n",
      "  2%|▏         | 24/1000 [00:53<38:10,  2.35s/it, best loss: 0.2327065818301517]\u001b[A\n",
      "\u001b[AParameters with this training score 0.7606684579574107 :\n",
      "\n",
      "  2%|▏         | 24/1000 [00:53<38:10,  2.35s/it, best loss: 0.2327065818301517]\u001b[A\n",
      "\u001b[A{'bootstrap': False, 'class_weight': 'balanced', 'criterion': 'gini', 'max_depth': 37, 'max_features': 3, 'max_leaf_nodes': 26, 'min_samples_leaf': 13, 'min_samples_split': 90, 'n_estimators': 30}\n",
      "\n",
      "  2%|▏         | 24/1000 [00:53<38:10,  2.35s/it, best loss: 0.2327065818301517]\u001b[A"
     ]
    },
    {
     "name": "stderr",
     "output_type": "stream",
     "text": [
      "Hyperopt:   2%|▎         | 25/1000 [00:53<28:49,  1.77s/it]"
     ]
    },
    {
     "name": "stdout",
     "output_type": "stream",
     "text": [
      "\n",
      "  2%|▎         | 25/1000 [00:53<28:49,  1.77s/it, best loss: 0.2327065818301517]\u001b[A\n",
      "\u001b[AParameters with this training score 0.7524179637686836 :\n",
      "\n",
      "  2%|▎         | 25/1000 [00:56<28:49,  1.77s/it, best loss: 0.2327065818301517]\u001b[A\n",
      "\u001b[A{'bootstrap': False, 'class_weight': 'balanced', 'criterion': 'gini', 'max_depth': 43, 'max_features': 1, 'max_leaf_nodes': 24, 'min_samples_leaf': 3, 'min_samples_split': 90, 'n_estimators': 530}\n",
      "\n",
      "  2%|▎         | 25/1000 [00:56<28:49,  1.77s/it, best loss: 0.2327065818301517]\u001b[A"
     ]
    },
    {
     "name": "stderr",
     "output_type": "stream",
     "text": [
      "Hyperopt:   3%|▎         | 26/1000 [00:56<34:40,  2.14s/it]"
     ]
    },
    {
     "name": "stdout",
     "output_type": "stream",
     "text": [
      "\n",
      "  3%|▎         | 26/1000 [00:56<34:40,  2.14s/it, best loss: 0.2327065818301517]\u001b[A\n",
      "\u001b[AParameters with this training score 0.7673794099907735 :\n",
      "\n",
      "  3%|▎         | 26/1000 [00:59<34:40,  2.14s/it, best loss: 0.2327065818301517]\u001b[A\n",
      "\u001b[A{'bootstrap': False, 'class_weight': 'balanced', 'criterion': 'gini', 'max_depth': 6, 'max_features': 3, 'max_leaf_nodes': 24, 'min_samples_leaf': 19, 'min_samples_split': 80, 'n_estimators': 860}\n",
      "\n",
      "  3%|▎         | 26/1000 [00:59<34:40,  2.14s/it, best loss: 0.2327065818301517]\u001b[A"
     ]
    },
    {
     "name": "stderr",
     "output_type": "stream",
     "text": [
      "Hyperopt:   3%|▎         | 27/1000 [00:59<38:31,  2.38s/it]"
     ]
    },
    {
     "name": "stdout",
     "output_type": "stream",
     "text": [
      "\n",
      "  3%|▎         | 27/1000 [00:59<38:31,  2.38s/it, best loss: 0.23262059000922652]\u001b[A\n",
      "\u001b[AParameters with this training score 0.7257103696542513 :\n",
      "\n",
      "  3%|▎         | 27/1000 [01:02<38:31,  2.38s/it, best loss: 0.23262059000922652]\u001b[A\n",
      "\u001b[A{'bootstrap': False, 'class_weight': 'balanced', 'criterion': 'gini', 'max_depth': 8, 'max_features': 3, 'max_leaf_nodes': 10, 'min_samples_leaf': 19, 'min_samples_split': 80, 'n_estimators': 860}\n",
      "\n",
      "  3%|▎         | 27/1000 [01:02<38:31,  2.38s/it, best loss: 0.23262059000922652]\u001b[A"
     ]
    },
    {
     "name": "stderr",
     "output_type": "stream",
     "text": [
      "Hyperopt:   3%|▎         | 28/1000 [01:02<39:22,  2.43s/it]"
     ]
    },
    {
     "name": "stdout",
     "output_type": "stream",
     "text": [
      "\n",
      "  3%|▎         | 28/1000 [01:02<39:21,  2.43s/it, best loss: 0.23262059000922652]\u001b[A\n",
      "\u001b[AParameters with this training score 0.7711439385257279 :\n",
      "\n",
      "  3%|▎         | 28/1000 [01:03<39:21,  2.43s/it, best loss: 0.23262059000922652]\u001b[A\n",
      "\u001b[A{'bootstrap': False, 'class_weight': 'balanced', 'criterion': 'gini', 'max_depth': 6, 'max_features': 3, 'max_leaf_nodes': 24, 'min_samples_leaf': 24, 'min_samples_split': 80, 'n_estimators': 510}\n",
      "\n",
      "  3%|▎         | 28/1000 [01:03<39:21,  2.43s/it, best loss: 0.23262059000922652]\u001b[A"
     ]
    },
    {
     "name": "stderr",
     "output_type": "stream",
     "text": [
      "Hyperopt:   3%|▎         | 29/1000 [01:03<36:12,  2.24s/it]"
     ]
    },
    {
     "name": "stdout",
     "output_type": "stream",
     "text": [
      "\n",
      "  3%|▎         | 29/1000 [01:03<36:12,  2.24s/it, best loss: 0.22885606147427207]\u001b[A\n",
      "\u001b[AParameters with this training score 0.7768120155823635 :\n",
      "\n",
      "  3%|▎         | 29/1000 [01:05<36:12,  2.24s/it, best loss: 0.22885606147427207]\u001b[A\n",
      "\u001b[A{'bootstrap': False, 'class_weight': 'balanced', 'criterion': 'gini', 'max_depth': 31, 'max_features': 3, 'max_leaf_nodes': 26, 'min_samples_leaf': 24, 'min_samples_split': 80, 'n_estimators': 510}\n",
      "\n",
      "  3%|▎         | 29/1000 [01:05<36:12,  2.24s/it, best loss: 0.22885606147427207]\u001b[A"
     ]
    },
    {
     "name": "stderr",
     "output_type": "stream",
     "text": [
      "Hyperopt:   3%|▎         | 30/1000 [01:05<33:51,  2.09s/it]"
     ]
    },
    {
     "name": "stdout",
     "output_type": "stream",
     "text": [
      "\n",
      "  3%|▎         | 30/1000 [01:05<33:51,  2.09s/it, best loss: 0.22318798441763654]\u001b[A\n",
      "\u001b[AParameters with this training score 0.7763735959896528 :\n",
      "\n",
      "  3%|▎         | 30/1000 [01:07<33:51,  2.09s/it, best loss: 0.22318798441763654]\u001b[A\n",
      "\u001b[A{'bootstrap': False, 'class_weight': 'balanced', 'criterion': 'gini', 'max_depth': 31, 'max_features': 3, 'max_leaf_nodes': 26, 'min_samples_leaf': 24, 'min_samples_split': 80, 'n_estimators': 450}\n",
      "\n",
      "  3%|▎         | 30/1000 [01:07<33:51,  2.09s/it, best loss: 0.22318798441763654]\u001b[A"
     ]
    },
    {
     "name": "stderr",
     "output_type": "stream",
     "text": [
      "Hyperopt:   3%|▎         | 31/1000 [01:07<31:32,  1.95s/it]"
     ]
    },
    {
     "name": "stdout",
     "output_type": "stream",
     "text": [
      "\n",
      "  3%|▎         | 31/1000 [01:07<31:32,  1.95s/it, best loss: 0.22318798441763654]\u001b[A\n",
      "\u001b[AParameters with this training score 0.771257940129485 :\n",
      "\n",
      "  3%|▎         | 31/1000 [01:07<31:32,  1.95s/it, best loss: 0.22318798441763654]\u001b[A\n",
      "\u001b[A{'bootstrap': False, 'class_weight': 'balanced', 'criterion': 'gini', 'max_depth': 31, 'max_features': 3, 'max_leaf_nodes': 26, 'min_samples_leaf': 24, 'min_samples_split': 80, 'n_estimators': 70}\n",
      "\n",
      "  3%|▎         | 31/1000 [01:07<31:32,  1.95s/it, best loss: 0.22318798441763654]\u001b[A"
     ]
    },
    {
     "name": "stderr",
     "output_type": "stream",
     "text": [
      "Hyperopt:   3%|▎         | 32/1000 [01:07<24:47,  1.54s/it]"
     ]
    },
    {
     "name": "stdout",
     "output_type": "stream",
     "text": [
      "\n",
      "  3%|▎         | 32/1000 [01:07<24:47,  1.54s/it, best loss: 0.22318798441763654]\u001b[A\n",
      "\u001b[AParameters with this training score 0.7763735959896528 :\n",
      "\n",
      "  3%|▎         | 32/1000 [01:09<24:47,  1.54s/it, best loss: 0.22318798441763654]\u001b[A\n",
      "\u001b[A{'bootstrap': False, 'class_weight': 'balanced', 'criterion': 'gini', 'max_depth': 31, 'max_features': 3, 'max_leaf_nodes': 26, 'min_samples_leaf': 24, 'min_samples_split': 80, 'n_estimators': 450}\n",
      "\n",
      "  3%|▎         | 32/1000 [01:09<24:47,  1.54s/it, best loss: 0.22318798441763654]\u001b[A"
     ]
    },
    {
     "name": "stderr",
     "output_type": "stream",
     "text": [
      "Hyperopt:   3%|▎         | 33/1000 [01:09<25:11,  1.56s/it]"
     ]
    },
    {
     "name": "stdout",
     "output_type": "stream",
     "text": [
      "\n",
      "  3%|▎         | 33/1000 [01:09<25:11,  1.56s/it, best loss: 0.22318798441763654]\u001b[A\n",
      "\u001b[AParameters with this training score 0.5001031510011202 :\n",
      "\n",
      "  3%|▎         | 33/1000 [01:11<25:11,  1.56s/it, best loss: 0.22318798441763654]\u001b[A\n",
      "\u001b[A{'bootstrap': False, 'class_weight': None, 'criterion': 'gini', 'max_depth': 3, 'max_features': 3, 'max_leaf_nodes': 26, 'min_samples_leaf': 21, 'min_samples_split': 20, 'n_estimators': 790}\n",
      "\n",
      "  3%|▎         | 33/1000 [01:11<25:11,  1.56s/it, best loss: 0.22318798441763654]\u001b[A"
     ]
    },
    {
     "name": "stderr",
     "output_type": "stream",
     "text": [
      "Hyperopt:   3%|▎         | 34/1000 [01:11<29:13,  1.82s/it]"
     ]
    },
    {
     "name": "stdout",
     "output_type": "stream",
     "text": [
      "\n",
      "  3%|▎         | 34/1000 [01:11<29:13,  1.81s/it, best loss: 0.22318798441763654]\u001b[A\n",
      "\u001b[AParameters with this training score 0.7672583141450937 :\n",
      "\n",
      "  3%|▎         | 34/1000 [01:13<29:13,  1.81s/it, best loss: 0.22318798441763654]\u001b[A\n",
      "\u001b[A{'bootstrap': False, 'class_weight': 'balanced', 'criterion': 'gini', 'max_depth': 21, 'max_features': 3, 'max_leaf_nodes': 26, 'min_samples_leaf': 6, 'min_samples_split': 80, 'n_estimators': 350}\n",
      "\n",
      "  3%|▎         | 34/1000 [01:13<29:13,  1.81s/it, best loss: 0.22318798441763654]\u001b[A"
     ]
    },
    {
     "name": "stderr",
     "output_type": "stream",
     "text": [
      "Hyperopt:   4%|▎         | 35/1000 [01:13<26:56,  1.68s/it]"
     ]
    },
    {
     "name": "stdout",
     "output_type": "stream",
     "text": [
      "\n",
      "  4%|▎         | 35/1000 [01:13<26:56,  1.68s/it, best loss: 0.22318798441763654]\u001b[A\n",
      "\u001b[AParameters with this training score 0.7598375636525976 :\n",
      "\n",
      "  4%|▎         | 35/1000 [01:14<26:56,  1.68s/it, best loss: 0.22318798441763654]\u001b[A\n",
      "\u001b[A{'bootstrap': False, 'class_weight': 'balanced', 'criterion': 'gini', 'max_depth': 24, 'max_features': 1, 'max_leaf_nodes': 26, 'min_samples_leaf': 26, 'min_samples_split': 80, 'n_estimators': 310}\n",
      "\n",
      "  4%|▎         | 35/1000 [01:14<26:56,  1.68s/it, best loss: 0.22318798441763654]\u001b[A"
     ]
    },
    {
     "name": "stderr",
     "output_type": "stream",
     "text": [
      "Hyperopt:   4%|▎         | 36/1000 [01:14<25:06,  1.56s/it]"
     ]
    },
    {
     "name": "stdout",
     "output_type": "stream",
     "text": [
      "\n",
      "  4%|▎         | 36/1000 [01:14<25:06,  1.56s/it, best loss: 0.22318798441763654]\u001b[A\n",
      "\u001b[AParameters with this training score 0.504784527370878 :\n",
      "\n",
      "  4%|▎         | 36/1000 [01:15<25:06,  1.56s/it, best loss: 0.22318798441763654]\u001b[A\n",
      "\u001b[A{'bootstrap': False, 'class_weight': None, 'criterion': 'gini', 'max_depth': 28, 'max_features': 3, 'max_leaf_nodes': 14, 'min_samples_leaf': 12, 'min_samples_split': 60, 'n_estimators': 410}\n",
      "\n",
      "  4%|▎         | 36/1000 [01:15<25:06,  1.56s/it, best loss: 0.22318798441763654]\u001b[A"
     ]
    },
    {
     "name": "stderr",
     "output_type": "stream",
     "text": [
      "Hyperopt:   4%|▎         | 37/1000 [01:16<24:29,  1.53s/it]"
     ]
    },
    {
     "name": "stdout",
     "output_type": "stream",
     "text": [
      "\n",
      "  4%|▎         | 37/1000 [01:15<24:29,  1.53s/it, best loss: 0.22318798441763654]\u001b[A\n",
      "\u001b[AParameters with this training score 0.7758229811650356 :\n",
      "\n",
      "  4%|▎         | 37/1000 [01:17<24:29,  1.53s/it, best loss: 0.22318798441763654]\u001b[A\n",
      "\u001b[A{'bootstrap': False, 'class_weight': 'balanced', 'criterion': 'gini', 'max_depth': 16, 'max_features': 3, 'max_leaf_nodes': 26, 'min_samples_leaf': 15, 'min_samples_split': 80, 'n_estimators': 520}\n",
      "\n",
      "  4%|▎         | 37/1000 [01:17<24:29,  1.53s/it, best loss: 0.22318798441763654]\u001b[A"
     ]
    },
    {
     "name": "stderr",
     "output_type": "stream",
     "text": [
      "Hyperopt:   4%|▍         | 38/1000 [01:17<25:44,  1.61s/it]"
     ]
    },
    {
     "name": "stdout",
     "output_type": "stream",
     "text": [
      "\n",
      "  4%|▍         | 38/1000 [01:17<25:44,  1.61s/it, best loss: 0.22318798441763654]\u001b[A\n",
      "\u001b[AParameters with this training score 0.7708197818914101 :\n",
      "\n",
      "  4%|▍         | 38/1000 [01:20<25:44,  1.61s/it, best loss: 0.22318798441763654]\u001b[A\n",
      "\u001b[A{'bootstrap': False, 'class_weight': 'balanced', 'criterion': 'gini', 'max_depth': 32, 'max_features': 2, 'max_leaf_nodes': 26, 'min_samples_leaf': 20, 'min_samples_split': 20, 'n_estimators': 980}\n",
      "\n",
      "  4%|▍         | 38/1000 [01:20<25:44,  1.61s/it, best loss: 0.22318798441763654]\u001b[A"
     ]
    },
    {
     "name": "stderr",
     "output_type": "stream",
     "text": [
      "Hyperopt:   4%|▍         | 39/1000 [01:20<32:40,  2.04s/it]"
     ]
    },
    {
     "name": "stdout",
     "output_type": "stream",
     "text": [
      "\n",
      "  4%|▍         | 39/1000 [01:20<32:40,  2.04s/it, best loss: 0.22318798441763654]\u001b[A\n",
      "\u001b[AParameters with this training score 0.7685546769110385 :\n",
      "\n",
      "  4%|▍         | 39/1000 [01:21<32:40,  2.04s/it, best loss: 0.22318798441763654]\u001b[A\n",
      "\u001b[A{'bootstrap': False, 'class_weight': 'balanced', 'criterion': 'gini', 'max_depth': 11, 'max_features': 3, 'max_leaf_nodes': 22, 'min_samples_leaf': 14, 'min_samples_split': 60, 'n_estimators': 280}\n",
      "\n",
      "  4%|▍         | 39/1000 [01:21<32:40,  2.04s/it, best loss: 0.22318798441763654]\u001b[A"
     ]
    },
    {
     "name": "stderr",
     "output_type": "stream",
     "text": [
      "Hyperopt:   4%|▍         | 40/1000 [01:22<28:32,  1.78s/it]"
     ]
    },
    {
     "name": "stdout",
     "output_type": "stream",
     "text": [
      "\n",
      "  4%|▍         | 40/1000 [01:21<28:32,  1.78s/it, best loss: 0.22318798441763654]\u001b[A\n",
      "\u001b[AParameters with this training score 0.5001461988304093 :\n",
      "\n",
      "  4%|▍         | 40/1000 [01:22<28:32,  1.78s/it, best loss: 0.22318798441763654]\u001b[A\n",
      "\u001b[A{'bootstrap': False, 'class_weight': None, 'criterion': 'gini', 'max_depth': 39, 'max_features': 1, 'max_leaf_nodes': 20, 'min_samples_leaf': 27, 'min_samples_split': 30, 'n_estimators': 250}\n",
      "\n",
      "  4%|▍         | 40/1000 [01:22<28:32,  1.78s/it, best loss: 0.22318798441763654]\u001b[A"
     ]
    },
    {
     "name": "stderr",
     "output_type": "stream",
     "text": [
      "Hyperopt:   4%|▍         | 41/1000 [01:23<24:35,  1.54s/it]"
     ]
    },
    {
     "name": "stdout",
     "output_type": "stream",
     "text": [
      "\n",
      "  4%|▍         | 41/1000 [01:22<24:35,  1.54s/it, best loss: 0.22318798441763654]\u001b[A\n",
      "\u001b[AParameters with this training score 0.7110585185641102 :\n",
      "\n",
      "  4%|▍         | 41/1000 [01:26<24:35,  1.54s/it, best loss: 0.22318798441763654]\u001b[A\n",
      "\u001b[A{'bootstrap': True, 'class_weight': 'balanced', 'criterion': 'gini', 'max_depth': 9, 'max_features': 3, 'max_leaf_nodes': 12, 'min_samples_leaf': 9, 'min_samples_split': 40, 'n_estimators': 990}\n",
      "\n",
      "  4%|▍         | 41/1000 [01:26<24:35,  1.54s/it, best loss: 0.22318798441763654]\u001b[A"
     ]
    },
    {
     "name": "stderr",
     "output_type": "stream",
     "text": [
      "Hyperopt:   4%|▍         | 42/1000 [01:26<33:51,  2.12s/it]"
     ]
    },
    {
     "name": "stdout",
     "output_type": "stream",
     "text": [
      "\n",
      "  4%|▍         | 42/1000 [01:26<33:52,  2.12s/it, best loss: 0.22318798441763654]\u001b[A\n",
      "\u001b[AParameters with this training score 0.748089171335308 :\n",
      "\n",
      "  4%|▍         | 42/1000 [01:27<33:52,  2.12s/it, best loss: 0.22318798441763654]\u001b[A\n",
      "\u001b[A{'bootstrap': False, 'class_weight': 'balanced', 'criterion': 'entropy', 'max_depth': 12, 'max_features': 4, 'max_leaf_nodes': 16, 'min_samples_leaf': 1, 'min_samples_split': 80, 'n_estimators': 130}\n",
      "\n",
      "  4%|▍         | 42/1000 [01:27<33:52,  2.12s/it, best loss: 0.22318798441763654]\u001b[A"
     ]
    },
    {
     "name": "stderr",
     "output_type": "stream",
     "text": [
      "Hyperopt:   4%|▍         | 43/1000 [01:27<27:29,  1.72s/it]"
     ]
    },
    {
     "name": "stdout",
     "output_type": "stream",
     "text": [
      "\n",
      "  4%|▍         | 43/1000 [01:27<27:28,  1.72s/it, best loss: 0.22318798441763654]\u001b[A\n",
      "\u001b[AParameters with this training score 0.49977628635346755 :\n",
      "\n",
      "  4%|▍         | 43/1000 [01:28<27:28,  1.72s/it, best loss: 0.22318798441763654]\u001b[A\n",
      "\u001b[A{'bootstrap': False, 'class_weight': None, 'criterion': 'gini', 'max_depth': 35, 'max_features': 3, 'max_leaf_nodes': 10, 'min_samples_leaf': 24, 'min_samples_split': 70, 'n_estimators': 260}\n",
      "\n",
      "  4%|▍         | 43/1000 [01:28<27:28,  1.72s/it, best loss: 0.22318798441763654]\u001b[A"
     ]
    },
    {
     "name": "stderr",
     "output_type": "stream",
     "text": [
      "Hyperopt:   4%|▍         | 44/1000 [01:28<23:59,  1.51s/it]"
     ]
    },
    {
     "name": "stdout",
     "output_type": "stream",
     "text": [
      "\n",
      "  4%|▍         | 44/1000 [01:28<23:59,  1.51s/it, best loss: 0.22318798441763654]\u001b[A\n",
      "\u001b[AParameters with this training score 0.7168467424434105 :\n",
      "\n",
      "  4%|▍         | 44/1000 [01:28<23:59,  1.51s/it, best loss: 0.22318798441763654]\u001b[A\n",
      "\u001b[A{'bootstrap': True, 'class_weight': 'balanced', 'criterion': 'entropy', 'max_depth': 10, 'max_features': 2, 'max_leaf_nodes': 26, 'min_samples_leaf': 4, 'min_samples_split': 10, 'n_estimators': 100}\n",
      "\n",
      "  4%|▍         | 44/1000 [01:28<23:59,  1.51s/it, best loss: 0.22318798441763654]\u001b[A"
     ]
    },
    {
     "name": "stderr",
     "output_type": "stream",
     "text": [
      "Hyperopt:   4%|▍         | 45/1000 [01:28<19:56,  1.25s/it]"
     ]
    },
    {
     "name": "stdout",
     "output_type": "stream",
     "text": [
      "\n",
      "  4%|▍         | 45/1000 [01:28<19:56,  1.25s/it, best loss: 0.22318798441763654]\u001b[A\n",
      "\u001b[AParameters with this training score 0.7333942590600637 :\n",
      "\n",
      "  4%|▍         | 45/1000 [01:31<19:56,  1.25s/it, best loss: 0.22318798441763654]\u001b[A\n",
      "\u001b[A{'bootstrap': False, 'class_weight': 'balanced', 'criterion': 'gini', 'max_depth': 49, 'max_features': 4, 'max_leaf_nodes': 12, 'min_samples_leaf': 7, 'min_samples_split': 50, 'n_estimators': 780}\n",
      "\n",
      "  4%|▍         | 45/1000 [01:31<19:56,  1.25s/it, best loss: 0.22318798441763654]\u001b[A"
     ]
    },
    {
     "name": "stderr",
     "output_type": "stream",
     "text": [
      "Hyperopt:   5%|▍         | 46/1000 [01:31<25:29,  1.60s/it]"
     ]
    },
    {
     "name": "stdout",
     "output_type": "stream",
     "text": [
      "\n",
      "  5%|▍         | 46/1000 [01:31<25:29,  1.60s/it, best loss: 0.22318798441763654]\u001b[A\n",
      "\u001b[AParameters with this training score 0.5019413554623152 :\n",
      "\n",
      "  5%|▍         | 46/1000 [01:34<25:29,  1.60s/it, best loss: 0.22318798441763654]\u001b[A\n",
      "\u001b[A{'bootstrap': False, 'class_weight': None, 'criterion': 'entropy', 'max_depth': 31, 'max_features': 3, 'max_leaf_nodes': 14, 'min_samples_leaf': 11, 'min_samples_split': 80, 'n_estimators': 890}\n",
      "\n",
      "  5%|▍         | 46/1000 [01:34<25:29,  1.60s/it, best loss: 0.22318798441763654]\u001b[A"
     ]
    },
    {
     "name": "stderr",
     "output_type": "stream",
     "text": [
      "Hyperopt:   5%|▍         | 47/1000 [01:34<30:55,  1.95s/it]"
     ]
    },
    {
     "name": "stdout",
     "output_type": "stream",
     "text": [
      "\n",
      "  5%|▍         | 47/1000 [01:34<30:55,  1.95s/it, best loss: 0.22318798441763654]\u001b[A\n",
      "\u001b[AParameters with this training score 0.7514737787031109 :\n",
      "\n",
      "  5%|▍         | 47/1000 [01:36<30:55,  1.95s/it, best loss: 0.22318798441763654]\u001b[A\n",
      "\u001b[A{'bootstrap': True, 'class_weight': 'balanced', 'criterion': 'gini', 'max_depth': 25, 'max_features': 1, 'max_leaf_nodes': 22, 'min_samples_leaf': 16, 'min_samples_split': 60, 'n_estimators': 510}\n",
      "\n",
      "  5%|▍         | 47/1000 [01:36<30:55,  1.95s/it, best loss: 0.22318798441763654]\u001b[A"
     ]
    },
    {
     "name": "stderr",
     "output_type": "stream",
     "text": [
      "Hyperopt:   5%|▍         | 48/1000 [01:36<31:23,  1.98s/it]"
     ]
    },
    {
     "name": "stdout",
     "output_type": "stream",
     "text": [
      "\n",
      "  5%|▍         | 48/1000 [01:36<31:23,  1.98s/it, best loss: 0.22318798441763654]\u001b[A\n",
      "\u001b[AParameters with this training score 0.7506221696267223 :\n",
      "\n",
      "  5%|▍         | 48/1000 [01:38<31:23,  1.98s/it, best loss: 0.22318798441763654]\u001b[A\n",
      "\u001b[A{'bootstrap': False, 'class_weight': 'balanced', 'criterion': 'entropy', 'max_depth': 14, 'max_features': 2, 'max_leaf_nodes': 18, 'min_samples_leaf': 17, 'min_samples_split': 30, 'n_estimators': 840}\n",
      "\n",
      "  5%|▍         | 48/1000 [01:38<31:23,  1.98s/it, best loss: 0.22318798441763654]\u001b[A"
     ]
    },
    {
     "name": "stderr",
     "output_type": "stream",
     "text": [
      "Hyperopt:   5%|▍         | 49/1000 [01:38<34:18,  2.16s/it]"
     ]
    },
    {
     "name": "stdout",
     "output_type": "stream",
     "text": [
      "\n",
      "  5%|▍         | 49/1000 [01:38<34:18,  2.16s/it, best loss: 0.22318798441763654]\u001b[A\n",
      "\u001b[AParameters with this training score 0.7588138226920249 :\n",
      "\n",
      "  5%|▍         | 49/1000 [01:39<34:18,  2.16s/it, best loss: 0.22318798441763654]\u001b[A\n",
      "\u001b[A{'bootstrap': True, 'class_weight': 'balanced', 'criterion': 'gini', 'max_depth': 33, 'max_features': 4, 'max_leaf_nodes': 20, 'min_samples_leaf': 24, 'min_samples_split': 40, 'n_estimators': 50}\n",
      "\n",
      "  5%|▍         | 49/1000 [01:39<34:18,  2.16s/it, best loss: 0.22318798441763654]\u001b[A"
     ]
    },
    {
     "name": "stderr",
     "output_type": "stream",
     "text": [
      "Hyperopt:   5%|▌         | 50/1000 [01:39<26:36,  1.68s/it]"
     ]
    },
    {
     "name": "stdout",
     "output_type": "stream",
     "text": [
      "\n",
      "  5%|▌         | 50/1000 [01:39<26:36,  1.68s/it, best loss: 0.22318798441763654]\u001b[A\n",
      "\u001b[AParameters with this training score 0.5153809950498232 :\n",
      "\n",
      "  5%|▌         | 50/1000 [01:41<26:36,  1.68s/it, best loss: 0.22318798441763654]\u001b[A\n",
      "\u001b[A{'bootstrap': False, 'class_weight': None, 'criterion': 'gini', 'max_depth': 27, 'max_features': 3, 'max_leaf_nodes': 16, 'min_samples_leaf': 23, 'min_samples_split': 70, 'n_estimators': 870}\n",
      "\n",
      "  5%|▌         | 50/1000 [01:41<26:36,  1.68s/it, best loss: 0.22318798441763654]\u001b[A"
     ]
    },
    {
     "name": "stderr",
     "output_type": "stream",
     "text": [
      "Hyperopt:   5%|▌         | 51/1000 [01:42<31:22,  1.98s/it]"
     ]
    },
    {
     "name": "stdout",
     "output_type": "stream",
     "text": [
      "\n",
      "  5%|▌         | 51/1000 [01:41<31:22,  1.98s/it, best loss: 0.22318798441763654]\u001b[A\n",
      "\u001b[AParameters with this training score 0.7615090138773181 :\n",
      "\n",
      "  5%|▌         | 51/1000 [01:42<31:22,  1.98s/it, best loss: 0.22318798441763654]\u001b[A\n",
      "\u001b[A{'bootstrap': False, 'class_weight': 'balanced', 'criterion': 'entropy', 'max_depth': 48, 'max_features': 3, 'max_leaf_nodes': 28, 'min_samples_leaf': 8, 'min_samples_split': 10, 'n_estimators': 200}\n",
      "\n",
      "  5%|▌         | 51/1000 [01:42<31:22,  1.98s/it, best loss: 0.22318798441763654]\u001b[A"
     ]
    },
    {
     "name": "stderr",
     "output_type": "stream",
     "text": [
      "Hyperopt:   5%|▌         | 52/1000 [01:42<26:04,  1.65s/it]"
     ]
    },
    {
     "name": "stdout",
     "output_type": "stream",
     "text": [
      "\n",
      "  5%|▌         | 52/1000 [01:42<26:04,  1.65s/it, best loss: 0.22318798441763654]\u001b[A\n",
      "\u001b[AParameters with this training score 0.7634257898083877 :\n",
      "\n",
      "  5%|▌         | 52/1000 [01:45<26:04,  1.65s/it, best loss: 0.22318798441763654]\u001b[A\n",
      "\u001b[A{'bootstrap': True, 'class_weight': 'balanced', 'criterion': 'gini', 'max_depth': 38, 'max_features': 2, 'max_leaf_nodes': 26, 'min_samples_leaf': 25, 'min_samples_split': 80, 'n_estimators': 770}\n",
      "\n",
      "  5%|▌         | 52/1000 [01:45<26:04,  1.65s/it, best loss: 0.22318798441763654]\u001b[A"
     ]
    },
    {
     "name": "stderr",
     "output_type": "stream",
     "text": [
      "Hyperopt:   5%|▌         | 53/1000 [01:45<31:03,  1.97s/it]"
     ]
    },
    {
     "name": "stdout",
     "output_type": "stream",
     "text": [
      "\n",
      "  5%|▌         | 53/1000 [01:45<31:03,  1.97s/it, best loss: 0.22318798441763654]\u001b[A\n",
      "\u001b[AParameters with this training score 0.5991581265518422 :\n",
      "\n",
      "  5%|▌         | 53/1000 [01:47<31:03,  1.97s/it, best loss: 0.22318798441763654]\u001b[A\n",
      "\u001b[A{'bootstrap': False, 'class_weight': None, 'criterion': 'gini', 'max_depth': 15, 'max_features': 4, 'max_leaf_nodes': 18, 'min_samples_leaf': 22, 'min_samples_split': 50, 'n_estimators': 450}\n",
      "\n",
      "  5%|▌         | 53/1000 [01:47<31:03,  1.97s/it, best loss: 0.22318798441763654]\u001b[A"
     ]
    },
    {
     "name": "stderr",
     "output_type": "stream",
     "text": [
      "Hyperopt:   5%|▌         | 54/1000 [01:47<28:53,  1.83s/it]"
     ]
    },
    {
     "name": "stdout",
     "output_type": "stream",
     "text": [
      "\n",
      "  5%|▌         | 54/1000 [01:47<28:53,  1.83s/it, best loss: 0.22318798441763654]\u001b[A\n",
      "\u001b[AParameters with this training score 0.6894039490880722 :\n",
      "\n",
      "  5%|▌         | 54/1000 [01:47<28:53,  1.83s/it, best loss: 0.22318798441763654]\u001b[A\n",
      "\u001b[A{'bootstrap': False, 'class_weight': 'balanced', 'criterion': 'entropy', 'max_depth': 13, 'max_features': 3, 'max_leaf_nodes': 10, 'min_samples_leaf': 10, 'min_samples_split': 80, 'n_estimators': 90}\n",
      "\n",
      "  5%|▌         | 54/1000 [01:47<28:53,  1.83s/it, best loss: 0.22318798441763654]\u001b[A"
     ]
    },
    {
     "name": "stderr",
     "output_type": "stream",
     "text": [
      "Hyperopt:   6%|▌         | 55/1000 [01:47<22:55,  1.46s/it]"
     ]
    },
    {
     "name": "stdout",
     "output_type": "stream",
     "text": [
      "\n",
      "  6%|▌         | 55/1000 [01:47<22:55,  1.46s/it, best loss: 0.22318798441763654]\u001b[A\n",
      "\u001b[AParameters with this training score 0.7587340926272871 :\n",
      "\n",
      "  6%|▌         | 55/1000 [01:49<22:55,  1.46s/it, best loss: 0.22318798441763654]\u001b[A\n",
      "\u001b[A{'bootstrap': True, 'class_weight': 'balanced', 'criterion': 'gini', 'max_depth': 40, 'max_features': 1, 'max_leaf_nodes': 26, 'min_samples_leaf': 29, 'min_samples_split': 20, 'n_estimators': 440}\n",
      "\n",
      "  6%|▌         | 55/1000 [01:49<22:55,  1.46s/it, best loss: 0.22318798441763654]\u001b[A"
     ]
    },
    {
     "name": "stderr",
     "output_type": "stream",
     "text": [
      "Hyperopt:   6%|▌         | 56/1000 [01:49<24:38,  1.57s/it]"
     ]
    },
    {
     "name": "stdout",
     "output_type": "stream",
     "text": [
      "\n",
      "  6%|▌         | 56/1000 [01:49<24:38,  1.57s/it, best loss: 0.22318798441763654]\u001b[A\n",
      "\u001b[AParameters with this training score 0.72094042492778 :\n",
      "\n",
      "  6%|▌         | 56/1000 [01:51<24:38,  1.57s/it, best loss: 0.22318798441763654]\u001b[A\n",
      "\u001b[A{'bootstrap': False, 'class_weight': 'balanced', 'criterion': 'gini', 'max_depth': 42, 'max_features': 3, 'max_leaf_nodes': 12, 'min_samples_leaf': 5, 'min_samples_split': 30, 'n_estimators': 500}\n",
      "\n",
      "  6%|▌         | 56/1000 [01:51<24:38,  1.57s/it, best loss: 0.22318798441763654]\u001b[A"
     ]
    },
    {
     "name": "stderr",
     "output_type": "stream",
     "text": [
      "Hyperopt:   6%|▌         | 57/1000 [01:51<25:28,  1.62s/it]"
     ]
    },
    {
     "name": "stdout",
     "output_type": "stream",
     "text": [
      "\n",
      "  6%|▌         | 57/1000 [01:51<25:28,  1.62s/it, best loss: 0.22318798441763654]\u001b[A\n",
      "\u001b[AParameters with this training score 0.7755308886313529 :\n",
      "\n",
      "  6%|▌         | 57/1000 [01:53<25:28,  1.62s/it, best loss: 0.22318798441763654]\u001b[A\n",
      "\u001b[A{'bootstrap': False, 'class_weight': 'balanced', 'criterion': 'gini', 'max_depth': 34, 'max_features': 3, 'max_leaf_nodes': 28, 'min_samples_leaf': 18, 'min_samples_split': 40, 'n_estimators': 800}\n",
      "\n",
      "  6%|▌         | 57/1000 [01:53<25:28,  1.62s/it, best loss: 0.22318798441763654]\u001b[A"
     ]
    },
    {
     "name": "stderr",
     "output_type": "stream",
     "text": [
      "Hyperopt:   6%|▌         | 58/1000 [01:53<29:50,  1.90s/it]"
     ]
    },
    {
     "name": "stdout",
     "output_type": "stream",
     "text": [
      "\n",
      "  6%|▌         | 58/1000 [01:53<29:50,  1.90s/it, best loss: 0.22318798441763654]\u001b[A\n",
      "\u001b[AParameters with this training score 0.5 :\n",
      "\n",
      "  6%|▌         | 58/1000 [01:56<29:50,  1.90s/it, best loss: 0.22318798441763654]\u001b[A\n",
      "\u001b[A{'bootstrap': False, 'class_weight': None, 'criterion': 'entropy', 'max_depth': 1, 'max_features': 2, 'max_leaf_nodes': 14, 'min_samples_leaf': 2, 'min_samples_split': 10, 'n_estimators': 730}\n",
      "\n",
      "  6%|▌         | 58/1000 [01:56<29:50,  1.90s/it, best loss: 0.22318798441763654]\u001b[A"
     ]
    },
    {
     "name": "stderr",
     "output_type": "stream",
     "text": [
      "Hyperopt:   6%|▌         | 59/1000 [01:56<32:08,  2.05s/it]"
     ]
    },
    {
     "name": "stdout",
     "output_type": "stream",
     "text": [
      "\n",
      "  6%|▌         | 59/1000 [01:56<32:08,  2.05s/it, best loss: 0.22318798441763654]\u001b[A\n",
      "\u001b[AParameters with this training score 0.7741110148820306 :\n",
      "\n",
      "  6%|▌         | 59/1000 [01:58<32:08,  2.05s/it, best loss: 0.22318798441763654]\u001b[A\n",
      "\u001b[A{'bootstrap': True, 'class_weight': 'balanced', 'criterion': 'gini', 'max_depth': 47, 'max_features': 4, 'max_leaf_nodes': 22, 'min_samples_leaf': 24, 'min_samples_split': 70, 'n_estimators': 560}\n",
      "\n",
      "  6%|▌         | 59/1000 [01:58<32:08,  2.05s/it, best loss: 0.22318798441763654]\u001b[A"
     ]
    },
    {
     "name": "stderr",
     "output_type": "stream",
     "text": [
      "Hyperopt:   6%|▌         | 60/1000 [01:58<32:35,  2.08s/it]"
     ]
    },
    {
     "name": "stdout",
     "output_type": "stream",
     "text": [
      "\n",
      "  6%|▌         | 60/1000 [01:58<32:35,  2.08s/it, best loss: 0.22318798441763654]\u001b[A\n",
      "\u001b[AParameters with this training score 0.7491924722080274 :\n",
      "\n",
      "  6%|▌         | 60/1000 [02:01<32:35,  2.08s/it, best loss: 0.22318798441763654]\u001b[A\n",
      "\u001b[A{'bootstrap': False, 'class_weight': 'balanced', 'criterion': 'gini', 'max_depth': 26, 'max_features': 1, 'max_leaf_nodes': 20, 'min_samples_leaf': 28, 'min_samples_split': 80, 'n_estimators': 960}\n",
      "\n",
      "  6%|▌         | 60/1000 [02:01<32:35,  2.08s/it, best loss: 0.22318798441763654]\u001b[A"
     ]
    },
    {
     "name": "stderr",
     "output_type": "stream",
     "text": [
      "Hyperopt:   6%|▌         | 61/1000 [02:01<36:33,  2.34s/it]"
     ]
    },
    {
     "name": "stdout",
     "output_type": "stream",
     "text": [
      "\n",
      "  6%|▌         | 61/1000 [02:01<36:33,  2.34s/it, best loss: 0.22318798441763654]\u001b[A\n",
      "\u001b[AParameters with this training score 0.7538984849252559 :\n",
      "\n",
      "  6%|▌         | 61/1000 [02:01<36:33,  2.34s/it, best loss: 0.22318798441763654]\u001b[A\n",
      "\u001b[A{'bootstrap': False, 'class_weight': 'balanced', 'criterion': 'gini', 'max_depth': 19, 'max_features': 3, 'max_leaf_nodes': 16, 'min_samples_leaf': 21, 'min_samples_split': 50, 'n_estimators': 80}\n",
      "\n",
      "  6%|▌         | 61/1000 [02:01<36:33,  2.34s/it, best loss: 0.22318798441763654]\u001b[A"
     ]
    },
    {
     "name": "stderr",
     "output_type": "stream",
     "text": [
      "Hyperopt:   6%|▌         | 62/1000 [02:01<28:19,  1.81s/it]"
     ]
    },
    {
     "name": "stdout",
     "output_type": "stream",
     "text": [
      "\n",
      "  6%|▌         | 62/1000 [02:01<28:19,  1.81s/it, best loss: 0.22318798441763654]\u001b[A\n",
      "\u001b[AParameters with this training score 0.5699137451759684 :\n",
      "\n",
      "  6%|▌         | 62/1000 [02:03<28:19,  1.81s/it, best loss: 0.22318798441763654]\u001b[A\n",
      "\u001b[A{'bootstrap': False, 'class_weight': None, 'criterion': 'gini', 'max_depth': 8, 'max_features': 3, 'max_leaf_nodes': 26, 'min_samples_leaf': 6, 'min_samples_split': 60, 'n_estimators': 400}\n",
      "\n",
      "  6%|▌         | 62/1000 [02:03<28:19,  1.81s/it, best loss: 0.22318798441763654]\u001b[A"
     ]
    },
    {
     "name": "stderr",
     "output_type": "stream",
     "text": [
      "Hyperopt:   6%|▋         | 63/1000 [02:03<26:24,  1.69s/it]"
     ]
    },
    {
     "name": "stdout",
     "output_type": "stream",
     "text": [
      "\n",
      "  6%|▋         | 63/1000 [02:03<26:24,  1.69s/it, best loss: 0.22318798441763654]\u001b[A\n",
      "\u001b[AParameters with this training score 0.7640328097007583 :\n",
      "\n",
      "  6%|▋         | 63/1000 [02:04<26:24,  1.69s/it, best loss: 0.22318798441763654]\u001b[A\n",
      "\u001b[A{'bootstrap': True, 'class_weight': 'balanced', 'criterion': 'entropy', 'max_depth': 36, 'max_features': 3, 'max_leaf_nodes': 26, 'min_samples_leaf': 13, 'min_samples_split': 80, 'n_estimators': 320}\n",
      "\n",
      "  6%|▋         | 63/1000 [02:04<26:24,  1.69s/it, best loss: 0.22318798441763654]\u001b[A"
     ]
    },
    {
     "name": "stderr",
     "output_type": "stream",
     "text": [
      "Hyperopt:   6%|▋         | 64/1000 [02:04<24:37,  1.58s/it]"
     ]
    },
    {
     "name": "stdout",
     "output_type": "stream",
     "text": [
      "\n",
      "  6%|▋         | 64/1000 [02:04<24:37,  1.58s/it, best loss: 0.22318798441763654]\u001b[A\n",
      "\u001b[AParameters with this training score 0.6958211648303398 :\n",
      "\n",
      "  6%|▋         | 64/1000 [02:06<24:37,  1.58s/it, best loss: 0.22318798441763654]\u001b[A\n",
      "\u001b[A{'bootstrap': False, 'class_weight': 'balanced', 'criterion': 'gini', 'max_depth': 31, 'max_features': 2, 'max_leaf_nodes': 10, 'min_samples_leaf': 12, 'min_samples_split': 20, 'n_estimators': 710}\n",
      "\n",
      "  6%|▋         | 64/1000 [02:06<24:37,  1.58s/it, best loss: 0.22318798441763654]\u001b[A"
     ]
    },
    {
     "name": "stderr",
     "output_type": "stream",
     "text": [
      "Hyperopt:   6%|▋         | 65/1000 [02:06<27:33,  1.77s/it]"
     ]
    },
    {
     "name": "stdout",
     "output_type": "stream",
     "text": [
      "\n",
      "  6%|▋         | 65/1000 [02:06<27:33,  1.77s/it, best loss: 0.22318798441763654]\u001b[A\n",
      "\u001b[AParameters with this training score 0.7763735959896528 :\n",
      "\n",
      "  6%|▋         | 65/1000 [02:08<27:33,  1.77s/it, best loss: 0.22318798441763654]\u001b[A\n",
      "\u001b[A{'bootstrap': False, 'class_weight': 'balanced', 'criterion': 'gini', 'max_depth': 31, 'max_features': 3, 'max_leaf_nodes': 26, 'min_samples_leaf': 24, 'min_samples_split': 80, 'n_estimators': 450}\n",
      "\n",
      "  6%|▋         | 65/1000 [02:08<27:33,  1.77s/it, best loss: 0.22318798441763654]\u001b[A"
     ]
    },
    {
     "name": "stderr",
     "output_type": "stream",
     "text": [
      "Hyperopt:   7%|▋         | 66/1000 [02:08<27:11,  1.75s/it]"
     ]
    },
    {
     "name": "stdout",
     "output_type": "stream",
     "text": [
      "\n",
      "  7%|▋         | 66/1000 [02:08<27:11,  1.75s/it, best loss: 0.22318798441763654]\u001b[A\n",
      "\u001b[AParameters with this training score 0.7692027127804564 :\n",
      "\n",
      "  7%|▋         | 66/1000 [02:08<27:11,  1.75s/it, best loss: 0.22318798441763654]\u001b[A\n",
      "\u001b[A{'bootstrap': False, 'class_weight': 'balanced', 'criterion': 'gini', 'max_depth': 44, 'max_features': 3, 'max_leaf_nodes': 26, 'min_samples_leaf': 24, 'min_samples_split': 80, 'n_estimators': 40}\n",
      "\n",
      "  7%|▋         | 66/1000 [02:08<27:11,  1.75s/it, best loss: 0.22318798441763654]\u001b[A"
     ]
    },
    {
     "name": "stderr",
     "output_type": "stream",
     "text": [
      "Hyperopt:   7%|▋         | 67/1000 [02:08<20:59,  1.35s/it]"
     ]
    },
    {
     "name": "stdout",
     "output_type": "stream",
     "text": [
      "\n",
      "  7%|▋         | 67/1000 [02:08<20:59,  1.35s/it, best loss: 0.22318798441763654]\u001b[A\n",
      "\u001b[AParameters with this training score 0.7781013459320416 :\n",
      "\n",
      "  7%|▋         | 67/1000 [02:10<20:59,  1.35s/it, best loss: 0.22318798441763654]\u001b[A\n",
      "\u001b[A{'bootstrap': False, 'class_weight': 'balanced', 'criterion': 'gini', 'max_depth': 31, 'max_features': 3, 'max_leaf_nodes': 26, 'min_samples_leaf': 24, 'min_samples_split': 80, 'n_estimators': 300}\n",
      "\n",
      "  7%|▋         | 67/1000 [02:10<20:59,  1.35s/it, best loss: 0.22318798441763654]\u001b[A"
     ]
    },
    {
     "name": "stderr",
     "output_type": "stream",
     "text": [
      "Hyperopt:   7%|▋         | 68/1000 [02:10<20:13,  1.30s/it]"
     ]
    },
    {
     "name": "stdout",
     "output_type": "stream",
     "text": [
      "\n",
      "  7%|▋         | 68/1000 [02:10<20:13,  1.30s/it, best loss: 0.2218986540679584] \u001b[A\n",
      "\u001b[AParameters with this training score 0.7765535484591835 :\n",
      "\n",
      "  7%|▋         | 68/1000 [02:13<20:13,  1.30s/it, best loss: 0.2218986540679584]\u001b[A\n",
      "\u001b[A{'bootstrap': False, 'class_weight': 'balanced', 'criterion': 'gini', 'max_depth': 22, 'max_features': 3, 'max_leaf_nodes': 26, 'min_samples_leaf': 26, 'min_samples_split': 80, 'n_estimators': 940}\n",
      "\n",
      "  7%|▋         | 68/1000 [02:13<20:13,  1.30s/it, best loss: 0.2218986540679584]\u001b[A"
     ]
    },
    {
     "name": "stderr",
     "output_type": "stream",
     "text": [
      "Hyperopt:   7%|▋         | 69/1000 [02:13<27:58,  1.80s/it]"
     ]
    },
    {
     "name": "stdout",
     "output_type": "stream",
     "text": [
      "\n",
      "  7%|▋         | 69/1000 [02:13<27:58,  1.80s/it, best loss: 0.2218986540679584]\u001b[A\n",
      "\u001b[AParameters with this training score 0.7765277142336313 :\n",
      "\n",
      "  7%|▋         | 69/1000 [02:14<27:58,  1.80s/it, best loss: 0.2218986540679584]\u001b[A\n",
      "\u001b[A{'bootstrap': False, 'class_weight': 'balanced', 'criterion': 'gini', 'max_depth': 22, 'max_features': 3, 'max_leaf_nodes': 26, 'min_samples_leaf': 26, 'min_samples_split': 80, 'n_estimators': 270}\n",
      "\n",
      "  7%|▋         | 69/1000 [02:14<27:58,  1.80s/it, best loss: 0.2218986540679584]\u001b[A"
     ]
    },
    {
     "name": "stderr",
     "output_type": "stream",
     "text": [
      "Hyperopt:   7%|▋         | 70/1000 [02:14<24:15,  1.56s/it]"
     ]
    },
    {
     "name": "stdout",
     "output_type": "stream",
     "text": [
      "\n",
      "  7%|▋         | 70/1000 [02:14<24:15,  1.56s/it, best loss: 0.2218986540679584]\u001b[A\n",
      "\u001b[AParameters with this training score 0.5791082596071991 :\n",
      "\n",
      "  7%|▋         | 70/1000 [02:15<24:15,  1.56s/it, best loss: 0.2218986540679584]\u001b[A\n",
      "\u001b[A{'bootstrap': False, 'class_weight': 'balanced', 'criterion': 'gini', 'max_depth': 2, 'max_features': 3, 'max_leaf_nodes': 26, 'min_samples_leaf': 15, 'min_samples_split': 80, 'n_estimators': 300}\n",
      "\n",
      "  7%|▋         | 70/1000 [02:15<24:15,  1.56s/it, best loss: 0.2218986540679584]\u001b[A"
     ]
    },
    {
     "name": "stderr",
     "output_type": "stream",
     "text": [
      "Hyperopt:   7%|▋         | 71/1000 [02:15<22:33,  1.46s/it]"
     ]
    },
    {
     "name": "stdout",
     "output_type": "stream",
     "text": [
      "\n",
      "  7%|▋         | 71/1000 [02:15<22:33,  1.46s/it, best loss: 0.2218986540679584]\u001b[A\n",
      "\u001b[AParameters with this training score 0.7668971959395565 :\n",
      "\n",
      "  7%|▋         | 71/1000 [02:18<22:33,  1.46s/it, best loss: 0.2218986540679584]\u001b[A\n",
      "\u001b[A{'bootstrap': False, 'class_weight': 'balanced', 'criterion': 'gini', 'max_depth': 23, 'max_features': 3, 'max_leaf_nodes': 18, 'min_samples_leaf': 26, 'min_samples_split': 90, 'n_estimators': 940}\n",
      "\n",
      "  7%|▋         | 71/1000 [02:18<22:33,  1.46s/it, best loss: 0.2218986540679584]\u001b[A"
     ]
    },
    {
     "name": "stderr",
     "output_type": "stream",
     "text": [
      "Hyperopt:   7%|▋         | 72/1000 [02:18<30:21,  1.96s/it]"
     ]
    },
    {
     "name": "stdout",
     "output_type": "stream",
     "text": [
      "\n",
      "  7%|▋         | 72/1000 [02:18<30:21,  1.96s/it, best loss: 0.2218986540679584]\u001b[A\n",
      "\u001b[AParameters with this training score 0.7762443275220946 :\n",
      "\n",
      "  7%|▋         | 72/1000 [02:20<30:21,  1.96s/it, best loss: 0.2218986540679584]\u001b[A\n",
      "\u001b[A{'bootstrap': False, 'class_weight': 'balanced', 'criterion': 'gini', 'max_depth': 22, 'max_features': 3, 'max_leaf_nodes': 28, 'min_samples_leaf': 14, 'min_samples_split': 80, 'n_estimators': 690}\n",
      "\n",
      "  7%|▋         | 72/1000 [02:20<30:21,  1.96s/it, best loss: 0.2218986540679584]\u001b[A"
     ]
    },
    {
     "name": "stderr",
     "output_type": "stream",
     "text": [
      "Hyperopt:   7%|▋         | 73/1000 [02:20<31:37,  2.05s/it]"
     ]
    },
    {
     "name": "stdout",
     "output_type": "stream",
     "text": [
      "\n",
      "  7%|▋         | 73/1000 [02:20<31:37,  2.05s/it, best loss: 0.2218986540679584]\u001b[A\n",
      "\u001b[AParameters with this training score 0.7754193515794047 :\n",
      "\n",
      "  7%|▋         | 73/1000 [02:22<31:37,  2.05s/it, best loss: 0.2218986540679584]\u001b[A\n",
      "\u001b[A{'bootstrap': False, 'class_weight': 'balanced', 'criterion': 'gini', 'max_depth': 7, 'max_features': 3, 'max_leaf_nodes': 26, 'min_samples_leaf': 26, 'min_samples_split': 30, 'n_estimators': 600}\n",
      "\n",
      "  7%|▋         | 73/1000 [02:22<31:37,  2.05s/it, best loss: 0.2218986540679584]\u001b[A"
     ]
    },
    {
     "name": "stderr",
     "output_type": "stream",
     "text": [
      "Hyperopt:   7%|▋         | 74/1000 [02:22<31:50,  2.06s/it]"
     ]
    },
    {
     "name": "stdout",
     "output_type": "stream",
     "text": [
      "\n",
      "  7%|▋         | 74/1000 [02:22<31:50,  2.06s/it, best loss: 0.2218986540679584]\u001b[A\n",
      "\u001b[AParameters with this training score 0.7570521729887865 :\n",
      "\n",
      "  7%|▋         | 74/1000 [02:24<31:50,  2.06s/it, best loss: 0.2218986540679584]\u001b[A\n",
      "\u001b[A{'bootstrap': False, 'class_weight': 'balanced', 'criterion': 'gini', 'max_depth': 29, 'max_features': 3, 'max_leaf_nodes': 14, 'min_samples_leaf': 27, 'min_samples_split': 80, 'n_estimators': 570}\n",
      "\n",
      "  7%|▋         | 74/1000 [02:24<31:50,  2.06s/it, best loss: 0.2218986540679584]\u001b[A"
     ]
    },
    {
     "name": "stderr",
     "output_type": "stream",
     "text": [
      "Hyperopt:   8%|▊         | 75/1000 [02:24<30:36,  1.99s/it]"
     ]
    },
    {
     "name": "stdout",
     "output_type": "stream",
     "text": [
      "\n",
      "  8%|▊         | 75/1000 [02:24<30:36,  1.99s/it, best loss: 0.2218986540679584]\u001b[A\n",
      "\u001b[AParameters with this training score 0.7034364630243681 :\n",
      "\n",
      "  8%|▊         | 75/1000 [02:27<30:36,  1.99s/it, best loss: 0.2218986540679584]\u001b[A\n",
      "\u001b[A{'bootstrap': False, 'class_weight': 'balanced', 'criterion': 'gini', 'max_depth': 17, 'max_features': 1, 'max_leaf_nodes': 12, 'min_samples_leaf': 20, 'min_samples_split': 70, 'n_estimators': 810}\n",
      "\n",
      "  8%|▊         | 75/1000 [02:27<30:36,  1.99s/it, best loss: 0.2218986540679584]\u001b[A"
     ]
    },
    {
     "name": "stderr",
     "output_type": "stream",
     "text": [
      "Hyperopt:   8%|▊         | 76/1000 [02:27<33:15,  2.16s/it]"
     ]
    },
    {
     "name": "stdout",
     "output_type": "stream",
     "text": [
      "\n",
      "  8%|▊         | 76/1000 [02:27<33:15,  2.16s/it, best loss: 0.2218986540679584]\u001b[A\n",
      "\u001b[AParameters with this training score 0.7649370330263451 :\n",
      "\n",
      "  8%|▊         | 76/1000 [02:30<33:15,  2.16s/it, best loss: 0.2218986540679584]\u001b[A\n",
      "\u001b[A{'bootstrap': False, 'class_weight': 'balanced', 'criterion': 'gini', 'max_depth': 41, 'max_features': 4, 'max_leaf_nodes': 22, 'min_samples_leaf': 9, 'min_samples_split': 40, 'n_estimators': 920}\n",
      "\n",
      "  8%|▊         | 76/1000 [02:30<33:15,  2.16s/it, best loss: 0.2218986540679584]\u001b[A"
     ]
    },
    {
     "name": "stderr",
     "output_type": "stream",
     "text": [
      "Hyperopt:   8%|▊         | 77/1000 [02:30<36:50,  2.40s/it]"
     ]
    },
    {
     "name": "stdout",
     "output_type": "stream",
     "text": [
      "\n",
      "  8%|▊         | 77/1000 [02:30<36:50,  2.40s/it, best loss: 0.2218986540679584]\u001b[A\n",
      "\u001b[AParameters with this training score 0.7650745682066515 :\n",
      "\n",
      "  8%|▊         | 77/1000 [02:32<36:50,  2.40s/it, best loss: 0.2218986540679584]\u001b[A\n",
      "\u001b[A{'bootstrap': False, 'class_weight': 'balanced', 'criterion': 'gini', 'max_depth': 20, 'max_features': 3, 'max_leaf_nodes': 26, 'min_samples_leaf': 1, 'min_samples_split': 80, 'n_estimators': 750}\n",
      "\n",
      "  8%|▊         | 77/1000 [02:32<36:50,  2.40s/it, best loss: 0.2218986540679584]\u001b[A"
     ]
    },
    {
     "name": "stderr",
     "output_type": "stream",
     "text": [
      "Hyperopt:   8%|▊         | 78/1000 [02:32<36:30,  2.38s/it]"
     ]
    },
    {
     "name": "stdout",
     "output_type": "stream",
     "text": [
      "\n",
      "  8%|▊         | 78/1000 [02:32<36:30,  2.38s/it, best loss: 0.2218986540679584]\u001b[A\n",
      "\u001b[AParameters with this training score 0.7619181299577428 :\n",
      "\n",
      "  8%|▊         | 78/1000 [02:32<36:30,  2.38s/it, best loss: 0.2218986540679584]\u001b[A\n",
      "\u001b[A{'bootstrap': False, 'class_weight': 'balanced', 'criterion': 'gini', 'max_depth': 18, 'max_features': 3, 'max_leaf_nodes': 24, 'min_samples_leaf': 7, 'min_samples_split': 60, 'n_estimators': 110}\n",
      "\n",
      "  8%|▊         | 78/1000 [02:32<36:30,  2.38s/it, best loss: 0.2218986540679584]\u001b[A"
     ]
    },
    {
     "name": "stderr",
     "output_type": "stream",
     "text": [
      "Hyperopt:   8%|▊         | 79/1000 [02:33<28:13,  1.84s/it]"
     ]
    },
    {
     "name": "stdout",
     "output_type": "stream",
     "text": [
      "\n",
      "  8%|▊         | 79/1000 [02:32<28:13,  1.84s/it, best loss: 0.2218986540679584]\u001b[A\n",
      "\u001b[AParameters with this training score 0.5843287884482378 :\n",
      "\n",
      "  8%|▊         | 79/1000 [02:34<28:13,  1.84s/it, best loss: 0.2218986540679584]\u001b[A\n",
      "\u001b[A{'bootstrap': False, 'class_weight': None, 'criterion': 'gini', 'max_depth': 30, 'max_features': 3, 'max_leaf_nodes': 26, 'min_samples_leaf': 3, 'min_samples_split': 90, 'n_estimators': 610}\n",
      "\n",
      "  8%|▊         | 79/1000 [02:34<28:13,  1.84s/it, best loss: 0.2218986540679584]\u001b[A"
     ]
    },
    {
     "name": "stderr",
     "output_type": "stream",
     "text": [
      "Hyperopt:   8%|▊         | 80/1000 [02:35<29:07,  1.90s/it]"
     ]
    },
    {
     "name": "stdout",
     "output_type": "stream",
     "text": [
      "\n",
      "  8%|▊         | 80/1000 [02:34<29:07,  1.90s/it, best loss: 0.2218986540679584]\u001b[A\n",
      "\u001b[AParameters with this training score 0.7394040984187169 :\n",
      "\n",
      "  8%|▊         | 80/1000 [02:36<29:07,  1.90s/it, best loss: 0.2218986540679584]\u001b[A\n",
      "\u001b[A{'bootstrap': False, 'class_weight': 'balanced', 'criterion': 'entropy', 'max_depth': 46, 'max_features': 2, 'max_leaf_nodes': 20, 'min_samples_leaf': 4, 'min_samples_split': 10, 'n_estimators': 480}\n",
      "\n",
      "  8%|▊         | 80/1000 [02:36<29:07,  1.90s/it, best loss: 0.2218986540679584]\u001b[A"
     ]
    },
    {
     "name": "stderr",
     "output_type": "stream",
     "text": [
      "Hyperopt:   8%|▊         | 81/1000 [02:36<27:37,  1.80s/it]"
     ]
    },
    {
     "name": "stdout",
     "output_type": "stream",
     "text": [
      "\n",
      "  8%|▊         | 81/1000 [02:36<27:37,  1.80s/it, best loss: 0.2218986540679584]\u001b[A\n",
      "\u001b[AParameters with this training score 0.6612803585475755 :\n",
      "\n",
      "  8%|▊         | 81/1000 [02:39<27:37,  1.80s/it, best loss: 0.2218986540679584]\u001b[A\n",
      "\u001b[A{'bootstrap': True, 'class_weight': 'balanced', 'criterion': 'gini', 'max_depth': 4, 'max_features': 1, 'max_leaf_nodes': 16, 'min_samples_leaf': 11, 'min_samples_split': 50, 'n_estimators': 940}\n",
      "\n",
      "  8%|▊         | 81/1000 [02:39<27:37,  1.80s/it, best loss: 0.2218986540679584]\u001b[A"
     ]
    },
    {
     "name": "stderr",
     "output_type": "stream",
     "text": [
      "Hyperopt:   8%|▊         | 82/1000 [02:40<34:32,  2.26s/it]"
     ]
    },
    {
     "name": "stdout",
     "output_type": "stream",
     "text": [
      "\n",
      "  8%|▊         | 82/1000 [02:39<34:32,  2.26s/it, best loss: 0.2218986540679584]\u001b[A\n",
      "\u001b[AParameters with this training score 0.7190175733896821 :\n",
      "\n",
      "  8%|▊         | 82/1000 [02:41<34:32,  2.26s/it, best loss: 0.2218986540679584]\u001b[A\n",
      "\u001b[A{'bootstrap': False, 'class_weight': 'balanced', 'criterion': 'gini', 'max_depth': 22, 'max_features': 3, 'max_leaf_nodes': 10, 'min_samples_leaf': 16, 'min_samples_split': 20, 'n_estimators': 300}\n",
      "\n",
      "  8%|▊         | 82/1000 [02:41<34:32,  2.26s/it, best loss: 0.2218986540679584]\u001b[A"
     ]
    },
    {
     "name": "stderr",
     "output_type": "stream",
     "text": [
      "Hyperopt:   8%|▊         | 83/1000 [02:41<29:45,  1.95s/it]"
     ]
    },
    {
     "name": "stdout",
     "output_type": "stream",
     "text": [
      "\n",
      "  8%|▊         | 83/1000 [02:41<29:45,  1.95s/it, best loss: 0.2218986540679584]\u001b[A\n",
      "\u001b[AParameters with this training score 0.6663877724620677 :\n",
      "\n",
      "  8%|▊         | 83/1000 [02:42<29:45,  1.95s/it, best loss: 0.2218986540679584]\u001b[A\n",
      "\u001b[A{'bootstrap': False, 'class_weight': None, 'criterion': 'gini', 'max_depth': 43, 'max_features': 4, 'max_leaf_nodes': 26, 'min_samples_leaf': 17, 'min_samples_split': 80, 'n_estimators': 220}\n",
      "\n",
      "  8%|▊         | 83/1000 [02:42<29:45,  1.95s/it, best loss: 0.2218986540679584]\u001b[A"
     ]
    },
    {
     "name": "stderr",
     "output_type": "stream",
     "text": [
      "Hyperopt:   8%|▊         | 84/1000 [02:42<25:25,  1.67s/it]"
     ]
    },
    {
     "name": "stdout",
     "output_type": "stream",
     "text": [
      "\n",
      "  8%|▊         | 84/1000 [02:42<25:25,  1.67s/it, best loss: 0.2218986540679584]\u001b[A\n",
      "\u001b[AParameters with this training score 0.6713076206768981 :\n",
      "\n",
      "  8%|▊         | 84/1000 [02:43<25:25,  1.67s/it, best loss: 0.2218986540679584]\u001b[A\n",
      "\u001b[A{'bootstrap': False, 'class_weight': 'balanced', 'criterion': 'gini', 'max_depth': 3, 'max_features': 3, 'max_leaf_nodes': 18, 'min_samples_leaf': 23, 'min_samples_split': 80, 'n_estimators': 430}\n",
      "\n",
      "  8%|▊         | 84/1000 [02:43<25:25,  1.67s/it, best loss: 0.2218986540679584]\u001b[A"
     ]
    },
    {
     "name": "stderr",
     "output_type": "stream",
     "text": [
      "Hyperopt:   8%|▊         | 85/1000 [02:43<25:17,  1.66s/it]"
     ]
    },
    {
     "name": "stdout",
     "output_type": "stream",
     "text": [
      "\n",
      "  8%|▊         | 85/1000 [02:43<25:17,  1.66s/it, best loss: 0.2218986540679584]\u001b[A\n",
      "\u001b[AParameters with this training score 0.7514182610407766 :\n",
      "\n",
      "  8%|▊         | 85/1000 [02:45<25:17,  1.66s/it, best loss: 0.2218986540679584]\u001b[A\n",
      "\u001b[A{'bootstrap': True, 'class_weight': 'balanced', 'criterion': 'entropy', 'max_depth': 5, 'max_features': 3, 'max_leaf_nodes': 26, 'min_samples_leaf': 22, 'min_samples_split': 80, 'n_estimators': 380}\n",
      "\n",
      "  8%|▊         | 85/1000 [02:45<25:17,  1.66s/it, best loss: 0.2218986540679584]\u001b[A"
     ]
    },
    {
     "name": "stderr",
     "output_type": "stream",
     "text": [
      "Hyperopt:   9%|▊         | 86/1000 [02:45<24:55,  1.64s/it]"
     ]
    },
    {
     "name": "stdout",
     "output_type": "stream",
     "text": [
      "\n",
      "  9%|▊         | 86/1000 [02:45<24:55,  1.64s/it, best loss: 0.2218986540679584]\u001b[A\n",
      "\u001b[AParameters with this training score 0.7715487821220471 :\n",
      "\n",
      "  9%|▊         | 86/1000 [02:48<24:55,  1.64s/it, best loss: 0.2218986540679584]\u001b[A\n",
      "\u001b[A{'bootstrap': False, 'class_weight': 'balanced', 'criterion': 'gini', 'max_depth': 45, 'max_features': 3, 'max_leaf_nodes': 28, 'min_samples_leaf': 8, 'min_samples_split': 40, 'n_estimators': 970}\n",
      "\n",
      "  9%|▊         | 86/1000 [02:48<24:55,  1.64s/it, best loss: 0.2218986540679584]\u001b[A"
     ]
    },
    {
     "name": "stderr",
     "output_type": "stream",
     "text": [
      "Hyperopt:   9%|▊         | 87/1000 [02:48<31:29,  2.07s/it]"
     ]
    },
    {
     "name": "stdout",
     "output_type": "stream",
     "text": [
      "\n",
      "  9%|▊         | 87/1000 [02:48<31:29,  2.07s/it, best loss: 0.2218986540679584]\u001b[A\n",
      "\u001b[AParameters with this training score 0.7416377136784809 :\n",
      "\n",
      "  9%|▊         | 87/1000 [02:51<31:29,  2.07s/it, best loss: 0.2218986540679584]\u001b[A\n",
      "\u001b[A{'bootstrap': False, 'class_weight': 'balanced', 'criterion': 'gini', 'max_depth': 28, 'max_features': 2, 'max_leaf_nodes': 14, 'min_samples_leaf': 25, 'min_samples_split': 30, 'n_estimators': 900}\n",
      "\n",
      "  9%|▊         | 87/1000 [02:51<31:29,  2.07s/it, best loss: 0.2218986540679584]\u001b[A"
     ]
    },
    {
     "name": "stderr",
     "output_type": "stream",
     "text": [
      "Hyperopt:   9%|▉         | 88/1000 [02:51<34:59,  2.30s/it]"
     ]
    },
    {
     "name": "stdout",
     "output_type": "stream",
     "text": [
      "\n",
      "  9%|▉         | 88/1000 [02:51<34:59,  2.30s/it, best loss: 0.2218986540679584]\u001b[A\n",
      "\u001b[AParameters with this training score 0.5 :\n",
      "\n",
      "  9%|▉         | 88/1000 [02:52<34:59,  2.30s/it, best loss: 0.2218986540679584]\u001b[A\n",
      "\u001b[A{'bootstrap': False, 'class_weight': None, 'criterion': 'gini', 'max_depth': 37, 'max_features': 1, 'max_leaf_nodes': 12, 'min_samples_leaf': 29, 'min_samples_split': 70, 'n_estimators': 150}\n",
      "\n",
      "  9%|▉         | 88/1000 [02:52<34:59,  2.30s/it, best loss: 0.2218986540679584]\u001b[A"
     ]
    },
    {
     "name": "stderr",
     "output_type": "stream",
     "text": [
      "Hyperopt:   9%|▉         | 89/1000 [02:52<27:57,  1.84s/it]"
     ]
    },
    {
     "name": "stdout",
     "output_type": "stream",
     "text": [
      "\n",
      "  9%|▉         | 89/1000 [02:52<27:57,  1.84s/it, best loss: 0.2218986540679584]\u001b[A\n",
      "\u001b[AParameters with this training score 0.7733701876979374 :\n",
      "\n",
      "  9%|▉         | 89/1000 [02:54<27:57,  1.84s/it, best loss: 0.2218986540679584]\u001b[A\n",
      "\u001b[A{'bootstrap': False, 'class_weight': 'balanced', 'criterion': 'entropy', 'max_depth': 16, 'max_features': 4, 'max_leaf_nodes': 24, 'min_samples_leaf': 26, 'min_samples_split': 10, 'n_estimators': 630}\n",
      "\n",
      "  9%|▉         | 89/1000 [02:54<27:57,  1.84s/it, best loss: 0.2218986540679584]\u001b[A"
     ]
    },
    {
     "name": "stderr",
     "output_type": "stream",
     "text": [
      "Hyperopt:   9%|▉         | 90/1000 [02:54<29:44,  1.96s/it]"
     ]
    },
    {
     "name": "stdout",
     "output_type": "stream",
     "text": [
      "\n",
      "  9%|▉         | 90/1000 [02:54<29:44,  1.96s/it, best loss: 0.2218986540679584]\u001b[A\n",
      "\u001b[AParameters with this training score 0.7618498688082151 :\n",
      "\n",
      "  9%|▉         | 90/1000 [02:55<29:44,  1.96s/it, best loss: 0.2218986540679584]\u001b[A\n",
      "\u001b[A{'bootstrap': True, 'class_weight': 'balanced', 'criterion': 'gini', 'max_depth': 24, 'max_features': 3, 'max_leaf_nodes': 22, 'min_samples_leaf': 18, 'min_samples_split': 60, 'n_estimators': 290}\n",
      "\n",
      "  9%|▉         | 90/1000 [02:55<29:44,  1.96s/it, best loss: 0.2218986540679584]\u001b[A"
     ]
    },
    {
     "name": "stderr",
     "output_type": "stream",
     "text": [
      "Hyperopt:   9%|▉         | 91/1000 [02:55<26:11,  1.73s/it]"
     ]
    },
    {
     "name": "stdout",
     "output_type": "stream",
     "text": [
      "\n",
      "  9%|▉         | 91/1000 [02:55<26:11,  1.73s/it, best loss: 0.2218986540679584]\u001b[A\n",
      "\u001b[AParameters with this training score 0.760447179374266 :\n",
      "\n",
      "  9%|▉         | 91/1000 [02:57<26:11,  1.73s/it, best loss: 0.2218986540679584]\u001b[A\n",
      "\u001b[A{'bootstrap': False, 'class_weight': 'balanced', 'criterion': 'gini', 'max_depth': 32, 'max_features': 3, 'max_leaf_nodes': 20, 'min_samples_leaf': 10, 'min_samples_split': 80, 'n_estimators': 590}\n",
      "\n",
      "  9%|▉         | 91/1000 [02:57<26:11,  1.73s/it, best loss: 0.2218986540679584]\u001b[A"
     ]
    },
    {
     "name": "stderr",
     "output_type": "stream",
     "text": [
      "Hyperopt:   9%|▉         | 92/1000 [02:57<26:55,  1.78s/it]"
     ]
    },
    {
     "name": "stdout",
     "output_type": "stream",
     "text": [
      "\n",
      "  9%|▉         | 92/1000 [02:57<26:55,  1.78s/it, best loss: 0.2218986540679584]\u001b[A\n",
      "\u001b[AParameters with this training score 0.5631785420251461 :\n",
      "\n",
      "  9%|▉         | 92/1000 [03:00<26:55,  1.78s/it, best loss: 0.2218986540679584]\u001b[A\n",
      "\u001b[A{'bootstrap': False, 'class_weight': None, 'criterion': 'gini', 'max_depth': 21, 'max_features': 3, 'max_leaf_nodes': 26, 'min_samples_leaf': 5, 'min_samples_split': 50, 'n_estimators': 930}\n",
      "\n",
      "  9%|▉         | 92/1000 [03:00<26:55,  1.78s/it, best loss: 0.2218986540679584]\u001b[A"
     ]
    },
    {
     "name": "stderr",
     "output_type": "stream",
     "text": [
      "Hyperopt:   9%|▉         | 93/1000 [03:00<32:01,  2.12s/it]"
     ]
    },
    {
     "name": "stdout",
     "output_type": "stream",
     "text": [
      "\n",
      "  9%|▉         | 93/1000 [03:00<32:01,  2.12s/it, best loss: 0.2218986540679584]\u001b[A\n",
      "\u001b[AParameters with this training score 0.7724609233727782 :\n",
      "\n",
      "  9%|▉         | 93/1000 [03:02<32:01,  2.12s/it, best loss: 0.2218986540679584]\u001b[A\n",
      "\u001b[A{'bootstrap': False, 'class_weight': 'balanced', 'criterion': 'gini', 'max_depth': 39, 'max_features': 2, 'max_leaf_nodes': 26, 'min_samples_leaf': 28, 'min_samples_split': 90, 'n_estimators': 650}\n",
      "\n",
      "  9%|▉         | 93/1000 [03:02<32:01,  2.12s/it, best loss: 0.2218986540679584]\u001b[A"
     ]
    },
    {
     "name": "stderr",
     "output_type": "stream",
     "text": [
      "Hyperopt:   9%|▉         | 94/1000 [03:02<32:20,  2.14s/it]"
     ]
    },
    {
     "name": "stdout",
     "output_type": "stream",
     "text": [
      "\n",
      "  9%|▉         | 94/1000 [03:02<32:20,  2.14s/it, best loss: 0.2218986540679584]\u001b[A\n",
      "\u001b[AParameters with this training score 0.7103636354043806 :\n",
      "\n",
      "  9%|▉         | 94/1000 [03:03<32:20,  2.14s/it, best loss: 0.2218986540679584]\u001b[A\n",
      "\u001b[A{'bootstrap': True, 'class_weight': 'balanced', 'criterion': 'entropy', 'max_depth': 31, 'max_features': 1, 'max_leaf_nodes': 16, 'min_samples_leaf': 24, 'min_samples_split': 80, 'n_estimators': 340}\n",
      "\n",
      "  9%|▉         | 94/1000 [03:03<32:20,  2.14s/it, best loss: 0.2218986540679584]\u001b[A"
     ]
    },
    {
     "name": "stderr",
     "output_type": "stream",
     "text": [
      "Hyperopt:  10%|▉         | 95/1000 [03:03<28:41,  1.90s/it]"
     ]
    },
    {
     "name": "stdout",
     "output_type": "stream",
     "text": [
      "\n",
      " 10%|▉         | 95/1000 [03:03<28:41,  1.90s/it, best loss: 0.2218986540679584]\u001b[A\n",
      "\u001b[AParameters with this training score 0.6873707857919369 :\n",
      "\n",
      " 10%|▉         | 95/1000 [03:04<28:41,  1.90s/it, best loss: 0.2218986540679584]\u001b[A\n",
      "\u001b[A{'bootstrap': False, 'class_weight': 'balanced', 'criterion': 'gini', 'max_depth': 14, 'max_features': 3, 'max_leaf_nodes': 10, 'min_samples_leaf': 2, 'min_samples_split': 20, 'n_estimators': 210}\n",
      "\n",
      " 10%|▉         | 95/1000 [03:04<28:41,  1.90s/it, best loss: 0.2218986540679584]\u001b[A"
     ]
    },
    {
     "name": "stderr",
     "output_type": "stream",
     "text": [
      "Hyperopt:  10%|▉         | 96/1000 [03:04<24:41,  1.64s/it]"
     ]
    },
    {
     "name": "stdout",
     "output_type": "stream",
     "text": [
      "\n",
      " 10%|▉         | 96/1000 [03:04<24:41,  1.64s/it, best loss: 0.2218986540679584]\u001b[A\n",
      "\u001b[AParameters with this training score 0.7751682585300596 :\n",
      "\n",
      " 10%|▉         | 96/1000 [03:05<24:41,  1.64s/it, best loss: 0.2218986540679584]\u001b[A\n",
      "\u001b[A{'bootstrap': False, 'class_weight': 'balanced', 'criterion': 'gini', 'max_depth': 12, 'max_features': 4, 'max_leaf_nodes': 26, 'min_samples_leaf': 13, 'min_samples_split': 80, 'n_estimators': 120}\n",
      "\n",
      " 10%|▉         | 96/1000 [03:05<24:41,  1.64s/it, best loss: 0.2218986540679584]\u001b[A"
     ]
    },
    {
     "name": "stderr",
     "output_type": "stream",
     "text": [
      "Hyperopt:  10%|▉         | 97/1000 [03:05<19:55,  1.32s/it]"
     ]
    },
    {
     "name": "stdout",
     "output_type": "stream",
     "text": [
      "\n",
      " 10%|▉         | 97/1000 [03:05<19:55,  1.32s/it, best loss: 0.2218986540679584]\u001b[A\n",
      "\u001b[AParameters with this training score 0.6050857096043316 :\n",
      "\n",
      " 10%|▉         | 97/1000 [03:07<19:55,  1.32s/it, best loss: 0.2218986540679584]\u001b[A\n",
      "\u001b[A{'bootstrap': False, 'class_weight': None, 'criterion': 'gini', 'max_depth': 11, 'max_features': 3, 'max_leaf_nodes': 26, 'min_samples_leaf': 21, 'min_samples_split': 80, 'n_estimators': 580}\n",
      "\n",
      " 10%|▉         | 97/1000 [03:07<19:55,  1.32s/it, best loss: 0.2218986540679584]\u001b[A"
     ]
    },
    {
     "name": "stderr",
     "output_type": "stream",
     "text": [
      "Hyperopt:  10%|▉         | 98/1000 [03:07<22:34,  1.50s/it]"
     ]
    },
    {
     "name": "stdout",
     "output_type": "stream",
     "text": [
      "\n",
      " 10%|▉         | 98/1000 [03:07<22:34,  1.50s/it, best loss: 0.2218986540679584]\u001b[A\n",
      "\u001b[AParameters with this training score 0.7449017256395157 :\n",
      "\n",
      " 10%|▉         | 98/1000 [03:09<22:34,  1.50s/it, best loss: 0.2218986540679584]\u001b[A\n",
      "\u001b[A{'bootstrap': False, 'class_weight': 'balanced', 'criterion': 'entropy', 'max_depth': 35, 'max_features': 3, 'max_leaf_nodes': 18, 'min_samples_leaf': 6, 'min_samples_split': 30, 'n_estimators': 830}\n",
      "\n",
      " 10%|▉         | 98/1000 [03:09<22:34,  1.50s/it, best loss: 0.2218986540679584]\u001b[A"
     ]
    },
    {
     "name": "stderr",
     "output_type": "stream",
     "text": [
      "Hyperopt:  10%|▉         | 99/1000 [03:10<27:21,  1.82s/it]"
     ]
    },
    {
     "name": "stdout",
     "output_type": "stream",
     "text": [
      "\n",
      " 10%|▉         | 99/1000 [03:09<27:21,  1.82s/it, best loss: 0.2218986540679584]\u001b[A\n",
      "\u001b[AParameters with this training score 0.7714715684399197 :\n",
      "\n",
      " 10%|▉         | 99/1000 [03:11<27:21,  1.82s/it, best loss: 0.2218986540679584]\u001b[A\n",
      "\u001b[A{'bootstrap': True, 'class_weight': 'balanced', 'criterion': 'gini', 'max_depth': 10, 'max_features': 3, 'max_leaf_nodes': 28, 'min_samples_leaf': 12, 'min_samples_split': 40, 'n_estimators': 490}\n",
      "\n",
      " 10%|▉         | 99/1000 [03:11<27:21,  1.82s/it, best loss: 0.2218986540679584]\u001b[A"
     ]
    },
    {
     "name": "stderr",
     "output_type": "stream",
     "text": [
      "Hyperopt:  10%|█         | 100/1000 [03:11<26:49,  1.79s/it]"
     ]
    },
    {
     "name": "stdout",
     "output_type": "stream",
     "text": [
      "\n",
      " 10%|█         | 100/1000 [03:11<26:49,  1.79s/it, best loss: 0.2218986540679584]\u001b[A\n",
      "\u001b[AParameters with this training score 0.7252861262218664 :\n",
      "\n",
      " 10%|█         | 100/1000 [03:12<26:49,  1.79s/it, best loss: 0.2218986540679584]\u001b[A\n",
      "\u001b[A{'bootstrap': False, 'class_weight': 'balanced', 'criterion': 'gini', 'max_depth': 9, 'max_features': 2, 'max_leaf_nodes': 14, 'min_samples_leaf': 19, 'min_samples_split': 70, 'n_estimators': 190}\n",
      "\n",
      " 10%|█         | 100/1000 [03:12<26:49,  1.79s/it, best loss: 0.2218986540679584]\u001b[A"
     ]
    },
    {
     "name": "stderr",
     "output_type": "stream",
     "text": [
      "Hyperopt:  10%|█         | 101/1000 [03:12<22:54,  1.53s/it]"
     ]
    },
    {
     "name": "stdout",
     "output_type": "stream",
     "text": [
      "\n",
      " 10%|█         | 101/1000 [03:12<22:54,  1.53s/it, best loss: 0.2218986540679584]\u001b[A\n",
      "\u001b[AParameters with this training score 0.770706141326756 :\n",
      "\n",
      " 10%|█         | 101/1000 [03:15<22:54,  1.53s/it, best loss: 0.2218986540679584]\u001b[A\n",
      "\u001b[A{'bootstrap': False, 'class_weight': 'balanced', 'criterion': 'gini', 'max_depth': 27, 'max_features': 3, 'max_leaf_nodes': 24, 'min_samples_leaf': 14, 'min_samples_split': 10, 'n_estimators': 910}\n",
      "\n",
      " 10%|█         | 101/1000 [03:15<22:54,  1.53s/it, best loss: 0.2218986540679584]\u001b[A"
     ]
    },
    {
     "name": "stderr",
     "output_type": "stream",
     "text": [
      "Hyperopt:  10%|█         | 102/1000 [03:15<27:54,  1.87s/it]"
     ]
    },
    {
     "name": "stdout",
     "output_type": "stream",
     "text": [
      "\n",
      " 10%|█         | 102/1000 [03:15<27:54,  1.87s/it, best loss: 0.2218986540679584]\u001b[A\n",
      "\u001b[AParameters with this training score 0.5131506811808467 :\n",
      "\n",
      " 10%|█         | 102/1000 [03:15<27:54,  1.87s/it, best loss: 0.2218986540679584]\u001b[A\n",
      "\u001b[A{'bootstrap': False, 'class_weight': None, 'criterion': 'gini', 'max_depth': 33, 'max_features': 1, 'max_leaf_nodes': 22, 'min_samples_leaf': 24, 'min_samples_split': 60, 'n_estimators': 20}\n",
      "\n",
      " 10%|█         | 102/1000 [03:15<27:54,  1.87s/it, best loss: 0.2218986540679584]\u001b[A"
     ]
    },
    {
     "name": "stderr",
     "output_type": "stream",
     "text": [
      "Hyperopt:  10%|█         | 103/1000 [03:15<21:22,  1.43s/it]"
     ]
    },
    {
     "name": "stdout",
     "output_type": "stream",
     "text": [
      "\n",
      " 10%|█         | 103/1000 [03:15<21:22,  1.43s/it, best loss: 0.2218986540679584]\u001b[A\n",
      "\u001b[AParameters with this training score 0.7457934518522672 :\n",
      "\n",
      " 10%|█         | 103/1000 [03:17<21:22,  1.43s/it, best loss: 0.2218986540679584]\u001b[A\n",
      "\u001b[A{'bootstrap': False, 'class_weight': 'balanced', 'criterion': 'entropy', 'max_depth': 49, 'max_features': 4, 'max_leaf_nodes': 12, 'min_samples_leaf': 26, 'min_samples_split': 80, 'n_estimators': 470}\n",
      "\n",
      " 10%|█         | 103/1000 [03:17<21:22,  1.43s/it, best loss: 0.2218986540679584]\u001b[A"
     ]
    },
    {
     "name": "stderr",
     "output_type": "stream",
     "text": [
      "Hyperopt:  10%|█         | 104/1000 [03:17<22:25,  1.50s/it]"
     ]
    },
    {
     "name": "stdout",
     "output_type": "stream",
     "text": [
      "\n",
      " 10%|█         | 104/1000 [03:17<22:25,  1.50s/it, best loss: 0.2218986540679584]\u001b[A\n",
      "\u001b[AParameters with this training score 0.7736626665659467 :\n",
      "\n",
      " 10%|█         | 104/1000 [03:19<22:25,  1.50s/it, best loss: 0.2218986540679584]\u001b[A\n",
      "\u001b[A{'bootstrap': True, 'class_weight': 'balanced', 'criterion': 'gini', 'max_depth': 38, 'max_features': 3, 'max_leaf_nodes': 26, 'min_samples_leaf': 20, 'min_samples_split': 20, 'n_estimators': 460}\n",
      "\n",
      " 10%|█         | 104/1000 [03:19<22:25,  1.50s/it, best loss: 0.2218986540679584]\u001b[A"
     ]
    },
    {
     "name": "stderr",
     "output_type": "stream",
     "text": [
      "Hyperopt:  10%|█         | 105/1000 [03:19<23:42,  1.59s/it]"
     ]
    },
    {
     "name": "stdout",
     "output_type": "stream",
     "text": [
      "\n",
      " 10%|█         | 105/1000 [03:19<23:42,  1.59s/it, best loss: 0.2218986540679584]\u001b[A\n",
      "\u001b[AParameters with this training score 0.7620472644430394 :\n",
      "\n",
      " 10%|█         | 105/1000 [03:21<23:42,  1.59s/it, best loss: 0.2218986540679584]\u001b[A\n",
      "\u001b[A{'bootstrap': False, 'class_weight': 'balanced', 'criterion': 'gini', 'max_depth': 19, 'max_features': 3, 'max_leaf_nodes': 16, 'min_samples_leaf': 27, 'min_samples_split': 90, 'n_estimators': 660}\n",
      "\n",
      " 10%|█         | 105/1000 [03:21<23:42,  1.59s/it, best loss: 0.2218986540679584]\u001b[A"
     ]
    },
    {
     "name": "stderr",
     "output_type": "stream",
     "text": [
      "Hyperopt:  11%|█         | 106/1000 [03:21<26:33,  1.78s/it]"
     ]
    },
    {
     "name": "stdout",
     "output_type": "stream",
     "text": [
      "\n",
      " 11%|█         | 106/1000 [03:21<26:33,  1.78s/it, best loss: 0.2218986540679584]\u001b[A\n",
      "\u001b[AParameters with this training score 0.7682044589943275 :\n",
      "\n",
      " 11%|█         | 106/1000 [03:23<26:33,  1.78s/it, best loss: 0.2218986540679584]\u001b[A\n",
      "\u001b[A{'bootstrap': False, 'class_weight': 'balanced', 'criterion': 'gini', 'max_depth': 15, 'max_features': 3, 'max_leaf_nodes': 26, 'min_samples_leaf': 9, 'min_samples_split': 50, 'n_estimators': 510}\n",
      "\n",
      " 11%|█         | 106/1000 [03:23<26:33,  1.78s/it, best loss: 0.2218986540679584]\u001b[A"
     ]
    },
    {
     "name": "stderr",
     "output_type": "stream",
     "text": [
      "Hyperopt:  11%|█         | 107/1000 [03:23<26:24,  1.77s/it]"
     ]
    },
    {
     "name": "stdout",
     "output_type": "stream",
     "text": [
      "\n",
      " 11%|█         | 107/1000 [03:23<26:24,  1.77s/it, best loss: 0.2218986540679584]\u001b[A\n",
      "\u001b[AParameters with this training score 0.5075101246393215 :\n",
      "\n",
      " 11%|█         | 107/1000 [03:24<26:24,  1.77s/it, best loss: 0.2218986540679584]\u001b[A\n",
      "\u001b[A{'bootstrap': False, 'class_weight': None, 'criterion': 'gini', 'max_depth': 42, 'max_features': 2, 'max_leaf_nodes': 20, 'min_samples_leaf': 15, 'min_samples_split': 80, 'n_estimators': 390}\n",
      "\n",
      " 11%|█         | 107/1000 [03:24<26:24,  1.77s/it, best loss: 0.2218986540679584]\u001b[A"
     ]
    },
    {
     "name": "stderr",
     "output_type": "stream",
     "text": [
      "Hyperopt:  11%|█         | 108/1000 [03:24<24:54,  1.68s/it]"
     ]
    },
    {
     "name": "stdout",
     "output_type": "stream",
     "text": [
      "\n",
      " 11%|█         | 108/1000 [03:24<24:54,  1.68s/it, best loss: 0.2218986540679584]\u001b[A\n",
      "\u001b[AParameters with this training score 0.7034729518685894 :\n",
      "\n",
      " 11%|█         | 108/1000 [03:26<24:54,  1.68s/it, best loss: 0.2218986540679584]\u001b[A\n",
      "\u001b[A{'bootstrap': False, 'class_weight': 'balanced', 'criterion': 'entropy', 'max_depth': 47, 'max_features': 3, 'max_leaf_nodes': 10, 'min_samples_leaf': 7, 'min_samples_split': 80, 'n_estimators': 640}\n",
      "\n",
      " 11%|█         | 108/1000 [03:26<24:54,  1.68s/it, best loss: 0.2218986540679584]\u001b[A"
     ]
    },
    {
     "name": "stderr",
     "output_type": "stream",
     "text": [
      "Hyperopt:  11%|█         | 109/1000 [03:26<26:47,  1.80s/it]"
     ]
    },
    {
     "name": "stdout",
     "output_type": "stream",
     "text": [
      "\n",
      " 11%|█         | 109/1000 [03:26<26:47,  1.80s/it, best loss: 0.2218986540679584]\u001b[A\n",
      "\u001b[AParameters with this training score 0.7606602244141345 :\n",
      "\n",
      " 11%|█         | 109/1000 [03:28<26:47,  1.80s/it, best loss: 0.2218986540679584]\u001b[A\n",
      "\u001b[A{'bootstrap': True, 'class_weight': 'balanced', 'criterion': 'gini', 'max_depth': 25, 'max_features': 1, 'max_leaf_nodes': 26, 'min_samples_leaf': 3, 'min_samples_split': 30, 'n_estimators': 550}\n",
      "\n",
      " 11%|█         | 109/1000 [03:28<26:47,  1.80s/it, best loss: 0.2218986540679584]\u001b[A"
     ]
    },
    {
     "name": "stderr",
     "output_type": "stream",
     "text": [
      "Hyperopt:  11%|█         | 110/1000 [03:28<27:37,  1.86s/it]"
     ]
    },
    {
     "name": "stdout",
     "output_type": "stream",
     "text": [
      "\n",
      " 11%|█         | 110/1000 [03:28<27:37,  1.86s/it, best loss: 0.2218986540679584]\u001b[A\n",
      "\u001b[AParameters with this training score 0.7531398119969034 :\n",
      "\n",
      " 11%|█         | 110/1000 [03:30<27:37,  1.86s/it, best loss: 0.2218986540679584]\u001b[A\n",
      "\u001b[A{'bootstrap': False, 'class_weight': 'balanced', 'criterion': 'gini', 'max_depth': 40, 'max_features': 4, 'max_leaf_nodes': 18, 'min_samples_leaf': 1, 'min_samples_split': 80, 'n_estimators': 540}\n",
      "\n",
      " 11%|█         | 110/1000 [03:30<27:37,  1.86s/it, best loss: 0.2218986540679584]\u001b[A"
     ]
    },
    {
     "name": "stderr",
     "output_type": "stream",
     "text": [
      "Hyperopt:  11%|█         | 111/1000 [03:30<27:00,  1.82s/it]"
     ]
    },
    {
     "name": "stdout",
     "output_type": "stream",
     "text": [
      "\n",
      " 11%|█         | 111/1000 [03:30<27:00,  1.82s/it, best loss: 0.2218986540679584]\u001b[A\n",
      "\u001b[AParameters with this training score 0.7754614880204261 :\n",
      "\n",
      " 11%|█         | 111/1000 [03:31<27:00,  1.82s/it, best loss: 0.2218986540679584]\u001b[A\n",
      "\u001b[A{'bootstrap': False, 'class_weight': 'balanced', 'criterion': 'gini', 'max_depth': 48, 'max_features': 3, 'max_leaf_nodes': 26, 'min_samples_leaf': 24, 'min_samples_split': 40, 'n_estimators': 240}\n",
      "\n",
      " 11%|█         | 111/1000 [03:31<27:00,  1.82s/it, best loss: 0.2218986540679584]\u001b[A"
     ]
    },
    {
     "name": "stderr",
     "output_type": "stream",
     "text": [
      "Hyperopt:  11%|█         | 112/1000 [03:31<23:15,  1.57s/it]"
     ]
    },
    {
     "name": "stdout",
     "output_type": "stream",
     "text": [
      "\n",
      " 11%|█         | 112/1000 [03:31<23:15,  1.57s/it, best loss: 0.2218986540679584]\u001b[A\n",
      "\u001b[AParameters with this training score 0.5012884644944133 :\n",
      "\n",
      " 11%|█         | 112/1000 [03:32<23:15,  1.57s/it, best loss: 0.2218986540679584]\u001b[A\n",
      "\u001b[A{'bootstrap': False, 'class_weight': None, 'criterion': 'gini', 'max_depth': 26, 'max_features': 3, 'max_leaf_nodes': 14, 'min_samples_leaf': 4, 'min_samples_split': 10, 'n_estimators': 420}\n",
      "\n",
      " 11%|█         | 112/1000 [03:32<23:15,  1.57s/it, best loss: 0.2218986540679584]\u001b[A"
     ]
    },
    {
     "name": "stderr",
     "output_type": "stream",
     "text": [
      "Hyperopt:  11%|█▏        | 113/1000 [03:32<22:14,  1.50s/it]"
     ]
    },
    {
     "name": "stdout",
     "output_type": "stream",
     "text": [
      "\n",
      " 11%|█▏        | 113/1000 [03:32<22:14,  1.50s/it, best loss: 0.2218986540679584]\u001b[A\n",
      "\u001b[AParameters with this training score 0.7701587230389827 :\n",
      "\n",
      " 11%|█▏        | 113/1000 [03:33<22:14,  1.50s/it, best loss: 0.2218986540679584]\u001b[A\n",
      "\u001b[A{'bootstrap': False, 'class_weight': 'balanced', 'criterion': 'gini', 'max_depth': 34, 'max_features': 3, 'max_leaf_nodes': 28, 'min_samples_leaf': 11, 'min_samples_split': 70, 'n_estimators': 60}\n",
      "\n",
      " 11%|█▏        | 113/1000 [03:33<22:14,  1.50s/it, best loss: 0.2218986540679584]\u001b[A"
     ]
    },
    {
     "name": "stderr",
     "output_type": "stream",
     "text": [
      "Hyperopt:  11%|█▏        | 114/1000 [03:33<17:54,  1.21s/it]"
     ]
    },
    {
     "name": "stdout",
     "output_type": "stream",
     "text": [
      "\n",
      " 11%|█▏        | 114/1000 [03:33<17:54,  1.21s/it, best loss: 0.2218986540679584]\u001b[A\n",
      "\u001b[AParameters with this training score 0.675371161521635 :\n",
      "\n",
      " 11%|█▏        | 114/1000 [03:34<17:54,  1.21s/it, best loss: 0.2218986540679584]\u001b[A\n",
      "\u001b[A{'bootstrap': True, 'class_weight': 'balanced', 'criterion': 'entropy', 'max_depth': 31, 'max_features': 2, 'max_leaf_nodes': 12, 'min_samples_leaf': 17, 'min_samples_split': 80, 'n_estimators': 170}\n",
      "\n",
      " 11%|█▏        | 114/1000 [03:34<17:54,  1.21s/it, best loss: 0.2218986540679584]\u001b[A"
     ]
    },
    {
     "name": "stderr",
     "output_type": "stream",
     "text": [
      "Hyperopt:  12%|█▏        | 115/1000 [03:34<16:45,  1.14s/it]"
     ]
    },
    {
     "name": "stdout",
     "output_type": "stream",
     "text": [
      "\n",
      " 12%|█▏        | 115/1000 [03:34<16:45,  1.14s/it, best loss: 0.2218986540679584]\u001b[A\n",
      "\u001b[AParameters with this training score 0.7745760347110453 :\n",
      "\n",
      " 12%|█▏        | 115/1000 [03:36<16:45,  1.14s/it, best loss: 0.2218986540679584]\u001b[A\n",
      "\u001b[A{'bootstrap': False, 'class_weight': 'balanced', 'criterion': 'gini', 'max_depth': 13, 'max_features': 3, 'max_leaf_nodes': 24, 'min_samples_leaf': 23, 'min_samples_split': 60, 'n_estimators': 760}\n",
      "\n",
      " 12%|█▏        | 115/1000 [03:36<16:45,  1.14s/it, best loss: 0.2218986540679584]\u001b[A"
     ]
    },
    {
     "name": "stderr",
     "output_type": "stream",
     "text": [
      "Hyperopt:  12%|█▏        | 116/1000 [03:36<21:35,  1.47s/it]"
     ]
    },
    {
     "name": "stdout",
     "output_type": "stream",
     "text": [
      "\n",
      " 12%|█▏        | 116/1000 [03:36<21:35,  1.47s/it, best loss: 0.2218986540679584]\u001b[A\n",
      "\u001b[AParameters with this training score 0.759647539586893 :\n",
      "\n",
      " 12%|█▏        | 116/1000 [03:39<21:35,  1.47s/it, best loss: 0.2218986540679584]\u001b[A\n",
      "\u001b[A{'bootstrap': False, 'class_weight': 'balanced', 'criterion': 'gini', 'max_depth': 44, 'max_features': 1, 'max_leaf_nodes': 26, 'min_samples_leaf': 16, 'min_samples_split': 90, 'n_estimators': 950}\n",
      "\n",
      " 12%|█▏        | 116/1000 [03:39<21:35,  1.47s/it, best loss: 0.2218986540679584]\u001b[A"
     ]
    },
    {
     "name": "stderr",
     "output_type": "stream",
     "text": [
      "Hyperopt:  12%|█▏        | 117/1000 [03:39<28:26,  1.93s/it]"
     ]
    },
    {
     "name": "stdout",
     "output_type": "stream",
     "text": [
      "\n",
      " 12%|█▏        | 117/1000 [03:39<28:26,  1.93s/it, best loss: 0.2218986540679584]\u001b[A\n",
      "\u001b[AParameters with this training score 0.5588249430917086 :\n",
      "\n",
      " 12%|█▏        | 117/1000 [03:40<28:26,  1.93s/it, best loss: 0.2218986540679584]\u001b[A\n",
      "\u001b[A{'bootstrap': False, 'class_weight': None, 'criterion': 'gini', 'max_depth': 22, 'max_features': 3, 'max_leaf_nodes': 22, 'min_samples_leaf': 22, 'min_samples_split': 50, 'n_estimators': 360}\n",
      "\n",
      " 12%|█▏        | 117/1000 [03:40<28:26,  1.93s/it, best loss: 0.2218986540679584]\u001b[A"
     ]
    },
    {
     "name": "stderr",
     "output_type": "stream",
     "text": [
      "Hyperopt:  12%|█▏        | 118/1000 [03:40<25:22,  1.73s/it]"
     ]
    },
    {
     "name": "stdout",
     "output_type": "stream",
     "text": [
      "\n",
      " 12%|█▏        | 118/1000 [03:40<25:22,  1.73s/it, best loss: 0.2218986540679584]\u001b[A\n",
      "\u001b[AParameters with this training score 0.49976637186615963 :\n",
      "\n",
      " 12%|█▏        | 118/1000 [03:43<25:22,  1.73s/it, best loss: 0.2218986540679584]\u001b[A\n",
      "\u001b[A{'bootstrap': False, 'class_weight': 'balanced', 'criterion': 'gini', 'max_depth': 1, 'max_features': 4, 'max_leaf_nodes': 20, 'min_samples_leaf': 8, 'min_samples_split': 80, 'n_estimators': 880}\n",
      "\n",
      " 12%|█▏        | 118/1000 [03:43<25:22,  1.73s/it, best loss: 0.2218986540679584]\u001b[A"
     ]
    },
    {
     "name": "stderr",
     "output_type": "stream",
     "text": [
      "Hyperopt:  12%|█▏        | 119/1000 [03:43<29:03,  1.98s/it]"
     ]
    },
    {
     "name": "stdout",
     "output_type": "stream",
     "text": [
      "\n",
      " 12%|█▏        | 119/1000 [03:43<29:03,  1.98s/it, best loss: 0.2218986540679584]\u001b[A\n",
      "\u001b[AParameters with this training score 0.7518880453744041 :\n",
      "\n",
      " 12%|█▏        | 119/1000 [03:45<29:03,  1.98s/it, best loss: 0.2218986540679584]\u001b[A\n",
      "\u001b[A{'bootstrap': True, 'class_weight': 'balanced', 'criterion': 'entropy', 'max_depth': 17, 'max_features': 3, 'max_leaf_nodes': 16, 'min_samples_leaf': 25, 'min_samples_split': 20, 'n_estimators': 620}\n",
      "\n",
      " 12%|█▏        | 119/1000 [03:45<29:03,  1.98s/it, best loss: 0.2218986540679584]\u001b[A"
     ]
    },
    {
     "name": "stderr",
     "output_type": "stream",
     "text": [
      "Hyperopt:  12%|█▏        | 120/1000 [03:45<30:32,  2.08s/it]"
     ]
    },
    {
     "name": "stdout",
     "output_type": "stream",
     "text": [
      "\n",
      " 12%|█▏        | 120/1000 [03:45<30:32,  2.08s/it, best loss: 0.2218986540679584]\u001b[A\n",
      "\u001b[AParameters with this training score 0.7779289956094774 :\n",
      "\n",
      " 12%|█▏        | 120/1000 [03:47<30:32,  2.08s/it, best loss: 0.2218986540679584]\u001b[A\n",
      "\u001b[A{'bootstrap': False, 'class_weight': 'balanced', 'criterion': 'gini', 'max_depth': 36, 'max_features': 3, 'max_leaf_nodes': 26, 'min_samples_leaf': 26, 'min_samples_split': 80, 'n_estimators': 530}\n",
      "\n",
      " 12%|█▏        | 120/1000 [03:47<30:32,  2.08s/it, best loss: 0.2218986540679584]\u001b[A"
     ]
    },
    {
     "name": "stderr",
     "output_type": "stream",
     "text": [
      "Hyperopt:  12%|█▏        | 121/1000 [03:47<29:08,  1.99s/it]"
     ]
    },
    {
     "name": "stdout",
     "output_type": "stream",
     "text": [
      "\n",
      " 12%|█▏        | 121/1000 [03:47<29:08,  1.99s/it, best loss: 0.2218986540679584]\u001b[A\n",
      "\u001b[AParameters with this training score 0.7708537854899129 :\n",
      "\n",
      " 12%|█▏        | 121/1000 [03:49<29:08,  1.99s/it, best loss: 0.2218986540679584]\u001b[A\n",
      "\u001b[A{'bootstrap': False, 'class_weight': 'balanced', 'criterion': 'gini', 'max_depth': 36, 'max_features': 3, 'max_leaf_nodes': 26, 'min_samples_leaf': 10, 'min_samples_split': 80, 'n_estimators': 370}\n",
      "\n",
      " 12%|█▏        | 121/1000 [03:49<29:08,  1.99s/it, best loss: 0.2218986540679584]\u001b[A"
     ]
    },
    {
     "name": "stderr",
     "output_type": "stream",
     "text": [
      "Hyperopt:  12%|█▏        | 122/1000 [03:49<30:29,  2.08s/it]"
     ]
    },
    {
     "name": "stdout",
     "output_type": "stream",
     "text": [
      "\n",
      " 12%|█▏        | 122/1000 [03:49<30:29,  2.08s/it, best loss: 0.2218986540679584]\u001b[A\n",
      "\u001b[AParameters with this training score 0.538955571675679 :\n",
      "\n",
      " 12%|█▏        | 122/1000 [03:51<30:29,  2.08s/it, best loss: 0.2218986540679584]\u001b[A\n",
      "\u001b[A{'bootstrap': False, 'class_weight': 'balanced', 'criterion': 'gini', 'max_depth': 2, 'max_features': 2, 'max_leaf_nodes': 10, 'min_samples_leaf': 29, 'min_samples_split': 30, 'n_estimators': 180}\n",
      "\n",
      " 12%|█▏        | 122/1000 [03:51<30:29,  2.08s/it, best loss: 0.2218986540679584]\u001b[A"
     ]
    },
    {
     "name": "stderr",
     "output_type": "stream",
     "text": [
      "Hyperopt:  12%|█▏        | 123/1000 [03:51<28:23,  1.94s/it]"
     ]
    },
    {
     "name": "stdout",
     "output_type": "stream",
     "text": [
      "\n",
      " 12%|█▏        | 123/1000 [03:51<28:23,  1.94s/it, best loss: 0.2218986540679584]\u001b[A\n",
      "\u001b[AParameters with this training score 0.5004208310499012 :\n",
      "\n",
      " 12%|█▏        | 123/1000 [03:53<28:23,  1.94s/it, best loss: 0.2218986540679584]\u001b[A\n",
      "\u001b[A{'bootstrap': False, 'class_weight': None, 'criterion': 'gini', 'max_depth': 36, 'max_features': 1, 'max_leaf_nodes': 26, 'min_samples_leaf': 5, 'min_samples_split': 40, 'n_estimators': 700}\n",
      "\n",
      " 12%|█▏        | 123/1000 [03:53<28:23,  1.94s/it, best loss: 0.2218986540679584]\u001b[A"
     ]
    },
    {
     "name": "stderr",
     "output_type": "stream",
     "text": [
      "Hyperopt:  12%|█▏        | 124/1000 [03:53<28:49,  1.97s/it]"
     ]
    },
    {
     "name": "stdout",
     "output_type": "stream",
     "text": [
      "\n",
      " 12%|█▏        | 124/1000 [03:53<28:49,  1.97s/it, best loss: 0.2218986540679584]\u001b[A\n",
      "\u001b[AParameters with this training score 0.7643237237378944 :\n",
      "\n",
      " 12%|█▏        | 124/1000 [03:55<28:49,  1.97s/it, best loss: 0.2218986540679584]\u001b[A\n",
      "\u001b[A{'bootstrap': False, 'class_weight': 'balanced', 'criterion': 'entropy', 'max_depth': 36, 'max_features': 3, 'max_leaf_nodes': 18, 'min_samples_leaf': 24, 'min_samples_split': 70, 'n_estimators': 520}\n",
      "\n",
      " 12%|█▏        | 124/1000 [03:55<28:49,  1.97s/it, best loss: 0.2218986540679584]\u001b[A"
     ]
    },
    {
     "name": "stderr",
     "output_type": "stream",
     "text": [
      "Hyperopt:  12%|█▎        | 125/1000 [03:55<28:20,  1.94s/it]"
     ]
    },
    {
     "name": "stdout",
     "output_type": "stream",
     "text": [
      "\n",
      " 12%|█▎        | 125/1000 [03:55<28:20,  1.94s/it, best loss: 0.2218986540679584]\u001b[A\n",
      "\u001b[AParameters with this training score 0.6063547666925178 :\n",
      "\n",
      " 12%|█▎        | 125/1000 [03:55<28:20,  1.94s/it, best loss: 0.2218986540679584]\u001b[A\n",
      "\u001b[A{'bootstrap': True, 'class_weight': 'balanced', 'criterion': 'gini', 'max_depth': 31, 'max_features': 4, 'max_leaf_nodes': 14, 'min_samples_leaf': 18, 'min_samples_split': 80, 'n_estimators': 10}\n",
      "\n",
      " 12%|█▎        | 125/1000 [03:55<28:20,  1.94s/it, best loss: 0.2218986540679584]\u001b[A"
     ]
    },
    {
     "name": "stderr",
     "output_type": "stream",
     "text": [
      "Hyperopt:  13%|█▎        | 126/1000 [03:55<21:38,  1.49s/it]"
     ]
    },
    {
     "name": "stdout",
     "output_type": "stream",
     "text": [
      "\n",
      " 13%|█▎        | 126/1000 [03:55<21:38,  1.49s/it, best loss: 0.2218986540679584]\u001b[A\n",
      "\u001b[AParameters with this training score 0.7735093110837923 :\n",
      "\n",
      " 13%|█▎        | 126/1000 [03:57<21:38,  1.49s/it, best loss: 0.2218986540679584]\u001b[A\n",
      "\u001b[A{'bootstrap': False, 'class_weight': 'balanced', 'criterion': 'gini', 'max_depth': 18, 'max_features': 3, 'max_leaf_nodes': 28, 'min_samples_leaf': 13, 'min_samples_split': 10, 'n_estimators': 530}\n",
      "\n",
      " 13%|█▎        | 126/1000 [03:57<21:38,  1.49s/it, best loss: 0.2218986540679584]\u001b[A"
     ]
    },
    {
     "name": "stderr",
     "output_type": "stream",
     "text": [
      "Hyperopt:  13%|█▎        | 127/1000 [03:57<22:53,  1.57s/it]"
     ]
    },
    {
     "name": "stdout",
     "output_type": "stream",
     "text": [
      "\n",
      " 13%|█▎        | 127/1000 [03:57<22:53,  1.57s/it, best loss: 0.2218986540679584]\u001b[A\n",
      "\u001b[AParameters with this training score 0.7723572058898861 :\n",
      "\n",
      " 13%|█▎        | 127/1000 [03:58<22:53,  1.57s/it, best loss: 0.2218986540679584]\u001b[A\n",
      "\u001b[A{'bootstrap': False, 'class_weight': 'balanced', 'criterion': 'gini', 'max_depth': 23, 'max_features': 3, 'max_leaf_nodes': 26, 'min_samples_leaf': 28, 'min_samples_split': 60, 'n_estimators': 140}\n",
      "\n",
      " 13%|█▎        | 127/1000 [03:58<22:53,  1.57s/it, best loss: 0.2218986540679584]\u001b[A"
     ]
    },
    {
     "name": "stderr",
     "output_type": "stream",
     "text": [
      "Hyperopt:  13%|█▎        | 128/1000 [03:58<19:29,  1.34s/it]"
     ]
    },
    {
     "name": "stdout",
     "output_type": "stream",
     "text": [
      "\n",
      " 13%|█▎        | 128/1000 [03:58<19:29,  1.34s/it, best loss: 0.2218986540679584]\u001b[A\n",
      "\u001b[AParameters with this training score 0.5005330782006343 :\n",
      "\n",
      " 13%|█▎        | 128/1000 [03:59<19:29,  1.34s/it, best loss: 0.2218986540679584]\u001b[A\n",
      "\u001b[A{'bootstrap': False, 'class_weight': None, 'criterion': 'gini', 'max_depth': 29, 'max_features': 3, 'max_leaf_nodes': 12, 'min_samples_leaf': 2, 'min_samples_split': 80, 'n_estimators': 530}\n",
      "\n",
      " 13%|█▎        | 128/1000 [03:59<19:29,  1.34s/it, best loss: 0.2218986540679584]\u001b[A"
     ]
    },
    {
     "name": "stderr",
     "output_type": "stream",
     "text": [
      "Hyperopt:  13%|█▎        | 129/1000 [04:00<21:18,  1.47s/it]"
     ]
    },
    {
     "name": "stdout",
     "output_type": "stream",
     "text": [
      "\n",
      " 13%|█▎        | 129/1000 [03:59<21:18,  1.47s/it, best loss: 0.2218986540679584]\u001b[A\n",
      "\u001b[AParameters with this training score 0.7643957033893247 :\n",
      "\n",
      " 13%|█▎        | 129/1000 [04:02<21:18,  1.47s/it, best loss: 0.2218986540679584]\u001b[A\n",
      "\u001b[A{'bootstrap': False, 'class_weight': 'balanced', 'criterion': 'entropy', 'max_depth': 8, 'max_features': 2, 'max_leaf_nodes': 24, 'min_samples_leaf': 19, 'min_samples_split': 50, 'n_estimators': 740}\n",
      "\n",
      " 13%|█▎        | 129/1000 [04:02<21:18,  1.47s/it, best loss: 0.2218986540679584]\u001b[A"
     ]
    },
    {
     "name": "stderr",
     "output_type": "stream",
     "text": [
      "Hyperopt:  13%|█▎        | 130/1000 [04:02<25:27,  1.76s/it]"
     ]
    },
    {
     "name": "stdout",
     "output_type": "stream",
     "text": [
      "\n",
      " 13%|█▎        | 130/1000 [04:02<25:27,  1.76s/it, best loss: 0.2218986540679584]\u001b[A\n",
      "\u001b[AParameters with this training score 0.6876817576610442 :\n",
      "\n",
      " 13%|█▎        | 130/1000 [04:02<25:27,  1.76s/it, best loss: 0.2218986540679584]\u001b[A\n",
      "\u001b[A{'bootstrap': True, 'class_weight': 'balanced', 'criterion': 'gini', 'max_depth': 7, 'max_features': 1, 'max_leaf_nodes': 26, 'min_samples_leaf': 12, 'min_samples_split': 90, 'n_estimators': 30}\n",
      "\n",
      " 13%|█▎        | 130/1000 [04:02<25:27,  1.76s/it, best loss: 0.2218986540679584]\u001b[A"
     ]
    },
    {
     "name": "stderr",
     "output_type": "stream",
     "text": [
      "Hyperopt:  13%|█▎        | 131/1000 [04:02<19:36,  1.35s/it]"
     ]
    },
    {
     "name": "stdout",
     "output_type": "stream",
     "text": [
      "\n",
      " 13%|█▎        | 131/1000 [04:02<19:36,  1.35s/it, best loss: 0.2218986540679584]\u001b[A\n",
      "\u001b[AParameters with this training score 0.7685995775494396 :\n",
      "\n",
      " 13%|█▎        | 131/1000 [04:05<19:36,  1.35s/it, best loss: 0.2218986540679584]\u001b[A\n",
      "\u001b[A{'bootstrap': False, 'class_weight': 'balanced', 'criterion': 'gini', 'max_depth': 6, 'max_features': 3, 'max_leaf_nodes': 22, 'min_samples_leaf': 26, 'min_samples_split': 20, 'n_estimators': 720}\n",
      "\n",
      " 13%|█▎        | 131/1000 [04:05<19:36,  1.35s/it, best loss: 0.2218986540679584]\u001b[A"
     ]
    },
    {
     "name": "stderr",
     "output_type": "stream",
     "text": [
      "Hyperopt:  13%|█▎        | 132/1000 [04:05<24:03,  1.66s/it]"
     ]
    },
    {
     "name": "stdout",
     "output_type": "stream",
     "text": [
      "\n",
      " 13%|█▎        | 132/1000 [04:05<24:03,  1.66s/it, best loss: 0.2218986540679584]\u001b[A\n",
      "\u001b[AParameters with this training score 0.769571313906912 :\n",
      "\n",
      " 13%|█▎        | 132/1000 [04:07<24:03,  1.66s/it, best loss: 0.2218986540679584]\u001b[A\n",
      "\u001b[A{'bootstrap': False, 'class_weight': 'balanced', 'criterion': 'gini', 'max_depth': 20, 'max_features': 4, 'max_leaf_nodes': 20, 'min_samples_leaf': 24, 'min_samples_split': 80, 'n_estimators': 790}\n",
      "\n",
      " 13%|█▎        | 132/1000 [04:07<24:03,  1.66s/it, best loss: 0.2218986540679584]\u001b[A"
     ]
    },
    {
     "name": "stderr",
     "output_type": "stream",
     "text": [
      "Hyperopt:  13%|█▎        | 133/1000 [04:07<27:13,  1.88s/it]"
     ]
    },
    {
     "name": "stdout",
     "output_type": "stream",
     "text": [
      "\n",
      " 13%|█▎        | 133/1000 [04:07<27:13,  1.88s/it, best loss: 0.2218986540679584]\u001b[A\n",
      "\u001b[AParameters with this training score 0.515639815970038 :\n",
      "\n",
      " 13%|█▎        | 133/1000 [04:08<27:13,  1.88s/it, best loss: 0.2218986540679584]\u001b[A\n",
      "\u001b[A{'bootstrap': False, 'class_weight': None, 'criterion': 'gini', 'max_depth': 46, 'max_features': 3, 'max_leaf_nodes': 16, 'min_samples_leaf': 21, 'min_samples_split': 80, 'n_estimators': 250}\n",
      "\n",
      " 13%|█▎        | 133/1000 [04:08<27:13,  1.88s/it, best loss: 0.2218986540679584]\u001b[A"
     ]
    },
    {
     "name": "stderr",
     "output_type": "stream",
     "text": [
      "Hyperopt:  13%|█▎        | 134/1000 [04:08<23:23,  1.62s/it]"
     ]
    },
    {
     "name": "stdout",
     "output_type": "stream",
     "text": [
      "\n",
      " 13%|█▎        | 134/1000 [04:08<23:23,  1.62s/it, best loss: 0.2218986540679584]\u001b[A\n",
      "\u001b[AParameters with this training score 0.7607917210139867 :\n",
      "\n",
      " 13%|█▎        | 134/1000 [04:11<23:23,  1.62s/it, best loss: 0.2218986540679584]\u001b[A\n",
      "\u001b[A{'bootstrap': False, 'class_weight': 'balanced', 'criterion': 'entropy', 'max_depth': 41, 'max_features': 3, 'max_leaf_nodes': 26, 'min_samples_leaf': 6, 'min_samples_split': 30, 'n_estimators': 850}\n",
      "\n",
      " 13%|█▎        | 134/1000 [04:11<23:23,  1.62s/it, best loss: 0.2218986540679584]\u001b[A"
     ]
    },
    {
     "name": "stderr",
     "output_type": "stream",
     "text": [
      "Hyperopt:  14%|█▎        | 135/1000 [04:11<27:23,  1.90s/it]"
     ]
    },
    {
     "name": "stdout",
     "output_type": "stream",
     "text": [
      "\n",
      " 14%|█▎        | 135/1000 [04:11<27:23,  1.90s/it, best loss: 0.2218986540679584]\u001b[A\n",
      "\u001b[AParameters with this training score 0.6275032797326026 :\n",
      "\n",
      " 14%|█▎        | 135/1000 [04:12<27:23,  1.90s/it, best loss: 0.2218986540679584]\u001b[A\n",
      "\u001b[A{'bootstrap': True, 'class_weight': 'balanced', 'criterion': 'gini', 'max_depth': 4, 'max_features': 3, 'max_leaf_nodes': 10, 'min_samples_leaf': 14, 'min_samples_split': 40, 'n_estimators': 300}\n",
      "\n",
      " 14%|█▎        | 135/1000 [04:12<27:23,  1.90s/it, best loss: 0.2218986540679584]\u001b[A"
     ]
    },
    {
     "name": "stderr",
     "output_type": "stream",
     "text": [
      "Hyperopt:  14%|█▎        | 136/1000 [04:12<24:50,  1.73s/it]"
     ]
    },
    {
     "name": "stdout",
     "output_type": "stream",
     "text": [
      "\n",
      " 14%|█▎        | 136/1000 [04:12<24:50,  1.73s/it, best loss: 0.2218986540679584]\u001b[A\n",
      "\u001b[AParameters with this training score 0.7491268043830828 :\n",
      "\n",
      " 14%|█▎        | 136/1000 [04:13<24:50,  1.73s/it, best loss: 0.2218986540679584]\u001b[A\n",
      "\u001b[A{'bootstrap': False, 'class_weight': 'balanced', 'criterion': 'gini', 'max_depth': 5, 'max_features': 2, 'max_leaf_nodes': 26, 'min_samples_leaf': 15, 'min_samples_split': 80, 'n_estimators': 230}\n",
      "\n",
      " 14%|█▎        | 136/1000 [04:13<24:50,  1.73s/it, best loss: 0.2218986540679584]\u001b[A"
     ]
    },
    {
     "name": "stderr",
     "output_type": "stream",
     "text": [
      "Hyperopt:  14%|█▎        | 137/1000 [04:13<21:33,  1.50s/it]"
     ]
    },
    {
     "name": "stdout",
     "output_type": "stream",
     "text": [
      "\n",
      " 14%|█▎        | 137/1000 [04:13<21:33,  1.50s/it, best loss: 0.2218986540679584]\u001b[A\n",
      "\u001b[AParameters with this training score 0.7687978172653104 :\n",
      "\n",
      " 14%|█▎        | 137/1000 [04:15<21:33,  1.50s/it, best loss: 0.2218986540679584]\u001b[A\n",
      "\u001b[A{'bootstrap': False, 'class_weight': 'balanced', 'criterion': 'gini', 'max_depth': 45, 'max_features': 3, 'max_leaf_nodes': 18, 'min_samples_leaf': 27, 'min_samples_split': 10, 'n_estimators': 510}\n",
      "\n",
      " 14%|█▎        | 137/1000 [04:15<21:33,  1.50s/it, best loss: 0.2218986540679584]\u001b[A"
     ]
    },
    {
     "name": "stderr",
     "output_type": "stream",
     "text": [
      "Hyperopt:  14%|█▍        | 138/1000 [04:15<22:16,  1.55s/it]"
     ]
    },
    {
     "name": "stdout",
     "output_type": "stream",
     "text": [
      "\n",
      " 14%|█▍        | 138/1000 [04:15<22:16,  1.55s/it, best loss: 0.2218986540679584]\u001b[A\n",
      "\u001b[AParameters with this training score 0.510754805832015 :\n",
      "\n",
      " 14%|█▍        | 138/1000 [04:16<22:16,  1.55s/it, best loss: 0.2218986540679584]\u001b[A\n",
      "\u001b[A{'bootstrap': False, 'class_weight': None, 'criterion': 'gini', 'max_depth': 43, 'max_features': 1, 'max_leaf_nodes': 28, 'min_samples_leaf': 9, 'min_samples_split': 70, 'n_estimators': 280}\n",
      "\n",
      " 14%|█▍        | 138/1000 [04:16<22:16,  1.55s/it, best loss: 0.2218986540679584]\u001b[A"
     ]
    },
    {
     "name": "stderr",
     "output_type": "stream",
     "text": [
      "Hyperopt:  14%|█▍        | 139/1000 [04:16<20:37,  1.44s/it]"
     ]
    },
    {
     "name": "stdout",
     "output_type": "stream",
     "text": [
      "\n",
      " 14%|█▍        | 139/1000 [04:16<20:37,  1.44s/it, best loss: 0.2218986540679584]\u001b[A\n",
      "\u001b[AParameters with this training score 0.7673949234049826 :\n",
      "\n",
      " 14%|█▍        | 139/1000 [04:18<20:37,  1.44s/it, best loss: 0.2218986540679584]\u001b[A\n",
      "\u001b[A{'bootstrap': False, 'class_weight': 'balanced', 'criterion': 'entropy', 'max_depth': 37, 'max_features': 4, 'max_leaf_nodes': 26, 'min_samples_leaf': 7, 'min_samples_split': 60, 'n_estimators': 820}\n",
      "\n",
      " 14%|█▍        | 139/1000 [04:18<20:37,  1.44s/it, best loss: 0.2218986540679584]\u001b[A"
     ]
    },
    {
     "name": "stderr",
     "output_type": "stream",
     "text": [
      "Hyperopt:  14%|█▍        | 140/1000 [04:18<25:21,  1.77s/it]"
     ]
    },
    {
     "name": "stdout",
     "output_type": "stream",
     "text": [
      "\n",
      " 14%|█▍        | 140/1000 [04:18<25:21,  1.77s/it, best loss: 0.2218986540679584]\u001b[A\n",
      "\u001b[AParameters with this training score 0.7215067423166224 :\n",
      "\n",
      " 14%|█▍        | 140/1000 [04:19<25:21,  1.77s/it, best loss: 0.2218986540679584]\u001b[A\n",
      "\u001b[A{'bootstrap': True, 'class_weight': 'balanced', 'criterion': 'gini', 'max_depth': 30, 'max_features': 3, 'max_leaf_nodes': 14, 'min_samples_leaf': 20, 'min_samples_split': 80, 'n_estimators': 160}\n",
      "\n",
      " 14%|█▍        | 140/1000 [04:19<25:21,  1.77s/it, best loss: 0.2218986540679584]\u001b[A"
     ]
    },
    {
     "name": "stderr",
     "output_type": "stream",
     "text": [
      "Hyperopt:  14%|█▍        | 141/1000 [04:19<21:18,  1.49s/it]"
     ]
    },
    {
     "name": "stdout",
     "output_type": "stream",
     "text": [
      "\n",
      " 14%|█▍        | 141/1000 [04:19<21:18,  1.49s/it, best loss: 0.2218986540679584]\u001b[A\n",
      "\u001b[AParameters with this training score 0.6491757893158472 :\n",
      "\n",
      " 14%|█▍        | 141/1000 [04:20<21:18,  1.49s/it, best loss: 0.2218986540679584]\u001b[A\n",
      "\u001b[A{'bootstrap': False, 'class_weight': 'balanced', 'criterion': 'gini', 'max_depth': 3, 'max_features': 3, 'max_leaf_nodes': 12, 'min_samples_leaf': 1, 'min_samples_split': 50, 'n_estimators': 330}\n",
      "\n",
      " 14%|█▍        | 141/1000 [04:20<21:18,  1.49s/it, best loss: 0.2218986540679584]\u001b[A"
     ]
    },
    {
     "name": "stderr",
     "output_type": "stream",
     "text": [
      "Hyperopt:  14%|█▍        | 142/1000 [04:20<20:11,  1.41s/it]"
     ]
    },
    {
     "name": "stdout",
     "output_type": "stream",
     "text": [
      "\n",
      " 14%|█▍        | 142/1000 [04:20<20:11,  1.41s/it, best loss: 0.2218986540679584]\u001b[A\n",
      "\u001b[AParameters with this training score 0.7740168204066507 :\n",
      "\n",
      " 14%|█▍        | 142/1000 [04:23<20:11,  1.41s/it, best loss: 0.2218986540679584]\u001b[A\n",
      "\u001b[A{'bootstrap': False, 'class_weight': 'balanced', 'criterion': 'gini', 'max_depth': 31, 'max_features': 3, 'max_leaf_nodes': 24, 'min_samples_leaf': 24, 'min_samples_split': 20, 'n_estimators': 680}\n",
      "\n",
      " 14%|█▍        | 142/1000 [04:23<20:11,  1.41s/it, best loss: 0.2218986540679584]\u001b[A"
     ]
    },
    {
     "name": "stderr",
     "output_type": "stream",
     "text": [
      "Hyperopt:  14%|█▍        | 143/1000 [04:23<23:53,  1.67s/it]"
     ]
    },
    {
     "name": "stdout",
     "output_type": "stream",
     "text": [
      "\n",
      " 14%|█▍        | 143/1000 [04:23<23:53,  1.67s/it, best loss: 0.2218986540679584]\u001b[A\n",
      "\u001b[AParameters with this training score 0.5256165669547517 :\n",
      "\n",
      " 14%|█▍        | 143/1000 [04:23<23:53,  1.67s/it, best loss: 0.2218986540679584]\u001b[A\n",
      "\u001b[A{'bootstrap': False, 'class_weight': None, 'criterion': 'gini', 'max_depth': 21, 'max_features': 2, 'max_leaf_nodes': 22, 'min_samples_leaf': 3, 'min_samples_split': 80, 'n_estimators': 70}\n",
      "\n",
      " 14%|█▍        | 143/1000 [04:23<23:53,  1.67s/it, best loss: 0.2218986540679584]\u001b[A"
     ]
    },
    {
     "name": "stderr",
     "output_type": "stream",
     "text": [
      "Hyperopt:  14%|█▍        | 144/1000 [04:23<19:24,  1.36s/it]"
     ]
    },
    {
     "name": "stdout",
     "output_type": "stream",
     "text": [
      "\n",
      " 14%|█▍        | 144/1000 [04:23<19:24,  1.36s/it, best loss: 0.2218986540679584]\u001b[A\n",
      "\u001b[AParameters with this training score 0.7684795034275365 :\n",
      "\n",
      " 14%|█▍        | 144/1000 [04:25<19:24,  1.36s/it, best loss: 0.2218986540679584]\u001b[A\n",
      "\u001b[A{'bootstrap': False, 'class_weight': 'balanced', 'criterion': 'entropy', 'max_depth': 16, 'max_features': 3, 'max_leaf_nodes': 26, 'min_samples_leaf': 11, 'min_samples_split': 90, 'n_estimators': 670}\n",
      "\n",
      " 14%|█▍        | 144/1000 [04:25<19:24,  1.36s/it, best loss: 0.2218986540679584]\u001b[A"
     ]
    },
    {
     "name": "stderr",
     "output_type": "stream",
     "text": [
      "Hyperopt:  14%|█▍        | 145/1000 [04:26<22:57,  1.61s/it]"
     ]
    },
    {
     "name": "stdout",
     "output_type": "stream",
     "text": [
      "\n",
      " 14%|█▍        | 145/1000 [04:25<22:57,  1.61s/it, best loss: 0.2218986540679584]\u001b[A\n",
      "\u001b[AParameters with this training score 0.7765535484591835 :\n",
      "\n",
      " 14%|█▍        | 145/1000 [04:28<22:57,  1.61s/it, best loss: 0.2218986540679584]\u001b[A\n",
      "\u001b[A{'bootstrap': False, 'class_weight': 'balanced', 'criterion': 'gini', 'max_depth': 32, 'max_features': 3, 'max_leaf_nodes': 26, 'min_samples_leaf': 26, 'min_samples_split': 80, 'n_estimators': 940}\n",
      "\n",
      " 14%|█▍        | 145/1000 [04:28<22:57,  1.61s/it, best loss: 0.2218986540679584]\u001b[A"
     ]
    },
    {
     "name": "stderr",
     "output_type": "stream",
     "text": [
      "Hyperopt:  15%|█▍        | 146/1000 [04:29<28:42,  2.02s/it]"
     ]
    },
    {
     "name": "stdout",
     "output_type": "stream",
     "text": [
      "\n",
      " 15%|█▍        | 146/1000 [04:28<28:42,  2.02s/it, best loss: 0.2218986540679584]\u001b[A\n",
      "\u001b[AParameters with this training score 0.7765451810456778 :\n",
      "\n",
      " 15%|█▍        | 146/1000 [04:31<28:42,  2.02s/it, best loss: 0.2218986540679584]\u001b[A\n",
      "\u001b[A{'bootstrap': False, 'class_weight': 'balanced', 'criterion': 'gini', 'max_depth': 32, 'max_features': 3, 'max_leaf_nodes': 26, 'min_samples_leaf': 26, 'min_samples_split': 80, 'n_estimators': 990}\n",
      "\n",
      " 15%|█▍        | 146/1000 [04:31<28:42,  2.02s/it, best loss: 0.2218986540679584]\u001b[A"
     ]
    },
    {
     "name": "stderr",
     "output_type": "stream",
     "text": [
      "Hyperopt:  15%|█▍        | 147/1000 [04:32<32:55,  2.32s/it]"
     ]
    },
    {
     "name": "stdout",
     "output_type": "stream",
     "text": [
      "\n",
      " 15%|█▍        | 147/1000 [04:31<32:55,  2.32s/it, best loss: 0.2218986540679584]\u001b[A\n",
      "\u001b[AParameters with this training score 0.7784534897187287 :\n",
      "\n",
      " 15%|█▍        | 147/1000 [04:33<32:55,  2.32s/it, best loss: 0.2218986540679584]\u001b[A\n",
      "\u001b[A{'bootstrap': False, 'class_weight': 'balanced', 'criterion': 'gini', 'max_depth': 11, 'max_features': 3, 'max_leaf_nodes': 26, 'min_samples_leaf': 26, 'min_samples_split': 80, 'n_estimators': 350}\n",
      "\n",
      " 15%|█▍        | 147/1000 [04:33<32:55,  2.32s/it, best loss: 0.2218986540679584]\u001b[A"
     ]
    },
    {
     "name": "stderr",
     "output_type": "stream",
     "text": [
      "Hyperopt:  15%|█▍        | 148/1000 [04:33<28:56,  2.04s/it]"
     ]
    },
    {
     "name": "stdout",
     "output_type": "stream",
     "text": [
      "\n",
      " 15%|█▍        | 148/1000 [04:33<28:56,  2.04s/it, best loss: 0.22154651028127126]\u001b[A\n",
      "\u001b[AParameters with this training score 0.7766738432521042 :\n",
      "\n",
      " 15%|█▍        | 148/1000 [04:33<28:56,  2.04s/it, best loss: 0.22154651028127126]\u001b[A\n",
      "\u001b[A{'bootstrap': False, 'class_weight': 'balanced', 'criterion': 'gini', 'max_depth': 11, 'max_features': 3, 'max_leaf_nodes': 26, 'min_samples_leaf': 26, 'min_samples_split': 80, 'n_estimators': 130}\n",
      "\n",
      " 15%|█▍        | 148/1000 [04:33<28:56,  2.04s/it, best loss: 0.22154651028127126]\u001b[A"
     ]
    },
    {
     "name": "stderr",
     "output_type": "stream",
     "text": [
      "Hyperopt:  15%|█▍        | 149/1000 [04:34<22:45,  1.61s/it]"
     ]
    },
    {
     "name": "stdout",
     "output_type": "stream",
     "text": [
      "\n",
      " 15%|█▍        | 149/1000 [04:33<22:46,  1.61s/it, best loss: 0.22154651028127126]\u001b[A\n",
      "\u001b[AParameters with this training score 0.7678787345522865 :\n",
      "\n",
      " 15%|█▍        | 149/1000 [04:35<22:46,  1.61s/it, best loss: 0.22154651028127126]\u001b[A\n",
      "\u001b[A{'bootstrap': False, 'class_weight': 'balanced', 'criterion': 'gini', 'max_depth': 11, 'max_features': 3, 'max_leaf_nodes': 26, 'min_samples_leaf': 4, 'min_samples_split': 80, 'n_estimators': 310}\n",
      "\n",
      " 15%|█▍        | 149/1000 [04:35<22:46,  1.61s/it, best loss: 0.22154651028127126]\u001b[A"
     ]
    },
    {
     "name": "stderr",
     "output_type": "stream",
     "text": [
      "Hyperopt:  15%|█▌        | 150/1000 [04:35<21:02,  1.48s/it]"
     ]
    },
    {
     "name": "stdout",
     "output_type": "stream",
     "text": [
      "\n",
      " 15%|█▌        | 150/1000 [04:35<21:02,  1.48s/it, best loss: 0.22154651028127126]\u001b[A\n",
      "\u001b[AParameters with this training score 0.7784534897187287 :\n",
      "\n",
      " 15%|█▌        | 150/1000 [04:36<21:02,  1.48s/it, best loss: 0.22154651028127126]\u001b[A\n",
      "\u001b[A{'bootstrap': False, 'class_weight': 'balanced', 'criterion': 'gini', 'max_depth': 11, 'max_features': 3, 'max_leaf_nodes': 26, 'min_samples_leaf': 26, 'min_samples_split': 80, 'n_estimators': 350}\n",
      "\n",
      " 15%|█▌        | 150/1000 [04:36<21:02,  1.48s/it, best loss: 0.22154651028127126]\u001b[A"
     ]
    },
    {
     "name": "stderr",
     "output_type": "stream",
     "text": [
      "Hyperopt:  15%|█▌        | 151/1000 [04:36<19:59,  1.41s/it]"
     ]
    },
    {
     "name": "stdout",
     "output_type": "stream",
     "text": [
      "\n",
      " 15%|█▌        | 151/1000 [04:36<19:59,  1.41s/it, best loss: 0.22154651028127126]\u001b[A\n",
      "\u001b[AParameters with this training score 0.7784534897187287 :\n",
      "\n",
      " 15%|█▌        | 151/1000 [04:37<19:59,  1.41s/it, best loss: 0.22154651028127126]\u001b[A\n",
      "\u001b[A{'bootstrap': False, 'class_weight': 'balanced', 'criterion': 'gini', 'max_depth': 11, 'max_features': 3, 'max_leaf_nodes': 26, 'min_samples_leaf': 26, 'min_samples_split': 80, 'n_estimators': 350}\n",
      "\n",
      " 15%|█▌        | 151/1000 [04:37<19:59,  1.41s/it, best loss: 0.22154651028127126]\u001b[A"
     ]
    },
    {
     "name": "stderr",
     "output_type": "stream",
     "text": [
      "Hyperopt:  15%|█▌        | 152/1000 [04:37<19:43,  1.40s/it]"
     ]
    },
    {
     "name": "stdout",
     "output_type": "stream",
     "text": [
      "\n",
      " 15%|█▌        | 152/1000 [04:37<19:43,  1.40s/it, best loss: 0.22154651028127126]\u001b[A\n",
      "\u001b[AParameters with this training score 0.778479787332612 :\n",
      "\n",
      " 15%|█▌        | 152/1000 [04:39<19:43,  1.40s/it, best loss: 0.22154651028127126]\u001b[A\n",
      "\u001b[A{'bootstrap': False, 'class_weight': 'balanced', 'criterion': 'gini', 'max_depth': 39, 'max_features': 3, 'max_leaf_nodes': 26, 'min_samples_leaf': 26, 'min_samples_split': 80, 'n_estimators': 410}\n",
      "\n",
      " 15%|█▌        | 152/1000 [04:39<19:43,  1.40s/it, best loss: 0.22154651028127126]\u001b[A"
     ]
    },
    {
     "name": "stderr",
     "output_type": "stream",
     "text": [
      "Hyperopt:  15%|█▌        | 153/1000 [04:39<19:52,  1.41s/it]"
     ]
    },
    {
     "name": "stdout",
     "output_type": "stream",
     "text": [
      "\n",
      " 15%|█▌        | 153/1000 [04:39<19:52,  1.41s/it, best loss: 0.22152021266738797]\u001b[A\n",
      "\u001b[AParameters with this training score 0.7755468922175417 :\n",
      "\n",
      " 15%|█▌        | 153/1000 [04:39<19:52,  1.41s/it, best loss: 0.22152021266738797]\u001b[A\n",
      "\u001b[A{'bootstrap': False, 'class_weight': 'balanced', 'criterion': 'gini', 'max_depth': 11, 'max_features': 3, 'max_leaf_nodes': 26, 'min_samples_leaf': 26, 'min_samples_split': 80, 'n_estimators': 100}\n",
      "\n",
      " 15%|█▌        | 153/1000 [04:39<19:52,  1.41s/it, best loss: 0.22152021266738797]\u001b[A"
     ]
    },
    {
     "name": "stderr",
     "output_type": "stream",
     "text": [
      "Hyperopt:  15%|█▌        | 154/1000 [04:39<16:24,  1.16s/it]"
     ]
    },
    {
     "name": "stdout",
     "output_type": "stream",
     "text": [
      "\n",
      " 15%|█▌        | 154/1000 [04:39<16:24,  1.16s/it, best loss: 0.22152021266738797]\u001b[A\n",
      "\u001b[AParameters with this training score 0.7704998637154808 :\n",
      "\n",
      " 15%|█▌        | 154/1000 [04:41<16:24,  1.16s/it, best loss: 0.22152021266738797]\u001b[A\n",
      "\u001b[A{'bootstrap': False, 'class_weight': 'balanced', 'criterion': 'gini', 'max_depth': 11, 'max_features': 3, 'max_leaf_nodes': 20, 'min_samples_leaf': 26, 'min_samples_split': 80, 'n_estimators': 350}\n",
      "\n",
      " 15%|█▌        | 154/1000 [04:41<16:24,  1.16s/it, best loss: 0.22152021266738797]\u001b[A"
     ]
    },
    {
     "name": "stderr",
     "output_type": "stream",
     "text": [
      "Hyperopt:  16%|█▌        | 155/1000 [04:41<17:14,  1.22s/it]"
     ]
    },
    {
     "name": "stdout",
     "output_type": "stream",
     "text": [
      "\n",
      " 16%|█▌        | 155/1000 [04:41<17:14,  1.22s/it, best loss: 0.22152021266738797]\u001b[A\n",
      "\u001b[AParameters with this training score 0.7608787094235104 :\n",
      "\n",
      " 16%|█▌        | 155/1000 [04:42<17:14,  1.22s/it, best loss: 0.22152021266738797]\u001b[A\n",
      "\u001b[A{'bootstrap': False, 'class_weight': 'balanced', 'criterion': 'gini', 'max_depth': 39, 'max_features': 3, 'max_leaf_nodes': 16, 'min_samples_leaf': 26, 'min_samples_split': 80, 'n_estimators': 350}\n",
      "\n",
      " 16%|█▌        | 155/1000 [04:42<17:14,  1.22s/it, best loss: 0.22152021266738797]\u001b[A"
     ]
    },
    {
     "name": "stderr",
     "output_type": "stream",
     "text": [
      "Hyperopt:  16%|█▌        | 156/1000 [04:42<17:49,  1.27s/it]"
     ]
    },
    {
     "name": "stdout",
     "output_type": "stream",
     "text": [
      "\n",
      " 16%|█▌        | 156/1000 [04:42<17:49,  1.27s/it, best loss: 0.22152021266738797]\u001b[A\n",
      "\u001b[AParameters with this training score 0.7742247836753036 :\n",
      "\n",
      " 16%|█▌        | 156/1000 [04:43<17:49,  1.27s/it, best loss: 0.22152021266738797]\u001b[A\n",
      "\u001b[A{'bootstrap': False, 'class_weight': 'balanced', 'criterion': 'gini', 'max_depth': 11, 'max_features': 3, 'max_leaf_nodes': 26, 'min_samples_leaf': 26, 'min_samples_split': 30, 'n_estimators': 350}\n",
      "\n",
      " 16%|█▌        | 156/1000 [04:43<17:49,  1.27s/it, best loss: 0.22152021266738797]\u001b[A"
     ]
    },
    {
     "name": "stderr",
     "output_type": "stream",
     "text": [
      "Hyperopt:  16%|█▌        | 157/1000 [04:44<18:27,  1.31s/it]"
     ]
    },
    {
     "name": "stdout",
     "output_type": "stream",
     "text": [
      "\n",
      " 16%|█▌        | 157/1000 [04:43<18:27,  1.31s/it, best loss: 0.22152021266738797]\u001b[A\n",
      "\u001b[AParameters with this training score 0.7303262473113582 :\n",
      "\n",
      " 16%|█▌        | 157/1000 [04:46<18:27,  1.31s/it, best loss: 0.22152021266738797]\u001b[A\n",
      "\u001b[A{'bootstrap': False, 'class_weight': 'balanced', 'criterion': 'gini', 'max_depth': 11, 'max_features': 3, 'max_leaf_nodes': 10, 'min_samples_leaf': 26, 'min_samples_split': 40, 'n_estimators': 840}\n",
      "\n",
      " 16%|█▌        | 157/1000 [04:46<18:27,  1.31s/it, best loss: 0.22152021266738797]\u001b[A"
     ]
    },
    {
     "name": "stderr",
     "output_type": "stream",
     "text": [
      "Hyperopt:  16%|█▌        | 158/1000 [04:46<23:33,  1.68s/it]"
     ]
    },
    {
     "name": "stdout",
     "output_type": "stream",
     "text": [
      "\n",
      " 16%|█▌        | 158/1000 [04:46<23:33,  1.68s/it, best loss: 0.22152021266738797]\u001b[A\n",
      "\u001b[AParameters with this training score 0.7781182941880024 :\n",
      "\n",
      " 16%|█▌        | 158/1000 [04:47<23:33,  1.68s/it, best loss: 0.22152021266738797]\u001b[A\n",
      "\u001b[A{'bootstrap': False, 'class_weight': 'balanced', 'criterion': 'gini', 'max_depth': 24, 'max_features': 3, 'max_leaf_nodes': 26, 'min_samples_leaf': 26, 'min_samples_split': 80, 'n_estimators': 350}\n",
      "\n",
      " 16%|█▌        | 158/1000 [04:47<23:33,  1.68s/it, best loss: 0.22152021266738797]\u001b[A"
     ]
    },
    {
     "name": "stderr",
     "output_type": "stream",
     "text": [
      "Hyperopt:  16%|█▌        | 159/1000 [04:47<21:46,  1.55s/it]"
     ]
    },
    {
     "name": "stdout",
     "output_type": "stream",
     "text": [
      "\n",
      " 16%|█▌        | 159/1000 [04:47<21:46,  1.55s/it, best loss: 0.22152021266738797]\u001b[A\n",
      "\u001b[AParameters with this training score 0.7395795343104357 :\n",
      "\n",
      " 16%|█▌        | 159/1000 [04:49<21:46,  1.55s/it, best loss: 0.22152021266738797]\u001b[A\n",
      "\u001b[A{'bootstrap': False, 'class_weight': 'balanced', 'criterion': 'gini', 'max_depth': 11, 'max_features': 1, 'max_leaf_nodes': 18, 'min_samples_leaf': 16, 'min_samples_split': 70, 'n_estimators': 410}\n",
      "\n",
      " 16%|█▌        | 159/1000 [04:49<21:46,  1.55s/it, best loss: 0.22152021266738797]\u001b[A"
     ]
    },
    {
     "name": "stderr",
     "output_type": "stream",
     "text": [
      "Hyperopt:  16%|█▌        | 160/1000 [04:49<21:50,  1.56s/it]"
     ]
    },
    {
     "name": "stdout",
     "output_type": "stream",
     "text": [
      "\n",
      " 16%|█▌        | 160/1000 [04:49<21:50,  1.56s/it, best loss: 0.22152021266738797]\u001b[A\n",
      "\u001b[AParameters with this training score 0.7751772848677361 :\n",
      "\n",
      " 16%|█▌        | 160/1000 [04:50<21:50,  1.56s/it, best loss: 0.22152021266738797]\u001b[A\n",
      "\u001b[A{'bootstrap': False, 'class_weight': 'balanced', 'criterion': 'gini', 'max_depth': 39, 'max_features': 4, 'max_leaf_nodes': 26, 'min_samples_leaf': 17, 'min_samples_split': 10, 'n_estimators': 350}\n",
      "\n",
      " 16%|█▌        | 160/1000 [04:50<21:50,  1.56s/it, best loss: 0.22152021266738797]\u001b[A"
     ]
    },
    {
     "name": "stderr",
     "output_type": "stream",
     "text": [
      "Hyperopt:  16%|█▌        | 161/1000 [04:50<20:47,  1.49s/it]"
     ]
    },
    {
     "name": "stdout",
     "output_type": "stream",
     "text": [
      "\n",
      " 16%|█▌        | 161/1000 [04:50<20:47,  1.49s/it, best loss: 0.22152021266738797]\u001b[A\n",
      "\u001b[AParameters with this training score 0.7766325605268808 :\n",
      "\n",
      " 16%|█▌        | 161/1000 [04:52<20:47,  1.49s/it, best loss: 0.22152021266738797]\u001b[A\n",
      "\u001b[A{'bootstrap': False, 'class_weight': 'balanced', 'criterion': 'gini', 'max_depth': 39, 'max_features': 3, 'max_leaf_nodes': 28, 'min_samples_leaf': 23, 'min_samples_split': 60, 'n_estimators': 410}\n",
      "\n",
      " 16%|█▌        | 161/1000 [04:52<20:47,  1.49s/it, best loss: 0.22152021266738797]\u001b[A"
     ]
    },
    {
     "name": "stderr",
     "output_type": "stream",
     "text": [
      "Hyperopt:  16%|█▌        | 162/1000 [04:52<20:57,  1.50s/it]"
     ]
    },
    {
     "name": "stdout",
     "output_type": "stream",
     "text": [
      "\n",
      " 16%|█▌        | 162/1000 [04:52<20:57,  1.50s/it, best loss: 0.22152021266738797]\u001b[A\n",
      "\u001b[AParameters with this training score 0.7274068750740541 :\n",
      "\n",
      " 16%|█▌        | 162/1000 [04:52<20:57,  1.50s/it, best loss: 0.22152021266738797]\u001b[A\n",
      "\u001b[A{'bootstrap': False, 'class_weight': 'balanced', 'criterion': 'gini', 'max_depth': 28, 'max_features': 3, 'max_leaf_nodes': 14, 'min_samples_leaf': 8, 'min_samples_split': 80, 'n_estimators': 50}\n",
      "\n",
      " 16%|█▌        | 162/1000 [04:52<20:57,  1.50s/it, best loss: 0.22152021266738797]\u001b[A"
     ]
    },
    {
     "name": "stderr",
     "output_type": "stream",
     "text": [
      "Hyperopt:  16%|█▋        | 163/1000 [04:52<16:31,  1.18s/it]"
     ]
    },
    {
     "name": "stdout",
     "output_type": "stream",
     "text": [
      "\n",
      " 16%|█▋        | 163/1000 [04:52<16:31,  1.18s/it, best loss: 0.22152021266738797]\u001b[A\n",
      "\u001b[AParameters with this training score 0.767412608543377 :\n",
      "\n",
      " 16%|█▋        | 163/1000 [04:55<16:31,  1.18s/it, best loss: 0.22152021266738797]\u001b[A\n",
      "\u001b[A{'bootstrap': True, 'class_weight': 'balanced', 'criterion': 'gini', 'max_depth': 9, 'max_features': 3, 'max_leaf_nodes': 26, 'min_samples_leaf': 25, 'min_samples_split': 90, 'n_estimators': 890}\n",
      "\n",
      " 16%|█▋        | 163/1000 [04:55<16:31,  1.18s/it, best loss: 0.22152021266738797]\u001b[A"
     ]
    },
    {
     "name": "stderr",
     "output_type": "stream",
     "text": [
      "Hyperopt:  16%|█▋        | 164/1000 [04:55<24:05,  1.73s/it]"
     ]
    },
    {
     "name": "stdout",
     "output_type": "stream",
     "text": [
      "\n",
      " 16%|█▋        | 164/1000 [04:55<24:05,  1.73s/it, best loss: 0.22152021266738797]\u001b[A\n",
      "\u001b[AParameters with this training score 0.7308818754716476 :\n",
      "\n",
      " 16%|█▋        | 164/1000 [04:57<24:05,  1.73s/it, best loss: 0.22152021266738797]\u001b[A\n",
      "\u001b[A{'bootstrap': False, 'class_weight': 'balanced', 'criterion': 'gini', 'max_depth': 12, 'max_features': 2, 'max_leaf_nodes': 12, 'min_samples_leaf': 22, 'min_samples_split': 50, 'n_estimators': 500}\n",
      "\n",
      " 16%|█▋        | 164/1000 [04:57<24:05,  1.73s/it, best loss: 0.22152021266738797]\u001b[A"
     ]
    },
    {
     "name": "stderr",
     "output_type": "stream",
     "text": [
      "Hyperopt:  16%|█▋        | 165/1000 [04:57<24:13,  1.74s/it]"
     ]
    },
    {
     "name": "stdout",
     "output_type": "stream",
     "text": [
      "\n",
      " 16%|█▋        | 165/1000 [04:57<24:13,  1.74s/it, best loss: 0.22152021266738797]\u001b[A\n",
      "\u001b[AParameters with this training score 0.7664155483701116 :\n",
      "\n",
      " 16%|█▋        | 165/1000 [05:00<24:13,  1.74s/it, best loss: 0.22152021266738797]\u001b[A\n",
      "\u001b[A{'bootstrap': False, 'class_weight': 'balanced', 'criterion': 'gini', 'max_depth': 14, 'max_features': 3, 'max_leaf_nodes': 24, 'min_samples_leaf': 10, 'min_samples_split': 20, 'n_estimators': 860}\n",
      "\n",
      " 16%|█▋        | 165/1000 [05:00<24:13,  1.74s/it, best loss: 0.22152021266738797]\u001b[A"
     ]
    },
    {
     "name": "stderr",
     "output_type": "stream",
     "text": [
      "Hyperopt:  17%|█▋        | 166/1000 [05:00<28:46,  2.07s/it]"
     ]
    },
    {
     "name": "stdout",
     "output_type": "stream",
     "text": [
      "\n",
      " 17%|█▋        | 166/1000 [05:00<28:46,  2.07s/it, best loss: 0.22152021266738797]\u001b[A\n",
      "\u001b[AParameters with this training score 0.7563540254408363 :\n",
      "\n",
      " 17%|█▋        | 166/1000 [05:02<28:46,  2.07s/it, best loss: 0.22152021266738797]\u001b[A\n",
      "\u001b[A{'bootstrap': False, 'class_weight': 'balanced', 'criterion': 'gini', 'max_depth': 10, 'max_features': 1, 'max_leaf_nodes': 22, 'min_samples_leaf': 26, 'min_samples_split': 80, 'n_estimators': 780}\n",
      "\n",
      " 17%|█▋        | 166/1000 [05:02<28:46,  2.07s/it, best loss: 0.22152021266738797]\u001b[A"
     ]
    },
    {
     "name": "stderr",
     "output_type": "stream",
     "text": [
      "Hyperopt:  17%|█▋        | 167/1000 [05:02<30:10,  2.17s/it]"
     ]
    },
    {
     "name": "stdout",
     "output_type": "stream",
     "text": [
      "\n",
      " 17%|█▋        | 167/1000 [05:02<30:10,  2.17s/it, best loss: 0.22152021266738797]\u001b[A\n",
      "\u001b[AParameters with this training score 0.6076569880835265 :\n",
      "\n",
      " 17%|█▋        | 167/1000 [05:03<30:10,  2.17s/it, best loss: 0.22152021266738797]\u001b[A\n",
      "\u001b[A{'bootstrap': False, 'class_weight': None, 'criterion': 'gini', 'max_depth': 49, 'max_features': 3, 'max_leaf_nodes': 26, 'min_samples_leaf': 29, 'min_samples_split': 80, 'n_estimators': 260}\n",
      "\n",
      " 17%|█▋        | 167/1000 [05:03<30:10,  2.17s/it, best loss: 0.22152021266738797]\u001b[A"
     ]
    },
    {
     "name": "stderr",
     "output_type": "stream",
     "text": [
      "Hyperopt:  17%|█▋        | 168/1000 [05:03<25:35,  1.85s/it]"
     ]
    },
    {
     "name": "stdout",
     "output_type": "stream",
     "text": [
      "\n",
      " 17%|█▋        | 168/1000 [05:03<25:35,  1.85s/it, best loss: 0.22152021266738797]\u001b[A\n",
      "\u001b[AParameters with this training score 0.7526047309843203 :\n",
      "\n",
      " 17%|█▋        | 168/1000 [05:05<25:35,  1.85s/it, best loss: 0.22152021266738797]\u001b[A\n",
      "\u001b[A{'bootstrap': False, 'class_weight': 'balanced', 'criterion': 'entropy', 'max_depth': 35, 'max_features': 4, 'max_leaf_nodes': 20, 'min_samples_leaf': 5, 'min_samples_split': 30, 'n_estimators': 560}\n",
      "\n",
      " 17%|█▋        | 168/1000 [05:05<25:35,  1.85s/it, best loss: 0.22152021266738797]\u001b[A"
     ]
    },
    {
     "name": "stderr",
     "output_type": "stream",
     "text": [
      "Hyperopt:  17%|█▋        | 169/1000 [05:05<25:56,  1.87s/it]"
     ]
    },
    {
     "name": "stdout",
     "output_type": "stream",
     "text": [
      "\n",
      " 17%|█▋        | 169/1000 [05:05<25:56,  1.87s/it, best loss: 0.22152021266738797]\u001b[A\n",
      "\u001b[AParameters with this training score 0.7435212148591868 :\n",
      "\n",
      " 17%|█▋        | 169/1000 [05:09<25:56,  1.87s/it, best loss: 0.22152021266738797]\u001b[A\n",
      "\u001b[A{'bootstrap': True, 'class_weight': 'balanced', 'criterion': 'gini', 'max_depth': 27, 'max_features': 3, 'max_leaf_nodes': 16, 'min_samples_leaf': 18, 'min_samples_split': 80, 'n_estimators': 980}\n",
      "\n",
      " 17%|█▋        | 169/1000 [05:09<25:56,  1.87s/it, best loss: 0.22152021266738797]\u001b[A"
     ]
    },
    {
     "name": "stderr",
     "output_type": "stream",
     "text": [
      "Hyperopt:  17%|█▋        | 170/1000 [05:09<32:42,  2.36s/it]"
     ]
    },
    {
     "name": "stdout",
     "output_type": "stream",
     "text": [
      "\n",
      " 17%|█▋        | 170/1000 [05:09<32:42,  2.36s/it, best loss: 0.22152021266738797]\u001b[A\n",
      "\u001b[AParameters with this training score 0.7640241865742278 :\n",
      "\n",
      " 17%|█▋        | 170/1000 [05:11<32:42,  2.36s/it, best loss: 0.22152021266738797]\u001b[A\n",
      "\u001b[A{'bootstrap': False, 'class_weight': 'balanced', 'criterion': 'gini', 'max_depth': 15, 'max_features': 3, 'max_leaf_nodes': 26, 'min_samples_leaf': 2, 'min_samples_split': 40, 'n_estimators': 870}\n",
      "\n",
      " 17%|█▋        | 170/1000 [05:11<32:42,  2.36s/it, best loss: 0.22152021266738797]\u001b[A"
     ]
    },
    {
     "name": "stderr",
     "output_type": "stream",
     "text": [
      "Hyperopt:  17%|█▋        | 171/1000 [05:11<34:02,  2.46s/it]"
     ]
    },
    {
     "name": "stdout",
     "output_type": "stream",
     "text": [
      "\n",
      " 17%|█▋        | 171/1000 [05:11<34:02,  2.46s/it, best loss: 0.22152021266738797]\u001b[A\n",
      "\u001b[AParameters with this training score 0.773508171622393 :\n",
      "\n",
      " 17%|█▋        | 171/1000 [05:13<34:02,  2.46s/it, best loss: 0.22152021266738797]\u001b[A\n",
      "\u001b[A{'bootstrap': False, 'class_weight': 'balanced', 'criterion': 'gini', 'max_depth': 38, 'max_features': 3, 'max_leaf_nodes': 26, 'min_samples_leaf': 13, 'min_samples_split': 70, 'n_estimators': 440}\n",
      "\n",
      " 17%|█▋        | 171/1000 [05:13<34:02,  2.46s/it, best loss: 0.22152021266738797]\u001b[A"
     ]
    },
    {
     "name": "stderr",
     "output_type": "stream",
     "text": [
      "Hyperopt:  17%|█▋        | 172/1000 [05:13<29:35,  2.14s/it]"
     ]
    },
    {
     "name": "stdout",
     "output_type": "stream",
     "text": [
      "\n",
      " 17%|█▋        | 172/1000 [05:13<29:35,  2.14s/it, best loss: 0.22152021266738797]\u001b[A\n",
      "\u001b[AParameters with this training score 0.5 :\n",
      "\n",
      " 17%|█▋        | 172/1000 [05:16<29:35,  2.14s/it, best loss: 0.22152021266738797]\u001b[A\n",
      "\u001b[A{'bootstrap': False, 'class_weight': None, 'criterion': 'gini', 'max_depth': 42, 'max_features': 2, 'max_leaf_nodes': 10, 'min_samples_leaf': 26, 'min_samples_split': 80, 'n_estimators': 960}\n",
      "\n",
      " 17%|█▋        | 172/1000 [05:16<29:35,  2.14s/it, best loss: 0.22152021266738797]\u001b[A"
     ]
    },
    {
     "name": "stderr",
     "output_type": "stream",
     "text": [
      "Hyperopt:  17%|█▋        | 173/1000 [05:16<32:22,  2.35s/it]"
     ]
    },
    {
     "name": "stdout",
     "output_type": "stream",
     "text": [
      "\n",
      " 17%|█▋        | 173/1000 [05:16<32:22,  2.35s/it, best loss: 0.22152021266738797]\u001b[A\n",
      "\u001b[AParameters with this training score 0.7614152949297359 :\n",
      "\n",
      " 17%|█▋        | 173/1000 [05:16<32:22,  2.35s/it, best loss: 0.22152021266738797]\u001b[A\n",
      "\u001b[A{'bootstrap': False, 'class_weight': 'balanced', 'criterion': 'gini', 'max_depth': 48, 'max_features': 3, 'max_leaf_nodes': 18, 'min_samples_leaf': 28, 'min_samples_split': 10, 'n_estimators': 90}\n",
      "\n",
      " 17%|█▋        | 173/1000 [05:16<32:22,  2.35s/it, best loss: 0.22152021266738797]\u001b[A"
     ]
    },
    {
     "name": "stderr",
     "output_type": "stream",
     "text": [
      "Hyperopt:  17%|█▋        | 174/1000 [05:16<25:00,  1.82s/it]"
     ]
    },
    {
     "name": "stdout",
     "output_type": "stream",
     "text": [
      "\n",
      " 17%|█▋        | 174/1000 [05:16<25:00,  1.82s/it, best loss: 0.22152021266738797]\u001b[A\n",
      "\u001b[AParameters with this training score 0.7558295190800862 :\n",
      "\n",
      " 17%|█▋        | 174/1000 [05:17<25:00,  1.82s/it, best loss: 0.22152021266738797]\u001b[A\n",
      "\u001b[A{'bootstrap': True, 'class_weight': 'balanced', 'criterion': 'entropy', 'max_depth': 25, 'max_features': 1, 'max_leaf_nodes': 26, 'min_samples_leaf': 21, 'min_samples_split': 60, 'n_estimators': 320}\n",
      "\n",
      " 17%|█▋        | 174/1000 [05:17<25:00,  1.82s/it, best loss: 0.22152021266738797]\u001b[A"
     ]
    },
    {
     "name": "stderr",
     "output_type": "stream",
     "text": [
      "Hyperopt:  18%|█▊        | 175/1000 [05:18<22:44,  1.65s/it]"
     ]
    },
    {
     "name": "stdout",
     "output_type": "stream",
     "text": [
      "\n",
      " 18%|█▊        | 175/1000 [05:17<22:44,  1.65s/it, best loss: 0.22152021266738797]\u001b[A\n",
      "\u001b[AParameters with this training score 0.7768376550162884 :\n",
      "\n",
      " 18%|█▊        | 175/1000 [05:18<22:44,  1.65s/it, best loss: 0.22152021266738797]\u001b[A\n",
      "\u001b[A{'bootstrap': False, 'class_weight': 'balanced', 'criterion': 'gini', 'max_depth': 33, 'max_features': 3, 'max_leaf_nodes': 28, 'min_samples_leaf': 19, 'min_samples_split': 80, 'n_estimators': 200}\n",
      "\n",
      " 18%|█▊        | 175/1000 [05:18<22:44,  1.65s/it, best loss: 0.22152021266738797]\u001b[A"
     ]
    },
    {
     "name": "stderr",
     "output_type": "stream",
     "text": [
      "Hyperopt:  18%|█▊        | 176/1000 [05:18<19:49,  1.44s/it]"
     ]
    },
    {
     "name": "stdout",
     "output_type": "stream",
     "text": [
      "\n",
      " 18%|█▊        | 176/1000 [05:18<19:49,  1.44s/it, best loss: 0.22152021266738797]\u001b[A\n",
      "\u001b[AParameters with this training score 0.7392739752430774 :\n",
      "\n",
      " 18%|█▊        | 176/1000 [05:19<19:49,  1.44s/it, best loss: 0.22152021266738797]\u001b[A\n",
      "\u001b[A{'bootstrap': False, 'class_weight': 'balanced', 'criterion': 'gini', 'max_depth': 47, 'max_features': 4, 'max_leaf_nodes': 14, 'min_samples_leaf': 6, 'min_samples_split': 80, 'n_estimators': 270}\n",
      "\n",
      " 18%|█▊        | 176/1000 [05:19<19:49,  1.44s/it, best loss: 0.22152021266738797]\u001b[A"
     ]
    },
    {
     "name": "stderr",
     "output_type": "stream",
     "text": [
      "Hyperopt:  18%|█▊        | 177/1000 [05:19<17:52,  1.30s/it]"
     ]
    },
    {
     "name": "stdout",
     "output_type": "stream",
     "text": [
      "\n",
      " 18%|█▊        | 177/1000 [05:19<17:52,  1.30s/it, best loss: 0.22152021266738797]\u001b[A\n",
      "\u001b[AParameters with this training score 0.7356589089104626 :\n",
      "\n",
      " 18%|█▊        | 177/1000 [05:22<17:52,  1.30s/it, best loss: 0.22152021266738797]\u001b[A\n",
      "\u001b[A{'bootstrap': False, 'class_weight': 'balanced', 'criterion': 'gini', 'max_depth': 19, 'max_features': 3, 'max_leaf_nodes': 12, 'min_samples_leaf': 14, 'min_samples_split': 90, 'n_estimators': 770}\n",
      "\n",
      " 18%|█▊        | 177/1000 [05:22<17:52,  1.30s/it, best loss: 0.22152021266738797]\u001b[A"
     ]
    },
    {
     "name": "stderr",
     "output_type": "stream",
     "text": [
      "Hyperopt:  18%|█▊        | 178/1000 [05:22<22:54,  1.67s/it]"
     ]
    },
    {
     "name": "stdout",
     "output_type": "stream",
     "text": [
      "\n",
      " 18%|█▊        | 178/1000 [05:22<22:54,  1.67s/it, best loss: 0.22152021266738797]\u001b[A\n",
      "\u001b[AParameters with this training score 0.6083537619591933 :\n",
      "\n",
      " 18%|█▊        | 178/1000 [05:24<22:54,  1.67s/it, best loss: 0.22152021266738797]\u001b[A\n",
      "\u001b[A{'bootstrap': False, 'class_weight': None, 'criterion': 'gini', 'max_depth': 13, 'max_features': 3, 'max_leaf_nodes': 26, 'min_samples_leaf': 26, 'min_samples_split': 50, 'n_estimators': 600}\n",
      "\n",
      " 18%|█▊        | 178/1000 [05:24<22:54,  1.67s/it, best loss: 0.22152021266738797]\u001b[A"
     ]
    },
    {
     "name": "stderr",
     "output_type": "stream",
     "text": [
      "Hyperopt:  18%|█▊        | 179/1000 [05:24<24:47,  1.81s/it]"
     ]
    },
    {
     "name": "stdout",
     "output_type": "stream",
     "text": [
      "\n",
      " 18%|█▊        | 179/1000 [05:24<24:47,  1.81s/it, best loss: 0.22152021266738797]\u001b[A\n",
      "\u001b[AParameters with this training score 0.7635615307082967 :\n",
      "\n",
      " 18%|█▊        | 179/1000 [05:26<24:47,  1.81s/it, best loss: 0.22152021266738797]\u001b[A\n",
      "\u001b[A{'bootstrap': False, 'class_weight': 'balanced', 'criterion': 'entropy', 'max_depth': 40, 'max_features': 3, 'max_leaf_nodes': 24, 'min_samples_leaf': 12, 'min_samples_split': 20, 'n_estimators': 730}\n",
      "\n",
      " 18%|█▊        | 179/1000 [05:26<24:47,  1.81s/it, best loss: 0.22152021266738797]\u001b[A"
     ]
    },
    {
     "name": "stderr",
     "output_type": "stream",
     "text": [
      "Hyperopt:  18%|█▊        | 180/1000 [05:26<26:52,  1.97s/it]"
     ]
    },
    {
     "name": "stdout",
     "output_type": "stream",
     "text": [
      "\n",
      " 18%|█▊        | 180/1000 [05:26<26:52,  1.97s/it, best loss: 0.22152021266738797]\u001b[A\n",
      "\u001b[AParameters with this training score 0.7519371128987544 :\n",
      "\n",
      " 18%|█▊        | 180/1000 [05:29<26:52,  1.97s/it, best loss: 0.22152021266738797]\u001b[A\n",
      "\u001b[A{'bootstrap': True, 'class_weight': 'balanced', 'criterion': 'gini', 'max_depth': 26, 'max_features': 2, 'max_leaf_nodes': 22, 'min_samples_leaf': 15, 'min_samples_split': 80, 'n_estimators': 800}\n",
      "\n",
      " 18%|█▊        | 180/1000 [05:29<26:52,  1.97s/it, best loss: 0.22152021266738797]\u001b[A"
     ]
    },
    {
     "name": "stderr",
     "output_type": "stream",
     "text": [
      "Hyperopt:  18%|█▊        | 181/1000 [05:29<30:15,  2.22s/it]"
     ]
    },
    {
     "name": "stdout",
     "output_type": "stream",
     "text": [
      "\n",
      " 18%|█▊        | 181/1000 [05:29<30:15,  2.22s/it, best loss: 0.22152021266738797]\u001b[A\n",
      "\u001b[AParameters with this training score 0.7731684919391149 :\n",
      "\n",
      " 18%|█▊        | 181/1000 [05:30<30:15,  2.22s/it, best loss: 0.22152021266738797]\u001b[A\n",
      "\u001b[A{'bootstrap': False, 'class_weight': 'balanced', 'criterion': 'gini', 'max_depth': 34, 'max_features': 3, 'max_leaf_nodes': 26, 'min_samples_leaf': 27, 'min_samples_split': 30, 'n_estimators': 80}\n",
      "\n",
      " 18%|█▊        | 181/1000 [05:30<30:15,  2.22s/it, best loss: 0.22152021266738797]\u001b[A"
     ]
    },
    {
     "name": "stderr",
     "output_type": "stream",
     "text": [
      "Hyperopt:  18%|█▊        | 182/1000 [05:30<23:27,  1.72s/it]"
     ]
    },
    {
     "name": "stdout",
     "output_type": "stream",
     "text": [
      "\n",
      " 18%|█▊        | 182/1000 [05:30<23:27,  1.72s/it, best loss: 0.22152021266738797]\u001b[A\n",
      "\u001b[AParameters with this training score 0.6911802599541398 :\n",
      "\n",
      " 18%|█▊        | 182/1000 [05:30<23:27,  1.72s/it, best loss: 0.22152021266738797]\u001b[A\n",
      "\u001b[A{'bootstrap': False, 'class_weight': 'balanced', 'criterion': 'gini', 'max_depth': 11, 'max_features': 1, 'max_leaf_nodes': 16, 'min_samples_leaf': 9, 'min_samples_split': 80, 'n_estimators': 40}\n",
      "\n",
      " 18%|█▊        | 182/1000 [05:30<23:27,  1.72s/it, best loss: 0.22152021266738797]\u001b[A"
     ]
    },
    {
     "name": "stderr",
     "output_type": "stream",
     "text": [
      "Hyperopt:  18%|█▊        | 183/1000 [05:30<18:11,  1.34s/it]"
     ]
    },
    {
     "name": "stdout",
     "output_type": "stream",
     "text": [
      "\n",
      " 18%|█▊        | 183/1000 [05:30<18:11,  1.34s/it, best loss: 0.22152021266738797]\u001b[A\n",
      "\u001b[AParameters with this training score 0.5030428707211119 :\n",
      "\n",
      " 18%|█▊        | 183/1000 [05:33<18:11,  1.34s/it, best loss: 0.22152021266738797]\u001b[A\n",
      "\u001b[A{'bootstrap': False, 'class_weight': 'balanced', 'criterion': 'gini', 'max_depth': 1, 'max_features': 3, 'max_leaf_nodes': 26, 'min_samples_leaf': 4, 'min_samples_split': 40, 'n_estimators': 810}\n",
      "\n",
      " 18%|█▊        | 183/1000 [05:33<18:11,  1.34s/it, best loss: 0.22152021266738797]\u001b[A"
     ]
    },
    {
     "name": "stderr",
     "output_type": "stream",
     "text": [
      "Hyperopt:  18%|█▊        | 184/1000 [05:33<23:44,  1.75s/it]"
     ]
    },
    {
     "name": "stdout",
     "output_type": "stream",
     "text": [
      "\n",
      " 18%|█▊        | 184/1000 [05:33<23:44,  1.75s/it, best loss: 0.22152021266738797]\u001b[A\n",
      "\u001b[AParameters with this training score 0.5 :\n",
      "\n",
      " 18%|█▊        | 184/1000 [05:34<23:44,  1.75s/it, best loss: 0.22152021266738797]\u001b[A\n",
      "\u001b[A{'bootstrap': False, 'class_weight': None, 'criterion': 'gini', 'max_depth': 2, 'max_features': 4, 'max_leaf_nodes': 20, 'min_samples_leaf': 20, 'min_samples_split': 70, 'n_estimators': 350}\n",
      "\n",
      " 18%|█▊        | 184/1000 [05:34<23:44,  1.75s/it, best loss: 0.22152021266738797]\u001b[A"
     ]
    },
    {
     "name": "stderr",
     "output_type": "stream",
     "text": [
      "Hyperopt:  18%|█▊        | 185/1000 [05:34<21:45,  1.60s/it]"
     ]
    },
    {
     "name": "stdout",
     "output_type": "stream",
     "text": [
      "\n",
      " 18%|█▊        | 185/1000 [05:34<21:45,  1.60s/it, best loss: 0.22152021266738797]\u001b[A\n",
      "\u001b[AParameters with this training score 0.7560188524525477 :\n",
      "\n",
      " 18%|█▊        | 185/1000 [05:36<21:45,  1.60s/it, best loss: 0.22152021266738797]\u001b[A\n",
      "\u001b[A{'bootstrap': False, 'class_weight': 'balanced', 'criterion': 'entropy', 'max_depth': 7, 'max_features': 3, 'max_leaf_nodes': 26, 'min_samples_leaf': 1, 'min_samples_split': 80, 'n_estimators': 570}\n",
      "\n",
      " 18%|█▊        | 185/1000 [05:36<21:45,  1.60s/it, best loss: 0.22152021266738797]\u001b[A"
     ]
    },
    {
     "name": "stderr",
     "output_type": "stream",
     "text": [
      "Hyperopt:  19%|█▊        | 186/1000 [05:36<22:56,  1.69s/it]"
     ]
    },
    {
     "name": "stdout",
     "output_type": "stream",
     "text": [
      "\n",
      " 19%|█▊        | 186/1000 [05:36<22:56,  1.69s/it, best loss: 0.22152021266738797]\u001b[A\n",
      "\u001b[AParameters with this training score 0.6804641682098154 :\n",
      "\n",
      " 19%|█▊        | 186/1000 [05:38<22:56,  1.69s/it, best loss: 0.22152021266738797]\u001b[A\n",
      "\u001b[A{'bootstrap': True, 'class_weight': 'balanced', 'criterion': 'gini', 'max_depth': 17, 'max_features': 3, 'max_leaf_nodes': 10, 'min_samples_leaf': 7, 'min_samples_split': 10, 'n_estimators': 400}\n",
      "\n",
      " 19%|█▊        | 186/1000 [05:38<22:56,  1.69s/it, best loss: 0.22152021266738797]\u001b[A"
     ]
    },
    {
     "name": "stderr",
     "output_type": "stream",
     "text": [
      "Hyperopt:  19%|█▊        | 187/1000 [05:38<22:33,  1.66s/it]"
     ]
    },
    {
     "name": "stdout",
     "output_type": "stream",
     "text": [
      "\n",
      " 19%|█▊        | 187/1000 [05:38<22:33,  1.66s/it, best loss: 0.22152021266738797]\u001b[A\n",
      "\u001b[AParameters with this training score 0.7674126092875896 :\n",
      "\n",
      " 19%|█▊        | 187/1000 [05:40<22:33,  1.66s/it, best loss: 0.22152021266738797]\u001b[A\n",
      "\u001b[A{'bootstrap': False, 'class_weight': 'balanced', 'criterion': 'gini', 'max_depth': 23, 'max_features': 3, 'max_leaf_nodes': 18, 'min_samples_leaf': 26, 'min_samples_split': 60, 'n_estimators': 710}\n",
      "\n",
      " 19%|█▊        | 187/1000 [05:40<22:33,  1.66s/it, best loss: 0.22152021266738797]\u001b[A"
     ]
    },
    {
     "name": "stderr",
     "output_type": "stream",
     "text": [
      "Hyperopt:  19%|█▉        | 188/1000 [05:40<24:11,  1.79s/it]"
     ]
    },
    {
     "name": "stdout",
     "output_type": "stream",
     "text": [
      "\n",
      " 19%|█▉        | 188/1000 [05:40<24:11,  1.79s/it, best loss: 0.22152021266738797]\u001b[A\n",
      "\u001b[AParameters with this training score 0.766657583288701 :\n",
      "\n",
      " 19%|█▉        | 188/1000 [05:40<24:11,  1.79s/it, best loss: 0.22152021266738797]\u001b[A\n",
      "\u001b[A{'bootstrap': False, 'class_weight': 'balanced', 'criterion': 'gini', 'max_depth': 18, 'max_features': 2, 'max_leaf_nodes': 26, 'min_samples_leaf': 3, 'min_samples_split': 80, 'n_estimators': 110}\n",
      "\n",
      " 19%|█▉        | 188/1000 [05:40<24:11,  1.79s/it, best loss: 0.22152021266738797]\u001b[A"
     ]
    },
    {
     "name": "stderr",
     "output_type": "stream",
     "text": [
      "Hyperopt:  19%|█▉        | 189/1000 [05:40<19:18,  1.43s/it]"
     ]
    },
    {
     "name": "stdout",
     "output_type": "stream",
     "text": [
      "\n",
      " 19%|█▉        | 189/1000 [05:40<19:18,  1.43s/it, best loss: 0.22152021266738797]\u001b[A\n",
      "\u001b[AParameters with this training score 0.5057290353446646 :\n",
      "\n",
      " 19%|█▉        | 189/1000 [05:42<19:18,  1.43s/it, best loss: 0.22152021266738797]\u001b[A\n",
      "\u001b[A{'bootstrap': False, 'class_weight': None, 'criterion': 'gini', 'max_depth': 11, 'max_features': 3, 'max_leaf_nodes': 14, 'min_samples_leaf': 26, 'min_samples_split': 50, 'n_estimators': 480}\n",
      "\n",
      " 19%|█▉        | 189/1000 [05:42<19:18,  1.43s/it, best loss: 0.22152021266738797]\u001b[A"
     ]
    },
    {
     "name": "stderr",
     "output_type": "stream",
     "text": [
      "Hyperopt:  19%|█▉        | 190/1000 [05:42<20:06,  1.49s/it]"
     ]
    },
    {
     "name": "stdout",
     "output_type": "stream",
     "text": [
      "\n",
      " 19%|█▉        | 190/1000 [05:42<20:06,  1.49s/it, best loss: 0.22152021266738797]\u001b[A\n",
      "\u001b[AParameters with this training score 0.7617012452933819 :\n",
      "\n",
      " 19%|█▉        | 190/1000 [05:44<20:06,  1.49s/it, best loss: 0.22152021266738797]\u001b[A\n",
      "\u001b[A{'bootstrap': False, 'class_weight': 'balanced', 'criterion': 'gini', 'max_depth': 39, 'max_features': 1, 'max_leaf_nodes': 28, 'min_samples_leaf': 11, 'min_samples_split': 90, 'n_estimators': 690}\n",
      "\n",
      " 19%|█▉        | 190/1000 [05:44<20:06,  1.49s/it, best loss: 0.22152021266738797]\u001b[A"
     ]
    },
    {
     "name": "stderr",
     "output_type": "stream",
     "text": [
      "Hyperopt:  19%|█▉        | 191/1000 [05:44<22:57,  1.70s/it]"
     ]
    },
    {
     "name": "stdout",
     "output_type": "stream",
     "text": [
      "\n",
      " 19%|█▉        | 191/1000 [05:44<22:57,  1.70s/it, best loss: 0.22152021266738797]\u001b[A\n",
      "\u001b[AParameters with this training score 0.7342040543555737 :\n",
      "\n",
      " 19%|█▉        | 191/1000 [05:46<22:57,  1.70s/it, best loss: 0.22152021266738797]\u001b[A\n",
      "\u001b[A{'bootstrap': False, 'class_weight': 'balanced', 'criterion': 'entropy', 'max_depth': 20, 'max_features': 3, 'max_leaf_nodes': 12, 'min_samples_leaf': 16, 'min_samples_split': 20, 'n_estimators': 610}\n",
      "\n",
      " 19%|█▉        | 191/1000 [05:46<22:57,  1.70s/it, best loss: 0.22152021266738797]\u001b[A"
     ]
    },
    {
     "name": "stderr",
     "output_type": "stream",
     "text": [
      "Hyperopt:  19%|█▉        | 192/1000 [05:46<24:15,  1.80s/it]"
     ]
    },
    {
     "name": "stdout",
     "output_type": "stream",
     "text": [
      "\n",
      " 19%|█▉        | 192/1000 [05:46<24:15,  1.80s/it, best loss: 0.22152021266738797]\u001b[A\n",
      "\u001b[AParameters with this training score 0.7377678747177331 :\n",
      "\n",
      " 19%|█▉        | 192/1000 [05:49<24:15,  1.80s/it, best loss: 0.22152021266738797]\u001b[A\n",
      "\u001b[A{'bootstrap': True, 'class_weight': 'balanced', 'criterion': 'gini', 'max_depth': 4, 'max_features': 4, 'max_leaf_nodes': 26, 'min_samples_leaf': 17, 'min_samples_split': 80, 'n_estimators': 750}\n",
      "\n",
      " 19%|█▉        | 192/1000 [05:49<24:15,  1.80s/it, best loss: 0.22152021266738797]\u001b[A"
     ]
    },
    {
     "name": "stderr",
     "output_type": "stream",
     "text": [
      "Hyperopt:  19%|█▉        | 193/1000 [05:49<27:31,  2.05s/it]"
     ]
    },
    {
     "name": "stdout",
     "output_type": "stream",
     "text": [
      "\n",
      " 19%|█▉        | 193/1000 [05:49<27:31,  2.05s/it, best loss: 0.22152021266738797]\u001b[A\n",
      "\u001b[AParameters with this training score 0.7750064797224325 :\n",
      "\n",
      " 19%|█▉        | 193/1000 [05:52<27:31,  2.05s/it, best loss: 0.22152021266738797]\u001b[A\n",
      "\u001b[A{'bootstrap': False, 'class_weight': 'balanced', 'criterion': 'gini', 'max_depth': 44, 'max_features': 3, 'max_leaf_nodes': 24, 'min_samples_leaf': 23, 'min_samples_split': 80, 'n_estimators': 920}\n",
      "\n",
      " 19%|█▉        | 193/1000 [05:52<27:31,  2.05s/it, best loss: 0.22152021266738797]\u001b[A"
     ]
    },
    {
     "name": "stderr",
     "output_type": "stream",
     "text": [
      "Hyperopt:  19%|█▉        | 194/1000 [05:52<31:32,  2.35s/it]"
     ]
    },
    {
     "name": "stdout",
     "output_type": "stream",
     "text": [
      "\n",
      " 19%|█▉        | 194/1000 [05:52<31:32,  2.35s/it, best loss: 0.22152021266738797]\u001b[A\n",
      "\u001b[AParameters with this training score 0.7625462684890221 :\n",
      "\n",
      " 19%|█▉        | 194/1000 [05:54<31:32,  2.35s/it, best loss: 0.22152021266738797]\u001b[A\n",
      "\u001b[A{'bootstrap': False, 'class_weight': 'balanced', 'criterion': 'gini', 'max_depth': 29, 'max_features': 3, 'max_leaf_nodes': 22, 'min_samples_leaf': 8, 'min_samples_split': 80, 'n_estimators': 630}\n",
      "\n",
      " 19%|█▉        | 194/1000 [05:54<31:32,  2.35s/it, best loss: 0.22152021266738797]\u001b[A"
     ]
    },
    {
     "name": "stderr",
     "output_type": "stream",
     "text": [
      "Hyperopt:  20%|█▉        | 195/1000 [05:54<30:51,  2.30s/it]"
     ]
    },
    {
     "name": "stdout",
     "output_type": "stream",
     "text": [
      "\n",
      " 20%|█▉        | 195/1000 [05:54<30:51,  2.30s/it, best loss: 0.22152021266738797]\u001b[A\n",
      "\u001b[AParameters with this training score 0.7559863152167982 :\n",
      "\n",
      " 20%|█▉        | 195/1000 [05:57<30:51,  2.30s/it, best loss: 0.22152021266738797]\u001b[A\n",
      "\u001b[A{'bootstrap': False, 'class_weight': 'balanced', 'criterion': 'gini', 'max_depth': 5, 'max_features': 3, 'max_leaf_nodes': 26, 'min_samples_leaf': 10, 'min_samples_split': 30, 'n_estimators': 900}\n",
      "\n",
      " 20%|█▉        | 195/1000 [05:57<30:51,  2.30s/it, best loss: 0.22152021266738797]\u001b[A"
     ]
    },
    {
     "name": "stderr",
     "output_type": "stream",
     "text": [
      "Hyperopt:  20%|█▉        | 196/1000 [05:57<32:06,  2.40s/it]"
     ]
    },
    {
     "name": "stdout",
     "output_type": "stream",
     "text": [
      "\n",
      " 20%|█▉        | 196/1000 [05:57<32:06,  2.40s/it, best loss: 0.22152021266738797]\u001b[A\n",
      "\u001b[AParameters with this training score 0.510089824955564 :\n",
      "\n",
      " 20%|█▉        | 196/1000 [05:57<32:06,  2.40s/it, best loss: 0.22152021266738797]\u001b[A\n",
      "\u001b[A{'bootstrap': False, 'class_weight': None, 'criterion': 'gini', 'max_depth': 8, 'max_features': 2, 'max_leaf_nodes': 20, 'min_samples_leaf': 22, 'min_samples_split': 70, 'n_estimators': 150}\n",
      "\n",
      " 20%|█▉        | 196/1000 [05:57<32:06,  2.40s/it, best loss: 0.22152021266738797]\u001b[A"
     ]
    },
    {
     "name": "stderr",
     "output_type": "stream",
     "text": [
      "Hyperopt:  20%|█▉        | 197/1000 [05:58<25:36,  1.91s/it]"
     ]
    },
    {
     "name": "stdout",
     "output_type": "stream",
     "text": [
      "\n",
      " 20%|█▉        | 197/1000 [05:57<25:35,  1.91s/it, best loss: 0.22152021266738797]\u001b[A\n",
      "\u001b[AParameters with this training score 0.7559175517558241 :\n",
      "\n",
      " 20%|█▉        | 197/1000 [05:58<25:35,  1.91s/it, best loss: 0.22152021266738797]\u001b[A\n",
      "\u001b[A{'bootstrap': False, 'class_weight': 'balanced', 'criterion': 'entropy', 'max_depth': 41, 'max_features': 3, 'max_leaf_nodes': 16, 'min_samples_leaf': 26, 'min_samples_split': 40, 'n_estimators': 220}\n",
      "\n",
      " 20%|█▉        | 197/1000 [05:58<25:35,  1.91s/it, best loss: 0.22152021266738797]\u001b[A"
     ]
    },
    {
     "name": "stderr",
     "output_type": "stream",
     "text": [
      "Hyperopt:  20%|█▉        | 198/1000 [05:58<21:50,  1.63s/it]"
     ]
    },
    {
     "name": "stdout",
     "output_type": "stream",
     "text": [
      "\n",
      " 20%|█▉        | 198/1000 [05:58<21:50,  1.63s/it, best loss: 0.22152021266738797]\u001b[A\n",
      "\u001b[AParameters with this training score 0.7310545768144537 :\n",
      "\n",
      " 20%|█▉        | 198/1000 [06:00<21:50,  1.63s/it, best loss: 0.22152021266738797]\u001b[A\n",
      "\u001b[A{'bootstrap': True, 'class_weight': 'balanced', 'criterion': 'gini', 'max_depth': 6, 'max_features': 1, 'max_leaf_nodes': 26, 'min_samples_leaf': 25, 'min_samples_split': 80, 'n_estimators': 430}\n",
      "\n",
      " 20%|█▉        | 198/1000 [06:00<21:50,  1.63s/it, best loss: 0.22152021266738797]\u001b[A"
     ]
    },
    {
     "name": "stderr",
     "output_type": "stream",
     "text": [
      "Hyperopt:  20%|█▉        | 199/1000 [06:00<21:46,  1.63s/it]"
     ]
    },
    {
     "name": "stdout",
     "output_type": "stream",
     "text": [
      "\n",
      " 20%|█▉        | 199/1000 [06:00<21:46,  1.63s/it, best loss: 0.22152021266738797]\u001b[A\n",
      "\u001b[AParameters with this training score 0.7236201632601587 :\n",
      "\n",
      " 20%|█▉        | 199/1000 [06:01<21:46,  1.63s/it, best loss: 0.22152021266738797]\u001b[A\n",
      "\u001b[A{'bootstrap': False, 'class_weight': 'balanced', 'criterion': 'gini', 'max_depth': 45, 'max_features': 3, 'max_leaf_nodes': 10, 'min_samples_leaf': 29, 'min_samples_split': 10, 'n_estimators': 290}\n",
      "\n",
      " 20%|█▉        | 199/1000 [06:01<21:46,  1.63s/it, best loss: 0.22152021266738797]\u001b[A"
     ]
    },
    {
     "name": "stderr",
     "output_type": "stream",
     "text": [
      "Hyperopt:  20%|██        | 200/1000 [06:01<20:02,  1.50s/it]"
     ]
    },
    {
     "name": "stdout",
     "output_type": "stream",
     "text": [
      "\n",
      " 20%|██        | 200/1000 [06:01<20:02,  1.50s/it, best loss: 0.22152021266738797]\u001b[A\n",
      "\u001b[AParameters with this training score 0.7677663087425334 :\n",
      "\n",
      " 20%|██        | 200/1000 [06:03<20:02,  1.50s/it, best loss: 0.22152021266738797]\u001b[A\n",
      "\u001b[A{'bootstrap': False, 'class_weight': 'balanced', 'criterion': 'gini', 'max_depth': 30, 'max_features': 4, 'max_leaf_nodes': 26, 'min_samples_leaf': 2, 'min_samples_split': 60, 'n_estimators': 410}\n",
      "\n",
      " 20%|██        | 200/1000 [06:03<20:02,  1.50s/it, best loss: 0.22152021266738797]\u001b[A"
     ]
    },
    {
     "name": "stderr",
     "output_type": "stream",
     "text": [
      "Hyperopt:  20%|██        | 201/1000 [06:03<20:05,  1.51s/it]"
     ]
    },
    {
     "name": "stdout",
     "output_type": "stream",
     "text": [
      "\n",
      " 20%|██        | 201/1000 [06:03<20:05,  1.51s/it, best loss: 0.22152021266738797]\u001b[A\n",
      "\u001b[AParameters with this training score 0.7502578890220902 :\n",
      "\n",
      " 20%|██        | 201/1000 [06:03<20:05,  1.51s/it, best loss: 0.22152021266738797]\u001b[A\n",
      "\u001b[A{'bootstrap': False, 'class_weight': 'balanced', 'criterion': 'gini', 'max_depth': 21, 'max_features': 3, 'max_leaf_nodes': 18, 'min_samples_leaf': 5, 'min_samples_split': 80, 'n_estimators': 120}\n",
      "\n",
      " 20%|██        | 201/1000 [06:03<20:05,  1.51s/it, best loss: 0.22152021266738797]\u001b[A"
     ]
    },
    {
     "name": "stderr",
     "output_type": "stream",
     "text": [
      "Hyperopt:  20%|██        | 202/1000 [06:03<16:27,  1.24s/it]"
     ]
    },
    {
     "name": "stdout",
     "output_type": "stream",
     "text": [
      "\n",
      " 20%|██        | 202/1000 [06:03<16:27,  1.24s/it, best loss: 0.22152021266738797]\u001b[A\n",
      "\u001b[AParameters with this training score 0.5933752115246056 :\n",
      "\n",
      " 20%|██        | 202/1000 [06:05<16:27,  1.24s/it, best loss: 0.22152021266738797]\u001b[A\n",
      "\u001b[A{'bootstrap': False, 'class_weight': None, 'criterion': 'gini', 'max_depth': 46, 'max_features': 3, 'max_leaf_nodes': 26, 'min_samples_leaf': 18, 'min_samples_split': 50, 'n_estimators': 490}\n",
      "\n",
      " 20%|██        | 202/1000 [06:05<16:27,  1.24s/it, best loss: 0.22152021266738797]\u001b[A"
     ]
    },
    {
     "name": "stderr",
     "output_type": "stream",
     "text": [
      "Hyperopt:  20%|██        | 203/1000 [06:05<18:29,  1.39s/it]"
     ]
    },
    {
     "name": "stdout",
     "output_type": "stream",
     "text": [
      "\n",
      " 20%|██        | 203/1000 [06:05<18:29,  1.39s/it, best loss: 0.22152021266738797]\u001b[A\n",
      "\u001b[AParameters with this training score 0.7751591412384091 :\n",
      "\n",
      " 20%|██        | 203/1000 [06:07<18:29,  1.39s/it, best loss: 0.22152021266738797]\u001b[A\n",
      "\u001b[A{'bootstrap': False, 'class_weight': 'balanced', 'criterion': 'entropy', 'max_depth': 37, 'max_features': 3, 'max_leaf_nodes': 28, 'min_samples_leaf': 28, 'min_samples_split': 80, 'n_estimators': 650}\n",
      "\n",
      " 20%|██        | 203/1000 [06:07<18:29,  1.39s/it, best loss: 0.22152021266738797]\u001b[A"
     ]
    },
    {
     "name": "stderr",
     "output_type": "stream",
     "text": [
      "Hyperopt:  20%|██        | 204/1000 [06:07<21:22,  1.61s/it]"
     ]
    },
    {
     "name": "stdout",
     "output_type": "stream",
     "text": [
      "\n",
      " 20%|██        | 204/1000 [06:07<21:22,  1.61s/it, best loss: 0.22152021266738797]\u001b[A\n",
      "\u001b[AParameters with this training score 0.7467445419857395 :\n",
      "\n",
      " 20%|██        | 204/1000 [06:09<21:22,  1.61s/it, best loss: 0.22152021266738797]\u001b[A\n",
      "\u001b[A{'bootstrap': True, 'class_weight': 'balanced', 'criterion': 'gini', 'max_depth': 11, 'max_features': 2, 'max_leaf_nodes': 26, 'min_samples_leaf': 13, 'min_samples_split': 90, 'n_estimators': 380}\n",
      "\n",
      " 20%|██        | 204/1000 [06:09<21:22,  1.61s/it, best loss: 0.22152021266738797]\u001b[A"
     ]
    },
    {
     "name": "stderr",
     "output_type": "stream",
     "text": [
      "Hyperopt:  20%|██        | 205/1000 [06:09<21:04,  1.59s/it]"
     ]
    },
    {
     "name": "stdout",
     "output_type": "stream",
     "text": [
      "\n",
      " 20%|██        | 205/1000 [06:09<21:04,  1.59s/it, best loss: 0.22152021266738797]\u001b[A\n",
      "\u001b[AParameters with this training score 0.7413335606366449 :\n",
      "\n",
      " 20%|██        | 205/1000 [06:11<21:04,  1.59s/it, best loss: 0.22152021266738797]\u001b[A\n",
      "\u001b[A{'bootstrap': False, 'class_weight': 'balanced', 'criterion': 'gini', 'max_depth': 43, 'max_features': 3, 'max_leaf_nodes': 12, 'min_samples_leaf': 26, 'min_samples_split': 20, 'n_estimators': 590}\n",
      "\n",
      " 20%|██        | 205/1000 [06:11<21:04,  1.59s/it, best loss: 0.22152021266738797]\u001b[A"
     ]
    },
    {
     "name": "stderr",
     "output_type": "stream",
     "text": [
      "Hyperopt:  21%|██        | 206/1000 [06:11<22:29,  1.70s/it]"
     ]
    },
    {
     "name": "stdout",
     "output_type": "stream",
     "text": [
      "\n",
      " 21%|██        | 206/1000 [06:11<22:29,  1.70s/it, best loss: 0.22152021266738797]\u001b[A\n",
      "\u001b[AParameters with this training score 0.5966677790403303 :\n",
      "\n",
      " 21%|██        | 206/1000 [06:13<22:29,  1.70s/it, best loss: 0.22152021266738797]\u001b[A\n",
      "\u001b[A{'bootstrap': False, 'class_weight': 'balanced', 'criterion': 'gini', 'max_depth': 3, 'max_features': 1, 'max_leaf_nodes': 14, 'min_samples_leaf': 21, 'min_samples_split': 80, 'n_estimators': 830}\n",
      "\n",
      " 21%|██        | 206/1000 [06:13<22:29,  1.70s/it, best loss: 0.22152021266738797]\u001b[A"
     ]
    },
    {
     "name": "stderr",
     "output_type": "stream",
     "text": [
      "Hyperopt:  21%|██        | 207/1000 [06:13<25:49,  1.95s/it]"
     ]
    },
    {
     "name": "stdout",
     "output_type": "stream",
     "text": [
      "\n",
      " 21%|██        | 207/1000 [06:13<25:49,  1.95s/it, best loss: 0.22152021266738797]\u001b[A\n",
      "\u001b[AParameters with this training score 0.7750920633227809 :\n",
      "\n",
      " 21%|██        | 207/1000 [06:15<25:49,  1.95s/it, best loss: 0.22152021266738797]\u001b[A\n",
      "\u001b[A{'bootstrap': False, 'class_weight': 'balanced', 'criterion': 'gini', 'max_depth': 11, 'max_features': 3, 'max_leaf_nodes': 24, 'min_samples_leaf': 19, 'min_samples_split': 80, 'n_estimators': 340}\n",
      "\n",
      " 21%|██        | 207/1000 [06:15<25:49,  1.95s/it, best loss: 0.22152021266738797]\u001b[A"
     ]
    },
    {
     "name": "stderr",
     "output_type": "stream",
     "text": [
      "Hyperopt:  21%|██        | 208/1000 [06:15<23:20,  1.77s/it]"
     ]
    },
    {
     "name": "stdout",
     "output_type": "stream",
     "text": [
      "\n",
      " 21%|██        | 208/1000 [06:15<23:20,  1.77s/it, best loss: 0.22152021266738797]\u001b[A\n",
      "\u001b[AParameters with this training score 0.5793453782098223 :\n",
      "\n",
      " 21%|██        | 208/1000 [06:15<23:20,  1.77s/it, best loss: 0.22152021266738797]\u001b[A\n",
      "\u001b[A{'bootstrap': False, 'class_weight': None, 'criterion': 'gini', 'max_depth': 24, 'max_features': 4, 'max_leaf_nodes': 22, 'min_samples_leaf': 6, 'min_samples_split': 30, 'n_estimators': 20}\n",
      "\n",
      " 21%|██        | 208/1000 [06:15<23:20,  1.77s/it, best loss: 0.22152021266738797]\u001b[A"
     ]
    },
    {
     "name": "stderr",
     "output_type": "stream",
     "text": [
      "Hyperopt:  21%|██        | 209/1000 [06:15<17:55,  1.36s/it]"
     ]
    },
    {
     "name": "stdout",
     "output_type": "stream",
     "text": [
      "\n",
      " 21%|██        | 209/1000 [06:15<17:55,  1.36s/it, best loss: 0.22152021266738797]\u001b[A\n",
      "\u001b[AParameters with this training score 0.7683497010154982 :\n",
      "\n",
      " 21%|██        | 209/1000 [06:17<17:55,  1.36s/it, best loss: 0.22152021266738797]\u001b[A\n",
      "\u001b[A{'bootstrap': False, 'class_weight': 'balanced', 'criterion': 'entropy', 'max_depth': 28, 'max_features': 3, 'max_leaf_nodes': 26, 'min_samples_leaf': 12, 'min_samples_split': 40, 'n_estimators': 470}\n",
      "\n",
      " 21%|██        | 209/1000 [06:17<17:55,  1.36s/it, best loss: 0.22152021266738797]\u001b[A"
     ]
    },
    {
     "name": "stderr",
     "output_type": "stream",
     "text": [
      "Hyperopt:  21%|██        | 210/1000 [06:17<19:23,  1.47s/it]"
     ]
    },
    {
     "name": "stdout",
     "output_type": "stream",
     "text": [
      "\n",
      " 21%|██        | 210/1000 [06:17<19:23,  1.47s/it, best loss: 0.22152021266738797]\u001b[A\n",
      "\u001b[AParameters with this training score 0.7569123572852245 :\n",
      "\n",
      " 21%|██        | 210/1000 [06:18<19:23,  1.47s/it, best loss: 0.22152021266738797]\u001b[A\n",
      "\u001b[A{'bootstrap': True, 'class_weight': 'balanced', 'criterion': 'gini', 'max_depth': 39, 'max_features': 3, 'max_leaf_nodes': 20, 'min_samples_leaf': 26, 'min_samples_split': 80, 'n_estimators': 350}\n",
      "\n",
      " 21%|██        | 210/1000 [06:18<19:23,  1.47s/it, best loss: 0.22152021266738797]\u001b[A"
     ]
    },
    {
     "name": "stderr",
     "output_type": "stream",
     "text": [
      "Hyperopt:  21%|██        | 211/1000 [06:18<19:23,  1.47s/it]"
     ]
    },
    {
     "name": "stdout",
     "output_type": "stream",
     "text": [
      "\n",
      " 21%|██        | 211/1000 [06:18<19:23,  1.47s/it, best loss: 0.22152021266738797]\u001b[A\n",
      "\u001b[AParameters with this training score 0.7554024814417521 :\n",
      "\n",
      " 21%|██        | 211/1000 [06:19<19:23,  1.47s/it, best loss: 0.22152021266738797]\u001b[A\n",
      "\u001b[A{'bootstrap': False, 'class_weight': 'balanced', 'criterion': 'gini', 'max_depth': 16, 'max_features': 3, 'max_leaf_nodes': 16, 'min_samples_leaf': 14, 'min_samples_split': 70, 'n_estimators': 190}\n",
      "\n",
      " 21%|██        | 211/1000 [06:19<19:23,  1.47s/it, best loss: 0.22152021266738797]\u001b[A"
     ]
    },
    {
     "name": "stderr",
     "output_type": "stream",
     "text": [
      "Hyperopt:  21%|██        | 212/1000 [06:19<16:51,  1.28s/it]"
     ]
    },
    {
     "name": "stdout",
     "output_type": "stream",
     "text": [
      "\n",
      " 21%|██        | 212/1000 [06:19<16:51,  1.28s/it, best loss: 0.22152021266738797]\u001b[A\n",
      "\u001b[AParameters with this training score 0.7678783724968934 :\n",
      "\n",
      " 21%|██        | 212/1000 [06:21<16:51,  1.28s/it, best loss: 0.22152021266738797]\u001b[A\n",
      "\u001b[A{'bootstrap': False, 'class_weight': 'balanced', 'criterion': 'gini', 'max_depth': 12, 'max_features': 2, 'max_leaf_nodes': 26, 'min_samples_leaf': 20, 'min_samples_split': 10, 'n_estimators': 580}\n",
      "\n",
      " 21%|██        | 212/1000 [06:21<16:51,  1.28s/it, best loss: 0.22152021266738797]\u001b[A"
     ]
    },
    {
     "name": "stderr",
     "output_type": "stream",
     "text": [
      "Hyperopt:  21%|██▏       | 213/1000 [06:21<18:49,  1.44s/it]"
     ]
    },
    {
     "name": "stdout",
     "output_type": "stream",
     "text": [
      "\n",
      " 21%|██▏       | 213/1000 [06:21<18:50,  1.44s/it, best loss: 0.22152021266738797]\u001b[A\n",
      "\u001b[AParameters with this training score 0.7328695046124668 :\n",
      "\n",
      " 21%|██▏       | 213/1000 [06:24<18:50,  1.44s/it, best loss: 0.22152021266738797]\u001b[A\n",
      "\u001b[A{'bootstrap': False, 'class_weight': 'balanced', 'criterion': 'gini', 'max_depth': 35, 'max_features': 3, 'max_leaf_nodes': 10, 'min_samples_leaf': 27, 'min_samples_split': 60, 'n_estimators': 970}\n",
      "\n",
      " 21%|██▏       | 213/1000 [06:24<18:50,  1.44s/it, best loss: 0.22152021266738797]\u001b[A"
     ]
    },
    {
     "name": "stderr",
     "output_type": "stream",
     "text": [
      "Hyperopt:  21%|██▏       | 214/1000 [06:24<24:57,  1.91s/it]"
     ]
    },
    {
     "name": "stdout",
     "output_type": "stream",
     "text": [
      "\n",
      " 21%|██▏       | 214/1000 [06:24<24:57,  1.91s/it, best loss: 0.22152021266738797]\u001b[A\n",
      "\u001b[AParameters with this training score 0.5064983382046364 :\n",
      "\n",
      " 21%|██▏       | 214/1000 [06:26<24:57,  1.91s/it, best loss: 0.22152021266738797]\u001b[A\n",
      "\u001b[A{'bootstrap': False, 'class_weight': None, 'criterion': 'gini', 'max_depth': 14, 'max_features': 1, 'max_leaf_nodes': 26, 'min_samples_leaf': 15, 'min_samples_split': 80, 'n_estimators': 660}\n",
      "\n",
      " 21%|██▏       | 214/1000 [06:26<24:57,  1.91s/it, best loss: 0.22152021266738797]\u001b[A"
     ]
    },
    {
     "name": "stderr",
     "output_type": "stream",
     "text": [
      "Hyperopt:  22%|██▏       | 215/1000 [06:26<25:46,  1.97s/it]"
     ]
    },
    {
     "name": "stdout",
     "output_type": "stream",
     "text": [
      "\n",
      " 22%|██▏       | 215/1000 [06:26<25:46,  1.97s/it, best loss: 0.22152021266738797]\u001b[A\n",
      "\u001b[AParameters with this training score 0.7533425644094776 :\n",
      "\n",
      " 22%|██▏       | 215/1000 [06:29<25:46,  1.97s/it, best loss: 0.22152021266738797]\u001b[A\n",
      "\u001b[A{'bootstrap': False, 'class_weight': 'balanced', 'criterion': 'entropy', 'max_depth': 42, 'max_features': 3, 'max_leaf_nodes': 18, 'min_samples_leaf': 7, 'min_samples_split': 50, 'n_estimators': 930}\n",
      "\n",
      " 22%|██▏       | 215/1000 [06:29<25:46,  1.97s/it, best loss: 0.22152021266738797]\u001b[A"
     ]
    },
    {
     "name": "stderr",
     "output_type": "stream",
     "text": [
      "Hyperopt:  22%|██▏       | 216/1000 [06:29<29:37,  2.27s/it]"
     ]
    },
    {
     "name": "stdout",
     "output_type": "stream",
     "text": [
      "\n",
      " 22%|██▏       | 216/1000 [06:29<29:37,  2.27s/it, best loss: 0.22152021266738797]\u001b[A\n",
      "\u001b[AParameters with this training score 0.7681002562368543 :\n",
      "\n",
      " 22%|██▏       | 216/1000 [06:32<29:37,  2.27s/it, best loss: 0.22152021266738797]\u001b[A\n",
      "\u001b[A{'bootstrap': True, 'class_weight': 'balanced', 'criterion': 'gini', 'max_depth': 10, 'max_features': 4, 'max_leaf_nodes': 26, 'min_samples_leaf': 1, 'min_samples_split': 90, 'n_estimators': 910}\n",
      "\n",
      " 22%|██▏       | 216/1000 [06:32<29:37,  2.27s/it, best loss: 0.22152021266738797]\u001b[A"
     ]
    },
    {
     "name": "stderr",
     "output_type": "stream",
     "text": [
      "Hyperopt:  22%|██▏       | 217/1000 [06:32<33:09,  2.54s/it]"
     ]
    },
    {
     "name": "stdout",
     "output_type": "stream",
     "text": [
      "\n",
      " 22%|██▏       | 217/1000 [06:32<33:09,  2.54s/it, best loss: 0.22152021266738797]\u001b[A\n",
      "\u001b[AParameters with this training score 0.7778524594888431 :\n",
      "\n",
      " 22%|██▏       | 217/1000 [06:35<33:09,  2.54s/it, best loss: 0.22152021266738797]\u001b[A\n",
      "\u001b[A{'bootstrap': False, 'class_weight': 'balanced', 'criterion': 'gini', 'max_depth': 9, 'max_features': 3, 'max_leaf_nodes': 28, 'min_samples_leaf': 26, 'min_samples_split': 80, 'n_estimators': 880}\n",
      "\n",
      " 22%|██▏       | 217/1000 [06:35<33:09,  2.54s/it, best loss: 0.22152021266738797]\u001b[A"
     ]
    },
    {
     "name": "stderr",
     "output_type": "stream",
     "text": [
      "Hyperopt:  22%|██▏       | 218/1000 [06:35<33:48,  2.59s/it]"
     ]
    },
    {
     "name": "stdout",
     "output_type": "stream",
     "text": [
      "\n",
      " 22%|██▏       | 218/1000 [06:35<33:48,  2.59s/it, best loss: 0.22152021266738797]\u001b[A\n",
      "\u001b[AParameters with this training score 0.7543268987405887 :\n",
      "\n",
      " 22%|██▏       | 218/1000 [06:36<33:48,  2.59s/it, best loss: 0.22152021266738797]\u001b[A\n",
      "\u001b[A{'bootstrap': False, 'class_weight': 'balanced', 'criterion': 'gini', 'max_depth': 48, 'max_features': 3, 'max_leaf_nodes': 14, 'min_samples_leaf': 26, 'min_samples_split': 20, 'n_estimators': 390}\n",
      "\n",
      " 22%|██▏       | 218/1000 [06:36<33:48,  2.59s/it, best loss: 0.22152021266738797]\u001b[A"
     ]
    },
    {
     "name": "stderr",
     "output_type": "stream",
     "text": [
      "Hyperopt:  22%|██▏       | 219/1000 [06:36<29:04,  2.23s/it]"
     ]
    },
    {
     "name": "stdout",
     "output_type": "stream",
     "text": [
      "\n",
      " 22%|██▏       | 219/1000 [06:36<29:04,  2.23s/it, best loss: 0.22152021266738797]\u001b[A\n",
      "\u001b[AParameters with this training score 0.7663384124862013 :\n",
      "\n",
      " 22%|██▏       | 219/1000 [06:37<29:04,  2.23s/it, best loss: 0.22152021266738797]\u001b[A\n",
      "\u001b[A{'bootstrap': False, 'class_weight': 'balanced', 'criterion': 'gini', 'max_depth': 49, 'max_features': 3, 'max_leaf_nodes': 26, 'min_samples_leaf': 9, 'min_samples_split': 80, 'n_estimators': 60}\n",
      "\n",
      " 22%|██▏       | 219/1000 [06:37<29:04,  2.23s/it, best loss: 0.22152021266738797]\u001b[A"
     ]
    },
    {
     "name": "stderr",
     "output_type": "stream",
     "text": [
      "Hyperopt:  22%|██▏       | 220/1000 [06:37<22:05,  1.70s/it]"
     ]
    },
    {
     "name": "stdout",
     "output_type": "stream",
     "text": [
      "\n",
      " 22%|██▏       | 220/1000 [06:37<22:05,  1.70s/it, best loss: 0.22152021266738797]\u001b[A\n",
      "\u001b[AParameters with this training score 0.49984500689818595 :\n",
      "\n",
      " 22%|██▏       | 220/1000 [06:39<22:05,  1.70s/it, best loss: 0.22152021266738797]\u001b[A\n",
      "\u001b[A{'bootstrap': False, 'class_weight': None, 'criterion': 'gini', 'max_depth': 33, 'max_features': 2, 'max_leaf_nodes': 12, 'min_samples_leaf': 3, 'min_samples_split': 80, 'n_estimators': 640}\n",
      "\n",
      " 22%|██▏       | 220/1000 [06:39<22:05,  1.70s/it, best loss: 0.22152021266738797]\u001b[A"
     ]
    },
    {
     "name": "stderr",
     "output_type": "stream",
     "text": [
      "Hyperopt:  22%|██▏       | 221/1000 [06:39<23:08,  1.78s/it]"
     ]
    },
    {
     "name": "stdout",
     "output_type": "stream",
     "text": [
      "\n",
      " 22%|██▏       | 221/1000 [06:39<23:08,  1.78s/it, best loss: 0.22152021266738797]\u001b[A\n",
      "\u001b[AParameters with this training score 0.7530990746114142 :\n",
      "\n",
      " 22%|██▏       | 221/1000 [06:40<23:08,  1.78s/it, best loss: 0.22152021266738797]\u001b[A\n",
      "\u001b[A{'bootstrap': False, 'class_weight': 'balanced', 'criterion': 'entropy', 'max_depth': 40, 'max_features': 3, 'max_leaf_nodes': 22, 'min_samples_leaf': 4, 'min_samples_split': 30, 'n_estimators': 360}\n",
      "\n",
      " 22%|██▏       | 221/1000 [06:40<23:08,  1.78s/it, best loss: 0.22152021266738797]\u001b[A"
     ]
    },
    {
     "name": "stderr",
     "output_type": "stream",
     "text": [
      "Hyperopt:  22%|██▏       | 222/1000 [06:40<21:26,  1.65s/it]"
     ]
    },
    {
     "name": "stdout",
     "output_type": "stream",
     "text": [
      "\n",
      " 22%|██▏       | 222/1000 [06:40<21:26,  1.65s/it, best loss: 0.22152021266738797]\u001b[A\n",
      "\u001b[AParameters with this training score 0.7615840956626337 :\n",
      "\n",
      " 22%|██▏       | 222/1000 [06:41<21:26,  1.65s/it, best loss: 0.22152021266738797]\u001b[A\n",
      "\u001b[A{'bootstrap': True, 'class_weight': 'balanced', 'criterion': 'gini', 'max_depth': 27, 'max_features': 1, 'max_leaf_nodes': 26, 'min_samples_leaf': 16, 'min_samples_split': 40, 'n_estimators': 240}\n",
      "\n",
      " 22%|██▏       | 222/1000 [06:41<21:26,  1.65s/it, best loss: 0.22152021266738797]\u001b[A"
     ]
    },
    {
     "name": "stderr",
     "output_type": "stream",
     "text": [
      "Hyperopt:  22%|██▏       | 223/1000 [06:41<19:11,  1.48s/it]"
     ]
    },
    {
     "name": "stdout",
     "output_type": "stream",
     "text": [
      "\n",
      " 22%|██▏       | 223/1000 [06:41<19:11,  1.48s/it, best loss: 0.22152021266738797]\u001b[A\n",
      "\u001b[AParameters with this training score 0.7755481599075597 :\n",
      "\n",
      " 22%|██▏       | 223/1000 [06:43<19:11,  1.48s/it, best loss: 0.22152021266738797]\u001b[A\n",
      "\u001b[A{'bootstrap': False, 'class_weight': 'balanced', 'criterion': 'gini', 'max_depth': 15, 'max_features': 3, 'max_leaf_nodes': 24, 'min_samples_leaf': 17, 'min_samples_split': 80, 'n_estimators': 420}\n",
      "\n",
      " 22%|██▏       | 223/1000 [06:43<19:11,  1.48s/it, best loss: 0.22152021266738797]\u001b[A"
     ]
    },
    {
     "name": "stderr",
     "output_type": "stream",
     "text": [
      "Hyperopt:  22%|██▏       | 224/1000 [06:43<19:34,  1.51s/it]"
     ]
    },
    {
     "name": "stdout",
     "output_type": "stream",
     "text": [
      "\n",
      " 22%|██▏       | 224/1000 [06:43<19:34,  1.51s/it, best loss: 0.22152021266738797]\u001b[A\n",
      "\u001b[AParameters with this training score 0.7612136314601343 :\n",
      "\n",
      " 22%|██▏       | 224/1000 [06:45<19:34,  1.51s/it, best loss: 0.22152021266738797]\u001b[A\n",
      "\u001b[A{'bootstrap': False, 'class_weight': 'balanced', 'criterion': 'gini', 'max_depth': 11, 'max_features': 4, 'max_leaf_nodes': 20, 'min_samples_leaf': 8, 'min_samples_split': 70, 'n_estimators': 950}\n",
      "\n",
      " 22%|██▏       | 224/1000 [06:45<19:34,  1.51s/it, best loss: 0.22152021266738797]\u001b[A"
     ]
    },
    {
     "name": "stderr",
     "output_type": "stream",
     "text": [
      "Hyperopt:  22%|██▎       | 225/1000 [06:45<24:10,  1.87s/it]"
     ]
    },
    {
     "name": "stdout",
     "output_type": "stream",
     "text": [
      "\n",
      " 22%|██▎       | 225/1000 [06:45<24:10,  1.87s/it, best loss: 0.22152021266738797]\u001b[A\n",
      "\u001b[AParameters with this training score 0.7751344618626506 :\n",
      "\n",
      " 22%|██▎       | 225/1000 [06:48<24:10,  1.87s/it, best loss: 0.22152021266738797]\u001b[A\n",
      "\u001b[A{'bootstrap': False, 'class_weight': 'balanced', 'criterion': 'gini', 'max_depth': 38, 'max_features': 3, 'max_leaf_nodes': 26, 'min_samples_leaf': 22, 'min_samples_split': 10, 'n_estimators': 760}\n",
      "\n",
      " 22%|██▎       | 225/1000 [06:48<24:10,  1.87s/it, best loss: 0.22152021266738797]\u001b[A"
     ]
    },
    {
     "name": "stderr",
     "output_type": "stream",
     "text": [
      "Hyperopt:  23%|██▎       | 226/1000 [06:48<26:19,  2.04s/it]"
     ]
    },
    {
     "name": "stdout",
     "output_type": "stream",
     "text": [
      "\n",
      " 23%|██▎       | 226/1000 [06:48<26:19,  2.04s/it, best loss: 0.22152021266738797]\u001b[A\n",
      "\u001b[AParameters with this training score 0.5169480032967558 :\n",
      "\n",
      " 23%|██▎       | 226/1000 [06:49<26:19,  2.04s/it, best loss: 0.22152021266738797]\u001b[A\n",
      "\u001b[A{'bootstrap': False, 'class_weight': None, 'criterion': 'gini', 'max_depth': 25, 'max_features': 3, 'max_leaf_nodes': 16, 'min_samples_leaf': 25, 'min_samples_split': 80, 'n_estimators': 370}\n",
      "\n",
      " 23%|██▎       | 226/1000 [06:49<26:19,  2.04s/it, best loss: 0.22152021266738797]\u001b[A"
     ]
    },
    {
     "name": "stderr",
     "output_type": "stream",
     "text": [
      "Hyperopt:  23%|██▎       | 227/1000 [06:49<23:39,  1.84s/it]"
     ]
    },
    {
     "name": "stdout",
     "output_type": "stream",
     "text": [
      "\n",
      " 23%|██▎       | 227/1000 [06:49<23:39,  1.84s/it, best loss: 0.22152021266738797]\u001b[A\n",
      "\u001b[AParameters with this training score 0.764274860007742 :\n",
      "\n",
      " 23%|██▎       | 227/1000 [06:50<23:39,  1.84s/it, best loss: 0.22152021266738797]\u001b[A\n",
      "\u001b[A{'bootstrap': False, 'class_weight': 'balanced', 'criterion': 'entropy', 'max_depth': 19, 'max_features': 3, 'max_leaf_nodes': 26, 'min_samples_leaf': 11, 'min_samples_split': 60, 'n_estimators': 210}\n",
      "\n",
      " 23%|██▎       | 227/1000 [06:50<23:39,  1.84s/it, best loss: 0.22152021266738797]\u001b[A"
     ]
    },
    {
     "name": "stderr",
     "output_type": "stream",
     "text": [
      "Hyperopt:  23%|██▎       | 228/1000 [06:50<20:10,  1.57s/it]"
     ]
    },
    {
     "name": "stdout",
     "output_type": "stream",
     "text": [
      "\n",
      " 23%|██▎       | 228/1000 [06:50<20:10,  1.57s/it, best loss: 0.22152021266738797]\u001b[A\n",
      "\u001b[AParameters with this training score 0.7571695943531342 :\n",
      "\n",
      " 23%|██▎       | 228/1000 [06:51<20:10,  1.57s/it, best loss: 0.22152021266738797]\u001b[A\n",
      "\u001b[A{'bootstrap': False, 'class_weight': 'balanced', 'criterion': 'gini', 'max_depth': 13, 'max_features': 2, 'max_leaf_nodes': 18, 'min_samples_leaf': 26, 'min_samples_split': 50, 'n_estimators': 140}\n",
      "\n",
      " 23%|██▎       | 228/1000 [06:51<20:10,  1.57s/it, best loss: 0.22152021266738797]\u001b[A"
     ]
    },
    {
     "name": "stderr",
     "output_type": "stream",
     "text": [
      "Hyperopt:  23%|██▎       | 229/1000 [06:51<17:22,  1.35s/it]"
     ]
    },
    {
     "name": "stdout",
     "output_type": "stream",
     "text": [
      "\n",
      " 23%|██▎       | 229/1000 [06:51<17:22,  1.35s/it, best loss: 0.22152021266738797]\u001b[A\n",
      "\u001b[AParameters with this training score 0.6939228694488125 :\n",
      "\n",
      " 23%|██▎       | 229/1000 [06:53<17:22,  1.35s/it, best loss: 0.22152021266738797]\u001b[A\n",
      "\u001b[A{'bootstrap': True, 'class_weight': 'balanced', 'criterion': 'gini', 'max_depth': 26, 'max_features': 3, 'max_leaf_nodes': 10, 'min_samples_leaf': 23, 'min_samples_split': 90, 'n_estimators': 550}\n",
      "\n",
      " 23%|██▎       | 229/1000 [06:53<17:22,  1.35s/it, best loss: 0.22152021266738797]\u001b[A"
     ]
    },
    {
     "name": "stderr",
     "output_type": "stream",
     "text": [
      "Hyperopt:  23%|██▎       | 230/1000 [06:53<19:56,  1.55s/it]"
     ]
    },
    {
     "name": "stdout",
     "output_type": "stream",
     "text": [
      "\n",
      " 23%|██▎       | 230/1000 [06:53<19:56,  1.55s/it, best loss: 0.22152021266738797]\u001b[A\n",
      "\u001b[AParameters with this training score 0.7658380974498356 :\n",
      "\n",
      " 23%|██▎       | 230/1000 [06:55<19:56,  1.55s/it, best loss: 0.22152021266738797]\u001b[A\n",
      "\u001b[A{'bootstrap': False, 'class_weight': 'balanced', 'criterion': 'gini', 'max_depth': 34, 'max_features': 1, 'max_leaf_nodes': 26, 'min_samples_leaf': 29, 'min_samples_split': 80, 'n_estimators': 620}\n",
      "\n",
      " 23%|██▎       | 230/1000 [06:55<19:56,  1.55s/it, best loss: 0.22152021266738797]\u001b[A"
     ]
    },
    {
     "name": "stderr",
     "output_type": "stream",
     "text": [
      "Hyperopt:  23%|██▎       | 231/1000 [06:55<21:47,  1.70s/it]"
     ]
    },
    {
     "name": "stdout",
     "output_type": "stream",
     "text": [
      "\n",
      " 23%|██▎       | 231/1000 [06:55<21:48,  1.70s/it, best loss: 0.22152021266738797]\u001b[A\n",
      "\u001b[AParameters with this training score 0.7790571939362325 :\n",
      "\n",
      " 23%|██▎       | 231/1000 [06:56<21:48,  1.70s/it, best loss: 0.22152021266738797]\u001b[A\n",
      "\u001b[A{'bootstrap': False, 'class_weight': 'balanced', 'criterion': 'gini', 'max_depth': 47, 'max_features': 3, 'max_leaf_nodes': 28, 'min_samples_leaf': 26, 'min_samples_split': 20, 'n_estimators': 350}\n",
      "\n",
      " 23%|██▎       | 231/1000 [06:56<21:48,  1.70s/it, best loss: 0.22152021266738797]\u001b[A"
     ]
    },
    {
     "name": "stderr",
     "output_type": "stream",
     "text": [
      "Hyperopt:  23%|██▎       | 232/1000 [06:56<20:24,  1.59s/it]"
     ]
    },
    {
     "name": "stdout",
     "output_type": "stream",
     "text": [
      "\n",
      " 23%|██▎       | 232/1000 [06:56<20:24,  1.59s/it, best loss: 0.22094280606376748]\u001b[A\n",
      "\u001b[AParameters with this training score 0.5 :\n",
      "\n",
      " 23%|██▎       | 232/1000 [06:57<20:24,  1.59s/it, best loss: 0.22094280606376748]\u001b[A\n",
      "\u001b[A{'bootstrap': False, 'class_weight': None, 'criterion': 'gini', 'max_depth': 1, 'max_features': 3, 'max_leaf_nodes': 28, 'min_samples_leaf': 18, 'min_samples_split': 20, 'n_estimators': 170}\n",
      "\n",
      " 23%|██▎       | 232/1000 [06:57<20:24,  1.59s/it, best loss: 0.22094280606376748]\u001b[A"
     ]
    },
    {
     "name": "stderr",
     "output_type": "stream",
     "text": [
      "Hyperopt:  23%|██▎       | 233/1000 [06:57<17:22,  1.36s/it]"
     ]
    },
    {
     "name": "stdout",
     "output_type": "stream",
     "text": [
      "\n",
      " 23%|██▎       | 233/1000 [06:57<17:22,  1.36s/it, best loss: 0.22094280606376748]\u001b[A\n",
      "\u001b[AParameters with this training score 0.7162981871109281 :\n",
      "\n",
      " 23%|██▎       | 233/1000 [06:58<17:22,  1.36s/it, best loss: 0.22094280606376748]\u001b[A\n",
      "\u001b[A{'bootstrap': False, 'class_weight': 'balanced', 'criterion': 'gini', 'max_depth': 17, 'max_features': 4, 'max_leaf_nodes': 28, 'min_samples_leaf': 10, 'min_samples_split': 20, 'n_estimators': 10}\n",
      "\n",
      " 23%|██▎       | 233/1000 [06:58<17:22,  1.36s/it, best loss: 0.22094280606376748]\u001b[A"
     ]
    },
    {
     "name": "stderr",
     "output_type": "stream",
     "text": [
      "Hyperopt:  23%|██▎       | 234/1000 [06:58<13:41,  1.07s/it]"
     ]
    },
    {
     "name": "stdout",
     "output_type": "stream",
     "text": [
      "\n",
      " 23%|██▎       | 234/1000 [06:58<13:41,  1.07s/it, best loss: 0.22094280606376748]\u001b[A\n",
      "\u001b[AParameters with this training score 0.7564324813177008 :\n",
      "\n",
      " 23%|██▎       | 234/1000 [06:58<13:41,  1.07s/it, best loss: 0.22094280606376748]\u001b[A\n",
      "\u001b[A{'bootstrap': False, 'class_weight': 'balanced', 'criterion': 'entropy', 'max_depth': 47, 'max_features': 3, 'max_leaf_nodes': 28, 'min_samples_leaf': 2, 'min_samples_split': 20, 'n_estimators': 180}\n",
      "\n",
      " 23%|██▎       | 234/1000 [06:58<13:41,  1.07s/it, best loss: 0.22094280606376748]\u001b[A"
     ]
    },
    {
     "name": "stderr",
     "output_type": "stream",
     "text": [
      "Hyperopt:  24%|██▎       | 235/1000 [06:59<12:49,  1.01s/it]"
     ]
    },
    {
     "name": "stdout",
     "output_type": "stream",
     "text": [
      "\n",
      " 24%|██▎       | 235/1000 [06:58<12:49,  1.01s/it, best loss: 0.22094280606376748]\u001b[A\n",
      "\u001b[AParameters with this training score 0.7650513374125687 :\n",
      "\n",
      " 24%|██▎       | 235/1000 [07:00<12:49,  1.01s/it, best loss: 0.22094280606376748]\u001b[A\n",
      "\u001b[A{'bootstrap': True, 'class_weight': 'balanced', 'criterion': 'gini', 'max_depth': 47, 'max_features': 3, 'max_leaf_nodes': 28, 'min_samples_leaf': 5, 'min_samples_split': 20, 'n_estimators': 330}\n",
      "\n",
      " 24%|██▎       | 235/1000 [07:00<12:49,  1.01s/it, best loss: 0.22094280606376748]\u001b[A"
     ]
    },
    {
     "name": "stderr",
     "output_type": "stream",
     "text": [
      "Hyperopt:  24%|██▎       | 236/1000 [07:00<14:04,  1.11s/it]"
     ]
    },
    {
     "name": "stdout",
     "output_type": "stream",
     "text": [
      "\n",
      " 24%|██▎       | 236/1000 [07:00<14:04,  1.11s/it, best loss: 0.22094280606376748]\u001b[A\n",
      "\u001b[AParameters with this training score 0.5562039264326424 :\n",
      "\n",
      " 24%|██▎       | 236/1000 [07:02<14:04,  1.11s/it, best loss: 0.22094280606376748]\u001b[A\n",
      "\u001b[A{'bootstrap': False, 'class_weight': 'balanced', 'criterion': 'gini', 'max_depth': 2, 'max_features': 2, 'max_leaf_nodes': 28, 'min_samples_leaf': 28, 'min_samples_split': 20, 'n_estimators': 700}\n",
      "\n",
      " 24%|██▎       | 236/1000 [07:02<14:04,  1.11s/it, best loss: 0.22094280606376748]\u001b[A"
     ]
    },
    {
     "name": "stderr",
     "output_type": "stream",
     "text": [
      "Hyperopt:  24%|██▎       | 237/1000 [07:02<18:09,  1.43s/it]"
     ]
    },
    {
     "name": "stdout",
     "output_type": "stream",
     "text": [
      "\n",
      " 24%|██▎       | 237/1000 [07:02<18:09,  1.43s/it, best loss: 0.22094280606376748]\u001b[A\n",
      "\u001b[AParameters with this training score 0.7728731370497921 :\n",
      "\n",
      " 24%|██▎       | 237/1000 [07:04<18:09,  1.43s/it, best loss: 0.22094280606376748]\u001b[A\n",
      "\u001b[A{'bootstrap': False, 'class_weight': 'balanced', 'criterion': 'gini', 'max_depth': 44, 'max_features': 3, 'max_leaf_nodes': 28, 'min_samples_leaf': 13, 'min_samples_split': 20, 'n_estimators': 720}\n",
      "\n",
      " 24%|██▎       | 237/1000 [07:04<18:09,  1.43s/it, best loss: 0.22094280606376748]\u001b[A"
     ]
    },
    {
     "name": "stderr",
     "output_type": "stream",
     "text": [
      "Hyperopt:  24%|██▍       | 238/1000 [07:04<20:58,  1.65s/it]"
     ]
    },
    {
     "name": "stdout",
     "output_type": "stream",
     "text": [
      "\n",
      " 24%|██▍       | 238/1000 [07:04<20:58,  1.65s/it, best loss: 0.22094280606376748]\u001b[A\n",
      "\u001b[AParameters with this training score 0.5921311152125384 :\n",
      "\n",
      " 24%|██▍       | 238/1000 [07:07<20:58,  1.65s/it, best loss: 0.22094280606376748]\u001b[A\n",
      "\u001b[A{'bootstrap': False, 'class_weight': None, 'criterion': 'gini', 'max_depth': 7, 'max_features': 3, 'max_leaf_nodes': 28, 'min_samples_leaf': 21, 'min_samples_split': 20, 'n_estimators': 850}\n",
      "\n",
      " 24%|██▍       | 238/1000 [07:07<20:58,  1.65s/it, best loss: 0.22094280606376748]\u001b[A"
     ]
    },
    {
     "name": "stderr",
     "output_type": "stream",
     "text": [
      "Hyperopt:  24%|██▍       | 239/1000 [07:07<24:25,  1.93s/it]"
     ]
    },
    {
     "name": "stdout",
     "output_type": "stream",
     "text": [
      "\n",
      " 24%|██▍       | 239/1000 [07:07<24:25,  1.93s/it, best loss: 0.22094280606376748]\u001b[A\n",
      "\u001b[AParameters with this training score 0.7632913099405954 :\n",
      "\n",
      " 24%|██▍       | 239/1000 [07:09<24:25,  1.93s/it, best loss: 0.22094280606376748]\u001b[A\n",
      "\u001b[A{'bootstrap': False, 'class_weight': 'balanced', 'criterion': 'gini', 'max_depth': 47, 'max_features': 1, 'max_leaf_nodes': 28, 'min_samples_leaf': 26, 'min_samples_split': 20, 'n_estimators': 820}\n",
      "\n",
      " 24%|██▍       | 239/1000 [07:09<24:25,  1.93s/it, best loss: 0.22094280606376748]\u001b[A"
     ]
    },
    {
     "name": "stderr",
     "output_type": "stream",
     "text": [
      "Hyperopt:  24%|██▍       | 240/1000 [07:10<27:32,  2.17s/it]"
     ]
    },
    {
     "name": "stdout",
     "output_type": "stream",
     "text": [
      "\n",
      " 24%|██▍       | 240/1000 [07:09<27:32,  2.17s/it, best loss: 0.22094280606376748]\u001b[A\n",
      "\u001b[AParameters with this training score 0.7700010577100531 :\n",
      "\n",
      " 24%|██▍       | 240/1000 [07:10<27:32,  2.17s/it, best loss: 0.22094280606376748]\u001b[A\n",
      "\u001b[A{'bootstrap': False, 'class_weight': 'balanced', 'criterion': 'entropy', 'max_depth': 47, 'max_features': 3, 'max_leaf_nodes': 28, 'min_samples_leaf': 19, 'min_samples_split': 20, 'n_estimators': 230}\n",
      "\n",
      " 24%|██▍       | 240/1000 [07:10<27:32,  2.17s/it, best loss: 0.22094280606376748]\u001b[A"
     ]
    },
    {
     "name": "stderr",
     "output_type": "stream",
     "text": [
      "Hyperopt:  24%|██▍       | 241/1000 [07:11<23:18,  1.84s/it]"
     ]
    },
    {
     "name": "stdout",
     "output_type": "stream",
     "text": [
      "\n",
      " 24%|██▍       | 241/1000 [07:10<23:18,  1.84s/it, best loss: 0.22094280606376748]\u001b[A\n",
      "\u001b[AParameters with this training score 0.7744981807420694 :\n",
      "\n",
      " 24%|██▍       | 241/1000 [07:12<23:18,  1.84s/it, best loss: 0.22094280606376748]\u001b[A\n",
      "\u001b[A{'bootstrap': True, 'class_weight': 'balanced', 'criterion': 'gini', 'max_depth': 8, 'max_features': 4, 'max_leaf_nodes': 28, 'min_samples_leaf': 12, 'min_samples_split': 20, 'n_estimators': 460}\n",
      "\n",
      " 24%|██▍       | 241/1000 [07:12<23:18,  1.84s/it, best loss: 0.22094280606376748]\u001b[A"
     ]
    },
    {
     "name": "stderr",
     "output_type": "stream",
     "text": [
      "Hyperopt:  24%|██▍       | 242/1000 [07:12<23:20,  1.85s/it]"
     ]
    },
    {
     "name": "stdout",
     "output_type": "stream",
     "text": [
      "\n",
      " 24%|██▍       | 242/1000 [07:12<23:20,  1.85s/it, best loss: 0.22094280606376748]\u001b[A\n",
      "\u001b[AParameters with this training score 0.7397967257504034 :\n",
      "\n",
      " 24%|██▍       | 242/1000 [07:15<23:20,  1.85s/it, best loss: 0.22094280606376748]\u001b[A\n",
      "\u001b[A{'bootstrap': False, 'class_weight': 'balanced', 'criterion': 'gini', 'max_depth': 23, 'max_features': 3, 'max_leaf_nodes': 14, 'min_samples_leaf': 6, 'min_samples_split': 20, 'n_estimators': 740}\n",
      "\n",
      " 24%|██▍       | 242/1000 [07:15<23:20,  1.85s/it, best loss: 0.22094280606376748]\u001b[A"
     ]
    },
    {
     "name": "stderr",
     "output_type": "stream",
     "text": [
      "Hyperopt:  24%|██▍       | 243/1000 [07:15<24:58,  1.98s/it]"
     ]
    },
    {
     "name": "stdout",
     "output_type": "stream",
     "text": [
      "\n",
      " 24%|██▍       | 243/1000 [07:15<24:58,  1.98s/it, best loss: 0.22094280606376748]\u001b[A\n",
      "\u001b[AParameters with this training score 0.7407139054959914 :\n",
      "\n",
      " 24%|██▍       | 243/1000 [07:16<24:58,  1.98s/it, best loss: 0.22094280606376748]\u001b[A\n",
      "\u001b[A{'bootstrap': False, 'class_weight': 'balanced', 'criterion': 'gini', 'max_depth': 39, 'max_features': 3, 'max_leaf_nodes': 12, 'min_samples_leaf': 26, 'min_samples_split': 30, 'n_estimators': 540}\n",
      "\n",
      " 24%|██▍       | 243/1000 [07:16<24:58,  1.98s/it, best loss: 0.22094280606376748]\u001b[A"
     ]
    },
    {
     "name": "stderr",
     "output_type": "stream",
     "text": [
      "Hyperopt:  24%|██▍       | 244/1000 [07:17<24:06,  1.91s/it]"
     ]
    },
    {
     "name": "stdout",
     "output_type": "stream",
     "text": [
      "\n",
      " 24%|██▍       | 244/1000 [07:16<24:06,  1.91s/it, best loss: 0.22094280606376748]\u001b[A\n",
      "\u001b[AParameters with this training score 0.5601953492424302 :\n",
      "\n",
      " 24%|██▍       | 244/1000 [07:18<24:06,  1.91s/it, best loss: 0.22094280606376748]\u001b[A\n",
      "\u001b[A{'bootstrap': False, 'class_weight': None, 'criterion': 'gini', 'max_depth': 18, 'max_features': 3, 'max_leaf_nodes': 24, 'min_samples_leaf': 15, 'min_samples_split': 40, 'n_estimators': 410}\n",
      "\n",
      " 24%|██▍       | 244/1000 [07:18<24:06,  1.91s/it, best loss: 0.22094280606376748]\u001b[A"
     ]
    },
    {
     "name": "stderr",
     "output_type": "stream",
     "text": [
      "Hyperopt:  24%|██▍       | 245/1000 [07:18<22:13,  1.77s/it]"
     ]
    },
    {
     "name": "stdout",
     "output_type": "stream",
     "text": [
      "\n",
      " 24%|██▍       | 245/1000 [07:18<22:13,  1.77s/it, best loss: 0.22094280606376748]\u001b[A\n",
      "\u001b[AParameters with this training score 0.7641790521916356 :\n",
      "\n",
      " 24%|██▍       | 245/1000 [07:19<22:13,  1.77s/it, best loss: 0.22094280606376748]\u001b[A\n",
      "\u001b[A{'bootstrap': False, 'class_weight': 'balanced', 'criterion': 'gini', 'max_depth': 29, 'max_features': 2, 'max_leaf_nodes': 22, 'min_samples_leaf': 14, 'min_samples_split': 70, 'n_estimators': 350}\n",
      "\n",
      " 24%|██▍       | 245/1000 [07:19<22:13,  1.77s/it, best loss: 0.22094280606376748]\u001b[A"
     ]
    },
    {
     "name": "stderr",
     "output_type": "stream",
     "text": [
      "Hyperopt:  25%|██▍       | 246/1000 [07:19<20:24,  1.62s/it]"
     ]
    },
    {
     "name": "stdout",
     "output_type": "stream",
     "text": [
      "\n",
      " 25%|██▍       | 246/1000 [07:19<20:24,  1.62s/it, best loss: 0.22094280606376748]\u001b[A\n",
      "\u001b[AParameters with this training score 0.7571706013447036 :\n",
      "\n",
      " 25%|██▍       | 246/1000 [07:20<20:24,  1.62s/it, best loss: 0.22094280606376748]\u001b[A\n",
      "\u001b[A{'bootstrap': False, 'class_weight': 'balanced', 'criterion': 'entropy', 'max_depth': 6, 'max_features': 3, 'max_leaf_nodes': 20, 'min_samples_leaf': 20, 'min_samples_split': 10, 'n_estimators': 260}\n",
      "\n",
      " 25%|██▍       | 246/1000 [07:20<20:24,  1.62s/it, best loss: 0.22094280606376748]\u001b[A"
     ]
    },
    {
     "name": "stderr",
     "output_type": "stream",
     "text": [
      "Hyperopt:  25%|██▍       | 247/1000 [07:20<18:00,  1.43s/it]"
     ]
    },
    {
     "name": "stdout",
     "output_type": "stream",
     "text": [
      "\n",
      " 25%|██▍       | 247/1000 [07:20<18:00,  1.43s/it, best loss: 0.22094280606376748]\u001b[A\n",
      "\u001b[AParameters with this training score 0.730755050029751 :\n",
      "\n",
      " 25%|██▍       | 247/1000 [07:23<18:00,  1.43s/it, best loss: 0.22094280606376748]\u001b[A\n",
      "\u001b[A{'bootstrap': True, 'class_weight': 'balanced', 'criterion': 'gini', 'max_depth': 32, 'max_features': 1, 'max_leaf_nodes': 16, 'min_samples_leaf': 1, 'min_samples_split': 60, 'n_estimators': 670}\n",
      "\n",
      " 25%|██▍       | 247/1000 [07:23<18:00,  1.43s/it, best loss: 0.22094280606376748]\u001b[A"
     ]
    },
    {
     "name": "stderr",
     "output_type": "stream",
     "text": [
      "Hyperopt:  25%|██▍       | 248/1000 [07:23<21:36,  1.72s/it]"
     ]
    },
    {
     "name": "stdout",
     "output_type": "stream",
     "text": [
      "\n",
      " 25%|██▍       | 248/1000 [07:23<21:36,  1.72s/it, best loss: 0.22094280606376748]\u001b[A\n",
      "\u001b[AParameters with this training score 0.7713617793431399 :\n",
      "\n",
      " 25%|██▍       | 248/1000 [07:23<21:36,  1.72s/it, best loss: 0.22094280606376748]\u001b[A\n",
      "\u001b[A{'bootstrap': False, 'class_weight': 'balanced', 'criterion': 'gini', 'max_depth': 22, 'max_features': 3, 'max_leaf_nodes': 28, 'min_samples_leaf': 27, 'min_samples_split': 20, 'n_estimators': 70}\n",
      "\n",
      " 25%|██▍       | 248/1000 [07:23<21:36,  1.72s/it, best loss: 0.22094280606376748]\u001b[A"
     ]
    },
    {
     "name": "stderr",
     "output_type": "stream",
     "text": [
      "Hyperopt:  25%|██▍       | 249/1000 [07:23<17:17,  1.38s/it]"
     ]
    },
    {
     "name": "stdout",
     "output_type": "stream",
     "text": [
      "\n",
      " 25%|██▍       | 249/1000 [07:23<17:17,  1.38s/it, best loss: 0.22094280606376748]\u001b[A\n",
      "\u001b[AParameters with this training score 0.7382076881084746 :\n",
      "\n",
      " 25%|██▍       | 249/1000 [07:24<17:17,  1.38s/it, best loss: 0.22094280606376748]\u001b[A\n",
      "\u001b[A{'bootstrap': False, 'class_weight': 'balanced', 'criterion': 'gini', 'max_depth': 5, 'max_features': 4, 'max_leaf_nodes': 18, 'min_samples_leaf': 9, 'min_samples_split': 50, 'n_estimators': 160}\n",
      "\n",
      " 25%|██▍       | 249/1000 [07:24<17:17,  1.38s/it, best loss: 0.22094280606376748]\u001b[A"
     ]
    },
    {
     "name": "stderr",
     "output_type": "stream",
     "text": [
      "Hyperopt:  25%|██▌       | 250/1000 [07:24<15:12,  1.22s/it]"
     ]
    },
    {
     "name": "stdout",
     "output_type": "stream",
     "text": [
      "\n",
      " 25%|██▌       | 250/1000 [07:24<15:12,  1.22s/it, best loss: 0.22094280606376748]\u001b[A\n",
      "\u001b[AParameters with this training score 0.49976761706175366 :\n",
      "\n",
      " 25%|██▌       | 250/1000 [07:26<15:12,  1.22s/it, best loss: 0.22094280606376748]\u001b[A\n",
      "\u001b[A{'bootstrap': False, 'class_weight': None, 'criterion': 'gini', 'max_depth': 20, 'max_features': 3, 'max_leaf_nodes': 10, 'min_samples_leaf': 7, 'min_samples_split': 20, 'n_estimators': 680}\n",
      "\n",
      " 25%|██▌       | 250/1000 [07:26<15:12,  1.22s/it, best loss: 0.22094280606376748]\u001b[A"
     ]
    },
    {
     "name": "stderr",
     "output_type": "stream",
     "text": [
      "Hyperopt:  25%|██▌       | 251/1000 [07:26<18:49,  1.51s/it]"
     ]
    },
    {
     "name": "stdout",
     "output_type": "stream",
     "text": [
      "\n",
      " 25%|██▌       | 251/1000 [07:26<18:49,  1.51s/it, best loss: 0.22094280606376748]\u001b[A\n",
      "\u001b[AParameters with this training score 0.7361919204360563 :\n",
      "\n",
      " 25%|██▌       | 251/1000 [07:29<18:49,  1.51s/it, best loss: 0.22094280606376748]\u001b[A\n",
      "\u001b[A{'bootstrap': False, 'class_weight': 'balanced', 'criterion': 'gini', 'max_depth': 45, 'max_features': 3, 'max_leaf_nodes': 14, 'min_samples_leaf': 4, 'min_samples_split': 90, 'n_estimators': 790}\n",
      "\n",
      " 25%|██▌       | 251/1000 [07:29<18:49,  1.51s/it, best loss: 0.22094280606376748]\u001b[A"
     ]
    },
    {
     "name": "stderr",
     "output_type": "stream",
     "text": [
      "Hyperopt:  25%|██▌       | 252/1000 [07:29<22:41,  1.82s/it]"
     ]
    },
    {
     "name": "stdout",
     "output_type": "stream",
     "text": [
      "\n",
      " 25%|██▌       | 252/1000 [07:29<22:41,  1.82s/it, best loss: 0.22094280606376748]\u001b[A\n",
      "\u001b[AParameters with this training score 0.7157547672049841 :\n",
      "\n",
      " 25%|██▌       | 252/1000 [07:30<22:41,  1.82s/it, best loss: 0.22094280606376748]\u001b[A\n",
      "\u001b[A{'bootstrap': False, 'class_weight': 'balanced', 'criterion': 'entropy', 'max_depth': 41, 'max_features': 3, 'max_leaf_nodes': 12, 'min_samples_leaf': 3, 'min_samples_split': 30, 'n_estimators': 280}\n",
      "\n",
      " 25%|██▌       | 252/1000 [07:30<22:41,  1.82s/it, best loss: 0.22094280606376748]\u001b[A"
     ]
    },
    {
     "name": "stderr",
     "output_type": "stream",
     "text": [
      "Hyperopt:  25%|██▌       | 253/1000 [07:30<19:46,  1.59s/it]"
     ]
    },
    {
     "name": "stdout",
     "output_type": "stream",
     "text": [
      "\n",
      " 25%|██▌       | 253/1000 [07:30<19:46,  1.59s/it, best loss: 0.22094280606376748]\u001b[A\n",
      "\u001b[AParameters with this training score 0.7714212511186616 :\n",
      "\n",
      " 25%|██▌       | 253/1000 [07:32<19:46,  1.59s/it, best loss: 0.22094280606376748]\u001b[A\n",
      "\u001b[A{'bootstrap': True, 'class_weight': 'balanced', 'criterion': 'gini', 'max_depth': 46, 'max_features': 2, 'max_leaf_nodes': 28, 'min_samples_leaf': 26, 'min_samples_split': 40, 'n_estimators': 520}\n",
      "\n",
      " 25%|██▌       | 253/1000 [07:32<19:46,  1.59s/it, best loss: 0.22094280606376748]\u001b[A"
     ]
    },
    {
     "name": "stderr",
     "output_type": "stream",
     "text": [
      "Hyperopt:  25%|██▌       | 254/1000 [07:32<20:47,  1.67s/it]"
     ]
    },
    {
     "name": "stdout",
     "output_type": "stream",
     "text": [
      "\n",
      " 25%|██▌       | 254/1000 [07:32<20:47,  1.67s/it, best loss: 0.22094280606376748]\u001b[A\n",
      "\u001b[AParameters with this training score 0.7611914524224043 :\n",
      "\n",
      " 25%|██▌       | 254/1000 [07:32<20:47,  1.67s/it, best loss: 0.22094280606376748]\u001b[A\n",
      "\u001b[A{'bootstrap': False, 'class_weight': 'balanced', 'criterion': 'gini', 'max_depth': 37, 'max_features': 3, 'max_leaf_nodes': 22, 'min_samples_leaf': 16, 'min_samples_split': 70, 'n_estimators': 30}\n",
      "\n",
      " 25%|██▌       | 254/1000 [07:32<20:47,  1.67s/it, best loss: 0.22094280606376748]\u001b[A"
     ]
    },
    {
     "name": "stderr",
     "output_type": "stream",
     "text": [
      "Hyperopt:  26%|██▌       | 255/1000 [07:32<16:07,  1.30s/it]"
     ]
    },
    {
     "name": "stdout",
     "output_type": "stream",
     "text": [
      "\n",
      " 26%|██▌       | 255/1000 [07:32<16:07,  1.30s/it, best loss: 0.22094280606376748]\u001b[A\n",
      "\u001b[AParameters with this training score 0.5930367427871406 :\n",
      "\n",
      " 26%|██▌       | 255/1000 [07:33<16:07,  1.30s/it, best loss: 0.22094280606376748]\u001b[A\n",
      "\u001b[A{'bootstrap': False, 'class_weight': 'balanced', 'criterion': 'gini', 'max_depth': 3, 'max_features': 1, 'max_leaf_nodes': 24, 'min_samples_leaf': 23, 'min_samples_split': 10, 'n_estimators': 250}\n",
      "\n",
      " 26%|██▌       | 255/1000 [07:33<16:07,  1.30s/it, best loss: 0.22094280606376748]\u001b[A"
     ]
    },
    {
     "name": "stderr",
     "output_type": "stream",
     "text": [
      "Hyperopt:  26%|██▌       | 256/1000 [07:33<15:14,  1.23s/it]"
     ]
    },
    {
     "name": "stdout",
     "output_type": "stream",
     "text": [
      "\n",
      " 26%|██▌       | 256/1000 [07:33<15:14,  1.23s/it, best loss: 0.22094280606376748]\u001b[A\n",
      "\u001b[AParameters with this training score 0.7665102281200727 :\n",
      "\n",
      " 26%|██▌       | 256/1000 [07:35<15:14,  1.23s/it, best loss: 0.22094280606376748]\u001b[A\n",
      "\u001b[A{'bootstrap': False, 'class_weight': 'balanced', 'criterion': 'gini', 'max_depth': 43, 'max_features': 3, 'max_leaf_nodes': 20, 'min_samples_leaf': 11, 'min_samples_split': 50, 'n_estimators': 840}\n",
      "\n",
      " 26%|██▌       | 256/1000 [07:35<15:14,  1.23s/it, best loss: 0.22094280606376748]\u001b[A"
     ]
    },
    {
     "name": "stderr",
     "output_type": "stream",
     "text": [
      "Hyperopt:  26%|██▌       | 257/1000 [07:36<19:40,  1.59s/it]"
     ]
    },
    {
     "name": "stdout",
     "output_type": "stream",
     "text": [
      "\n",
      " 26%|██▌       | 257/1000 [07:36<19:40,  1.59s/it, best loss: 0.22094280606376748]\u001b[A\n",
      "\u001b[AParameters with this training score 0.7784534897187287 :\n",
      "\n",
      " 26%|██▌       | 257/1000 [07:37<19:40,  1.59s/it, best loss: 0.22094280606376748]\u001b[A\n",
      "\u001b[A{'bootstrap': False, 'class_weight': 'balanced', 'criterion': 'gini', 'max_depth': 11, 'max_features': 3, 'max_leaf_nodes': 26, 'min_samples_leaf': 26, 'min_samples_split': 80, 'n_estimators': 350}\n",
      "\n",
      " 26%|██▌       | 257/1000 [07:37<19:40,  1.59s/it, best loss: 0.22094280606376748]\u001b[A"
     ]
    },
    {
     "name": "stderr",
     "output_type": "stream",
     "text": [
      "Hyperopt:  26%|██▌       | 258/1000 [07:37<18:45,  1.52s/it]"
     ]
    },
    {
     "name": "stdout",
     "output_type": "stream",
     "text": [
      "\n",
      " 26%|██▌       | 258/1000 [07:37<18:45,  1.52s/it, best loss: 0.22094280606376748]\u001b[A\n",
      "\u001b[AParameters with this training score 0.77639923217465 :\n",
      "\n",
      " 26%|██▌       | 258/1000 [07:39<18:45,  1.52s/it, best loss: 0.22094280606376748]\u001b[A\n",
      "\u001b[A{'bootstrap': False, 'class_weight': 'balanced', 'criterion': 'gini', 'max_depth': 11, 'max_features': 3, 'max_leaf_nodes': 26, 'min_samples_leaf': 26, 'min_samples_split': 80, 'n_estimators': 780}\n",
      "\n",
      " 26%|██▌       | 258/1000 [07:40<18:45,  1.52s/it, best loss: 0.22094280606376748]\u001b[A"
     ]
    },
    {
     "name": "stderr",
     "output_type": "stream",
     "text": [
      "Hyperopt:  26%|██▌       | 259/1000 [07:40<22:56,  1.86s/it]"
     ]
    },
    {
     "name": "stdout",
     "output_type": "stream",
     "text": [
      "\n",
      " 26%|██▌       | 259/1000 [07:40<22:56,  1.86s/it, best loss: 0.22094280606376748]\u001b[A\n",
      "\u001b[AParameters with this training score 0.776433574181793 :\n",
      "\n",
      " 26%|██▌       | 259/1000 [07:42<22:56,  1.86s/it, best loss: 0.22094280606376748]\u001b[A\n",
      "\u001b[A{'bootstrap': False, 'class_weight': 'balanced', 'criterion': 'gini', 'max_depth': 11, 'max_features': 3, 'max_leaf_nodes': 26, 'min_samples_leaf': 26, 'min_samples_split': 80, 'n_estimators': 990}\n",
      "\n",
      " 26%|██▌       | 259/1000 [07:42<22:56,  1.86s/it, best loss: 0.22094280606376748]\u001b[A"
     ]
    },
    {
     "name": "stderr",
     "output_type": "stream",
     "text": [
      "Hyperopt:  26%|██▌       | 260/1000 [07:42<26:32,  2.15s/it]"
     ]
    },
    {
     "name": "stdout",
     "output_type": "stream",
     "text": [
      "\n",
      " 26%|██▌       | 260/1000 [07:42<26:32,  2.15s/it, best loss: 0.22094280606376748]\u001b[A\n",
      "\u001b[AParameters with this training score 0.7485842729868729 :\n",
      "\n",
      " 26%|██▌       | 260/1000 [07:44<26:32,  2.15s/it, best loss: 0.22094280606376748]\u001b[A\n",
      "\u001b[A{'bootstrap': False, 'class_weight': 'balanced', 'criterion': 'gini', 'max_depth': 4, 'max_features': 3, 'max_leaf_nodes': 26, 'min_samples_leaf': 26, 'min_samples_split': 80, 'n_estimators': 350}\n",
      "\n",
      " 26%|██▌       | 260/1000 [07:44<26:32,  2.15s/it, best loss: 0.22094280606376748]\u001b[A"
     ]
    },
    {
     "name": "stderr",
     "output_type": "stream",
     "text": [
      "Hyperopt:  26%|██▌       | 261/1000 [07:44<23:52,  1.94s/it]"
     ]
    },
    {
     "name": "stdout",
     "output_type": "stream",
     "text": [
      "\n",
      " 26%|██▌       | 261/1000 [07:44<23:52,  1.94s/it, best loss: 0.22094280606376748]\u001b[A\n",
      "\u001b[AParameters with this training score 0.7773445906153069 :\n",
      "\n",
      " 26%|██▌       | 261/1000 [07:45<23:52,  1.94s/it, best loss: 0.22094280606376748]\u001b[A\n",
      "\u001b[A{'bootstrap': False, 'class_weight': 'balanced', 'criterion': 'gini', 'max_depth': 28, 'max_features': 3, 'max_leaf_nodes': 26, 'min_samples_leaf': 26, 'min_samples_split': 80, 'n_estimators': 310}\n",
      "\n",
      " 26%|██▌       | 261/1000 [07:45<23:52,  1.94s/it, best loss: 0.22094280606376748]\u001b[A"
     ]
    },
    {
     "name": "stderr",
     "output_type": "stream",
     "text": [
      "Hyperopt:  26%|██▌       | 262/1000 [07:45<21:08,  1.72s/it]"
     ]
    },
    {
     "name": "stdout",
     "output_type": "stream",
     "text": [
      "\n",
      " 26%|██▌       | 262/1000 [07:45<21:08,  1.72s/it, best loss: 0.22094280606376748]\u001b[A\n",
      "\u001b[AParameters with this training score 0.776338967492696 :\n",
      "\n",
      " 26%|██▌       | 262/1000 [07:48<21:08,  1.72s/it, best loss: 0.22094280606376748]\u001b[A\n",
      "\u001b[A{'bootstrap': False, 'class_weight': 'balanced', 'criterion': 'gini', 'max_depth': 30, 'max_features': 3, 'max_leaf_nodes': 26, 'min_samples_leaf': 26, 'min_samples_split': 80, 'n_estimators': 890}\n",
      "\n",
      " 26%|██▌       | 262/1000 [07:48<21:08,  1.72s/it, best loss: 0.22094280606376748]\u001b[A"
     ]
    },
    {
     "name": "stderr",
     "output_type": "stream",
     "text": [
      "Hyperopt:  26%|██▋       | 263/1000 [07:48<24:41,  2.01s/it]"
     ]
    },
    {
     "name": "stdout",
     "output_type": "stream",
     "text": [
      "\n",
      " 26%|██▋       | 263/1000 [07:48<24:41,  2.01s/it, best loss: 0.22094280606376748]\u001b[A\n",
      "\u001b[AParameters with this training score 0.7756597821598389 :\n",
      "\n",
      " 26%|██▋       | 263/1000 [07:49<24:41,  2.01s/it, best loss: 0.22094280606376748]\u001b[A\n",
      "\u001b[A{'bootstrap': False, 'class_weight': 'balanced', 'criterion': 'gini', 'max_depth': 9, 'max_features': 3, 'max_leaf_nodes': 26, 'min_samples_leaf': 22, 'min_samples_split': 80, 'n_estimators': 350}\n",
      "\n",
      " 26%|██▋       | 263/1000 [07:49<24:41,  2.01s/it, best loss: 0.22094280606376748]\u001b[A"
     ]
    },
    {
     "name": "stderr",
     "output_type": "stream",
     "text": [
      "Hyperopt:  26%|██▋       | 264/1000 [07:49<22:07,  1.80s/it]"
     ]
    },
    {
     "name": "stdout",
     "output_type": "stream",
     "text": [
      "\n",
      " 26%|██▋       | 264/1000 [07:49<22:07,  1.80s/it, best loss: 0.22094280606376748]\u001b[A\n",
      "\u001b[AParameters with this training score 0.7710587152202699 :\n",
      "\n",
      " 26%|██▋       | 264/1000 [07:52<22:07,  1.80s/it, best loss: 0.22094280606376748]\u001b[A\n",
      "\u001b[A{'bootstrap': False, 'class_weight': 'balanced', 'criterion': 'gini', 'max_depth': 24, 'max_features': 3, 'max_leaf_nodes': 26, 'min_samples_leaf': 8, 'min_samples_split': 80, 'n_estimators': 980}\n",
      "\n",
      " 26%|██▋       | 264/1000 [07:52<22:07,  1.80s/it, best loss: 0.22094280606376748]\u001b[A"
     ]
    },
    {
     "name": "stderr",
     "output_type": "stream",
     "text": [
      "Hyperopt:  26%|██▋       | 265/1000 [07:52<26:10,  2.14s/it]"
     ]
    },
    {
     "name": "stdout",
     "output_type": "stream",
     "text": [
      "\n",
      " 26%|██▋       | 265/1000 [07:52<26:10,  2.14s/it, best loss: 0.22094280606376748]\u001b[A\n",
      "\u001b[AParameters with this training score 0.7487250158512068 :\n",
      "\n",
      " 26%|██▋       | 265/1000 [07:52<26:10,  2.14s/it, best loss: 0.22094280606376748]\u001b[A\n",
      "\u001b[A{'bootstrap': False, 'class_weight': 'balanced', 'criterion': 'gini', 'max_depth': 16, 'max_features': 3, 'max_leaf_nodes': 16, 'min_samples_leaf': 25, 'min_samples_split': 80, 'n_estimators': 100}\n",
      "\n",
      " 26%|██▋       | 265/1000 [07:52<26:10,  2.14s/it, best loss: 0.22094280606376748]\u001b[A"
     ]
    },
    {
     "name": "stderr",
     "output_type": "stream",
     "text": [
      "Hyperopt:  27%|██▋       | 266/1000 [07:53<20:24,  1.67s/it]"
     ]
    },
    {
     "name": "stdout",
     "output_type": "stream",
     "text": [
      "\n",
      " 27%|██▋       | 266/1000 [07:52<20:24,  1.67s/it, best loss: 0.22094280606376748]\u001b[A\n",
      "\u001b[AParameters with this training score 0.7777228372242501 :\n",
      "\n",
      " 27%|██▋       | 266/1000 [07:55<20:24,  1.67s/it, best loss: 0.22094280606376748]\u001b[A\n",
      "\u001b[A{'bootstrap': False, 'class_weight': 'balanced', 'criterion': 'gini', 'max_depth': 21, 'max_features': 3, 'max_leaf_nodes': 26, 'min_samples_leaf': 26, 'min_samples_split': 60, 'n_estimators': 870}\n",
      "\n",
      " 27%|██▋       | 266/1000 [07:55<20:24,  1.67s/it, best loss: 0.22094280606376748]\u001b[A"
     ]
    },
    {
     "name": "stderr",
     "output_type": "stream",
     "text": [
      "Hyperopt:  27%|██▋       | 267/1000 [07:55<23:56,  1.96s/it]"
     ]
    },
    {
     "name": "stdout",
     "output_type": "stream",
     "text": [
      "\n",
      " 27%|██▋       | 267/1000 [07:55<23:56,  1.96s/it, best loss: 0.22094280606376748]\u001b[A\n",
      "\u001b[AParameters with this training score 0.6796246484338022 :\n",
      "\n",
      " 27%|██▋       | 267/1000 [07:56<23:56,  1.96s/it, best loss: 0.22094280606376748]\u001b[A\n",
      "\u001b[A{'bootstrap': False, 'class_weight': 'balanced', 'criterion': 'gini', 'max_depth': 39, 'max_features': 3, 'max_leaf_nodes': 10, 'min_samples_leaf': 10, 'min_samples_split': 80, 'n_estimators': 50}\n",
      "\n",
      " 27%|██▋       | 267/1000 [07:56<23:56,  1.96s/it, best loss: 0.22094280606376748]\u001b[A"
     ]
    },
    {
     "name": "stderr",
     "output_type": "stream",
     "text": [
      "Hyperopt:  27%|██▋       | 268/1000 [07:56<18:18,  1.50s/it]"
     ]
    },
    {
     "name": "stdout",
     "output_type": "stream",
     "text": [
      "\n",
      " 27%|██▋       | 268/1000 [07:56<18:18,  1.50s/it, best loss: 0.22094280606376748]\u001b[A\n",
      "\u001b[AParameters with this training score 0.7745502402648532 :\n",
      "\n",
      " 27%|██▋       | 268/1000 [07:57<18:18,  1.50s/it, best loss: 0.22094280606376748]\u001b[A\n",
      "\u001b[A{'bootstrap': False, 'class_weight': 'balanced', 'criterion': 'gini', 'max_depth': 12, 'max_features': 3, 'max_leaf_nodes': 26, 'min_samples_leaf': 18, 'min_samples_split': 90, 'n_estimators': 350}\n",
      "\n",
      " 27%|██▋       | 268/1000 [07:57<18:18,  1.50s/it, best loss: 0.22094280606376748]\u001b[A"
     ]
    },
    {
     "name": "stderr",
     "output_type": "stream",
     "text": [
      "Hyperopt:  27%|██▋       | 269/1000 [07:57<17:41,  1.45s/it]"
     ]
    },
    {
     "name": "stdout",
     "output_type": "stream",
     "text": [
      "\n",
      " 27%|██▋       | 269/1000 [07:57<17:41,  1.45s/it, best loss: 0.22094280606376748]\u001b[A\n",
      "\u001b[AParameters with this training score 0.7763306398585502 :\n",
      "\n",
      " 27%|██▋       | 269/1000 [07:58<17:41,  1.45s/it, best loss: 0.22094280606376748]\u001b[A\n",
      "\u001b[A{'bootstrap': False, 'class_weight': 'balanced', 'criterion': 'gini', 'max_depth': 14, 'max_features': 3, 'max_leaf_nodes': 28, 'min_samples_leaf': 17, 'min_samples_split': 80, 'n_estimators': 450}\n",
      "\n",
      " 27%|██▋       | 269/1000 [07:58<17:41,  1.45s/it, best loss: 0.22094280606376748]\u001b[A"
     ]
    },
    {
     "name": "stderr",
     "output_type": "stream",
     "text": [
      "Hyperopt:  27%|██▋       | 270/1000 [07:59<17:48,  1.46s/it]"
     ]
    },
    {
     "name": "stdout",
     "output_type": "stream",
     "text": [
      "\n",
      " 27%|██▋       | 270/1000 [07:58<17:48,  1.46s/it, best loss: 0.22094280606376748]\u001b[A\n",
      "\u001b[AParameters with this training score 0.745498056415365 :\n",
      "\n",
      " 27%|██▋       | 270/1000 [07:59<17:48,  1.46s/it, best loss: 0.22094280606376748]\u001b[A\n",
      "\u001b[A{'bootstrap': False, 'class_weight': 'balanced', 'criterion': 'gini', 'max_depth': 10, 'max_features': 3, 'max_leaf_nodes': 18, 'min_samples_leaf': 5, 'min_samples_split': 20, 'n_estimators': 130}\n",
      "\n",
      " 27%|██▋       | 270/1000 [07:59<17:48,  1.46s/it, best loss: 0.22094280606376748]\u001b[A"
     ]
    },
    {
     "name": "stderr",
     "output_type": "stream",
     "text": [
      "Hyperopt:  27%|██▋       | 271/1000 [07:59<14:40,  1.21s/it]"
     ]
    },
    {
     "name": "stdout",
     "output_type": "stream",
     "text": [
      "\n",
      " 27%|██▋       | 271/1000 [07:59<14:40,  1.21s/it, best loss: 0.22094280606376748]\u001b[A\n",
      "\u001b[AParameters with this training score 0.7759950661398237 :\n",
      "\n",
      " 27%|██▋       | 271/1000 [08:00<14:40,  1.21s/it, best loss: 0.22094280606376748]\u001b[A\n",
      "\u001b[A{'bootstrap': False, 'class_weight': 'balanced', 'criterion': 'gini', 'max_depth': 47, 'max_features': 3, 'max_leaf_nodes': 26, 'min_samples_leaf': 26, 'min_samples_split': 80, 'n_estimators': 200}\n",
      "\n",
      " 27%|██▋       | 271/1000 [08:00<14:40,  1.21s/it, best loss: 0.22094280606376748]\u001b[A"
     ]
    },
    {
     "name": "stderr",
     "output_type": "stream",
     "text": [
      "Hyperopt:  27%|██▋       | 272/1000 [08:00<13:40,  1.13s/it]"
     ]
    },
    {
     "name": "stdout",
     "output_type": "stream",
     "text": [
      "\n",
      " 27%|██▋       | 272/1000 [08:00<13:40,  1.13s/it, best loss: 0.22094280606376748]\u001b[A\n",
      "\u001b[AParameters with this training score 0.755563106415876 :\n",
      "\n",
      " 27%|██▋       | 272/1000 [08:02<13:40,  1.13s/it, best loss: 0.22094280606376748]\u001b[A\n",
      "\u001b[A{'bootstrap': False, 'class_weight': 'balanced', 'criterion': 'gini', 'max_depth': 35, 'max_features': 3, 'max_leaf_nodes': 14, 'min_samples_leaf': 28, 'min_samples_split': 30, 'n_estimators': 860}\n",
      "\n",
      " 27%|██▋       | 272/1000 [08:02<13:40,  1.13s/it, best loss: 0.22094280606376748]\u001b[A"
     ]
    },
    {
     "name": "stderr",
     "output_type": "stream",
     "text": [
      "Hyperopt:  27%|██▋       | 273/1000 [08:03<18:31,  1.53s/it]"
     ]
    },
    {
     "name": "stdout",
     "output_type": "stream",
     "text": [
      "\n",
      " 27%|██▋       | 273/1000 [08:02<18:31,  1.53s/it, best loss: 0.22094280606376748]\u001b[A\n",
      "\u001b[AParameters with this training score 0.7652807477339165 :\n",
      "\n",
      " 27%|██▋       | 273/1000 [08:05<18:31,  1.53s/it, best loss: 0.22094280606376748]\u001b[A\n",
      "\u001b[A{'bootstrap': False, 'class_weight': 'balanced', 'criterion': 'gini', 'max_depth': 11, 'max_features': 3, 'max_leaf_nodes': 26, 'min_samples_leaf': 2, 'min_samples_split': 80, 'n_estimators': 800}\n",
      "\n",
      " 27%|██▋       | 273/1000 [08:05<18:31,  1.53s/it, best loss: 0.22094280606376748]\u001b[A"
     ]
    },
    {
     "name": "stderr",
     "output_type": "stream",
     "text": [
      "Hyperopt:  27%|██▋       | 274/1000 [08:05<22:39,  1.87s/it]"
     ]
    },
    {
     "name": "stdout",
     "output_type": "stream",
     "text": [
      "\n",
      " 27%|██▋       | 274/1000 [08:05<22:39,  1.87s/it, best loss: 0.22094280606376748]\u001b[A\n",
      "\u001b[AParameters with this training score 0.7406738847071427 :\n",
      "\n",
      " 27%|██▋       | 274/1000 [08:06<22:39,  1.87s/it, best loss: 0.22094280606376748]\u001b[A\n",
      "\u001b[A{'bootstrap': False, 'class_weight': 'balanced', 'criterion': 'gini', 'max_depth': 49, 'max_features': 3, 'max_leaf_nodes': 12, 'min_samples_leaf': 26, 'min_samples_split': 40, 'n_estimators': 350}\n",
      "\n",
      " 27%|██▋       | 274/1000 [08:06<22:39,  1.87s/it, best loss: 0.22094280606376748]\u001b[A"
     ]
    },
    {
     "name": "stderr",
     "output_type": "stream",
     "text": [
      "Hyperopt:  28%|██▊       | 275/1000 [08:07<20:44,  1.72s/it]"
     ]
    },
    {
     "name": "stdout",
     "output_type": "stream",
     "text": [
      "\n",
      " 28%|██▊       | 275/1000 [08:06<20:44,  1.72s/it, best loss: 0.22094280606376748]\u001b[A\n",
      "\u001b[AParameters with this training score 0.7741629584276944 :\n",
      "\n",
      " 28%|██▊       | 275/1000 [08:08<20:44,  1.72s/it, best loss: 0.22094280606376748]\u001b[A\n",
      "\u001b[A{'bootstrap': False, 'class_weight': 'balanced', 'criterion': 'gini', 'max_depth': 33, 'max_features': 4, 'max_leaf_nodes': 24, 'min_samples_leaf': 29, 'min_samples_split': 70, 'n_estimators': 500}\n",
      "\n",
      " 28%|██▊       | 275/1000 [08:08<20:44,  1.72s/it, best loss: 0.22094280606376748]\u001b[A"
     ]
    },
    {
     "name": "stderr",
     "output_type": "stream",
     "text": [
      "Hyperopt:  28%|██▊       | 276/1000 [08:08<20:49,  1.73s/it]"
     ]
    },
    {
     "name": "stdout",
     "output_type": "stream",
     "text": [
      "\n",
      " 28%|██▊       | 276/1000 [08:08<20:49,  1.73s/it, best loss: 0.22094280606376748]\u001b[A\n",
      "\u001b[AParameters with this training score 0.7733200644240938 :\n",
      "\n",
      " 28%|██▊       | 276/1000 [08:10<20:49,  1.73s/it, best loss: 0.22094280606376748]\u001b[A\n",
      "\u001b[A{'bootstrap': False, 'class_weight': 'balanced', 'criterion': 'gini', 'max_depth': 25, 'max_features': 3, 'max_leaf_nodes': 28, 'min_samples_leaf': 13, 'min_samples_split': 20, 'n_estimators': 560}\n",
      "\n",
      " 28%|██▊       | 276/1000 [08:10<20:49,  1.73s/it, best loss: 0.22094280606376748]\u001b[A"
     ]
    },
    {
     "name": "stderr",
     "output_type": "stream",
     "text": [
      "Hyperopt:  28%|██▊       | 277/1000 [08:10<21:55,  1.82s/it]"
     ]
    },
    {
     "name": "stdout",
     "output_type": "stream",
     "text": [
      "\n",
      " 28%|██▊       | 277/1000 [08:10<21:55,  1.82s/it, best loss: 0.22094280606376748]\u001b[A\n",
      "\u001b[AParameters with this training score 0.7708184128684545 :\n",
      "\n",
      " 28%|██▊       | 277/1000 [08:12<21:55,  1.82s/it, best loss: 0.22094280606376748]\u001b[A\n",
      "\u001b[A{'bootstrap': False, 'class_weight': 'balanced', 'criterion': 'gini', 'max_depth': 38, 'max_features': 3, 'max_leaf_nodes': 22, 'min_samples_leaf': 19, 'min_samples_split': 10, 'n_estimators': 440}\n",
      "\n",
      " 28%|██▊       | 277/1000 [08:12<21:55,  1.82s/it, best loss: 0.22094280606376748]\u001b[A"
     ]
    },
    {
     "name": "stderr",
     "output_type": "stream",
     "text": [
      "Hyperopt:  28%|██▊       | 278/1000 [08:12<20:58,  1.74s/it]"
     ]
    },
    {
     "name": "stdout",
     "output_type": "stream",
     "text": [
      "\n",
      " 28%|██▊       | 278/1000 [08:12<20:58,  1.74s/it, best loss: 0.22094280606376748]\u001b[A\n",
      "\u001b[AParameters with this training score 0.7654732574934675 :\n",
      "\n",
      " 28%|██▊       | 278/1000 [08:12<20:58,  1.74s/it, best loss: 0.22094280606376748]\u001b[A\n",
      "\u001b[A{'bootstrap': False, 'class_weight': 'balanced', 'criterion': 'gini', 'max_depth': 42, 'max_features': 2, 'max_leaf_nodes': 26, 'min_samples_leaf': 21, 'min_samples_split': 80, 'n_estimators': 90}\n",
      "\n",
      " 28%|██▊       | 278/1000 [08:12<20:58,  1.74s/it, best loss: 0.22094280606376748]\u001b[A"
     ]
    },
    {
     "name": "stderr",
     "output_type": "stream",
     "text": [
      "Hyperopt:  28%|██▊       | 279/1000 [08:12<16:44,  1.39s/it]"
     ]
    },
    {
     "name": "stdout",
     "output_type": "stream",
     "text": [
      "\n",
      " 28%|██▊       | 279/1000 [08:12<16:45,  1.39s/it, best loss: 0.22094280606376748]\u001b[A\n",
      "\u001b[AParameters with this training score 0.517338502724771 :\n",
      "\n",
      " 28%|██▊       | 279/1000 [08:13<16:45,  1.39s/it, best loss: 0.22094280606376748]\u001b[A\n",
      "\u001b[A{'bootstrap': False, 'class_weight': None, 'criterion': 'gini', 'max_depth': 15, 'max_features': 3, 'max_leaf_nodes': 16, 'min_samples_leaf': 20, 'min_samples_split': 60, 'n_estimators': 270}\n",
      "\n",
      " 28%|██▊       | 279/1000 [08:13<16:45,  1.39s/it, best loss: 0.22094280606376748]\u001b[A"
     ]
    },
    {
     "name": "stderr",
     "output_type": "stream",
     "text": [
      "Hyperopt:  28%|██▊       | 280/1000 [08:14<15:25,  1.28s/it]"
     ]
    },
    {
     "name": "stdout",
     "output_type": "stream",
     "text": [
      "\n",
      " 28%|██▊       | 280/1000 [08:13<15:25,  1.28s/it, best loss: 0.22094280606376748]\u001b[A\n",
      "\u001b[AParameters with this training score 0.7709126292300846 :\n",
      "\n",
      " 28%|██▊       | 280/1000 [08:15<15:25,  1.28s/it, best loss: 0.22094280606376748]\u001b[A\n",
      "\u001b[A{'bootstrap': False, 'class_weight': 'balanced', 'criterion': 'gini', 'max_depth': 27, 'max_features': 3, 'max_leaf_nodes': 26, 'min_samples_leaf': 12, 'min_samples_split': 80, 'n_estimators': 320}\n",
      "\n",
      " 28%|██▊       | 280/1000 [08:15<15:25,  1.28s/it, best loss: 0.22094280606376748]\u001b[A"
     ]
    },
    {
     "name": "stderr",
     "output_type": "stream",
     "text": [
      "Hyperopt:  28%|██▊       | 281/1000 [08:15<15:09,  1.27s/it]"
     ]
    },
    {
     "name": "stdout",
     "output_type": "stream",
     "text": [
      "\n",
      " 28%|██▊       | 281/1000 [08:15<15:09,  1.26s/it, best loss: 0.22094280606376748]\u001b[A\n",
      "\u001b[AParameters with this training score 0.7546521849294765 :\n",
      "\n",
      " 28%|██▊       | 281/1000 [08:17<15:09,  1.26s/it, best loss: 0.22094280606376748]\u001b[A\n",
      "\u001b[A{'bootstrap': False, 'class_weight': 'balanced', 'criterion': 'entropy', 'max_depth': 40, 'max_features': 3, 'max_leaf_nodes': 20, 'min_samples_leaf': 6, 'min_samples_split': 90, 'n_estimators': 600}\n",
      "\n",
      " 28%|██▊       | 281/1000 [08:17<15:09,  1.26s/it, best loss: 0.22094280606376748]\u001b[A"
     ]
    },
    {
     "name": "stderr",
     "output_type": "stream",
     "text": [
      "Hyperopt:  28%|██▊       | 282/1000 [08:17<17:47,  1.49s/it]"
     ]
    },
    {
     "name": "stdout",
     "output_type": "stream",
     "text": [
      "\n",
      " 28%|██▊       | 282/1000 [08:17<17:47,  1.49s/it, best loss: 0.22094280606376748]\u001b[A\n",
      "\u001b[AParameters with this training score 0.6625776423365395 :\n",
      "\n",
      " 28%|██▊       | 282/1000 [08:19<17:47,  1.49s/it, best loss: 0.22094280606376748]\u001b[A\n",
      "\u001b[A{'bootstrap': True, 'class_weight': 'balanced', 'criterion': 'gini', 'max_depth': 48, 'max_features': 1, 'max_leaf_nodes': 10, 'min_samples_leaf': 15, 'min_samples_split': 50, 'n_estimators': 810}\n",
      "\n",
      " 28%|██▊       | 282/1000 [08:19<17:47,  1.49s/it, best loss: 0.22094280606376748]\u001b[A"
     ]
    },
    {
     "name": "stderr",
     "output_type": "stream",
     "text": [
      "Hyperopt:  28%|██▊       | 283/1000 [08:19<22:11,  1.86s/it]"
     ]
    },
    {
     "name": "stdout",
     "output_type": "stream",
     "text": [
      "\n",
      " 28%|██▊       | 283/1000 [08:19<22:11,  1.86s/it, best loss: 0.22094280606376748]\u001b[A\n",
      "\u001b[AParameters with this training score 0.7774715307459554 :\n",
      "\n",
      " 28%|██▊       | 283/1000 [08:21<22:11,  1.86s/it, best loss: 0.22094280606376748]\u001b[A\n",
      "\u001b[A{'bootstrap': False, 'class_weight': 'balanced', 'criterion': 'gini', 'max_depth': 13, 'max_features': 4, 'max_leaf_nodes': 28, 'min_samples_leaf': 26, 'min_samples_split': 80, 'n_estimators': 710}\n",
      "\n",
      " 28%|██▊       | 283/1000 [08:21<22:11,  1.86s/it, best loss: 0.22094280606376748]\u001b[A"
     ]
    },
    {
     "name": "stderr",
     "output_type": "stream",
     "text": [
      "Hyperopt:  28%|██▊       | 284/1000 [08:22<23:13,  1.95s/it]"
     ]
    },
    {
     "name": "stdout",
     "output_type": "stream",
     "text": [
      "\n",
      " 28%|██▊       | 284/1000 [08:21<23:13,  1.95s/it, best loss: 0.22094280606376748]\u001b[A\n",
      "\u001b[AParameters with this training score 0.7624763192894333 :\n",
      "\n",
      " 28%|██▊       | 284/1000 [08:24<23:13,  1.95s/it, best loss: 0.22094280606376748]\u001b[A\n",
      "\u001b[A{'bootstrap': False, 'class_weight': 'balanced', 'criterion': 'gini', 'max_depth': 19, 'max_features': 3, 'max_leaf_nodes': 18, 'min_samples_leaf': 14, 'min_samples_split': 20, 'n_estimators': 920}\n",
      "\n",
      " 28%|██▊       | 284/1000 [08:24<23:13,  1.95s/it, best loss: 0.22094280606376748]\u001b[A"
     ]
    },
    {
     "name": "stderr",
     "output_type": "stream",
     "text": [
      "Hyperopt:  28%|██▊       | 285/1000 [08:24<26:18,  2.21s/it]"
     ]
    },
    {
     "name": "stdout",
     "output_type": "stream",
     "text": [
      "\n",
      " 28%|██▊       | 285/1000 [08:24<26:18,  2.21s/it, best loss: 0.22094280606376748]\u001b[A\n",
      "\u001b[AParameters with this training score 0.7774984986792637 :\n",
      "\n",
      " 28%|██▊       | 285/1000 [08:26<26:18,  2.21s/it, best loss: 0.22094280606376748]\u001b[A\n",
      "\u001b[A{'bootstrap': False, 'class_weight': 'balanced', 'criterion': 'gini', 'max_depth': 36, 'max_features': 3, 'max_leaf_nodes': 26, 'min_samples_leaf': 27, 'min_samples_split': 80, 'n_estimators': 400}\n",
      "\n",
      " 28%|██▊       | 285/1000 [08:26<26:18,  2.21s/it, best loss: 0.22094280606376748]\u001b[A"
     ]
    },
    {
     "name": "stderr",
     "output_type": "stream",
     "text": [
      "Hyperopt:  29%|██▊       | 286/1000 [08:26<23:38,  1.99s/it]"
     ]
    },
    {
     "name": "stdout",
     "output_type": "stream",
     "text": [
      "\n",
      " 29%|██▊       | 286/1000 [08:26<23:38,  1.99s/it, best loss: 0.22094280606376748]\u001b[A\n",
      "\u001b[AParameters with this training score 0.5 :\n",
      "\n",
      " 29%|██▊       | 286/1000 [08:28<23:38,  1.99s/it, best loss: 0.22094280606376748]\u001b[A\n",
      "\u001b[A{'bootstrap': False, 'class_weight': None, 'criterion': 'gini', 'max_depth': 1, 'max_features': 3, 'max_leaf_nodes': 26, 'min_samples_leaf': 9, 'min_samples_split': 30, 'n_estimators': 730}\n",
      "\n",
      " 29%|██▊       | 286/1000 [08:28<23:38,  1.99s/it, best loss: 0.22094280606376748]\u001b[A"
     ]
    },
    {
     "name": "stderr",
     "output_type": "stream",
     "text": [
      "Hyperopt:  29%|██▊       | 287/1000 [08:28<24:31,  2.06s/it]"
     ]
    },
    {
     "name": "stdout",
     "output_type": "stream",
     "text": [
      "\n",
      " 29%|██▊       | 287/1000 [08:28<24:30,  2.06s/it, best loss: 0.22094280606376748]\u001b[A\n",
      "\u001b[AParameters with this training score 0.7219712298496276 :\n",
      "\n",
      " 29%|██▊       | 287/1000 [08:29<24:30,  2.06s/it, best loss: 0.22094280606376748]\u001b[A\n",
      "\u001b[A{'bootstrap': False, 'class_weight': 'balanced', 'criterion': 'entropy', 'max_depth': 11, 'max_features': 2, 'max_leaf_nodes': 14, 'min_samples_leaf': 1, 'min_samples_split': 80, 'n_estimators': 80}\n",
      "\n",
      " 29%|██▊       | 287/1000 [08:29<24:30,  2.06s/it, best loss: 0.22094280606376748]\u001b[A"
     ]
    },
    {
     "name": "stderr",
     "output_type": "stream",
     "text": [
      "Hyperopt:  29%|██▉       | 288/1000 [08:29<19:08,  1.61s/it]"
     ]
    },
    {
     "name": "stdout",
     "output_type": "stream",
     "text": [
      "\n",
      " 29%|██▉       | 288/1000 [08:29<19:07,  1.61s/it, best loss: 0.22094280606376748]\u001b[A\n",
      "\u001b[AParameters with this training score 0.7430541897135082 :\n",
      "\n",
      " 29%|██▉       | 288/1000 [08:31<19:07,  1.61s/it, best loss: 0.22094280606376748]\u001b[A\n",
      "\u001b[A{'bootstrap': False, 'class_weight': 'balanced', 'criterion': 'gini', 'max_depth': 44, 'max_features': 3, 'max_leaf_nodes': 12, 'min_samples_leaf': 26, 'min_samples_split': 40, 'n_estimators': 690}\n",
      "\n",
      " 29%|██▉       | 288/1000 [08:31<19:07,  1.61s/it, best loss: 0.22094280606376748]\u001b[A"
     ]
    },
    {
     "name": "stderr",
     "output_type": "stream",
     "text": [
      "Hyperopt:  29%|██▉       | 289/1000 [08:31<21:05,  1.78s/it]"
     ]
    },
    {
     "name": "stdout",
     "output_type": "stream",
     "text": [
      "\n",
      " 29%|██▉       | 289/1000 [08:31<21:05,  1.78s/it, best loss: 0.22094280606376748]\u001b[A\n",
      "\u001b[AParameters with this training score 0.7700455411253067 :\n",
      "\n",
      " 29%|██▉       | 289/1000 [08:33<21:05,  1.78s/it, best loss: 0.22094280606376748]\u001b[A\n",
      "\u001b[A{'bootstrap': True, 'class_weight': 'balanced', 'criterion': 'gini', 'max_depth': 26, 'max_features': 3, 'max_leaf_nodes': 26, 'min_samples_leaf': 7, 'min_samples_split': 20, 'n_estimators': 570}\n",
      "\n",
      " 29%|██▉       | 289/1000 [08:33<21:05,  1.78s/it, best loss: 0.22094280606376748]\u001b[A"
     ]
    },
    {
     "name": "stderr",
     "output_type": "stream",
     "text": [
      "Hyperopt:  29%|██▉       | 290/1000 [08:33<23:08,  1.96s/it]"
     ]
    },
    {
     "name": "stdout",
     "output_type": "stream",
     "text": [
      "\n",
      " 29%|██▉       | 290/1000 [08:33<23:08,  1.96s/it, best loss: 0.22094280606376748]\u001b[A\n",
      "\u001b[AParameters with this training score 0.7528738598081921 :\n",
      "\n",
      " 29%|██▉       | 290/1000 [08:35<23:08,  1.96s/it, best loss: 0.22094280606376748]\u001b[A\n",
      "\u001b[A{'bootstrap': False, 'class_weight': 'balanced', 'criterion': 'gini', 'max_depth': 17, 'max_features': 1, 'max_leaf_nodes': 24, 'min_samples_leaf': 3, 'min_samples_split': 70, 'n_estimators': 410}\n",
      "\n",
      " 29%|██▉       | 290/1000 [08:35<23:08,  1.96s/it, best loss: 0.22094280606376748]\u001b[A"
     ]
    },
    {
     "name": "stderr",
     "output_type": "stream",
     "text": [
      "Hyperopt:  29%|██▉       | 291/1000 [08:35<21:43,  1.84s/it]"
     ]
    },
    {
     "name": "stdout",
     "output_type": "stream",
     "text": [
      "\n",
      " 29%|██▉       | 291/1000 [08:35<21:43,  1.84s/it, best loss: 0.22094280606376748]\u001b[A\n",
      "\u001b[AParameters with this training score 0.5645728035563155 :\n",
      "\n",
      " 29%|██▉       | 291/1000 [08:37<21:43,  1.84s/it, best loss: 0.22094280606376748]\u001b[A\n",
      "\u001b[A{'bootstrap': False, 'class_weight': 'balanced', 'criterion': 'gini', 'max_depth': 2, 'max_features': 3, 'max_leaf_nodes': 28, 'min_samples_leaf': 4, 'min_samples_split': 10, 'n_estimators': 750}\n",
      "\n",
      " 29%|██▉       | 291/1000 [08:37<21:43,  1.84s/it, best loss: 0.22094280606376748]\u001b[A"
     ]
    },
    {
     "name": "stderr",
     "output_type": "stream",
     "text": [
      "Hyperopt:  29%|██▉       | 292/1000 [08:37<23:21,  1.98s/it]"
     ]
    },
    {
     "name": "stdout",
     "output_type": "stream",
     "text": [
      "\n",
      " 29%|██▉       | 292/1000 [08:37<23:21,  1.98s/it, best loss: 0.22094280606376748]\u001b[A\n",
      "\u001b[AParameters with this training score 0.778126655959897 :\n",
      "\n",
      " 29%|██▉       | 292/1000 [08:37<23:21,  1.98s/it, best loss: 0.22094280606376748]\u001b[A\n",
      "\u001b[A{'bootstrap': False, 'class_weight': 'balanced', 'criterion': 'gini', 'max_depth': 39, 'max_features': 4, 'max_leaf_nodes': 26, 'min_samples_leaf': 11, 'min_samples_split': 80, 'n_estimators': 40}\n",
      "\n",
      " 29%|██▉       | 292/1000 [08:37<23:21,  1.98s/it, best loss: 0.22094280606376748]\u001b[A"
     ]
    },
    {
     "name": "stderr",
     "output_type": "stream",
     "text": [
      "Hyperopt:  29%|██▉       | 293/1000 [08:38<17:54,  1.52s/it]"
     ]
    },
    {
     "name": "stdout",
     "output_type": "stream",
     "text": [
      "\n",
      " 29%|██▉       | 293/1000 [08:37<17:54,  1.52s/it, best loss: 0.22094280606376748]\u001b[A\n",
      "\u001b[AParameters with this training score 0.5474400534769035 :\n",
      "\n",
      " 29%|██▉       | 293/1000 [08:40<17:54,  1.52s/it, best loss: 0.22094280606376748]\u001b[A\n",
      "\u001b[A{'bootstrap': False, 'class_weight': None, 'criterion': 'gini', 'max_depth': 34, 'max_features': 3, 'max_leaf_nodes': 20, 'min_samples_leaf': 26, 'min_samples_split': 60, 'n_estimators': 960}\n",
      "\n",
      " 29%|██▉       | 293/1000 [08:40<17:54,  1.52s/it, best loss: 0.22094280606376748]\u001b[A"
     ]
    },
    {
     "name": "stderr",
     "output_type": "stream",
     "text": [
      "Hyperopt:  29%|██▉       | 294/1000 [08:40<22:50,  1.94s/it]"
     ]
    },
    {
     "name": "stdout",
     "output_type": "stream",
     "text": [
      "\n",
      " 29%|██▉       | 294/1000 [08:40<22:50,  1.94s/it, best loss: 0.22094280606376748]\u001b[A\n",
      "\u001b[AParameters with this training score 0.7681089839452504 :\n",
      "\n",
      " 29%|██▉       | 294/1000 [08:42<22:50,  1.94s/it, best loss: 0.22094280606376748]\u001b[A\n",
      "\u001b[A{'bootstrap': False, 'class_weight': 'balanced', 'criterion': 'entropy', 'max_depth': 7, 'max_features': 3, 'max_leaf_nodes': 22, 'min_samples_leaf': 17, 'min_samples_split': 50, 'n_estimators': 340}\n",
      "\n",
      " 29%|██▉       | 294/1000 [08:42<22:50,  1.94s/it, best loss: 0.22094280606376748]\u001b[A"
     ]
    },
    {
     "name": "stderr",
     "output_type": "stream",
     "text": [
      "Hyperopt:  30%|██▉       | 295/1000 [08:42<20:47,  1.77s/it]"
     ]
    },
    {
     "name": "stdout",
     "output_type": "stream",
     "text": [
      "\n",
      " 30%|██▉       | 295/1000 [08:42<20:47,  1.77s/it, best loss: 0.22094280606376748]\u001b[A\n",
      "\u001b[AParameters with this training score 0.7258497990234865 :\n",
      "\n",
      " 30%|██▉       | 295/1000 [08:42<20:47,  1.77s/it, best loss: 0.22094280606376748]\u001b[A\n",
      "\u001b[A{'bootstrap': True, 'class_weight': 'balanced', 'criterion': 'gini', 'max_depth': 23, 'max_features': 3, 'max_leaf_nodes': 16, 'min_samples_leaf': 16, 'min_samples_split': 80, 'n_estimators': 110}\n",
      "\n",
      " 30%|██▉       | 295/1000 [08:42<20:47,  1.77s/it, best loss: 0.22094280606376748]\u001b[A"
     ]
    },
    {
     "name": "stderr",
     "output_type": "stream",
     "text": [
      "Hyperopt:  30%|██▉       | 296/1000 [08:43<16:59,  1.45s/it]"
     ]
    },
    {
     "name": "stdout",
     "output_type": "stream",
     "text": [
      "\n",
      " 30%|██▉       | 296/1000 [08:42<16:59,  1.45s/it, best loss: 0.22094280606376748]\u001b[A\n",
      "\u001b[AParameters with this training score 0.7720310692341281 :\n",
      "\n",
      " 30%|██▉       | 296/1000 [08:45<16:59,  1.45s/it, best loss: 0.22094280606376748]\u001b[A\n",
      "\u001b[A{'bootstrap': False, 'class_weight': 'balanced', 'criterion': 'gini', 'max_depth': 47, 'max_features': 2, 'max_leaf_nodes': 26, 'min_samples_leaf': 23, 'min_samples_split': 90, 'n_estimators': 970}\n",
      "\n",
      " 30%|██▉       | 296/1000 [08:45<16:59,  1.45s/it, best loss: 0.22094280606376748]\u001b[A"
     ]
    },
    {
     "name": "stderr",
     "output_type": "stream",
     "text": [
      "Hyperopt:  30%|██▉       | 297/1000 [08:45<21:53,  1.87s/it]"
     ]
    },
    {
     "name": "stdout",
     "output_type": "stream",
     "text": [
      "\n",
      " 30%|██▉       | 297/1000 [08:45<21:53,  1.87s/it, best loss: 0.22094280606376748]\u001b[A\n",
      "\u001b[AParameters with this training score 0.7752632311556582 :\n",
      "\n",
      " 30%|██▉       | 297/1000 [08:46<21:53,  1.87s/it, best loss: 0.22094280606376748]\u001b[A\n",
      "\u001b[A{'bootstrap': False, 'class_weight': 'balanced', 'criterion': 'gini', 'max_depth': 18, 'max_features': 3, 'max_leaf_nodes': 28, 'min_samples_leaf': 22, 'min_samples_split': 20, 'n_estimators': 120}\n",
      "\n",
      " 30%|██▉       | 297/1000 [08:46<21:53,  1.87s/it, best loss: 0.22094280606376748]\u001b[A"
     ]
    },
    {
     "name": "stderr",
     "output_type": "stream",
     "text": [
      "Hyperopt:  30%|██▉       | 298/1000 [08:46<17:19,  1.48s/it]"
     ]
    },
    {
     "name": "stdout",
     "output_type": "stream",
     "text": [
      "\n",
      " 30%|██▉       | 298/1000 [08:46<17:19,  1.48s/it, best loss: 0.22094280606376748]\u001b[A\n",
      "\u001b[AParameters with this training score 0.727763535774649 :\n",
      "\n",
      " 30%|██▉       | 298/1000 [08:48<17:19,  1.48s/it, best loss: 0.22094280606376748]\u001b[A\n",
      "\u001b[A{'bootstrap': False, 'class_weight': 'balanced', 'criterion': 'gini', 'max_depth': 11, 'max_features': 3, 'max_leaf_nodes': 10, 'min_samples_leaf': 26, 'min_samples_split': 80, 'n_estimators': 480}\n",
      "\n",
      " 30%|██▉       | 298/1000 [08:48<17:19,  1.48s/it, best loss: 0.22094280606376748]\u001b[A"
     ]
    },
    {
     "name": "stderr",
     "output_type": "stream",
     "text": [
      "Hyperopt:  30%|██▉       | 299/1000 [08:48<18:11,  1.56s/it]"
     ]
    },
    {
     "name": "stdout",
     "output_type": "stream",
     "text": [
      "\n",
      " 30%|██▉       | 299/1000 [08:48<18:11,  1.56s/it, best loss: 0.22094280606376748]\u001b[A\n",
      "\u001b[AParameters with this training score 0.4999227351432586 :\n",
      "\n",
      " 30%|██▉       | 299/1000 [08:48<18:11,  1.56s/it, best loss: 0.22094280606376748]\u001b[A\n",
      "\u001b[A{'bootstrap': False, 'class_weight': None, 'criterion': 'gini', 'max_depth': 22, 'max_features': 1, 'max_leaf_nodes': 18, 'min_samples_leaf': 8, 'min_samples_split': 80, 'n_estimators': 150}\n",
      "\n",
      " 30%|██▉       | 299/1000 [08:48<18:11,  1.56s/it, best loss: 0.22094280606376748]\u001b[A"
     ]
    },
    {
     "name": "stderr",
     "output_type": "stream",
     "text": [
      "Hyperopt:  30%|███       | 300/1000 [08:48<15:23,  1.32s/it]"
     ]
    },
    {
     "name": "stdout",
     "output_type": "stream",
     "text": [
      "\n",
      " 30%|███       | 300/1000 [08:48<15:23,  1.32s/it, best loss: 0.22094280606376748]\u001b[A\n",
      "\u001b[AParameters with this training score 0.7741132652606777 :\n",
      "\n",
      " 30%|███       | 300/1000 [08:50<15:23,  1.32s/it, best loss: 0.22094280606376748]\u001b[A\n",
      "\u001b[A{'bootstrap': False, 'class_weight': 'balanced', 'criterion': 'gini', 'max_depth': 8, 'max_features': 3, 'max_leaf_nodes': 26, 'min_samples_leaf': 26, 'min_samples_split': 30, 'n_estimators': 630}\n",
      "\n",
      " 30%|███       | 300/1000 [08:50<15:23,  1.32s/it, best loss: 0.22094280606376748]\u001b[A"
     ]
    },
    {
     "name": "stderr",
     "output_type": "stream",
     "text": [
      "Hyperopt:  30%|███       | 301/1000 [08:50<17:45,  1.52s/it]"
     ]
    },
    {
     "name": "stdout",
     "output_type": "stream",
     "text": [
      "\n",
      " 30%|███       | 301/1000 [08:50<17:45,  1.52s/it, best loss: 0.22094280606376748]\u001b[A\n",
      "\u001b[AParameters with this training score 0.7700350133828697 :\n",
      "\n",
      " 30%|███       | 301/1000 [08:53<17:45,  1.52s/it, best loss: 0.22094280606376748]\u001b[A\n",
      "\u001b[A{'bootstrap': False, 'class_weight': 'balanced', 'criterion': 'entropy', 'max_depth': 29, 'max_features': 4, 'max_leaf_nodes': 26, 'min_samples_leaf': 10, 'min_samples_split': 80, 'n_estimators': 770}\n",
      "\n",
      " 30%|███       | 301/1000 [08:53<17:45,  1.52s/it, best loss: 0.22094280606376748]\u001b[A"
     ]
    },
    {
     "name": "stderr",
     "output_type": "stream",
     "text": [
      "Hyperopt:  30%|███       | 302/1000 [08:53<21:11,  1.82s/it]"
     ]
    },
    {
     "name": "stdout",
     "output_type": "stream",
     "text": [
      "\n",
      " 30%|███       | 302/1000 [08:53<21:11,  1.82s/it, best loss: 0.22094280606376748]\u001b[A\n",
      "\u001b[AParameters with this training score 0.7386958677913136 :\n",
      "\n",
      " 30%|███       | 302/1000 [08:54<21:11,  1.82s/it, best loss: 0.22094280606376748]\u001b[A\n",
      "\u001b[A{'bootstrap': True, 'class_weight': 'balanced', 'criterion': 'gini', 'max_depth': 32, 'max_features': 3, 'max_leaf_nodes': 14, 'min_samples_leaf': 29, 'min_samples_split': 20, 'n_estimators': 380}\n",
      "\n",
      " 30%|███       | 302/1000 [08:54<21:11,  1.82s/it, best loss: 0.22094280606376748]\u001b[A"
     ]
    },
    {
     "name": "stderr",
     "output_type": "stream",
     "text": [
      "Hyperopt:  30%|███       | 303/1000 [08:54<19:52,  1.71s/it]"
     ]
    },
    {
     "name": "stdout",
     "output_type": "stream",
     "text": [
      "\n",
      " 30%|███       | 303/1000 [08:54<19:52,  1.71s/it, best loss: 0.22094280606376748]\u001b[A\n",
      "\u001b[AParameters with this training score 0.7330530463389915 :\n",
      "\n",
      " 30%|███       | 303/1000 [08:56<19:52,  1.71s/it, best loss: 0.22094280606376748]\u001b[A\n",
      "\u001b[A{'bootstrap': False, 'class_weight': 'balanced', 'criterion': 'gini', 'max_depth': 6, 'max_features': 3, 'max_leaf_nodes': 12, 'min_samples_leaf': 18, 'min_samples_split': 70, 'n_estimators': 610}\n",
      "\n",
      " 30%|███       | 303/1000 [08:56<19:52,  1.71s/it, best loss: 0.22094280606376748]\u001b[A"
     ]
    },
    {
     "name": "stderr",
     "output_type": "stream",
     "text": [
      "Hyperopt:  30%|███       | 304/1000 [08:56<20:57,  1.81s/it]"
     ]
    },
    {
     "name": "stdout",
     "output_type": "stream",
     "text": [
      "\n",
      " 30%|███       | 304/1000 [08:56<20:57,  1.81s/it, best loss: 0.22094280606376748]\u001b[A\n",
      "\u001b[AParameters with this training score 0.7565460043047781 :\n",
      "\n",
      " 30%|███       | 304/1000 [08:57<20:57,  1.81s/it, best loss: 0.22094280606376748]\u001b[A\n",
      "\u001b[A{'bootstrap': False, 'class_weight': 'balanced', 'criterion': 'gini', 'max_depth': 5, 'max_features': 3, 'max_leaf_nodes': 26, 'min_samples_leaf': 5, 'min_samples_split': 40, 'n_estimators': 220}\n",
      "\n",
      " 30%|███       | 304/1000 [08:57<20:57,  1.81s/it, best loss: 0.22094280606376748]\u001b[A"
     ]
    },
    {
     "name": "stderr",
     "output_type": "stream",
     "text": [
      "Hyperopt:  30%|███       | 305/1000 [08:57<17:55,  1.55s/it]"
     ]
    },
    {
     "name": "stdout",
     "output_type": "stream",
     "text": [
      "\n",
      " 30%|███       | 305/1000 [08:57<17:56,  1.55s/it, best loss: 0.22094280606376748]\u001b[A\n",
      "\u001b[AParameters with this training score 0.7654008079558502 :\n",
      "\n",
      " 30%|███       | 305/1000 [08:59<17:56,  1.55s/it, best loss: 0.22094280606376748]\u001b[A\n",
      "\u001b[A{'bootstrap': False, 'class_weight': 'balanced', 'criterion': 'gini', 'max_depth': 41, 'max_features': 2, 'max_leaf_nodes': 24, 'min_samples_leaf': 13, 'min_samples_split': 80, 'n_estimators': 590}\n",
      "\n",
      " 30%|███       | 305/1000 [08:59<17:56,  1.55s/it, best loss: 0.22094280606376748]\u001b[A"
     ]
    },
    {
     "name": "stderr",
     "output_type": "stream",
     "text": [
      "Hyperopt:  31%|███       | 306/1000 [08:59<19:23,  1.68s/it]"
     ]
    },
    {
     "name": "stdout",
     "output_type": "stream",
     "text": [
      "\n",
      " 31%|███       | 306/1000 [08:59<19:23,  1.68s/it, best loss: 0.22094280606376748]\u001b[A\n",
      "\u001b[AParameters with this training score 0.7784292623360471 :\n",
      "\n",
      " 31%|███       | 306/1000 [09:02<19:23,  1.68s/it, best loss: 0.22094280606376748]\u001b[A\n",
      "\u001b[A{'bootstrap': False, 'class_weight': 'balanced', 'criterion': 'gini', 'max_depth': 20, 'max_features': 3, 'max_leaf_nodes': 28, 'min_samples_leaf': 26, 'min_samples_split': 10, 'n_estimators': 650}\n",
      "\n",
      " 31%|███       | 306/1000 [09:02<19:23,  1.68s/it, best loss: 0.22094280606376748]\u001b[A"
     ]
    },
    {
     "name": "stderr",
     "output_type": "stream",
     "text": [
      "Hyperopt:  31%|███       | 307/1000 [09:02<21:20,  1.85s/it]"
     ]
    },
    {
     "name": "stdout",
     "output_type": "stream",
     "text": [
      "\n",
      " 31%|███       | 307/1000 [09:02<21:20,  1.85s/it, best loss: 0.22094280606376748]\u001b[A\n",
      "\u001b[AParameters with this training score 0.6083730400404889 :\n",
      "\n",
      " 31%|███       | 307/1000 [09:03<21:20,  1.85s/it, best loss: 0.22094280606376748]\u001b[A\n",
      "\u001b[A{'bootstrap': False, 'class_weight': None, 'criterion': 'gini', 'max_depth': 46, 'max_features': 3, 'max_leaf_nodes': 26, 'min_samples_leaf': 25, 'min_samples_split': 80, 'n_estimators': 350}\n",
      "\n",
      " 31%|███       | 307/1000 [09:03<21:20,  1.85s/it, best loss: 0.22094280606376748]\u001b[A"
     ]
    },
    {
     "name": "stderr",
     "output_type": "stream",
     "text": [
      "Hyperopt:  31%|███       | 308/1000 [09:03<19:44,  1.71s/it]"
     ]
    },
    {
     "name": "stdout",
     "output_type": "stream",
     "text": [
      "\n",
      " 31%|███       | 308/1000 [09:03<19:44,  1.71s/it, best loss: 0.22094280606376748]\u001b[A\n",
      "\u001b[AParameters with this training score 0.7519893203917944 :\n",
      "\n",
      " 31%|███       | 308/1000 [09:08<19:44,  1.71s/it, best loss: 0.22094280606376748]\u001b[A\n",
      "\u001b[A{'bootstrap': False, 'class_weight': 'balanced', 'criterion': 'entropy', 'max_depth': 45, 'max_features': 1, 'max_leaf_nodes': 22, 'min_samples_leaf': 21, 'min_samples_split': 50, 'n_estimators': 900}\n",
      "\n",
      " 31%|███       | 308/1000 [09:08<19:44,  1.71s/it, best loss: 0.22094280606376748]\u001b[A"
     ]
    },
    {
     "name": "stderr",
     "output_type": "stream",
     "text": [
      "Hyperopt:  31%|███       | 309/1000 [09:08<32:23,  2.81s/it]"
     ]
    },
    {
     "name": "stdout",
     "output_type": "stream",
     "text": [
      "\n",
      " 31%|███       | 309/1000 [09:08<32:23,  2.81s/it, best loss: 0.22094280606376748]\u001b[A\n",
      "\u001b[AParameters with this training score 0.7557219437434963 :\n",
      "\n",
      " 31%|███       | 309/1000 [09:11<32:23,  2.81s/it, best loss: 0.22094280606376748]\u001b[A\n",
      "\u001b[A{'bootstrap': True, 'class_weight': 'balanced', 'criterion': 'gini', 'max_depth': 43, 'max_features': 3, 'max_leaf_nodes': 20, 'min_samples_leaf': 2, 'min_samples_split': 60, 'n_estimators': 830}\n",
      "\n",
      " 31%|███       | 309/1000 [09:11<32:23,  2.81s/it, best loss: 0.22094280606376748]\u001b[A"
     ]
    },
    {
     "name": "stderr",
     "output_type": "stream",
     "text": [
      "Hyperopt:  31%|███       | 310/1000 [09:11<31:50,  2.77s/it]"
     ]
    },
    {
     "name": "stdout",
     "output_type": "stream",
     "text": [
      "\n",
      " 31%|███       | 310/1000 [09:11<31:50,  2.77s/it, best loss: 0.22094280606376748]\u001b[A\n",
      "\u001b[AParameters with this training score 0.7587215240540444 :\n",
      "\n",
      " 31%|███       | 310/1000 [09:13<31:50,  2.77s/it, best loss: 0.22094280606376748]\u001b[A\n",
      "\u001b[A{'bootstrap': False, 'class_weight': 'balanced', 'criterion': 'gini', 'max_depth': 30, 'max_features': 4, 'max_leaf_nodes': 16, 'min_samples_leaf': 19, 'min_samples_split': 90, 'n_estimators': 490}\n",
      "\n",
      " 31%|███       | 310/1000 [09:13<31:50,  2.77s/it, best loss: 0.22094280606376748]\u001b[A"
     ]
    },
    {
     "name": "stderr",
     "output_type": "stream",
     "text": [
      "Hyperopt:  31%|███       | 311/1000 [09:13<27:57,  2.43s/it]"
     ]
    },
    {
     "name": "stdout",
     "output_type": "stream",
     "text": [
      "\n",
      " 31%|███       | 311/1000 [09:13<27:57,  2.43s/it, best loss: 0.22094280606376748]\u001b[A\n",
      "\u001b[AParameters with this training score 0.7733286087361169 :\n",
      "\n",
      " 31%|███       | 311/1000 [09:14<27:57,  2.43s/it, best loss: 0.22094280606376748]\u001b[A\n",
      "\u001b[A{'bootstrap': False, 'class_weight': 'balanced', 'criterion': 'gini', 'max_depth': 11, 'max_features': 3, 'max_leaf_nodes': 26, 'min_samples_leaf': 12, 'min_samples_split': 80, 'n_estimators': 430}\n",
      "\n",
      " 31%|███       | 311/1000 [09:14<27:57,  2.43s/it, best loss: 0.22094280606376748]\u001b[A"
     ]
    },
    {
     "name": "stderr",
     "output_type": "stream",
     "text": [
      "Hyperopt:  31%|███       | 312/1000 [09:14<25:09,  2.19s/it]"
     ]
    },
    {
     "name": "stdout",
     "output_type": "stream",
     "text": [
      "\n",
      " 31%|███       | 312/1000 [09:14<25:09,  2.19s/it, best loss: 0.22094280606376748]\u001b[A\n",
      "\u001b[AParameters with this training score 0.7109715104129488 :\n",
      "\n",
      " 31%|███       | 312/1000 [09:15<25:09,  2.19s/it, best loss: 0.22094280606376748]\u001b[A\n",
      "\u001b[A{'bootstrap': False, 'class_weight': 'balanced', 'criterion': 'gini', 'max_depth': 37, 'max_features': 3, 'max_leaf_nodes': 10, 'min_samples_leaf': 28, 'min_samples_split': 20, 'n_estimators': 190}\n",
      "\n",
      " 31%|███       | 312/1000 [09:15<25:09,  2.19s/it, best loss: 0.22094280606376748]\u001b[A"
     ]
    },
    {
     "name": "stderr",
     "output_type": "stream",
     "text": [
      "Hyperopt:  31%|███▏      | 313/1000 [09:15<20:23,  1.78s/it]"
     ]
    },
    {
     "name": "stdout",
     "output_type": "stream",
     "text": [
      "\n",
      " 31%|███▏      | 313/1000 [09:15<20:23,  1.78s/it, best loss: 0.22094280606376748]\u001b[A\n",
      "\u001b[AParameters with this training score 0.7445565972802438 :\n",
      "\n",
      " 31%|███▏      | 313/1000 [09:17<20:23,  1.78s/it, best loss: 0.22094280606376748]\u001b[A\n",
      "\u001b[A{'bootstrap': False, 'class_weight': 'balanced', 'criterion': 'gini', 'max_depth': 4, 'max_features': 3, 'max_leaf_nodes': 28, 'min_samples_leaf': 6, 'min_samples_split': 80, 'n_estimators': 580}\n",
      "\n",
      " 31%|███▏      | 313/1000 [09:17<20:23,  1.78s/it, best loss: 0.22094280606376748]\u001b[A"
     ]
    },
    {
     "name": "stderr",
     "output_type": "stream",
     "text": [
      "Hyperopt:  31%|███▏      | 314/1000 [09:17<21:16,  1.86s/it]"
     ]
    },
    {
     "name": "stdout",
     "output_type": "stream",
     "text": [
      "\n",
      " 31%|███▏      | 314/1000 [09:17<21:16,  1.86s/it, best loss: 0.22094280606376748]\u001b[A\n",
      "\u001b[AParameters with this training score 0.5334161639074925 :\n",
      "\n",
      " 31%|███▏      | 314/1000 [09:19<21:16,  1.86s/it, best loss: 0.22094280606376748]\u001b[A\n",
      "\u001b[A{'bootstrap': False, 'class_weight': None, 'criterion': 'gini', 'max_depth': 16, 'max_features': 2, 'max_leaf_nodes': 26, 'min_samples_leaf': 24, 'min_samples_split': 30, 'n_estimators': 390}\n",
      "\n",
      " 31%|███▏      | 314/1000 [09:19<21:16,  1.86s/it, best loss: 0.22094280606376748]\u001b[A"
     ]
    },
    {
     "name": "stderr",
     "output_type": "stream",
     "text": [
      "Hyperopt:  32%|███▏      | 315/1000 [09:19<19:38,  1.72s/it]"
     ]
    },
    {
     "name": "stdout",
     "output_type": "stream",
     "text": [
      "\n",
      " 32%|███▏      | 315/1000 [09:19<19:38,  1.72s/it, best loss: 0.22094280606376748]\u001b[A\n",
      "\u001b[AParameters with this training score 0.6749620785226575 :\n",
      "\n",
      " 32%|███▏      | 315/1000 [09:22<19:38,  1.72s/it, best loss: 0.22094280606376748]\u001b[A\n",
      "\u001b[A{'bootstrap': False, 'class_weight': 'balanced', 'criterion': 'entropy', 'max_depth': 3, 'max_features': 3, 'max_leaf_nodes': 18, 'min_samples_leaf': 14, 'min_samples_split': 40, 'n_estimators': 910}\n",
      "\n",
      " 32%|███▏      | 315/1000 [09:22<19:38,  1.72s/it, best loss: 0.22094280606376748]\u001b[A"
     ]
    },
    {
     "name": "stderr",
     "output_type": "stream",
     "text": [
      "Hyperopt:  32%|███▏      | 316/1000 [09:22<24:47,  2.17s/it]"
     ]
    },
    {
     "name": "stdout",
     "output_type": "stream",
     "text": [
      "\n",
      " 32%|███▏      | 316/1000 [09:22<24:47,  2.17s/it, best loss: 0.22094280606376748]\u001b[A\n",
      "\u001b[AParameters with this training score 0.7765534234794927 :\n",
      "\n",
      " 32%|███▏      | 316/1000 [09:24<24:47,  2.17s/it, best loss: 0.22094280606376748]\u001b[A\n",
      "\u001b[A{'bootstrap': False, 'class_weight': 'balanced', 'criterion': 'gini', 'max_depth': 21, 'max_features': 3, 'max_leaf_nodes': 26, 'min_samples_leaf': 26, 'min_samples_split': 80, 'n_estimators': 640}\n",
      "\n",
      " 32%|███▏      | 316/1000 [09:24<24:47,  2.17s/it, best loss: 0.22094280606376748]\u001b[A"
     ]
    },
    {
     "name": "stderr",
     "output_type": "stream",
     "text": [
      "Hyperopt:  32%|███▏      | 317/1000 [09:24<25:00,  2.20s/it]"
     ]
    },
    {
     "name": "stdout",
     "output_type": "stream",
     "text": [
      "\n",
      " 32%|███▏      | 317/1000 [09:24<25:00,  2.20s/it, best loss: 0.22094280606376748]\u001b[A\n",
      "\u001b[AParameters with this training score 0.7639203419670324 :\n",
      "\n",
      " 32%|███▏      | 317/1000 [09:26<25:00,  2.20s/it, best loss: 0.22094280606376748]\u001b[A\n",
      "\u001b[A{'bootstrap': True, 'class_weight': 'balanced', 'criterion': 'gini', 'max_depth': 39, 'max_features': 1, 'max_leaf_nodes': 26, 'min_samples_leaf': 26, 'min_samples_split': 20, 'n_estimators': 470}\n",
      "\n",
      " 32%|███▏      | 317/1000 [09:26<25:00,  2.20s/it, best loss: 0.22094280606376748]\u001b[A"
     ]
    },
    {
     "name": "stderr",
     "output_type": "stream",
     "text": [
      "Hyperopt:  32%|███▏      | 318/1000 [09:26<23:44,  2.09s/it]"
     ]
    },
    {
     "name": "stdout",
     "output_type": "stream",
     "text": [
      "\n",
      " 32%|███▏      | 318/1000 [09:26<23:44,  2.09s/it, best loss: 0.22094280606376748]\u001b[A\n",
      "\u001b[AParameters with this training score 0.7383109548146372 :\n",
      "\n",
      " 32%|███▏      | 318/1000 [09:27<23:44,  2.09s/it, best loss: 0.22094280606376748]\u001b[A\n",
      "\u001b[A{'bootstrap': False, 'class_weight': 'balanced', 'criterion': 'gini', 'max_depth': 24, 'max_features': 3, 'max_leaf_nodes': 14, 'min_samples_leaf': 9, 'min_samples_split': 70, 'n_estimators': 460}\n",
      "\n",
      " 32%|███▏      | 318/1000 [09:27<23:44,  2.09s/it, best loss: 0.22094280606376748]\u001b[A"
     ]
    },
    {
     "name": "stderr",
     "output_type": "stream",
     "text": [
      "Hyperopt:  32%|███▏      | 319/1000 [09:27<21:43,  1.91s/it]"
     ]
    },
    {
     "name": "stdout",
     "output_type": "stream",
     "text": [
      "\n",
      " 32%|███▏      | 319/1000 [09:27<21:43,  1.91s/it, best loss: 0.22094280606376748]\u001b[A\n",
      "\u001b[AParameters with this training score 0.7202071178272179 :\n",
      "\n",
      " 32%|███▏      | 319/1000 [09:28<21:43,  1.91s/it, best loss: 0.22094280606376748]\u001b[A\n",
      "\u001b[A{'bootstrap': False, 'class_weight': 'balanced', 'criterion': 'gini', 'max_depth': 47, 'max_features': 3, 'max_leaf_nodes': 12, 'min_samples_leaf': 15, 'min_samples_split': 80, 'n_estimators': 60}\n",
      "\n",
      " 32%|███▏      | 319/1000 [09:28<21:43,  1.91s/it, best loss: 0.22094280606376748]\u001b[A"
     ]
    },
    {
     "name": "stderr",
     "output_type": "stream",
     "text": [
      "Hyperopt:  32%|███▏      | 320/1000 [09:28<17:04,  1.51s/it]"
     ]
    },
    {
     "name": "stdout",
     "output_type": "stream",
     "text": [
      "\n",
      " 32%|███▏      | 320/1000 [09:28<17:04,  1.51s/it, best loss: 0.22094280606376748]\u001b[A\n",
      "\u001b[AParameters with this training score 0.5895983975452624 :\n",
      "\n",
      " 32%|███▏      | 320/1000 [09:29<17:04,  1.51s/it, best loss: 0.22094280606376748]\u001b[A\n",
      "\u001b[A{'bootstrap': False, 'class_weight': None, 'criterion': 'gini', 'max_depth': 12, 'max_features': 4, 'max_leaf_nodes': 24, 'min_samples_leaf': 4, 'min_samples_split': 10, 'n_estimators': 210}\n",
      "\n",
      " 32%|███▏      | 320/1000 [09:29<17:04,  1.51s/it, best loss: 0.22094280606376748]\u001b[A"
     ]
    },
    {
     "name": "stderr",
     "output_type": "stream",
     "text": [
      "Hyperopt:  32%|███▏      | 321/1000 [09:29<14:47,  1.31s/it]"
     ]
    },
    {
     "name": "stdout",
     "output_type": "stream",
     "text": [
      "\n",
      " 32%|███▏      | 321/1000 [09:29<14:47,  1.31s/it, best loss: 0.22094280606376748]\u001b[A\n",
      "\u001b[AParameters with this training score 0.7766738797825363 :\n",
      "\n",
      " 32%|███▏      | 321/1000 [09:30<14:47,  1.31s/it, best loss: 0.22094280606376748]\u001b[A\n",
      "\u001b[A{'bootstrap': False, 'class_weight': 'balanced', 'criterion': 'gini', 'max_depth': 28, 'max_features': 3, 'max_leaf_nodes': 28, 'min_samples_leaf': 27, 'min_samples_split': 60, 'n_estimators': 290}\n",
      "\n",
      " 32%|███▏      | 321/1000 [09:30<14:47,  1.31s/it, best loss: 0.22094280606376748]\u001b[A"
     ]
    },
    {
     "name": "stderr",
     "output_type": "stream",
     "text": [
      "Hyperopt:  32%|███▏      | 322/1000 [09:30<14:25,  1.28s/it]"
     ]
    },
    {
     "name": "stdout",
     "output_type": "stream",
     "text": [
      "\n",
      " 32%|███▏      | 322/1000 [09:30<14:25,  1.28s/it, best loss: 0.22094280606376748]\u001b[A\n",
      "\u001b[AParameters with this training score 0.7505858022891999 :\n",
      "\n",
      " 32%|███▏      | 322/1000 [09:32<14:25,  1.28s/it, best loss: 0.22094280606376748]\u001b[A\n",
      "\u001b[A{'bootstrap': False, 'class_weight': 'balanced', 'criterion': 'entropy', 'max_depth': 9, 'max_features': 3, 'max_leaf_nodes': 22, 'min_samples_leaf': 1, 'min_samples_split': 80, 'n_estimators': 760}\n",
      "\n",
      " 32%|███▏      | 322/1000 [09:32<14:25,  1.28s/it, best loss: 0.22094280606376748]\u001b[A"
     ]
    },
    {
     "name": "stderr",
     "output_type": "stream",
     "text": [
      "Hyperopt:  32%|███▏      | 323/1000 [09:33<18:36,  1.65s/it]"
     ]
    },
    {
     "name": "stdout",
     "output_type": "stream",
     "text": [
      "\n",
      " 32%|███▏      | 323/1000 [09:32<18:36,  1.65s/it, best loss: 0.22094280606376748]\u001b[A\n",
      "\u001b[AParameters with this training score 0.7687569735374525 :\n",
      "\n",
      " 32%|███▏      | 323/1000 [09:35<18:36,  1.65s/it, best loss: 0.22094280606376748]\u001b[A\n",
      "\u001b[A{'bootstrap': False, 'class_weight': 'balanced', 'criterion': 'gini', 'max_depth': 11, 'max_features': 2, 'max_leaf_nodes': 26, 'min_samples_leaf': 20, 'min_samples_split': 50, 'n_estimators': 660}\n",
      "\n",
      " 32%|███▏      | 323/1000 [09:35<18:36,  1.65s/it, best loss: 0.22094280606376748]\u001b[A"
     ]
    },
    {
     "name": "stderr",
     "output_type": "stream",
     "text": [
      "Hyperopt:  32%|███▏      | 324/1000 [09:35<20:16,  1.80s/it]"
     ]
    },
    {
     "name": "stdout",
     "output_type": "stream",
     "text": [
      "\n",
      " 32%|███▏      | 324/1000 [09:35<20:16,  1.80s/it, best loss: 0.22094280606376748]\u001b[A\n",
      "\u001b[AParameters with this training score 0.7559463649840984 :\n",
      "\n",
      " 32%|███▏      | 324/1000 [09:37<20:16,  1.80s/it, best loss: 0.22094280606376748]\u001b[A\n",
      "\u001b[A{'bootstrap': True, 'class_weight': 'balanced', 'criterion': 'gini', 'max_depth': 49, 'max_features': 3, 'max_leaf_nodes': 20, 'min_samples_leaf': 7, 'min_samples_split': 90, 'n_estimators': 550}\n",
      "\n",
      " 32%|███▏      | 324/1000 [09:37<20:16,  1.80s/it, best loss: 0.22094280606376748]\u001b[A"
     ]
    },
    {
     "name": "stderr",
     "output_type": "stream",
     "text": [
      "Hyperopt:  32%|███▎      | 325/1000 [09:37<21:16,  1.89s/it]"
     ]
    },
    {
     "name": "stdout",
     "output_type": "stream",
     "text": [
      "\n",
      " 32%|███▎      | 325/1000 [09:37<21:17,  1.89s/it, best loss: 0.22094280606376748]\u001b[A\n",
      "\u001b[AParameters with this training score 0.7474462204860337 :\n",
      "\n",
      " 32%|███▎      | 325/1000 [09:40<21:17,  1.89s/it, best loss: 0.22094280606376748]\u001b[A\n",
      "\u001b[A{'bootstrap': False, 'class_weight': 'balanced', 'criterion': 'gini', 'max_depth': 14, 'max_features': 3, 'max_leaf_nodes': 16, 'min_samples_leaf': 3, 'min_samples_split': 80, 'n_estimators': 930}\n",
      "\n",
      " 32%|███▎      | 325/1000 [09:40<21:17,  1.89s/it, best loss: 0.22094280606376748]\u001b[A"
     ]
    },
    {
     "name": "stderr",
     "output_type": "stream",
     "text": [
      "Hyperopt:  33%|███▎      | 326/1000 [09:40<24:58,  2.22s/it]"
     ]
    },
    {
     "name": "stdout",
     "output_type": "stream",
     "text": [
      "\n",
      " 33%|███▎      | 326/1000 [09:40<24:58,  2.22s/it, best loss: 0.22094280606376748]\u001b[A\n",
      "\u001b[AParameters with this training score 0.7578311603663931 :\n",
      "\n",
      " 33%|███▎      | 326/1000 [09:41<24:58,  2.22s/it, best loss: 0.22094280606376748]\u001b[A\n",
      "\u001b[A{'bootstrap': False, 'class_weight': 'balanced', 'criterion': 'gini', 'max_depth': 10, 'max_features': 1, 'max_leaf_nodes': 26, 'min_samples_leaf': 26, 'min_samples_split': 20, 'n_estimators': 350}\n",
      "\n",
      " 33%|███▎      | 326/1000 [09:41<24:58,  2.22s/it, best loss: 0.22094280606376748]\u001b[A"
     ]
    },
    {
     "name": "stderr",
     "output_type": "stream",
     "text": [
      "Hyperopt:  33%|███▎      | 327/1000 [09:41<21:35,  1.92s/it]"
     ]
    },
    {
     "name": "stdout",
     "output_type": "stream",
     "text": [
      "\n",
      " 33%|███▎      | 327/1000 [09:41<21:35,  1.92s/it, best loss: 0.22094280606376748]\u001b[A\n",
      "\u001b[AParameters with this training score 0.7087029981715564 :\n",
      "\n",
      " 33%|███▎      | 327/1000 [09:43<21:35,  1.92s/it, best loss: 0.22094280606376748]\u001b[A\n",
      "\u001b[A{'bootstrap': False, 'class_weight': 'balanced', 'criterion': 'gini', 'max_depth': 35, 'max_features': 3, 'max_leaf_nodes': 10, 'min_samples_leaf': 11, 'min_samples_split': 80, 'n_estimators': 420}\n",
      "\n",
      " 33%|███▎      | 327/1000 [09:43<21:35,  1.92s/it, best loss: 0.22094280606376748]\u001b[A"
     ]
    },
    {
     "name": "stderr",
     "output_type": "stream",
     "text": [
      "Hyperopt:  33%|███▎      | 328/1000 [09:43<20:24,  1.82s/it]"
     ]
    },
    {
     "name": "stdout",
     "output_type": "stream",
     "text": [
      "\n",
      " 33%|███▎      | 328/1000 [09:43<20:24,  1.82s/it, best loss: 0.22094280606376748]\u001b[A\n",
      "\u001b[AParameters with this training score 0.6551090276073191 :\n",
      "\n",
      " 33%|███▎      | 328/1000 [09:43<20:24,  1.82s/it, best loss: 0.22094280606376748]\u001b[A\n",
      "\u001b[A{'bootstrap': False, 'class_weight': None, 'criterion': 'gini', 'max_depth': 42, 'max_features': 4, 'max_leaf_nodes': 28, 'min_samples_leaf': 16, 'min_samples_split': 30, 'n_estimators': 170}\n",
      "\n",
      " 33%|███▎      | 328/1000 [09:43<20:24,  1.82s/it, best loss: 0.22094280606376748]\u001b[A"
     ]
    },
    {
     "name": "stderr",
     "output_type": "stream",
     "text": [
      "Hyperopt:  33%|███▎      | 329/1000 [09:43<17:00,  1.52s/it]"
     ]
    },
    {
     "name": "stdout",
     "output_type": "stream",
     "text": [
      "\n",
      " 33%|███▎      | 329/1000 [09:43<17:00,  1.52s/it, best loss: 0.22094280606376748]\u001b[A\n",
      "\u001b[AParameters with this training score 0.7738627784724642 :\n",
      "\n",
      " 33%|███▎      | 329/1000 [09:44<17:00,  1.52s/it, best loss: 0.22094280606376748]\u001b[A\n",
      "\u001b[A{'bootstrap': False, 'class_weight': 'balanced', 'criterion': 'entropy', 'max_depth': 38, 'max_features': 3, 'max_leaf_nodes': 26, 'min_samples_leaf': 23, 'min_samples_split': 80, 'n_estimators': 240}\n",
      "\n",
      " 33%|███▎      | 329/1000 [09:44<17:00,  1.52s/it, best loss: 0.22094280606376748]\u001b[A"
     ]
    },
    {
     "name": "stderr",
     "output_type": "stream",
     "text": [
      "Hyperopt:  33%|███▎      | 330/1000 [09:44<15:08,  1.36s/it]"
     ]
    },
    {
     "name": "stdout",
     "output_type": "stream",
     "text": [
      "\n",
      " 33%|███▎      | 330/1000 [09:44<15:08,  1.36s/it, best loss: 0.22094280606376748]\u001b[A\n",
      "\u001b[AParameters with this training score 0.7657705435342745 :\n",
      "\n",
      " 33%|███▎      | 330/1000 [09:46<15:08,  1.36s/it, best loss: 0.22094280606376748]\u001b[A\n",
      "\u001b[A{'bootstrap': False, 'class_weight': 'balanced', 'criterion': 'gini', 'max_depth': 33, 'max_features': 3, 'max_leaf_nodes': 18, 'min_samples_leaf': 17, 'min_samples_split': 40, 'n_estimators': 360}\n",
      "\n",
      " 33%|███▎      | 330/1000 [09:46<15:08,  1.36s/it, best loss: 0.22094280606376748]\u001b[A"
     ]
    },
    {
     "name": "stderr",
     "output_type": "stream",
     "text": [
      "Hyperopt:  33%|███▎      | 331/1000 [09:46<15:19,  1.37s/it]"
     ]
    },
    {
     "name": "stdout",
     "output_type": "stream",
     "text": [
      "\n",
      " 33%|███▎      | 331/1000 [09:46<15:19,  1.37s/it, best loss: 0.22094280606376748]\u001b[A\n",
      "\u001b[AParameters with this training score 0.7751085051621229 :\n",
      "\n",
      " 33%|███▎      | 331/1000 [09:48<15:19,  1.37s/it, best loss: 0.22094280606376748]\u001b[A\n",
      "\u001b[A{'bootstrap': True, 'class_weight': 'balanced', 'criterion': 'gini', 'max_depth': 27, 'max_features': 3, 'max_leaf_nodes': 26, 'min_samples_leaf': 26, 'min_samples_split': 20, 'n_estimators': 540}\n",
      "\n",
      " 33%|███▎      | 331/1000 [09:48<15:19,  1.37s/it, best loss: 0.22094280606376748]\u001b[A"
     ]
    },
    {
     "name": "stderr",
     "output_type": "stream",
     "text": [
      "Hyperopt:  33%|███▎      | 332/1000 [09:48<17:13,  1.55s/it]"
     ]
    },
    {
     "name": "stdout",
     "output_type": "stream",
     "text": [
      "\n",
      " 33%|███▎      | 332/1000 [09:48<17:13,  1.55s/it, best loss: 0.22094280606376748]\u001b[A\n",
      "\u001b[AParameters with this training score 0.7734406635999381 :\n",
      "\n",
      " 33%|███▎      | 332/1000 [09:49<17:13,  1.55s/it, best loss: 0.22094280606376748]\u001b[A\n",
      "\u001b[A{'bootstrap': False, 'class_weight': 'balanced', 'criterion': 'gini', 'max_depth': 15, 'max_features': 2, 'max_leaf_nodes': 26, 'min_samples_leaf': 25, 'min_samples_split': 70, 'n_estimators': 370}\n",
      "\n",
      " 33%|███▎      | 332/1000 [09:49<17:13,  1.55s/it, best loss: 0.22094280606376748]\u001b[A"
     ]
    },
    {
     "name": "stderr",
     "output_type": "stream",
     "text": [
      "Hyperopt:  33%|███▎      | 333/1000 [09:49<16:31,  1.49s/it]"
     ]
    },
    {
     "name": "stdout",
     "output_type": "stream",
     "text": [
      "\n",
      " 33%|███▎      | 333/1000 [09:49<16:31,  1.49s/it, best loss: 0.22094280606376748]\u001b[A\n",
      "\u001b[AParameters with this training score 0.7324182390713025 :\n",
      "\n",
      " 33%|███▎      | 333/1000 [09:49<16:31,  1.49s/it, best loss: 0.22094280606376748]\u001b[A\n",
      "\u001b[A{'bootstrap': False, 'class_weight': 'balanced', 'criterion': 'gini', 'max_depth': 25, 'max_features': 3, 'max_leaf_nodes': 14, 'min_samples_leaf': 22, 'min_samples_split': 10, 'n_estimators': 20}\n",
      "\n",
      " 33%|███▎      | 333/1000 [09:49<16:31,  1.49s/it, best loss: 0.22094280606376748]\u001b[A"
     ]
    },
    {
     "name": "stderr",
     "output_type": "stream",
     "text": [
      "Hyperopt:  33%|███▎      | 334/1000 [09:50<12:54,  1.16s/it]"
     ]
    },
    {
     "name": "stdout",
     "output_type": "stream",
     "text": [
      "\n",
      " 33%|███▎      | 334/1000 [09:49<12:54,  1.16s/it, best loss: 0.22094280606376748]\u001b[A\n",
      "\u001b[AParameters with this training score 0.7336139877285948 :\n",
      "\n",
      " 33%|███▎      | 334/1000 [09:52<12:54,  1.16s/it, best loss: 0.22094280606376748]\u001b[A\n",
      "\u001b[A{'bootstrap': False, 'class_weight': 'balanced', 'criterion': 'gini', 'max_depth': 48, 'max_features': 3, 'max_leaf_nodes': 12, 'min_samples_leaf': 8, 'min_samples_split': 80, 'n_estimators': 940}\n",
      "\n",
      " 33%|███▎      | 334/1000 [09:52<12:54,  1.16s/it, best loss: 0.22094280606376748]\u001b[A"
     ]
    },
    {
     "name": "stderr",
     "output_type": "stream",
     "text": [
      "Hyperopt:  34%|███▎      | 335/1000 [09:53<18:48,  1.70s/it]"
     ]
    },
    {
     "name": "stdout",
     "output_type": "stream",
     "text": [
      "\n",
      " 34%|███▎      | 335/1000 [09:52<18:48,  1.70s/it, best loss: 0.22094280606376748]\u001b[A\n",
      "\u001b[AParameters with this training score 0.5026043424173563 :\n",
      "\n",
      " 34%|███▎      | 335/1000 [09:55<18:48,  1.70s/it, best loss: 0.22094280606376748]\u001b[A\n",
      "\u001b[A{'bootstrap': False, 'class_weight': None, 'criterion': 'gini', 'max_depth': 36, 'max_features': 1, 'max_leaf_nodes': 24, 'min_samples_leaf': 26, 'min_samples_split': 80, 'n_estimators': 620}\n",
      "\n",
      " 34%|███▎      | 335/1000 [09:55<18:48,  1.70s/it, best loss: 0.22094280606376748]\u001b[A"
     ]
    },
    {
     "name": "stderr",
     "output_type": "stream",
     "text": [
      "Hyperopt:  34%|███▎      | 336/1000 [09:55<20:29,  1.85s/it]"
     ]
    },
    {
     "name": "stdout",
     "output_type": "stream",
     "text": [
      "\n",
      " 34%|███▎      | 336/1000 [09:55<20:29,  1.85s/it, best loss: 0.22094280606376748]\u001b[A\n",
      "\u001b[AParameters with this training score 0.7690894496595897 :\n",
      "\n",
      " 34%|███▎      | 336/1000 [09:56<20:29,  1.85s/it, best loss: 0.22094280606376748]\u001b[A\n",
      "\u001b[A{'bootstrap': False, 'class_weight': 'balanced', 'criterion': 'entropy', 'max_depth': 19, 'max_features': 3, 'max_leaf_nodes': 28, 'min_samples_leaf': 10, 'min_samples_split': 50, 'n_estimators': 510}\n",
      "\n",
      " 34%|███▎      | 336/1000 [09:56<20:29,  1.85s/it, best loss: 0.22094280606376748]\u001b[A"
     ]
    },
    {
     "name": "stderr",
     "output_type": "stream",
     "text": [
      "Hyperopt:  34%|███▎      | 337/1000 [09:56<20:08,  1.82s/it]"
     ]
    },
    {
     "name": "stdout",
     "output_type": "stream",
     "text": [
      "\n",
      " 34%|███▎      | 337/1000 [09:56<20:08,  1.82s/it, best loss: 0.22094280606376748]\u001b[A\n",
      "\u001b[AParameters with this training score 0.7705762942379593 :\n",
      "\n",
      " 34%|███▎      | 337/1000 [09:59<20:08,  1.82s/it, best loss: 0.22094280606376748]\u001b[A\n",
      "\u001b[A{'bootstrap': False, 'class_weight': 'balanced', 'criterion': 'gini', 'max_depth': 11, 'max_features': 4, 'max_leaf_nodes': 22, 'min_samples_leaf': 18, 'min_samples_split': 60, 'n_estimators': 720}\n",
      "\n",
      " 34%|███▎      | 337/1000 [09:59<20:08,  1.82s/it, best loss: 0.22094280606376748]\u001b[A"
     ]
    },
    {
     "name": "stderr",
     "output_type": "stream",
     "text": [
      "Hyperopt:  34%|███▍      | 338/1000 [09:59<21:54,  1.99s/it]"
     ]
    },
    {
     "name": "stdout",
     "output_type": "stream",
     "text": [
      "\n",
      " 34%|███▍      | 338/1000 [09:59<21:54,  1.99s/it, best loss: 0.22094280606376748]\u001b[A\n",
      "\u001b[AParameters with this training score 0.7693829291093379 :\n",
      "\n",
      " 34%|███▍      | 338/1000 [10:02<21:54,  1.99s/it, best loss: 0.22094280606376748]\u001b[A\n",
      "\u001b[A{'bootstrap': True, 'class_weight': 'balanced', 'criterion': 'gini', 'max_depth': 40, 'max_features': 3, 'max_leaf_nodes': 26, 'min_samples_leaf': 29, 'min_samples_split': 90, 'n_estimators': 880}\n",
      "\n",
      " 34%|███▍      | 338/1000 [10:02<21:54,  1.99s/it, best loss: 0.22094280606376748]\u001b[A"
     ]
    },
    {
     "name": "stderr",
     "output_type": "stream",
     "text": [
      "Hyperopt:  34%|███▍      | 339/1000 [10:02<25:44,  2.34s/it]"
     ]
    },
    {
     "name": "stdout",
     "output_type": "stream",
     "text": [
      "\n",
      " 34%|███▍      | 339/1000 [10:02<25:44,  2.34s/it, best loss: 0.22094280606376748]\u001b[A\n",
      "\u001b[AParameters with this training score 0.7571718517737922 :\n",
      "\n",
      " 34%|███▍      | 339/1000 [10:03<25:44,  2.34s/it, best loss: 0.22094280606376748]\u001b[A\n",
      "\u001b[A{'bootstrap': False, 'class_weight': 'balanced', 'criterion': 'gini', 'max_depth': 31, 'max_features': 3, 'max_leaf_nodes': 20, 'min_samples_leaf': 5, 'min_samples_split': 80, 'n_estimators': 300}\n",
      "\n",
      " 34%|███▍      | 339/1000 [10:03<25:44,  2.34s/it, best loss: 0.22094280606376748]\u001b[A"
     ]
    },
    {
     "name": "stderr",
     "output_type": "stream",
     "text": [
      "Hyperopt:  34%|███▍      | 340/1000 [10:03<21:20,  1.94s/it]"
     ]
    },
    {
     "name": "stdout",
     "output_type": "stream",
     "text": [
      "\n",
      " 34%|███▍      | 340/1000 [10:03<21:20,  1.94s/it, best loss: 0.22094280606376748]\u001b[A\n",
      "\u001b[AParameters with this training score 0.7426404577309075 :\n",
      "\n",
      " 34%|███▍      | 340/1000 [10:04<21:20,  1.94s/it, best loss: 0.22094280606376748]\u001b[A\n",
      "\u001b[A{'bootstrap': False, 'class_weight': 'balanced', 'criterion': 'gini', 'max_depth': 13, 'max_features': 3, 'max_leaf_nodes': 16, 'min_samples_leaf': 2, 'min_samples_split': 20, 'n_estimators': 140}\n",
      "\n",
      " 34%|███▍      | 340/1000 [10:04<21:20,  1.94s/it, best loss: 0.22094280606376748]\u001b[A"
     ]
    },
    {
     "name": "stderr",
     "output_type": "stream",
     "text": [
      "Hyperopt:  34%|███▍      | 341/1000 [10:04<17:09,  1.56s/it]"
     ]
    },
    {
     "name": "stdout",
     "output_type": "stream",
     "text": [
      "\n",
      " 34%|███▍      | 341/1000 [10:04<17:09,  1.56s/it, best loss: 0.22094280606376748]\u001b[A\n",
      "\u001b[AParameters with this training score 0.7694854251794276 :\n",
      "\n",
      " 34%|███▍      | 341/1000 [10:06<17:09,  1.56s/it, best loss: 0.22094280606376748]\u001b[A\n",
      "\u001b[A{'bootstrap': False, 'class_weight': 'balanced', 'criterion': 'gini', 'max_depth': 39, 'max_features': 2, 'max_leaf_nodes': 26, 'min_samples_leaf': 13, 'min_samples_split': 80, 'n_estimators': 950}\n",
      "\n",
      " 34%|███▍      | 341/1000 [10:06<17:09,  1.56s/it, best loss: 0.22094280606376748]\u001b[A"
     ]
    },
    {
     "name": "stderr",
     "output_type": "stream",
     "text": [
      "Hyperopt:  34%|███▍      | 342/1000 [10:07<21:21,  1.95s/it]"
     ]
    },
    {
     "name": "stdout",
     "output_type": "stream",
     "text": [
      "\n",
      " 34%|███▍      | 342/1000 [10:06<21:21,  1.95s/it, best loss: 0.22094280606376748]\u001b[A\n",
      "\u001b[AParameters with this training score 0.552353235900165 :\n",
      "\n",
      " 34%|███▍      | 342/1000 [10:07<21:21,  1.95s/it, best loss: 0.22094280606376748]\u001b[A\n",
      "\u001b[A{'bootstrap': False, 'class_weight': None, 'criterion': 'gini', 'max_depth': 26, 'max_features': 3, 'max_leaf_nodes': 10, 'min_samples_leaf': 26, 'min_samples_split': 30, 'n_estimators': 10}\n",
      "\n",
      " 34%|███▍      | 342/1000 [10:07<21:21,  1.95s/it, best loss: 0.22094280606376748]\u001b[A"
     ]
    },
    {
     "name": "stderr",
     "output_type": "stream",
     "text": [
      "Hyperopt:  34%|███▍      | 343/1000 [10:07<16:15,  1.48s/it]"
     ]
    },
    {
     "name": "stdout",
     "output_type": "stream",
     "text": [
      "\n",
      " 34%|███▍      | 343/1000 [10:07<16:15,  1.48s/it, best loss: 0.22094280606376748]\u001b[A\n",
      "\u001b[AParameters with this training score 0.7715821519315571 :\n",
      "\n",
      " 34%|███▍      | 343/1000 [10:08<16:15,  1.48s/it, best loss: 0.22094280606376748]\u001b[A\n",
      "\u001b[A{'bootstrap': False, 'class_weight': 'balanced', 'criterion': 'entropy', 'max_depth': 44, 'max_features': 3, 'max_leaf_nodes': 26, 'min_samples_leaf': 28, 'min_samples_split': 80, 'n_estimators': 180}\n",
      "\n",
      " 34%|███▍      | 343/1000 [10:08<16:15,  1.48s/it, best loss: 0.22094280606376748]\u001b[A"
     ]
    },
    {
     "name": "stderr",
     "output_type": "stream",
     "text": [
      "Hyperopt:  34%|███▍      | 344/1000 [10:08<14:05,  1.29s/it]"
     ]
    },
    {
     "name": "stdout",
     "output_type": "stream",
     "text": [
      "\n",
      " 34%|███▍      | 344/1000 [10:08<14:05,  1.29s/it, best loss: 0.22094280606376748]\u001b[A\n",
      "\u001b[AParameters with this training score 0.7753856165776057 :\n",
      "\n",
      " 34%|███▍      | 344/1000 [10:09<14:05,  1.29s/it, best loss: 0.22094280606376748]\u001b[A\n",
      "\u001b[A{'bootstrap': False, 'class_weight': 'balanced', 'criterion': 'gini', 'max_depth': 34, 'max_features': 3, 'max_leaf_nodes': 28, 'min_samples_leaf': 19, 'min_samples_split': 40, 'n_estimators': 410}\n",
      "\n",
      " 34%|███▍      | 344/1000 [10:09<14:05,  1.29s/it, best loss: 0.22094280606376748]\u001b[A"
     ]
    },
    {
     "name": "stderr",
     "output_type": "stream",
     "text": [
      "Hyperopt:  34%|███▍      | 345/1000 [10:09<14:21,  1.31s/it]"
     ]
    },
    {
     "name": "stdout",
     "output_type": "stream",
     "text": [
      "\n",
      " 34%|███▍      | 345/1000 [10:09<14:21,  1.32s/it, best loss: 0.22094280606376748]\u001b[A\n",
      "\u001b[AParameters with this training score 0.7636834347367714 :\n",
      "\n",
      " 34%|███▍      | 345/1000 [10:11<14:21,  1.32s/it, best loss: 0.22094280606376748]\u001b[A\n",
      "\u001b[A{'bootstrap': True, 'class_weight': 'balanced', 'criterion': 'gini', 'max_depth': 17, 'max_features': 1, 'max_leaf_nodes': 26, 'min_samples_leaf': 21, 'min_samples_split': 20, 'n_estimators': 700}\n",
      "\n",
      " 34%|███▍      | 345/1000 [10:11<14:21,  1.32s/it, best loss: 0.22094280606376748]\u001b[A"
     ]
    },
    {
     "name": "stderr",
     "output_type": "stream",
     "text": [
      "Hyperopt:  35%|███▍      | 346/1000 [10:12<17:56,  1.65s/it]"
     ]
    },
    {
     "name": "stdout",
     "output_type": "stream",
     "text": [
      "\n",
      " 35%|███▍      | 346/1000 [10:11<17:57,  1.65s/it, best loss: 0.22094280606376748]\u001b[A\n",
      "\u001b[AParameters with this training score 0.5074478468784871 :\n",
      "\n",
      " 35%|███▍      | 346/1000 [10:13<17:57,  1.65s/it, best loss: 0.22094280606376748]\u001b[A\n",
      "\u001b[A{'bootstrap': False, 'class_weight': 'balanced', 'criterion': 'gini', 'max_depth': 1, 'max_features': 3, 'max_leaf_nodes': 18, 'min_samples_leaf': 24, 'min_samples_split': 80, 'n_estimators': 330}\n",
      "\n",
      " 35%|███▍      | 346/1000 [10:13<17:57,  1.65s/it, best loss: 0.22094280606376748]\u001b[A"
     ]
    },
    {
     "name": "stderr",
     "output_type": "stream",
     "text": [
      "Hyperopt:  35%|███▍      | 347/1000 [10:13<16:52,  1.55s/it]"
     ]
    },
    {
     "name": "stdout",
     "output_type": "stream",
     "text": [
      "\n",
      " 35%|███▍      | 347/1000 [10:13<16:52,  1.55s/it, best loss: 0.22094280606376748]\u001b[A\n",
      "\u001b[AParameters with this training score 0.7688582685925651 :\n",
      "\n",
      " 35%|███▍      | 347/1000 [10:14<16:52,  1.55s/it, best loss: 0.22094280606376748]\u001b[A\n",
      "\u001b[A{'bootstrap': False, 'class_weight': 'balanced', 'criterion': 'gini', 'max_depth': 47, 'max_features': 4, 'max_leaf_nodes': 26, 'min_samples_leaf': 6, 'min_samples_split': 70, 'n_estimators': 350}\n",
      "\n",
      " 35%|███▍      | 347/1000 [10:14<16:52,  1.55s/it, best loss: 0.22094280606376748]\u001b[A"
     ]
    },
    {
     "name": "stderr",
     "output_type": "stream",
     "text": [
      "Hyperopt:  35%|███▍      | 348/1000 [10:14<16:09,  1.49s/it]"
     ]
    },
    {
     "name": "stdout",
     "output_type": "stream",
     "text": [
      "\n",
      " 35%|███▍      | 348/1000 [10:14<16:09,  1.49s/it, best loss: 0.22094280606376748]\u001b[A\n",
      "\u001b[AParameters with this training score 0.7447148470960869 :\n",
      "\n",
      " 35%|███▍      | 348/1000 [10:17<16:09,  1.49s/it, best loss: 0.22094280606376748]\u001b[A\n",
      "\u001b[A{'bootstrap': False, 'class_weight': 'balanced', 'criterion': 'gini', 'max_depth': 8, 'max_features': 3, 'max_leaf_nodes': 14, 'min_samples_leaf': 12, 'min_samples_split': 10, 'n_estimators': 740}\n",
      "\n",
      " 35%|███▍      | 348/1000 [10:17<16:09,  1.49s/it, best loss: 0.22094280606376748]\u001b[A"
     ]
    },
    {
     "name": "stderr",
     "output_type": "stream",
     "text": [
      "Hyperopt:  35%|███▍      | 349/1000 [10:17<19:09,  1.77s/it]"
     ]
    },
    {
     "name": "stdout",
     "output_type": "stream",
     "text": [
      "\n",
      " 35%|███▍      | 349/1000 [10:17<19:09,  1.77s/it, best loss: 0.22094280606376748]\u001b[A\n",
      "\u001b[AParameters with this training score 0.5006355158540419 :\n",
      "\n",
      " 35%|███▍      | 349/1000 [10:19<19:09,  1.77s/it, best loss: 0.22094280606376748]\u001b[A\n",
      "\u001b[A{'bootstrap': False, 'class_weight': None, 'criterion': 'gini', 'max_depth': 7, 'max_features': 3, 'max_leaf_nodes': 12, 'min_samples_leaf': 26, 'min_samples_split': 80, 'n_estimators': 820}\n",
      "\n",
      " 35%|███▍      | 349/1000 [10:19<19:09,  1.77s/it, best loss: 0.22094280606376748]\u001b[A"
     ]
    },
    {
     "name": "stderr",
     "output_type": "stream",
     "text": [
      "Hyperopt:  35%|███▌      | 350/1000 [10:19<21:36,  1.99s/it]"
     ]
    },
    {
     "name": "stdout",
     "output_type": "stream",
     "text": [
      "\n",
      " 35%|███▌      | 350/1000 [10:19<21:36,  1.99s/it, best loss: 0.22094280606376748]\u001b[A\n",
      "\u001b[AParameters with this training score 0.5487668457246808 :\n",
      "\n",
      " 35%|███▌      | 350/1000 [10:21<21:36,  1.99s/it, best loss: 0.22094280606376748]\u001b[A\n",
      "\u001b[A{'bootstrap': False, 'class_weight': 'balanced', 'criterion': 'entropy', 'max_depth': 2, 'max_features': 2, 'max_leaf_nodes': 28, 'min_samples_leaf': 26, 'min_samples_split': 60, 'n_estimators': 850}\n",
      "\n",
      " 35%|███▌      | 350/1000 [10:22<21:36,  1.99s/it, best loss: 0.22094280606376748]\u001b[A"
     ]
    },
    {
     "name": "stderr",
     "output_type": "stream",
     "text": [
      "Hyperopt:  35%|███▌      | 351/1000 [10:22<23:04,  2.13s/it]"
     ]
    },
    {
     "name": "stdout",
     "output_type": "stream",
     "text": [
      "\n",
      " 35%|███▌      | 351/1000 [10:22<23:04,  2.13s/it, best loss: 0.22094280606376748]\u001b[A\n",
      "\u001b[AParameters with this training score 0.7707497109610584 :\n",
      "\n",
      " 35%|███▌      | 351/1000 [10:24<23:04,  2.13s/it, best loss: 0.22094280606376748]\u001b[A\n",
      "\u001b[A{'bootstrap': False, 'class_weight': 'balanced', 'criterion': 'gini', 'max_depth': 11, 'max_features': 3, 'max_leaf_nodes': 24, 'min_samples_leaf': 15, 'min_samples_split': 90, 'n_estimators': 670}\n",
      "\n",
      " 35%|███▌      | 351/1000 [10:24<23:04,  2.13s/it, best loss: 0.22094280606376748]\u001b[A"
     ]
    },
    {
     "name": "stderr",
     "output_type": "stream",
     "text": [
      "Hyperopt:  35%|███▌      | 352/1000 [10:24<23:12,  2.15s/it]"
     ]
    },
    {
     "name": "stdout",
     "output_type": "stream",
     "text": [
      "\n",
      " 35%|███▌      | 352/1000 [10:24<23:12,  2.15s/it, best loss: 0.22094280606376748]\u001b[A\n",
      "\u001b[AParameters with this training score 0.7482845816671835 :\n",
      "\n",
      " 35%|███▌      | 352/1000 [10:24<23:12,  2.15s/it, best loss: 0.22094280606376748]\u001b[A\n",
      "\u001b[A{'bootstrap': True, 'class_weight': 'balanced', 'criterion': 'gini', 'max_depth': 18, 'max_features': 3, 'max_leaf_nodes': 22, 'min_samples_leaf': 20, 'min_samples_split': 20, 'n_estimators': 100}\n",
      "\n",
      " 35%|███▌      | 352/1000 [10:24<23:12,  2.15s/it, best loss: 0.22094280606376748]\u001b[A"
     ]
    },
    {
     "name": "stderr",
     "output_type": "stream",
     "text": [
      "Hyperopt:  35%|███▌      | 353/1000 [10:24<18:05,  1.68s/it]"
     ]
    },
    {
     "name": "stdout",
     "output_type": "stream",
     "text": [
      "\n",
      " 35%|███▌      | 353/1000 [10:24<18:05,  1.68s/it, best loss: 0.22094280606376748]\u001b[A\n",
      "\u001b[AParameters with this training score 0.7022974264344997 :\n",
      "\n",
      " 35%|███▌      | 353/1000 [10:25<18:05,  1.68s/it, best loss: 0.22094280606376748]\u001b[A\n",
      "\u001b[A{'bootstrap': False, 'class_weight': 'balanced', 'criterion': 'gini', 'max_depth': 6, 'max_features': 1, 'max_leaf_nodes': 26, 'min_samples_leaf': 14, 'min_samples_split': 50, 'n_estimators': 30}\n",
      "\n",
      " 35%|███▌      | 353/1000 [10:25<18:05,  1.68s/it, best loss: 0.22094280606376748]\u001b[A"
     ]
    },
    {
     "name": "stderr",
     "output_type": "stream",
     "text": [
      "Hyperopt:  35%|███▌      | 354/1000 [10:25<14:01,  1.30s/it]"
     ]
    },
    {
     "name": "stdout",
     "output_type": "stream",
     "text": [
      "\n",
      " 35%|███▌      | 354/1000 [10:25<14:01,  1.30s/it, best loss: 0.22094280606376748]\u001b[A\n",
      "\u001b[AParameters with this training score 0.7573366576218596 :\n",
      "\n",
      " 35%|███▌      | 354/1000 [10:26<14:01,  1.30s/it, best loss: 0.22094280606376748]\u001b[A\n",
      "\u001b[A{'bootstrap': False, 'class_weight': 'balanced', 'criterion': 'gini', 'max_depth': 32, 'max_features': 3, 'max_leaf_nodes': 20, 'min_samples_leaf': 1, 'min_samples_split': 80, 'n_estimators': 280}\n",
      "\n",
      " 35%|███▌      | 354/1000 [10:26<14:01,  1.30s/it, best loss: 0.22094280606376748]\u001b[A"
     ]
    },
    {
     "name": "stderr",
     "output_type": "stream",
     "text": [
      "Hyperopt:  36%|███▌      | 355/1000 [10:26<13:22,  1.24s/it]"
     ]
    },
    {
     "name": "stdout",
     "output_type": "stream",
     "text": [
      "\n",
      " 36%|███▌      | 355/1000 [10:26<13:22,  1.24s/it, best loss: 0.22094280606376748]\u001b[A\n",
      "\u001b[AParameters with this training score 0.7757011168038888 :\n",
      "\n",
      " 36%|███▌      | 355/1000 [10:27<13:22,  1.24s/it, best loss: 0.22094280606376748]\u001b[A\n",
      "\u001b[A{'bootstrap': False, 'class_weight': 'balanced', 'criterion': 'gini', 'max_depth': 23, 'max_features': 3, 'max_leaf_nodes': 26, 'min_samples_leaf': 27, 'min_samples_split': 80, 'n_estimators': 230}\n",
      "\n",
      " 36%|███▌      | 355/1000 [10:27<13:22,  1.24s/it, best loss: 0.22094280606376748]\u001b[A"
     ]
    },
    {
     "name": "stderr",
     "output_type": "stream",
     "text": [
      "Hyperopt:  36%|███▌      | 356/1000 [10:27<12:24,  1.16s/it]"
     ]
    },
    {
     "name": "stdout",
     "output_type": "stream",
     "text": [
      "\n",
      " 36%|███▌      | 356/1000 [10:27<12:24,  1.16s/it, best loss: 0.22094280606376748]\u001b[A\n",
      "\u001b[AParameters with this training score 0.5614325542505285 :\n",
      "\n",
      " 36%|███▌      | 356/1000 [10:29<12:24,  1.16s/it, best loss: 0.22094280606376748]\u001b[A\n",
      "\u001b[A{'bootstrap': False, 'class_weight': None, 'criterion': 'gini', 'max_depth': 29, 'max_features': 4, 'max_leaf_nodes': 16, 'min_samples_leaf': 9, 'min_samples_split': 30, 'n_estimators': 680}\n",
      "\n",
      " 36%|███▌      | 356/1000 [10:29<12:24,  1.16s/it, best loss: 0.22094280606376748]\u001b[A"
     ]
    },
    {
     "name": "stderr",
     "output_type": "stream",
     "text": [
      "Hyperopt:  36%|███▌      | 357/1000 [10:29<15:40,  1.46s/it]"
     ]
    },
    {
     "name": "stdout",
     "output_type": "stream",
     "text": [
      "\n",
      " 36%|███▌      | 357/1000 [10:29<15:40,  1.46s/it, best loss: 0.22094280606376748]\u001b[A\n",
      "\u001b[AParameters with this training score 0.7744216478703629 :\n",
      "\n",
      " 36%|███▌      | 357/1000 [10:30<15:40,  1.46s/it, best loss: 0.22094280606376748]\u001b[A\n",
      "\u001b[A{'bootstrap': False, 'class_weight': 'balanced', 'criterion': 'gini', 'max_depth': 46, 'max_features': 3, 'max_leaf_nodes': 26, 'min_samples_leaf': 26, 'min_samples_split': 80, 'n_estimators': 160}\n",
      "\n",
      " 36%|███▌      | 357/1000 [10:30<15:40,  1.46s/it, best loss: 0.22094280606376748]\u001b[A"
     ]
    },
    {
     "name": "stderr",
     "output_type": "stream",
     "text": [
      "Hyperopt:  36%|███▌      | 358/1000 [10:30<13:36,  1.27s/it]"
     ]
    },
    {
     "name": "stdout",
     "output_type": "stream",
     "text": [
      "\n",
      " 36%|███▌      | 358/1000 [10:30<13:36,  1.27s/it, best loss: 0.22094280606376748]\u001b[A\n",
      "\u001b[AParameters with this training score 0.7071108998235731 :\n",
      "\n",
      " 36%|███▌      | 358/1000 [10:33<13:36,  1.27s/it, best loss: 0.22094280606376748]\u001b[A\n",
      "\u001b[A{'bootstrap': False, 'class_weight': 'balanced', 'criterion': 'entropy', 'max_depth': 41, 'max_features': 3, 'max_leaf_nodes': 10, 'min_samples_leaf': 7, 'min_samples_split': 40, 'n_estimators': 990}\n",
      "\n",
      " 36%|███▌      | 358/1000 [10:33<13:36,  1.27s/it, best loss: 0.22094280606376748]\u001b[A"
     ]
    },
    {
     "name": "stderr",
     "output_type": "stream",
     "text": [
      "Hyperopt:  36%|███▌      | 359/1000 [10:33<18:39,  1.75s/it]"
     ]
    },
    {
     "name": "stdout",
     "output_type": "stream",
     "text": [
      "\n",
      " 36%|███▌      | 359/1000 [10:33<18:39,  1.75s/it, best loss: 0.22094280606376748]\u001b[A\n",
      "\u001b[AParameters with this training score 0.7675795000110408 :\n",
      "\n",
      " 36%|███▌      | 359/1000 [10:35<18:39,  1.75s/it, best loss: 0.22094280606376748]\u001b[A\n",
      "\u001b[A{'bootstrap': True, 'class_weight': 'balanced', 'criterion': 'gini', 'max_depth': 20, 'max_features': 3, 'max_leaf_nodes': 28, 'min_samples_leaf': 3, 'min_samples_split': 20, 'n_estimators': 790}\n",
      "\n",
      " 36%|███▌      | 359/1000 [10:35<18:39,  1.75s/it, best loss: 0.22094280606376748]\u001b[A"
     ]
    },
    {
     "name": "stderr",
     "output_type": "stream",
     "text": [
      "Hyperopt:  36%|███▌      | 360/1000 [10:36<22:08,  2.08s/it]"
     ]
    },
    {
     "name": "stdout",
     "output_type": "stream",
     "text": [
      "\n",
      " 36%|███▌      | 360/1000 [10:35<22:08,  2.08s/it, best loss: 0.22094280606376748]\u001b[A\n",
      "\u001b[AParameters with this training score 0.7120639719182398 :\n",
      "\n",
      " 36%|███▌      | 360/1000 [10:38<22:08,  2.08s/it, best loss: 0.22094280606376748]\u001b[A\n",
      "\u001b[A{'bootstrap': False, 'class_weight': 'balanced', 'criterion': 'gini', 'max_depth': 4, 'max_features': 2, 'max_leaf_nodes': 18, 'min_samples_leaf': 26, 'min_samples_split': 70, 'n_estimators': 780}\n",
      "\n",
      " 36%|███▌      | 360/1000 [10:38<22:08,  2.08s/it, best loss: 0.22094280606376748]\u001b[A"
     ]
    },
    {
     "name": "stderr",
     "output_type": "stream",
     "text": [
      "Hyperopt:  36%|███▌      | 361/1000 [10:38<22:35,  2.12s/it]"
     ]
    },
    {
     "name": "stdout",
     "output_type": "stream",
     "text": [
      "\n",
      " 36%|███▌      | 361/1000 [10:38<22:35,  2.12s/it, best loss: 0.22094280606376748]\u001b[A\n",
      "\u001b[AParameters with this training score 0.7557622047449432 :\n",
      "\n",
      " 36%|███▌      | 361/1000 [10:39<22:35,  2.12s/it, best loss: 0.22094280606376748]\u001b[A\n",
      "\u001b[A{'bootstrap': False, 'class_weight': 'balanced', 'criterion': 'gini', 'max_depth': 5, 'max_features': 3, 'max_leaf_nodes': 26, 'min_samples_leaf': 4, 'min_samples_split': 80, 'n_estimators': 260}\n",
      "\n",
      " 36%|███▌      | 361/1000 [10:39<22:35,  2.12s/it, best loss: 0.22094280606376748]\u001b[A"
     ]
    },
    {
     "name": "stderr",
     "output_type": "stream",
     "text": [
      "Hyperopt:  36%|███▌      | 362/1000 [10:39<19:08,  1.80s/it]"
     ]
    },
    {
     "name": "stdout",
     "output_type": "stream",
     "text": [
      "\n",
      " 36%|███▌      | 362/1000 [10:39<19:08,  1.80s/it, best loss: 0.22094280606376748]\u001b[A\n",
      "\u001b[AParameters with this training score 0.7125870347947701 :\n",
      "\n",
      " 36%|███▌      | 362/1000 [10:40<19:08,  1.80s/it, best loss: 0.22094280606376748]\u001b[A\n",
      "\u001b[A{'bootstrap': False, 'class_weight': 'balanced', 'criterion': 'gini', 'max_depth': 22, 'max_features': 1, 'max_leaf_nodes': 14, 'min_samples_leaf': 17, 'min_samples_split': 60, 'n_estimators': 520}\n",
      "\n",
      " 36%|███▌      | 362/1000 [10:40<19:08,  1.80s/it, best loss: 0.22094280606376748]\u001b[A"
     ]
    },
    {
     "name": "stderr",
     "output_type": "stream",
     "text": [
      "Hyperopt:  36%|███▋      | 363/1000 [10:40<18:34,  1.75s/it]"
     ]
    },
    {
     "name": "stdout",
     "output_type": "stream",
     "text": [
      "\n",
      " 36%|███▋      | 363/1000 [10:40<18:34,  1.75s/it, best loss: 0.22094280606376748]\u001b[A\n",
      "\u001b[AParameters with this training score 0.5751506946743 :\n",
      "\n",
      " 36%|███▋      | 363/1000 [10:41<18:34,  1.75s/it, best loss: 0.22094280606376748]\u001b[A\n",
      "\u001b[A{'bootstrap': False, 'class_weight': None, 'criterion': 'gini', 'max_depth': 30, 'max_features': 3, 'max_leaf_nodes': 26, 'min_samples_leaf': 11, 'min_samples_split': 10, 'n_estimators': 70}\n",
      "\n",
      " 36%|███▋      | 363/1000 [10:41<18:34,  1.75s/it, best loss: 0.22094280606376748]\u001b[A"
     ]
    },
    {
     "name": "stderr",
     "output_type": "stream",
     "text": [
      "Hyperopt:  36%|███▋      | 364/1000 [10:41<14:44,  1.39s/it]"
     ]
    },
    {
     "name": "stdout",
     "output_type": "stream",
     "text": [
      "\n",
      " 36%|███▋      | 364/1000 [10:41<14:44,  1.39s/it, best loss: 0.22094280606376748]\u001b[A\n",
      "\u001b[AParameters with this training score 0.7323393267120794 :\n",
      "\n",
      " 36%|███▋      | 364/1000 [10:42<14:44,  1.39s/it, best loss: 0.22094280606376748]\u001b[A\n",
      "\u001b[A{'bootstrap': False, 'class_weight': 'balanced', 'criterion': 'gini', 'max_depth': 43, 'max_features': 3, 'max_leaf_nodes': 12, 'min_samples_leaf': 16, 'min_samples_split': 80, 'n_estimators': 350}\n",
      "\n",
      " 36%|███▋      | 364/1000 [10:42<14:44,  1.39s/it, best loss: 0.22094280606376748]\u001b[A"
     ]
    },
    {
     "name": "stderr",
     "output_type": "stream",
     "text": [
      "Hyperopt:  36%|███▋      | 365/1000 [10:42<14:21,  1.36s/it]"
     ]
    },
    {
     "name": "stdout",
     "output_type": "stream",
     "text": [
      "\n",
      " 36%|███▋      | 365/1000 [10:42<14:21,  1.36s/it, best loss: 0.22094280606376748]\u001b[A\n",
      "\u001b[AParameters with this training score 0.7725792339910726 :\n",
      "\n",
      " 36%|███▋      | 365/1000 [10:44<14:21,  1.36s/it, best loss: 0.22094280606376748]\u001b[A\n",
      "\u001b[A{'bootstrap': False, 'class_weight': 'balanced', 'criterion': 'entropy', 'max_depth': 11, 'max_features': 4, 'max_leaf_nodes': 24, 'min_samples_leaf': 23, 'min_samples_split': 50, 'n_estimators': 450}\n",
      "\n",
      " 36%|███▋      | 365/1000 [10:44<14:21,  1.36s/it, best loss: 0.22094280606376748]\u001b[A"
     ]
    },
    {
     "name": "stderr",
     "output_type": "stream",
     "text": [
      "Hyperopt:  37%|███▋      | 366/1000 [10:44<14:47,  1.40s/it]"
     ]
    },
    {
     "name": "stdout",
     "output_type": "stream",
     "text": [
      "\n",
      " 37%|███▋      | 366/1000 [10:44<14:47,  1.40s/it, best loss: 0.22094280606376748]\u001b[A\n",
      "\u001b[AParameters with this training score 0.7698543370746306 :\n",
      "\n",
      " 37%|███▋      | 366/1000 [10:46<14:47,  1.40s/it, best loss: 0.22094280606376748]\u001b[A\n",
      "\u001b[A{'bootstrap': True, 'class_weight': 'balanced', 'criterion': 'gini', 'max_depth': 45, 'max_features': 3, 'max_leaf_nodes': 28, 'min_samples_leaf': 22, 'min_samples_split': 90, 'n_estimators': 530}\n",
      "\n",
      " 37%|███▋      | 366/1000 [10:46<14:47,  1.40s/it, best loss: 0.22094280606376748]\u001b[A"
     ]
    },
    {
     "name": "stderr",
     "output_type": "stream",
     "text": [
      "Hyperopt:  37%|███▋      | 367/1000 [10:46<16:11,  1.53s/it]"
     ]
    },
    {
     "name": "stdout",
     "output_type": "stream",
     "text": [
      "\n",
      " 37%|███▋      | 367/1000 [10:46<16:11,  1.54s/it, best loss: 0.22094280606376748]\u001b[A\n",
      "\u001b[AParameters with this training score 0.7695547673736722 :\n",
      "\n",
      " 37%|███▋      | 367/1000 [10:48<16:11,  1.54s/it, best loss: 0.22094280606376748]\u001b[A\n",
      "\u001b[A{'bootstrap': False, 'class_weight': 'balanced', 'criterion': 'gini', 'max_depth': 37, 'max_features': 3, 'max_leaf_nodes': 26, 'min_samples_leaf': 8, 'min_samples_split': 80, 'n_estimators': 890}\n",
      "\n",
      " 37%|███▋      | 367/1000 [10:48<16:11,  1.54s/it, best loss: 0.22094280606376748]\u001b[A"
     ]
    },
    {
     "name": "stderr",
     "output_type": "stream",
     "text": [
      "Hyperopt:  37%|███▋      | 368/1000 [10:48<20:14,  1.92s/it]"
     ]
    },
    {
     "name": "stdout",
     "output_type": "stream",
     "text": [
      "\n",
      " 37%|███▋      | 368/1000 [10:48<20:14,  1.92s/it, best loss: 0.22094280606376748]\u001b[A\n",
      "\u001b[AParameters with this training score 0.7420004798826414 :\n",
      "\n",
      " 37%|███▋      | 368/1000 [10:49<20:14,  1.92s/it, best loss: 0.22094280606376748]\u001b[A\n",
      "\u001b[A{'bootstrap': False, 'class_weight': 'balanced', 'criterion': 'gini', 'max_depth': 21, 'max_features': 3, 'max_leaf_nodes': 22, 'min_samples_leaf': 10, 'min_samples_split': 20, 'n_estimators': 50}\n",
      "\n",
      " 37%|███▋      | 368/1000 [10:49<20:14,  1.92s/it, best loss: 0.22094280606376748]\u001b[A"
     ]
    },
    {
     "name": "stderr",
     "output_type": "stream",
     "text": [
      "Hyperopt:  37%|███▋      | 369/1000 [10:49<15:33,  1.48s/it]"
     ]
    },
    {
     "name": "stdout",
     "output_type": "stream",
     "text": [
      "\n",
      " 37%|███▋      | 369/1000 [10:49<15:33,  1.48s/it, best loss: 0.22094280606376748]\u001b[A\n",
      "\u001b[AParameters with this training score 0.6408609209836158 :\n",
      "\n",
      " 37%|███▋      | 369/1000 [10:50<15:33,  1.48s/it, best loss: 0.22094280606376748]\u001b[A\n",
      "\u001b[A{'bootstrap': False, 'class_weight': 'balanced', 'criterion': 'gini', 'max_depth': 3, 'max_features': 2, 'max_leaf_nodes': 20, 'min_samples_leaf': 25, 'min_samples_split': 80, 'n_estimators': 310}\n",
      "\n",
      " 37%|███▋      | 369/1000 [10:50<15:33,  1.48s/it, best loss: 0.22094280606376748]\u001b[A"
     ]
    },
    {
     "name": "stderr",
     "output_type": "stream",
     "text": [
      "Hyperopt:  37%|███▋      | 370/1000 [10:50<14:43,  1.40s/it]"
     ]
    },
    {
     "name": "stdout",
     "output_type": "stream",
     "text": [
      "\n",
      " 37%|███▋      | 370/1000 [10:50<14:43,  1.40s/it, best loss: 0.22094280606376748]\u001b[A\n",
      "\u001b[AParameters with this training score 0.6150782499780654 :\n",
      "\n",
      " 37%|███▋      | 370/1000 [10:53<14:43,  1.40s/it, best loss: 0.22094280606376748]\u001b[A\n",
      "\u001b[A{'bootstrap': False, 'class_weight': None, 'criterion': 'gini', 'max_depth': 39, 'max_features': 3, 'max_leaf_nodes': 26, 'min_samples_leaf': 26, 'min_samples_split': 80, 'n_estimators': 860}\n",
      "\n",
      " 37%|███▋      | 370/1000 [10:53<14:43,  1.40s/it, best loss: 0.22094280606376748]\u001b[A"
     ]
    },
    {
     "name": "stderr",
     "output_type": "stream",
     "text": [
      "Hyperopt:  37%|███▋      | 371/1000 [10:53<18:59,  1.81s/it]"
     ]
    },
    {
     "name": "stdout",
     "output_type": "stream",
     "text": [
      "\n",
      " 37%|███▋      | 371/1000 [10:53<18:59,  1.81s/it, best loss: 0.22094280606376748]\u001b[A\n",
      "\u001b[AParameters with this training score 0.7281480556230588 :\n",
      "\n",
      " 37%|███▋      | 371/1000 [10:54<18:59,  1.81s/it, best loss: 0.22094280606376748]\u001b[A\n",
      "\u001b[A{'bootstrap': False, 'class_weight': 'balanced', 'criterion': 'gini', 'max_depth': 28, 'max_features': 1, 'max_leaf_nodes': 16, 'min_samples_leaf': 29, 'min_samples_split': 30, 'n_estimators': 350}\n",
      "\n",
      " 37%|███▋      | 371/1000 [10:54<18:59,  1.81s/it, best loss: 0.22094280606376748]\u001b[A"
     ]
    },
    {
     "name": "stderr",
     "output_type": "stream",
     "text": [
      "Hyperopt:  37%|███▋      | 372/1000 [10:54<17:31,  1.67s/it]"
     ]
    },
    {
     "name": "stdout",
     "output_type": "stream",
     "text": [
      "\n",
      " 37%|███▋      | 372/1000 [10:54<17:31,  1.67s/it, best loss: 0.22094280606376748]\u001b[A\n",
      "\u001b[AParameters with this training score 0.7722025665851069 :\n",
      "\n",
      " 37%|███▋      | 372/1000 [10:57<17:31,  1.67s/it, best loss: 0.22094280606376748]\u001b[A\n",
      "\u001b[A{'bootstrap': False, 'class_weight': 'balanced', 'criterion': 'entropy', 'max_depth': 11, 'max_features': 3, 'max_leaf_nodes': 26, 'min_samples_leaf': 18, 'min_samples_split': 20, 'n_estimators': 980}\n",
      "\n",
      " 37%|███▋      | 372/1000 [10:57<17:31,  1.67s/it, best loss: 0.22094280606376748]\u001b[A"
     ]
    },
    {
     "name": "stderr",
     "output_type": "stream",
     "text": [
      "Hyperopt:  37%|███▋      | 373/1000 [10:58<22:41,  2.17s/it]"
     ]
    },
    {
     "name": "stdout",
     "output_type": "stream",
     "text": [
      "\n",
      " 37%|███▋      | 373/1000 [10:57<22:41,  2.17s/it, best loss: 0.22094280606376748]\u001b[A\n",
      "\u001b[AParameters with this training score 0.7641794328843512 :\n",
      "\n",
      " 37%|███▋      | 373/1000 [10:59<22:41,  2.17s/it, best loss: 0.22094280606376748]\u001b[A\n",
      "\u001b[A{'bootstrap': True, 'class_weight': 'balanced', 'criterion': 'gini', 'max_depth': 47, 'max_features': 3, 'max_leaf_nodes': 28, 'min_samples_leaf': 5, 'min_samples_split': 40, 'n_estimators': 200}\n",
      "\n",
      " 37%|███▋      | 373/1000 [10:59<22:41,  2.17s/it, best loss: 0.22094280606376748]\u001b[A"
     ]
    },
    {
     "name": "stderr",
     "output_type": "stream",
     "text": [
      "Hyperopt:  37%|███▋      | 374/1000 [10:59<19:53,  1.91s/it]"
     ]
    },
    {
     "name": "stdout",
     "output_type": "stream",
     "text": [
      "\n",
      " 37%|███▋      | 374/1000 [10:59<19:53,  1.91s/it, best loss: 0.22094280606376748]\u001b[A\n",
      "\u001b[AParameters with this training score 0.715201655403298 :\n",
      "\n",
      " 37%|███▋      | 374/1000 [10:59<19:53,  1.91s/it, best loss: 0.22094280606376748]\u001b[A\n",
      "\u001b[A{'bootstrap': False, 'class_weight': 'balanced', 'criterion': 'gini', 'max_depth': 16, 'max_features': 4, 'max_leaf_nodes': 10, 'min_samples_leaf': 2, 'min_samples_split': 80, 'n_estimators': 90}\n",
      "\n",
      " 37%|███▋      | 374/1000 [10:59<19:53,  1.91s/it, best loss: 0.22094280606376748]\u001b[A"
     ]
    },
    {
     "name": "stderr",
     "output_type": "stream",
     "text": [
      "Hyperopt:  38%|███▊      | 375/1000 [10:59<15:40,  1.51s/it]"
     ]
    },
    {
     "name": "stdout",
     "output_type": "stream",
     "text": [
      "\n",
      " 38%|███▊      | 375/1000 [10:59<15:40,  1.51s/it, best loss: 0.22094280606376748]\u001b[A\n",
      "\u001b[AParameters with this training score 0.775660084038047 :\n",
      "\n",
      " 38%|███▊      | 375/1000 [11:00<15:40,  1.51s/it, best loss: 0.22094280606376748]\u001b[A\n",
      "\u001b[A{'bootstrap': False, 'class_weight': 'balanced', 'criterion': 'gini', 'max_depth': 33, 'max_features': 3, 'max_leaf_nodes': 26, 'min_samples_leaf': 26, 'min_samples_split': 70, 'n_estimators': 250}\n",
      "\n",
      " 38%|███▊      | 375/1000 [11:00<15:40,  1.51s/it, best loss: 0.22094280606376748]\u001b[A"
     ]
    },
    {
     "name": "stderr",
     "output_type": "stream",
     "text": [
      "Hyperopt:  38%|███▊      | 376/1000 [11:01<14:09,  1.36s/it]"
     ]
    },
    {
     "name": "stdout",
     "output_type": "stream",
     "text": [
      "\n",
      " 38%|███▊      | 376/1000 [11:00<14:09,  1.36s/it, best loss: 0.22094280606376748]\u001b[A\n",
      "\u001b[AParameters with this training score 0.7676357005403833 :\n",
      "\n",
      " 38%|███▊      | 376/1000 [11:03<14:09,  1.36s/it, best loss: 0.22094280606376748]\u001b[A\n",
      "\u001b[A{'bootstrap': False, 'class_weight': 'balanced', 'criterion': 'gini', 'max_depth': 12, 'max_features': 3, 'max_leaf_nodes': 18, 'min_samples_leaf': 24, 'min_samples_split': 10, 'n_estimators': 870}\n",
      "\n",
      " 38%|███▊      | 376/1000 [11:03<14:09,  1.36s/it, best loss: 0.22094280606376748]\u001b[A"
     ]
    },
    {
     "name": "stderr",
     "output_type": "stream",
     "text": [
      "Hyperopt:  38%|███▊      | 377/1000 [11:03<17:56,  1.73s/it]"
     ]
    },
    {
     "name": "stdout",
     "output_type": "stream",
     "text": [
      "\n",
      " 38%|███▊      | 377/1000 [11:03<17:56,  1.73s/it, best loss: 0.22094280606376748]\u001b[A\n",
      "\u001b[AParameters with this training score 0.5038773494095274 :\n",
      "\n",
      " 38%|███▊      | 377/1000 [11:04<17:56,  1.73s/it, best loss: 0.22094280606376748]\u001b[A\n",
      "\u001b[A{'bootstrap': False, 'class_weight': None, 'criterion': 'gini', 'max_depth': 24, 'max_features': 3, 'max_leaf_nodes': 14, 'min_samples_leaf': 28, 'min_samples_split': 80, 'n_estimators': 80}\n",
      "\n",
      " 38%|███▊      | 377/1000 [11:04<17:56,  1.73s/it, best loss: 0.22094280606376748]\u001b[A"
     ]
    },
    {
     "name": "stderr",
     "output_type": "stream",
     "text": [
      "Hyperopt:  38%|███▊      | 378/1000 [11:04<14:55,  1.44s/it]"
     ]
    },
    {
     "name": "stdout",
     "output_type": "stream",
     "text": [
      "\n",
      " 38%|███▊      | 378/1000 [11:04<14:55,  1.44s/it, best loss: 0.22094280606376748]\u001b[A\n",
      "\u001b[AParameters with this training score 0.7635632291373218 :\n",
      "\n",
      " 38%|███▊      | 378/1000 [11:06<14:55,  1.44s/it, best loss: 0.22094280606376748]\u001b[A\n",
      "\u001b[A{'bootstrap': False, 'class_weight': 'balanced', 'criterion': 'entropy', 'max_depth': 14, 'max_features': 2, 'max_leaf_nodes': 26, 'min_samples_leaf': 13, 'min_samples_split': 60, 'n_estimators': 500}\n",
      "\n",
      " 38%|███▊      | 378/1000 [11:06<14:55,  1.44s/it, best loss: 0.22094280606376748]\u001b[A"
     ]
    },
    {
     "name": "stderr",
     "output_type": "stream",
     "text": [
      "Hyperopt:  38%|███▊      | 379/1000 [11:06<16:22,  1.58s/it]"
     ]
    },
    {
     "name": "stdout",
     "output_type": "stream",
     "text": [
      "\n",
      " 38%|███▊      | 379/1000 [11:06<16:22,  1.58s/it, best loss: 0.22094280606376748]\u001b[A\n",
      "\u001b[AParameters with this training score 0.743766598734147 :\n",
      "\n",
      " 38%|███▊      | 379/1000 [11:08<16:22,  1.58s/it, best loss: 0.22094280606376748]\u001b[A\n",
      "\u001b[A{'bootstrap': False, 'class_weight': 'balanced', 'criterion': 'gini', 'max_depth': 35, 'max_features': 3, 'max_leaf_nodes': 12, 'min_samples_leaf': 19, 'min_samples_split': 50, 'n_estimators': 600}\n",
      "\n",
      " 38%|███▊      | 379/1000 [11:08<16:22,  1.58s/it, best loss: 0.22094280606376748]\u001b[A"
     ]
    },
    {
     "name": "stderr",
     "output_type": "stream",
     "text": [
      "Hyperopt:  38%|███▊      | 380/1000 [11:08<17:23,  1.68s/it]"
     ]
    },
    {
     "name": "stdout",
     "output_type": "stream",
     "text": [
      "\n",
      " 38%|███▊      | 380/1000 [11:08<17:23,  1.68s/it, best loss: 0.22094280606376748]\u001b[A\n",
      "\u001b[AParameters with this training score 0.7468546566955057 :\n",
      "\n",
      " 38%|███▊      | 380/1000 [11:09<17:23,  1.68s/it, best loss: 0.22094280606376748]\u001b[A\n",
      "\u001b[A{'bootstrap': True, 'class_weight': 'balanced', 'criterion': 'gini', 'max_depth': 10, 'max_features': 1, 'max_leaf_nodes': 28, 'min_samples_leaf': 21, 'min_samples_split': 90, 'n_estimators': 320}\n",
      "\n",
      " 38%|███▊      | 380/1000 [11:09<17:23,  1.68s/it, best loss: 0.22094280606376748]\u001b[A"
     ]
    },
    {
     "name": "stderr",
     "output_type": "stream",
     "text": [
      "Hyperopt:  38%|███▊      | 381/1000 [11:09<17:28,  1.69s/it]"
     ]
    },
    {
     "name": "stdout",
     "output_type": "stream",
     "text": [
      "\n",
      " 38%|███▊      | 381/1000 [11:09<17:28,  1.69s/it, best loss: 0.22094280606376748]\u001b[A\n",
      "\u001b[AParameters with this training score 0.7745243720135842 :\n",
      "\n",
      " 38%|███▊      | 381/1000 [11:12<17:28,  1.69s/it, best loss: 0.22094280606376748]\u001b[A\n",
      "\u001b[A{'bootstrap': False, 'class_weight': 'balanced', 'criterion': 'gini', 'max_depth': 42, 'max_features': 3, 'max_leaf_nodes': 24, 'min_samples_leaf': 26, 'min_samples_split': 80, 'n_estimators': 800}\n",
      "\n",
      " 38%|███▊      | 381/1000 [11:12<17:28,  1.69s/it, best loss: 0.22094280606376748]\u001b[A"
     ]
    },
    {
     "name": "stderr",
     "output_type": "stream",
     "text": [
      "Hyperopt:  38%|███▊      | 382/1000 [11:12<21:19,  2.07s/it]"
     ]
    },
    {
     "name": "stdout",
     "output_type": "stream",
     "text": [
      "\n",
      " 38%|███▊      | 382/1000 [11:12<21:19,  2.07s/it, best loss: 0.22094280606376748]\u001b[A\n",
      "\u001b[AParameters with this training score 0.7714793142038993 :\n",
      "\n",
      " 38%|███▊      | 382/1000 [11:14<21:19,  2.07s/it, best loss: 0.22094280606376748]\u001b[A\n",
      "\u001b[A{'bootstrap': False, 'class_weight': 'balanced', 'criterion': 'gini', 'max_depth': 38, 'max_features': 3, 'max_leaf_nodes': 26, 'min_samples_leaf': 12, 'min_samples_split': 20, 'n_estimators': 440}\n",
      "\n",
      " 38%|███▊      | 382/1000 [11:14<21:19,  2.07s/it, best loss: 0.22094280606376748]\u001b[A"
     ]
    },
    {
     "name": "stderr",
     "output_type": "stream",
     "text": [
      "Hyperopt:  38%|███▊      | 383/1000 [11:14<19:40,  1.91s/it]"
     ]
    },
    {
     "name": "stdout",
     "output_type": "stream",
     "text": [
      "\n",
      " 38%|███▊      | 383/1000 [11:14<19:40,  1.91s/it, best loss: 0.22094280606376748]\u001b[A\n",
      "\u001b[AParameters with this training score 0.7639465963045572 :\n",
      "\n",
      " 38%|███▊      | 383/1000 [11:17<19:40,  1.91s/it, best loss: 0.22094280606376748]\u001b[A\n",
      "\u001b[A{'bootstrap': False, 'class_weight': 'balanced', 'criterion': 'gini', 'max_depth': 9, 'max_features': 4, 'max_leaf_nodes': 22, 'min_samples_leaf': 6, 'min_samples_split': 80, 'n_estimators': 840}\n",
      "\n",
      " 38%|███▊      | 383/1000 [11:17<19:40,  1.91s/it, best loss: 0.22094280606376748]\u001b[A"
     ]
    },
    {
     "name": "stderr",
     "output_type": "stream",
     "text": [
      "Hyperopt:  38%|███▊      | 384/1000 [11:17<24:45,  2.41s/it]"
     ]
    },
    {
     "name": "stdout",
     "output_type": "stream",
     "text": [
      "\n",
      " 38%|███▊      | 384/1000 [11:17<24:45,  2.41s/it, best loss: 0.22094280606376748]\u001b[A\n",
      "\u001b[AParameters with this training score 0.5812729377964108 :\n",
      "\n",
      " 38%|███▊      | 384/1000 [11:18<24:45,  2.41s/it, best loss: 0.22094280606376748]\u001b[A\n",
      "\u001b[A{'bootstrap': False, 'class_weight': None, 'criterion': 'gini', 'max_depth': 27, 'max_features': 3, 'max_leaf_nodes': 26, 'min_samples_leaf': 14, 'min_samples_split': 80, 'n_estimators': 130}\n",
      "\n",
      " 38%|███▊      | 384/1000 [11:18<24:45,  2.41s/it, best loss: 0.22094280606376748]\u001b[A"
     ]
    },
    {
     "name": "stderr",
     "output_type": "stream",
     "text": [
      "Hyperopt:  38%|███▊      | 385/1000 [11:18<19:07,  1.87s/it]"
     ]
    },
    {
     "name": "stdout",
     "output_type": "stream",
     "text": [
      "\n",
      " 38%|███▊      | 385/1000 [11:18<19:07,  1.87s/it, best loss: 0.22094280606376748]\u001b[A\n",
      "\u001b[AParameters with this training score 0.7706034204324625 :\n",
      "\n",
      " 38%|███▊      | 385/1000 [11:20<19:07,  1.87s/it, best loss: 0.22094280606376748]\u001b[A\n",
      "\u001b[A{'bootstrap': False, 'class_weight': 'balanced', 'criterion': 'gini', 'max_depth': 25, 'max_features': 3, 'max_leaf_nodes': 20, 'min_samples_leaf': 27, 'min_samples_split': 30, 'n_estimators': 560}\n",
      "\n",
      " 38%|███▊      | 385/1000 [11:20<19:07,  1.87s/it, best loss: 0.22094280606376748]\u001b[A"
     ]
    },
    {
     "name": "stderr",
     "output_type": "stream",
     "text": [
      "Hyperopt:  39%|███▊      | 386/1000 [11:20<19:23,  1.90s/it]"
     ]
    },
    {
     "name": "stdout",
     "output_type": "stream",
     "text": [
      "\n",
      " 39%|███▊      | 386/1000 [11:20<19:23,  1.90s/it, best loss: 0.22094280606376748]\u001b[A\n",
      "\u001b[AParameters with this training score 0.7738636533302998 :\n",
      "\n",
      " 39%|███▊      | 386/1000 [11:21<19:23,  1.90s/it, best loss: 0.22094280606376748]\u001b[A\n",
      "\u001b[A{'bootstrap': False, 'class_weight': 'balanced', 'criterion': 'entropy', 'max_depth': 15, 'max_features': 3, 'max_leaf_nodes': 26, 'min_samples_leaf': 26, 'min_samples_split': 40, 'n_estimators': 270}\n",
      "\n",
      " 39%|███▊      | 386/1000 [11:21<19:23,  1.90s/it, best loss: 0.22094280606376748]\u001b[A"
     ]
    },
    {
     "name": "stderr",
     "output_type": "stream",
     "text": [
      "Hyperopt:  39%|███▊      | 387/1000 [11:21<16:55,  1.66s/it]"
     ]
    },
    {
     "name": "stdout",
     "output_type": "stream",
     "text": [
      "\n",
      " 39%|███▊      | 387/1000 [11:21<16:55,  1.66s/it, best loss: 0.22094280606376748]\u001b[A\n",
      "\u001b[AParameters with this training score 0.7159624059409594 :\n",
      "\n",
      " 39%|███▊      | 387/1000 [11:23<16:55,  1.66s/it, best loss: 0.22094280606376748]\u001b[A\n",
      "\u001b[A{'bootstrap': True, 'class_weight': 'balanced', 'criterion': 'gini', 'max_depth': 11, 'max_features': 2, 'max_leaf_nodes': 16, 'min_samples_leaf': 1, 'min_samples_split': 20, 'n_estimators': 410}\n",
      "\n",
      " 39%|███▊      | 387/1000 [11:23<16:55,  1.66s/it, best loss: 0.22094280606376748]\u001b[A"
     ]
    },
    {
     "name": "stderr",
     "output_type": "stream",
     "text": [
      "Hyperopt:  39%|███▉      | 388/1000 [11:23<16:37,  1.63s/it]"
     ]
    },
    {
     "name": "stdout",
     "output_type": "stream",
     "text": [
      "\n",
      " 39%|███▉      | 388/1000 [11:23<16:37,  1.63s/it, best loss: 0.22094280606376748]\u001b[A\n",
      "\u001b[AParameters with this training score 0.7727440999042933 :\n",
      "\n",
      " 39%|███▉      | 388/1000 [11:25<16:37,  1.63s/it, best loss: 0.22094280606376748]\u001b[A\n",
      "\u001b[A{'bootstrap': False, 'class_weight': 'balanced', 'criterion': 'gini', 'max_depth': 13, 'max_features': 3, 'max_leaf_nodes': 28, 'min_samples_leaf': 9, 'min_samples_split': 80, 'n_estimators': 960}\n",
      "\n",
      " 39%|███▉      | 388/1000 [11:25<16:37,  1.63s/it, best loss: 0.22094280606376748]\u001b[A"
     ]
    },
    {
     "name": "stderr",
     "output_type": "stream",
     "text": [
      "Hyperopt:  39%|███▉      | 389/1000 [11:26<20:26,  2.01s/it]"
     ]
    },
    {
     "name": "stdout",
     "output_type": "stream",
     "text": [
      "\n",
      " 39%|███▉      | 389/1000 [11:25<20:26,  2.01s/it, best loss: 0.22094280606376748]\u001b[A\n",
      "\u001b[AParameters with this training score 0.7454948844695437 :\n",
      "\n",
      " 39%|███▉      | 389/1000 [11:28<20:26,  2.01s/it, best loss: 0.22094280606376748]\u001b[A\n",
      "\u001b[A{'bootstrap': False, 'class_weight': 'balanced', 'criterion': 'gini', 'max_depth': 48, 'max_features': 1, 'max_leaf_nodes': 18, 'min_samples_leaf': 15, 'min_samples_split': 70, 'n_estimators': 710}\n",
      "\n",
      " 39%|███▉      | 389/1000 [11:28<20:26,  2.01s/it, best loss: 0.22094280606376748]\u001b[A"
     ]
    },
    {
     "name": "stderr",
     "output_type": "stream",
     "text": [
      "Hyperopt:  39%|███▉      | 390/1000 [11:28<20:53,  2.05s/it]"
     ]
    },
    {
     "name": "stdout",
     "output_type": "stream",
     "text": [
      "\n",
      " 39%|███▉      | 390/1000 [11:28<20:53,  2.05s/it, best loss: 0.22094280606376748]\u001b[A\n",
      "\u001b[AParameters with this training score 0.7293637206879352 :\n",
      "\n",
      " 39%|███▉      | 390/1000 [11:30<20:53,  2.05s/it, best loss: 0.22094280606376748]\u001b[A\n",
      "\u001b[A{'bootstrap': False, 'class_weight': 'balanced', 'criterion': 'gini', 'max_depth': 19, 'max_features': 3, 'max_leaf_nodes': 10, 'min_samples_leaf': 26, 'min_samples_split': 10, 'n_estimators': 730}\n",
      "\n",
      " 39%|███▉      | 390/1000 [11:30<20:53,  2.05s/it, best loss: 0.22094280606376748]\u001b[A"
     ]
    },
    {
     "name": "stderr",
     "output_type": "stream",
     "text": [
      "Hyperopt:  39%|███▉      | 391/1000 [11:30<21:29,  2.12s/it]"
     ]
    },
    {
     "name": "stdout",
     "output_type": "stream",
     "text": [
      "\n",
      " 39%|███▉      | 391/1000 [11:30<21:29,  2.12s/it, best loss: 0.22094280606376748]\u001b[A\n",
      "\u001b[AParameters with this training score 0.5987633148843687 :\n",
      "\n",
      " 39%|███▉      | 391/1000 [11:32<21:29,  2.12s/it, best loss: 0.22094280606376748]\u001b[A\n",
      "\u001b[A{'bootstrap': False, 'class_weight': None, 'criterion': 'gini', 'max_depth': 40, 'max_features': 3, 'max_leaf_nodes': 26, 'min_samples_leaf': 20, 'min_samples_split': 60, 'n_estimators': 770}\n",
      "\n",
      " 39%|███▉      | 391/1000 [11:32<21:29,  2.12s/it, best loss: 0.22094280606376748]\u001b[A"
     ]
    },
    {
     "name": "stderr",
     "output_type": "stream",
     "text": [
      "Hyperopt:  39%|███▉      | 392/1000 [11:33<22:36,  2.23s/it]"
     ]
    },
    {
     "name": "stdout",
     "output_type": "stream",
     "text": [
      "\n",
      " 39%|███▉      | 392/1000 [11:32<22:36,  2.23s/it, best loss: 0.22094280606376748]\u001b[A\n",
      "\u001b[AParameters with this training score 0.7309396873331429 :\n",
      "\n",
      " 39%|███▉      | 392/1000 [11:33<22:36,  2.23s/it, best loss: 0.22094280606376748]\u001b[A\n",
      "\u001b[A{'bootstrap': False, 'class_weight': 'balanced', 'criterion': 'entropy', 'max_depth': 49, 'max_features': 4, 'max_leaf_nodes': 14, 'min_samples_leaf': 3, 'min_samples_split': 80, 'n_estimators': 40}\n",
      "\n",
      " 39%|███▉      | 392/1000 [11:33<22:36,  2.23s/it, best loss: 0.22094280606376748]\u001b[A"
     ]
    },
    {
     "name": "stderr",
     "output_type": "stream",
     "text": [
      "Hyperopt:  39%|███▉      | 393/1000 [11:33<17:05,  1.69s/it]"
     ]
    },
    {
     "name": "stdout",
     "output_type": "stream",
     "text": [
      "\n",
      " 39%|███▉      | 393/1000 [11:33<17:05,  1.69s/it, best loss: 0.22094280606376748]\u001b[A\n",
      "\u001b[AParameters with this training score 0.768393187842153 :\n",
      "\n",
      " 39%|███▉      | 393/1000 [11:35<17:05,  1.69s/it, best loss: 0.22094280606376748]\u001b[A\n",
      "\u001b[A{'bootstrap': False, 'class_weight': 'balanced', 'criterion': 'gini', 'max_depth': 36, 'max_features': 3, 'max_leaf_nodes': 26, 'min_samples_leaf': 7, 'min_samples_split': 50, 'n_estimators': 630}\n",
      "\n",
      " 39%|███▉      | 393/1000 [11:35<17:05,  1.69s/it, best loss: 0.22094280606376748]\u001b[A"
     ]
    },
    {
     "name": "stderr",
     "output_type": "stream",
     "text": [
      "Hyperopt:  39%|███▉      | 394/1000 [11:35<18:38,  1.85s/it]"
     ]
    },
    {
     "name": "stdout",
     "output_type": "stream",
     "text": [
      "\n",
      " 39%|███▉      | 394/1000 [11:35<18:38,  1.85s/it, best loss: 0.22094280606376748]\u001b[A\n",
      "\u001b[AParameters with this training score 0.7166350154999543 :\n",
      "\n",
      " 39%|███▉      | 394/1000 [11:37<18:38,  1.85s/it, best loss: 0.22094280606376748]\u001b[A\n",
      "\u001b[A{'bootstrap': True, 'class_weight': 'balanced', 'criterion': 'gini', 'max_depth': 26, 'max_features': 3, 'max_leaf_nodes': 12, 'min_samples_leaf': 4, 'min_samples_split': 80, 'n_estimators': 480}\n",
      "\n",
      " 39%|███▉      | 394/1000 [11:37<18:38,  1.85s/it, best loss: 0.22094280606376748]\u001b[A"
     ]
    },
    {
     "name": "stderr",
     "output_type": "stream",
     "text": [
      "Hyperopt:  40%|███▉      | 395/1000 [11:37<18:34,  1.84s/it]"
     ]
    },
    {
     "name": "stdout",
     "output_type": "stream",
     "text": [
      "\n",
      " 40%|███▉      | 395/1000 [11:37<18:34,  1.84s/it, best loss: 0.22094280606376748]\u001b[A\n",
      "\u001b[AParameters with this training score 0.7791419180671398 :\n",
      "\n",
      " 40%|███▉      | 395/1000 [11:38<18:34,  1.84s/it, best loss: 0.22094280606376748]\u001b[A\n",
      "\u001b[A{'bootstrap': False, 'class_weight': 'balanced', 'criterion': 'gini', 'max_depth': 34, 'max_features': 3, 'max_leaf_nodes': 28, 'min_samples_leaf': 26, 'min_samples_split': 90, 'n_estimators': 350}\n",
      "\n",
      " 40%|███▉      | 395/1000 [11:38<18:34,  1.84s/it, best loss: 0.22094280606376748]\u001b[A"
     ]
    },
    {
     "name": "stderr",
     "output_type": "stream",
     "text": [
      "Hyperopt:  40%|███▉      | 396/1000 [11:38<17:00,  1.69s/it]"
     ]
    },
    {
     "name": "stdout",
     "output_type": "stream",
     "text": [
      "\n",
      " 40%|███▉      | 396/1000 [11:38<17:00,  1.69s/it, best loss: 0.22085808193286016]\u001b[A\n",
      "\u001b[AParameters with this training score 0.7701904601262315 :\n",
      "\n",
      " 40%|███▉      | 396/1000 [11:40<17:00,  1.69s/it, best loss: 0.22085808193286016]\u001b[A\n",
      "\u001b[A{'bootstrap': False, 'class_weight': 'balanced', 'criterion': 'gini', 'max_depth': 34, 'max_features': 2, 'max_leaf_nodes': 28, 'min_samples_leaf': 11, 'min_samples_split': 90, 'n_estimators': 570}\n",
      "\n",
      " 40%|███▉      | 396/1000 [11:40<17:00,  1.69s/it, best loss: 0.22085808193286016]\u001b[A"
     ]
    },
    {
     "name": "stderr",
     "output_type": "stream",
     "text": [
      "Hyperopt:  40%|███▉      | 397/1000 [11:40<18:00,  1.79s/it]"
     ]
    },
    {
     "name": "stdout",
     "output_type": "stream",
     "text": [
      "\n",
      " 40%|███▉      | 397/1000 [11:40<18:00,  1.79s/it, best loss: 0.22085808193286016]\u001b[A\n",
      "\u001b[AParameters with this training score 0.7751005532112621 :\n",
      "\n",
      " 40%|███▉      | 397/1000 [11:42<18:00,  1.79s/it, best loss: 0.22085808193286016]\u001b[A\n",
      "\u001b[A{'bootstrap': False, 'class_weight': 'balanced', 'criterion': 'gini', 'max_depth': 34, 'max_features': 3, 'max_leaf_nodes': 28, 'min_samples_leaf': 16, 'min_samples_split': 90, 'n_estimators': 690}\n",
      "\n",
      " 40%|███▉      | 397/1000 [11:42<18:00,  1.79s/it, best loss: 0.22085808193286016]\u001b[A"
     ]
    },
    {
     "name": "stderr",
     "output_type": "stream",
     "text": [
      "Hyperopt:  40%|███▉      | 398/1000 [11:43<19:20,  1.93s/it]"
     ]
    },
    {
     "name": "stdout",
     "output_type": "stream",
     "text": [
      "\n",
      " 40%|███▉      | 398/1000 [11:42<19:20,  1.93s/it, best loss: 0.22085808193286016]\u001b[A\n",
      "\u001b[AParameters with this training score 0.7765541554645277 :\n",
      "\n",
      " 40%|███▉      | 398/1000 [11:44<19:20,  1.93s/it, best loss: 0.22085808193286016]\u001b[A\n",
      "\u001b[A{'bootstrap': False, 'class_weight': 'balanced', 'criterion': 'gini', 'max_depth': 34, 'max_features': 3, 'max_leaf_nodes': 28, 'min_samples_leaf': 17, 'min_samples_split': 90, 'n_estimators': 400}\n",
      "\n",
      " 40%|███▉      | 398/1000 [11:44<19:20,  1.93s/it, best loss: 0.22085808193286016]\u001b[A"
     ]
    },
    {
     "name": "stderr",
     "output_type": "stream",
     "text": [
      "Hyperopt:  40%|███▉      | 399/1000 [11:44<17:38,  1.76s/it]"
     ]
    },
    {
     "name": "stdout",
     "output_type": "stream",
     "text": [
      "\n",
      " 40%|███▉      | 399/1000 [11:44<17:38,  1.76s/it, best loss: 0.22085808193286016]\u001b[A\n",
      "\u001b[AParameters with this training score 0.5157068949899817 :\n",
      "\n",
      " 40%|███▉      | 399/1000 [11:45<17:38,  1.76s/it, best loss: 0.22085808193286016]\u001b[A\n",
      "\u001b[A{'bootstrap': False, 'class_weight': None, 'criterion': 'gini', 'max_depth': 34, 'max_features': 1, 'max_leaf_nodes': 28, 'min_samples_leaf': 23, 'min_samples_split': 90, 'n_estimators': 150}\n",
      "\n",
      " 40%|███▉      | 399/1000 [11:45<17:38,  1.76s/it, best loss: 0.22085808193286016]\u001b[A"
     ]
    },
    {
     "name": "stderr",
     "output_type": "stream",
     "text": [
      "Hyperopt:  40%|████      | 400/1000 [11:45<14:44,  1.47s/it]"
     ]
    },
    {
     "name": "stdout",
     "output_type": "stream",
     "text": [
      "\n",
      " 40%|████      | 400/1000 [11:45<14:44,  1.47s/it, best loss: 0.22085808193286016]\u001b[A\n",
      "\u001b[AParameters with this training score 0.7779809326572856 :\n",
      "\n",
      " 40%|████      | 400/1000 [11:46<14:44,  1.47s/it, best loss: 0.22085808193286016]\u001b[A\n",
      "\u001b[A{'bootstrap': False, 'class_weight': 'balanced', 'criterion': 'entropy', 'max_depth': 34, 'max_features': 3, 'max_leaf_nodes': 28, 'min_samples_leaf': 26, 'min_samples_split': 90, 'n_estimators': 430}\n",
      "\n",
      " 40%|████      | 400/1000 [11:46<14:44,  1.47s/it, best loss: 0.22085808193286016]\u001b[A"
     ]
    },
    {
     "name": "stderr",
     "output_type": "stream",
     "text": [
      "Hyperopt:  40%|████      | 401/1000 [11:46<14:50,  1.49s/it]"
     ]
    },
    {
     "name": "stdout",
     "output_type": "stream",
     "text": [
      "\n",
      " 40%|████      | 401/1000 [11:46<14:50,  1.49s/it, best loss: 0.22085808193286016]\u001b[A\n",
      "\u001b[AParameters with this training score 0.7791419180671398 :\n",
      "\n",
      " 40%|████      | 401/1000 [11:48<14:50,  1.49s/it, best loss: 0.22085808193286016]\u001b[A\n",
      "\u001b[A{'bootstrap': False, 'class_weight': 'balanced', 'criterion': 'gini', 'max_depth': 39, 'max_features': 3, 'max_leaf_nodes': 28, 'min_samples_leaf': 26, 'min_samples_split': 90, 'n_estimators': 350}\n",
      "\n",
      " 40%|████      | 401/1000 [11:48<14:50,  1.49s/it, best loss: 0.22085808193286016]\u001b[A"
     ]
    },
    {
     "name": "stderr",
     "output_type": "stream",
     "text": [
      "Hyperopt:  40%|████      | 402/1000 [11:48<14:29,  1.45s/it]"
     ]
    },
    {
     "name": "stdout",
     "output_type": "stream",
     "text": [
      "\n",
      " 40%|████      | 402/1000 [11:48<14:29,  1.45s/it, best loss: 0.22085808193286016]\u001b[A\n",
      "\u001b[AParameters with this training score 0.7791419180671398 :\n",
      "\n",
      " 40%|████      | 402/1000 [11:49<14:29,  1.45s/it, best loss: 0.22085808193286016]\u001b[A\n",
      "\u001b[A{'bootstrap': False, 'class_weight': 'balanced', 'criterion': 'gini', 'max_depth': 39, 'max_features': 3, 'max_leaf_nodes': 28, 'min_samples_leaf': 26, 'min_samples_split': 90, 'n_estimators': 350}\n",
      "\n",
      " 40%|████      | 402/1000 [11:49<14:29,  1.45s/it, best loss: 0.22085808193286016]\u001b[A"
     ]
    },
    {
     "name": "stderr",
     "output_type": "stream",
     "text": [
      "Hyperopt:  40%|████      | 403/1000 [11:49<14:12,  1.43s/it]"
     ]
    },
    {
     "name": "stdout",
     "output_type": "stream",
     "text": [
      "\n",
      " 40%|████      | 403/1000 [11:49<14:12,  1.43s/it, best loss: 0.22085808193286016]\u001b[A\n",
      "\u001b[AParameters with this training score 0.5078435172711889 :\n",
      "\n",
      " 40%|████      | 403/1000 [11:50<14:12,  1.43s/it, best loss: 0.22085808193286016]\u001b[A\n",
      "\u001b[A{'bootstrap': False, 'class_weight': 'balanced', 'criterion': 'gini', 'max_depth': 1, 'max_features': 3, 'max_leaf_nodes': 28, 'min_samples_leaf': 26, 'min_samples_split': 90, 'n_estimators': 350}\n",
      "\n",
      " 40%|████      | 403/1000 [11:50<14:12,  1.43s/it, best loss: 0.22085808193286016]\u001b[A"
     ]
    },
    {
     "name": "stderr",
     "output_type": "stream",
     "text": [
      "Hyperopt:  40%|████      | 404/1000 [11:50<13:46,  1.39s/it]"
     ]
    },
    {
     "name": "stdout",
     "output_type": "stream",
     "text": [
      "\n",
      " 40%|████      | 404/1000 [11:50<13:46,  1.39s/it, best loss: 0.22085808193286016]\u001b[A\n",
      "\u001b[AParameters with this training score 0.7791419180671398 :\n",
      "\n",
      " 40%|████      | 404/1000 [11:52<13:46,  1.39s/it, best loss: 0.22085808193286016]\u001b[A\n",
      "\u001b[A{'bootstrap': False, 'class_weight': 'balanced', 'criterion': 'gini', 'max_depth': 39, 'max_features': 3, 'max_leaf_nodes': 28, 'min_samples_leaf': 26, 'min_samples_split': 90, 'n_estimators': 350}\n",
      "\n",
      " 40%|████      | 404/1000 [11:52<13:46,  1.39s/it, best loss: 0.22085808193286016]\u001b[A"
     ]
    },
    {
     "name": "stderr",
     "output_type": "stream",
     "text": [
      "Hyperopt:  40%|████      | 405/1000 [11:52<13:37,  1.37s/it]"
     ]
    },
    {
     "name": "stdout",
     "output_type": "stream",
     "text": [
      "\n",
      " 40%|████      | 405/1000 [11:52<13:37,  1.37s/it, best loss: 0.22085808193286016]\u001b[A\n",
      "\u001b[AParameters with this training score 0.7769834025978334 :\n",
      "\n",
      " 40%|████      | 405/1000 [11:54<13:37,  1.37s/it, best loss: 0.22085808193286016]\u001b[A\n",
      "\u001b[A{'bootstrap': False, 'class_weight': 'balanced', 'criterion': 'gini', 'max_depth': 39, 'max_features': 3, 'max_leaf_nodes': 28, 'min_samples_leaf': 26, 'min_samples_split': 90, 'n_estimators': 920}\n",
      "\n",
      " 40%|████      | 405/1000 [11:54<13:37,  1.37s/it, best loss: 0.22085808193286016]\u001b[A"
     ]
    },
    {
     "name": "stderr",
     "output_type": "stream",
     "text": [
      "Hyperopt:  41%|████      | 406/1000 [11:54<17:55,  1.81s/it]"
     ]
    },
    {
     "name": "stdout",
     "output_type": "stream",
     "text": [
      "\n",
      " 41%|████      | 406/1000 [11:54<17:55,  1.81s/it, best loss: 0.22085808193286016]\u001b[A\n",
      "\u001b[AParameters with this training score 0.7766827625031997 :\n",
      "\n",
      " 41%|████      | 406/1000 [11:57<17:55,  1.81s/it, best loss: 0.22085808193286016]\u001b[A\n",
      "\u001b[A{'bootstrap': False, 'class_weight': 'balanced', 'criterion': 'gini', 'max_depth': 39, 'max_features': 3, 'max_leaf_nodes': 28, 'min_samples_leaf': 26, 'min_samples_split': 90, 'n_estimators': 810}\n",
      "\n",
      " 41%|████      | 406/1000 [11:57<17:55,  1.81s/it, best loss: 0.22085808193286016]\u001b[A"
     ]
    },
    {
     "name": "stderr",
     "output_type": "stream",
     "text": [
      "Hyperopt:  41%|████      | 407/1000 [11:57<20:26,  2.07s/it]"
     ]
    },
    {
     "name": "stdout",
     "output_type": "stream",
     "text": [
      "\n",
      " 41%|████      | 407/1000 [11:57<20:26,  2.07s/it, best loss: 0.22085808193286016]\u001b[A\n",
      "\u001b[AParameters with this training score 0.7791419180671398 :\n",
      "\n",
      " 41%|████      | 407/1000 [11:58<20:26,  2.07s/it, best loss: 0.22085808193286016]\u001b[A\n",
      "\u001b[A{'bootstrap': False, 'class_weight': 'balanced', 'criterion': 'gini', 'max_depth': 44, 'max_features': 3, 'max_leaf_nodes': 28, 'min_samples_leaf': 26, 'min_samples_split': 90, 'n_estimators': 350}\n",
      "\n",
      " 41%|████      | 407/1000 [11:58<20:26,  2.07s/it, best loss: 0.22085808193286016]\u001b[A"
     ]
    },
    {
     "name": "stderr",
     "output_type": "stream",
     "text": [
      "Hyperopt:  41%|████      | 408/1000 [11:58<18:14,  1.85s/it]"
     ]
    },
    {
     "name": "stdout",
     "output_type": "stream",
     "text": [
      "\n",
      " 41%|████      | 408/1000 [11:58<18:14,  1.85s/it, best loss: 0.22085808193286016]\u001b[A\n",
      "\u001b[AParameters with this training score 0.7791419180671398 :\n",
      "\n",
      " 41%|████      | 408/1000 [12:00<18:14,  1.85s/it, best loss: 0.22085808193286016]\u001b[A\n",
      "\u001b[A{'bootstrap': False, 'class_weight': 'balanced', 'criterion': 'gini', 'max_depth': 44, 'max_features': 3, 'max_leaf_nodes': 28, 'min_samples_leaf': 26, 'min_samples_split': 90, 'n_estimators': 350}\n",
      "\n",
      " 41%|████      | 408/1000 [12:00<18:14,  1.85s/it, best loss: 0.22085808193286016]\u001b[A"
     ]
    },
    {
     "name": "stderr",
     "output_type": "stream",
     "text": [
      "Hyperopt:  41%|████      | 409/1000 [12:00<16:44,  1.70s/it]"
     ]
    },
    {
     "name": "stdout",
     "output_type": "stream",
     "text": [
      "\n",
      " 41%|████      | 409/1000 [12:00<16:44,  1.70s/it, best loss: 0.22085808193286016]\u001b[A\n",
      "\u001b[AParameters with this training score 0.7791419180671398 :\n",
      "\n",
      " 41%|████      | 409/1000 [12:01<16:44,  1.70s/it, best loss: 0.22085808193286016]\u001b[A\n",
      "\u001b[A{'bootstrap': False, 'class_weight': 'balanced', 'criterion': 'gini', 'max_depth': 44, 'max_features': 3, 'max_leaf_nodes': 28, 'min_samples_leaf': 26, 'min_samples_split': 90, 'n_estimators': 350}\n",
      "\n",
      " 41%|████      | 409/1000 [12:01<16:44,  1.70s/it, best loss: 0.22085808193286016]\u001b[A"
     ]
    },
    {
     "name": "stderr",
     "output_type": "stream",
     "text": [
      "Hyperopt:  41%|████      | 410/1000 [12:01<16:03,  1.63s/it]"
     ]
    },
    {
     "name": "stdout",
     "output_type": "stream",
     "text": [
      "\n",
      " 41%|████      | 410/1000 [12:01<16:03,  1.63s/it, best loss: 0.22085808193286016]\u001b[A\n",
      "\u001b[AParameters with this training score 0.7779727177513319 :\n",
      "\n",
      " 41%|████      | 410/1000 [12:03<16:03,  1.63s/it, best loss: 0.22085808193286016]\u001b[A\n",
      "\u001b[A{'bootstrap': False, 'class_weight': 'balanced', 'criterion': 'gini', 'max_depth': 44, 'max_features': 3, 'max_leaf_nodes': 28, 'min_samples_leaf': 22, 'min_samples_split': 90, 'n_estimators': 350}\n",
      "\n",
      " 41%|████      | 410/1000 [12:03<16:03,  1.63s/it, best loss: 0.22085808193286016]\u001b[A"
     ]
    },
    {
     "name": "stderr",
     "output_type": "stream",
     "text": [
      "Hyperopt:  41%|████      | 411/1000 [12:03<15:15,  1.55s/it]"
     ]
    },
    {
     "name": "stdout",
     "output_type": "stream",
     "text": [
      "\n",
      " 41%|████      | 411/1000 [12:03<15:15,  1.55s/it, best loss: 0.22085808193286016]\u001b[A\n",
      "\u001b[AParameters with this training score 0.7781693896594792 :\n",
      "\n",
      " 41%|████      | 411/1000 [12:03<15:15,  1.55s/it, best loss: 0.22085808193286016]\u001b[A\n",
      "\u001b[A{'bootstrap': False, 'class_weight': 'balanced', 'criterion': 'gini', 'max_depth': 44, 'max_features': 3, 'max_leaf_nodes': 28, 'min_samples_leaf': 26, 'min_samples_split': 90, 'n_estimators': 110}\n",
      "\n",
      " 41%|████      | 411/1000 [12:03<15:15,  1.55s/it, best loss: 0.22085808193286016]\u001b[A"
     ]
    },
    {
     "name": "stderr",
     "output_type": "stream",
     "text": [
      "Hyperopt:  41%|████      | 412/1000 [12:03<12:21,  1.26s/it]"
     ]
    },
    {
     "name": "stdout",
     "output_type": "stream",
     "text": [
      "\n",
      " 41%|████      | 412/1000 [12:03<12:21,  1.26s/it, best loss: 0.22085808193286016]\u001b[A\n",
      "\u001b[AParameters with this training score 0.7786607006045216 :\n",
      "\n",
      " 41%|████      | 412/1000 [12:05<12:21,  1.26s/it, best loss: 0.22085808193286016]\u001b[A\n",
      "\u001b[A{'bootstrap': False, 'class_weight': 'balanced', 'criterion': 'gini', 'max_depth': 44, 'max_features': 3, 'max_leaf_nodes': 28, 'min_samples_leaf': 29, 'min_samples_split': 90, 'n_estimators': 610}\n",
      "\n",
      " 41%|████      | 412/1000 [12:05<12:21,  1.26s/it, best loss: 0.22085808193286016]\u001b[A"
     ]
    },
    {
     "name": "stderr",
     "output_type": "stream",
     "text": [
      "Hyperopt:  41%|████▏     | 413/1000 [12:05<14:35,  1.49s/it]"
     ]
    },
    {
     "name": "stdout",
     "output_type": "stream",
     "text": [
      "\n",
      " 41%|████▏     | 413/1000 [12:05<14:35,  1.49s/it, best loss: 0.22085808193286016]\u001b[A\n",
      "\u001b[AParameters with this training score 0.7777747133506606 :\n",
      "\n",
      " 41%|████▏     | 413/1000 [12:08<14:35,  1.49s/it, best loss: 0.22085808193286016]\u001b[A\n",
      "\u001b[A{'bootstrap': False, 'class_weight': 'balanced', 'criterion': 'gini', 'max_depth': 44, 'max_features': 3, 'max_leaf_nodes': 28, 'min_samples_leaf': 25, 'min_samples_split': 90, 'n_estimators': 750}\n",
      "\n",
      " 41%|████▏     | 413/1000 [12:08<14:35,  1.49s/it, best loss: 0.22085808193286016]\u001b[A"
     ]
    },
    {
     "name": "stderr",
     "output_type": "stream",
     "text": [
      "Hyperopt:  41%|████▏     | 414/1000 [12:08<17:15,  1.77s/it]"
     ]
    },
    {
     "name": "stdout",
     "output_type": "stream",
     "text": [
      "\n",
      " 41%|████▏     | 414/1000 [12:08<17:15,  1.77s/it, best loss: 0.22085808193286016]\u001b[A\n",
      "\u001b[AParameters with this training score 0.7695896798557277 :\n",
      "\n",
      " 41%|████▏     | 414/1000 [12:09<17:15,  1.77s/it, best loss: 0.22085808193286016]\u001b[A\n",
      "\u001b[A{'bootstrap': False, 'class_weight': 'balanced', 'criterion': 'gini', 'max_depth': 39, 'max_features': 3, 'max_leaf_nodes': 28, 'min_samples_leaf': 8, 'min_samples_split': 90, 'n_estimators': 380}\n",
      "\n",
      " 41%|████▏     | 414/1000 [12:09<17:15,  1.77s/it, best loss: 0.22085808193286016]\u001b[A"
     ]
    },
    {
     "name": "stderr",
     "output_type": "stream",
     "text": [
      "Hyperopt:  42%|████▏     | 415/1000 [12:09<16:05,  1.65s/it]"
     ]
    },
    {
     "name": "stdout",
     "output_type": "stream",
     "text": [
      "\n",
      " 42%|████▏     | 415/1000 [12:09<16:05,  1.65s/it, best loss: 0.22085808193286016]\u001b[A\n",
      "\u001b[AParameters with this training score 0.7720481432139925 :\n",
      "\n",
      " 42%|████▏     | 415/1000 [12:10<16:05,  1.65s/it, best loss: 0.22085808193286016]\u001b[A\n",
      "\u001b[A{'bootstrap': False, 'class_weight': 'balanced', 'criterion': 'gini', 'max_depth': 39, 'max_features': 3, 'max_leaf_nodes': 28, 'min_samples_leaf': 10, 'min_samples_split': 90, 'n_estimators': 350}\n",
      "\n",
      " 42%|████▏     | 415/1000 [12:10<16:05,  1.65s/it, best loss: 0.22085808193286016]\u001b[A"
     ]
    },
    {
     "name": "stderr",
     "output_type": "stream",
     "text": [
      "Hyperopt:  42%|████▏     | 416/1000 [12:10<15:10,  1.56s/it]"
     ]
    },
    {
     "name": "stdout",
     "output_type": "stream",
     "text": [
      "\n",
      " 42%|████▏     | 416/1000 [12:10<15:09,  1.56s/it, best loss: 0.22085808193286016]\u001b[A\n",
      "\u001b[AParameters with this training score 0.7767599389106825 :\n",
      "\n",
      " 42%|████▏     | 416/1000 [12:11<15:09,  1.56s/it, best loss: 0.22085808193286016]\u001b[A\n",
      "\u001b[A{'bootstrap': False, 'class_weight': 'balanced', 'criterion': 'gini', 'max_depth': 44, 'max_features': 3, 'max_leaf_nodes': 28, 'min_samples_leaf': 26, 'min_samples_split': 90, 'n_estimators': 220}\n",
      "\n",
      " 42%|████▏     | 416/1000 [12:11<15:09,  1.56s/it, best loss: 0.22085808193286016]\u001b[A"
     ]
    },
    {
     "name": "stderr",
     "output_type": "stream",
     "text": [
      "Hyperopt:  42%|████▏     | 417/1000 [12:11<13:29,  1.39s/it]"
     ]
    },
    {
     "name": "stdout",
     "output_type": "stream",
     "text": [
      "\n",
      " 42%|████▏     | 417/1000 [12:11<13:29,  1.39s/it, best loss: 0.22085808193286016]\u001b[A\n",
      "\u001b[AParameters with this training score 0.7728214572034336 :\n",
      "\n",
      " 42%|████▏     | 417/1000 [12:12<13:29,  1.39s/it, best loss: 0.22085808193286016]\u001b[A\n",
      "\u001b[A{'bootstrap': False, 'class_weight': 'balanced', 'criterion': 'gini', 'max_depth': 44, 'max_features': 3, 'max_leaf_nodes': 28, 'min_samples_leaf': 5, 'min_samples_split': 90, 'n_estimators': 120}\n",
      "\n",
      " 42%|████▏     | 417/1000 [12:12<13:29,  1.39s/it, best loss: 0.22085808193286016]\u001b[A"
     ]
    },
    {
     "name": "stderr",
     "output_type": "stream",
     "text": [
      "Hyperopt:  42%|████▏     | 418/1000 [12:12<11:09,  1.15s/it]"
     ]
    },
    {
     "name": "stdout",
     "output_type": "stream",
     "text": [
      "\n",
      " 42%|████▏     | 418/1000 [12:12<11:09,  1.15s/it, best loss: 0.22085808193286016]\u001b[A\n",
      "\u001b[AParameters with this training score 0.7736906723556385 :\n",
      "\n",
      " 42%|████▏     | 418/1000 [12:13<11:09,  1.15s/it, best loss: 0.22085808193286016]\u001b[A\n",
      "\u001b[A{'bootstrap': False, 'class_weight': 'balanced', 'criterion': 'gini', 'max_depth': 44, 'max_features': 3, 'max_leaf_nodes': 28, 'min_samples_leaf': 13, 'min_samples_split': 90, 'n_estimators': 350}\n",
      "\n",
      " 42%|████▏     | 418/1000 [12:13<11:09,  1.15s/it, best loss: 0.22085808193286016]\u001b[A"
     ]
    },
    {
     "name": "stderr",
     "output_type": "stream",
     "text": [
      "Hyperopt:  42%|████▏     | 419/1000 [12:13<11:49,  1.22s/it]"
     ]
    },
    {
     "name": "stdout",
     "output_type": "stream",
     "text": [
      "\n",
      " 42%|████▏     | 419/1000 [12:13<11:49,  1.22s/it, best loss: 0.22085808193286016]\u001b[A\n",
      "\u001b[AParameters with this training score 0.7751353553578084 :\n",
      "\n",
      " 42%|████▏     | 419/1000 [12:16<11:49,  1.22s/it, best loss: 0.22085808193286016]\u001b[A\n",
      "\u001b[A{'bootstrap': False, 'class_weight': 'balanced', 'criterion': 'gini', 'max_depth': 17, 'max_features': 3, 'max_leaf_nodes': 28, 'min_samples_leaf': 18, 'min_samples_split': 90, 'n_estimators': 970}\n",
      "\n",
      " 42%|████▏     | 419/1000 [12:16<11:49,  1.22s/it, best loss: 0.22085808193286016]\u001b[A"
     ]
    },
    {
     "name": "stderr",
     "output_type": "stream",
     "text": [
      "Hyperopt:  42%|████▏     | 420/1000 [12:16<17:09,  1.78s/it]"
     ]
    },
    {
     "name": "stdout",
     "output_type": "stream",
     "text": [
      "\n",
      " 42%|████▏     | 420/1000 [12:16<17:09,  1.77s/it, best loss: 0.22085808193286016]\u001b[A\n",
      "\u001b[AParameters with this training score 0.7785662554255474 :\n",
      "\n",
      " 42%|████▏     | 420/1000 [12:19<17:09,  1.77s/it, best loss: 0.22085808193286016]\u001b[A\n",
      "\u001b[A{'bootstrap': False, 'class_weight': 'balanced', 'criterion': 'gini', 'max_depth': 39, 'max_features': 3, 'max_leaf_nodes': 28, 'min_samples_leaf': 28, 'min_samples_split': 90, 'n_estimators': 830}\n",
      "\n",
      " 42%|████▏     | 420/1000 [12:19<17:09,  1.77s/it, best loss: 0.22085808193286016]\u001b[A"
     ]
    },
    {
     "name": "stderr",
     "output_type": "stream",
     "text": [
      "Hyperopt:  42%|████▏     | 421/1000 [12:19<19:29,  2.02s/it]"
     ]
    },
    {
     "name": "stdout",
     "output_type": "stream",
     "text": [
      "\n",
      " 42%|████▏     | 421/1000 [12:19<19:29,  2.02s/it, best loss: 0.22085808193286016]\u001b[A\n",
      "\u001b[AParameters with this training score 0.7775162308390862 :\n",
      "\n",
      " 42%|████▏     | 421/1000 [12:21<19:29,  2.02s/it, best loss: 0.22085808193286016]\u001b[A\n",
      "\u001b[A{'bootstrap': False, 'class_weight': 'balanced', 'criterion': 'gini', 'max_depth': 44, 'max_features': 3, 'max_leaf_nodes': 28, 'min_samples_leaf': 26, 'min_samples_split': 90, 'n_estimators': 590}\n",
      "\n",
      " 42%|████▏     | 421/1000 [12:21<19:29,  2.02s/it, best loss: 0.22085808193286016]\u001b[A"
     ]
    },
    {
     "name": "stderr",
     "output_type": "stream",
     "text": [
      "Hyperopt:  42%|████▏     | 422/1000 [12:21<19:24,  2.02s/it]"
     ]
    },
    {
     "name": "stdout",
     "output_type": "stream",
     "text": [
      "\n",
      " 42%|████▏     | 422/1000 [12:21<19:24,  2.02s/it, best loss: 0.22085808193286016]\u001b[A\n",
      "\u001b[AParameters with this training score 0.7697267825365239 :\n",
      "\n",
      " 42%|████▏     | 422/1000 [12:23<19:24,  2.02s/it, best loss: 0.22085808193286016]\u001b[A\n",
      "\u001b[A{'bootstrap': False, 'class_weight': 'balanced', 'criterion': 'gini', 'max_depth': 44, 'max_features': 3, 'max_leaf_nodes': 28, 'min_samples_leaf': 6, 'min_samples_split': 90, 'n_estimators': 490}\n",
      "\n",
      " 42%|████▏     | 422/1000 [12:23<19:24,  2.02s/it, best loss: 0.22085808193286016]\u001b[A"
     ]
    },
    {
     "name": "stderr",
     "output_type": "stream",
     "text": [
      "Hyperopt:  42%|████▏     | 423/1000 [12:23<18:56,  1.97s/it]"
     ]
    },
    {
     "name": "stdout",
     "output_type": "stream",
     "text": [
      "\n",
      " 42%|████▏     | 423/1000 [12:23<18:56,  1.97s/it, best loss: 0.22085808193286016]\u001b[A\n",
      "\u001b[AParameters with this training score 0.7680324964945149 :\n",
      "\n",
      " 42%|████▏     | 423/1000 [12:25<18:56,  1.97s/it, best loss: 0.22085808193286016]\u001b[A\n",
      "\u001b[A{'bootstrap': False, 'class_weight': 'balanced', 'criterion': 'gini', 'max_depth': 39, 'max_features': 3, 'max_leaf_nodes': 28, 'min_samples_leaf': 2, 'min_samples_split': 90, 'n_estimators': 650}\n",
      "\n",
      " 42%|████▏     | 423/1000 [12:25<18:56,  1.97s/it, best loss: 0.22085808193286016]\u001b[A"
     ]
    },
    {
     "name": "stderr",
     "output_type": "stream",
     "text": [
      "Hyperopt:  42%|████▏     | 424/1000 [12:25<20:01,  2.09s/it]"
     ]
    },
    {
     "name": "stdout",
     "output_type": "stream",
     "text": [
      "\n",
      " 42%|████▏     | 424/1000 [12:25<20:01,  2.09s/it, best loss: 0.22085808193286016]\u001b[A\n",
      "\u001b[AParameters with this training score 0.7773708670871524 :\n",
      "\n",
      " 42%|████▏     | 424/1000 [12:28<20:01,  2.09s/it, best loss: 0.22085808193286016]\u001b[A\n",
      "\u001b[A{'bootstrap': False, 'class_weight': 'balanced', 'criterion': 'gini', 'max_depth': 44, 'max_features': 3, 'max_leaf_nodes': 28, 'min_samples_leaf': 24, 'min_samples_split': 90, 'n_estimators': 900}\n",
      "\n",
      " 42%|████▏     | 424/1000 [12:28<20:01,  2.09s/it, best loss: 0.22085808193286016]\u001b[A"
     ]
    },
    {
     "name": "stderr",
     "output_type": "stream",
     "text": [
      "Hyperopt:  42%|████▎     | 425/1000 [12:28<22:33,  2.35s/it]"
     ]
    },
    {
     "name": "stdout",
     "output_type": "stream",
     "text": [
      "\n",
      " 42%|████▎     | 425/1000 [12:28<22:33,  2.35s/it, best loss: 0.22085808193286016]\u001b[A\n",
      "\u001b[AParameters with this training score 0.775942779288121 :\n",
      "\n",
      " 42%|████▎     | 425/1000 [12:29<22:33,  2.35s/it, best loss: 0.22085808193286016]\u001b[A\n",
      "\u001b[A{'bootstrap': False, 'class_weight': 'balanced', 'criterion': 'gini', 'max_depth': 44, 'max_features': 3, 'max_leaf_nodes': 28, 'min_samples_leaf': 26, 'min_samples_split': 90, 'n_estimators': 190}\n",
      "\n",
      " 42%|████▎     | 425/1000 [12:29<22:33,  2.35s/it, best loss: 0.22085808193286016]\u001b[A"
     ]
    },
    {
     "name": "stderr",
     "output_type": "stream",
     "text": [
      "Hyperopt:  43%|████▎     | 426/1000 [12:29<18:15,  1.91s/it]"
     ]
    },
    {
     "name": "stdout",
     "output_type": "stream",
     "text": [
      "\n",
      " 43%|████▎     | 426/1000 [12:29<18:15,  1.91s/it, best loss: 0.22085808193286016]\u001b[A\n",
      "\u001b[AParameters with this training score 0.7773444477425062 :\n",
      "\n",
      " 43%|████▎     | 426/1000 [12:30<18:15,  1.91s/it, best loss: 0.22085808193286016]\u001b[A\n",
      "\u001b[A{'bootstrap': False, 'class_weight': 'balanced', 'criterion': 'gini', 'max_depth': 39, 'max_features': 3, 'max_leaf_nodes': 28, 'min_samples_leaf': 21, 'min_samples_split': 90, 'n_estimators': 340}\n",
      "\n",
      " 43%|████▎     | 426/1000 [12:30<18:15,  1.91s/it, best loss: 0.22085808193286016]\u001b[A"
     ]
    },
    {
     "name": "stderr",
     "output_type": "stream",
     "text": [
      "Hyperopt:  43%|████▎     | 427/1000 [12:30<16:17,  1.71s/it]"
     ]
    },
    {
     "name": "stdout",
     "output_type": "stream",
     "text": [
      "\n",
      " 43%|████▎     | 427/1000 [12:30<16:17,  1.71s/it, best loss: 0.22085808193286016]\u001b[A\n",
      "\u001b[AParameters with this training score 0.7781790441445378 :\n",
      "\n",
      " 43%|████▎     | 427/1000 [12:32<16:17,  1.71s/it, best loss: 0.22085808193286016]\u001b[A\n",
      "\u001b[A{'bootstrap': False, 'class_weight': 'balanced', 'criterion': 'gini', 'max_depth': 44, 'max_features': 4, 'max_leaf_nodes': 28, 'min_samples_leaf': 15, 'min_samples_split': 90, 'n_estimators': 660}\n",
      "\n",
      " 43%|████▎     | 427/1000 [12:32<16:17,  1.71s/it, best loss: 0.22085808193286016]\u001b[A"
     ]
    },
    {
     "name": "stderr",
     "output_type": "stream",
     "text": [
      "Hyperopt:  43%|████▎     | 428/1000 [12:32<17:14,  1.81s/it]"
     ]
    },
    {
     "name": "stdout",
     "output_type": "stream",
     "text": [
      "\n",
      " 43%|████▎     | 428/1000 [12:32<17:14,  1.81s/it, best loss: 0.22085808193286016]\u001b[A\n",
      "\u001b[AParameters with this training score 0.7755046794667284 :\n",
      "\n",
      " 43%|████▎     | 428/1000 [12:35<17:14,  1.81s/it, best loss: 0.22085808193286016]\u001b[A\n",
      "\u001b[A{'bootstrap': False, 'class_weight': 'balanced', 'criterion': 'gini', 'max_depth': 39, 'max_features': 3, 'max_leaf_nodes': 28, 'min_samples_leaf': 19, 'min_samples_split': 90, 'n_estimators': 910}\n",
      "\n",
      " 43%|████▎     | 428/1000 [12:35<17:14,  1.81s/it, best loss: 0.22085808193286016]\u001b[A"
     ]
    },
    {
     "name": "stderr",
     "output_type": "stream",
     "text": [
      "Hyperopt:  43%|████▎     | 429/1000 [12:35<20:27,  2.15s/it]"
     ]
    },
    {
     "name": "stdout",
     "output_type": "stream",
     "text": [
      "\n",
      " 43%|████▎     | 429/1000 [12:35<20:27,  2.15s/it, best loss: 0.22085808193286016]\u001b[A\n",
      "\u001b[AParameters with this training score 0.7745765378787363 :\n",
      "\n",
      " 43%|████▎     | 429/1000 [12:36<20:27,  2.15s/it, best loss: 0.22085808193286016]\u001b[A\n",
      "\u001b[A{'bootstrap': False, 'class_weight': 'balanced', 'criterion': 'gini', 'max_depth': 31, 'max_features': 3, 'max_leaf_nodes': 28, 'min_samples_leaf': 14, 'min_samples_split': 90, 'n_estimators': 210}\n",
      "\n",
      " 43%|████▎     | 429/1000 [12:36<20:27,  2.15s/it, best loss: 0.22085808193286016]\u001b[A"
     ]
    },
    {
     "name": "stderr",
     "output_type": "stream",
     "text": [
      "Hyperopt:  43%|████▎     | 430/1000 [12:36<16:59,  1.79s/it]"
     ]
    },
    {
     "name": "stdout",
     "output_type": "stream",
     "text": [
      "\n",
      " 43%|████▎     | 430/1000 [12:36<16:59,  1.79s/it, best loss: 0.22085808193286016]\u001b[A\n",
      "\u001b[AParameters with this training score 0.7748675786560659 :\n",
      "\n",
      " 43%|████▎     | 430/1000 [12:38<16:59,  1.79s/it, best loss: 0.22085808193286016]\u001b[A\n",
      "\u001b[A{'bootstrap': False, 'class_weight': 'balanced', 'criterion': 'gini', 'max_depth': 39, 'max_features': 3, 'max_leaf_nodes': 28, 'min_samples_leaf': 12, 'min_samples_split': 90, 'n_estimators': 550}\n",
      "\n",
      " 43%|████▎     | 430/1000 [12:38<16:59,  1.79s/it, best loss: 0.22085808193286016]\u001b[A"
     ]
    },
    {
     "name": "stderr",
     "output_type": "stream",
     "text": [
      "Hyperopt:  43%|████▎     | 431/1000 [12:38<17:17,  1.82s/it]"
     ]
    },
    {
     "name": "stdout",
     "output_type": "stream",
     "text": [
      "\n",
      " 43%|████▎     | 431/1000 [12:38<17:17,  1.82s/it, best loss: 0.22085808193286016]\u001b[A\n",
      "\u001b[AParameters with this training score 0.7350157896210863 :\n",
      "\n",
      " 43%|████▎     | 431/1000 [12:38<17:17,  1.82s/it, best loss: 0.22085808193286016]\u001b[A\n",
      "\u001b[A{'bootstrap': False, 'class_weight': 'balanced', 'criterion': 'gini', 'max_depth': 44, 'max_features': 2, 'max_leaf_nodes': 28, 'min_samples_leaf': 20, 'min_samples_split': 90, 'n_estimators': 20}\n",
      "\n",
      " 43%|████▎     | 431/1000 [12:39<17:17,  1.82s/it, best loss: 0.22085808193286016]\u001b[A"
     ]
    },
    {
     "name": "stderr",
     "output_type": "stream",
     "text": [
      "Hyperopt:  43%|████▎     | 432/1000 [12:39<13:14,  1.40s/it]"
     ]
    },
    {
     "name": "stdout",
     "output_type": "stream",
     "text": [
      "\n",
      " 43%|████▎     | 432/1000 [12:39<13:14,  1.40s/it, best loss: 0.22085808193286016]\u001b[A\n",
      "\u001b[AParameters with this training score 0.7750217147931544 :\n",
      "\n",
      " 43%|████▎     | 432/1000 [12:40<13:14,  1.40s/it, best loss: 0.22085808193286016]\u001b[A\n",
      "\u001b[A{'bootstrap': False, 'class_weight': 'balanced', 'criterion': 'gini', 'max_depth': 7, 'max_features': 3, 'max_leaf_nodes': 28, 'min_samples_leaf': 27, 'min_samples_split': 90, 'n_estimators': 290}\n",
      "\n",
      " 43%|████▎     | 432/1000 [12:40<13:14,  1.40s/it, best loss: 0.22085808193286016]\u001b[A"
     ]
    },
    {
     "name": "stderr",
     "output_type": "stream",
     "text": [
      "Hyperopt:  43%|████▎     | 433/1000 [12:40<12:20,  1.31s/it]"
     ]
    },
    {
     "name": "stdout",
     "output_type": "stream",
     "text": [
      "\n",
      " 43%|████▎     | 433/1000 [12:40<12:20,  1.31s/it, best loss: 0.22085808193286016]\u001b[A\n",
      "\u001b[AParameters with this training score 0.5427823116325234 :\n",
      "\n",
      " 43%|████▎     | 433/1000 [12:40<12:20,  1.31s/it, best loss: 0.22085808193286016]\u001b[A\n",
      "\u001b[A{'bootstrap': True, 'class_weight': 'balanced', 'criterion': 'gini', 'max_depth': 2, 'max_features': 3, 'max_leaf_nodes': 28, 'min_samples_leaf': 26, 'min_samples_split': 90, 'n_estimators': 60}\n",
      "\n",
      " 43%|████▎     | 433/1000 [12:40<12:20,  1.31s/it, best loss: 0.22085808193286016]\u001b[A"
     ]
    },
    {
     "name": "stderr",
     "output_type": "stream",
     "text": [
      "Hyperopt:  43%|████▎     | 434/1000 [12:40<10:14,  1.09s/it]"
     ]
    },
    {
     "name": "stdout",
     "output_type": "stream",
     "text": [
      "\n",
      " 43%|████▎     | 434/1000 [12:40<10:14,  1.09s/it, best loss: 0.22085808193286016]\u001b[A\n",
      "\u001b[AParameters with this training score 0.757444518816083 :\n",
      "\n",
      " 43%|████▎     | 434/1000 [12:42<10:14,  1.09s/it, best loss: 0.22085808193286016]\u001b[A\n",
      "\u001b[A{'bootstrap': False, 'class_weight': 'balanced', 'criterion': 'gini', 'max_depth': 18, 'max_features': 1, 'max_leaf_nodes': 28, 'min_samples_leaf': 9, 'min_samples_split': 90, 'n_estimators': 470}\n",
      "\n",
      " 43%|████▎     | 434/1000 [12:42<10:14,  1.09s/it, best loss: 0.22085808193286016]\u001b[A"
     ]
    },
    {
     "name": "stderr",
     "output_type": "stream",
     "text": [
      "Hyperopt:  44%|████▎     | 435/1000 [12:42<12:02,  1.28s/it]"
     ]
    },
    {
     "name": "stdout",
     "output_type": "stream",
     "text": [
      "\n",
      " 44%|████▎     | 435/1000 [12:42<12:02,  1.28s/it, best loss: 0.22085808193286016]\u001b[A\n",
      "\u001b[AParameters with this training score 0.7670617518282425 :\n",
      "\n",
      " 44%|████▎     | 435/1000 [12:43<12:02,  1.28s/it, best loss: 0.22085808193286016]\u001b[A\n",
      "\u001b[A{'bootstrap': False, 'class_weight': 'balanced', 'criterion': 'gini', 'max_depth': 29, 'max_features': 3, 'max_leaf_nodes': 28, 'min_samples_leaf': 3, 'min_samples_split': 90, 'n_estimators': 350}\n",
      "\n",
      " 44%|████▎     | 435/1000 [12:43<12:02,  1.28s/it, best loss: 0.22085808193286016]\u001b[A"
     ]
    },
    {
     "name": "stderr",
     "output_type": "stream",
     "text": [
      "Hyperopt:  44%|████▎     | 436/1000 [12:43<11:55,  1.27s/it]"
     ]
    },
    {
     "name": "stdout",
     "output_type": "stream",
     "text": [
      "\n",
      " 44%|████▎     | 436/1000 [12:43<11:55,  1.27s/it, best loss: 0.22085808193286016]\u001b[A\n",
      "\u001b[AParameters with this training score 0.7637489115631719 :\n",
      "\n",
      " 44%|████▎     | 436/1000 [12:45<11:55,  1.27s/it, best loss: 0.22085808193286016]\u001b[A\n",
      "\u001b[A{'bootstrap': False, 'class_weight': 'balanced', 'criterion': 'gini', 'max_depth': 6, 'max_features': 3, 'max_leaf_nodes': 28, 'min_samples_leaf': 1, 'min_samples_split': 90, 'n_estimators': 580}\n",
      "\n",
      " 44%|████▎     | 436/1000 [12:45<11:55,  1.27s/it, best loss: 0.22085808193286016]\u001b[A"
     ]
    },
    {
     "name": "stderr",
     "output_type": "stream",
     "text": [
      "Hyperopt:  44%|████▎     | 437/1000 [12:45<14:02,  1.50s/it]"
     ]
    },
    {
     "name": "stdout",
     "output_type": "stream",
     "text": [
      "\n",
      " 44%|████▎     | 437/1000 [12:45<14:02,  1.50s/it, best loss: 0.22085808193286016]\u001b[A\n",
      "\u001b[AParameters with this training score 0.7727618904807978 :\n",
      "\n",
      " 44%|████▎     | 437/1000 [12:47<14:02,  1.50s/it, best loss: 0.22085808193286016]\u001b[A\n",
      "\u001b[A{'bootstrap': False, 'class_weight': 'balanced', 'criterion': 'gini', 'max_depth': 8, 'max_features': 4, 'max_leaf_nodes': 28, 'min_samples_leaf': 7, 'min_samples_split': 90, 'n_estimators': 390}\n",
      "\n",
      " 44%|████▎     | 437/1000 [12:47<14:02,  1.50s/it, best loss: 0.22085808193286016]\u001b[A"
     ]
    },
    {
     "name": "stderr",
     "output_type": "stream",
     "text": [
      "Hyperopt:  44%|████▍     | 438/1000 [12:47<13:41,  1.46s/it]"
     ]
    },
    {
     "name": "stdout",
     "output_type": "stream",
     "text": [
      "\n",
      " 44%|████▍     | 438/1000 [12:47<13:41,  1.46s/it, best loss: 0.22085808193286016]\u001b[A\n",
      "\u001b[AParameters with this training score 0.6408211396551505 :\n",
      "\n",
      " 44%|████▍     | 438/1000 [12:48<13:41,  1.46s/it, best loss: 0.22085808193286016]\u001b[A\n",
      "\u001b[A{'bootstrap': False, 'class_weight': None, 'criterion': 'gini', 'max_depth': 22, 'max_features': 3, 'max_leaf_nodes': 28, 'min_samples_leaf': 26, 'min_samples_split': 90, 'n_estimators': 240}\n",
      "\n",
      " 44%|████▍     | 438/1000 [12:48<13:41,  1.46s/it, best loss: 0.22085808193286016]\u001b[A"
     ]
    },
    {
     "name": "stderr",
     "output_type": "stream",
     "text": [
      "Hyperopt:  44%|████▍     | 439/1000 [12:48<12:16,  1.31s/it]"
     ]
    },
    {
     "name": "stdout",
     "output_type": "stream",
     "text": [
      "\n",
      " 44%|████▍     | 439/1000 [12:48<12:16,  1.31s/it, best loss: 0.22085808193286016]\u001b[A\n",
      "\u001b[AParameters with this training score 0.7708862131343661 :\n",
      "\n",
      " 44%|████▍     | 439/1000 [12:50<12:16,  1.31s/it, best loss: 0.22085808193286016]\u001b[A\n",
      "\u001b[A{'bootstrap': False, 'class_weight': 'balanced', 'criterion': 'entropy', 'max_depth': 32, 'max_features': 3, 'max_leaf_nodes': 28, 'min_samples_leaf': 11, 'min_samples_split': 90, 'n_estimators': 930}\n",
      "\n",
      " 44%|████▍     | 439/1000 [12:50<12:16,  1.31s/it, best loss: 0.22085808193286016]\u001b[A"
     ]
    },
    {
     "name": "stderr",
     "output_type": "stream",
     "text": [
      "Hyperopt:  44%|████▍     | 440/1000 [12:51<16:54,  1.81s/it]"
     ]
    },
    {
     "name": "stdout",
     "output_type": "stream",
     "text": [
      "\n",
      " 44%|████▍     | 440/1000 [12:50<16:54,  1.81s/it, best loss: 0.22085808193286016]\u001b[A\n",
      "\u001b[AParameters with this training score 0.7690214610999064 :\n",
      "\n",
      " 44%|████▍     | 440/1000 [12:53<16:54,  1.81s/it, best loss: 0.22085808193286016]\u001b[A\n",
      "\u001b[A{'bootstrap': False, 'class_weight': 'balanced', 'criterion': 'gini', 'max_depth': 23, 'max_features': 3, 'max_leaf_nodes': 28, 'min_samples_leaf': 4, 'min_samples_split': 90, 'n_estimators': 760}\n",
      "\n",
      " 44%|████▍     | 440/1000 [12:53<16:54,  1.81s/it, best loss: 0.22085808193286016]\u001b[A"
     ]
    },
    {
     "name": "stderr",
     "output_type": "stream",
     "text": [
      "Hyperopt:  44%|████▍     | 441/1000 [12:53<18:30,  1.99s/it]"
     ]
    },
    {
     "name": "stdout",
     "output_type": "stream",
     "text": [
      "\n",
      " 44%|████▍     | 441/1000 [12:53<18:30,  1.99s/it, best loss: 0.22085808193286016]\u001b[A\n",
      "\u001b[AParameters with this training score 0.7406762592092359 :\n",
      "\n",
      " 44%|████▍     | 441/1000 [12:55<18:30,  1.99s/it, best loss: 0.22085808193286016]\u001b[A\n",
      "\u001b[A{'bootstrap': True, 'class_weight': 'balanced', 'criterion': 'gini', 'max_depth': 5, 'max_features': 2, 'max_leaf_nodes': 28, 'min_samples_leaf': 26, 'min_samples_split': 90, 'n_estimators': 460}\n",
      "\n",
      " 44%|████▍     | 441/1000 [12:55<18:30,  1.99s/it, best loss: 0.22085808193286016]\u001b[A"
     ]
    },
    {
     "name": "stderr",
     "output_type": "stream",
     "text": [
      "Hyperopt:  44%|████▍     | 442/1000 [12:55<17:52,  1.92s/it]"
     ]
    },
    {
     "name": "stdout",
     "output_type": "stream",
     "text": [
      "\n",
      " 44%|████▍     | 442/1000 [12:55<17:52,  1.92s/it, best loss: 0.22085808193286016]\u001b[A\n",
      "\u001b[AParameters with this training score 0.7760470883879627 :\n",
      "\n",
      " 44%|████▍     | 442/1000 [12:57<17:52,  1.92s/it, best loss: 0.22085808193286016]\u001b[A\n",
      "\u001b[A{'bootstrap': False, 'class_weight': 'balanced', 'criterion': 'gini', 'max_depth': 44, 'max_features': 3, 'max_leaf_nodes': 28, 'min_samples_leaf': 17, 'min_samples_split': 90, 'n_estimators': 640}\n",
      "\n",
      " 44%|████▍     | 442/1000 [12:57<17:52,  1.92s/it, best loss: 0.22085808193286016]\u001b[A"
     ]
    },
    {
     "name": "stderr",
     "output_type": "stream",
     "text": [
      "Hyperopt:  44%|████▍     | 443/1000 [12:57<18:51,  2.03s/it]"
     ]
    },
    {
     "name": "stdout",
     "output_type": "stream",
     "text": [
      "\n",
      " 44%|████▍     | 443/1000 [12:57<18:51,  2.03s/it, best loss: 0.22085808193286016]\u001b[A\n",
      "\u001b[AParameters with this training score 0.7756513968532233 :\n",
      "\n",
      " 44%|████▍     | 443/1000 [12:58<18:51,  2.03s/it, best loss: 0.22085808193286016]\u001b[A\n",
      "\u001b[A{'bootstrap': False, 'class_weight': 'balanced', 'criterion': 'gini', 'max_depth': 41, 'max_features': 3, 'max_leaf_nodes': 28, 'min_samples_leaf': 16, 'min_samples_split': 90, 'n_estimators': 350}\n",
      "\n",
      " 44%|████▍     | 443/1000 [12:58<18:51,  2.03s/it, best loss: 0.22085808193286016]\u001b[A"
     ]
    },
    {
     "name": "stderr",
     "output_type": "stream",
     "text": [
      "Hyperopt:  44%|████▍     | 444/1000 [12:58<16:47,  1.81s/it]"
     ]
    },
    {
     "name": "stdout",
     "output_type": "stream",
     "text": [
      "\n",
      " 44%|████▍     | 444/1000 [12:58<16:47,  1.81s/it, best loss: 0.22085808193286016]\u001b[A\n",
      "\u001b[AParameters with this training score 0.7582473553883708 :\n",
      "\n",
      " 44%|████▍     | 444/1000 [12:59<16:47,  1.81s/it, best loss: 0.22085808193286016]\u001b[A\n",
      "\u001b[A{'bootstrap': False, 'class_weight': 'balanced', 'criterion': 'gini', 'max_depth': 20, 'max_features': 1, 'max_leaf_nodes': 28, 'min_samples_leaf': 23, 'min_samples_split': 90, 'n_estimators': 170}\n",
      "\n",
      " 44%|████▍     | 444/1000 [12:59<16:47,  1.81s/it, best loss: 0.22085808193286016]\u001b[A"
     ]
    },
    {
     "name": "stderr",
     "output_type": "stream",
     "text": [
      "Hyperopt:  44%|████▍     | 445/1000 [12:59<14:02,  1.52s/it]"
     ]
    },
    {
     "name": "stdout",
     "output_type": "stream",
     "text": [
      "\n",
      " 44%|████▍     | 445/1000 [12:59<14:02,  1.52s/it, best loss: 0.22085808193286016]\u001b[A\n",
      "\u001b[AParameters with this training score 0.7474717186956287 :\n",
      "\n",
      " 44%|████▍     | 445/1000 [13:01<14:02,  1.52s/it, best loss: 0.22085808193286016]\u001b[A\n",
      "\u001b[A{'bootstrap': False, 'class_weight': 'balanced', 'criterion': 'gini', 'max_depth': 4, 'max_features': 3, 'max_leaf_nodes': 28, 'min_samples_leaf': 22, 'min_samples_split': 90, 'n_estimators': 540}\n",
      "\n",
      " 44%|████▍     | 445/1000 [13:01<14:02,  1.52s/it, best loss: 0.22085808193286016]\u001b[A"
     ]
    },
    {
     "name": "stderr",
     "output_type": "stream",
     "text": [
      "Hyperopt:  45%|████▍     | 446/1000 [13:01<14:59,  1.62s/it]"
     ]
    },
    {
     "name": "stdout",
     "output_type": "stream",
     "text": [
      "\n",
      " 45%|████▍     | 446/1000 [13:01<14:59,  1.62s/it, best loss: 0.22085808193286016]\u001b[A\n",
      "\u001b[AParameters with this training score 0.6016530340295563 :\n",
      "\n",
      " 45%|████▍     | 446/1000 [13:02<14:59,  1.62s/it, best loss: 0.22085808193286016]\u001b[A\n",
      "\u001b[A{'bootstrap': False, 'class_weight': None, 'criterion': 'gini', 'max_depth': 30, 'max_features': 3, 'max_leaf_nodes': 28, 'min_samples_leaf': 8, 'min_samples_split': 90, 'n_estimators': 360}\n",
      "\n",
      " 45%|████▍     | 446/1000 [13:02<14:59,  1.62s/it, best loss: 0.22085808193286016]\u001b[A"
     ]
    },
    {
     "name": "stderr",
     "output_type": "stream",
     "text": [
      "Hyperopt:  45%|████▍     | 447/1000 [13:02<14:19,  1.55s/it]"
     ]
    },
    {
     "name": "stdout",
     "output_type": "stream",
     "text": [
      "\n",
      " 45%|████▍     | 447/1000 [13:02<14:19,  1.55s/it, best loss: 0.22085808193286016]\u001b[A\n",
      "\u001b[AParameters with this training score 0.776277087821545 :\n",
      "\n",
      " 45%|████▍     | 447/1000 [13:05<14:19,  1.55s/it, best loss: 0.22085808193286016]\u001b[A\n",
      "\u001b[A{'bootstrap': False, 'class_weight': 'balanced', 'criterion': 'entropy', 'max_depth': 37, 'max_features': 4, 'max_leaf_nodes': 28, 'min_samples_leaf': 26, 'min_samples_split': 90, 'n_estimators': 880}\n",
      "\n",
      " 45%|████▍     | 447/1000 [13:05<14:19,  1.55s/it, best loss: 0.22085808193286016]\u001b[A"
     ]
    },
    {
     "name": "stderr",
     "output_type": "stream",
     "text": [
      "Hyperopt:  45%|████▍     | 448/1000 [13:05<17:10,  1.87s/it]"
     ]
    },
    {
     "name": "stdout",
     "output_type": "stream",
     "text": [
      "\n",
      " 45%|████▍     | 448/1000 [13:05<17:10,  1.87s/it, best loss: 0.22085808193286016]\u001b[A\n",
      "\u001b[AParameters with this training score 0.7784106739557114 :\n",
      "\n",
      " 45%|████▍     | 448/1000 [13:06<17:10,  1.87s/it, best loss: 0.22085808193286016]\u001b[A\n",
      "\u001b[A{'bootstrap': False, 'class_weight': 'balanced', 'criterion': 'gini', 'max_depth': 46, 'max_features': 3, 'max_leaf_nodes': 28, 'min_samples_leaf': 25, 'min_samples_split': 90, 'n_estimators': 300}\n",
      "\n",
      " 45%|████▍     | 448/1000 [13:06<17:10,  1.87s/it, best loss: 0.22085808193286016]\u001b[A"
     ]
    },
    {
     "name": "stderr",
     "output_type": "stream",
     "text": [
      "Hyperopt:  45%|████▍     | 449/1000 [13:06<15:19,  1.67s/it]"
     ]
    },
    {
     "name": "stdout",
     "output_type": "stream",
     "text": [
      "\n",
      " 45%|████▍     | 449/1000 [13:06<15:19,  1.67s/it, best loss: 0.22085808193286016]\u001b[A\n",
      "\u001b[AParameters with this training score 0.7731237667108062 :\n",
      "\n",
      " 45%|████▍     | 449/1000 [13:10<15:19,  1.67s/it, best loss: 0.22085808193286016]\u001b[A\n",
      "\u001b[A{'bootstrap': True, 'class_weight': 'balanced', 'criterion': 'gini', 'max_depth': 39, 'max_features': 3, 'max_leaf_nodes': 28, 'min_samples_leaf': 29, 'min_samples_split': 90, 'n_estimators': 950}\n",
      "\n",
      " 45%|████▍     | 449/1000 [13:10<15:19,  1.67s/it, best loss: 0.22085808193286016]\u001b[A"
     ]
    },
    {
     "name": "stderr",
     "output_type": "stream",
     "text": [
      "Hyperopt:  45%|████▌     | 450/1000 [13:10<20:01,  2.18s/it]"
     ]
    },
    {
     "name": "stdout",
     "output_type": "stream",
     "text": [
      "\n",
      " 45%|████▌     | 450/1000 [13:10<20:01,  2.18s/it, best loss: 0.22085808193286016]\u001b[A\n",
      "\u001b[AParameters with this training score 0.6630205187139866 :\n",
      "\n",
      " 45%|████▌     | 450/1000 [13:11<20:01,  2.18s/it, best loss: 0.22085808193286016]\u001b[A\n",
      "\u001b[A{'bootstrap': False, 'class_weight': 'balanced', 'criterion': 'gini', 'max_depth': 3, 'max_features': 3, 'max_leaf_nodes': 28, 'min_samples_leaf': 10, 'min_samples_split': 90, 'n_estimators': 420}\n",
      "\n",
      " 45%|████▌     | 450/1000 [13:11<20:01,  2.18s/it, best loss: 0.22085808193286016]\u001b[A"
     ]
    },
    {
     "name": "stderr",
     "output_type": "stream",
     "text": [
      "Hyperopt:  45%|████▌     | 451/1000 [13:11<18:31,  2.02s/it]"
     ]
    },
    {
     "name": "stdout",
     "output_type": "stream",
     "text": [
      "\n",
      " 45%|████▌     | 451/1000 [13:11<18:31,  2.02s/it, best loss: 0.22085808193286016]\u001b[A\n",
      "\u001b[AParameters with this training score 0.7735267227280842 :\n",
      "\n",
      " 45%|████▌     | 451/1000 [13:14<18:31,  2.02s/it, best loss: 0.22085808193286016]\u001b[A\n",
      "\u001b[A{'bootstrap': False, 'class_weight': 'balanced', 'criterion': 'gini', 'max_depth': 45, 'max_features': 2, 'max_leaf_nodes': 28, 'min_samples_leaf': 26, 'min_samples_split': 90, 'n_estimators': 940}\n",
      "\n",
      " 45%|████▌     | 451/1000 [13:14<18:31,  2.02s/it, best loss: 0.22085808193286016]\u001b[A"
     ]
    },
    {
     "name": "stderr",
     "output_type": "stream",
     "text": [
      "Hyperopt:  45%|████▌     | 452/1000 [13:14<21:05,  2.31s/it]"
     ]
    },
    {
     "name": "stdout",
     "output_type": "stream",
     "text": [
      "\n",
      " 45%|████▌     | 452/1000 [13:14<21:05,  2.31s/it, best loss: 0.22085808193286016]\u001b[A\n",
      "\u001b[AParameters with this training score 0.7704138905318781 :\n",
      "\n",
      " 45%|████▌     | 452/1000 [13:16<21:05,  2.31s/it, best loss: 0.22085808193286016]\u001b[A\n",
      "\u001b[A{'bootstrap': False, 'class_weight': 'balanced', 'criterion': 'gini', 'max_depth': 43, 'max_features': 3, 'max_leaf_nodes': 28, 'min_samples_leaf': 5, 'min_samples_split': 90, 'n_estimators': 510}\n",
      "\n",
      " 45%|████▌     | 452/1000 [13:16<21:05,  2.31s/it, best loss: 0.22085808193286016]\u001b[A"
     ]
    },
    {
     "name": "stderr",
     "output_type": "stream",
     "text": [
      "Hyperopt:  45%|████▌     | 453/1000 [13:16<19:41,  2.16s/it]"
     ]
    },
    {
     "name": "stdout",
     "output_type": "stream",
     "text": [
      "\n",
      " 45%|████▌     | 453/1000 [13:16<19:41,  2.16s/it, best loss: 0.22085808193286016]\u001b[A\n",
      "\u001b[AParameters with this training score 0.6445040681913647 :\n",
      "\n",
      " 45%|████▌     | 453/1000 [13:17<19:41,  2.16s/it, best loss: 0.22085808193286016]\u001b[A\n",
      "\u001b[A{'bootstrap': False, 'class_weight': None, 'criterion': 'gini', 'max_depth': 34, 'max_features': 3, 'max_leaf_nodes': 28, 'min_samples_leaf': 26, 'min_samples_split': 90, 'n_estimators': 160}\n",
      "\n",
      " 45%|████▌     | 453/1000 [13:17<19:41,  2.16s/it, best loss: 0.22085808193286016]\u001b[A"
     ]
    },
    {
     "name": "stderr",
     "output_type": "stream",
     "text": [
      "Hyperopt:  45%|████▌     | 454/1000 [13:17<16:02,  1.76s/it]"
     ]
    },
    {
     "name": "stdout",
     "output_type": "stream",
     "text": [
      "\n",
      " 45%|████▌     | 454/1000 [13:17<16:02,  1.76s/it, best loss: 0.22085808193286016]\u001b[A\n",
      "\u001b[AParameters with this training score 0.7615737938487159 :\n",
      "\n",
      " 45%|████▌     | 454/1000 [13:19<16:02,  1.76s/it, best loss: 0.22085808193286016]\u001b[A\n",
      "\u001b[A{'bootstrap': False, 'class_weight': 'balanced', 'criterion': 'gini', 'max_depth': 44, 'max_features': 1, 'max_leaf_nodes': 28, 'min_samples_leaf': 2, 'min_samples_split': 90, 'n_estimators': 790}\n",
      "\n",
      " 45%|████▌     | 454/1000 [13:19<16:02,  1.76s/it, best loss: 0.22085808193286016]\u001b[A"
     ]
    },
    {
     "name": "stderr",
     "output_type": "stream",
     "text": [
      "Hyperopt:  46%|████▌     | 455/1000 [13:19<17:52,  1.97s/it]"
     ]
    },
    {
     "name": "stdout",
     "output_type": "stream",
     "text": [
      "\n",
      " 46%|████▌     | 455/1000 [13:19<17:52,  1.97s/it, best loss: 0.22085808193286016]\u001b[A\n",
      "\u001b[AParameters with this training score 0.7348846753864271 :\n",
      "\n",
      " 46%|████▌     | 455/1000 [13:20<17:52,  1.97s/it, best loss: 0.22085808193286016]\u001b[A\n",
      "\u001b[A{'bootstrap': False, 'class_weight': 'balanced', 'criterion': 'entropy', 'max_depth': 16, 'max_features': 3, 'max_leaf_nodes': 28, 'min_samples_leaf': 18, 'min_samples_split': 90, 'n_estimators': 10}\n",
      "\n",
      " 46%|████▌     | 455/1000 [13:20<17:52,  1.97s/it, best loss: 0.22085808193286016]\u001b[A"
     ]
    },
    {
     "name": "stderr",
     "output_type": "stream",
     "text": [
      "Hyperopt:  46%|████▌     | 456/1000 [13:20<13:35,  1.50s/it]"
     ]
    },
    {
     "name": "stdout",
     "output_type": "stream",
     "text": [
      "\n",
      " 46%|████▌     | 456/1000 [13:20<13:36,  1.50s/it, best loss: 0.22085808193286016]\u001b[A\n",
      "\u001b[AParameters with this training score 0.776295048054499 :\n",
      "\n",
      " 46%|████▌     | 456/1000 [13:22<13:36,  1.50s/it, best loss: 0.22085808193286016]\u001b[A\n",
      "\u001b[A{'bootstrap': False, 'class_weight': 'balanced', 'criterion': 'gini', 'max_depth': 28, 'max_features': 3, 'max_leaf_nodes': 28, 'min_samples_leaf': 13, 'min_samples_split': 90, 'n_estimators': 720}\n",
      "\n",
      " 46%|████▌     | 456/1000 [13:22<13:36,  1.50s/it, best loss: 0.22085808193286016]\u001b[A"
     ]
    },
    {
     "name": "stderr",
     "output_type": "stream",
     "text": [
      "Hyperopt:  46%|████▌     | 457/1000 [13:22<15:51,  1.75s/it]"
     ]
    },
    {
     "name": "stdout",
     "output_type": "stream",
     "text": [
      "\n",
      " 46%|████▌     | 457/1000 [13:22<15:51,  1.75s/it, best loss: 0.22085808193286016]\u001b[A\n",
      "\u001b[AParameters with this training score 0.776723794524829 :\n",
      "\n",
      " 46%|████▌     | 457/1000 [13:23<15:51,  1.75s/it, best loss: 0.22085808193286016]\u001b[A\n",
      "\u001b[A{'bootstrap': True, 'class_weight': 'balanced', 'criterion': 'gini', 'max_depth': 24, 'max_features': 4, 'max_leaf_nodes': 28, 'min_samples_leaf': 24, 'min_samples_split': 90, 'n_estimators': 330}\n",
      "\n",
      " 46%|████▌     | 457/1000 [13:23<15:51,  1.75s/it, best loss: 0.22085808193286016]\u001b[A"
     ]
    },
    {
     "name": "stderr",
     "output_type": "stream",
     "text": [
      "Hyperopt:  46%|████▌     | 458/1000 [13:24<14:58,  1.66s/it]"
     ]
    },
    {
     "name": "stdout",
     "output_type": "stream",
     "text": [
      "\n",
      " 46%|████▌     | 458/1000 [13:23<14:58,  1.66s/it, best loss: 0.22085808193286016]\u001b[A\n",
      "\u001b[AParameters with this training score 0.7790726091543995 :\n",
      "\n",
      " 46%|████▌     | 458/1000 [13:25<14:58,  1.66s/it, best loss: 0.22085808193286016]\u001b[A\n",
      "\u001b[A{'bootstrap': False, 'class_weight': 'balanced', 'criterion': 'gini', 'max_depth': 38, 'max_features': 3, 'max_leaf_nodes': 28, 'min_samples_leaf': 28, 'min_samples_split': 90, 'n_estimators': 370}\n",
      "\n",
      " 46%|████▌     | 458/1000 [13:25<14:58,  1.66s/it, best loss: 0.22085808193286016]\u001b[A"
     ]
    },
    {
     "name": "stderr",
     "output_type": "stream",
     "text": [
      "Hyperopt:  46%|████▌     | 459/1000 [13:25<14:20,  1.59s/it]"
     ]
    },
    {
     "name": "stdout",
     "output_type": "stream",
     "text": [
      "\n",
      " 46%|████▌     | 459/1000 [13:25<14:20,  1.59s/it, best loss: 0.22085808193286016]\u001b[A\n",
      "\u001b[AParameters with this training score 0.7773006557887154 :\n",
      "\n",
      " 46%|████▌     | 459/1000 [13:26<14:20,  1.59s/it, best loss: 0.22085808193286016]\u001b[A\n",
      "\u001b[A{'bootstrap': False, 'class_weight': 'balanced', 'criterion': 'gini', 'max_depth': 12, 'max_features': 3, 'max_leaf_nodes': 28, 'min_samples_leaf': 21, 'min_samples_split': 90, 'n_estimators': 180}\n",
      "\n",
      " 46%|████▌     | 459/1000 [13:26<14:20,  1.59s/it, best loss: 0.22085808193286016]\u001b[A"
     ]
    },
    {
     "name": "stderr",
     "output_type": "stream",
     "text": [
      "Hyperopt:  46%|████▌     | 460/1000 [13:26<12:18,  1.37s/it]"
     ]
    },
    {
     "name": "stdout",
     "output_type": "stream",
     "text": [
      "\n",
      " 46%|████▌     | 460/1000 [13:26<12:18,  1.37s/it, best loss: 0.22085808193286016]\u001b[A\n",
      "\u001b[AParameters with this training score 0.7680673416693492 :\n",
      "\n",
      " 46%|████▌     | 460/1000 [13:28<12:18,  1.37s/it, best loss: 0.22085808193286016]\u001b[A\n",
      "\u001b[A{'bootstrap': False, 'class_weight': 'balanced', 'criterion': 'gini', 'max_depth': 21, 'max_features': 3, 'max_leaf_nodes': 28, 'min_samples_leaf': 6, 'min_samples_split': 90, 'n_estimators': 620}\n",
      "\n",
      " 46%|████▌     | 460/1000 [13:28<12:18,  1.37s/it, best loss: 0.22085808193286016]\u001b[A"
     ]
    },
    {
     "name": "stderr",
     "output_type": "stream",
     "text": [
      "Hyperopt:  46%|████▌     | 461/1000 [13:28<14:48,  1.65s/it]"
     ]
    },
    {
     "name": "stdout",
     "output_type": "stream",
     "text": [
      "\n",
      " 46%|████▌     | 461/1000 [13:28<14:48,  1.65s/it, best loss: 0.22085808193286016]\u001b[A\n",
      "\u001b[AParameters with this training score 0.5477963548508846 :\n",
      "\n",
      " 46%|████▌     | 461/1000 [13:30<14:48,  1.65s/it, best loss: 0.22085808193286016]\u001b[A\n",
      "\u001b[A{'bootstrap': False, 'class_weight': None, 'criterion': 'gini', 'max_depth': 49, 'max_features': 2, 'max_leaf_nodes': 28, 'min_samples_leaf': 19, 'min_samples_split': 90, 'n_estimators': 670}\n",
      "\n",
      " 46%|████▌     | 461/1000 [13:30<14:48,  1.65s/it, best loss: 0.22085808193286016]\u001b[A"
     ]
    },
    {
     "name": "stderr",
     "output_type": "stream",
     "text": [
      "Hyperopt:  46%|████▌     | 462/1000 [13:30<15:56,  1.78s/it]"
     ]
    },
    {
     "name": "stdout",
     "output_type": "stream",
     "text": [
      "\n",
      " 46%|████▌     | 462/1000 [13:30<15:56,  1.78s/it, best loss: 0.22085808193286016]\u001b[A\n",
      "\u001b[AParameters with this training score 0.7763558094062885 :\n",
      "\n",
      " 46%|████▌     | 462/1000 [13:31<15:56,  1.78s/it, best loss: 0.22085808193286016]\u001b[A\n",
      "\u001b[A{'bootstrap': False, 'class_weight': 'balanced', 'criterion': 'gini', 'max_depth': 39, 'max_features': 3, 'max_leaf_nodes': 28, 'min_samples_leaf': 26, 'min_samples_split': 90, 'n_estimators': 230}\n",
      "\n",
      " 46%|████▌     | 462/1000 [13:31<15:56,  1.78s/it, best loss: 0.22085808193286016]\u001b[A"
     ]
    },
    {
     "name": "stderr",
     "output_type": "stream",
     "text": [
      "Hyperopt:  46%|████▋     | 463/1000 [13:31<13:47,  1.54s/it]"
     ]
    },
    {
     "name": "stdout",
     "output_type": "stream",
     "text": [
      "\n",
      " 46%|████▋     | 463/1000 [13:31<13:48,  1.54s/it, best loss: 0.22085808193286016]\u001b[A\n",
      "\u001b[AParameters with this training score 0.7777489765769382 :\n",
      "\n",
      " 46%|████▋     | 463/1000 [13:33<13:48,  1.54s/it, best loss: 0.22085808193286016]\u001b[A\n",
      "\u001b[A{'bootstrap': False, 'class_weight': 'balanced', 'criterion': 'entropy', 'max_depth': 14, 'max_features': 3, 'max_leaf_nodes': 28, 'min_samples_leaf': 26, 'min_samples_split': 90, 'n_estimators': 520}\n",
      "\n",
      " 46%|████▋     | 463/1000 [13:33<13:48,  1.54s/it, best loss: 0.22085808193286016]\u001b[A"
     ]
    },
    {
     "name": "stderr",
     "output_type": "stream",
     "text": [
      "Hyperopt:  46%|████▋     | 464/1000 [13:33<14:25,  1.61s/it]"
     ]
    },
    {
     "name": "stdout",
     "output_type": "stream",
     "text": [
      "\n",
      " 46%|████▋     | 464/1000 [13:33<14:25,  1.61s/it, best loss: 0.22085808193286016]\u001b[A\n",
      "\u001b[AParameters with this training score 0.724625558645734 :\n",
      "\n",
      " 46%|████▋     | 464/1000 [13:33<14:25,  1.61s/it, best loss: 0.22085808193286016]\u001b[A\n",
      "\u001b[A{'bootstrap': False, 'class_weight': 'balanced', 'criterion': 'gini', 'max_depth': 35, 'max_features': 1, 'max_leaf_nodes': 28, 'min_samples_leaf': 15, 'min_samples_split': 90, 'n_estimators': 30}\n",
      "\n",
      " 46%|████▋     | 464/1000 [13:33<14:25,  1.61s/it, best loss: 0.22085808193286016]\u001b[A"
     ]
    },
    {
     "name": "stderr",
     "output_type": "stream",
     "text": [
      "Hyperopt:  46%|████▋     | 465/1000 [13:33<11:14,  1.26s/it]"
     ]
    },
    {
     "name": "stdout",
     "output_type": "stream",
     "text": [
      "\n",
      " 46%|████▋     | 465/1000 [13:33<11:14,  1.26s/it, best loss: 0.22085808193286016]\u001b[A\n",
      "\u001b[AParameters with this training score 0.7622636982186386 :\n",
      "\n",
      " 46%|████▋     | 465/1000 [13:36<11:14,  1.26s/it, best loss: 0.22085808193286016]\u001b[A\n",
      "\u001b[A{'bootstrap': True, 'class_weight': 'balanced', 'criterion': 'gini', 'max_depth': 9, 'max_features': 3, 'max_leaf_nodes': 24, 'min_samples_leaf': 14, 'min_samples_split': 90, 'n_estimators': 850}\n",
      "\n",
      " 46%|████▋     | 465/1000 [13:36<11:14,  1.26s/it, best loss: 0.22085808193286016]\u001b[A"
     ]
    },
    {
     "name": "stderr",
     "output_type": "stream",
     "text": [
      "Hyperopt:  47%|████▋     | 466/1000 [13:36<15:20,  1.72s/it]"
     ]
    },
    {
     "name": "stdout",
     "output_type": "stream",
     "text": [
      "\n",
      " 47%|████▋     | 466/1000 [13:36<15:20,  1.72s/it, best loss: 0.22085808193286016]\u001b[A\n",
      "\u001b[AParameters with this training score 0.7727699527671675 :\n",
      "\n",
      " 47%|████▋     | 466/1000 [13:38<15:20,  1.72s/it, best loss: 0.22085808193286016]\u001b[A\n",
      "\u001b[A{'bootstrap': False, 'class_weight': 'balanced', 'criterion': 'gini', 'max_depth': 33, 'max_features': 3, 'max_leaf_nodes': 22, 'min_samples_leaf': 27, 'min_samples_split': 90, 'n_estimators': 680}\n",
      "\n",
      " 47%|████▋     | 466/1000 [13:38<15:20,  1.72s/it, best loss: 0.22085808193286016]\u001b[A"
     ]
    },
    {
     "name": "stderr",
     "output_type": "stream",
     "text": [
      "Hyperopt:  47%|████▋     | 467/1000 [13:39<16:45,  1.89s/it]"
     ]
    },
    {
     "name": "stdout",
     "output_type": "stream",
     "text": [
      "\n",
      " 47%|████▋     | 467/1000 [13:38<16:45,  1.89s/it, best loss: 0.22085808193286016]\u001b[A\n",
      "\u001b[AParameters with this training score 0.7785304745835121 :\n",
      "\n",
      " 47%|████▋     | 467/1000 [13:40<16:45,  1.89s/it, best loss: 0.22085808193286016]\u001b[A\n",
      "\u001b[A{'bootstrap': False, 'class_weight': 'balanced', 'criterion': 'gini', 'max_depth': 42, 'max_features': 4, 'max_leaf_nodes': 28, 'min_samples_leaf': 26, 'min_samples_split': 90, 'n_estimators': 530}\n",
      "\n",
      " 47%|████▋     | 467/1000 [13:40<16:45,  1.89s/it, best loss: 0.22085808193286016]\u001b[A"
     ]
    },
    {
     "name": "stderr",
     "output_type": "stream",
     "text": [
      "Hyperopt:  47%|████▋     | 468/1000 [13:40<16:40,  1.88s/it]"
     ]
    },
    {
     "name": "stdout",
     "output_type": "stream",
     "text": [
      "\n",
      " 47%|████▋     | 468/1000 [13:40<16:40,  1.88s/it, best loss: 0.22085808193286016]\u001b[A\n",
      "\u001b[AParameters with this training score 0.7614809690524791 :\n",
      "\n",
      " 47%|████▋     | 468/1000 [13:42<16:40,  1.88s/it, best loss: 0.22085808193286016]\u001b[A\n",
      "\u001b[A{'bootstrap': False, 'class_weight': 'balanced', 'criterion': 'gini', 'max_depth': 27, 'max_features': 3, 'max_leaf_nodes': 20, 'min_samples_leaf': 12, 'min_samples_split': 90, 'n_estimators': 350}\n",
      "\n",
      " 47%|████▋     | 468/1000 [13:42<16:40,  1.88s/it, best loss: 0.22085808193286016]\u001b[A"
     ]
    },
    {
     "name": "stderr",
     "output_type": "stream",
     "text": [
      "Hyperopt:  47%|████▋     | 469/1000 [13:42<15:13,  1.72s/it]"
     ]
    },
    {
     "name": "stdout",
     "output_type": "stream",
     "text": [
      "\n",
      " 47%|████▋     | 469/1000 [13:42<15:13,  1.72s/it, best loss: 0.22085808193286016]\u001b[A\n",
      "\u001b[AParameters with this training score 0.5286316834700172 :\n",
      "\n",
      " 47%|████▋     | 469/1000 [13:42<15:13,  1.72s/it, best loss: 0.22085808193286016]\u001b[A\n",
      "\u001b[A{'bootstrap': False, 'class_weight': None, 'criterion': 'gini', 'max_depth': 10, 'max_features': 3, 'max_leaf_nodes': 16, 'min_samples_leaf': 20, 'min_samples_split': 90, 'n_estimators': 140}\n",
      "\n",
      " 47%|████▋     | 469/1000 [13:42<15:13,  1.72s/it, best loss: 0.22085808193286016]\u001b[A"
     ]
    },
    {
     "name": "stderr",
     "output_type": "stream",
     "text": [
      "Hyperopt:  47%|████▋     | 470/1000 [13:43<12:44,  1.44s/it]"
     ]
    },
    {
     "name": "stdout",
     "output_type": "stream",
     "text": [
      "\n",
      " 47%|████▋     | 470/1000 [13:42<12:44,  1.44s/it, best loss: 0.22085808193286016]\u001b[A\n",
      "\u001b[AParameters with this training score 0.7709218324662784 :\n",
      "\n",
      " 47%|████▋     | 470/1000 [13:45<12:44,  1.44s/it, best loss: 0.22085808193286016]\u001b[A\n",
      "\u001b[A{'bootstrap': False, 'class_weight': 'balanced', 'criterion': 'gini', 'max_depth': 44, 'max_features': 3, 'max_leaf_nodes': 28, 'min_samples_leaf': 7, 'min_samples_split': 90, 'n_estimators': 700}\n",
      "\n",
      " 47%|████▋     | 470/1000 [13:45<12:44,  1.44s/it, best loss: 0.22085808193286016]\u001b[A"
     ]
    },
    {
     "name": "stderr",
     "output_type": "stream",
     "text": [
      "Hyperopt:  47%|████▋     | 471/1000 [13:45<15:44,  1.79s/it]"
     ]
    },
    {
     "name": "stdout",
     "output_type": "stream",
     "text": [
      "\n",
      " 47%|████▋     | 471/1000 [13:45<15:44,  1.79s/it, best loss: 0.22085808193286016]\u001b[A\n",
      "\u001b[AParameters with this training score 0.6895579723849362 :\n",
      "\n",
      " 47%|████▋     | 471/1000 [13:48<15:44,  1.79s/it, best loss: 0.22085808193286016]\u001b[A\n",
      "\u001b[A{'bootstrap': False, 'class_weight': 'balanced', 'criterion': 'entropy', 'max_depth': 34, 'max_features': 2, 'max_leaf_nodes': 10, 'min_samples_leaf': 9, 'min_samples_split': 90, 'n_estimators': 890}\n",
      "\n",
      " 47%|████▋     | 471/1000 [13:48<15:44,  1.79s/it, best loss: 0.22085808193286016]\u001b[A"
     ]
    },
    {
     "name": "stderr",
     "output_type": "stream",
     "text": [
      "Hyperopt:  47%|████▋     | 472/1000 [13:48<19:05,  2.17s/it]"
     ]
    },
    {
     "name": "stdout",
     "output_type": "stream",
     "text": [
      "\n",
      " 47%|████▋     | 472/1000 [13:48<19:05,  2.17s/it, best loss: 0.22085808193286016]\u001b[A\n",
      "\u001b[AParameters with this training score 0.7685650228575595 :\n",
      "\n",
      " 47%|████▋     | 472/1000 [13:51<19:05,  2.17s/it, best loss: 0.22085808193286016]\u001b[A\n",
      "\u001b[A{'bootstrap': False, 'class_weight': 'balanced', 'criterion': 'gini', 'max_depth': 39, 'max_features': 3, 'max_leaf_nodes': 28, 'min_samples_leaf': 3, 'min_samples_split': 90, 'n_estimators': 990}\n",
      "\n",
      " 47%|████▋     | 472/1000 [13:51<19:05,  2.17s/it, best loss: 0.22085808193286016]\u001b[A"
     ]
    },
    {
     "name": "stderr",
     "output_type": "stream",
     "text": [
      "Hyperopt:  47%|████▋     | 473/1000 [13:51<22:02,  2.51s/it]"
     ]
    },
    {
     "name": "stdout",
     "output_type": "stream",
     "text": [
      "\n",
      " 47%|████▋     | 473/1000 [13:51<22:01,  2.51s/it, best loss: 0.22085808193286016]\u001b[A\n",
      "\u001b[AParameters with this training score 0.750538520898921 :\n",
      "\n",
      " 47%|████▋     | 473/1000 [13:52<22:01,  2.51s/it, best loss: 0.22085808193286016]\u001b[A\n",
      "\u001b[A{'bootstrap': True, 'class_weight': 'balanced', 'criterion': 'gini', 'max_depth': 48, 'max_features': 3, 'max_leaf_nodes': 28, 'min_samples_leaf': 1, 'min_samples_split': 90, 'n_estimators': 70}\n",
      "\n",
      " 47%|████▋     | 473/1000 [13:52<22:01,  2.51s/it, best loss: 0.22085808193286016]\u001b[A"
     ]
    },
    {
     "name": "stderr",
     "output_type": "stream",
     "text": [
      "Hyperopt:  47%|████▋     | 474/1000 [13:52<16:53,  1.93s/it]"
     ]
    },
    {
     "name": "stdout",
     "output_type": "stream",
     "text": [
      "\n",
      " 47%|████▋     | 474/1000 [13:52<16:53,  1.93s/it, best loss: 0.22085808193286016]\u001b[A\n",
      "\u001b[AParameters with this training score 0.753810995108544 :\n",
      "\n",
      " 47%|████▋     | 474/1000 [13:53<16:53,  1.93s/it, best loss: 0.22085808193286016]\u001b[A\n",
      "\u001b[A{'bootstrap': False, 'class_weight': 'balanced', 'criterion': 'gini', 'max_depth': 15, 'max_features': 3, 'max_leaf_nodes': 18, 'min_samples_leaf': 4, 'min_samples_split': 90, 'n_estimators': 260}\n",
      "\n",
      " 47%|████▋     | 474/1000 [13:53<16:53,  1.93s/it, best loss: 0.22085808193286016]\u001b[A"
     ]
    },
    {
     "name": "stderr",
     "output_type": "stream",
     "text": [
      "Hyperopt:  48%|████▊     | 475/1000 [13:53<14:40,  1.68s/it]"
     ]
    },
    {
     "name": "stdout",
     "output_type": "stream",
     "text": [
      "\n",
      " 48%|████▊     | 475/1000 [13:53<14:40,  1.68s/it, best loss: 0.22085808193286016]\u001b[A\n",
      "\u001b[AParameters with this training score 0.746166900923164 :\n",
      "\n",
      " 48%|████▊     | 475/1000 [13:56<14:40,  1.68s/it, best loss: 0.22085808193286016]\u001b[A\n",
      "\u001b[A{'bootstrap': False, 'class_weight': 'balanced', 'criterion': 'gini', 'max_depth': 19, 'max_features': 3, 'max_leaf_nodes': 14, 'min_samples_leaf': 11, 'min_samples_split': 90, 'n_estimators': 740}\n",
      "\n",
      " 48%|████▊     | 475/1000 [13:56<14:40,  1.68s/it, best loss: 0.22085808193286016]\u001b[A"
     ]
    },
    {
     "name": "stderr",
     "output_type": "stream",
     "text": [
      "Hyperopt:  48%|████▊     | 476/1000 [13:56<16:55,  1.94s/it]"
     ]
    },
    {
     "name": "stdout",
     "output_type": "stream",
     "text": [
      "\n",
      " 48%|████▊     | 476/1000 [13:56<16:55,  1.94s/it, best loss: 0.22085808193286016]\u001b[A\n",
      "\u001b[AParameters with this training score 0.7614016358130637 :\n",
      "\n",
      " 48%|████▊     | 476/1000 [13:57<16:55,  1.94s/it, best loss: 0.22085808193286016]\u001b[A\n",
      "\u001b[A{'bootstrap': False, 'class_weight': 'balanced', 'criterion': 'gini', 'max_depth': 25, 'max_features': 1, 'max_leaf_nodes': 28, 'min_samples_leaf': 26, 'min_samples_split': 90, 'n_estimators': 310}\n",
      "\n",
      " 48%|████▊     | 476/1000 [13:57<16:55,  1.94s/it, best loss: 0.22085808193286016]\u001b[A"
     ]
    },
    {
     "name": "stderr",
     "output_type": "stream",
     "text": [
      "Hyperopt:  48%|████▊     | 477/1000 [13:57<15:21,  1.76s/it]"
     ]
    },
    {
     "name": "stdout",
     "output_type": "stream",
     "text": [
      "\n",
      " 48%|████▊     | 477/1000 [13:57<15:21,  1.76s/it, best loss: 0.22085808193286016]\u001b[A\n",
      "\u001b[AParameters with this training score 0.7371081068419736 :\n",
      "\n",
      " 48%|████▊     | 477/1000 [13:58<15:21,  1.76s/it, best loss: 0.22085808193286016]\u001b[A\n",
      "\u001b[A{'bootstrap': False, 'class_weight': 'balanced', 'criterion': 'gini', 'max_depth': 13, 'max_features': 4, 'max_leaf_nodes': 12, 'min_samples_leaf': 17, 'min_samples_split': 90, 'n_estimators': 350}\n",
      "\n",
      " 48%|████▊     | 477/1000 [13:58<15:21,  1.76s/it, best loss: 0.22085808193286016]\u001b[A"
     ]
    },
    {
     "name": "stderr",
     "output_type": "stream",
     "text": [
      "Hyperopt:  48%|████▊     | 478/1000 [13:58<14:16,  1.64s/it]"
     ]
    },
    {
     "name": "stdout",
     "output_type": "stream",
     "text": [
      "\n",
      " 48%|████▊     | 478/1000 [13:58<14:16,  1.64s/it, best loss: 0.22085808193286016]\u001b[A\n",
      "\u001b[AParameters with this training score 0.6149117764777617 :\n",
      "\n",
      " 48%|████▊     | 478/1000 [14:01<14:16,  1.64s/it, best loss: 0.22085808193286016]\u001b[A\n",
      "\u001b[A{'bootstrap': False, 'class_weight': None, 'criterion': 'gini', 'max_depth': 40, 'max_features': 3, 'max_leaf_nodes': 28, 'min_samples_leaf': 16, 'min_samples_split': 90, 'n_estimators': 840}\n",
      "\n",
      " 48%|████▊     | 478/1000 [14:01<14:16,  1.64s/it, best loss: 0.22085808193286016]\u001b[A"
     ]
    },
    {
     "name": "stderr",
     "output_type": "stream",
     "text": [
      "Hyperopt:  48%|████▊     | 479/1000 [14:01<17:29,  2.01s/it]"
     ]
    },
    {
     "name": "stdout",
     "output_type": "stream",
     "text": [
      "\n",
      " 48%|████▊     | 479/1000 [14:01<17:29,  2.01s/it, best loss: 0.22085808193286016]\u001b[A\n",
      "\u001b[AParameters with this training score 0.5099774368045651 :\n",
      "\n",
      " 48%|████▊     | 479/1000 [14:02<17:29,  2.01s/it, best loss: 0.22085808193286016]\u001b[A\n",
      "\u001b[A{'bootstrap': False, 'class_weight': 'balanced', 'criterion': 'entropy', 'max_depth': 1, 'max_features': 3, 'max_leaf_nodes': 24, 'min_samples_leaf': 26, 'min_samples_split': 90, 'n_estimators': 100}\n",
      "\n",
      " 48%|████▊     | 479/1000 [14:02<17:29,  2.01s/it, best loss: 0.22085808193286016]\u001b[A"
     ]
    },
    {
     "name": "stderr",
     "output_type": "stream",
     "text": [
      "Hyperopt:  48%|████▊     | 480/1000 [14:02<13:42,  1.58s/it]"
     ]
    },
    {
     "name": "stdout",
     "output_type": "stream",
     "text": [
      "\n",
      " 48%|████▊     | 480/1000 [14:02<13:42,  1.58s/it, best loss: 0.22085808193286016]\u001b[A\n",
      "\u001b[AParameters with this training score 0.776941531504588 :\n",
      "\n",
      " 48%|████▊     | 480/1000 [14:04<13:42,  1.58s/it, best loss: 0.22085808193286016]\u001b[A\n",
      "\u001b[A{'bootstrap': False, 'class_weight': 'balanced', 'criterion': 'gini', 'max_depth': 17, 'max_features': 3, 'max_leaf_nodes': 28, 'min_samples_leaf': 22, 'min_samples_split': 90, 'n_estimators': 500}\n",
      "\n",
      " 48%|████▊     | 480/1000 [14:04<13:42,  1.58s/it, best loss: 0.22085808193286016]\u001b[A"
     ]
    },
    {
     "name": "stderr",
     "output_type": "stream",
     "text": [
      "Hyperopt:  48%|████▊     | 481/1000 [14:04<14:24,  1.67s/it]"
     ]
    },
    {
     "name": "stdout",
     "output_type": "stream",
     "text": [
      "\n",
      " 48%|████▊     | 481/1000 [14:04<14:24,  1.67s/it, best loss: 0.22085808193286016]\u001b[A\n",
      "\u001b[AParameters with this training score 0.7458014428142684 :\n",
      "\n",
      " 48%|████▊     | 481/1000 [14:05<14:24,  1.67s/it, best loss: 0.22085808193286016]\u001b[A\n",
      "\u001b[A{'bootstrap': True, 'class_weight': 'balanced', 'criterion': 'gini', 'max_depth': 26, 'max_features': 2, 'max_leaf_nodes': 22, 'min_samples_leaf': 23, 'min_samples_split': 90, 'n_estimators': 250}\n",
      "\n",
      " 48%|████▊     | 481/1000 [14:05<14:24,  1.67s/it, best loss: 0.22085808193286016]\u001b[A"
     ]
    },
    {
     "name": "stderr",
     "output_type": "stream",
     "text": [
      "Hyperopt:  48%|████▊     | 482/1000 [14:05<13:15,  1.54s/it]"
     ]
    },
    {
     "name": "stdout",
     "output_type": "stream",
     "text": [
      "\n",
      " 48%|████▊     | 482/1000 [14:05<13:15,  1.54s/it, best loss: 0.22085808193286016]\u001b[A\n",
      "\u001b[AParameters with this training score 0.7766397146739106 :\n",
      "\n",
      " 48%|████▊     | 482/1000 [14:08<13:15,  1.54s/it, best loss: 0.22085808193286016]\u001b[A\n",
      "\u001b[A{'bootstrap': False, 'class_weight': 'balanced', 'criterion': 'gini', 'max_depth': 44, 'max_features': 3, 'max_leaf_nodes': 28, 'min_samples_leaf': 26, 'min_samples_split': 90, 'n_estimators': 820}\n",
      "\n",
      " 48%|████▊     | 482/1000 [14:08<13:15,  1.54s/it, best loss: 0.22085808193286016]\u001b[A"
     ]
    },
    {
     "name": "stderr",
     "output_type": "stream",
     "text": [
      "Hyperopt:  48%|████▊     | 483/1000 [14:08<16:39,  1.93s/it]"
     ]
    },
    {
     "name": "stdout",
     "output_type": "stream",
     "text": [
      "\n",
      " 48%|████▊     | 483/1000 [14:08<16:39,  1.93s/it, best loss: 0.22085808193286016]\u001b[A\n",
      "\u001b[AParameters with this training score 0.5512161781634035 :\n",
      "\n",
      " 48%|████▊     | 483/1000 [14:08<16:39,  1.93s/it, best loss: 0.22085808193286016]\u001b[A\n",
      "\u001b[A{'bootstrap': False, 'class_weight': 'balanced', 'criterion': 'gini', 'max_depth': 2, 'max_features': 3, 'max_leaf_nodes': 20, 'min_samples_leaf': 8, 'min_samples_split': 30, 'n_estimators': 50}\n",
      "\n",
      " 48%|████▊     | 483/1000 [14:08<16:39,  1.93s/it, best loss: 0.22085808193286016]\u001b[A"
     ]
    },
    {
     "name": "stderr",
     "output_type": "stream",
     "text": [
      "Hyperopt:  48%|████▊     | 484/1000 [14:08<12:48,  1.49s/it]"
     ]
    },
    {
     "name": "stdout",
     "output_type": "stream",
     "text": [
      "\n",
      " 48%|████▊     | 484/1000 [14:08<12:48,  1.49s/it, best loss: 0.22085808193286016]\u001b[A\n",
      "\u001b[AParameters with this training score 0.7297506312830773 :\n",
      "\n",
      " 48%|████▊     | 484/1000 [14:11<12:48,  1.49s/it, best loss: 0.22085808193286016]\u001b[A\n",
      "\u001b[A{'bootstrap': False, 'class_weight': 'balanced', 'criterion': 'gini', 'max_depth': 7, 'max_features': 1, 'max_leaf_nodes': 16, 'min_samples_leaf': 25, 'min_samples_split': 90, 'n_estimators': 870}\n",
      "\n",
      " 48%|████▊     | 484/1000 [14:11<12:48,  1.49s/it, best loss: 0.22085808193286016]\u001b[A"
     ]
    },
    {
     "name": "stderr",
     "output_type": "stream",
     "text": [
      "Hyperopt:  48%|████▊     | 485/1000 [14:11<16:58,  1.98s/it]"
     ]
    },
    {
     "name": "stdout",
     "output_type": "stream",
     "text": [
      "\n",
      " 48%|████▊     | 485/1000 [14:11<16:57,  1.98s/it, best loss: 0.22085808193286016]\u001b[A\n",
      "\u001b[AParameters with this training score 0.7746530342200109 :\n",
      "\n",
      " 48%|████▊     | 485/1000 [14:13<16:57,  1.98s/it, best loss: 0.22085808193286016]\u001b[A\n",
      "\u001b[A{'bootstrap': False, 'class_weight': 'balanced', 'criterion': 'gini', 'max_depth': 23, 'max_features': 3, 'max_leaf_nodes': 28, 'min_samples_leaf': 18, 'min_samples_split': 40, 'n_estimators': 350}\n",
      "\n",
      " 48%|████▊     | 485/1000 [14:13<16:57,  1.98s/it, best loss: 0.22085808193286016]\u001b[A"
     ]
    },
    {
     "name": "stderr",
     "output_type": "stream",
     "text": [
      "Hyperopt:  49%|████▊     | 486/1000 [14:13<15:18,  1.79s/it]"
     ]
    },
    {
     "name": "stdout",
     "output_type": "stream",
     "text": [
      "\n",
      " 49%|████▊     | 486/1000 [14:13<15:18,  1.79s/it, best loss: 0.22085808193286016]\u001b[A\n",
      "\u001b[AParameters with this training score 0.6362937354076428 :\n",
      "\n",
      " 49%|████▊     | 486/1000 [14:14<15:18,  1.79s/it, best loss: 0.22085808193286016]\u001b[A\n",
      "\u001b[A{'bootstrap': False, 'class_weight': None, 'criterion': 'gini', 'max_depth': 39, 'max_features': 3, 'max_leaf_nodes': 28, 'min_samples_leaf': 29, 'min_samples_split': 70, 'n_estimators': 280}\n",
      "\n",
      " 49%|████▊     | 486/1000 [14:14<15:18,  1.79s/it, best loss: 0.22085808193286016]\u001b[A"
     ]
    },
    {
     "name": "stderr",
     "output_type": "stream",
     "text": [
      "Hyperopt:  49%|████▊     | 487/1000 [14:14<13:47,  1.61s/it]"
     ]
    },
    {
     "name": "stdout",
     "output_type": "stream",
     "text": [
      "\n",
      " 49%|████▊     | 487/1000 [14:14<13:47,  1.61s/it, best loss: 0.22085808193286016]\u001b[A\n",
      "\u001b[AParameters with this training score 0.7204726742949219 :\n",
      "\n",
      " 49%|████▊     | 487/1000 [14:17<13:47,  1.61s/it, best loss: 0.22085808193286016]\u001b[A\n",
      "\u001b[A{'bootstrap': False, 'class_weight': 'balanced', 'criterion': 'entropy', 'max_depth': 18, 'max_features': 4, 'max_leaf_nodes': 10, 'min_samples_leaf': 10, 'min_samples_split': 90, 'n_estimators': 980}\n",
      "\n",
      " 49%|████▊     | 487/1000 [14:17<13:47,  1.61s/it, best loss: 0.22085808193286016]\u001b[A"
     ]
    },
    {
     "name": "stderr",
     "output_type": "stream",
     "text": [
      "Hyperopt:  49%|████▉     | 488/1000 [14:17<17:50,  2.09s/it]"
     ]
    },
    {
     "name": "stdout",
     "output_type": "stream",
     "text": [
      "\n",
      " 49%|████▉     | 488/1000 [14:17<17:50,  2.09s/it, best loss: 0.22085808193286016]\u001b[A\n",
      "\u001b[AParameters with this training score 0.772728450115139 :\n",
      "\n",
      " 49%|████▉     | 488/1000 [14:19<17:50,  2.09s/it, best loss: 0.22085808193286016]\u001b[A\n",
      "\u001b[A{'bootstrap': False, 'class_weight': 'balanced', 'criterion': 'gini', 'max_depth': 6, 'max_features': 3, 'max_leaf_nodes': 28, 'min_samples_leaf': 26, 'min_samples_split': 10, 'n_estimators': 450}\n",
      "\n",
      " 49%|████▉     | 488/1000 [14:19<17:50,  2.09s/it, best loss: 0.22085808193286016]\u001b[A"
     ]
    },
    {
     "name": "stderr",
     "output_type": "stream",
     "text": [
      "Hyperopt:  49%|████▉     | 489/1000 [14:19<16:54,  1.98s/it]"
     ]
    },
    {
     "name": "stdout",
     "output_type": "stream",
     "text": [
      "\n",
      " 49%|████▉     | 489/1000 [14:19<16:54,  1.98s/it, best loss: 0.22085808193286016]\u001b[A\n",
      "\u001b[AParameters with this training score 0.7506217746739346 :\n",
      "\n",
      " 49%|████▉     | 489/1000 [14:22<16:54,  1.98s/it, best loss: 0.22085808193286016]\u001b[A\n",
      "\u001b[A{'bootstrap': True, 'class_weight': 'balanced', 'criterion': 'gini', 'max_depth': 36, 'max_features': 3, 'max_leaf_nodes': 18, 'min_samples_leaf': 5, 'min_samples_split': 60, 'n_estimators': 860}\n",
      "\n",
      " 49%|████▉     | 489/1000 [14:22<16:54,  1.98s/it, best loss: 0.22085808193286016]\u001b[A"
     ]
    },
    {
     "name": "stderr",
     "output_type": "stream",
     "text": [
      "Hyperopt:  49%|████▉     | 490/1000 [14:22<20:18,  2.39s/it]"
     ]
    },
    {
     "name": "stdout",
     "output_type": "stream",
     "text": [
      "\n",
      " 49%|████▉     | 490/1000 [14:22<20:18,  2.39s/it, best loss: 0.22085808193286016]\u001b[A\n",
      "\u001b[AParameters with this training score 0.7463641919761225 :\n",
      "\n",
      " 49%|████▉     | 490/1000 [14:25<20:18,  2.39s/it, best loss: 0.22085808193286016]\u001b[A\n",
      "\u001b[A{'bootstrap': False, 'class_weight': 'balanced', 'criterion': 'gini', 'max_depth': 22, 'max_features': 3, 'max_leaf_nodes': 14, 'min_samples_leaf': 13, 'min_samples_split': 90, 'n_estimators': 780}\n",
      "\n",
      " 49%|████▉     | 490/1000 [14:25<20:18,  2.39s/it, best loss: 0.22085808193286016]\u001b[A"
     ]
    },
    {
     "name": "stderr",
     "output_type": "stream",
     "text": [
      "Hyperopt:  49%|████▉     | 491/1000 [14:25<20:59,  2.47s/it]"
     ]
    },
    {
     "name": "stdout",
     "output_type": "stream",
     "text": [
      "\n",
      " 49%|████▉     | 491/1000 [14:25<20:59,  2.47s/it, best loss: 0.22085808193286016]\u001b[A\n",
      "\u001b[AParameters with this training score 0.7707025814461509 :\n",
      "\n",
      " 49%|████▉     | 491/1000 [14:26<20:59,  2.47s/it, best loss: 0.22085808193286016]\u001b[A\n",
      "\u001b[A{'bootstrap': False, 'class_weight': 'balanced', 'criterion': 'gini', 'max_depth': 8, 'max_features': 2, 'max_leaf_nodes': 28, 'min_samples_leaf': 28, 'min_samples_split': 50, 'n_estimators': 440}\n",
      "\n",
      " 49%|████▉     | 491/1000 [14:26<20:59,  2.47s/it, best loss: 0.22085808193286016]\u001b[A"
     ]
    },
    {
     "name": "stderr",
     "output_type": "stream",
     "text": [
      "Hyperopt:  49%|████▉     | 492/1000 [14:27<19:02,  2.25s/it]"
     ]
    },
    {
     "name": "stdout",
     "output_type": "stream",
     "text": [
      "\n",
      " 49%|████▉     | 492/1000 [14:26<19:02,  2.25s/it, best loss: 0.22085808193286016]\u001b[A\n",
      "\u001b[AParameters with this training score 0.721116796014565 :\n",
      "\n",
      " 49%|████▉     | 492/1000 [14:29<19:02,  2.25s/it, best loss: 0.22085808193286016]\u001b[A\n",
      "\u001b[A{'bootstrap': False, 'class_weight': 'balanced', 'criterion': 'gini', 'max_depth': 31, 'max_features': 3, 'max_leaf_nodes': 12, 'min_samples_leaf': 2, 'min_samples_split': 90, 'n_estimators': 800}\n",
      "\n",
      " 49%|████▉     | 492/1000 [14:29<19:02,  2.25s/it, best loss: 0.22085808193286016]\u001b[A"
     ]
    },
    {
     "name": "stderr",
     "output_type": "stream",
     "text": [
      "Hyperopt:  49%|████▉     | 493/1000 [14:29<20:19,  2.41s/it]"
     ]
    },
    {
     "name": "stdout",
     "output_type": "stream",
     "text": [
      "\n",
      " 49%|████▉     | 493/1000 [14:29<20:19,  2.41s/it, best loss: 0.22085808193286016]\u001b[A\n",
      "\u001b[AParameters with this training score 0.7797791649995305 :\n",
      "\n",
      " 49%|████▉     | 493/1000 [14:30<20:19,  2.41s/it, best loss: 0.22085808193286016]\u001b[A\n",
      "\u001b[A{'bootstrap': False, 'class_weight': 'balanced', 'criterion': 'gini', 'max_depth': 29, 'max_features': 3, 'max_leaf_nodes': 28, 'min_samples_leaf': 24, 'min_samples_split': 90, 'n_estimators': 130}\n",
      "\n",
      " 49%|████▉     | 493/1000 [14:30<20:19,  2.41s/it, best loss: 0.22085808193286016]\u001b[A"
     ]
    },
    {
     "name": "stderr",
     "output_type": "stream",
     "text": [
      "Hyperopt:  49%|████▉     | 494/1000 [14:30<15:59,  1.90s/it]"
     ]
    },
    {
     "name": "stdout",
     "output_type": "stream",
     "text": [
      "\n",
      " 49%|████▉     | 494/1000 [14:30<15:59,  1.90s/it, best loss: 0.22022083500046952]\u001b[A\n",
      "\u001b[AParameters with this training score 0.5065509455718697 :\n",
      "\n",
      " 49%|████▉     | 494/1000 [14:31<15:59,  1.90s/it, best loss: 0.22022083500046952]\u001b[A\n",
      "\u001b[A{'bootstrap': False, 'class_weight': None, 'criterion': 'gini', 'max_depth': 29, 'max_features': 1, 'max_leaf_nodes': 24, 'min_samples_leaf': 24, 'min_samples_split': 90, 'n_estimators': 130}\n",
      "\n",
      " 49%|████▉     | 494/1000 [14:31<15:59,  1.90s/it, best loss: 0.22022083500046952]\u001b[A"
     ]
    },
    {
     "name": "stderr",
     "output_type": "stream",
     "text": [
      "Hyperopt:  50%|████▉     | 495/1000 [14:31<13:22,  1.59s/it]"
     ]
    },
    {
     "name": "stdout",
     "output_type": "stream",
     "text": [
      "\n",
      " 50%|████▉     | 495/1000 [14:31<13:22,  1.59s/it, best loss: 0.22022083500046952]\u001b[A\n",
      "\u001b[AParameters with this training score 0.7772491188151577 :\n",
      "\n",
      " 50%|████▉     | 495/1000 [14:32<13:22,  1.59s/it, best loss: 0.22022083500046952]\u001b[A\n",
      "\u001b[A{'bootstrap': False, 'class_weight': 'balanced', 'criterion': 'entropy', 'max_depth': 29, 'max_features': 3, 'max_leaf_nodes': 28, 'min_samples_leaf': 24, 'min_samples_split': 90, 'n_estimators': 130}\n",
      "\n",
      " 50%|████▉     | 495/1000 [14:32<13:22,  1.59s/it, best loss: 0.22022083500046952]\u001b[A"
     ]
    },
    {
     "name": "stderr",
     "output_type": "stream",
     "text": [
      "Hyperopt:  50%|████▉     | 496/1000 [14:32<11:08,  1.33s/it]"
     ]
    },
    {
     "name": "stdout",
     "output_type": "stream",
     "text": [
      "\n",
      " 50%|████▉     | 496/1000 [14:32<11:08,  1.33s/it, best loss: 0.22022083500046952]\u001b[A\n",
      "\u001b[AParameters with this training score 0.7703278865714863 :\n",
      "\n",
      " 50%|████▉     | 496/1000 [14:32<11:08,  1.33s/it, best loss: 0.22022083500046952]\u001b[A\n",
      "\u001b[A{'bootstrap': False, 'class_weight': 'balanced', 'criterion': 'gini', 'max_depth': 32, 'max_features': 3, 'max_leaf_nodes': 22, 'min_samples_leaf': 24, 'min_samples_split': 30, 'n_estimators': 130}\n",
      "\n",
      " 50%|████▉     | 496/1000 [14:32<11:08,  1.33s/it, best loss: 0.22022083500046952]\u001b[A"
     ]
    },
    {
     "name": "stderr",
     "output_type": "stream",
     "text": [
      "Hyperopt:  50%|████▉     | 497/1000 [14:32<09:17,  1.11s/it]"
     ]
    },
    {
     "name": "stdout",
     "output_type": "stream",
     "text": [
      "\n",
      " 50%|████▉     | 497/1000 [14:32<09:17,  1.11s/it, best loss: 0.22022083500046952]\u001b[A\n",
      "\u001b[AParameters with this training score 0.7731127343122531 :\n",
      "\n",
      " 50%|████▉     | 497/1000 [14:33<09:17,  1.11s/it, best loss: 0.22022083500046952]\u001b[A\n",
      "\u001b[A{'bootstrap': True, 'class_weight': 'balanced', 'criterion': 'gini', 'max_depth': 29, 'max_features': 4, 'max_leaf_nodes': 28, 'min_samples_leaf': 24, 'min_samples_split': 40, 'n_estimators': 40}\n",
      "\n",
      " 50%|████▉     | 497/1000 [14:33<09:17,  1.11s/it, best loss: 0.22022083500046952]\u001b[A"
     ]
    },
    {
     "name": "stderr",
     "output_type": "stream",
     "text": [
      "Hyperopt:  50%|████▉     | 498/1000 [14:33<07:37,  1.10it/s]"
     ]
    },
    {
     "name": "stdout",
     "output_type": "stream",
     "text": [
      "\n",
      " 50%|████▉     | 498/1000 [14:33<07:37,  1.10it/s, best loss: 0.22022083500046952]\u001b[A\n",
      "\u001b[AParameters with this training score 0.7742412538987514 :\n",
      "\n",
      " 50%|████▉     | 498/1000 [14:33<07:37,  1.10it/s, best loss: 0.22022083500046952]\u001b[A\n",
      "\u001b[A{'bootstrap': False, 'class_weight': 'balanced', 'criterion': 'gini', 'max_depth': 29, 'max_features': 3, 'max_leaf_nodes': 28, 'min_samples_leaf': 14, 'min_samples_split': 90, 'n_estimators': 130}\n",
      "\n",
      " 50%|████▉     | 498/1000 [14:33<07:37,  1.10it/s, best loss: 0.22022083500046952]\u001b[A"
     ]
    },
    {
     "name": "stderr",
     "output_type": "stream",
     "text": [
      "Hyperopt:  50%|████▉     | 499/1000 [14:33<07:15,  1.15it/s]"
     ]
    },
    {
     "name": "stdout",
     "output_type": "stream",
     "text": [
      "\n",
      " 50%|████▉     | 499/1000 [14:33<07:15,  1.15it/s, best loss: 0.22022083500046952]\u001b[A\n",
      "\u001b[AParameters with this training score 0.7704909079339533 :\n",
      "\n",
      " 50%|████▉     | 499/1000 [14:35<07:15,  1.15it/s, best loss: 0.22022083500046952]\u001b[A\n",
      "\u001b[A{'bootstrap': False, 'class_weight': 'balanced', 'criterion': 'gini', 'max_depth': 29, 'max_features': 3, 'max_leaf_nodes': 20, 'min_samples_leaf': 24, 'min_samples_split': 70, 'n_estimators': 320}\n",
      "\n",
      " 50%|████▉     | 499/1000 [14:35<07:15,  1.15it/s, best loss: 0.22022083500046952]\u001b[A"
     ]
    },
    {
     "name": "stderr",
     "output_type": "stream",
     "text": [
      "Hyperopt:  50%|█████     | 500/1000 [14:35<08:23,  1.01s/it]"
     ]
    },
    {
     "name": "stdout",
     "output_type": "stream",
     "text": [
      "\n",
      " 50%|█████     | 500/1000 [14:35<08:23,  1.01s/it, best loss: 0.22022083500046952]\u001b[A\n",
      "\u001b[AParameters with this training score 0.7541748875303217 :\n",
      "\n",
      " 50%|█████     | 500/1000 [14:35<08:23,  1.01s/it, best loss: 0.22022083500046952]\u001b[A\n",
      "\u001b[A{'bootstrap': False, 'class_weight': 'balanced', 'criterion': 'gini', 'max_depth': 41, 'max_features': 3, 'max_leaf_nodes': 16, 'min_samples_leaf': 24, 'min_samples_split': 90, 'n_estimators': 90}\n",
      "\n",
      " 50%|█████     | 500/1000 [14:35<08:23,  1.01s/it, best loss: 0.22022083500046952]\u001b[A"
     ]
    },
    {
     "name": "stderr",
     "output_type": "stream",
     "text": [
      "Hyperopt:  50%|█████     | 501/1000 [14:35<07:20,  1.13it/s]"
     ]
    },
    {
     "name": "stdout",
     "output_type": "stream",
     "text": [
      "\n",
      " 50%|█████     | 501/1000 [14:35<07:20,  1.13it/s, best loss: 0.22022083500046952]\u001b[A\n",
      "\u001b[AParameters with this training score 0.6853449948331404 :\n",
      "\n",
      " 50%|█████     | 501/1000 [14:37<07:20,  1.13it/s, best loss: 0.22022083500046952]\u001b[A\n",
      "\u001b[A{'bootstrap': False, 'class_weight': 'balanced', 'criterion': 'gini', 'max_depth': 5, 'max_features': 2, 'max_leaf_nodes': 10, 'min_samples_leaf': 24, 'min_samples_split': 10, 'n_estimators': 560}\n",
      "\n",
      " 50%|█████     | 501/1000 [14:37<07:20,  1.13it/s, best loss: 0.22022083500046952]\u001b[A"
     ]
    },
    {
     "name": "stderr",
     "output_type": "stream",
     "text": [
      "Hyperopt:  50%|█████     | 502/1000 [14:37<10:08,  1.22s/it]"
     ]
    },
    {
     "name": "stdout",
     "output_type": "stream",
     "text": [
      "\n",
      " 50%|█████     | 502/1000 [14:37<10:08,  1.22s/it, best loss: 0.22022083500046952]\u001b[A\n",
      "\u001b[AParameters with this training score 0.6248315705571323 :\n",
      "\n",
      " 50%|█████     | 502/1000 [14:38<10:08,  1.22s/it, best loss: 0.22022083500046952]\u001b[A\n",
      "\u001b[A{'bootstrap': False, 'class_weight': None, 'criterion': 'gini', 'max_depth': 20, 'max_features': 3, 'max_leaf_nodes': 28, 'min_samples_leaf': 24, 'min_samples_split': 60, 'n_estimators': 270}\n",
      "\n",
      " 50%|█████     | 502/1000 [14:38<10:08,  1.22s/it, best loss: 0.22022083500046952]\u001b[A"
     ]
    },
    {
     "name": "stderr",
     "output_type": "stream",
     "text": [
      "Hyperopt:  50%|█████     | 503/1000 [14:39<10:04,  1.22s/it]"
     ]
    },
    {
     "name": "stdout",
     "output_type": "stream",
     "text": [
      "\n",
      " 50%|█████     | 503/1000 [14:38<10:04,  1.22s/it, best loss: 0.22022083500046952]\u001b[A\n",
      "\u001b[AParameters with this training score 0.7548246781248411 :\n",
      "\n",
      " 50%|█████     | 503/1000 [14:41<10:04,  1.22s/it, best loss: 0.22022083500046952]\u001b[A\n",
      "\u001b[A{'bootstrap': False, 'class_weight': 'balanced', 'criterion': 'entropy', 'max_depth': 29, 'max_features': 3, 'max_leaf_nodes': 18, 'min_samples_leaf': 12, 'min_samples_split': 90, 'n_estimators': 770}\n",
      "\n",
      " 50%|█████     | 503/1000 [14:41<10:04,  1.22s/it, best loss: 0.22022083500046952]\u001b[A"
     ]
    },
    {
     "name": "stderr",
     "output_type": "stream",
     "text": [
      "Hyperopt:  50%|█████     | 504/1000 [14:41<13:36,  1.65s/it]"
     ]
    },
    {
     "name": "stdout",
     "output_type": "stream",
     "text": [
      "\n",
      " 50%|█████     | 504/1000 [14:41<13:36,  1.65s/it, best loss: 0.22022083500046952]\u001b[A\n",
      "\u001b[AParameters with this training score 0.7645822958030429 :\n",
      "\n",
      " 50%|█████     | 504/1000 [14:44<13:36,  1.65s/it, best loss: 0.22022083500046952]\u001b[A\n",
      "\u001b[A{'bootstrap': False, 'class_weight': 'balanced', 'criterion': 'gini', 'max_depth': 44, 'max_features': 1, 'max_leaf_nodes': 28, 'min_samples_leaf': 24, 'min_samples_split': 50, 'n_estimators': 730}\n",
      "\n",
      " 50%|█████     | 504/1000 [14:44<13:36,  1.65s/it, best loss: 0.22022083500046952]\u001b[A"
     ]
    },
    {
     "name": "stderr",
     "output_type": "stream",
     "text": [
      "Hyperopt:  50%|█████     | 505/1000 [14:44<15:43,  1.91s/it]"
     ]
    },
    {
     "name": "stdout",
     "output_type": "stream",
     "text": [
      "\n",
      " 50%|█████     | 505/1000 [14:44<15:43,  1.91s/it, best loss: 0.22022083500046952]\u001b[A\n",
      "\u001b[AParameters with this training score 0.7288792215761672 :\n",
      "\n",
      " 50%|█████     | 505/1000 [14:46<15:43,  1.91s/it, best loss: 0.22022083500046952]\u001b[A\n",
      "\u001b[A{'bootstrap': True, 'class_weight': 'balanced', 'criterion': 'gini', 'max_depth': 39, 'max_features': 3, 'max_leaf_nodes': 14, 'min_samples_leaf': 15, 'min_samples_split': 90, 'n_estimators': 600}\n",
      "\n",
      " 50%|█████     | 505/1000 [14:46<15:43,  1.91s/it, best loss: 0.22022083500046952]\u001b[A"
     ]
    },
    {
     "name": "stderr",
     "output_type": "stream",
     "text": [
      "Hyperopt:  51%|█████     | 506/1000 [14:46<16:59,  2.06s/it]"
     ]
    },
    {
     "name": "stdout",
     "output_type": "stream",
     "text": [
      "\n",
      " 51%|█████     | 506/1000 [14:46<16:59,  2.06s/it, best loss: 0.22022083500046952]\u001b[A\n",
      "\u001b[AParameters with this training score 0.7699667164471226 :\n",
      "\n",
      " 51%|█████     | 506/1000 [14:47<16:59,  2.06s/it, best loss: 0.22022083500046952]\u001b[A\n",
      "\u001b[A{'bootstrap': False, 'class_weight': 'balanced', 'criterion': 'gini', 'max_depth': 45, 'max_features': 3, 'max_leaf_nodes': 28, 'min_samples_leaf': 6, 'min_samples_split': 90, 'n_estimators': 80}\n",
      "\n",
      " 51%|█████     | 506/1000 [14:47<16:59,  2.06s/it, best loss: 0.22022083500046952]\u001b[A"
     ]
    },
    {
     "name": "stderr",
     "output_type": "stream",
     "text": [
      "Hyperopt:  51%|█████     | 507/1000 [14:47<13:29,  1.64s/it]"
     ]
    },
    {
     "name": "stdout",
     "output_type": "stream",
     "text": [
      "\n",
      " 51%|█████     | 507/1000 [14:47<13:29,  1.64s/it, best loss: 0.22022083500046952]\u001b[A\n",
      "\u001b[AParameters with this training score 0.7446862594362287 :\n",
      "\n",
      " 51%|█████     | 507/1000 [14:48<13:29,  1.64s/it, best loss: 0.22022083500046952]\u001b[A\n",
      "\u001b[A{'bootstrap': False, 'class_weight': 'balanced', 'criterion': 'gini', 'max_depth': 30, 'max_features': 4, 'max_leaf_nodes': 12, 'min_samples_leaf': 21, 'min_samples_split': 90, 'n_estimators': 200}\n",
      "\n",
      " 51%|█████     | 507/1000 [14:48<13:29,  1.64s/it, best loss: 0.22022083500046952]\u001b[A"
     ]
    },
    {
     "name": "stderr",
     "output_type": "stream",
     "text": [
      "Hyperopt:  51%|█████     | 508/1000 [14:48<11:48,  1.44s/it]"
     ]
    },
    {
     "name": "stdout",
     "output_type": "stream",
     "text": [
      "\n",
      " 51%|█████     | 508/1000 [14:48<11:48,  1.44s/it, best loss: 0.22022083500046952]\u001b[A\n",
      "\u001b[AParameters with this training score 0.7753413554818408 :\n",
      "\n",
      " 51%|█████     | 508/1000 [14:50<11:48,  1.44s/it, best loss: 0.22022083500046952]\u001b[A\n",
      "\u001b[A{'bootstrap': False, 'class_weight': 'balanced', 'criterion': 'gini', 'max_depth': 34, 'max_features': 3, 'max_leaf_nodes': 28, 'min_samples_leaf': 19, 'min_samples_split': 90, 'n_estimators': 690}\n",
      "\n",
      " 51%|█████     | 508/1000 [14:50<11:48,  1.44s/it, best loss: 0.22022083500046952]\u001b[A"
     ]
    },
    {
     "name": "stderr",
     "output_type": "stream",
     "text": [
      "Hyperopt:  51%|█████     | 509/1000 [14:50<14:07,  1.73s/it]"
     ]
    },
    {
     "name": "stdout",
     "output_type": "stream",
     "text": [
      "\n",
      " 51%|█████     | 509/1000 [14:50<14:07,  1.73s/it, best loss: 0.22022083500046952]\u001b[A\n",
      "\u001b[AParameters with this training score 0.6824845795603419 :\n",
      "\n",
      " 51%|█████     | 509/1000 [14:53<14:07,  1.73s/it, best loss: 0.22022083500046952]\u001b[A\n",
      "\u001b[A{'bootstrap': False, 'class_weight': 'balanced', 'criterion': 'gini', 'max_depth': 3, 'max_features': 3, 'max_leaf_nodes': 24, 'min_samples_leaf': 27, 'min_samples_split': 30, 'n_estimators': 710}\n",
      "\n",
      " 51%|█████     | 509/1000 [14:53<14:07,  1.73s/it, best loss: 0.22022083500046952]\u001b[A"
     ]
    },
    {
     "name": "stderr",
     "output_type": "stream",
     "text": [
      "Hyperopt:  51%|█████     | 510/1000 [14:53<16:13,  1.99s/it]"
     ]
    },
    {
     "name": "stdout",
     "output_type": "stream",
     "text": [
      "\n",
      " 51%|█████     | 510/1000 [14:53<16:13,  1.99s/it, best loss: 0.22022083500046952]\u001b[A\n",
      "\u001b[AParameters with this training score 0.6067064417773563 :\n",
      "\n",
      " 51%|█████     | 510/1000 [14:55<16:13,  1.99s/it, best loss: 0.22022083500046952]\u001b[A\n",
      "\u001b[A{'bootstrap': False, 'class_weight': None, 'criterion': 'gini', 'max_depth': 43, 'max_features': 3, 'max_leaf_nodes': 28, 'min_samples_leaf': 20, 'min_samples_split': 40, 'n_estimators': 570}\n",
      "\n",
      " 51%|█████     | 510/1000 [14:55<16:13,  1.99s/it, best loss: 0.22022083500046952]\u001b[A"
     ]
    },
    {
     "name": "stderr",
     "output_type": "stream",
     "text": [
      "Hyperopt:  51%|█████     | 511/1000 [14:55<16:33,  2.03s/it]"
     ]
    },
    {
     "name": "stdout",
     "output_type": "stream",
     "text": [
      "\n",
      " 51%|█████     | 511/1000 [14:55<16:33,  2.03s/it, best loss: 0.22022083500046952]\u001b[A\n",
      "\u001b[AParameters with this training score 0.7566811543319499 :\n",
      "\n",
      " 51%|█████     | 511/1000 [14:56<16:33,  2.03s/it, best loss: 0.22022083500046952]\u001b[A\n",
      "\u001b[A{'bootstrap': False, 'class_weight': 'balanced', 'criterion': 'entropy', 'max_depth': 21, 'max_features': 2, 'max_leaf_nodes': 22, 'min_samples_leaf': 9, 'min_samples_split': 90, 'n_estimators': 220}\n",
      "\n",
      " 51%|█████     | 511/1000 [14:56<16:33,  2.03s/it, best loss: 0.22022083500046952]\u001b[A"
     ]
    },
    {
     "name": "stderr",
     "output_type": "stream",
     "text": [
      "Hyperopt:  51%|█████     | 512/1000 [14:56<13:56,  1.71s/it]"
     ]
    },
    {
     "name": "stdout",
     "output_type": "stream",
     "text": [
      "\n",
      " 51%|█████     | 512/1000 [14:56<13:56,  1.71s/it, best loss: 0.22022083500046952]\u001b[A\n",
      "\u001b[AParameters with this training score 0.7441201902462652 :\n",
      "\n",
      " 51%|█████     | 512/1000 [14:58<13:56,  1.71s/it, best loss: 0.22022083500046952]\u001b[A\n",
      "\u001b[A{'bootstrap': False, 'class_weight': 'balanced', 'criterion': 'gini', 'max_depth': 4, 'max_features': 3, 'max_leaf_nodes': 28, 'min_samples_leaf': 1, 'min_samples_split': 90, 'n_estimators': 750}\n",
      "\n",
      " 51%|█████     | 512/1000 [14:58<13:56,  1.71s/it, best loss: 0.22022083500046952]\u001b[A"
     ]
    },
    {
     "name": "stderr",
     "output_type": "stream",
     "text": [
      "Hyperopt:  51%|█████▏    | 513/1000 [14:59<16:03,  1.98s/it]"
     ]
    },
    {
     "name": "stdout",
     "output_type": "stream",
     "text": [
      "\n",
      " 51%|█████▏    | 513/1000 [14:58<16:03,  1.98s/it, best loss: 0.22022083500046952]\u001b[A\n",
      "\u001b[AParameters with this training score 0.7557199627057658 :\n",
      "\n",
      " 51%|█████▏    | 513/1000 [15:00<16:03,  1.98s/it, best loss: 0.22022083500046952]\u001b[A\n",
      "\u001b[A{'bootstrap': True, 'class_weight': 'balanced', 'criterion': 'gini', 'max_depth': 28, 'max_features': 3, 'max_leaf_nodes': 20, 'min_samples_leaf': 16, 'min_samples_split': 70, 'n_estimators': 380}\n",
      "\n",
      " 51%|█████▏    | 513/1000 [15:00<16:03,  1.98s/it, best loss: 0.22022083500046952]\u001b[A"
     ]
    },
    {
     "name": "stderr",
     "output_type": "stream",
     "text": [
      "Hyperopt:  51%|█████▏    | 514/1000 [15:00<15:07,  1.87s/it]"
     ]
    },
    {
     "name": "stdout",
     "output_type": "stream",
     "text": [
      "\n",
      " 51%|█████▏    | 514/1000 [15:00<15:07,  1.87s/it, best loss: 0.22022083500046952]\u001b[A\n",
      "\u001b[AParameters with this training score 0.7184269947924985 :\n",
      "\n",
      " 51%|█████▏    | 514/1000 [15:03<15:07,  1.87s/it, best loss: 0.22022083500046952]\u001b[A\n",
      "\u001b[A{'bootstrap': False, 'class_weight': 'balanced', 'criterion': 'gini', 'max_depth': 46, 'max_features': 1, 'max_leaf_nodes': 16, 'min_samples_leaf': 4, 'min_samples_split': 10, 'n_estimators': 960}\n",
      "\n",
      " 51%|█████▏    | 514/1000 [15:03<15:07,  1.87s/it, best loss: 0.22022083500046952]\u001b[A"
     ]
    },
    {
     "name": "stderr",
     "output_type": "stream",
     "text": [
      "Hyperopt:  52%|█████▏    | 515/1000 [15:04<18:54,  2.34s/it]"
     ]
    },
    {
     "name": "stdout",
     "output_type": "stream",
     "text": [
      "\n",
      " 52%|█████▏    | 515/1000 [15:03<18:54,  2.34s/it, best loss: 0.22022083500046952]\u001b[A\n",
      "\u001b[AParameters with this training score 0.7698366486873083 :\n",
      "\n",
      " 52%|█████▏    | 515/1000 [15:04<18:54,  2.34s/it, best loss: 0.22022083500046952]\u001b[A\n",
      "\u001b[A{'bootstrap': False, 'class_weight': 'balanced', 'criterion': 'gini', 'max_depth': 37, 'max_features': 3, 'max_leaf_nodes': 28, 'min_samples_leaf': 7, 'min_samples_split': 60, 'n_estimators': 120}\n",
      "\n",
      " 52%|█████▏    | 515/1000 [15:04<18:54,  2.34s/it, best loss: 0.22022083500046952]\u001b[A"
     ]
    },
    {
     "name": "stderr",
     "output_type": "stream",
     "text": [
      "Hyperopt:  52%|█████▏    | 516/1000 [15:04<14:40,  1.82s/it]"
     ]
    },
    {
     "name": "stdout",
     "output_type": "stream",
     "text": [
      "\n",
      " 52%|█████▏    | 516/1000 [15:04<14:40,  1.82s/it, best loss: 0.22022083500046952]\u001b[A\n",
      "\u001b[AParameters with this training score 0.7684796405466938 :\n",
      "\n",
      " 52%|█████▏    | 516/1000 [15:06<14:40,  1.82s/it, best loss: 0.22022083500046952]\u001b[A\n",
      "\u001b[A{'bootstrap': False, 'class_weight': 'balanced', 'criterion': 'gini', 'max_depth': 39, 'max_features': 3, 'max_leaf_nodes': 28, 'min_samples_leaf': 3, 'min_samples_split': 90, 'n_estimators': 630}\n",
      "\n",
      " 52%|█████▏    | 516/1000 [15:06<14:40,  1.82s/it, best loss: 0.22022083500046952]\u001b[A"
     ]
    },
    {
     "name": "stderr",
     "output_type": "stream",
     "text": [
      "Hyperopt:  52%|█████▏    | 517/1000 [15:06<15:46,  1.96s/it]"
     ]
    },
    {
     "name": "stdout",
     "output_type": "stream",
     "text": [
      "\n",
      " 52%|█████▏    | 517/1000 [15:06<15:46,  1.96s/it, best loss: 0.22022083500046952]\u001b[A\n",
      "\u001b[AParameters with this training score 0.7117048305092221 :\n",
      "\n",
      " 52%|█████▏    | 517/1000 [15:08<15:46,  1.96s/it, best loss: 0.22022083500046952]\u001b[A\n",
      "\u001b[A{'bootstrap': False, 'class_weight': 'balanced', 'criterion': 'gini', 'max_depth': 49, 'max_features': 3, 'max_leaf_nodes': 10, 'min_samples_leaf': 11, 'min_samples_split': 50, 'n_estimators': 400}\n",
      "\n",
      " 52%|█████▏    | 517/1000 [15:08<15:46,  1.96s/it, best loss: 0.22022083500046952]\u001b[A"
     ]
    },
    {
     "name": "stderr",
     "output_type": "stream",
     "text": [
      "Hyperopt:  52%|█████▏    | 518/1000 [15:08<14:52,  1.85s/it]"
     ]
    },
    {
     "name": "stdout",
     "output_type": "stream",
     "text": [
      "\n",
      " 52%|█████▏    | 518/1000 [15:08<14:52,  1.85s/it, best loss: 0.22022083500046952]\u001b[A\n",
      "\u001b[AParameters with this training score 0.6671917661407937 :\n",
      "\n",
      " 52%|█████▏    | 518/1000 [15:10<14:52,  1.85s/it, best loss: 0.22022083500046952]\u001b[A\n",
      "\u001b[A{'bootstrap': False, 'class_weight': None, 'criterion': 'gini', 'max_depth': 24, 'max_features': 4, 'max_leaf_nodes': 28, 'min_samples_leaf': 8, 'min_samples_split': 90, 'n_estimators': 610}\n",
      "\n",
      " 52%|█████▏    | 518/1000 [15:10<14:52,  1.85s/it, best loss: 0.22022083500046952]\u001b[A"
     ]
    },
    {
     "name": "stderr",
     "output_type": "stream",
     "text": [
      "Hyperopt:  52%|█████▏    | 519/1000 [15:10<15:49,  1.97s/it]"
     ]
    },
    {
     "name": "stdout",
     "output_type": "stream",
     "text": [
      "\n",
      " 52%|█████▏    | 519/1000 [15:10<15:49,  1.97s/it, best loss: 0.22022083500046952]\u001b[A\n",
      "\u001b[AParameters with this training score 0.759447796505702 :\n",
      "\n",
      " 52%|█████▏    | 519/1000 [15:11<15:49,  1.97s/it, best loss: 0.22022083500046952]\u001b[A\n",
      "\u001b[A{'bootstrap': False, 'class_weight': 'balanced', 'criterion': 'entropy', 'max_depth': 9, 'max_features': 3, 'max_leaf_nodes': 18, 'min_samples_leaf': 17, 'min_samples_split': 90, 'n_estimators': 110}\n",
      "\n",
      " 52%|█████▏    | 519/1000 [15:11<15:49,  1.97s/it, best loss: 0.22022083500046952]\u001b[A"
     ]
    },
    {
     "name": "stderr",
     "output_type": "stream",
     "text": [
      "Hyperopt:  52%|█████▏    | 520/1000 [15:11<12:30,  1.56s/it]"
     ]
    },
    {
     "name": "stdout",
     "output_type": "stream",
     "text": [
      "\n",
      " 52%|█████▏    | 520/1000 [15:11<12:30,  1.56s/it, best loss: 0.22022083500046952]\u001b[A\n",
      "\u001b[AParameters with this training score 0.7767265236802017 :\n",
      "\n",
      " 52%|█████▏    | 520/1000 [15:13<12:30,  1.56s/it, best loss: 0.22022083500046952]\u001b[A\n",
      "\u001b[A{'bootstrap': False, 'class_weight': 'balanced', 'criterion': 'gini', 'max_depth': 16, 'max_features': 3, 'max_leaf_nodes': 28, 'min_samples_leaf': 22, 'min_samples_split': 90, 'n_estimators': 490}\n",
      "\n",
      " 52%|█████▏    | 520/1000 [15:13<12:30,  1.56s/it, best loss: 0.22022083500046952]\u001b[A"
     ]
    },
    {
     "name": "stderr",
     "output_type": "stream",
     "text": [
      "Hyperopt:  52%|█████▏    | 521/1000 [15:13<13:14,  1.66s/it]"
     ]
    },
    {
     "name": "stdout",
     "output_type": "stream",
     "text": [
      "\n",
      " 52%|█████▏    | 521/1000 [15:13<13:14,  1.66s/it, best loss: 0.22022083500046952]\u001b[A\n",
      "\u001b[AParameters with this training score 0.7407971123376023 :\n",
      "\n",
      " 52%|█████▏    | 521/1000 [15:15<13:14,  1.66s/it, best loss: 0.22022083500046952]\u001b[A\n",
      "\u001b[A{'bootstrap': True, 'class_weight': 'balanced', 'criterion': 'gini', 'max_depth': 35, 'max_features': 3, 'max_leaf_nodes': 14, 'min_samples_leaf': 29, 'min_samples_split': 90, 'n_estimators': 590}\n",
      "\n",
      " 52%|█████▏    | 521/1000 [15:15<13:14,  1.66s/it, best loss: 0.22022083500046952]\u001b[A"
     ]
    },
    {
     "name": "stderr",
     "output_type": "stream",
     "text": [
      "Hyperopt:  52%|█████▏    | 522/1000 [15:15<15:01,  1.89s/it]"
     ]
    },
    {
     "name": "stdout",
     "output_type": "stream",
     "text": [
      "\n",
      " 52%|█████▏    | 522/1000 [15:15<15:01,  1.89s/it, best loss: 0.22022083500046952]\u001b[A\n",
      "\u001b[AParameters with this training score 0.7288419254774159 :\n",
      "\n",
      " 52%|█████▏    | 522/1000 [15:16<15:01,  1.89s/it, best loss: 0.22022083500046952]\u001b[A\n",
      "\u001b[A{'bootstrap': False, 'class_weight': 'balanced', 'criterion': 'gini', 'max_depth': 44, 'max_features': 2, 'max_leaf_nodes': 12, 'min_samples_leaf': 23, 'min_samples_split': 30, 'n_estimators': 150}\n",
      "\n",
      " 52%|█████▏    | 522/1000 [15:16<15:01,  1.89s/it, best loss: 0.22022083500046952]\u001b[A"
     ]
    },
    {
     "name": "stderr",
     "output_type": "stream",
     "text": [
      "Hyperopt:  52%|█████▏    | 523/1000 [15:16<12:28,  1.57s/it]"
     ]
    },
    {
     "name": "stdout",
     "output_type": "stream",
     "text": [
      "\n",
      " 52%|█████▏    | 523/1000 [15:16<12:28,  1.57s/it, best loss: 0.22022083500046952]\u001b[A\n",
      "\u001b[AParameters with this training score 0.7783775298266497 :\n",
      "\n",
      " 52%|█████▏    | 523/1000 [15:18<12:28,  1.57s/it, best loss: 0.22022083500046952]\u001b[A\n",
      "\u001b[A{'bootstrap': False, 'class_weight': 'balanced', 'criterion': 'gini', 'max_depth': 14, 'max_features': 3, 'max_leaf_nodes': 28, 'min_samples_leaf': 25, 'min_samples_split': 40, 'n_estimators': 480}\n",
      "\n",
      " 52%|█████▏    | 523/1000 [15:18<12:28,  1.57s/it, best loss: 0.22022083500046952]\u001b[A"
     ]
    },
    {
     "name": "stderr",
     "output_type": "stream",
     "text": [
      "Hyperopt:  52%|█████▏    | 524/1000 [15:18<13:08,  1.66s/it]"
     ]
    },
    {
     "name": "stdout",
     "output_type": "stream",
     "text": [
      "\n",
      " 52%|█████▏    | 524/1000 [15:18<13:08,  1.66s/it, best loss: 0.22022083500046952]\u001b[A\n",
      "\u001b[AParameters with this training score 0.757577165616401 :\n",
      "\n",
      " 52%|█████▏    | 524/1000 [15:21<13:08,  1.66s/it, best loss: 0.22022083500046952]\u001b[A\n",
      "\u001b[A{'bootstrap': False, 'class_weight': 'balanced', 'criterion': 'gini', 'max_depth': 33, 'max_features': 1, 'max_leaf_nodes': 24, 'min_samples_leaf': 24, 'min_samples_split': 90, 'n_estimators': 970}\n",
      "\n",
      " 52%|█████▏    | 524/1000 [15:21<13:08,  1.66s/it, best loss: 0.22022083500046952]\u001b[A"
     ]
    },
    {
     "name": "stderr",
     "output_type": "stream",
     "text": [
      "Hyperopt:  52%|█████▎    | 525/1000 [15:21<17:19,  2.19s/it]"
     ]
    },
    {
     "name": "stdout",
     "output_type": "stream",
     "text": [
      "\n",
      " 52%|█████▎    | 525/1000 [15:21<17:19,  2.19s/it, best loss: 0.22022083500046952]\u001b[A\n",
      "\u001b[AParameters with this training score 0.7762959383007291 :\n",
      "\n",
      " 52%|█████▎    | 525/1000 [15:23<17:19,  2.19s/it, best loss: 0.22022083500046952]\u001b[A\n",
      "\u001b[A{'bootstrap': False, 'class_weight': 'balanced', 'criterion': 'gini', 'max_depth': 10, 'max_features': 3, 'max_leaf_nodes': 28, 'min_samples_leaf': 18, 'min_samples_split': 70, 'n_estimators': 430}\n",
      "\n",
      " 52%|█████▎    | 525/1000 [15:23<17:19,  2.19s/it, best loss: 0.22022083500046952]\u001b[A"
     ]
    },
    {
     "name": "stderr",
     "output_type": "stream",
     "text": [
      "Hyperopt:  53%|█████▎    | 526/1000 [15:23<16:14,  2.06s/it]"
     ]
    },
    {
     "name": "stdout",
     "output_type": "stream",
     "text": [
      "\n",
      " 53%|█████▎    | 526/1000 [15:23<16:14,  2.06s/it, best loss: 0.22022083500046952]\u001b[A\n",
      "\u001b[AParameters with this training score 0.5575008227349507 :\n",
      "\n",
      " 53%|█████▎    | 526/1000 [15:26<16:14,  2.06s/it, best loss: 0.22022083500046952]\u001b[A\n",
      "\u001b[A{'bootstrap': False, 'class_weight': None, 'criterion': 'gini', 'max_depth': 42, 'max_features': 3, 'max_leaf_nodes': 22, 'min_samples_leaf': 2, 'min_samples_split': 90, 'n_estimators': 900}\n",
      "\n",
      " 53%|█████▎    | 526/1000 [15:26<16:14,  2.06s/it, best loss: 0.22022083500046952]\u001b[A"
     ]
    },
    {
     "name": "stderr",
     "output_type": "stream",
     "text": [
      "Hyperopt:  53%|█████▎    | 527/1000 [15:26<18:34,  2.36s/it]"
     ]
    },
    {
     "name": "stdout",
     "output_type": "stream",
     "text": [
      "\n",
      " 53%|█████▎    | 527/1000 [15:26<18:34,  2.36s/it, best loss: 0.22022083500046952]\u001b[A\n",
      "\u001b[AParameters with this training score 0.7772589648429152 :\n",
      "\n",
      " 53%|█████▎    | 527/1000 [15:29<18:34,  2.36s/it, best loss: 0.22022083500046952]\u001b[A\n",
      "\u001b[A{'bootstrap': False, 'class_weight': 'balanced', 'criterion': 'gini', 'max_depth': 44, 'max_features': 4, 'max_leaf_nodes': 28, 'min_samples_leaf': 21, 'min_samples_split': 10, 'n_estimators': 810}\n",
      "\n",
      " 53%|█████▎    | 527/1000 [15:29<18:34,  2.36s/it, best loss: 0.22022083500046952]\u001b[A"
     ]
    },
    {
     "name": "stderr",
     "output_type": "stream",
     "text": [
      "Hyperopt:  53%|█████▎    | 528/1000 [15:29<19:43,  2.51s/it]"
     ]
    },
    {
     "name": "stdout",
     "output_type": "stream",
     "text": [
      "\n",
      " 53%|█████▎    | 528/1000 [15:29<19:43,  2.51s/it, best loss: 0.22022083500046952]\u001b[A\n",
      "\u001b[AParameters with this training score 0.7594158713967593 :\n",
      "\n",
      " 53%|█████▎    | 528/1000 [15:32<19:43,  2.51s/it, best loss: 0.22022083500046952]\u001b[A\n",
      "\u001b[A{'bootstrap': False, 'class_weight': 'balanced', 'criterion': 'entropy', 'max_depth': 38, 'max_features': 3, 'max_leaf_nodes': 20, 'min_samples_leaf': 10, 'min_samples_split': 60, 'n_estimators': 920}\n",
      "\n",
      " 53%|█████▎    | 528/1000 [15:32<19:43,  2.51s/it, best loss: 0.22022083500046952]\u001b[A"
     ]
    },
    {
     "name": "stderr",
     "output_type": "stream",
     "text": [
      "Hyperopt:  53%|█████▎    | 529/1000 [15:32<20:48,  2.65s/it]"
     ]
    },
    {
     "name": "stdout",
     "output_type": "stream",
     "text": [
      "\n",
      " 53%|█████▎    | 529/1000 [15:32<20:48,  2.65s/it, best loss: 0.22022083500046952]\u001b[A\n",
      "\u001b[AParameters with this training score 0.7732084543112814 :\n",
      "\n",
      " 53%|█████▎    | 529/1000 [15:34<20:48,  2.65s/it, best loss: 0.22022083500046952]\u001b[A\n",
      "\u001b[A{'bootstrap': True, 'class_weight': 'balanced', 'criterion': 'gini', 'max_depth': 12, 'max_features': 3, 'max_leaf_nodes': 28, 'min_samples_leaf': 28, 'min_samples_split': 90, 'n_estimators': 470}\n",
      "\n",
      " 53%|█████▎    | 529/1000 [15:34<20:48,  2.65s/it, best loss: 0.22022083500046952]\u001b[A"
     ]
    },
    {
     "name": "stderr",
     "output_type": "stream",
     "text": [
      "Hyperopt:  53%|█████▎    | 530/1000 [15:34<19:13,  2.45s/it]"
     ]
    },
    {
     "name": "stdout",
     "output_type": "stream",
     "text": [
      "\n",
      " 53%|█████▎    | 530/1000 [15:34<19:13,  2.45s/it, best loss: 0.22022083500046952]\u001b[A\n",
      "\u001b[AParameters with this training score 0.7430396443437463 :\n",
      "\n",
      " 53%|█████▎    | 530/1000 [15:35<19:13,  2.45s/it, best loss: 0.22022083500046952]\u001b[A\n",
      "\u001b[A{'bootstrap': False, 'class_weight': 'balanced', 'criterion': 'gini', 'max_depth': 15, 'max_features': 3, 'max_leaf_nodes': 16, 'min_samples_leaf': 5, 'min_samples_split': 50, 'n_estimators': 340}\n",
      "\n",
      " 53%|█████▎    | 530/1000 [15:35<19:13,  2.45s/it, best loss: 0.22022083500046952]\u001b[A"
     ]
    },
    {
     "name": "stderr",
     "output_type": "stream",
     "text": [
      "Hyperopt:  53%|█████▎    | 531/1000 [15:35<16:49,  2.15s/it]"
     ]
    },
    {
     "name": "stdout",
     "output_type": "stream",
     "text": [
      "\n",
      " 53%|█████▎    | 531/1000 [15:35<16:49,  2.15s/it, best loss: 0.22022083500046952]\u001b[A\n",
      "\u001b[AParameters with this training score 0.7757801654020182 :\n",
      "\n",
      " 53%|█████▎    | 531/1000 [15:38<16:49,  2.15s/it, best loss: 0.22022083500046952]\u001b[A\n",
      "\u001b[A{'bootstrap': False, 'class_weight': 'balanced', 'criterion': 'gini', 'max_depth': 34, 'max_features': 3, 'max_leaf_nodes': 28, 'min_samples_leaf': 19, 'min_samples_split': 90, 'n_estimators': 660}\n",
      "\n",
      " 53%|█████▎    | 531/1000 [15:38<16:49,  2.15s/it, best loss: 0.22022083500046952]\u001b[A"
     ]
    },
    {
     "name": "stderr",
     "output_type": "stream",
     "text": [
      "Hyperopt:  53%|█████▎    | 532/1000 [15:38<17:04,  2.19s/it]"
     ]
    },
    {
     "name": "stdout",
     "output_type": "stream",
     "text": [
      "\n",
      " 53%|█████▎    | 532/1000 [15:38<17:04,  2.19s/it, best loss: 0.22022083500046952]\u001b[A\n",
      "\u001b[AParameters with this training score 0.692459013579393 :\n",
      "\n",
      " 53%|█████▎    | 532/1000 [15:40<17:04,  2.19s/it, best loss: 0.22022083500046952]\u001b[A\n",
      "\u001b[A{'bootstrap': False, 'class_weight': 'balanced', 'criterion': 'gini', 'max_depth': 27, 'max_features': 2, 'max_leaf_nodes': 10, 'min_samples_leaf': 6, 'min_samples_split': 90, 'n_estimators': 650}\n",
      "\n",
      " 53%|█████▎    | 532/1000 [15:40<17:04,  2.19s/it, best loss: 0.22022083500046952]\u001b[A"
     ]
    },
    {
     "name": "stderr",
     "output_type": "stream",
     "text": [
      "Hyperopt:  53%|█████▎    | 533/1000 [15:40<17:13,  2.21s/it]"
     ]
    },
    {
     "name": "stdout",
     "output_type": "stream",
     "text": [
      "\n",
      " 53%|█████▎    | 533/1000 [15:40<17:13,  2.21s/it, best loss: 0.22022083500046952]\u001b[A\n",
      "\u001b[AParameters with this training score 0.7755639808415882 :\n",
      "\n",
      " 53%|█████▎    | 533/1000 [15:43<17:13,  2.21s/it, best loss: 0.22022083500046952]\u001b[A\n",
      "\u001b[A{'bootstrap': False, 'class_weight': 'balanced', 'criterion': 'gini', 'max_depth': 25, 'max_features': 3, 'max_leaf_nodes': 28, 'min_samples_leaf': 13, 'min_samples_split': 90, 'n_estimators': 930}\n",
      "\n",
      " 53%|█████▎    | 533/1000 [15:43<17:13,  2.21s/it, best loss: 0.22022083500046952]\u001b[A"
     ]
    },
    {
     "name": "stderr",
     "output_type": "stream",
     "text": [
      "Hyperopt:  53%|█████▎    | 534/1000 [15:43<19:26,  2.50s/it]"
     ]
    },
    {
     "name": "stdout",
     "output_type": "stream",
     "text": [
      "\n",
      " 53%|█████▎    | 534/1000 [15:43<19:26,  2.50s/it, best loss: 0.22022083500046952]\u001b[A\n",
      "\u001b[AParameters with this training score 0.7302278551492328 :\n",
      "\n",
      " 53%|█████▎    | 534/1000 [15:45<19:26,  2.50s/it, best loss: 0.22022083500046952]\u001b[A\n",
      "\u001b[A{'bootstrap': False, 'class_weight': 'balanced', 'criterion': 'gini', 'max_depth': 40, 'max_features': 1, 'max_leaf_nodes': 18, 'min_samples_leaf': 12, 'min_samples_split': 90, 'n_estimators': 390}\n",
      "\n",
      " 53%|█████▎    | 534/1000 [15:45<19:26,  2.50s/it, best loss: 0.22022083500046952]\u001b[A"
     ]
    },
    {
     "name": "stderr",
     "output_type": "stream",
     "text": [
      "Hyperopt:  54%|█████▎    | 535/1000 [15:45<17:07,  2.21s/it]"
     ]
    },
    {
     "name": "stdout",
     "output_type": "stream",
     "text": [
      "\n",
      " 54%|█████▎    | 535/1000 [15:45<17:07,  2.21s/it, best loss: 0.22022083500046952]\u001b[A\n",
      "\u001b[AParameters with this training score 0.5849705553194001 :\n",
      "\n",
      " 54%|█████▎    | 535/1000 [15:46<17:07,  2.21s/it, best loss: 0.22022083500046952]\u001b[A\n",
      "\u001b[A{'bootstrap': False, 'class_weight': None, 'criterion': 'gini', 'max_depth': 19, 'max_features': 3, 'max_leaf_nodes': 28, 'min_samples_leaf': 15, 'min_samples_split': 30, 'n_estimators': 210}\n",
      "\n",
      " 54%|█████▎    | 535/1000 [15:46<17:07,  2.21s/it, best loss: 0.22022083500046952]\u001b[A"
     ]
    },
    {
     "name": "stderr",
     "output_type": "stream",
     "text": [
      "Hyperopt:  54%|█████▎    | 536/1000 [15:46<14:10,  1.83s/it]"
     ]
    },
    {
     "name": "stdout",
     "output_type": "stream",
     "text": [
      "\n",
      " 54%|█████▎    | 536/1000 [15:46<14:10,  1.83s/it, best loss: 0.22022083500046952]\u001b[A\n",
      "\u001b[AParameters with this training score 0.734213500421113 :\n",
      "\n",
      " 54%|█████▎    | 536/1000 [15:48<14:10,  1.83s/it, best loss: 0.22022083500046952]\u001b[A\n",
      "\u001b[A{'bootstrap': False, 'class_weight': 'balanced', 'criterion': 'entropy', 'max_depth': 48, 'max_features': 3, 'max_leaf_nodes': 12, 'min_samples_leaf': 14, 'min_samples_split': 90, 'n_estimators': 830}\n",
      "\n",
      " 54%|█████▎    | 536/1000 [15:48<14:10,  1.83s/it, best loss: 0.22022083500046952]\u001b[A"
     ]
    },
    {
     "name": "stderr",
     "output_type": "stream",
     "text": [
      "Hyperopt:  54%|█████▎    | 537/1000 [15:48<16:17,  2.11s/it]"
     ]
    },
    {
     "name": "stdout",
     "output_type": "stream",
     "text": [
      "\n",
      " 54%|█████▎    | 537/1000 [15:48<16:17,  2.11s/it, best loss: 0.22022083500046952]\u001b[A\n",
      "\u001b[AParameters with this training score 0.7544104705264176 :\n",
      "\n",
      " 54%|█████▎    | 537/1000 [15:49<16:17,  2.11s/it, best loss: 0.22022083500046952]\u001b[A\n",
      "\u001b[A{'bootstrap': False, 'class_weight': 'balanced', 'criterion': 'gini', 'max_depth': 39, 'max_features': 4, 'max_leaf_nodes': 14, 'min_samples_leaf': 27, 'min_samples_split': 40, 'n_estimators': 190}\n",
      "\n",
      " 54%|█████▎    | 537/1000 [15:49<16:17,  2.11s/it, best loss: 0.22022083500046952]\u001b[A"
     ]
    },
    {
     "name": "stderr",
     "output_type": "stream",
     "text": [
      "Hyperopt:  54%|█████▍    | 538/1000 [15:49<13:20,  1.73s/it]"
     ]
    },
    {
     "name": "stdout",
     "output_type": "stream",
     "text": [
      "\n",
      " 54%|█████▍    | 538/1000 [15:49<13:20,  1.73s/it, best loss: 0.22022083500046952]\u001b[A\n",
      "\u001b[AParameters with this training score 0.7707578309198978 :\n",
      "\n",
      " 54%|█████▍    | 538/1000 [15:52<13:20,  1.73s/it, best loss: 0.22022083500046952]\u001b[A\n",
      "\u001b[A{'bootstrap': True, 'class_weight': 'balanced', 'criterion': 'gini', 'max_depth': 36, 'max_features': 3, 'max_leaf_nodes': 28, 'min_samples_leaf': 9, 'min_samples_split': 70, 'n_estimators': 580}\n",
      "\n",
      " 54%|█████▍    | 538/1000 [15:52<13:20,  1.73s/it, best loss: 0.22022083500046952]\u001b[A"
     ]
    },
    {
     "name": "stderr",
     "output_type": "stream",
     "text": [
      "Hyperopt:  54%|█████▍    | 539/1000 [15:52<14:55,  1.94s/it]"
     ]
    },
    {
     "name": "stdout",
     "output_type": "stream",
     "text": [
      "\n",
      " 54%|█████▍    | 539/1000 [15:52<14:55,  1.94s/it, best loss: 0.22022083500046952]\u001b[A\n",
      "\u001b[AParameters with this training score 0.7641584711062375 :\n",
      "\n",
      " 54%|█████▍    | 539/1000 [15:52<14:55,  1.94s/it, best loss: 0.22022083500046952]\u001b[A\n",
      "\u001b[A{'bootstrap': False, 'class_weight': 'balanced', 'criterion': 'gini', 'max_depth': 29, 'max_features': 3, 'max_leaf_nodes': 28, 'min_samples_leaf': 24, 'min_samples_split': 90, 'n_estimators': 20}\n",
      "\n",
      " 54%|█████▍    | 539/1000 [15:52<14:55,  1.94s/it, best loss: 0.22022083500046952]\u001b[A"
     ]
    },
    {
     "name": "stderr",
     "output_type": "stream",
     "text": [
      "Hyperopt:  54%|█████▍    | 540/1000 [15:52<11:25,  1.49s/it]"
     ]
    },
    {
     "name": "stdout",
     "output_type": "stream",
     "text": [
      "\n",
      " 54%|█████▍    | 540/1000 [15:52<11:25,  1.49s/it, best loss: 0.22022083500046952]\u001b[A\n",
      "\u001b[AParameters with this training score 0.7747404835131502 :\n",
      "\n",
      " 54%|█████▍    | 540/1000 [15:54<11:25,  1.49s/it, best loss: 0.22022083500046952]\u001b[A\n",
      "\u001b[A{'bootstrap': False, 'class_weight': 'balanced', 'criterion': 'gini', 'max_depth': 13, 'max_features': 3, 'max_leaf_nodes': 24, 'min_samples_leaf': 26, 'min_samples_split': 10, 'n_estimators': 550}\n",
      "\n",
      " 54%|█████▍    | 540/1000 [15:54<11:25,  1.49s/it, best loss: 0.22022083500046952]\u001b[A"
     ]
    },
    {
     "name": "stderr",
     "output_type": "stream",
     "text": [
      "Hyperopt:  54%|█████▍    | 541/1000 [15:54<12:36,  1.65s/it]"
     ]
    },
    {
     "name": "stdout",
     "output_type": "stream",
     "text": [
      "\n",
      " 54%|█████▍    | 541/1000 [15:54<12:36,  1.65s/it, best loss: 0.22022083500046952]\u001b[A\n",
      "\u001b[AParameters with this training score 0.7625449635243595 :\n",
      "\n",
      " 54%|█████▍    | 541/1000 [15:56<12:36,  1.65s/it, best loss: 0.22022083500046952]\u001b[A\n",
      "\u001b[A{'bootstrap': False, 'class_weight': 'balanced', 'criterion': 'gini', 'max_depth': 26, 'max_features': 3, 'max_leaf_nodes': 22, 'min_samples_leaf': 1, 'min_samples_split': 60, 'n_estimators': 640}\n",
      "\n",
      " 54%|█████▍    | 541/1000 [15:56<12:36,  1.65s/it, best loss: 0.22022083500046952]\u001b[A"
     ]
    },
    {
     "name": "stderr",
     "output_type": "stream",
     "text": [
      "Hyperopt:  54%|█████▍    | 542/1000 [15:56<13:57,  1.83s/it]"
     ]
    },
    {
     "name": "stdout",
     "output_type": "stream",
     "text": [
      "\n",
      " 54%|█████▍    | 542/1000 [15:56<13:57,  1.83s/it, best loss: 0.22022083500046952]\u001b[A\n",
      "\u001b[AParameters with this training score 0.5439784991031286 :\n",
      "\n",
      " 54%|█████▍    | 542/1000 [15:59<13:57,  1.83s/it, best loss: 0.22022083500046952]\u001b[A\n",
      "\u001b[A{'bootstrap': False, 'class_weight': None, 'criterion': 'gini', 'max_depth': 31, 'max_features': 2, 'max_leaf_nodes': 28, 'min_samples_leaf': 7, 'min_samples_split': 90, 'n_estimators': 910}\n",
      "\n",
      " 54%|█████▍    | 542/1000 [15:59<13:57,  1.83s/it, best loss: 0.22022083500046952]\u001b[A"
     ]
    },
    {
     "name": "stderr",
     "output_type": "stream",
     "text": [
      "Hyperopt:  54%|█████▍    | 543/1000 [15:59<16:47,  2.20s/it]"
     ]
    },
    {
     "name": "stdout",
     "output_type": "stream",
     "text": [
      "\n",
      " 54%|█████▍    | 543/1000 [15:59<16:47,  2.20s/it, best loss: 0.22022083500046952]\u001b[A\n",
      "\u001b[AParameters with this training score 0.5812709791250674 :\n",
      "\n",
      " 54%|█████▍    | 543/1000 [16:01<16:47,  2.20s/it, best loss: 0.22022083500046952]\u001b[A\n",
      "\u001b[A{'bootstrap': False, 'class_weight': 'balanced', 'criterion': 'gini', 'max_depth': 2, 'max_features': 3, 'max_leaf_nodes': 20, 'min_samples_leaf': 3, 'min_samples_split': 50, 'n_estimators': 290}\n",
      "\n",
      " 54%|█████▍    | 543/1000 [16:01<16:47,  2.20s/it, best loss: 0.22022083500046952]\u001b[A"
     ]
    },
    {
     "name": "stderr",
     "output_type": "stream",
     "text": [
      "Hyperopt:  54%|█████▍    | 544/1000 [16:01<14:33,  1.92s/it]"
     ]
    },
    {
     "name": "stdout",
     "output_type": "stream",
     "text": [
      "\n",
      " 54%|█████▍    | 544/1000 [16:01<14:33,  1.92s/it, best loss: 0.22022083500046952]\u001b[A\n",
      "\u001b[AParameters with this training score 0.7615124043495449 :\n",
      "\n",
      " 54%|█████▍    | 544/1000 [16:02<14:33,  1.92s/it, best loss: 0.22022083500046952]\u001b[A\n",
      "\u001b[A{'bootstrap': False, 'class_weight': 'balanced', 'criterion': 'entropy', 'max_depth': 23, 'max_features': 1, 'max_leaf_nodes': 28, 'min_samples_leaf': 20, 'min_samples_split': 90, 'n_estimators': 420}\n",
      "\n",
      " 54%|█████▍    | 544/1000 [16:02<14:33,  1.92s/it, best loss: 0.22022083500046952]\u001b[A"
     ]
    },
    {
     "name": "stderr",
     "output_type": "stream",
     "text": [
      "Hyperopt:  55%|█████▍    | 545/1000 [16:02<13:50,  1.83s/it]"
     ]
    },
    {
     "name": "stdout",
     "output_type": "stream",
     "text": [
      "\n",
      " 55%|█████▍    | 545/1000 [16:02<13:50,  1.83s/it, best loss: 0.22022083500046952]\u001b[A\n",
      "\u001b[AParameters with this training score 0.7475401657462445 :\n",
      "\n",
      " 55%|█████▍    | 545/1000 [16:05<13:50,  1.83s/it, best loss: 0.22022083500046952]\u001b[A\n",
      "\u001b[A{'bootstrap': False, 'class_weight': 'balanced', 'criterion': 'gini', 'max_depth': 39, 'max_features': 3, 'max_leaf_nodes': 16, 'min_samples_leaf': 4, 'min_samples_split': 90, 'n_estimators': 950}\n",
      "\n",
      " 55%|█████▍    | 545/1000 [16:05<13:50,  1.83s/it, best loss: 0.22022083500046952]\u001b[A"
     ]
    },
    {
     "name": "stderr",
     "output_type": "stream",
     "text": [
      "Hyperopt:  55%|█████▍    | 546/1000 [16:06<17:01,  2.25s/it]"
     ]
    },
    {
     "name": "stdout",
     "output_type": "stream",
     "text": [
      "\n",
      " 55%|█████▍    | 546/1000 [16:05<17:01,  2.25s/it, best loss: 0.22022083500046952]\u001b[A\n",
      "\u001b[AParameters with this training score 0.5020453351800943 :\n",
      "\n",
      " 55%|█████▍    | 546/1000 [16:06<17:01,  2.25s/it, best loss: 0.22022083500046952]\u001b[A\n",
      "\u001b[A{'bootstrap': True, 'class_weight': 'balanced', 'criterion': 'gini', 'max_depth': 1, 'max_features': 3, 'max_leaf_nodes': 28, 'min_samples_leaf': 26, 'min_samples_split': 90, 'n_estimators': 170}\n",
      "\n",
      " 55%|█████▍    | 546/1000 [16:06<17:01,  2.25s/it, best loss: 0.22022083500046952]\u001b[A"
     ]
    },
    {
     "name": "stderr",
     "output_type": "stream",
     "text": [
      "Hyperopt:  55%|█████▍    | 547/1000 [16:07<14:02,  1.86s/it]"
     ]
    },
    {
     "name": "stdout",
     "output_type": "stream",
     "text": [
      "\n",
      " 55%|█████▍    | 547/1000 [16:06<14:02,  1.86s/it, best loss: 0.22022083500046952]\u001b[A\n",
      "\u001b[AParameters with this training score 0.7154294599860906 :\n",
      "\n",
      " 55%|█████▍    | 547/1000 [16:09<14:02,  1.86s/it, best loss: 0.22022083500046952]\u001b[A\n",
      "\u001b[A{'bootstrap': False, 'class_weight': 'balanced', 'criterion': 'gini', 'max_depth': 7, 'max_features': 3, 'max_leaf_nodes': 10, 'min_samples_leaf': 11, 'min_samples_split': 90, 'n_estimators': 760}\n",
      "\n",
      " 55%|█████▍    | 547/1000 [16:09<14:02,  1.86s/it, best loss: 0.22022083500046952]\u001b[A"
     ]
    },
    {
     "name": "stderr",
     "output_type": "stream",
     "text": [
      "Hyperopt:  55%|█████▍    | 548/1000 [16:09<15:50,  2.10s/it]"
     ]
    },
    {
     "name": "stdout",
     "output_type": "stream",
     "text": [
      "\n",
      " 55%|█████▍    | 548/1000 [16:09<15:50,  2.10s/it, best loss: 0.22022083500046952]\u001b[A\n",
      "\u001b[AParameters with this training score 0.7601990160255637 :\n",
      "\n",
      " 55%|█████▍    | 548/1000 [16:11<15:50,  2.10s/it, best loss: 0.22022083500046952]\u001b[A\n",
      "\u001b[A{'bootstrap': False, 'class_weight': 'balanced', 'criterion': 'gini', 'max_depth': 6, 'max_features': 4, 'max_leaf_nodes': 18, 'min_samples_leaf': 17, 'min_samples_split': 90, 'n_estimators': 460}\n",
      "\n",
      " 55%|█████▍    | 548/1000 [16:11<15:50,  2.10s/it, best loss: 0.22022083500046952]\u001b[A"
     ]
    },
    {
     "name": "stderr",
     "output_type": "stream",
     "text": [
      "Hyperopt:  55%|█████▍    | 549/1000 [16:11<14:58,  1.99s/it]"
     ]
    },
    {
     "name": "stdout",
     "output_type": "stream",
     "text": [
      "\n",
      " 55%|█████▍    | 549/1000 [16:11<14:58,  1.99s/it, best loss: 0.22022083500046952]\u001b[A\n",
      "\u001b[AParameters with this training score 0.7734677451176829 :\n",
      "\n",
      " 55%|█████▍    | 549/1000 [16:12<14:58,  1.99s/it, best loss: 0.22022083500046952]\u001b[A\n",
      "\u001b[A{'bootstrap': False, 'class_weight': 'balanced', 'criterion': 'gini', 'max_depth': 8, 'max_features': 3, 'max_leaf_nodes': 28, 'min_samples_leaf': 16, 'min_samples_split': 30, 'n_estimators': 130}\n",
      "\n",
      " 55%|█████▍    | 549/1000 [16:12<14:58,  1.99s/it, best loss: 0.22022083500046952]\u001b[A"
     ]
    },
    {
     "name": "stderr",
     "output_type": "stream",
     "text": [
      "Hyperopt:  55%|█████▌    | 550/1000 [16:12<12:05,  1.61s/it]"
     ]
    },
    {
     "name": "stdout",
     "output_type": "stream",
     "text": [
      "\n",
      " 55%|█████▌    | 550/1000 [16:12<12:05,  1.61s/it, best loss: 0.22022083500046952]\u001b[A\n",
      "\u001b[AParameters with this training score 0.6277813942745509 :\n",
      "\n",
      " 55%|█████▌    | 550/1000 [16:14<12:05,  1.61s/it, best loss: 0.22022083500046952]\u001b[A\n",
      "\u001b[A{'bootstrap': False, 'class_weight': None, 'criterion': 'gini', 'max_depth': 44, 'max_features': 3, 'max_leaf_nodes': 28, 'min_samples_leaf': 26, 'min_samples_split': 40, 'n_estimators': 620}\n",
      "\n",
      " 55%|█████▌    | 550/1000 [16:14<12:05,  1.61s/it, best loss: 0.22022083500046952]\u001b[A"
     ]
    },
    {
     "name": "stderr",
     "output_type": "stream",
     "text": [
      "Hyperopt:  55%|█████▌    | 551/1000 [16:14<13:12,  1.77s/it]"
     ]
    },
    {
     "name": "stdout",
     "output_type": "stream",
     "text": [
      "\n",
      " 55%|█████▌    | 551/1000 [16:14<13:12,  1.77s/it, best loss: 0.22022083500046952]\u001b[A\n",
      "\u001b[AParameters with this training score 0.7547557870674291 :\n",
      "\n",
      " 55%|█████▌    | 551/1000 [16:16<13:12,  1.77s/it, best loss: 0.22022083500046952]\u001b[A\n",
      "\u001b[A{'bootstrap': False, 'class_weight': 'balanced', 'criterion': 'gini', 'max_depth': 18, 'max_features': 3, 'max_leaf_nodes': 14, 'min_samples_leaf': 22, 'min_samples_split': 90, 'n_estimators': 540}\n",
      "\n",
      " 55%|█████▌    | 551/1000 [16:16<13:12,  1.77s/it, best loss: 0.22022083500046952]\u001b[A"
     ]
    },
    {
     "name": "stderr",
     "output_type": "stream",
     "text": [
      "Hyperopt:  55%|█████▌    | 552/1000 [16:16<13:32,  1.81s/it]"
     ]
    },
    {
     "name": "stdout",
     "output_type": "stream",
     "text": [
      "\n",
      " 55%|█████▌    | 552/1000 [16:16<13:32,  1.81s/it, best loss: 0.22022083500046952]\u001b[A\n",
      "\u001b[AParameters with this training score 0.7045629105311366 :\n",
      "\n",
      " 55%|█████▌    | 552/1000 [16:17<13:32,  1.81s/it, best loss: 0.22022083500046952]\u001b[A\n",
      "\u001b[A{'bootstrap': False, 'class_weight': 'balanced', 'criterion': 'entropy', 'max_depth': 17, 'max_features': 2, 'max_leaf_nodes': 12, 'min_samples_leaf': 10, 'min_samples_split': 70, 'n_estimators': 360}\n",
      "\n",
      " 55%|█████▌    | 552/1000 [16:17<13:32,  1.81s/it, best loss: 0.22022083500046952]\u001b[A"
     ]
    },
    {
     "name": "stderr",
     "output_type": "stream",
     "text": [
      "Hyperopt:  55%|█████▌    | 553/1000 [16:17<12:28,  1.67s/it]"
     ]
    },
    {
     "name": "stdout",
     "output_type": "stream",
     "text": [
      "\n",
      " 55%|█████▌    | 553/1000 [16:17<12:28,  1.67s/it, best loss: 0.22022083500046952]\u001b[A\n",
      "\u001b[AParameters with this training score 0.7755575529259502 :\n",
      "\n",
      " 55%|█████▌    | 553/1000 [16:17<12:28,  1.67s/it, best loss: 0.22022083500046952]\u001b[A\n",
      "\u001b[A{'bootstrap': False, 'class_weight': 'balanced', 'criterion': 'gini', 'max_depth': 22, 'max_features': 3, 'max_leaf_nodes': 28, 'min_samples_leaf': 25, 'min_samples_split': 10, 'n_estimators': 60}\n",
      "\n",
      " 55%|█████▌    | 553/1000 [16:17<12:28,  1.67s/it, best loss: 0.22022083500046952]\u001b[A"
     ]
    },
    {
     "name": "stderr",
     "output_type": "stream",
     "text": [
      "Hyperopt:  55%|█████▌    | 554/1000 [16:18<09:56,  1.34s/it]"
     ]
    },
    {
     "name": "stdout",
     "output_type": "stream",
     "text": [
      "\n",
      " 55%|█████▌    | 554/1000 [16:17<09:56,  1.34s/it, best loss: 0.22022083500046952]\u001b[A\n",
      "\u001b[AParameters with this training score 0.7721083348350821 :\n",
      "\n",
      " 55%|█████▌    | 554/1000 [16:20<09:56,  1.34s/it, best loss: 0.22022083500046952]\u001b[A\n",
      "\u001b[A{'bootstrap': False, 'class_weight': 'balanced', 'criterion': 'gini', 'max_depth': 32, 'max_features': 3, 'max_leaf_nodes': 28, 'min_samples_leaf': 8, 'min_samples_split': 90, 'n_estimators': 740}\n",
      "\n",
      " 55%|█████▌    | 554/1000 [16:20<09:56,  1.34s/it, best loss: 0.22022083500046952]\u001b[A"
     ]
    },
    {
     "name": "stderr",
     "output_type": "stream",
     "text": [
      "Hyperopt:  56%|█████▌    | 555/1000 [16:20<12:52,  1.74s/it]"
     ]
    },
    {
     "name": "stdout",
     "output_type": "stream",
     "text": [
      "\n",
      " 56%|█████▌    | 555/1000 [16:20<12:52,  1.74s/it, best loss: 0.22022083500046952]\u001b[A\n",
      "\u001b[AParameters with this training score 0.745071015888206 :\n",
      "\n",
      " 56%|█████▌    | 555/1000 [16:21<12:52,  1.74s/it, best loss: 0.22022083500046952]\u001b[A\n",
      "\u001b[A{'bootstrap': True, 'class_weight': 'balanced', 'criterion': 'gini', 'max_depth': 44, 'max_features': 1, 'max_leaf_nodes': 24, 'min_samples_leaf': 23, 'min_samples_split': 60, 'n_estimators': 180}\n",
      "\n",
      " 56%|█████▌    | 555/1000 [16:21<12:52,  1.74s/it, best loss: 0.22022083500046952]\u001b[A"
     ]
    },
    {
     "name": "stderr",
     "output_type": "stream",
     "text": [
      "Hyperopt:  56%|█████▌    | 556/1000 [16:21<11:14,  1.52s/it]"
     ]
    },
    {
     "name": "stdout",
     "output_type": "stream",
     "text": [
      "\n",
      " 56%|█████▌    | 556/1000 [16:21<11:14,  1.52s/it, best loss: 0.22022083500046952]\u001b[A\n",
      "\u001b[AParameters with this training score 0.7726599097178658 :\n",
      "\n",
      " 56%|█████▌    | 556/1000 [16:22<11:14,  1.52s/it, best loss: 0.22022083500046952]\u001b[A\n",
      "\u001b[A{'bootstrap': False, 'class_weight': 'balanced', 'criterion': 'gini', 'max_depth': 41, 'max_features': 3, 'max_leaf_nodes': 22, 'min_samples_leaf': 24, 'min_samples_split': 50, 'n_estimators': 240}\n",
      "\n",
      " 56%|█████▌    | 556/1000 [16:22<11:14,  1.52s/it, best loss: 0.22022083500046952]\u001b[A"
     ]
    },
    {
     "name": "stderr",
     "output_type": "stream",
     "text": [
      "Hyperopt:  56%|█████▌    | 557/1000 [16:22<10:17,  1.39s/it]"
     ]
    },
    {
     "name": "stdout",
     "output_type": "stream",
     "text": [
      "\n",
      " 56%|█████▌    | 557/1000 [16:22<10:17,  1.39s/it, best loss: 0.22022083500046952]\u001b[A\n",
      "\u001b[AParameters with this training score 0.7503639688676087 :\n",
      "\n",
      " 56%|█████▌    | 557/1000 [16:24<10:17,  1.39s/it, best loss: 0.22022083500046952]\u001b[A\n",
      "\u001b[A{'bootstrap': False, 'class_weight': 'balanced', 'criterion': 'gini', 'max_depth': 4, 'max_features': 3, 'max_leaf_nodes': 28, 'min_samples_leaf': 26, 'min_samples_split': 90, 'n_estimators': 300}\n",
      "\n",
      " 56%|█████▌    | 557/1000 [16:24<10:17,  1.39s/it, best loss: 0.22022083500046952]\u001b[A"
     ]
    },
    {
     "name": "stderr",
     "output_type": "stream",
     "text": [
      "Hyperopt:  56%|█████▌    | 558/1000 [16:24<10:02,  1.36s/it]"
     ]
    },
    {
     "name": "stdout",
     "output_type": "stream",
     "text": [
      "\n",
      " 56%|█████▌    | 558/1000 [16:24<10:02,  1.36s/it, best loss: 0.22022083500046952]\u001b[A\n",
      "\u001b[AParameters with this training score 0.5852000361968968 :\n",
      "\n",
      " 56%|█████▌    | 558/1000 [16:27<10:02,  1.36s/it, best loss: 0.22022083500046952]\u001b[A\n",
      "\u001b[A{'bootstrap': False, 'class_weight': None, 'criterion': 'gini', 'max_depth': 5, 'max_features': 4, 'max_leaf_nodes': 20, 'min_samples_leaf': 5, 'min_samples_split': 90, 'n_estimators': 940}\n",
      "\n",
      " 56%|█████▌    | 558/1000 [16:27<10:02,  1.36s/it, best loss: 0.22022083500046952]\u001b[A"
     ]
    },
    {
     "name": "stderr",
     "output_type": "stream",
     "text": [
      "Hyperopt:  56%|█████▌    | 559/1000 [16:27<13:38,  1.86s/it]"
     ]
    },
    {
     "name": "stdout",
     "output_type": "stream",
     "text": [
      "\n",
      " 56%|█████▌    | 559/1000 [16:27<13:38,  1.86s/it, best loss: 0.22022083500046952]\u001b[A\n",
      "\u001b[AParameters with this training score 0.7781617875125129 :\n",
      "\n",
      " 56%|█████▌    | 559/1000 [16:29<13:38,  1.86s/it, best loss: 0.22022083500046952]\u001b[A\n",
      "\u001b[A{'bootstrap': False, 'class_weight': 'balanced', 'criterion': 'gini', 'max_depth': 39, 'max_features': 3, 'max_leaf_nodes': 28, 'min_samples_leaf': 29, 'min_samples_split': 90, 'n_estimators': 720}\n",
      "\n",
      " 56%|█████▌    | 559/1000 [16:29<13:38,  1.86s/it, best loss: 0.22022083500046952]\u001b[A"
     ]
    },
    {
     "name": "stderr",
     "output_type": "stream",
     "text": [
      "Hyperopt:  56%|█████▌    | 560/1000 [16:29<15:07,  2.06s/it]"
     ]
    },
    {
     "name": "stdout",
     "output_type": "stream",
     "text": [
      "\n",
      " 56%|█████▌    | 560/1000 [16:29<15:07,  2.06s/it, best loss: 0.22022083500046952]\u001b[A\n",
      "\u001b[AParameters with this training score 0.7523023564503781 :\n",
      "\n",
      " 56%|█████▌    | 560/1000 [16:30<15:07,  2.06s/it, best loss: 0.22022083500046952]\u001b[A\n",
      "\u001b[A{'bootstrap': False, 'class_weight': 'balanced', 'criterion': 'entropy', 'max_depth': 34, 'max_features': 3, 'max_leaf_nodes': 16, 'min_samples_leaf': 18, 'min_samples_split': 90, 'n_estimators': 160}\n",
      "\n",
      " 56%|█████▌    | 560/1000 [16:30<15:07,  2.06s/it, best loss: 0.22022083500046952]\u001b[A"
     ]
    },
    {
     "name": "stderr",
     "output_type": "stream",
     "text": [
      "Hyperopt:  56%|█████▌    | 561/1000 [16:30<12:25,  1.70s/it]"
     ]
    },
    {
     "name": "stdout",
     "output_type": "stream",
     "text": [
      "\n",
      " 56%|█████▌    | 561/1000 [16:30<12:25,  1.70s/it, best loss: 0.22022083500046952]\u001b[A\n",
      "\u001b[AParameters with this training score 0.7785506267784309 :\n",
      "\n",
      " 56%|█████▌    | 561/1000 [16:31<12:25,  1.70s/it, best loss: 0.22022083500046952]\u001b[A\n",
      "\u001b[A{'bootstrap': False, 'class_weight': 'balanced', 'criterion': 'gini', 'max_depth': 30, 'max_features': 3, 'max_leaf_nodes': 28, 'min_samples_leaf': 26, 'min_samples_split': 30, 'n_estimators': 370}\n",
      "\n",
      " 56%|█████▌    | 561/1000 [16:31<12:25,  1.70s/it, best loss: 0.22022083500046952]\u001b[A"
     ]
    },
    {
     "name": "stderr",
     "output_type": "stream",
     "text": [
      "Hyperopt:  56%|█████▌    | 562/1000 [16:32<11:56,  1.63s/it]"
     ]
    },
    {
     "name": "stdout",
     "output_type": "stream",
     "text": [
      "\n",
      " 56%|█████▌    | 562/1000 [16:31<11:56,  1.63s/it, best loss: 0.22022083500046952]\u001b[A\n",
      "\u001b[AParameters with this training score 0.6313934374078223 :\n",
      "\n",
      " 56%|█████▌    | 562/1000 [16:32<11:56,  1.63s/it, best loss: 0.22022083500046952]\u001b[A\n",
      "\u001b[A{'bootstrap': True, 'class_weight': 'balanced', 'criterion': 'gini', 'max_depth': 20, 'max_features': 2, 'max_leaf_nodes': 10, 'min_samples_leaf': 2, 'min_samples_split': 90, 'n_estimators': 140}\n",
      "\n",
      " 56%|█████▌    | 562/1000 [16:32<11:56,  1.63s/it, best loss: 0.22022083500046952]\u001b[A"
     ]
    },
    {
     "name": "stderr",
     "output_type": "stream",
     "text": [
      "Hyperopt:  56%|█████▋    | 563/1000 [16:32<10:07,  1.39s/it]"
     ]
    },
    {
     "name": "stdout",
     "output_type": "stream",
     "text": [
      "\n",
      " 56%|█████▋    | 563/1000 [16:32<10:07,  1.39s/it, best loss: 0.22022083500046952]\u001b[A\n",
      "\u001b[AParameters with this training score 0.7766898647314029 :\n",
      "\n",
      " 56%|█████▋    | 563/1000 [16:34<10:07,  1.39s/it, best loss: 0.22022083500046952]\u001b[A\n",
      "\u001b[A{'bootstrap': False, 'class_weight': 'balanced', 'criterion': 'gini', 'max_depth': 39, 'max_features': 3, 'max_leaf_nodes': 28, 'min_samples_leaf': 28, 'min_samples_split': 70, 'n_estimators': 530}\n",
      "\n",
      " 56%|█████▋    | 563/1000 [16:34<10:07,  1.39s/it, best loss: 0.22022083500046952]\u001b[A"
     ]
    },
    {
     "name": "stderr",
     "output_type": "stream",
     "text": [
      "Hyperopt:  56%|█████▋    | 564/1000 [16:34<11:11,  1.54s/it]"
     ]
    },
    {
     "name": "stdout",
     "output_type": "stream",
     "text": [
      "\n",
      " 56%|█████▋    | 564/1000 [16:34<11:11,  1.54s/it, best loss: 0.22022083500046952]\u001b[A\n",
      "\u001b[AParameters with this training score 0.7685894450318681 :\n",
      "\n",
      " 56%|█████▋    | 564/1000 [16:37<11:11,  1.54s/it, best loss: 0.22022083500046952]\u001b[A\n",
      "\u001b[A{'bootstrap': False, 'class_weight': 'balanced', 'criterion': 'gini', 'max_depth': 45, 'max_features': 3, 'max_leaf_nodes': 18, 'min_samples_leaf': 19, 'min_samples_split': 40, 'n_estimators': 880}\n",
      "\n",
      " 56%|█████▋    | 564/1000 [16:37<11:11,  1.54s/it, best loss: 0.22022083500046952]\u001b[A"
     ]
    },
    {
     "name": "stderr",
     "output_type": "stream",
     "text": [
      "Hyperopt:  56%|█████▋    | 565/1000 [16:37<14:25,  1.99s/it]"
     ]
    },
    {
     "name": "stdout",
     "output_type": "stream",
     "text": [
      "\n",
      " 56%|█████▋    | 565/1000 [16:37<14:25,  1.99s/it, best loss: 0.22022083500046952]\u001b[A\n",
      "\u001b[AParameters with this training score 0.7590277985016961 :\n",
      "\n",
      " 56%|█████▋    | 565/1000 [16:39<14:25,  1.99s/it, best loss: 0.22022083500046952]\u001b[A\n",
      "\u001b[A{'bootstrap': False, 'class_weight': 'balanced', 'criterion': 'gini', 'max_depth': 21, 'max_features': 1, 'max_leaf_nodes': 28, 'min_samples_leaf': 6, 'min_samples_split': 90, 'n_estimators': 350}\n",
      "\n",
      " 56%|█████▋    | 565/1000 [16:39<14:25,  1.99s/it, best loss: 0.22022083500046952]\u001b[A"
     ]
    },
    {
     "name": "stderr",
     "output_type": "stream",
     "text": [
      "Hyperopt:  57%|█████▋    | 566/1000 [16:39<13:15,  1.83s/it]"
     ]
    },
    {
     "name": "stdout",
     "output_type": "stream",
     "text": [
      "\n",
      " 57%|█████▋    | 566/1000 [16:39<13:15,  1.83s/it, best loss: 0.22022083500046952]\u001b[A\n",
      "\u001b[AParameters with this training score 0.504020471785385 :\n",
      "\n",
      " 57%|█████▋    | 566/1000 [16:41<13:15,  1.83s/it, best loss: 0.22022083500046952]\u001b[A\n",
      "\u001b[A{'bootstrap': False, 'class_weight': None, 'criterion': 'gini', 'max_depth': 37, 'max_features': 3, 'max_leaf_nodes': 14, 'min_samples_leaf': 13, 'min_samples_split': 90, 'n_estimators': 700}\n",
      "\n",
      " 57%|█████▋    | 566/1000 [16:41<13:15,  1.83s/it, best loss: 0.22022083500046952]\u001b[A"
     ]
    },
    {
     "name": "stderr",
     "output_type": "stream",
     "text": [
      "Hyperopt:  57%|█████▋    | 567/1000 [16:41<14:11,  1.97s/it]"
     ]
    },
    {
     "name": "stdout",
     "output_type": "stream",
     "text": [
      "\n",
      " 57%|█████▋    | 567/1000 [16:41<14:11,  1.97s/it, best loss: 0.22022083500046952]\u001b[A\n",
      "\u001b[AParameters with this training score 0.7428193648539156 :\n",
      "\n",
      " 57%|█████▋    | 567/1000 [16:44<14:11,  1.97s/it, best loss: 0.22022083500046952]\u001b[A\n",
      "\u001b[A{'bootstrap': False, 'class_weight': 'balanced', 'criterion': 'gini', 'max_depth': 46, 'max_features': 3, 'max_leaf_nodes': 12, 'min_samples_leaf': 21, 'min_samples_split': 10, 'n_estimators': 850}\n",
      "\n",
      " 57%|█████▋    | 567/1000 [16:44<14:11,  1.97s/it, best loss: 0.22022083500046952]\u001b[A"
     ]
    },
    {
     "name": "stderr",
     "output_type": "stream",
     "text": [
      "Hyperopt:  57%|█████▋    | 568/1000 [16:44<16:19,  2.27s/it]"
     ]
    },
    {
     "name": "stdout",
     "output_type": "stream",
     "text": [
      "\n",
      " 57%|█████▋    | 568/1000 [16:44<16:19,  2.27s/it, best loss: 0.22022083500046952]\u001b[A\n",
      "\u001b[AParameters with this training score 0.7752270503514046 :\n",
      "\n",
      " 57%|█████▋    | 568/1000 [16:45<16:19,  2.27s/it, best loss: 0.22022083500046952]\u001b[A\n",
      "\u001b[A{'bootstrap': False, 'class_weight': 'balanced', 'criterion': 'entropy', 'max_depth': 29, 'max_features': 4, 'max_leaf_nodes': 28, 'min_samples_leaf': 26, 'min_samples_split': 60, 'n_estimators': 230}\n",
      "\n",
      " 57%|█████▋    | 568/1000 [16:45<16:19,  2.27s/it, best loss: 0.22022083500046952]\u001b[A"
     ]
    },
    {
     "name": "stderr",
     "output_type": "stream",
     "text": [
      "Hyperopt:  57%|█████▋    | 569/1000 [16:45<13:28,  1.88s/it]"
     ]
    },
    {
     "name": "stdout",
     "output_type": "stream",
     "text": [
      "\n",
      " 57%|█████▋    | 569/1000 [16:45<13:28,  1.88s/it, best loss: 0.22022083500046952]\u001b[A\n",
      "\u001b[AParameters with this training score 0.7748933211834317 :\n",
      "\n",
      " 57%|█████▋    | 569/1000 [16:47<13:28,  1.88s/it, best loss: 0.22022083500046952]\u001b[A\n",
      "\u001b[A{'bootstrap': False, 'class_weight': 'balanced', 'criterion': 'gini', 'max_depth': 43, 'max_features': 3, 'max_leaf_nodes': 28, 'min_samples_leaf': 12, 'min_samples_split': 50, 'n_estimators': 510}\n",
      "\n",
      " 57%|█████▋    | 569/1000 [16:47<13:28,  1.88s/it, best loss: 0.22022083500046952]\u001b[A"
     ]
    },
    {
     "name": "stderr",
     "output_type": "stream",
     "text": [
      "Hyperopt:  57%|█████▋    | 570/1000 [16:47<13:27,  1.88s/it]"
     ]
    },
    {
     "name": "stdout",
     "output_type": "stream",
     "text": [
      "\n",
      " 57%|█████▋    | 570/1000 [16:47<13:26,  1.88s/it, best loss: 0.22022083500046952]\u001b[A\n",
      "\u001b[AParameters with this training score 0.7468716518848694 :\n",
      "\n",
      " 57%|█████▋    | 570/1000 [16:47<13:26,  1.88s/it, best loss: 0.22022083500046952]\u001b[A\n",
      "\u001b[A{'bootstrap': True, 'class_weight': 'balanced', 'criterion': 'gini', 'max_depth': 44, 'max_features': 3, 'max_leaf_nodes': 24, 'min_samples_leaf': 15, 'min_samples_split': 90, 'n_estimators': 70}\n",
      "\n",
      " 57%|█████▋    | 570/1000 [16:47<13:26,  1.88s/it, best loss: 0.22022083500046952]\u001b[A"
     ]
    },
    {
     "name": "stderr",
     "output_type": "stream",
     "text": [
      "Hyperopt:  57%|█████▋    | 571/1000 [16:47<10:36,  1.48s/it]"
     ]
    },
    {
     "name": "stdout",
     "output_type": "stream",
     "text": [
      "\n",
      " 57%|█████▋    | 571/1000 [16:47<10:36,  1.48s/it, best loss: 0.22022083500046952]\u001b[A\n",
      "\u001b[AParameters with this training score 0.6657797098719314 :\n",
      "\n",
      " 57%|█████▋    | 571/1000 [16:48<10:36,  1.48s/it, best loss: 0.22022083500046952]\u001b[A\n",
      "\u001b[A{'bootstrap': False, 'class_weight': 'balanced', 'criterion': 'gini', 'max_depth': 3, 'max_features': 3, 'max_leaf_nodes': 22, 'min_samples_leaf': 14, 'min_samples_split': 90, 'n_estimators': 260}\n",
      "\n",
      " 57%|█████▋    | 571/1000 [16:48<10:36,  1.48s/it, best loss: 0.22022083500046952]\u001b[A"
     ]
    },
    {
     "name": "stderr",
     "output_type": "stream",
     "text": [
      "Hyperopt:  57%|█████▋    | 572/1000 [16:49<09:46,  1.37s/it]"
     ]
    },
    {
     "name": "stdout",
     "output_type": "stream",
     "text": [
      "\n",
      " 57%|█████▋    | 572/1000 [16:48<09:46,  1.37s/it, best loss: 0.22022083500046952]\u001b[A\n",
      "\u001b[AParameters with this training score 0.7739231616362533 :\n",
      "\n",
      " 57%|█████▋    | 572/1000 [16:51<09:46,  1.37s/it, best loss: 0.22022083500046952]\u001b[A\n",
      "\u001b[A{'bootstrap': False, 'class_weight': 'balanced', 'criterion': 'gini', 'max_depth': 44, 'max_features': 2, 'max_leaf_nodes': 28, 'min_samples_leaf': 27, 'min_samples_split': 90, 'n_estimators': 820}\n",
      "\n",
      " 57%|█████▋    | 572/1000 [16:51<09:46,  1.37s/it, best loss: 0.22022083500046952]\u001b[A"
     ]
    },
    {
     "name": "stderr",
     "output_type": "stream",
     "text": [
      "Hyperopt:  57%|█████▋    | 573/1000 [16:51<13:01,  1.83s/it]"
     ]
    },
    {
     "name": "stdout",
     "output_type": "stream",
     "text": [
      "\n",
      " 57%|█████▋    | 573/1000 [16:51<13:01,  1.83s/it, best loss: 0.22022083500046952]\u001b[A\n",
      "\u001b[AParameters with this training score 0.7680486981212589 :\n",
      "\n",
      " 57%|█████▋    | 573/1000 [16:53<13:01,  1.83s/it, best loss: 0.22022083500046952]\u001b[A\n",
      "\u001b[A{'bootstrap': False, 'class_weight': 'balanced', 'criterion': 'gini', 'max_depth': 35, 'max_features': 3, 'max_leaf_nodes': 20, 'min_samples_leaf': 20, 'min_samples_split': 90, 'n_estimators': 520}\n",
      "\n",
      " 57%|█████▋    | 573/1000 [16:53<13:01,  1.83s/it, best loss: 0.22022083500046952]\u001b[A"
     ]
    },
    {
     "name": "stderr",
     "output_type": "stream",
     "text": [
      "Hyperopt:  57%|█████▋    | 574/1000 [16:53<13:06,  1.85s/it]"
     ]
    },
    {
     "name": "stdout",
     "output_type": "stream",
     "text": [
      "\n",
      " 57%|█████▋    | 574/1000 [16:53<13:06,  1.85s/it, best loss: 0.22022083500046952]\u001b[A\n",
      "\u001b[AParameters with this training score 0.6338558178206913 :\n",
      "\n",
      " 57%|█████▋    | 574/1000 [16:54<13:06,  1.85s/it, best loss: 0.22022083500046952]\u001b[A\n",
      "\u001b[A{'bootstrap': False, 'class_weight': None, 'criterion': 'gini', 'max_depth': 28, 'max_features': 3, 'max_leaf_nodes': 28, 'min_samples_leaf': 26, 'min_samples_split': 30, 'n_estimators': 30}\n",
      "\n",
      " 57%|█████▋    | 574/1000 [16:54<13:06,  1.85s/it, best loss: 0.22022083500046952]\u001b[A"
     ]
    },
    {
     "name": "stderr",
     "output_type": "stream",
     "text": [
      "Hyperopt:  57%|█████▊    | 575/1000 [16:54<10:03,  1.42s/it]"
     ]
    },
    {
     "name": "stdout",
     "output_type": "stream",
     "text": [
      "\n",
      " 57%|█████▊    | 575/1000 [16:54<10:03,  1.42s/it, best loss: 0.22022083500046952]\u001b[A\n",
      "\u001b[AParameters with this training score 0.7250801183116105 :\n",
      "\n",
      " 57%|█████▊    | 575/1000 [16:55<10:03,  1.42s/it, best loss: 0.22022083500046952]\u001b[A\n",
      "\u001b[A{'bootstrap': False, 'class_weight': 'balanced', 'criterion': 'gini', 'max_depth': 24, 'max_features': 1, 'max_leaf_nodes': 16, 'min_samples_leaf': 9, 'min_samples_split': 90, 'n_estimators': 330}\n",
      "\n",
      " 57%|█████▊    | 575/1000 [16:55<10:03,  1.42s/it, best loss: 0.22022083500046952]\u001b[A"
     ]
    },
    {
     "name": "stderr",
     "output_type": "stream",
     "text": [
      "Hyperopt:  58%|█████▊    | 576/1000 [16:55<09:53,  1.40s/it]"
     ]
    },
    {
     "name": "stdout",
     "output_type": "stream",
     "text": [
      "\n",
      " 58%|█████▊    | 576/1000 [16:55<09:52,  1.40s/it, best loss: 0.22022083500046952]\u001b[A\n",
      "\u001b[AParameters with this training score 0.7665526729371581 :\n",
      "\n",
      " 58%|█████▊    | 576/1000 [16:57<09:52,  1.40s/it, best loss: 0.22022083500046952]\u001b[A\n",
      "\u001b[A{'bootstrap': False, 'class_weight': 'balanced', 'criterion': 'entropy', 'max_depth': 9, 'max_features': 3, 'max_leaf_nodes': 28, 'min_samples_leaf': 7, 'min_samples_split': 40, 'n_estimators': 670}\n",
      "\n",
      " 58%|█████▊    | 576/1000 [16:57<09:52,  1.40s/it, best loss: 0.22022083500046952]\u001b[A"
     ]
    },
    {
     "name": "stderr",
     "output_type": "stream",
     "text": [
      "Hyperopt:  58%|█████▊    | 577/1000 [16:57<11:41,  1.66s/it]"
     ]
    },
    {
     "name": "stdout",
     "output_type": "stream",
     "text": [
      "\n",
      " 58%|█████▊    | 577/1000 [16:57<11:41,  1.66s/it, best loss: 0.22022083500046952]\u001b[A\n",
      "\u001b[AParameters with this training score 0.7791419180671398 :\n",
      "\n",
      " 58%|█████▊    | 577/1000 [16:59<11:41,  1.66s/it, best loss: 0.22022083500046952]\u001b[A\n",
      "\u001b[A{'bootstrap': False, 'class_weight': 'balanced', 'criterion': 'gini', 'max_depth': 16, 'max_features': 3, 'max_leaf_nodes': 28, 'min_samples_leaf': 26, 'min_samples_split': 90, 'n_estimators': 350}\n",
      "\n",
      " 58%|█████▊    | 577/1000 [16:59<11:41,  1.66s/it, best loss: 0.22022083500046952]\u001b[A"
     ]
    },
    {
     "name": "stderr",
     "output_type": "stream",
     "text": [
      "Hyperopt:  58%|█████▊    | 578/1000 [16:59<11:10,  1.59s/it]"
     ]
    },
    {
     "name": "stdout",
     "output_type": "stream",
     "text": [
      "\n",
      " 58%|█████▊    | 578/1000 [16:59<11:10,  1.59s/it, best loss: 0.22022083500046952]\u001b[A\n",
      "\u001b[AParameters with this training score 0.7791419180671398 :\n",
      "\n",
      " 58%|█████▊    | 578/1000 [17:00<11:10,  1.59s/it, best loss: 0.22022083500046952]\u001b[A\n",
      "\u001b[A{'bootstrap': False, 'class_weight': 'balanced', 'criterion': 'gini', 'max_depth': 16, 'max_features': 3, 'max_leaf_nodes': 28, 'min_samples_leaf': 26, 'min_samples_split': 90, 'n_estimators': 350}\n",
      "\n",
      " 58%|█████▊    | 578/1000 [17:00<11:10,  1.59s/it, best loss: 0.22022083500046952]\u001b[A"
     ]
    },
    {
     "name": "stderr",
     "output_type": "stream",
     "text": [
      "Hyperopt:  58%|█████▊    | 579/1000 [17:00<10:40,  1.52s/it]"
     ]
    },
    {
     "name": "stdout",
     "output_type": "stream",
     "text": [
      "\n",
      " 58%|█████▊    | 579/1000 [17:00<10:40,  1.52s/it, best loss: 0.22022083500046952]\u001b[A\n",
      "\u001b[AParameters with this training score 0.7793737126373642 :\n",
      "\n",
      " 58%|█████▊    | 579/1000 [17:01<10:40,  1.52s/it, best loss: 0.22022083500046952]\u001b[A\n",
      "\u001b[A{'bootstrap': False, 'class_weight': 'balanced', 'criterion': 'gini', 'max_depth': 10, 'max_features': 3, 'max_leaf_nodes': 28, 'min_samples_leaf': 26, 'min_samples_split': 90, 'n_estimators': 350}\n",
      "\n",
      " 58%|█████▊    | 579/1000 [17:01<10:40,  1.52s/it, best loss: 0.22022083500046952]\u001b[A"
     ]
    },
    {
     "name": "stderr",
     "output_type": "stream",
     "text": [
      "Hyperopt:  58%|█████▊    | 580/1000 [17:02<10:24,  1.49s/it]"
     ]
    },
    {
     "name": "stdout",
     "output_type": "stream",
     "text": [
      "\n",
      " 58%|█████▊    | 580/1000 [17:01<10:24,  1.49s/it, best loss: 0.22022083500046952]\u001b[A\n",
      "\u001b[AParameters with this training score 0.7459281817674661 :\n",
      "\n",
      " 58%|█████▊    | 580/1000 [17:02<10:24,  1.49s/it, best loss: 0.22022083500046952]\u001b[A\n",
      "\u001b[A{'bootstrap': False, 'class_weight': 'balanced', 'criterion': 'gini', 'max_depth': 10, 'max_features': 3, 'max_leaf_nodes': 28, 'min_samples_leaf': 26, 'min_samples_split': 90, 'n_estimators': 10}\n",
      "\n",
      " 58%|█████▊    | 580/1000 [17:02<10:24,  1.49s/it, best loss: 0.22022083500046952]\u001b[A"
     ]
    },
    {
     "name": "stderr",
     "output_type": "stream",
     "text": [
      "Hyperopt:  58%|█████▊    | 581/1000 [17:02<08:09,  1.17s/it]"
     ]
    },
    {
     "name": "stdout",
     "output_type": "stream",
     "text": [
      "\n",
      " 58%|█████▊    | 581/1000 [17:02<08:09,  1.17s/it, best loss: 0.22022083500046952]\u001b[A\n",
      "\u001b[AParameters with this training score 0.7793737126373642 :\n",
      "\n",
      " 58%|█████▊    | 581/1000 [17:03<08:09,  1.17s/it, best loss: 0.22022083500046952]\u001b[A\n",
      "\u001b[A{'bootstrap': False, 'class_weight': 'balanced', 'criterion': 'gini', 'max_depth': 10, 'max_features': 3, 'max_leaf_nodes': 28, 'min_samples_leaf': 26, 'min_samples_split': 90, 'n_estimators': 350}\n",
      "\n",
      " 58%|█████▊    | 581/1000 [17:03<08:09,  1.17s/it, best loss: 0.22022083500046952]\u001b[A"
     ]
    },
    {
     "name": "stderr",
     "output_type": "stream",
     "text": [
      "Hyperopt:  58%|█████▊    | 582/1000 [17:03<08:32,  1.22s/it]"
     ]
    },
    {
     "name": "stdout",
     "output_type": "stream",
     "text": [
      "\n",
      " 58%|█████▊    | 582/1000 [17:03<08:32,  1.22s/it, best loss: 0.22022083500046952]\u001b[A\n",
      "\u001b[AParameters with this training score 0.7791419180671398 :\n",
      "\n",
      " 58%|█████▊    | 582/1000 [17:05<08:32,  1.22s/it, best loss: 0.22022083500046952]\u001b[A\n",
      "\u001b[A{'bootstrap': False, 'class_weight': 'balanced', 'criterion': 'gini', 'max_depth': 16, 'max_features': 3, 'max_leaf_nodes': 28, 'min_samples_leaf': 26, 'min_samples_split': 90, 'n_estimators': 350}\n",
      "\n",
      " 58%|█████▊    | 582/1000 [17:05<08:32,  1.22s/it, best loss: 0.22022083500046952]\u001b[A"
     ]
    },
    {
     "name": "stderr",
     "output_type": "stream",
     "text": [
      "Hyperopt:  58%|█████▊    | 583/1000 [17:05<08:49,  1.27s/it]"
     ]
    },
    {
     "name": "stdout",
     "output_type": "stream",
     "text": [
      "\n",
      " 58%|█████▊    | 583/1000 [17:05<08:48,  1.27s/it, best loss: 0.22022083500046952]\u001b[A\n",
      "\u001b[AParameters with this training score 0.7791419180671398 :\n",
      "\n",
      " 58%|█████▊    | 583/1000 [17:06<08:48,  1.27s/it, best loss: 0.22022083500046952]\u001b[A\n",
      "\u001b[A{'bootstrap': False, 'class_weight': 'balanced', 'criterion': 'gini', 'max_depth': 16, 'max_features': 3, 'max_leaf_nodes': 28, 'min_samples_leaf': 26, 'min_samples_split': 90, 'n_estimators': 350}\n",
      "\n",
      " 58%|█████▊    | 583/1000 [17:06<08:48,  1.27s/it, best loss: 0.22022083500046952]\u001b[A"
     ]
    },
    {
     "name": "stderr",
     "output_type": "stream",
     "text": [
      "Hyperopt:  58%|█████▊    | 584/1000 [17:06<08:56,  1.29s/it]"
     ]
    },
    {
     "name": "stdout",
     "output_type": "stream",
     "text": [
      "\n",
      " 58%|█████▊    | 584/1000 [17:06<08:56,  1.29s/it, best loss: 0.22022083500046952]\u001b[A\n",
      "\u001b[AParameters with this training score 0.7766057476058399 :\n",
      "\n",
      " 58%|█████▊    | 584/1000 [17:09<08:56,  1.29s/it, best loss: 0.22022083500046952]\u001b[A\n",
      "\u001b[A{'bootstrap': False, 'class_weight': 'balanced', 'criterion': 'gini', 'max_depth': 10, 'max_features': 3, 'max_leaf_nodes': 28, 'min_samples_leaf': 26, 'min_samples_split': 90, 'n_estimators': 790}\n",
      "\n",
      " 58%|█████▊    | 584/1000 [17:09<08:56,  1.29s/it, best loss: 0.22022083500046952]\u001b[A"
     ]
    },
    {
     "name": "stderr",
     "output_type": "stream",
     "text": [
      "Hyperopt:  58%|█████▊    | 585/1000 [17:09<11:57,  1.73s/it]"
     ]
    },
    {
     "name": "stdout",
     "output_type": "stream",
     "text": [
      "\n",
      " 58%|█████▊    | 585/1000 [17:09<11:57,  1.73s/it, best loss: 0.22022083500046952]\u001b[A\n",
      "\u001b[AParameters with this training score 0.7767850751769165 :\n",
      "\n",
      " 58%|█████▊    | 585/1000 [17:10<11:57,  1.73s/it, best loss: 0.22022083500046952]\u001b[A\n",
      "\u001b[A{'bootstrap': False, 'class_weight': 'balanced', 'criterion': 'gini', 'max_depth': 10, 'max_features': 3, 'max_leaf_nodes': 28, 'min_samples_leaf': 26, 'min_samples_split': 90, 'n_estimators': 280}\n",
      "\n",
      " 58%|█████▊    | 585/1000 [17:10<11:57,  1.73s/it, best loss: 0.22022083500046952]\u001b[A"
     ]
    },
    {
     "name": "stderr",
     "output_type": "stream",
     "text": [
      "Hyperopt:  59%|█████▊    | 586/1000 [17:10<10:46,  1.56s/it]"
     ]
    },
    {
     "name": "stdout",
     "output_type": "stream",
     "text": [
      "\n",
      " 59%|█████▊    | 586/1000 [17:10<10:46,  1.56s/it, best loss: 0.22022083500046952]\u001b[A\n",
      "\u001b[AParameters with this training score 0.7772068662849844 :\n",
      "\n",
      " 59%|█████▊    | 586/1000 [17:11<10:46,  1.56s/it, best loss: 0.22022083500046952]\u001b[A\n",
      "\u001b[A{'bootstrap': False, 'class_weight': 'balanced', 'criterion': 'gini', 'max_depth': 10, 'max_features': 3, 'max_leaf_nodes': 28, 'min_samples_leaf': 26, 'min_samples_split': 90, 'n_estimators': 250}\n",
      "\n",
      " 59%|█████▊    | 586/1000 [17:11<10:46,  1.56s/it, best loss: 0.22022083500046952]\u001b[A"
     ]
    },
    {
     "name": "stderr",
     "output_type": "stream",
     "text": [
      "Hyperopt:  59%|█████▊    | 587/1000 [17:11<09:47,  1.42s/it]"
     ]
    },
    {
     "name": "stdout",
     "output_type": "stream",
     "text": [
      "\n",
      " 59%|█████▊    | 587/1000 [17:11<09:47,  1.42s/it, best loss: 0.22022083500046952]\u001b[A\n",
      "\u001b[AParameters with this training score 0.7776977682652373 :\n",
      "\n",
      " 59%|█████▊    | 587/1000 [17:13<09:47,  1.42s/it, best loss: 0.22022083500046952]\u001b[A\n",
      "\u001b[A{'bootstrap': False, 'class_weight': 'balanced', 'criterion': 'gini', 'max_depth': 14, 'max_features': 3, 'max_leaf_nodes': 28, 'min_samples_leaf': 24, 'min_samples_split': 90, 'n_estimators': 680}\n",
      "\n",
      " 59%|█████▊    | 587/1000 [17:13<09:47,  1.42s/it, best loss: 0.22022083500046952]\u001b[A"
     ]
    },
    {
     "name": "stderr",
     "output_type": "stream",
     "text": [
      "Hyperopt:  59%|█████▉    | 588/1000 [17:13<11:45,  1.71s/it]"
     ]
    },
    {
     "name": "stdout",
     "output_type": "stream",
     "text": [
      "\n",
      " 59%|█████▉    | 588/1000 [17:13<11:45,  1.71s/it, best loss: 0.22022083500046952]\u001b[A\n",
      "\u001b[AParameters with this training score 0.7786691045484594 :\n",
      "\n",
      " 59%|█████▉    | 588/1000 [17:15<11:45,  1.71s/it, best loss: 0.22022083500046952]\u001b[A\n",
      "\u001b[A{'bootstrap': False, 'class_weight': 'balanced', 'criterion': 'gini', 'max_depth': 16, 'max_features': 3, 'max_leaf_nodes': 28, 'min_samples_leaf': 26, 'min_samples_split': 90, 'n_estimators': 450}\n",
      "\n",
      " 59%|█████▉    | 588/1000 [17:15<11:45,  1.71s/it, best loss: 0.22022083500046952]\u001b[A"
     ]
    },
    {
     "name": "stderr",
     "output_type": "stream",
     "text": [
      "Hyperopt:  59%|█████▉    | 589/1000 [17:15<11:45,  1.72s/it]"
     ]
    },
    {
     "name": "stdout",
     "output_type": "stream",
     "text": [
      "\n",
      " 59%|█████▉    | 589/1000 [17:15<11:45,  1.72s/it, best loss: 0.22022083500046952]\u001b[A\n",
      "\u001b[AParameters with this training score 0.7682393868647772 :\n",
      "\n",
      " 59%|█████▉    | 589/1000 [17:16<11:45,  1.72s/it, best loss: 0.22022083500046952]\u001b[A\n",
      "\u001b[A{'bootstrap': False, 'class_weight': 'balanced', 'criterion': 'gini', 'max_depth': 10, 'max_features': 3, 'max_leaf_nodes': 28, 'min_samples_leaf': 3, 'min_samples_split': 90, 'n_estimators': 310}\n",
      "\n",
      " 59%|█████▉    | 589/1000 [17:16<11:45,  1.72s/it, best loss: 0.22022083500046952]\u001b[A"
     ]
    },
    {
     "name": "stderr",
     "output_type": "stream",
     "text": [
      "Hyperopt:  59%|█████▉    | 590/1000 [17:17<10:56,  1.60s/it]"
     ]
    },
    {
     "name": "stdout",
     "output_type": "stream",
     "text": [
      "\n",
      " 59%|█████▉    | 590/1000 [17:16<10:56,  1.60s/it, best loss: 0.22022083500046952]\u001b[A\n",
      "\u001b[AParameters with this training score 0.7686429645315815 :\n",
      "\n",
      " 59%|█████▉    | 590/1000 [17:19<10:56,  1.60s/it, best loss: 0.22022083500046952]\u001b[A\n",
      "\u001b[A{'bootstrap': False, 'class_weight': 'balanced', 'criterion': 'gini', 'max_depth': 33, 'max_features': 3, 'max_leaf_nodes': 28, 'min_samples_leaf': 1, 'min_samples_split': 90, 'n_estimators': 780}\n",
      "\n",
      " 59%|█████▉    | 590/1000 [17:19<10:56,  1.60s/it, best loss: 0.22022083500046952]\u001b[A"
     ]
    },
    {
     "name": "stderr",
     "output_type": "stream",
     "text": [
      "Hyperopt:  59%|█████▉    | 591/1000 [17:19<13:05,  1.92s/it]"
     ]
    },
    {
     "name": "stdout",
     "output_type": "stream",
     "text": [
      "\n",
      " 59%|█████▉    | 591/1000 [17:19<13:05,  1.92s/it, best loss: 0.22022083500046952]\u001b[A\n",
      "\u001b[AParameters with this training score 0.7692100309423243 :\n",
      "\n",
      " 59%|█████▉    | 591/1000 [17:23<13:05,  1.92s/it, best loss: 0.22022083500046952]\u001b[A\n",
      "\u001b[A{'bootstrap': False, 'class_weight': 'balanced', 'criterion': 'gini', 'max_depth': 10, 'max_features': 3, 'max_leaf_nodes': 28, 'min_samples_leaf': 4, 'min_samples_split': 90, 'n_estimators': 990}\n",
      "\n",
      " 59%|█████▉    | 591/1000 [17:23<13:05,  1.92s/it, best loss: 0.22022083500046952]\u001b[A"
     ]
    },
    {
     "name": "stderr",
     "output_type": "stream",
     "text": [
      "Hyperopt:  59%|█████▉    | 592/1000 [17:23<16:18,  2.40s/it]"
     ]
    },
    {
     "name": "stdout",
     "output_type": "stream",
     "text": [
      "\n",
      " 59%|█████▉    | 592/1000 [17:23<16:18,  2.40s/it, best loss: 0.22022083500046952]\u001b[A\n",
      "\u001b[AParameters with this training score 0.7741039743194376 :\n",
      "\n",
      " 59%|█████▉    | 592/1000 [17:24<16:18,  2.40s/it, best loss: 0.22022083500046952]\u001b[A\n",
      "\u001b[A{'bootstrap': False, 'class_weight': 'balanced', 'criterion': 'gini', 'max_depth': 49, 'max_features': 3, 'max_leaf_nodes': 28, 'min_samples_leaf': 17, 'min_samples_split': 90, 'n_estimators': 200}\n",
      "\n",
      " 59%|█████▉    | 592/1000 [17:24<16:18,  2.40s/it, best loss: 0.22022083500046952]\u001b[A"
     ]
    },
    {
     "name": "stderr",
     "output_type": "stream",
     "text": [
      "Hyperopt:  59%|█████▉    | 593/1000 [17:24<13:20,  1.97s/it]"
     ]
    },
    {
     "name": "stdout",
     "output_type": "stream",
     "text": [
      "\n",
      " 59%|█████▉    | 593/1000 [17:24<13:20,  1.97s/it, best loss: 0.22022083500046952]\u001b[A\n",
      "\u001b[AParameters with this training score 0.7741288817683275 :\n",
      "\n",
      " 59%|█████▉    | 593/1000 [17:24<13:20,  1.97s/it, best loss: 0.22022083500046952]\u001b[A\n",
      "\u001b[A{'bootstrap': False, 'class_weight': 'balanced', 'criterion': 'gini', 'max_depth': 16, 'max_features': 3, 'max_leaf_nodes': 28, 'min_samples_leaf': 16, 'min_samples_split': 90, 'n_estimators': 100}\n",
      "\n",
      " 59%|█████▉    | 593/1000 [17:24<13:20,  1.97s/it, best loss: 0.22022083500046952]\u001b[A"
     ]
    },
    {
     "name": "stderr",
     "output_type": "stream",
     "text": [
      "Hyperopt:  59%|█████▉    | 594/1000 [17:24<10:31,  1.55s/it]"
     ]
    },
    {
     "name": "stdout",
     "output_type": "stream",
     "text": [
      "\n",
      " 59%|█████▉    | 594/1000 [17:24<10:31,  1.55s/it, best loss: 0.22022083500046952]\u001b[A\n",
      "\u001b[AParameters with this training score 0.7783422399008068 :\n",
      "\n",
      " 59%|█████▉    | 594/1000 [17:25<10:31,  1.55s/it, best loss: 0.22022083500046952]\u001b[A\n",
      "\u001b[A{'bootstrap': False, 'class_weight': 'balanced', 'criterion': 'gini', 'max_depth': 16, 'max_features': 3, 'max_leaf_nodes': 28, 'min_samples_leaf': 26, 'min_samples_split': 90, 'n_estimators': 320}\n",
      "\n",
      " 59%|█████▉    | 594/1000 [17:25<10:31,  1.55s/it, best loss: 0.22022083500046952]\u001b[A"
     ]
    },
    {
     "name": "stderr",
     "output_type": "stream",
     "text": [
      "Hyperopt:  60%|█████▉    | 595/1000 [17:26<10:05,  1.49s/it]"
     ]
    },
    {
     "name": "stdout",
     "output_type": "stream",
     "text": [
      "\n",
      " 60%|█████▉    | 595/1000 [17:25<10:05,  1.49s/it, best loss: 0.22022083500046952]\u001b[A\n",
      "\u001b[AParameters with this training score 0.7266573528308885 :\n",
      "\n",
      " 60%|█████▉    | 595/1000 [17:28<10:05,  1.49s/it, best loss: 0.22022083500046952]\u001b[A\n",
      "\u001b[A{'bootstrap': False, 'class_weight': 'balanced', 'criterion': 'gini', 'max_depth': 10, 'max_features': 3, 'max_leaf_nodes': 10, 'min_samples_leaf': 22, 'min_samples_split': 90, 'n_estimators': 890}\n",
      "\n",
      " 60%|█████▉    | 595/1000 [17:28<10:05,  1.49s/it, best loss: 0.22022083500046952]\u001b[A"
     ]
    },
    {
     "name": "stderr",
     "output_type": "stream",
     "text": [
      "Hyperopt:  60%|█████▉    | 596/1000 [17:28<12:49,  1.90s/it]"
     ]
    },
    {
     "name": "stdout",
     "output_type": "stream",
     "text": [
      "\n",
      " 60%|█████▉    | 596/1000 [17:28<12:49,  1.90s/it, best loss: 0.22022083500046952]\u001b[A\n",
      "\u001b[AParameters with this training score 0.7739818965293412 :\n",
      "\n",
      " 60%|█████▉    | 596/1000 [17:30<12:49,  1.90s/it, best loss: 0.22022083500046952]\u001b[A\n",
      "\u001b[A{'bootstrap': False, 'class_weight': 'balanced', 'criterion': 'gini', 'max_depth': 16, 'max_features': 3, 'max_leaf_nodes': 28, 'min_samples_leaf': 11, 'min_samples_split': 70, 'n_estimators': 500}\n",
      "\n",
      " 60%|█████▉    | 596/1000 [17:30<12:49,  1.90s/it, best loss: 0.22022083500046952]\u001b[A"
     ]
    },
    {
     "name": "stderr",
     "output_type": "stream",
     "text": [
      "Hyperopt:  60%|█████▉    | 597/1000 [17:30<12:44,  1.90s/it]"
     ]
    },
    {
     "name": "stdout",
     "output_type": "stream",
     "text": [
      "\n",
      " 60%|█████▉    | 597/1000 [17:30<12:44,  1.90s/it, best loss: 0.22022083500046952]\u001b[A\n",
      "\u001b[AParameters with this training score 0.7769579433113537 :\n",
      "\n",
      " 60%|█████▉    | 597/1000 [17:33<12:44,  1.90s/it, best loss: 0.22022083500046952]\u001b[A\n",
      "\u001b[A{'bootstrap': False, 'class_weight': 'balanced', 'criterion': 'gini', 'max_depth': 10, 'max_features': 3, 'max_leaf_nodes': 28, 'min_samples_leaf': 23, 'min_samples_split': 90, 'n_estimators': 840}\n",
      "\n",
      " 60%|█████▉    | 597/1000 [17:33<12:44,  1.90s/it, best loss: 0.22022083500046952]\u001b[A"
     ]
    },
    {
     "name": "stderr",
     "output_type": "stream",
     "text": [
      "Hyperopt:  60%|█████▉    | 598/1000 [17:33<14:55,  2.23s/it]"
     ]
    },
    {
     "name": "stdout",
     "output_type": "stream",
     "text": [
      "\n",
      " 60%|█████▉    | 598/1000 [17:33<14:55,  2.23s/it, best loss: 0.22022083500046952]\u001b[A\n",
      "\u001b[AParameters with this training score 0.7697517021248806 :\n",
      "\n",
      " 60%|█████▉    | 598/1000 [17:35<14:55,  2.23s/it, best loss: 0.22022083500046952]\u001b[A\n",
      "\u001b[A{'bootstrap': False, 'class_weight': 'balanced', 'criterion': 'gini', 'max_depth': 10, 'max_features': 3, 'max_leaf_nodes': 18, 'min_samples_leaf': 25, 'min_samples_split': 60, 'n_estimators': 440}\n",
      "\n",
      " 60%|█████▉    | 598/1000 [17:35<14:55,  2.23s/it, best loss: 0.22022083500046952]\u001b[A"
     ]
    },
    {
     "name": "stderr",
     "output_type": "stream",
     "text": [
      "Hyperopt:  60%|█████▉    | 599/1000 [17:35<13:27,  2.01s/it]"
     ]
    },
    {
     "name": "stdout",
     "output_type": "stream",
     "text": [
      "\n",
      " 60%|█████▉    | 599/1000 [17:35<13:27,  2.01s/it, best loss: 0.22022083500046952]\u001b[A\n",
      "\u001b[AParameters with this training score 0.7386575454314899 :\n",
      "\n",
      " 60%|█████▉    | 599/1000 [17:35<13:27,  2.01s/it, best loss: 0.22022083500046952]\u001b[A\n",
      "\u001b[A{'bootstrap': False, 'class_weight': 'balanced', 'criterion': 'gini', 'max_depth': 12, 'max_features': 3, 'max_leaf_nodes': 14, 'min_samples_leaf': 26, 'min_samples_split': 10, 'n_estimators': 50}\n",
      "\n",
      " 60%|█████▉    | 599/1000 [17:35<13:27,  2.01s/it, best loss: 0.22022083500046952]\u001b[A"
     ]
    },
    {
     "name": "stderr",
     "output_type": "stream",
     "text": [
      "Hyperopt:  60%|██████    | 600/1000 [17:35<10:17,  1.54s/it]"
     ]
    },
    {
     "name": "stdout",
     "output_type": "stream",
     "text": [
      "\n",
      " 60%|██████    | 600/1000 [17:35<10:17,  1.54s/it, best loss: 0.22022083500046952]\u001b[A\n",
      "\u001b[AParameters with this training score 0.772778210589377 :\n",
      "\n",
      " 60%|██████    | 600/1000 [17:39<10:17,  1.54s/it, best loss: 0.22022083500046952]\u001b[A\n",
      "\u001b[A{'bootstrap': False, 'class_weight': 'balanced', 'criterion': 'gini', 'max_depth': 10, 'max_features': 3, 'max_leaf_nodes': 28, 'min_samples_leaf': 10, 'min_samples_split': 90, 'n_estimators': 980}\n",
      "\n",
      " 60%|██████    | 600/1000 [17:39<10:17,  1.54s/it, best loss: 0.22022083500046952]\u001b[A"
     ]
    },
    {
     "name": "stderr",
     "output_type": "stream",
     "text": [
      "Hyperopt:  60%|██████    | 601/1000 [17:39<14:00,  2.11s/it]"
     ]
    },
    {
     "name": "stdout",
     "output_type": "stream",
     "text": [
      "\n",
      " 60%|██████    | 601/1000 [17:39<14:00,  2.11s/it, best loss: 0.22022083500046952]\u001b[A\n",
      "\u001b[AParameters with this training score 0.7215386670414553 :\n",
      "\n",
      " 60%|██████    | 601/1000 [17:39<14:00,  2.11s/it, best loss: 0.22022083500046952]\u001b[A\n",
      "\u001b[A{'bootstrap': False, 'class_weight': 'balanced', 'criterion': 'gini', 'max_depth': 10, 'max_features': 3, 'max_leaf_nodes': 12, 'min_samples_leaf': 8, 'min_samples_split': 50, 'n_estimators': 90}\n",
      "\n",
      " 60%|██████    | 601/1000 [17:39<14:00,  2.11s/it, best loss: 0.22022083500046952]\u001b[A"
     ]
    },
    {
     "name": "stderr",
     "output_type": "stream",
     "text": [
      "Hyperopt:  60%|██████    | 602/1000 [17:39<10:56,  1.65s/it]"
     ]
    },
    {
     "name": "stdout",
     "output_type": "stream",
     "text": [
      "\n",
      " 60%|██████    | 602/1000 [17:39<10:56,  1.65s/it, best loss: 0.22022083500046952]\u001b[A\n",
      "\u001b[AParameters with this training score 0.7772843080402432 :\n",
      "\n",
      " 60%|██████    | 602/1000 [17:42<10:56,  1.65s/it, best loss: 0.22022083500046952]\u001b[A\n",
      "\u001b[A{'bootstrap': False, 'class_weight': 'balanced', 'criterion': 'gini', 'max_depth': 38, 'max_features': 3, 'max_leaf_nodes': 28, 'min_samples_leaf': 29, 'min_samples_split': 90, 'n_estimators': 870}\n",
      "\n",
      " 60%|██████    | 602/1000 [17:42<10:56,  1.65s/it, best loss: 0.22022083500046952]\u001b[A"
     ]
    },
    {
     "name": "stderr",
     "output_type": "stream",
     "text": [
      "Hyperopt:  60%|██████    | 603/1000 [17:42<13:44,  2.08s/it]"
     ]
    },
    {
     "name": "stdout",
     "output_type": "stream",
     "text": [
      "\n",
      " 60%|██████    | 603/1000 [17:42<13:44,  2.08s/it, best loss: 0.22022083500046952]\u001b[A\n",
      "\u001b[AParameters with this training score 0.7757792872952549 :\n",
      "\n",
      " 60%|██████    | 603/1000 [17:44<13:44,  2.08s/it, best loss: 0.22022083500046952]\u001b[A\n",
      "\u001b[A{'bootstrap': False, 'class_weight': 'balanced', 'criterion': 'gini', 'max_depth': 16, 'max_features': 3, 'max_leaf_nodes': 24, 'min_samples_leaf': 26, 'min_samples_split': 90, 'n_estimators': 350}\n",
      "\n",
      " 60%|██████    | 603/1000 [17:44<13:44,  2.08s/it, best loss: 0.22022083500046952]\u001b[A"
     ]
    },
    {
     "name": "stderr",
     "output_type": "stream",
     "text": [
      "Hyperopt:  60%|██████    | 604/1000 [17:44<12:26,  1.88s/it]"
     ]
    },
    {
     "name": "stdout",
     "output_type": "stream",
     "text": [
      "\n",
      " 60%|██████    | 604/1000 [17:44<12:26,  1.88s/it, best loss: 0.22022083500046952]\u001b[A\n",
      "\u001b[AParameters with this training score 0.7770187963613295 :\n",
      "\n",
      " 60%|██████    | 604/1000 [17:46<12:26,  1.88s/it, best loss: 0.22022083500046952]\u001b[A\n",
      "\u001b[A{'bootstrap': False, 'class_weight': 'balanced', 'criterion': 'gini', 'max_depth': 27, 'max_features': 3, 'max_leaf_nodes': 28, 'min_samples_leaf': 24, 'min_samples_split': 90, 'n_estimators': 770}\n",
      "\n",
      " 60%|██████    | 604/1000 [17:46<12:26,  1.88s/it, best loss: 0.22022083500046952]\u001b[A"
     ]
    },
    {
     "name": "stderr",
     "output_type": "stream",
     "text": [
      "Hyperopt:  60%|██████    | 605/1000 [17:47<14:01,  2.13s/it]"
     ]
    },
    {
     "name": "stdout",
     "output_type": "stream",
     "text": [
      "\n",
      " 60%|██████    | 605/1000 [17:46<14:01,  2.13s/it, best loss: 0.22022083500046952]\u001b[A\n",
      "\u001b[AParameters with this training score 0.769391300515984 :\n",
      "\n",
      " 60%|██████    | 605/1000 [17:49<14:01,  2.13s/it, best loss: 0.22022083500046952]\u001b[A\n",
      "\u001b[A{'bootstrap': False, 'class_weight': 'balanced', 'criterion': 'gini', 'max_depth': 10, 'max_features': 3, 'max_leaf_nodes': 22, 'min_samples_leaf': 18, 'min_samples_split': 90, 'n_estimators': 800}\n",
      "\n",
      " 60%|██████    | 605/1000 [17:49<14:01,  2.13s/it, best loss: 0.22022083500046952]\u001b[A"
     ]
    },
    {
     "name": "stderr",
     "output_type": "stream",
     "text": [
      "Hyperopt:  61%|██████    | 606/1000 [17:49<15:03,  2.29s/it]"
     ]
    },
    {
     "name": "stdout",
     "output_type": "stream",
     "text": [
      "\n",
      " 61%|██████    | 606/1000 [17:49<15:03,  2.29s/it, best loss: 0.22022083500046952]\u001b[A\n",
      "\u001b[AParameters with this training score 0.7689089793781861 :\n",
      "\n",
      " 61%|██████    | 606/1000 [17:52<15:03,  2.29s/it, best loss: 0.22022083500046952]\u001b[A\n",
      "\u001b[A{'bootstrap': False, 'class_weight': 'balanced', 'criterion': 'gini', 'max_depth': 16, 'max_features': 3, 'max_leaf_nodes': 28, 'min_samples_leaf': 5, 'min_samples_split': 90, 'n_estimators': 860}\n",
      "\n",
      " 61%|██████    | 606/1000 [17:52<15:03,  2.29s/it, best loss: 0.22022083500046952]\u001b[A"
     ]
    },
    {
     "name": "stderr",
     "output_type": "stream",
     "text": [
      "Hyperopt:  61%|██████    | 607/1000 [17:52<16:09,  2.47s/it]"
     ]
    },
    {
     "name": "stdout",
     "output_type": "stream",
     "text": [
      "\n",
      " 61%|██████    | 607/1000 [17:52<16:09,  2.47s/it, best loss: 0.22022083500046952]\u001b[A\n",
      "\u001b[AParameters with this training score 0.7615353876889615 :\n",
      "\n",
      " 61%|██████    | 607/1000 [17:53<16:09,  2.47s/it, best loss: 0.22022083500046952]\u001b[A\n",
      "\u001b[A{'bootstrap': False, 'class_weight': 'balanced', 'criterion': 'gini', 'max_depth': 16, 'max_features': 3, 'max_leaf_nodes': 20, 'min_samples_leaf': 2, 'min_samples_split': 30, 'n_estimators': 130}\n",
      "\n",
      " 61%|██████    | 607/1000 [17:53<16:09,  2.47s/it, best loss: 0.22022083500046952]\u001b[A"
     ]
    },
    {
     "name": "stderr",
     "output_type": "stream",
     "text": [
      "Hyperopt:  61%|██████    | 608/1000 [17:53<12:40,  1.94s/it]"
     ]
    },
    {
     "name": "stdout",
     "output_type": "stream",
     "text": [
      "\n",
      " 61%|██████    | 608/1000 [17:53<12:40,  1.94s/it, best loss: 0.22022083500046952]\u001b[A\n",
      "\u001b[AParameters with this training score 0.7757275978141451 :\n",
      "\n",
      " 61%|██████    | 608/1000 [17:55<12:40,  1.94s/it, best loss: 0.22022083500046952]\u001b[A\n",
      "\u001b[A{'bootstrap': False, 'class_weight': 'balanced', 'criterion': 'gini', 'max_depth': 42, 'max_features': 4, 'max_leaf_nodes': 28, 'min_samples_leaf': 13, 'min_samples_split': 40, 'n_estimators': 710}\n",
      "\n",
      " 61%|██████    | 608/1000 [17:55<12:40,  1.94s/it, best loss: 0.22022083500046952]\u001b[A"
     ]
    },
    {
     "name": "stderr",
     "output_type": "stream",
     "text": [
      "Hyperopt:  61%|██████    | 609/1000 [17:55<13:47,  2.12s/it]"
     ]
    },
    {
     "name": "stdout",
     "output_type": "stream",
     "text": [
      "\n",
      " 61%|██████    | 609/1000 [17:55<13:47,  2.12s/it, best loss: 0.22022083500046952]\u001b[A\n",
      "\u001b[AParameters with this training score 0.7629933881502355 :\n",
      "\n",
      " 61%|██████    | 609/1000 [17:57<13:47,  2.12s/it, best loss: 0.22022083500046952]\u001b[A\n",
      "\u001b[A{'bootstrap': False, 'class_weight': 'balanced', 'criterion': 'gini', 'max_depth': 15, 'max_features': 3, 'max_leaf_nodes': 16, 'min_samples_leaf': 28, 'min_samples_split': 90, 'n_estimators': 600}\n",
      "\n",
      " 61%|██████    | 609/1000 [17:57<13:47,  2.12s/it, best loss: 0.22022083500046952]\u001b[A"
     ]
    },
    {
     "name": "stderr",
     "output_type": "stream",
     "text": [
      "Hyperopt:  61%|██████    | 610/1000 [17:57<13:49,  2.13s/it]"
     ]
    },
    {
     "name": "stdout",
     "output_type": "stream",
     "text": [
      "\n",
      " 61%|██████    | 610/1000 [17:57<13:49,  2.13s/it, best loss: 0.22022083500046952]\u001b[A\n",
      "\u001b[AParameters with this training score 0.7762692528640943 :\n",
      "\n",
      " 61%|██████    | 610/1000 [17:59<13:49,  2.13s/it, best loss: 0.22022083500046952]\u001b[A\n",
      "\u001b[A{'bootstrap': False, 'class_weight': 'balanced', 'criterion': 'gini', 'max_depth': 16, 'max_features': 3, 'max_leaf_nodes': 28, 'min_samples_leaf': 26, 'min_samples_split': 70, 'n_estimators': 350}\n",
      "\n",
      " 61%|██████    | 610/1000 [17:59<13:49,  2.13s/it, best loss: 0.22022083500046952]\u001b[A"
     ]
    },
    {
     "name": "stderr",
     "output_type": "stream",
     "text": [
      "Hyperopt:  61%|██████    | 611/1000 [17:59<12:20,  1.90s/it]"
     ]
    },
    {
     "name": "stdout",
     "output_type": "stream",
     "text": [
      "\n",
      " 61%|██████    | 611/1000 [17:59<12:20,  1.90s/it, best loss: 0.22022083500046952]\u001b[A\n",
      "\u001b[AParameters with this training score 0.7680584345577202 :\n",
      "\n",
      " 61%|██████    | 611/1000 [18:01<12:20,  1.90s/it, best loss: 0.22022083500046952]\u001b[A\n",
      "\u001b[A{'bootstrap': False, 'class_weight': 'balanced', 'criterion': 'gini', 'max_depth': 36, 'max_features': 3, 'max_leaf_nodes': 18, 'min_samples_leaf': 26, 'min_samples_split': 10, 'n_estimators': 560}\n",
      "\n",
      " 61%|██████    | 611/1000 [18:01<12:20,  1.90s/it, best loss: 0.22022083500046952]\u001b[A"
     ]
    },
    {
     "name": "stderr",
     "output_type": "stream",
     "text": [
      "Hyperopt:  61%|██████    | 612/1000 [18:01<12:43,  1.97s/it]"
     ]
    },
    {
     "name": "stdout",
     "output_type": "stream",
     "text": [
      "\n",
      " 61%|██████    | 612/1000 [18:01<12:43,  1.97s/it, best loss: 0.22022083500046952]\u001b[A\n",
      "\u001b[AParameters with this training score 0.7263290614878104 :\n",
      "\n",
      " 61%|██████    | 612/1000 [18:04<12:43,  1.97s/it, best loss: 0.22022083500046952]\u001b[A\n",
      "\u001b[A{'bootstrap': False, 'class_weight': 'balanced', 'criterion': 'gini', 'max_depth': 16, 'max_features': 3, 'max_leaf_nodes': 10, 'min_samples_leaf': 21, 'min_samples_split': 90, 'n_estimators': 960}\n",
      "\n",
      " 61%|██████    | 612/1000 [18:04<12:43,  1.97s/it, best loss: 0.22022083500046952]\u001b[A"
     ]
    },
    {
     "name": "stderr",
     "output_type": "stream",
     "text": [
      "Hyperopt:  61%|██████▏   | 613/1000 [18:04<15:14,  2.36s/it]"
     ]
    },
    {
     "name": "stdout",
     "output_type": "stream",
     "text": [
      "\n",
      " 61%|██████▏   | 613/1000 [18:04<15:14,  2.36s/it, best loss: 0.22022083500046952]\u001b[A\n",
      "\u001b[AParameters with this training score 0.7720672103710539 :\n",
      "\n",
      " 61%|██████▏   | 613/1000 [18:07<15:14,  2.36s/it, best loss: 0.22022083500046952]\u001b[A\n",
      "\u001b[A{'bootstrap': False, 'class_weight': 'balanced', 'criterion': 'gini', 'max_depth': 16, 'max_features': 2, 'max_leaf_nodes': 28, 'min_samples_leaf': 19, 'min_samples_split': 60, 'n_estimators': 730}\n",
      "\n",
      " 61%|██████▏   | 613/1000 [18:07<15:14,  2.36s/it, best loss: 0.22022083500046952]\u001b[A"
     ]
    },
    {
     "name": "stderr",
     "output_type": "stream",
     "text": [
      "Hyperopt:  61%|██████▏   | 614/1000 [18:07<15:45,  2.45s/it]"
     ]
    },
    {
     "name": "stdout",
     "output_type": "stream",
     "text": [
      "\n",
      " 61%|██████▏   | 614/1000 [18:07<15:45,  2.45s/it, best loss: 0.22022083500046952]\u001b[A\n",
      "\u001b[AParameters with this training score 0.776321897505972 :\n",
      "\n",
      " 61%|██████▏   | 614/1000 [18:08<15:45,  2.45s/it, best loss: 0.22022083500046952]\u001b[A\n",
      "\u001b[A{'bootstrap': False, 'class_weight': 'balanced', 'criterion': 'gini', 'max_depth': 25, 'max_features': 3, 'max_leaf_nodes': 28, 'min_samples_leaf': 14, 'min_samples_split': 90, 'n_estimators': 270}\n",
      "\n",
      " 61%|██████▏   | 614/1000 [18:08<15:45,  2.45s/it, best loss: 0.22022083500046952]\u001b[A"
     ]
    },
    {
     "name": "stderr",
     "output_type": "stream",
     "text": [
      "Hyperopt:  62%|██████▏   | 615/1000 [18:08<13:08,  2.05s/it]"
     ]
    },
    {
     "name": "stdout",
     "output_type": "stream",
     "text": [
      "\n",
      " 62%|██████▏   | 615/1000 [18:08<13:08,  2.05s/it, best loss: 0.22022083500046952]\u001b[A\n",
      "\u001b[AParameters with this training score 0.7483409841181894 :\n",
      "\n",
      " 62%|██████▏   | 615/1000 [18:09<13:08,  2.05s/it, best loss: 0.22022083500046952]\u001b[A\n",
      "\u001b[A{'bootstrap': False, 'class_weight': 'balanced', 'criterion': 'gini', 'max_depth': 16, 'max_features': 3, 'max_leaf_nodes': 14, 'min_samples_leaf': 12, 'min_samples_split': 50, 'n_estimators': 80}\n",
      "\n",
      " 62%|██████▏   | 615/1000 [18:09<13:08,  2.05s/it, best loss: 0.22022083500046952]\u001b[A"
     ]
    },
    {
     "name": "stderr",
     "output_type": "stream",
     "text": [
      "Hyperopt:  62%|██████▏   | 616/1000 [18:09<10:23,  1.62s/it]"
     ]
    },
    {
     "name": "stdout",
     "output_type": "stream",
     "text": [
      "\n",
      " 62%|██████▏   | 616/1000 [18:09<10:23,  1.62s/it, best loss: 0.22022083500046952]\u001b[A\n",
      "\u001b[AParameters with this training score 0.7253835723138196 :\n",
      "\n",
      " 62%|██████▏   | 616/1000 [18:11<10:23,  1.62s/it, best loss: 0.22022083500046952]\u001b[A\n",
      "\u001b[A{'bootstrap': False, 'class_weight': 'balanced', 'criterion': 'gini', 'max_depth': 39, 'max_features': 3, 'max_leaf_nodes': 12, 'min_samples_leaf': 6, 'min_samples_split': 90, 'n_estimators': 570}\n",
      "\n",
      " 62%|██████▏   | 616/1000 [18:11<10:23,  1.62s/it, best loss: 0.22022083500046952]\u001b[A"
     ]
    },
    {
     "name": "stderr",
     "output_type": "stream",
     "text": [
      "Hyperopt:  62%|██████▏   | 617/1000 [18:11<11:19,  1.77s/it]"
     ]
    },
    {
     "name": "stdout",
     "output_type": "stream",
     "text": [
      "\n",
      " 62%|██████▏   | 617/1000 [18:11<11:19,  1.77s/it, best loss: 0.22022083500046952]\u001b[A\n",
      "\u001b[AParameters with this training score 0.7506004070679275 :\n",
      "\n",
      " 62%|██████▏   | 617/1000 [18:12<11:19,  1.77s/it, best loss: 0.22022083500046952]\u001b[A\n",
      "\u001b[A{'bootstrap': True, 'class_weight': 'balanced', 'criterion': 'gini', 'max_depth': 48, 'max_features': 1, 'max_leaf_nodes': 28, 'min_samples_leaf': 27, 'min_samples_split': 90, 'n_estimators': 400}\n",
      "\n",
      " 62%|██████▏   | 617/1000 [18:12<11:19,  1.77s/it, best loss: 0.22022083500046952]\u001b[A"
     ]
    },
    {
     "name": "stderr",
     "output_type": "stream",
     "text": [
      "Hyperopt:  62%|██████▏   | 618/1000 [18:12<11:11,  1.76s/it]"
     ]
    },
    {
     "name": "stdout",
     "output_type": "stream",
     "text": [
      "\n",
      " 62%|██████▏   | 618/1000 [18:12<11:11,  1.76s/it, best loss: 0.22022083500046952]\u001b[A\n",
      "\u001b[AParameters with this training score 0.7770520168001833 :\n",
      "\n",
      " 62%|██████▏   | 618/1000 [18:15<11:11,  1.76s/it, best loss: 0.22022083500046952]\u001b[A\n",
      "\u001b[A{'bootstrap': False, 'class_weight': 'balanced', 'criterion': 'gini', 'max_depth': 19, 'max_features': 3, 'max_leaf_nodes': 28, 'min_samples_leaf': 15, 'min_samples_split': 90, 'n_estimators': 690}\n",
      "\n",
      " 62%|██████▏   | 618/1000 [18:15<11:11,  1.76s/it, best loss: 0.22022083500046952]\u001b[A"
     ]
    },
    {
     "name": "stderr",
     "output_type": "stream",
     "text": [
      "Hyperopt:  62%|██████▏   | 619/1000 [18:15<12:32,  1.97s/it]"
     ]
    },
    {
     "name": "stdout",
     "output_type": "stream",
     "text": [
      "\n",
      " 62%|██████▏   | 619/1000 [18:15<12:32,  1.97s/it, best loss: 0.22022083500046952]\u001b[A\n",
      "\u001b[AParameters with this training score 0.5015415030433402 :\n",
      "\n",
      " 62%|██████▏   | 619/1000 [18:17<12:32,  1.97s/it, best loss: 0.22022083500046952]\u001b[A\n",
      "\u001b[A{'bootstrap': False, 'class_weight': 'balanced', 'criterion': 'gini', 'max_depth': 1, 'max_features': 4, 'max_leaf_nodes': 24, 'min_samples_leaf': 26, 'min_samples_split': 90, 'n_estimators': 630}\n",
      "\n",
      " 62%|██████▏   | 619/1000 [18:17<12:32,  1.97s/it, best loss: 0.22022083500046952]\u001b[A"
     ]
    },
    {
     "name": "stderr",
     "output_type": "stream",
     "text": [
      "Hyperopt:  62%|██████▏   | 620/1000 [18:17<13:13,  2.09s/it]"
     ]
    },
    {
     "name": "stdout",
     "output_type": "stream",
     "text": [
      "\n",
      " 62%|██████▏   | 620/1000 [18:17<13:13,  2.09s/it, best loss: 0.22022083500046952]\u001b[A\n",
      "\u001b[AParameters with this training score 0.6018413514078773 :\n",
      "\n",
      " 62%|██████▏   | 620/1000 [18:20<13:13,  2.09s/it, best loss: 0.22022083500046952]\u001b[A\n",
      "\u001b[A{'bootstrap': False, 'class_weight': None, 'criterion': 'gini', 'max_depth': 13, 'max_features': 3, 'max_leaf_nodes': 28, 'min_samples_leaf': 9, 'min_samples_split': 90, 'n_estimators': 810}\n",
      "\n",
      " 62%|██████▏   | 620/1000 [18:20<13:13,  2.09s/it, best loss: 0.22022083500046952]\u001b[A"
     ]
    },
    {
     "name": "stderr",
     "output_type": "stream",
     "text": [
      "Hyperopt:  62%|██████▏   | 621/1000 [18:20<14:26,  2.29s/it]"
     ]
    },
    {
     "name": "stdout",
     "output_type": "stream",
     "text": [
      "\n",
      " 62%|██████▏   | 621/1000 [18:20<14:26,  2.29s/it, best loss: 0.22022083500046952]\u001b[A\n",
      "\u001b[AParameters with this training score 0.7727873432694221 :\n",
      "\n",
      " 62%|██████▏   | 621/1000 [18:22<14:26,  2.29s/it, best loss: 0.22022083500046952]\u001b[A\n",
      "\u001b[A{'bootstrap': False, 'class_weight': 'balanced', 'criterion': 'gini', 'max_depth': 17, 'max_features': 3, 'max_leaf_nodes': 22, 'min_samples_leaf': 24, 'min_samples_split': 30, 'n_estimators': 480}\n",
      "\n",
      " 62%|██████▏   | 621/1000 [18:22<14:26,  2.29s/it, best loss: 0.22022083500046952]\u001b[A"
     ]
    },
    {
     "name": "stderr",
     "output_type": "stream",
     "text": [
      "Hyperopt:  62%|██████▏   | 622/1000 [18:22<13:35,  2.16s/it]"
     ]
    },
    {
     "name": "stdout",
     "output_type": "stream",
     "text": [
      "\n",
      " 62%|██████▏   | 622/1000 [18:22<13:35,  2.16s/it, best loss: 0.22022083500046952]\u001b[A\n",
      "\u001b[AParameters with this training score 0.7762969227498611 :\n",
      "\n",
      " 62%|██████▏   | 622/1000 [18:23<13:35,  2.16s/it, best loss: 0.22022083500046952]\u001b[A\n",
      "\u001b[A{'bootstrap': False, 'class_weight': 'balanced', 'criterion': 'entropy', 'max_depth': 16, 'max_features': 3, 'max_leaf_nodes': 28, 'min_samples_leaf': 26, 'min_samples_split': 40, 'n_estimators': 350}\n",
      "\n",
      " 62%|██████▏   | 622/1000 [18:23<13:35,  2.16s/it, best loss: 0.22022083500046952]\u001b[A"
     ]
    },
    {
     "name": "stderr",
     "output_type": "stream",
     "text": [
      "Hyperopt:  62%|██████▏   | 623/1000 [18:23<12:00,  1.91s/it]"
     ]
    },
    {
     "name": "stdout",
     "output_type": "stream",
     "text": [
      "\n",
      " 62%|██████▏   | 623/1000 [18:23<12:00,  1.91s/it, best loss: 0.22022083500046952]\u001b[A\n",
      "\u001b[AParameters with this training score 0.7671289726166712 :\n",
      "\n",
      " 62%|██████▏   | 623/1000 [18:26<12:00,  1.91s/it, best loss: 0.22022083500046952]\u001b[A\n",
      "\u001b[A{'bootstrap': False, 'class_weight': 'balanced', 'criterion': 'gini', 'max_depth': 16, 'max_features': 3, 'max_leaf_nodes': 20, 'min_samples_leaf': 20, 'min_samples_split': 90, 'n_estimators': 920}\n",
      "\n",
      " 62%|██████▏   | 623/1000 [18:26<12:00,  1.91s/it, best loss: 0.22022083500046952]\u001b[A"
     ]
    },
    {
     "name": "stderr",
     "output_type": "stream",
     "text": [
      "Hyperopt:  62%|██████▏   | 624/1000 [18:26<14:11,  2.26s/it]"
     ]
    },
    {
     "name": "stdout",
     "output_type": "stream",
     "text": [
      "\n",
      " 62%|██████▏   | 624/1000 [18:26<14:11,  2.26s/it, best loss: 0.22022083500046952]\u001b[A\n",
      "\u001b[AParameters with this training score 0.7210854699006788 :\n",
      "\n",
      " 62%|██████▏   | 624/1000 [18:29<14:11,  2.26s/it, best loss: 0.22022083500046952]\u001b[A\n",
      "\u001b[A{'bootstrap': True, 'class_weight': 'balanced', 'criterion': 'gini', 'max_depth': 29, 'max_features': 2, 'max_leaf_nodes': 16, 'min_samples_leaf': 1, 'min_samples_split': 70, 'n_estimators': 610}\n",
      "\n",
      " 62%|██████▏   | 624/1000 [18:29<14:11,  2.26s/it, best loss: 0.22022083500046952]\u001b[A"
     ]
    },
    {
     "name": "stderr",
     "output_type": "stream",
     "text": [
      "Hyperopt:  62%|██████▎   | 625/1000 [18:29<14:30,  2.32s/it]"
     ]
    },
    {
     "name": "stdout",
     "output_type": "stream",
     "text": [
      "\n",
      " 62%|██████▎   | 625/1000 [18:29<14:30,  2.32s/it, best loss: 0.22022083500046952]\u001b[A\n",
      "\u001b[AParameters with this training score 0.7715031885337585 :\n",
      "\n",
      " 62%|██████▎   | 625/1000 [18:29<14:30,  2.32s/it, best loss: 0.22022083500046952]\u001b[A\n",
      "\u001b[A{'bootstrap': False, 'class_weight': 'balanced', 'criterion': 'gini', 'max_depth': 44, 'max_features': 3, 'max_leaf_nodes': 28, 'min_samples_leaf': 7, 'min_samples_split': 10, 'n_estimators': 150}\n",
      "\n",
      " 62%|██████▎   | 625/1000 [18:29<14:30,  2.32s/it, best loss: 0.22022083500046952]\u001b[A"
     ]
    },
    {
     "name": "stderr",
     "output_type": "stream",
     "text": [
      "Hyperopt:  63%|██████▎   | 626/1000 [18:30<11:41,  1.87s/it]"
     ]
    },
    {
     "name": "stdout",
     "output_type": "stream",
     "text": [
      "\n",
      " 63%|██████▎   | 626/1000 [18:30<11:41,  1.87s/it, best loss: 0.22022083500046952]\u001b[A\n",
      "\u001b[AParameters with this training score 0.5114954534768366 :\n",
      "\n",
      " 63%|██████▎   | 626/1000 [18:31<11:41,  1.87s/it, best loss: 0.22022083500046952]\u001b[A\n",
      "\u001b[A{'bootstrap': False, 'class_weight': 'balanced', 'criterion': 'gini', 'max_depth': 2, 'max_features': 1, 'max_leaf_nodes': 10, 'min_samples_leaf': 3, 'min_samples_split': 90, 'n_estimators': 220}\n",
      "\n",
      " 63%|██████▎   | 626/1000 [18:31<11:41,  1.87s/it, best loss: 0.22022083500046952]\u001b[A"
     ]
    },
    {
     "name": "stderr",
     "output_type": "stream",
     "text": [
      "Hyperopt:  63%|██████▎   | 627/1000 [18:31<10:09,  1.64s/it]"
     ]
    },
    {
     "name": "stdout",
     "output_type": "stream",
     "text": [
      "\n",
      " 63%|██████▎   | 627/1000 [18:31<10:09,  1.64s/it, best loss: 0.22022083500046952]\u001b[A\n",
      "\u001b[AParameters with this training score 0.7667678211296299 :\n",
      "\n",
      " 63%|██████▎   | 627/1000 [18:31<10:09,  1.64s/it, best loss: 0.22022083500046952]\u001b[A\n",
      "\u001b[A{'bootstrap': False, 'class_weight': 'balanced', 'criterion': 'gini', 'max_depth': 7, 'max_features': 3, 'max_leaf_nodes': 28, 'min_samples_leaf': 16, 'min_samples_split': 60, 'n_estimators': 40}\n",
      "\n",
      " 63%|██████▎   | 627/1000 [18:31<10:09,  1.64s/it, best loss: 0.22022083500046952]\u001b[A"
     ]
    },
    {
     "name": "stderr",
     "output_type": "stream",
     "text": [
      "Hyperopt:  63%|██████▎   | 628/1000 [18:31<08:01,  1.30s/it]"
     ]
    },
    {
     "name": "stdout",
     "output_type": "stream",
     "text": [
      "\n",
      " 63%|██████▎   | 628/1000 [18:31<08:01,  1.30s/it, best loss: 0.22022083500046952]\u001b[A\n",
      "\u001b[AParameters with this training score 0.7720638660640108 :\n",
      "\n",
      " 63%|██████▎   | 628/1000 [18:32<08:01,  1.30s/it, best loss: 0.22022083500046952]\u001b[A\n",
      "\u001b[A{'bootstrap': False, 'class_weight': 'balanced', 'criterion': 'gini', 'max_depth': 18, 'max_features': 3, 'max_leaf_nodes': 28, 'min_samples_leaf': 11, 'min_samples_split': 90, 'n_estimators': 110}\n",
      "\n",
      " 63%|██████▎   | 628/1000 [18:32<08:01,  1.30s/it, best loss: 0.22022083500046952]\u001b[A"
     ]
    },
    {
     "name": "stderr",
     "output_type": "stream",
     "text": [
      "Hyperopt:  63%|██████▎   | 629/1000 [18:32<06:41,  1.08s/it]"
     ]
    },
    {
     "name": "stdout",
     "output_type": "stream",
     "text": [
      "\n",
      " 63%|██████▎   | 629/1000 [18:32<06:41,  1.08s/it, best loss: 0.22022083500046952]\u001b[A\n",
      "\u001b[AParameters with this training score 0.5149407122690366 :\n",
      "\n",
      " 63%|██████▎   | 629/1000 [18:33<06:41,  1.08s/it, best loss: 0.22022083500046952]\u001b[A\n",
      "\u001b[A{'bootstrap': False, 'class_weight': None, 'criterion': 'gini', 'max_depth': 40, 'max_features': 3, 'max_leaf_nodes': 18, 'min_samples_leaf': 4, 'min_samples_split': 50, 'n_estimators': 380}\n",
      "\n",
      " 63%|██████▎   | 629/1000 [18:33<06:41,  1.08s/it, best loss: 0.22022083500046952]\u001b[A"
     ]
    },
    {
     "name": "stderr",
     "output_type": "stream",
     "text": [
      "Hyperopt:  63%|██████▎   | 630/1000 [18:33<07:22,  1.20s/it]"
     ]
    },
    {
     "name": "stdout",
     "output_type": "stream",
     "text": [
      "\n",
      " 63%|██████▎   | 630/1000 [18:33<07:22,  1.20s/it, best loss: 0.22022083500046952]\u001b[A\n",
      "\u001b[AParameters with this training score 0.7767495994620173 :\n",
      "\n",
      " 63%|██████▎   | 630/1000 [18:36<07:22,  1.20s/it, best loss: 0.22022083500046952]\u001b[A\n",
      "\u001b[A{'bootstrap': False, 'class_weight': 'balanced', 'criterion': 'entropy', 'max_depth': 26, 'max_features': 4, 'max_leaf_nodes': 28, 'min_samples_leaf': 26, 'min_samples_split': 90, 'n_estimators': 750}\n",
      "\n",
      " 63%|██████▎   | 630/1000 [18:36<07:22,  1.20s/it, best loss: 0.22022083500046952]\u001b[A"
     ]
    },
    {
     "name": "stderr",
     "output_type": "stream",
     "text": [
      "Hyperopt:  63%|██████▎   | 631/1000 [18:36<10:00,  1.63s/it]"
     ]
    },
    {
     "name": "stdout",
     "output_type": "stream",
     "text": [
      "\n",
      " 63%|██████▎   | 631/1000 [18:36<10:00,  1.63s/it, best loss: 0.22022083500046952]\u001b[A\n",
      "\u001b[AParameters with this training score 0.774119764476677 :\n",
      "\n",
      " 63%|██████▎   | 631/1000 [18:36<10:00,  1.63s/it, best loss: 0.22022083500046952]\u001b[A\n",
      "\u001b[A{'bootstrap': False, 'class_weight': 'balanced', 'criterion': 'gini', 'max_depth': 34, 'max_features': 3, 'max_leaf_nodes': 28, 'min_samples_leaf': 17, 'min_samples_split': 90, 'n_estimators': 120}\n",
      "\n",
      " 63%|██████▎   | 631/1000 [18:36<10:00,  1.63s/it, best loss: 0.22022083500046952]\u001b[A"
     ]
    },
    {
     "name": "stderr",
     "output_type": "stream",
     "text": [
      "Hyperopt:  63%|██████▎   | 632/1000 [18:37<08:15,  1.35s/it]"
     ]
    },
    {
     "name": "stdout",
     "output_type": "stream",
     "text": [
      "\n",
      " 63%|██████▎   | 632/1000 [18:36<08:15,  1.35s/it, best loss: 0.22022083500046952]\u001b[A\n",
      "\u001b[AParameters with this training score 0.7532067942212048 :\n",
      "\n",
      " 63%|██████▎   | 632/1000 [18:40<08:15,  1.35s/it, best loss: 0.22022083500046952]\u001b[A\n",
      "\u001b[A{'bootstrap': False, 'class_weight': 'balanced', 'criterion': 'gini', 'max_depth': 10, 'max_features': 3, 'max_leaf_nodes': 14, 'min_samples_leaf': 26, 'min_samples_split': 90, 'n_estimators': 970}\n",
      "\n",
      " 63%|██████▎   | 632/1000 [18:40<08:15,  1.35s/it, best loss: 0.22022083500046952]\u001b[A"
     ]
    },
    {
     "name": "stderr",
     "output_type": "stream",
     "text": [
      "Hyperopt:  63%|██████▎   | 633/1000 [18:40<11:44,  1.92s/it]"
     ]
    },
    {
     "name": "stdout",
     "output_type": "stream",
     "text": [
      "\n",
      " 63%|██████▎   | 633/1000 [18:40<11:44,  1.92s/it, best loss: 0.22022083500046952]\u001b[A\n",
      "\u001b[AParameters with this training score 0.7159831243695789 :\n",
      "\n",
      " 63%|██████▎   | 633/1000 [18:43<11:44,  1.92s/it, best loss: 0.22022083500046952]\u001b[A\n",
      "\u001b[A{'bootstrap': True, 'class_weight': 'balanced', 'criterion': 'gini', 'max_depth': 31, 'max_features': 3, 'max_leaf_nodes': 12, 'min_samples_leaf': 23, 'min_samples_split': 90, 'n_estimators': 830}\n",
      "\n",
      " 63%|██████▎   | 633/1000 [18:43<11:44,  1.92s/it, best loss: 0.22022083500046952]\u001b[A"
     ]
    },
    {
     "name": "stderr",
     "output_type": "stream",
     "text": [
      "Hyperopt:  63%|██████▎   | 634/1000 [18:43<14:18,  2.35s/it]"
     ]
    },
    {
     "name": "stdout",
     "output_type": "stream",
     "text": [
      "\n",
      " 63%|██████▎   | 634/1000 [18:43<14:18,  2.35s/it, best loss: 0.22022083500046952]\u001b[A\n",
      "\u001b[AParameters with this training score 0.7700541105725076 :\n",
      "\n",
      " 63%|██████▎   | 634/1000 [18:44<14:18,  2.35s/it, best loss: 0.22022083500046952]\u001b[A\n",
      "\u001b[A{'bootstrap': False, 'class_weight': 'balanced', 'criterion': 'gini', 'max_depth': 16, 'max_features': 3, 'max_leaf_nodes': 28, 'min_samples_leaf': 8, 'min_samples_split': 90, 'n_estimators': 350}\n",
      "\n",
      " 63%|██████▎   | 634/1000 [18:44<14:18,  2.35s/it, best loss: 0.22022083500046952]\u001b[A"
     ]
    },
    {
     "name": "stderr",
     "output_type": "stream",
     "text": [
      "Hyperopt:  64%|██████▎   | 635/1000 [18:45<12:29,  2.05s/it]"
     ]
    },
    {
     "name": "stdout",
     "output_type": "stream",
     "text": [
      "\n",
      " 64%|██████▎   | 635/1000 [18:44<12:29,  2.05s/it, best loss: 0.22022083500046952]\u001b[A\n",
      "\u001b[AParameters with this training score 0.7685085504825853 :\n",
      "\n",
      " 64%|██████▎   | 635/1000 [18:47<12:29,  2.05s/it, best loss: 0.22022083500046952]\u001b[A\n",
      "\u001b[A{'bootstrap': False, 'class_weight': 'balanced', 'criterion': 'gini', 'max_depth': 39, 'max_features': 2, 'max_leaf_nodes': 24, 'min_samples_leaf': 22, 'min_samples_split': 30, 'n_estimators': 650}\n",
      "\n",
      " 64%|██████▎   | 635/1000 [18:47<12:29,  2.05s/it, best loss: 0.22022083500046952]\u001b[A"
     ]
    },
    {
     "name": "stderr",
     "output_type": "stream",
     "text": [
      "Hyperopt:  64%|██████▎   | 636/1000 [18:47<13:02,  2.15s/it]"
     ]
    },
    {
     "name": "stdout",
     "output_type": "stream",
     "text": [
      "\n",
      " 64%|██████▎   | 636/1000 [18:47<13:02,  2.15s/it, best loss: 0.22022083500046952]\u001b[A\n",
      "\u001b[AParameters with this training score 0.7734744358763816 :\n",
      "\n",
      " 64%|██████▎   | 636/1000 [18:49<13:02,  2.15s/it, best loss: 0.22022083500046952]\u001b[A\n",
      "\u001b[A{'bootstrap': False, 'class_weight': 'balanced', 'criterion': 'gini', 'max_depth': 8, 'max_features': 3, 'max_leaf_nodes': 28, 'min_samples_leaf': 10, 'min_samples_split': 40, 'n_estimators': 640}\n",
      "\n",
      " 64%|██████▎   | 636/1000 [18:49<13:02,  2.15s/it, best loss: 0.22022083500046952]\u001b[A"
     ]
    },
    {
     "name": "stderr",
     "output_type": "stream",
     "text": [
      "Hyperopt:  64%|██████▎   | 637/1000 [18:49<13:14,  2.19s/it]"
     ]
    },
    {
     "name": "stdout",
     "output_type": "stream",
     "text": [
      "\n",
      " 64%|██████▎   | 637/1000 [18:49<13:14,  2.19s/it, best loss: 0.22022083500046952]\u001b[A\n",
      "\u001b[AParameters with this training score 0.7492205745933042 :\n",
      "\n",
      " 64%|██████▎   | 637/1000 [18:51<13:14,  2.19s/it, best loss: 0.22022083500046952]\u001b[A\n",
      "\u001b[A{'bootstrap': False, 'class_weight': 'balanced', 'criterion': 'gini', 'max_depth': 44, 'max_features': 1, 'max_leaf_nodes': 22, 'min_samples_leaf': 29, 'min_samples_split': 90, 'n_estimators': 470}\n",
      "\n",
      " 64%|██████▎   | 637/1000 [18:51<13:14,  2.19s/it, best loss: 0.22022083500046952]\u001b[A"
     ]
    },
    {
     "name": "stderr",
     "output_type": "stream",
     "text": [
      "Hyperopt:  64%|██████▍   | 638/1000 [18:51<12:37,  2.09s/it]"
     ]
    },
    {
     "name": "stdout",
     "output_type": "stream",
     "text": [
      "\n",
      " 64%|██████▍   | 638/1000 [18:51<12:37,  2.09s/it, best loss: 0.22022083500046952]\u001b[A\n",
      "\u001b[AParameters with this training score 0.765426358196304 :\n",
      "\n",
      " 64%|██████▍   | 638/1000 [18:53<12:37,  2.09s/it, best loss: 0.22022083500046952]\u001b[A\n",
      "\u001b[A{'bootstrap': False, 'class_weight': 'balanced', 'criterion': 'gini', 'max_depth': 6, 'max_features': 3, 'max_leaf_nodes': 20, 'min_samples_leaf': 24, 'min_samples_split': 70, 'n_estimators': 430}\n",
      "\n",
      " 64%|██████▍   | 638/1000 [18:53<12:37,  2.09s/it, best loss: 0.22022083500046952]\u001b[A"
     ]
    },
    {
     "name": "stderr",
     "output_type": "stream",
     "text": [
      "Hyperopt:  64%|██████▍   | 639/1000 [18:53<11:52,  1.97s/it]"
     ]
    },
    {
     "name": "stdout",
     "output_type": "stream",
     "text": [
      "\n",
      " 64%|██████▍   | 639/1000 [18:53<11:52,  1.97s/it, best loss: 0.22022083500046952]\u001b[A\n",
      "\u001b[AParameters with this training score 0.6216619891308897 :\n",
      "\n",
      " 64%|██████▍   | 639/1000 [18:56<11:52,  1.97s/it, best loss: 0.22022083500046952]\u001b[A\n",
      "\u001b[A{'bootstrap': False, 'class_weight': None, 'criterion': 'entropy', 'max_depth': 41, 'max_features': 3, 'max_leaf_nodes': 28, 'min_samples_leaf': 25, 'min_samples_split': 90, 'n_estimators': 930}\n",
      "\n",
      " 64%|██████▍   | 639/1000 [18:56<11:52,  1.97s/it, best loss: 0.22022083500046952]\u001b[A"
     ]
    },
    {
     "name": "stderr",
     "output_type": "stream",
     "text": [
      "Hyperopt:  64%|██████▍   | 640/1000 [18:56<14:07,  2.36s/it]"
     ]
    },
    {
     "name": "stdout",
     "output_type": "stream",
     "text": [
      "\n",
      " 64%|██████▍   | 640/1000 [18:56<14:07,  2.35s/it, best loss: 0.22022083500046952]\u001b[A\n",
      "\u001b[AParameters with this training score 0.7782833134650196 :\n",
      "\n",
      " 64%|██████▍   | 640/1000 [18:58<14:07,  2.35s/it, best loss: 0.22022083500046952]\u001b[A\n",
      "\u001b[A{'bootstrap': False, 'class_weight': 'balanced', 'criterion': 'gini', 'max_depth': 22, 'max_features': 3, 'max_leaf_nodes': 28, 'min_samples_leaf': 26, 'min_samples_split': 10, 'n_estimators': 590}\n",
      "\n",
      " 64%|██████▍   | 640/1000 [18:58<14:07,  2.35s/it, best loss: 0.22022083500046952]\u001b[A"
     ]
    },
    {
     "name": "stderr",
     "output_type": "stream",
     "text": [
      "Hyperopt:  64%|██████▍   | 641/1000 [18:58<13:49,  2.31s/it]"
     ]
    },
    {
     "name": "stdout",
     "output_type": "stream",
     "text": [
      "\n",
      " 64%|██████▍   | 641/1000 [18:58<13:49,  2.31s/it, best loss: 0.22022083500046952]\u001b[A\n",
      "\u001b[AParameters with this training score 0.7604478902172633 :\n",
      "\n",
      " 64%|██████▍   | 641/1000 [19:00<13:49,  2.31s/it, best loss: 0.22022083500046952]\u001b[A\n",
      "\u001b[A{'bootstrap': False, 'class_weight': 'balanced', 'criterion': 'gini', 'max_depth': 23, 'max_features': 3, 'max_leaf_nodes': 16, 'min_samples_leaf': 18, 'min_samples_split': 60, 'n_estimators': 490}\n",
      "\n",
      " 64%|██████▍   | 641/1000 [19:00<13:49,  2.31s/it, best loss: 0.22022083500046952]\u001b[A"
     ]
    },
    {
     "name": "stderr",
     "output_type": "stream",
     "text": [
      "Hyperopt:  64%|██████▍   | 642/1000 [19:00<12:58,  2.18s/it]"
     ]
    },
    {
     "name": "stdout",
     "output_type": "stream",
     "text": [
      "\n",
      " 64%|██████▍   | 642/1000 [19:00<12:58,  2.18s/it, best loss: 0.22022083500046952]\u001b[A\n",
      "\u001b[AParameters with this training score 0.7784368093152592 :\n",
      "\n",
      " 64%|██████▍   | 642/1000 [19:03<12:58,  2.18s/it, best loss: 0.22022083500046952]\u001b[A\n",
      "\u001b[A{'bootstrap': True, 'class_weight': 'balanced', 'criterion': 'gini', 'max_depth': 32, 'max_features': 4, 'max_leaf_nodes': 28, 'min_samples_leaf': 26, 'min_samples_split': 90, 'n_estimators': 900}\n",
      "\n",
      " 64%|██████▍   | 642/1000 [19:03<12:58,  2.18s/it, best loss: 0.22022083500046952]\u001b[A"
     ]
    },
    {
     "name": "stderr",
     "output_type": "stream",
     "text": [
      "Hyperopt:  64%|██████▍   | 643/1000 [19:03<15:03,  2.53s/it]"
     ]
    },
    {
     "name": "stdout",
     "output_type": "stream",
     "text": [
      "\n",
      " 64%|██████▍   | 643/1000 [19:03<15:03,  2.53s/it, best loss: 0.22022083500046952]\u001b[A\n",
      "\u001b[AParameters with this training score 0.6973300119080245 :\n",
      "\n",
      " 64%|██████▍   | 643/1000 [19:04<15:03,  2.53s/it, best loss: 0.22022083500046952]\u001b[A\n",
      "\u001b[A{'bootstrap': False, 'class_weight': 'balanced', 'criterion': 'gini', 'max_depth': 20, 'max_features': 3, 'max_leaf_nodes': 10, 'min_samples_leaf': 2, 'min_samples_split': 50, 'n_estimators': 190}\n",
      "\n",
      " 64%|██████▍   | 643/1000 [19:04<15:03,  2.53s/it, best loss: 0.22022083500046952]\u001b[A"
     ]
    },
    {
     "name": "stderr",
     "output_type": "stream",
     "text": [
      "Hyperopt:  64%|██████▍   | 644/1000 [19:04<12:00,  2.02s/it]"
     ]
    },
    {
     "name": "stdout",
     "output_type": "stream",
     "text": [
      "\n",
      " 64%|██████▍   | 644/1000 [19:04<12:00,  2.02s/it, best loss: 0.22022083500046952]\u001b[A\n",
      "\u001b[AParameters with this training score 0.7681711110710676 :\n",
      "\n",
      " 64%|██████▍   | 644/1000 [19:07<12:00,  2.02s/it, best loss: 0.22022083500046952]\u001b[A\n",
      "\u001b[A{'bootstrap': False, 'class_weight': 'balanced', 'criterion': 'gini', 'max_depth': 16, 'max_features': 3, 'max_leaf_nodes': 28, 'min_samples_leaf': 5, 'min_samples_split': 20, 'n_estimators': 660}\n",
      "\n",
      " 64%|██████▍   | 644/1000 [19:07<12:00,  2.02s/it, best loss: 0.22022083500046952]\u001b[A"
     ]
    },
    {
     "name": "stderr",
     "output_type": "stream",
     "text": [
      "Hyperopt:  64%|██████▍   | 645/1000 [19:07<12:36,  2.13s/it]"
     ]
    },
    {
     "name": "stdout",
     "output_type": "stream",
     "text": [
      "\n",
      " 64%|██████▍   | 645/1000 [19:07<12:36,  2.13s/it, best loss: 0.22022083500046952]\u001b[A\n",
      "\u001b[AParameters with this training score 0.6824816804764424 :\n",
      "\n",
      " 64%|██████▍   | 645/1000 [19:07<12:36,  2.13s/it, best loss: 0.22022083500046952]\u001b[A\n",
      "\u001b[A{'bootstrap': False, 'class_weight': 'balanced', 'criterion': 'gini', 'max_depth': 4, 'max_features': 2, 'max_leaf_nodes': 28, 'min_samples_leaf': 28, 'min_samples_split': 90, 'n_estimators': 20}\n",
      "\n",
      " 64%|██████▍   | 645/1000 [19:07<12:36,  2.13s/it, best loss: 0.22022083500046952]\u001b[A"
     ]
    },
    {
     "name": "stderr",
     "output_type": "stream",
     "text": [
      "Hyperopt:  65%|██████▍   | 646/1000 [19:07<09:32,  1.62s/it]"
     ]
    },
    {
     "name": "stdout",
     "output_type": "stream",
     "text": [
      "\n",
      " 65%|██████▍   | 646/1000 [19:07<09:32,  1.62s/it, best loss: 0.22022083500046952]\u001b[A\n",
      "\u001b[AParameters with this training score 0.5303629399737846 :\n",
      "\n",
      " 65%|██████▍   | 646/1000 [19:08<09:32,  1.62s/it, best loss: 0.22022083500046952]\u001b[A\n",
      "\u001b[A{'bootstrap': False, 'class_weight': None, 'criterion': 'gini', 'max_depth': 46, 'max_features': 3, 'max_leaf_nodes': 18, 'min_samples_leaf': 13, 'min_samples_split': 90, 'n_estimators': 210}\n",
      "\n",
      " 65%|██████▍   | 646/1000 [19:08<09:32,  1.62s/it, best loss: 0.22022083500046952]\u001b[A"
     ]
    },
    {
     "name": "stderr",
     "output_type": "stream",
     "text": [
      "Hyperopt:  65%|██████▍   | 647/1000 [19:08<08:22,  1.42s/it]"
     ]
    },
    {
     "name": "stdout",
     "output_type": "stream",
     "text": [
      "\n",
      " 65%|██████▍   | 647/1000 [19:08<08:22,  1.42s/it, best loss: 0.22022083500046952]\u001b[A\n",
      "\u001b[AParameters with this training score 0.752820091749497 :\n",
      "\n",
      " 65%|██████▍   | 647/1000 [19:11<08:22,  1.42s/it, best loss: 0.22022083500046952]\u001b[A\n",
      "\u001b[A{'bootstrap': False, 'class_weight': 'balanced', 'criterion': 'gini', 'max_depth': 16, 'max_features': 3, 'max_leaf_nodes': 14, 'min_samples_leaf': 26, 'min_samples_split': 90, 'n_estimators': 910}\n",
      "\n",
      " 65%|██████▍   | 647/1000 [19:11<08:22,  1.42s/it, best loss: 0.22022083500046952]\u001b[A"
     ]
    },
    {
     "name": "stderr",
     "output_type": "stream",
     "text": [
      "Hyperopt:  65%|██████▍   | 648/1000 [19:11<11:16,  1.92s/it]"
     ]
    },
    {
     "name": "stdout",
     "output_type": "stream",
     "text": [
      "\n",
      " 65%|██████▍   | 648/1000 [19:11<11:16,  1.92s/it, best loss: 0.22022083500046952]\u001b[A\n",
      "\u001b[AParameters with this training score 0.7692969470351964 :\n",
      "\n",
      " 65%|██████▍   | 648/1000 [19:12<11:16,  1.92s/it, best loss: 0.22022083500046952]\u001b[A\n",
      "\u001b[A{'bootstrap': False, 'class_weight': 'balanced', 'criterion': 'gini', 'max_depth': 16, 'max_features': 3, 'max_leaf_nodes': 28, 'min_samples_leaf': 6, 'min_samples_split': 90, 'n_estimators': 350}\n",
      "\n",
      " 65%|██████▍   | 648/1000 [19:12<11:16,  1.92s/it, best loss: 0.22022083500046952]\u001b[A"
     ]
    },
    {
     "name": "stderr",
     "output_type": "stream",
     "text": [
      "Hyperopt:  65%|██████▍   | 649/1000 [19:12<10:14,  1.75s/it]"
     ]
    },
    {
     "name": "stdout",
     "output_type": "stream",
     "text": [
      "\n",
      " 65%|██████▍   | 649/1000 [19:12<10:14,  1.75s/it, best loss: 0.22022083500046952]\u001b[A\n",
      "\u001b[AParameters with this training score 0.7617264732578024 :\n",
      "\n",
      " 65%|██████▍   | 649/1000 [19:14<10:14,  1.75s/it, best loss: 0.22022083500046952]\u001b[A\n",
      "\u001b[A{'bootstrap': False, 'class_weight': 'balanced', 'criterion': 'entropy', 'max_depth': 34, 'max_features': 1, 'max_leaf_nodes': 28, 'min_samples_leaf': 12, 'min_samples_split': 30, 'n_estimators': 390}\n",
      "\n",
      " 65%|██████▍   | 649/1000 [19:14<10:14,  1.75s/it, best loss: 0.22022083500046952]\u001b[A"
     ]
    },
    {
     "name": "stderr",
     "output_type": "stream",
     "text": [
      "Hyperopt:  65%|██████▌   | 650/1000 [19:14<09:49,  1.68s/it]"
     ]
    },
    {
     "name": "stdout",
     "output_type": "stream",
     "text": [
      "\n",
      " 65%|██████▌   | 650/1000 [19:14<09:49,  1.68s/it, best loss: 0.22022083500046952]\u001b[A\n",
      "\u001b[AParameters with this training score 0.7221709578145017 :\n",
      "\n",
      " 65%|██████▌   | 650/1000 [19:15<09:49,  1.68s/it, best loss: 0.22022083500046952]\u001b[A\n",
      "\u001b[A{'bootstrap': False, 'class_weight': 'balanced', 'criterion': 'gini', 'max_depth': 5, 'max_features': 3, 'max_leaf_nodes': 12, 'min_samples_leaf': 19, 'min_samples_split': 90, 'n_estimators': 290}\n",
      "\n",
      " 65%|██████▌   | 650/1000 [19:15<09:49,  1.68s/it, best loss: 0.22022083500046952]\u001b[A"
     ]
    },
    {
     "name": "stderr",
     "output_type": "stream",
     "text": [
      "Hyperopt:  65%|██████▌   | 651/1000 [19:15<08:59,  1.54s/it]"
     ]
    },
    {
     "name": "stdout",
     "output_type": "stream",
     "text": [
      "\n",
      " 65%|██████▌   | 651/1000 [19:15<08:59,  1.54s/it, best loss: 0.22022083500046952]\u001b[A\n",
      "\u001b[AParameters with this training score 0.7731141495003925 :\n",
      "\n",
      " 65%|██████▌   | 651/1000 [19:17<08:59,  1.54s/it, best loss: 0.22022083500046952]\u001b[A\n",
      "\u001b[A{'bootstrap': True, 'class_weight': 'balanced', 'criterion': 'gini', 'max_depth': 45, 'max_features': 3, 'max_leaf_nodes': 28, 'min_samples_leaf': 21, 'min_samples_split': 40, 'n_estimators': 340}\n",
      "\n",
      " 65%|██████▌   | 651/1000 [19:17<08:59,  1.54s/it, best loss: 0.22022083500046952]\u001b[A"
     ]
    },
    {
     "name": "stderr",
     "output_type": "stream",
     "text": [
      "Hyperopt:  65%|██████▌   | 652/1000 [19:17<08:43,  1.50s/it]"
     ]
    },
    {
     "name": "stdout",
     "output_type": "stream",
     "text": [
      "\n",
      " 65%|██████▌   | 652/1000 [19:17<08:43,  1.50s/it, best loss: 0.22022083500046952]\u001b[A\n",
      "\u001b[AParameters with this training score 0.7738271899173409 :\n",
      "\n",
      " 65%|██████▌   | 652/1000 [19:19<08:43,  1.50s/it, best loss: 0.22022083500046952]\u001b[A\n",
      "\u001b[A{'bootstrap': False, 'class_weight': 'balanced', 'criterion': 'gini', 'max_depth': 30, 'max_features': 4, 'max_leaf_nodes': 24, 'min_samples_leaf': 15, 'min_samples_split': 90, 'n_estimators': 760}\n",
      "\n",
      " 65%|██████▌   | 652/1000 [19:19<08:43,  1.50s/it, best loss: 0.22022083500046952]\u001b[A"
     ]
    },
    {
     "name": "stderr",
     "output_type": "stream",
     "text": [
      "Hyperopt:  65%|██████▌   | 653/1000 [19:19<10:39,  1.84s/it]"
     ]
    },
    {
     "name": "stdout",
     "output_type": "stream",
     "text": [
      "\n",
      " 65%|██████▌   | 653/1000 [19:19<10:39,  1.84s/it, best loss: 0.22022083500046952]\u001b[A\n",
      "\u001b[AParameters with this training score 0.7724264417417622 :\n",
      "\n",
      " 65%|██████▌   | 653/1000 [19:20<10:39,  1.84s/it, best loss: 0.22022083500046952]\u001b[A\n",
      "\u001b[A{'bootstrap': False, 'class_weight': 'balanced', 'criterion': 'gini', 'max_depth': 16, 'max_features': 3, 'max_leaf_nodes': 22, 'min_samples_leaf': 26, 'min_samples_split': 70, 'n_estimators': 170}\n",
      "\n",
      " 65%|██████▌   | 653/1000 [19:20<10:39,  1.84s/it, best loss: 0.22022083500046952]\u001b[A"
     ]
    },
    {
     "name": "stderr",
     "output_type": "stream",
     "text": [
      "Hyperopt:  65%|██████▌   | 654/1000 [19:20<08:54,  1.54s/it]"
     ]
    },
    {
     "name": "stdout",
     "output_type": "stream",
     "text": [
      "\n",
      " 65%|██████▌   | 654/1000 [19:20<08:54,  1.54s/it, best loss: 0.22022083500046952]\u001b[A\n",
      "\u001b[AParameters with this training score 0.7682972526536725 :\n",
      "\n",
      " 65%|██████▌   | 654/1000 [19:21<08:54,  1.54s/it, best loss: 0.22022083500046952]\u001b[A\n",
      "\u001b[A{'bootstrap': False, 'class_weight': 'balanced', 'criterion': 'gini', 'max_depth': 43, 'max_features': 3, 'max_leaf_nodes': 28, 'min_samples_leaf': 14, 'min_samples_split': 90, 'n_estimators': 60}\n",
      "\n",
      " 65%|██████▌   | 654/1000 [19:21<08:54,  1.54s/it, best loss: 0.22022083500046952]\u001b[A"
     ]
    },
    {
     "name": "stderr",
     "output_type": "stream",
     "text": [
      "Hyperopt:  66%|██████▌   | 655/1000 [19:21<07:11,  1.25s/it]"
     ]
    },
    {
     "name": "stdout",
     "output_type": "stream",
     "text": [
      "\n",
      " 66%|██████▌   | 655/1000 [19:21<07:11,  1.25s/it, best loss: 0.22022083500046952]\u001b[A\n",
      "\u001b[AParameters with this training score 0.6174835362383975 :\n",
      "\n",
      " 66%|██████▌   | 655/1000 [19:22<07:11,  1.25s/it, best loss: 0.22022083500046952]\u001b[A\n",
      "\u001b[A{'bootstrap': False, 'class_weight': None, 'criterion': 'gini', 'max_depth': 29, 'max_features': 3, 'max_leaf_nodes': 28, 'min_samples_leaf': 27, 'min_samples_split': 10, 'n_estimators': 420}\n",
      "\n",
      " 66%|██████▌   | 655/1000 [19:22<07:11,  1.25s/it, best loss: 0.22022083500046952]\u001b[A"
     ]
    },
    {
     "name": "stderr",
     "output_type": "stream",
     "text": [
      "Hyperopt:  66%|██████▌   | 656/1000 [19:22<07:44,  1.35s/it]"
     ]
    },
    {
     "name": "stdout",
     "output_type": "stream",
     "text": [
      "\n",
      " 66%|██████▌   | 656/1000 [19:22<07:44,  1.35s/it, best loss: 0.22022083500046952]\u001b[A\n",
      "\u001b[AParameters with this training score 0.7686082995041927 :\n",
      "\n",
      " 66%|██████▌   | 656/1000 [19:23<07:44,  1.35s/it, best loss: 0.22022083500046952]\u001b[A\n",
      "\u001b[A{'bootstrap': False, 'class_weight': 'balanced', 'criterion': 'gini', 'max_depth': 21, 'max_features': 3, 'max_leaf_nodes': 20, 'min_samples_leaf': 20, 'min_samples_split': 90, 'n_estimators': 130}\n",
      "\n",
      " 66%|██████▌   | 656/1000 [19:23<07:44,  1.35s/it, best loss: 0.22022083500046952]\u001b[A"
     ]
    },
    {
     "name": "stderr",
     "output_type": "stream",
     "text": [
      "Hyperopt:  66%|██████▌   | 657/1000 [19:23<06:27,  1.13s/it]"
     ]
    },
    {
     "name": "stdout",
     "output_type": "stream",
     "text": [
      "\n",
      " 66%|██████▌   | 657/1000 [19:23<06:27,  1.13s/it, best loss: 0.22022083500046952]\u001b[A\n",
      "\u001b[AParameters with this training score 0.7461627873324342 :\n",
      "\n",
      " 66%|██████▌   | 657/1000 [19:25<06:27,  1.13s/it, best loss: 0.22022083500046952]\u001b[A\n",
      "\u001b[A{'bootstrap': False, 'class_weight': 'balanced', 'criterion': 'entropy', 'max_depth': 39, 'max_features': 2, 'max_leaf_nodes': 16, 'min_samples_leaf': 24, 'min_samples_split': 60, 'n_estimators': 550}\n",
      "\n",
      " 66%|██████▌   | 657/1000 [19:25<06:27,  1.13s/it, best loss: 0.22022083500046952]\u001b[A"
     ]
    },
    {
     "name": "stderr",
     "output_type": "stream",
     "text": [
      "Hyperopt:  66%|██████▌   | 658/1000 [19:25<07:57,  1.40s/it]"
     ]
    },
    {
     "name": "stdout",
     "output_type": "stream",
     "text": [
      "\n",
      " 66%|██████▌   | 658/1000 [19:25<07:57,  1.40s/it, best loss: 0.22022083500046952]\u001b[A\n",
      "\u001b[AParameters with this training score 0.7775521943332819 :\n",
      "\n",
      " 66%|██████▌   | 658/1000 [19:27<07:57,  1.40s/it, best loss: 0.22022083500046952]\u001b[A\n",
      "\u001b[A{'bootstrap': False, 'class_weight': 'balanced', 'criterion': 'gini', 'max_depth': 37, 'max_features': 3, 'max_leaf_nodes': 28, 'min_samples_leaf': 26, 'min_samples_split': 50, 'n_estimators': 620}\n",
      "\n",
      " 66%|██████▌   | 658/1000 [19:27<07:57,  1.40s/it, best loss: 0.22022083500046952]\u001b[A"
     ]
    },
    {
     "name": "stderr",
     "output_type": "stream",
     "text": [
      "Hyperopt:  66%|██████▌   | 659/1000 [19:27<09:22,  1.65s/it]"
     ]
    },
    {
     "name": "stdout",
     "output_type": "stream",
     "text": [
      "\n",
      " 66%|██████▌   | 659/1000 [19:27<09:22,  1.65s/it, best loss: 0.22022083500046952]\u001b[A\n",
      "\u001b[AParameters with this training score 0.6448258483630294 :\n",
      "\n",
      " 66%|██████▌   | 659/1000 [19:28<09:22,  1.65s/it, best loss: 0.22022083500046952]\u001b[A\n",
      "\u001b[A{'bootstrap': False, 'class_weight': 'balanced', 'criterion': 'gini', 'max_depth': 10, 'max_features': 1, 'max_leaf_nodes': 10, 'min_samples_leaf': 3, 'min_samples_split': 90, 'n_estimators': 140}\n",
      "\n",
      " 66%|██████▌   | 659/1000 [19:28<09:22,  1.65s/it, best loss: 0.22022083500046952]\u001b[A"
     ]
    },
    {
     "name": "stderr",
     "output_type": "stream",
     "text": [
      "Hyperopt:  66%|██████▌   | 660/1000 [19:28<07:45,  1.37s/it]"
     ]
    },
    {
     "name": "stdout",
     "output_type": "stream",
     "text": [
      "\n",
      " 66%|██████▌   | 660/1000 [19:28<07:45,  1.37s/it, best loss: 0.22022083500046952]\u001b[A\n",
      "\u001b[AParameters with this training score 0.7701808146437441 :\n",
      "\n",
      " 66%|██████▌   | 660/1000 [19:29<07:45,  1.37s/it, best loss: 0.22022083500046952]\u001b[A\n",
      "\u001b[A{'bootstrap': True, 'class_weight': 'balanced', 'criterion': 'gini', 'max_depth': 28, 'max_features': 3, 'max_leaf_nodes': 28, 'min_samples_leaf': 9, 'min_samples_split': 20, 'n_estimators': 360}\n",
      "\n",
      " 66%|██████▌   | 660/1000 [19:29<07:45,  1.37s/it, best loss: 0.22022083500046952]\u001b[A"
     ]
    },
    {
     "name": "stderr",
     "output_type": "stream",
     "text": [
      "Hyperopt:  66%|██████▌   | 661/1000 [19:29<08:05,  1.43s/it]"
     ]
    },
    {
     "name": "stdout",
     "output_type": "stream",
     "text": [
      "\n",
      " 66%|██████▌   | 661/1000 [19:29<08:05,  1.43s/it, best loss: 0.22022083500046952]\u001b[A\n",
      "\u001b[AParameters with this training score 0.7684107219614206 :\n",
      "\n",
      " 66%|██████▌   | 661/1000 [19:31<08:05,  1.43s/it, best loss: 0.22022083500046952]\u001b[A\n",
      "\u001b[A{'bootstrap': False, 'class_weight': 'balanced', 'criterion': 'gini', 'max_depth': 39, 'max_features': 3, 'max_leaf_nodes': 28, 'min_samples_leaf': 1, 'min_samples_split': 90, 'n_estimators': 300}\n",
      "\n",
      " 66%|██████▌   | 661/1000 [19:31<08:05,  1.43s/it, best loss: 0.22022083500046952]\u001b[A"
     ]
    },
    {
     "name": "stderr",
     "output_type": "stream",
     "text": [
      "Hyperopt:  66%|██████▌   | 662/1000 [19:31<07:53,  1.40s/it]"
     ]
    },
    {
     "name": "stdout",
     "output_type": "stream",
     "text": [
      "\n",
      " 66%|██████▌   | 662/1000 [19:31<07:53,  1.40s/it, best loss: 0.22022083500046952]\u001b[A\n",
      "\u001b[AParameters with this training score 0.6683939631195512 :\n",
      "\n",
      " 66%|██████▌   | 662/1000 [19:32<07:53,  1.40s/it, best loss: 0.22022083500046952]\u001b[A\n",
      "\u001b[A{'bootstrap': False, 'class_weight': 'balanced', 'criterion': 'gini', 'max_depth': 3, 'max_features': 3, 'max_leaf_nodes': 18, 'min_samples_leaf': 7, 'min_samples_split': 90, 'n_estimators': 460}\n",
      "\n",
      " 66%|██████▌   | 662/1000 [19:32<07:53,  1.40s/it, best loss: 0.22022083500046952]\u001b[A"
     ]
    },
    {
     "name": "stderr",
     "output_type": "stream",
     "text": [
      "Hyperopt:  66%|██████▋   | 663/1000 [19:33<08:27,  1.51s/it]"
     ]
    },
    {
     "name": "stdout",
     "output_type": "stream",
     "text": [
      "\n",
      " 66%|██████▋   | 663/1000 [19:32<08:27,  1.51s/it, best loss: 0.22022083500046952]\u001b[A\n",
      "\u001b[AParameters with this training score 0.7545600745852676 :\n",
      "\n",
      " 66%|██████▋   | 663/1000 [19:35<08:27,  1.51s/it, best loss: 0.22022083500046952]\u001b[A\n",
      "\u001b[A{'bootstrap': False, 'class_weight': 'balanced', 'criterion': 'gini', 'max_depth': 44, 'max_features': 4, 'max_leaf_nodes': 14, 'min_samples_leaf': 26, 'min_samples_split': 90, 'n_estimators': 580}\n",
      "\n",
      " 66%|██████▋   | 663/1000 [19:35<08:27,  1.51s/it, best loss: 0.22022083500046952]\u001b[A"
     ]
    },
    {
     "name": "stderr",
     "output_type": "stream",
     "text": [
      "Hyperopt:  66%|██████▋   | 664/1000 [19:35<09:29,  1.70s/it]"
     ]
    },
    {
     "name": "stdout",
     "output_type": "stream",
     "text": [
      "\n",
      " 66%|██████▋   | 664/1000 [19:35<09:29,  1.70s/it, best loss: 0.22022083500046952]\u001b[A\n",
      "\u001b[AParameters with this training score 0.7688671082849409 :\n",
      "\n",
      " 66%|██████▋   | 664/1000 [19:36<09:29,  1.70s/it, best loss: 0.22022083500046952]\u001b[A\n",
      "\u001b[A{'bootstrap': False, 'class_weight': 'balanced', 'criterion': 'gini', 'max_depth': 24, 'max_features': 3, 'max_leaf_nodes': 28, 'min_samples_leaf': 4, 'min_samples_split': 90, 'n_estimators': 370}\n",
      "\n",
      " 66%|██████▋   | 664/1000 [19:36<09:29,  1.70s/it, best loss: 0.22022083500046952]\u001b[A"
     ]
    },
    {
     "name": "stderr",
     "output_type": "stream",
     "text": [
      "Hyperopt:  66%|██████▋   | 665/1000 [19:36<09:06,  1.63s/it]"
     ]
    },
    {
     "name": "stdout",
     "output_type": "stream",
     "text": [
      "\n",
      " 66%|██████▋   | 665/1000 [19:36<09:05,  1.63s/it, best loss: 0.22022083500046952]\u001b[A\n",
      "\u001b[AParameters with this training score 0.5797023287851978 :\n",
      "\n",
      " 66%|██████▋   | 665/1000 [19:39<09:05,  1.63s/it, best loss: 0.22022083500046952]\u001b[A\n",
      "\u001b[A{'bootstrap': False, 'class_weight': None, 'criterion': 'gini', 'max_depth': 38, 'max_features': 3, 'max_leaf_nodes': 28, 'min_samples_leaf': 11, 'min_samples_split': 30, 'n_estimators': 740}\n",
      "\n",
      " 66%|██████▋   | 665/1000 [19:39<09:05,  1.63s/it, best loss: 0.22022083500046952]\u001b[A"
     ]
    },
    {
     "name": "stderr",
     "output_type": "stream",
     "text": [
      "Hyperopt:  67%|██████▋   | 666/1000 [19:39<10:41,  1.92s/it]"
     ]
    },
    {
     "name": "stdout",
     "output_type": "stream",
     "text": [
      "\n",
      " 67%|██████▋   | 666/1000 [19:39<10:41,  1.92s/it, best loss: 0.22022083500046952]\u001b[A\n",
      "\u001b[AParameters with this training score 0.7730110569159544 :\n",
      "\n",
      " 67%|██████▋   | 666/1000 [19:42<10:41,  1.92s/it, best loss: 0.22022083500046952]\u001b[A\n",
      "\u001b[A{'bootstrap': False, 'class_weight': 'balanced', 'criterion': 'gini', 'max_depth': 35, 'max_features': 3, 'max_leaf_nodes': 24, 'min_samples_leaf': 16, 'min_samples_split': 40, 'n_estimators': 950}\n",
      "\n",
      " 67%|██████▋   | 666/1000 [19:42<10:41,  1.92s/it, best loss: 0.22022083500046952]\u001b[A"
     ]
    },
    {
     "name": "stderr",
     "output_type": "stream",
     "text": [
      "Hyperopt:  67%|██████▋   | 667/1000 [19:42<12:47,  2.31s/it]"
     ]
    },
    {
     "name": "stdout",
     "output_type": "stream",
     "text": [
      "\n",
      " 67%|██████▋   | 667/1000 [19:42<12:47,  2.31s/it, best loss: 0.22022083500046952]\u001b[A\n",
      "\u001b[AParameters with this training score 0.7761073530699167 :\n",
      "\n",
      " 67%|██████▋   | 667/1000 [19:44<12:47,  2.31s/it, best loss: 0.22022083500046952]\u001b[A\n",
      "\u001b[A{'bootstrap': False, 'class_weight': 'balanced', 'criterion': 'entropy', 'max_depth': 9, 'max_features': 3, 'max_leaf_nodes': 28, 'min_samples_leaf': 23, 'min_samples_split': 90, 'n_estimators': 510}\n",
      "\n",
      " 67%|██████▋   | 667/1000 [19:44<12:47,  2.31s/it, best loss: 0.22022083500046952]\u001b[A"
     ]
    },
    {
     "name": "stderr",
     "output_type": "stream",
     "text": [
      "Hyperopt:  67%|██████▋   | 668/1000 [19:44<11:53,  2.15s/it]"
     ]
    },
    {
     "name": "stdout",
     "output_type": "stream",
     "text": [
      "\n",
      " 67%|██████▋   | 668/1000 [19:44<11:53,  2.15s/it, best loss: 0.22022083500046952]\u001b[A\n",
      "\u001b[AParameters with this training score 0.7240631930894276 :\n",
      "\n",
      " 67%|██████▋   | 668/1000 [19:47<11:53,  2.15s/it, best loss: 0.22022083500046952]\u001b[A\n",
      "\u001b[A{'bootstrap': False, 'class_weight': 'balanced', 'criterion': 'gini', 'max_depth': 16, 'max_features': 2, 'max_leaf_nodes': 12, 'min_samples_leaf': 26, 'min_samples_split': 70, 'n_estimators': 880}\n",
      "\n",
      " 67%|██████▋   | 668/1000 [19:47<11:53,  2.15s/it, best loss: 0.22022083500046952]\u001b[A"
     ]
    },
    {
     "name": "stderr",
     "output_type": "stream",
     "text": [
      "Hyperopt:  67%|██████▋   | 669/1000 [19:47<13:14,  2.40s/it]"
     ]
    },
    {
     "name": "stdout",
     "output_type": "stream",
     "text": [
      "\n",
      " 67%|██████▋   | 669/1000 [19:47<13:14,  2.40s/it, best loss: 0.22022083500046952]\u001b[A\n",
      "\u001b[AParameters with this training score 0.7575576145851584 :\n",
      "\n",
      " 67%|██████▋   | 669/1000 [19:48<13:14,  2.40s/it, best loss: 0.22022083500046952]\u001b[A\n",
      "\u001b[A{'bootstrap': True, 'class_weight': 'balanced', 'criterion': 'gini', 'max_depth': 44, 'max_features': 3, 'max_leaf_nodes': 22, 'min_samples_leaf': 22, 'min_samples_split': 90, 'n_estimators': 350}\n",
      "\n",
      " 67%|██████▋   | 669/1000 [19:48<13:14,  2.40s/it, best loss: 0.22022083500046952]\u001b[A"
     ]
    },
    {
     "name": "stderr",
     "output_type": "stream",
     "text": [
      "Hyperopt:  67%|██████▋   | 670/1000 [19:48<11:52,  2.16s/it]"
     ]
    },
    {
     "name": "stdout",
     "output_type": "stream",
     "text": [
      "\n",
      " 67%|██████▋   | 670/1000 [19:48<11:52,  2.16s/it, best loss: 0.22022083500046952]\u001b[A\n",
      "\u001b[AParameters with this training score 0.765369875170288 :\n",
      "\n",
      " 67%|██████▋   | 670/1000 [19:51<11:52,  2.16s/it, best loss: 0.22022083500046952]\u001b[A\n",
      "\u001b[A{'bootstrap': False, 'class_weight': 'balanced', 'criterion': 'gini', 'max_depth': 14, 'max_features': 1, 'max_leaf_nodes': 28, 'min_samples_leaf': 17, 'min_samples_split': 10, 'n_estimators': 940}\n",
      "\n",
      " 67%|██████▋   | 670/1000 [19:51<11:52,  2.16s/it, best loss: 0.22022083500046952]\u001b[A"
     ]
    },
    {
     "name": "stderr",
     "output_type": "stream",
     "text": [
      "Hyperopt:  67%|██████▋   | 671/1000 [19:51<13:30,  2.46s/it]"
     ]
    },
    {
     "name": "stdout",
     "output_type": "stream",
     "text": [
      "\n",
      " 67%|██████▋   | 671/1000 [19:51<13:30,  2.46s/it, best loss: 0.22022083500046952]\u001b[A\n",
      "\u001b[AParameters with this training score 0.7693224184611428 :\n",
      "\n",
      " 67%|██████▋   | 671/1000 [19:52<13:30,  2.46s/it, best loss: 0.22022083500046952]\u001b[A\n",
      "\u001b[A{'bootstrap': False, 'class_weight': 'balanced', 'criterion': 'gini', 'max_depth': 12, 'max_features': 3, 'max_leaf_nodes': 20, 'min_samples_leaf': 26, 'min_samples_split': 90, 'n_estimators': 240}\n",
      "\n",
      " 67%|██████▋   | 671/1000 [19:52<13:30,  2.46s/it, best loss: 0.22022083500046952]\u001b[A"
     ]
    },
    {
     "name": "stderr",
     "output_type": "stream",
     "text": [
      "Hyperopt:  67%|██████▋   | 672/1000 [19:52<11:02,  2.02s/it]"
     ]
    },
    {
     "name": "stdout",
     "output_type": "stream",
     "text": [
      "\n",
      " 67%|██████▋   | 672/1000 [19:52<11:02,  2.02s/it, best loss: 0.22022083500046952]\u001b[A\n",
      "\u001b[AParameters with this training score 0.7759244222298445 :\n",
      "\n",
      " 67%|██████▋   | 672/1000 [19:53<11:02,  2.02s/it, best loss: 0.22022083500046952]\u001b[A\n",
      "\u001b[A{'bootstrap': False, 'class_weight': 'balanced', 'criterion': 'gini', 'max_depth': 42, 'max_features': 3, 'max_leaf_nodes': 28, 'min_samples_leaf': 18, 'min_samples_split': 60, 'n_estimators': 180}\n",
      "\n",
      " 67%|██████▋   | 672/1000 [19:53<11:02,  2.02s/it, best loss: 0.22022083500046952]\u001b[A"
     ]
    },
    {
     "name": "stderr",
     "output_type": "stream",
     "text": [
      "Hyperopt:  67%|██████▋   | 673/1000 [19:53<09:07,  1.67s/it]"
     ]
    },
    {
     "name": "stdout",
     "output_type": "stream",
     "text": [
      "\n",
      " 67%|██████▋   | 673/1000 [19:53<09:07,  1.67s/it, best loss: 0.22022083500046952]\u001b[A\n",
      "\u001b[AParameters with this training score 0.7519209056303995 :\n",
      "\n",
      " 67%|██████▋   | 673/1000 [19:56<09:07,  1.67s/it, best loss: 0.22022083500046952]\u001b[A\n",
      "\u001b[A{'bootstrap': False, 'class_weight': 'balanced', 'criterion': 'gini', 'max_depth': 47, 'max_features': 3, 'max_leaf_nodes': 16, 'min_samples_leaf': 8, 'min_samples_split': 50, 'n_estimators': 720}\n",
      "\n",
      " 67%|██████▋   | 673/1000 [19:56<09:07,  1.67s/it, best loss: 0.22022083500046952]\u001b[A"
     ]
    },
    {
     "name": "stderr",
     "output_type": "stream",
     "text": [
      "Hyperopt:  67%|██████▋   | 674/1000 [19:56<10:36,  1.95s/it]"
     ]
    },
    {
     "name": "stdout",
     "output_type": "stream",
     "text": [
      "\n",
      " 67%|██████▋   | 674/1000 [19:56<10:36,  1.95s/it, best loss: 0.22022083500046952]\u001b[A\n",
      "\u001b[AParameters with this training score 0.6080263300855563 :\n",
      "\n",
      " 67%|██████▋   | 674/1000 [19:57<10:36,  1.95s/it, best loss: 0.22022083500046952]\u001b[A\n",
      "\u001b[A{'bootstrap': False, 'class_weight': None, 'criterion': 'gini', 'max_depth': 49, 'max_features': 3, 'max_leaf_nodes': 28, 'min_samples_leaf': 10, 'min_samples_split': 90, 'n_estimators': 160}\n",
      "\n",
      " 67%|██████▋   | 674/1000 [19:57<10:36,  1.95s/it, best loss: 0.22022083500046952]\u001b[A"
     ]
    },
    {
     "name": "stderr",
     "output_type": "stream",
     "text": [
      "Hyperopt:  68%|██████▊   | 675/1000 [19:57<08:45,  1.62s/it]"
     ]
    },
    {
     "name": "stdout",
     "output_type": "stream",
     "text": [
      "\n",
      " 68%|██████▊   | 675/1000 [19:57<08:45,  1.62s/it, best loss: 0.22022083500046952]\u001b[A\n",
      "\u001b[AParameters with this training score 0.7326817852369191 :\n",
      "\n",
      " 68%|██████▊   | 675/1000 [19:59<08:45,  1.62s/it, best loss: 0.22022083500046952]\u001b[A\n",
      "\u001b[A{'bootstrap': False, 'class_weight': 'balanced', 'criterion': 'gini', 'max_depth': 25, 'max_features': 4, 'max_leaf_nodes': 10, 'min_samples_leaf': 25, 'min_samples_split': 20, 'n_estimators': 850}\n",
      "\n",
      " 68%|██████▊   | 675/1000 [19:59<08:45,  1.62s/it, best loss: 0.22022083500046952]\u001b[A"
     ]
    },
    {
     "name": "stderr",
     "output_type": "stream",
     "text": [
      "Hyperopt:  68%|██████▊   | 676/1000 [19:59<10:27,  1.94s/it]"
     ]
    },
    {
     "name": "stdout",
     "output_type": "stream",
     "text": [
      "\n",
      " 68%|██████▊   | 676/1000 [19:59<10:27,  1.94s/it, best loss: 0.22022083500046952]\u001b[A\n",
      "\u001b[AParameters with this training score 0.777732238500999 :\n",
      "\n",
      " 68%|██████▊   | 676/1000 [20:01<10:27,  1.94s/it, best loss: 0.22022083500046952]\u001b[A\n",
      "\u001b[A{'bootstrap': False, 'class_weight': 'balanced', 'criterion': 'entropy', 'max_depth': 27, 'max_features': 3, 'max_leaf_nodes': 28, 'min_samples_leaf': 26, 'min_samples_split': 90, 'n_estimators': 350}\n",
      "\n",
      " 68%|██████▊   | 676/1000 [20:01<10:27,  1.94s/it, best loss: 0.22022083500046952]\u001b[A"
     ]
    },
    {
     "name": "stderr",
     "output_type": "stream",
     "text": [
      "Hyperopt:  68%|██████▊   | 677/1000 [20:01<09:29,  1.76s/it]"
     ]
    },
    {
     "name": "stdout",
     "output_type": "stream",
     "text": [
      "\n",
      " 68%|██████▊   | 677/1000 [20:01<09:29,  1.76s/it, best loss: 0.22022083500046952]\u001b[A\n",
      "\u001b[AParameters with this training score 0.7109311234155209 :\n",
      "\n",
      " 68%|██████▊   | 677/1000 [20:01<09:29,  1.76s/it, best loss: 0.22022083500046952]\u001b[A\n",
      "\u001b[A{'bootstrap': False, 'class_weight': 'balanced', 'criterion': 'gini', 'max_depth': 16, 'max_features': 3, 'max_leaf_nodes': 18, 'min_samples_leaf': 29, 'min_samples_split': 90, 'n_estimators': 10}\n",
      "\n",
      " 68%|██████▊   | 677/1000 [20:01<09:29,  1.76s/it, best loss: 0.22022083500046952]\u001b[A"
     ]
    },
    {
     "name": "stderr",
     "output_type": "stream",
     "text": [
      "Hyperopt:  68%|██████▊   | 678/1000 [20:01<07:17,  1.36s/it]"
     ]
    },
    {
     "name": "stdout",
     "output_type": "stream",
     "text": [
      "\n",
      " 68%|██████▊   | 678/1000 [20:01<07:17,  1.36s/it, best loss: 0.22022083500046952]\u001b[A\n",
      "\u001b[AParameters with this training score 0.7706715153345144 :\n",
      "\n",
      " 68%|██████▊   | 678/1000 [20:03<07:17,  1.36s/it, best loss: 0.22022083500046952]\u001b[A\n",
      "\u001b[A{'bootstrap': True, 'class_weight': 'balanced', 'criterion': 'gini', 'max_depth': 15, 'max_features': 3, 'max_leaf_nodes': 28, 'min_samples_leaf': 24, 'min_samples_split': 90, 'n_estimators': 540}\n",
      "\n",
      " 68%|██████▊   | 678/1000 [20:03<07:17,  1.36s/it, best loss: 0.22022083500046952]\u001b[A"
     ]
    },
    {
     "name": "stderr",
     "output_type": "stream",
     "text": [
      "Hyperopt:  68%|██████▊   | 679/1000 [20:03<08:26,  1.58s/it]"
     ]
    },
    {
     "name": "stdout",
     "output_type": "stream",
     "text": [
      "\n",
      " 68%|██████▊   | 679/1000 [20:03<08:27,  1.58s/it, best loss: 0.22022083500046952]\u001b[A\n",
      "\u001b[AParameters with this training score 0.7295664397949982 :\n",
      "\n",
      " 68%|██████▊   | 679/1000 [20:06<08:27,  1.58s/it, best loss: 0.22022083500046952]\u001b[A\n",
      "\u001b[A{'bootstrap': False, 'class_weight': 'balanced', 'criterion': 'gini', 'max_depth': 39, 'max_features': 2, 'max_leaf_nodes': 14, 'min_samples_leaf': 5, 'min_samples_split': 30, 'n_estimators': 700}\n",
      "\n",
      " 68%|██████▊   | 679/1000 [20:06<08:27,  1.58s/it, best loss: 0.22022083500046952]\u001b[A"
     ]
    },
    {
     "name": "stderr",
     "output_type": "stream",
     "text": [
      "Hyperopt:  68%|██████▊   | 680/1000 [20:06<09:54,  1.86s/it]"
     ]
    },
    {
     "name": "stdout",
     "output_type": "stream",
     "text": [
      "\n",
      " 68%|██████▊   | 680/1000 [20:06<09:54,  1.86s/it, best loss: 0.22022083500046952]\u001b[A\n",
      "\u001b[AParameters with this training score 0.7766057476058399 :\n",
      "\n",
      " 68%|██████▊   | 680/1000 [20:08<09:54,  1.86s/it, best loss: 0.22022083500046952]\u001b[A\n",
      "\u001b[A{'bootstrap': False, 'class_weight': 'balanced', 'criterion': 'gini', 'max_depth': 10, 'max_features': 3, 'max_leaf_nodes': 28, 'min_samples_leaf': 26, 'min_samples_split': 90, 'n_estimators': 790}\n",
      "\n",
      " 68%|██████▊   | 680/1000 [20:08<09:54,  1.86s/it, best loss: 0.22022083500046952]\u001b[A"
     ]
    },
    {
     "name": "stderr",
     "output_type": "stream",
     "text": [
      "Hyperopt:  68%|██████▊   | 681/1000 [20:08<11:09,  2.10s/it]"
     ]
    },
    {
     "name": "stdout",
     "output_type": "stream",
     "text": [
      "\n",
      " 68%|██████▊   | 681/1000 [20:08<11:09,  2.10s/it, best loss: 0.22022083500046952]\u001b[A\n",
      "\u001b[AParameters with this training score 0.7770795942435509 :\n",
      "\n",
      " 68%|██████▊   | 681/1000 [20:10<11:09,  2.10s/it, best loss: 0.22022083500046952]\u001b[A\n",
      "\u001b[A{'bootstrap': False, 'class_weight': 'balanced', 'criterion': 'gini', 'max_depth': 33, 'max_features': 3, 'max_leaf_nodes': 28, 'min_samples_leaf': 28, 'min_samples_split': 40, 'n_estimators': 310}\n",
      "\n",
      " 68%|██████▊   | 681/1000 [20:10<11:09,  2.10s/it, best loss: 0.22022083500046952]\u001b[A"
     ]
    },
    {
     "name": "stderr",
     "output_type": "stream",
     "text": [
      "Hyperopt:  68%|██████▊   | 682/1000 [20:10<09:44,  1.84s/it]"
     ]
    },
    {
     "name": "stdout",
     "output_type": "stream",
     "text": [
      "\n",
      " 68%|██████▊   | 682/1000 [20:10<09:44,  1.84s/it, best loss: 0.22022083500046952]\u001b[A\n",
      "\u001b[AParameters with this training score 0.6930473011783299 :\n",
      "\n",
      " 68%|██████▊   | 682/1000 [20:11<09:44,  1.84s/it, best loss: 0.22022083500046952]\u001b[A\n",
      "\u001b[A{'bootstrap': False, 'class_weight': 'balanced', 'criterion': 'gini', 'max_depth': 48, 'max_features': 1, 'max_leaf_nodes': 12, 'min_samples_leaf': 13, 'min_samples_split': 90, 'n_estimators': 330}\n",
      "\n",
      " 68%|██████▊   | 682/1000 [20:11<09:44,  1.84s/it, best loss: 0.22022083500046952]\u001b[A"
     ]
    },
    {
     "name": "stderr",
     "output_type": "stream",
     "text": [
      "Hyperopt:  68%|██████▊   | 683/1000 [20:11<08:55,  1.69s/it]"
     ]
    },
    {
     "name": "stdout",
     "output_type": "stream",
     "text": [
      "\n",
      " 68%|██████▊   | 683/1000 [20:11<08:55,  1.69s/it, best loss: 0.22022083500046952]\u001b[A\n",
      "\u001b[AParameters with this training score 0.5796203165727406 :\n",
      "\n",
      " 68%|██████▊   | 683/1000 [20:13<08:55,  1.69s/it, best loss: 0.22022083500046952]\u001b[A\n",
      "\u001b[A{'bootstrap': False, 'class_weight': None, 'criterion': 'gini', 'max_depth': 34, 'max_features': 3, 'max_leaf_nodes': 24, 'min_samples_leaf': 21, 'min_samples_split': 70, 'n_estimators': 530}\n",
      "\n",
      " 68%|██████▊   | 683/1000 [20:13<08:55,  1.69s/it, best loss: 0.22022083500046952]\u001b[A"
     ]
    },
    {
     "name": "stderr",
     "output_type": "stream",
     "text": [
      "Hyperopt:  68%|██████▊   | 684/1000 [20:13<09:10,  1.74s/it]"
     ]
    },
    {
     "name": "stdout",
     "output_type": "stream",
     "text": [
      "\n",
      " 68%|██████▊   | 684/1000 [20:13<09:10,  1.74s/it, best loss: 0.22022083500046952]\u001b[A\n",
      "\u001b[AParameters with this training score 0.7682131257813262 :\n",
      "\n",
      " 68%|██████▊   | 684/1000 [20:15<09:10,  1.74s/it, best loss: 0.22022083500046952]\u001b[A\n",
      "\u001b[A{'bootstrap': False, 'class_weight': 'balanced', 'criterion': 'gini', 'max_depth': 16, 'max_features': 3, 'max_leaf_nodes': 28, 'min_samples_leaf': 2, 'min_samples_split': 90, 'n_estimators': 680}\n",
      "\n",
      " 68%|██████▊   | 684/1000 [20:15<09:10,  1.74s/it, best loss: 0.22022083500046952]\u001b[A"
     ]
    },
    {
     "name": "stderr",
     "output_type": "stream",
     "text": [
      "Hyperopt:  68%|██████▊   | 685/1000 [20:15<10:10,  1.94s/it]"
     ]
    },
    {
     "name": "stdout",
     "output_type": "stream",
     "text": [
      "\n",
      " 68%|██████▊   | 685/1000 [20:15<10:10,  1.94s/it, best loss: 0.22022083500046952]\u001b[A\n",
      "\u001b[AParameters with this training score 0.7683219491783283 :\n",
      "\n",
      " 68%|██████▊   | 685/1000 [20:16<10:10,  1.94s/it, best loss: 0.22022083500046952]\u001b[A\n",
      "\u001b[A{'bootstrap': False, 'class_weight': 'balanced', 'criterion': 'entropy', 'max_depth': 29, 'max_features': 4, 'max_leaf_nodes': 22, 'min_samples_leaf': 19, 'min_samples_split': 10, 'n_estimators': 230}\n",
      "\n",
      " 68%|██████▊   | 685/1000 [20:16<10:10,  1.94s/it, best loss: 0.22022083500046952]\u001b[A"
     ]
    },
    {
     "name": "stderr",
     "output_type": "stream",
     "text": [
      "Hyperopt:  69%|██████▊   | 686/1000 [20:16<08:37,  1.65s/it]"
     ]
    },
    {
     "name": "stdout",
     "output_type": "stream",
     "text": [
      "\n",
      " 69%|██████▊   | 686/1000 [20:16<08:37,  1.65s/it, best loss: 0.22022083500046952]\u001b[A\n",
      "\u001b[AParameters with this training score 0.7667282637291122 :\n",
      "\n",
      " 69%|██████▊   | 686/1000 [20:17<08:37,  1.65s/it, best loss: 0.22022083500046952]\u001b[A\n",
      "\u001b[A{'bootstrap': False, 'class_weight': 'balanced', 'criterion': 'gini', 'max_depth': 13, 'max_features': 3, 'max_leaf_nodes': 28, 'min_samples_leaf': 6, 'min_samples_split': 90, 'n_estimators': 30}\n",
      "\n",
      " 69%|██████▊   | 686/1000 [20:17<08:37,  1.65s/it, best loss: 0.22022083500046952]\u001b[A"
     ]
    },
    {
     "name": "stderr",
     "output_type": "stream",
     "text": [
      "Hyperopt:  69%|██████▊   | 687/1000 [20:17<06:41,  1.28s/it]"
     ]
    },
    {
     "name": "stdout",
     "output_type": "stream",
     "text": [
      "\n",
      " 69%|██████▊   | 687/1000 [20:17<06:41,  1.28s/it, best loss: 0.22022083500046952]\u001b[A\n",
      "\u001b[AParameters with this training score 0.7336068393352082 :\n",
      "\n",
      " 69%|██████▊   | 687/1000 [20:17<06:41,  1.28s/it, best loss: 0.22022083500046952]\u001b[A\n",
      "\u001b[A{'bootstrap': True, 'class_weight': 'balanced', 'criterion': 'gini', 'max_depth': 36, 'max_features': 3, 'max_leaf_nodes': 20, 'min_samples_leaf': 12, 'min_samples_split': 50, 'n_estimators': 70}\n",
      "\n",
      " 69%|██████▊   | 687/1000 [20:17<06:41,  1.28s/it, best loss: 0.22022083500046952]\u001b[A"
     ]
    },
    {
     "name": "stderr",
     "output_type": "stream",
     "text": [
      "Hyperopt:  69%|██████▉   | 688/1000 [20:17<05:37,  1.08s/it]"
     ]
    },
    {
     "name": "stdout",
     "output_type": "stream",
     "text": [
      "\n",
      " 69%|██████▉   | 688/1000 [20:17<05:37,  1.08s/it, best loss: 0.22022083500046952]\u001b[A\n",
      "\u001b[AParameters with this training score 0.7523134547797592 :\n",
      "\n",
      " 69%|██████▉   | 688/1000 [20:18<05:37,  1.08s/it, best loss: 0.22022083500046952]\u001b[A\n",
      "\u001b[A{'bootstrap': False, 'class_weight': 'balanced', 'criterion': 'gini', 'max_depth': 39, 'max_features': 3, 'max_leaf_nodes': 16, 'min_samples_leaf': 14, 'min_samples_split': 60, 'n_estimators': 260}\n",
      "\n",
      " 69%|██████▉   | 688/1000 [20:18<05:37,  1.08s/it, best loss: 0.22022083500046952]\u001b[A"
     ]
    },
    {
     "name": "stderr",
     "output_type": "stream",
     "text": [
      "Hyperopt:  69%|██████▉   | 689/1000 [20:18<05:28,  1.06s/it]"
     ]
    },
    {
     "name": "stdout",
     "output_type": "stream",
     "text": [
      "\n",
      " 69%|██████▉   | 689/1000 [20:18<05:28,  1.06s/it, best loss: 0.22022083500046952]\u001b[A\n",
      "\u001b[AParameters with this training score 0.7723311338444191 :\n",
      "\n",
      " 69%|██████▉   | 689/1000 [20:22<05:28,  1.06s/it, best loss: 0.22022083500046952]\u001b[A\n",
      "\u001b[A{'bootstrap': False, 'class_weight': 'balanced', 'criterion': 'gini', 'max_depth': 40, 'max_features': 2, 'max_leaf_nodes': 28, 'min_samples_leaf': 15, 'min_samples_split': 20, 'n_estimators': 990}\n",
      "\n",
      " 69%|██████▉   | 689/1000 [20:22<05:28,  1.06s/it, best loss: 0.22022083500046952]\u001b[A"
     ]
    },
    {
     "name": "stderr",
     "output_type": "stream",
     "text": [
      "Hyperopt:  69%|██████▉   | 690/1000 [20:22<09:14,  1.79s/it]"
     ]
    },
    {
     "name": "stdout",
     "output_type": "stream",
     "text": [
      "\n",
      " 69%|██████▉   | 690/1000 [20:22<09:14,  1.79s/it, best loss: 0.22022083500046952]\u001b[A\n",
      "\u001b[AParameters with this training score 0.7787540997807859 :\n",
      "\n",
      " 69%|██████▉   | 690/1000 [20:22<09:14,  1.79s/it, best loss: 0.22022083500046952]\u001b[A\n",
      "\u001b[A{'bootstrap': False, 'class_weight': 'balanced', 'criterion': 'gini', 'max_depth': 10, 'max_features': 3, 'max_leaf_nodes': 28, 'min_samples_leaf': 26, 'min_samples_split': 90, 'n_estimators': 100}\n",
      "\n",
      " 69%|██████▉   | 690/1000 [20:22<09:14,  1.79s/it, best loss: 0.22022083500046952]\u001b[A"
     ]
    },
    {
     "name": "stderr",
     "output_type": "stream",
     "text": [
      "Hyperopt:  69%|██████▉   | 691/1000 [20:22<07:21,  1.43s/it]"
     ]
    },
    {
     "name": "stdout",
     "output_type": "stream",
     "text": [
      "\n",
      " 69%|██████▉   | 691/1000 [20:22<07:20,  1.43s/it, best loss: 0.22022083500046952]\u001b[A\n",
      "\u001b[AParameters with this training score 0.7802514574574102 :\n",
      "\n",
      " 69%|██████▉   | 691/1000 [20:24<07:20,  1.43s/it, best loss: 0.22022083500046952]\u001b[A\n",
      "\u001b[A{'bootstrap': False, 'class_weight': 'balanced', 'criterion': 'gini', 'max_depth': 26, 'max_features': 3, 'max_leaf_nodes': 28, 'min_samples_leaf': 27, 'min_samples_split': 90, 'n_estimators': 350}\n",
      "\n",
      " 69%|██████▉   | 691/1000 [20:24<07:20,  1.43s/it, best loss: 0.22022083500046952]\u001b[A"
     ]
    },
    {
     "name": "stderr",
     "output_type": "stream",
     "text": [
      "Hyperopt:  69%|██████▉   | 692/1000 [20:24<07:01,  1.37s/it]"
     ]
    },
    {
     "name": "stdout",
     "output_type": "stream",
     "text": [
      "\n",
      " 69%|██████▉   | 692/1000 [20:24<07:01,  1.37s/it, best loss: 0.2197485425425898] \u001b[A\n",
      "\u001b[AParameters with this training score 0.7286846635836967 :\n",
      "\n",
      " 69%|██████▉   | 692/1000 [20:26<07:01,  1.37s/it, best loss: 0.2197485425425898]\u001b[A\n",
      "\u001b[A{'bootstrap': False, 'class_weight': 'balanced', 'criterion': 'gini', 'max_depth': 26, 'max_features': 3, 'max_leaf_nodes': 10, 'min_samples_leaf': 27, 'min_samples_split': 90, 'n_estimators': 670}\n",
      "\n",
      " 69%|██████▉   | 692/1000 [20:26<07:01,  1.37s/it, best loss: 0.2197485425425898]\u001b[A"
     ]
    },
    {
     "name": "stderr",
     "output_type": "stream",
     "text": [
      "Hyperopt:  69%|██████▉   | 693/1000 [20:26<08:34,  1.68s/it]"
     ]
    },
    {
     "name": "stdout",
     "output_type": "stream",
     "text": [
      "\n",
      " 69%|██████▉   | 693/1000 [20:26<08:34,  1.68s/it, best loss: 0.2197485425425898]\u001b[A\n",
      "\u001b[AParameters with this training score 0.5 :\n",
      "\n",
      " 69%|██████▉   | 693/1000 [20:29<08:34,  1.68s/it, best loss: 0.2197485425425898]\u001b[A\n",
      "\u001b[A{'bootstrap': False, 'class_weight': None, 'criterion': 'gini', 'max_depth': 1, 'max_features': 1, 'max_leaf_nodes': 18, 'min_samples_leaf': 27, 'min_samples_split': 90, 'n_estimators': 820}\n",
      "\n",
      " 69%|██████▉   | 693/1000 [20:29<08:34,  1.68s/it, best loss: 0.2197485425425898]\u001b[A"
     ]
    },
    {
     "name": "stderr",
     "output_type": "stream",
     "text": [
      "Hyperopt:  69%|██████▉   | 694/1000 [20:29<10:11,  2.00s/it]"
     ]
    },
    {
     "name": "stdout",
     "output_type": "stream",
     "text": [
      "\n",
      " 69%|██████▉   | 694/1000 [20:29<10:12,  2.00s/it, best loss: 0.2197485425425898]\u001b[A\n",
      "\u001b[AParameters with this training score 0.777678454397722 :\n",
      "\n",
      " 69%|██████▉   | 694/1000 [20:32<10:12,  2.00s/it, best loss: 0.2197485425425898]\u001b[A\n",
      "\u001b[A{'bootstrap': False, 'class_weight': 'balanced', 'criterion': 'entropy', 'max_depth': 26, 'max_features': 3, 'max_leaf_nodes': 28, 'min_samples_leaf': 27, 'min_samples_split': 90, 'n_estimators': 890}\n",
      "\n",
      " 69%|██████▉   | 694/1000 [20:32<10:12,  2.00s/it, best loss: 0.2197485425425898]\u001b[A"
     ]
    },
    {
     "name": "stderr",
     "output_type": "stream",
     "text": [
      "Hyperopt:  70%|██████▉   | 695/1000 [20:32<11:42,  2.30s/it]"
     ]
    },
    {
     "name": "stdout",
     "output_type": "stream",
     "text": [
      "\n",
      " 70%|██████▉   | 695/1000 [20:32<11:42,  2.30s/it, best loss: 0.2197485425425898]\u001b[A\n",
      "\u001b[AParameters with this training score 0.7568376464458411 :\n",
      "\n",
      " 70%|██████▉   | 695/1000 [20:34<11:42,  2.30s/it, best loss: 0.2197485425425898]\u001b[A\n",
      "\u001b[A{'bootstrap': False, 'class_weight': 'balanced', 'criterion': 'gini', 'max_depth': 19, 'max_features': 3, 'max_leaf_nodes': 14, 'min_samples_leaf': 27, 'min_samples_split': 30, 'n_estimators': 520}\n",
      "\n",
      " 70%|██████▉   | 695/1000 [20:34<11:42,  2.30s/it, best loss: 0.2197485425425898]\u001b[A"
     ]
    },
    {
     "name": "stderr",
     "output_type": "stream",
     "text": [
      "Hyperopt:  70%|██████▉   | 696/1000 [20:34<11:03,  2.18s/it]"
     ]
    },
    {
     "name": "stdout",
     "output_type": "stream",
     "text": [
      "\n",
      " 70%|██████▉   | 696/1000 [20:34<11:03,  2.18s/it, best loss: 0.2197485425425898]\u001b[A\n",
      "\u001b[AParameters with this training score 0.7773971095332812 :\n",
      "\n",
      " 70%|██████▉   | 696/1000 [20:35<11:03,  2.18s/it, best loss: 0.2197485425425898]\u001b[A\n",
      "\u001b[A{'bootstrap': False, 'class_weight': 'balanced', 'criterion': 'gini', 'max_depth': 7, 'max_features': 3, 'max_leaf_nodes': 28, 'min_samples_leaf': 20, 'min_samples_split': 40, 'n_estimators': 350}\n",
      "\n",
      " 70%|██████▉   | 696/1000 [20:35<11:03,  2.18s/it, best loss: 0.2197485425425898]\u001b[A"
     ]
    },
    {
     "name": "stderr",
     "output_type": "stream",
     "text": [
      "Hyperopt:  70%|██████▉   | 697/1000 [20:35<09:48,  1.94s/it]"
     ]
    },
    {
     "name": "stdout",
     "output_type": "stream",
     "text": [
      "\n",
      " 70%|██████▉   | 697/1000 [20:35<09:48,  1.94s/it, best loss: 0.2197485425425898]\u001b[A\n",
      "\u001b[AParameters with this training score 0.7769663253690413 :\n",
      "\n",
      " 70%|██████▉   | 697/1000 [20:36<09:48,  1.94s/it, best loss: 0.2197485425425898]\u001b[A\n",
      "\u001b[A{'bootstrap': True, 'class_weight': 'balanced', 'criterion': 'gini', 'max_depth': 26, 'max_features': 4, 'max_leaf_nodes': 28, 'min_samples_leaf': 27, 'min_samples_split': 90, 'n_estimators': 280}\n",
      "\n",
      " 70%|██████▉   | 697/1000 [20:36<09:48,  1.94s/it, best loss: 0.2197485425425898]\u001b[A"
     ]
    },
    {
     "name": "stderr",
     "output_type": "stream",
     "text": [
      "Hyperopt:  70%|██████▉   | 698/1000 [20:36<08:49,  1.75s/it]"
     ]
    },
    {
     "name": "stdout",
     "output_type": "stream",
     "text": [
      "\n",
      " 70%|██████▉   | 698/1000 [20:36<08:49,  1.75s/it, best loss: 0.2197485425425898]\u001b[A\n",
      "\u001b[AParameters with this training score 0.7426066739711846 :\n",
      "\n",
      " 70%|██████▉   | 698/1000 [20:39<08:49,  1.75s/it, best loss: 0.2197485425425898]\u001b[A\n",
      "\u001b[A{'bootstrap': False, 'class_weight': 'balanced', 'criterion': 'gini', 'max_depth': 17, 'max_features': 3, 'max_leaf_nodes': 12, 'min_samples_leaf': 24, 'min_samples_split': 90, 'n_estimators': 780}\n",
      "\n",
      " 70%|██████▉   | 698/1000 [20:39<08:49,  1.75s/it, best loss: 0.2197485425425898]\u001b[A"
     ]
    },
    {
     "name": "stderr",
     "output_type": "stream",
     "text": [
      "Hyperopt:  70%|██████▉   | 699/1000 [20:39<10:11,  2.03s/it]"
     ]
    },
    {
     "name": "stdout",
     "output_type": "stream",
     "text": [
      "\n",
      " 70%|██████▉   | 699/1000 [20:39<10:11,  2.03s/it, best loss: 0.2197485425425898]\u001b[A\n",
      "\u001b[AParameters with this training score 0.7742760406569034 :\n",
      "\n",
      " 70%|██████▉   | 699/1000 [20:41<10:11,  2.03s/it, best loss: 0.2197485425425898]\u001b[A\n",
      "\u001b[A{'bootstrap': False, 'class_weight': 'balanced', 'criterion': 'gini', 'max_depth': 31, 'max_features': 3, 'max_leaf_nodes': 28, 'min_samples_leaf': 9, 'min_samples_split': 70, 'n_estimators': 730}\n",
      "\n",
      " 70%|██████▉   | 699/1000 [20:41<10:11,  2.03s/it, best loss: 0.2197485425425898]\u001b[A"
     ]
    },
    {
     "name": "stderr",
     "output_type": "stream",
     "text": [
      "Hyperopt:  70%|███████   | 700/1000 [20:42<10:54,  2.18s/it]"
     ]
    },
    {
     "name": "stdout",
     "output_type": "stream",
     "text": [
      "\n",
      " 70%|███████   | 700/1000 [20:41<10:54,  2.18s/it, best loss: 0.2197485425425898]\u001b[A\n",
      "\u001b[AParameters with this training score 0.7731065538512816 :\n",
      "\n",
      " 70%|███████   | 700/1000 [20:43<10:54,  2.18s/it, best loss: 0.2197485425425898]\u001b[A\n",
      "\u001b[A{'bootstrap': False, 'class_weight': 'balanced', 'criterion': 'gini', 'max_depth': 26, 'max_features': 3, 'max_leaf_nodes': 24, 'min_samples_leaf': 27, 'min_samples_split': 10, 'n_estimators': 250}\n",
      "\n",
      " 70%|███████   | 700/1000 [20:43<10:54,  2.18s/it, best loss: 0.2197485425425898]\u001b[A"
     ]
    },
    {
     "name": "stderr",
     "output_type": "stream",
     "text": [
      "Hyperopt:  70%|███████   | 701/1000 [20:43<09:12,  1.85s/it]"
     ]
    },
    {
     "name": "stdout",
     "output_type": "stream",
     "text": [
      "\n",
      " 70%|███████   | 701/1000 [20:43<09:12,  1.85s/it, best loss: 0.2197485425425898]\u001b[A\n",
      "\u001b[AParameters with this training score 0.767992286667682 :\n",
      "\n",
      " 70%|███████   | 701/1000 [20:43<09:12,  1.85s/it, best loss: 0.2197485425425898]\u001b[A\n",
      "\u001b[A{'bootstrap': False, 'class_weight': 'balanced', 'criterion': 'gini', 'max_depth': 18, 'max_features': 3, 'max_leaf_nodes': 28, 'min_samples_leaf': 27, 'min_samples_split': 90, 'n_estimators': 50}\n",
      "\n",
      " 70%|███████   | 701/1000 [20:43<09:12,  1.85s/it, best loss: 0.2197485425425898]\u001b[A"
     ]
    },
    {
     "name": "stderr",
     "output_type": "stream",
     "text": [
      "Hyperopt:  70%|███████   | 702/1000 [20:43<07:06,  1.43s/it]"
     ]
    },
    {
     "name": "stdout",
     "output_type": "stream",
     "text": [
      "\n",
      " 70%|███████   | 702/1000 [20:43<07:05,  1.43s/it, best loss: 0.2197485425425898]\u001b[A\n",
      "\u001b[AParameters with this training score 0.5129242237347598 :\n",
      "\n",
      " 70%|███████   | 702/1000 [20:46<07:05,  1.43s/it, best loss: 0.2197485425425898]\u001b[A\n",
      "\u001b[A{'bootstrap': False, 'class_weight': None, 'criterion': 'gini', 'max_depth': 26, 'max_features': 2, 'max_leaf_nodes': 22, 'min_samples_leaf': 27, 'min_samples_split': 60, 'n_estimators': 980}\n",
      "\n",
      " 70%|███████   | 702/1000 [20:46<07:05,  1.43s/it, best loss: 0.2197485425425898]\u001b[A"
     ]
    },
    {
     "name": "stderr",
     "output_type": "stream",
     "text": [
      "Hyperopt:  70%|███████   | 703/1000 [20:47<10:00,  2.02s/it]"
     ]
    },
    {
     "name": "stdout",
     "output_type": "stream",
     "text": [
      "\n",
      " 70%|███████   | 703/1000 [20:46<10:00,  2.02s/it, best loss: 0.2197485425425898]\u001b[A\n",
      "\u001b[AParameters with this training score 0.575452209562751 :\n",
      "\n",
      " 70%|███████   | 703/1000 [20:48<10:00,  2.02s/it, best loss: 0.2197485425425898]\u001b[A\n",
      "\u001b[A{'bootstrap': False, 'class_weight': 'balanced', 'criterion': 'entropy', 'max_depth': 2, 'max_features': 3, 'max_leaf_nodes': 20, 'min_samples_leaf': 27, 'min_samples_split': 90, 'n_estimators': 450}\n",
      "\n",
      " 70%|███████   | 703/1000 [20:48<10:00,  2.02s/it, best loss: 0.2197485425425898]\u001b[A"
     ]
    },
    {
     "name": "stderr",
     "output_type": "stream",
     "text": [
      "Hyperopt:  70%|███████   | 704/1000 [20:48<09:33,  1.94s/it]"
     ]
    },
    {
     "name": "stdout",
     "output_type": "stream",
     "text": [
      "\n",
      " 70%|███████   | 704/1000 [20:48<09:33,  1.94s/it, best loss: 0.2197485425425898]\u001b[A\n",
      "\u001b[AParameters with this training score 0.758519139970655 :\n",
      "\n",
      " 70%|███████   | 704/1000 [20:49<09:33,  1.94s/it, best loss: 0.2197485425425898]\u001b[A\n",
      "\u001b[A{'bootstrap': False, 'class_weight': 'balanced', 'criterion': 'gini', 'max_depth': 41, 'max_features': 1, 'max_leaf_nodes': 28, 'min_samples_leaf': 27, 'min_samples_split': 50, 'n_estimators': 320}\n",
      "\n",
      " 70%|███████   | 704/1000 [20:49<09:33,  1.94s/it, best loss: 0.2197485425425898]\u001b[A"
     ]
    },
    {
     "name": "stderr",
     "output_type": "stream",
     "text": [
      "Hyperopt:  70%|███████   | 705/1000 [20:50<08:38,  1.76s/it]"
     ]
    },
    {
     "name": "stdout",
     "output_type": "stream",
     "text": [
      "\n",
      " 70%|███████   | 705/1000 [20:50<08:38,  1.76s/it, best loss: 0.2197485425425898]\u001b[A\n",
      "\u001b[AParameters with this training score 0.7731661377228148 :\n",
      "\n",
      " 70%|███████   | 705/1000 [20:52<08:38,  1.76s/it, best loss: 0.2197485425425898]\u001b[A\n",
      "\u001b[A{'bootstrap': True, 'class_weight': 'balanced', 'criterion': 'gini', 'max_depth': 23, 'max_features': 3, 'max_leaf_nodes': 28, 'min_samples_leaf': 27, 'min_samples_split': 90, 'n_estimators': 500}\n",
      "\n",
      " 70%|███████   | 705/1000 [20:52<08:38,  1.76s/it, best loss: 0.2197485425425898]\u001b[A"
     ]
    },
    {
     "name": "stderr",
     "output_type": "stream",
     "text": [
      "Hyperopt:  71%|███████   | 706/1000 [20:52<09:06,  1.86s/it]"
     ]
    },
    {
     "name": "stdout",
     "output_type": "stream",
     "text": [
      "\n",
      " 71%|███████   | 706/1000 [20:52<09:06,  1.86s/it, best loss: 0.2197485425425898]\u001b[A\n",
      "\u001b[AParameters with this training score 0.752469166982929 :\n",
      "\n",
      " 71%|███████   | 706/1000 [20:55<09:06,  1.86s/it, best loss: 0.2197485425425898]\u001b[A\n",
      "\u001b[A{'bootstrap': False, 'class_weight': 'balanced', 'criterion': 'gini', 'max_depth': 26, 'max_features': 3, 'max_leaf_nodes': 16, 'min_samples_leaf': 11, 'min_samples_split': 20, 'n_estimators': 870}\n",
      "\n",
      " 71%|███████   | 706/1000 [20:55<09:06,  1.86s/it, best loss: 0.2197485425425898]\u001b[A"
     ]
    },
    {
     "name": "stderr",
     "output_type": "stream",
     "text": [
      "Hyperopt:  71%|███████   | 707/1000 [20:55<10:39,  2.18s/it]"
     ]
    },
    {
     "name": "stdout",
     "output_type": "stream",
     "text": [
      "\n",
      " 71%|███████   | 707/1000 [20:55<10:39,  2.18s/it, best loss: 0.2197485425425898]\u001b[A\n",
      "\u001b[AParameters with this training score 0.7017039875004817 :\n",
      "\n",
      " 71%|███████   | 707/1000 [20:55<10:39,  2.18s/it, best loss: 0.2197485425425898]\u001b[A\n",
      "\u001b[A{'bootstrap': False, 'class_weight': 'balanced', 'criterion': 'gini', 'max_depth': 32, 'max_features': 3, 'max_leaf_nodes': 10, 'min_samples_leaf': 1, 'min_samples_split': 90, 'n_estimators': 130}\n",
      "\n",
      " 71%|███████   | 707/1000 [20:55<10:39,  2.18s/it, best loss: 0.2197485425425898]\u001b[A"
     ]
    },
    {
     "name": "stderr",
     "output_type": "stream",
     "text": [
      "Hyperopt:  71%|███████   | 708/1000 [20:55<08:18,  1.71s/it]"
     ]
    },
    {
     "name": "stdout",
     "output_type": "stream",
     "text": [
      "\n",
      " 71%|███████   | 708/1000 [20:55<08:18,  1.71s/it, best loss: 0.2197485425425898]\u001b[A\n",
      "\u001b[AParameters with this training score 0.7710402794595179 :\n",
      "\n",
      " 71%|███████   | 708/1000 [20:58<08:18,  1.71s/it, best loss: 0.2197485425425898]\u001b[A\n",
      "\u001b[A{'bootstrap': False, 'class_weight': 'balanced', 'criterion': 'gini', 'max_depth': 8, 'max_features': 4, 'max_leaf_nodes': 28, 'min_samples_leaf': 4, 'min_samples_split': 90, 'n_estimators': 860}\n",
      "\n",
      " 71%|███████   | 708/1000 [20:58<08:18,  1.71s/it, best loss: 0.2197485425425898]\u001b[A"
     ]
    },
    {
     "name": "stderr",
     "output_type": "stream",
     "text": [
      "Hyperopt:  71%|███████   | 709/1000 [20:58<10:09,  2.10s/it]"
     ]
    },
    {
     "name": "stdout",
     "output_type": "stream",
     "text": [
      "\n",
      " 71%|███████   | 709/1000 [20:58<10:09,  2.10s/it, best loss: 0.2197485425425898]\u001b[A\n",
      "\u001b[AParameters with this training score 0.7691076452077434 :\n",
      "\n",
      " 71%|███████   | 709/1000 [21:01<10:09,  2.10s/it, best loss: 0.2197485425425898]\u001b[A\n",
      "\u001b[A{'bootstrap': False, 'class_weight': 'balanced', 'criterion': 'gini', 'max_depth': 26, 'max_features': 3, 'max_leaf_nodes': 28, 'min_samples_leaf': 3, 'min_samples_split': 90, 'n_estimators': 710}\n",
      "\n",
      " 71%|███████   | 709/1000 [21:01<10:09,  2.10s/it, best loss: 0.2197485425425898]\u001b[A"
     ]
    },
    {
     "name": "stderr",
     "output_type": "stream",
     "text": [
      "Hyperopt:  71%|███████   | 710/1000 [21:01<10:41,  2.21s/it]"
     ]
    },
    {
     "name": "stdout",
     "output_type": "stream",
     "text": [
      "\n",
      " 71%|███████   | 710/1000 [21:01<10:41,  2.21s/it, best loss: 0.2197485425425898]\u001b[A\n",
      "\u001b[AParameters with this training score 0.7597691886705623 :\n",
      "\n",
      " 71%|███████   | 710/1000 [21:02<10:41,  2.21s/it, best loss: 0.2197485425425898]\u001b[A\n",
      "\u001b[A{'bootstrap': False, 'class_weight': 'balanced', 'criterion': 'gini', 'max_depth': 6, 'max_features': 3, 'max_leaf_nodes': 18, 'min_samples_leaf': 23, 'min_samples_split': 30, 'n_estimators': 200}\n",
      "\n",
      " 71%|███████   | 710/1000 [21:02<10:41,  2.21s/it, best loss: 0.2197485425425898]\u001b[A"
     ]
    },
    {
     "name": "stderr",
     "output_type": "stream",
     "text": [
      "Hyperopt:  71%|███████   | 711/1000 [21:02<08:49,  1.83s/it]"
     ]
    },
    {
     "name": "stdout",
     "output_type": "stream",
     "text": [
      "\n",
      " 71%|███████   | 711/1000 [21:02<08:49,  1.83s/it, best loss: 0.2197485425425898]\u001b[A\n",
      "\u001b[AParameters with this training score 0.6012907577252977 :\n",
      "\n",
      " 71%|███████   | 711/1000 [21:03<08:49,  1.83s/it, best loss: 0.2197485425425898]\u001b[A\n",
      "\u001b[A{'bootstrap': False, 'class_weight': None, 'criterion': 'gini', 'max_depth': 20, 'max_features': 3, 'max_leaf_nodes': 28, 'min_samples_leaf': 7, 'min_samples_split': 90, 'n_estimators': 440}\n",
      "\n",
      " 71%|███████   | 711/1000 [21:03<08:49,  1.83s/it, best loss: 0.2197485425425898]\u001b[A"
     ]
    },
    {
     "name": "stderr",
     "output_type": "stream",
     "text": [
      "Hyperopt:  71%|███████   | 712/1000 [21:03<08:38,  1.80s/it]"
     ]
    },
    {
     "name": "stdout",
     "output_type": "stream",
     "text": [
      "\n",
      " 71%|███████   | 712/1000 [21:03<08:38,  1.80s/it, best loss: 0.2197485425425898]\u001b[A\n",
      "\u001b[AParameters with this training score 0.717046007652134 :\n",
      "\n",
      " 71%|███████   | 712/1000 [21:04<08:38,  1.80s/it, best loss: 0.2197485425425898]\u001b[A\n",
      "\u001b[A{'bootstrap': False, 'class_weight': 'balanced', 'criterion': 'entropy', 'max_depth': 5, 'max_features': 2, 'max_leaf_nodes': 14, 'min_samples_leaf': 16, 'min_samples_split': 40, 'n_estimators': 270}\n",
      "\n",
      " 71%|███████   | 712/1000 [21:04<08:38,  1.80s/it, best loss: 0.2197485425425898]\u001b[A"
     ]
    },
    {
     "name": "stderr",
     "output_type": "stream",
     "text": [
      "Hyperopt:  71%|███████▏  | 713/1000 [21:05<07:45,  1.62s/it]"
     ]
    },
    {
     "name": "stdout",
     "output_type": "stream",
     "text": [
      "\n",
      " 71%|███████▏  | 713/1000 [21:04<07:45,  1.62s/it, best loss: 0.2197485425425898]\u001b[A\n",
      "\u001b[AParameters with this training score 0.7425285188682131 :\n",
      "\n",
      " 71%|███████▏  | 713/1000 [21:07<07:45,  1.62s/it, best loss: 0.2197485425425898]\u001b[A\n",
      "\u001b[A{'bootstrap': False, 'class_weight': 'balanced', 'criterion': 'gini', 'max_depth': 22, 'max_features': 3, 'max_leaf_nodes': 12, 'min_samples_leaf': 22, 'min_samples_split': 90, 'n_estimators': 840}\n",
      "\n",
      " 71%|███████▏  | 713/1000 [21:07<07:45,  1.62s/it, best loss: 0.2197485425425898]\u001b[A"
     ]
    },
    {
     "name": "stderr",
     "output_type": "stream",
     "text": [
      "Hyperopt:  71%|███████▏  | 714/1000 [21:07<09:26,  1.98s/it]"
     ]
    },
    {
     "name": "stdout",
     "output_type": "stream",
     "text": [
      "\n",
      " 71%|███████▏  | 714/1000 [21:07<09:26,  1.98s/it, best loss: 0.2197485425425898]\u001b[A\n",
      "\u001b[AParameters with this training score 0.7750745453361205 :\n",
      "\n",
      " 71%|███████▏  | 714/1000 [21:08<09:26,  1.98s/it, best loss: 0.2197485425425898]\u001b[A\n",
      "\u001b[A{'bootstrap': False, 'class_weight': 'balanced', 'criterion': 'gini', 'max_depth': 34, 'max_features': 3, 'max_leaf_nodes': 28, 'min_samples_leaf': 17, 'min_samples_split': 70, 'n_estimators': 90}\n",
      "\n",
      " 71%|███████▏  | 714/1000 [21:08<09:26,  1.98s/it, best loss: 0.2197485425425898]\u001b[A"
     ]
    },
    {
     "name": "stderr",
     "output_type": "stream",
     "text": [
      "Hyperopt:  72%|███████▏  | 715/1000 [21:08<07:25,  1.56s/it]"
     ]
    },
    {
     "name": "stdout",
     "output_type": "stream",
     "text": [
      "\n",
      " 72%|███████▏  | 715/1000 [21:08<07:25,  1.56s/it, best loss: 0.2197485425425898]\u001b[A\n",
      "\u001b[AParameters with this training score 0.7694023777033274 :\n",
      "\n",
      " 72%|███████▏  | 715/1000 [21:08<07:25,  1.56s/it, best loss: 0.2197485425425898]\u001b[A\n",
      "\u001b[A{'bootstrap': True, 'class_weight': 'balanced', 'criterion': 'gini', 'max_depth': 30, 'max_features': 3, 'max_leaf_nodes': 28, 'min_samples_leaf': 25, 'min_samples_split': 10, 'n_estimators': 80}\n",
      "\n",
      " 72%|███████▏  | 715/1000 [21:08<07:25,  1.56s/it, best loss: 0.2197485425425898]\u001b[A"
     ]
    },
    {
     "name": "stderr",
     "output_type": "stream",
     "text": [
      "Hyperopt:  72%|███████▏  | 716/1000 [21:09<05:59,  1.27s/it]"
     ]
    },
    {
     "name": "stdout",
     "output_type": "stream",
     "text": [
      "\n",
      " 72%|███████▏  | 716/1000 [21:08<05:59,  1.27s/it, best loss: 0.2197485425425898]\u001b[A\n",
      "\u001b[AParameters with this training score 0.7537406574300162 :\n",
      "\n",
      " 72%|███████▏  | 716/1000 [21:11<05:59,  1.27s/it, best loss: 0.2197485425425898]\u001b[A\n",
      "\u001b[A{'bootstrap': False, 'class_weight': 'balanced', 'criterion': 'gini', 'max_depth': 29, 'max_features': 1, 'max_leaf_nodes': 24, 'min_samples_leaf': 24, 'min_samples_split': 90, 'n_estimators': 600}\n",
      "\n",
      " 72%|███████▏  | 716/1000 [21:11<05:59,  1.27s/it, best loss: 0.2197485425425898]\u001b[A"
     ]
    },
    {
     "name": "stderr",
     "output_type": "stream",
     "text": [
      "Hyperopt:  72%|███████▏  | 717/1000 [21:11<07:18,  1.55s/it]"
     ]
    },
    {
     "name": "stdout",
     "output_type": "stream",
     "text": [
      "\n",
      " 72%|███████▏  | 717/1000 [21:11<07:18,  1.55s/it, best loss: 0.2197485425425898]\u001b[A\n",
      "\u001b[AParameters with this training score 0.7797614303349928 :\n",
      "\n",
      " 72%|███████▏  | 717/1000 [21:12<07:18,  1.55s/it, best loss: 0.2197485425425898]\u001b[A\n",
      "\u001b[A{'bootstrap': False, 'class_weight': 'balanced', 'criterion': 'gini', 'max_depth': 46, 'max_features': 3, 'max_leaf_nodes': 28, 'min_samples_leaf': 27, 'min_samples_split': 90, 'n_estimators': 410}\n",
      "\n",
      " 72%|███████▏  | 717/1000 [21:12<07:18,  1.55s/it, best loss: 0.2197485425425898]\u001b[A"
     ]
    },
    {
     "name": "stderr",
     "output_type": "stream",
     "text": [
      "Hyperopt:  72%|███████▏  | 718/1000 [21:12<07:19,  1.56s/it]"
     ]
    },
    {
     "name": "stdout",
     "output_type": "stream",
     "text": [
      "\n",
      " 72%|███████▏  | 718/1000 [21:12<07:19,  1.56s/it, best loss: 0.2197485425425898]\u001b[A\n",
      "\u001b[AParameters with this training score 0.7385300792546169 :\n",
      "\n",
      " 72%|███████▏  | 718/1000 [21:14<07:19,  1.56s/it, best loss: 0.2197485425425898]\u001b[A\n",
      "\u001b[A{'bootstrap': False, 'class_weight': 'balanced', 'criterion': 'gini', 'max_depth': 4, 'max_features': 3, 'max_leaf_nodes': 22, 'min_samples_leaf': 27, 'min_samples_split': 60, 'n_estimators': 410}\n",
      "\n",
      " 72%|███████▏  | 718/1000 [21:14<07:19,  1.56s/it, best loss: 0.2197485425425898]\u001b[A"
     ]
    },
    {
     "name": "stderr",
     "output_type": "stream",
     "text": [
      "Hyperopt:  72%|███████▏  | 719/1000 [21:14<07:21,  1.57s/it]"
     ]
    },
    {
     "name": "stdout",
     "output_type": "stream",
     "text": [
      "\n",
      " 72%|███████▏  | 719/1000 [21:14<07:21,  1.57s/it, best loss: 0.2197485425425898]\u001b[A\n",
      "\u001b[AParameters with this training score 0.7767931439611417 :\n",
      "\n",
      " 72%|███████▏  | 719/1000 [21:17<07:21,  1.57s/it, best loss: 0.2197485425425898]\u001b[A\n",
      "\u001b[A{'bootstrap': False, 'class_weight': 'balanced', 'criterion': 'gini', 'max_depth': 46, 'max_features': 4, 'max_leaf_nodes': 28, 'min_samples_leaf': 27, 'min_samples_split': 20, 'n_estimators': 920}\n",
      "\n",
      " 72%|███████▏  | 719/1000 [21:17<07:21,  1.57s/it, best loss: 0.2197485425425898]\u001b[A"
     ]
    },
    {
     "name": "stderr",
     "output_type": "stream",
     "text": [
      "Hyperopt:  72%|███████▏  | 720/1000 [21:17<09:24,  2.02s/it]"
     ]
    },
    {
     "name": "stdout",
     "output_type": "stream",
     "text": [
      "\n",
      " 72%|███████▏  | 720/1000 [21:17<09:24,  2.02s/it, best loss: 0.2197485425425898]\u001b[A\n",
      "\u001b[AParameters with this training score 0.5375330440164723 :\n",
      "\n",
      " 72%|███████▏  | 720/1000 [21:19<09:24,  2.02s/it, best loss: 0.2197485425425898]\u001b[A\n",
      "\u001b[A{'bootstrap': False, 'class_weight': None, 'criterion': 'gini', 'max_depth': 43, 'max_features': 3, 'max_leaf_nodes': 20, 'min_samples_leaf': 18, 'min_samples_split': 50, 'n_estimators': 410}\n",
      "\n",
      " 72%|███████▏  | 720/1000 [21:19<09:24,  2.02s/it, best loss: 0.2197485425425898]\u001b[A"
     ]
    },
    {
     "name": "stderr",
     "output_type": "stream",
     "text": [
      "Hyperopt:  72%|███████▏  | 721/1000 [21:19<08:49,  1.90s/it]"
     ]
    },
    {
     "name": "stdout",
     "output_type": "stream",
     "text": [
      "\n",
      " 72%|███████▏  | 721/1000 [21:19<08:49,  1.90s/it, best loss: 0.2197485425425898]\u001b[A\n",
      "\u001b[AParameters with this training score 0.7603261906151673 :\n",
      "\n",
      " 72%|███████▏  | 721/1000 [21:20<08:49,  1.90s/it, best loss: 0.2197485425425898]\u001b[A\n",
      "\u001b[A{'bootstrap': False, 'class_weight': 'balanced', 'criterion': 'entropy', 'max_depth': 46, 'max_features': 3, 'max_leaf_nodes': 16, 'min_samples_leaf': 27, 'min_samples_split': 90, 'n_estimators': 410}\n",
      "\n",
      " 72%|███████▏  | 721/1000 [21:20<08:49,  1.90s/it, best loss: 0.2197485425425898]\u001b[A"
     ]
    },
    {
     "name": "stderr",
     "output_type": "stream",
     "text": [
      "Hyperopt:  72%|███████▏  | 722/1000 [21:20<08:21,  1.81s/it]"
     ]
    },
    {
     "name": "stdout",
     "output_type": "stream",
     "text": [
      "\n",
      " 72%|███████▏  | 722/1000 [21:20<08:21,  1.81s/it, best loss: 0.2197485425425898]\u001b[A\n",
      "\u001b[AParameters with this training score 0.7797614303349928 :\n",
      "\n",
      " 72%|███████▏  | 722/1000 [21:22<08:21,  1.81s/it, best loss: 0.2197485425425898]\u001b[A\n",
      "\u001b[A{'bootstrap': False, 'class_weight': 'balanced', 'criterion': 'gini', 'max_depth': 46, 'max_features': 3, 'max_leaf_nodes': 28, 'min_samples_leaf': 27, 'min_samples_split': 90, 'n_estimators': 410}\n",
      "\n",
      " 72%|███████▏  | 722/1000 [21:22<08:21,  1.81s/it, best loss: 0.2197485425425898]\u001b[A"
     ]
    },
    {
     "name": "stderr",
     "output_type": "stream",
     "text": [
      "Hyperopt:  72%|███████▏  | 723/1000 [21:22<08:05,  1.75s/it]"
     ]
    },
    {
     "name": "stdout",
     "output_type": "stream",
     "text": [
      "\n",
      " 72%|███████▏  | 723/1000 [21:22<08:05,  1.75s/it, best loss: 0.2197485425425898]\u001b[A\n",
      "\u001b[AParameters with this training score 0.7796926732598423 :\n",
      "\n",
      " 72%|███████▏  | 723/1000 [21:23<08:05,  1.75s/it, best loss: 0.2197485425425898]\u001b[A\n",
      "\u001b[A{'bootstrap': False, 'class_weight': 'balanced', 'criterion': 'gini', 'max_depth': 46, 'max_features': 3, 'max_leaf_nodes': 28, 'min_samples_leaf': 27, 'min_samples_split': 90, 'n_estimators': 400}\n",
      "\n",
      " 72%|███████▏  | 723/1000 [21:23<08:05,  1.75s/it, best loss: 0.2197485425425898]\u001b[A"
     ]
    },
    {
     "name": "stderr",
     "output_type": "stream",
     "text": [
      "Hyperopt:  72%|███████▏  | 724/1000 [21:23<07:47,  1.69s/it]"
     ]
    },
    {
     "name": "stdout",
     "output_type": "stream",
     "text": [
      "\n",
      " 72%|███████▏  | 724/1000 [21:23<07:47,  1.69s/it, best loss: 0.2197485425425898]\u001b[A\n",
      "\u001b[AParameters with this training score 0.6954950558144751 :\n",
      "\n",
      " 72%|███████▏  | 724/1000 [21:26<07:47,  1.69s/it, best loss: 0.2197485425425898]\u001b[A\n",
      "\u001b[A{'bootstrap': True, 'class_weight': 'balanced', 'criterion': 'gini', 'max_depth': 46, 'max_features': 3, 'max_leaf_nodes': 10, 'min_samples_leaf': 27, 'min_samples_split': 90, 'n_estimators': 800}\n",
      "\n",
      " 72%|███████▏  | 724/1000 [21:26<07:47,  1.69s/it, best loss: 0.2197485425425898]\u001b[A"
     ]
    },
    {
     "name": "stderr",
     "output_type": "stream",
     "text": [
      "Hyperopt:  72%|███████▎  | 725/1000 [21:26<09:32,  2.08s/it]"
     ]
    },
    {
     "name": "stdout",
     "output_type": "stream",
     "text": [
      "\n",
      " 72%|███████▎  | 725/1000 [21:26<09:32,  2.08s/it, best loss: 0.2197485425425898]\u001b[A\n",
      "\u001b[AParameters with this training score 0.7741558497016358 :\n",
      "\n",
      " 72%|███████▎  | 725/1000 [21:28<09:32,  2.08s/it, best loss: 0.2197485425425898]\u001b[A\n",
      "\u001b[A{'bootstrap': False, 'class_weight': 'balanced', 'criterion': 'gini', 'max_depth': 46, 'max_features': 2, 'max_leaf_nodes': 28, 'min_samples_leaf': 27, 'min_samples_split': 90, 'n_estimators': 410}\n",
      "\n",
      " 72%|███████▎  | 725/1000 [21:28<09:32,  2.08s/it, best loss: 0.2197485425425898]\u001b[A"
     ]
    },
    {
     "name": "stderr",
     "output_type": "stream",
     "text": [
      "Hyperopt:  73%|███████▎  | 726/1000 [21:28<08:56,  1.96s/it]"
     ]
    },
    {
     "name": "stdout",
     "output_type": "stream",
     "text": [
      "\n",
      " 73%|███████▎  | 726/1000 [21:28<08:56,  1.96s/it, best loss: 0.2197485425425898]\u001b[A\n",
      "\u001b[AParameters with this training score 0.7701741732991567 :\n",
      "\n",
      " 73%|███████▎  | 726/1000 [21:30<08:56,  1.96s/it, best loss: 0.2197485425425898]\u001b[A\n",
      "\u001b[A{'bootstrap': False, 'class_weight': 'balanced', 'criterion': 'gini', 'max_depth': 46, 'max_features': 3, 'max_leaf_nodes': 18, 'min_samples_leaf': 27, 'min_samples_split': 30, 'n_estimators': 400}\n",
      "\n",
      " 73%|███████▎  | 726/1000 [21:30<08:56,  1.96s/it, best loss: 0.2197485425425898]\u001b[A"
     ]
    },
    {
     "name": "stderr",
     "output_type": "stream",
     "text": [
      "Hyperopt:  73%|███████▎  | 727/1000 [21:30<08:21,  1.84s/it]"
     ]
    },
    {
     "name": "stdout",
     "output_type": "stream",
     "text": [
      "\n",
      " 73%|███████▎  | 727/1000 [21:30<08:21,  1.84s/it, best loss: 0.2197485425425898]\u001b[A\n",
      "\u001b[AParameters with this training score 0.760479632401968 :\n",
      "\n",
      " 73%|███████▎  | 727/1000 [21:31<08:21,  1.84s/it, best loss: 0.2197485425425898]\u001b[A\n",
      "\u001b[A{'bootstrap': False, 'class_weight': 'balanced', 'criterion': 'gini', 'max_depth': 46, 'max_features': 1, 'max_leaf_nodes': 28, 'min_samples_leaf': 27, 'min_samples_split': 40, 'n_estimators': 410}\n",
      "\n",
      " 73%|███████▎  | 727/1000 [21:31<08:21,  1.84s/it, best loss: 0.2197485425425898]\u001b[A"
     ]
    },
    {
     "name": "stderr",
     "output_type": "stream",
     "text": [
      "Hyperopt:  73%|███████▎  | 728/1000 [21:31<08:03,  1.78s/it]"
     ]
    },
    {
     "name": "stdout",
     "output_type": "stream",
     "text": [
      "\n",
      " 73%|███████▎  | 728/1000 [21:31<08:03,  1.78s/it, best loss: 0.2197485425425898]\u001b[A\n",
      "\u001b[AParameters with this training score 0.7775689631860102 :\n",
      "\n",
      " 73%|███████▎  | 728/1000 [21:34<08:03,  1.78s/it, best loss: 0.2197485425425898]\u001b[A\n",
      "\u001b[A{'bootstrap': False, 'class_weight': 'balanced', 'criterion': 'gini', 'max_depth': 37, 'max_features': 3, 'max_leaf_nodes': 28, 'min_samples_leaf': 27, 'min_samples_split': 90, 'n_estimators': 770}\n",
      "\n",
      " 73%|███████▎  | 728/1000 [21:34<08:03,  1.78s/it, best loss: 0.2197485425425898]\u001b[A"
     ]
    },
    {
     "name": "stderr",
     "output_type": "stream",
     "text": [
      "Hyperopt:  73%|███████▎  | 729/1000 [21:34<09:17,  2.06s/it]"
     ]
    },
    {
     "name": "stdout",
     "output_type": "stream",
     "text": [
      "\n",
      " 73%|███████▎  | 729/1000 [21:34<09:17,  2.06s/it, best loss: 0.2197485425425898]\u001b[A\n",
      "\u001b[AParameters with this training score 0.5073805721866649 :\n",
      "\n",
      " 73%|███████▎  | 729/1000 [21:35<09:17,  2.06s/it, best loss: 0.2197485425425898]\u001b[A\n",
      "\u001b[A{'bootstrap': False, 'class_weight': None, 'criterion': 'gini', 'max_depth': 46, 'max_features': 3, 'max_leaf_nodes': 14, 'min_samples_leaf': 27, 'min_samples_split': 70, 'n_estimators': 400}\n",
      "\n",
      " 73%|███████▎  | 729/1000 [21:35<09:17,  2.06s/it, best loss: 0.2197485425425898]\u001b[A"
     ]
    },
    {
     "name": "stderr",
     "output_type": "stream",
     "text": [
      "Hyperopt:  73%|███████▎  | 730/1000 [21:35<08:28,  1.88s/it]"
     ]
    },
    {
     "name": "stdout",
     "output_type": "stream",
     "text": [
      "\n",
      " 73%|███████▎  | 730/1000 [21:35<08:28,  1.88s/it, best loss: 0.2197485425425898]\u001b[A\n",
      "\u001b[AParameters with this training score 0.7449542778389944 :\n",
      "\n",
      " 73%|███████▎  | 730/1000 [21:37<08:28,  1.88s/it, best loss: 0.2197485425425898]\u001b[A\n",
      "\u001b[A{'bootstrap': False, 'class_weight': 'balanced', 'criterion': 'gini', 'max_depth': 46, 'max_features': 3, 'max_leaf_nodes': 12, 'min_samples_leaf': 27, 'min_samples_split': 90, 'n_estimators': 400}\n",
      "\n",
      " 73%|███████▎  | 730/1000 [21:37<08:28,  1.88s/it, best loss: 0.2197485425425898]\u001b[A"
     ]
    },
    {
     "name": "stderr",
     "output_type": "stream",
     "text": [
      "Hyperopt:  73%|███████▎  | 731/1000 [21:37<07:55,  1.77s/it]"
     ]
    },
    {
     "name": "stdout",
     "output_type": "stream",
     "text": [
      "\n",
      " 73%|███████▎  | 731/1000 [21:37<07:55,  1.77s/it, best loss: 0.2197485425425898]\u001b[A\n",
      "\u001b[AParameters with this training score 0.7769732919665121 :\n",
      "\n",
      " 73%|███████▎  | 731/1000 [21:38<07:55,  1.77s/it, best loss: 0.2197485425425898]\u001b[A\n",
      "\u001b[A{'bootstrap': False, 'class_weight': 'balanced', 'criterion': 'entropy', 'max_depth': 46, 'max_features': 4, 'max_leaf_nodes': 28, 'min_samples_leaf': 27, 'min_samples_split': 90, 'n_estimators': 430}\n",
      "\n",
      " 73%|███████▎  | 731/1000 [21:38<07:55,  1.77s/it, best loss: 0.2197485425425898]\u001b[A"
     ]
    },
    {
     "name": "stderr",
     "output_type": "stream",
     "text": [
      "Hyperopt:  73%|███████▎  | 732/1000 [21:38<07:33,  1.69s/it]"
     ]
    },
    {
     "name": "stdout",
     "output_type": "stream",
     "text": [
      "\n",
      " 73%|███████▎  | 732/1000 [21:38<07:33,  1.69s/it, best loss: 0.2197485425425898]\u001b[A\n",
      "\u001b[AParameters with this training score 0.7785586744206185 :\n",
      "\n",
      " 73%|███████▎  | 732/1000 [21:40<07:33,  1.69s/it, best loss: 0.2197485425425898]\u001b[A\n",
      "\u001b[A{'bootstrap': False, 'class_weight': 'balanced', 'criterion': 'gini', 'max_depth': 46, 'max_features': 3, 'max_leaf_nodes': 28, 'min_samples_leaf': 27, 'min_samples_split': 10, 'n_estimators': 410}\n",
      "\n",
      " 73%|███████▎  | 732/1000 [21:40<07:33,  1.69s/it, best loss: 0.2197485425425898]\u001b[A"
     ]
    },
    {
     "name": "stderr",
     "output_type": "stream",
     "text": [
      "Hyperopt:  73%|███████▎  | 733/1000 [21:40<07:29,  1.68s/it]"
     ]
    },
    {
     "name": "stdout",
     "output_type": "stream",
     "text": [
      "\n",
      " 73%|███████▎  | 733/1000 [21:40<07:29,  1.68s/it, best loss: 0.2197485425425898]\u001b[A\n",
      "\u001b[AParameters with this training score 0.7765711037204885 :\n",
      "\n",
      " 73%|███████▎  | 733/1000 [21:42<07:29,  1.68s/it, best loss: 0.2197485425425898]\u001b[A\n",
      "\u001b[A{'bootstrap': False, 'class_weight': 'balanced', 'criterion': 'gini', 'max_depth': 46, 'max_features': 3, 'max_leaf_nodes': 24, 'min_samples_leaf': 27, 'min_samples_split': 60, 'n_estimators': 410}\n",
      "\n",
      " 73%|███████▎  | 733/1000 [21:42<07:29,  1.68s/it, best loss: 0.2197485425425898]\u001b[A"
     ]
    },
    {
     "name": "stderr",
     "output_type": "stream",
     "text": [
      "Hyperopt:  73%|███████▎  | 734/1000 [21:42<07:22,  1.66s/it]"
     ]
    },
    {
     "name": "stdout",
     "output_type": "stream",
     "text": [
      "\n",
      " 73%|███████▎  | 734/1000 [21:42<07:22,  1.66s/it, best loss: 0.2197485425425898]\u001b[A\n",
      "\u001b[AParameters with this training score 0.7697774650500712 :\n",
      "\n",
      " 73%|███████▎  | 734/1000 [21:43<07:22,  1.66s/it, best loss: 0.2197485425425898]\u001b[A\n",
      "\u001b[A{'bootstrap': True, 'class_weight': 'balanced', 'criterion': 'gini', 'max_depth': 46, 'max_features': 3, 'max_leaf_nodes': 22, 'min_samples_leaf': 27, 'min_samples_split': 20, 'n_estimators': 410}\n",
      "\n",
      " 73%|███████▎  | 734/1000 [21:43<07:22,  1.66s/it, best loss: 0.2197485425425898]\u001b[A"
     ]
    },
    {
     "name": "stderr",
     "output_type": "stream",
     "text": [
      "Hyperopt:  74%|███████▎  | 735/1000 [21:43<07:25,  1.68s/it]"
     ]
    },
    {
     "name": "stdout",
     "output_type": "stream",
     "text": [
      "\n",
      " 74%|███████▎  | 735/1000 [21:43<07:25,  1.68s/it, best loss: 0.2197485425425898]\u001b[A\n",
      "\u001b[AParameters with this training score 0.7733290721244479 :\n",
      "\n",
      " 74%|███████▎  | 735/1000 [21:46<07:25,  1.68s/it, best loss: 0.2197485425425898]\u001b[A\n",
      "\u001b[A{'bootstrap': False, 'class_weight': 'balanced', 'criterion': 'gini', 'max_depth': 46, 'max_features': 2, 'max_leaf_nodes': 28, 'min_samples_leaf': 27, 'min_samples_split': 90, 'n_estimators': 570}\n",
      "\n",
      " 74%|███████▎  | 735/1000 [21:46<07:25,  1.68s/it, best loss: 0.2197485425425898]\u001b[A"
     ]
    },
    {
     "name": "stderr",
     "output_type": "stream",
     "text": [
      "Hyperopt:  74%|███████▎  | 736/1000 [21:46<08:01,  1.83s/it]"
     ]
    },
    {
     "name": "stdout",
     "output_type": "stream",
     "text": [
      "\n",
      " 74%|███████▎  | 736/1000 [21:46<08:01,  1.83s/it, best loss: 0.2197485425425898]\u001b[A\n",
      "\u001b[AParameters with this training score 0.7786442701604337 :\n",
      "\n",
      " 74%|███████▎  | 736/1000 [21:47<08:01,  1.83s/it, best loss: 0.2197485425425898]\u001b[A\n",
      "\u001b[A{'bootstrap': False, 'class_weight': 'balanced', 'criterion': 'gini', 'max_depth': 46, 'max_features': 3, 'max_leaf_nodes': 28, 'min_samples_leaf': 27, 'min_samples_split': 50, 'n_estimators': 400}\n",
      "\n",
      " 74%|███████▎  | 736/1000 [21:47<08:01,  1.83s/it, best loss: 0.2197485425425898]\u001b[A"
     ]
    },
    {
     "name": "stderr",
     "output_type": "stream",
     "text": [
      "Hyperopt:  74%|███████▎  | 737/1000 [21:47<07:34,  1.73s/it]"
     ]
    },
    {
     "name": "stdout",
     "output_type": "stream",
     "text": [
      "\n",
      " 74%|███████▎  | 737/1000 [21:47<07:34,  1.73s/it, best loss: 0.2197485425425898]\u001b[A\n",
      "\u001b[AParameters with this training score 0.7701750270149548 :\n",
      "\n",
      " 74%|███████▎  | 737/1000 [21:49<07:34,  1.73s/it, best loss: 0.2197485425425898]\u001b[A\n",
      "\u001b[A{'bootstrap': False, 'class_weight': 'balanced', 'criterion': 'gini', 'max_depth': 46, 'max_features': 3, 'max_leaf_nodes': 20, 'min_samples_leaf': 27, 'min_samples_split': 90, 'n_estimators': 400}\n",
      "\n",
      " 74%|███████▎  | 737/1000 [21:49<07:34,  1.73s/it, best loss: 0.2197485425425898]\u001b[A"
     ]
    },
    {
     "name": "stderr",
     "output_type": "stream",
     "text": [
      "Hyperopt:  74%|███████▍  | 738/1000 [21:49<07:13,  1.65s/it]"
     ]
    },
    {
     "name": "stdout",
     "output_type": "stream",
     "text": [
      "\n",
      " 74%|███████▍  | 738/1000 [21:49<07:13,  1.65s/it, best loss: 0.2197485425425898]\u001b[A\n",
      "\u001b[AParameters with this training score 0.5 :\n",
      "\n",
      " 74%|███████▍  | 738/1000 [21:50<07:13,  1.65s/it, best loss: 0.2197485425425898]\u001b[A\n",
      "\u001b[A{'bootstrap': False, 'class_weight': None, 'criterion': 'gini', 'max_depth': 46, 'max_features': 1, 'max_leaf_nodes': 16, 'min_samples_leaf': 27, 'min_samples_split': 90, 'n_estimators': 480}\n",
      "\n",
      " 74%|███████▍  | 738/1000 [21:50<07:13,  1.65s/it, best loss: 0.2197485425425898]\u001b[A"
     ]
    },
    {
     "name": "stderr",
     "output_type": "stream",
     "text": [
      "Hyperopt:  74%|███████▍  | 739/1000 [21:50<07:25,  1.71s/it]"
     ]
    },
    {
     "name": "stdout",
     "output_type": "stream",
     "text": [
      "\n",
      " 74%|███████▍  | 739/1000 [21:50<07:25,  1.71s/it, best loss: 0.2197485425425898]\u001b[A\n",
      "\u001b[AParameters with this training score 0.7797614303349928 :\n",
      "\n",
      " 74%|███████▍  | 739/1000 [21:52<07:25,  1.71s/it, best loss: 0.2197485425425898]\u001b[A\n",
      "\u001b[A{'bootstrap': False, 'class_weight': 'balanced', 'criterion': 'gini', 'max_depth': 46, 'max_features': 3, 'max_leaf_nodes': 28, 'min_samples_leaf': 27, 'min_samples_split': 90, 'n_estimators': 410}\n",
      "\n",
      " 74%|███████▍  | 739/1000 [21:52<07:25,  1.71s/it, best loss: 0.2197485425425898]\u001b[A"
     ]
    },
    {
     "name": "stderr",
     "output_type": "stream",
     "text": [
      "Hyperopt:  74%|███████▍  | 740/1000 [21:52<07:06,  1.64s/it]"
     ]
    },
    {
     "name": "stdout",
     "output_type": "stream",
     "text": [
      "\n",
      " 74%|███████▍  | 740/1000 [21:52<07:06,  1.64s/it, best loss: 0.2197485425425898]\u001b[A\n",
      "\u001b[AParameters with this training score 0.7769974767930407 :\n",
      "\n",
      " 74%|███████▍  | 740/1000 [21:52<07:06,  1.64s/it, best loss: 0.2197485425425898]\u001b[A\n",
      "\u001b[A{'bootstrap': False, 'class_weight': 'balanced', 'criterion': 'entropy', 'max_depth': 46, 'max_features': 3, 'max_leaf_nodes': 28, 'min_samples_leaf': 27, 'min_samples_split': 90, 'n_estimators': 40}\n",
      "\n",
      " 74%|███████▍  | 740/1000 [21:52<07:06,  1.64s/it, best loss: 0.2197485425425898]\u001b[A"
     ]
    },
    {
     "name": "stderr",
     "output_type": "stream",
     "text": [
      "Hyperopt:  74%|███████▍  | 741/1000 [21:52<05:32,  1.28s/it]"
     ]
    },
    {
     "name": "stdout",
     "output_type": "stream",
     "text": [
      "\n",
      " 74%|███████▍  | 741/1000 [21:52<05:32,  1.29s/it, best loss: 0.2197485425425898]\u001b[A\n",
      "\u001b[AParameters with this training score 0.7762111411089577 :\n",
      "\n",
      " 74%|███████▍  | 741/1000 [21:53<05:32,  1.29s/it, best loss: 0.2197485425425898]\u001b[A\n",
      "\u001b[A{'bootstrap': False, 'class_weight': 'balanced', 'criterion': 'gini', 'max_depth': 46, 'max_features': 3, 'max_leaf_nodes': 28, 'min_samples_leaf': 27, 'min_samples_split': 30, 'n_estimators': 110}\n",
      "\n",
      " 74%|███████▍  | 741/1000 [21:53<05:32,  1.29s/it, best loss: 0.2197485425425898]\u001b[A"
     ]
    },
    {
     "name": "stderr",
     "output_type": "stream",
     "text": [
      "Hyperopt:  74%|███████▍  | 742/1000 [21:53<04:39,  1.08s/it]"
     ]
    },
    {
     "name": "stdout",
     "output_type": "stream",
     "text": [
      "\n",
      " 74%|███████▍  | 742/1000 [21:53<04:39,  1.08s/it, best loss: 0.2197485425425898]\u001b[A\n",
      "\u001b[AParameters with this training score 0.7323650506021225 :\n",
      "\n",
      " 74%|███████▍  | 742/1000 [21:56<04:39,  1.08s/it, best loss: 0.2197485425425898]\u001b[A\n",
      "\u001b[A{'bootstrap': False, 'class_weight': 'balanced', 'criterion': 'gini', 'max_depth': 46, 'max_features': 4, 'max_leaf_nodes': 10, 'min_samples_leaf': 27, 'min_samples_split': 90, 'n_estimators': 960}\n",
      "\n",
      " 74%|███████▍  | 742/1000 [21:56<04:39,  1.08s/it, best loss: 0.2197485425425898]\u001b[A"
     ]
    },
    {
     "name": "stderr",
     "output_type": "stream",
     "text": [
      "Hyperopt:  74%|███████▍  | 743/1000 [21:56<07:22,  1.72s/it]"
     ]
    },
    {
     "name": "stdout",
     "output_type": "stream",
     "text": [
      "\n",
      " 74%|███████▍  | 743/1000 [21:56<07:21,  1.72s/it, best loss: 0.2197485425425898]\u001b[A\n",
      "\u001b[AParameters with this training score 0.7770517474592668 :\n",
      "\n",
      " 74%|███████▍  | 743/1000 [21:58<07:21,  1.72s/it, best loss: 0.2197485425425898]\u001b[A\n",
      "\u001b[A{'bootstrap': True, 'class_weight': 'balanced', 'criterion': 'gini', 'max_depth': 46, 'max_features': 3, 'max_leaf_nodes': 28, 'min_samples_leaf': 27, 'min_samples_split': 40, 'n_estimators': 410}\n",
      "\n",
      " 74%|███████▍  | 743/1000 [21:58<07:21,  1.72s/it, best loss: 0.2197485425425898]\u001b[A"
     ]
    },
    {
     "name": "stderr",
     "output_type": "stream",
     "text": [
      "Hyperopt:  74%|███████▍  | 744/1000 [21:58<07:20,  1.72s/it]"
     ]
    },
    {
     "name": "stdout",
     "output_type": "stream",
     "text": [
      "\n",
      " 74%|███████▍  | 744/1000 [21:58<07:20,  1.72s/it, best loss: 0.2197485425425898]\u001b[A\n",
      "\u001b[AParameters with this training score 0.756535988620571 :\n",
      "\n",
      " 74%|███████▍  | 744/1000 [22:00<07:20,  1.72s/it, best loss: 0.2197485425425898]\u001b[A\n",
      "\u001b[A{'bootstrap': False, 'class_weight': 'balanced', 'criterion': 'gini', 'max_depth': 46, 'max_features': 3, 'max_leaf_nodes': 14, 'min_samples_leaf': 27, 'min_samples_split': 90, 'n_estimators': 560}\n",
      "\n",
      " 74%|███████▍  | 744/1000 [22:00<07:20,  1.72s/it, best loss: 0.2197485425425898]\u001b[A"
     ]
    },
    {
     "name": "stderr",
     "output_type": "stream",
     "text": [
      "Hyperopt:  74%|███████▍  | 745/1000 [22:00<07:49,  1.84s/it]"
     ]
    },
    {
     "name": "stdout",
     "output_type": "stream",
     "text": [
      "\n",
      " 74%|███████▍  | 745/1000 [22:00<07:49,  1.84s/it, best loss: 0.2197485425425898]\u001b[A\n",
      "\u001b[AParameters with this training score 0.776234639755532 :\n",
      "\n",
      " 74%|███████▍  | 745/1000 [22:01<07:49,  1.84s/it, best loss: 0.2197485425425898]\u001b[A\n",
      "\u001b[A{'bootstrap': False, 'class_weight': 'balanced', 'criterion': 'gini', 'max_depth': 46, 'max_features': 3, 'max_leaf_nodes': 28, 'min_samples_leaf': 27, 'min_samples_split': 70, 'n_estimators': 380}\n",
      "\n",
      " 74%|███████▍  | 745/1000 [22:01<07:49,  1.84s/it, best loss: 0.2197485425425898]\u001b[A"
     ]
    },
    {
     "name": "stderr",
     "output_type": "stream",
     "text": [
      "Hyperopt:  75%|███████▍  | 746/1000 [22:02<07:19,  1.73s/it]"
     ]
    },
    {
     "name": "stdout",
     "output_type": "stream",
     "text": [
      "\n",
      " 75%|███████▍  | 746/1000 [22:01<07:19,  1.73s/it, best loss: 0.2197485425425898]\u001b[A\n",
      "\u001b[AParameters with this training score 0.7572284648769546 :\n",
      "\n",
      " 75%|███████▍  | 746/1000 [22:03<07:19,  1.73s/it, best loss: 0.2197485425425898]\u001b[A\n",
      "\u001b[A{'bootstrap': False, 'class_weight': 'balanced', 'criterion': 'gini', 'max_depth': 46, 'max_features': 2, 'max_leaf_nodes': 18, 'min_samples_leaf': 27, 'min_samples_split': 10, 'n_estimators': 410}\n",
      "\n",
      " 75%|███████▍  | 746/1000 [22:03<07:19,  1.73s/it, best loss: 0.2197485425425898]\u001b[A"
     ]
    },
    {
     "name": "stderr",
     "output_type": "stream",
     "text": [
      "Hyperopt:  75%|███████▍  | 747/1000 [22:03<06:58,  1.66s/it]"
     ]
    },
    {
     "name": "stdout",
     "output_type": "stream",
     "text": [
      "\n",
      " 75%|███████▍  | 747/1000 [22:03<06:58,  1.66s/it, best loss: 0.2197485425425898]\u001b[A\n",
      "\u001b[AParameters with this training score 0.743895955650964 :\n",
      "\n",
      " 75%|███████▍  | 747/1000 [22:05<06:58,  1.66s/it, best loss: 0.2197485425425898]\u001b[A\n",
      "\u001b[A{'bootstrap': False, 'class_weight': 'balanced', 'criterion': 'gini', 'max_depth': 46, 'max_features': 3, 'max_leaf_nodes': 12, 'min_samples_leaf': 27, 'min_samples_split': 90, 'n_estimators': 750}\n",
      "\n",
      " 75%|███████▍  | 747/1000 [22:05<06:58,  1.66s/it, best loss: 0.2197485425425898]\u001b[A"
     ]
    },
    {
     "name": "stderr",
     "output_type": "stream",
     "text": [
      "Hyperopt:  75%|███████▍  | 748/1000 [22:06<08:08,  1.94s/it]"
     ]
    },
    {
     "name": "stdout",
     "output_type": "stream",
     "text": [
      "\n",
      " 75%|███████▍  | 748/1000 [22:06<08:08,  1.94s/it, best loss: 0.2197485425425898]\u001b[A\n",
      "\u001b[AParameters with this training score 0.6229508618458797 :\n",
      "\n",
      " 75%|███████▍  | 748/1000 [22:07<08:08,  1.94s/it, best loss: 0.2197485425425898]\u001b[A\n",
      "\u001b[A{'bootstrap': False, 'class_weight': None, 'criterion': 'gini', 'max_depth': 45, 'max_features': 3, 'max_leaf_nodes': 28, 'min_samples_leaf': 27, 'min_samples_split': 60, 'n_estimators': 410}\n",
      "\n",
      " 75%|███████▍  | 748/1000 [22:07<08:08,  1.94s/it, best loss: 0.2197485425425898]\u001b[A"
     ]
    },
    {
     "name": "stderr",
     "output_type": "stream",
     "text": [
      "Hyperopt:  75%|███████▍  | 749/1000 [22:07<07:32,  1.80s/it]"
     ]
    },
    {
     "name": "stdout",
     "output_type": "stream",
     "text": [
      "\n",
      " 75%|███████▍  | 749/1000 [22:07<07:32,  1.80s/it, best loss: 0.2197485425425898]\u001b[A\n",
      "\u001b[AParameters with this training score 0.7473389198358864 :\n",
      "\n",
      " 75%|███████▍  | 749/1000 [22:08<07:32,  1.80s/it, best loss: 0.2197485425425898]\u001b[A\n",
      "\u001b[A{'bootstrap': False, 'class_weight': 'balanced', 'criterion': 'entropy', 'max_depth': 46, 'max_features': 1, 'max_leaf_nodes': 24, 'min_samples_leaf': 27, 'min_samples_split': 90, 'n_estimators': 220}\n",
      "\n",
      " 75%|███████▍  | 749/1000 [22:08<07:32,  1.80s/it, best loss: 0.2197485425425898]\u001b[A"
     ]
    },
    {
     "name": "stderr",
     "output_type": "stream",
     "text": [
      "Hyperopt:  75%|███████▌  | 750/1000 [22:08<06:35,  1.58s/it]"
     ]
    },
    {
     "name": "stdout",
     "output_type": "stream",
     "text": [
      "\n",
      " 75%|███████▌  | 750/1000 [22:08<06:35,  1.58s/it, best loss: 0.2197485425425898]\u001b[A\n",
      "\u001b[AParameters with this training score 0.7779304928610518 :\n",
      "\n",
      " 75%|███████▌  | 750/1000 [22:10<06:35,  1.58s/it, best loss: 0.2197485425425898]\u001b[A\n",
      "\u001b[A{'bootstrap': False, 'class_weight': 'balanced', 'criterion': 'gini', 'max_depth': 24, 'max_features': 3, 'max_leaf_nodes': 28, 'min_samples_leaf': 27, 'min_samples_split': 20, 'n_estimators': 660}\n",
      "\n",
      " 75%|███████▌  | 750/1000 [22:10<06:35,  1.58s/it, best loss: 0.2197485425425898]\u001b[A"
     ]
    },
    {
     "name": "stderr",
     "output_type": "stream",
     "text": [
      "Hyperopt:  75%|███████▌  | 751/1000 [22:11<07:32,  1.82s/it]"
     ]
    },
    {
     "name": "stdout",
     "output_type": "stream",
     "text": [
      "\n",
      " 75%|███████▌  | 751/1000 [22:10<07:32,  1.82s/it, best loss: 0.2197485425425898]\u001b[A\n",
      "\u001b[AParameters with this training score 0.676327927211892 :\n",
      "\n",
      " 75%|███████▌  | 751/1000 [22:12<07:32,  1.82s/it, best loss: 0.2197485425425898]\u001b[A\n",
      "\u001b[A{'bootstrap': False, 'class_weight': 'balanced', 'criterion': 'gini', 'max_depth': 3, 'max_features': 3, 'max_leaf_nodes': 22, 'min_samples_leaf': 27, 'min_samples_split': 50, 'n_estimators': 410}\n",
      "\n",
      " 75%|███████▌  | 751/1000 [22:12<07:32,  1.82s/it, best loss: 0.2197485425425898]\u001b[A"
     ]
    },
    {
     "name": "stderr",
     "output_type": "stream",
     "text": [
      "Hyperopt:  75%|███████▌  | 752/1000 [22:12<07:07,  1.72s/it]"
     ]
    },
    {
     "name": "stdout",
     "output_type": "stream",
     "text": [
      "\n",
      " 75%|███████▌  | 752/1000 [22:12<07:07,  1.72s/it, best loss: 0.2197485425425898]\u001b[A\n",
      "\u001b[AParameters with this training score 0.7652306520999661 :\n",
      "\n",
      " 75%|███████▌  | 752/1000 [22:15<07:07,  1.72s/it, best loss: 0.2197485425425898]\u001b[A\n",
      "\u001b[A{'bootstrap': True, 'class_weight': 'balanced', 'criterion': 'gini', 'max_depth': 46, 'max_features': 3, 'max_leaf_nodes': 28, 'min_samples_leaf': 8, 'min_samples_split': 90, 'n_estimators': 810}\n",
      "\n",
      " 75%|███████▌  | 752/1000 [22:15<07:07,  1.72s/it, best loss: 0.2197485425425898]\u001b[A"
     ]
    },
    {
     "name": "stderr",
     "output_type": "stream",
     "text": [
      "Hyperopt:  75%|███████▌  | 753/1000 [22:15<08:44,  2.12s/it]"
     ]
    },
    {
     "name": "stdout",
     "output_type": "stream",
     "text": [
      "\n",
      " 75%|███████▌  | 753/1000 [22:15<08:44,  2.12s/it, best loss: 0.2197485425425898]\u001b[A\n",
      "\u001b[AParameters with this training score 0.769848162367302 :\n",
      "\n",
      " 75%|███████▌  | 753/1000 [22:16<08:44,  2.12s/it, best loss: 0.2197485425425898]\u001b[A\n",
      "\u001b[A{'bootstrap': False, 'class_weight': 'balanced', 'criterion': 'gini', 'max_depth': 9, 'max_features': 3, 'max_leaf_nodes': 20, 'min_samples_leaf': 27, 'min_samples_split': 90, 'n_estimators': 410}\n",
      "\n",
      " 75%|███████▌  | 753/1000 [22:16<08:44,  2.12s/it, best loss: 0.2197485425425898]\u001b[A"
     ]
    },
    {
     "name": "stderr",
     "output_type": "stream",
     "text": [
      "Hyperopt:  75%|███████▌  | 754/1000 [22:17<07:56,  1.94s/it]"
     ]
    },
    {
     "name": "stdout",
     "output_type": "stream",
     "text": [
      "\n",
      " 75%|███████▌  | 754/1000 [22:16<07:56,  1.94s/it, best loss: 0.2197485425425898]\u001b[A\n",
      "\u001b[AParameters with this training score 0.7626073318310516 :\n",
      "\n",
      " 75%|███████▌  | 754/1000 [22:19<07:56,  1.94s/it, best loss: 0.2197485425425898]\u001b[A\n",
      "\u001b[A{'bootstrap': False, 'class_weight': 'balanced', 'criterion': 'gini', 'max_depth': 21, 'max_features': 4, 'max_leaf_nodes': 16, 'min_samples_leaf': 27, 'min_samples_split': 90, 'n_estimators': 590}\n",
      "\n",
      " 75%|███████▌  | 754/1000 [22:19<07:56,  1.94s/it, best loss: 0.2197485425425898]\u001b[A"
     ]
    },
    {
     "name": "stderr",
     "output_type": "stream",
     "text": [
      "Hyperopt:  76%|███████▌  | 755/1000 [22:19<08:09,  2.00s/it]"
     ]
    },
    {
     "name": "stdout",
     "output_type": "stream",
     "text": [
      "\n",
      " 76%|███████▌  | 755/1000 [22:19<08:09,  2.00s/it, best loss: 0.2197485425425898]\u001b[A\n",
      "\u001b[AParameters with this training score 0.7774317201371284 :\n",
      "\n",
      " 76%|███████▌  | 755/1000 [22:22<08:09,  2.00s/it, best loss: 0.2197485425425898]\u001b[A\n",
      "\u001b[A{'bootstrap': False, 'class_weight': 'balanced', 'criterion': 'gini', 'max_depth': 28, 'max_features': 3, 'max_leaf_nodes': 28, 'min_samples_leaf': 27, 'min_samples_split': 90, 'n_estimators': 970}\n",
      "\n",
      " 76%|███████▌  | 755/1000 [22:22<08:09,  2.00s/it, best loss: 0.2197485425425898]\u001b[A"
     ]
    },
    {
     "name": "stderr",
     "output_type": "stream",
     "text": [
      "Hyperopt:  76%|███████▌  | 756/1000 [22:22<09:50,  2.42s/it]"
     ]
    },
    {
     "name": "stdout",
     "output_type": "stream",
     "text": [
      "\n",
      " 76%|███████▌  | 756/1000 [22:22<09:50,  2.42s/it, best loss: 0.2197485425425898]\u001b[A\n",
      "\u001b[AParameters with this training score 0.7777578714370683 :\n",
      "\n",
      " 76%|███████▌  | 756/1000 [22:24<09:50,  2.42s/it, best loss: 0.2197485425425898]\u001b[A\n",
      "\u001b[A{'bootstrap': False, 'class_weight': 'balanced', 'criterion': 'gini', 'max_depth': 26, 'max_features': 3, 'max_leaf_nodes': 28, 'min_samples_leaf': 27, 'min_samples_split': 90, 'n_estimators': 630}\n",
      "\n",
      " 76%|███████▌  | 756/1000 [22:24<09:50,  2.42s/it, best loss: 0.2197485425425898]\u001b[A"
     ]
    },
    {
     "name": "stderr",
     "output_type": "stream",
     "text": [
      "Hyperopt:  76%|███████▌  | 757/1000 [22:24<09:35,  2.37s/it]"
     ]
    },
    {
     "name": "stdout",
     "output_type": "stream",
     "text": [
      "\n",
      " 76%|███████▌  | 757/1000 [22:24<09:35,  2.37s/it, best loss: 0.2197485425425898]\u001b[A\n",
      "\u001b[AParameters with this training score 0.5 :\n",
      "\n",
      " 76%|███████▌  | 757/1000 [22:26<09:35,  2.37s/it, best loss: 0.2197485425425898]\u001b[A\n",
      "\u001b[A{'bootstrap': False, 'class_weight': None, 'criterion': 'gini', 'max_depth': 14, 'max_features': 2, 'max_leaf_nodes': 10, 'min_samples_leaf': 27, 'min_samples_split': 40, 'n_estimators': 610}\n",
      "\n",
      " 76%|███████▌  | 757/1000 [22:26<09:35,  2.37s/it, best loss: 0.2197485425425898]\u001b[A"
     ]
    },
    {
     "name": "stderr",
     "output_type": "stream",
     "text": [
      "Hyperopt:  76%|███████▌  | 758/1000 [22:27<09:16,  2.30s/it]"
     ]
    },
    {
     "name": "stdout",
     "output_type": "stream",
     "text": [
      "\n",
      " 76%|███████▌  | 758/1000 [22:26<09:16,  2.30s/it, best loss: 0.2197485425425898]\u001b[A\n",
      "\u001b[AParameters with this training score 0.775771053864011 :\n",
      "\n",
      " 76%|███████▌  | 758/1000 [22:29<09:16,  2.30s/it, best loss: 0.2197485425425898]\u001b[A\n",
      "\u001b[A{'bootstrap': False, 'class_weight': 'balanced', 'criterion': 'entropy', 'max_depth': 12, 'max_features': 3, 'max_leaf_nodes': 28, 'min_samples_leaf': 27, 'min_samples_split': 30, 'n_estimators': 690}\n",
      "\n",
      " 76%|███████▌  | 758/1000 [22:29<09:16,  2.30s/it, best loss: 0.2197485425425898]\u001b[A"
     ]
    },
    {
     "name": "stderr",
     "output_type": "stream",
     "text": [
      "Hyperopt:  76%|███████▌  | 759/1000 [22:29<09:14,  2.30s/it]"
     ]
    },
    {
     "name": "stdout",
     "output_type": "stream",
     "text": [
      "\n",
      " 76%|███████▌  | 759/1000 [22:29<09:14,  2.30s/it, best loss: 0.2197485425425898]\u001b[A\n",
      "\u001b[AParameters with this training score 0.7689332311518331 :\n",
      "\n",
      " 76%|███████▌  | 759/1000 [22:29<09:14,  2.30s/it, best loss: 0.2197485425425898]\u001b[A\n",
      "\u001b[A{'bootstrap': False, 'class_weight': 'balanced', 'criterion': 'gini', 'max_depth': 35, 'max_features': 3, 'max_leaf_nodes': 18, 'min_samples_leaf': 27, 'min_samples_split': 90, 'n_estimators': 120}\n",
      "\n",
      " 76%|███████▌  | 759/1000 [22:29<09:14,  2.30s/it, best loss: 0.2197485425425898]\u001b[A"
     ]
    },
    {
     "name": "stderr",
     "output_type": "stream",
     "text": [
      "Hyperopt:  76%|███████▌  | 760/1000 [22:30<07:22,  1.84s/it]"
     ]
    },
    {
     "name": "stdout",
     "output_type": "stream",
     "text": [
      "\n",
      " 76%|███████▌  | 760/1000 [22:29<07:22,  1.84s/it, best loss: 0.2197485425425898]\u001b[A\n",
      "\u001b[AParameters with this training score 0.7557865411747656 :\n",
      "\n",
      " 76%|███████▌  | 760/1000 [22:30<07:22,  1.84s/it, best loss: 0.2197485425425898]\u001b[A\n",
      "\u001b[A{'bootstrap': False, 'class_weight': 'balanced', 'criterion': 'gini', 'max_depth': 33, 'max_features': 1, 'max_leaf_nodes': 28, 'min_samples_leaf': 27, 'min_samples_split': 70, 'n_estimators': 190}\n",
      "\n",
      " 76%|███████▌  | 760/1000 [22:30<07:22,  1.84s/it, best loss: 0.2197485425425898]\u001b[A"
     ]
    },
    {
     "name": "stderr",
     "output_type": "stream",
     "text": [
      "Hyperopt:  76%|███████▌  | 761/1000 [22:31<06:15,  1.57s/it]"
     ]
    },
    {
     "name": "stdout",
     "output_type": "stream",
     "text": [
      "\n",
      " 76%|███████▌  | 761/1000 [22:30<06:15,  1.57s/it, best loss: 0.2197485425425898]\u001b[A\n",
      "\u001b[AParameters with this training score 0.736945039562394 :\n",
      "\n",
      " 76%|███████▌  | 761/1000 [22:34<06:15,  1.57s/it, best loss: 0.2197485425425898]\u001b[A\n",
      "\u001b[A{'bootstrap': True, 'class_weight': 'balanced', 'criterion': 'gini', 'max_depth': 49, 'max_features': 3, 'max_leaf_nodes': 14, 'min_samples_leaf': 27, 'min_samples_split': 90, 'n_estimators': 930}\n",
      "\n",
      " 76%|███████▌  | 761/1000 [22:34<06:15,  1.57s/it, best loss: 0.2197485425425898]\u001b[A"
     ]
    },
    {
     "name": "stderr",
     "output_type": "stream",
     "text": [
      "Hyperopt:  76%|███████▌  | 762/1000 [22:34<08:32,  2.15s/it]"
     ]
    },
    {
     "name": "stdout",
     "output_type": "stream",
     "text": [
      "\n",
      " 76%|███████▌  | 762/1000 [22:34<08:32,  2.15s/it, best loss: 0.2197485425425898]\u001b[A\n",
      "\u001b[AParameters with this training score 0.7780173172557372 :\n",
      "\n",
      " 76%|███████▌  | 762/1000 [22:36<08:32,  2.15s/it, best loss: 0.2197485425425898]\u001b[A\n",
      "\u001b[A{'bootstrap': False, 'class_weight': 'balanced', 'criterion': 'gini', 'max_depth': 47, 'max_features': 3, 'max_leaf_nodes': 28, 'min_samples_leaf': 27, 'min_samples_split': 10, 'n_estimators': 490}\n",
      "\n",
      " 76%|███████▌  | 762/1000 [22:36<08:32,  2.15s/it, best loss: 0.2197485425425898]\u001b[A"
     ]
    },
    {
     "name": "stderr",
     "output_type": "stream",
     "text": [
      "Hyperopt:  76%|███████▋  | 763/1000 [22:36<08:10,  2.07s/it]"
     ]
    },
    {
     "name": "stdout",
     "output_type": "stream",
     "text": [
      "\n",
      " 76%|███████▋  | 763/1000 [22:36<08:10,  2.07s/it, best loss: 0.2197485425425898]\u001b[A\n",
      "\u001b[AParameters with this training score 0.7409552774972697 :\n",
      "\n",
      " 76%|███████▋  | 763/1000 [22:39<08:10,  2.07s/it, best loss: 0.2197485425425898]\u001b[A\n",
      "\u001b[A{'bootstrap': False, 'class_weight': 'balanced', 'criterion': 'gini', 'max_depth': 29, 'max_features': 3, 'max_leaf_nodes': 12, 'min_samples_leaf': 27, 'min_samples_split': 60, 'n_estimators': 900}\n",
      "\n",
      " 76%|███████▋  | 763/1000 [22:39<08:10,  2.07s/it, best loss: 0.2197485425425898]\u001b[A"
     ]
    },
    {
     "name": "stderr",
     "output_type": "stream",
     "text": [
      "Hyperopt:  76%|███████▋  | 764/1000 [22:39<09:23,  2.39s/it]"
     ]
    },
    {
     "name": "stdout",
     "output_type": "stream",
     "text": [
      "\n",
      " 76%|███████▋  | 764/1000 [22:39<09:23,  2.39s/it, best loss: 0.2197485425425898]\u001b[A\n",
      "\u001b[AParameters with this training score 0.7741284305194631 :\n",
      "\n",
      " 76%|███████▋  | 764/1000 [22:41<09:23,  2.39s/it, best loss: 0.2197485425425898]\u001b[A\n",
      "\u001b[A{'bootstrap': False, 'class_weight': 'balanced', 'criterion': 'gini', 'max_depth': 42, 'max_features': 3, 'max_leaf_nodes': 28, 'min_samples_leaf': 10, 'min_samples_split': 90, 'n_estimators': 580}\n",
      "\n",
      " 76%|███████▋  | 764/1000 [22:41<09:23,  2.39s/it, best loss: 0.2197485425425898]\u001b[A"
     ]
    },
    {
     "name": "stderr",
     "output_type": "stream",
     "text": [
      "Hyperopt:  76%|███████▋  | 765/1000 [22:41<08:58,  2.29s/it]"
     ]
    },
    {
     "name": "stdout",
     "output_type": "stream",
     "text": [
      "\n",
      " 76%|███████▋  | 765/1000 [22:41<08:58,  2.29s/it, best loss: 0.2197485425425898]\u001b[A\n",
      "\u001b[AParameters with this training score 0.7735078178253583 :\n",
      "\n",
      " 76%|███████▋  | 765/1000 [22:44<08:58,  2.29s/it, best loss: 0.2197485425425898]\u001b[A\n",
      "\u001b[A{'bootstrap': False, 'class_weight': 'balanced', 'criterion': 'gini', 'max_depth': 38, 'max_features': 4, 'max_leaf_nodes': 24, 'min_samples_leaf': 28, 'min_samples_split': 20, 'n_estimators': 830}\n",
      "\n",
      " 76%|███████▋  | 765/1000 [22:44<08:58,  2.29s/it, best loss: 0.2197485425425898]\u001b[A"
     ]
    },
    {
     "name": "stderr",
     "output_type": "stream",
     "text": [
      "Hyperopt:  77%|███████▋  | 766/1000 [22:44<09:30,  2.44s/it]"
     ]
    },
    {
     "name": "stdout",
     "output_type": "stream",
     "text": [
      "\n",
      " 77%|███████▋  | 766/1000 [22:44<09:30,  2.44s/it, best loss: 0.2197485425425898]\u001b[A\n",
      "\u001b[AParameters with this training score 0.5752848541145871 :\n",
      "\n",
      " 77%|███████▋  | 766/1000 [22:45<09:30,  2.44s/it, best loss: 0.2197485425425898]\u001b[A\n",
      "\u001b[A{'bootstrap': False, 'class_weight': None, 'criterion': 'gini', 'max_depth': 15, 'max_features': 3, 'max_leaf_nodes': 28, 'min_samples_leaf': 5, 'min_samples_split': 50, 'n_estimators': 340}\n",
      "\n",
      " 77%|███████▋  | 766/1000 [22:45<09:30,  2.44s/it, best loss: 0.2197485425425898]\u001b[A"
     ]
    },
    {
     "name": "stderr",
     "output_type": "stream",
     "text": [
      "Hyperopt:  77%|███████▋  | 767/1000 [22:45<08:11,  2.11s/it]"
     ]
    },
    {
     "name": "stdout",
     "output_type": "stream",
     "text": [
      "\n",
      " 77%|███████▋  | 767/1000 [22:45<08:11,  2.11s/it, best loss: 0.2197485425425898]\u001b[A\n",
      "\u001b[AParameters with this training score 0.7536857864403539 :\n",
      "\n",
      " 77%|███████▋  | 767/1000 [22:46<08:11,  2.11s/it, best loss: 0.2197485425425898]\u001b[A\n",
      "\u001b[A{'bootstrap': False, 'class_weight': 'balanced', 'criterion': 'entropy', 'max_depth': 36, 'max_features': 3, 'max_leaf_nodes': 22, 'min_samples_leaf': 2, 'min_samples_split': 90, 'n_estimators': 150}\n",
      "\n",
      " 77%|███████▋  | 767/1000 [22:46<08:11,  2.11s/it, best loss: 0.2197485425425898]\u001b[A"
     ]
    },
    {
     "name": "stderr",
     "output_type": "stream",
     "text": [
      "Hyperopt:  77%|███████▋  | 768/1000 [22:46<06:41,  1.73s/it]"
     ]
    },
    {
     "name": "stdout",
     "output_type": "stream",
     "text": [
      "\n",
      " 77%|███████▋  | 768/1000 [22:46<06:41,  1.73s/it, best loss: 0.2197485425425898]\u001b[A\n",
      "\u001b[AParameters with this training score 0.7721783774933602 :\n",
      "\n",
      " 77%|███████▋  | 768/1000 [22:47<06:41,  1.73s/it, best loss: 0.2197485425425898]\u001b[A\n",
      "\u001b[A{'bootstrap': False, 'class_weight': 'balanced', 'criterion': 'gini', 'max_depth': 27, 'max_features': 3, 'max_leaf_nodes': 28, 'min_samples_leaf': 29, 'min_samples_split': 90, 'n_estimators': 60}\n",
      "\n",
      " 77%|███████▋  | 768/1000 [22:47<06:41,  1.73s/it, best loss: 0.2197485425425898]\u001b[A"
     ]
    },
    {
     "name": "stderr",
     "output_type": "stream",
     "text": [
      "Hyperopt:  77%|███████▋  | 769/1000 [22:47<05:18,  1.38s/it]"
     ]
    },
    {
     "name": "stdout",
     "output_type": "stream",
     "text": [
      "\n",
      " 77%|███████▋  | 769/1000 [22:47<05:18,  1.38s/it, best loss: 0.2197485425425898]\u001b[A\n",
      "\u001b[AParameters with this training score 0.7629275510289444 :\n",
      "\n",
      " 77%|███████▋  | 769/1000 [22:50<05:18,  1.38s/it, best loss: 0.2197485425425898]\u001b[A\n",
      "\u001b[A{'bootstrap': False, 'class_weight': 'balanced', 'criterion': 'gini', 'max_depth': 25, 'max_features': 2, 'max_leaf_nodes': 20, 'min_samples_leaf': 27, 'min_samples_split': 90, 'n_estimators': 910}\n",
      "\n",
      " 77%|███████▋  | 769/1000 [22:50<05:18,  1.38s/it, best loss: 0.2197485425425898]\u001b[A"
     ]
    },
    {
     "name": "stderr",
     "output_type": "stream",
     "text": [
      "Hyperopt:  77%|███████▋  | 770/1000 [22:50<07:18,  1.91s/it]"
     ]
    },
    {
     "name": "stdout",
     "output_type": "stream",
     "text": [
      "\n",
      " 77%|███████▋  | 770/1000 [22:50<07:18,  1.91s/it, best loss: 0.2197485425425898]\u001b[A\n",
      "\u001b[AParameters with this training score 0.7464359248050672 :\n",
      "\n",
      " 77%|███████▋  | 770/1000 [22:53<07:18,  1.91s/it, best loss: 0.2197485425425898]\u001b[A\n",
      "\u001b[A{'bootstrap': True, 'class_weight': 'balanced', 'criterion': 'gini', 'max_depth': 19, 'max_features': 3, 'max_leaf_nodes': 16, 'min_samples_leaf': 21, 'min_samples_split': 90, 'n_estimators': 760}\n",
      "\n",
      " 77%|███████▋  | 770/1000 [22:53<07:18,  1.91s/it, best loss: 0.2197485425425898]\u001b[A"
     ]
    },
    {
     "name": "stderr",
     "output_type": "stream",
     "text": [
      "Hyperopt:  77%|███████▋  | 771/1000 [22:53<08:24,  2.20s/it]"
     ]
    },
    {
     "name": "stdout",
     "output_type": "stream",
     "text": [
      "\n",
      " 77%|███████▋  | 771/1000 [22:53<08:24,  2.20s/it, best loss: 0.2197485425425898]\u001b[A\n",
      "\u001b[AParameters with this training score 0.7760113196853942 :\n",
      "\n",
      " 77%|███████▋  | 771/1000 [22:55<08:24,  2.20s/it, best loss: 0.2197485425425898]\u001b[A\n",
      "\u001b[A{'bootstrap': False, 'class_weight': 'balanced', 'criterion': 'gini', 'max_depth': 46, 'max_features': 3, 'max_leaf_nodes': 28, 'min_samples_leaf': 13, 'min_samples_split': 90, 'n_estimators': 550}\n",
      "\n",
      " 77%|███████▋  | 771/1000 [22:55<08:24,  2.20s/it, best loss: 0.2197485425425898]\u001b[A"
     ]
    },
    {
     "name": "stderr",
     "output_type": "stream",
     "text": [
      "Hyperopt:  77%|███████▋  | 772/1000 [22:55<08:12,  2.16s/it]"
     ]
    },
    {
     "name": "stdout",
     "output_type": "stream",
     "text": [
      "\n",
      " 77%|███████▋  | 772/1000 [22:55<08:12,  2.16s/it, best loss: 0.2197485425425898]\u001b[A\n",
      "\u001b[AParameters with this training score 0.760567707337774 :\n",
      "\n",
      " 77%|███████▋  | 772/1000 [22:57<08:12,  2.16s/it, best loss: 0.2197485425425898]\u001b[A\n",
      "\u001b[A{'bootstrap': False, 'class_weight': 'balanced', 'criterion': 'gini', 'max_depth': 13, 'max_features': 1, 'max_leaf_nodes': 28, 'min_samples_leaf': 6, 'min_samples_split': 30, 'n_estimators': 650}\n",
      "\n",
      " 77%|███████▋  | 772/1000 [22:57<08:12,  2.16s/it, best loss: 0.2197485425425898]\u001b[A"
     ]
    },
    {
     "name": "stderr",
     "output_type": "stream",
     "text": [
      "Hyperopt:  77%|███████▋  | 773/1000 [22:57<08:27,  2.23s/it]"
     ]
    },
    {
     "name": "stdout",
     "output_type": "stream",
     "text": [
      "\n",
      " 77%|███████▋  | 773/1000 [22:57<08:27,  2.23s/it, best loss: 0.2197485425425898]\u001b[A\n",
      "\u001b[AParameters with this training score 0.5089089026522753 :\n",
      "\n",
      " 77%|███████▋  | 773/1000 [22:59<08:27,  2.23s/it, best loss: 0.2197485425425898]\u001b[A\n",
      "\u001b[A{'bootstrap': False, 'class_weight': 'balanced', 'criterion': 'gini', 'max_depth': 1, 'max_features': 3, 'max_leaf_nodes': 10, 'min_samples_leaf': 19, 'min_samples_split': 40, 'n_estimators': 640}\n",
      "\n",
      " 77%|███████▋  | 773/1000 [22:59<08:27,  2.23s/it, best loss: 0.2197485425425898]\u001b[A"
     ]
    },
    {
     "name": "stderr",
     "output_type": "stream",
     "text": [
      "Hyperopt:  77%|███████▋  | 774/1000 [22:59<08:29,  2.25s/it]"
     ]
    },
    {
     "name": "stdout",
     "output_type": "stream",
     "text": [
      "\n",
      " 77%|███████▋  | 774/1000 [22:59<08:29,  2.25s/it, best loss: 0.2197485425425898]\u001b[A\n",
      "\u001b[AParameters with this training score 0.7742412538987514 :\n",
      "\n",
      " 77%|███████▋  | 774/1000 [23:00<08:29,  2.25s/it, best loss: 0.2197485425425898]\u001b[A\n",
      "\u001b[A{'bootstrap': False, 'class_weight': 'balanced', 'criterion': 'gini', 'max_depth': 31, 'max_features': 3, 'max_leaf_nodes': 28, 'min_samples_leaf': 14, 'min_samples_split': 90, 'n_estimators': 130}\n",
      "\n",
      " 77%|███████▋  | 774/1000 [23:00<08:29,  2.25s/it, best loss: 0.2197485425425898]\u001b[A"
     ]
    },
    {
     "name": "stderr",
     "output_type": "stream",
     "text": [
      "Hyperopt:  78%|███████▊  | 775/1000 [23:00<06:50,  1.83s/it]"
     ]
    },
    {
     "name": "stdout",
     "output_type": "stream",
     "text": [
      "\n",
      " 78%|███████▊  | 775/1000 [23:00<06:50,  1.83s/it, best loss: 0.2197485425425898]\u001b[A\n",
      "\u001b[AParameters with this training score 0.5802193618597805 :\n",
      "\n",
      " 78%|███████▊  | 775/1000 [23:01<06:50,  1.83s/it, best loss: 0.2197485425425898]\u001b[A\n",
      "\u001b[A{'bootstrap': False, 'class_weight': None, 'criterion': 'gini', 'max_depth': 48, 'max_features': 4, 'max_leaf_nodes': 18, 'min_samples_leaf': 12, 'min_samples_split': 70, 'n_estimators': 290}\n",
      "\n",
      " 78%|███████▊  | 775/1000 [23:01<06:50,  1.83s/it, best loss: 0.2197485425425898]\u001b[A"
     ]
    },
    {
     "name": "stderr",
     "output_type": "stream",
     "text": [
      "Hyperopt:  78%|███████▊  | 776/1000 [23:02<06:09,  1.65s/it]"
     ]
    },
    {
     "name": "stdout",
     "output_type": "stream",
     "text": [
      "\n",
      " 78%|███████▊  | 776/1000 [23:01<06:09,  1.65s/it, best loss: 0.2197485425425898]\u001b[A\n",
      "\u001b[AParameters with this training score 0.7745580225592648 :\n",
      "\n",
      " 78%|███████▊  | 776/1000 [23:03<06:09,  1.65s/it, best loss: 0.2197485425425898]\u001b[A\n",
      "\u001b[A{'bootstrap': False, 'class_weight': 'balanced', 'criterion': 'entropy', 'max_depth': 40, 'max_features': 3, 'max_leaf_nodes': 28, 'min_samples_leaf': 15, 'min_samples_split': 90, 'n_estimators': 470}\n",
      "\n",
      " 78%|███████▊  | 776/1000 [23:03<06:09,  1.65s/it, best loss: 0.2197485425425898]\u001b[A"
     ]
    },
    {
     "name": "stderr",
     "output_type": "stream",
     "text": [
      "Hyperopt:  78%|███████▊  | 777/1000 [23:03<06:13,  1.68s/it]"
     ]
    },
    {
     "name": "stdout",
     "output_type": "stream",
     "text": [
      "\n",
      " 78%|███████▊  | 777/1000 [23:03<06:14,  1.68s/it, best loss: 0.2197485425425898]\u001b[A\n",
      "\u001b[AParameters with this training score 0.7557210048273675 :\n",
      "\n",
      " 78%|███████▊  | 777/1000 [23:05<06:14,  1.68s/it, best loss: 0.2197485425425898]\u001b[A\n",
      "\u001b[A{'bootstrap': False, 'class_weight': 'balanced', 'criterion': 'gini', 'max_depth': 46, 'max_features': 3, 'max_leaf_nodes': 14, 'min_samples_leaf': 27, 'min_samples_split': 10, 'n_estimators': 410}\n",
      "\n",
      " 78%|███████▊  | 777/1000 [23:05<06:14,  1.68s/it, best loss: 0.2197485425425898]\u001b[A"
     ]
    },
    {
     "name": "stderr",
     "output_type": "stream",
     "text": [
      "Hyperopt:  78%|███████▊  | 778/1000 [23:05<06:13,  1.68s/it]"
     ]
    },
    {
     "name": "stdout",
     "output_type": "stream",
     "text": [
      "\n",
      " 78%|███████▊  | 778/1000 [23:05<06:13,  1.68s/it, best loss: 0.2197485425425898]\u001b[A\n",
      "\u001b[AParameters with this training score 0.7750308693594494 :\n",
      "\n",
      " 78%|███████▊  | 778/1000 [23:06<06:13,  1.68s/it, best loss: 0.2197485425425898]\u001b[A\n",
      "\u001b[A{'bootstrap': False, 'class_weight': 'balanced', 'criterion': 'gini', 'max_depth': 26, 'max_features': 3, 'max_leaf_nodes': 28, 'min_samples_leaf': 20, 'min_samples_split': 60, 'n_estimators': 170}\n",
      "\n",
      " 78%|███████▊  | 778/1000 [23:06<06:13,  1.68s/it, best loss: 0.2197485425425898]\u001b[A"
     ]
    },
    {
     "name": "stderr",
     "output_type": "stream",
     "text": [
      "Hyperopt:  78%|███████▊  | 779/1000 [23:06<05:15,  1.43s/it]"
     ]
    },
    {
     "name": "stdout",
     "output_type": "stream",
     "text": [
      "\n",
      " 78%|███████▊  | 779/1000 [23:06<05:15,  1.43s/it, best loss: 0.2197485425425898]\u001b[A\n",
      "\u001b[AParameters with this training score 0.7148838392276431 :\n",
      "\n",
      " 78%|███████▊  | 779/1000 [23:09<05:15,  1.43s/it, best loss: 0.2197485425425898]\u001b[A\n",
      "\u001b[A{'bootstrap': True, 'class_weight': 'balanced', 'criterion': 'gini', 'max_depth': 7, 'max_features': 3, 'max_leaf_nodes': 12, 'min_samples_leaf': 24, 'min_samples_split': 90, 'n_estimators': 950}\n",
      "\n",
      " 78%|███████▊  | 779/1000 [23:09<05:15,  1.43s/it, best loss: 0.2197485425425898]\u001b[A"
     ]
    },
    {
     "name": "stderr",
     "output_type": "stream",
     "text": [
      "Hyperopt:  78%|███████▊  | 780/1000 [23:09<07:28,  2.04s/it]"
     ]
    },
    {
     "name": "stdout",
     "output_type": "stream",
     "text": [
      "\n",
      " 78%|███████▊  | 780/1000 [23:09<07:28,  2.04s/it, best loss: 0.2197485425425898]\u001b[A\n",
      "\u001b[AParameters with this training score 0.7699978483775551 :\n",
      "\n",
      " 78%|███████▊  | 780/1000 [23:11<07:28,  2.04s/it, best loss: 0.2197485425425898]\u001b[A\n",
      "\u001b[A{'bootstrap': False, 'class_weight': 'balanced', 'criterion': 'gini', 'max_depth': 17, 'max_features': 2, 'max_leaf_nodes': 28, 'min_samples_leaf': 27, 'min_samples_split': 20, 'n_estimators': 390}\n",
      "\n",
      " 78%|███████▊  | 780/1000 [23:11<07:28,  2.04s/it, best loss: 0.2197485425425898]\u001b[A"
     ]
    },
    {
     "name": "stderr",
     "output_type": "stream",
     "text": [
      "Hyperopt:  78%|███████▊  | 781/1000 [23:11<06:43,  1.84s/it]"
     ]
    },
    {
     "name": "stdout",
     "output_type": "stream",
     "text": [
      "\n",
      " 78%|███████▊  | 781/1000 [23:11<06:43,  1.84s/it, best loss: 0.2197485425425898]\u001b[A\n",
      "\u001b[AParameters with this training score 0.606387799037657 :\n",
      "\n",
      " 78%|███████▊  | 781/1000 [23:11<06:43,  1.84s/it, best loss: 0.2197485425425898]\u001b[A\n",
      "\u001b[A{'bootstrap': False, 'class_weight': 'balanced', 'criterion': 'gini', 'max_depth': 2, 'max_features': 3, 'max_leaf_nodes': 24, 'min_samples_leaf': 1, 'min_samples_split': 90, 'n_estimators': 20}\n",
      "\n",
      " 78%|███████▊  | 781/1000 [23:11<06:43,  1.84s/it, best loss: 0.2197485425425898]\u001b[A"
     ]
    },
    {
     "name": "stderr",
     "output_type": "stream",
     "text": [
      "Hyperopt:  78%|███████▊  | 782/1000 [23:11<05:09,  1.42s/it]"
     ]
    },
    {
     "name": "stdout",
     "output_type": "stream",
     "text": [
      "\n",
      " 78%|███████▊  | 782/1000 [23:11<05:09,  1.42s/it, best loss: 0.2197485425425898]\u001b[A\n",
      "\u001b[AParameters with this training score 0.7731052334982247 :\n",
      "\n",
      " 78%|███████▊  | 782/1000 [23:14<05:09,  1.42s/it, best loss: 0.2197485425425898]\u001b[A\n",
      "\u001b[A{'bootstrap': False, 'class_weight': 'balanced', 'criterion': 'gini', 'max_depth': 18, 'max_features': 3, 'max_leaf_nodes': 28, 'min_samples_leaf': 9, 'min_samples_split': 50, 'n_estimators': 720}\n",
      "\n",
      " 78%|███████▊  | 782/1000 [23:14<05:09,  1.42s/it, best loss: 0.2197485425425898]\u001b[A"
     ]
    },
    {
     "name": "stderr",
     "output_type": "stream",
     "text": [
      "Hyperopt:  78%|███████▊  | 783/1000 [23:14<06:27,  1.79s/it]"
     ]
    },
    {
     "name": "stdout",
     "output_type": "stream",
     "text": [
      "\n",
      " 78%|███████▊  | 783/1000 [23:14<06:27,  1.79s/it, best loss: 0.2197485425425898]\u001b[A\n",
      "\u001b[AParameters with this training score 0.7570013049342539 :\n",
      "\n",
      " 78%|███████▊  | 783/1000 [23:15<06:27,  1.79s/it, best loss: 0.2197485425425898]\u001b[A\n",
      "\u001b[A{'bootstrap': False, 'class_weight': 'balanced', 'criterion': 'gini', 'max_depth': 23, 'max_features': 1, 'max_leaf_nodes': 28, 'min_samples_leaf': 7, 'min_samples_split': 90, 'n_estimators': 240}\n",
      "\n",
      " 78%|███████▊  | 783/1000 [23:15<06:27,  1.79s/it, best loss: 0.2197485425425898]\u001b[A"
     ]
    },
    {
     "name": "stderr",
     "output_type": "stream",
     "text": [
      "Hyperopt:  78%|███████▊  | 784/1000 [23:15<05:44,  1.60s/it]"
     ]
    },
    {
     "name": "stdout",
     "output_type": "stream",
     "text": [
      "\n",
      " 78%|███████▊  | 784/1000 [23:15<05:44,  1.60s/it, best loss: 0.2197485425425898]\u001b[A\n",
      "\u001b[AParameters with this training score 0.5555971543310344 :\n",
      "\n",
      " 78%|███████▊  | 784/1000 [23:17<05:44,  1.60s/it, best loss: 0.2197485425425898]\u001b[A\n",
      "\u001b[A{'bootstrap': False, 'class_weight': None, 'criterion': 'gini', 'max_depth': 22, 'max_features': 3, 'max_leaf_nodes': 22, 'min_samples_leaf': 3, 'min_samples_split': 90, 'n_estimators': 510}\n",
      "\n",
      " 78%|███████▊  | 784/1000 [23:17<05:44,  1.60s/it, best loss: 0.2197485425425898]\u001b[A"
     ]
    },
    {
     "name": "stderr",
     "output_type": "stream",
     "text": [
      "Hyperopt:  78%|███████▊  | 785/1000 [23:17<05:53,  1.64s/it]"
     ]
    },
    {
     "name": "stdout",
     "output_type": "stream",
     "text": [
      "\n",
      " 78%|███████▊  | 785/1000 [23:17<05:53,  1.64s/it, best loss: 0.2197485425425898]\u001b[A\n",
      "\u001b[AParameters with this training score 0.7694256790535592 :\n",
      "\n",
      " 78%|███████▊  | 785/1000 [23:18<05:53,  1.64s/it, best loss: 0.2197485425425898]\u001b[A\n",
      "\u001b[A{'bootstrap': False, 'class_weight': 'balanced', 'criterion': 'gini', 'max_depth': 10, 'max_features': 3, 'max_leaf_nodes': 28, 'min_samples_leaf': 4, 'min_samples_split': 90, 'n_estimators': 420}\n",
      "\n",
      " 78%|███████▊  | 785/1000 [23:18<05:53,  1.64s/it, best loss: 0.2197485425425898]\u001b[A"
     ]
    },
    {
     "name": "stderr",
     "output_type": "stream",
     "text": [
      "Hyperopt:  79%|███████▊  | 786/1000 [23:18<05:53,  1.65s/it]"
     ]
    },
    {
     "name": "stdout",
     "output_type": "stream",
     "text": [
      "\n",
      " 79%|███████▊  | 786/1000 [23:18<05:53,  1.65s/it, best loss: 0.2197485425425898]\u001b[A\n",
      "\u001b[AParameters with this training score 0.7757370291234704 :\n",
      "\n",
      " 79%|███████▊  | 786/1000 [23:20<05:53,  1.65s/it, best loss: 0.2197485425425898]\u001b[A\n",
      "\u001b[A{'bootstrap': False, 'class_weight': 'balanced', 'criterion': 'gini', 'max_depth': 10, 'max_features': 3, 'max_leaf_nodes': 28, 'min_samples_leaf': 16, 'min_samples_split': 90, 'n_estimators': 460}\n",
      "\n",
      " 79%|███████▊  | 786/1000 [23:20<05:53,  1.65s/it, best loss: 0.2197485425425898]\u001b[A"
     ]
    },
    {
     "name": "stderr",
     "output_type": "stream",
     "text": [
      "Hyperopt:  79%|███████▊  | 787/1000 [23:20<05:57,  1.68s/it]"
     ]
    },
    {
     "name": "stdout",
     "output_type": "stream",
     "text": [
      "\n",
      " 79%|███████▊  | 787/1000 [23:20<05:57,  1.68s/it, best loss: 0.2197485425425898]\u001b[A\n",
      "\u001b[AParameters with this training score 0.7703799721337061 :\n",
      "\n",
      " 79%|███████▊  | 787/1000 [23:23<05:57,  1.68s/it, best loss: 0.2197485425425898]\u001b[A\n",
      "\u001b[A{'bootstrap': False, 'class_weight': 'balanced', 'criterion': 'gini', 'max_depth': 6, 'max_features': 3, 'max_leaf_nodes': 28, 'min_samples_leaf': 11, 'min_samples_split': 90, 'n_estimators': 880}\n",
      "\n",
      " 79%|███████▊  | 787/1000 [23:23<05:57,  1.68s/it, best loss: 0.2197485425425898]\u001b[A"
     ]
    },
    {
     "name": "stderr",
     "output_type": "stream",
     "text": [
      "Hyperopt:  79%|███████▉  | 788/1000 [23:23<07:21,  2.08s/it]"
     ]
    },
    {
     "name": "stdout",
     "output_type": "stream",
     "text": [
      "\n",
      " 79%|███████▉  | 788/1000 [23:23<07:21,  2.08s/it, best loss: 0.2197485425425898]\u001b[A\n",
      "\u001b[AParameters with this training score 0.7799162619266841 :\n",
      "\n",
      " 79%|███████▉  | 788/1000 [23:24<07:21,  2.08s/it, best loss: 0.2197485425425898]\u001b[A\n",
      "\u001b[A{'bootstrap': False, 'class_weight': 'balanced', 'criterion': 'gini', 'max_depth': 10, 'max_features': 3, 'max_leaf_nodes': 28, 'min_samples_leaf': 27, 'min_samples_split': 90, 'n_estimators': 360}\n",
      "\n",
      " 79%|███████▉  | 788/1000 [23:24<07:21,  2.08s/it, best loss: 0.2197485425425898]\u001b[A"
     ]
    },
    {
     "name": "stderr",
     "output_type": "stream",
     "text": [
      "Hyperopt:  79%|███████▉  | 789/1000 [23:25<06:38,  1.89s/it]"
     ]
    },
    {
     "name": "stdout",
     "output_type": "stream",
     "text": [
      "\n",
      " 79%|███████▉  | 789/1000 [23:24<06:38,  1.89s/it, best loss: 0.2197485425425898]\u001b[A\n",
      "\u001b[AParameters with this training score 0.7788153366603732 :\n",
      "\n",
      " 79%|███████▉  | 789/1000 [23:26<06:38,  1.89s/it, best loss: 0.2197485425425898]\u001b[A\n",
      "\u001b[A{'bootstrap': False, 'class_weight': 'balanced', 'criterion': 'gini', 'max_depth': 8, 'max_features': 3, 'max_leaf_nodes': 28, 'min_samples_leaf': 27, 'min_samples_split': 90, 'n_estimators': 370}\n",
      "\n",
      " 79%|███████▉  | 789/1000 [23:26<06:38,  1.89s/it, best loss: 0.2197485425425898]\u001b[A"
     ]
    },
    {
     "name": "stderr",
     "output_type": "stream",
     "text": [
      "Hyperopt:  79%|███████▉  | 790/1000 [23:26<06:04,  1.74s/it]"
     ]
    },
    {
     "name": "stdout",
     "output_type": "stream",
     "text": [
      "\n",
      " 79%|███████▉  | 790/1000 [23:26<06:04,  1.74s/it, best loss: 0.2197485425425898]\u001b[A\n",
      "\u001b[AParameters with this training score 0.7802177038182888 :\n",
      "\n",
      " 79%|███████▉  | 790/1000 [23:27<06:04,  1.74s/it, best loss: 0.2197485425425898]\u001b[A\n",
      "\u001b[A{'bootstrap': False, 'class_weight': 'balanced', 'criterion': 'gini', 'max_depth': 41, 'max_features': 3, 'max_leaf_nodes': 28, 'min_samples_leaf': 27, 'min_samples_split': 90, 'n_estimators': 360}\n",
      "\n",
      " 79%|███████▉  | 790/1000 [23:27<06:04,  1.74s/it, best loss: 0.2197485425425898]\u001b[A"
     ]
    },
    {
     "name": "stderr",
     "output_type": "stream",
     "text": [
      "Hyperopt:  79%|███████▉  | 791/1000 [23:27<05:40,  1.63s/it]"
     ]
    },
    {
     "name": "stdout",
     "output_type": "stream",
     "text": [
      "\n",
      " 79%|███████▉  | 791/1000 [23:27<05:40,  1.63s/it, best loss: 0.2197485425425898]\u001b[A\n",
      "\u001b[AParameters with this training score 0.7802177038182888 :\n",
      "\n",
      " 79%|███████▉  | 791/1000 [23:29<05:40,  1.63s/it, best loss: 0.2197485425425898]\u001b[A\n",
      "\u001b[A{'bootstrap': False, 'class_weight': 'balanced', 'criterion': 'gini', 'max_depth': 46, 'max_features': 3, 'max_leaf_nodes': 28, 'min_samples_leaf': 27, 'min_samples_split': 90, 'n_estimators': 360}\n",
      "\n",
      " 79%|███████▉  | 791/1000 [23:29<05:40,  1.63s/it, best loss: 0.2197485425425898]\u001b[A"
     ]
    },
    {
     "name": "stderr",
     "output_type": "stream",
     "text": [
      "Hyperopt:  79%|███████▉  | 792/1000 [23:29<05:29,  1.58s/it]"
     ]
    },
    {
     "name": "stdout",
     "output_type": "stream",
     "text": [
      "\n",
      " 79%|███████▉  | 792/1000 [23:29<05:29,  1.58s/it, best loss: 0.2197485425425898]\u001b[A\n",
      "\u001b[AParameters with this training score 0.7770183881407527 :\n",
      "\n",
      " 79%|███████▉  | 792/1000 [23:30<05:29,  1.58s/it, best loss: 0.2197485425425898]\u001b[A\n",
      "\u001b[A{'bootstrap': False, 'class_weight': 'balanced', 'criterion': 'gini', 'max_depth': 41, 'max_features': 3, 'max_leaf_nodes': 28, 'min_samples_leaf': 27, 'min_samples_split': 90, 'n_estimators': 210}\n",
      "\n",
      " 79%|███████▉  | 792/1000 [23:30<05:29,  1.58s/it, best loss: 0.2197485425425898]\u001b[A"
     ]
    },
    {
     "name": "stderr",
     "output_type": "stream",
     "text": [
      "Hyperopt:  79%|███████▉  | 793/1000 [23:30<04:50,  1.40s/it]"
     ]
    },
    {
     "name": "stdout",
     "output_type": "stream",
     "text": [
      "\n",
      " 79%|███████▉  | 793/1000 [23:30<04:50,  1.40s/it, best loss: 0.2197485425425898]\u001b[A\n",
      "\u001b[AParameters with this training score 0.7781703042966748 :\n",
      "\n",
      " 79%|███████▉  | 793/1000 [23:30<04:50,  1.40s/it, best loss: 0.2197485425425898]\u001b[A\n",
      "\u001b[A{'bootstrap': False, 'class_weight': 'balanced', 'criterion': 'gini', 'max_depth': 32, 'max_features': 3, 'max_leaf_nodes': 28, 'min_samples_leaf': 27, 'min_samples_split': 90, 'n_estimators': 140}\n",
      "\n",
      " 79%|███████▉  | 793/1000 [23:30<04:50,  1.40s/it, best loss: 0.2197485425425898]\u001b[A"
     ]
    },
    {
     "name": "stderr",
     "output_type": "stream",
     "text": [
      "Hyperopt:  79%|███████▉  | 794/1000 [23:31<04:13,  1.23s/it]"
     ]
    },
    {
     "name": "stdout",
     "output_type": "stream",
     "text": [
      "\n",
      " 79%|███████▉  | 794/1000 [23:30<04:13,  1.23s/it, best loss: 0.2197485425425898]\u001b[A\n",
      "\u001b[AParameters with this training score 0.7802177038182888 :\n",
      "\n",
      " 79%|███████▉  | 794/1000 [23:32<04:13,  1.23s/it, best loss: 0.2197485425425898]\u001b[A\n",
      "\u001b[A{'bootstrap': False, 'class_weight': 'balanced', 'criterion': 'gini', 'max_depth': 41, 'max_features': 3, 'max_leaf_nodes': 28, 'min_samples_leaf': 27, 'min_samples_split': 90, 'n_estimators': 360}\n",
      "\n",
      " 79%|███████▉  | 794/1000 [23:32<04:13,  1.23s/it, best loss: 0.2197485425425898]\u001b[A"
     ]
    },
    {
     "name": "stderr",
     "output_type": "stream",
     "text": [
      "Hyperopt:  80%|███████▉  | 795/1000 [23:32<04:26,  1.30s/it]"
     ]
    },
    {
     "name": "stdout",
     "output_type": "stream",
     "text": [
      "\n",
      " 80%|███████▉  | 795/1000 [23:32<04:26,  1.30s/it, best loss: 0.2197485425425898]\u001b[A\n",
      "\u001b[AParameters with this training score 0.7771988372801188 :\n",
      "\n",
      " 80%|███████▉  | 795/1000 [23:34<04:26,  1.30s/it, best loss: 0.2197485425425898]\u001b[A\n",
      "\u001b[A{'bootstrap': False, 'class_weight': 'balanced', 'criterion': 'gini', 'max_depth': 41, 'max_features': 3, 'max_leaf_nodes': 28, 'min_samples_leaf': 27, 'min_samples_split': 90, 'n_estimators': 620}\n",
      "\n",
      " 80%|███████▉  | 795/1000 [23:34<04:26,  1.30s/it, best loss: 0.2197485425425898]\u001b[A"
     ]
    },
    {
     "name": "stderr",
     "output_type": "stream",
     "text": [
      "Hyperopt:  80%|███████▉  | 796/1000 [23:34<05:27,  1.61s/it]"
     ]
    },
    {
     "name": "stdout",
     "output_type": "stream",
     "text": [
      "\n",
      " 80%|███████▉  | 796/1000 [23:34<05:27,  1.61s/it, best loss: 0.2197485425425898]\u001b[A\n",
      "\u001b[AParameters with this training score 0.7802177038182888 :\n",
      "\n",
      " 80%|███████▉  | 796/1000 [23:36<05:27,  1.61s/it, best loss: 0.2197485425425898]\u001b[A\n",
      "\u001b[A{'bootstrap': False, 'class_weight': 'balanced', 'criterion': 'gini', 'max_depth': 41, 'max_features': 3, 'max_leaf_nodes': 28, 'min_samples_leaf': 27, 'min_samples_split': 90, 'n_estimators': 360}\n",
      "\n",
      " 80%|███████▉  | 796/1000 [23:36<05:27,  1.61s/it, best loss: 0.2197485425425898]\u001b[A"
     ]
    },
    {
     "name": "stderr",
     "output_type": "stream",
     "text": [
      "Hyperopt:  80%|███████▉  | 797/1000 [23:36<05:17,  1.57s/it]"
     ]
    },
    {
     "name": "stdout",
     "output_type": "stream",
     "text": [
      "\n",
      " 80%|███████▉  | 797/1000 [23:36<05:17,  1.57s/it, best loss: 0.2197485425425898]\u001b[A\n",
      "\u001b[AParameters with this training score 0.7784114757526828 :\n",
      "\n",
      " 80%|███████▉  | 797/1000 [23:38<05:17,  1.57s/it, best loss: 0.2197485425425898]\u001b[A\n",
      "\u001b[A{'bootstrap': False, 'class_weight': 'balanced', 'criterion': 'gini', 'max_depth': 41, 'max_features': 3, 'max_leaf_nodes': 28, 'min_samples_leaf': 27, 'min_samples_split': 90, 'n_estimators': 540}\n",
      "\n",
      " 80%|███████▉  | 797/1000 [23:38<05:17,  1.57s/it, best loss: 0.2197485425425898]\u001b[A"
     ]
    },
    {
     "name": "stderr",
     "output_type": "stream",
     "text": [
      "Hyperopt:  80%|███████▉  | 798/1000 [23:38<05:38,  1.68s/it]"
     ]
    },
    {
     "name": "stdout",
     "output_type": "stream",
     "text": [
      "\n",
      " 80%|███████▉  | 798/1000 [23:38<05:38,  1.68s/it, best loss: 0.2197485425425898]\u001b[A\n",
      "\u001b[AParameters with this training score 0.7802177038182888 :\n",
      "\n",
      " 80%|███████▉  | 798/1000 [23:39<05:38,  1.68s/it, best loss: 0.2197485425425898]\u001b[A\n",
      "\u001b[A{'bootstrap': False, 'class_weight': 'balanced', 'criterion': 'gini', 'max_depth': 41, 'max_features': 3, 'max_leaf_nodes': 28, 'min_samples_leaf': 27, 'min_samples_split': 90, 'n_estimators': 360}\n",
      "\n",
      " 80%|███████▉  | 798/1000 [23:39<05:38,  1.68s/it, best loss: 0.2197485425425898]\u001b[A"
     ]
    },
    {
     "name": "stderr",
     "output_type": "stream",
     "text": [
      "Hyperopt:  80%|███████▉  | 799/1000 [23:39<05:19,  1.59s/it]"
     ]
    },
    {
     "name": "stdout",
     "output_type": "stream",
     "text": [
      "\n",
      " 80%|███████▉  | 799/1000 [23:39<05:19,  1.59s/it, best loss: 0.2197485425425898]\u001b[A\n",
      "\u001b[AParameters with this training score 0.7802177038182888 :\n",
      "\n",
      " 80%|███████▉  | 799/1000 [23:40<05:19,  1.59s/it, best loss: 0.2197485425425898]\u001b[A\n",
      "\u001b[A{'bootstrap': False, 'class_weight': 'balanced', 'criterion': 'gini', 'max_depth': 41, 'max_features': 3, 'max_leaf_nodes': 28, 'min_samples_leaf': 27, 'min_samples_split': 90, 'n_estimators': 360}\n",
      "\n",
      " 80%|███████▉  | 799/1000 [23:40<05:19,  1.59s/it, best loss: 0.2197485425425898]\u001b[A"
     ]
    },
    {
     "name": "stderr",
     "output_type": "stream",
     "text": [
      "Hyperopt:  80%|████████  | 800/1000 [23:41<05:10,  1.55s/it]"
     ]
    },
    {
     "name": "stdout",
     "output_type": "stream",
     "text": [
      "\n",
      " 80%|████████  | 800/1000 [23:40<05:10,  1.55s/it, best loss: 0.2197485425425898]\u001b[A\n",
      "\u001b[AParameters with this training score 0.7802177038182888 :\n",
      "\n",
      " 80%|████████  | 800/1000 [23:42<05:10,  1.55s/it, best loss: 0.2197485425425898]\u001b[A\n",
      "\u001b[A{'bootstrap': False, 'class_weight': 'balanced', 'criterion': 'gini', 'max_depth': 41, 'max_features': 3, 'max_leaf_nodes': 28, 'min_samples_leaf': 27, 'min_samples_split': 90, 'n_estimators': 360}\n",
      "\n",
      " 80%|████████  | 800/1000 [23:42<05:10,  1.55s/it, best loss: 0.2197485425425898]\u001b[A"
     ]
    },
    {
     "name": "stderr",
     "output_type": "stream",
     "text": [
      "Hyperopt:  80%|████████  | 801/1000 [23:42<05:04,  1.53s/it]"
     ]
    },
    {
     "name": "stdout",
     "output_type": "stream",
     "text": [
      "\n",
      " 80%|████████  | 801/1000 [23:42<05:04,  1.53s/it, best loss: 0.2197485425425898]\u001b[A\n",
      "\u001b[AParameters with this training score 0.7802177038182888 :\n",
      "\n",
      " 80%|████████  | 801/1000 [23:43<05:04,  1.53s/it, best loss: 0.2197485425425898]\u001b[A\n",
      "\u001b[A{'bootstrap': False, 'class_weight': 'balanced', 'criterion': 'gini', 'max_depth': 41, 'max_features': 3, 'max_leaf_nodes': 28, 'min_samples_leaf': 27, 'min_samples_split': 90, 'n_estimators': 360}\n",
      "\n",
      " 80%|████████  | 801/1000 [23:43<05:04,  1.53s/it, best loss: 0.2197485425425898]\u001b[A"
     ]
    },
    {
     "name": "stderr",
     "output_type": "stream",
     "text": [
      "Hyperopt:  80%|████████  | 802/1000 [23:44<04:58,  1.51s/it]"
     ]
    },
    {
     "name": "stdout",
     "output_type": "stream",
     "text": [
      "\n",
      " 80%|████████  | 802/1000 [23:43<04:58,  1.51s/it, best loss: 0.2197485425425898]\u001b[A\n",
      "\u001b[AParameters with this training score 0.7802177038182888 :\n",
      "\n",
      " 80%|████████  | 802/1000 [23:45<04:58,  1.51s/it, best loss: 0.2197485425425898]\u001b[A\n",
      "\u001b[A{'bootstrap': False, 'class_weight': 'balanced', 'criterion': 'gini', 'max_depth': 41, 'max_features': 3, 'max_leaf_nodes': 28, 'min_samples_leaf': 27, 'min_samples_split': 90, 'n_estimators': 360}\n",
      "\n",
      " 80%|████████  | 802/1000 [23:45<04:58,  1.51s/it, best loss: 0.2197485425425898]\u001b[A"
     ]
    },
    {
     "name": "stderr",
     "output_type": "stream",
     "text": [
      "Hyperopt:  80%|████████  | 803/1000 [23:45<04:53,  1.49s/it]"
     ]
    },
    {
     "name": "stdout",
     "output_type": "stream",
     "text": [
      "\n",
      " 80%|████████  | 803/1000 [23:45<04:53,  1.49s/it, best loss: 0.2197485425425898]\u001b[A\n",
      "\u001b[AParameters with this training score 0.7802177038182888 :\n",
      "\n",
      " 80%|████████  | 803/1000 [23:46<04:53,  1.49s/it, best loss: 0.2197485425425898]\u001b[A\n",
      "\u001b[A{'bootstrap': False, 'class_weight': 'balanced', 'criterion': 'gini', 'max_depth': 41, 'max_features': 3, 'max_leaf_nodes': 28, 'min_samples_leaf': 27, 'min_samples_split': 90, 'n_estimators': 360}\n",
      "\n",
      " 80%|████████  | 803/1000 [23:46<04:53,  1.49s/it, best loss: 0.2197485425425898]\u001b[A"
     ]
    },
    {
     "name": "stderr",
     "output_type": "stream",
     "text": [
      "Hyperopt:  80%|████████  | 804/1000 [23:46<04:51,  1.49s/it]"
     ]
    },
    {
     "name": "stdout",
     "output_type": "stream",
     "text": [
      "\n",
      " 80%|████████  | 804/1000 [23:46<04:51,  1.49s/it, best loss: 0.2197485425425898]\u001b[A\n",
      "\u001b[AParameters with this training score 0.7802177038182888 :\n",
      "\n",
      " 80%|████████  | 804/1000 [23:48<04:51,  1.49s/it, best loss: 0.2197485425425898]\u001b[A\n",
      "\u001b[A{'bootstrap': False, 'class_weight': 'balanced', 'criterion': 'gini', 'max_depth': 41, 'max_features': 3, 'max_leaf_nodes': 28, 'min_samples_leaf': 27, 'min_samples_split': 90, 'n_estimators': 360}\n",
      "\n",
      " 80%|████████  | 804/1000 [23:48<04:51,  1.49s/it, best loss: 0.2197485425425898]\u001b[A"
     ]
    },
    {
     "name": "stderr",
     "output_type": "stream",
     "text": [
      "Hyperopt:  80%|████████  | 805/1000 [23:48<04:48,  1.48s/it]"
     ]
    },
    {
     "name": "stdout",
     "output_type": "stream",
     "text": [
      "\n",
      " 80%|████████  | 805/1000 [23:48<04:48,  1.48s/it, best loss: 0.2197485425425898]\u001b[A\n",
      "\u001b[AParameters with this training score 0.778025096301221 :\n",
      "\n",
      " 80%|████████  | 805/1000 [23:51<04:48,  1.48s/it, best loss: 0.2197485425425898]\u001b[A\n",
      "\u001b[A{'bootstrap': False, 'class_weight': 'balanced', 'criterion': 'gini', 'max_depth': 41, 'max_features': 3, 'max_leaf_nodes': 28, 'min_samples_leaf': 27, 'min_samples_split': 90, 'n_estimators': 940}\n",
      "\n",
      " 80%|████████  | 805/1000 [23:51<04:48,  1.48s/it, best loss: 0.2197485425425898]\u001b[A"
     ]
    },
    {
     "name": "stderr",
     "output_type": "stream",
     "text": [
      "Hyperopt:  81%|████████  | 806/1000 [23:51<06:23,  1.97s/it]"
     ]
    },
    {
     "name": "stdout",
     "output_type": "stream",
     "text": [
      "\n",
      " 81%|████████  | 806/1000 [23:51<06:23,  1.97s/it, best loss: 0.2197485425425898]\u001b[A\n",
      "\u001b[AParameters with this training score 0.7802177038182888 :\n",
      "\n",
      " 81%|████████  | 806/1000 [23:52<06:23,  1.97s/it, best loss: 0.2197485425425898]\u001b[A\n",
      "\u001b[A{'bootstrap': False, 'class_weight': 'balanced', 'criterion': 'gini', 'max_depth': 41, 'max_features': 3, 'max_leaf_nodes': 28, 'min_samples_leaf': 27, 'min_samples_split': 90, 'n_estimators': 360}\n",
      "\n",
      " 81%|████████  | 806/1000 [23:52<06:23,  1.97s/it, best loss: 0.2197485425425898]\u001b[A"
     ]
    },
    {
     "name": "stderr",
     "output_type": "stream",
     "text": [
      "Hyperopt:  81%|████████  | 807/1000 [23:52<05:46,  1.80s/it]"
     ]
    },
    {
     "name": "stdout",
     "output_type": "stream",
     "text": [
      "\n",
      " 81%|████████  | 807/1000 [23:52<05:46,  1.80s/it, best loss: 0.2197485425425898]\u001b[A\n",
      "\u001b[AParameters with this training score 0.7767952961437466 :\n",
      "\n",
      " 81%|████████  | 807/1000 [23:55<05:46,  1.80s/it, best loss: 0.2197485425425898]\u001b[A\n",
      "\u001b[A{'bootstrap': False, 'class_weight': 'balanced', 'criterion': 'gini', 'max_depth': 41, 'max_features': 3, 'max_leaf_nodes': 28, 'min_samples_leaf': 27, 'min_samples_split': 90, 'n_estimators': 790}\n",
      "\n",
      " 81%|████████  | 807/1000 [23:55<05:46,  1.80s/it, best loss: 0.2197485425425898]\u001b[A"
     ]
    },
    {
     "name": "stderr",
     "output_type": "stream",
     "text": [
      "Hyperopt:  81%|████████  | 808/1000 [23:55<06:46,  2.12s/it]"
     ]
    },
    {
     "name": "stdout",
     "output_type": "stream",
     "text": [
      "\n",
      " 81%|████████  | 808/1000 [23:55<06:46,  2.12s/it, best loss: 0.2197485425425898]\u001b[A\n",
      "\u001b[AParameters with this training score 0.7802177038182888 :\n",
      "\n",
      " 81%|████████  | 808/1000 [23:57<06:46,  2.12s/it, best loss: 0.2197485425425898]\u001b[A\n",
      "\u001b[A{'bootstrap': False, 'class_weight': 'balanced', 'criterion': 'gini', 'max_depth': 41, 'max_features': 3, 'max_leaf_nodes': 28, 'min_samples_leaf': 27, 'min_samples_split': 90, 'n_estimators': 360}\n",
      "\n",
      " 81%|████████  | 808/1000 [23:57<06:46,  2.12s/it, best loss: 0.2197485425425898]\u001b[A"
     ]
    },
    {
     "name": "stderr",
     "output_type": "stream",
     "text": [
      "Hyperopt:  81%|████████  | 809/1000 [23:57<06:07,  1.93s/it]"
     ]
    },
    {
     "name": "stdout",
     "output_type": "stream",
     "text": [
      "\n",
      " 81%|████████  | 809/1000 [23:57<06:07,  1.92s/it, best loss: 0.2197485425425898]\u001b[A\n",
      "\u001b[AParameters with this training score 0.7711285061586636 :\n",
      "\n",
      " 81%|████████  | 809/1000 [23:58<06:07,  1.92s/it, best loss: 0.2197485425425898]\u001b[A\n",
      "\u001b[A{'bootstrap': False, 'class_weight': 'balanced', 'criterion': 'gini', 'max_depth': 20, 'max_features': 3, 'max_leaf_nodes': 20, 'min_samples_leaf': 27, 'min_samples_split': 90, 'n_estimators': 360}\n",
      "\n",
      " 81%|████████  | 809/1000 [23:58<06:07,  1.92s/it, best loss: 0.2197485425425898]\u001b[A"
     ]
    },
    {
     "name": "stderr",
     "output_type": "stream",
     "text": [
      "Hyperopt:  81%|████████  | 810/1000 [23:58<05:34,  1.76s/it]"
     ]
    },
    {
     "name": "stdout",
     "output_type": "stream",
     "text": [
      "\n",
      " 81%|████████  | 810/1000 [23:58<05:34,  1.76s/it, best loss: 0.2197485425425898]\u001b[A\n",
      "\u001b[AParameters with this training score 0.7802177038182888 :\n",
      "\n",
      " 81%|████████  | 810/1000 [23:59<05:34,  1.76s/it, best loss: 0.2197485425425898]\u001b[A\n",
      "\u001b[A{'bootstrap': False, 'class_weight': 'balanced', 'criterion': 'gini', 'max_depth': 41, 'max_features': 3, 'max_leaf_nodes': 28, 'min_samples_leaf': 27, 'min_samples_split': 90, 'n_estimators': 360}\n",
      "\n",
      " 81%|████████  | 810/1000 [23:59<05:34,  1.76s/it, best loss: 0.2197485425425898]\u001b[A"
     ]
    },
    {
     "name": "stderr",
     "output_type": "stream",
     "text": [
      "Hyperopt:  81%|████████  | 811/1000 [24:00<05:13,  1.66s/it]"
     ]
    },
    {
     "name": "stdout",
     "output_type": "stream",
     "text": [
      "\n",
      " 81%|████████  | 811/1000 [23:59<05:13,  1.66s/it, best loss: 0.2197485425425898]\u001b[A\n",
      "\u001b[AParameters with this training score 0.7802177038182888 :\n",
      "\n",
      " 81%|████████  | 811/1000 [24:01<05:13,  1.66s/it, best loss: 0.2197485425425898]\u001b[A\n",
      "\u001b[A{'bootstrap': False, 'class_weight': 'balanced', 'criterion': 'gini', 'max_depth': 41, 'max_features': 3, 'max_leaf_nodes': 28, 'min_samples_leaf': 27, 'min_samples_split': 90, 'n_estimators': 360}\n",
      "\n",
      " 81%|████████  | 811/1000 [24:01<05:13,  1.66s/it, best loss: 0.2197485425425898]\u001b[A"
     ]
    },
    {
     "name": "stderr",
     "output_type": "stream",
     "text": [
      "Hyperopt:  81%|████████  | 812/1000 [24:01<05:01,  1.60s/it]"
     ]
    },
    {
     "name": "stdout",
     "output_type": "stream",
     "text": [
      "\n",
      " 81%|████████  | 812/1000 [24:01<05:01,  1.60s/it, best loss: 0.2197485425425898]\u001b[A\n",
      "\u001b[AParameters with this training score 0.7618414988899943 :\n",
      "\n",
      " 81%|████████  | 812/1000 [24:02<05:01,  1.60s/it, best loss: 0.2197485425425898]\u001b[A\n",
      "\u001b[A{'bootstrap': False, 'class_weight': 'balanced', 'criterion': 'gini', 'max_depth': 41, 'max_features': 3, 'max_leaf_nodes': 16, 'min_samples_leaf': 27, 'min_samples_split': 30, 'n_estimators': 360}\n",
      "\n",
      " 81%|████████  | 812/1000 [24:02<05:01,  1.60s/it, best loss: 0.2197485425425898]\u001b[A"
     ]
    },
    {
     "name": "stderr",
     "output_type": "stream",
     "text": [
      "Hyperopt:  81%|████████▏ | 813/1000 [24:02<04:52,  1.56s/it]"
     ]
    },
    {
     "name": "stdout",
     "output_type": "stream",
     "text": [
      "\n",
      " 81%|████████▏ | 813/1000 [24:02<04:52,  1.56s/it, best loss: 0.2197485425425898]\u001b[A\n",
      "\u001b[AParameters with this training score 0.7785653286488852 :\n",
      "\n",
      " 81%|████████▏ | 813/1000 [24:04<04:52,  1.56s/it, best loss: 0.2197485425425898]\u001b[A\n",
      "\u001b[A{'bootstrap': False, 'class_weight': 'balanced', 'criterion': 'gini', 'max_depth': 41, 'max_features': 3, 'max_leaf_nodes': 28, 'min_samples_leaf': 27, 'min_samples_split': 90, 'n_estimators': 300}\n",
      "\n",
      " 81%|████████▏ | 813/1000 [24:04<04:52,  1.56s/it, best loss: 0.2197485425425898]\u001b[A"
     ]
    },
    {
     "name": "stderr",
     "output_type": "stream",
     "text": [
      "Hyperopt:  81%|████████▏ | 814/1000 [24:04<04:31,  1.46s/it]"
     ]
    },
    {
     "name": "stdout",
     "output_type": "stream",
     "text": [
      "\n",
      " 81%|████████▏ | 814/1000 [24:04<04:31,  1.46s/it, best loss: 0.2197485425425898]\u001b[A\n",
      "\u001b[AParameters with this training score 0.7784632659345501 :\n",
      "\n",
      " 81%|████████▏ | 814/1000 [24:05<04:31,  1.46s/it, best loss: 0.2197485425425898]\u001b[A\n",
      "\u001b[A{'bootstrap': False, 'class_weight': 'balanced', 'criterion': 'gini', 'max_depth': 41, 'max_features': 3, 'max_leaf_nodes': 28, 'min_samples_leaf': 27, 'min_samples_split': 40, 'n_estimators': 360}\n",
      "\n",
      " 81%|████████▏ | 814/1000 [24:05<04:31,  1.46s/it, best loss: 0.2197485425425898]\u001b[A"
     ]
    },
    {
     "name": "stderr",
     "output_type": "stream",
     "text": [
      "Hyperopt:  82%|████████▏ | 815/1000 [24:05<04:24,  1.43s/it]"
     ]
    },
    {
     "name": "stdout",
     "output_type": "stream",
     "text": [
      "\n",
      " 82%|████████▏ | 815/1000 [24:05<04:24,  1.43s/it, best loss: 0.2197485425425898]\u001b[A\n",
      "\u001b[AParameters with this training score 0.7225270267861148 :\n",
      "\n",
      " 82%|████████▏ | 815/1000 [24:06<04:24,  1.43s/it, best loss: 0.2197485425425898]\u001b[A\n",
      "\u001b[A{'bootstrap': False, 'class_weight': 'balanced', 'criterion': 'gini', 'max_depth': 41, 'max_features': 3, 'max_leaf_nodes': 10, 'min_samples_leaf': 27, 'min_samples_split': 90, 'n_estimators': 360}\n",
      "\n",
      " 82%|████████▏ | 815/1000 [24:06<04:24,  1.43s/it, best loss: 0.2197485425425898]\u001b[A"
     ]
    },
    {
     "name": "stderr",
     "output_type": "stream",
     "text": [
      "Hyperopt:  82%|████████▏ | 816/1000 [24:07<04:25,  1.44s/it]"
     ]
    },
    {
     "name": "stdout",
     "output_type": "stream",
     "text": [
      "\n",
      " 82%|████████▏ | 816/1000 [24:06<04:25,  1.44s/it, best loss: 0.2197485425425898]\u001b[A\n",
      "\u001b[AParameters with this training score 0.7802177038182888 :\n",
      "\n",
      " 82%|████████▏ | 816/1000 [24:08<04:25,  1.44s/it, best loss: 0.2197485425425898]\u001b[A\n",
      "\u001b[A{'bootstrap': False, 'class_weight': 'balanced', 'criterion': 'gini', 'max_depth': 41, 'max_features': 3, 'max_leaf_nodes': 28, 'min_samples_leaf': 27, 'min_samples_split': 90, 'n_estimators': 360}\n",
      "\n",
      " 82%|████████▏ | 816/1000 [24:08<04:25,  1.44s/it, best loss: 0.2197485425425898]\u001b[A"
     ]
    },
    {
     "name": "stderr",
     "output_type": "stream",
     "text": [
      "Hyperopt:  82%|████████▏ | 817/1000 [24:08<04:20,  1.42s/it]"
     ]
    },
    {
     "name": "stdout",
     "output_type": "stream",
     "text": [
      "\n",
      " 82%|████████▏ | 817/1000 [24:08<04:20,  1.42s/it, best loss: 0.2197485425425898]\u001b[A\n",
      "\u001b[AParameters with this training score 0.7123911167819145 :\n",
      "\n",
      " 82%|████████▏ | 817/1000 [24:08<04:20,  1.42s/it, best loss: 0.2197485425425898]\u001b[A\n",
      "\u001b[A{'bootstrap': False, 'class_weight': 'balanced', 'criterion': 'gini', 'max_depth': 41, 'max_features': 3, 'max_leaf_nodes': 18, 'min_samples_leaf': 27, 'min_samples_split': 70, 'n_estimators': 10}\n",
      "\n",
      " 82%|████████▏ | 817/1000 [24:08<04:20,  1.42s/it, best loss: 0.2197485425425898]\u001b[A"
     ]
    },
    {
     "name": "stderr",
     "output_type": "stream",
     "text": [
      "Hyperopt:  82%|████████▏ | 818/1000 [24:08<03:24,  1.12s/it]"
     ]
    },
    {
     "name": "stdout",
     "output_type": "stream",
     "text": [
      "\n",
      " 82%|████████▏ | 818/1000 [24:08<03:24,  1.12s/it, best loss: 0.2197485425425898]\u001b[A\n",
      "\u001b[AParameters with this training score 0.755023706641972 :\n",
      "\n",
      " 82%|████████▏ | 818/1000 [24:10<03:24,  1.12s/it, best loss: 0.2197485425425898]\u001b[A\n",
      "\u001b[A{'bootstrap': False, 'class_weight': 'balanced', 'criterion': 'gini', 'max_depth': 41, 'max_features': 3, 'max_leaf_nodes': 14, 'min_samples_leaf': 27, 'min_samples_split': 10, 'n_estimators': 360}\n",
      "\n",
      " 82%|████████▏ | 818/1000 [24:10<03:24,  1.12s/it, best loss: 0.2197485425425898]\u001b[A"
     ]
    },
    {
     "name": "stderr",
     "output_type": "stream",
     "text": [
      "Hyperopt:  82%|████████▏ | 819/1000 [24:10<03:36,  1.20s/it]"
     ]
    },
    {
     "name": "stdout",
     "output_type": "stream",
     "text": [
      "\n",
      " 82%|████████▏ | 819/1000 [24:10<03:36,  1.20s/it, best loss: 0.2197485425425898]\u001b[A\n",
      "\u001b[AParameters with this training score 0.7802177038182888 :\n",
      "\n",
      " 82%|████████▏ | 819/1000 [24:11<03:36,  1.20s/it, best loss: 0.2197485425425898]\u001b[A\n",
      "\u001b[A{'bootstrap': False, 'class_weight': 'balanced', 'criterion': 'gini', 'max_depth': 41, 'max_features': 3, 'max_leaf_nodes': 28, 'min_samples_leaf': 27, 'min_samples_split': 90, 'n_estimators': 360}\n",
      "\n",
      " 82%|████████▏ | 819/1000 [24:11<03:36,  1.20s/it, best loss: 0.2197485425425898]\u001b[A"
     ]
    },
    {
     "name": "stderr",
     "output_type": "stream",
     "text": [
      "Hyperopt:  82%|████████▏ | 820/1000 [24:11<03:54,  1.30s/it]"
     ]
    },
    {
     "name": "stdout",
     "output_type": "stream",
     "text": [
      "\n",
      " 82%|████████▏ | 820/1000 [24:11<03:54,  1.30s/it, best loss: 0.2197485425425898]\u001b[A\n",
      "\u001b[AParameters with this training score 0.7774739328879419 :\n",
      "\n",
      " 82%|████████▏ | 820/1000 [24:13<03:54,  1.30s/it, best loss: 0.2197485425425898]\u001b[A\n",
      "\u001b[A{'bootstrap': False, 'class_weight': 'balanced', 'criterion': 'gini', 'max_depth': 41, 'max_features': 3, 'max_leaf_nodes': 28, 'min_samples_leaf': 27, 'min_samples_split': 60, 'n_estimators': 360}\n",
      "\n",
      " 82%|████████▏ | 820/1000 [24:13<03:54,  1.30s/it, best loss: 0.2197485425425898]\u001b[A"
     ]
    },
    {
     "name": "stderr",
     "output_type": "stream",
     "text": [
      "Hyperopt:  82%|████████▏ | 821/1000 [24:13<04:01,  1.35s/it]"
     ]
    },
    {
     "name": "stdout",
     "output_type": "stream",
     "text": [
      "\n",
      " 82%|████████▏ | 821/1000 [24:13<04:01,  1.35s/it, best loss: 0.2197485425425898]\u001b[A\n",
      "\u001b[AParameters with this training score 0.7736133190496381 :\n",
      "\n",
      " 82%|████████▏ | 821/1000 [24:14<04:01,  1.35s/it, best loss: 0.2197485425425898]\u001b[A\n",
      "\u001b[A{'bootstrap': False, 'class_weight': 'balanced', 'criterion': 'gini', 'max_depth': 41, 'max_features': 3, 'max_leaf_nodes': 24, 'min_samples_leaf': 27, 'min_samples_split': 20, 'n_estimators': 360}\n",
      "\n",
      " 82%|████████▏ | 821/1000 [24:14<04:01,  1.35s/it, best loss: 0.2197485425425898]\u001b[A"
     ]
    },
    {
     "name": "stderr",
     "output_type": "stream",
     "text": [
      "Hyperopt:  82%|████████▏ | 822/1000 [24:14<04:03,  1.37s/it]"
     ]
    },
    {
     "name": "stdout",
     "output_type": "stream",
     "text": [
      "\n",
      " 82%|████████▏ | 822/1000 [24:14<04:03,  1.37s/it, best loss: 0.2197485425425898]\u001b[A\n",
      "\u001b[AParameters with this training score 0.7228109211786315 :\n",
      "\n",
      " 82%|████████▏ | 822/1000 [24:15<04:03,  1.37s/it, best loss: 0.2197485425425898]\u001b[A\n",
      "\u001b[A{'bootstrap': False, 'class_weight': 'balanced', 'criterion': 'gini', 'max_depth': 41, 'max_features': 3, 'max_leaf_nodes': 12, 'min_samples_leaf': 17, 'min_samples_split': 90, 'n_estimators': 160}\n",
      "\n",
      " 82%|████████▏ | 822/1000 [24:15<04:03,  1.37s/it, best loss: 0.2197485425425898]\u001b[A"
     ]
    },
    {
     "name": "stderr",
     "output_type": "stream",
     "text": [
      "Hyperopt:  82%|████████▏ | 823/1000 [24:15<03:33,  1.20s/it]"
     ]
    },
    {
     "name": "stdout",
     "output_type": "stream",
     "text": [
      "\n",
      " 82%|████████▏ | 823/1000 [24:15<03:33,  1.20s/it, best loss: 0.2197485425425898]\u001b[A\n",
      "\u001b[AParameters with this training score 0.775333932738107 :\n",
      "\n",
      " 82%|████████▏ | 823/1000 [24:16<03:33,  1.20s/it, best loss: 0.2197485425425898]\u001b[A\n",
      "\u001b[A{'bootstrap': False, 'class_weight': 'balanced', 'criterion': 'gini', 'max_depth': 41, 'max_features': 3, 'max_leaf_nodes': 28, 'min_samples_leaf': 22, 'min_samples_split': 50, 'n_estimators': 330}\n",
      "\n",
      " 82%|████████▏ | 823/1000 [24:16<03:33,  1.20s/it, best loss: 0.2197485425425898]\u001b[A"
     ]
    },
    {
     "name": "stderr",
     "output_type": "stream",
     "text": [
      "Hyperopt:  82%|████████▏ | 824/1000 [24:16<03:39,  1.24s/it]"
     ]
    },
    {
     "name": "stdout",
     "output_type": "stream",
     "text": [
      "\n",
      " 82%|████████▏ | 824/1000 [24:16<03:39,  1.24s/it, best loss: 0.2197485425425898]\u001b[A\n",
      "\u001b[AParameters with this training score 0.7802177038182888 :\n",
      "\n",
      " 82%|████████▏ | 824/1000 [24:18<03:39,  1.24s/it, best loss: 0.2197485425425898]\u001b[A\n",
      "\u001b[A{'bootstrap': False, 'class_weight': 'balanced', 'criterion': 'gini', 'max_depth': 41, 'max_features': 3, 'max_leaf_nodes': 28, 'min_samples_leaf': 27, 'min_samples_split': 90, 'n_estimators': 360}\n",
      "\n",
      " 82%|████████▏ | 824/1000 [24:18<03:39,  1.24s/it, best loss: 0.2197485425425898]\u001b[A"
     ]
    },
    {
     "name": "stderr",
     "output_type": "stream",
     "text": [
      "Hyperopt:  82%|████████▎ | 825/1000 [24:18<03:50,  1.32s/it]"
     ]
    },
    {
     "name": "stdout",
     "output_type": "stream",
     "text": [
      "\n",
      " 82%|████████▎ | 825/1000 [24:18<03:50,  1.32s/it, best loss: 0.2197485425425898]\u001b[A\n",
      "\u001b[AParameters with this training score 0.7749282215260203 :\n",
      "\n",
      " 82%|████████▎ | 825/1000 [24:19<03:50,  1.32s/it, best loss: 0.2197485425425898]\u001b[A\n",
      "\u001b[A{'bootstrap': False, 'class_weight': 'balanced', 'criterion': 'gini', 'max_depth': 41, 'max_features': 4, 'max_leaf_nodes': 22, 'min_samples_leaf': 27, 'min_samples_split': 90, 'n_estimators': 360}\n",
      "\n",
      " 82%|████████▎ | 825/1000 [24:19<03:50,  1.32s/it, best loss: 0.2197485425425898]\u001b[A"
     ]
    },
    {
     "name": "stderr",
     "output_type": "stream",
     "text": [
      "Hyperopt:  83%|████████▎ | 826/1000 [24:19<03:56,  1.36s/it]"
     ]
    },
    {
     "name": "stdout",
     "output_type": "stream",
     "text": [
      "\n",
      " 83%|████████▎ | 826/1000 [24:19<03:56,  1.36s/it, best loss: 0.2197485425425898]\u001b[A\n",
      "\u001b[AParameters with this training score 0.772960208899144 :\n",
      "\n",
      " 83%|████████▎ | 826/1000 [24:20<03:56,  1.36s/it, best loss: 0.2197485425425898]\u001b[A\n",
      "\u001b[A{'bootstrap': False, 'class_weight': 'balanced', 'criterion': 'gini', 'max_depth': 41, 'max_features': 3, 'max_leaf_nodes': 20, 'min_samples_leaf': 23, 'min_samples_split': 90, 'n_estimators': 180}\n",
      "\n",
      " 83%|████████▎ | 826/1000 [24:20<03:56,  1.36s/it, best loss: 0.2197485425425898]\u001b[A"
     ]
    },
    {
     "name": "stderr",
     "output_type": "stream",
     "text": [
      "Hyperopt:  83%|████████▎ | 827/1000 [24:20<03:29,  1.21s/it]"
     ]
    },
    {
     "name": "stdout",
     "output_type": "stream",
     "text": [
      "\n",
      " 83%|████████▎ | 827/1000 [24:20<03:28,  1.21s/it, best loss: 0.2197485425425898]\u001b[A\n",
      "\u001b[AParameters with this training score 0.7787378770120045 :\n",
      "\n",
      " 83%|████████▎ | 827/1000 [24:21<03:28,  1.21s/it, best loss: 0.2197485425425898]\u001b[A\n",
      "\u001b[A{'bootstrap': False, 'class_weight': 'balanced', 'criterion': 'gini', 'max_depth': 41, 'max_features': 3, 'max_leaf_nodes': 28, 'min_samples_leaf': 25, 'min_samples_split': 90, 'n_estimators': 360}\n",
      "\n",
      " 83%|████████▎ | 827/1000 [24:21<03:28,  1.21s/it, best loss: 0.2197485425425898]\u001b[A"
     ]
    },
    {
     "name": "stderr",
     "output_type": "stream",
     "text": [
      "Hyperopt:  83%|████████▎ | 828/1000 [24:22<03:41,  1.29s/it]"
     ]
    },
    {
     "name": "stdout",
     "output_type": "stream",
     "text": [
      "\n",
      " 83%|████████▎ | 828/1000 [24:21<03:41,  1.29s/it, best loss: 0.2197485425425898]\u001b[A\n",
      "\u001b[AParameters with this training score 0.7753584108243826 :\n",
      "\n",
      " 83%|████████▎ | 828/1000 [24:23<03:41,  1.29s/it, best loss: 0.2197485425425898]\u001b[A\n",
      "\u001b[A{'bootstrap': False, 'class_weight': 'balanced', 'criterion': 'gini', 'max_depth': 41, 'max_features': 3, 'max_leaf_nodes': 28, 'min_samples_leaf': 18, 'min_samples_split': 90, 'n_estimators': 360}\n",
      "\n",
      " 83%|████████▎ | 828/1000 [24:23<03:41,  1.29s/it, best loss: 0.2197485425425898]\u001b[A"
     ]
    },
    {
     "name": "stderr",
     "output_type": "stream",
     "text": [
      "Hyperopt:  83%|████████▎ | 829/1000 [24:23<03:49,  1.34s/it]"
     ]
    },
    {
     "name": "stdout",
     "output_type": "stream",
     "text": [
      "\n",
      " 83%|████████▎ | 829/1000 [24:23<03:49,  1.34s/it, best loss: 0.2197485425425898]\u001b[A\n",
      "\u001b[AParameters with this training score 0.7417156707408974 :\n",
      "\n",
      " 83%|████████▎ | 829/1000 [24:25<03:49,  1.34s/it, best loss: 0.2197485425425898]\u001b[A\n",
      "\u001b[A{'bootstrap': False, 'class_weight': 'balanced', 'criterion': 'gini', 'max_depth': 41, 'max_features': 2, 'max_leaf_nodes': 16, 'min_samples_leaf': 8, 'min_samples_split': 30, 'n_estimators': 700}\n",
      "\n",
      " 83%|████████▎ | 829/1000 [24:25<03:49,  1.34s/it, best loss: 0.2197485425425898]\u001b[A"
     ]
    },
    {
     "name": "stderr",
     "output_type": "stream",
     "text": [
      "Hyperopt:  83%|████████▎ | 830/1000 [24:26<04:50,  1.71s/it]"
     ]
    },
    {
     "name": "stdout",
     "output_type": "stream",
     "text": [
      "\n",
      " 83%|████████▎ | 830/1000 [24:25<04:50,  1.71s/it, best loss: 0.2197485425425898]\u001b[A\n",
      "\u001b[AParameters with this training score 0.7045216359522396 :\n",
      "\n",
      " 83%|████████▎ | 830/1000 [24:26<04:50,  1.71s/it, best loss: 0.2197485425425898]\u001b[A\n",
      "\u001b[A{'bootstrap': False, 'class_weight': 'balanced', 'criterion': 'entropy', 'max_depth': 41, 'max_features': 3, 'max_leaf_nodes': 10, 'min_samples_leaf': 29, 'min_samples_split': 40, 'n_estimators': 30}\n",
      "\n",
      " 83%|████████▎ | 830/1000 [24:26<04:50,  1.71s/it, best loss: 0.2197485425425898]\u001b[A"
     ]
    },
    {
     "name": "stderr",
     "output_type": "stream",
     "text": [
      "Hyperopt:  83%|████████▎ | 831/1000 [24:26<03:44,  1.33s/it]"
     ]
    },
    {
     "name": "stdout",
     "output_type": "stream",
     "text": [
      "\n",
      " 83%|████████▎ | 831/1000 [24:26<03:44,  1.33s/it, best loss: 0.2197485425425898]\u001b[A\n",
      "\u001b[AParameters with this training score 0.7597759331966156 :\n",
      "\n",
      " 83%|████████▎ | 831/1000 [24:27<03:44,  1.33s/it, best loss: 0.2197485425425898]\u001b[A\n",
      "\u001b[A{'bootstrap': False, 'class_weight': 'balanced', 'criterion': 'gini', 'max_depth': 41, 'max_features': 1, 'max_leaf_nodes': 28, 'min_samples_leaf': 10, 'min_samples_split': 90, 'n_estimators': 360}\n",
      "\n",
      " 83%|████████▎ | 831/1000 [24:27<03:44,  1.33s/it, best loss: 0.2197485425425898]\u001b[A"
     ]
    },
    {
     "name": "stderr",
     "output_type": "stream",
     "text": [
      "Hyperopt:  83%|████████▎ | 832/1000 [24:28<03:54,  1.40s/it]"
     ]
    },
    {
     "name": "stdout",
     "output_type": "stream",
     "text": [
      "\n",
      " 83%|████████▎ | 832/1000 [24:27<03:54,  1.40s/it, best loss: 0.2197485425425898]\u001b[A\n",
      "\u001b[AParameters with this training score 0.7766812652516254 :\n",
      "\n",
      " 83%|████████▎ | 832/1000 [24:29<03:54,  1.40s/it, best loss: 0.2197485425425898]\u001b[A\n",
      "\u001b[A{'bootstrap': False, 'class_weight': 'balanced', 'criterion': 'gini', 'max_depth': 41, 'max_features': 3, 'max_leaf_nodes': 28, 'min_samples_leaf': 27, 'min_samples_split': 70, 'n_estimators': 360}\n",
      "\n",
      " 83%|████████▎ | 832/1000 [24:29<03:54,  1.40s/it, best loss: 0.2197485425425898]\u001b[A"
     ]
    },
    {
     "name": "stderr",
     "output_type": "stream",
     "text": [
      "Hyperopt:  83%|████████▎ | 833/1000 [24:29<03:57,  1.42s/it]"
     ]
    },
    {
     "name": "stdout",
     "output_type": "stream",
     "text": [
      "\n",
      " 83%|████████▎ | 833/1000 [24:29<03:57,  1.42s/it, best loss: 0.2197485425425898]\u001b[A\n",
      "\u001b[AParameters with this training score 0.7666498246410424 :\n",
      "\n",
      " 83%|████████▎ | 833/1000 [24:31<03:57,  1.42s/it, best loss: 0.2197485425425898]\u001b[A\n",
      "\u001b[A{'bootstrap': True, 'class_weight': 'balanced', 'criterion': 'gini', 'max_depth': 41, 'max_features': 3, 'max_leaf_nodes': 28, 'min_samples_leaf': 2, 'min_samples_split': 90, 'n_estimators': 360}\n",
      "\n",
      " 83%|████████▎ | 833/1000 [24:31<03:57,  1.42s/it, best loss: 0.2197485425425898]\u001b[A"
     ]
    },
    {
     "name": "stderr",
     "output_type": "stream",
     "text": [
      "Hyperopt:  83%|████████▎ | 834/1000 [24:31<04:04,  1.47s/it]"
     ]
    },
    {
     "name": "stdout",
     "output_type": "stream",
     "text": [
      "\n",
      " 83%|████████▎ | 834/1000 [24:31<04:04,  1.47s/it, best loss: 0.2197485425425898]\u001b[A\n",
      "\u001b[AParameters with this training score 0.7547300105143467 :\n",
      "\n",
      " 83%|████████▎ | 834/1000 [24:33<04:04,  1.47s/it, best loss: 0.2197485425425898]\u001b[A\n",
      "\u001b[A{'bootstrap': False, 'class_weight': 'balanced', 'criterion': 'gini', 'max_depth': 41, 'max_features': 3, 'max_leaf_nodes': 18, 'min_samples_leaf': 5, 'min_samples_split': 90, 'n_estimators': 670}\n",
      "\n",
      " 83%|████████▎ | 834/1000 [24:33<04:04,  1.47s/it, best loss: 0.2197485425425898]\u001b[A"
     ]
    },
    {
     "name": "stderr",
     "output_type": "stream",
     "text": [
      "Hyperopt:  84%|████████▎ | 835/1000 [24:33<04:44,  1.73s/it]"
     ]
    },
    {
     "name": "stdout",
     "output_type": "stream",
     "text": [
      "\n",
      " 84%|████████▎ | 835/1000 [24:33<04:44,  1.73s/it, best loss: 0.2197485425425898]\u001b[A\n",
      "\u001b[AParameters with this training score 0.752235832877055 :\n",
      "\n",
      " 84%|████████▎ | 835/1000 [24:34<04:44,  1.73s/it, best loss: 0.2197485425425898]\u001b[A\n",
      "\u001b[A{'bootstrap': False, 'class_weight': 'balanced', 'criterion': 'gini', 'max_depth': 41, 'max_features': 3, 'max_leaf_nodes': 14, 'min_samples_leaf': 28, 'min_samples_split': 60, 'n_estimators': 360}\n",
      "\n",
      " 84%|████████▎ | 835/1000 [24:34<04:44,  1.73s/it, best loss: 0.2197485425425898]\u001b[A"
     ]
    },
    {
     "name": "stderr",
     "output_type": "stream",
     "text": [
      "Hyperopt:  84%|████████▎ | 836/1000 [24:34<04:26,  1.63s/it]"
     ]
    },
    {
     "name": "stdout",
     "output_type": "stream",
     "text": [
      "\n",
      " 84%|████████▎ | 836/1000 [24:34<04:26,  1.63s/it, best loss: 0.2197485425425898]\u001b[A\n",
      "\u001b[AParameters with this training score 0.7753572033115498 :\n",
      "\n",
      " 84%|████████▎ | 836/1000 [24:36<04:26,  1.63s/it, best loss: 0.2197485425425898]\u001b[A\n",
      "\u001b[A{'bootstrap': False, 'class_weight': 'balanced', 'criterion': 'gini', 'max_depth': 41, 'max_features': 4, 'max_leaf_nodes': 28, 'min_samples_leaf': 13, 'min_samples_split': 10, 'n_estimators': 360}\n",
      "\n",
      " 84%|████████▎ | 836/1000 [24:36<04:26,  1.63s/it, best loss: 0.2197485425425898]\u001b[A"
     ]
    },
    {
     "name": "stderr",
     "output_type": "stream",
     "text": [
      "Hyperopt:  84%|████████▎ | 837/1000 [24:36<04:16,  1.57s/it]"
     ]
    },
    {
     "name": "stdout",
     "output_type": "stream",
     "text": [
      "\n",
      " 84%|████████▎ | 837/1000 [24:36<04:16,  1.57s/it, best loss: 0.2197485425425898]\u001b[A\n",
      "\u001b[AParameters with this training score 0.7420731144891094 :\n",
      "\n",
      " 84%|████████▎ | 837/1000 [24:37<04:16,  1.57s/it, best loss: 0.2197485425425898]\u001b[A\n",
      "\u001b[A{'bootstrap': False, 'class_weight': 'balanced', 'criterion': 'gini', 'max_depth': 41, 'max_features': 3, 'max_leaf_nodes': 12, 'min_samples_leaf': 27, 'min_samples_split': 20, 'n_estimators': 360}\n",
      "\n",
      " 84%|████████▎ | 837/1000 [24:37<04:16,  1.57s/it, best loss: 0.2197485425425898]\u001b[A"
     ]
    },
    {
     "name": "stderr",
     "output_type": "stream",
     "text": [
      "Hyperopt:  84%|████████▍ | 838/1000 [24:37<04:06,  1.52s/it]"
     ]
    },
    {
     "name": "stdout",
     "output_type": "stream",
     "text": [
      "\n",
      " 84%|████████▍ | 838/1000 [24:37<04:06,  1.52s/it, best loss: 0.2197485425425898]\u001b[A\n",
      "\u001b[AParameters with this training score 0.6173803544604882 :\n",
      "\n",
      " 84%|████████▍ | 838/1000 [24:38<04:06,  1.52s/it, best loss: 0.2197485425425898]\u001b[A\n",
      "\u001b[A{'bootstrap': False, 'class_weight': None, 'criterion': 'gini', 'max_depth': 41, 'max_features': 3, 'max_leaf_nodes': 28, 'min_samples_leaf': 21, 'min_samples_split': 50, 'n_estimators': 360}\n",
      "\n",
      " 84%|████████▍ | 838/1000 [24:38<04:06,  1.52s/it, best loss: 0.2197485425425898]\u001b[A"
     ]
    },
    {
     "name": "stderr",
     "output_type": "stream",
     "text": [
      "Hyperopt:  84%|████████▍ | 839/1000 [24:39<03:57,  1.47s/it]"
     ]
    },
    {
     "name": "stdout",
     "output_type": "stream",
     "text": [
      "\n",
      " 84%|████████▍ | 839/1000 [24:38<03:57,  1.47s/it, best loss: 0.2197485425425898]\u001b[A\n",
      "\u001b[AParameters with this training score 0.7662440152329133 :\n",
      "\n",
      " 84%|████████▍ | 839/1000 [24:40<03:57,  1.47s/it, best loss: 0.2197485425425898]\u001b[A\n",
      "\u001b[A{'bootstrap': False, 'class_weight': 'balanced', 'criterion': 'gini', 'max_depth': 5, 'max_features': 3, 'max_leaf_nodes': 24, 'min_samples_leaf': 27, 'min_samples_split': 90, 'n_estimators': 530}\n",
      "\n",
      " 84%|████████▍ | 839/1000 [24:40<03:57,  1.47s/it, best loss: 0.2197485425425898]\u001b[A"
     ]
    },
    {
     "name": "stderr",
     "output_type": "stream",
     "text": [
      "Hyperopt:  84%|████████▍ | 840/1000 [24:41<04:19,  1.62s/it]"
     ]
    },
    {
     "name": "stdout",
     "output_type": "stream",
     "text": [
      "\n",
      " 84%|████████▍ | 840/1000 [24:40<04:19,  1.62s/it, best loss: 0.2197485425425898]\u001b[A\n",
      "\u001b[AParameters with this training score 0.7711115425143081 :\n",
      "\n",
      " 84%|████████▍ | 840/1000 [24:43<04:19,  1.62s/it, best loss: 0.2197485425425898]\u001b[A\n",
      "\u001b[A{'bootstrap': False, 'class_weight': 'balanced', 'criterion': 'entropy', 'max_depth': 41, 'max_features': 2, 'max_leaf_nodes': 28, 'min_samples_leaf': 19, 'min_samples_split': 90, 'n_estimators': 740}\n",
      "\n",
      " 84%|████████▍ | 840/1000 [24:43<04:19,  1.62s/it, best loss: 0.2197485425425898]\u001b[A"
     ]
    },
    {
     "name": "stderr",
     "output_type": "stream",
     "text": [
      "Hyperopt:  84%|████████▍ | 841/1000 [24:43<05:08,  1.94s/it]"
     ]
    },
    {
     "name": "stdout",
     "output_type": "stream",
     "text": [
      "\n",
      " 84%|████████▍ | 841/1000 [24:43<05:08,  1.94s/it, best loss: 0.2197485425425898]\u001b[A\n",
      "\u001b[AParameters with this training score 0.7602344552100309 :\n",
      "\n",
      " 84%|████████▍ | 841/1000 [24:44<05:08,  1.94s/it, best loss: 0.2197485425425898]\u001b[A\n",
      "\u001b[A{'bootstrap': False, 'class_weight': 'balanced', 'criterion': 'gini', 'max_depth': 41, 'max_features': 3, 'max_leaf_nodes': 22, 'min_samples_leaf': 6, 'min_samples_split': 90, 'n_estimators': 360}\n",
      "\n",
      " 84%|████████▍ | 841/1000 [24:44<05:08,  1.94s/it, best loss: 0.2197485425425898]\u001b[A"
     ]
    },
    {
     "name": "stderr",
     "output_type": "stream",
     "text": [
      "Hyperopt:  84%|████████▍ | 842/1000 [24:45<04:39,  1.77s/it]"
     ]
    },
    {
     "name": "stdout",
     "output_type": "stream",
     "text": [
      "\n",
      " 84%|████████▍ | 842/1000 [24:44<04:39,  1.77s/it, best loss: 0.2197485425425898]\u001b[A\n",
      "\u001b[AParameters with this training score 0.774628270388134 :\n",
      "\n",
      " 84%|████████▍ | 842/1000 [24:45<04:39,  1.77s/it, best loss: 0.2197485425425898]\u001b[A\n",
      "\u001b[A{'bootstrap': False, 'class_weight': 'balanced', 'criterion': 'gini', 'max_depth': 41, 'max_features': 3, 'max_leaf_nodes': 28, 'min_samples_leaf': 15, 'min_samples_split': 90, 'n_estimators': 230}\n",
      "\n",
      " 84%|████████▍ | 842/1000 [24:45<04:39,  1.77s/it, best loss: 0.2197485425425898]\u001b[A"
     ]
    },
    {
     "name": "stderr",
     "output_type": "stream",
     "text": [
      "Hyperopt:  84%|████████▍ | 843/1000 [24:46<04:00,  1.53s/it]"
     ]
    },
    {
     "name": "stdout",
     "output_type": "stream",
     "text": [
      "\n",
      " 84%|████████▍ | 843/1000 [24:45<04:00,  1.53s/it, best loss: 0.2197485425425898]\u001b[A\n",
      "\u001b[AParameters with this training score 0.7451524454862843 :\n",
      "\n",
      " 84%|████████▍ | 843/1000 [24:49<04:00,  1.53s/it, best loss: 0.2197485425425898]\u001b[A\n",
      "\u001b[A{'bootstrap': True, 'class_weight': 'balanced', 'criterion': 'gini', 'max_depth': 30, 'max_features': 1, 'max_leaf_nodes': 28, 'min_samples_leaf': 12, 'min_samples_split': 90, 'n_estimators': 850}\n",
      "\n",
      " 84%|████████▍ | 843/1000 [24:49<04:00,  1.53s/it, best loss: 0.2197485425425898]\u001b[A"
     ]
    },
    {
     "name": "stderr",
     "output_type": "stream",
     "text": [
      "Hyperopt:  84%|████████▍ | 844/1000 [24:49<05:26,  2.10s/it]"
     ]
    },
    {
     "name": "stdout",
     "output_type": "stream",
     "text": [
      "\n",
      " 84%|████████▍ | 844/1000 [24:49<05:26,  2.10s/it, best loss: 0.2197485425425898]\u001b[A\n",
      "\u001b[AParameters with this training score 0.7639304579918941 :\n",
      "\n",
      " 84%|████████▍ | 844/1000 [24:51<05:26,  2.10s/it, best loss: 0.2197485425425898]\u001b[A\n",
      "\u001b[A{'bootstrap': False, 'class_weight': 'balanced', 'criterion': 'gini', 'max_depth': 41, 'max_features': 3, 'max_leaf_nodes': 16, 'min_samples_leaf': 27, 'min_samples_split': 30, 'n_estimators': 680}\n",
      "\n",
      " 84%|████████▍ | 844/1000 [24:51<05:26,  2.10s/it, best loss: 0.2197485425425898]\u001b[A"
     ]
    },
    {
     "name": "stderr",
     "output_type": "stream",
     "text": [
      "Hyperopt:  84%|████████▍ | 845/1000 [24:51<05:38,  2.18s/it]"
     ]
    },
    {
     "name": "stdout",
     "output_type": "stream",
     "text": [
      "\n",
      " 84%|████████▍ | 845/1000 [24:51<05:38,  2.18s/it, best loss: 0.2197485425425898]\u001b[A\n",
      "\u001b[AParameters with this training score 0.7574051525981619 :\n",
      "\n",
      " 84%|████████▍ | 845/1000 [24:53<05:38,  2.18s/it, best loss: 0.2197485425425898]\u001b[A\n",
      "\u001b[A{'bootstrap': False, 'class_weight': 'balanced', 'criterion': 'gini', 'max_depth': 41, 'max_features': 3, 'max_leaf_nodes': 20, 'min_samples_leaf': 9, 'min_samples_split': 90, 'n_estimators': 360}\n",
      "\n",
      " 84%|████████▍ | 845/1000 [24:53<05:38,  2.18s/it, best loss: 0.2197485425425898]\u001b[A"
     ]
    },
    {
     "name": "stderr",
     "output_type": "stream",
     "text": [
      "Hyperopt:  85%|████████▍ | 846/1000 [24:53<05:02,  1.97s/it]"
     ]
    },
    {
     "name": "stdout",
     "output_type": "stream",
     "text": [
      "\n",
      " 85%|████████▍ | 846/1000 [24:53<05:02,  1.97s/it, best loss: 0.2197485425425898]\u001b[A\n",
      "\u001b[AParameters with this training score 0.7294984418726412 :\n",
      "\n",
      " 85%|████████▍ | 846/1000 [24:53<05:02,  1.97s/it, best loss: 0.2197485425425898]\u001b[A\n",
      "\u001b[A{'bootstrap': False, 'class_weight': 'balanced', 'criterion': 'gini', 'max_depth': 4, 'max_features': 3, 'max_leaf_nodes': 28, 'min_samples_leaf': 14, 'min_samples_split': 40, 'n_estimators': 70}\n",
      "\n",
      " 85%|████████▍ | 846/1000 [24:53<05:02,  1.97s/it, best loss: 0.2197485425425898]\u001b[A"
     ]
    },
    {
     "name": "stderr",
     "output_type": "stream",
     "text": [
      "Hyperopt:  85%|████████▍ | 847/1000 [24:53<03:56,  1.55s/it]"
     ]
    },
    {
     "name": "stdout",
     "output_type": "stream",
     "text": [
      "\n",
      " 85%|████████▍ | 847/1000 [24:53<03:56,  1.55s/it, best loss: 0.2197485425425898]\u001b[A\n",
      "\u001b[AParameters with this training score 0.7772423484977391 :\n",
      "\n",
      " 85%|████████▍ | 847/1000 [24:56<03:56,  1.55s/it, best loss: 0.2197485425425898]\u001b[A\n",
      "\u001b[A{'bootstrap': False, 'class_weight': 'balanced', 'criterion': 'gini', 'max_depth': 41, 'max_features': 3, 'max_leaf_nodes': 28, 'min_samples_leaf': 27, 'min_samples_split': 90, 'n_estimators': 820}\n",
      "\n",
      " 85%|████████▍ | 847/1000 [24:56<03:56,  1.55s/it, best loss: 0.2197485425425898]\u001b[A"
     ]
    },
    {
     "name": "stderr",
     "output_type": "stream",
     "text": [
      "Hyperopt:  85%|████████▍ | 848/1000 [24:56<04:52,  1.93s/it]"
     ]
    },
    {
     "name": "stdout",
     "output_type": "stream",
     "text": [
      "\n",
      " 85%|████████▍ | 848/1000 [24:56<04:52,  1.93s/it, best loss: 0.2197485425425898]\u001b[A\n",
      "\u001b[AParameters with this training score 0.5112770876054833 :\n",
      "\n",
      " 85%|████████▍ | 848/1000 [24:57<04:52,  1.93s/it, best loss: 0.2197485425425898]\u001b[A\n",
      "\u001b[A{'bootstrap': False, 'class_weight': None, 'criterion': 'gini', 'max_depth': 3, 'max_features': 4, 'max_leaf_nodes': 28, 'min_samples_leaf': 20, 'min_samples_split': 70, 'n_estimators': 280}\n",
      "\n",
      " 85%|████████▍ | 848/1000 [24:57<04:52,  1.93s/it, best loss: 0.2197485425425898]\u001b[A"
     ]
    },
    {
     "name": "stderr",
     "output_type": "stream",
     "text": [
      "Hyperopt:  85%|████████▍ | 849/1000 [24:57<04:13,  1.68s/it]"
     ]
    },
    {
     "name": "stdout",
     "output_type": "stream",
     "text": [
      "\n",
      " 85%|████████▍ | 849/1000 [24:57<04:13,  1.68s/it, best loss: 0.2197485425425898]\u001b[A\n",
      "\u001b[AParameters with this training score 0.697580488229249 :\n",
      "\n",
      " 85%|████████▍ | 849/1000 [24:59<04:13,  1.68s/it, best loss: 0.2197485425425898]\u001b[A\n",
      "\u001b[A{'bootstrap': False, 'class_weight': 'balanced', 'criterion': 'gini', 'max_depth': 45, 'max_features': 3, 'max_leaf_nodes': 10, 'min_samples_leaf': 1, 'min_samples_split': 90, 'n_estimators': 520}\n",
      "\n",
      " 85%|████████▍ | 849/1000 [24:59<04:13,  1.68s/it, best loss: 0.2197485425425898]\u001b[A"
     ]
    },
    {
     "name": "stderr",
     "output_type": "stream",
     "text": [
      "Hyperopt:  85%|████████▌ | 850/1000 [24:59<04:21,  1.74s/it]"
     ]
    },
    {
     "name": "stdout",
     "output_type": "stream",
     "text": [
      "\n",
      " 85%|████████▌ | 850/1000 [24:59<04:21,  1.74s/it, best loss: 0.2197485425425898]\u001b[A\n",
      "\u001b[AParameters with this training score 0.7516155131706196 :\n",
      "\n",
      " 85%|████████▌ | 850/1000 [25:02<04:21,  1.74s/it, best loss: 0.2197485425425898]\u001b[A\n",
      "\u001b[A{'bootstrap': False, 'class_weight': 'balanced', 'criterion': 'entropy', 'max_depth': 21, 'max_features': 3, 'max_leaf_nodes': 18, 'min_samples_leaf': 3, 'min_samples_split': 90, 'n_estimators': 990}\n",
      "\n",
      " 85%|████████▌ | 850/1000 [25:02<04:21,  1.74s/it, best loss: 0.2197485425425898]\u001b[A"
     ]
    },
    {
     "name": "stderr",
     "output_type": "stream",
     "text": [
      "Hyperopt:  85%|████████▌ | 851/1000 [25:03<05:31,  2.22s/it]"
     ]
    },
    {
     "name": "stdout",
     "output_type": "stream",
     "text": [
      "\n",
      " 85%|████████▌ | 851/1000 [25:02<05:31,  2.22s/it, best loss: 0.2197485425425898]\u001b[A\n",
      "\u001b[AParameters with this training score 0.769295517090843 :\n",
      "\n",
      " 85%|████████▌ | 851/1000 [25:05<05:31,  2.22s/it, best loss: 0.2197485425425898]\u001b[A\n",
      "\u001b[A{'bootstrap': False, 'class_weight': 'balanced', 'criterion': 'gini', 'max_depth': 37, 'max_features': 3, 'max_leaf_nodes': 28, 'min_samples_leaf': 7, 'min_samples_split': 60, 'n_estimators': 780}\n",
      "\n",
      " 85%|████████▌ | 851/1000 [25:05<05:31,  2.22s/it, best loss: 0.2197485425425898]\u001b[A"
     ]
    },
    {
     "name": "stderr",
     "output_type": "stream",
     "text": [
      "Hyperopt:  85%|████████▌ | 852/1000 [25:05<05:52,  2.38s/it]"
     ]
    },
    {
     "name": "stdout",
     "output_type": "stream",
     "text": [
      "\n",
      " 85%|████████▌ | 852/1000 [25:05<05:52,  2.38s/it, best loss: 0.2197485425425898]\u001b[A\n",
      "\u001b[AParameters with this training score 0.7145491865319357 :\n",
      "\n",
      " 85%|████████▌ | 852/1000 [25:06<05:52,  2.38s/it, best loss: 0.2197485425425898]\u001b[A\n",
      "\u001b[A{'bootstrap': False, 'class_weight': 'balanced', 'criterion': 'gini', 'max_depth': 49, 'max_features': 2, 'max_leaf_nodes': 14, 'min_samples_leaf': 4, 'min_samples_split': 10, 'n_estimators': 250}\n",
      "\n",
      " 85%|████████▌ | 852/1000 [25:06<05:52,  2.38s/it, best loss: 0.2197485425425898]\u001b[A"
     ]
    },
    {
     "name": "stderr",
     "output_type": "stream",
     "text": [
      "Hyperopt:  85%|████████▌ | 853/1000 [25:06<04:53,  2.00s/it]"
     ]
    },
    {
     "name": "stdout",
     "output_type": "stream",
     "text": [
      "\n",
      " 85%|████████▌ | 853/1000 [25:06<04:53,  2.00s/it, best loss: 0.2197485425425898]\u001b[A\n",
      "\u001b[AParameters with this training score 0.7714727817063955 :\n",
      "\n",
      " 85%|████████▌ | 853/1000 [25:10<04:53,  2.00s/it, best loss: 0.2197485425425898]\u001b[A\n",
      "\u001b[A{'bootstrap': True, 'class_weight': 'balanced', 'criterion': 'gini', 'max_depth': 41, 'max_features': 3, 'max_leaf_nodes': 28, 'min_samples_leaf': 27, 'min_samples_split': 90, 'n_estimators': 980}\n",
      "\n",
      " 85%|████████▌ | 853/1000 [25:10<04:53,  2.00s/it, best loss: 0.2197485425425898]\u001b[A"
     ]
    },
    {
     "name": "stderr",
     "output_type": "stream",
     "text": [
      "Hyperopt:  85%|████████▌ | 854/1000 [25:10<06:05,  2.50s/it]"
     ]
    },
    {
     "name": "stdout",
     "output_type": "stream",
     "text": [
      "\n",
      " 85%|████████▌ | 854/1000 [25:10<06:05,  2.50s/it, best loss: 0.2197485425425898]\u001b[A\n",
      "\u001b[AParameters with this training score 0.7716853694956859 :\n",
      "\n",
      " 85%|████████▌ | 854/1000 [25:12<06:05,  2.50s/it, best loss: 0.2197485425425898]\u001b[A\n",
      "\u001b[A{'bootstrap': False, 'class_weight': 'balanced', 'criterion': 'gini', 'max_depth': 26, 'max_features': 3, 'max_leaf_nodes': 28, 'min_samples_leaf': 11, 'min_samples_split': 20, 'n_estimators': 500}\n",
      "\n",
      " 85%|████████▌ | 854/1000 [25:12<06:05,  2.50s/it, best loss: 0.2197485425425898]\u001b[A"
     ]
    },
    {
     "name": "stderr",
     "output_type": "stream",
     "text": [
      "Hyperopt:  86%|████████▌ | 855/1000 [25:12<05:35,  2.32s/it]"
     ]
    },
    {
     "name": "stdout",
     "output_type": "stream",
     "text": [
      "\n",
      " 86%|████████▌ | 855/1000 [25:12<05:35,  2.32s/it, best loss: 0.2197485425425898]\u001b[A\n",
      "\u001b[AParameters with this training score 0.6895096734640782 :\n",
      "\n",
      " 86%|████████▌ | 855/1000 [25:13<05:35,  2.32s/it, best loss: 0.2197485425425898]\u001b[A\n",
      "\u001b[A{'bootstrap': False, 'class_weight': 'balanced', 'criterion': 'gini', 'max_depth': 43, 'max_features': 1, 'max_leaf_nodes': 12, 'min_samples_leaf': 27, 'min_samples_split': 50, 'n_estimators': 260}\n",
      "\n",
      " 86%|████████▌ | 855/1000 [25:13<05:35,  2.32s/it, best loss: 0.2197485425425898]\u001b[A"
     ]
    },
    {
     "name": "stderr",
     "output_type": "stream",
     "text": [
      "Hyperopt:  86%|████████▌ | 856/1000 [25:13<04:43,  1.97s/it]"
     ]
    },
    {
     "name": "stdout",
     "output_type": "stream",
     "text": [
      "\n",
      " 86%|████████▌ | 856/1000 [25:13<04:43,  1.97s/it, best loss: 0.2197485425425898]\u001b[A\n",
      "\u001b[AParameters with this training score 0.7749197258838959 :\n",
      "\n",
      " 86%|████████▌ | 856/1000 [25:14<04:43,  1.97s/it, best loss: 0.2197485425425898]\u001b[A\n",
      "\u001b[A{'bootstrap': False, 'class_weight': 'balanced', 'criterion': 'gini', 'max_depth': 41, 'max_features': 3, 'max_leaf_nodes': 28, 'min_samples_leaf': 16, 'min_samples_split': 90, 'n_estimators': 310}\n",
      "\n",
      " 86%|████████▌ | 856/1000 [25:14<04:43,  1.97s/it, best loss: 0.2197485425425898]\u001b[A"
     ]
    },
    {
     "name": "stderr",
     "output_type": "stream",
     "text": [
      "Hyperopt:  86%|████████▌ | 857/1000 [25:14<04:09,  1.74s/it]"
     ]
    },
    {
     "name": "stdout",
     "output_type": "stream",
     "text": [
      "\n",
      " 86%|████████▌ | 857/1000 [25:14<04:09,  1.74s/it, best loss: 0.2197485425425898]\u001b[A\n",
      "\u001b[AParameters with this training score 0.7718084138418044 :\n",
      "\n",
      " 86%|████████▌ | 857/1000 [25:15<04:09,  1.74s/it, best loss: 0.2197485425425898]\u001b[A\n",
      "\u001b[A{'bootstrap': False, 'class_weight': 'balanced', 'criterion': 'gini', 'max_depth': 28, 'max_features': 3, 'max_leaf_nodes': 24, 'min_samples_leaf': 22, 'min_samples_split': 90, 'n_estimators': 100}\n",
      "\n",
      " 86%|████████▌ | 857/1000 [25:15<04:09,  1.74s/it, best loss: 0.2197485425425898]\u001b[A"
     ]
    },
    {
     "name": "stderr",
     "output_type": "stream",
     "text": [
      "Hyperopt:  86%|████████▌ | 858/1000 [25:15<03:18,  1.40s/it]"
     ]
    },
    {
     "name": "stdout",
     "output_type": "stream",
     "text": [
      "\n",
      " 86%|████████▌ | 858/1000 [25:15<03:18,  1.40s/it, best loss: 0.2197485425425898]\u001b[A\n",
      "\u001b[AParameters with this training score 0.5695806449235967 :\n",
      "\n",
      " 86%|████████▌ | 858/1000 [25:16<03:18,  1.40s/it, best loss: 0.2197485425425898]\u001b[A\n",
      "\u001b[A{'bootstrap': False, 'class_weight': None, 'criterion': 'gini', 'max_depth': 9, 'max_features': 3, 'max_leaf_nodes': 22, 'min_samples_leaf': 23, 'min_samples_split': 90, 'n_estimators': 360}\n",
      "\n",
      " 86%|████████▌ | 858/1000 [25:16<03:18,  1.40s/it, best loss: 0.2197485425425898]\u001b[A"
     ]
    },
    {
     "name": "stderr",
     "output_type": "stream",
     "text": [
      "Hyperopt:  86%|████████▌ | 859/1000 [25:16<03:15,  1.39s/it]"
     ]
    },
    {
     "name": "stdout",
     "output_type": "stream",
     "text": [
      "\n",
      " 86%|████████▌ | 859/1000 [25:16<03:15,  1.39s/it, best loss: 0.2197485425425898]\u001b[A\n",
      "\u001b[AParameters with this training score 0.767992286667682 :\n",
      "\n",
      " 86%|████████▌ | 859/1000 [25:17<03:15,  1.39s/it, best loss: 0.2197485425425898]\u001b[A\n",
      "\u001b[A{'bootstrap': False, 'class_weight': 'balanced', 'criterion': 'gini', 'max_depth': 35, 'max_features': 3, 'max_leaf_nodes': 28, 'min_samples_leaf': 27, 'min_samples_split': 90, 'n_estimators': 50}\n",
      "\n",
      " 86%|████████▌ | 859/1000 [25:17<03:15,  1.39s/it, best loss: 0.2197485425425898]\u001b[A"
     ]
    },
    {
     "name": "stderr",
     "output_type": "stream",
     "text": [
      "Hyperopt:  86%|████████▌ | 860/1000 [25:17<02:35,  1.11s/it]"
     ]
    },
    {
     "name": "stdout",
     "output_type": "stream",
     "text": [
      "\n",
      " 86%|████████▌ | 860/1000 [25:17<02:35,  1.11s/it, best loss: 0.2197485425425898]\u001b[A\n",
      "\u001b[AParameters with this training score 0.7747727131170483 :\n",
      "\n",
      " 86%|████████▌ | 860/1000 [25:19<02:35,  1.11s/it, best loss: 0.2197485425425898]\u001b[A\n",
      "\u001b[A{'bootstrap': False, 'class_weight': 'balanced', 'criterion': 'entropy', 'max_depth': 24, 'max_features': 4, 'max_leaf_nodes': 28, 'min_samples_leaf': 17, 'min_samples_split': 30, 'n_estimators': 800}\n",
      "\n",
      " 86%|████████▌ | 860/1000 [25:19<02:35,  1.11s/it, best loss: 0.2197485425425898]\u001b[A"
     ]
    },
    {
     "name": "stderr",
     "output_type": "stream",
     "text": [
      "Hyperopt:  86%|████████▌ | 861/1000 [25:20<03:43,  1.61s/it]"
     ]
    },
    {
     "name": "stdout",
     "output_type": "stream",
     "text": [
      "\n",
      " 86%|████████▌ | 861/1000 [25:19<03:43,  1.61s/it, best loss: 0.2197485425425898]\u001b[A\n",
      "\u001b[AParameters with this training score 0.7706980457588819 :\n",
      "\n",
      " 86%|████████▌ | 861/1000 [25:21<03:43,  1.61s/it, best loss: 0.2197485425425898]\u001b[A\n",
      "\u001b[A{'bootstrap': False, 'class_weight': 'balanced', 'criterion': 'gini', 'max_depth': 14, 'max_features': 3, 'max_leaf_nodes': 20, 'min_samples_leaf': 27, 'min_samples_split': 90, 'n_estimators': 450}\n",
      "\n",
      " 86%|████████▌ | 861/1000 [25:21<03:43,  1.61s/it, best loss: 0.2197485425425898]\u001b[A"
     ]
    },
    {
     "name": "stderr",
     "output_type": "stream",
     "text": [
      "Hyperopt:  86%|████████▌ | 862/1000 [25:21<03:42,  1.62s/it]"
     ]
    },
    {
     "name": "stdout",
     "output_type": "stream",
     "text": [
      "\n",
      " 86%|████████▌ | 862/1000 [25:21<03:42,  1.62s/it, best loss: 0.2197485425425898]\u001b[A\n",
      "\u001b[AParameters with this training score 0.7528163063004758 :\n",
      "\n",
      " 86%|████████▌ | 862/1000 [25:22<03:42,  1.62s/it, best loss: 0.2197485425425898]\u001b[A\n",
      "\u001b[A{'bootstrap': False, 'class_weight': 'balanced', 'criterion': 'gini', 'max_depth': 12, 'max_features': 3, 'max_leaf_nodes': 16, 'min_samples_leaf': 8, 'min_samples_split': 40, 'n_estimators': 320}\n",
      "\n",
      " 86%|████████▌ | 862/1000 [25:22<03:42,  1.62s/it, best loss: 0.2197485425425898]\u001b[A"
     ]
    },
    {
     "name": "stderr",
     "output_type": "stream",
     "text": [
      "Hyperopt:  86%|████████▋ | 863/1000 [25:23<03:30,  1.53s/it]"
     ]
    },
    {
     "name": "stdout",
     "output_type": "stream",
     "text": [
      "\n",
      " 86%|████████▋ | 863/1000 [25:22<03:30,  1.53s/it, best loss: 0.2197485425425898]\u001b[A\n",
      "\u001b[AParameters with this training score 0.7787119908676257 :\n",
      "\n",
      " 86%|████████▋ | 863/1000 [25:25<03:30,  1.53s/it, best loss: 0.2197485425425898]\u001b[A\n",
      "\u001b[A{'bootstrap': False, 'class_weight': 'balanced', 'criterion': 'gini', 'max_depth': 33, 'max_features': 3, 'max_leaf_nodes': 28, 'min_samples_leaf': 29, 'min_samples_split': 90, 'n_estimators': 730}\n",
      "\n",
      " 86%|████████▋ | 863/1000 [25:25<03:30,  1.53s/it, best loss: 0.2197485425425898]\u001b[A"
     ]
    },
    {
     "name": "stderr",
     "output_type": "stream",
     "text": [
      "Hyperopt:  86%|████████▋ | 864/1000 [25:25<04:12,  1.85s/it]"
     ]
    },
    {
     "name": "stdout",
     "output_type": "stream",
     "text": [
      "\n",
      " 86%|████████▋ | 864/1000 [25:25<04:12,  1.85s/it, best loss: 0.2197485425425898]\u001b[A\n",
      "\u001b[AParameters with this training score 0.7570957475204876 :\n",
      "\n",
      " 86%|████████▋ | 864/1000 [25:28<04:12,  1.85s/it, best loss: 0.2197485425425898]\u001b[A\n",
      "\u001b[A{'bootstrap': True, 'class_weight': 'balanced', 'criterion': 'gini', 'max_depth': 48, 'max_features': 2, 'max_leaf_nodes': 28, 'min_samples_leaf': 25, 'min_samples_split': 90, 'n_estimators': 870}\n",
      "\n",
      " 86%|████████▋ | 864/1000 [25:28<04:12,  1.85s/it, best loss: 0.2197485425425898]\u001b[A"
     ]
    },
    {
     "name": "stderr",
     "output_type": "stream",
     "text": [
      "Hyperopt:  86%|████████▋ | 865/1000 [25:28<05:06,  2.27s/it]"
     ]
    },
    {
     "name": "stdout",
     "output_type": "stream",
     "text": [
      "\n",
      " 86%|████████▋ | 865/1000 [25:28<05:06,  2.27s/it, best loss: 0.2197485425425898]\u001b[A\n",
      "\u001b[AParameters with this training score 0.7034840544391815 :\n",
      "\n",
      " 86%|████████▋ | 865/1000 [25:29<05:06,  2.27s/it, best loss: 0.2197485425425898]\u001b[A\n",
      "\u001b[A{'bootstrap': False, 'class_weight': 'balanced', 'criterion': 'gini', 'max_depth': 38, 'max_features': 3, 'max_leaf_nodes': 10, 'min_samples_leaf': 10, 'min_samples_split': 70, 'n_estimators': 270}\n",
      "\n",
      " 86%|████████▋ | 865/1000 [25:29<05:06,  2.27s/it, best loss: 0.2197485425425898]\u001b[A"
     ]
    },
    {
     "name": "stderr",
     "output_type": "stream",
     "text": [
      "Hyperopt:  87%|████████▋ | 866/1000 [25:30<04:21,  1.95s/it]"
     ]
    },
    {
     "name": "stdout",
     "output_type": "stream",
     "text": [
      "\n",
      " 87%|████████▋ | 866/1000 [25:29<04:21,  1.95s/it, best loss: 0.2197485425425898]\u001b[A\n",
      "\u001b[AParameters with this training score 0.7692097079220785 :\n",
      "\n",
      " 87%|████████▋ | 866/1000 [25:33<04:21,  1.95s/it, best loss: 0.2197485425425898]\u001b[A\n",
      "\u001b[A{'bootstrap': False, 'class_weight': 'balanced', 'criterion': 'gini', 'max_depth': 47, 'max_features': 3, 'max_leaf_nodes': 28, 'min_samples_leaf': 5, 'min_samples_split': 90, 'n_estimators': 960}\n",
      "\n",
      " 87%|████████▋ | 866/1000 [25:33<04:21,  1.95s/it, best loss: 0.2197485425425898]\u001b[A"
     ]
    },
    {
     "name": "stderr",
     "output_type": "stream",
     "text": [
      "Hyperopt:  87%|████████▋ | 867/1000 [25:33<05:09,  2.33s/it]"
     ]
    },
    {
     "name": "stdout",
     "output_type": "stream",
     "text": [
      "\n",
      " 87%|████████▋ | 867/1000 [25:33<05:09,  2.33s/it, best loss: 0.2197485425425898]\u001b[A\n",
      "\u001b[AParameters with this training score 0.738964002643334 :\n",
      "\n",
      " 87%|████████▋ | 867/1000 [25:35<05:09,  2.33s/it, best loss: 0.2197485425425898]\u001b[A\n",
      "\u001b[A{'bootstrap': False, 'class_weight': 'balanced', 'criterion': 'gini', 'max_depth': 41, 'max_features': 1, 'max_leaf_nodes': 18, 'min_samples_leaf': 27, 'min_samples_split': 10, 'n_estimators': 570}\n",
      "\n",
      " 87%|████████▋ | 867/1000 [25:35<05:09,  2.33s/it, best loss: 0.2197485425425898]\u001b[A"
     ]
    },
    {
     "name": "stderr",
     "output_type": "stream",
     "text": [
      "Hyperopt:  87%|████████▋ | 868/1000 [25:35<04:57,  2.25s/it]"
     ]
    },
    {
     "name": "stdout",
     "output_type": "stream",
     "text": [
      "\n",
      " 87%|████████▋ | 868/1000 [25:35<04:57,  2.25s/it, best loss: 0.2197485425425898]\u001b[A\n",
      "\u001b[AParameters with this training score 0.7746015824467838 :\n",
      "\n",
      " 87%|████████▋ | 868/1000 [25:35<04:57,  2.25s/it, best loss: 0.2197485425425898]\u001b[A\n",
      "\u001b[A{'bootstrap': False, 'class_weight': 'balanced', 'criterion': 'gini', 'max_depth': 27, 'max_features': 3, 'max_leaf_nodes': 28, 'min_samples_leaf': 13, 'min_samples_split': 20, 'n_estimators': 90}\n",
      "\n",
      " 87%|████████▋ | 868/1000 [25:35<04:57,  2.25s/it, best loss: 0.2197485425425898]\u001b[A"
     ]
    },
    {
     "name": "stderr",
     "output_type": "stream",
     "text": [
      "Hyperopt:  87%|████████▋ | 869/1000 [25:35<03:49,  1.75s/it]"
     ]
    },
    {
     "name": "stdout",
     "output_type": "stream",
     "text": [
      "\n",
      " 87%|████████▋ | 869/1000 [25:35<03:49,  1.75s/it, best loss: 0.2197485425425898]\u001b[A\n",
      "\u001b[AParameters with this training score 0.6364819912323858 :\n",
      "\n",
      " 87%|████████▋ | 869/1000 [25:38<03:49,  1.75s/it, best loss: 0.2197485425425898]\u001b[A\n",
      "\u001b[A{'bootstrap': False, 'class_weight': None, 'criterion': 'gini', 'max_depth': 42, 'max_features': 3, 'max_leaf_nodes': 28, 'min_samples_leaf': 28, 'min_samples_split': 90, 'n_estimators': 890}\n",
      "\n",
      " 87%|████████▋ | 869/1000 [25:38<03:49,  1.75s/it, best loss: 0.2197485425425898]\u001b[A"
     ]
    },
    {
     "name": "stderr",
     "output_type": "stream",
     "text": [
      "Hyperopt:  87%|████████▋ | 870/1000 [25:38<04:33,  2.10s/it]"
     ]
    },
    {
     "name": "stdout",
     "output_type": "stream",
     "text": [
      "\n",
      " 87%|████████▋ | 870/1000 [25:38<04:33,  2.10s/it, best loss: 0.2197485425425898]\u001b[A\n",
      "\u001b[AParameters with this training score 0.7338438629266987 :\n",
      "\n",
      " 87%|████████▋ | 870/1000 [25:40<04:33,  2.10s/it, best loss: 0.2197485425425898]\u001b[A\n",
      "\u001b[A{'bootstrap': False, 'class_weight': 'balanced', 'criterion': 'entropy', 'max_depth': 15, 'max_features': 3, 'max_leaf_nodes': 12, 'min_samples_leaf': 18, 'min_samples_split': 60, 'n_estimators': 440}\n",
      "\n",
      " 87%|████████▋ | 870/1000 [25:40<04:33,  2.10s/it, best loss: 0.2197485425425898]\u001b[A"
     ]
    },
    {
     "name": "stderr",
     "output_type": "stream",
     "text": [
      "Hyperopt:  87%|████████▋ | 871/1000 [25:40<04:17,  2.00s/it]"
     ]
    },
    {
     "name": "stdout",
     "output_type": "stream",
     "text": [
      "\n",
      " 87%|████████▋ | 871/1000 [25:40<04:17,  2.00s/it, best loss: 0.2197485425425898]\u001b[A\n",
      "\u001b[AParameters with this training score 0.7329209025943324 :\n",
      "\n",
      " 87%|████████▋ | 871/1000 [25:41<04:17,  2.00s/it, best loss: 0.2197485425425898]\u001b[A\n",
      "\u001b[A{'bootstrap': False, 'class_weight': 'balanced', 'criterion': 'gini', 'max_depth': 25, 'max_features': 3, 'max_leaf_nodes': 14, 'min_samples_leaf': 2, 'min_samples_split': 90, 'n_estimators': 200}\n",
      "\n",
      " 87%|████████▋ | 871/1000 [25:41<04:17,  2.00s/it, best loss: 0.2197485425425898]\u001b[A"
     ]
    },
    {
     "name": "stderr",
     "output_type": "stream",
     "text": [
      "Hyperopt:  87%|████████▋ | 872/1000 [25:41<03:36,  1.69s/it]"
     ]
    },
    {
     "name": "stdout",
     "output_type": "stream",
     "text": [
      "\n",
      " 87%|████████▋ | 872/1000 [25:41<03:36,  1.69s/it, best loss: 0.2197485425425898]\u001b[A\n",
      "\u001b[AParameters with this training score 0.7777907592209249 :\n",
      "\n",
      " 87%|████████▋ | 872/1000 [25:43<03:36,  1.69s/it, best loss: 0.2197485425425898]\u001b[A\n",
      "\u001b[A{'bootstrap': False, 'class_weight': 'balanced', 'criterion': 'gini', 'max_depth': 19, 'max_features': 4, 'max_leaf_nodes': 28, 'min_samples_leaf': 27, 'min_samples_split': 50, 'n_estimators': 560}\n",
      "\n",
      " 87%|████████▋ | 872/1000 [25:43<03:36,  1.69s/it, best loss: 0.2197485425425898]\u001b[A"
     ]
    },
    {
     "name": "stderr",
     "output_type": "stream",
     "text": [
      "Hyperopt:  87%|████████▋ | 873/1000 [25:43<03:50,  1.81s/it]"
     ]
    },
    {
     "name": "stdout",
     "output_type": "stream",
     "text": [
      "\n",
      " 87%|████████▋ | 873/1000 [25:43<03:50,  1.81s/it, best loss: 0.2197485425425898]\u001b[A\n",
      "\u001b[AParameters with this training score 0.7542615794311706 :\n",
      "\n",
      " 87%|████████▋ | 873/1000 [25:43<03:50,  1.81s/it, best loss: 0.2197485425425898]\u001b[A\n",
      "\u001b[A{'bootstrap': True, 'class_weight': 'balanced', 'criterion': 'gini', 'max_depth': 36, 'max_features': 3, 'max_leaf_nodes': 28, 'min_samples_leaf': 21, 'min_samples_split': 90, 'n_estimators': 40}\n",
      "\n",
      " 87%|████████▋ | 873/1000 [25:43<03:50,  1.81s/it, best loss: 0.2197485425425898]\u001b[A"
     ]
    },
    {
     "name": "stderr",
     "output_type": "stream",
     "text": [
      "Hyperopt:  87%|████████▋ | 874/1000 [25:44<02:56,  1.40s/it]"
     ]
    },
    {
     "name": "stdout",
     "output_type": "stream",
     "text": [
      "\n",
      " 87%|████████▋ | 874/1000 [25:43<02:56,  1.40s/it, best loss: 0.2197485425425898]\u001b[A\n",
      "\u001b[AParameters with this training score 0.769545241861445 :\n",
      "\n",
      " 87%|████████▋ | 874/1000 [25:46<02:56,  1.40s/it, best loss: 0.2197485425425898]\u001b[A\n",
      "\u001b[A{'bootstrap': False, 'class_weight': 'balanced', 'criterion': 'gini', 'max_depth': 41, 'max_features': 3, 'max_leaf_nodes': 22, 'min_samples_leaf': 19, 'min_samples_split': 90, 'n_estimators': 860}\n",
      "\n",
      " 87%|████████▋ | 874/1000 [25:47<02:56,  1.40s/it, best loss: 0.2197485425425898]\u001b[A"
     ]
    },
    {
     "name": "stderr",
     "output_type": "stream",
     "text": [
      "Hyperopt:  88%|████████▊ | 875/1000 [25:47<03:55,  1.89s/it]"
     ]
    },
    {
     "name": "stdout",
     "output_type": "stream",
     "text": [
      "\n",
      " 88%|████████▊ | 875/1000 [25:47<03:55,  1.89s/it, best loss: 0.2197485425425898]\u001b[A\n",
      "\u001b[AParameters with this training score 0.7646792394715177 :\n",
      "\n",
      " 88%|████████▊ | 875/1000 [25:49<03:55,  1.89s/it, best loss: 0.2197485425425898]\u001b[A\n",
      "\u001b[A{'bootstrap': False, 'class_weight': 'balanced', 'criterion': 'gini', 'max_depth': 40, 'max_features': 3, 'max_leaf_nodes': 24, 'min_samples_leaf': 6, 'min_samples_split': 90, 'n_estimators': 600}\n",
      "\n",
      " 88%|████████▊ | 875/1000 [25:49<03:55,  1.89s/it, best loss: 0.2197485425425898]\u001b[A"
     ]
    },
    {
     "name": "stderr",
     "output_type": "stream",
     "text": [
      "Hyperopt:  88%|████████▊ | 876/1000 [25:49<04:02,  1.95s/it]"
     ]
    },
    {
     "name": "stdout",
     "output_type": "stream",
     "text": [
      "\n",
      " 88%|████████▊ | 876/1000 [25:49<04:02,  1.95s/it, best loss: 0.2197485425425898]\u001b[A\n",
      "\u001b[AParameters with this training score 0.7697998228348465 :\n",
      "\n",
      " 88%|████████▊ | 876/1000 [25:50<04:02,  1.95s/it, best loss: 0.2197485425425898]\u001b[A\n",
      "\u001b[A{'bootstrap': False, 'class_weight': 'balanced', 'criterion': 'gini', 'max_depth': 41, 'max_features': 2, 'max_leaf_nodes': 28, 'min_samples_leaf': 27, 'min_samples_split': 30, 'n_estimators': 360}\n",
      "\n",
      " 88%|████████▊ | 876/1000 [25:50<04:02,  1.95s/it, best loss: 0.2197485425425898]\u001b[A"
     ]
    },
    {
     "name": "stderr",
     "output_type": "stream",
     "text": [
      "Hyperopt:  88%|████████▊ | 877/1000 [25:50<03:42,  1.81s/it]"
     ]
    },
    {
     "name": "stdout",
     "output_type": "stream",
     "text": [
      "\n",
      " 88%|████████▊ | 877/1000 [25:50<03:42,  1.81s/it, best loss: 0.2197485425425898]\u001b[A\n",
      "\u001b[AParameters with this training score 0.7755383446565909 :\n",
      "\n",
      " 88%|████████▊ | 877/1000 [25:53<03:42,  1.81s/it, best loss: 0.2197485425425898]\u001b[A\n",
      "\u001b[A{'bootstrap': False, 'class_weight': 'balanced', 'criterion': 'gini', 'max_depth': 7, 'max_features': 3, 'max_leaf_nodes': 28, 'min_samples_leaf': 15, 'min_samples_split': 90, 'n_estimators': 840}\n",
      "\n",
      " 88%|████████▊ | 877/1000 [25:53<03:42,  1.81s/it, best loss: 0.2197485425425898]\u001b[A"
     ]
    },
    {
     "name": "stderr",
     "output_type": "stream",
     "text": [
      "Hyperopt:  88%|████████▊ | 878/1000 [25:53<04:23,  2.16s/it]"
     ]
    },
    {
     "name": "stdout",
     "output_type": "stream",
     "text": [
      "\n",
      " 88%|████████▊ | 878/1000 [25:53<04:23,  2.16s/it, best loss: 0.2197485425425898]\u001b[A\n",
      "\u001b[AParameters with this training score 0.7555033237595753 :\n",
      "\n",
      " 88%|████████▊ | 878/1000 [25:56<04:23,  2.16s/it, best loss: 0.2197485425425898]\u001b[A\n",
      "\u001b[A{'bootstrap': False, 'class_weight': 'balanced', 'criterion': 'gini', 'max_depth': 13, 'max_features': 3, 'max_leaf_nodes': 16, 'min_samples_leaf': 12, 'min_samples_split': 90, 'n_estimators': 920}\n",
      "\n",
      " 88%|████████▊ | 878/1000 [25:56<04:23,  2.16s/it, best loss: 0.2197485425425898]\u001b[A"
     ]
    },
    {
     "name": "stderr",
     "output_type": "stream",
     "text": [
      "Hyperopt:  88%|████████▊ | 879/1000 [25:56<04:56,  2.45s/it]"
     ]
    },
    {
     "name": "stdout",
     "output_type": "stream",
     "text": [
      "\n",
      " 88%|████████▊ | 879/1000 [25:56<04:56,  2.45s/it, best loss: 0.2197485425425898]\u001b[A\n",
      "\u001b[AParameters with this training score 0.507039526369256 :\n",
      "\n",
      " 88%|████████▊ | 879/1000 [25:57<04:56,  2.45s/it, best loss: 0.2197485425425898]\u001b[A\n",
      "\u001b[A{'bootstrap': False, 'class_weight': 'balanced', 'criterion': 'gini', 'max_depth': 1, 'max_features': 1, 'max_leaf_nodes': 28, 'min_samples_leaf': 14, 'min_samples_split': 40, 'n_estimators': 150}\n",
      "\n",
      " 88%|████████▊ | 879/1000 [25:57<04:56,  2.45s/it, best loss: 0.2197485425425898]\u001b[A"
     ]
    },
    {
     "name": "stderr",
     "output_type": "stream",
     "text": [
      "Hyperopt:  88%|████████▊ | 880/1000 [25:57<03:57,  1.98s/it]"
     ]
    },
    {
     "name": "stdout",
     "output_type": "stream",
     "text": [
      "\n",
      " 88%|████████▊ | 880/1000 [25:57<03:57,  1.98s/it, best loss: 0.2197485425425898]\u001b[A\n",
      "\u001b[AParameters with this training score 0.6190078537260104 :\n",
      "\n",
      " 88%|████████▊ | 880/1000 [25:58<03:57,  1.98s/it, best loss: 0.2197485425425898]\u001b[A\n",
      "\u001b[A{'bootstrap': False, 'class_weight': None, 'criterion': 'entropy', 'max_depth': 31, 'max_features': 3, 'max_leaf_nodes': 28, 'min_samples_leaf': 27, 'min_samples_split': 90, 'n_estimators': 80}\n",
      "\n",
      " 88%|████████▊ | 880/1000 [25:58<03:57,  1.98s/it, best loss: 0.2197485425425898]\u001b[A"
     ]
    },
    {
     "name": "stderr",
     "output_type": "stream",
     "text": [
      "Hyperopt:  88%|████████▊ | 881/1000 [25:58<03:05,  1.56s/it]"
     ]
    },
    {
     "name": "stdout",
     "output_type": "stream",
     "text": [
      "\n",
      " 88%|████████▊ | 881/1000 [25:58<03:05,  1.56s/it, best loss: 0.2197485425425898]\u001b[A\n",
      "\u001b[AParameters with this training score 0.7256496261955716 :\n",
      "\n",
      " 88%|████████▊ | 881/1000 [26:00<03:05,  1.56s/it, best loss: 0.2197485425425898]\u001b[A\n",
      "\u001b[A{'bootstrap': False, 'class_weight': 'balanced', 'criterion': 'gini', 'max_depth': 26, 'max_features': 3, 'max_leaf_nodes': 10, 'min_samples_leaf': 20, 'min_samples_split': 10, 'n_estimators': 710}\n",
      "\n",
      " 88%|████████▊ | 881/1000 [26:00<03:05,  1.56s/it, best loss: 0.2197485425425898]\u001b[A"
     ]
    },
    {
     "name": "stderr",
     "output_type": "stream",
     "text": [
      "Hyperopt:  88%|████████▊ | 882/1000 [26:00<03:33,  1.81s/it]"
     ]
    },
    {
     "name": "stdout",
     "output_type": "stream",
     "text": [
      "\n",
      " 88%|████████▊ | 882/1000 [26:00<03:33,  1.81s/it, best loss: 0.2197485425425898]\u001b[A\n",
      "\u001b[AParameters with this training score 0.7704380506073385 :\n",
      "\n",
      " 88%|████████▊ | 882/1000 [26:03<03:33,  1.81s/it, best loss: 0.2197485425425898]\u001b[A\n",
      "\u001b[A{'bootstrap': False, 'class_weight': 'balanced', 'criterion': 'gini', 'max_depth': 18, 'max_features': 3, 'max_leaf_nodes': 20, 'min_samples_leaf': 27, 'min_samples_split': 70, 'n_estimators': 810}\n",
      "\n",
      " 88%|████████▊ | 882/1000 [26:03<03:33,  1.81s/it, best loss: 0.2197485425425898]\u001b[A"
     ]
    },
    {
     "name": "stderr",
     "output_type": "stream",
     "text": [
      "Hyperopt:  88%|████████▊ | 883/1000 [26:03<04:05,  2.10s/it]"
     ]
    },
    {
     "name": "stdout",
     "output_type": "stream",
     "text": [
      "\n",
      " 88%|████████▊ | 883/1000 [26:03<04:05,  2.10s/it, best loss: 0.2197485425425898]\u001b[A\n",
      "\u001b[AParameters with this training score 0.7658845217633565 :\n",
      "\n",
      " 88%|████████▊ | 883/1000 [26:06<04:05,  2.10s/it, best loss: 0.2197485425425898]\u001b[A\n",
      "\u001b[A{'bootstrap': True, 'class_weight': 'balanced', 'criterion': 'gini', 'max_depth': 41, 'max_features': 3, 'max_leaf_nodes': 28, 'min_samples_leaf': 4, 'min_samples_split': 90, 'n_estimators': 770}\n",
      "\n",
      " 88%|████████▊ | 883/1000 [26:06<04:05,  2.10s/it, best loss: 0.2197485425425898]\u001b[A"
     ]
    },
    {
     "name": "stderr",
     "output_type": "stream",
     "text": [
      "Hyperopt:  88%|████████▊ | 884/1000 [26:06<04:29,  2.33s/it]"
     ]
    },
    {
     "name": "stdout",
     "output_type": "stream",
     "text": [
      "\n",
      " 88%|████████▊ | 884/1000 [26:06<04:29,  2.33s/it, best loss: 0.2197485425425898]\u001b[A\n",
      "\u001b[AParameters with this training score 0.5800941965879834 :\n",
      "\n",
      " 88%|████████▊ | 884/1000 [26:07<04:29,  2.33s/it, best loss: 0.2197485425425898]\u001b[A\n",
      "\u001b[A{'bootstrap': False, 'class_weight': 'balanced', 'criterion': 'gini', 'max_depth': 2, 'max_features': 4, 'max_leaf_nodes': 28, 'min_samples_leaf': 1, 'min_samples_split': 60, 'n_estimators': 480}\n",
      "\n",
      " 88%|████████▊ | 884/1000 [26:07<04:29,  2.33s/it, best loss: 0.2197485425425898]\u001b[A"
     ]
    },
    {
     "name": "stderr",
     "output_type": "stream",
     "text": [
      "Hyperopt:  88%|████████▊ | 885/1000 [26:08<04:10,  2.17s/it]"
     ]
    },
    {
     "name": "stdout",
     "output_type": "stream",
     "text": [
      "\n",
      " 88%|████████▊ | 885/1000 [26:07<04:10,  2.17s/it, best loss: 0.2197485425425898]\u001b[A\n",
      "\u001b[AParameters with this training score 0.7706468253077142 :\n",
      "\n",
      " 88%|████████▊ | 885/1000 [26:09<04:10,  2.17s/it, best loss: 0.2197485425425898]\u001b[A\n",
      "\u001b[A{'bootstrap': False, 'class_weight': 'balanced', 'criterion': 'gini', 'max_depth': 8, 'max_features': 3, 'max_leaf_nodes': 28, 'min_samples_leaf': 7, 'min_samples_split': 90, 'n_estimators': 380}\n",
      "\n",
      " 88%|████████▊ | 885/1000 [26:09<04:10,  2.17s/it, best loss: 0.2197485425425898]\u001b[A"
     ]
    },
    {
     "name": "stderr",
     "output_type": "stream",
     "text": [
      "Hyperopt:  89%|████████▊ | 886/1000 [26:09<03:44,  1.97s/it]"
     ]
    },
    {
     "name": "stdout",
     "output_type": "stream",
     "text": [
      "\n",
      " 89%|████████▊ | 886/1000 [26:09<03:44,  1.97s/it, best loss: 0.2197485425425898]\u001b[A\n",
      "\u001b[AParameters with this training score 0.7523679945148241 :\n",
      "\n",
      " 89%|████████▊ | 886/1000 [26:10<03:44,  1.97s/it, best loss: 0.2197485425425898]\u001b[A\n",
      "\u001b[A{'bootstrap': False, 'class_weight': 'balanced', 'criterion': 'gini', 'max_depth': 17, 'max_features': 3, 'max_leaf_nodes': 18, 'min_samples_leaf': 9, 'min_samples_split': 20, 'n_estimators': 360}\n",
      "\n",
      " 89%|████████▊ | 886/1000 [26:10<03:44,  1.97s/it, best loss: 0.2197485425425898]\u001b[A"
     ]
    },
    {
     "name": "stderr",
     "output_type": "stream",
     "text": [
      "Hyperopt:  89%|████████▊ | 887/1000 [26:10<03:21,  1.79s/it]"
     ]
    },
    {
     "name": "stdout",
     "output_type": "stream",
     "text": [
      "\n",
      " 89%|████████▊ | 887/1000 [26:10<03:21,  1.79s/it, best loss: 0.2197485425425898]\u001b[A\n",
      "\u001b[AParameters with this training score 0.7332451527753646 :\n",
      "\n",
      " 89%|████████▊ | 887/1000 [26:11<03:21,  1.79s/it, best loss: 0.2197485425425898]\u001b[A\n",
      "\u001b[A{'bootstrap': False, 'class_weight': 'balanced', 'criterion': 'gini', 'max_depth': 23, 'max_features': 3, 'max_leaf_nodes': 12, 'min_samples_leaf': 27, 'min_samples_split': 50, 'n_estimators': 120}\n",
      "\n",
      " 89%|████████▊ | 887/1000 [26:11<03:21,  1.79s/it, best loss: 0.2197485425425898]\u001b[A"
     ]
    },
    {
     "name": "stderr",
     "output_type": "stream",
     "text": [
      "Hyperopt:  89%|████████▉ | 888/1000 [26:11<02:40,  1.43s/it]"
     ]
    },
    {
     "name": "stdout",
     "output_type": "stream",
     "text": [
      "\n",
      " 89%|████████▉ | 888/1000 [26:11<02:40,  1.43s/it, best loss: 0.2197485425425898]\u001b[A\n",
      "\u001b[AParameters with this training score 0.5001717465661478 :\n",
      "\n",
      " 89%|████████▉ | 888/1000 [26:13<02:40,  1.43s/it, best loss: 0.2197485425425898]\u001b[A\n",
      "\u001b[A{'bootstrap': False, 'class_weight': None, 'criterion': 'gini', 'max_depth': 22, 'max_features': 2, 'max_leaf_nodes': 14, 'min_samples_leaf': 3, 'min_samples_split': 90, 'n_estimators': 690}\n",
      "\n",
      " 89%|████████▉ | 888/1000 [26:13<02:40,  1.43s/it, best loss: 0.2197485425425898]\u001b[A"
     ]
    },
    {
     "name": "stderr",
     "output_type": "stream",
     "text": [
      "Hyperopt:  89%|████████▉ | 889/1000 [26:14<03:14,  1.76s/it]"
     ]
    },
    {
     "name": "stdout",
     "output_type": "stream",
     "text": [
      "\n",
      " 89%|████████▉ | 889/1000 [26:13<03:14,  1.76s/it, best loss: 0.2197485425425898]\u001b[A\n",
      "\u001b[AParameters with this training score 0.7749369760180651 :\n",
      "\n",
      " 89%|████████▉ | 889/1000 [26:16<03:14,  1.76s/it, best loss: 0.2197485425425898]\u001b[A\n",
      "\u001b[A{'bootstrap': False, 'class_weight': 'balanced', 'criterion': 'gini', 'max_depth': 41, 'max_features': 3, 'max_leaf_nodes': 28, 'min_samples_leaf': 11, 'min_samples_split': 90, 'n_estimators': 750}\n",
      "\n",
      " 89%|████████▉ | 889/1000 [26:16<03:14,  1.76s/it, best loss: 0.2197485425425898]\u001b[A"
     ]
    },
    {
     "name": "stderr",
     "output_type": "stream",
     "text": [
      "Hyperopt:  89%|████████▉ | 890/1000 [26:16<03:38,  1.99s/it]"
     ]
    },
    {
     "name": "stdout",
     "output_type": "stream",
     "text": [
      "\n",
      " 89%|████████▉ | 890/1000 [26:16<03:38,  1.99s/it, best loss: 0.2197485425425898]\u001b[A\n",
      "\u001b[AParameters with this training score 0.7696905683387341 :\n",
      "\n",
      " 89%|████████▉ | 890/1000 [26:17<03:38,  1.99s/it, best loss: 0.2197485425425898]\u001b[A\n",
      "\u001b[A{'bootstrap': False, 'class_weight': 'balanced', 'criterion': 'entropy', 'max_depth': 6, 'max_features': 3, 'max_leaf_nodes': 28, 'min_samples_leaf': 27, 'min_samples_split': 90, 'n_estimators': 110}\n",
      "\n",
      " 89%|████████▉ | 890/1000 [26:17<03:38,  1.99s/it, best loss: 0.2197485425425898]\u001b[A"
     ]
    },
    {
     "name": "stderr",
     "output_type": "stream",
     "text": [
      "Hyperopt:  89%|████████▉ | 891/1000 [26:17<02:51,  1.57s/it]"
     ]
    },
    {
     "name": "stdout",
     "output_type": "stream",
     "text": [
      "\n",
      " 89%|████████▉ | 891/1000 [26:17<02:51,  1.57s/it, best loss: 0.2197485425425898]\u001b[A\n",
      "\u001b[AParameters with this training score 0.751065155795523 :\n",
      "\n",
      " 89%|████████▉ | 891/1000 [26:18<02:51,  1.57s/it, best loss: 0.2197485425425898]\u001b[A\n",
      "\u001b[A{'bootstrap': False, 'class_weight': 'balanced', 'criterion': 'gini', 'max_depth': 32, 'max_features': 1, 'max_leaf_nodes': 24, 'min_samples_leaf': 16, 'min_samples_split': 90, 'n_estimators': 430}\n",
      "\n",
      " 89%|████████▉ | 891/1000 [26:18<02:51,  1.57s/it, best loss: 0.2197485425425898]\u001b[A"
     ]
    },
    {
     "name": "stderr",
     "output_type": "stream",
     "text": [
      "Hyperopt:  89%|████████▉ | 892/1000 [26:19<02:57,  1.64s/it]"
     ]
    },
    {
     "name": "stdout",
     "output_type": "stream",
     "text": [
      "\n",
      " 89%|████████▉ | 892/1000 [26:18<02:57,  1.64s/it, best loss: 0.2197485425425898]\u001b[A\n",
      "\u001b[AParameters with this training score 0.7666925308127633 :\n",
      "\n",
      " 89%|████████▉ | 892/1000 [26:22<02:57,  1.64s/it, best loss: 0.2197485425425898]\u001b[A\n",
      "\u001b[A{'bootstrap': False, 'class_weight': 'balanced', 'criterion': 'gini', 'max_depth': 5, 'max_features': 3, 'max_leaf_nodes': 28, 'min_samples_leaf': 23, 'min_samples_split': 30, 'n_estimators': 970}\n",
      "\n",
      " 89%|████████▉ | 892/1000 [26:22<02:57,  1.64s/it, best loss: 0.2197485425425898]\u001b[A"
     ]
    },
    {
     "name": "stderr",
     "output_type": "stream",
     "text": [
      "Hyperopt:  89%|████████▉ | 893/1000 [26:22<03:50,  2.15s/it]"
     ]
    },
    {
     "name": "stdout",
     "output_type": "stream",
     "text": [
      "\n",
      " 89%|████████▉ | 893/1000 [26:22<03:50,  2.15s/it, best loss: 0.2197485425425898]\u001b[A\n",
      "\u001b[AParameters with this training score 0.7617469952943379 :\n",
      "\n",
      " 89%|████████▉ | 893/1000 [26:24<03:50,  2.15s/it, best loss: 0.2197485425425898]\u001b[A\n",
      "\u001b[A{'bootstrap': True, 'class_weight': 'balanced', 'criterion': 'gini', 'max_depth': 20, 'max_features': 3, 'max_leaf_nodes': 22, 'min_samples_leaf': 22, 'min_samples_split': 90, 'n_estimators': 490}\n",
      "\n",
      " 89%|████████▉ | 893/1000 [26:24<03:50,  2.15s/it, best loss: 0.2197485425425898]\u001b[A"
     ]
    },
    {
     "name": "stderr",
     "output_type": "stream",
     "text": [
      "Hyperopt:  89%|████████▉ | 894/1000 [26:24<03:44,  2.12s/it]"
     ]
    },
    {
     "name": "stdout",
     "output_type": "stream",
     "text": [
      "\n",
      " 89%|████████▉ | 894/1000 [26:24<03:44,  2.12s/it, best loss: 0.2197485425425898]\u001b[A\n",
      "\u001b[AParameters with this training score 0.7756603339974286 :\n",
      "\n",
      " 89%|████████▉ | 894/1000 [26:27<03:44,  2.12s/it, best loss: 0.2197485425425898]\u001b[A\n",
      "\u001b[A{'bootstrap': False, 'class_weight': 'balanced', 'criterion': 'gini', 'max_depth': 41, 'max_features': 3, 'max_leaf_nodes': 28, 'min_samples_leaf': 17, 'min_samples_split': 40, 'n_estimators': 900}\n",
      "\n",
      " 89%|████████▉ | 894/1000 [26:27<03:44,  2.12s/it, best loss: 0.2197485425425898]\u001b[A"
     ]
    },
    {
     "name": "stderr",
     "output_type": "stream",
     "text": [
      "Hyperopt:  90%|████████▉ | 895/1000 [26:27<04:11,  2.40s/it]"
     ]
    },
    {
     "name": "stdout",
     "output_type": "stream",
     "text": [
      "\n",
      " 90%|████████▉ | 895/1000 [26:27<04:11,  2.40s/it, best loss: 0.2197485425425898]\u001b[A\n",
      "\u001b[AParameters with this training score 0.7635262010030939 :\n",
      "\n",
      " 90%|████████▉ | 895/1000 [26:29<04:11,  2.40s/it, best loss: 0.2197485425425898]\u001b[A\n",
      "\u001b[A{'bootstrap': False, 'class_weight': 'balanced', 'criterion': 'gini', 'max_depth': 45, 'max_features': 3, 'max_leaf_nodes': 16, 'min_samples_leaf': 27, 'min_samples_split': 90, 'n_estimators': 630}\n",
      "\n",
      " 90%|████████▉ | 895/1000 [26:29<04:11,  2.40s/it, best loss: 0.2197485425425898]\u001b[A"
     ]
    },
    {
     "name": "stderr",
     "output_type": "stream",
     "text": [
      "Hyperopt:  90%|████████▉ | 896/1000 [26:29<04:04,  2.35s/it]"
     ]
    },
    {
     "name": "stdout",
     "output_type": "stream",
     "text": [
      "\n",
      " 90%|████████▉ | 896/1000 [26:29<04:04,  2.35s/it, best loss: 0.2197485425425898]\u001b[A\n",
      "\u001b[AParameters with this training score 0.7715665598148727 :\n",
      "\n",
      " 90%|████████▉ | 896/1000 [26:31<04:04,  2.35s/it, best loss: 0.2197485425425898]\u001b[A\n",
      "\u001b[A{'bootstrap': False, 'class_weight': 'balanced', 'criterion': 'gini', 'max_depth': 43, 'max_features': 4, 'max_leaf_nodes': 28, 'min_samples_leaf': 8, 'min_samples_split': 70, 'n_estimators': 610}\n",
      "\n",
      " 90%|████████▉ | 896/1000 [26:31<04:04,  2.35s/it, best loss: 0.2197485425425898]\u001b[A"
     ]
    },
    {
     "name": "stderr",
     "output_type": "stream",
     "text": [
      "Hyperopt:  90%|████████▉ | 897/1000 [26:31<03:59,  2.32s/it]"
     ]
    },
    {
     "name": "stdout",
     "output_type": "stream",
     "text": [
      "\n",
      " 90%|████████▉ | 897/1000 [26:31<03:59,  2.32s/it, best loss: 0.2197485425425898]\u001b[A\n",
      "\u001b[AParameters with this training score 0.7692112442088002 :\n",
      "\n",
      " 90%|████████▉ | 897/1000 [26:32<03:59,  2.32s/it, best loss: 0.2197485425425898]\u001b[A\n",
      "\u001b[A{'bootstrap': False, 'class_weight': 'balanced', 'criterion': 'gini', 'max_depth': 30, 'max_features': 3, 'max_leaf_nodes': 20, 'min_samples_leaf': 27, 'min_samples_split': 90, 'n_estimators': 190}\n",
      "\n",
      " 90%|████████▉ | 897/1000 [26:32<03:59,  2.32s/it, best loss: 0.2197485425425898]\u001b[A"
     ]
    },
    {
     "name": "stderr",
     "output_type": "stream",
     "text": [
      "Hyperopt:  90%|████████▉ | 898/1000 [26:32<03:13,  1.90s/it]"
     ]
    },
    {
     "name": "stdout",
     "output_type": "stream",
     "text": [
      "\n",
      " 90%|████████▉ | 898/1000 [26:32<03:13,  1.90s/it, best loss: 0.2197485425425898]\u001b[A\n",
      "\u001b[AParameters with this training score 0.6356061378964963 :\n",
      "\n",
      " 90%|████████▉ | 898/1000 [26:33<03:13,  1.90s/it, best loss: 0.2197485425425898]\u001b[A\n",
      "\u001b[A{'bootstrap': False, 'class_weight': None, 'criterion': 'gini', 'max_depth': 41, 'max_features': 3, 'max_leaf_nodes': 28, 'min_samples_leaf': 25, 'min_samples_split': 90, 'n_estimators': 220}\n",
      "\n",
      " 90%|████████▉ | 898/1000 [26:33<03:13,  1.90s/it, best loss: 0.2197485425425898]\u001b[A"
     ]
    },
    {
     "name": "stderr",
     "output_type": "stream",
     "text": [
      "Hyperopt:  90%|████████▉ | 899/1000 [26:33<02:44,  1.62s/it]"
     ]
    },
    {
     "name": "stdout",
     "output_type": "stream",
     "text": [
      "\n",
      " 90%|████████▉ | 899/1000 [26:33<02:44,  1.62s/it, best loss: 0.2197485425425898]\u001b[A\n",
      "\u001b[AParameters with this training score 0.6906091177954744 :\n",
      "\n",
      " 90%|████████▉ | 899/1000 [26:36<02:44,  1.62s/it, best loss: 0.2197485425425898]\u001b[A\n",
      "\u001b[A{'bootstrap': False, 'class_weight': 'balanced', 'criterion': 'gini', 'max_depth': 4, 'max_features': 3, 'max_leaf_nodes': 10, 'min_samples_leaf': 10, 'min_samples_split': 10, 'n_estimators': 660}\n",
      "\n",
      " 90%|████████▉ | 899/1000 [26:36<02:44,  1.62s/it, best loss: 0.2197485425425898]\u001b[A"
     ]
    },
    {
     "name": "stderr",
     "output_type": "stream",
     "text": [
      "Hyperopt:  90%|█████████ | 900/1000 [26:36<03:06,  1.86s/it]"
     ]
    },
    {
     "name": "stdout",
     "output_type": "stream",
     "text": [
      "\n",
      " 90%|█████████ | 900/1000 [26:36<03:06,  1.86s/it, best loss: 0.2197485425425898]\u001b[A\n",
      "\u001b[AParameters with this training score 0.7654475571381452 :\n",
      "\n",
      " 90%|█████████ | 900/1000 [26:37<03:06,  1.86s/it, best loss: 0.2197485425425898]\u001b[A\n",
      "\u001b[A{'bootstrap': False, 'class_weight': 'balanced', 'criterion': 'entropy', 'max_depth': 21, 'max_features': 2, 'max_leaf_nodes': 28, 'min_samples_leaf': 29, 'min_samples_split': 20, 'n_estimators': 360}\n",
      "\n",
      " 90%|█████████ | 900/1000 [26:37<03:06,  1.86s/it, best loss: 0.2197485425425898]\u001b[A"
     ]
    },
    {
     "name": "stderr",
     "output_type": "stream",
     "text": [
      "Hyperopt:  90%|█████████ | 901/1000 [26:37<02:52,  1.74s/it]"
     ]
    },
    {
     "name": "stdout",
     "output_type": "stream",
     "text": [
      "\n",
      " 90%|█████████ | 901/1000 [26:37<02:52,  1.74s/it, best loss: 0.2197485425425898]\u001b[A\n",
      "\u001b[AParameters with this training score 0.7686934164672821 :\n",
      "\n",
      " 90%|█████████ | 901/1000 [26:39<02:52,  1.74s/it, best loss: 0.2197485425425898]\u001b[A\n",
      "\u001b[A{'bootstrap': False, 'class_weight': 'balanced', 'criterion': 'gini', 'max_depth': 37, 'max_features': 3, 'max_leaf_nodes': 18, 'min_samples_leaf': 27, 'min_samples_split': 60, 'n_estimators': 580}\n",
      "\n",
      " 90%|█████████ | 901/1000 [26:39<02:52,  1.74s/it, best loss: 0.2197485425425898]\u001b[A"
     ]
    },
    {
     "name": "stderr",
     "output_type": "stream",
     "text": [
      "Hyperopt:  90%|█████████ | 902/1000 [26:39<02:58,  1.82s/it]"
     ]
    },
    {
     "name": "stdout",
     "output_type": "stream",
     "text": [
      "\n",
      " 90%|█████████ | 902/1000 [26:39<02:58,  1.82s/it, best loss: 0.2197485425425898]\u001b[A\n",
      "\u001b[AParameters with this training score 0.7689782517604943 :\n",
      "\n",
      " 90%|█████████ | 902/1000 [26:41<02:58,  1.82s/it, best loss: 0.2197485425425898]\u001b[A\n",
      "\u001b[A{'bootstrap': False, 'class_weight': 'balanced', 'criterion': 'gini', 'max_depth': 28, 'max_features': 3, 'max_leaf_nodes': 28, 'min_samples_leaf': 5, 'min_samples_split': 90, 'n_estimators': 590}\n",
      "\n",
      " 90%|█████████ | 902/1000 [26:41<02:58,  1.82s/it, best loss: 0.2197485425425898]\u001b[A"
     ]
    },
    {
     "name": "stderr",
     "output_type": "stream",
     "text": [
      "Hyperopt:  90%|█████████ | 903/1000 [26:41<03:08,  1.94s/it]"
     ]
    },
    {
     "name": "stdout",
     "output_type": "stream",
     "text": [
      "\n",
      " 90%|█████████ | 903/1000 [26:41<03:08,  1.94s/it, best loss: 0.2197485425425898]\u001b[A\n",
      "\u001b[AParameters with this training score 0.5508931736020865 :\n",
      "\n",
      " 90%|█████████ | 903/1000 [26:42<03:08,  1.94s/it, best loss: 0.2197485425425898]\u001b[A\n",
      "\u001b[A{'bootstrap': True, 'class_weight': 'balanced', 'criterion': 'gini', 'max_depth': 3, 'max_features': 3, 'max_leaf_nodes': 14, 'min_samples_leaf': 18, 'min_samples_split': 90, 'n_estimators': 20}\n",
      "\n",
      " 90%|█████████ | 903/1000 [26:42<03:08,  1.94s/it, best loss: 0.2197485425425898]\u001b[A"
     ]
    },
    {
     "name": "stderr",
     "output_type": "stream",
     "text": [
      "Hyperopt:  90%|█████████ | 904/1000 [26:42<02:25,  1.52s/it]"
     ]
    },
    {
     "name": "stdout",
     "output_type": "stream",
     "text": [
      "\n",
      " 90%|█████████ | 904/1000 [26:42<02:25,  1.52s/it, best loss: 0.2197485425425898]\u001b[A\n",
      "\u001b[AParameters with this training score 0.7799254311371611 :\n",
      "\n",
      " 90%|█████████ | 904/1000 [26:43<02:25,  1.52s/it, best loss: 0.2197485425425898]\u001b[A\n",
      "\u001b[A{'bootstrap': False, 'class_weight': 'balanced', 'criterion': 'gini', 'max_depth': 12, 'max_features': 3, 'max_leaf_nodes': 28, 'min_samples_leaf': 27, 'min_samples_split': 90, 'n_estimators': 360}\n",
      "\n",
      " 90%|█████████ | 904/1000 [26:43<02:25,  1.52s/it, best loss: 0.2197485425425898]\u001b[A"
     ]
    },
    {
     "name": "stderr",
     "output_type": "stream",
     "text": [
      "Hyperopt:  90%|█████████ | 905/1000 [26:43<02:20,  1.47s/it]"
     ]
    },
    {
     "name": "stdout",
     "output_type": "stream",
     "text": [
      "\n",
      " 90%|█████████ | 905/1000 [26:43<02:20,  1.47s/it, best loss: 0.2197485425425898]\u001b[A\n",
      "\u001b[AParameters with this training score 0.7564252308231568 :\n",
      "\n",
      " 90%|█████████ | 905/1000 [26:46<02:20,  1.47s/it, best loss: 0.2197485425425898]\u001b[A\n",
      "\u001b[A{'bootstrap': False, 'class_weight': 'balanced', 'criterion': 'gini', 'max_depth': 26, 'max_features': 1, 'max_leaf_nodes': 28, 'min_samples_leaf': 2, 'min_samples_split': 50, 'n_estimators': 650}\n",
      "\n",
      " 90%|█████████ | 905/1000 [26:46<02:20,  1.47s/it, best loss: 0.2197485425425898]\u001b[A"
     ]
    },
    {
     "name": "stderr",
     "output_type": "stream",
     "text": [
      "Hyperopt:  91%|█████████ | 906/1000 [26:46<02:43,  1.74s/it]"
     ]
    },
    {
     "name": "stdout",
     "output_type": "stream",
     "text": [
      "\n",
      " 91%|█████████ | 906/1000 [26:46<02:43,  1.74s/it, best loss: 0.2197485425425898]\u001b[A\n",
      "\u001b[AParameters with this training score 0.7436726688623304 :\n",
      "\n",
      " 91%|█████████ | 906/1000 [26:47<02:43,  1.74s/it, best loss: 0.2197485425425898]\u001b[A\n",
      "\u001b[A{'bootstrap': False, 'class_weight': 'balanced', 'criterion': 'gini', 'max_depth': 33, 'max_features': 3, 'max_leaf_nodes': 12, 'min_samples_leaf': 28, 'min_samples_split': 90, 'n_estimators': 340}\n",
      "\n",
      " 91%|█████████ | 906/1000 [26:47<02:43,  1.74s/it, best loss: 0.2197485425425898]\u001b[A"
     ]
    },
    {
     "name": "stderr",
     "output_type": "stream",
     "text": [
      "Hyperopt:  91%|█████████ | 907/1000 [26:47<02:31,  1.63s/it]"
     ]
    },
    {
     "name": "stdout",
     "output_type": "stream",
     "text": [
      "\n",
      " 91%|█████████ | 907/1000 [26:47<02:31,  1.63s/it, best loss: 0.2197485425425898]\u001b[A\n",
      "\u001b[AParameters with this training score 0.7755639808415882 :\n",
      "\n",
      " 91%|█████████ | 907/1000 [26:50<02:31,  1.63s/it, best loss: 0.2197485425425898]\u001b[A\n",
      "\u001b[A{'bootstrap': False, 'class_weight': 'balanced', 'criterion': 'gini', 'max_depth': 24, 'max_features': 3, 'max_leaf_nodes': 28, 'min_samples_leaf': 13, 'min_samples_split': 90, 'n_estimators': 930}\n",
      "\n",
      " 91%|█████████ | 907/1000 [26:50<02:31,  1.63s/it, best loss: 0.2197485425425898]\u001b[A"
     ]
    },
    {
     "name": "stderr",
     "output_type": "stream",
     "text": [
      "Hyperopt:  91%|█████████ | 908/1000 [26:50<03:14,  2.11s/it]"
     ]
    },
    {
     "name": "stdout",
     "output_type": "stream",
     "text": [
      "\n",
      " 91%|█████████ | 908/1000 [26:50<03:14,  2.11s/it, best loss: 0.2197485425425898]\u001b[A\n",
      "\u001b[AParameters with this training score 0.6549587305985816 :\n",
      "\n",
      " 91%|█████████ | 908/1000 [26:51<03:14,  2.11s/it, best loss: 0.2197485425425898]\u001b[A\n",
      "\u001b[A{'bootstrap': False, 'class_weight': None, 'criterion': 'gini', 'max_depth': 41, 'max_features': 4, 'max_leaf_nodes': 24, 'min_samples_leaf': 21, 'min_samples_split': 30, 'n_estimators': 290}\n",
      "\n",
      " 91%|█████████ | 908/1000 [26:51<03:14,  2.11s/it, best loss: 0.2197485425425898]\u001b[A"
     ]
    },
    {
     "name": "stderr",
     "output_type": "stream",
     "text": [
      "Hyperopt:  91%|█████████ | 909/1000 [26:52<02:48,  1.85s/it]"
     ]
    },
    {
     "name": "stdout",
     "output_type": "stream",
     "text": [
      "\n",
      " 91%|█████████ | 909/1000 [26:51<02:48,  1.85s/it, best loss: 0.2197485425425898]\u001b[A\n",
      "\u001b[AParameters with this training score 0.7731992550682277 :\n",
      "\n",
      " 91%|█████████ | 909/1000 [26:53<02:48,  1.85s/it, best loss: 0.2197485425425898]\u001b[A\n",
      "\u001b[A{'bootstrap': False, 'class_weight': 'balanced', 'criterion': 'gini', 'max_depth': 49, 'max_features': 3, 'max_leaf_nodes': 22, 'min_samples_leaf': 19, 'min_samples_split': 90, 'n_estimators': 470}\n",
      "\n",
      " 91%|█████████ | 909/1000 [26:53<02:48,  1.85s/it, best loss: 0.2197485425425898]\u001b[A"
     ]
    },
    {
     "name": "stderr",
     "output_type": "stream",
     "text": [
      "Hyperopt:  91%|█████████ | 910/1000 [26:53<02:43,  1.82s/it]"
     ]
    },
    {
     "name": "stdout",
     "output_type": "stream",
     "text": [
      "\n",
      " 91%|█████████ | 910/1000 [26:53<02:43,  1.82s/it, best loss: 0.2197485425425898]\u001b[A\n",
      "\u001b[AParameters with this training score 0.7773690565621159 :\n",
      "\n",
      " 91%|█████████ | 910/1000 [26:56<02:43,  1.82s/it, best loss: 0.2197485425425898]\u001b[A\n",
      "\u001b[A{'bootstrap': False, 'class_weight': 'balanced', 'criterion': 'entropy', 'max_depth': 35, 'max_features': 3, 'max_leaf_nodes': 28, 'min_samples_leaf': 27, 'min_samples_split': 90, 'n_estimators': 760}\n",
      "\n",
      " 91%|█████████ | 910/1000 [26:56<02:43,  1.82s/it, best loss: 0.2197485425425898]\u001b[A"
     ]
    },
    {
     "name": "stderr",
     "output_type": "stream",
     "text": [
      "Hyperopt:  91%|█████████ | 911/1000 [26:56<03:04,  2.07s/it]"
     ]
    },
    {
     "name": "stdout",
     "output_type": "stream",
     "text": [
      "\n",
      " 91%|█████████ | 911/1000 [26:56<03:04,  2.07s/it, best loss: 0.2197485425425898]\u001b[A\n",
      "\u001b[AParameters with this training score 0.7677218853924328 :\n",
      "\n",
      " 91%|█████████ | 911/1000 [26:58<03:04,  2.07s/it, best loss: 0.2197485425425898]\u001b[A\n",
      "\u001b[A{'bootstrap': False, 'class_weight': 'balanced', 'criterion': 'gini', 'max_depth': 14, 'max_features': 3, 'max_leaf_nodes': 28, 'min_samples_leaf': 6, 'min_samples_split': 40, 'n_estimators': 720}\n",
      "\n",
      " 91%|█████████ | 911/1000 [26:58<03:04,  2.07s/it, best loss: 0.2197485425425898]\u001b[A"
     ]
    },
    {
     "name": "stderr",
     "output_type": "stream",
     "text": [
      "Hyperopt:  91%|█████████ | 912/1000 [26:59<03:16,  2.23s/it]"
     ]
    },
    {
     "name": "stdout",
     "output_type": "stream",
     "text": [
      "\n",
      " 91%|█████████ | 912/1000 [26:58<03:16,  2.23s/it, best loss: 0.2197485425425898]\u001b[A\n",
      "\u001b[AParameters with this training score 0.7569238069069251 :\n",
      "\n",
      " 91%|█████████ | 912/1000 [27:00<03:16,  2.23s/it, best loss: 0.2197485425425898]\u001b[A\n",
      "\u001b[A{'bootstrap': False, 'class_weight': 'balanced', 'criterion': 'gini', 'max_depth': 9, 'max_features': 2, 'max_leaf_nodes': 20, 'min_samples_leaf': 27, 'min_samples_split': 70, 'n_estimators': 390}\n",
      "\n",
      " 91%|█████████ | 912/1000 [27:00<03:16,  2.23s/it, best loss: 0.2197485425425898]\u001b[A"
     ]
    },
    {
     "name": "stderr",
     "output_type": "stream",
     "text": [
      "Hyperopt:  91%|█████████▏| 913/1000 [27:00<02:55,  2.01s/it]"
     ]
    },
    {
     "name": "stdout",
     "output_type": "stream",
     "text": [
      "\n",
      " 91%|█████████▏| 913/1000 [27:00<02:55,  2.01s/it, best loss: 0.2197485425425898]\u001b[A\n",
      "\u001b[AParameters with this training score 0.7410637513384482 :\n",
      "\n",
      " 91%|█████████▏| 913/1000 [27:02<02:55,  2.01s/it, best loss: 0.2197485425425898]\u001b[A\n",
      "\u001b[A{'bootstrap': True, 'class_weight': 'balanced', 'criterion': 'gini', 'max_depth': 41, 'max_features': 3, 'max_leaf_nodes': 16, 'min_samples_leaf': 12, 'min_samples_split': 90, 'n_estimators': 640}\n",
      "\n",
      " 91%|█████████▏| 913/1000 [27:02<02:55,  2.01s/it, best loss: 0.2197485425425898]\u001b[A"
     ]
    },
    {
     "name": "stderr",
     "output_type": "stream",
     "text": [
      "Hyperopt:  91%|█████████▏| 914/1000 [27:03<03:06,  2.17s/it]"
     ]
    },
    {
     "name": "stdout",
     "output_type": "stream",
     "text": [
      "\n",
      " 91%|█████████▏| 914/1000 [27:02<03:06,  2.17s/it, best loss: 0.2197485425425898]\u001b[A\n",
      "\u001b[AParameters with this training score 0.772505325580841 :\n",
      "\n",
      " 91%|█████████▏| 914/1000 [27:03<03:06,  2.17s/it, best loss: 0.2197485425425898]\u001b[A\n",
      "\u001b[A{'bootstrap': False, 'class_weight': 'balanced', 'criterion': 'gini', 'max_depth': 38, 'max_features': 3, 'max_leaf_nodes': 28, 'min_samples_leaf': 20, 'min_samples_split': 90, 'n_estimators': 60}\n",
      "\n",
      " 91%|█████████▏| 914/1000 [27:03<03:06,  2.17s/it, best loss: 0.2197485425425898]\u001b[A"
     ]
    },
    {
     "name": "stderr",
     "output_type": "stream",
     "text": [
      "Hyperopt:  92%|█████████▏| 915/1000 [27:03<02:23,  1.69s/it]"
     ]
    },
    {
     "name": "stdout",
     "output_type": "stream",
     "text": [
      "\n",
      " 92%|█████████▏| 915/1000 [27:03<02:23,  1.69s/it, best loss: 0.2197485425425898]\u001b[A\n",
      "\u001b[AParameters with this training score 0.7751434728119326 :\n",
      "\n",
      " 92%|█████████▏| 915/1000 [27:05<02:23,  1.69s/it, best loss: 0.2197485425425898]\u001b[A\n",
      "\u001b[A{'bootstrap': False, 'class_weight': 'balanced', 'criterion': 'gini', 'max_depth': 15, 'max_features': 3, 'max_leaf_nodes': 28, 'min_samples_leaf': 15, 'min_samples_split': 60, 'n_estimators': 540}\n",
      "\n",
      " 92%|█████████▏| 915/1000 [27:05<02:23,  1.69s/it, best loss: 0.2197485425425898]\u001b[A"
     ]
    },
    {
     "name": "stderr",
     "output_type": "stream",
     "text": [
      "Hyperopt:  92%|█████████▏| 916/1000 [27:05<02:32,  1.82s/it]"
     ]
    },
    {
     "name": "stdout",
     "output_type": "stream",
     "text": [
      "\n",
      " 92%|█████████▏| 916/1000 [27:05<02:32,  1.82s/it, best loss: 0.2197485425425898]\u001b[A\n",
      "\u001b[AParameters with this training score 0.6745640097970569 :\n",
      "\n",
      " 92%|█████████▏| 916/1000 [27:08<02:32,  1.82s/it, best loss: 0.2197485425425898]\u001b[A\n",
      "\u001b[A{'bootstrap': False, 'class_weight': 'balanced', 'criterion': 'gini', 'max_depth': 42, 'max_features': 1, 'max_leaf_nodes': 10, 'min_samples_leaf': 27, 'min_samples_split': 10, 'n_estimators': 950}\n",
      "\n",
      " 92%|█████████▏| 916/1000 [27:08<02:32,  1.82s/it, best loss: 0.2197485425425898]\u001b[A"
     ]
    },
    {
     "name": "stderr",
     "output_type": "stream",
     "text": [
      "Hyperopt:  92%|█████████▏| 917/1000 [27:08<02:59,  2.17s/it]"
     ]
    },
    {
     "name": "stdout",
     "output_type": "stream",
     "text": [
      "\n",
      " 92%|█████████▏| 917/1000 [27:08<02:59,  2.17s/it, best loss: 0.2197485425425898]\u001b[A\n",
      "\u001b[AParameters with this training score 0.7727782957897078 :\n",
      "\n",
      " 92%|█████████▏| 917/1000 [27:11<02:59,  2.17s/it, best loss: 0.2197485425425898]\u001b[A\n",
      "\u001b[A{'bootstrap': False, 'class_weight': 'balanced', 'criterion': 'gini', 'max_depth': 25, 'max_features': 3, 'max_leaf_nodes': 28, 'min_samples_leaf': 14, 'min_samples_split': 20, 'n_estimators': 910}\n",
      "\n",
      " 92%|█████████▏| 917/1000 [27:11<02:59,  2.17s/it, best loss: 0.2197485425425898]\u001b[A"
     ]
    },
    {
     "name": "stderr",
     "output_type": "stream",
     "text": [
      "Hyperopt:  92%|█████████▏| 918/1000 [27:12<03:24,  2.50s/it]"
     ]
    },
    {
     "name": "stdout",
     "output_type": "stream",
     "text": [
      "\n",
      " 92%|█████████▏| 918/1000 [27:11<03:24,  2.50s/it, best loss: 0.2197485425425898]\u001b[A\n",
      "\u001b[AParameters with this training score 0.5325142070931593 :\n",
      "\n",
      " 92%|█████████▏| 918/1000 [27:12<03:24,  2.50s/it, best loss: 0.2197485425425898]\u001b[A\n",
      "\u001b[A{'bootstrap': False, 'class_weight': None, 'criterion': 'gini', 'max_depth': 41, 'max_features': 3, 'max_leaf_nodes': 18, 'min_samples_leaf': 1, 'min_samples_split': 90, 'n_estimators': 210}\n",
      "\n",
      " 92%|█████████▏| 918/1000 [27:12<03:24,  2.50s/it, best loss: 0.2197485425425898]\u001b[A"
     ]
    },
    {
     "name": "stderr",
     "output_type": "stream",
     "text": [
      "Hyperopt:  92%|█████████▏| 919/1000 [27:12<02:43,  2.02s/it]"
     ]
    },
    {
     "name": "stdout",
     "output_type": "stream",
     "text": [
      "\n",
      " 92%|█████████▏| 919/1000 [27:12<02:43,  2.02s/it, best loss: 0.2197485425425898]\u001b[A\n",
      "\u001b[AParameters with this training score 0.7706378541377921 :\n",
      "\n",
      " 92%|█████████▏| 919/1000 [27:15<02:43,  2.02s/it, best loss: 0.2197485425425898]\u001b[A\n",
      "\u001b[A{'bootstrap': False, 'class_weight': 'balanced', 'criterion': 'gini', 'max_depth': 47, 'max_features': 3, 'max_leaf_nodes': 28, 'min_samples_leaf': 7, 'min_samples_split': 90, 'n_estimators': 830}\n",
      "\n",
      " 92%|█████████▏| 919/1000 [27:15<02:43,  2.02s/it, best loss: 0.2197485425425898]\u001b[A"
     ]
    },
    {
     "name": "stderr",
     "output_type": "stream",
     "text": [
      "Hyperopt:  92%|█████████▏| 920/1000 [27:15<03:00,  2.26s/it]"
     ]
    },
    {
     "name": "stdout",
     "output_type": "stream",
     "text": [
      "\n",
      " 92%|█████████▏| 920/1000 [27:15<03:00,  2.26s/it, best loss: 0.2197485425425898]\u001b[A\n",
      "\u001b[AParameters with this training score 0.7453051783266292 :\n",
      "\n",
      " 92%|█████████▏| 920/1000 [27:17<03:00,  2.26s/it, best loss: 0.2197485425425898]\u001b[A\n",
      "\u001b[A{'bootstrap': False, 'class_weight': 'balanced', 'criterion': 'entropy', 'max_depth': 36, 'max_features': 4, 'max_leaf_nodes': 14, 'min_samples_leaf': 9, 'min_samples_split': 50, 'n_estimators': 420}\n",
      "\n",
      " 92%|█████████▏| 920/1000 [27:17<03:00,  2.26s/it, best loss: 0.2197485425425898]\u001b[A"
     ]
    },
    {
     "name": "stderr",
     "output_type": "stream",
     "text": [
      "Hyperopt:  92%|█████████▏| 921/1000 [27:17<02:43,  2.07s/it]"
     ]
    },
    {
     "name": "stdout",
     "output_type": "stream",
     "text": [
      "\n",
      " 92%|█████████▏| 921/1000 [27:17<02:43,  2.07s/it, best loss: 0.2197485425425898]\u001b[A\n",
      "\u001b[AParameters with this training score 0.7775255250292541 :\n",
      "\n",
      " 92%|█████████▏| 921/1000 [27:18<02:43,  2.07s/it, best loss: 0.2197485425425898]\u001b[A\n",
      "\u001b[A{'bootstrap': False, 'class_weight': 'balanced', 'criterion': 'gini', 'max_depth': 40, 'max_features': 3, 'max_leaf_nodes': 28, 'min_samples_leaf': 27, 'min_samples_split': 90, 'n_estimators': 240}\n",
      "\n",
      " 92%|█████████▏| 921/1000 [27:18<02:43,  2.07s/it, best loss: 0.2197485425425898]\u001b[A"
     ]
    },
    {
     "name": "stderr",
     "output_type": "stream",
     "text": [
      "Hyperopt:  92%|█████████▏| 922/1000 [27:18<02:18,  1.78s/it]"
     ]
    },
    {
     "name": "stdout",
     "output_type": "stream",
     "text": [
      "\n",
      " 92%|█████████▏| 922/1000 [27:18<02:18,  1.78s/it, best loss: 0.2197485425425898]\u001b[A\n",
      "\u001b[AParameters with this training score 0.716824151824144 :\n",
      "\n",
      " 92%|█████████▏| 922/1000 [27:19<02:18,  1.78s/it, best loss: 0.2197485425425898]\u001b[A\n",
      "\u001b[A{'bootstrap': False, 'class_weight': 'balanced', 'criterion': 'gini', 'max_depth': 48, 'max_features': 3, 'max_leaf_nodes': 12, 'min_samples_leaf': 4, 'min_samples_split': 90, 'n_estimators': 170}\n",
      "\n",
      " 92%|█████████▏| 922/1000 [27:19<02:18,  1.78s/it, best loss: 0.2197485425425898]\u001b[A"
     ]
    },
    {
     "name": "stderr",
     "output_type": "stream",
     "text": [
      "Hyperopt:  92%|█████████▏| 923/1000 [27:19<01:55,  1.50s/it]"
     ]
    },
    {
     "name": "stdout",
     "output_type": "stream",
     "text": [
      "\n",
      " 92%|█████████▏| 923/1000 [27:19<01:55,  1.50s/it, best loss: 0.2197485425425898]\u001b[A\n",
      "\u001b[AParameters with this training score 0.7671665729863142 :\n",
      "\n",
      " 92%|█████████▏| 923/1000 [27:21<01:55,  1.50s/it, best loss: 0.2197485425425898]\u001b[A\n",
      "\u001b[A{'bootstrap': True, 'class_weight': 'balanced', 'criterion': 'gini', 'max_depth': 19, 'max_features': 3, 'max_leaf_nodes': 28, 'min_samples_leaf': 3, 'min_samples_split': 90, 'n_estimators': 510}\n",
      "\n",
      " 92%|█████████▏| 923/1000 [27:21<01:55,  1.50s/it, best loss: 0.2197485425425898]\u001b[A"
     ]
    },
    {
     "name": "stderr",
     "output_type": "stream",
     "text": [
      "Hyperopt:  92%|█████████▏| 924/1000 [27:21<02:08,  1.69s/it]"
     ]
    },
    {
     "name": "stdout",
     "output_type": "stream",
     "text": [
      "\n",
      " 92%|█████████▏| 924/1000 [27:21<02:08,  1.69s/it, best loss: 0.2197485425425898]\u001b[A\n",
      "\u001b[AParameters with this training score 0.7657463802098864 :\n",
      "\n",
      " 92%|█████████▏| 924/1000 [27:23<02:08,  1.69s/it, best loss: 0.2197485425425898]\u001b[A\n",
      "\u001b[A{'bootstrap': False, 'class_weight': 'balanced', 'criterion': 'gini', 'max_depth': 27, 'max_features': 2, 'max_leaf_nodes': 28, 'min_samples_leaf': 11, 'min_samples_split': 30, 'n_estimators': 460}\n",
      "\n",
      " 92%|█████████▏| 924/1000 [27:23<02:08,  1.69s/it, best loss: 0.2197485425425898]\u001b[A"
     ]
    },
    {
     "name": "stderr",
     "output_type": "stream",
     "text": [
      "Hyperopt:  92%|█████████▎| 925/1000 [27:23<02:07,  1.70s/it]"
     ]
    },
    {
     "name": "stdout",
     "output_type": "stream",
     "text": [
      "\n",
      " 92%|█████████▎| 925/1000 [27:23<02:07,  1.70s/it, best loss: 0.2197485425425898]\u001b[A\n",
      "\u001b[AParameters with this training score 0.7718154218671057 :\n",
      "\n",
      " 92%|█████████▎| 925/1000 [27:26<02:07,  1.70s/it, best loss: 0.2197485425425898]\u001b[A\n",
      "\u001b[A{'bootstrap': False, 'class_weight': 'balanced', 'criterion': 'gini', 'max_depth': 31, 'max_features': 3, 'max_leaf_nodes': 24, 'min_samples_leaf': 16, 'min_samples_split': 90, 'n_estimators': 940}\n",
      "\n",
      " 92%|█████████▎| 925/1000 [27:26<02:07,  1.70s/it, best loss: 0.2197485425425898]\u001b[A"
     ]
    },
    {
     "name": "stderr",
     "output_type": "stream",
     "text": [
      "Hyperopt:  93%|█████████▎| 926/1000 [27:26<02:37,  2.13s/it]"
     ]
    },
    {
     "name": "stdout",
     "output_type": "stream",
     "text": [
      "\n",
      " 93%|█████████▎| 926/1000 [27:26<02:37,  2.13s/it, best loss: 0.2197485425425898]\u001b[A\n",
      "\u001b[AParameters with this training score 0.771842070029096 :\n",
      "\n",
      " 93%|█████████▎| 926/1000 [27:28<02:37,  2.13s/it, best loss: 0.2197485425425898]\u001b[A\n",
      "\u001b[A{'bootstrap': False, 'class_weight': 'balanced', 'criterion': 'gini', 'max_depth': 41, 'max_features': 3, 'max_leaf_nodes': 22, 'min_samples_leaf': 27, 'min_samples_split': 40, 'n_estimators': 550}\n",
      "\n",
      " 93%|█████████▎| 926/1000 [27:28<02:37,  2.13s/it, best loss: 0.2197485425425898]\u001b[A"
     ]
    },
    {
     "name": "stderr",
     "output_type": "stream",
     "text": [
      "Hyperopt:  93%|█████████▎| 927/1000 [27:28<02:32,  2.09s/it]"
     ]
    },
    {
     "name": "stdout",
     "output_type": "stream",
     "text": [
      "\n",
      " 93%|█████████▎| 927/1000 [27:28<02:32,  2.09s/it, best loss: 0.2197485425425898]\u001b[A\n",
      "\u001b[AParameters with this training score 0.7753075133934608 :\n",
      "\n",
      " 93%|█████████▎| 927/1000 [27:30<02:32,  2.09s/it, best loss: 0.2197485425425898]\u001b[A\n",
      "\u001b[A{'bootstrap': False, 'class_weight': 'balanced', 'criterion': 'gini', 'max_depth': 13, 'max_features': 3, 'max_leaf_nodes': 28, 'min_samples_leaf': 17, 'min_samples_split': 90, 'n_estimators': 620}\n",
      "\n",
      " 93%|█████████▎| 927/1000 [27:30<02:32,  2.09s/it, best loss: 0.2197485425425898]\u001b[A"
     ]
    },
    {
     "name": "stderr",
     "output_type": "stream",
     "text": [
      "Hyperopt:  93%|█████████▎| 928/1000 [27:30<02:35,  2.16s/it]"
     ]
    },
    {
     "name": "stdout",
     "output_type": "stream",
     "text": [
      "\n",
      " 93%|█████████▎| 928/1000 [27:30<02:35,  2.16s/it, best loss: 0.2197485425425898]\u001b[A\n",
      "\u001b[AParameters with this training score 0.5115890394344407 :\n",
      "\n",
      " 93%|█████████▎| 928/1000 [27:31<02:35,  2.16s/it, best loss: 0.2197485425425898]\u001b[A\n",
      "\u001b[A{'bootstrap': False, 'class_weight': None, 'criterion': 'gini', 'max_depth': 26, 'max_features': 1, 'max_leaf_nodes': 28, 'min_samples_leaf': 27, 'min_samples_split': 70, 'n_estimators': 300}\n",
      "\n",
      " 93%|█████████▎| 928/1000 [27:31<02:35,  2.16s/it, best loss: 0.2197485425425898]\u001b[A"
     ]
    },
    {
     "name": "stderr",
     "output_type": "stream",
     "text": [
      "Hyperopt:  93%|█████████▎| 929/1000 [27:31<02:11,  1.85s/it]"
     ]
    },
    {
     "name": "stdout",
     "output_type": "stream",
     "text": [
      "\n",
      " 93%|█████████▎| 929/1000 [27:31<02:11,  1.85s/it, best loss: 0.2197485425425898]\u001b[A\n",
      "\u001b[AParameters with this training score 0.7600013151515717 :\n",
      "\n",
      " 93%|█████████▎| 929/1000 [27:33<02:11,  1.85s/it, best loss: 0.2197485425425898]\u001b[A\n",
      "\u001b[A{'bootstrap': False, 'class_weight': 'balanced', 'criterion': 'gini', 'max_depth': 7, 'max_features': 3, 'max_leaf_nodes': 16, 'min_samples_leaf': 23, 'min_samples_split': 90, 'n_estimators': 360}\n",
      "\n",
      " 93%|█████████▎| 929/1000 [27:33<02:11,  1.85s/it, best loss: 0.2197485425425898]\u001b[A"
     ]
    },
    {
     "name": "stderr",
     "output_type": "stream",
     "text": [
      "Hyperopt:  93%|█████████▎| 930/1000 [27:33<01:59,  1.71s/it]"
     ]
    },
    {
     "name": "stdout",
     "output_type": "stream",
     "text": [
      "\n",
      " 93%|█████████▎| 930/1000 [27:33<01:59,  1.71s/it, best loss: 0.2197485425425898]\u001b[A\n",
      "\u001b[AParameters with this training score 0.7683058481403098 :\n",
      "\n",
      " 93%|█████████▎| 930/1000 [27:36<01:59,  1.71s/it, best loss: 0.2197485425425898]\u001b[A\n",
      "\u001b[A{'bootstrap': False, 'class_weight': 'balanced', 'criterion': 'entropy', 'max_depth': 41, 'max_features': 3, 'max_leaf_nodes': 20, 'min_samples_leaf': 22, 'min_samples_split': 10, 'n_estimators': 880}\n",
      "\n",
      " 93%|█████████▎| 930/1000 [27:36<01:59,  1.71s/it, best loss: 0.2197485425425898]\u001b[A"
     ]
    },
    {
     "name": "stderr",
     "output_type": "stream",
     "text": [
      "Hyperopt:  93%|█████████▎| 931/1000 [27:36<02:25,  2.10s/it]"
     ]
    },
    {
     "name": "stdout",
     "output_type": "stream",
     "text": [
      "\n",
      " 93%|█████████▎| 931/1000 [27:36<02:25,  2.10s/it, best loss: 0.2197485425425898]\u001b[A\n",
      "\u001b[AParameters with this training score 0.771540399320147 :\n",
      "\n",
      " 93%|█████████▎| 931/1000 [27:38<02:25,  2.10s/it, best loss: 0.2197485425425898]\u001b[A\n",
      "\u001b[A{'bootstrap': False, 'class_weight': 'balanced', 'criterion': 'gini', 'max_depth': 8, 'max_features': 3, 'max_leaf_nodes': 28, 'min_samples_leaf': 8, 'min_samples_split': 90, 'n_estimators': 700}\n",
      "\n",
      " 93%|█████████▎| 931/1000 [27:38<02:25,  2.10s/it, best loss: 0.2197485425425898]\u001b[A"
     ]
    },
    {
     "name": "stderr",
     "output_type": "stream",
     "text": [
      "Hyperopt:  93%|█████████▎| 932/1000 [27:38<02:33,  2.26s/it]"
     ]
    },
    {
     "name": "stdout",
     "output_type": "stream",
     "text": [
      "\n",
      " 93%|█████████▎| 932/1000 [27:38<02:33,  2.26s/it, best loss: 0.2197485425425898]\u001b[A\n",
      "\u001b[AParameters with this training score 0.49849332525467427 :\n",
      "\n",
      " 93%|█████████▎| 932/1000 [27:39<02:33,  2.26s/it, best loss: 0.2197485425425898]\u001b[A\n",
      "\u001b[A{'bootstrap': False, 'class_weight': 'balanced', 'criterion': 'gini', 'max_depth': 1, 'max_features': 4, 'max_leaf_nodes': 28, 'min_samples_leaf': 25, 'min_samples_split': 60, 'n_estimators': 10}\n",
      "\n",
      " 93%|█████████▎| 932/1000 [27:39<02:33,  2.26s/it, best loss: 0.2197485425425898]\u001b[A"
     ]
    },
    {
     "name": "stderr",
     "output_type": "stream",
     "text": [
      "Hyperopt:  93%|█████████▎| 933/1000 [27:39<01:54,  1.71s/it]"
     ]
    },
    {
     "name": "stdout",
     "output_type": "stream",
     "text": [
      "\n",
      " 93%|█████████▎| 933/1000 [27:39<01:54,  1.71s/it, best loss: 0.2197485425425898]\u001b[A\n",
      "\u001b[AParameters with this training score 0.7709025901712024 :\n",
      "\n",
      " 93%|█████████▎| 933/1000 [27:39<01:54,  1.71s/it, best loss: 0.2197485425425898]\u001b[A\n",
      "\u001b[A{'bootstrap': True, 'class_weight': 'balanced', 'criterion': 'gini', 'max_depth': 23, 'max_features': 3, 'max_leaf_nodes': 28, 'min_samples_leaf': 27, 'min_samples_split': 90, 'n_estimators': 160}\n",
      "\n",
      " 93%|█████████▎| 933/1000 [27:39<01:54,  1.71s/it, best loss: 0.2197485425425898]\u001b[A"
     ]
    },
    {
     "name": "stderr",
     "output_type": "stream",
     "text": [
      "Hyperopt:  93%|█████████▎| 934/1000 [27:40<01:35,  1.44s/it]"
     ]
    },
    {
     "name": "stdout",
     "output_type": "stream",
     "text": [
      "\n",
      " 93%|█████████▎| 934/1000 [27:39<01:35,  1.44s/it, best loss: 0.2197485425425898]\u001b[A\n",
      "\u001b[AParameters with this training score 0.5730134520479389 :\n",
      "\n",
      " 93%|█████████▎| 934/1000 [27:40<01:35,  1.44s/it, best loss: 0.2197485425425898]\u001b[A\n",
      "\u001b[A{'bootstrap': False, 'class_weight': 'balanced', 'criterion': 'gini', 'max_depth': 2, 'max_features': 3, 'max_leaf_nodes': 10, 'min_samples_leaf': 27, 'min_samples_split': 20, 'n_estimators': 140}\n",
      "\n",
      " 93%|█████████▎| 934/1000 [27:40<01:35,  1.44s/it, best loss: 0.2197485425425898]\u001b[A"
     ]
    },
    {
     "name": "stderr",
     "output_type": "stream",
     "text": [
      "Hyperopt:  94%|█████████▎| 935/1000 [27:40<01:22,  1.27s/it]"
     ]
    },
    {
     "name": "stdout",
     "output_type": "stream",
     "text": [
      "\n",
      " 94%|█████████▎| 935/1000 [27:40<01:22,  1.27s/it, best loss: 0.2197485425425898]\u001b[A\n",
      "\u001b[AParameters with this training score 0.751549072292912 :\n",
      "\n",
      " 94%|█████████▎| 935/1000 [27:42<01:22,  1.27s/it, best loss: 0.2197485425425898]\u001b[A\n",
      "\u001b[A{'bootstrap': False, 'class_weight': 'balanced', 'criterion': 'gini', 'max_depth': 6, 'max_features': 3, 'max_leaf_nodes': 18, 'min_samples_leaf': 10, 'min_samples_split': 50, 'n_estimators': 330}\n",
      "\n",
      " 94%|█████████▎| 935/1000 [27:42<01:22,  1.27s/it, best loss: 0.2197485425425898]\u001b[A"
     ]
    },
    {
     "name": "stderr",
     "output_type": "stream",
     "text": [
      "Hyperopt:  94%|█████████▎| 936/1000 [27:42<01:22,  1.29s/it]"
     ]
    },
    {
     "name": "stdout",
     "output_type": "stream",
     "text": [
      "\n",
      " 94%|█████████▎| 936/1000 [27:42<01:22,  1.29s/it, best loss: 0.2197485425425898]\u001b[A\n",
      "\u001b[AParameters with this training score 0.7778507495525318 :\n",
      "\n",
      " 94%|█████████▎| 936/1000 [27:43<01:22,  1.29s/it, best loss: 0.2197485425425898]\u001b[A\n",
      "\u001b[A{'bootstrap': False, 'class_weight': 'balanced', 'criterion': 'gini', 'max_depth': 17, 'max_features': 3, 'max_leaf_nodes': 28, 'min_samples_leaf': 28, 'min_samples_split': 90, 'n_estimators': 230}\n",
      "\n",
      " 94%|█████████▎| 936/1000 [27:43<01:22,  1.29s/it, best loss: 0.2197485425425898]\u001b[A"
     ]
    },
    {
     "name": "stderr",
     "output_type": "stream",
     "text": [
      "Hyperopt:  94%|█████████▎| 937/1000 [27:43<01:15,  1.20s/it]"
     ]
    },
    {
     "name": "stdout",
     "output_type": "stream",
     "text": [
      "\n",
      " 94%|█████████▎| 937/1000 [27:43<01:15,  1.20s/it, best loss: 0.2197485425425898]\u001b[A\n",
      "\u001b[AParameters with this training score 0.7738799888272734 :\n",
      "\n",
      " 94%|█████████▎| 937/1000 [27:44<01:15,  1.20s/it, best loss: 0.2197485425425898]\u001b[A\n",
      "\u001b[A{'bootstrap': False, 'class_weight': 'balanced', 'criterion': 'gini', 'max_depth': 20, 'max_features': 2, 'max_leaf_nodes': 28, 'min_samples_leaf': 29, 'min_samples_split': 90, 'n_estimators': 370}\n",
      "\n",
      " 94%|█████████▎| 937/1000 [27:44<01:15,  1.20s/it, best loss: 0.2197485425425898]\u001b[A"
     ]
    },
    {
     "name": "stderr",
     "output_type": "stream",
     "text": [
      "Hyperopt:  94%|█████████▍| 938/1000 [27:44<01:19,  1.28s/it]"
     ]
    },
    {
     "name": "stdout",
     "output_type": "stream",
     "text": [
      "\n",
      " 94%|█████████▍| 938/1000 [27:44<01:19,  1.28s/it, best loss: 0.2197485425425898]\u001b[A\n",
      "\u001b[AParameters with this training score 0.5128350136907978 :\n",
      "\n",
      " 94%|█████████▍| 938/1000 [27:45<01:19,  1.28s/it, best loss: 0.2197485425425898]\u001b[A\n",
      "\u001b[A{'bootstrap': False, 'class_weight': None, 'criterion': 'gini', 'max_depth': 37, 'max_features': 3, 'max_leaf_nodes': 14, 'min_samples_leaf': 5, 'min_samples_split': 90, 'n_estimators': 180}\n",
      "\n",
      " 94%|█████████▍| 938/1000 [27:45<01:19,  1.28s/it, best loss: 0.2197485425425898]\u001b[A"
     ]
    },
    {
     "name": "stderr",
     "output_type": "stream",
     "text": [
      "Hyperopt:  94%|█████████▍| 939/1000 [27:45<01:10,  1.15s/it]"
     ]
    },
    {
     "name": "stdout",
     "output_type": "stream",
     "text": [
      "\n",
      " 94%|█████████▍| 939/1000 [27:45<01:10,  1.15s/it, best loss: 0.2197485425425898]\u001b[A\n",
      "\u001b[AParameters with this training score 0.7387199272780485 :\n",
      "\n",
      " 94%|█████████▍| 939/1000 [27:48<01:10,  1.15s/it, best loss: 0.2197485425425898]\u001b[A\n",
      "\u001b[A{'bootstrap': False, 'class_weight': 'balanced', 'criterion': 'gini', 'max_depth': 18, 'max_features': 3, 'max_leaf_nodes': 12, 'min_samples_leaf': 18, 'min_samples_split': 90, 'n_estimators': 850}\n",
      "\n",
      " 94%|█████████▍| 939/1000 [27:48<01:10,  1.15s/it, best loss: 0.2197485425425898]\u001b[A"
     ]
    },
    {
     "name": "stderr",
     "output_type": "stream",
     "text": [
      "Hyperopt:  94%|█████████▍| 940/1000 [27:48<01:44,  1.74s/it]"
     ]
    },
    {
     "name": "stdout",
     "output_type": "stream",
     "text": [
      "\n",
      " 94%|█████████▍| 940/1000 [27:48<01:44,  1.74s/it, best loss: 0.2197485425425898]\u001b[A\n",
      "\u001b[AParameters with this training score 0.7631534419932596 :\n",
      "\n",
      " 94%|█████████▍| 940/1000 [27:50<01:44,  1.74s/it, best loss: 0.2197485425425898]\u001b[A\n",
      "\u001b[A{'bootstrap': False, 'class_weight': 'balanced', 'criterion': 'gini', 'max_depth': 30, 'max_features': 1, 'max_leaf_nodes': 28, 'min_samples_leaf': 27, 'min_samples_split': 30, 'n_estimators': 530}\n",
      "\n",
      " 94%|█████████▍| 940/1000 [27:50<01:44,  1.74s/it, best loss: 0.2197485425425898]\u001b[A"
     ]
    },
    {
     "name": "stderr",
     "output_type": "stream",
     "text": [
      "Hyperopt:  94%|█████████▍| 941/1000 [27:50<01:49,  1.85s/it]"
     ]
    },
    {
     "name": "stdout",
     "output_type": "stream",
     "text": [
      "\n",
      " 94%|█████████▍| 941/1000 [27:50<01:49,  1.85s/it, best loss: 0.2197485425425898]\u001b[A\n",
      "\u001b[AParameters with this training score 0.7723567611388773 :\n",
      "\n",
      " 94%|█████████▍| 941/1000 [27:51<01:49,  1.85s/it, best loss: 0.2197485425425898]\u001b[A\n",
      "\u001b[A{'bootstrap': False, 'class_weight': 'balanced', 'criterion': 'entropy', 'max_depth': 41, 'max_features': 3, 'max_leaf_nodes': 28, 'min_samples_leaf': 13, 'min_samples_split': 90, 'n_estimators': 360}\n",
      "\n",
      " 94%|█████████▍| 941/1000 [27:52<01:49,  1.85s/it, best loss: 0.2197485425425898]\u001b[A"
     ]
    },
    {
     "name": "stderr",
     "output_type": "stream",
     "text": [
      "Hyperopt:  94%|█████████▍| 942/1000 [27:52<01:38,  1.70s/it]"
     ]
    },
    {
     "name": "stdout",
     "output_type": "stream",
     "text": [
      "\n",
      " 94%|█████████▍| 942/1000 [27:52<01:38,  1.71s/it, best loss: 0.2197485425425898]\u001b[A\n",
      "\u001b[AParameters with this training score 0.7679725369396969 :\n",
      "\n",
      " 94%|█████████▍| 942/1000 [27:54<01:38,  1.71s/it, best loss: 0.2197485425425898]\u001b[A\n",
      "\u001b[A{'bootstrap': False, 'class_weight': 'balanced', 'criterion': 'gini', 'max_depth': 41, 'max_features': 3, 'max_leaf_nodes': 28, 'min_samples_leaf': 2, 'min_samples_split': 90, 'n_estimators': 740}\n",
      "\n",
      " 94%|█████████▍| 942/1000 [27:54<01:38,  1.71s/it, best loss: 0.2197485425425898]\u001b[A"
     ]
    },
    {
     "name": "stderr",
     "output_type": "stream",
     "text": [
      "Hyperopt:  94%|█████████▍| 943/1000 [27:54<01:53,  1.99s/it]"
     ]
    },
    {
     "name": "stdout",
     "output_type": "stream",
     "text": [
      "\n",
      " 94%|█████████▍| 943/1000 [27:54<01:53,  1.99s/it, best loss: 0.2197485425425898]\u001b[A\n",
      "\u001b[AParameters with this training score 0.7738440245888651 :\n",
      "\n",
      " 94%|█████████▍| 943/1000 [27:57<01:53,  1.99s/it, best loss: 0.2197485425425898]\u001b[A\n",
      "\u001b[A{'bootstrap': True, 'class_weight': 'balanced', 'criterion': 'gini', 'max_depth': 32, 'max_features': 3, 'max_leaf_nodes': 24, 'min_samples_leaf': 21, 'min_samples_split': 70, 'n_estimators': 670}\n",
      "\n",
      " 94%|█████████▍| 943/1000 [27:57<01:53,  1.99s/it, best loss: 0.2197485425425898]\u001b[A"
     ]
    },
    {
     "name": "stderr",
     "output_type": "stream",
     "text": [
      "Hyperopt:  94%|█████████▍| 944/1000 [27:57<02:02,  2.18s/it]"
     ]
    },
    {
     "name": "stdout",
     "output_type": "stream",
     "text": [
      "\n",
      " 94%|█████████▍| 944/1000 [27:57<02:02,  2.18s/it, best loss: 0.2197485425425898]\u001b[A\n",
      "\u001b[AParameters with this training score 0.7752363022574974 :\n",
      "\n",
      " 94%|█████████▍| 944/1000 [27:59<02:02,  2.18s/it, best loss: 0.2197485425425898]\u001b[A\n",
      "\u001b[A{'bootstrap': False, 'class_weight': 'balanced', 'criterion': 'gini', 'max_depth': 22, 'max_features': 4, 'max_leaf_nodes': 22, 'min_samples_leaf': 27, 'min_samples_split': 40, 'n_estimators': 680}\n",
      "\n",
      " 94%|█████████▍| 944/1000 [27:59<02:02,  2.18s/it, best loss: 0.2197485425425898]\u001b[A"
     ]
    },
    {
     "name": "stderr",
     "output_type": "stream",
     "text": [
      "Hyperopt:  94%|█████████▍| 945/1000 [27:59<02:01,  2.21s/it]"
     ]
    },
    {
     "name": "stdout",
     "output_type": "stream",
     "text": [
      "\n",
      " 94%|█████████▍| 945/1000 [27:59<02:01,  2.21s/it, best loss: 0.2197485425425898]\u001b[A\n",
      "\u001b[AParameters with this training score 0.7772161425820424 :\n",
      "\n",
      " 94%|█████████▍| 945/1000 [28:01<02:01,  2.21s/it, best loss: 0.2197485425425898]\u001b[A\n",
      "\u001b[A{'bootstrap': False, 'class_weight': 'balanced', 'criterion': 'gini', 'max_depth': 43, 'max_features': 3, 'max_leaf_nodes': 28, 'min_samples_leaf': 19, 'min_samples_split': 90, 'n_estimators': 360}\n",
      "\n",
      " 94%|█████████▍| 945/1000 [28:01<02:01,  2.21s/it, best loss: 0.2197485425425898]\u001b[A"
     ]
    },
    {
     "name": "stderr",
     "output_type": "stream",
     "text": [
      "Hyperopt:  95%|█████████▍| 946/1000 [28:01<01:47,  2.00s/it]"
     ]
    },
    {
     "name": "stdout",
     "output_type": "stream",
     "text": [
      "\n",
      " 95%|█████████▍| 946/1000 [28:01<01:47,  1.99s/it, best loss: 0.2197485425425898]\u001b[A\n",
      "\u001b[AParameters with this training score 0.7487755998966342 :\n",
      "\n",
      " 95%|█████████▍| 946/1000 [28:01<01:47,  1.99s/it, best loss: 0.2197485425425898]\u001b[A\n",
      "\u001b[A{'bootstrap': False, 'class_weight': 'balanced', 'criterion': 'gini', 'max_depth': 26, 'max_features': 3, 'max_leaf_nodes': 20, 'min_samples_leaf': 12, 'min_samples_split': 10, 'n_estimators': 30}\n",
      "\n",
      " 95%|█████████▍| 946/1000 [28:01<01:47,  1.99s/it, best loss: 0.2197485425425898]\u001b[A"
     ]
    },
    {
     "name": "stderr",
     "output_type": "stream",
     "text": [
      "Hyperopt:  95%|█████████▍| 947/1000 [28:01<01:21,  1.53s/it]"
     ]
    },
    {
     "name": "stdout",
     "output_type": "stream",
     "text": [
      "\n",
      " 95%|█████████▍| 947/1000 [28:01<01:21,  1.53s/it, best loss: 0.2197485425425898]\u001b[A\n",
      "\u001b[AParameters with this training score 0.7587111805002068 :\n",
      "\n",
      " 95%|█████████▍| 947/1000 [28:04<01:21,  1.53s/it, best loss: 0.2197485425425898]\u001b[A\n",
      "\u001b[A{'bootstrap': False, 'class_weight': 'balanced', 'criterion': 'gini', 'max_depth': 5, 'max_features': 3, 'max_leaf_nodes': 28, 'min_samples_leaf': 6, 'min_samples_split': 90, 'n_estimators': 790}\n",
      "\n",
      " 95%|█████████▍| 947/1000 [28:04<01:21,  1.53s/it, best loss: 0.2197485425425898]\u001b[A"
     ]
    },
    {
     "name": "stderr",
     "output_type": "stream",
     "text": [
      "Hyperopt:  95%|█████████▍| 948/1000 [28:04<01:37,  1.87s/it]"
     ]
    },
    {
     "name": "stdout",
     "output_type": "stream",
     "text": [
      "\n",
      " 95%|█████████▍| 948/1000 [28:04<01:37,  1.87s/it, best loss: 0.2197485425425898]\u001b[A\n",
      "\u001b[AParameters with this training score 0.5002493498315296 :\n",
      "\n",
      " 95%|█████████▍| 948/1000 [28:05<01:37,  1.87s/it, best loss: 0.2197485425425898]\u001b[A\n",
      "\u001b[A{'bootstrap': False, 'class_weight': None, 'criterion': 'gini', 'max_depth': 3, 'max_features': 3, 'max_leaf_nodes': 16, 'min_samples_leaf': 27, 'min_samples_split': 60, 'n_estimators': 280}\n",
      "\n",
      " 95%|█████████▍| 948/1000 [28:05<01:37,  1.87s/it, best loss: 0.2197485425425898]\u001b[A"
     ]
    },
    {
     "name": "stderr",
     "output_type": "stream",
     "text": [
      "Hyperopt:  95%|█████████▍| 949/1000 [28:05<01:24,  1.66s/it]"
     ]
    },
    {
     "name": "stdout",
     "output_type": "stream",
     "text": [
      "\n",
      " 95%|█████████▍| 949/1000 [28:05<01:24,  1.66s/it, best loss: 0.2197485425425898]\u001b[A\n",
      "\u001b[AParameters with this training score 0.7687125843251008 :\n",
      "\n",
      " 95%|█████████▍| 949/1000 [28:05<01:24,  1.66s/it, best loss: 0.2197485425425898]\u001b[A\n",
      "\u001b[A{'bootstrap': False, 'class_weight': 'balanced', 'criterion': 'gini', 'max_depth': 21, 'max_features': 2, 'max_leaf_nodes': 28, 'min_samples_leaf': 14, 'min_samples_split': 90, 'n_estimators': 100}\n",
      "\n",
      " 95%|█████████▍| 949/1000 [28:05<01:24,  1.66s/it, best loss: 0.2197485425425898]\u001b[A"
     ]
    },
    {
     "name": "stderr",
     "output_type": "stream",
     "text": [
      "Hyperopt:  95%|█████████▌| 950/1000 [28:06<01:06,  1.34s/it]"
     ]
    },
    {
     "name": "stdout",
     "output_type": "stream",
     "text": [
      "\n",
      " 95%|█████████▌| 950/1000 [28:05<01:06,  1.34s/it, best loss: 0.2197485425425898]\u001b[A\n",
      "\u001b[AParameters with this training score 0.6775498722381547 :\n",
      "\n",
      " 95%|█████████▌| 950/1000 [28:06<01:06,  1.34s/it, best loss: 0.2197485425425898]\u001b[A\n",
      "\u001b[A{'bootstrap': False, 'class_weight': 'balanced', 'criterion': 'entropy', 'max_depth': 4, 'max_features': 3, 'max_leaf_nodes': 10, 'min_samples_leaf': 20, 'min_samples_split': 20, 'n_estimators': 70}\n",
      "\n",
      " 95%|█████████▌| 950/1000 [28:06<01:06,  1.34s/it, best loss: 0.2197485425425898]\u001b[A"
     ]
    },
    {
     "name": "stderr",
     "output_type": "stream",
     "text": [
      "Hyperopt:  95%|█████████▌| 951/1000 [28:06<00:54,  1.11s/it]"
     ]
    },
    {
     "name": "stdout",
     "output_type": "stream",
     "text": [
      "\n",
      " 95%|█████████▌| 951/1000 [28:06<00:54,  1.11s/it, best loss: 0.2197485425425898]\u001b[A\n",
      "\u001b[AParameters with this training score 0.7732948218154914 :\n",
      "\n",
      " 95%|█████████▌| 951/1000 [28:09<00:54,  1.11s/it, best loss: 0.2197485425425898]\u001b[A\n",
      "\u001b[A{'bootstrap': False, 'class_weight': 'balanced', 'criterion': 'gini', 'max_depth': 45, 'max_features': 3, 'max_leaf_nodes': 28, 'min_samples_leaf': 15, 'min_samples_split': 50, 'n_estimators': 820}\n",
      "\n",
      " 95%|█████████▌| 951/1000 [28:09<00:54,  1.11s/it, best loss: 0.2197485425425898]\u001b[A"
     ]
    },
    {
     "name": "stderr",
     "output_type": "stream",
     "text": [
      "Hyperopt:  95%|█████████▌| 952/1000 [28:09<01:18,  1.63s/it]"
     ]
    },
    {
     "name": "stdout",
     "output_type": "stream",
     "text": [
      "\n",
      " 95%|█████████▌| 952/1000 [28:09<01:18,  1.63s/it, best loss: 0.2197485425425898]\u001b[A\n",
      "\u001b[AParameters with this training score 0.7626127648945867 :\n",
      "\n",
      " 95%|█████████▌| 952/1000 [28:12<01:18,  1.63s/it, best loss: 0.2197485425425898]\u001b[A\n",
      "\u001b[A{'bootstrap': False, 'class_weight': 'balanced', 'criterion': 'gini', 'max_depth': 28, 'max_features': 1, 'max_leaf_nodes': 28, 'min_samples_leaf': 9, 'min_samples_split': 90, 'n_estimators': 990}\n",
      "\n",
      " 95%|█████████▌| 952/1000 [28:12<01:18,  1.63s/it, best loss: 0.2197485425425898]\u001b[A"
     ]
    },
    {
     "name": "stderr",
     "output_type": "stream",
     "text": [
      "Hyperopt:  95%|█████████▌| 953/1000 [28:12<01:40,  2.13s/it]"
     ]
    },
    {
     "name": "stdout",
     "output_type": "stream",
     "text": [
      "\n",
      " 95%|█████████▌| 953/1000 [28:12<01:40,  2.13s/it, best loss: 0.2197485425425898]\u001b[A\n",
      "\u001b[AParameters with this training score 0.7724008015636249 :\n",
      "\n",
      " 95%|█████████▌| 953/1000 [28:14<01:40,  2.13s/it, best loss: 0.2197485425425898]\u001b[A\n",
      "\u001b[A{'bootstrap': True, 'class_weight': 'balanced', 'criterion': 'gini', 'max_depth': 41, 'max_features': 3, 'max_leaf_nodes': 28, 'min_samples_leaf': 27, 'min_samples_split': 90, 'n_estimators': 520}\n",
      "\n",
      " 95%|█████████▌| 953/1000 [28:14<01:40,  2.13s/it, best loss: 0.2197485425425898]\u001b[A"
     ]
    },
    {
     "name": "stderr",
     "output_type": "stream",
     "text": [
      "Hyperopt:  95%|█████████▌| 954/1000 [28:14<01:37,  2.11s/it]"
     ]
    },
    {
     "name": "stdout",
     "output_type": "stream",
     "text": [
      "\n",
      " 95%|█████████▌| 954/1000 [28:14<01:37,  2.11s/it, best loss: 0.2197485425425898]\u001b[A\n",
      "\u001b[AParameters with this training score 0.7525975150596487 :\n",
      "\n",
      " 95%|█████████▌| 954/1000 [28:15<01:37,  2.11s/it, best loss: 0.2197485425425898]\u001b[A\n",
      "\u001b[A{'bootstrap': False, 'class_weight': 'balanced', 'criterion': 'gini', 'max_depth': 41, 'max_features': 3, 'max_leaf_nodes': 18, 'min_samples_leaf': 1, 'min_samples_split': 90, 'n_estimators': 310}\n",
      "\n",
      " 95%|█████████▌| 954/1000 [28:15<01:37,  2.11s/it, best loss: 0.2197485425425898]\u001b[A"
     ]
    },
    {
     "name": "stderr",
     "output_type": "stream",
     "text": [
      "Hyperopt:  96%|█████████▌| 955/1000 [28:16<01:23,  1.85s/it]"
     ]
    },
    {
     "name": "stdout",
     "output_type": "stream",
     "text": [
      "\n",
      " 96%|█████████▌| 955/1000 [28:15<01:23,  1.85s/it, best loss: 0.2197485425425898]\u001b[A\n",
      "\u001b[AParameters with this training score 0.7394677089201459 :\n",
      "\n",
      " 96%|█████████▌| 955/1000 [28:17<01:23,  1.85s/it, best loss: 0.2197485425425898]\u001b[A\n",
      "\u001b[A{'bootstrap': False, 'class_weight': 'balanced', 'criterion': 'gini', 'max_depth': 49, 'max_features': 3, 'max_leaf_nodes': 14, 'min_samples_leaf': 7, 'min_samples_split': 90, 'n_estimators': 450}\n",
      "\n",
      " 96%|█████████▌| 955/1000 [28:17<01:23,  1.85s/it, best loss: 0.2197485425425898]\u001b[A"
     ]
    },
    {
     "name": "stderr",
     "output_type": "stream",
     "text": [
      "Hyperopt:  96%|█████████▌| 956/1000 [28:17<01:19,  1.82s/it]"
     ]
    },
    {
     "name": "stdout",
     "output_type": "stream",
     "text": [
      "\n",
      " 96%|█████████▌| 956/1000 [28:17<01:19,  1.82s/it, best loss: 0.2197485425425898]\u001b[A\n",
      "\u001b[AParameters with this training score 0.7293928630742081 :\n",
      "\n",
      " 96%|█████████▌| 956/1000 [28:18<01:19,  1.82s/it, best loss: 0.2197485425425898]\u001b[A\n",
      "\u001b[A{'bootstrap': False, 'class_weight': 'balanced', 'criterion': 'gini', 'max_depth': 9, 'max_features': 4, 'max_leaf_nodes': 12, 'min_samples_leaf': 3, 'min_samples_split': 30, 'n_estimators': 250}\n",
      "\n",
      " 96%|█████████▌| 956/1000 [28:18<01:19,  1.82s/it, best loss: 0.2197485425425898]\u001b[A"
     ]
    },
    {
     "name": "stderr",
     "output_type": "stream",
     "text": [
      "Hyperopt:  96%|█████████▌| 957/1000 [28:18<01:07,  1.57s/it]"
     ]
    },
    {
     "name": "stdout",
     "output_type": "stream",
     "text": [
      "\n",
      " 96%|█████████▌| 957/1000 [28:18<01:07,  1.57s/it, best loss: 0.2197485425425898]\u001b[A\n",
      "\u001b[AParameters with this training score 0.7776553088039699 :\n",
      "\n",
      " 96%|█████████▌| 957/1000 [28:21<01:07,  1.57s/it, best loss: 0.2197485425425898]\u001b[A\n",
      "\u001b[A{'bootstrap': False, 'class_weight': 'balanced', 'criterion': 'gini', 'max_depth': 35, 'max_features': 3, 'max_leaf_nodes': 28, 'min_samples_leaf': 27, 'min_samples_split': 90, 'n_estimators': 980}\n",
      "\n",
      " 96%|█████████▌| 957/1000 [28:21<01:07,  1.57s/it, best loss: 0.2197485425425898]\u001b[A"
     ]
    },
    {
     "name": "stderr",
     "output_type": "stream",
     "text": [
      "Hyperopt:  96%|█████████▌| 958/1000 [28:21<01:26,  2.05s/it]"
     ]
    },
    {
     "name": "stdout",
     "output_type": "stream",
     "text": [
      "\n",
      " 96%|█████████▌| 958/1000 [28:21<01:26,  2.05s/it, best loss: 0.2197485425425898]\u001b[A\n",
      "\u001b[AParameters with this training score 0.5943842283443641 :\n",
      "\n",
      " 96%|█████████▌| 958/1000 [28:22<01:26,  2.05s/it, best loss: 0.2197485425425898]\u001b[A\n",
      "\u001b[A{'bootstrap': False, 'class_weight': None, 'criterion': 'gini', 'max_depth': 24, 'max_features': 3, 'max_leaf_nodes': 28, 'min_samples_leaf': 16, 'min_samples_split': 40, 'n_estimators': 50}\n",
      "\n",
      " 96%|█████████▌| 958/1000 [28:22<01:26,  2.05s/it, best loss: 0.2197485425425898]\u001b[A"
     ]
    },
    {
     "name": "stderr",
     "output_type": "stream",
     "text": [
      "Hyperopt:  96%|█████████▌| 959/1000 [28:22<01:04,  1.57s/it]"
     ]
    },
    {
     "name": "stdout",
     "output_type": "stream",
     "text": [
      "\n",
      " 96%|█████████▌| 959/1000 [28:22<01:04,  1.57s/it, best loss: 0.2197485425425898]\u001b[A\n",
      "\u001b[AParameters with this training score 0.7762268793473706 :\n",
      "\n",
      " 96%|█████████▌| 959/1000 [28:24<01:04,  1.57s/it, best loss: 0.2197485425425898]\u001b[A\n",
      "\u001b[A{'bootstrap': False, 'class_weight': 'balanced', 'criterion': 'gini', 'max_depth': 41, 'max_features': 3, 'max_leaf_nodes': 24, 'min_samples_leaf': 27, 'min_samples_split': 90, 'n_estimators': 500}\n",
      "\n",
      " 96%|█████████▌| 959/1000 [28:24<01:04,  1.57s/it, best loss: 0.2197485425425898]\u001b[A"
     ]
    },
    {
     "name": "stderr",
     "output_type": "stream",
     "text": [
      "Hyperopt:  96%|█████████▌| 960/1000 [28:24<01:06,  1.65s/it]"
     ]
    },
    {
     "name": "stdout",
     "output_type": "stream",
     "text": [
      "\n",
      " 96%|█████████▌| 960/1000 [28:24<01:06,  1.65s/it, best loss: 0.2197485425425898]\u001b[A\n",
      "\u001b[AParameters with this training score 0.7701038037395247 :\n",
      "\n",
      " 96%|█████████▌| 960/1000 [28:27<01:06,  1.65s/it, best loss: 0.2197485425425898]\u001b[A\n",
      "\u001b[A{'bootstrap': False, 'class_weight': 'balanced', 'criterion': 'entropy', 'max_depth': 14, 'max_features': 3, 'max_leaf_nodes': 28, 'min_samples_leaf': 11, 'min_samples_split': 90, 'n_estimators': 890}\n",
      "\n",
      " 96%|█████████▌| 960/1000 [28:27<01:06,  1.65s/it, best loss: 0.2197485425425898]\u001b[A"
     ]
    },
    {
     "name": "stderr",
     "output_type": "stream",
     "text": [
      "Hyperopt:  96%|█████████▌| 961/1000 [28:27<01:20,  2.05s/it]"
     ]
    },
    {
     "name": "stdout",
     "output_type": "stream",
     "text": [
      "\n",
      " 96%|█████████▌| 961/1000 [28:27<01:20,  2.06s/it, best loss: 0.2197485425425898]\u001b[A\n",
      "\u001b[AParameters with this training score 0.7728909609078012 :\n",
      "\n",
      " 96%|█████████▌| 961/1000 [28:28<01:20,  2.06s/it, best loss: 0.2197485425425898]\u001b[A\n",
      "\u001b[A{'bootstrap': False, 'class_weight': 'balanced', 'criterion': 'gini', 'max_depth': 33, 'max_features': 3, 'max_leaf_nodes': 22, 'min_samples_leaf': 17, 'min_samples_split': 70, 'n_estimators': 360}\n",
      "\n",
      " 96%|█████████▌| 961/1000 [28:28<01:20,  2.06s/it, best loss: 0.2197485425425898]\u001b[A"
     ]
    },
    {
     "name": "stderr",
     "output_type": "stream",
     "text": [
      "Hyperopt:  96%|█████████▌| 962/1000 [28:28<01:10,  1.86s/it]"
     ]
    },
    {
     "name": "stdout",
     "output_type": "stream",
     "text": [
      "\n",
      " 96%|█████████▌| 962/1000 [28:28<01:10,  1.86s/it, best loss: 0.2197485425425898]\u001b[A\n",
      "\u001b[AParameters with this training score 0.7703805995368753 :\n",
      "\n",
      " 96%|█████████▌| 962/1000 [28:31<01:10,  1.86s/it, best loss: 0.2197485425425898]\u001b[A\n",
      "\u001b[A{'bootstrap': False, 'class_weight': 'balanced', 'criterion': 'gini', 'max_depth': 47, 'max_features': 2, 'max_leaf_nodes': 28, 'min_samples_leaf': 23, 'min_samples_split': 10, 'n_estimators': 780}\n",
      "\n",
      " 96%|█████████▌| 962/1000 [28:31<01:10,  1.86s/it, best loss: 0.2197485425425898]\u001b[A"
     ]
    },
    {
     "name": "stderr",
     "output_type": "stream",
     "text": [
      "Hyperopt:  96%|█████████▋| 963/1000 [28:31<01:17,  2.10s/it]"
     ]
    },
    {
     "name": "stdout",
     "output_type": "stream",
     "text": [
      "\n",
      " 96%|█████████▋| 963/1000 [28:31<01:17,  2.10s/it, best loss: 0.2197485425425898]\u001b[A\n",
      "\u001b[AParameters with this training score 0.7721081174129923 :\n",
      "\n",
      " 96%|█████████▋| 963/1000 [28:34<01:17,  2.10s/it, best loss: 0.2197485425425898]\u001b[A\n",
      "\u001b[A{'bootstrap': True, 'class_weight': 'balanced', 'criterion': 'gini', 'max_depth': 12, 'max_features': 3, 'max_leaf_nodes': 28, 'min_samples_leaf': 27, 'min_samples_split': 90, 'n_estimators': 860}\n",
      "\n",
      " 96%|█████████▋| 963/1000 [28:34<01:17,  2.10s/it, best loss: 0.2197485425425898]\u001b[A"
     ]
    },
    {
     "name": "stderr",
     "output_type": "stream",
     "text": [
      "Hyperopt:  96%|█████████▋| 964/1000 [28:34<01:28,  2.45s/it]"
     ]
    },
    {
     "name": "stdout",
     "output_type": "stream",
     "text": [
      "\n",
      " 96%|█████████▋| 964/1000 [28:34<01:28,  2.45s/it, best loss: 0.2197485425425898]\u001b[A\n",
      "\u001b[AParameters with this training score 0.7368608910038544 :\n",
      "\n",
      " 96%|█████████▋| 964/1000 [28:35<01:28,  2.45s/it, best loss: 0.2197485425425898]\u001b[A\n",
      "\u001b[A{'bootstrap': False, 'class_weight': 'balanced', 'criterion': 'gini', 'max_depth': 38, 'max_features': 1, 'max_leaf_nodes': 20, 'min_samples_leaf': 4, 'min_samples_split': 90, 'n_estimators': 260}\n",
      "\n",
      " 96%|█████████▋| 964/1000 [28:35<01:28,  2.45s/it, best loss: 0.2197485425425898]\u001b[A"
     ]
    },
    {
     "name": "stderr",
     "output_type": "stream",
     "text": [
      "Hyperopt:  96%|█████████▋| 965/1000 [28:35<01:11,  2.05s/it]"
     ]
    },
    {
     "name": "stdout",
     "output_type": "stream",
     "text": [
      "\n",
      " 96%|█████████▋| 965/1000 [28:35<01:11,  2.05s/it, best loss: 0.2197485425425898]\u001b[A\n",
      "\u001b[AParameters with this training score 0.747467894323492 :\n",
      "\n",
      " 96%|█████████▋| 965/1000 [28:36<01:11,  2.05s/it, best loss: 0.2197485425425898]\u001b[A\n",
      "\u001b[A{'bootstrap': False, 'class_weight': 'balanced', 'criterion': 'gini', 'max_depth': 25, 'max_features': 3, 'max_leaf_nodes': 16, 'min_samples_leaf': 8, 'min_samples_split': 20, 'n_estimators': 320}\n",
      "\n",
      " 96%|█████████▋| 965/1000 [28:36<01:11,  2.05s/it, best loss: 0.2197485425425898]\u001b[A"
     ]
    },
    {
     "name": "stderr",
     "output_type": "stream",
     "text": [
      "Hyperopt:  97%|█████████▋| 966/1000 [28:36<01:01,  1.81s/it]"
     ]
    },
    {
     "name": "stdout",
     "output_type": "stream",
     "text": [
      "\n",
      " 97%|█████████▋| 966/1000 [28:36<01:01,  1.81s/it, best loss: 0.2197485425425898]\u001b[A\n",
      "\u001b[AParameters with this training score 0.7739225059610103 :\n",
      "\n",
      " 97%|█████████▋| 966/1000 [28:37<01:01,  1.81s/it, best loss: 0.2197485425425898]\u001b[A\n",
      "\u001b[A{'bootstrap': False, 'class_weight': 'balanced', 'criterion': 'gini', 'max_depth': 41, 'max_features': 3, 'max_leaf_nodes': 28, 'min_samples_leaf': 22, 'min_samples_split': 50, 'n_estimators': 200}\n",
      "\n",
      " 97%|█████████▋| 966/1000 [28:37<01:01,  1.81s/it, best loss: 0.2197485425425898]\u001b[A"
     ]
    },
    {
     "name": "stderr",
     "output_type": "stream",
     "text": [
      "Hyperopt:  97%|█████████▋| 967/1000 [28:37<00:51,  1.56s/it]"
     ]
    },
    {
     "name": "stdout",
     "output_type": "stream",
     "text": [
      "\n",
      " 97%|█████████▋| 967/1000 [28:37<00:51,  1.56s/it, best loss: 0.2197485425425898]\u001b[A\n",
      "\u001b[AParameters with this training score 0.7786089648461962 :\n",
      "\n",
      " 97%|█████████▋| 967/1000 [28:40<00:51,  1.56s/it, best loss: 0.2197485425425898]\u001b[A\n",
      "\u001b[A{'bootstrap': False, 'class_weight': 'balanced', 'criterion': 'gini', 'max_depth': 27, 'max_features': 3, 'max_leaf_nodes': 28, 'min_samples_leaf': 25, 'min_samples_split': 90, 'n_estimators': 870}\n",
      "\n",
      " 97%|█████████▋| 967/1000 [28:40<00:51,  1.56s/it, best loss: 0.2197485425425898]\u001b[A"
     ]
    },
    {
     "name": "stderr",
     "output_type": "stream",
     "text": [
      "Hyperopt:  97%|█████████▋| 968/1000 [28:40<01:03,  2.00s/it]"
     ]
    },
    {
     "name": "stdout",
     "output_type": "stream",
     "text": [
      "\n",
      " 97%|█████████▋| 968/1000 [28:40<01:03,  2.00s/it, best loss: 0.2197485425425898]\u001b[A\n",
      "\u001b[AParameters with this training score 0.5159685001212914 :\n",
      "\n",
      " 97%|█████████▋| 968/1000 [28:43<01:03,  2.00s/it, best loss: 0.2197485425425898]\u001b[A\n",
      "\u001b[A{'bootstrap': False, 'class_weight': None, 'criterion': 'gini', 'max_depth': 42, 'max_features': 4, 'max_leaf_nodes': 10, 'min_samples_leaf': 27, 'min_samples_split': 60, 'n_estimators': 730}\n",
      "\n",
      " 97%|█████████▋| 968/1000 [28:43<01:03,  2.00s/it, best loss: 0.2197485425425898]\u001b[A"
     ]
    },
    {
     "name": "stderr",
     "output_type": "stream",
     "text": [
      "Hyperopt:  97%|█████████▋| 969/1000 [28:43<01:06,  2.15s/it]"
     ]
    },
    {
     "name": "stdout",
     "output_type": "stream",
     "text": [
      "\n",
      " 97%|█████████▋| 969/1000 [28:43<01:06,  2.15s/it, best loss: 0.2197485425425898]\u001b[A\n",
      "\u001b[AParameters with this training score 0.7664067208172026 :\n",
      "\n",
      " 97%|█████████▋| 969/1000 [28:46<01:06,  2.15s/it, best loss: 0.2197485425425898]\u001b[A\n",
      "\u001b[A{'bootstrap': False, 'class_weight': 'balanced', 'criterion': 'gini', 'max_depth': 15, 'max_features': 3, 'max_leaf_nodes': 18, 'min_samples_leaf': 27, 'min_samples_split': 90, 'n_estimators': 840}\n",
      "\n",
      " 97%|█████████▋| 969/1000 [28:46<01:06,  2.15s/it, best loss: 0.2197485425425898]\u001b[A"
     ]
    },
    {
     "name": "stderr",
     "output_type": "stream",
     "text": [
      "Hyperopt:  97%|█████████▋| 970/1000 [28:46<01:11,  2.37s/it]"
     ]
    },
    {
     "name": "stdout",
     "output_type": "stream",
     "text": [
      "\n",
      " 97%|█████████▋| 970/1000 [28:46<01:11,  2.37s/it, best loss: 0.2197485425425898]\u001b[A\n",
      "\u001b[AParameters with this training score 0.7711104753695606 :\n",
      "\n",
      " 97%|█████████▋| 970/1000 [28:46<01:11,  2.37s/it, best loss: 0.2197485425425898]\u001b[A\n",
      "\u001b[A{'bootstrap': False, 'class_weight': 'balanced', 'criterion': 'gini', 'max_depth': 48, 'max_features': 3, 'max_leaf_nodes': 28, 'min_samples_leaf': 10, 'min_samples_split': 90, 'n_estimators': 90}\n",
      "\n",
      " 97%|█████████▋| 970/1000 [28:46<01:11,  2.37s/it, best loss: 0.2197485425425898]\u001b[A"
     ]
    },
    {
     "name": "stderr",
     "output_type": "stream",
     "text": [
      "Hyperopt:  97%|█████████▋| 971/1000 [28:46<00:53,  1.83s/it]"
     ]
    },
    {
     "name": "stdout",
     "output_type": "stream",
     "text": [
      "\n",
      " 97%|█████████▋| 971/1000 [28:46<00:53,  1.83s/it, best loss: 0.2197485425425898]\u001b[A\n",
      "\u001b[AParameters with this training score 0.7778946235697577 :\n",
      "\n",
      " 97%|█████████▋| 971/1000 [28:48<00:53,  1.83s/it, best loss: 0.2197485425425898]\u001b[A\n",
      "\u001b[A{'bootstrap': False, 'class_weight': 'balanced', 'criterion': 'entropy', 'max_depth': 19, 'max_features': 3, 'max_leaf_nodes': 28, 'min_samples_leaf': 27, 'min_samples_split': 90, 'n_estimators': 360}\n",
      "\n",
      " 97%|█████████▋| 971/1000 [28:48<00:53,  1.83s/it, best loss: 0.2197485425425898]\u001b[A"
     ]
    },
    {
     "name": "stderr",
     "output_type": "stream",
     "text": [
      "Hyperopt:  97%|█████████▋| 972/1000 [28:48<00:48,  1.73s/it]"
     ]
    },
    {
     "name": "stdout",
     "output_type": "stream",
     "text": [
      "\n",
      " 97%|█████████▋| 972/1000 [28:48<00:48,  1.73s/it, best loss: 0.2197485425425898]\u001b[A\n",
      "\u001b[AParameters with this training score 0.5047662736301062 :\n",
      "\n",
      " 97%|█████████▋| 972/1000 [28:50<00:48,  1.73s/it, best loss: 0.2197485425425898]\u001b[A\n",
      "\u001b[A{'bootstrap': False, 'class_weight': 'balanced', 'criterion': 'gini', 'max_depth': 1, 'max_features': 3, 'max_leaf_nodes': 14, 'min_samples_leaf': 18, 'min_samples_split': 90, 'n_estimators': 440}\n",
      "\n",
      " 97%|█████████▋| 972/1000 [28:50<00:48,  1.73s/it, best loss: 0.2197485425425898]\u001b[A"
     ]
    },
    {
     "name": "stderr",
     "output_type": "stream",
     "text": [
      "Hyperopt:  97%|█████████▋| 973/1000 [28:50<00:47,  1.74s/it]"
     ]
    },
    {
     "name": "stdout",
     "output_type": "stream",
     "text": [
      "\n",
      " 97%|█████████▋| 973/1000 [28:50<00:47,  1.74s/it, best loss: 0.2197485425425898]\u001b[A\n",
      "\u001b[AParameters with this training score 0.7143049304750495 :\n",
      "\n",
      " 97%|█████████▋| 973/1000 [28:51<00:47,  1.74s/it, best loss: 0.2197485425425898]\u001b[A\n",
      "\u001b[A{'bootstrap': True, 'class_weight': 'balanced', 'criterion': 'gini', 'max_depth': 40, 'max_features': 3, 'max_leaf_nodes': 12, 'min_samples_leaf': 29, 'min_samples_split': 30, 'n_estimators': 270}\n",
      "\n",
      " 97%|█████████▋| 973/1000 [28:51<00:47,  1.74s/it, best loss: 0.2197485425425898]\u001b[A"
     ]
    },
    {
     "name": "stderr",
     "output_type": "stream",
     "text": [
      "Hyperopt:  97%|█████████▋| 974/1000 [28:51<00:41,  1.61s/it]"
     ]
    },
    {
     "name": "stdout",
     "output_type": "stream",
     "text": [
      "\n",
      " 97%|█████████▋| 974/1000 [28:51<00:41,  1.61s/it, best loss: 0.2197485425425898]\u001b[A\n",
      "\u001b[AParameters with this training score 0.7684308741563394 :\n",
      "\n",
      " 97%|█████████▋| 974/1000 [28:54<00:41,  1.61s/it, best loss: 0.2197485425425898]\u001b[A\n",
      "\u001b[A{'bootstrap': False, 'class_weight': 'balanced', 'criterion': 'gini', 'max_depth': 7, 'max_features': 2, 'max_leaf_nodes': 28, 'min_samples_leaf': 21, 'min_samples_split': 40, 'n_estimators': 750}\n",
      "\n",
      " 97%|█████████▋| 974/1000 [28:54<00:41,  1.61s/it, best loss: 0.2197485425425898]\u001b[A"
     ]
    },
    {
     "name": "stderr",
     "output_type": "stream",
     "text": [
      "Hyperopt:  98%|█████████▊| 975/1000 [28:54<00:48,  1.92s/it]"
     ]
    },
    {
     "name": "stdout",
     "output_type": "stream",
     "text": [
      "\n",
      " 98%|█████████▊| 975/1000 [28:54<00:48,  1.92s/it, best loss: 0.2197485425425898]\u001b[A\n",
      "\u001b[AParameters with this training score 0.7693138222302929 :\n",
      "\n",
      " 98%|█████████▊| 975/1000 [28:56<00:48,  1.92s/it, best loss: 0.2197485425425898]\u001b[A\n",
      "\u001b[A{'bootstrap': False, 'class_weight': 'balanced', 'criterion': 'gini', 'max_depth': 36, 'max_features': 3, 'max_leaf_nodes': 28, 'min_samples_leaf': 5, 'min_samples_split': 90, 'n_estimators': 600}\n",
      "\n",
      " 98%|█████████▊| 975/1000 [28:56<00:48,  1.92s/it, best loss: 0.2197485425425898]\u001b[A"
     ]
    },
    {
     "name": "stderr",
     "output_type": "stream",
     "text": [
      "Hyperopt:  98%|█████████▊| 976/1000 [28:56<00:48,  2.04s/it]"
     ]
    },
    {
     "name": "stdout",
     "output_type": "stream",
     "text": [
      "\n",
      " 98%|█████████▊| 976/1000 [28:56<00:48,  2.04s/it, best loss: 0.2197485425425898]\u001b[A\n",
      "\u001b[AParameters with this training score 0.7607296955812103 :\n",
      "\n",
      " 98%|█████████▊| 976/1000 [28:59<00:48,  2.04s/it, best loss: 0.2197485425425898]\u001b[A\n",
      "\u001b[A{'bootstrap': False, 'class_weight': 'balanced', 'criterion': 'gini', 'max_depth': 41, 'max_features': 1, 'max_leaf_nodes': 24, 'min_samples_leaf': 28, 'min_samples_split': 70, 'n_estimators': 800}\n",
      "\n",
      " 98%|█████████▊| 976/1000 [28:59<00:48,  2.04s/it, best loss: 0.2197485425425898]\u001b[A"
     ]
    },
    {
     "name": "stderr",
     "output_type": "stream",
     "text": [
      "Hyperopt:  98%|█████████▊| 977/1000 [28:59<00:53,  2.32s/it]"
     ]
    },
    {
     "name": "stdout",
     "output_type": "stream",
     "text": [
      "\n",
      " 98%|█████████▊| 977/1000 [28:59<00:53,  2.32s/it, best loss: 0.2197485425425898]\u001b[A\n",
      "\u001b[AParameters with this training score 0.7684386987348261 :\n",
      "\n",
      " 98%|█████████▊| 977/1000 [28:59<00:53,  2.32s/it, best loss: 0.2197485425425898]\u001b[A\n",
      "\u001b[A{'bootstrap': False, 'class_weight': 'balanced', 'criterion': 'gini', 'max_depth': 31, 'max_features': 3, 'max_leaf_nodes': 28, 'min_samples_leaf': 13, 'min_samples_split': 90, 'n_estimators': 40}\n",
      "\n",
      " 98%|█████████▊| 977/1000 [28:59<00:53,  2.32s/it, best loss: 0.2197485425425898]\u001b[A"
     ]
    },
    {
     "name": "stderr",
     "output_type": "stream",
     "text": [
      "Hyperopt:  98%|█████████▊| 978/1000 [28:59<00:38,  1.76s/it]"
     ]
    },
    {
     "name": "stdout",
     "output_type": "stream",
     "text": [
      "\n",
      " 98%|█████████▊| 978/1000 [28:59<00:38,  1.76s/it, best loss: 0.2197485425425898]\u001b[A\n",
      "\u001b[AParameters with this training score 0.5001459854014598 :\n",
      "\n",
      " 98%|█████████▊| 978/1000 [29:02<00:38,  1.76s/it, best loss: 0.2197485425425898]\u001b[A\n",
      "\u001b[A{'bootstrap': False, 'class_weight': None, 'criterion': 'gini', 'max_depth': 2, 'max_features': 3, 'max_leaf_nodes': 28, 'min_samples_leaf': 2, 'min_samples_split': 90, 'n_estimators': 770}\n",
      "\n",
      " 98%|█████████▊| 978/1000 [29:02<00:38,  1.76s/it, best loss: 0.2197485425425898]\u001b[A"
     ]
    },
    {
     "name": "stderr",
     "output_type": "stream",
     "text": [
      "Hyperopt:  98%|█████████▊| 979/1000 [29:02<00:42,  2.02s/it]"
     ]
    },
    {
     "name": "stdout",
     "output_type": "stream",
     "text": [
      "\n",
      " 98%|█████████▊| 979/1000 [29:02<00:42,  2.02s/it, best loss: 0.2197485425425898]\u001b[A\n",
      "\u001b[AParameters with this training score 0.7712310501544396 :\n",
      "\n",
      " 98%|█████████▊| 979/1000 [29:04<00:42,  2.02s/it, best loss: 0.2197485425425898]\u001b[A\n",
      "\u001b[A{'bootstrap': False, 'class_weight': 'balanced', 'criterion': 'gini', 'max_depth': 13, 'max_features': 3, 'max_leaf_nodes': 20, 'min_samples_leaf': 27, 'min_samples_split': 10, 'n_estimators': 570}\n",
      "\n",
      " 98%|█████████▊| 979/1000 [29:04<00:42,  2.02s/it, best loss: 0.2197485425425898]\u001b[A"
     ]
    },
    {
     "name": "stderr",
     "output_type": "stream",
     "text": [
      "Hyperopt:  98%|█████████▊| 980/1000 [29:04<00:41,  2.05s/it]"
     ]
    },
    {
     "name": "stdout",
     "output_type": "stream",
     "text": [
      "\n",
      " 98%|█████████▊| 980/1000 [29:04<00:41,  2.05s/it, best loss: 0.2197485425425898]\u001b[A\n",
      "\u001b[AParameters with this training score 0.7702498589529208 :\n",
      "\n",
      " 98%|█████████▊| 980/1000 [29:06<00:41,  2.05s/it, best loss: 0.2197485425425898]\u001b[A\n",
      "\u001b[A{'bootstrap': False, 'class_weight': 'balanced', 'criterion': 'gini', 'max_depth': 41, 'max_features': 4, 'max_leaf_nodes': 28, 'min_samples_leaf': 6, 'min_samples_split': 60, 'n_estimators': 710}\n",
      "\n",
      " 98%|█████████▊| 980/1000 [29:06<00:41,  2.05s/it, best loss: 0.2197485425425898]\u001b[A"
     ]
    },
    {
     "name": "stderr",
     "output_type": "stream",
     "text": [
      "Hyperopt:  98%|█████████▊| 981/1000 [29:07<00:41,  2.16s/it]"
     ]
    },
    {
     "name": "stdout",
     "output_type": "stream",
     "text": [
      "\n",
      " 98%|█████████▊| 981/1000 [29:06<00:41,  2.16s/it, best loss: 0.2197485425425898]\u001b[A\n",
      "\u001b[AParameters with this training score 0.7736311275192529 :\n",
      "\n",
      " 98%|█████████▊| 981/1000 [29:08<00:41,  2.16s/it, best loss: 0.2197485425425898]\u001b[A\n",
      "\u001b[A{'bootstrap': False, 'class_weight': 'balanced', 'criterion': 'entropy', 'max_depth': 18, 'max_features': 3, 'max_leaf_nodes': 28, 'min_samples_leaf': 19, 'min_samples_split': 90, 'n_estimators': 360}\n",
      "\n",
      " 98%|█████████▊| 981/1000 [29:08<00:41,  2.16s/it, best loss: 0.2197485425425898]\u001b[A"
     ]
    },
    {
     "name": "stderr",
     "output_type": "stream",
     "text": [
      "Hyperopt:  98%|█████████▊| 982/1000 [29:08<00:35,  1.95s/it]"
     ]
    },
    {
     "name": "stdout",
     "output_type": "stream",
     "text": [
      "\n",
      " 98%|█████████▊| 982/1000 [29:08<00:35,  1.95s/it, best loss: 0.2197485425425898]\u001b[A\n",
      "\u001b[AParameters with this training score 0.7720566509955835 :\n",
      "\n",
      " 98%|█████████▊| 982/1000 [29:10<00:35,  1.95s/it, best loss: 0.2197485425425898]\u001b[A\n",
      "\u001b[A{'bootstrap': False, 'class_weight': 'balanced', 'criterion': 'gini', 'max_depth': 17, 'max_features': 3, 'max_leaf_nodes': 22, 'min_samples_leaf': 27, 'min_samples_split': 20, 'n_estimators': 560}\n",
      "\n",
      " 98%|█████████▊| 982/1000 [29:10<00:35,  1.95s/it, best loss: 0.2197485425425898]\u001b[A"
     ]
    },
    {
     "name": "stderr",
     "output_type": "stream",
     "text": [
      "Hyperopt:  98%|█████████▊| 983/1000 [29:10<00:33,  1.97s/it]"
     ]
    },
    {
     "name": "stdout",
     "output_type": "stream",
     "text": [
      "\n",
      " 98%|█████████▊| 983/1000 [29:10<00:33,  1.97s/it, best loss: 0.2197485425425898]\u001b[A\n",
      "\u001b[AParameters with this training score 0.748937439241549 :\n",
      "\n",
      " 98%|█████████▊| 983/1000 [29:13<00:33,  1.97s/it, best loss: 0.2197485425425898]\u001b[A\n",
      "\u001b[A{'bootstrap': True, 'class_weight': 'balanced', 'criterion': 'gini', 'max_depth': 26, 'max_features': 3, 'max_leaf_nodes': 16, 'min_samples_leaf': 14, 'min_samples_split': 50, 'n_estimators': 690}\n",
      "\n",
      " 98%|█████████▊| 983/1000 [29:13<00:33,  1.97s/it, best loss: 0.2197485425425898]\u001b[A"
     ]
    },
    {
     "name": "stderr",
     "output_type": "stream",
     "text": [
      "Hyperopt:  98%|█████████▊| 984/1000 [29:13<00:34,  2.16s/it]"
     ]
    },
    {
     "name": "stdout",
     "output_type": "stream",
     "text": [
      "\n",
      " 98%|█████████▊| 984/1000 [29:13<00:34,  2.16s/it, best loss: 0.2197485425425898]\u001b[A\n",
      "\u001b[AParameters with this training score 0.7685574718852071 :\n",
      "\n",
      " 98%|█████████▊| 984/1000 [29:16<00:34,  2.16s/it, best loss: 0.2197485425425898]\u001b[A\n",
      "\u001b[A{'bootstrap': False, 'class_weight': 'balanced', 'criterion': 'gini', 'max_depth': 5, 'max_features': 3, 'max_leaf_nodes': 28, 'min_samples_leaf': 20, 'min_samples_split': 90, 'n_estimators': 920}\n",
      "\n",
      " 98%|█████████▊| 984/1000 [29:16<00:34,  2.16s/it, best loss: 0.2197485425425898]\u001b[A"
     ]
    },
    {
     "name": "stderr",
     "output_type": "stream",
     "text": [
      "Hyperopt:  98%|█████████▊| 985/1000 [29:16<00:36,  2.46s/it]"
     ]
    },
    {
     "name": "stdout",
     "output_type": "stream",
     "text": [
      "\n",
      " 98%|█████████▊| 985/1000 [29:16<00:36,  2.46s/it, best loss: 0.2197485425425898]\u001b[A\n",
      "\u001b[AParameters with this training score 0.7021451190116424 :\n",
      "\n",
      " 98%|█████████▊| 985/1000 [29:18<00:36,  2.46s/it, best loss: 0.2197485425425898]\u001b[A\n",
      "\u001b[A{'bootstrap': False, 'class_weight': 'balanced', 'criterion': 'gini', 'max_depth': 23, 'max_features': 2, 'max_leaf_nodes': 10, 'min_samples_leaf': 27, 'min_samples_split': 90, 'n_estimators': 630}\n",
      "\n",
      " 98%|█████████▊| 985/1000 [29:18<00:36,  2.46s/it, best loss: 0.2197485425425898]\u001b[A"
     ]
    },
    {
     "name": "stderr",
     "output_type": "stream",
     "text": [
      "Hyperopt:  99%|█████████▊| 986/1000 [29:18<00:33,  2.39s/it]"
     ]
    },
    {
     "name": "stdout",
     "output_type": "stream",
     "text": [
      "\n",
      " 99%|█████████▊| 986/1000 [29:18<00:33,  2.39s/it, best loss: 0.2197485425425898]\u001b[A\n",
      "\u001b[AParameters with this training score 0.7739128708574867 :\n",
      "\n",
      " 99%|█████████▊| 986/1000 [29:21<00:33,  2.39s/it, best loss: 0.2197485425425898]\u001b[A\n",
      "\u001b[A{'bootstrap': False, 'class_weight': 'balanced', 'criterion': 'gini', 'max_depth': 8, 'max_features': 3, 'max_leaf_nodes': 28, 'min_samples_leaf': 12, 'min_samples_split': 90, 'n_estimators': 810}\n",
      "\n",
      " 99%|█████████▊| 986/1000 [29:21<00:33,  2.39s/it, best loss: 0.2197485425425898]\u001b[A"
     ]
    },
    {
     "name": "stderr",
     "output_type": "stream",
     "text": [
      "Hyperopt:  99%|█████████▊| 987/1000 [29:21<00:32,  2.52s/it]"
     ]
    },
    {
     "name": "stdout",
     "output_type": "stream",
     "text": [
      "\n",
      " 99%|█████████▊| 987/1000 [29:21<00:32,  2.52s/it, best loss: 0.2197485425425898]\u001b[A\n",
      "\u001b[AParameters with this training score 0.7535354970337873 :\n",
      "\n",
      " 99%|█████████▊| 987/1000 [29:21<00:32,  2.52s/it, best loss: 0.2197485425425898]\u001b[A\n",
      "\u001b[A{'bootstrap': False, 'class_weight': 'balanced', 'criterion': 'gini', 'max_depth': 41, 'max_features': 3, 'max_leaf_nodes': 18, 'min_samples_leaf': 9, 'min_samples_split': 90, 'n_estimators': 80}\n",
      "\n",
      " 99%|█████████▊| 987/1000 [29:21<00:32,  2.52s/it, best loss: 0.2197485425425898]\u001b[A"
     ]
    },
    {
     "name": "stderr",
     "output_type": "stream",
     "text": [
      "Hyperopt:  99%|█████████▉| 988/1000 [29:21<00:23,  1.95s/it]"
     ]
    },
    {
     "name": "stdout",
     "output_type": "stream",
     "text": [
      "\n",
      " 99%|█████████▉| 988/1000 [29:21<00:23,  1.95s/it, best loss: 0.2197485425425898]\u001b[A\n",
      "\u001b[AParameters with this training score 0.7505352815338464 :\n",
      "\n",
      " 99%|█████████▉| 988/1000 [29:22<00:23,  1.95s/it, best loss: 0.2197485425425898]\u001b[A\n",
      "\u001b[A{'bootstrap': False, 'class_weight': 'balanced', 'criterion': 'gini', 'max_depth': 45, 'max_features': 1, 'max_leaf_nodes': 28, 'min_samples_leaf': 15, 'min_samples_split': 90, 'n_estimators': 150}\n",
      "\n",
      " 99%|█████████▉| 988/1000 [29:22<00:23,  1.95s/it, best loss: 0.2197485425425898]\u001b[A"
     ]
    },
    {
     "name": "stderr",
     "output_type": "stream",
     "text": [
      "Hyperopt:  99%|█████████▉| 989/1000 [29:22<00:17,  1.62s/it]"
     ]
    },
    {
     "name": "stdout",
     "output_type": "stream",
     "text": [
      "\n",
      " 99%|█████████▉| 989/1000 [29:22<00:17,  1.62s/it, best loss: 0.2197485425425898]\u001b[A\n",
      "\u001b[AParameters with this training score 0.5059873928765485 :\n",
      "\n",
      " 99%|█████████▉| 989/1000 [29:25<00:17,  1.62s/it, best loss: 0.2197485425425898]\u001b[A\n",
      "\u001b[A{'bootstrap': False, 'class_weight': None, 'criterion': 'gini', 'max_depth': 6, 'max_features': 3, 'max_leaf_nodes': 14, 'min_samples_leaf': 27, 'min_samples_split': 30, 'n_estimators': 960}\n",
      "\n",
      " 99%|█████████▉| 989/1000 [29:25<00:17,  1.62s/it, best loss: 0.2197485425425898]\u001b[A"
     ]
    },
    {
     "name": "stderr",
     "output_type": "stream",
     "text": [
      "Hyperopt:  99%|█████████▉| 990/1000 [29:26<00:21,  2.11s/it]"
     ]
    },
    {
     "name": "stdout",
     "output_type": "stream",
     "text": [
      "\n",
      " 99%|█████████▉| 990/1000 [29:25<00:21,  2.11s/it, best loss: 0.2197485425425898]\u001b[A\n",
      "\u001b[AParameters with this training score 0.7185602544238245 :\n",
      "\n",
      " 99%|█████████▉| 990/1000 [29:26<00:21,  2.11s/it, best loss: 0.2197485425425898]\u001b[A\n",
      "\u001b[A{'bootstrap': False, 'class_weight': 'balanced', 'criterion': 'gini', 'max_depth': 11, 'max_features': 3, 'max_leaf_nodes': 12, 'min_samples_leaf': 4, 'min_samples_split': 40, 'n_estimators': 110}\n",
      "\n",
      " 99%|█████████▉| 990/1000 [29:26<00:21,  2.11s/it, best loss: 0.2197485425425898]\u001b[A"
     ]
    },
    {
     "name": "stderr",
     "output_type": "stream",
     "text": [
      "Hyperopt:  99%|█████████▉| 991/1000 [29:26<00:14,  1.66s/it]"
     ]
    },
    {
     "name": "stdout",
     "output_type": "stream",
     "text": [
      "\n",
      " 99%|█████████▉| 991/1000 [29:26<00:14,  1.66s/it, best loss: 0.2197485425425898]\u001b[A\n",
      "\u001b[AParameters with this training score 0.7641200251671231 :\n",
      "\n",
      " 99%|█████████▉| 991/1000 [29:28<00:14,  1.66s/it, best loss: 0.2197485425425898]\u001b[A\n",
      "\u001b[A{'bootstrap': False, 'class_weight': 'balanced', 'criterion': 'entropy', 'max_depth': 32, 'max_features': 3, 'max_leaf_nodes': 28, 'min_samples_leaf': 1, 'min_samples_split': 90, 'n_estimators': 480}\n",
      "\n",
      " 99%|█████████▉| 991/1000 [29:28<00:14,  1.66s/it, best loss: 0.2197485425425898]\u001b[A"
     ]
    },
    {
     "name": "stderr",
     "output_type": "stream",
     "text": [
      "Hyperopt:  99%|█████████▉| 992/1000 [29:28<00:13,  1.72s/it]"
     ]
    },
    {
     "name": "stdout",
     "output_type": "stream",
     "text": [
      "\n",
      " 99%|█████████▉| 992/1000 [29:28<00:13,  1.72s/it, best loss: 0.2197485425425898]\u001b[A\n",
      "\u001b[AParameters with this training score 0.7748750930979863 :\n",
      "\n",
      " 99%|█████████▉| 992/1000 [29:31<00:13,  1.72s/it, best loss: 0.2197485425425898]\u001b[A\n",
      "\u001b[A{'bootstrap': False, 'class_weight': 'balanced', 'criterion': 'gini', 'max_depth': 22, 'max_features': 4, 'max_leaf_nodes': 28, 'min_samples_leaf': 7, 'min_samples_split': 90, 'n_estimators': 900}\n",
      "\n",
      " 99%|█████████▉| 992/1000 [29:31<00:13,  1.72s/it, best loss: 0.2197485425425898]\u001b[A"
     ]
    },
    {
     "name": "stderr",
     "output_type": "stream",
     "text": [
      "Hyperopt:  99%|█████████▉| 993/1000 [29:31<00:14,  2.11s/it]"
     ]
    },
    {
     "name": "stdout",
     "output_type": "stream",
     "text": [
      "\n",
      " 99%|█████████▉| 993/1000 [29:31<00:14,  2.11s/it, best loss: 0.2197485425425898]\u001b[A\n",
      "\u001b[AParameters with this training score 0.7609571119811485 :\n",
      "\n",
      " 99%|█████████▉| 993/1000 [29:33<00:14,  2.11s/it, best loss: 0.2197485425425898]\u001b[A\n",
      "\u001b[A{'bootstrap': True, 'class_weight': 'balanced', 'criterion': 'gini', 'max_depth': 41, 'max_features': 3, 'max_leaf_nodes': 24, 'min_samples_leaf': 3, 'min_samples_split': 90, 'n_estimators': 380}\n",
      "\n",
      " 99%|█████████▉| 993/1000 [29:33<00:14,  2.11s/it, best loss: 0.2197485425425898]\u001b[A"
     ]
    },
    {
     "name": "stderr",
     "output_type": "stream",
     "text": [
      "Hyperopt:  99%|█████████▉| 994/1000 [29:33<00:11,  1.98s/it]"
     ]
    },
    {
     "name": "stdout",
     "output_type": "stream",
     "text": [
      "\n",
      " 99%|█████████▉| 994/1000 [29:33<00:11,  1.98s/it, best loss: 0.2197485425425898]\u001b[A\n",
      "\u001b[AParameters with this training score 0.7768464095083333 :\n",
      "\n",
      " 99%|█████████▉| 994/1000 [29:36<00:11,  1.98s/it, best loss: 0.2197485425425898]\u001b[A\n",
      "\u001b[A{'bootstrap': False, 'class_weight': 'balanced', 'criterion': 'gini', 'max_depth': 41, 'max_features': 3, 'max_leaf_nodes': 28, 'min_samples_leaf': 27, 'min_samples_split': 60, 'n_estimators': 970}\n",
      "\n",
      " 99%|█████████▉| 994/1000 [29:36<00:11,  1.98s/it, best loss: 0.2197485425425898]\u001b[A"
     ]
    },
    {
     "name": "stderr",
     "output_type": "stream",
     "text": [
      "Hyperopt: 100%|█████████▉| 995/1000 [29:36<00:11,  2.37s/it]"
     ]
    },
    {
     "name": "stdout",
     "output_type": "stream",
     "text": [
      "\n",
      "100%|█████████▉| 995/1000 [29:36<00:11,  2.37s/it, best loss: 0.2197485425425898]\u001b[A\n",
      "\u001b[AParameters with this training score 0.7662866759836634 :\n",
      "\n",
      "100%|█████████▉| 995/1000 [29:38<00:11,  2.37s/it, best loss: 0.2197485425425898]\u001b[A\n",
      "\u001b[A{'bootstrap': False, 'class_weight': 'balanced', 'criterion': 'gini', 'max_depth': 20, 'max_features': 3, 'max_leaf_nodes': 22, 'min_samples_leaf': 11, 'min_samples_split': 10, 'n_estimators': 430}\n",
      "\n",
      "100%|█████████▉| 995/1000 [29:38<00:11,  2.37s/it, best loss: 0.2197485425425898]\u001b[A"
     ]
    },
    {
     "name": "stderr",
     "output_type": "stream",
     "text": [
      "Hyperopt: 100%|█████████▉| 996/1000 [29:38<00:08,  2.18s/it]"
     ]
    },
    {
     "name": "stdout",
     "output_type": "stream",
     "text": [
      "\n",
      "100%|█████████▉| 996/1000 [29:38<00:08,  2.18s/it, best loss: 0.2197485425425898]\u001b[A\n",
      "\u001b[AParameters with this training score 0.674842376090899 :\n",
      "\n",
      "100%|█████████▉| 996/1000 [29:39<00:08,  2.18s/it, best loss: 0.2197485425425898]\u001b[A\n",
      "\u001b[A{'bootstrap': False, 'class_weight': 'balanced', 'criterion': 'gini', 'max_depth': 3, 'max_features': 3, 'max_leaf_nodes': 28, 'min_samples_leaf': 16, 'min_samples_split': 70, 'n_estimators': 490}\n",
      "\n",
      "100%|█████████▉| 996/1000 [29:39<00:08,  2.18s/it, best loss: 0.2197485425425898]\u001b[A"
     ]
    },
    {
     "name": "stderr",
     "output_type": "stream",
     "text": [
      "Hyperopt: 100%|█████████▉| 997/1000 [29:40<00:06,  2.09s/it]"
     ]
    },
    {
     "name": "stdout",
     "output_type": "stream",
     "text": [
      "\n",
      "100%|█████████▉| 997/1000 [29:39<00:06,  2.09s/it, best loss: 0.2197485425425898]\u001b[A\n",
      "\u001b[AParameters with this training score 0.7723765749251558 :\n",
      "\n",
      "100%|█████████▉| 997/1000 [29:40<00:06,  2.09s/it, best loss: 0.2197485425425898]\u001b[A\n",
      "\u001b[A{'bootstrap': False, 'class_weight': 'balanced', 'criterion': 'gini', 'max_depth': 43, 'max_features': 2, 'max_leaf_nodes': 28, 'min_samples_leaf': 27, 'min_samples_split': 90, 'n_estimators': 220}\n",
      "\n",
      "100%|█████████▉| 997/1000 [29:40<00:06,  2.09s/it, best loss: 0.2197485425425898]\u001b[A"
     ]
    },
    {
     "name": "stderr",
     "output_type": "stream",
     "text": [
      "Hyperopt: 100%|█████████▉| 998/1000 [29:41<00:03,  1.76s/it]"
     ]
    },
    {
     "name": "stdout",
     "output_type": "stream",
     "text": [
      "\n",
      "100%|█████████▉| 998/1000 [29:40<00:03,  1.76s/it, best loss: 0.2197485425425898]\u001b[A\n",
      "\u001b[AParameters with this training score 0.7703023137005699 :\n",
      "\n",
      "100%|█████████▉| 998/1000 [29:43<00:03,  1.76s/it, best loss: 0.2197485425425898]\u001b[A\n",
      "\u001b[A{'bootstrap': False, 'class_weight': 'balanced', 'criterion': 'gini', 'max_depth': 26, 'max_features': 3, 'max_leaf_nodes': 20, 'min_samples_leaf': 22, 'min_samples_split': 20, 'n_estimators': 590}\n",
      "\n",
      "100%|█████████▉| 998/1000 [29:43<00:03,  1.76s/it, best loss: 0.2197485425425898]\u001b[A"
     ]
    },
    {
     "name": "stderr",
     "output_type": "stream",
     "text": [
      "Hyperopt: 100%|█████████▉| 999/1000 [29:43<00:01,  1.86s/it]"
     ]
    },
    {
     "name": "stdout",
     "output_type": "stream",
     "text": [
      "\n",
      "100%|█████████▉| 999/1000 [29:43<00:01,  1.86s/it, best loss: 0.2197485425425898]\u001b[A\n",
      "\u001b[AParameters with this training score 0.5129734681576275 :\n",
      "\n",
      "100%|█████████▉| 999/1000 [29:44<00:01,  1.86s/it, best loss: 0.2197485425425898]\u001b[A\n",
      "\u001b[A{'bootstrap': False, 'class_weight': None, 'criterion': 'gini', 'max_depth': 21, 'max_features': 3, 'max_leaf_nodes': 16, 'min_samples_leaf': 27, 'min_samples_split': 50, 'n_estimators': 360}\n",
      "\n",
      "100%|█████████▉| 999/1000 [29:44<00:01,  1.86s/it, best loss: 0.2197485425425898]\u001b[A"
     ]
    },
    {
     "name": "stderr",
     "output_type": "stream",
     "text": [
      "Hyperopt: 100%|██████████| 1000/1000 [29:44<00:00,  1.73s/it]"
     ]
    },
    {
     "name": "stdout",
     "output_type": "stream",
     "text": [
      "\n",
      "100%|██████████| 1000/1000 [29:44<00:00,  1.73s/it, best loss: 0.2197485425425898]\u001b[A------------------------------------\n",
      "The best hyperparameters are:  \n",
      "\n",
      "{'bootstrap': 1, 'class_weight': 1, 'criterion': 0, 'max_depth': 25, 'max_features': 2, 'max_leaf_nodes': 9, 'min_samples_leaf': 26, 'min_samples_split': 8, 'n_estimators': 34}\n",
      "Time elapsed to optimize 1000 executions: 1784.6413373947144\n",
      "\n",
      " Best score:\n"
     ]
    },
    {
     "name": "stderr",
     "output_type": "stream",
     "text": [
      "\n"
     ]
    },
    {
     "name": "stdout",
     "output_type": "stream",
     "text": [
      "Parameters with this training score 0.7802514574574102 :\n",
      "{'bootstrap': False, 'class_weight': 'balanced', 'criterion': 'gini', 'max_depth': 26, 'max_features': 3, 'max_leaf_nodes': 28, 'min_samples_leaf': 27, 'min_samples_split': 90, 'n_estimators': 350}\n"
     ]
    },
    {
     "data": {
      "text/plain": [
       "{'loss': 0.2197485425425898, 'status': 'ok'}"
      ]
     },
     "execution_count": 11,
     "metadata": {},
     "output_type": "execute_result"
    }
   ],
   "source": [
    "import time\n",
    "from tqdm import tqdm\n",
    "import numpy as np\n",
    "\n",
    "trials = Trials()\n",
    "cores = 48\n",
    "start = time.time()\n",
    "evaluations = 1000\n",
    "pbar = tqdm(total=evaluations, desc=\"Hyperopt\")\n",
    "best_param = optimize(evals=evaluations,\n",
    "                      optimizer=tpe.suggest,\n",
    "                      trials=trials)\n",
    "print(\"------------------------------------\")\n",
    "print(\"The best hyperparameters are: \", \"\\n\")\n",
    "print(best_param)\n",
    "end = time.time()\n",
    "print('Time elapsed to optimize {0} executions: {1}'.format(evaluations, end - start))\n",
    "best_param['criterion'] = criterion_list[best_param['criterion']]\n",
    "best_param['max_leaf_nodes'] = max_leaf_nodes_list[best_param['max_leaf_nodes']]\n",
    "best_param['min_samples_leaf'] = min_samples_leaf_list[best_param['min_samples_leaf']]\n",
    "best_param['n_estimators'] = n_estimators_list[best_param['n_estimators']]\n",
    "best_param['max_features'] = max_features_list[best_param['max_features']]\n",
    "best_param['min_samples_split'] = min_samples_split_list[best_param['min_samples_split']]\n",
    "best_param['max_depth'] = max_depth_list[best_param['max_depth']]\n",
    "best_param['class_weight'] = class_weights[best_param['class_weight']]\n",
    "best_param['bootstrap'] = bootstrap_list[best_param['bootstrap']]\n",
    "print('\\n Best score:')\n",
    "score(best_param)"
   ]
  },
  {
   "cell_type": "code",
   "execution_count": null,
   "metadata": {},
   "outputs": [],
   "source": [
    "best_param="
   ]
  },
  {
   "cell_type": "code",
   "execution_count": 12,
   "metadata": {},
   "outputs": [],
   "source": [
    "# get the best params and train the model\n",
    "RF_opt = RandomForestClassifier(criterion=best_param['criterion'], n_estimators=best_param['n_estimators'], max_features=best_param['max_features'],\n",
    "                                  max_depth=best_param['max_depth'], min_samples_split=best_param['min_samples_split'], min_samples_leaf=best_param['min_samples_leaf'],\n",
    "                                  max_leaf_nodes=best_param['max_leaf_nodes'], class_weight=best_param['class_weight'], bootstrap=best_param['bootstrap'],\n",
    "                                  random_state=42, n_jobs=48)\n",
    "\n",
    "\n",
    "fitted_model = RF_opt.fit(X=X_train,y=y_train)"
   ]
  },
  {
   "cell_type": "code",
   "execution_count": 13,
   "metadata": {},
   "outputs": [
    {
     "data": {
      "text/plain": [
       "array([[0.47585445, 0.52414555],\n",
       "       [0.57627697, 0.42372303],\n",
       "       [0.43789423, 0.56210577],\n",
       "       ...,\n",
       "       [0.43938594, 0.56061406],\n",
       "       [0.51392128, 0.48607872],\n",
       "       [0.50080173, 0.49919827]])"
      ]
     },
     "execution_count": 13,
     "metadata": {},
     "output_type": "execute_result"
    }
   ],
   "source": [
    "y_score = fitted_model.predict_proba(X_test)\n",
    "y_score"
   ]
  },
  {
   "cell_type": "code",
   "execution_count": 14,
   "metadata": {},
   "outputs": [
    {
     "data": {
      "text/plain": [
       "0.7720364741641338"
      ]
     },
     "execution_count": 14,
     "metadata": {},
     "output_type": "execute_result"
    }
   ],
   "source": [
    "test_acc = accuracy_score(y_test, fitted_model.predict(X_test))\n",
    "test_acc"
   ]
  },
  {
   "cell_type": "code",
   "execution_count": null,
   "metadata": {},
   "outputs": [],
   "source": [
    "from matplotlib import pyplot as plt \n",
    "%matplotlib inline \n",
    "x_list =range(len(train_acc_list))\n",
    "\n",
    "plt.plot(x_list, train_acc_list, label='Training accuracy')\n",
    "plt.plot(x_list, test_acc_list, label='Testing accuracy')\n",
    "plt.legend()\n",
    "plt.show()"
   ]
  },
  {
   "cell_type": "code",
   "execution_count": null,
   "metadata": {},
   "outputs": [],
   "source": [
    "plt.plot(x_list, train_loss_list, label='Training loss')\n",
    "plt.plot(x_list, test_loss_list, label='Testing loss')\n",
    "plt.legend()\n",
    "plt.show()"
   ]
  },
  {
   "cell_type": "code",
   "execution_count": null,
   "metadata": {},
   "outputs": [],
   "source": []
  },
  {
   "cell_type": "code",
   "execution_count": null,
   "metadata": {},
   "outputs": [],
   "source": []
  }
 ],
 "metadata": {
  "kernelspec": {
   "display_name": "Python 3",
   "language": "python",
   "name": "python3"
  },
  "language_info": {
   "codemirror_mode": {
    "name": "ipython",
    "version": 3
   },
   "file_extension": ".py",
   "mimetype": "text/x-python",
   "name": "python",
   "nbconvert_exporter": "python",
   "pygments_lexer": "ipython3",
   "version": "3.6.5"
  }
 },
 "nbformat": 4,
 "nbformat_minor": 2
}
